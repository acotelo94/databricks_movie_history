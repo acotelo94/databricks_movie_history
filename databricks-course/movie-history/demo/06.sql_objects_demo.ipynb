{
 "cells": [
  {
   "cell_type": "markdown",
   "metadata": {
    "application/vnd.databricks.v1+cell": {
     "cellMetadata": {},
     "inputWidgets": {},
     "nuid": "5a80808e-2301-4553-a9c4-b49e6b9cdecb",
     "showTitle": false,
     "tableResultSettingsMap": {},
     "title": ""
    },
    "nteract": {
     "transient": {
      "deleting": false
     }
    }
   },
   "source": [
    "##### **Base de datos (Database)**"
   ]
  },
  {
   "cell_type": "markdown",
   "metadata": {
    "application/vnd.databricks.v1+cell": {
     "cellMetadata": {},
     "inputWidgets": {},
     "nuid": "4df059e1-ec49-46b7-8de5-cb7008ebeefa",
     "showTitle": false,
     "tableResultSettingsMap": {},
     "title": ""
    },
    "microsoft": {
     "language": "python",
     "language_group": "synapse_pyspark"
    },
    "nteract": {
     "transient": {
      "deleting": false
     }
    }
   },
   "source": [
    "##### Objetivos\n",
    "###### 1. Documentación sobre Spark SQL\n",
    "###### 2. Crear la BBDD \"demo\"\n",
    "###### 3. Acceder al \"Catalog\" en la \"Interfaz de Usuario\"\n",
    "###### 4. Comando \"SHOW\"\n",
    "###### 5. Comando DESCRIBE (DESC)\n",
    "###### 6. Mostrar la BBDD actual"
   ]
  },
  {
   "cell_type": "code",
   "execution_count": 0,
   "metadata": {
    "application/vnd.databricks.v1+cell": {
     "cellMetadata": {
      "byteLimit": 2048000,
      "rowLimit": 10000
     },
     "inputWidgets": {},
     "nuid": "33b2a0a7-d6f2-47df-b10e-450d17a1512b",
     "showTitle": false,
     "tableResultSettingsMap": {},
     "title": ""
    }
   },
   "outputs": [],
   "source": [
    "CREATE SCHEMA IF NOT EXISTS demo"
   ]
  },
  {
   "cell_type": "code",
   "execution_count": 0,
   "metadata": {
    "application/vnd.databricks.v1+cell": {
     "cellMetadata": {
      "byteLimit": 2048000,
      "rowLimit": 10000
     },
     "inputWidgets": {},
     "nuid": "847a0f2a-f770-4d66-a56b-162ab634ee6a",
     "showTitle": false,
     "tableResultSettingsMap": {},
     "title": ""
    }
   },
   "outputs": [],
   "source": [
    "SHOW DATABASES"
   ]
  },
  {
   "cell_type": "code",
   "execution_count": 0,
   "metadata": {
    "application/vnd.databricks.v1+cell": {
     "cellMetadata": {
      "byteLimit": 2048000,
      "rowLimit": 10000
     },
     "inputWidgets": {},
     "nuid": "4582cceb-c1a1-42cc-a847-efda2228d917",
     "showTitle": false,
     "tableResultSettingsMap": {},
     "title": ""
    }
   },
   "outputs": [],
   "source": [
    "describe database extended demo"
   ]
  },
  {
   "cell_type": "code",
   "execution_count": 0,
   "metadata": {
    "application/vnd.databricks.v1+cell": {
     "cellMetadata": {
      "byteLimit": 2048000,
      "rowLimit": 10000
     },
     "inputWidgets": {},
     "nuid": "e8161908-457b-4361-98b7-d0b9d7617a63",
     "showTitle": false,
     "tableResultSettingsMap": {},
     "title": ""
    }
   },
   "outputs": [],
   "source": [
    "USE DATABASE demo"
   ]
  },
  {
   "cell_type": "markdown",
   "metadata": {
    "application/vnd.databricks.v1+cell": {
     "cellMetadata": {},
     "inputWidgets": {},
     "nuid": "8a8bddd8-df1e-48a3-8733-456e512a0c14",
     "showTitle": false,
     "tableResultSettingsMap": {},
     "title": ""
    }
   },
   "source": [
    "## **Tablas administradas**"
   ]
  },
  {
   "cell_type": "code",
   "execution_count": 0,
   "metadata": {
    "application/vnd.databricks.v1+cell": {
     "cellMetadata": {
      "byteLimit": 2048000,
      "rowLimit": 10000
     },
     "inputWidgets": {},
     "nuid": "683194f0-741f-41ac-a441-ca0d0a2a6fc5",
     "showTitle": false,
     "tableResultSettingsMap": {},
     "title": ""
    }
   },
   "outputs": [],
   "source": [
    "%python\n",
    "\"../includes/configuration\""
   ]
  },
  {
   "cell_type": "code",
   "execution_count": 0,
   "metadata": {
    "application/vnd.databricks.v1+cell": {
     "cellMetadata": {
      "byteLimit": 2048000,
      "rowLimit": 10000
     },
     "inputWidgets": {},
     "nuid": "2307e0a6-d3cf-4002-be90-a12c0a570264",
     "showTitle": false,
     "tableResultSettingsMap": {},
     "title": ""
    }
   },
   "outputs": [],
   "source": [
    "%python\n",
    "df_results_movie_genre_language = spark.read.parquet(f\"{gold_folder_path}/results_movie_genre_language\")"
   ]
  },
  {
   "cell_type": "code",
   "execution_count": 0,
   "metadata": {
    "application/vnd.databricks.v1+cell": {
     "cellMetadata": {
      "byteLimit": 2048000,
      "rowLimit": 10000
     },
     "inputWidgets": {},
     "nuid": "c3db5e1d-0ddc-40b9-bbda-740830803a02",
     "showTitle": false,
     "tableResultSettingsMap": {},
     "title": ""
    }
   },
   "outputs": [],
   "source": [
    "%python\n",
    "df_results_movie_genre_language.display()"
   ]
  },
  {
   "cell_type": "code",
   "execution_count": 0,
   "metadata": {
    "application/vnd.databricks.v1+cell": {
     "cellMetadata": {
      "byteLimit": 2048000,
      "rowLimit": 10000
     },
     "inputWidgets": {},
     "nuid": "52a22ab5-f4d7-43e2-958b-d96ff2e013f7",
     "showTitle": false,
     "tableResultSettingsMap": {},
     "title": ""
    }
   },
   "outputs": [],
   "source": [
    "%python\n",
    "df_results_movie_genre_language.write.format(\"parquet\").saveAsTable(\"demo.results_movie_genre_language_python\")"
   ]
  },
  {
   "cell_type": "code",
   "execution_count": 0,
   "metadata": {
    "application/vnd.databricks.v1+cell": {
     "cellMetadata": {
      "byteLimit": 2048000,
      "rowLimit": 10000
     },
     "inputWidgets": {},
     "nuid": "8225325e-9918-47f6-8e7c-b132ee08379f",
     "showTitle": false,
     "tableResultSettingsMap": {},
     "title": ""
    }
   },
   "outputs": [],
   "source": [
    "SHOW TABLES"
   ]
  },
  {
   "cell_type": "code",
   "execution_count": 0,
   "metadata": {
    "application/vnd.databricks.v1+cell": {
     "cellMetadata": {
      "byteLimit": 2048000,
      "rowLimit": 10000
     },
     "inputWidgets": {},
     "nuid": "7021f222-9921-4fe3-ad6d-61177582cf4d",
     "showTitle": false,
     "tableResultSettingsMap": {},
     "title": ""
    }
   },
   "outputs": [],
   "source": [
    "describe extended results_movie_genre_language_python"
   ]
  },
  {
   "cell_type": "code",
   "execution_count": 0,
   "metadata": {
    "application/vnd.databricks.v1+cell": {
     "cellMetadata": {
      "byteLimit": 2048000,
      "rowLimit": 10000
     },
     "inputWidgets": {},
     "nuid": "7686cd5e-95f1-4c36-a83a-b200af97885e",
     "showTitle": false,
     "tableResultSettingsMap": {},
     "title": ""
    }
   },
   "outputs": [],
   "source": [
    "CREATE TABLE demo.results_movie_genre_language_sql\n",
    "AS\n",
    "Select * from results_movie_genre_language_python where genre_name='Adventure'"
   ]
  },
  {
   "cell_type": "code",
   "execution_count": 0,
   "metadata": {
    "application/vnd.databricks.v1+cell": {
     "cellMetadata": {
      "byteLimit": 2048000,
      "rowLimit": 10000
     },
     "inputWidgets": {},
     "nuid": "be942358-0324-418b-81d0-865c4576462c",
     "showTitle": false,
     "tableResultSettingsMap": {},
     "title": ""
    }
   },
   "outputs": [],
   "source": [
    "select * from demo.results_movie_genre_language_sql"
   ]
  },
  {
   "cell_type": "code",
   "execution_count": 0,
   "metadata": {
    "application/vnd.databricks.v1+cell": {
     "cellMetadata": {
      "byteLimit": 2048000,
      "rowLimit": 10000
     },
     "inputWidgets": {},
     "nuid": "05b9e212-af23-4623-a19c-60903264e1c5",
     "showTitle": false,
     "tableResultSettingsMap": {},
     "title": ""
    }
   },
   "outputs": [],
   "source": [
    "show TABLES"
   ]
  },
  {
   "cell_type": "markdown",
   "metadata": {
    "application/vnd.databricks.v1+cell": {
     "cellMetadata": {},
     "inputWidgets": {},
     "nuid": "03f256ba-8517-4466-abe8-aac6e75af81d",
     "showTitle": false,
     "tableResultSettingsMap": {},
     "title": ""
    }
   },
   "source": [
    "## **Tablas externas**"
   ]
  },
  {
   "cell_type": "code",
   "execution_count": 0,
   "metadata": {
    "application/vnd.databricks.v1+cell": {
     "cellMetadata": {
      "byteLimit": 2048000,
      "rowLimit": 10000
     },
     "inputWidgets": {},
     "nuid": "1a67acfd-8627-4412-aa4a-b7c0bdefa1f8",
     "showTitle": false,
     "tableResultSettingsMap": {},
     "title": ""
    }
   },
   "outputs": [],
   "source": [
    "%python\n",
    "df_results_movie_genre_language.write.format(\"parquet\").option(\"path\", f\"{gold_folder_path}/results_movie_genre_language_py\").saveAsTable(\"demo.results_movie_genre_language_py\")"
   ]
  },
  {
   "cell_type": "code",
   "execution_count": 0,
   "metadata": {
    "application/vnd.databricks.v1+cell": {
     "cellMetadata": {
      "byteLimit": 2048000,
      "rowLimit": 10000
     },
     "inputWidgets": {},
     "nuid": "fba1af33-c036-49f6-9942-b97de78e830a",
     "showTitle": false,
     "tableResultSettingsMap": {},
     "title": ""
    }
   },
   "outputs": [],
   "source": [
    "DESC EXTENDED demo.results_movie_genre_language_py"
   ]
  },
  {
   "cell_type": "code",
   "execution_count": 0,
   "metadata": {
    "application/vnd.databricks.v1+cell": {
     "cellMetadata": {
      "byteLimit": 2048000,
      "rowLimit": 10000
     },
     "inputWidgets": {},
     "nuid": "32ac3666-0f0f-4e4b-852b-926443888465",
     "showTitle": false,
     "tableResultSettingsMap": {},
     "title": ""
    }
   },
   "outputs": [],
   "source": [
    "CREATE TABLE demo.results_movie_genre_language_sql (\n",
    "  title STRING,\n",
    "  duration_time INT,\n",
    "  release_date DATE,\n",
    "  vote_average DOUBLE,\n",
    "  language_name STRING,\n",
    "  genre_name STRING,\n",
    "  created_date TIMESTAMP\n",
    ")\n",
    "USING PARQUET\n",
    "LOCATION \"/mnt/moviehistorydev/gold/results_movie_genre_language_ext_sql\"\n"
   ]
  },
  {
   "cell_type": "code",
   "execution_count": 0,
   "metadata": {
    "application/vnd.databricks.v1+cell": {
     "cellMetadata": {
      "byteLimit": 2048000,
      "rowLimit": 10000
     },
     "inputWidgets": {},
     "nuid": "1dcb33c2-83a0-454f-a52c-14df37f63399",
     "showTitle": false,
     "tableResultSettingsMap": {},
     "title": ""
    }
   },
   "outputs": [],
   "source": [
    "SHOW TABLES"
   ]
  },
  {
   "cell_type": "code",
   "execution_count": 0,
   "metadata": {
    "application/vnd.databricks.v1+cell": {
     "cellMetadata": {
      "byteLimit": 2048000,
      "rowLimit": 10000
     },
     "inputWidgets": {},
     "nuid": "a3b5cbc4-1a45-4636-89b9-a610f8097b24",
     "showTitle": false,
     "tableResultSettingsMap": {},
     "title": ""
    }
   },
   "outputs": [],
   "source": [
    "INSERT INTO demo.results_movie_genre_language_sql\n",
    "SELECT * FROM demo.results_movie_genre_language_py\n",
    "WHERE genre_name='Adventure'"
   ]
  },
  {
   "cell_type": "code",
   "execution_count": 0,
   "metadata": {
    "application/vnd.databricks.v1+cell": {
     "cellMetadata": {
      "byteLimit": 2048000,
      "rowLimit": 10000
     },
     "inputWidgets": {},
     "nuid": "51f88a32-6c3a-49c7-9819-95cd01e8ad79",
     "showTitle": false,
     "tableResultSettingsMap": {},
     "title": ""
    }
   },
   "outputs": [],
   "source": [
    "SELECT COUNT (1) FROM demo.results_movie_genre_language_sql"
   ]
  },
  {
   "cell_type": "code",
   "execution_count": 0,
   "metadata": {
    "application/vnd.databricks.v1+cell": {
     "cellMetadata": {
      "byteLimit": 2048000,
      "rowLimit": 10000
     },
     "inputWidgets": {},
     "nuid": "f76892df-6960-4ea1-92d2-52199d31d983",
     "showTitle": false,
     "tableResultSettingsMap": {},
     "title": ""
    }
   },
   "outputs": [],
   "source": [
    "DROP TABLE demo.results_movie_genre_language_sql"
   ]
  },
  {
   "cell_type": "markdown",
   "metadata": {
    "application/vnd.databricks.v1+cell": {
     "cellMetadata": {},
     "inputWidgets": {},
     "nuid": "921717e7-ef37-4d7b-a8bd-78a71cf46650",
     "showTitle": false,
     "tableResultSettingsMap": {},
     "title": ""
    }
   },
   "source": [
    "## **Vistas**\n",
    "1. Vista temporal\n",
    "2. Vista tempotal global\n",
    "3. Vista permanente"
   ]
  },
  {
   "cell_type": "code",
   "execution_count": 0,
   "metadata": {
    "application/vnd.databricks.v1+cell": {
     "cellMetadata": {
      "byteLimit": 2048000,
      "rowLimit": 10000
     },
     "inputWidgets": {},
     "nuid": "efd75407-be4a-4d70-afda-79736fee1ad5",
     "showTitle": false,
     "tableResultSettingsMap": {},
     "title": ""
    }
   },
   "outputs": [],
   "source": [
    "show tables"
   ]
  },
  {
   "cell_type": "code",
   "execution_count": 0,
   "metadata": {
    "application/vnd.databricks.v1+cell": {
     "cellMetadata": {
      "byteLimit": 2048000,
      "rowLimit": 10000
     },
     "inputWidgets": {},
     "nuid": "b2eae785-c270-4d7c-ad47-42d55e1f1fe7",
     "showTitle": false,
     "tableResultSettingsMap": {},
     "title": ""
    }
   },
   "outputs": [],
   "source": [
    "CREATE OR REPLACE TEMP VIEW vw_results_movie_genre_language\n",
    "AS SELECT * \n",
    "FROm results_movie_genre_language_py\n",
    "WHERE genre_name='Adventure'\n"
   ]
  },
  {
   "cell_type": "code",
   "execution_count": 0,
   "metadata": {
    "application/vnd.databricks.v1+cell": {
     "cellMetadata": {
      "byteLimit": 2048000,
      "rowLimit": 10000
     },
     "inputWidgets": {},
     "nuid": "462fc477-6b43-4b77-a85a-4f40218d784a",
     "showTitle": false,
     "tableResultSettingsMap": {},
     "title": ""
    }
   },
   "outputs": [],
   "source": [
    "SELECT * from vw_results_movie_genre_language"
   ]
  },
  {
   "cell_type": "code",
   "execution_count": 0,
   "metadata": {
    "application/vnd.databricks.v1+cell": {
     "cellMetadata": {
      "byteLimit": 2048000,
      "rowLimit": 10000
     },
     "inputWidgets": {},
     "nuid": "9a3f972b-3145-4979-8c5e-574bc71f0da6",
     "showTitle": false,
     "tableResultSettingsMap": {},
     "title": ""
    }
   },
   "outputs": [],
   "source": [
    "CREATE OR REPLACE GLOBAL TEMP VIEW vw_global_results_movie_genre_language\n",
    "AS SELECT * \n",
    "FROm results_movie_genre_language_py\n",
    "WHERE genre_name='Drama'"
   ]
  },
  {
   "cell_type": "code",
   "execution_count": 0,
   "metadata": {
    "application/vnd.databricks.v1+cell": {
     "cellMetadata": {
      "byteLimit": 2048000,
      "rowLimit": 10000
     },
     "inputWidgets": {},
     "nuid": "c9ad4f05-d4f2-49aa-8129-053820700a23",
     "showTitle": false,
     "tableResultSettingsMap": {},
     "title": ""
    }
   },
   "outputs": [],
   "source": [
    "show tables in global_temp"
   ]
  },
  {
   "cell_type": "code",
   "execution_count": 0,
   "metadata": {
    "application/vnd.databricks.v1+cell": {
     "cellMetadata": {
      "byteLimit": 2048000,
      "rowLimit": 10000
     },
     "inputWidgets": {},
     "nuid": "ab1660a8-faf8-45bf-aa8d-1d6f488e1f9a",
     "showTitle": false,
     "tableResultSettingsMap": {},
     "title": ""
    }
   },
   "outputs": [],
   "source": [
    "select * from global_temp.vw_global_results_movie_genre_language"
   ]
  },
  {
   "cell_type": "code",
   "execution_count": 0,
   "metadata": {
    "application/vnd.databricks.v1+cell": {
     "cellMetadata": {
      "byteLimit": 2048000,
      "rowLimit": 10000
     },
     "inputWidgets": {},
     "nuid": "66aaeade-d1cc-4f33-8700-3b5655267da2",
     "showTitle": false,
     "tableResultSettingsMap": {},
     "title": ""
    }
   },
   "outputs": [],
   "source": [
    "CREATE OR REPLACE VIEW vw_p_results_movie_genre_language\n",
    "AS SELECT * \n",
    "FROm results_movie_genre_language_py\n",
    "WHERE genre_name='Comedy'"
   ]
  },
  {
   "cell_type": "code",
   "execution_count": 0,
   "metadata": {
    "application/vnd.databricks.v1+cell": {
     "cellMetadata": {
      "byteLimit": 2048000,
      "rowLimit": 10000
     },
     "inputWidgets": {},
     "nuid": "049180a8-de4a-4cb2-9507-e6307cf13042",
     "showTitle": false,
     "tableResultSettingsMap": {},
     "title": ""
    }
   },
   "outputs": [],
   "source": [
    "show views"
   ]
  },
  {
   "cell_type": "code",
   "execution_count": 0,
   "metadata": {
    "application/vnd.databricks.v1+cell": {
     "cellMetadata": {
      "byteLimit": 2048000,
      "rowLimit": 10000
     },
     "inputWidgets": {},
     "nuid": "96c3f67e-3595-4869-9c3c-4b94815c95b6",
     "showTitle": false,
     "tableResultSettingsMap": {},
     "title": ""
    }
   },
   "outputs": [],
   "source": [
    "SELECT * FROm vw_p_results_movie_genre_language"
   ]
  }
 ],
 "metadata": {
  "application/vnd.databricks.v1+notebook": {
   "computePreferences": null,
   "dashboards": [],
   "environmentMetadata": null,
   "inputWidgetPreferences": null,
   "language": "sql",
   "notebookMetadata": {
    "pythonIndentUnit": 4
   },
   "notebookName": "06.sql_objects_demo",
   "widgets": {}
  },
  "dependencies": {
   "lakehouse": {
    "default_lakehouse": "e0a555a2-5ce0-4b01-8214-823621d9d6c6",
    "default_lakehouse_name": "DB_Lakehouse",
    "default_lakehouse_workspace_id": "919018e5-22ad-4706-a9ba-1678e37706b8",
    "known_lakehouses": [
     {
      "id": "e0a555a2-5ce0-4b01-8214-823621d9d6c6"
     }
    ]
   }
  },
  "kernel_info": {
   "name": "synapse_pyspark"
  },
  "kernelspec": {
   "display_name": "Synapse PySpark",
   "language": "Python",
   "name": "synapse_pyspark"
  },
  "language_info": {
   "name": "sql"
  },
  "microsoft": {
   "language": "sparksql",
   "language_group": "synapse_pyspark",
   "ms_spell_check": {
    "ms_spell_check_language": "es"
   }
  },
  "nteract": {
   "version": "nteract-front-end@1.0.0"
  },
  "spark_compute": {
   "compute_id": "/trident/default",
   "session_options": {
    "conf": {
     "spark.synapse.nbs.session.timeout": "1200000"
    }
   }
  },
  "synapse_widget": {
   "state": {
    "7ba61c2e-b52a-4874-a474-91a44d4632fc": {
     "persist_state": {
      "view": {
       "chartOptions": {
        "aggregationType": "sum",
        "binsNumber": 10,
        "categoryFieldKeys": [],
        "chartType": "bar",
        "isStacked": false,
        "seriesFieldKeys": [],
        "wordFrequency": "-1"
       },
       "tableOptions": {},
       "type": "details",
       "viewOptionsGroup": [
        {
         "tabItems": [
          {
           "key": "0",
           "name": "Table",
           "options": {},
           "type": "table"
          }
         ]
        }
       ]
      }
     },
     "sync_state": {
      "isSummary": false,
      "language": "scala",
      "table": {
       "rows": [
        {
         "0": "Growing Up Smith",
         "1": "102",
         "2": "2017-02-03",
         "3": "7.4",
         "4": "English",
         "5": "Drama",
         "6": "2025-05-17 16:22:47.252377"
        },
        {
         "0": "Growing Up Smith",
         "1": "102",
         "2": "2017-02-03",
         "3": "7.4",
         "4": "English",
         "5": "Drama",
         "6": "2025-05-17 16:22:47.252377"
        },
        {
         "0": "Growing Up Smith",
         "1": "102",
         "2": "2017-02-03",
         "3": "7.4",
         "4": "English",
         "5": "Comedy",
         "6": "2025-05-17 16:22:47.252377"
        },
        {
         "0": "Growing Up Smith",
         "1": "102",
         "2": "2017-02-03",
         "3": "7.4",
         "4": "English",
         "5": "Comedy",
         "6": "2025-05-17 16:22:47.252377"
        },
        {
         "0": "Growing Up Smith",
         "1": "102",
         "2": "2017-02-03",
         "3": "7.4",
         "4": "English",
         "5": "Family",
         "6": "2025-05-17 16:22:47.252377"
        },
        {
         "0": "Growing Up Smith",
         "1": "102",
         "2": "2017-02-03",
         "3": "7.4",
         "4": "English",
         "5": "Family",
         "6": "2025-05-17 16:22:47.252377"
        },
        {
         "0": "Two Lovers and a Bear",
         "1": "96",
         "2": "2016-10-02",
         "3": "6.8",
         "4": "English",
         "5": "Drama",
         "6": "2025-05-17 16:22:47.252377"
        },
        {
         "0": "Two Lovers and a Bear",
         "1": "96",
         "2": "2016-10-02",
         "3": "6.8",
         "4": "English",
         "5": "Drama",
         "6": "2025-05-17 16:22:47.252377"
        },
        {
         "0": "Two Lovers and a Bear",
         "1": "96",
         "2": "2016-10-02",
         "3": "6.8",
         "4": "English",
         "5": "Romance",
         "6": "2025-05-17 16:22:47.252377"
        },
        {
         "0": "Two Lovers and a Bear",
         "1": "96",
         "2": "2016-10-02",
         "3": "6.8",
         "4": "English",
         "5": "Romance",
         "6": "2025-05-17 16:22:47.252377"
        },
        {
         "0": "Mr. Church",
         "1": "104",
         "2": "2016-09-16",
         "3": "7.0",
         "4": "English",
         "5": "Drama",
         "6": "2025-05-17 16:22:47.252377"
        },
        {
         "0": "Mr. Church",
         "1": "104",
         "2": "2016-09-16",
         "3": "7.0",
         "4": "English",
         "5": "Drama",
         "6": "2025-05-17 16:22:47.252377"
        },
        {
         "0": "Kicks",
         "1": "80",
         "2": "2016-09-09",
         "3": "7.5",
         "4": "English",
         "5": "Adventure",
         "6": "2025-05-17 16:22:47.252377"
        },
        {
         "0": "Kicks",
         "1": "80",
         "2": "2016-09-09",
         "3": "7.5",
         "4": "English",
         "5": "Adventure",
         "6": "2025-05-17 16:22:47.252377"
        },
        {
         "0": "The Birth of a Nation",
         "1": "120",
         "2": "2016-09-09",
         "3": "6.5",
         "4": "English",
         "5": "Drama",
         "6": "2025-05-17 16:22:47.252377"
        },
        {
         "0": "The Birth of a Nation",
         "1": "120",
         "2": "2016-09-09",
         "3": "6.5",
         "4": "English",
         "5": "Drama",
         "6": "2025-05-17 16:22:47.252377"
        },
        {
         "0": "Antibirth",
         "1": "94",
         "2": "2016-09-02",
         "3": "4.8",
         "4": "English",
         "5": "Horror",
         "6": "2025-05-17 16:22:47.252377"
        },
        {
         "0": "Antibirth",
         "1": "94",
         "2": "2016-09-02",
         "3": "4.8",
         "4": "English",
         "5": "Horror",
         "6": "2025-05-17 16:22:47.252377"
        },
        {
         "0": "Hands of Stone",
         "1": "105",
         "2": "2016-08-26",
         "3": "6.1",
         "4": "English",
         "5": "Drama",
         "6": "2025-05-17 16:22:47.252377"
        },
        {
         "0": "Hands of Stone",
         "1": "105",
         "2": "2016-08-26",
         "3": "6.1",
         "4": "Español",
         "5": "Drama",
         "6": "2025-05-17 16:22:47.252377"
        },
        {
         "0": "Hands of Stone",
         "1": "105",
         "2": "2016-08-26",
         "3": "6.1",
         "4": "English",
         "5": "Drama",
         "6": "2025-05-17 16:22:47.252377"
        },
        {
         "0": "Ben-Hur",
         "1": "125",
         "2": "2016-08-17",
         "3": "5.3",
         "4": "English",
         "5": "Drama",
         "6": "2025-05-17 16:22:47.252377"
        },
        {
         "0": "Ben-Hur",
         "1": "125",
         "2": "2016-08-17",
         "3": "5.3",
         "4": "English",
         "5": "Drama",
         "6": "2025-05-17 16:22:47.252377"
        },
        {
         "0": "Pete's Dragon",
         "1": "102",
         "2": "2016-08-10",
         "3": "6.2",
         "4": "English",
         "5": "Adventure",
         "6": "2025-05-17 16:22:47.252377"
        },
        {
         "0": "Pete's Dragon",
         "1": "102",
         "2": "2016-08-10",
         "3": "6.2",
         "4": "English",
         "5": "Adventure",
         "6": "2025-05-17 16:22:47.252377"
        },
        {
         "0": "Pete's Dragon",
         "1": "102",
         "2": "2016-08-10",
         "3": "6.2",
         "4": "English",
         "5": "Fantasy",
         "6": "2025-05-17 16:22:47.252377"
        },
        {
         "0": "Pete's Dragon",
         "1": "102",
         "2": "2016-08-10",
         "3": "6.2",
         "4": "English",
         "5": "Fantasy",
         "6": "2025-05-17 16:22:47.252377"
        },
        {
         "0": "Pete's Dragon",
         "1": "102",
         "2": "2016-08-10",
         "3": "6.2",
         "4": "English",
         "5": "Family",
         "6": "2025-05-17 16:22:47.252377"
        },
        {
         "0": "Pete's Dragon",
         "1": "102",
         "2": "2016-08-10",
         "3": "6.2",
         "4": "English",
         "5": "Family",
         "6": "2025-05-17 16:22:47.252377"
        },
        {
         "0": "Suicide Squad",
         "1": "123",
         "2": "2016-08-02",
         "3": "5.9",
         "4": "English",
         "5": "Adventure",
         "6": "2025-05-17 16:22:47.252377"
        },
        {
         "0": "Suicide Squad",
         "1": "123",
         "2": "2016-08-02",
         "3": "5.9",
         "4": "English",
         "5": "Adventure",
         "6": "2025-05-17 16:22:47.252377"
        },
        {
         "0": "Suicide Squad",
         "1": "123",
         "2": "2016-08-02",
         "3": "5.9",
         "4": "English",
         "5": "Fantasy",
         "6": "2025-05-17 16:22:47.252377"
        },
        {
         "0": "Suicide Squad",
         "1": "123",
         "2": "2016-08-02",
         "3": "5.9",
         "4": "English",
         "5": "Fantasy",
         "6": "2025-05-17 16:22:47.252377"
        },
        {
         "0": "Suicide Squad",
         "1": "123",
         "2": "2016-08-02",
         "3": "5.9",
         "4": "English",
         "5": "Action",
         "6": "2025-05-17 16:22:47.252377"
        },
        {
         "0": "Suicide Squad",
         "1": "123",
         "2": "2016-08-02",
         "3": "5.9",
         "4": "English",
         "5": "Action",
         "6": "2025-05-17 16:22:47.252377"
        },
        {
         "0": "Suicide Squad",
         "1": "123",
         "2": "2016-08-02",
         "3": "5.9",
         "4": "English",
         "5": "Crime",
         "6": "2025-05-17 16:22:47.252377"
        },
        {
         "0": "Suicide Squad",
         "1": "123",
         "2": "2016-08-02",
         "3": "5.9",
         "4": "English",
         "5": "Crime",
         "6": "2025-05-17 16:22:47.252377"
        },
        {
         "0": "Suicide Squad",
         "1": "123",
         "2": "2016-08-02",
         "3": "5.9",
         "4": "English",
         "5": "Science Fiction",
         "6": "2025-05-17 16:22:47.252377"
        },
        {
         "0": "Suicide Squad",
         "1": "123",
         "2": "2016-08-02",
         "3": "5.9",
         "4": "English",
         "5": "Science Fiction",
         "6": "2025-05-17 16:22:47.252377"
        },
        {
         "0": "Indignation",
         "1": "110",
         "2": "2016-07-29",
         "3": "6.8",
         "4": "English",
         "5": "Drama",
         "6": "2025-05-17 16:22:47.252377"
        },
        {
         "0": "Indignation",
         "1": "110",
         "2": "2016-07-29",
         "3": "6.8",
         "4": "English",
         "5": "Drama",
         "6": "2025-05-17 16:22:47.252377"
        },
        {
         "0": "Bad Moms",
         "1": "100",
         "2": "2016-07-28",
         "3": "6.3",
         "4": "English",
         "5": "Comedy",
         "6": "2025-05-17 16:22:47.252377"
        },
        {
         "0": "Bad Moms",
         "1": "100",
         "2": "2016-07-28",
         "3": "6.3",
         "4": "Russkii âzyk",
         "5": "Comedy",
         "6": "2025-05-17 16:22:47.252377"
        },
        {
         "0": "Bad Moms",
         "1": "100",
         "2": "2016-07-28",
         "3": "6.3",
         "4": "English",
         "5": "Comedy",
         "6": "2025-05-17 16:22:47.252377"
        },
        {
         "0": "Nerve",
         "1": "96",
         "2": "2016-07-27",
         "3": "7.1",
         "4": "English",
         "5": "Adventure",
         "6": "2025-05-17 16:22:47.252377"
        },
        {
         "0": "Nerve",
         "1": "96",
         "2": "2016-07-27",
         "3": "7.1",
         "4": "English",
         "5": "Adventure",
         "6": "2025-05-17 16:22:47.252377"
        },
        {
         "0": "Nerve",
         "1": "96",
         "2": "2016-07-27",
         "3": "7.1",
         "4": "English",
         "5": "Crime",
         "6": "2025-05-17 16:22:47.252377"
        },
        {
         "0": "Nerve",
         "1": "96",
         "2": "2016-07-27",
         "3": "7.1",
         "4": "English",
         "5": "Crime",
         "6": "2025-05-17 16:22:47.252377"
        },
        {
         "0": "Nerve",
         "1": "96",
         "2": "2016-07-27",
         "3": "7.1",
         "4": "English",
         "5": "Mystery",
         "6": "2025-05-17 16:22:47.252377"
        },
        {
         "0": "Nerve",
         "1": "96",
         "2": "2016-07-27",
         "3": "7.1",
         "4": "English",
         "5": "Mystery",
         "6": "2025-05-17 16:22:47.252377"
        },
        {
         "0": "Jason Bourne",
         "1": "123",
         "2": "2016-07-27",
         "3": "5.9",
         "4": "English",
         "5": "Action",
         "6": "2025-05-17 16:22:47.252377"
        },
        {
         "0": "Jason Bourne",
         "1": "123",
         "2": "2016-07-27",
         "3": "5.9",
         "4": "English",
         "5": "Action",
         "6": "2025-05-17 16:22:47.252377"
        },
        {
         "0": "Jason Bourne",
         "1": "123",
         "2": "2016-07-27",
         "3": "5.9",
         "4": "English",
         "5": "Thriller",
         "6": "2025-05-17 16:22:47.252377"
        },
        {
         "0": "Jason Bourne",
         "1": "123",
         "2": "2016-07-27",
         "3": "5.9",
         "4": "English",
         "5": "Thriller",
         "6": "2025-05-17 16:22:47.252377"
        },
        {
         "0": "Lights Out",
         "1": "81",
         "2": "2016-07-21",
         "3": "6.3",
         "4": "English",
         "5": "Horror",
         "6": "2025-05-17 16:22:47.252377"
        },
        {
         "0": "Lights Out",
         "1": "81",
         "2": "2016-07-21",
         "3": "6.3",
         "4": "English",
         "5": "Horror",
         "6": "2025-05-17 16:22:47.252377"
        },
        {
         "0": "Lights Out",
         "1": "81",
         "2": "2016-07-21",
         "3": "6.3",
         "4": "English",
         "5": "Thriller",
         "6": "2025-05-17 16:22:47.252377"
        },
        {
         "0": "Lights Out",
         "1": "81",
         "2": "2016-07-21",
         "3": "6.3",
         "4": "English",
         "5": "Thriller",
         "6": "2025-05-17 16:22:47.252377"
        },
        {
         "0": "Ghostbusters",
         "1": "116",
         "2": "2016-07-14",
         "3": "5.3",
         "4": "English",
         "5": "Fantasy",
         "6": "2025-05-17 16:22:47.252377"
        },
        {
         "0": "Ghostbusters",
         "1": "116",
         "2": "2016-07-14",
         "3": "5.3",
         "4": "English",
         "5": "Fantasy",
         "6": "2025-05-17 16:22:47.252377"
        },
        {
         "0": "Ghostbusters",
         "1": "116",
         "2": "2016-07-14",
         "3": "5.3",
         "4": "English",
         "5": "Action",
         "6": "2025-05-17 16:22:47.252377"
        },
        {
         "0": "Ghostbusters",
         "1": "116",
         "2": "2016-07-14",
         "3": "5.3",
         "4": "English",
         "5": "Action",
         "6": "2025-05-17 16:22:47.252377"
        },
        {
         "0": "Ghostbusters",
         "1": "116",
         "2": "2016-07-14",
         "3": "5.3",
         "4": "English",
         "5": "Comedy",
         "6": "2025-05-17 16:22:47.252377"
        },
        {
         "0": "Ghostbusters",
         "1": "116",
         "2": "2016-07-14",
         "3": "5.3",
         "4": "English",
         "5": "Comedy",
         "6": "2025-05-17 16:22:47.252377"
        },
        {
         "0": "Kickboxer: Vengeance",
         "1": "90",
         "2": "2016-07-14",
         "3": "4.5",
         "4": "Phasa Thai",
         "5": "Drama",
         "6": "2025-05-17 16:22:47.252377"
        },
        {
         "0": "Kickboxer: Vengeance",
         "1": "90",
         "2": "2016-07-14",
         "3": "4.5",
         "4": "English",
         "5": "Drama",
         "6": "2025-05-17 16:22:47.252377"
        },
        {
         "0": "Kickboxer: Vengeance",
         "1": "90",
         "2": "2016-07-14",
         "3": "4.5",
         "4": "English",
         "5": "Drama",
         "6": "2025-05-17 16:22:47.252377"
        },
        {
         "0": "Kickboxer: Vengeance",
         "1": "90",
         "2": "2016-07-14",
         "3": "4.5",
         "4": "Phasa Thai",
         "5": "Action",
         "6": "2025-05-17 16:22:47.252377"
        },
        {
         "0": "Kickboxer: Vengeance",
         "1": "90",
         "2": "2016-07-14",
         "3": "4.5",
         "4": "English",
         "5": "Action",
         "6": "2025-05-17 16:22:47.252377"
        },
        {
         "0": "Kickboxer: Vengeance",
         "1": "90",
         "2": "2016-07-14",
         "3": "4.5",
         "4": "English",
         "5": "Action",
         "6": "2025-05-17 16:22:47.252377"
        },
        {
         "0": "The Infiltrator",
         "1": "127",
         "2": "2016-07-13",
         "3": "6.6",
         "4": "English",
         "5": "Drama",
         "6": "2025-05-17 16:22:47.252377"
        },
        {
         "0": "The Infiltrator",
         "1": "127",
         "2": "2016-07-13",
         "3": "6.6",
         "4": "Español",
         "5": "Drama",
         "6": "2025-05-17 16:22:47.252377"
        },
        {
         "0": "The Infiltrator",
         "1": "127",
         "2": "2016-07-13",
         "3": "6.6",
         "4": "English",
         "5": "Drama",
         "6": "2025-05-17 16:22:47.252377"
        },
        {
         "0": "The Infiltrator",
         "1": "127",
         "2": "2016-07-13",
         "3": "6.6",
         "4": "English",
         "5": "Thriller",
         "6": "2025-05-17 16:22:47.252377"
        },
        {
         "0": "The Infiltrator",
         "1": "127",
         "2": "2016-07-13",
         "3": "6.6",
         "4": "Español",
         "5": "Thriller",
         "6": "2025-05-17 16:22:47.252377"
        },
        {
         "0": "The Infiltrator",
         "1": "127",
         "2": "2016-07-13",
         "3": "6.6",
         "4": "English",
         "5": "Thriller",
         "6": "2025-05-17 16:22:47.252377"
        },
        {
         "0": "The Infiltrator",
         "1": "127",
         "2": "2016-07-13",
         "3": "6.6",
         "4": "English",
         "5": "Crime",
         "6": "2025-05-17 16:22:47.252377"
        },
        {
         "0": "The Infiltrator",
         "1": "127",
         "2": "2016-07-13",
         "3": "6.6",
         "4": "Español",
         "5": "Crime",
         "6": "2025-05-17 16:22:47.252377"
        },
        {
         "0": "The Infiltrator",
         "1": "127",
         "2": "2016-07-13",
         "3": "6.6",
         "4": "English",
         "5": "Crime",
         "6": "2025-05-17 16:22:47.252377"
        },
        {
         "0": "Sausage Party",
         "1": "83",
         "2": "2016-07-11",
         "3": "5.6",
         "4": "English",
         "5": "Adventure",
         "6": "2025-05-17 16:22:47.252377"
        },
        {
         "0": "Sausage Party",
         "1": "83",
         "2": "2016-07-11",
         "3": "5.6",
         "4": "English",
         "5": "Adventure",
         "6": "2025-05-17 16:22:47.252377"
        },
        {
         "0": "Sausage Party",
         "1": "83",
         "2": "2016-07-11",
         "3": "5.6",
         "4": "English",
         "5": "Fantasy",
         "6": "2025-05-17 16:22:47.252377"
        },
        {
         "0": "Sausage Party",
         "1": "83",
         "2": "2016-07-11",
         "3": "5.6",
         "4": "English",
         "5": "Fantasy",
         "6": "2025-05-17 16:22:47.252377"
        },
        {
         "0": "Sausage Party",
         "1": "83",
         "2": "2016-07-11",
         "3": "5.6",
         "4": "English",
         "5": "Animation",
         "6": "2025-05-17 16:22:47.252377"
        },
        {
         "0": "Sausage Party",
         "1": "83",
         "2": "2016-07-11",
         "3": "5.6",
         "4": "English",
         "5": "Animation",
         "6": "2025-05-17 16:22:47.252377"
        },
        {
         "0": "Sausage Party",
         "1": "83",
         "2": "2016-07-11",
         "3": "5.6",
         "4": "English",
         "5": "Comedy",
         "6": "2025-05-17 16:22:47.252377"
        },
        {
         "0": "Sausage Party",
         "1": "83",
         "2": "2016-07-11",
         "3": "5.6",
         "4": "English",
         "5": "Comedy",
         "6": "2025-05-17 16:22:47.252377"
        },
        {
         "0": "Yoga Hosers",
         "1": "88",
         "2": "2016-07-08",
         "3": "4.7",
         "4": "English",
         "5": "Fantasy",
         "6": "2025-05-17 16:22:47.252377"
        },
        {
         "0": "Yoga Hosers",
         "1": "88",
         "2": "2016-07-08",
         "3": "4.7",
         "4": "Français",
         "5": "Fantasy",
         "6": "2025-05-17 16:22:47.252377"
        },
        {
         "0": "Yoga Hosers",
         "1": "88",
         "2": "2016-07-08",
         "3": "4.7",
         "4": "Deutsch",
         "5": "Fantasy",
         "6": "2025-05-17 16:22:47.252377"
        },
        {
         "0": "Yoga Hosers",
         "1": "88",
         "2": "2016-07-08",
         "3": "4.7",
         "4": "English",
         "5": "Fantasy",
         "6": "2025-05-17 16:22:47.252377"
        },
        {
         "0": "Yoga Hosers",
         "1": "88",
         "2": "2016-07-08",
         "3": "4.7",
         "4": "English",
         "5": "Horror",
         "6": "2025-05-17 16:22:47.252377"
        },
        {
         "0": "Yoga Hosers",
         "1": "88",
         "2": "2016-07-08",
         "3": "4.7",
         "4": "Français",
         "5": "Horror",
         "6": "2025-05-17 16:22:47.252377"
        },
        {
         "0": "Yoga Hosers",
         "1": "88",
         "2": "2016-07-08",
         "3": "4.7",
         "4": "Deutsch",
         "5": "Horror",
         "6": "2025-05-17 16:22:47.252377"
        },
        {
         "0": "Yoga Hosers",
         "1": "88",
         "2": "2016-07-08",
         "3": "4.7",
         "4": "English",
         "5": "Horror",
         "6": "2025-05-17 16:22:47.252377"
        },
        {
         "0": "Yoga Hosers",
         "1": "88",
         "2": "2016-07-08",
         "3": "4.7",
         "4": "English",
         "5": "Comedy",
         "6": "2025-05-17 16:22:47.252377"
        },
        {
         "0": "Yoga Hosers",
         "1": "88",
         "2": "2016-07-08",
         "3": "4.7",
         "4": "Français",
         "5": "Comedy",
         "6": "2025-05-17 16:22:47.252377"
        },
        {
         "0": "Yoga Hosers",
         "1": "88",
         "2": "2016-07-08",
         "3": "4.7",
         "4": "Deutsch",
         "5": "Comedy",
         "6": "2025-05-17 16:22:47.252377"
        },
        {
         "0": "Yoga Hosers",
         "1": "88",
         "2": "2016-07-08",
         "3": "4.7",
         "4": "English",
         "5": "Comedy",
         "6": "2025-05-17 16:22:47.252377"
        },
        {
         "0": "Yoga Hosers",
         "1": "88",
         "2": "2016-07-08",
         "3": "4.7",
         "4": "English",
         "5": "Thriller",
         "6": "2025-05-17 16:22:47.252377"
        },
        {
         "0": "Yoga Hosers",
         "1": "88",
         "2": "2016-07-08",
         "3": "4.7",
         "4": "Français",
         "5": "Thriller",
         "6": "2025-05-17 16:22:47.252377"
        },
        {
         "0": "Yoga Hosers",
         "1": "88",
         "2": "2016-07-08",
         "3": "4.7",
         "4": "Deutsch",
         "5": "Thriller",
         "6": "2025-05-17 16:22:47.252377"
        },
        {
         "0": "Yoga Hosers",
         "1": "88",
         "2": "2016-07-08",
         "3": "4.7",
         "4": "English",
         "5": "Thriller",
         "6": "2025-05-17 16:22:47.252377"
        },
        {
         "0": "The Dog Lover",
         "1": "101",
         "2": "2016-07-08",
         "3": "5.3",
         "4": "English",
         "5": "Drama",
         "6": "2025-05-17 16:22:47.252377"
        },
        {
         "0": "The Dog Lover",
         "1": "101",
         "2": "2016-07-08",
         "3": "5.3",
         "4": "English",
         "5": "Drama",
         "6": "2025-05-17 16:22:47.252377"
        },
        {
         "0": "Star Trek Beyond",
         "1": "122",
         "2": "2016-07-07",
         "3": "6.6",
         "4": "English",
         "5": "Adventure",
         "6": "2025-05-17 16:22:47.252377"
        },
        {
         "0": "Star Trek Beyond",
         "1": "122",
         "2": "2016-07-07",
         "3": "6.6",
         "4": "English",
         "5": "Adventure",
         "6": "2025-05-17 16:22:47.252377"
        },
        {
         "0": "Star Trek Beyond",
         "1": "122",
         "2": "2016-07-07",
         "3": "6.6",
         "4": "English",
         "5": "Action",
         "6": "2025-05-17 16:22:47.252377"
        },
        {
         "0": "Star Trek Beyond",
         "1": "122",
         "2": "2016-07-07",
         "3": "6.6",
         "4": "English",
         "5": "Action",
         "6": "2025-05-17 16:22:47.252377"
        },
        {
         "0": "Star Trek Beyond",
         "1": "122",
         "2": "2016-07-07",
         "3": "6.6",
         "4": "English",
         "5": "Science Fiction",
         "6": "2025-05-17 16:22:47.252377"
        },
        {
         "0": "Star Trek Beyond",
         "1": "122",
         "2": "2016-07-07",
         "3": "6.6",
         "4": "English",
         "5": "Science Fiction",
         "6": "2025-05-17 16:22:47.252377"
        },
        {
         "0": "The Purge: Election Year",
         "1": "105",
         "2": "2016-06-29",
         "3": "6.1",
         "4": "English",
         "5": "Horror",
         "6": "2025-05-17 16:22:47.252377"
        },
        {
         "0": "The Purge: Election Year",
         "1": "105",
         "2": "2016-06-29",
         "3": "6.1",
         "4": "English",
         "5": "Horror",
         "6": "2025-05-17 16:22:47.252377"
        },
        {
         "0": "The Purge: Election Year",
         "1": "105",
         "2": "2016-06-29",
         "3": "6.1",
         "4": "English",
         "5": "Action",
         "6": "2025-05-17 16:22:47.252377"
        },
        {
         "0": "The Purge: Election Year",
         "1": "105",
         "2": "2016-06-29",
         "3": "6.1",
         "4": "English",
         "5": "Action",
         "6": "2025-05-17 16:22:47.252377"
        },
        {
         "0": "The Purge: Election Year",
         "1": "105",
         "2": "2016-06-29",
         "3": "6.1",
         "4": "English",
         "5": "Thriller",
         "6": "2025-05-17 16:22:47.252377"
        },
        {
         "0": "The Purge: Election Year",
         "1": "105",
         "2": "2016-06-29",
         "3": "6.1",
         "4": "English",
         "5": "Thriller",
         "6": "2025-05-17 16:22:47.252377"
        },
        {
         "0": "The Legend of Tarzan",
         "1": "109",
         "2": "2016-06-29",
         "3": "5.5",
         "4": "English",
         "5": "Adventure",
         "6": "2025-05-17 16:22:47.252377"
        },
        {
         "0": "The Legend of Tarzan",
         "1": "109",
         "2": "2016-06-29",
         "3": "5.5",
         "4": "English",
         "5": "Adventure",
         "6": "2025-05-17 16:22:47.252377"
        },
        {
         "0": "The Legend of Tarzan",
         "1": "109",
         "2": "2016-06-29",
         "3": "5.5",
         "4": "English",
         "5": "Action",
         "6": "2025-05-17 16:22:47.252377"
        },
        {
         "0": "The Legend of Tarzan",
         "1": "109",
         "2": "2016-06-29",
         "3": "5.5",
         "4": "English",
         "5": "Action",
         "6": "2025-05-17 16:22:47.252377"
        },
        {
         "0": "Free State of Jones",
         "1": "139",
         "2": "2016-06-24",
         "3": "6.6",
         "4": "English",
         "5": "Drama",
         "6": "2025-05-17 16:22:47.252377"
        },
        {
         "0": "Free State of Jones",
         "1": "139",
         "2": "2016-06-24",
         "3": "6.6",
         "4": "Deutsch",
         "5": "Drama",
         "6": "2025-05-17 16:22:47.252377"
        },
        {
         "0": "Free State of Jones",
         "1": "139",
         "2": "2016-06-24",
         "3": "6.6",
         "4": "English",
         "5": "Drama",
         "6": "2025-05-17 16:22:47.252377"
        },
        {
         "0": "Free State of Jones",
         "1": "139",
         "2": "2016-06-24",
         "3": "6.6",
         "4": "English",
         "5": "Action",
         "6": "2025-05-17 16:22:47.252377"
        },
        {
         "0": "Free State of Jones",
         "1": "139",
         "2": "2016-06-24",
         "3": "6.6",
         "4": "Deutsch",
         "5": "Action",
         "6": "2025-05-17 16:22:47.252377"
        },
        {
         "0": "Free State of Jones",
         "1": "139",
         "2": "2016-06-24",
         "3": "6.6",
         "4": "English",
         "5": "Action",
         "6": "2025-05-17 16:22:47.252377"
        },
        {
         "0": "Free State of Jones",
         "1": "139",
         "2": "2016-06-24",
         "3": "6.6",
         "4": "English",
         "5": "History",
         "6": "2025-05-17 16:22:47.252377"
        },
        {
         "0": "Free State of Jones",
         "1": "139",
         "2": "2016-06-24",
         "3": "6.6",
         "4": "Deutsch",
         "5": "History",
         "6": "2025-05-17 16:22:47.252377"
        },
        {
         "0": "Free State of Jones",
         "1": "139",
         "2": "2016-06-24",
         "3": "6.6",
         "4": "English",
         "5": "History",
         "6": "2025-05-17 16:22:47.252377"
        },
        {
         "0": "Free State of Jones",
         "1": "139",
         "2": "2016-06-24",
         "3": "6.6",
         "4": "English",
         "5": "Thriller",
         "6": "2025-05-17 16:22:47.252377"
        },
        {
         "0": "Free State of Jones",
         "1": "139",
         "2": "2016-06-24",
         "3": "6.6",
         "4": "Deutsch",
         "5": "Thriller",
         "6": "2025-05-17 16:22:47.252377"
        },
        {
         "0": "Free State of Jones",
         "1": "139",
         "2": "2016-06-24",
         "3": "6.6",
         "4": "English",
         "5": "Thriller",
         "6": "2025-05-17 16:22:47.252377"
        },
        {
         "0": "Free State of Jones",
         "1": "139",
         "2": "2016-06-24",
         "3": "6.6",
         "4": "English",
         "5": "War",
         "6": "2025-05-17 16:22:47.252377"
        },
        {
         "0": "Free State of Jones",
         "1": "139",
         "2": "2016-06-24",
         "3": "6.6",
         "4": "Deutsch",
         "5": "War",
         "6": "2025-05-17 16:22:47.252377"
        },
        {
         "0": "Free State of Jones",
         "1": "139",
         "2": "2016-06-24",
         "3": "6.6",
         "4": "English",
         "5": "War",
         "6": "2025-05-17 16:22:47.252377"
        },
        {
         "0": "The Shallows",
         "1": "86",
         "2": "2016-06-24",
         "3": "6.2",
         "4": "English",
         "5": "Drama",
         "6": "2025-05-17 16:22:47.252377"
        },
        {
         "0": "The Shallows",
         "1": "86",
         "2": "2016-06-24",
         "3": "6.2",
         "4": "English",
         "5": "Drama",
         "6": "2025-05-17 16:22:47.252377"
        },
        {
         "0": "The Shallows",
         "1": "86",
         "2": "2016-06-24",
         "3": "6.2",
         "4": "English",
         "5": "Horror",
         "6": "2025-05-17 16:22:47.252377"
        },
        {
         "0": "The Shallows",
         "1": "86",
         "2": "2016-06-24",
         "3": "6.2",
         "4": "English",
         "5": "Horror",
         "6": "2025-05-17 16:22:47.252377"
        },
        {
         "0": "The Shallows",
         "1": "86",
         "2": "2016-06-24",
         "3": "6.2",
         "4": "English",
         "5": "Thriller",
         "6": "2025-05-17 16:22:47.252377"
        },
        {
         "0": "The Shallows",
         "1": "86",
         "2": "2016-06-24",
         "3": "6.2",
         "4": "English",
         "5": "Thriller",
         "6": "2025-05-17 16:22:47.252377"
        },
        {
         "0": "Independence Day: Resurgence",
         "1": "120",
         "2": "2016-06-22",
         "3": "4.9",
         "4": "English",
         "5": "Adventure",
         "6": "2025-05-17 16:22:47.252377"
        },
        {
         "0": "Independence Day: Resurgence",
         "1": "120",
         "2": "2016-06-22",
         "3": "4.9",
         "4": "English",
         "5": "Adventure",
         "6": "2025-05-17 16:22:47.252377"
        },
        {
         "0": "Independence Day: Resurgence",
         "1": "120",
         "2": "2016-06-22",
         "3": "4.9",
         "4": "English",
         "5": "Action",
         "6": "2025-05-17 16:22:47.252377"
        },
        {
         "0": "Independence Day: Resurgence",
         "1": "120",
         "2": "2016-06-22",
         "3": "4.9",
         "4": "English",
         "5": "Action",
         "6": "2025-05-17 16:22:47.252377"
        },
        {
         "0": "Independence Day: Resurgence",
         "1": "120",
         "2": "2016-06-22",
         "3": "4.9",
         "4": "English",
         "5": "Science Fiction",
         "6": "2025-05-17 16:22:47.252377"
        },
        {
         "0": "Independence Day: Resurgence",
         "1": "120",
         "2": "2016-06-22",
         "3": "4.9",
         "4": "English",
         "5": "Science Fiction",
         "6": "2025-05-17 16:22:47.252377"
        },
        {
         "0": "The Secret Life of Pets",
         "1": "87",
         "2": "2016-06-18",
         "3": "5.9",
         "4": "English",
         "5": "Animation",
         "6": "2025-05-17 16:22:47.252377"
        },
        {
         "0": "The Secret Life of Pets",
         "1": "87",
         "2": "2016-06-18",
         "3": "5.9",
         "4": "English",
         "5": "Animation",
         "6": "2025-05-17 16:22:47.252377"
        },
        {
         "0": "The Secret Life of Pets",
         "1": "87",
         "2": "2016-06-18",
         "3": "5.9",
         "4": "English",
         "5": "Family",
         "6": "2025-05-17 16:22:47.252377"
        },
        {
         "0": "The Secret Life of Pets",
         "1": "87",
         "2": "2016-06-18",
         "3": "5.9",
         "4": "English",
         "5": "Family",
         "6": "2025-05-17 16:22:47.252377"
        },
        {
         "0": "Central Intelligence",
         "1": "107",
         "2": "2016-06-15",
         "3": "6.2",
         "4": "English",
         "5": "Action",
         "6": "2025-05-17 16:22:47.252377"
        },
        {
         "0": "Central Intelligence",
         "1": "107",
         "2": "2016-06-15",
         "3": "6.2",
         "4": "English",
         "5": "Action",
         "6": "2025-05-17 16:22:47.252377"
        },
        {
         "0": "Central Intelligence",
         "1": "107",
         "2": "2016-06-15",
         "3": "6.2",
         "4": "English",
         "5": "Comedy",
         "6": "2025-05-17 16:22:47.252377"
        },
        {
         "0": "Central Intelligence",
         "1": "107",
         "2": "2016-06-15",
         "3": "6.2",
         "4": "English",
         "5": "Comedy",
         "6": "2025-05-17 16:22:47.252377"
        },
        {
         "0": "The Neon Demon",
         "1": "117",
         "2": "2016-06-08",
         "3": "6.4",
         "4": "English",
         "5": "Horror",
         "6": "2025-05-17 16:22:47.252377"
        },
        {
         "0": "The Neon Demon",
         "1": "117",
         "2": "2016-06-08",
         "3": "6.4",
         "4": "English",
         "5": "Horror",
         "6": "2025-05-17 16:22:47.252377"
        },
        {
         "0": "The Neon Demon",
         "1": "117",
         "2": "2016-06-08",
         "3": "6.4",
         "4": "English",
         "5": "Thriller",
         "6": "2025-05-17 16:22:47.252377"
        },
        {
         "0": "The Neon Demon",
         "1": "117",
         "2": "2016-06-08",
         "3": "6.4",
         "4": "English",
         "5": "Thriller",
         "6": "2025-05-17 16:22:47.252377"
        },
        {
         "0": "Now You See Me 2",
         "1": "129",
         "2": "2016-06-02",
         "3": "6.7",
         "4": "English",
         "5": "Adventure",
         "6": "2025-05-17 16:22:47.252377"
        },
        {
         "0": "Now You See Me 2",
         "1": "129",
         "2": "2016-06-02",
         "3": "6.7",
         "4": "Zhongwén",
         "5": "Adventure",
         "6": "2025-05-17 16:22:47.252377"
        },
        {
         "0": "Now You See Me 2",
         "1": "129",
         "2": "2016-06-02",
         "3": "6.7",
         "4": "English",
         "5": "Adventure",
         "6": "2025-05-17 16:22:47.252377"
        },
        {
         "0": "Now You See Me 2",
         "1": "129",
         "2": "2016-06-02",
         "3": "6.7",
         "4": "English",
         "5": "Action",
         "6": "2025-05-17 16:22:47.252377"
        },
        {
         "0": "Now You See Me 2",
         "1": "129",
         "2": "2016-06-02",
         "3": "6.7",
         "4": "Zhongwén",
         "5": "Action",
         "6": "2025-05-17 16:22:47.252377"
        },
        {
         "0": "Now You See Me 2",
         "1": "129",
         "2": "2016-06-02",
         "3": "6.7",
         "4": "English",
         "5": "Action",
         "6": "2025-05-17 16:22:47.252377"
        },
        {
         "0": "Now You See Me 2",
         "1": "129",
         "2": "2016-06-02",
         "3": "6.7",
         "4": "English",
         "5": "Comedy",
         "6": "2025-05-17 16:22:47.252377"
        },
        {
         "0": "Now You See Me 2",
         "1": "129",
         "2": "2016-06-02",
         "3": "6.7",
         "4": "Zhongwén",
         "5": "Comedy",
         "6": "2025-05-17 16:22:47.252377"
        },
        {
         "0": "Now You See Me 2",
         "1": "129",
         "2": "2016-06-02",
         "3": "6.7",
         "4": "English",
         "5": "Comedy",
         "6": "2025-05-17 16:22:47.252377"
        },
        {
         "0": "Now You See Me 2",
         "1": "129",
         "2": "2016-06-02",
         "3": "6.7",
         "4": "English",
         "5": "Thriller",
         "6": "2025-05-17 16:22:47.252377"
        },
        {
         "0": "Now You See Me 2",
         "1": "129",
         "2": "2016-06-02",
         "3": "6.7",
         "4": "Zhongwén",
         "5": "Thriller",
         "6": "2025-05-17 16:22:47.252377"
        },
        {
         "0": "Now You See Me 2",
         "1": "129",
         "2": "2016-06-02",
         "3": "6.7",
         "4": "English",
         "5": "Thriller",
         "6": "2025-05-17 16:22:47.252377"
        },
        {
         "0": "Now You See Me 2",
         "1": "129",
         "2": "2016-06-02",
         "3": "6.7",
         "4": "English",
         "5": "Crime",
         "6": "2025-05-17 16:22:47.252377"
        },
        {
         "0": "Now You See Me 2",
         "1": "129",
         "2": "2016-06-02",
         "3": "6.7",
         "4": "Zhongwén",
         "5": "Crime",
         "6": "2025-05-17 16:22:47.252377"
        },
        {
         "0": "Now You See Me 2",
         "1": "129",
         "2": "2016-06-02",
         "3": "6.7",
         "4": "English",
         "5": "Crime",
         "6": "2025-05-17 16:22:47.252377"
        },
        {
         "0": "Now You See Me 2",
         "1": "129",
         "2": "2016-06-02",
         "3": "6.7",
         "4": "English",
         "5": "Mystery",
         "6": "2025-05-17 16:22:47.252377"
        },
        {
         "0": "Now You See Me 2",
         "1": "129",
         "2": "2016-06-02",
         "3": "6.7",
         "4": "Zhongwén",
         "5": "Mystery",
         "6": "2025-05-17 16:22:47.252377"
        },
        {
         "0": "Now You See Me 2",
         "1": "129",
         "2": "2016-06-02",
         "3": "6.7",
         "4": "English",
         "5": "Mystery",
         "6": "2025-05-17 16:22:47.252377"
        },
        {
         "0": "Me Before You",
         "1": "110",
         "2": "2016-06-02",
         "3": "7.6",
         "4": "English",
         "5": "Drama",
         "6": "2025-05-17 16:22:47.252377"
        },
        {
         "0": "Me Before You",
         "1": "110",
         "2": "2016-06-02",
         "3": "7.6",
         "4": "English",
         "5": "Drama",
         "6": "2025-05-17 16:22:47.252377"
        },
        {
         "0": "Me Before You",
         "1": "110",
         "2": "2016-06-02",
         "3": "7.6",
         "4": "English",
         "5": "Romance",
         "6": "2025-05-17 16:22:47.252377"
        },
        {
         "0": "Me Before You",
         "1": "110",
         "2": "2016-06-02",
         "3": "7.6",
         "4": "English",
         "5": "Romance",
         "6": "2025-05-17 16:22:47.252377"
        },
        {
         "0": "Teenage Mutant Ninja Turtles: Out of the Shadows",
         "1": "112",
         "2": "2016-06-01",
         "3": "5.8",
         "4": "English",
         "5": "Adventure",
         "6": "2025-05-17 16:22:47.252377"
        },
        {
         "0": "Teenage Mutant Ninja Turtles: Out of the Shadows",
         "1": "112",
         "2": "2016-06-01",
         "3": "5.8",
         "4": "English",
         "5": "Adventure",
         "6": "2025-05-17 16:22:47.252377"
        },
        {
         "0": "Teenage Mutant Ninja Turtles: Out of the Shadows",
         "1": "112",
         "2": "2016-06-01",
         "3": "5.8",
         "4": "English",
         "5": "Fantasy",
         "6": "2025-05-17 16:22:47.252377"
        },
        {
         "0": "Teenage Mutant Ninja Turtles: Out of the Shadows",
         "1": "112",
         "2": "2016-06-01",
         "3": "5.8",
         "4": "English",
         "5": "Fantasy",
         "6": "2025-05-17 16:22:47.252377"
        },
        {
         "0": "Teenage Mutant Ninja Turtles: Out of the Shadows",
         "1": "112",
         "2": "2016-06-01",
         "3": "5.8",
         "4": "English",
         "5": "Action",
         "6": "2025-05-17 16:22:47.252377"
        },
        {
         "0": "Teenage Mutant Ninja Turtles: Out of the Shadows",
         "1": "112",
         "2": "2016-06-01",
         "3": "5.8",
         "4": "English",
         "5": "Action",
         "6": "2025-05-17 16:22:47.252377"
        },
        {
         "0": "Teenage Mutant Ninja Turtles: Out of the Shadows",
         "1": "112",
         "2": "2016-06-01",
         "3": "5.8",
         "4": "English",
         "5": "Comedy",
         "6": "2025-05-17 16:22:47.252377"
        },
        {
         "0": "Teenage Mutant Ninja Turtles: Out of the Shadows",
         "1": "112",
         "2": "2016-06-01",
         "3": "5.8",
         "4": "English",
         "5": "Comedy",
         "6": "2025-05-17 16:22:47.252377"
        },
        {
         "0": "The BFG",
         "1": "120",
         "2": "2016-06-01",
         "3": "6.0",
         "4": "English",
         "5": "Adventure",
         "6": "2025-05-17 16:22:47.252377"
        },
        {
         "0": "The BFG",
         "1": "120",
         "2": "2016-06-01",
         "3": "6.0",
         "4": "English",
         "5": "Adventure",
         "6": "2025-05-17 16:22:47.252377"
        },
        {
         "0": "The BFG",
         "1": "120",
         "2": "2016-06-01",
         "3": "6.0",
         "4": "English",
         "5": "Fantasy",
         "6": "2025-05-17 16:22:47.252377"
        },
        {
         "0": "The BFG",
         "1": "120",
         "2": "2016-06-01",
         "3": "6.0",
         "4": "English",
         "5": "Fantasy",
         "6": "2025-05-17 16:22:47.252377"
        },
        {
         "0": "The BFG",
         "1": "120",
         "2": "2016-06-01",
         "3": "6.0",
         "4": "English",
         "5": "Family",
         "6": "2025-05-17 16:22:47.252377"
        },
        {
         "0": "The BFG",
         "1": "120",
         "2": "2016-06-01",
         "3": "6.0",
         "4": "English",
         "5": "Family",
         "6": "2025-05-17 16:22:47.252377"
        },
        {
         "0": "Warcraft",
         "1": "123",
         "2": "2016-05-25",
         "3": "6.3",
         "4": "English",
         "5": "Adventure",
         "6": "2025-05-17 16:22:47.252377"
        },
        {
         "0": "Warcraft",
         "1": "123",
         "2": "2016-05-25",
         "3": "6.3",
         "4": "English",
         "5": "Adventure",
         "6": "2025-05-17 16:22:47.252377"
        },
        {
         "0": "Warcraft",
         "1": "123",
         "2": "2016-05-25",
         "3": "6.3",
         "4": "English",
         "5": "Fantasy",
         "6": "2025-05-17 16:22:47.252377"
        },
        {
         "0": "Warcraft",
         "1": "123",
         "2": "2016-05-25",
         "3": "6.3",
         "4": "English",
         "5": "Fantasy",
         "6": "2025-05-17 16:22:47.252377"
        },
        {
         "0": "Warcraft",
         "1": "123",
         "2": "2016-05-25",
         "3": "6.3",
         "4": "English",
         "5": "Action",
         "6": "2025-05-17 16:22:47.252377"
        },
        {
         "0": "Warcraft",
         "1": "123",
         "2": "2016-05-25",
         "3": "6.3",
         "4": "English",
         "5": "Action",
         "6": "2025-05-17 16:22:47.252377"
        },
        {
         "0": "Departure",
         "1": "109",
         "2": "2016-05-20",
         "3": "7.5",
         "4": "English",
         "5": "Drama",
         "6": "2025-05-17 16:22:47.252377"
        },
        {
         "0": "Departure",
         "1": "109",
         "2": "2016-05-20",
         "3": "7.5",
         "4": "Français",
         "5": "Drama",
         "6": "2025-05-17 16:22:47.252377"
        },
        {
         "0": "Departure",
         "1": "109",
         "2": "2016-05-20",
         "3": "7.5",
         "4": "English",
         "5": "Drama",
         "6": "2025-05-17 16:22:47.252377"
        },
        {
         "0": "Departure",
         "1": "109",
         "2": "2016-05-20",
         "3": "7.5",
         "4": "English",
         "5": "Romance",
         "6": "2025-05-17 16:22:47.252377"
        },
        {
         "0": "Departure",
         "1": "109",
         "2": "2016-05-20",
         "3": "7.5",
         "4": "Français",
         "5": "Romance",
         "6": "2025-05-17 16:22:47.252377"
        },
        {
         "0": "Departure",
         "1": "109",
         "2": "2016-05-20",
         "3": "7.5",
         "4": "English",
         "5": "Romance",
         "6": "2025-05-17 16:22:47.252377"
        },
        {
         "0": "Departure",
         "1": "109",
         "2": "2016-05-20",
         "3": "7.5",
         "4": "English",
         "5": "Family",
         "6": "2025-05-17 16:22:47.252377"
        },
        {
         "0": "Departure",
         "1": "109",
         "2": "2016-05-20",
         "3": "7.5",
         "4": "Français",
         "5": "Family",
         "6": "2025-05-17 16:22:47.252377"
        },
        {
         "0": "Departure",
         "1": "109",
         "2": "2016-05-20",
         "3": "7.5",
         "4": "English",
         "5": "Family",
         "6": "2025-05-17 16:22:47.252377"
        },
        {
         "0": "X-Men: Apocalypse",
         "1": "144",
         "2": "2016-05-18",
         "3": "6.4",
         "4": "English",
         "5": "Science Fiction",
         "6": "2025-05-17 16:22:47.252377"
        },
        {
         "0": "X-Men: Apocalypse",
         "1": "144",
         "2": "2016-05-18",
         "3": "6.4",
         "4": "English",
         "5": "Science Fiction",
         "6": "2025-05-17 16:22:47.252377"
        },
        {
         "0": "The Conjuring 2",
         "1": "134",
         "2": "2016-05-13",
         "3": "7.0",
         "4": "English",
         "5": "Horror",
         "6": "2025-05-17 16:22:47.252377"
        },
        {
         "0": "The Conjuring 2",
         "1": "134",
         "2": "2016-05-13",
         "3": "7.0",
         "4": "English",
         "5": "Horror",
         "6": "2025-05-17 16:22:47.252377"
        },
        {
         "0": "Money Monster",
         "1": "98",
         "2": "2016-05-12",
         "3": "6.5",
         "4": "English",
         "5": "Thriller",
         "6": "2025-05-17 16:22:47.252377"
        },
        {
         "0": "Money Monster",
         "1": "98",
         "2": "2016-05-12",
         "3": "6.5",
         "4": "English",
         "5": "Thriller",
         "6": "2025-05-17 16:22:47.252377"
        },
        {
         "0": "The Angry Birds Movie",
         "1": "97",
         "2": "2016-05-11",
         "3": "5.9",
         "4": "English",
         "5": "Animation",
         "6": "2025-05-17 16:22:47.252377"
        },
        {
         "0": "The Angry Birds Movie",
         "1": "97",
         "2": "2016-05-11",
         "3": "5.9",
         "4": "English",
         "5": "Animation",
         "6": "2025-05-17 16:22:47.252377"
        },
        {
         "0": "The Angry Birds Movie",
         "1": "97",
         "2": "2016-05-11",
         "3": "5.9",
         "4": "English",
         "5": "Family",
         "6": "2025-05-17 16:22:47.252377"
        },
        {
         "0": "The Angry Birds Movie",
         "1": "97",
         "2": "2016-05-11",
         "3": "5.9",
         "4": "English",
         "5": "Family",
         "6": "2025-05-17 16:22:47.252377"
        },
        {
         "0": "Code of Honor",
         "1": "106",
         "2": "2016-05-06",
         "3": "4.1",
         "4": "English",
         "5": "Action",
         "6": "2025-05-17 16:22:47.252377"
        },
        {
         "0": "Code of Honor",
         "1": "106",
         "2": "2016-05-06",
         "3": "4.1",
         "4": "Deutsch",
         "5": "Action",
         "6": "2025-05-17 16:22:47.252377"
        },
        {
         "0": "Code of Honor",
         "1": "106",
         "2": "2016-05-06",
         "3": "4.1",
         "4": "English",
         "5": "Action",
         "6": "2025-05-17 16:22:47.252377"
        },
        {
         "0": "Code of Honor",
         "1": "106",
         "2": "2016-05-06",
         "3": "4.1",
         "4": "English",
         "5": "Thriller",
         "6": "2025-05-17 16:22:47.252377"
        },
        {
         "0": "Code of Honor",
         "1": "106",
         "2": "2016-05-06",
         "3": "4.1",
         "4": "Deutsch",
         "5": "Thriller",
         "6": "2025-05-17 16:22:47.252377"
        },
        {
         "0": "Code of Honor",
         "1": "106",
         "2": "2016-05-06",
         "3": "4.1",
         "4": "English",
         "5": "Thriller",
         "6": "2025-05-17 16:22:47.252377"
        },
        {
         "0": "Code of Honor",
         "1": "106",
         "2": "2016-05-06",
         "3": "4.1",
         "4": "English",
         "5": "Crime",
         "6": "2025-05-17 16:22:47.252377"
        },
        {
         "0": "Code of Honor",
         "1": "106",
         "2": "2016-05-06",
         "3": "4.1",
         "4": "Deutsch",
         "5": "Crime",
         "6": "2025-05-17 16:22:47.252377"
        },
        {
         "0": "Code of Honor",
         "1": "106",
         "2": "2016-05-06",
         "3": "4.1",
         "4": "English",
         "5": "Crime",
         "6": "2025-05-17 16:22:47.252377"
        },
        {
         "0": "Florence Foster Jenkins",
         "1": "110",
         "2": "2016-05-06",
         "3": "6.6",
         "4": "English",
         "5": "Drama",
         "6": "2025-05-17 16:22:47.252377"
        },
        {
         "0": "Florence Foster Jenkins",
         "1": "110",
         "2": "2016-05-06",
         "3": "6.6",
         "4": "English",
         "5": "Drama",
         "6": "2025-05-17 16:22:47.252377"
        },
        {
         "0": "Florence Foster Jenkins",
         "1": "110",
         "2": "2016-05-06",
         "3": "6.6",
         "4": "English",
         "5": "Comedy",
         "6": "2025-05-17 16:22:47.252377"
        },
        {
         "0": "Florence Foster Jenkins",
         "1": "110",
         "2": "2016-05-06",
         "3": "6.6",
         "4": "English",
         "5": "Comedy",
         "6": "2025-05-17 16:22:47.252377"
        },
        {
         "0": "Our Kind of Traitor",
         "1": "108",
         "2": "2016-05-05",
         "3": "6.0",
         "4": "English",
         "5": "Thriller",
         "6": "2025-05-17 16:22:47.252377"
        },
        {
         "0": "Our Kind of Traitor",
         "1": "108",
         "2": "2016-05-05",
         "3": "6.0",
         "4": "Russkii âzyk",
         "5": "Thriller",
         "6": "2025-05-17 16:22:47.252377"
        },
        {
         "0": "Our Kind of Traitor",
         "1": "108",
         "2": "2016-05-05",
         "3": "6.0",
         "4": "Français",
         "5": "Thriller",
         "6": "2025-05-17 16:22:47.252377"
        },
        {
         "0": "Our Kind of Traitor",
         "1": "108",
         "2": "2016-05-05",
         "3": "6.0",
         "4": "English",
         "5": "Thriller",
         "6": "2025-05-17 16:22:47.252377"
        },
        {
         "0": "Neighbors 2: Sorority Rising",
         "1": "91",
         "2": "2016-05-04",
         "3": "5.6",
         "4": "English",
         "5": "Comedy",
         "6": "2025-05-17 16:22:47.252377"
        },
        {
         "0": "Neighbors 2: Sorority Rising",
         "1": "91",
         "2": "2016-05-04",
         "3": "5.6",
         "4": "English",
         "5": "Comedy",
         "6": "2025-05-17 16:22:47.252377"
        },
        {
         "0": "Restoration",
         "1": "90",
         "2": "2016-05-03",
         "3": "5.3",
         "4": "English",
         "5": "Horror",
         "6": "2025-05-17 16:22:47.252377"
        },
        {
         "0": "Restoration",
         "1": "90",
         "2": "2016-05-03",
         "3": "5.3",
         "4": "English",
         "5": "Horror",
         "6": "2025-05-17 16:22:47.252377"
        },
        {
         "0": "The Secret",
         "1": "200",
         "2": "2016-04-29",
         "3": "0.0",
         "4": "English",
         "5": "Drama",
         "6": "2025-05-17 16:22:47.252377"
        },
        {
         "0": "Captain America: Civil War",
         "1": "147",
         "2": "2016-04-27",
         "3": "7.1",
         "4": "English",
         "5": "Adventure",
         "6": "2025-05-17 16:22:47.252377"
        },
        {
         "0": "Captain America: Civil War",
         "1": "147",
         "2": "2016-04-27",
         "3": "7.1",
         "4": "Românã",
         "5": "Adventure",
         "6": "2025-05-17 16:22:47.252377"
        },
        {
         "0": "Captain America: Civil War",
         "1": "147",
         "2": "2016-04-27",
         "3": "7.1",
         "4": "Russkii âzyk",
         "5": "Adventure",
         "6": "2025-05-17 16:22:47.252377"
        },
        {
         "0": "Captain America: Civil War",
         "1": "147",
         "2": "2016-04-27",
         "3": "7.1",
         "4": "Deutsch",
         "5": "Adventure",
         "6": "2025-05-17 16:22:47.252377"
        },
        {
         "0": "Captain America: Civil War",
         "1": "147",
         "2": "2016-04-27",
         "3": "7.1",
         "4": "English",
         "5": "Adventure",
         "6": "2025-05-17 16:22:47.252377"
        },
        {
         "0": "Captain America: Civil War",
         "1": "147",
         "2": "2016-04-27",
         "3": "7.1",
         "4": "English",
         "5": "Action",
         "6": "2025-05-17 16:22:47.252377"
        },
        {
         "0": "Captain America: Civil War",
         "1": "147",
         "2": "2016-04-27",
         "3": "7.1",
         "4": "Românã",
         "5": "Action",
         "6": "2025-05-17 16:22:47.252377"
        },
        {
         "0": "Captain America: Civil War",
         "1": "147",
         "2": "2016-04-27",
         "3": "7.1",
         "4": "Russkii âzyk",
         "5": "Action",
         "6": "2025-05-17 16:22:47.252377"
        },
        {
         "0": "Captain America: Civil War",
         "1": "147",
         "2": "2016-04-27",
         "3": "7.1",
         "4": "Deutsch",
         "5": "Action",
         "6": "2025-05-17 16:22:47.252377"
        },
        {
         "0": "Captain America: Civil War",
         "1": "147",
         "2": "2016-04-27",
         "3": "7.1",
         "4": "English",
         "5": "Action",
         "6": "2025-05-17 16:22:47.252377"
        },
        {
         "0": "Captain America: Civil War",
         "1": "147",
         "2": "2016-04-27",
         "3": "7.1",
         "4": "English",
         "5": "Science Fiction",
         "6": "2025-05-17 16:22:47.252377"
        },
        {
         "0": "Captain America: Civil War",
         "1": "147",
         "2": "2016-04-27",
         "3": "7.1",
         "4": "Românã",
         "5": "Science Fiction",
         "6": "2025-05-17 16:22:47.252377"
        },
        {
         "0": "Captain America: Civil War",
         "1": "147",
         "2": "2016-04-27",
         "3": "7.1",
         "4": "Russkii âzyk",
         "5": "Science Fiction",
         "6": "2025-05-17 16:22:47.252377"
        },
        {
         "0": "Captain America: Civil War",
         "1": "147",
         "2": "2016-04-27",
         "3": "7.1",
         "4": "Deutsch",
         "5": "Science Fiction",
         "6": "2025-05-17 16:22:47.252377"
        },
        {
         "0": "Captain America: Civil War",
         "1": "147",
         "2": "2016-04-27",
         "3": "7.1",
         "4": "English",
         "5": "Science Fiction",
         "6": "2025-05-17 16:22:47.252377"
        },
        {
         "0": "Keanu",
         "1": "94",
         "2": "2016-04-21",
         "3": "6.0",
         "4": "English",
         "5": "Action",
         "6": "2025-05-17 16:22:47.252377"
        },
        {
         "0": "Keanu",
         "1": "94",
         "2": "2016-04-21",
         "3": "6.0",
         "4": "English",
         "5": "Action",
         "6": "2025-05-17 16:22:47.252377"
        },
        {
         "0": "Keanu",
         "1": "94",
         "2": "2016-04-21",
         "3": "6.0",
         "4": "English",
         "5": "Comedy",
         "6": "2025-05-17 16:22:47.252377"
        },
        {
         "0": "Keanu",
         "1": "94",
         "2": "2016-04-21",
         "3": "6.0",
         "4": "English",
         "5": "Comedy",
         "6": "2025-05-17 16:22:47.252377"
        },
        {
         "0": "The Veil",
         "1": "93",
         "2": "2016-04-21",
         "3": "4.5",
         "4": "English",
         "5": "Horror",
         "6": "2025-05-17 16:22:47.252377"
        },
        {
         "0": "The Veil",
         "1": "93",
         "2": "2016-04-21",
         "3": "4.5",
         "4": "English",
         "5": "Horror",
         "6": "2025-05-17 16:22:47.252377"
        },
        {
         "0": "Green Room",
         "1": "95",
         "2": "2016-04-15",
         "3": "6.7",
         "4": "English",
         "5": "Horror",
         "6": "2025-05-17 16:22:47.252377"
        },
        {
         "0": "Green Room",
         "1": "95",
         "2": "2016-04-15",
         "3": "6.7",
         "4": "English",
         "5": "Horror",
         "6": "2025-05-17 16:22:47.252377"
        },
        {
         "0": "Green Room",
         "1": "95",
         "2": "2016-04-15",
         "3": "6.7",
         "4": "English",
         "5": "Thriller",
         "6": "2025-05-17 16:22:47.252377"
        },
        {
         "0": "Green Room",
         "1": "95",
         "2": "2016-04-15",
         "3": "6.7",
         "4": "English",
         "5": "Thriller",
         "6": "2025-05-17 16:22:47.252377"
        },
        {
         "0": "Green Room",
         "1": "95",
         "2": "2016-04-15",
         "3": "6.7",
         "4": "English",
         "5": "Crime",
         "6": "2025-05-17 16:22:47.252377"
        },
        {
         "0": "Green Room",
         "1": "95",
         "2": "2016-04-15",
         "3": "6.7",
         "4": "English",
         "5": "Crime",
         "6": "2025-05-17 16:22:47.252377"
        },
        {
         "0": "I Am Wrath",
         "1": "92",
         "2": "2016-04-14",
         "3": "4.5",
         "4": "English",
         "5": "Drama",
         "6": "2025-05-17 16:22:47.252377"
        },
        {
         "0": "I Am Wrath",
         "1": "92",
         "2": "2016-04-14",
         "3": "4.5",
         "4": "English",
         "5": "Drama",
         "6": "2025-05-17 16:22:47.252377"
        },
        {
         "0": "I Am Wrath",
         "1": "92",
         "2": "2016-04-14",
         "3": "4.5",
         "4": "English",
         "5": "Action",
         "6": "2025-05-17 16:22:47.252377"
        },
        {
         "0": "I Am Wrath",
         "1": "92",
         "2": "2016-04-14",
         "3": "4.5",
         "4": "English",
         "5": "Action",
         "6": "2025-05-17 16:22:47.252377"
        },
        {
         "0": "I Am Wrath",
         "1": "92",
         "2": "2016-04-14",
         "3": "4.5",
         "4": "English",
         "5": "Thriller",
         "6": "2025-05-17 16:22:47.252377"
        },
        {
         "0": "I Am Wrath",
         "1": "92",
         "2": "2016-04-14",
         "3": "4.5",
         "4": "English",
         "5": "Thriller",
         "6": "2025-05-17 16:22:47.252377"
        },
        {
         "0": "I Am Wrath",
         "1": "92",
         "2": "2016-04-14",
         "3": "4.5",
         "4": "English",
         "5": "Crime",
         "6": "2025-05-17 16:22:47.252377"
        },
        {
         "0": "I Am Wrath",
         "1": "92",
         "2": "2016-04-14",
         "3": "4.5",
         "4": "English",
         "5": "Crime",
         "6": "2025-05-17 16:22:47.252377"
        },
        {
         "0": "The Jungle Book",
         "1": "106",
         "2": "2016-04-07",
         "3": "6.7",
         "4": "English",
         "5": "Adventure",
         "6": "2025-05-17 16:22:47.252377"
        },
        {
         "0": "The Jungle Book",
         "1": "106",
         "2": "2016-04-07",
         "3": "6.7",
         "4": "English",
         "5": "Adventure",
         "6": "2025-05-17 16:22:47.252377"
        },
        {
         "0": "The Jungle Book",
         "1": "106",
         "2": "2016-04-07",
         "3": "6.7",
         "4": "English",
         "5": "Fantasy",
         "6": "2025-05-17 16:22:47.252377"
        },
        {
         "0": "The Jungle Book",
         "1": "106",
         "2": "2016-04-07",
         "3": "6.7",
         "4": "English",
         "5": "Fantasy",
         "6": "2025-05-17 16:22:47.252377"
        },
        {
         "0": "The Jungle Book",
         "1": "106",
         "2": "2016-04-07",
         "3": "6.7",
         "4": "English",
         "5": "Drama",
         "6": "2025-05-17 16:22:47.252377"
        },
        {
         "0": "The Jungle Book",
         "1": "106",
         "2": "2016-04-07",
         "3": "6.7",
         "4": "English",
         "5": "Drama",
         "6": "2025-05-17 16:22:47.252377"
        },
        {
         "0": "The Jungle Book",
         "1": "106",
         "2": "2016-04-07",
         "3": "6.7",
         "4": "English",
         "5": "Family",
         "6": "2025-05-17 16:22:47.252377"
        },
        {
         "0": "The Jungle Book",
         "1": "106",
         "2": "2016-04-07",
         "3": "6.7",
         "4": "English",
         "5": "Family",
         "6": "2025-05-17 16:22:47.252377"
        },
        {
         "0": "The Boss",
         "1": "91",
         "2": "2016-04-07",
         "3": "5.5",
         "4": "English",
         "5": "Comedy",
         "6": "2025-05-17 16:22:47.252377"
        },
        {
         "0": "The Boss",
         "1": "91",
         "2": "2016-04-07",
         "3": "5.5",
         "4": "English",
         "5": "Comedy",
         "6": "2025-05-17 16:22:47.252377"
        },
        {
         "0": "The Huntsman: Winter's War",
         "1": "114",
         "2": "2016-04-06",
         "3": "6.0",
         "4": "English",
         "5": "Adventure",
         "6": "2025-05-17 16:22:47.252377"
        },
        {
         "0": "The Huntsman: Winter's War",
         "1": "114",
         "2": "2016-04-06",
         "3": "6.0",
         "4": "English",
         "5": "Adventure",
         "6": "2025-05-17 16:22:47.252377"
        },
        {
         "0": "The Huntsman: Winter's War",
         "1": "114",
         "2": "2016-04-06",
         "3": "6.0",
         "4": "English",
         "5": "Drama",
         "6": "2025-05-17 16:22:47.252377"
        },
        {
         "0": "The Huntsman: Winter's War",
         "1": "114",
         "2": "2016-04-06",
         "3": "6.0",
         "4": "English",
         "5": "Drama",
         "6": "2025-05-17 16:22:47.252377"
        },
        {
         "0": "The Huntsman: Winter's War",
         "1": "114",
         "2": "2016-04-06",
         "3": "6.0",
         "4": "English",
         "5": "Action",
         "6": "2025-05-17 16:22:47.252377"
        },
        {
         "0": "The Huntsman: Winter's War",
         "1": "114",
         "2": "2016-04-06",
         "3": "6.0",
         "4": "English",
         "5": "Action",
         "6": "2025-05-17 16:22:47.252377"
        },
        {
         "0": "God's Not Dead 2",
         "1": "121",
         "2": "2016-04-01",
         "3": "5.7",
         "4": "English",
         "5": "Drama",
         "6": "2025-05-17 16:22:47.252377"
        },
        {
         "0": "God's Not Dead 2",
         "1": "121",
         "2": "2016-04-01",
         "3": "5.7",
         "4": "English",
         "5": "Drama",
         "6": "2025-05-17 16:22:47.252377"
        },
        {
         "0": "Compadres",
         "1": "101",
         "2": "2016-03-31",
         "3": "5.2",
         "4": "Español",
         "5": "Action",
         "6": "2025-05-17 16:22:47.252377"
        },
        {
         "0": "Compadres",
         "1": "101",
         "2": "2016-03-31",
         "3": "5.2",
         "4": "English",
         "5": "Action",
         "6": "2025-05-17 16:22:47.252377"
        },
        {
         "0": "Compadres",
         "1": "101",
         "2": "2016-03-31",
         "3": "5.2",
         "4": "Español",
         "5": "Comedy",
         "6": "2025-05-17 16:22:47.252377"
        },
        {
         "0": "Compadres",
         "1": "101",
         "2": "2016-03-31",
         "3": "5.2",
         "4": "English",
         "5": "Comedy",
         "6": "2025-05-17 16:22:47.252377"
        },
        {
         "0": "Alleluia! The Devil's Carnival",
         "1": "75",
         "2": "2016-03-29",
         "3": "6.0",
         "4": "English",
         "5": "Horror",
         "6": "2025-05-17 16:22:47.252377"
        },
        {
         "0": "Alleluia! The Devil's Carnival",
         "1": "75",
         "2": "2016-03-29",
         "3": "6.0",
         "4": "English",
         "5": "Music",
         "6": "2025-05-17 16:22:47.252377"
        },
        {
         "0": "Batman v Superman: Dawn of Justice",
         "1": "151",
         "2": "2016-03-23",
         "3": "5.7",
         "4": "English",
         "5": "Adventure",
         "6": "2025-05-17 16:22:47.252377"
        },
        {
         "0": "Batman v Superman: Dawn of Justice",
         "1": "151",
         "2": "2016-03-23",
         "3": "5.7",
         "4": "English",
         "5": "Adventure",
         "6": "2025-05-17 16:22:47.252377"
        },
        {
         "0": "Batman v Superman: Dawn of Justice",
         "1": "151",
         "2": "2016-03-23",
         "3": "5.7",
         "4": "English",
         "5": "Fantasy",
         "6": "2025-05-17 16:22:47.252377"
        },
        {
         "0": "Batman v Superman: Dawn of Justice",
         "1": "151",
         "2": "2016-03-23",
         "3": "5.7",
         "4": "English",
         "5": "Fantasy",
         "6": "2025-05-17 16:22:47.252377"
        },
        {
         "0": "Batman v Superman: Dawn of Justice",
         "1": "151",
         "2": "2016-03-23",
         "3": "5.7",
         "4": "English",
         "5": "Action",
         "6": "2025-05-17 16:22:47.252377"
        },
        {
         "0": "Batman v Superman: Dawn of Justice",
         "1": "151",
         "2": "2016-03-23",
         "3": "5.7",
         "4": "English",
         "5": "Action",
         "6": "2025-05-17 16:22:47.252377"
        },
        {
         "0": "My Big Fat Greek Wedding 2",
         "1": "94",
         "2": "2016-03-23",
         "3": "5.5",
         "4": "English",
         "5": "Comedy",
         "6": "2025-05-17 16:22:47.252377"
        },
        {
         "0": "My Big Fat Greek Wedding 2",
         "1": "94",
         "2": "2016-03-23",
         "3": "5.5",
         "4": "English",
         "5": "Comedy",
         "6": "2025-05-17 16:22:47.252377"
        },
        {
         "0": "My Big Fat Greek Wedding 2",
         "1": "94",
         "2": "2016-03-23",
         "3": "5.5",
         "4": "English",
         "5": "Romance",
         "6": "2025-05-17 16:22:47.252377"
        },
        {
         "0": "My Big Fat Greek Wedding 2",
         "1": "94",
         "2": "2016-03-23",
         "3": "5.5",
         "4": "English",
         "5": "Romance",
         "6": "2025-05-17 16:22:47.252377"
        },
        {
         "0": "My Big Fat Greek Wedding 2",
         "1": "94",
         "2": "2016-03-23",
         "3": "5.5",
         "4": "English",
         "5": "Family",
         "6": "2025-05-17 16:22:47.252377"
        },
        {
         "0": "My Big Fat Greek Wedding 2",
         "1": "94",
         "2": "2016-03-23",
         "3": "5.5",
         "4": "English",
         "5": "Family",
         "6": "2025-05-17 16:22:47.252377"
        },
        {
         "0": "Médecin de campagne",
         "1": "102",
         "2": "2016-03-23",
         "3": "6.0",
         "4": "Français",
         "5": "Drama",
         "6": "2025-05-17 16:22:47.252377"
        },
        {
         "0": "Médecin de campagne",
         "1": "102",
         "2": "2016-03-23",
         "3": "6.0",
         "4": "Français",
         "5": "Drama",
         "6": "2025-05-17 16:22:47.252377"
        },
        {
         "0": "Médecin de campagne",
         "1": "102",
         "2": "2016-03-23",
         "3": "6.0",
         "4": "Français",
         "5": "Comedy",
         "6": "2025-05-17 16:22:47.252377"
        },
        {
         "0": "Médecin de campagne",
         "1": "102",
         "2": "2016-03-23",
         "3": "6.0",
         "4": "Français",
         "5": "Comedy",
         "6": "2025-05-17 16:22:47.252377"
        },
        {
         "0": "Miracles from Heaven",
         "1": "117",
         "2": "2016-03-17",
         "3": "6.7",
         "4": "English",
         "5": "Drama",
         "6": "2025-05-17 16:22:47.252377"
        },
        {
         "0": "Miracles from Heaven",
         "1": "117",
         "2": "2016-03-17",
         "3": "6.7",
         "4": "English",
         "5": "Drama",
         "6": "2025-05-17 16:22:47.252377"
        },
        {
         "0": "Creative Control",
         "1": "97",
         "2": "2016-03-11",
         "3": "5.4",
         "4": "English",
         "5": "Drama",
         "6": "2025-05-17 16:22:47.252377"
        },
        {
         "0": "Creative Control",
         "1": "97",
         "2": "2016-03-11",
         "3": "5.4",
         "4": "English",
         "5": "Drama",
         "6": "2025-05-17 16:22:47.252377"
        },
        {
         "0": "Creative Control",
         "1": "97",
         "2": "2016-03-11",
         "3": "5.4",
         "4": "English",
         "5": "Science Fiction",
         "6": "2025-05-17 16:22:47.252377"
        },
        {
         "0": "Creative Control",
         "1": "97",
         "2": "2016-03-11",
         "3": "5.4",
         "4": "English",
         "5": "Science Fiction",
         "6": "2025-05-17 16:22:47.252377"
        },
        {
         "0": "The Perfect Match",
         "1": "96",
         "2": "2016-03-11",
         "3": "5.2",
         "4": "English",
         "5": "Comedy",
         "6": "2025-05-17 16:22:47.252377"
        },
        {
         "0": "The Perfect Match",
         "1": "96",
         "2": "2016-03-11",
         "3": "5.2",
         "4": "English",
         "5": "Comedy",
         "6": "2025-05-17 16:22:47.252377"
        },
        {
         "0": "The Perfect Match",
         "1": "96",
         "2": "2016-03-11",
         "3": "5.2",
         "4": "English",
         "5": "Romance",
         "6": "2025-05-17 16:22:47.252377"
        },
        {
         "0": "The Perfect Match",
         "1": "96",
         "2": "2016-03-11",
         "3": "5.2",
         "4": "English",
         "5": "Romance",
         "6": "2025-05-17 16:22:47.252377"
        },
        {
         "0": "The Young Messiah",
         "1": "120",
         "2": "2016-03-10",
         "3": "6.4",
         "4": "English",
         "5": "Drama",
         "6": "2025-05-17 16:22:47.252377"
        },
        {
         "0": "The Young Messiah",
         "1": "120",
         "2": "2016-03-10",
         "3": "6.4",
         "4": "English",
         "5": "Drama",
         "6": "2025-05-17 16:22:47.252377"
        },
        {
         "0": "Allegiant",
         "1": "121",
         "2": "2016-03-09",
         "3": "5.9",
         "4": "English",
         "5": "Adventure",
         "6": "2025-05-17 16:22:47.252377"
        },
        {
         "0": "Allegiant",
         "1": "121",
         "2": "2016-03-09",
         "3": "5.9",
         "4": "English",
         "5": "Adventure",
         "6": "2025-05-17 16:22:47.252377"
        },
        {
         "0": "Allegiant",
         "1": "121",
         "2": "2016-03-09",
         "3": "5.9",
         "4": "English",
         "5": "Science Fiction",
         "6": "2025-05-17 16:22:47.252377"
        },
        {
         "0": "Allegiant",
         "1": "121",
         "2": "2016-03-09",
         "3": "5.9",
         "4": "English",
         "5": "Science Fiction",
         "6": "2025-05-17 16:22:47.252377"
        },
        {
         "0": "A Beginner's Guide to Snuff",
         "1": "87",
         "2": "2016-03-04",
         "3": "0.0",
         "4": "English",
         "5": "Horror",
         "6": "2025-05-17 16:22:47.252377"
        },
        {
         "0": "A Beginner's Guide to Snuff",
         "1": "87",
         "2": "2016-03-04",
         "3": "0.0",
         "4": "English",
         "5": "Horror",
         "6": "2025-05-17 16:22:47.252377"
        },
        {
         "0": "A Beginner's Guide to Snuff",
         "1": "87",
         "2": "2016-03-04",
         "3": "0.0",
         "4": "English",
         "5": "Comedy",
         "6": "2025-05-17 16:22:47.252377"
        },
        {
         "0": "A Beginner's Guide to Snuff",
         "1": "87",
         "2": "2016-03-04",
         "3": "0.0",
         "4": "English",
         "5": "Comedy",
         "6": "2025-05-17 16:22:47.252377"
        },
        {
         "0": "A Beginner's Guide to Snuff",
         "1": "87",
         "2": "2016-03-04",
         "3": "0.0",
         "4": "English",
         "5": "Thriller",
         "6": "2025-05-17 16:22:47.252377"
        },
        {
         "0": "A Beginner's Guide to Snuff",
         "1": "87",
         "2": "2016-03-04",
         "3": "0.0",
         "4": "English",
         "5": "Thriller",
         "6": "2025-05-17 16:22:47.252377"
        },
        {
         "0": "London Has Fallen",
         "1": "99",
         "2": "2016-03-02",
         "3": "5.8",
         "4": "English",
         "5": "Action",
         "6": "2025-05-17 16:22:47.252377"
        },
        {
         "0": "London Has Fallen",
         "1": "99",
         "2": "2016-03-02",
         "3": "5.8",
         "4": "English",
         "5": "Action",
         "6": "2025-05-17 16:22:47.252377"
        },
        {
         "0": "London Has Fallen",
         "1": "99",
         "2": "2016-03-02",
         "3": "5.8",
         "4": "English",
         "5": "Thriller",
         "6": "2025-05-17 16:22:47.252377"
        },
        {
         "0": "London Has Fallen",
         "1": "99",
         "2": "2016-03-02",
         "3": "5.8",
         "4": "English",
         "5": "Thriller",
         "6": "2025-05-17 16:22:47.252377"
        },
        {
         "0": "London Has Fallen",
         "1": "99",
         "2": "2016-03-02",
         "3": "5.8",
         "4": "English",
         "5": "Crime",
         "6": "2025-05-17 16:22:47.252377"
        },
        {
         "0": "London Has Fallen",
         "1": "99",
         "2": "2016-03-02",
         "3": "5.8",
         "4": "English",
         "5": "Crime",
         "6": "2025-05-17 16:22:47.252377"
        },
        {
         "0": "Gods of Egypt",
         "1": "127",
         "2": "2016-02-25",
         "3": "5.3",
         "4": "English",
         "5": "Fantasy",
         "6": "2025-05-17 16:22:47.252377"
        },
        {
         "0": "Gods of Egypt",
         "1": "127",
         "2": "2016-02-25",
         "3": "5.3",
         "4": "English",
         "5": "Fantasy",
         "6": "2025-05-17 16:22:47.252377"
        },
        {
         "0": "The Witch",
         "1": "92",
         "2": "2016-02-19",
         "3": "6.3",
         "4": "English",
         "5": "Horror",
         "6": "2025-05-17 16:22:47.252377"
        },
        {
         "0": "The Witch",
         "1": "92",
         "2": "2016-02-19",
         "3": "6.3",
         "4": "English",
         "5": "Horror",
         "6": "2025-05-17 16:22:47.252377"
        },
        {
         "0": "The Witch",
         "1": "92",
         "2": "2016-02-19",
         "3": "6.3",
         "4": "English",
         "5": "Mystery",
         "6": "2025-05-17 16:22:47.252377"
        },
        {
         "0": "The Witch",
         "1": "92",
         "2": "2016-02-19",
         "3": "6.3",
         "4": "English",
         "5": "Mystery",
         "6": "2025-05-17 16:22:47.252377"
        },
        {
         "0": "Race",
         "1": "134",
         "2": "2016-02-19",
         "3": "7.1",
         "4": "English",
         "5": "Drama",
         "6": "2025-05-17 16:22:47.252377"
        },
        {
         "0": "Race",
         "1": "134",
         "2": "2016-02-19",
         "3": "7.1",
         "4": "English",
         "5": "Drama",
         "6": "2025-05-17 16:22:47.252377"
        },
        {
         "0": "Race",
         "1": "134",
         "2": "2016-02-19",
         "3": "7.1",
         "4": "English",
         "5": "Action",
         "6": "2025-05-17 16:22:47.252377"
        },
        {
         "0": "Race",
         "1": "134",
         "2": "2016-02-19",
         "3": "7.1",
         "4": "English",
         "5": "Action",
         "6": "2025-05-17 16:22:47.252377"
        },
        {
         "0": "Triple 9",
         "1": "115",
         "2": "2016-02-19",
         "3": "5.6",
         "4": "English",
         "5": "Action",
         "6": "2025-05-17 16:22:47.252377"
        },
        {
         "0": "Triple 9",
         "1": "115",
         "2": "2016-02-19",
         "3": "5.6",
         "4": "English",
         "5": "Action",
         "6": "2025-05-17 16:22:47.252377"
        },
        {
         "0": "Triple 9",
         "1": "115",
         "2": "2016-02-19",
         "3": "5.6",
         "4": "English",
         "5": "Thriller",
         "6": "2025-05-17 16:22:47.252377"
        },
        {
         "0": "Triple 9",
         "1": "115",
         "2": "2016-02-19",
         "3": "5.6",
         "4": "English",
         "5": "Thriller",
         "6": "2025-05-17 16:22:47.252377"
        },
        {
         "0": "Risen",
         "1": "107",
         "2": "2016-02-19",
         "3": "5.7",
         "4": "English",
         "5": "Action",
         "6": "2025-05-17 16:22:47.252377"
        },
        {
         "0": "Risen",
         "1": "107",
         "2": "2016-02-19",
         "3": "5.7",
         "4": "English",
         "5": "Action",
         "6": "2025-05-17 16:22:47.252377"
        },
        {
         "0": "Midnight Special",
         "1": "112",
         "2": "2016-02-18",
         "3": "6.2",
         "4": "English",
         "5": "Adventure",
         "6": "2025-05-17 16:22:47.252377"
        },
        {
         "0": "Midnight Special",
         "1": "112",
         "2": "2016-02-18",
         "3": "6.2",
         "4": "English",
         "5": "Adventure",
         "6": "2025-05-17 16:22:47.252377"
        },
        {
         "0": "Midnight Special",
         "1": "112",
         "2": "2016-02-18",
         "3": "6.2",
         "4": "English",
         "5": "Drama",
         "6": "2025-05-17 16:22:47.252377"
        },
        {
         "0": "Midnight Special",
         "1": "112",
         "2": "2016-02-18",
         "3": "6.2",
         "4": "English",
         "5": "Drama",
         "6": "2025-05-17 16:22:47.252377"
        },
        {
         "0": "Midnight Special",
         "1": "112",
         "2": "2016-02-18",
         "3": "6.2",
         "4": "English",
         "5": "Science Fiction",
         "6": "2025-05-17 16:22:47.252377"
        },
        {
         "0": "Midnight Special",
         "1": "112",
         "2": "2016-02-18",
         "3": "6.2",
         "4": "English",
         "5": "Science Fiction",
         "6": "2025-05-17 16:22:47.252377"
        },
        {
         "0": "Cabin Fever",
         "1": "99",
         "2": "2016-02-12",
         "3": "4.4",
         "4": "English",
         "5": "Horror",
         "6": "2025-05-17 16:22:47.252377"
        },
        {
         "0": "Cabin Fever",
         "1": "99",
         "2": "2016-02-12",
         "3": "4.4",
         "4": "English",
         "5": "Horror",
         "6": "2025-05-17 16:22:47.252377"
        },
        {
         "0": "Deadpool",
         "1": "108",
         "2": "2016-02-09",
         "3": "7.4",
         "4": "English",
         "5": "Adventure",
         "6": "2025-05-17 16:22:47.252377"
        },
        {
         "0": "Deadpool",
         "1": "108",
         "2": "2016-02-09",
         "3": "7.4",
         "4": "English",
         "5": "Adventure",
         "6": "2025-05-17 16:22:47.252377"
        },
        {
         "0": "Deadpool",
         "1": "108",
         "2": "2016-02-09",
         "3": "7.4",
         "4": "English",
         "5": "Action",
         "6": "2025-05-17 16:22:47.252377"
        },
        {
         "0": "Deadpool",
         "1": "108",
         "2": "2016-02-09",
         "3": "7.4",
         "4": "English",
         "5": "Action",
         "6": "2025-05-17 16:22:47.252377"
        },
        {
         "0": "Deadpool",
         "1": "108",
         "2": "2016-02-09",
         "3": "7.4",
         "4": "English",
         "5": "Comedy",
         "6": "2025-05-17 16:22:47.252377"
        },
        {
         "0": "Deadpool",
         "1": "108",
         "2": "2016-02-09",
         "3": "7.4",
         "4": "English",
         "5": "Comedy",
         "6": "2025-05-17 16:22:47.252377"
        },
        {
         "0": "Zoolander 2",
         "1": "100",
         "2": "2016-02-06",
         "3": "4.7",
         "4": "English",
         "5": "Comedy",
         "6": "2025-05-17 16:22:47.252377"
        },
        {
         "0": "Zoolander 2",
         "1": "100",
         "2": "2016-02-06",
         "3": "4.7",
         "4": "English",
         "5": "Comedy",
         "6": "2025-05-17 16:22:47.252377"
        },
        {
         "0": "Hail, Caesar!",
         "1": "106",
         "2": "2016-02-05",
         "3": "5.7",
         "4": "English",
         "5": "Drama",
         "6": "2025-05-17 16:22:47.252377"
        },
        {
         "0": "Hail, Caesar!",
         "1": "106",
         "2": "2016-02-05",
         "3": "5.7",
         "4": "English",
         "5": "Drama",
         "6": "2025-05-17 16:22:47.252377"
        },
        {
         "0": "Hail, Caesar!",
         "1": "106",
         "2": "2016-02-05",
         "3": "5.7",
         "4": "English",
         "5": "Comedy",
         "6": "2025-05-17 16:22:47.252377"
        },
        {
         "0": "Hail, Caesar!",
         "1": "106",
         "2": "2016-02-05",
         "3": "5.7",
         "4": "English",
         "5": "Comedy",
         "6": "2025-05-17 16:22:47.252377"
        },
        {
         "0": "Hail, Caesar!",
         "1": "106",
         "2": "2016-02-05",
         "3": "5.7",
         "4": "English",
         "5": "Mystery",
         "6": "2025-05-17 16:22:47.252377"
        },
        {
         "0": "Hail, Caesar!",
         "1": "106",
         "2": "2016-02-05",
         "3": "5.7",
         "4": "English",
         "5": "Mystery",
         "6": "2025-05-17 16:22:47.252377"
        },
        {
         "0": "Misconduct",
         "1": "106",
         "2": "2016-02-05",
         "3": "5.3",
         "4": "Italiano",
         "5": "Drama",
         "6": "2025-05-17 16:22:47.252377"
        },
        {
         "0": "Misconduct",
         "1": "106",
         "2": "2016-02-05",
         "3": "5.3",
         "4": "English",
         "5": "Drama",
         "6": "2025-05-17 16:22:47.252377"
        },
        {
         "0": "Misconduct",
         "1": "106",
         "2": "2016-02-05",
         "3": "5.3",
         "4": "English",
         "5": "Drama",
         "6": "2025-05-17 16:22:47.252377"
        },
        {
         "0": "Misconduct",
         "1": "106",
         "2": "2016-02-05",
         "3": "5.3",
         "4": "Italiano",
         "5": "Thriller",
         "6": "2025-05-17 16:22:47.252377"
        },
        {
         "0": "Misconduct",
         "1": "106",
         "2": "2016-02-05",
         "3": "5.3",
         "4": "English",
         "5": "Thriller",
         "6": "2025-05-17 16:22:47.252377"
        },
        {
         "0": "Misconduct",
         "1": "106",
         "2": "2016-02-05",
         "3": "5.3",
         "4": "English",
         "5": "Thriller",
         "6": "2025-05-17 16:22:47.252377"
        },
        {
         "0": "Pride and Prejudice and Zombies",
         "1": "108",
         "2": "2016-02-04",
         "3": "5.5",
         "4": "English",
         "5": "Horror",
         "6": "2025-05-17 16:22:47.252377"
        },
        {
         "0": "Pride and Prejudice and Zombies",
         "1": "108",
         "2": "2016-02-04",
         "3": "5.5",
         "4": "English",
         "5": "Horror",
         "6": "2025-05-17 16:22:47.252377"
        },
        {
         "0": "Pride and Prejudice and Zombies",
         "1": "108",
         "2": "2016-02-04",
         "3": "5.5",
         "4": "English",
         "5": "Comedy",
         "6": "2025-05-17 16:22:47.252377"
        },
        {
         "0": "Pride and Prejudice and Zombies",
         "1": "108",
         "2": "2016-02-04",
         "3": "5.5",
         "4": "English",
         "5": "Comedy",
         "6": "2025-05-17 16:22:47.252377"
        },
        {
         "0": "Pride and Prejudice and Zombies",
         "1": "108",
         "2": "2016-02-04",
         "3": "5.5",
         "4": "English",
         "5": "Thriller",
         "6": "2025-05-17 16:22:47.252377"
        },
        {
         "0": "Pride and Prejudice and Zombies",
         "1": "108",
         "2": "2016-02-04",
         "3": "5.5",
         "4": "English",
         "5": "Thriller",
         "6": "2025-05-17 16:22:47.252377"
        },
        {
         "0": "Pride and Prejudice and Zombies",
         "1": "108",
         "2": "2016-02-04",
         "3": "5.5",
         "4": "English",
         "5": "Romance",
         "6": "2025-05-17 16:22:47.252377"
        },
        {
         "0": "Pride and Prejudice and Zombies",
         "1": "108",
         "2": "2016-02-04",
         "3": "5.5",
         "4": "English",
         "5": "Romance",
         "6": "2025-05-17 16:22:47.252377"
        },
        {
         "0": "Fight to the Finish",
         "1": "94",
         "2": "2016-02-02",
         "3": "5.2",
         "4": "English",
         "5": "Action",
         "6": "2025-05-17 16:22:47.252377"
        },
        {
         "0": "Fight to the Finish",
         "1": "94",
         "2": "2016-02-02",
         "3": "5.2",
         "4": "English",
         "5": "Action",
         "6": "2025-05-17 16:22:47.252377"
        },
        {
         "0": "Fight to the Finish",
         "1": "94",
         "2": "2016-02-02",
         "3": "5.2",
         "4": "English",
         "5": "Romance",
         "6": "2025-05-17 16:22:47.252377"
        },
        {
         "0": "Fight to the Finish",
         "1": "94",
         "2": "2016-02-02",
         "3": "5.2",
         "4": "English",
         "5": "Romance",
         "6": "2025-05-17 16:22:47.252377"
        },
        {
         "0": "Wind Walkers",
         "1": "93",
         "2": "2016-01-28",
         "3": "7.5",
         "4": "English",
         "5": "Horror",
         "6": "2025-05-17 16:22:47.252377"
        },
        {
         "0": "Wind Walkers",
         "1": "93",
         "2": "2016-01-28",
         "3": "7.5",
         "4": "English",
         "5": "Horror",
         "6": "2025-05-17 16:22:47.252377"
        },
        {
         "0": "Wind Walkers",
         "1": "93",
         "2": "2016-01-28",
         "3": "7.5",
         "4": "English",
         "5": "Action",
         "6": "2025-05-17 16:22:47.252377"
        },
        {
         "0": "Wind Walkers",
         "1": "93",
         "2": "2016-01-28",
         "3": "7.5",
         "4": "English",
         "5": "Action",
         "6": "2025-05-17 16:22:47.252377"
        },
        {
         "0": "Wind Walkers",
         "1": "93",
         "2": "2016-01-28",
         "3": "7.5",
         "4": "English",
         "5": "Thriller",
         "6": "2025-05-17 16:22:47.252377"
        },
        {
         "0": "Wind Walkers",
         "1": "93",
         "2": "2016-01-28",
         "3": "7.5",
         "4": "English",
         "5": "Thriller",
         "6": "2025-05-17 16:22:47.252377"
        },
        {
         "0": "Fifty Shades of Black",
         "1": "92",
         "2": "2016-01-28",
         "3": "4.3",
         "4": "English",
         "5": "Comedy",
         "6": "2025-05-17 16:22:47.252377"
        },
        {
         "0": "Fifty Shades of Black",
         "1": "92",
         "2": "2016-01-28",
         "3": "4.3",
         "4": "English",
         "5": "Comedy",
         "6": "2025-05-17 16:22:47.252377"
        },
        {
         "0": "Fifty Shades of Black",
         "1": "92",
         "2": "2016-01-28",
         "3": "4.3",
         "4": "English",
         "5": "Romance",
         "6": "2025-05-17 16:22:47.252377"
        },
        {
         "0": "Fifty Shades of Black",
         "1": "92",
         "2": "2016-01-28",
         "3": "4.3",
         "4": "English",
         "5": "Romance",
         "6": "2025-05-17 16:22:47.252377"
        },
        {
         "0": "The Finest Hours",
         "1": "114",
         "2": "2016-01-25",
         "3": "6.3",
         "4": "English",
         "5": "Drama",
         "6": "2025-05-17 16:22:47.252377"
        },
        {
         "0": "The Finest Hours",
         "1": "114",
         "2": "2016-01-25",
         "3": "6.3",
         "4": "English",
         "5": "Drama",
         "6": "2025-05-17 16:22:47.252377"
        },
        {
         "0": "The Finest Hours",
         "1": "114",
         "2": "2016-01-25",
         "3": "6.3",
         "4": "English",
         "5": "Action",
         "6": "2025-05-17 16:22:47.252377"
        },
        {
         "0": "The Finest Hours",
         "1": "114",
         "2": "2016-01-25",
         "3": "6.3",
         "4": "English",
         "5": "Action",
         "6": "2025-05-17 16:22:47.252377"
        },
        {
         "0": "The Finest Hours",
         "1": "114",
         "2": "2016-01-25",
         "3": "6.3",
         "4": "English",
         "5": "History",
         "6": "2025-05-17 16:22:47.252377"
        },
        {
         "0": "The Finest Hours",
         "1": "114",
         "2": "2016-01-25",
         "3": "6.3",
         "4": "English",
         "5": "History",
         "6": "2025-05-17 16:22:47.252377"
        },
        {
         "0": "The Finest Hours",
         "1": "114",
         "2": "2016-01-25",
         "3": "6.3",
         "4": "English",
         "5": "Thriller",
         "6": "2025-05-17 16:22:47.252377"
        },
        {
         "0": "The Finest Hours",
         "1": "114",
         "2": "2016-01-25",
         "3": "6.3",
         "4": "English",
         "5": "Thriller",
         "6": "2025-05-17 16:22:47.252377"
        },
        {
         "0": "Airlift",
         "1": "126",
         "2": "2016-01-22",
         "3": "7.3",
         "4": "Malayalã",
         "5": "Drama",
         "6": "2025-05-17 16:22:47.252377"
        },
        {
         "0": "Airlift",
         "1": "126",
         "2": "2016-01-22",
         "3": "7.3",
         "4": "Hindi",
         "5": "Drama",
         "6": "2025-05-17 16:22:47.252377"
        },
        {
         "0": "Airlift",
         "1": "126",
         "2": "2016-01-22",
         "3": "7.3",
         "4": "Hindi",
         "5": "Drama",
         "6": "2025-05-17 16:22:47.252377"
        },
        {
         "0": "Airlift",
         "1": "126",
         "2": "2016-01-22",
         "3": "7.3",
         "4": "al-?arabiyyah",
         "5": "Drama",
         "6": "2025-05-17 16:22:47.252377"
        },
        {
         "0": "Airlift",
         "1": "126",
         "2": "2016-01-22",
         "3": "7.3",
         "4": "Malayalã",
         "5": "Action",
         "6": "2025-05-17 16:22:47.252377"
        },
        {
         "0": "Airlift",
         "1": "126",
         "2": "2016-01-22",
         "3": "7.3",
         "4": "Hindi",
         "5": "Action",
         "6": "2025-05-17 16:22:47.252377"
        },
        {
         "0": "Airlift",
         "1": "126",
         "2": "2016-01-22",
         "3": "7.3",
         "4": "Hindi",
         "5": "Action",
         "6": "2025-05-17 16:22:47.252377"
        },
        {
         "0": "Airlift",
         "1": "126",
         "2": "2016-01-22",
         "3": "7.3",
         "4": "al-?arabiyyah",
         "5": "Action",
         "6": "2025-05-17 16:22:47.252377"
        },
        {
         "0": "Airlift",
         "1": "126",
         "2": "2016-01-22",
         "3": "7.3",
         "4": "Malayalã",
         "5": "History",
         "6": "2025-05-17 16:22:47.252377"
        },
        {
         "0": "Airlift",
         "1": "126",
         "2": "2016-01-22",
         "3": "7.3",
         "4": "Hindi",
         "5": "History",
         "6": "2025-05-17 16:22:47.252377"
        },
        {
         "0": "Airlift",
         "1": "126",
         "2": "2016-01-22",
         "3": "7.3",
         "4": "Hindi",
         "5": "History",
         "6": "2025-05-17 16:22:47.252377"
        },
        {
         "0": "Airlift",
         "1": "126",
         "2": "2016-01-22",
         "3": "7.3",
         "4": "al-?arabiyyah",
         "5": "History",
         "6": "2025-05-17 16:22:47.252377"
        },
        {
         "0": "Airlift",
         "1": "126",
         "2": "2016-01-22",
         "3": "7.3",
         "4": "Malayalã",
         "5": "Thriller",
         "6": "2025-05-17 16:22:47.252377"
        },
        {
         "0": "Airlift",
         "1": "126",
         "2": "2016-01-22",
         "3": "7.3",
         "4": "Hindi",
         "5": "Thriller",
         "6": "2025-05-17 16:22:47.252377"
        },
        {
         "0": "Airlift",
         "1": "126",
         "2": "2016-01-22",
         "3": "7.3",
         "4": "Hindi",
         "5": "Thriller",
         "6": "2025-05-17 16:22:47.252377"
        },
        {
         "0": "Airlift",
         "1": "126",
         "2": "2016-01-22",
         "3": "7.3",
         "4": "al-?arabiyyah",
         "5": "Thriller",
         "6": "2025-05-17 16:22:47.252377"
        },
        {
         "0": "The Boy",
         "1": "97",
         "2": "2016-01-22",
         "3": "5.8",
         "4": "English",
         "5": "Horror",
         "6": "2025-05-17 16:22:47.252377"
        },
        {
         "0": "The Boy",
         "1": "97",
         "2": "2016-01-22",
         "3": "5.8",
         "4": "English",
         "5": "Horror",
         "6": "2025-05-17 16:22:47.252377"
        },
        {
         "0": "The Boy",
         "1": "97",
         "2": "2016-01-22",
         "3": "5.8",
         "4": "English",
         "5": "Thriller",
         "6": "2025-05-17 16:22:47.252377"
        },
        {
         "0": "The Boy",
         "1": "97",
         "2": "2016-01-22",
         "3": "5.8",
         "4": "English",
         "5": "Thriller",
         "6": "2025-05-17 16:22:47.252377"
        },
        {
         "0": "The Boy",
         "1": "97",
         "2": "2016-01-22",
         "3": "5.8",
         "4": "English",
         "5": "Mystery",
         "6": "2025-05-17 16:22:47.252377"
        },
        {
         "0": "The Boy",
         "1": "97",
         "2": "2016-01-22",
         "3": "5.8",
         "4": "English",
         "5": "Mystery",
         "6": "2025-05-17 16:22:47.252377"
        },
        {
         "0": "Dirty Grandpa",
         "1": "102",
         "2": "2016-01-21",
         "3": "5.7",
         "4": "English",
         "5": "Comedy",
         "6": "2025-05-17 16:22:47.252377"
        },
        {
         "0": "Dirty Grandpa",
         "1": "102",
         "2": "2016-01-21",
         "3": "5.7",
         "4": "English",
         "5": "Comedy",
         "6": "2025-05-17 16:22:47.252377"
        },
        {
         "0": "How to Be Single",
         "1": "110",
         "2": "2016-01-21",
         "3": "5.9",
         "4": "English",
         "5": "Comedy",
         "6": "2025-05-17 16:22:47.252377"
        },
        {
         "0": "How to Be Single",
         "1": "110",
         "2": "2016-01-21",
         "3": "5.9",
         "4": "English",
         "5": "Comedy",
         "6": "2025-05-17 16:22:47.252377"
        },
        {
         "0": "How to Be Single",
         "1": "110",
         "2": "2016-01-21",
         "3": "5.9",
         "4": "English",
         "5": "Romance",
         "6": "2025-05-17 16:22:47.252377"
        },
        {
         "0": "How to Be Single",
         "1": "110",
         "2": "2016-01-21",
         "3": "5.9",
         "4": "English",
         "5": "Romance",
         "6": "2025-05-17 16:22:47.252377"
        },
        {
         "0": "The 5th Wave",
         "1": "112",
         "2": "2016-01-14",
         "3": "5.6",
         "4": "English",
         "5": "Adventure",
         "6": "2025-05-17 16:22:47.252377"
        },
        {
         "0": "The 5th Wave",
         "1": "112",
         "2": "2016-01-14",
         "3": "5.6",
         "4": "English",
         "5": "Adventure",
         "6": "2025-05-17 16:22:47.252377"
        },
        {
         "0": "The 5th Wave",
         "1": "112",
         "2": "2016-01-14",
         "3": "5.6",
         "4": "English",
         "5": "Science Fiction",
         "6": "2025-05-17 16:22:47.252377"
        },
        {
         "0": "The 5th Wave",
         "1": "112",
         "2": "2016-01-14",
         "3": "5.6",
         "4": "English",
         "5": "Science Fiction",
         "6": "2025-05-17 16:22:47.252377"
        },
        {
         "0": "Ride Along 2",
         "1": "102",
         "2": "2016-01-14",
         "3": "6.1",
         "4": "English",
         "5": "Action",
         "6": "2025-05-17 16:22:47.252377"
        },
        {
         "0": "Ride Along 2",
         "1": "102",
         "2": "2016-01-14",
         "3": "6.1",
         "4": "English",
         "5": "Action",
         "6": "2025-05-17 16:22:47.252377"
        },
        {
         "0": "Ride Along 2",
         "1": "102",
         "2": "2016-01-14",
         "3": "6.1",
         "4": "English",
         "5": "Comedy",
         "6": "2025-05-17 16:22:47.252377"
        },
        {
         "0": "Ride Along 2",
         "1": "102",
         "2": "2016-01-14",
         "3": "6.1",
         "4": "English",
         "5": "Comedy",
         "6": "2025-05-17 16:22:47.252377"
        },
        {
         "0": "13 Hours: The Secret Soldiers of Benghazi",
         "1": "144",
         "2": "2016-01-13",
         "3": "7.0",
         "4": "English",
         "5": "Drama",
         "6": "2025-05-17 16:22:47.252377"
        },
        {
         "0": "13 Hours: The Secret Soldiers of Benghazi",
         "1": "144",
         "2": "2016-01-13",
         "3": "7.0",
         "4": "al-?arabiyyah",
         "5": "Drama",
         "6": "2025-05-17 16:22:47.252377"
        },
        {
         "0": "13 Hours: The Secret Soldiers of Benghazi",
         "1": "144",
         "2": "2016-01-13",
         "3": "7.0",
         "4": "English",
         "5": "Drama",
         "6": "2025-05-17 16:22:47.252377"
        },
        {
         "0": "13 Hours: The Secret Soldiers of Benghazi",
         "1": "144",
         "2": "2016-01-13",
         "3": "7.0",
         "4": "English",
         "5": "Action",
         "6": "2025-05-17 16:22:47.252377"
        },
        {
         "0": "13 Hours: The Secret Soldiers of Benghazi",
         "1": "144",
         "2": "2016-01-13",
         "3": "7.0",
         "4": "al-?arabiyyah",
         "5": "Action",
         "6": "2025-05-17 16:22:47.252377"
        },
        {
         "0": "13 Hours: The Secret Soldiers of Benghazi",
         "1": "144",
         "2": "2016-01-13",
         "3": "7.0",
         "4": "English",
         "5": "Action",
         "6": "2025-05-17 16:22:47.252377"
        },
        {
         "0": "13 Hours: The Secret Soldiers of Benghazi",
         "1": "144",
         "2": "2016-01-13",
         "3": "7.0",
         "4": "English",
         "5": "History",
         "6": "2025-05-17 16:22:47.252377"
        },
        {
         "0": "13 Hours: The Secret Soldiers of Benghazi",
         "1": "144",
         "2": "2016-01-13",
         "3": "7.0",
         "4": "al-?arabiyyah",
         "5": "History",
         "6": "2025-05-17 16:22:47.252377"
        },
        {
         "0": "13 Hours: The Secret Soldiers of Benghazi",
         "1": "144",
         "2": "2016-01-13",
         "3": "7.0",
         "4": "English",
         "5": "History",
         "6": "2025-05-17 16:22:47.252377"
        },
        {
         "0": "13 Hours: The Secret Soldiers of Benghazi",
         "1": "144",
         "2": "2016-01-13",
         "3": "7.0",
         "4": "English",
         "5": "Thriller",
         "6": "2025-05-17 16:22:47.252377"
        },
        {
         "0": "13 Hours: The Secret Soldiers of Benghazi",
         "1": "144",
         "2": "2016-01-13",
         "3": "7.0",
         "4": "al-?arabiyyah",
         "5": "Thriller",
         "6": "2025-05-17 16:22:47.252377"
        },
        {
         "0": "13 Hours: The Secret Soldiers of Benghazi",
         "1": "144",
         "2": "2016-01-13",
         "3": "7.0",
         "4": "English",
         "5": "Thriller",
         "6": "2025-05-17 16:22:47.252377"
        },
        {
         "0": "13 Hours: The Secret Soldiers of Benghazi",
         "1": "144",
         "2": "2016-01-13",
         "3": "7.0",
         "4": "English",
         "5": "War",
         "6": "2025-05-17 16:22:47.252377"
        },
        {
         "0": "13 Hours: The Secret Soldiers of Benghazi",
         "1": "144",
         "2": "2016-01-13",
         "3": "7.0",
         "4": "al-?arabiyyah",
         "5": "War",
         "6": "2025-05-17 16:22:47.252377"
        },
        {
         "0": "13 Hours: The Secret Soldiers of Benghazi",
         "1": "144",
         "2": "2016-01-13",
         "3": "7.0",
         "4": "English",
         "5": "War",
         "6": "2025-05-17 16:22:47.252377"
        },
        {
         "0": "The Masked Saint",
         "1": "111",
         "2": "2016-01-08",
         "3": "2.9",
         "4": "English",
         "5": "Action",
         "6": "2025-05-17 16:22:47.252377"
        },
        {
         "0": "The Masked Saint",
         "1": "111",
         "2": "2016-01-08",
         "3": "2.9",
         "4": "English",
         "5": "Action",
         "6": "2025-05-17 16:22:47.252377"
        },
        {
         "0": "The Masked Saint",
         "1": "111",
         "2": "2016-01-08",
         "3": "2.9",
         "4": "English",
         "5": "Crime",
         "6": "2025-05-17 16:22:47.252377"
        },
        {
         "0": "The Masked Saint",
         "1": "111",
         "2": "2016-01-08",
         "3": "2.9",
         "4": "English",
         "5": "Crime",
         "6": "2025-05-17 16:22:47.252377"
        },
        {
         "0": "The Forest",
         "1": "95",
         "2": "2016-01-07",
         "3": "4.8",
         "4": "English",
         "5": "Horror",
         "6": "2025-05-17 16:22:47.252377"
        },
        {
         "0": "The Forest",
         "1": "95",
         "2": "2016-01-07",
         "3": "4.8",
         "4": "English",
         "5": "Horror",
         "6": "2025-05-17 16:22:47.252377"
        },
        {
         "0": "The Forest",
         "1": "95",
         "2": "2016-01-07",
         "3": "4.8",
         "4": "English",
         "5": "Thriller",
         "6": "2025-05-17 16:22:47.252377"
        },
        {
         "0": "The Forest",
         "1": "95",
         "2": "2016-01-07",
         "3": "4.8",
         "4": "English",
         "5": "Thriller",
         "6": "2025-05-17 16:22:47.252377"
        },
        {
         "0": "Adulterers",
         "1": "80",
         "2": "2016-01-05",
         "3": "5.2",
         "4": "English",
         "5": "Drama",
         "6": "2025-05-17 16:22:47.252377"
        },
        {
         "0": "Adulterers",
         "1": "80",
         "2": "2016-01-05",
         "3": "5.2",
         "4": "English",
         "5": "Drama",
         "6": "2025-05-17 16:22:47.252377"
        },
        {
         "0": "Adulterers",
         "1": "80",
         "2": "2016-01-05",
         "3": "5.2",
         "4": "English",
         "5": "Thriller",
         "6": "2025-05-17 16:22:47.252377"
        },
        {
         "0": "Adulterers",
         "1": "80",
         "2": "2016-01-05",
         "3": "5.2",
         "4": "English",
         "5": "Thriller",
         "6": "2025-05-17 16:22:47.252377"
        },
        {
         "0": "Adulterers",
         "1": "80",
         "2": "2016-01-05",
         "3": "5.2",
         "4": "English",
         "5": "Crime",
         "6": "2025-05-17 16:22:47.252377"
        },
        {
         "0": "Adulterers",
         "1": "80",
         "2": "2016-01-05",
         "3": "5.2",
         "4": "English",
         "5": "Crime",
         "6": "2025-05-17 16:22:47.252377"
        },
        {
         "0": "Rodeo Girl",
         "1": "108",
         "2": "2016-01-05",
         "3": "5.5",
         "4": "English",
         "5": "Family",
         "6": "2025-05-17 16:22:47.252377"
        },
        {
         "0": "Rodeo Girl",
         "1": "108",
         "2": "2016-01-05",
         "3": "5.5",
         "4": "English",
         "5": "Family",
         "6": "2025-05-17 16:22:47.252377"
        },
        {
         "0": "Jane Got a Gun",
         "1": "98",
         "2": "2016-01-01",
         "3": "5.4",
         "4": "English",
         "5": "Drama",
         "6": "2025-05-17 16:22:47.252377"
        },
        {
         "0": "Jane Got a Gun",
         "1": "98",
         "2": "2016-01-01",
         "3": "5.4",
         "4": "English",
         "5": "Drama",
         "6": "2025-05-17 16:22:47.252377"
        },
        {
         "0": "Jane Got a Gun",
         "1": "98",
         "2": "2016-01-01",
         "3": "5.4",
         "4": "English",
         "5": "Action",
         "6": "2025-05-17 16:22:47.252377"
        },
        {
         "0": "Jane Got a Gun",
         "1": "98",
         "2": "2016-01-01",
         "3": "5.4",
         "4": "English",
         "5": "Action",
         "6": "2025-05-17 16:22:47.252377"
        },
        {
         "0": "Jane Got a Gun",
         "1": "98",
         "2": "2016-01-01",
         "3": "5.4",
         "4": "English",
         "5": "Western",
         "6": "2025-05-17 16:22:47.252377"
        },
        {
         "0": "Jane Got a Gun",
         "1": "98",
         "2": "2016-01-01",
         "3": "5.4",
         "4": "English",
         "5": "Western",
         "6": "2025-05-17 16:22:47.252377"
        },
        {
         "0": "Anomalisa",
         "1": "90",
         "2": "2015-12-30",
         "3": "7.0",
         "4": "English",
         "5": "Animation",
         "6": "2025-05-17 16:22:47.252377"
        },
        {
         "0": "Anomalisa",
         "1": "90",
         "2": "2015-12-30",
         "3": "7.0",
         "4": "English",
         "5": "Animation",
         "6": "2025-05-17 16:22:47.252377"
        },
        {
         "0": "Anomalisa",
         "1": "90",
         "2": "2015-12-30",
         "3": "7.0",
         "4": "English",
         "5": "Drama",
         "6": "2025-05-17 16:22:47.252377"
        },
        {
         "0": "Anomalisa",
         "1": "90",
         "2": "2015-12-30",
         "3": "7.0",
         "4": "English",
         "5": "Drama",
         "6": "2025-05-17 16:22:47.252377"
        },
        {
         "0": "Anomalisa",
         "1": "90",
         "2": "2015-12-30",
         "3": "7.0",
         "4": "English",
         "5": "Comedy",
         "6": "2025-05-17 16:22:47.252377"
        },
        {
         "0": "Anomalisa",
         "1": "90",
         "2": "2015-12-30",
         "3": "7.0",
         "4": "English",
         "5": "Comedy",
         "6": "2025-05-17 16:22:47.252377"
        },
        {
         "0": "Anomalisa",
         "1": "90",
         "2": "2015-12-30",
         "3": "7.0",
         "4": "English",
         "5": "Romance",
         "6": "2025-05-17 16:22:47.252377"
        },
        {
         "0": "Anomalisa",
         "1": "90",
         "2": "2015-12-30",
         "3": "7.0",
         "4": "English",
         "5": "Romance",
         "6": "2025-05-17 16:22:47.252377"
        },
        {
         "0": "The Revenant",
         "1": "156",
         "2": "2015-12-25",
         "3": "7.3",
         "4": "English",
         "5": "Adventure",
         "6": "2025-05-17 16:22:47.252377"
        },
        {
         "0": "The Revenant",
         "1": "156",
         "2": "2015-12-25",
         "3": "7.3",
         "4": "Français",
         "5": "Adventure",
         "6": "2025-05-17 16:22:47.252377"
        },
        {
         "0": "The Revenant",
         "1": "156",
         "2": "2015-12-25",
         "3": "7.3",
         "4": "English",
         "5": "Adventure",
         "6": "2025-05-17 16:22:47.252377"
        },
        {
         "0": "The Revenant",
         "1": "156",
         "2": "2015-12-25",
         "3": "7.3",
         "4": "English",
         "5": "Drama",
         "6": "2025-05-17 16:22:47.252377"
        },
        {
         "0": "The Revenant",
         "1": "156",
         "2": "2015-12-25",
         "3": "7.3",
         "4": "Français",
         "5": "Drama",
         "6": "2025-05-17 16:22:47.252377"
        },
        {
         "0": "The Revenant",
         "1": "156",
         "2": "2015-12-25",
         "3": "7.3",
         "4": "English",
         "5": "Drama",
         "6": "2025-05-17 16:22:47.252377"
        },
        {
         "0": "The Revenant",
         "1": "156",
         "2": "2015-12-25",
         "3": "7.3",
         "4": "English",
         "5": "Western",
         "6": "2025-05-17 16:22:47.252377"
        },
        {
         "0": "The Revenant",
         "1": "156",
         "2": "2015-12-25",
         "3": "7.3",
         "4": "Français",
         "5": "Western",
         "6": "2025-05-17 16:22:47.252377"
        },
        {
         "0": "The Revenant",
         "1": "156",
         "2": "2015-12-25",
         "3": "7.3",
         "4": "English",
         "5": "Western",
         "6": "2025-05-17 16:22:47.252377"
        },
        {
         "0": "The Revenant",
         "1": "156",
         "2": "2015-12-25",
         "3": "7.3",
         "4": "English",
         "5": "Thriller",
         "6": "2025-05-17 16:22:47.252377"
        },
        {
         "0": "The Revenant",
         "1": "156",
         "2": "2015-12-25",
         "3": "7.3",
         "4": "Français",
         "5": "Thriller",
         "6": "2025-05-17 16:22:47.252377"
        },
        {
         "0": "The Revenant",
         "1": "156",
         "2": "2015-12-25",
         "3": "7.3",
         "4": "English",
         "5": "Thriller",
         "6": "2025-05-17 16:22:47.252377"
        },
        {
         "0": "The Hateful Eight",
         "1": "167",
         "2": "2015-12-25",
         "3": "7.6",
         "4": "English",
         "5": "Drama",
         "6": "2025-05-17 16:22:47.252377"
        },
        {
         "0": "The Hateful Eight",
         "1": "167",
         "2": "2015-12-25",
         "3": "7.6",
         "4": "Español",
         "5": "Drama",
         "6": "2025-05-17 16:22:47.252377"
        },
        {
         "0": "The Hateful Eight",
         "1": "167",
         "2": "2015-12-25",
         "3": "7.6",
         "4": "English",
         "5": "Drama",
         "6": "2025-05-17 16:22:47.252377"
        },
        {
         "0": "The Hateful Eight",
         "1": "167",
         "2": "2015-12-25",
         "3": "7.6",
         "4": "English",
         "5": "Western",
         "6": "2025-05-17 16:22:47.252377"
        },
        {
         "0": "The Hateful Eight",
         "1": "167",
         "2": "2015-12-25",
         "3": "7.6",
         "4": "Español",
         "5": "Western",
         "6": "2025-05-17 16:22:47.252377"
        },
        {
         "0": "The Hateful Eight",
         "1": "167",
         "2": "2015-12-25",
         "3": "7.6",
         "4": "English",
         "5": "Western",
         "6": "2025-05-17 16:22:47.252377"
        },
        {
         "0": "The Hateful Eight",
         "1": "167",
         "2": "2015-12-25",
         "3": "7.6",
         "4": "English",
         "5": "Crime",
         "6": "2025-05-17 16:22:47.252377"
        },
        {
         "0": "The Hateful Eight",
         "1": "167",
         "2": "2015-12-25",
         "3": "7.6",
         "4": "Español",
         "5": "Crime",
         "6": "2025-05-17 16:22:47.252377"
        },
        {
         "0": "The Hateful Eight",
         "1": "167",
         "2": "2015-12-25",
         "3": "7.6",
         "4": "English",
         "5": "Crime",
         "6": "2025-05-17 16:22:47.252377"
        },
        {
         "0": "The Hateful Eight",
         "1": "167",
         "2": "2015-12-25",
         "3": "7.6",
         "4": "English",
         "5": "Mystery",
         "6": "2025-05-17 16:22:47.252377"
        },
        {
         "0": "The Hateful Eight",
         "1": "167",
         "2": "2015-12-25",
         "3": "7.6",
         "4": "Español",
         "5": "Mystery",
         "6": "2025-05-17 16:22:47.252377"
        },
        {
         "0": "The Hateful Eight",
         "1": "167",
         "2": "2015-12-25",
         "3": "7.6",
         "4": "English",
         "5": "Mystery",
         "6": "2025-05-17 16:22:47.252377"
        },
        {
         "0": "Daddy's Home",
         "1": "96",
         "2": "2015-12-25",
         "3": "5.8",
         "4": "English",
         "5": "Comedy",
         "6": "2025-05-17 16:22:47.252377"
        },
        {
         "0": "Daddy's Home",
         "1": "96",
         "2": "2015-12-25",
         "3": "5.8",
         "4": "English",
         "5": "Comedy",
         "6": "2025-05-17 16:22:47.252377"
        },
        {
         "0": "Joy",
         "1": "124",
         "2": "2015-12-24",
         "3": "6.4",
         "4": "English",
         "5": "Drama",
         "6": "2025-05-17 16:22:47.252377"
        },
        {
         "0": "Joy",
         "1": "124",
         "2": "2015-12-24",
         "3": "6.4",
         "4": "Español",
         "5": "Drama",
         "6": "2025-05-17 16:22:47.252377"
        },
        {
         "0": "Joy",
         "1": "124",
         "2": "2015-12-24",
         "3": "6.4",
         "4": "English",
         "5": "Drama",
         "6": "2025-05-17 16:22:47.252377"
        },
        {
         "0": "Joy",
         "1": "124",
         "2": "2015-12-24",
         "3": "6.4",
         "4": "English",
         "5": "Comedy",
         "6": "2025-05-17 16:22:47.252377"
        },
        {
         "0": "Joy",
         "1": "124",
         "2": "2015-12-24",
         "3": "6.4",
         "4": "Español",
         "5": "Comedy",
         "6": "2025-05-17 16:22:47.252377"
        },
        {
         "0": "Joy",
         "1": "124",
         "2": "2015-12-24",
         "3": "6.4",
         "4": "English",
         "5": "Comedy",
         "6": "2025-05-17 16:22:47.252377"
        },
        {
         "0": "Alvin and the Chipmunks: The Road Chip",
         "1": "92",
         "2": "2015-12-17",
         "3": "5.8",
         "4": "English",
         "5": "Adventure",
         "6": "2025-05-17 16:22:47.252377"
        },
        {
         "0": "Alvin and the Chipmunks: The Road Chip",
         "1": "92",
         "2": "2015-12-17",
         "3": "5.8",
         "4": "English",
         "5": "Adventure",
         "6": "2025-05-17 16:22:47.252377"
        },
        {
         "0": "Alvin and the Chipmunks: The Road Chip",
         "1": "92",
         "2": "2015-12-17",
         "3": "5.8",
         "4": "English",
         "5": "Animation",
         "6": "2025-05-17 16:22:47.252377"
        },
        {
         "0": "Alvin and the Chipmunks: The Road Chip",
         "1": "92",
         "2": "2015-12-17",
         "3": "5.8",
         "4": "English",
         "5": "Animation",
         "6": "2025-05-17 16:22:47.252377"
        },
        {
         "0": "Alvin and the Chipmunks: The Road Chip",
         "1": "92",
         "2": "2015-12-17",
         "3": "5.8",
         "4": "English",
         "5": "Comedy",
         "6": "2025-05-17 16:22:47.252377"
        },
        {
         "0": "Alvin and the Chipmunks: The Road Chip",
         "1": "92",
         "2": "2015-12-17",
         "3": "5.8",
         "4": "English",
         "5": "Comedy",
         "6": "2025-05-17 16:22:47.252377"
        },
        {
         "0": "Alvin and the Chipmunks: The Road Chip",
         "1": "92",
         "2": "2015-12-17",
         "3": "5.8",
         "4": "English",
         "5": "Family",
         "6": "2025-05-17 16:22:47.252377"
        },
        {
         "0": "Alvin and the Chipmunks: The Road Chip",
         "1": "92",
         "2": "2015-12-17",
         "3": "5.8",
         "4": "English",
         "5": "Family",
         "6": "2025-05-17 16:22:47.252377"
        },
        {
         "0": "To Be Frank, Sinatra at 100",
         "1": "75",
         "2": "2015-12-12",
         "3": "0.0",
         "4": "English",
         "5": "Documentary",
         "6": "2025-05-17 16:22:47.252377"
        },
        {
         "0": "The Big Short",
         "1": "130",
         "2": "2015-12-11",
         "3": "7.3",
         "4": "English",
         "5": "Drama",
         "6": "2025-05-17 16:22:47.252377"
        },
        {
         "0": "The Big Short",
         "1": "130",
         "2": "2015-12-11",
         "3": "7.3",
         "4": "English",
         "5": "Drama",
         "6": "2025-05-17 16:22:47.252377"
        },
        {
         "0": "The Big Short",
         "1": "130",
         "2": "2015-12-11",
         "3": "7.3",
         "4": "English",
         "5": "Comedy",
         "6": "2025-05-17 16:22:47.252377"
        },
        {
         "0": "The Big Short",
         "1": "130",
         "2": "2015-12-11",
         "3": "7.3",
         "4": "English",
         "5": "Comedy",
         "6": "2025-05-17 16:22:47.252377"
        },
        {
         "0": "The Ridiculous 6",
         "1": "119",
         "2": "2015-12-11",
         "3": "4.9",
         "4": "English",
         "5": "Comedy",
         "6": "2025-05-17 16:22:47.252377"
        },
        {
         "0": "The Ridiculous 6",
         "1": "119",
         "2": "2015-12-11",
         "3": "4.9",
         "4": "English",
         "5": "Comedy",
         "6": "2025-05-17 16:22:47.252377"
        },
        {
         "0": "The Ridiculous 6",
         "1": "119",
         "2": "2015-12-11",
         "3": "4.9",
         "4": "English",
         "5": "Western",
         "6": "2025-05-17 16:22:47.252377"
        },
        {
         "0": "The Ridiculous 6",
         "1": "119",
         "2": "2015-12-11",
         "3": "4.9",
         "4": "English",
         "5": "Western",
         "6": "2025-05-17 16:22:47.252377"
        },
        {
         "0": "American Hero",
         "1": "86",
         "2": "2015-12-11",
         "3": "5.0",
         "4": "English",
         "5": "Action",
         "6": "2025-05-17 16:22:47.252377"
        },
        {
         "0": "American Hero",
         "1": "86",
         "2": "2015-12-11",
         "3": "5.0",
         "4": "English",
         "5": "Action",
         "6": "2025-05-17 16:22:47.252377"
        },
        {
         "0": "American Hero",
         "1": "86",
         "2": "2015-12-11",
         "3": "5.0",
         "4": "English",
         "5": "Comedy",
         "6": "2025-05-17 16:22:47.252377"
        },
        {
         "0": "American Hero",
         "1": "86",
         "2": "2015-12-11",
         "3": "5.0",
         "4": "English",
         "5": "Comedy",
         "6": "2025-05-17 16:22:47.252377"
        },
        {
         "0": "American Hero",
         "1": "86",
         "2": "2015-12-11",
         "3": "5.0",
         "4": "English",
         "5": "Science Fiction",
         "6": "2025-05-17 16:22:47.252377"
        },
        {
         "0": "American Hero",
         "1": "86",
         "2": "2015-12-11",
         "3": "5.0",
         "4": "English",
         "5": "Science Fiction",
         "6": "2025-05-17 16:22:47.252377"
        },
        {
         "0": "Close Range",
         "1": "80",
         "2": "2015-12-11",
         "3": "4.9",
         "4": "English",
         "5": "Action",
         "6": "2025-05-17 16:22:47.252377"
        },
        {
         "0": "Close Range",
         "1": "80",
         "2": "2015-12-11",
         "3": "4.9",
         "4": "English",
         "5": "Action",
         "6": "2025-05-17 16:22:47.252377"
        },
        {
         "0": "Close Range",
         "1": "80",
         "2": "2015-12-11",
         "3": "4.9",
         "4": "English",
         "5": "Crime",
         "6": "2025-05-17 16:22:47.252377"
        },
        {
         "0": "Close Range",
         "1": "80",
         "2": "2015-12-11",
         "3": "4.9",
         "4": "English",
         "5": "Crime",
         "6": "2025-05-17 16:22:47.252377"
        },
        {
         "0": "Christmas Eve",
         "1": "95",
         "2": "2015-12-04",
         "3": "6.1",
         "4": "Português",
         "5": "Comedy",
         "6": "2025-05-17 16:22:47.252377"
        },
        {
         "0": "Christmas Eve",
         "1": "95",
         "2": "2015-12-04",
         "3": "6.1",
         "4": "English",
         "5": "Comedy",
         "6": "2025-05-17 16:22:47.252377"
        },
        {
         "0": "Christmas Eve",
         "1": "95",
         "2": "2015-12-04",
         "3": "6.1",
         "4": "English",
         "5": "Comedy",
         "6": "2025-05-17 16:22:47.252377"
        },
        {
         "0": "Christmas Eve",
         "1": "95",
         "2": "2015-12-04",
         "3": "6.1",
         "4": "Português",
         "5": "Romance",
         "6": "2025-05-17 16:22:47.252377"
        },
        {
         "0": "Christmas Eve",
         "1": "95",
         "2": "2015-12-04",
         "3": "6.1",
         "4": "English",
         "5": "Romance",
         "6": "2025-05-17 16:22:47.252377"
        },
        {
         "0": "Christmas Eve",
         "1": "95",
         "2": "2015-12-04",
         "3": "6.1",
         "4": "English",
         "5": "Romance",
         "6": "2025-05-17 16:22:47.252377"
        },
        {
         "0": "Point Break",
         "1": "114",
         "2": "2015-12-03",
         "3": "5.5",
         "4": "English",
         "5": "Action",
         "6": "2025-05-17 16:22:47.252377"
        },
        {
         "0": "Point Break",
         "1": "114",
         "2": "2015-12-03",
         "3": "5.5",
         "4": "English",
         "5": "Action",
         "6": "2025-05-17 16:22:47.252377"
        },
        {
         "0": "Point Break",
         "1": "114",
         "2": "2015-12-03",
         "3": "5.5",
         "4": "English",
         "5": "Thriller",
         "6": "2025-05-17 16:22:47.252377"
        },
        {
         "0": "Point Break",
         "1": "114",
         "2": "2015-12-03",
         "3": "5.5",
         "4": "English",
         "5": "Thriller",
         "6": "2025-05-17 16:22:47.252377"
        },
        {
         "0": "Point Break",
         "1": "114",
         "2": "2015-12-03",
         "3": "5.5",
         "4": "English",
         "5": "Crime",
         "6": "2025-05-17 16:22:47.252377"
        },
        {
         "0": "Point Break",
         "1": "114",
         "2": "2015-12-03",
         "3": "5.5",
         "4": "English",
         "5": "Crime",
         "6": "2025-05-17 16:22:47.252377"
        },
        {
         "0": "Chiamatemi Francesco - Il Papa della gente",
         "1": "75",
         "2": "2015-12-03",
         "3": "7.3",
         "4": "Italiano",
         "5": "Drama",
         "6": "2025-05-17 16:22:47.252377"
        },
        {
         "0": "Chiamatemi Francesco - Il Papa della gente",
         "1": "75",
         "2": "2015-12-03",
         "3": "7.3",
         "4": "Español",
         "5": "Drama",
         "6": "2025-05-17 16:22:47.252377"
        },
        {
         "0": "Krampus",
         "1": "98",
         "2": "2015-11-26",
         "3": "5.9",
         "4": "English",
         "5": "Fantasy",
         "6": "2025-05-17 16:22:47.252377"
        },
        {
         "0": "Krampus",
         "1": "98",
         "2": "2015-11-26",
         "3": "5.9",
         "4": "Deutsch",
         "5": "Fantasy",
         "6": "2025-05-17 16:22:47.252377"
        },
        {
         "0": "Krampus",
         "1": "98",
         "2": "2015-11-26",
         "3": "5.9",
         "4": "English",
         "5": "Fantasy",
         "6": "2025-05-17 16:22:47.252377"
        },
        {
         "0": "Krampus",
         "1": "98",
         "2": "2015-11-26",
         "3": "5.9",
         "4": "English",
         "5": "Horror",
         "6": "2025-05-17 16:22:47.252377"
        },
        {
         "0": "Krampus",
         "1": "98",
         "2": "2015-11-26",
         "3": "5.9",
         "4": "Deutsch",
         "5": "Horror",
         "6": "2025-05-17 16:22:47.252377"
        },
        {
         "0": "Krampus",
         "1": "98",
         "2": "2015-11-26",
         "3": "5.9",
         "4": "English",
         "5": "Horror",
         "6": "2025-05-17 16:22:47.252377"
        },
        {
         "0": "Krampus",
         "1": "98",
         "2": "2015-11-26",
         "3": "5.9",
         "4": "English",
         "5": "Comedy",
         "6": "2025-05-17 16:22:47.252377"
        },
        {
         "0": "Krampus",
         "1": "98",
         "2": "2015-11-26",
         "3": "5.9",
         "4": "Deutsch",
         "5": "Comedy",
         "6": "2025-05-17 16:22:47.252377"
        },
        {
         "0": "Krampus",
         "1": "98",
         "2": "2015-11-26",
         "3": "5.9",
         "4": "English",
         "5": "Comedy",
         "6": "2025-05-17 16:22:47.252377"
        },
        {
         "0": "Creed",
         "1": "133",
         "2": "2015-11-25",
         "3": "7.3",
         "4": "English",
         "5": "Drama",
         "6": "2025-05-17 16:22:47.252377"
        },
        {
         "0": "Creed",
         "1": "133",
         "2": "2015-11-25",
         "3": "7.3",
         "4": "English",
         "5": "Drama",
         "6": "2025-05-17 16:22:47.252377"
        },
        {
         "0": "#Horror",
         "1": "90",
         "2": "2015-11-20",
         "3": "3.3",
         "4": "Deutsch",
         "5": "Drama",
         "6": "2025-05-17 16:22:47.252377"
        },
        {
         "0": "#Horror",
         "1": "90",
         "2": "2015-11-20",
         "3": "3.3",
         "4": "Español",
         "5": "Drama",
         "6": "2025-05-17 16:22:47.252377"
        },
        {
         "0": "#Horror",
         "1": "90",
         "2": "2015-11-20",
         "3": "3.3",
         "4": "English",
         "5": "Drama",
         "6": "2025-05-17 16:22:47.252377"
        },
        {
         "0": "#Horror",
         "1": "90",
         "2": "2015-11-20",
         "3": "3.3",
         "4": "Deutsch",
         "5": "Horror",
         "6": "2025-05-17 16:22:47.252377"
        },
        {
         "0": "#Horror",
         "1": "90",
         "2": "2015-11-20",
         "3": "3.3",
         "4": "Español",
         "5": "Horror",
         "6": "2025-05-17 16:22:47.252377"
        },
        {
         "0": "#Horror",
         "1": "90",
         "2": "2015-11-20",
         "3": "3.3",
         "4": "English",
         "5": "Horror",
         "6": "2025-05-17 16:22:47.252377"
        },
        {
         "0": "#Horror",
         "1": "90",
         "2": "2015-11-20",
         "3": "3.3",
         "4": "Deutsch",
         "5": "Thriller",
         "6": "2025-05-17 16:22:47.252377"
        },
        {
         "0": "#Horror",
         "1": "90",
         "2": "2015-11-20",
         "3": "3.3",
         "4": "Español",
         "5": "Thriller",
         "6": "2025-05-17 16:22:47.252377"
        },
        {
         "0": "#Horror",
         "1": "90",
         "2": "2015-11-20",
         "3": "3.3",
         "4": "English",
         "5": "Thriller",
         "6": "2025-05-17 16:22:47.252377"
        },
        {
         "0": "#Horror",
         "1": "90",
         "2": "2015-11-20",
         "3": "3.3",
         "4": "Deutsch",
         "5": "Mystery",
         "6": "2025-05-17 16:22:47.252377"
        },
        {
         "0": "#Horror",
         "1": "90",
         "2": "2015-11-20",
         "3": "3.3",
         "4": "Español",
         "5": "Mystery",
         "6": "2025-05-17 16:22:47.252377"
        },
        {
         "0": "#Horror",
         "1": "90",
         "2": "2015-11-20",
         "3": "3.3",
         "4": "English",
         "5": "Mystery",
         "6": "2025-05-17 16:22:47.252377"
        },
        {
         "0": "In the Heart of the Sea",
         "1": "122",
         "2": "2015-11-20",
         "3": "6.5",
         "4": "English",
         "5": "Adventure",
         "6": "2025-05-17 16:22:47.252377"
        },
        {
         "0": "In the Heart of the Sea",
         "1": "122",
         "2": "2015-11-20",
         "3": "6.5",
         "4": "English",
         "5": "Adventure",
         "6": "2025-05-17 16:22:47.252377"
        },
        {
         "0": "In the Heart of the Sea",
         "1": "122",
         "2": "2015-11-20",
         "3": "6.5",
         "4": "English",
         "5": "Drama",
         "6": "2025-05-17 16:22:47.252377"
        },
        {
         "0": "In the Heart of the Sea",
         "1": "122",
         "2": "2015-11-20",
         "3": "6.5",
         "4": "English",
         "5": "Drama",
         "6": "2025-05-17 16:22:47.252377"
        },
        {
         "0": "In the Heart of the Sea",
         "1": "122",
         "2": "2015-11-20",
         "3": "6.5",
         "4": "English",
         "5": "Action",
         "6": "2025-05-17 16:22:47.252377"
        },
        {
         "0": "In the Heart of the Sea",
         "1": "122",
         "2": "2015-11-20",
         "3": "6.5",
         "4": "English",
         "5": "Action",
         "6": "2025-05-17 16:22:47.252377"
        },
        {
         "0": "In the Heart of the Sea",
         "1": "122",
         "2": "2015-11-20",
         "3": "6.5",
         "4": "English",
         "5": "History",
         "6": "2025-05-17 16:22:47.252377"
        },
        {
         "0": "In the Heart of the Sea",
         "1": "122",
         "2": "2015-11-20",
         "3": "6.5",
         "4": "English",
         "5": "History",
         "6": "2025-05-17 16:22:47.252377"
        },
        {
         "0": "In the Heart of the Sea",
         "1": "122",
         "2": "2015-11-20",
         "3": "6.5",
         "4": "English",
         "5": "Thriller",
         "6": "2025-05-17 16:22:47.252377"
        },
        {
         "0": "In the Heart of the Sea",
         "1": "122",
         "2": "2015-11-20",
         "3": "6.5",
         "4": "English",
         "5": "Thriller",
         "6": "2025-05-17 16:22:47.252377"
        },
        {
         "0": "Criminal Activities",
         "1": "94",
         "2": "2015-11-20",
         "3": "5.8",
         "4": "English",
         "5": "Drama",
         "6": "2025-05-17 16:22:47.252377"
        },
        {
         "0": "Criminal Activities",
         "1": "94",
         "2": "2015-11-20",
         "3": "5.8",
         "4": "English",
         "5": "Drama",
         "6": "2025-05-17 16:22:47.252377"
        },
        {
         "0": "Criminal Activities",
         "1": "94",
         "2": "2015-11-20",
         "3": "5.8",
         "4": "English",
         "5": "Thriller",
         "6": "2025-05-17 16:22:47.252377"
        },
        {
         "0": "Criminal Activities",
         "1": "94",
         "2": "2015-11-20",
         "3": "5.8",
         "4": "English",
         "5": "Thriller",
         "6": "2025-05-17 16:22:47.252377"
        },
        {
         "0": "Criminal Activities",
         "1": "94",
         "2": "2015-11-20",
         "3": "5.8",
         "4": "English",
         "5": "Crime",
         "6": "2025-05-17 16:22:47.252377"
        },
        {
         "0": "Criminal Activities",
         "1": "94",
         "2": "2015-11-20",
         "3": "5.8",
         "4": "English",
         "5": "Crime",
         "6": "2025-05-17 16:22:47.252377"
        },
        {
         "0": "10 Days in a Madhouse",
         "1": "111",
         "2": "2015-11-20",
         "3": "4.3",
         "4": "English",
         "5": "Drama",
         "6": "2025-05-17 16:22:47.252377"
        },
        {
         "0": "10 Days in a Madhouse",
         "1": "111",
         "2": "2015-11-20",
         "3": "4.3",
         "4": "English",
         "5": "Drama",
         "6": "2025-05-17 16:22:47.252377"
        },
        {
         "0": "The Hunger Games: Mockingjay - Part 2",
         "1": "137",
         "2": "2015-11-18",
         "3": "6.6",
         "4": "English",
         "5": "Adventure",
         "6": "2025-05-17 16:22:47.252377"
        },
        {
         "0": "The Hunger Games: Mockingjay - Part 2",
         "1": "137",
         "2": "2015-11-18",
         "3": "6.6",
         "4": "English",
         "5": "Adventure",
         "6": "2025-05-17 16:22:47.252377"
        },
        {
         "0": "The Hunger Games: Mockingjay - Part 2",
         "1": "137",
         "2": "2015-11-18",
         "3": "6.6",
         "4": "English",
         "5": "Action",
         "6": "2025-05-17 16:22:47.252377"
        },
        {
         "0": "The Hunger Games: Mockingjay - Part 2",
         "1": "137",
         "2": "2015-11-18",
         "3": "6.6",
         "4": "English",
         "5": "Action",
         "6": "2025-05-17 16:22:47.252377"
        },
        {
         "0": "The Hunger Games: Mockingjay - Part 2",
         "1": "137",
         "2": "2015-11-18",
         "3": "6.6",
         "4": "English",
         "5": "Science Fiction",
         "6": "2025-05-17 16:22:47.252377"
        },
        {
         "0": "The Hunger Games: Mockingjay - Part 2",
         "1": "137",
         "2": "2015-11-18",
         "3": "6.6",
         "4": "English",
         "5": "Science Fiction",
         "6": "2025-05-17 16:22:47.252377"
        },
        {
         "0": "The Good Dinosaur",
         "1": "93",
         "2": "2015-11-14",
         "3": "6.6",
         "4": "English",
         "5": "Adventure",
         "6": "2025-05-17 16:22:47.252377"
        },
        {
         "0": "The Good Dinosaur",
         "1": "93",
         "2": "2015-11-14",
         "3": "6.6",
         "4": "English",
         "5": "Adventure",
         "6": "2025-05-17 16:22:47.252377"
        },
        {
         "0": "The Good Dinosaur",
         "1": "93",
         "2": "2015-11-14",
         "3": "6.6",
         "4": "English",
         "5": "Animation",
         "6": "2025-05-17 16:22:47.252377"
        },
        {
         "0": "The Good Dinosaur",
         "1": "93",
         "2": "2015-11-14",
         "3": "6.6",
         "4": "English",
         "5": "Animation",
         "6": "2025-05-17 16:22:47.252377"
        },
        {
         "0": "The Good Dinosaur",
         "1": "93",
         "2": "2015-11-14",
         "3": "6.6",
         "4": "English",
         "5": "Family",
         "6": "2025-05-17 16:22:47.252377"
        },
        {
         "0": "The Good Dinosaur",
         "1": "93",
         "2": "2015-11-14",
         "3": "6.6",
         "4": "English",
         "5": "Family",
         "6": "2025-05-17 16:22:47.252377"
        },
        {
         "0": "Heist",
         "1": "93",
         "2": "2015-11-13",
         "3": "5.6",
         "4": "English",
         "5": "Action",
         "6": "2025-05-17 16:22:47.252377"
        },
        {
         "0": "Heist",
         "1": "93",
         "2": "2015-11-13",
         "3": "5.6",
         "4": "English",
         "5": "Action",
         "6": "2025-05-17 16:22:47.252377"
        },
        {
         "0": "Heist",
         "1": "93",
         "2": "2015-11-13",
         "3": "5.6",
         "4": "English",
         "5": "Thriller",
         "6": "2025-05-17 16:22:47.252377"
        },
        {
         "0": "Heist",
         "1": "93",
         "2": "2015-11-13",
         "3": "5.6",
         "4": "English",
         "5": "Thriller",
         "6": "2025-05-17 16:22:47.252377"
        },
        {
         "0": "Heist",
         "1": "93",
         "2": "2015-11-13",
         "3": "5.6",
         "4": "English",
         "5": "Crime",
         "6": "2025-05-17 16:22:47.252377"
        },
        {
         "0": "Heist",
         "1": "93",
         "2": "2015-11-13",
         "3": "5.6",
         "4": "English",
         "5": "Crime",
         "6": "2025-05-17 16:22:47.252377"
        },
        {
         "0": "My All American",
         "1": "118",
         "2": "2015-11-13",
         "3": "6.8",
         "4": "English",
         "5": "Drama",
         "6": "2025-05-17 16:22:47.252377"
        },
        {
         "0": "My All American",
         "1": "118",
         "2": "2015-11-13",
         "3": "6.8",
         "4": "English",
         "5": "Drama",
         "6": "2025-05-17 16:22:47.252377"
        },
        {
         "0": "By the Sea",
         "1": "122",
         "2": "2015-11-12",
         "3": "5.4",
         "4": "Ukra?nska",
         "5": "Drama",
         "6": "2025-05-17 16:22:47.252377"
        },
        {
         "0": "By the Sea",
         "1": "122",
         "2": "2015-11-12",
         "3": "5.4",
         "4": "English",
         "5": "Drama",
         "6": "2025-05-17 16:22:47.252377"
        },
        {
         "0": "By the Sea",
         "1": "122",
         "2": "2015-11-12",
         "3": "5.4",
         "4": "Français",
         "5": "Drama",
         "6": "2025-05-17 16:22:47.252377"
        },
        {
         "0": "By the Sea",
         "1": "122",
         "2": "2015-11-12",
         "3": "5.4",
         "4": "English",
         "5": "Drama",
         "6": "2025-05-17 16:22:47.252377"
        },
        {
         "0": "By the Sea",
         "1": "122",
         "2": "2015-11-12",
         "3": "5.4",
         "4": "Ukra?nska",
         "5": "Romance",
         "6": "2025-05-17 16:22:47.252377"
        },
        {
         "0": "By the Sea",
         "1": "122",
         "2": "2015-11-12",
         "3": "5.4",
         "4": "English",
         "5": "Romance",
         "6": "2025-05-17 16:22:47.252377"
        },
        {
         "0": "By the Sea",
         "1": "122",
         "2": "2015-11-12",
         "3": "5.4",
         "4": "Français",
         "5": "Romance",
         "6": "2025-05-17 16:22:47.252377"
        },
        {
         "0": "By the Sea",
         "1": "122",
         "2": "2015-11-12",
         "3": "5.4",
         "4": "English",
         "5": "Romance",
         "6": "2025-05-17 16:22:47.252377"
        },
        {
         "0": "Love the Coopers",
         "1": "107",
         "2": "2015-11-12",
         "3": "5.4",
         "4": "English",
         "5": "Comedy",
         "6": "2025-05-17 16:22:47.252377"
        },
        {
         "0": "Love the Coopers",
         "1": "107",
         "2": "2015-11-12",
         "3": "5.4",
         "4": "English",
         "5": "Comedy",
         "6": "2025-05-17 16:22:47.252377"
        },
        {
         "0": "Love the Coopers",
         "1": "107",
         "2": "2015-11-12",
         "3": "5.4",
         "4": "English",
         "5": "Family",
         "6": "2025-05-17 16:22:47.252377"
        },
        {
         "0": "Love the Coopers",
         "1": "107",
         "2": "2015-11-12",
         "3": "5.4",
         "4": "English",
         "5": "Family",
         "6": "2025-05-17 16:22:47.252377"
        },
        {
         "0": "Concussion",
         "1": "123",
         "2": "2015-11-12",
         "3": "7.0",
         "4": "English",
         "5": "Drama",
         "6": "2025-05-17 16:22:47.252377"
        },
        {
         "0": "Concussion",
         "1": "123",
         "2": "2015-11-12",
         "3": "7.0",
         "4": "English",
         "5": "Drama",
         "6": "2025-05-17 16:22:47.252377"
        },
        {
         "0": "Victor Frankenstein",
         "1": "109",
         "2": "2015-11-10",
         "3": "5.6",
         "4": "English",
         "5": "Drama",
         "6": "2025-05-17 16:22:47.252377"
        },
        {
         "0": "Victor Frankenstein",
         "1": "109",
         "2": "2015-11-10",
         "3": "5.6",
         "4": "English",
         "5": "Drama",
         "6": "2025-05-17 16:22:47.252377"
        },
        {
         "0": "Victor Frankenstein",
         "1": "109",
         "2": "2015-11-10",
         "3": "5.6",
         "4": "English",
         "5": "Thriller",
         "6": "2025-05-17 16:22:47.252377"
        },
        {
         "0": "Victor Frankenstein",
         "1": "109",
         "2": "2015-11-10",
         "3": "5.6",
         "4": "English",
         "5": "Thriller",
         "6": "2025-05-17 16:22:47.252377"
        },
        {
         "0": "Victor Frankenstein",
         "1": "109",
         "2": "2015-11-10",
         "3": "5.6",
         "4": "English",
         "5": "Science Fiction",
         "6": "2025-05-17 16:22:47.252377"
        },
        {
         "0": "Victor Frankenstein",
         "1": "109",
         "2": "2015-11-10",
         "3": "5.6",
         "4": "English",
         "5": "Science Fiction",
         "6": "2025-05-17 16:22:47.252377"
        },
        {
         "0": "Spotlight",
         "1": "128",
         "2": "2015-11-06",
         "3": "7.8",
         "4": "English",
         "5": "Drama",
         "6": "2025-05-17 16:22:47.252377"
        },
        {
         "0": "Spotlight",
         "1": "128",
         "2": "2015-11-06",
         "3": "7.8",
         "4": "English",
         "5": "Drama",
         "6": "2025-05-17 16:22:47.252377"
        },
        {
         "0": "Spotlight",
         "1": "128",
         "2": "2015-11-06",
         "3": "7.8",
         "4": "English",
         "5": "History",
         "6": "2025-05-17 16:22:47.252377"
        },
        {
         "0": "Spotlight",
         "1": "128",
         "2": "2015-11-06",
         "3": "7.8",
         "4": "English",
         "5": "History",
         "6": "2025-05-17 16:22:47.252377"
        },
        {
         "0": "Spotlight",
         "1": "128",
         "2": "2015-11-06",
         "3": "7.8",
         "4": "English",
         "5": "Thriller",
         "6": "2025-05-17 16:22:47.252377"
        },
        {
         "0": "Spotlight",
         "1": "128",
         "2": "2015-11-06",
         "3": "7.8",
         "4": "English",
         "5": "Thriller",
         "6": "2025-05-17 16:22:47.252377"
        },
        {
         "0": "The Peanuts Movie",
         "1": "88",
         "2": "2015-11-05",
         "3": "6.5",
         "4": "English",
         "5": "Animation",
         "6": "2025-05-17 16:22:47.252377"
        },
        {
         "0": "The Peanuts Movie",
         "1": "88",
         "2": "2015-11-05",
         "3": "6.5",
         "4": "English",
         "5": "Animation",
         "6": "2025-05-17 16:22:47.252377"
        },
        {
         "0": "Don Gato: El inicio de la pandilla",
         "1": "89",
         "2": "2015-10-30",
         "3": "5.3",
         "4": "Español",
         "5": "Animation",
         "6": "2025-05-17 16:22:47.252377"
        },
        {
         "0": "Don Gato: El inicio de la pandilla",
         "1": "89",
         "2": "2015-10-30",
         "3": "5.3",
         "4": "Español",
         "5": "Comedy",
         "6": "2025-05-17 16:22:47.252377"
        },
        {
         "0": "Running Forever",
         "1": "88",
         "2": "2015-10-27",
         "3": "0.0",
         "4": "English",
         "5": "Family",
         "6": "2025-05-17 16:22:47.252377"
        },
        {
         "0": "Spectre",
         "1": "148",
         "2": "2015-10-26",
         "3": "6.3",
         "4": "English",
         "5": "Adventure",
         "6": "2025-05-17 16:22:47.252377"
        },
        {
         "0": "Spectre",
         "1": "148",
         "2": "2015-10-26",
         "3": "6.3",
         "4": "Italiano",
         "5": "Adventure",
         "6": "2025-05-17 16:22:47.252377"
        },
        {
         "0": "Spectre",
         "1": "148",
         "2": "2015-10-26",
         "3": "6.3",
         "4": "Español",
         "5": "Adventure",
         "6": "2025-05-17 16:22:47.252377"
        },
        {
         "0": "Spectre",
         "1": "148",
         "2": "2015-10-26",
         "3": "6.3",
         "4": "Français",
         "5": "Adventure",
         "6": "2025-05-17 16:22:47.252377"
        },
        {
         "0": "Spectre",
         "1": "148",
         "2": "2015-10-26",
         "3": "6.3",
         "4": "Deutsch",
         "5": "Adventure",
         "6": "2025-05-17 16:22:47.252377"
        },
        {
         "0": "Spectre",
         "1": "148",
         "2": "2015-10-26",
         "3": "6.3",
         "4": "English",
         "5": "Adventure",
         "6": "2025-05-17 16:22:47.252377"
        },
        {
         "0": "Spectre",
         "1": "148",
         "2": "2015-10-26",
         "3": "6.3",
         "4": "English",
         "5": "Action",
         "6": "2025-05-17 16:22:47.252377"
        },
        {
         "0": "Spectre",
         "1": "148",
         "2": "2015-10-26",
         "3": "6.3",
         "4": "Italiano",
         "5": "Action",
         "6": "2025-05-17 16:22:47.252377"
        },
        {
         "0": "Spectre",
         "1": "148",
         "2": "2015-10-26",
         "3": "6.3",
         "4": "Español",
         "5": "Action",
         "6": "2025-05-17 16:22:47.252377"
        },
        {
         "0": "Spectre",
         "1": "148",
         "2": "2015-10-26",
         "3": "6.3",
         "4": "Français",
         "5": "Action",
         "6": "2025-05-17 16:22:47.252377"
        },
        {
         "0": "Spectre",
         "1": "148",
         "2": "2015-10-26",
         "3": "6.3",
         "4": "Deutsch",
         "5": "Action",
         "6": "2025-05-17 16:22:47.252377"
        },
        {
         "0": "Spectre",
         "1": "148",
         "2": "2015-10-26",
         "3": "6.3",
         "4": "English",
         "5": "Action",
         "6": "2025-05-17 16:22:47.252377"
        },
        {
         "0": "Spectre",
         "1": "148",
         "2": "2015-10-26",
         "3": "6.3",
         "4": "English",
         "5": "Crime",
         "6": "2025-05-17 16:22:47.252377"
        },
        {
         "0": "Spectre",
         "1": "148",
         "2": "2015-10-26",
         "3": "6.3",
         "4": "Italiano",
         "5": "Crime",
         "6": "2025-05-17 16:22:47.252377"
        },
        {
         "0": "Spectre",
         "1": "148",
         "2": "2015-10-26",
         "3": "6.3",
         "4": "Español",
         "5": "Crime",
         "6": "2025-05-17 16:22:47.252377"
        },
        {
         "0": "Spectre",
         "1": "148",
         "2": "2015-10-26",
         "3": "6.3",
         "4": "Français",
         "5": "Crime",
         "6": "2025-05-17 16:22:47.252377"
        },
        {
         "0": "Spectre",
         "1": "148",
         "2": "2015-10-26",
         "3": "6.3",
         "4": "Deutsch",
         "5": "Crime",
         "6": "2025-05-17 16:22:47.252377"
        },
        {
         "0": "Spectre",
         "1": "148",
         "2": "2015-10-26",
         "3": "6.3",
         "4": "English",
         "5": "Crime",
         "6": "2025-05-17 16:22:47.252377"
        },
        {
         "0": "Eden",
         "1": "97",
         "2": "2015-10-22",
         "3": "5.6",
         "4": "English",
         "5": "Drama",
         "6": "2025-05-17 16:22:47.252377"
        },
        {
         "0": "Eden",
         "1": "97",
         "2": "2015-10-22",
         "3": "5.6",
         "4": "English",
         "5": "Drama",
         "6": "2025-05-17 16:22:47.252377"
        },
        {
         "0": "Eden",
         "1": "97",
         "2": "2015-10-22",
         "3": "5.6",
         "4": "English",
         "5": "Thriller",
         "6": "2025-05-17 16:22:47.252377"
        },
        {
         "0": "Eden",
         "1": "97",
         "2": "2015-10-22",
         "3": "5.6",
         "4": "English",
         "5": "Thriller",
         "6": "2025-05-17 16:22:47.252377"
        },
        {
         "0": "The Last Witch Hunter",
         "1": "106",
         "2": "2015-10-21",
         "3": "5.7",
         "4": "English",
         "5": "Adventure",
         "6": "2025-05-17 16:22:47.252377"
        },
        {
         "0": "The Last Witch Hunter",
         "1": "106",
         "2": "2015-10-21",
         "3": "5.7",
         "4": "English",
         "5": "Adventure",
         "6": "2025-05-17 16:22:47.252377"
        },
        {
         "0": "The Last Witch Hunter",
         "1": "106",
         "2": "2015-10-21",
         "3": "5.7",
         "4": "English",
         "5": "Fantasy",
         "6": "2025-05-17 16:22:47.252377"
        },
        {
         "0": "The Last Witch Hunter",
         "1": "106",
         "2": "2015-10-21",
         "3": "5.7",
         "4": "English",
         "5": "Fantasy",
         "6": "2025-05-17 16:22:47.252377"
        },
        {
         "0": "The Last Witch Hunter",
         "1": "106",
         "2": "2015-10-21",
         "3": "5.7",
         "4": "English",
         "5": "Action",
         "6": "2025-05-17 16:22:47.252377"
        },
        {
         "0": "The Last Witch Hunter",
         "1": "106",
         "2": "2015-10-21",
         "3": "5.7",
         "4": "English",
         "5": "Action",
         "6": "2025-05-17 16:22:47.252377"
        },
        {
         "0": "Brooklyn",
         "1": "111",
         "2": "2015-10-20",
         "3": "7.2",
         "4": "English",
         "5": "Drama",
         "6": "2025-05-17 16:22:47.252377"
        },
        {
         "0": "Brooklyn",
         "1": "111",
         "2": "2015-10-20",
         "3": "7.2",
         "4": "English",
         "5": "Drama",
         "6": "2025-05-17 16:22:47.252377"
        },
        {
         "0": "Brooklyn",
         "1": "111",
         "2": "2015-10-20",
         "3": "7.2",
         "4": "English",
         "5": "Romance",
         "6": "2025-05-17 16:22:47.252377"
        },
        {
         "0": "Brooklyn",
         "1": "111",
         "2": "2015-10-20",
         "3": "7.2",
         "4": "English",
         "5": "Romance",
         "6": "2025-05-17 16:22:47.252377"
        },
        {
         "0": "Rotor DR1",
         "1": "98",
         "2": "2015-10-20",
         "3": "4.7",
         "4": "English",
         "5": "Science Fiction",
         "6": "2025-05-17 16:22:47.252377"
        },
        {
         "0": "Rotor DR1",
         "1": "98",
         "2": "2015-10-20",
         "3": "4.7",
         "4": "English",
         "5": "Family",
         "6": "2025-05-17 16:22:47.252377"
        },
        {
         "0": "Dancin' It's On",
         "1": "89",
         "2": "2015-10-16",
         "3": "4.3",
         "4": "Ceština",
         "5": "Drama",
         "6": "2025-05-17 16:22:47.252377"
        },
        {
         "0": "Dancin' It's On",
         "1": "89",
         "2": "2015-10-16",
         "3": "4.3",
         "4": "English",
         "5": "Drama",
         "6": "2025-05-17 16:22:47.252377"
        },
        {
         "0": "Dancin' It's On",
         "1": "89",
         "2": "2015-10-16",
         "3": "4.3",
         "4": "Ceština",
         "5": "Romance",
         "6": "2025-05-17 16:22:47.252377"
        },
        {
         "0": "Dancin' It's On",
         "1": "89",
         "2": "2015-10-16",
         "3": "4.3",
         "4": "English",
         "5": "Romance",
         "6": "2025-05-17 16:22:47.252377"
        },
        {
         "0": "Mi America",
         "1": "126",
         "2": "2015-10-16",
         "3": "0.0",
         "4": "English",
         "5": "Drama",
         "6": "2025-05-17 16:22:47.252377"
        },
        {
         "0": "Mi America",
         "1": "126",
         "2": "2015-10-16",
         "3": "0.0",
         "4": "Español",
         "5": "Drama",
         "6": "2025-05-17 16:22:47.252377"
        },
        {
         "0": "Mi America",
         "1": "126",
         "2": "2015-10-16",
         "3": "0.0",
         "4": "English",
         "5": "Drama",
         "6": "2025-05-17 16:22:47.252377"
        },
        {
         "0": "Mi America",
         "1": "126",
         "2": "2015-10-16",
         "3": "0.0",
         "4": "English",
         "5": "Crime",
         "6": "2025-05-17 16:22:47.252377"
        },
        {
         "0": "Mi America",
         "1": "126",
         "2": "2015-10-16",
         "3": "0.0",
         "4": "Español",
         "5": "Crime",
         "6": "2025-05-17 16:22:47.252377"
        },
        {
         "0": "Mi America",
         "1": "126",
         "2": "2015-10-16",
         "3": "0.0",
         "4": "English",
         "5": "Crime",
         "6": "2025-05-17 16:22:47.252377"
        },
        {
         "0": "Room",
         "1": "117",
         "2": "2015-10-16",
         "3": "8.1",
         "4": "English",
         "5": "Drama",
         "6": "2025-05-17 16:22:47.252377"
        },
        {
         "0": "Room",
         "1": "117",
         "2": "2015-10-16",
         "3": "8.1",
         "4": "English",
         "5": "Drama",
         "6": "2025-05-17 16:22:47.252377"
        },
        {
         "0": "Room",
         "1": "117",
         "2": "2015-10-16",
         "3": "8.1",
         "4": "English",
         "5": "Thriller",
         "6": "2025-05-17 16:22:47.252377"
        },
        {
         "0": "Room",
         "1": "117",
         "2": "2015-10-16",
         "3": "8.1",
         "4": "English",
         "5": "Thriller",
         "6": "2025-05-17 16:22:47.252377"
        },
        {
         "0": "The Wicked Within",
         "1": "91",
         "2": "2015-10-16",
         "3": "4.2",
         "4": "English",
         "5": "Horror",
         "6": "2025-05-17 16:22:47.252377"
        },
        {
         "0": "The Wicked Within",
         "1": "91",
         "2": "2015-10-16",
         "3": "4.2",
         "4": "English",
         "5": "Horror",
         "6": "2025-05-17 16:22:47.252377"
        },
        {
         "0": "Unnatural",
         "1": "89",
         "2": "2015-10-16",
         "3": "4.3",
         "4": "English",
         "5": "Horror",
         "6": "2025-05-17 16:22:47.252377"
        },
        {
         "0": "Unnatural",
         "1": "89",
         "2": "2015-10-16",
         "3": "4.3",
         "4": "English",
         "5": "Horror",
         "6": "2025-05-17 16:22:47.252377"
        },
        {
         "0": "Unnatural",
         "1": "89",
         "2": "2015-10-16",
         "3": "4.3",
         "4": "English",
         "5": "Action",
         "6": "2025-05-17 16:22:47.252377"
        },
        {
         "0": "Unnatural",
         "1": "89",
         "2": "2015-10-16",
         "3": "4.3",
         "4": "English",
         "5": "Action",
         "6": "2025-05-17 16:22:47.252377"
        },
        {
         "0": "Unnatural",
         "1": "89",
         "2": "2015-10-16",
         "3": "4.3",
         "4": "English",
         "5": "Thriller",
         "6": "2025-05-17 16:22:47.252377"
        },
        {
         "0": "Unnatural",
         "1": "89",
         "2": "2015-10-16",
         "3": "4.3",
         "4": "English",
         "5": "Thriller",
         "6": "2025-05-17 16:22:47.252377"
        },
        {
         "0": "Re-Kill",
         "1": "87",
         "2": "2015-10-16",
         "3": "4.9",
         "4": "English",
         "5": "Horror",
         "6": "2025-05-17 16:22:47.252377"
        },
        {
         "0": "Re-Kill",
         "1": "87",
         "2": "2015-10-16",
         "3": "4.9",
         "4": "English",
         "5": "Horror",
         "6": "2025-05-17 16:22:47.252377"
        },
        {
         "0": "Re-Kill",
         "1": "87",
         "2": "2015-10-16",
         "3": "4.9",
         "4": "English",
         "5": "Science Fiction",
         "6": "2025-05-17 16:22:47.252377"
        },
        {
         "0": "Re-Kill",
         "1": "87",
         "2": "2015-10-16",
         "3": "4.9",
         "4": "English",
         "5": "Science Fiction",
         "6": "2025-05-17 16:22:47.252377"
        },
        {
         "0": "Bridge of Spies",
         "1": "141",
         "2": "2015-10-15",
         "3": "7.2",
         "4": "English",
         "5": "Drama",
         "6": "2025-05-17 16:22:47.252377"
        },
        {
         "0": "Bridge of Spies",
         "1": "141",
         "2": "2015-10-15",
         "3": "7.2",
         "4": "Russkii âzyk",
         "5": "Drama",
         "6": "2025-05-17 16:22:47.252377"
        },
        {
         "0": "Bridge of Spies",
         "1": "141",
         "2": "2015-10-15",
         "3": "7.2",
         "4": "Deutsch",
         "5": "Drama",
         "6": "2025-05-17 16:22:47.252377"
        },
        {
         "0": "Bridge of Spies",
         "1": "141",
         "2": "2015-10-15",
         "3": "7.2",
         "4": "English",
         "5": "Drama",
         "6": "2025-05-17 16:22:47.252377"
        },
        {
         "0": "Bridge of Spies",
         "1": "141",
         "2": "2015-10-15",
         "3": "7.2",
         "4": "English",
         "5": "Thriller",
         "6": "2025-05-17 16:22:47.252377"
        },
        {
         "0": "Bridge of Spies",
         "1": "141",
         "2": "2015-10-15",
         "3": "7.2",
         "4": "Russkii âzyk",
         "5": "Thriller",
         "6": "2025-05-17 16:22:47.252377"
        },
        {
         "0": "Bridge of Spies",
         "1": "141",
         "2": "2015-10-15",
         "3": "7.2",
         "4": "Deutsch",
         "5": "Thriller",
         "6": "2025-05-17 16:22:47.252377"
        },
        {
         "0": "Bridge of Spies",
         "1": "141",
         "2": "2015-10-15",
         "3": "7.2",
         "4": "English",
         "5": "Thriller",
         "6": "2025-05-17 16:22:47.252377"
        },
        {
         "0": "Secret in Their Eyes",
         "1": "111",
         "2": "2015-10-14",
         "3": "6.2",
         "4": "English",
         "5": "Drama",
         "6": "2025-05-17 16:22:47.252377"
        },
        {
         "0": "Secret in Their Eyes",
         "1": "111",
         "2": "2015-10-14",
         "3": "6.2",
         "4": "English",
         "5": "Drama",
         "6": "2025-05-17 16:22:47.252377"
        },
        {
         "0": "Secret in Their Eyes",
         "1": "111",
         "2": "2015-10-14",
         "3": "6.2",
         "4": "English",
         "5": "Crime",
         "6": "2025-05-17 16:22:47.252377"
        },
        {
         "0": "Secret in Their Eyes",
         "1": "111",
         "2": "2015-10-14",
         "3": "6.2",
         "4": "English",
         "5": "Crime",
         "6": "2025-05-17 16:22:47.252377"
        },
        {
         "0": "Secret in Their Eyes",
         "1": "111",
         "2": "2015-10-14",
         "3": "6.2",
         "4": "English",
         "5": "Mystery",
         "6": "2025-05-17 16:22:47.252377"
        },
        {
         "0": "Secret in Their Eyes",
         "1": "111",
         "2": "2015-10-14",
         "3": "6.2",
         "4": "English",
         "5": "Mystery",
         "6": "2025-05-17 16:22:47.252377"
        },
        {
         "0": "They Will Have to Kill Us First",
         "1": "105",
         "2": "2015-10-13",
         "3": "5.0",
         "4": "Bamanankan",
         "5": "Documentary",
         "6": "2025-05-17 16:22:47.252377"
        },
        {
         "0": "They Will Have to Kill Us First",
         "1": "105",
         "2": "2015-10-13",
         "3": "5.0",
         "4": "Français",
         "5": "Documentary",
         "6": "2025-05-17 16:22:47.252377"
        },
        {
         "0": "They Will Have to Kill Us First",
         "1": "105",
         "2": "2015-10-13",
         "3": "5.0",
         "4": "Français",
         "5": "Documentary",
         "6": "2025-05-17 16:22:47.252377"
        },
        {
         "0": "They Will Have to Kill Us First",
         "1": "105",
         "2": "2015-10-13",
         "3": "5.0",
         "4": "English",
         "5": "Documentary",
         "6": "2025-05-17 16:22:47.252377"
        },
        {
         "0": "They Will Have to Kill Us First",
         "1": "105",
         "2": "2015-10-13",
         "3": "5.0",
         "4": "Bamanankan",
         "5": "Music",
         "6": "2025-05-17 16:22:47.252377"
        },
        {
         "0": "They Will Have to Kill Us First",
         "1": "105",
         "2": "2015-10-13",
         "3": "5.0",
         "4": "Français",
         "5": "Music",
         "6": "2025-05-17 16:22:47.252377"
        },
        {
         "0": "They Will Have to Kill Us First",
         "1": "105",
         "2": "2015-10-13",
         "3": "5.0",
         "4": "Français",
         "5": "Music",
         "6": "2025-05-17 16:22:47.252377"
        },
        {
         "0": "They Will Have to Kill Us First",
         "1": "105",
         "2": "2015-10-13",
         "3": "5.0",
         "4": "English",
         "5": "Music",
         "6": "2025-05-17 16:22:47.252377"
        },
        {
         "0": "Steve Jobs",
         "1": "122",
         "2": "2015-10-09",
         "3": "6.8",
         "4": "English",
         "5": "Drama",
         "6": "2025-05-17 16:22:47.252377"
        },
        {
         "0": "Steve Jobs",
         "1": "122",
         "2": "2015-10-09",
         "3": "6.8",
         "4": "English",
         "5": "Drama",
         "6": "2025-05-17 16:22:47.252377"
        },
        {
         "0": "Steve Jobs",
         "1": "122",
         "2": "2015-10-09",
         "3": "6.8",
         "4": "English",
         "5": "History",
         "6": "2025-05-17 16:22:47.252377"
        },
        {
         "0": "Steve Jobs",
         "1": "122",
         "2": "2015-10-09",
         "3": "6.8",
         "4": "English",
         "5": "History",
         "6": "2025-05-17 16:22:47.252377"
        },
        {
         "0": "Western Religion",
         "1": "106",
         "2": "2015-10-09",
         "3": "0.0",
         "4": "English",
         "5": "Western",
         "6": "2025-05-17 16:22:47.252377"
        },
        {
         "0": "Western Religion",
         "1": "106",
         "2": "2015-10-09",
         "3": "0.0",
         "4": "English",
         "5": "Western",
         "6": "2025-05-17 16:22:47.252377"
        },
        {
         "0": "Navy Seals vs. Zombies",
         "1": "97",
         "2": "2015-10-08",
         "3": "3.5",
         "4": "English",
         "5": "Horror",
         "6": "2025-05-17 16:22:47.252377"
        },
        {
         "0": "Navy Seals vs. Zombies",
         "1": "97",
         "2": "2015-10-08",
         "3": "3.5",
         "4": "English",
         "5": "Horror",
         "6": "2025-05-17 16:22:47.252377"
        },
        {
         "0": "Navy Seals vs. Zombies",
         "1": "97",
         "2": "2015-10-08",
         "3": "3.5",
         "4": "English",
         "5": "Action",
         "6": "2025-05-17 16:22:47.252377"
        },
        {
         "0": "Navy Seals vs. Zombies",
         "1": "97",
         "2": "2015-10-08",
         "3": "3.5",
         "4": "English",
         "5": "Action",
         "6": "2025-05-17 16:22:47.252377"
        },
        {
         "0": "Dutch Kills",
         "1": "90",
         "2": "2015-10-02",
         "3": "0.0",
         "4": "English",
         "5": "Drama",
         "6": "2025-05-17 16:22:47.252377"
        },
        {
         "0": "Dutch Kills",
         "1": "90",
         "2": "2015-10-02",
         "3": "0.0",
         "4": "English",
         "5": "Thriller",
         "6": "2025-05-17 16:22:47.252377"
        },
        {
         "0": "Dutch Kills",
         "1": "90",
         "2": "2015-10-02",
         "3": "0.0",
         "4": "English",
         "5": "Crime",
         "6": "2025-05-17 16:22:47.252377"
        },
        {
         "0": "Shark Lake",
         "1": "92",
         "2": "2015-10-02",
         "3": "4.4",
         "4": "English",
         "5": "Thriller",
         "6": "2025-05-17 16:22:47.252377"
        },
        {
         "0": "Shark Lake",
         "1": "92",
         "2": "2015-10-02",
         "3": "4.4",
         "4": "English",
         "5": "Thriller",
         "6": "2025-05-17 16:22:47.252377"
        },
        {
         "0": "Burnt",
         "1": "100",
         "2": "2015-10-02",
         "3": "6.3",
         "4": "English",
         "5": "Drama",
         "6": "2025-05-17 16:22:47.252377"
        },
        {
         "0": "Burnt",
         "1": "100",
         "2": "2015-10-02",
         "3": "6.3",
         "4": "Français",
         "5": "Drama",
         "6": "2025-05-17 16:22:47.252377"
        },
        {
         "0": "Burnt",
         "1": "100",
         "2": "2015-10-02",
         "3": "6.3",
         "4": "English",
         "5": "Drama",
         "6": "2025-05-17 16:22:47.252377"
        },
        {
         "0": "Freeheld",
         "1": "103",
         "2": "2015-10-02",
         "3": "7.1",
         "4": "English",
         "5": "Drama",
         "6": "2025-05-17 16:22:47.252377"
        },
        {
         "0": "Freeheld",
         "1": "103",
         "2": "2015-10-02",
         "3": "7.1",
         "4": "English",
         "5": "Drama",
         "6": "2025-05-17 16:22:47.252377"
        },
        {
         "0": "Freeheld",
         "1": "103",
         "2": "2015-10-02",
         "3": "7.1",
         "4": "English",
         "5": "Romance",
         "6": "2025-05-17 16:22:47.252377"
        },
        {
         "0": "Freeheld",
         "1": "103",
         "2": "2015-10-02",
         "3": "7.1",
         "4": "English",
         "5": "Romance",
         "6": "2025-05-17 16:22:47.252377"
        },
        {
         "0": "Circle",
         "1": "87",
         "2": "2015-10-02",
         "3": "6.0",
         "4": "English",
         "5": "Horror",
         "6": "2025-05-17 16:22:47.252377"
        },
        {
         "0": "Circle",
         "1": "87",
         "2": "2015-10-02",
         "3": "6.0",
         "4": "English",
         "5": "Horror",
         "6": "2025-05-17 16:22:47.252377"
        },
        {
         "0": "Circle",
         "1": "87",
         "2": "2015-10-02",
         "3": "6.0",
         "4": "English",
         "5": "Science Fiction",
         "6": "2025-05-17 16:22:47.252377"
        },
        {
         "0": "Circle",
         "1": "87",
         "2": "2015-10-02",
         "3": "6.0",
         "4": "English",
         "5": "Science Fiction",
         "6": "2025-05-17 16:22:47.252377"
        },
        {
         "0": "Regression",
         "1": "106",
         "2": "2015-10-01",
         "3": "5.3",
         "4": "English",
         "5": "Horror",
         "6": "2025-05-17 16:22:47.252377"
        },
        {
         "0": "Regression",
         "1": "106",
         "2": "2015-10-01",
         "3": "5.3",
         "4": "English",
         "5": "Horror",
         "6": "2025-05-17 16:22:47.252377"
        },
        {
         "0": "Regression",
         "1": "106",
         "2": "2015-10-01",
         "3": "5.3",
         "4": "English",
         "5": "Thriller",
         "6": "2025-05-17 16:22:47.252377"
        },
        {
         "0": "Regression",
         "1": "106",
         "2": "2015-10-01",
         "3": "5.3",
         "4": "English",
         "5": "Thriller",
         "6": "2025-05-17 16:22:47.252377"
        },
        {
         "0": "Regression",
         "1": "106",
         "2": "2015-10-01",
         "3": "5.3",
         "4": "English",
         "5": "Mystery",
         "6": "2025-05-17 16:22:47.252377"
        },
        {
         "0": "Regression",
         "1": "106",
         "2": "2015-10-01",
         "3": "5.3",
         "4": "English",
         "5": "Mystery",
         "6": "2025-05-17 16:22:47.252377"
        },
        {
         "0": "The Walk",
         "1": "123",
         "2": "2015-09-30",
         "3": "6.9",
         "4": "English",
         "5": "Adventure",
         "6": "2025-05-17 16:22:47.252377"
        },
        {
         "0": "The Walk",
         "1": "123",
         "2": "2015-09-30",
         "3": "6.9",
         "4": "Français",
         "5": "Adventure",
         "6": "2025-05-17 16:22:47.252377"
        },
        {
         "0": "The Walk",
         "1": "123",
         "2": "2015-09-30",
         "3": "6.9",
         "4": "English",
         "5": "Adventure",
         "6": "2025-05-17 16:22:47.252377"
        },
        {
         "0": "The Walk",
         "1": "123",
         "2": "2015-09-30",
         "3": "6.9",
         "4": "English",
         "5": "Drama",
         "6": "2025-05-17 16:22:47.252377"
        },
        {
         "0": "The Walk",
         "1": "123",
         "2": "2015-09-30",
         "3": "6.9",
         "4": "Français",
         "5": "Drama",
         "6": "2025-05-17 16:22:47.252377"
        },
        {
         "0": "The Walk",
         "1": "123",
         "2": "2015-09-30",
         "3": "6.9",
         "4": "English",
         "5": "Drama",
         "6": "2025-05-17 16:22:47.252377"
        },
        {
         "0": "The Walk",
         "1": "123",
         "2": "2015-09-30",
         "3": "6.9",
         "4": "English",
         "5": "Thriller",
         "6": "2025-05-17 16:22:47.252377"
        },
        {
         "0": "The Walk",
         "1": "123",
         "2": "2015-09-30",
         "3": "6.9",
         "4": "Français",
         "5": "Thriller",
         "6": "2025-05-17 16:22:47.252377"
        },
        {
         "0": "The Walk",
         "1": "123",
         "2": "2015-09-30",
         "3": "6.9",
         "4": "English",
         "5": "Thriller",
         "6": "2025-05-17 16:22:47.252377"
        },
        {
         "0": "The Martian",
         "1": "141",
         "2": "2015-09-30",
         "3": "7.6",
         "4": "English",
         "5": "Adventure",
         "6": "2025-05-17 16:22:47.252377"
        },
        {
         "0": "The Martian",
         "1": "141",
         "2": "2015-09-30",
         "3": "7.6",
         "4": "Zhongwén",
         "5": "Adventure",
         "6": "2025-05-17 16:22:47.252377"
        },
        {
         "0": "The Martian",
         "1": "141",
         "2": "2015-09-30",
         "3": "7.6",
         "4": "English",
         "5": "Adventure",
         "6": "2025-05-17 16:22:47.252377"
        },
        {
         "0": "The Martian",
         "1": "141",
         "2": "2015-09-30",
         "3": "7.6",
         "4": "English",
         "5": "Drama",
         "6": "2025-05-17 16:22:47.252377"
        },
        {
         "0": "The Martian",
         "1": "141",
         "2": "2015-09-30",
         "3": "7.6",
         "4": "Zhongwén",
         "5": "Drama",
         "6": "2025-05-17 16:22:47.252377"
        },
        {
         "0": "The Martian",
         "1": "141",
         "2": "2015-09-30",
         "3": "7.6",
         "4": "English",
         "5": "Drama",
         "6": "2025-05-17 16:22:47.252377"
        },
        {
         "0": "The Martian",
         "1": "141",
         "2": "2015-09-30",
         "3": "7.6",
         "4": "English",
         "5": "Science Fiction",
         "6": "2025-05-17 16:22:47.252377"
        },
        {
         "0": "The Martian",
         "1": "141",
         "2": "2015-09-30",
         "3": "7.6",
         "4": "Zhongwén",
         "5": "Science Fiction",
         "6": "2025-05-17 16:22:47.252377"
        },
        {
         "0": "The Martian",
         "1": "141",
         "2": "2015-09-30",
         "3": "7.6",
         "4": "English",
         "5": "Science Fiction",
         "6": "2025-05-17 16:22:47.252377"
        },
        {
         "0": "R.L. Stine's Monsterville: The Cabinet of Souls",
         "1": "85",
         "2": "2015-09-29",
         "3": "6.9",
         "4": "English",
         "5": "Horror",
         "6": "2025-05-17 16:22:47.252377"
        },
        {
         "0": "R.L. Stine's Monsterville: The Cabinet of Souls",
         "1": "85",
         "2": "2015-09-29",
         "3": "6.9",
         "4": "English",
         "5": "Horror",
         "6": "2025-05-17 16:22:47.252377"
        },
        {
         "0": "R.L. Stine's Monsterville: The Cabinet of Souls",
         "1": "85",
         "2": "2015-09-29",
         "3": "6.9",
         "4": "English",
         "5": "Comedy",
         "6": "2025-05-17 16:22:47.252377"
        },
        {
         "0": "R.L. Stine's Monsterville: The Cabinet of Souls",
         "1": "85",
         "2": "2015-09-29",
         "3": "6.9",
         "4": "English",
         "5": "Comedy",
         "6": "2025-05-17 16:22:47.252377"
        },
        {
         "0": "Queen Crab",
         "1": "90",
         "2": "2015-09-29",
         "3": "3.3",
         "4": "English",
         "5": "Science Fiction",
         "6": "2025-05-17 16:22:47.252377"
        },
        {
         "0": "Queen Crab",
         "1": "90",
         "2": "2015-09-29",
         "3": "3.3",
         "4": "English",
         "5": "Science Fiction",
         "6": "2025-05-17 16:22:47.252377"
        },
        {
         "0": "Theresa Is a Mother",
         "1": "105",
         "2": "2015-09-25",
         "3": "0.0",
         "4": "English",
         "5": "Drama",
         "6": "2025-05-17 16:22:47.252377"
        },
        {
         "0": "Theresa Is a Mother",
         "1": "105",
         "2": "2015-09-25",
         "3": "0.0",
         "4": "English",
         "5": "Drama",
         "6": "2025-05-17 16:22:47.252377"
        },
        {
         "0": "Theresa Is a Mother",
         "1": "105",
         "2": "2015-09-25",
         "3": "0.0",
         "4": "English",
         "5": "Comedy",
         "6": "2025-05-17 16:22:47.252377"
        },
        {
         "0": "Theresa Is a Mother",
         "1": "105",
         "2": "2015-09-25",
         "3": "0.0",
         "4": "English",
         "5": "Comedy",
         "6": "2025-05-17 16:22:47.252377"
        },
        {
         "0": "Theresa Is a Mother",
         "1": "105",
         "2": "2015-09-25",
         "3": "0.0",
         "4": "English",
         "5": "Music",
         "6": "2025-05-17 16:22:47.252377"
        },
        {
         "0": "Theresa Is a Mother",
         "1": "105",
         "2": "2015-09-25",
         "3": "0.0",
         "4": "English",
         "5": "Music",
         "6": "2025-05-17 16:22:47.252377"
        },
        {
         "0": "Pan",
         "1": "111",
         "2": "2015-09-24",
         "3": "5.9",
         "4": "English",
         "5": "Adventure",
         "6": "2025-05-17 16:22:47.252377"
        },
        {
         "0": "Pan",
         "1": "111",
         "2": "2015-09-24",
         "3": "5.9",
         "4": "English",
         "5": "Adventure",
         "6": "2025-05-17 16:22:47.252377"
        },
        {
         "0": "Pan",
         "1": "111",
         "2": "2015-09-24",
         "3": "5.9",
         "4": "English",
         "5": "Fantasy",
         "6": "2025-05-17 16:22:47.252377"
        },
        {
         "0": "Pan",
         "1": "111",
         "2": "2015-09-24",
         "3": "5.9",
         "4": "English",
         "5": "Fantasy",
         "6": "2025-05-17 16:22:47.252377"
        },
        {
         "0": "Pan",
         "1": "111",
         "2": "2015-09-24",
         "3": "5.9",
         "4": "English",
         "5": "Family",
         "6": "2025-05-17 16:22:47.252377"
        },
        {
         "0": "Pan",
         "1": "111",
         "2": "2015-09-24",
         "3": "5.9",
         "4": "English",
         "5": "Family",
         "6": "2025-05-17 16:22:47.252377"
        },
        {
         "0": "The Intern",
         "1": "121",
         "2": "2015-09-24",
         "3": "7.1",
         "4": "English",
         "5": "Comedy",
         "6": "2025-05-17 16:22:47.252377"
        },
        {
         "0": "The Intern",
         "1": "121",
         "2": "2015-09-24",
         "3": "7.1",
         "4": "English",
         "5": "Comedy",
         "6": "2025-05-17 16:22:47.252377"
        },
        {
         "0": "Hotel Transylvania 2",
         "1": "89",
         "2": "2015-09-21",
         "3": "6.7",
         "4": "English",
         "5": "Animation",
         "6": "2025-05-17 16:22:47.252377"
        },
        {
         "0": "Hotel Transylvania 2",
         "1": "89",
         "2": "2015-09-21",
         "3": "6.7",
         "4": "Phasa Thai",
         "5": "Animation",
         "6": "2025-05-17 16:22:47.252377"
        },
        {
         "0": "Hotel Transylvania 2",
         "1": "89",
         "2": "2015-09-21",
         "3": "6.7",
         "4": "English",
         "5": "Animation",
         "6": "2025-05-17 16:22:47.252377"
        },
        {
         "0": "Hotel Transylvania 2",
         "1": "89",
         "2": "2015-09-21",
         "3": "6.7",
         "4": "English",
         "5": "Comedy",
         "6": "2025-05-17 16:22:47.252377"
        },
        {
         "0": "Hotel Transylvania 2",
         "1": "89",
         "2": "2015-09-21",
         "3": "6.7",
         "4": "Phasa Thai",
         "5": "Comedy",
         "6": "2025-05-17 16:22:47.252377"
        },
        {
         "0": "Hotel Transylvania 2",
         "1": "89",
         "2": "2015-09-21",
         "3": "6.7",
         "4": "English",
         "5": "Comedy",
         "6": "2025-05-17 16:22:47.252377"
        },
        {
         "0": "Hotel Transylvania 2",
         "1": "89",
         "2": "2015-09-21",
         "3": "6.7",
         "4": "English",
         "5": "Family",
         "6": "2025-05-17 16:22:47.252377"
        },
        {
         "0": "Hotel Transylvania 2",
         "1": "89",
         "2": "2015-09-21",
         "3": "6.7",
         "4": "Phasa Thai",
         "5": "Family",
         "6": "2025-05-17 16:22:47.252377"
        },
        {
         "0": "Hotel Transylvania 2",
         "1": "89",
         "2": "2015-09-21",
         "3": "6.7",
         "4": "English",
         "5": "Family",
         "6": "2025-05-17 16:22:47.252377"
        },
        {
         "0": "Julija in Alfa Romeo",
         "1": "83",
         "2": "2015-09-17",
         "3": "6.0",
         "4": "Slovenšcina",
         "5": "Drama",
         "6": "2025-05-17 16:22:47.252377"
        },
        {
         "0": "Julija in Alfa Romeo",
         "1": "83",
         "2": "2015-09-17",
         "3": "6.0",
         "4": "Slovenšcina",
         "5": "Drama",
         "6": "2025-05-17 16:22:47.252377"
        },
        {
         "0": "Julija in Alfa Romeo",
         "1": "83",
         "2": "2015-09-17",
         "3": "6.0",
         "4": "English",
         "5": "Drama",
         "6": "2025-05-17 16:22:47.252377"
        },
        {
         "0": "Julija in Alfa Romeo",
         "1": "83",
         "2": "2015-09-17",
         "3": "6.0",
         "4": "Slovenšcina",
         "5": "Comedy",
         "6": "2025-05-17 16:22:47.252377"
        },
        {
         "0": "Julija in Alfa Romeo",
         "1": "83",
         "2": "2015-09-17",
         "3": "6.0",
         "4": "Slovenšcina",
         "5": "Comedy",
         "6": "2025-05-17 16:22:47.252377"
        },
        {
         "0": "Julija in Alfa Romeo",
         "1": "83",
         "2": "2015-09-17",
         "3": "6.0",
         "4": "English",
         "5": "Comedy",
         "6": "2025-05-17 16:22:47.252377"
        },
        {
         "0": "Sicario",
         "1": "121",
         "2": "2015-09-17",
         "3": "7.2",
         "4": "English",
         "5": "Drama",
         "6": "2025-05-17 16:22:47.252377"
        },
        {
         "0": "Sicario",
         "1": "121",
         "2": "2015-09-17",
         "3": "7.2",
         "4": "Español",
         "5": "Drama",
         "6": "2025-05-17 16:22:47.252377"
        },
        {
         "0": "Sicario",
         "1": "121",
         "2": "2015-09-17",
         "3": "7.2",
         "4": "English",
         "5": "Drama",
         "6": "2025-05-17 16:22:47.252377"
        },
        {
         "0": "Sicario",
         "1": "121",
         "2": "2015-09-17",
         "3": "7.2",
         "4": "English",
         "5": "Action",
         "6": "2025-05-17 16:22:47.252377"
        },
        {
         "0": "Sicario",
         "1": "121",
         "2": "2015-09-17",
         "3": "7.2",
         "4": "Español",
         "5": "Action",
         "6": "2025-05-17 16:22:47.252377"
        },
        {
         "0": "Sicario",
         "1": "121",
         "2": "2015-09-17",
         "3": "7.2",
         "4": "English",
         "5": "Action",
         "6": "2025-05-17 16:22:47.252377"
        },
        {
         "0": "Sicario",
         "1": "121",
         "2": "2015-09-17",
         "3": "7.2",
         "4": "English",
         "5": "Thriller",
         "6": "2025-05-17 16:22:47.252377"
        },
        {
         "0": "Sicario",
         "1": "121",
         "2": "2015-09-17",
         "3": "7.2",
         "4": "Español",
         "5": "Thriller",
         "6": "2025-05-17 16:22:47.252377"
        },
        {
         "0": "Sicario",
         "1": "121",
         "2": "2015-09-17",
         "3": "7.2",
         "4": "English",
         "5": "Thriller",
         "6": "2025-05-17 16:22:47.252377"
        },
        {
         "0": "Sicario",
         "1": "121",
         "2": "2015-09-17",
         "3": "7.2",
         "4": "English",
         "5": "Crime",
         "6": "2025-05-17 16:22:47.252377"
        },
        {
         "0": "Sicario",
         "1": "121",
         "2": "2015-09-17",
         "3": "7.2",
         "4": "Español",
         "5": "Crime",
         "6": "2025-05-17 16:22:47.252377"
        },
        {
         "0": "Sicario",
         "1": "121",
         "2": "2015-09-17",
         "3": "7.2",
         "4": "English",
         "5": "Crime",
         "6": "2025-05-17 16:22:47.252377"
        },
        {
         "0": "Sicario",
         "1": "121",
         "2": "2015-09-17",
         "3": "7.2",
         "4": "English",
         "5": "Mystery",
         "6": "2025-05-17 16:22:47.252377"
        },
        {
         "0": "Sicario",
         "1": "121",
         "2": "2015-09-17",
         "3": "7.2",
         "4": "Español",
         "5": "Mystery",
         "6": "2025-05-17 16:22:47.252377"
        },
        {
         "0": "Sicario",
         "1": "121",
         "2": "2015-09-17",
         "3": "7.2",
         "4": "English",
         "5": "Mystery",
         "6": "2025-05-17 16:22:47.252377"
        },
        {
         "0": "Captive",
         "1": "97",
         "2": "2015-09-17",
         "3": "5.6",
         "4": "English",
         "5": "Drama",
         "6": "2025-05-17 16:22:47.252377"
        },
        {
         "0": "Captive",
         "1": "97",
         "2": "2015-09-17",
         "3": "5.6",
         "4": "English",
         "5": "Drama",
         "6": "2025-05-17 16:22:47.252377"
        },
        {
         "0": "Captive",
         "1": "97",
         "2": "2015-09-17",
         "3": "5.6",
         "4": "English",
         "5": "Thriller",
         "6": "2025-05-17 16:22:47.252377"
        },
        {
         "0": "Captive",
         "1": "97",
         "2": "2015-09-17",
         "3": "5.6",
         "4": "English",
         "5": "Thriller",
         "6": "2025-05-17 16:22:47.252377"
        },
        {
         "0": "Captive",
         "1": "97",
         "2": "2015-09-17",
         "3": "5.6",
         "4": "English",
         "5": "Crime",
         "6": "2025-05-17 16:22:47.252377"
        },
        {
         "0": "Captive",
         "1": "97",
         "2": "2015-09-17",
         "3": "5.6",
         "4": "English",
         "5": "Crime",
         "6": "2025-05-17 16:22:47.252377"
        },
        {
         "0": "Forsaken",
         "1": "90",
         "2": "2015-09-16",
         "3": "5.8",
         "4": "English",
         "5": "Drama",
         "6": "2025-05-17 16:22:47.252377"
        },
        {
         "0": "Forsaken",
         "1": "90",
         "2": "2015-09-16",
         "3": "5.8",
         "4": "English",
         "5": "Drama",
         "6": "2025-05-17 16:22:47.252377"
        },
        {
         "0": "Forsaken",
         "1": "90",
         "2": "2015-09-16",
         "3": "5.8",
         "4": "English",
         "5": "Western",
         "6": "2025-05-17 16:22:47.252377"
        },
        {
         "0": "Forsaken",
         "1": "90",
         "2": "2015-09-16",
         "3": "5.8",
         "4": "English",
         "5": "Western",
         "6": "2025-05-17 16:22:47.252377"
        },
        {
         "0": "Évolution",
         "1": "81",
         "2": "2015-09-14",
         "3": "6.4",
         "4": "Français",
         "5": "Drama",
         "6": "2025-05-17 16:22:47.252377"
        },
        {
         "0": "Évolution",
         "1": "81",
         "2": "2015-09-14",
         "3": "6.4",
         "4": "Français",
         "5": "Drama",
         "6": "2025-05-17 16:22:47.252377"
        },
        {
         "0": "Évolution",
         "1": "81",
         "2": "2015-09-14",
         "3": "6.4",
         "4": "Français",
         "5": "Horror",
         "6": "2025-05-17 16:22:47.252377"
        },
        {
         "0": "Évolution",
         "1": "81",
         "2": "2015-09-14",
         "3": "6.4",
         "4": "Français",
         "5": "Horror",
         "6": "2025-05-17 16:22:47.252377"
        },
        {
         "0": "Évolution",
         "1": "81",
         "2": "2015-09-14",
         "3": "6.4",
         "4": "Français",
         "5": "Mystery",
         "6": "2025-05-17 16:22:47.252377"
        },
        {
         "0": "Évolution",
         "1": "81",
         "2": "2015-09-14",
         "3": "6.4",
         "4": "Français",
         "5": "Mystery",
         "6": "2025-05-17 16:22:47.252377"
        },
        {
         "0": "90 Minutes in Heaven",
         "1": "121",
         "2": "2015-09-11",
         "3": "5.4",
         "4": "Português",
         "5": "Drama",
         "6": "2025-05-17 16:22:47.252377"
        },
        {
         "0": "90 Minutes in Heaven",
         "1": "121",
         "2": "2015-09-11",
         "3": "5.4",
         "4": "English",
         "5": "Drama",
         "6": "2025-05-17 16:22:47.252377"
        },
        {
         "0": "90 Minutes in Heaven",
         "1": "121",
         "2": "2015-09-11",
         "3": "5.4",
         "4": "English",
         "5": "Drama",
         "6": "2025-05-17 16:22:47.252377"
        },
        {
         "0": "Listening",
         "1": "100",
         "2": "2015-09-11",
         "3": "5.5",
         "4": "English",
         "5": "Drama",
         "6": "2025-05-17 16:22:47.252377"
        },
        {
         "0": "Listening",
         "1": "100",
         "2": "2015-09-11",
         "3": "5.5",
         "4": "English",
         "5": "Drama",
         "6": "2025-05-17 16:22:47.252377"
        },
        {
         "0": "Listening",
         "1": "100",
         "2": "2015-09-11",
         "3": "5.5",
         "4": "English",
         "5": "Thriller",
         "6": "2025-05-17 16:22:47.252377"
        },
        {
         "0": "Listening",
         "1": "100",
         "2": "2015-09-11",
         "3": "5.5",
         "4": "English",
         "5": "Thriller",
         "6": "2025-05-17 16:22:47.252377"
        },
        {
         "0": "Listening",
         "1": "100",
         "2": "2015-09-11",
         "3": "5.5",
         "4": "English",
         "5": "Science Fiction",
         "6": "2025-05-17 16:22:47.252377"
        },
        {
         "0": "Listening",
         "1": "100",
         "2": "2015-09-11",
         "3": "5.5",
         "4": "English",
         "5": "Science Fiction",
         "6": "2025-05-17 16:22:47.252377"
        },
        {
         "0": "The Visit",
         "1": "94",
         "2": "2015-09-10",
         "3": "6.0",
         "4": "English",
         "5": "Horror",
         "6": "2025-05-17 16:22:47.252377"
        },
        {
         "0": "The Visit",
         "1": "94",
         "2": "2015-09-10",
         "3": "6.0",
         "4": "English",
         "5": "Horror",
         "6": "2025-05-17 16:22:47.252377"
        },
        {
         "0": "The Visit",
         "1": "94",
         "2": "2015-09-10",
         "3": "6.0",
         "4": "English",
         "5": "Thriller",
         "6": "2025-05-17 16:22:47.252377"
        },
        {
         "0": "The Visit",
         "1": "94",
         "2": "2015-09-10",
         "3": "6.0",
         "4": "English",
         "5": "Thriller",
         "6": "2025-05-17 16:22:47.252377"
        },
        {
         "0": "Maze Runner: The Scorch Trials",
         "1": "132",
         "2": "2015-09-09",
         "3": "6.4",
         "4": "English",
         "5": "Action",
         "6": "2025-05-17 16:22:47.252377"
        },
        {
         "0": "Maze Runner: The Scorch Trials",
         "1": "132",
         "2": "2015-09-09",
         "3": "6.4",
         "4": "English",
         "5": "Action",
         "6": "2025-05-17 16:22:47.252377"
        },
        {
         "0": "Black Mass",
         "1": "122",
         "2": "2015-09-04",
         "3": "6.3",
         "4": "English",
         "5": "Drama",
         "6": "2025-05-17 16:22:47.252377"
        },
        {
         "0": "Black Mass",
         "1": "122",
         "2": "2015-09-04",
         "3": "6.3",
         "4": "English",
         "5": "Drama",
         "6": "2025-05-17 16:22:47.252377"
        },
        {
         "0": "Black Mass",
         "1": "122",
         "2": "2015-09-04",
         "3": "6.3",
         "4": "English",
         "5": "Crime",
         "6": "2025-05-17 16:22:47.252377"
        },
        {
         "0": "Black Mass",
         "1": "122",
         "2": "2015-09-04",
         "3": "6.3",
         "4": "English",
         "5": "Crime",
         "6": "2025-05-17 16:22:47.252377"
        },
        {
         "0": "Heroes of Dirt",
         "1": "98",
         "2": "2015-09-04",
         "3": "0.0",
         "4": "English",
         "5": "Drama",
         "6": "2025-05-17 16:22:47.252377"
        },
        {
         "0": "Heroes of Dirt",
         "1": "98",
         "2": "2015-09-04",
         "3": "0.0",
         "4": "English",
         "5": "Drama",
         "6": "2025-05-17 16:22:47.252377"
        },
        {
         "0": "Heroes of Dirt",
         "1": "98",
         "2": "2015-09-04",
         "3": "0.0",
         "4": "English",
         "5": "Action",
         "6": "2025-05-17 16:22:47.252377"
        },
        {
         "0": "Heroes of Dirt",
         "1": "98",
         "2": "2015-09-04",
         "3": "0.0",
         "4": "English",
         "5": "Action",
         "6": "2025-05-17 16:22:47.252377"
        },
        {
         "0": "Time to Choose",
         "1": "100",
         "2": "2015-09-04",
         "3": "0.0",
         "4": "English",
         "5": "Documentary",
         "6": "2025-05-17 16:22:47.252377"
        },
        {
         "0": "Time to Choose",
         "1": "100",
         "2": "2015-09-04",
         "3": "0.0",
         "4": "English",
         "5": "Documentary",
         "6": "2025-05-17 16:22:47.252377"
        },
        {
         "0": "The Transporter Refueled",
         "1": "96",
         "2": "2015-09-03",
         "3": "5.2",
         "4": "English",
         "5": "Action",
         "6": "2025-05-17 16:22:47.252377"
        },
        {
         "0": "The Transporter Refueled",
         "1": "96",
         "2": "2015-09-03",
         "3": "5.2",
         "4": "English",
         "5": "Action",
         "6": "2025-05-17 16:22:47.252377"
        },
        {
         "0": "The Transporter Refueled",
         "1": "96",
         "2": "2015-09-03",
         "3": "5.2",
         "4": "English",
         "5": "Thriller",
         "6": "2025-05-17 16:22:47.252377"
        },
        {
         "0": "The Transporter Refueled",
         "1": "96",
         "2": "2015-09-03",
         "3": "5.2",
         "4": "English",
         "5": "Thriller",
         "6": "2025-05-17 16:22:47.252377"
        },
        {
         "0": "The Transporter Refueled",
         "1": "96",
         "2": "2015-09-03",
         "3": "5.2",
         "4": "English",
         "5": "Crime",
         "6": "2025-05-17 16:22:47.252377"
        },
        {
         "0": "The Transporter Refueled",
         "1": "96",
         "2": "2015-09-03",
         "3": "5.2",
         "4": "English",
         "5": "Crime",
         "6": "2025-05-17 16:22:47.252377"
        },
        {
         "0": "Run, Hide, Die",
         "1": "75",
         "2": "2015-09-01",
         "3": "3.5",
         "4": "English",
         "5": "Horror",
         "6": "2025-05-17 16:22:47.252377"
        },
        {
         "0": "Run, Hide, Die",
         "1": "75",
         "2": "2015-09-01",
         "3": "3.5",
         "4": "English",
         "5": "Horror",
         "6": "2025-05-17 16:22:47.252377"
        },
        {
         "0": "Run, Hide, Die",
         "1": "75",
         "2": "2015-09-01",
         "3": "3.5",
         "4": "English",
         "5": "Thriller",
         "6": "2025-05-17 16:22:47.252377"
        },
        {
         "0": "Run, Hide, Die",
         "1": "75",
         "2": "2015-09-01",
         "3": "3.5",
         "4": "English",
         "5": "Thriller",
         "6": "2025-05-17 16:22:47.252377"
        },
        {
         "0": "Goddess of Love",
         "1": "96",
         "2": "2015-08-31",
         "3": "6.2",
         "4": "English",
         "5": "Drama",
         "6": "2025-05-17 16:22:47.252377"
        },
        {
         "0": "Goddess of Love",
         "1": "96",
         "2": "2015-08-31",
         "3": "6.2",
         "4": "Deutsch",
         "5": "Drama",
         "6": "2025-05-17 16:22:47.252377"
        },
        {
         "0": "Goddess of Love",
         "1": "96",
         "2": "2015-08-31",
         "3": "6.2",
         "4": "English",
         "5": "Drama",
         "6": "2025-05-17 16:22:47.252377"
        },
        {
         "0": "Goddess of Love",
         "1": "96",
         "2": "2015-08-31",
         "3": "6.2",
         "4": "English",
         "5": "Horror",
         "6": "2025-05-17 16:22:47.252377"
        },
        {
         "0": "Goddess of Love",
         "1": "96",
         "2": "2015-08-31",
         "3": "6.2",
         "4": "Deutsch",
         "5": "Horror",
         "6": "2025-05-17 16:22:47.252377"
        },
        {
         "0": "Goddess of Love",
         "1": "96",
         "2": "2015-08-31",
         "3": "6.2",
         "4": "English",
         "5": "Horror",
         "6": "2025-05-17 16:22:47.252377"
        },
        {
         "0": "Goddess of Love",
         "1": "96",
         "2": "2015-08-31",
         "3": "6.2",
         "4": "English",
         "5": "Thriller",
         "6": "2025-05-17 16:22:47.252377"
        },
        {
         "0": "Goddess of Love",
         "1": "96",
         "2": "2015-08-31",
         "3": "6.2",
         "4": "Deutsch",
         "5": "Thriller",
         "6": "2025-05-17 16:22:47.252377"
        },
        {
         "0": "Goddess of Love",
         "1": "96",
         "2": "2015-08-31",
         "3": "6.2",
         "4": "English",
         "5": "Thriller",
         "6": "2025-05-17 16:22:47.252377"
        },
        {
         "0": "Goddess of Love",
         "1": "96",
         "2": "2015-08-31",
         "3": "6.2",
         "4": "English",
         "5": "Mystery",
         "6": "2025-05-17 16:22:47.252377"
        },
        {
         "0": "Goddess of Love",
         "1": "96",
         "2": "2015-08-31",
         "3": "6.2",
         "4": "Deutsch",
         "5": "Mystery",
         "6": "2025-05-17 16:22:47.252377"
        },
        {
         "0": "Goddess of Love",
         "1": "96",
         "2": "2015-08-31",
         "3": "6.2",
         "4": "English",
         "5": "Mystery",
         "6": "2025-05-17 16:22:47.252377"
        },
        {
         "0": "Chain of Command",
         "1": "88",
         "2": "2015-08-30",
         "3": "5.3",
         "4": "English",
         "5": "Adventure",
         "6": "2025-05-17 16:22:47.252377"
        },
        {
         "0": "Chain of Command",
         "1": "88",
         "2": "2015-08-30",
         "3": "5.3",
         "4": "English",
         "5": "Adventure",
         "6": "2025-05-17 16:22:47.252377"
        },
        {
         "0": "Chain of Command",
         "1": "88",
         "2": "2015-08-30",
         "3": "5.3",
         "4": "English",
         "5": "Action",
         "6": "2025-05-17 16:22:47.252377"
        },
        {
         "0": "Chain of Command",
         "1": "88",
         "2": "2015-08-30",
         "3": "5.3",
         "4": "English",
         "5": "Action",
         "6": "2025-05-17 16:22:47.252377"
        },
        {
         "0": "Chain of Command",
         "1": "88",
         "2": "2015-08-30",
         "3": "5.3",
         "4": "English",
         "5": "Thriller",
         "6": "2025-05-17 16:22:47.252377"
        },
        {
         "0": "Chain of Command",
         "1": "88",
         "2": "2015-08-30",
         "3": "5.3",
         "4": "English",
         "5": "Thriller",
         "6": "2025-05-17 16:22:47.252377"
        },
        {
         "0": "Abandoned",
         "1": "82",
         "2": "2015-08-30",
         "3": "5.8",
         "4": "English",
         "5": "Drama",
         "6": "2025-05-17 16:22:47.252377"
        },
        {
         "0": "Abandoned",
         "1": "82",
         "2": "2015-08-30",
         "3": "5.8",
         "4": "English",
         "5": "Drama",
         "6": "2025-05-17 16:22:47.252377"
        },
        {
         "0": "Abandoned",
         "1": "82",
         "2": "2015-08-30",
         "3": "5.8",
         "4": "English",
         "5": "Thriller",
         "6": "2025-05-17 16:22:47.252377"
        },
        {
         "0": "Abandoned",
         "1": "82",
         "2": "2015-08-30",
         "3": "5.8",
         "4": "English",
         "5": "Thriller",
         "6": "2025-05-17 16:22:47.252377"
        },
        {
         "0": "The Rise of the Krays",
         "1": "110",
         "2": "2015-08-29",
         "3": "4.5",
         "4": "English",
         "5": "Crime",
         "6": "2025-05-17 16:22:47.252377"
        },
        {
         "0": "The Rise of the Krays",
         "1": "110",
         "2": "2015-08-29",
         "3": "4.5",
         "4": "English",
         "5": "Crime",
         "6": "2025-05-17 16:22:47.252377"
        },
        {
         "0": "Unsullied",
         "1": "93",
         "2": "2015-08-28",
         "3": "3.0",
         "4": "English",
         "5": "Horror",
         "6": "2025-05-17 16:22:47.252377"
        },
        {
         "0": "Unsullied",
         "1": "93",
         "2": "2015-08-28",
         "3": "3.0",
         "4": "English",
         "5": "Horror",
         "6": "2025-05-17 16:22:47.252377"
        },
        {
         "0": "Unsullied",
         "1": "93",
         "2": "2015-08-28",
         "3": "3.0",
         "4": "English",
         "5": "Action",
         "6": "2025-05-17 16:22:47.252377"
        },
        {
         "0": "Unsullied",
         "1": "93",
         "2": "2015-08-28",
         "3": "3.0",
         "4": "English",
         "5": "Action",
         "6": "2025-05-17 16:22:47.252377"
        },
        {
         "0": "Unsullied",
         "1": "93",
         "2": "2015-08-28",
         "3": "3.0",
         "4": "English",
         "5": "Thriller",
         "6": "2025-05-17 16:22:47.252377"
        },
        {
         "0": "Unsullied",
         "1": "93",
         "2": "2015-08-28",
         "3": "3.0",
         "4": "English",
         "5": "Thriller",
         "6": "2025-05-17 16:22:47.252377"
        },
        {
         "0": "Zipper",
         "1": "103",
         "2": "2015-08-28",
         "3": "5.5",
         "4": "English",
         "5": "Drama",
         "6": "2025-05-17 16:22:47.252377"
        },
        {
         "0": "Zipper",
         "1": "103",
         "2": "2015-08-28",
         "3": "5.5",
         "4": "English",
         "5": "Drama",
         "6": "2025-05-17 16:22:47.252377"
        },
        {
         "0": "Zipper",
         "1": "103",
         "2": "2015-08-28",
         "3": "5.5",
         "4": "English",
         "5": "Thriller",
         "6": "2025-05-17 16:22:47.252377"
        },
        {
         "0": "Zipper",
         "1": "103",
         "2": "2015-08-28",
         "3": "5.5",
         "4": "English",
         "5": "Thriller",
         "6": "2025-05-17 16:22:47.252377"
        },
        {
         "0": "We Are Your Friends",
         "1": "96",
         "2": "2015-08-26",
         "3": "6.3",
         "4": "Italiano",
         "5": "Drama",
         "6": "2025-05-17 16:22:47.252377"
        },
        {
         "0": "We Are Your Friends",
         "1": "96",
         "2": "2015-08-26",
         "3": "6.3",
         "4": "English",
         "5": "Drama",
         "6": "2025-05-17 16:22:47.252377"
        },
        {
         "0": "We Are Your Friends",
         "1": "96",
         "2": "2015-08-26",
         "3": "6.3",
         "4": "English",
         "5": "Drama",
         "6": "2025-05-17 16:22:47.252377"
        },
        {
         "0": "We Are Your Friends",
         "1": "96",
         "2": "2015-08-26",
         "3": "6.3",
         "4": "Italiano",
         "5": "Music",
         "6": "2025-05-17 16:22:47.252377"
        },
        {
         "0": "We Are Your Friends",
         "1": "96",
         "2": "2015-08-26",
         "3": "6.3",
         "4": "English",
         "5": "Music",
         "6": "2025-05-17 16:22:47.252377"
        },
        {
         "0": "We Are Your Friends",
         "1": "96",
         "2": "2015-08-26",
         "3": "6.3",
         "4": "English",
         "5": "Music",
         "6": "2025-05-17 16:22:47.252377"
        },
        {
         "0": "We Are Your Friends",
         "1": "96",
         "2": "2015-08-26",
         "3": "6.3",
         "4": "Italiano",
         "5": "Romance",
         "6": "2025-05-17 16:22:47.252377"
        },
        {
         "0": "We Are Your Friends",
         "1": "96",
         "2": "2015-08-26",
         "3": "6.3",
         "4": "English",
         "5": "Romance",
         "6": "2025-05-17 16:22:47.252377"
        },
        {
         "0": "We Are Your Friends",
         "1": "96",
         "2": "2015-08-26",
         "3": "6.3",
         "4": "English",
         "5": "Romance",
         "6": "2025-05-17 16:22:47.252377"
        },
        {
         "0": "No Escape",
         "1": "103",
         "2": "2015-08-26",
         "3": "6.7",
         "4": "Phasa Thai",
         "5": "Action",
         "6": "2025-05-17 16:22:47.252377"
        },
        {
         "0": "No Escape",
         "1": "103",
         "2": "2015-08-26",
         "3": "6.7",
         "4": "English",
         "5": "Action",
         "6": "2025-05-17 16:22:47.252377"
        },
        {
         "0": "No Escape",
         "1": "103",
         "2": "2015-08-26",
         "3": "6.7",
         "4": "Français",
         "5": "Action",
         "6": "2025-05-17 16:22:47.252377"
        },
        {
         "0": "No Escape",
         "1": "103",
         "2": "2015-08-26",
         "3": "6.7",
         "4": "English",
         "5": "Action",
         "6": "2025-05-17 16:22:47.252377"
        },
        {
         "0": "No Escape",
         "1": "103",
         "2": "2015-08-26",
         "3": "6.7",
         "4": "Phasa Thai",
         "5": "Thriller",
         "6": "2025-05-17 16:22:47.252377"
        },
        {
         "0": "No Escape",
         "1": "103",
         "2": "2015-08-26",
         "3": "6.7",
         "4": "English",
         "5": "Thriller",
         "6": "2025-05-17 16:22:47.252377"
        },
        {
         "0": "No Escape",
         "1": "103",
         "2": "2015-08-26",
         "3": "6.7",
         "4": "Français",
         "5": "Thriller",
         "6": "2025-05-17 16:22:47.252377"
        },
        {
         "0": "No Escape",
         "1": "103",
         "2": "2015-08-26",
         "3": "6.7",
         "4": "English",
         "5": "Thriller",
         "6": "2025-05-17 16:22:47.252377"
        },
        {
         "0": "The Curse of Downers Grove",
         "1": "89",
         "2": "2015-08-21",
         "3": "4.4",
         "4": "English",
         "5": "Drama",
         "6": "2025-05-17 16:22:47.252377"
        },
        {
         "0": "The Curse of Downers Grove",
         "1": "89",
         "2": "2015-08-21",
         "3": "4.4",
         "4": "English",
         "5": "Drama",
         "6": "2025-05-17 16:22:47.252377"
        },
        {
         "0": "The Curse of Downers Grove",
         "1": "89",
         "2": "2015-08-21",
         "3": "4.4",
         "4": "English",
         "5": "Horror",
         "6": "2025-05-17 16:22:47.252377"
        },
        {
         "0": "The Curse of Downers Grove",
         "1": "89",
         "2": "2015-08-21",
         "3": "4.4",
         "4": "English",
         "5": "Horror",
         "6": "2025-05-17 16:22:47.252377"
        },
        {
         "0": "The Curse of Downers Grove",
         "1": "89",
         "2": "2015-08-21",
         "3": "4.4",
         "4": "English",
         "5": "Thriller",
         "6": "2025-05-17 16:22:47.252377"
        },
        {
         "0": "The Curse of Downers Grove",
         "1": "89",
         "2": "2015-08-21",
         "3": "4.4",
         "4": "English",
         "5": "Thriller",
         "6": "2025-05-17 16:22:47.252377"
        },
        {
         "0": "The Curse of Downers Grove",
         "1": "89",
         "2": "2015-08-21",
         "3": "4.4",
         "4": "English",
         "5": "Mystery",
         "6": "2025-05-17 16:22:47.252377"
        },
        {
         "0": "The Curse of Downers Grove",
         "1": "89",
         "2": "2015-08-21",
         "3": "4.4",
         "4": "English",
         "5": "Mystery",
         "6": "2025-05-17 16:22:47.252377"
        },
        {
         "0": "Sinister 2",
         "1": "97",
         "2": "2015-08-19",
         "3": "5.4",
         "4": "English",
         "5": "Horror",
         "6": "2025-05-17 16:22:47.252377"
        },
        {
         "0": "Sinister 2",
         "1": "97",
         "2": "2015-08-19",
         "3": "5.4",
         "4": "English",
         "5": "Horror",
         "6": "2025-05-17 16:22:47.252377"
        },
        {
         "0": "Amnesiac",
         "1": "90",
         "2": "2015-08-14",
         "3": "4.1",
         "4": "English",
         "5": "Drama",
         "6": "2025-05-17 16:22:47.252377"
        },
        {
         "0": "Amnesiac",
         "1": "90",
         "2": "2015-08-14",
         "3": "4.1",
         "4": "English",
         "5": "Drama",
         "6": "2025-05-17 16:22:47.252377"
        },
        {
         "0": "Amnesiac",
         "1": "90",
         "2": "2015-08-14",
         "3": "4.1",
         "4": "English",
         "5": "Horror",
         "6": "2025-05-17 16:22:47.252377"
        },
        {
         "0": "Amnesiac",
         "1": "90",
         "2": "2015-08-14",
         "3": "4.1",
         "4": "English",
         "5": "Horror",
         "6": "2025-05-17 16:22:47.252377"
        },
        {
         "0": "Amnesiac",
         "1": "90",
         "2": "2015-08-14",
         "3": "4.1",
         "4": "English",
         "5": "Thriller",
         "6": "2025-05-17 16:22:47.252377"
        },
        {
         "0": "Amnesiac",
         "1": "90",
         "2": "2015-08-14",
         "3": "4.1",
         "4": "English",
         "5": "Thriller",
         "6": "2025-05-17 16:22:47.252377"
        },
        {
         "0": "Amnesiac",
         "1": "90",
         "2": "2015-08-14",
         "3": "4.1",
         "4": "English",
         "5": "Mystery",
         "6": "2025-05-17 16:22:47.252377"
        },
        {
         "0": "Amnesiac",
         "1": "90",
         "2": "2015-08-14",
         "3": "4.1",
         "4": "English",
         "5": "Mystery",
         "6": "2025-05-17 16:22:47.252377"
        },
        {
         "0": "The Man from U.N.C.L.E.",
         "1": "116",
         "2": "2015-08-13",
         "3": "7.1",
         "4": "English",
         "5": "Adventure",
         "6": "2025-05-17 16:22:47.252377"
        },
        {
         "0": "The Man from U.N.C.L.E.",
         "1": "116",
         "2": "2015-08-13",
         "3": "7.1",
         "4": "Italiano",
         "5": "Adventure",
         "6": "2025-05-17 16:22:47.252377"
        },
        {
         "0": "The Man from U.N.C.L.E.",
         "1": "116",
         "2": "2015-08-13",
         "3": "7.1",
         "4": "Russkii âzyk",
         "5": "Adventure",
         "6": "2025-05-17 16:22:47.252377"
        },
        {
         "0": "The Man from U.N.C.L.E.",
         "1": "116",
         "2": "2015-08-13",
         "3": "7.1",
         "4": "Deutsch",
         "5": "Adventure",
         "6": "2025-05-17 16:22:47.252377"
        },
        {
         "0": "The Man from U.N.C.L.E.",
         "1": "116",
         "2": "2015-08-13",
         "3": "7.1",
         "4": "English",
         "5": "Adventure",
         "6": "2025-05-17 16:22:47.252377"
        },
        {
         "0": "The Man from U.N.C.L.E.",
         "1": "116",
         "2": "2015-08-13",
         "3": "7.1",
         "4": "English",
         "5": "Action",
         "6": "2025-05-17 16:22:47.252377"
        },
        {
         "0": "The Man from U.N.C.L.E.",
         "1": "116",
         "2": "2015-08-13",
         "3": "7.1",
         "4": "Italiano",
         "5": "Action",
         "6": "2025-05-17 16:22:47.252377"
        },
        {
         "0": "The Man from U.N.C.L.E.",
         "1": "116",
         "2": "2015-08-13",
         "3": "7.1",
         "4": "Russkii âzyk",
         "5": "Action",
         "6": "2025-05-17 16:22:47.252377"
        },
        {
         "0": "The Man from U.N.C.L.E.",
         "1": "116",
         "2": "2015-08-13",
         "3": "7.1",
         "4": "Deutsch",
         "5": "Action",
         "6": "2025-05-17 16:22:47.252377"
        },
        {
         "0": "The Man from U.N.C.L.E.",
         "1": "116",
         "2": "2015-08-13",
         "3": "7.1",
         "4": "English",
         "5": "Action",
         "6": "2025-05-17 16:22:47.252377"
        },
        {
         "0": "The Man from U.N.C.L.E.",
         "1": "116",
         "2": "2015-08-13",
         "3": "7.1",
         "4": "English",
         "5": "Comedy",
         "6": "2025-05-17 16:22:47.252377"
        },
        {
         "0": "The Man from U.N.C.L.E.",
         "1": "116",
         "2": "2015-08-13",
         "3": "7.1",
         "4": "Italiano",
         "5": "Comedy",
         "6": "2025-05-17 16:22:47.252377"
        },
        {
         "0": "The Man from U.N.C.L.E.",
         "1": "116",
         "2": "2015-08-13",
         "3": "7.1",
         "4": "Russkii âzyk",
         "5": "Comedy",
         "6": "2025-05-17 16:22:47.252377"
        },
        {
         "0": "The Man from U.N.C.L.E.",
         "1": "116",
         "2": "2015-08-13",
         "3": "7.1",
         "4": "Deutsch",
         "5": "Comedy",
         "6": "2025-05-17 16:22:47.252377"
        },
        {
         "0": "The Man from U.N.C.L.E.",
         "1": "116",
         "2": "2015-08-13",
         "3": "7.1",
         "4": "English",
         "5": "Comedy",
         "6": "2025-05-17 16:22:47.252377"
        },
        {
         "0": "Straight Outta Compton",
         "1": "147",
         "2": "2015-08-13",
         "3": "7.7",
         "4": "English",
         "5": "Drama",
         "6": "2025-05-17 16:22:47.252377"
        },
        {
         "0": "Straight Outta Compton",
         "1": "147",
         "2": "2015-08-13",
         "3": "7.7",
         "4": "English",
         "5": "Drama",
         "6": "2025-05-17 16:22:47.252377"
        },
        {
         "0": "Straight Outta Compton",
         "1": "147",
         "2": "2015-08-13",
         "3": "7.7",
         "4": "English",
         "5": "Music",
         "6": "2025-05-17 16:22:47.252377"
        },
        {
         "0": "Straight Outta Compton",
         "1": "147",
         "2": "2015-08-13",
         "3": "7.7",
         "4": "English",
         "5": "Music",
         "6": "2025-05-17 16:22:47.252377"
        },
        {
         "0": "The Diary of a Teenage Girl",
         "1": "98",
         "2": "2015-08-07",
         "3": "6.8",
         "4": "English",
         "5": "Drama",
         "6": "2025-05-17 16:22:47.252377"
        },
        {
         "0": "The Diary of a Teenage Girl",
         "1": "98",
         "2": "2015-08-07",
         "3": "6.8",
         "4": "English",
         "5": "Drama",
         "6": "2025-05-17 16:22:47.252377"
        },
        {
         "0": "The Diary of a Teenage Girl",
         "1": "98",
         "2": "2015-08-07",
         "3": "6.8",
         "4": "English",
         "5": "Romance",
         "6": "2025-05-17 16:22:47.252377"
        },
        {
         "0": "The Diary of a Teenage Girl",
         "1": "98",
         "2": "2015-08-07",
         "3": "6.8",
         "4": "English",
         "5": "Romance",
         "6": "2025-05-17 16:22:47.252377"
        },
        {
         "0": "AWOL-72",
         "1": "79",
         "2": "2015-08-07",
         "3": "2.8",
         "4": "English",
         "5": "Thriller",
         "6": "2025-05-17 16:22:47.252377"
        },
        {
         "0": "AWOL-72",
         "1": "79",
         "2": "2015-08-07",
         "3": "2.8",
         "4": "English",
         "5": "Thriller",
         "6": "2025-05-17 16:22:47.252377"
        },
        {
         "0": "The 33",
         "1": "120",
         "2": "2015-08-06",
         "3": "6.0",
         "4": "English",
         "5": "Drama",
         "6": "2025-05-17 16:22:47.252377"
        },
        {
         "0": "The 33",
         "1": "120",
         "2": "2015-08-06",
         "3": "6.0",
         "4": "Español",
         "5": "Drama",
         "6": "2025-05-17 16:22:47.252377"
        },
        {
         "0": "The 33",
         "1": "120",
         "2": "2015-08-06",
         "3": "6.0",
         "4": "English",
         "5": "Drama",
         "6": "2025-05-17 16:22:47.252377"
        },
        {
         "0": "The 33",
         "1": "120",
         "2": "2015-08-06",
         "3": "6.0",
         "4": "English",
         "5": "History",
         "6": "2025-05-17 16:22:47.252377"
        },
        {
         "0": "The 33",
         "1": "120",
         "2": "2015-08-06",
         "3": "6.0",
         "4": "Español",
         "5": "History",
         "6": "2025-05-17 16:22:47.252377"
        },
        {
         "0": "The 33",
         "1": "120",
         "2": "2015-08-06",
         "3": "6.0",
         "4": "English",
         "5": "History",
         "6": "2025-05-17 16:22:47.252377"
        },
        {
         "0": "Goosebumps",
         "1": "103",
         "2": "2015-08-05",
         "3": "6.2",
         "4": "English",
         "5": "Adventure",
         "6": "2025-05-17 16:22:47.252377"
        }
       ],
       "schema": [
        {
         "key": "0",
         "name": "title",
         "type": "string"
        },
        {
         "key": "1",
         "name": "duration_time",
         "type": "int"
        },
        {
         "key": "2",
         "name": "release_date",
         "type": "date"
        },
        {
         "key": "3",
         "name": "vote_average",
         "type": "double"
        },
        {
         "key": "4",
         "name": "language_name",
         "type": "string"
        },
        {
         "key": "5",
         "name": "genre_name",
         "type": "string"
        },
        {
         "key": "6",
         "name": "created_date",
         "type": "timestamp"
        }
       ],
       "truncated": false
      },
      "wranglerEntryContext": {
       "candidateVariableNames": [
        "df_results_movie_genre_language"
       ],
       "dataframeType": "pyspark"
      }
     },
     "type": "Synapse.DataFrame"
    }
   },
   "version": "0.1"
  }
 },
 "nbformat": 4,
 "nbformat_minor": 0
}
