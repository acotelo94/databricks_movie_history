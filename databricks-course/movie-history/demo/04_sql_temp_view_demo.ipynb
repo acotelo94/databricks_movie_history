{
 "cells": [
  {
   "cell_type": "markdown",
   "metadata": {
    "application/vnd.databricks.v1+cell": {
     "cellMetadata": {},
     "inputWidgets": {},
     "nuid": "0c298e60-d36e-482f-a156-32bef4526066",
     "showTitle": false,
     "tableResultSettingsMap": {},
     "title": ""
    },
    "nteract": {
     "transient": {
      "deleting": false
     }
    }
   },
   "source": [
    "### Local Temp View\n",
    "###### 1. Crear vista temporal en BBDD\n",
    "###### 2. Acceder a vista desde la celda SQL\n",
    "###### 3. Acceder a vista desde la celda Python\n",
    "###### 4. Acceder a la vista desde otro notebook"
   ]
  },
  {
   "cell_type": "code",
   "execution_count": 0,
   "metadata": {
    "application/vnd.databricks.v1+cell": {
     "cellMetadata": {},
     "inputWidgets": {},
     "nuid": "7ff831d0-ff4e-4033-b12a-28c0222f2bf0",
     "showTitle": false,
     "tableResultSettingsMap": {},
     "title": ""
    },
    "microsoft": {
     "language": "python",
     "language_group": "synapse_pyspark"
    }
   },
   "outputs": [],
   "source": [
    "%run configuration"
   ]
  },
  {
   "cell_type": "code",
   "execution_count": 0,
   "metadata": {
    "application/vnd.databricks.v1+cell": {
     "cellMetadata": {},
     "inputWidgets": {},
     "nuid": "7a322483-a38a-4b9c-b261-f6396ac78c68",
     "showTitle": false,
     "tableResultSettingsMap": {},
     "title": ""
    },
    "microsoft": {
     "language": "python",
     "language_group": "synapse_pyspark"
    }
   },
   "outputs": [],
   "source": [
    "results_movie_genre_language_df = spark.read.parquet(f\"{gold_folder_path}/results_movie_genre_language\")"
   ]
  },
  {
   "cell_type": "code",
   "execution_count": 0,
   "metadata": {
    "application/vnd.databricks.v1+cell": {
     "cellMetadata": {},
     "inputWidgets": {},
     "nuid": "32d02e44-cedf-4799-961c-4c316eaca203",
     "showTitle": false,
     "tableResultSettingsMap": {},
     "title": ""
    },
    "collapsed": false,
    "microsoft": {
     "language": "python",
     "language_group": "synapse_pyspark"
    }
   },
   "outputs": [],
   "source": [
    "results_movie_genre_language_df.createTempView(\"vw_movie_genre_language\")"
   ]
  },
  {
   "cell_type": "code",
   "execution_count": 0,
   "metadata": {
    "application/vnd.databricks.v1+cell": {
     "cellMetadata": {},
     "inputWidgets": {},
     "nuid": "3ecaa2df-9156-4255-ae57-4509cf962ad2",
     "showTitle": false,
     "tableResultSettingsMap": {},
     "title": ""
    },
    "collapsed": false,
    "microsoft": {
     "language": "sparksql",
     "language_group": "synapse_pyspark"
    }
   },
   "outputs": [],
   "source": [
    "%%sql\n",
    "select * from vw_movie_genre_language\n",
    "where vote_average>7.5"
   ]
  },
  {
   "cell_type": "code",
   "execution_count": 0,
   "metadata": {
    "application/vnd.databricks.v1+cell": {
     "cellMetadata": {},
     "inputWidgets": {},
     "nuid": "636cb9e3-d02c-4040-b765-f2adbe74afe4",
     "showTitle": false,
     "tableResultSettingsMap": {},
     "title": ""
    },
    "microsoft": {
     "language": "python",
     "language_group": "synapse_pyspark"
    }
   },
   "outputs": [],
   "source": [
    "results_movie_genre_language_2 = spark.sql(\"select * from vw_movie_genre_language where vote_average>7.5\")"
   ]
  },
  {
   "cell_type": "code",
   "execution_count": 0,
   "metadata": {
    "application/vnd.databricks.v1+cell": {
     "cellMetadata": {},
     "inputWidgets": {},
     "nuid": "43717f38-9dd4-4adb-9ae3-6a6934cc0a4a",
     "showTitle": false,
     "tableResultSettingsMap": {},
     "title": ""
    },
    "collapsed": false,
    "microsoft": {
     "language": "python",
     "language_group": "synapse_pyspark"
    }
   },
   "outputs": [],
   "source": [
    "display(results_movie_genre_language_2)"
   ]
  },
  {
   "cell_type": "code",
   "execution_count": 0,
   "metadata": {
    "application/vnd.databricks.v1+cell": {
     "cellMetadata": {},
     "inputWidgets": {},
     "nuid": "9c1332b0-ce04-4a65-a687-b25c72681e7d",
     "showTitle": false,
     "tableResultSettingsMap": {},
     "title": ""
    },
    "microsoft": {
     "language": "python",
     "language_group": "synapse_pyspark"
    }
   },
   "outputs": [],
   "source": [
    "p_vote_avg = 7.5"
   ]
  },
  {
   "cell_type": "code",
   "execution_count": 0,
   "metadata": {
    "application/vnd.databricks.v1+cell": {
     "cellMetadata": {},
     "inputWidgets": {},
     "nuid": "f8fd2255-0eb5-4202-ab6b-5a01cb086d6a",
     "showTitle": false,
     "tableResultSettingsMap": {},
     "title": ""
    },
    "microsoft": {
     "language": "python",
     "language_group": "synapse_pyspark"
    }
   },
   "outputs": [],
   "source": [
    "results_movie_genre_language_2 = spark.sql(f\"select * from vw_movie_genre_language where vote_average>{p_vote_avg}\")"
   ]
  },
  {
   "cell_type": "markdown",
   "metadata": {
    "application/vnd.databricks.v1+cell": {
     "cellMetadata": {},
     "inputWidgets": {},
     "nuid": "77e2d402-cbe9-4bd0-9426-4bf4d93fa210",
     "showTitle": false,
     "tableResultSettingsMap": {},
     "title": ""
    },
    "nteract": {
     "transient": {
      "deleting": false
     }
    }
   },
   "source": [
    "### Global Temp View\n",
    "###### 1. Crear vista temporal en BBDD\n",
    "###### 2. Acceder a vista desde la celda SQL\n",
    "###### 3. Acceder a vista desde la celda Python\n",
    "###### 4. Acceder a la vista desde otro notebook"
   ]
  },
  {
   "cell_type": "code",
   "execution_count": 0,
   "metadata": {
    "application/vnd.databricks.v1+cell": {
     "cellMetadata": {},
     "inputWidgets": {},
     "nuid": "ecb7202b-9cac-4ba5-9d3b-5600bc461712",
     "showTitle": false,
     "tableResultSettingsMap": {},
     "title": ""
    },
    "microsoft": {
     "language": "python",
     "language_group": "synapse_pyspark"
    }
   },
   "outputs": [],
   "source": [
    "results_movie_genre_language_df.createOrReplaceGlobalTempView(\"vw_movie_genre_language_global\")"
   ]
  },
  {
   "cell_type": "code",
   "execution_count": 0,
   "metadata": {
    "application/vnd.databricks.v1+cell": {
     "cellMetadata": {},
     "inputWidgets": {},
     "nuid": "4835413c-4aeb-4eda-b224-9dfe79e4bd9b",
     "showTitle": false,
     "tableResultSettingsMap": {},
     "title": ""
    },
    "collapsed": false,
    "microsoft": {
     "language": "sparksql",
     "language_group": "synapse_pyspark"
    }
   },
   "outputs": [],
   "source": [
    "%%sql\n",
    "SHOW TABLES"
   ]
  },
  {
   "cell_type": "code",
   "execution_count": 0,
   "metadata": {
    "application/vnd.databricks.v1+cell": {
     "cellMetadata": {},
     "inputWidgets": {},
     "nuid": "af781559-461d-4873-bf04-2cfe390ae97f",
     "showTitle": false,
     "tableResultSettingsMap": {},
     "title": ""
    },
    "collapsed": false,
    "microsoft": {
     "language": "sparksql",
     "language_group": "synapse_pyspark"
    }
   },
   "outputs": [],
   "source": [
    "%%sql\n",
    "select * from vw_movie_genre_language"
   ]
  }
 ],
 "metadata": {
  "application/vnd.databricks.v1+notebook": {
   "computePreferences": null,
   "dashboards": [],
   "environmentMetadata": null,
   "inputWidgetPreferences": null,
   "language": "python",
   "notebookMetadata": {},
   "notebookName": "04_sql_temp_view_demo",
   "widgets": {}
  },
  "dependencies": {
   "lakehouse": {
    "default_lakehouse": "e0a555a2-5ce0-4b01-8214-823621d9d6c6",
    "default_lakehouse_name": "DB_Lakehouse",
    "default_lakehouse_workspace_id": "919018e5-22ad-4706-a9ba-1678e37706b8",
    "known_lakehouses": [
     {
      "id": "e0a555a2-5ce0-4b01-8214-823621d9d6c6"
     }
    ]
   }
  },
  "kernel_info": {
   "name": "synapse_pyspark"
  },
  "kernelspec": {
   "display_name": "Synapse PySpark",
   "language": "Python",
   "name": "synapse_pyspark"
  },
  "language_info": {
   "name": "python"
  },
  "microsoft": {
   "language": "python",
   "language_group": "synapse_pyspark",
   "ms_spell_check": {
    "ms_spell_check_language": "es"
   }
  },
  "nteract": {
   "version": "nteract-front-end@1.0.0"
  },
  "spark_compute": {
   "compute_id": "/trident/default",
   "session_options": {
    "conf": {
     "spark.synapse.nbs.session.timeout": "1200000"
    }
   }
  },
  "synapse_widget": {
   "state": {
    "4cc00c3b-da06-4d83-bfd5-82d74e23f1ec": {
     "persist_state": {
      "view": {
       "chartOptions": {
        "aggregationType": "sum",
        "binsNumber": 10,
        "categoryFieldKeys": [],
        "chartType": "bar",
        "isStacked": false,
        "seriesFieldKeys": [],
        "wordFrequency": "-1"
       },
       "tableOptions": {},
       "type": "details",
       "viewOptionsGroup": [
        {
         "tabItems": [
          {
           "key": "0",
           "name": "Table",
           "options": {},
           "type": "table"
          }
         ]
        }
       ]
      }
     },
     "sync_state": {
      "isSummary": false,
      "language": "scala",
      "table": {
       "rows": [
        {
         "0": "Me Before You",
         "1": "110",
         "2": "2016-06-02",
         "3": "7.6",
         "4": "English",
         "5": "Drama",
         "6": "2025-05-17 16:22:47.252377"
        },
        {
         "0": "Me Before You",
         "1": "110",
         "2": "2016-06-02",
         "3": "7.6",
         "4": "English",
         "5": "Drama",
         "6": "2025-05-17 16:22:47.252377"
        },
        {
         "0": "Me Before You",
         "1": "110",
         "2": "2016-06-02",
         "3": "7.6",
         "4": "English",
         "5": "Romance",
         "6": "2025-05-17 16:22:47.252377"
        },
        {
         "0": "Me Before You",
         "1": "110",
         "2": "2016-06-02",
         "3": "7.6",
         "4": "English",
         "5": "Romance",
         "6": "2025-05-17 16:22:47.252377"
        },
        {
         "0": "The Hateful Eight",
         "1": "167",
         "2": "2015-12-25",
         "3": "7.6",
         "4": "English",
         "5": "Drama",
         "6": "2025-05-17 16:22:47.252377"
        },
        {
         "0": "The Hateful Eight",
         "1": "167",
         "2": "2015-12-25",
         "3": "7.6",
         "4": "Español",
         "5": "Drama",
         "6": "2025-05-17 16:22:47.252377"
        },
        {
         "0": "The Hateful Eight",
         "1": "167",
         "2": "2015-12-25",
         "3": "7.6",
         "4": "English",
         "5": "Drama",
         "6": "2025-05-17 16:22:47.252377"
        },
        {
         "0": "The Hateful Eight",
         "1": "167",
         "2": "2015-12-25",
         "3": "7.6",
         "4": "English",
         "5": "Western",
         "6": "2025-05-17 16:22:47.252377"
        },
        {
         "0": "The Hateful Eight",
         "1": "167",
         "2": "2015-12-25",
         "3": "7.6",
         "4": "Español",
         "5": "Western",
         "6": "2025-05-17 16:22:47.252377"
        },
        {
         "0": "The Hateful Eight",
         "1": "167",
         "2": "2015-12-25",
         "3": "7.6",
         "4": "English",
         "5": "Western",
         "6": "2025-05-17 16:22:47.252377"
        },
        {
         "0": "The Hateful Eight",
         "1": "167",
         "2": "2015-12-25",
         "3": "7.6",
         "4": "English",
         "5": "Crime",
         "6": "2025-05-17 16:22:47.252377"
        },
        {
         "0": "The Hateful Eight",
         "1": "167",
         "2": "2015-12-25",
         "3": "7.6",
         "4": "Español",
         "5": "Crime",
         "6": "2025-05-17 16:22:47.252377"
        },
        {
         "0": "The Hateful Eight",
         "1": "167",
         "2": "2015-12-25",
         "3": "7.6",
         "4": "English",
         "5": "Crime",
         "6": "2025-05-17 16:22:47.252377"
        },
        {
         "0": "The Hateful Eight",
         "1": "167",
         "2": "2015-12-25",
         "3": "7.6",
         "4": "English",
         "5": "Mystery",
         "6": "2025-05-17 16:22:47.252377"
        },
        {
         "0": "The Hateful Eight",
         "1": "167",
         "2": "2015-12-25",
         "3": "7.6",
         "4": "Español",
         "5": "Mystery",
         "6": "2025-05-17 16:22:47.252377"
        },
        {
         "0": "The Hateful Eight",
         "1": "167",
         "2": "2015-12-25",
         "3": "7.6",
         "4": "English",
         "5": "Mystery",
         "6": "2025-05-17 16:22:47.252377"
        },
        {
         "0": "Spotlight",
         "1": "128",
         "2": "2015-11-06",
         "3": "7.8",
         "4": "English",
         "5": "Drama",
         "6": "2025-05-17 16:22:47.252377"
        },
        {
         "0": "Spotlight",
         "1": "128",
         "2": "2015-11-06",
         "3": "7.8",
         "4": "English",
         "5": "Drama",
         "6": "2025-05-17 16:22:47.252377"
        },
        {
         "0": "Spotlight",
         "1": "128",
         "2": "2015-11-06",
         "3": "7.8",
         "4": "English",
         "5": "History",
         "6": "2025-05-17 16:22:47.252377"
        },
        {
         "0": "Spotlight",
         "1": "128",
         "2": "2015-11-06",
         "3": "7.8",
         "4": "English",
         "5": "History",
         "6": "2025-05-17 16:22:47.252377"
        },
        {
         "0": "Spotlight",
         "1": "128",
         "2": "2015-11-06",
         "3": "7.8",
         "4": "English",
         "5": "Thriller",
         "6": "2025-05-17 16:22:47.252377"
        },
        {
         "0": "Spotlight",
         "1": "128",
         "2": "2015-11-06",
         "3": "7.8",
         "4": "English",
         "5": "Thriller",
         "6": "2025-05-17 16:22:47.252377"
        },
        {
         "0": "Room",
         "1": "117",
         "2": "2015-10-16",
         "3": "8.1",
         "4": "English",
         "5": "Drama",
         "6": "2025-05-17 16:22:47.252377"
        },
        {
         "0": "Room",
         "1": "117",
         "2": "2015-10-16",
         "3": "8.1",
         "4": "English",
         "5": "Drama",
         "6": "2025-05-17 16:22:47.252377"
        },
        {
         "0": "Room",
         "1": "117",
         "2": "2015-10-16",
         "3": "8.1",
         "4": "English",
         "5": "Thriller",
         "6": "2025-05-17 16:22:47.252377"
        },
        {
         "0": "Room",
         "1": "117",
         "2": "2015-10-16",
         "3": "8.1",
         "4": "English",
         "5": "Thriller",
         "6": "2025-05-17 16:22:47.252377"
        },
        {
         "0": "The Martian",
         "1": "141",
         "2": "2015-09-30",
         "3": "7.6",
         "4": "English",
         "5": "Adventure",
         "6": "2025-05-17 16:22:47.252377"
        },
        {
         "0": "The Martian",
         "1": "141",
         "2": "2015-09-30",
         "3": "7.6",
         "4": "Zhongwén",
         "5": "Adventure",
         "6": "2025-05-17 16:22:47.252377"
        },
        {
         "0": "The Martian",
         "1": "141",
         "2": "2015-09-30",
         "3": "7.6",
         "4": "English",
         "5": "Adventure",
         "6": "2025-05-17 16:22:47.252377"
        },
        {
         "0": "The Martian",
         "1": "141",
         "2": "2015-09-30",
         "3": "7.6",
         "4": "English",
         "5": "Drama",
         "6": "2025-05-17 16:22:47.252377"
        },
        {
         "0": "The Martian",
         "1": "141",
         "2": "2015-09-30",
         "3": "7.6",
         "4": "Zhongwén",
         "5": "Drama",
         "6": "2025-05-17 16:22:47.252377"
        },
        {
         "0": "The Martian",
         "1": "141",
         "2": "2015-09-30",
         "3": "7.6",
         "4": "English",
         "5": "Drama",
         "6": "2025-05-17 16:22:47.252377"
        },
        {
         "0": "The Martian",
         "1": "141",
         "2": "2015-09-30",
         "3": "7.6",
         "4": "English",
         "5": "Science Fiction",
         "6": "2025-05-17 16:22:47.252377"
        },
        {
         "0": "The Martian",
         "1": "141",
         "2": "2015-09-30",
         "3": "7.6",
         "4": "Zhongwén",
         "5": "Science Fiction",
         "6": "2025-05-17 16:22:47.252377"
        },
        {
         "0": "The Martian",
         "1": "141",
         "2": "2015-09-30",
         "3": "7.6",
         "4": "English",
         "5": "Science Fiction",
         "6": "2025-05-17 16:22:47.252377"
        },
        {
         "0": "Straight Outta Compton",
         "1": "147",
         "2": "2015-08-13",
         "3": "7.7",
         "4": "English",
         "5": "Drama",
         "6": "2025-05-17 16:22:47.252377"
        },
        {
         "0": "Straight Outta Compton",
         "1": "147",
         "2": "2015-08-13",
         "3": "7.7",
         "4": "English",
         "5": "Drama",
         "6": "2025-05-17 16:22:47.252377"
        },
        {
         "0": "Straight Outta Compton",
         "1": "147",
         "2": "2015-08-13",
         "3": "7.7",
         "4": "English",
         "5": "Music",
         "6": "2025-05-17 16:22:47.252377"
        },
        {
         "0": "Straight Outta Compton",
         "1": "147",
         "2": "2015-08-13",
         "3": "7.7",
         "4": "English",
         "5": "Music",
         "6": "2025-05-17 16:22:47.252377"
        },
        {
         "0": "Karachi se Lahore",
         "1": "75",
         "2": "2015-07-31",
         "3": "8.0",
         "4": "Urduw",
         "5": "Comedy",
         "6": "2025-05-17 16:22:47.252377"
        },
        {
         "0": "Karachi se Lahore",
         "1": "75",
         "2": "2015-07-31",
         "3": "8.0",
         "4": "English",
         "5": "Comedy",
         "6": "2025-05-17 16:22:47.252377"
        },
        {
         "0": "Karachi se Lahore",
         "1": "75",
         "2": "2015-07-31",
         "3": "8.0",
         "4": "Urduw",
         "5": "Family",
         "6": "2025-05-17 16:22:47.252377"
        },
        {
         "0": "Karachi se Lahore",
         "1": "75",
         "2": "2015-07-31",
         "3": "8.0",
         "4": "English",
         "5": "Family",
         "6": "2025-05-17 16:22:47.252377"
        },
        {
         "0": "The Little Prince",
         "1": "92",
         "2": "2015-07-29",
         "3": "7.6",
         "4": "English",
         "5": "Adventure",
         "6": "2025-05-17 16:22:47.252377"
        },
        {
         "0": "The Little Prince",
         "1": "92",
         "2": "2015-07-29",
         "3": "7.6",
         "4": "English",
         "5": "Adventure",
         "6": "2025-05-17 16:22:47.252377"
        },
        {
         "0": "The Little Prince",
         "1": "92",
         "2": "2015-07-29",
         "3": "7.6",
         "4": "English",
         "5": "Fantasy",
         "6": "2025-05-17 16:22:47.252377"
        },
        {
         "0": "The Little Prince",
         "1": "92",
         "2": "2015-07-29",
         "3": "7.6",
         "4": "English",
         "5": "Fantasy",
         "6": "2025-05-17 16:22:47.252377"
        },
        {
         "0": "The Little Prince",
         "1": "92",
         "2": "2015-07-29",
         "3": "7.6",
         "4": "English",
         "5": "Animation",
         "6": "2025-05-17 16:22:47.252377"
        },
        {
         "0": "The Little Prince",
         "1": "92",
         "2": "2015-07-29",
         "3": "7.6",
         "4": "English",
         "5": "Animation",
         "6": "2025-05-17 16:22:47.252377"
        },
        {
         "0": "Inside Out",
         "1": "94",
         "2": "2015-06-09",
         "3": "8.0",
         "4": "English",
         "5": "Animation",
         "6": "2025-05-17 16:22:47.252377"
        },
        {
         "0": "Inside Out",
         "1": "94",
         "2": "2015-06-09",
         "3": "8.0",
         "4": "English",
         "5": "Animation",
         "6": "2025-05-17 16:22:47.252377"
        },
        {
         "0": "Inside Out",
         "1": "94",
         "2": "2015-06-09",
         "3": "8.0",
         "4": "English",
         "5": "Drama",
         "6": "2025-05-17 16:22:47.252377"
        },
        {
         "0": "Inside Out",
         "1": "94",
         "2": "2015-06-09",
         "3": "8.0",
         "4": "English",
         "5": "Drama",
         "6": "2025-05-17 16:22:47.252377"
        },
        {
         "0": "Inside Out",
         "1": "94",
         "2": "2015-06-09",
         "3": "8.0",
         "4": "English",
         "5": "Comedy",
         "6": "2025-05-17 16:22:47.252377"
        },
        {
         "0": "Inside Out",
         "1": "94",
         "2": "2015-06-09",
         "3": "8.0",
         "4": "English",
         "5": "Comedy",
         "6": "2025-05-17 16:22:47.252377"
        },
        {
         "0": "Inside Out",
         "1": "94",
         "2": "2015-06-09",
         "3": "8.0",
         "4": "English",
         "5": "Family",
         "6": "2025-05-17 16:22:47.252377"
        },
        {
         "0": "Inside Out",
         "1": "94",
         "2": "2015-06-09",
         "3": "8.0",
         "4": "English",
         "5": "Family",
         "6": "2025-05-17 16:22:47.252377"
        },
        {
         "0": "Counting",
         "1": "111",
         "2": "2015-02-09",
         "3": "8.3",
         "4": "English",
         "5": "Documentary",
         "6": "2025-05-17 16:22:47.252377"
        },
        {
         "0": "Counting",
         "1": "111",
         "2": "2015-02-09",
         "3": "8.3",
         "4": "English",
         "5": "Documentary",
         "6": "2025-05-17 16:22:47.252377"
        },
        {
         "0": "Que Horas Ela Volta?",
         "1": "110",
         "2": "2015-02-08",
         "3": "7.8",
         "4": "Português",
         "5": "Drama",
         "6": "2025-05-17 16:22:47.252377"
        },
        {
         "0": "Que Horas Ela Volta?",
         "1": "110",
         "2": "2015-02-08",
         "3": "7.8",
         "4": "Português",
         "5": "Drama",
         "6": "2025-05-17 16:22:47.252377"
        },
        {
         "0": "Ex Machina",
         "1": "108",
         "2": "2015-01-21",
         "3": "7.6",
         "4": "English",
         "5": "Drama",
         "6": "2025-05-17 16:22:47.252377"
        },
        {
         "0": "Ex Machina",
         "1": "108",
         "2": "2015-01-21",
         "3": "7.6",
         "4": "English",
         "5": "Drama",
         "6": "2025-05-17 16:22:47.252377"
        },
        {
         "0": "Ex Machina",
         "1": "108",
         "2": "2015-01-21",
         "3": "7.6",
         "4": "English",
         "5": "Science Fiction",
         "6": "2025-05-17 16:22:47.252377"
        },
        {
         "0": "Ex Machina",
         "1": "108",
         "2": "2015-01-21",
         "3": "7.6",
         "4": "English",
         "5": "Science Fiction",
         "6": "2025-05-17 16:22:47.252377"
        },
        {
         "0": "The Theory of Everything",
         "1": "123",
         "2": "2014-11-26",
         "3": "7.8",
         "4": "Italiano",
         "5": "Drama",
         "6": "2025-05-17 16:22:47.252377"
        },
        {
         "0": "The Theory of Everything",
         "1": "123",
         "2": "2014-11-26",
         "3": "7.8",
         "4": "English",
         "5": "Drama",
         "6": "2025-05-17 16:22:47.252377"
        },
        {
         "0": "The Theory of Everything",
         "1": "123",
         "2": "2014-11-26",
         "3": "7.8",
         "4": "Latin",
         "5": "Drama",
         "6": "2025-05-17 16:22:47.252377"
        },
        {
         "0": "The Theory of Everything",
         "1": "123",
         "2": "2014-11-26",
         "3": "7.8",
         "4": "Français",
         "5": "Drama",
         "6": "2025-05-17 16:22:47.252377"
        },
        {
         "0": "The Theory of Everything",
         "1": "123",
         "2": "2014-11-26",
         "3": "7.8",
         "4": "English",
         "5": "Drama",
         "6": "2025-05-17 16:22:47.252377"
        },
        {
         "0": "The Theory of Everything",
         "1": "123",
         "2": "2014-11-26",
         "3": "7.8",
         "4": "Italiano",
         "5": "Romance",
         "6": "2025-05-17 16:22:47.252377"
        },
        {
         "0": "The Theory of Everything",
         "1": "123",
         "2": "2014-11-26",
         "3": "7.8",
         "4": "English",
         "5": "Romance",
         "6": "2025-05-17 16:22:47.252377"
        },
        {
         "0": "The Theory of Everything",
         "1": "123",
         "2": "2014-11-26",
         "3": "7.8",
         "4": "Latin",
         "5": "Romance",
         "6": "2025-05-17 16:22:47.252377"
        },
        {
         "0": "The Theory of Everything",
         "1": "123",
         "2": "2014-11-26",
         "3": "7.8",
         "4": "Français",
         "5": "Romance",
         "6": "2025-05-17 16:22:47.252377"
        },
        {
         "0": "The Theory of Everything",
         "1": "123",
         "2": "2014-11-26",
         "3": "7.8",
         "4": "English",
         "5": "Romance",
         "6": "2025-05-17 16:22:47.252377"
        },
        {
         "0": "The Imitation Game",
         "1": "113",
         "2": "2014-11-14",
         "3": "8.0",
         "4": "English",
         "5": "Drama",
         "6": "2025-05-17 16:22:47.252377"
        },
        {
         "0": "The Imitation Game",
         "1": "113",
         "2": "2014-11-14",
         "3": "8.0",
         "4": "English",
         "5": "Drama",
         "6": "2025-05-17 16:22:47.252377"
        },
        {
         "0": "The Imitation Game",
         "1": "113",
         "2": "2014-11-14",
         "3": "8.0",
         "4": "English",
         "5": "History",
         "6": "2025-05-17 16:22:47.252377"
        },
        {
         "0": "The Imitation Game",
         "1": "113",
         "2": "2014-11-14",
         "3": "8.0",
         "4": "English",
         "5": "History",
         "6": "2025-05-17 16:22:47.252377"
        },
        {
         "0": "The Imitation Game",
         "1": "113",
         "2": "2014-11-14",
         "3": "8.0",
         "4": "English",
         "5": "Thriller",
         "6": "2025-05-17 16:22:47.252377"
        },
        {
         "0": "The Imitation Game",
         "1": "113",
         "2": "2014-11-14",
         "3": "8.0",
         "4": "English",
         "5": "Thriller",
         "6": "2025-05-17 16:22:47.252377"
        },
        {
         "0": "The Imitation Game",
         "1": "113",
         "2": "2014-11-14",
         "3": "8.0",
         "4": "English",
         "5": "War",
         "6": "2025-05-17 16:22:47.252377"
        },
        {
         "0": "The Imitation Game",
         "1": "113",
         "2": "2014-11-14",
         "3": "8.0",
         "4": "English",
         "5": "War",
         "6": "2025-05-17 16:22:47.252377"
        },
        {
         "0": "Interstellar",
         "1": "169",
         "2": "2014-11-05",
         "3": "8.1",
         "4": "English",
         "5": "Adventure",
         "6": "2025-05-17 16:22:47.252377"
        },
        {
         "0": "Interstellar",
         "1": "169",
         "2": "2014-11-05",
         "3": "8.1",
         "4": "English",
         "5": "Adventure",
         "6": "2025-05-17 16:22:47.252377"
        },
        {
         "0": "Interstellar",
         "1": "169",
         "2": "2014-11-05",
         "3": "8.1",
         "4": "English",
         "5": "Drama",
         "6": "2025-05-17 16:22:47.252377"
        },
        {
         "0": "Interstellar",
         "1": "169",
         "2": "2014-11-05",
         "3": "8.1",
         "4": "English",
         "5": "Drama",
         "6": "2025-05-17 16:22:47.252377"
        },
        {
         "0": "Interstellar",
         "1": "169",
         "2": "2014-11-05",
         "3": "8.1",
         "4": "English",
         "5": "Science Fiction",
         "6": "2025-05-17 16:22:47.252377"
        },
        {
         "0": "Interstellar",
         "1": "169",
         "2": "2014-11-05",
         "3": "8.1",
         "4": "English",
         "5": "Science Fiction",
         "6": "2025-05-17 16:22:47.252377"
        },
        {
         "0": "Big Hero 6",
         "1": "102",
         "2": "2014-10-24",
         "3": "7.8",
         "4": "English",
         "5": "Adventure",
         "6": "2025-05-17 16:22:47.252377"
        },
        {
         "0": "Big Hero 6",
         "1": "102",
         "2": "2014-10-24",
         "3": "7.8",
         "4": "English",
         "5": "Adventure",
         "6": "2025-05-17 16:22:47.252377"
        },
        {
         "0": "Big Hero 6",
         "1": "102",
         "2": "2014-10-24",
         "3": "7.8",
         "4": "English",
         "5": "Animation",
         "6": "2025-05-17 16:22:47.252377"
        },
        {
         "0": "Big Hero 6",
         "1": "102",
         "2": "2014-10-24",
         "3": "7.8",
         "4": "English",
         "5": "Animation",
         "6": "2025-05-17 16:22:47.252377"
        },
        {
         "0": "Big Hero 6",
         "1": "102",
         "2": "2014-10-24",
         "3": "7.8",
         "4": "English",
         "5": "Action",
         "6": "2025-05-17 16:22:47.252377"
        },
        {
         "0": "Big Hero 6",
         "1": "102",
         "2": "2014-10-24",
         "3": "7.8",
         "4": "English",
         "5": "Action",
         "6": "2025-05-17 16:22:47.252377"
        },
        {
         "0": "Big Hero 6",
         "1": "102",
         "2": "2014-10-24",
         "3": "7.8",
         "4": "English",
         "5": "Comedy",
         "6": "2025-05-17 16:22:47.252377"
        },
        {
         "0": "Big Hero 6",
         "1": "102",
         "2": "2014-10-24",
         "3": "7.8",
         "4": "English",
         "5": "Comedy",
         "6": "2025-05-17 16:22:47.252377"
        },
        {
         "0": "Big Hero 6",
         "1": "102",
         "2": "2014-10-24",
         "3": "7.8",
         "4": "English",
         "5": "Family",
         "6": "2025-05-17 16:22:47.252377"
        },
        {
         "0": "Big Hero 6",
         "1": "102",
         "2": "2014-10-24",
         "3": "7.8",
         "4": "English",
         "5": "Family",
         "6": "2025-05-17 16:22:47.252377"
        },
        {
         "0": "Nightcrawler",
         "1": "117",
         "2": "2014-10-23",
         "3": "7.6",
         "4": "English",
         "5": "Drama",
         "6": "2025-05-17 16:22:47.252377"
        },
        {
         "0": "Nightcrawler",
         "1": "117",
         "2": "2014-10-23",
         "3": "7.6",
         "4": "English",
         "5": "Drama",
         "6": "2025-05-17 16:22:47.252377"
        },
        {
         "0": "Nightcrawler",
         "1": "117",
         "2": "2014-10-23",
         "3": "7.6",
         "4": "English",
         "5": "Thriller",
         "6": "2025-05-17 16:22:47.252377"
        },
        {
         "0": "Nightcrawler",
         "1": "117",
         "2": "2014-10-23",
         "3": "7.6",
         "4": "English",
         "5": "Thriller",
         "6": "2025-05-17 16:22:47.252377"
        },
        {
         "0": "Nightcrawler",
         "1": "117",
         "2": "2014-10-23",
         "3": "7.6",
         "4": "English",
         "5": "Crime",
         "6": "2025-05-17 16:22:47.252377"
        },
        {
         "0": "Nightcrawler",
         "1": "117",
         "2": "2014-10-23",
         "3": "7.6",
         "4": "English",
         "5": "Crime",
         "6": "2025-05-17 16:22:47.252377"
        },
        {
         "0": "Whiplash",
         "1": "105",
         "2": "2014-10-10",
         "3": "8.3",
         "4": "English",
         "5": "Drama",
         "6": "2025-05-17 16:22:47.252377"
        },
        {
         "0": "Whiplash",
         "1": "105",
         "2": "2014-10-10",
         "3": "8.3",
         "4": "English",
         "5": "Drama",
         "6": "2025-05-17 16:22:47.252377"
        },
        {
         "0": "A escondidas",
         "1": "96",
         "2": "2014-10-03",
         "3": "7.6",
         "4": "Español",
         "5": "Drama",
         "6": "2025-05-17 16:22:47.252377"
        },
        {
         "0": "A escondidas",
         "1": "96",
         "2": "2014-10-03",
         "3": "7.6",
         "4": "Español",
         "5": "Drama",
         "6": "2025-05-17 16:22:47.252377"
        },
        {
         "0": "A escondidas",
         "1": "96",
         "2": "2014-10-03",
         "3": "7.6",
         "4": "Español",
         "5": "Romance",
         "6": "2025-05-17 16:22:47.252377"
        },
        {
         "0": "A escondidas",
         "1": "96",
         "2": "2014-10-03",
         "3": "7.6",
         "4": "Español",
         "5": "Romance",
         "6": "2025-05-17 16:22:47.252377"
        },
        {
         "0": "Gone Girl",
         "1": "145",
         "2": "2014-10-01",
         "3": "7.9",
         "4": "English",
         "5": "Drama",
         "6": "2025-05-17 16:22:47.252377"
        },
        {
         "0": "Gone Girl",
         "1": "145",
         "2": "2014-10-01",
         "3": "7.9",
         "4": "English",
         "5": "Drama",
         "6": "2025-05-17 16:22:47.252377"
        },
        {
         "0": "Gone Girl",
         "1": "145",
         "2": "2014-10-01",
         "3": "7.9",
         "4": "English",
         "5": "Thriller",
         "6": "2025-05-17 16:22:47.252377"
        },
        {
         "0": "Gone Girl",
         "1": "145",
         "2": "2014-10-01",
         "3": "7.9",
         "4": "English",
         "5": "Thriller",
         "6": "2025-05-17 16:22:47.252377"
        },
        {
         "0": "Gone Girl",
         "1": "145",
         "2": "2014-10-01",
         "3": "7.9",
         "4": "English",
         "5": "Mystery",
         "6": "2025-05-17 16:22:47.252377"
        },
        {
         "0": "Gone Girl",
         "1": "145",
         "2": "2014-10-01",
         "3": "7.9",
         "4": "English",
         "5": "Mystery",
         "6": "2025-05-17 16:22:47.252377"
        },
        {
         "0": "Guardians of the Galaxy",
         "1": "121",
         "2": "2014-07-30",
         "3": "7.9",
         "4": "English",
         "5": "Adventure",
         "6": "2025-05-17 16:22:47.252377"
        },
        {
         "0": "Guardians of the Galaxy",
         "1": "121",
         "2": "2014-07-30",
         "3": "7.9",
         "4": "English",
         "5": "Adventure",
         "6": "2025-05-17 16:22:47.252377"
        },
        {
         "0": "Guardians of the Galaxy",
         "1": "121",
         "2": "2014-07-30",
         "3": "7.9",
         "4": "English",
         "5": "Action",
         "6": "2025-05-17 16:22:47.252377"
        },
        {
         "0": "Guardians of the Galaxy",
         "1": "121",
         "2": "2014-07-30",
         "3": "7.9",
         "4": "English",
         "5": "Action",
         "6": "2025-05-17 16:22:47.252377"
        },
        {
         "0": "Guardians of the Galaxy",
         "1": "121",
         "2": "2014-07-30",
         "3": "7.9",
         "4": "English",
         "5": "Science Fiction",
         "6": "2025-05-17 16:22:47.252377"
        },
        {
         "0": "Guardians of the Galaxy",
         "1": "121",
         "2": "2014-07-30",
         "3": "7.9",
         "4": "English",
         "5": "Science Fiction",
         "6": "2025-05-17 16:22:47.252377"
        },
        {
         "0": "How to Train Your Dragon 2",
         "1": "102",
         "2": "2014-06-12",
         "3": "7.6",
         "4": "English",
         "5": "Adventure",
         "6": "2025-05-17 16:22:47.252377"
        },
        {
         "0": "How to Train Your Dragon 2",
         "1": "102",
         "2": "2014-06-12",
         "3": "7.6",
         "4": "English",
         "5": "Adventure",
         "6": "2025-05-17 16:22:47.252377"
        },
        {
         "0": "How to Train Your Dragon 2",
         "1": "102",
         "2": "2014-06-12",
         "3": "7.6",
         "4": "English",
         "5": "Fantasy",
         "6": "2025-05-17 16:22:47.252377"
        },
        {
         "0": "How to Train Your Dragon 2",
         "1": "102",
         "2": "2014-06-12",
         "3": "7.6",
         "4": "English",
         "5": "Fantasy",
         "6": "2025-05-17 16:22:47.252377"
        },
        {
         "0": "How to Train Your Dragon 2",
         "1": "102",
         "2": "2014-06-12",
         "3": "7.6",
         "4": "English",
         "5": "Animation",
         "6": "2025-05-17 16:22:47.252377"
        },
        {
         "0": "How to Train Your Dragon 2",
         "1": "102",
         "2": "2014-06-12",
         "3": "7.6",
         "4": "English",
         "5": "Animation",
         "6": "2025-05-17 16:22:47.252377"
        },
        {
         "0": "How to Train Your Dragon 2",
         "1": "102",
         "2": "2014-06-12",
         "3": "7.6",
         "4": "English",
         "5": "Action",
         "6": "2025-05-17 16:22:47.252377"
        },
        {
         "0": "How to Train Your Dragon 2",
         "1": "102",
         "2": "2014-06-12",
         "3": "7.6",
         "4": "English",
         "5": "Action",
         "6": "2025-05-17 16:22:47.252377"
        },
        {
         "0": "How to Train Your Dragon 2",
         "1": "102",
         "2": "2014-06-12",
         "3": "7.6",
         "4": "English",
         "5": "Comedy",
         "6": "2025-05-17 16:22:47.252377"
        },
        {
         "0": "How to Train Your Dragon 2",
         "1": "102",
         "2": "2014-06-12",
         "3": "7.6",
         "4": "English",
         "5": "Comedy",
         "6": "2025-05-17 16:22:47.252377"
        },
        {
         "0": "How to Train Your Dragon 2",
         "1": "102",
         "2": "2014-06-12",
         "3": "7.6",
         "4": "English",
         "5": "Family",
         "6": "2025-05-17 16:22:47.252377"
        },
        {
         "0": "How to Train Your Dragon 2",
         "1": "102",
         "2": "2014-06-12",
         "3": "7.6",
         "4": "English",
         "5": "Family",
         "6": "2025-05-17 16:22:47.252377"
        },
        {
         "0": "Edge of Tomorrow",
         "1": "113",
         "2": "2014-05-27",
         "3": "7.6",
         "4": "English",
         "5": "Action",
         "6": "2025-05-17 16:22:47.252377"
        },
        {
         "0": "Edge of Tomorrow",
         "1": "113",
         "2": "2014-05-27",
         "3": "7.6",
         "4": "English",
         "5": "Action",
         "6": "2025-05-17 16:22:47.252377"
        },
        {
         "0": "Edge of Tomorrow",
         "1": "113",
         "2": "2014-05-27",
         "3": "7.6",
         "4": "English",
         "5": "Science Fiction",
         "6": "2025-05-17 16:22:47.252377"
        },
        {
         "0": "Edge of Tomorrow",
         "1": "113",
         "2": "2014-05-27",
         "3": "7.6",
         "4": "English",
         "5": "Science Fiction",
         "6": "2025-05-17 16:22:47.252377"
        },
        {
         "0": "The Fault in Our Stars",
         "1": "125",
         "2": "2014-05-16",
         "3": "7.6",
         "4": "English",
         "5": "Drama",
         "6": "2025-05-17 16:22:47.252377"
        },
        {
         "0": "The Fault in Our Stars",
         "1": "125",
         "2": "2014-05-16",
         "3": "7.6",
         "4": "English",
         "5": "Drama",
         "6": "2025-05-17 16:22:47.252377"
        },
        {
         "0": "The Fault in Our Stars",
         "1": "125",
         "2": "2014-05-16",
         "3": "7.6",
         "4": "English",
         "5": "Romance",
         "6": "2025-05-17 16:22:47.252377"
        },
        {
         "0": "The Fault in Our Stars",
         "1": "125",
         "2": "2014-05-16",
         "3": "7.6",
         "4": "English",
         "5": "Romance",
         "6": "2025-05-17 16:22:47.252377"
        },
        {
         "0": "Captain America: The Winter Soldier",
         "1": "136",
         "2": "2014-03-20",
         "3": "7.6",
         "4": "English",
         "5": "Adventure",
         "6": "2025-05-17 16:22:47.252377"
        },
        {
         "0": "Captain America: The Winter Soldier",
         "1": "136",
         "2": "2014-03-20",
         "3": "7.6",
         "4": "English",
         "5": "Adventure",
         "6": "2025-05-17 16:22:47.252377"
        },
        {
         "0": "Captain America: The Winter Soldier",
         "1": "136",
         "2": "2014-03-20",
         "3": "7.6",
         "4": "English",
         "5": "Action",
         "6": "2025-05-17 16:22:47.252377"
        },
        {
         "0": "Captain America: The Winter Soldier",
         "1": "136",
         "2": "2014-03-20",
         "3": "7.6",
         "4": "English",
         "5": "Action",
         "6": "2025-05-17 16:22:47.252377"
        },
        {
         "0": "Captain America: The Winter Soldier",
         "1": "136",
         "2": "2014-03-20",
         "3": "7.6",
         "4": "English",
         "5": "Science Fiction",
         "6": "2025-05-17 16:22:47.252377"
        },
        {
         "0": "Captain America: The Winter Soldier",
         "1": "136",
         "2": "2014-03-20",
         "3": "7.6",
         "4": "English",
         "5": "Science Fiction",
         "6": "2025-05-17 16:22:47.252377"
        },
        {
         "0": "The Grand Budapest Hotel",
         "1": "99",
         "2": "2014-02-26",
         "3": "8.0",
         "4": "English",
         "5": "Drama",
         "6": "2025-05-17 16:22:47.252377"
        },
        {
         "0": "The Grand Budapest Hotel",
         "1": "99",
         "2": "2014-02-26",
         "3": "8.0",
         "4": "Français",
         "5": "Drama",
         "6": "2025-05-17 16:22:47.252377"
        },
        {
         "0": "The Grand Budapest Hotel",
         "1": "99",
         "2": "2014-02-26",
         "3": "8.0",
         "4": "English",
         "5": "Drama",
         "6": "2025-05-17 16:22:47.252377"
        },
        {
         "0": "The Grand Budapest Hotel",
         "1": "99",
         "2": "2014-02-26",
         "3": "8.0",
         "4": "English",
         "5": "Comedy",
         "6": "2025-05-17 16:22:47.252377"
        },
        {
         "0": "The Grand Budapest Hotel",
         "1": "99",
         "2": "2014-02-26",
         "3": "8.0",
         "4": "Français",
         "5": "Comedy",
         "6": "2025-05-17 16:22:47.252377"
        },
        {
         "0": "The Grand Budapest Hotel",
         "1": "99",
         "2": "2014-02-26",
         "3": "8.0",
         "4": "English",
         "5": "Comedy",
         "6": "2025-05-17 16:22:47.252377"
        },
        {
         "0": "The Wolf of Wall Street",
         "1": "180",
         "2": "2013-12-25",
         "3": "7.9",
         "4": "English",
         "5": "Drama",
         "6": "2025-05-17 16:22:47.252377"
        },
        {
         "0": "The Wolf of Wall Street",
         "1": "180",
         "2": "2013-12-25",
         "3": "7.9",
         "4": "Français",
         "5": "Drama",
         "6": "2025-05-17 16:22:47.252377"
        },
        {
         "0": "The Wolf of Wall Street",
         "1": "180",
         "2": "2013-12-25",
         "3": "7.9",
         "4": "English",
         "5": "Drama",
         "6": "2025-05-17 16:22:47.252377"
        },
        {
         "0": "The Wolf of Wall Street",
         "1": "180",
         "2": "2013-12-25",
         "3": "7.9",
         "4": "English",
         "5": "Comedy",
         "6": "2025-05-17 16:22:47.252377"
        },
        {
         "0": "The Wolf of Wall Street",
         "1": "180",
         "2": "2013-12-25",
         "3": "7.9",
         "4": "Français",
         "5": "Comedy",
         "6": "2025-05-17 16:22:47.252377"
        },
        {
         "0": "The Wolf of Wall Street",
         "1": "180",
         "2": "2013-12-25",
         "3": "7.9",
         "4": "English",
         "5": "Comedy",
         "6": "2025-05-17 16:22:47.252377"
        },
        {
         "0": "The Wolf of Wall Street",
         "1": "180",
         "2": "2013-12-25",
         "3": "7.9",
         "4": "English",
         "5": "Crime",
         "6": "2025-05-17 16:22:47.252377"
        },
        {
         "0": "The Wolf of Wall Street",
         "1": "180",
         "2": "2013-12-25",
         "3": "7.9",
         "4": "Français",
         "5": "Crime",
         "6": "2025-05-17 16:22:47.252377"
        },
        {
         "0": "The Wolf of Wall Street",
         "1": "180",
         "2": "2013-12-25",
         "3": "7.9",
         "4": "English",
         "5": "Crime",
         "6": "2025-05-17 16:22:47.252377"
        },
        {
         "0": "Her",
         "1": "126",
         "2": "2013-12-18",
         "3": "7.9",
         "4": "English",
         "5": "Drama",
         "6": "2025-05-17 16:22:47.252377"
        },
        {
         "0": "Her",
         "1": "126",
         "2": "2013-12-18",
         "3": "7.9",
         "4": "English",
         "5": "Drama",
         "6": "2025-05-17 16:22:47.252377"
        },
        {
         "0": "Her",
         "1": "126",
         "2": "2013-12-18",
         "3": "7.9",
         "4": "English",
         "5": "Science Fiction",
         "6": "2025-05-17 16:22:47.252377"
        },
        {
         "0": "Her",
         "1": "126",
         "2": "2013-12-18",
         "3": "7.9",
         "4": "English",
         "5": "Science Fiction",
         "6": "2025-05-17 16:22:47.252377"
        },
        {
         "0": "Her",
         "1": "126",
         "2": "2013-12-18",
         "3": "7.9",
         "4": "English",
         "5": "Romance",
         "6": "2025-05-17 16:22:47.252377"
        },
        {
         "0": "Her",
         "1": "126",
         "2": "2013-12-18",
         "3": "7.9",
         "4": "English",
         "5": "Romance",
         "6": "2025-05-17 16:22:47.252377"
        },
        {
         "0": "The Hobbit: The Desolation of Smaug",
         "1": "161",
         "2": "2013-12-11",
         "3": "7.6",
         "4": "English",
         "5": "Adventure",
         "6": "2025-05-17 16:22:47.252377"
        },
        {
         "0": "The Hobbit: The Desolation of Smaug",
         "1": "161",
         "2": "2013-12-11",
         "3": "7.6",
         "4": "English",
         "5": "Adventure",
         "6": "2025-05-17 16:22:47.252377"
        },
        {
         "0": "The Hobbit: The Desolation of Smaug",
         "1": "161",
         "2": "2013-12-11",
         "3": "7.6",
         "4": "English",
         "5": "Fantasy",
         "6": "2025-05-17 16:22:47.252377"
        },
        {
         "0": "The Hobbit: The Desolation of Smaug",
         "1": "161",
         "2": "2013-12-11",
         "3": "7.6",
         "4": "English",
         "5": "Fantasy",
         "6": "2025-05-17 16:22:47.252377"
        },
        {
         "0": "Guten Tag, Ramón",
         "1": "119",
         "2": "2013-10-18",
         "3": "8.1",
         "4": "English",
         "5": "Drama",
         "6": "2025-05-17 16:22:47.252377"
        },
        {
         "0": "Guten Tag, Ramón",
         "1": "119",
         "2": "2013-10-18",
         "3": "8.1",
         "4": "Español",
         "5": "Drama",
         "6": "2025-05-17 16:22:47.252377"
        },
        {
         "0": "Guten Tag, Ramón",
         "1": "119",
         "2": "2013-10-18",
         "3": "8.1",
         "4": "Deutsch",
         "5": "Drama",
         "6": "2025-05-17 16:22:47.252377"
        },
        {
         "0": "12 Years a Slave",
         "1": "134",
         "2": "2013-10-18",
         "3": "7.9",
         "4": "English",
         "5": "Drama",
         "6": "2025-05-17 16:22:47.252377"
        },
        {
         "0": "12 Years a Slave",
         "1": "134",
         "2": "2013-10-18",
         "3": "7.9",
         "4": "English",
         "5": "Drama",
         "6": "2025-05-17 16:22:47.252377"
        },
        {
         "0": "12 Years a Slave",
         "1": "134",
         "2": "2013-10-18",
         "3": "7.9",
         "4": "English",
         "5": "History",
         "6": "2025-05-17 16:22:47.252377"
        },
        {
         "0": "12 Years a Slave",
         "1": "134",
         "2": "2013-10-18",
         "3": "7.9",
         "4": "English",
         "5": "History",
         "6": "2025-05-17 16:22:47.252377"
        },
        {
         "0": "Captain Phillips",
         "1": "134",
         "2": "2013-10-10",
         "3": "7.6",
         "4": "English",
         "5": "Drama",
         "6": "2025-05-17 16:22:47.252377"
        },
        {
         "0": "Captain Phillips",
         "1": "134",
         "2": "2013-10-10",
         "3": "7.6",
         "4": "Somali",
         "5": "Drama",
         "6": "2025-05-17 16:22:47.252377"
        },
        {
         "0": "Captain Phillips",
         "1": "134",
         "2": "2013-10-10",
         "3": "7.6",
         "4": "English",
         "5": "Drama",
         "6": "2025-05-17 16:22:47.252377"
        },
        {
         "0": "Captain Phillips",
         "1": "134",
         "2": "2013-10-10",
         "3": "7.6",
         "4": "English",
         "5": "Action",
         "6": "2025-05-17 16:22:47.252377"
        },
        {
         "0": "Captain Phillips",
         "1": "134",
         "2": "2013-10-10",
         "3": "7.6",
         "4": "Somali",
         "5": "Action",
         "6": "2025-05-17 16:22:47.252377"
        },
        {
         "0": "Captain Phillips",
         "1": "134",
         "2": "2013-10-10",
         "3": "7.6",
         "4": "English",
         "5": "Action",
         "6": "2025-05-17 16:22:47.252377"
        },
        {
         "0": "Captain Phillips",
         "1": "134",
         "2": "2013-10-10",
         "3": "7.6",
         "4": "English",
         "5": "Thriller",
         "6": "2025-05-17 16:22:47.252377"
        },
        {
         "0": "Captain Phillips",
         "1": "134",
         "2": "2013-10-10",
         "3": "7.6",
         "4": "Somali",
         "5": "Thriller",
         "6": "2025-05-17 16:22:47.252377"
        },
        {
         "0": "Captain Phillips",
         "1": "134",
         "2": "2013-10-10",
         "3": "7.6",
         "4": "English",
         "5": "Thriller",
         "6": "2025-05-17 16:22:47.252377"
        },
        {
         "0": "Prisoners",
         "1": "153",
         "2": "2013-09-18",
         "3": "7.9",
         "4": "English",
         "5": "Drama",
         "6": "2025-05-17 16:22:47.252377"
        },
        {
         "0": "Prisoners",
         "1": "153",
         "2": "2013-09-18",
         "3": "7.9",
         "4": "English",
         "5": "Drama",
         "6": "2025-05-17 16:22:47.252377"
        },
        {
         "0": "Prisoners",
         "1": "153",
         "2": "2013-09-18",
         "3": "7.9",
         "4": "English",
         "5": "Thriller",
         "6": "2025-05-17 16:22:47.252377"
        },
        {
         "0": "Prisoners",
         "1": "153",
         "2": "2013-09-18",
         "3": "7.9",
         "4": "English",
         "5": "Thriller",
         "6": "2025-05-17 16:22:47.252377"
        },
        {
         "0": "Prisoners",
         "1": "153",
         "2": "2013-09-18",
         "3": "7.9",
         "4": "English",
         "5": "Crime",
         "6": "2025-05-17 16:22:47.252377"
        },
        {
         "0": "Prisoners",
         "1": "153",
         "2": "2013-09-18",
         "3": "7.9",
         "4": "English",
         "5": "Crime",
         "6": "2025-05-17 16:22:47.252377"
        },
        {
         "0": "Dallas Buyers Club",
         "1": "117",
         "2": "2013-09-07",
         "3": "7.9",
         "4": "English",
         "5": "Drama",
         "6": "2025-05-17 16:22:47.252377"
        },
        {
         "0": "Dallas Buyers Club",
         "1": "117",
         "2": "2013-09-07",
         "3": "7.9",
         "4": "Nihongo",
         "5": "Drama",
         "6": "2025-05-17 16:22:47.252377"
        },
        {
         "0": "Dallas Buyers Club",
         "1": "117",
         "2": "2013-09-07",
         "3": "7.9",
         "4": "English",
         "5": "Drama",
         "6": "2025-05-17 16:22:47.252377"
        },
        {
         "0": "Dallas Buyers Club",
         "1": "117",
         "2": "2013-09-07",
         "3": "7.9",
         "4": "English",
         "5": "History",
         "6": "2025-05-17 16:22:47.252377"
        },
        {
         "0": "Dallas Buyers Club",
         "1": "117",
         "2": "2013-09-07",
         "3": "7.9",
         "4": "Nihongo",
         "5": "History",
         "6": "2025-05-17 16:22:47.252377"
        },
        {
         "0": "Dallas Buyers Club",
         "1": "117",
         "2": "2013-09-07",
         "3": "7.9",
         "4": "English",
         "5": "History",
         "6": "2025-05-17 16:22:47.252377"
        },
        {
         "0": "Rush",
         "1": "123",
         "2": "2013-09-02",
         "3": "7.7",
         "4": "English",
         "5": "Drama",
         "6": "2025-05-17 16:22:47.252377"
        },
        {
         "0": "Rush",
         "1": "123",
         "2": "2013-09-02",
         "3": "7.7",
         "4": "Italiano",
         "5": "Drama",
         "6": "2025-05-17 16:22:47.252377"
        },
        {
         "0": "Rush",
         "1": "123",
         "2": "2013-09-02",
         "3": "7.7",
         "4": "Français",
         "5": "Drama",
         "6": "2025-05-17 16:22:47.252377"
        },
        {
         "0": "Rush",
         "1": "123",
         "2": "2013-09-02",
         "3": "7.7",
         "4": "Deutsch",
         "5": "Drama",
         "6": "2025-05-17 16:22:47.252377"
        },
        {
         "0": "Rush",
         "1": "123",
         "2": "2013-09-02",
         "3": "7.7",
         "4": "English",
         "5": "Drama",
         "6": "2025-05-17 16:22:47.252377"
        },
        {
         "0": "Rush",
         "1": "123",
         "2": "2013-09-02",
         "3": "7.7",
         "4": "English",
         "5": "Action",
         "6": "2025-05-17 16:22:47.252377"
        },
        {
         "0": "Rush",
         "1": "123",
         "2": "2013-09-02",
         "3": "7.7",
         "4": "Italiano",
         "5": "Action",
         "6": "2025-05-17 16:22:47.252377"
        },
        {
         "0": "Rush",
         "1": "123",
         "2": "2013-09-02",
         "3": "7.7",
         "4": "Français",
         "5": "Action",
         "6": "2025-05-17 16:22:47.252377"
        },
        {
         "0": "Rush",
         "1": "123",
         "2": "2013-09-02",
         "3": "7.7",
         "4": "Deutsch",
         "5": "Action",
         "6": "2025-05-17 16:22:47.252377"
        },
        {
         "0": "Rush",
         "1": "123",
         "2": "2013-09-02",
         "3": "7.7",
         "4": "English",
         "5": "Action",
         "6": "2025-05-17 16:22:47.252377"
        },
        {
         "0": "One Direction: This Is Us",
         "1": "92",
         "2": "2013-08-28",
         "3": "8.0",
         "4": "Português",
         "5": "Documentary",
         "6": "2025-05-17 16:22:47.252377"
        },
        {
         "0": "One Direction: This Is Us",
         "1": "92",
         "2": "2013-08-28",
         "3": "8.0",
         "4": "English",
         "5": "Documentary",
         "6": "2025-05-17 16:22:47.252377"
        },
        {
         "0": "One Direction: This Is Us",
         "1": "92",
         "2": "2013-08-28",
         "3": "8.0",
         "4": "English",
         "5": "Documentary",
         "6": "2025-05-17 16:22:47.252377"
        },
        {
         "0": "One Direction: This Is Us",
         "1": "92",
         "2": "2013-08-28",
         "3": "8.0",
         "4": "Português",
         "5": "Music",
         "6": "2025-05-17 16:22:47.252377"
        },
        {
         "0": "One Direction: This Is Us",
         "1": "92",
         "2": "2013-08-28",
         "3": "8.0",
         "4": "English",
         "5": "Music",
         "6": "2025-05-17 16:22:47.252377"
        },
        {
         "0": "One Direction: This Is Us",
         "1": "92",
         "2": "2013-08-28",
         "3": "8.0",
         "4": "English",
         "5": "Music",
         "6": "2025-05-17 16:22:47.252377"
        },
        {
         "0": "About Time",
         "1": "123",
         "2": "2013-08-16",
         "3": "7.8",
         "4": "English",
         "5": "Drama",
         "6": "2025-05-17 16:22:47.252377"
        },
        {
         "0": "About Time",
         "1": "123",
         "2": "2013-08-16",
         "3": "7.8",
         "4": "English",
         "5": "Drama",
         "6": "2025-05-17 16:22:47.252377"
        },
        {
         "0": "About Time",
         "1": "123",
         "2": "2013-08-16",
         "3": "7.8",
         "4": "English",
         "5": "Comedy",
         "6": "2025-05-17 16:22:47.252377"
        },
        {
         "0": "About Time",
         "1": "123",
         "2": "2013-08-16",
         "3": "7.8",
         "4": "English",
         "5": "Comedy",
         "6": "2025-05-17 16:22:47.252377"
        },
        {
         "0": "About Time",
         "1": "123",
         "2": "2013-08-16",
         "3": "7.8",
         "4": "English",
         "5": "Science Fiction",
         "6": "2025-05-17 16:22:47.252377"
        },
        {
         "0": "About Time",
         "1": "123",
         "2": "2013-08-16",
         "3": "7.8",
         "4": "English",
         "5": "Science Fiction",
         "6": "2025-05-17 16:22:47.252377"
        },
        {
         "0": "The Square",
         "1": "88",
         "2": "2013-06-07",
         "3": "7.8",
         "4": "al-?arabiyyah",
         "5": "Drama",
         "6": "2025-05-17 16:22:47.252377"
        },
        {
         "0": "The Square",
         "1": "88",
         "2": "2013-06-07",
         "3": "7.8",
         "4": "al-?arabiyyah",
         "5": "Drama",
         "6": "2025-05-17 16:22:47.252377"
        },
        {
         "0": "The Square",
         "1": "88",
         "2": "2013-06-07",
         "3": "7.8",
         "4": "al-?arabiyyah",
         "5": "History",
         "6": "2025-05-17 16:22:47.252377"
        },
        {
         "0": "The Square",
         "1": "88",
         "2": "2013-06-07",
         "3": "7.8",
         "4": "al-?arabiyyah",
         "5": "History",
         "6": "2025-05-17 16:22:47.252377"
        },
        {
         "0": "The Square",
         "1": "88",
         "2": "2013-06-07",
         "3": "7.8",
         "4": "al-?arabiyyah",
         "5": "Documentary",
         "6": "2025-05-17 16:22:47.252377"
        },
        {
         "0": "The Square",
         "1": "88",
         "2": "2013-06-07",
         "3": "7.8",
         "4": "al-?arabiyyah",
         "5": "Documentary",
         "6": "2025-05-17 16:22:47.252377"
        },
        {
         "0": "Along the Roadside",
         "1": "118",
         "2": "2013-02-28",
         "3": "7.7",
         "4": "English",
         "5": "Comedy",
         "6": "2025-05-17 16:22:47.252377"
        },
        {
         "0": "Along the Roadside",
         "1": "118",
         "2": "2013-02-28",
         "3": "7.7",
         "4": "English",
         "5": "Comedy",
         "6": "2025-05-17 16:22:47.252377"
        },
        {
         "0": "Along the Roadside",
         "1": "118",
         "2": "2013-02-28",
         "3": "7.7",
         "4": "English",
         "5": "Music",
         "6": "2025-05-17 16:22:47.252377"
        },
        {
         "0": "Along the Roadside",
         "1": "118",
         "2": "2013-02-28",
         "3": "7.7",
         "4": "English",
         "5": "Music",
         "6": "2025-05-17 16:22:47.252377"
        },
        {
         "0": "Along the Roadside",
         "1": "118",
         "2": "2013-02-28",
         "3": "7.7",
         "4": "English",
         "5": "Romance",
         "6": "2025-05-17 16:22:47.252377"
        },
        {
         "0": "Along the Roadside",
         "1": "118",
         "2": "2013-02-28",
         "3": "7.7",
         "4": "English",
         "5": "Romance",
         "6": "2025-05-17 16:22:47.252377"
        },
        {
         "0": "Batman: The Dark Knight Returns, Part 2",
         "1": "78",
         "2": "2013-01-18",
         "3": "7.9",
         "4": "English",
         "5": "Animation",
         "6": "2025-05-17 16:22:47.252377"
        },
        {
         "0": "Batman: The Dark Knight Returns, Part 2",
         "1": "78",
         "2": "2013-01-18",
         "3": "7.9",
         "4": "English",
         "5": "Animation",
         "6": "2025-05-17 16:22:47.252377"
        },
        {
         "0": "Batman: The Dark Knight Returns, Part 2",
         "1": "78",
         "2": "2013-01-18",
         "3": "7.9",
         "4": "English",
         "5": "Action",
         "6": "2025-05-17 16:22:47.252377"
        },
        {
         "0": "Batman: The Dark Knight Returns, Part 2",
         "1": "78",
         "2": "2013-01-18",
         "3": "7.9",
         "4": "English",
         "5": "Action",
         "6": "2025-05-17 16:22:47.252377"
        },
        {
         "0": "La migliore offerta",
         "1": "124",
         "2": "2013-01-01",
         "3": "7.7",
         "4": "English",
         "5": "Drama",
         "6": "2025-05-17 16:22:47.252377"
        },
        {
         "0": "La migliore offerta",
         "1": "124",
         "2": "2013-01-01",
         "3": "7.7",
         "4": "English",
         "5": "Drama",
         "6": "2025-05-17 16:22:47.252377"
        },
        {
         "0": "La migliore offerta",
         "1": "124",
         "2": "2013-01-01",
         "3": "7.7",
         "4": "English",
         "5": "Crime",
         "6": "2025-05-17 16:22:47.252377"
        },
        {
         "0": "La migliore offerta",
         "1": "124",
         "2": "2013-01-01",
         "3": "7.7",
         "4": "English",
         "5": "Crime",
         "6": "2025-05-17 16:22:47.252377"
        },
        {
         "0": "La migliore offerta",
         "1": "124",
         "2": "2013-01-01",
         "3": "7.7",
         "4": "English",
         "5": "Mystery",
         "6": "2025-05-17 16:22:47.252377"
        },
        {
         "0": "La migliore offerta",
         "1": "124",
         "2": "2013-01-01",
         "3": "7.7",
         "4": "English",
         "5": "Mystery",
         "6": "2025-05-17 16:22:47.252377"
        },
        {
         "0": "La migliore offerta",
         "1": "124",
         "2": "2013-01-01",
         "3": "7.7",
         "4": "English",
         "5": "Romance",
         "6": "2025-05-17 16:22:47.252377"
        },
        {
         "0": "La migliore offerta",
         "1": "124",
         "2": "2013-01-01",
         "3": "7.7",
         "4": "English",
         "5": "Romance",
         "6": "2025-05-17 16:22:47.252377"
        },
        {
         "0": "Django Unchained",
         "1": "165",
         "2": "2012-12-25",
         "3": "7.8",
         "4": "English",
         "5": "Drama",
         "6": "2025-05-17 16:22:47.252377"
        },
        {
         "0": "Django Unchained",
         "1": "165",
         "2": "2012-12-25",
         "3": "7.8",
         "4": "Français",
         "5": "Drama",
         "6": "2025-05-17 16:22:47.252377"
        },
        {
         "0": "Django Unchained",
         "1": "165",
         "2": "2012-12-25",
         "3": "7.8",
         "4": "Deutsch",
         "5": "Drama",
         "6": "2025-05-17 16:22:47.252377"
        },
        {
         "0": "Django Unchained",
         "1": "165",
         "2": "2012-12-25",
         "3": "7.8",
         "4": "English",
         "5": "Drama",
         "6": "2025-05-17 16:22:47.252377"
        },
        {
         "0": "Django Unchained",
         "1": "165",
         "2": "2012-12-25",
         "3": "7.8",
         "4": "English",
         "5": "Western",
         "6": "2025-05-17 16:22:47.252377"
        },
        {
         "0": "Django Unchained",
         "1": "165",
         "2": "2012-12-25",
         "3": "7.8",
         "4": "Français",
         "5": "Western",
         "6": "2025-05-17 16:22:47.252377"
        },
        {
         "0": "Django Unchained",
         "1": "165",
         "2": "2012-12-25",
         "3": "7.8",
         "4": "Deutsch",
         "5": "Western",
         "6": "2025-05-17 16:22:47.252377"
        },
        {
         "0": "Django Unchained",
         "1": "165",
         "2": "2012-12-25",
         "3": "7.8",
         "4": "English",
         "5": "Western",
         "6": "2025-05-17 16:22:47.252377"
        },
        {
         "0": "Ernest et Célestine",
         "1": "78",
         "2": "2012-12-12",
         "3": "7.6",
         "4": "Français",
         "5": "Animation",
         "6": "2025-05-17 16:22:47.252377"
        },
        {
         "0": "Ernest et Célestine",
         "1": "78",
         "2": "2012-12-12",
         "3": "7.6",
         "4": "Français",
         "5": "Animation",
         "6": "2025-05-17 16:22:47.252377"
        },
        {
         "0": "Ernest et Célestine",
         "1": "78",
         "2": "2012-12-12",
         "3": "7.6",
         "4": "Français",
         "5": "Drama",
         "6": "2025-05-17 16:22:47.252377"
        },
        {
         "0": "Ernest et Célestine",
         "1": "78",
         "2": "2012-12-12",
         "3": "7.6",
         "4": "Français",
         "5": "Drama",
         "6": "2025-05-17 16:22:47.252377"
        },
        {
         "0": "Ernest et Célestine",
         "1": "78",
         "2": "2012-12-12",
         "3": "7.6",
         "4": "Français",
         "5": "Comedy",
         "6": "2025-05-17 16:22:47.252377"
        },
        {
         "0": "Ernest et Célestine",
         "1": "78",
         "2": "2012-12-12",
         "3": "7.6",
         "4": "Français",
         "5": "Comedy",
         "6": "2025-05-17 16:22:47.252377"
        },
        {
         "0": "Ernest et Célestine",
         "1": "78",
         "2": "2012-12-12",
         "3": "7.6",
         "4": "Français",
         "5": "Family",
         "6": "2025-05-17 16:22:47.252377"
        },
        {
         "0": "Ernest et Célestine",
         "1": "78",
         "2": "2012-12-12",
         "3": "7.6",
         "4": "Français",
         "5": "Family",
         "6": "2025-05-17 16:22:47.252377"
        },
        {
         "0": "The Perks of Being a Wallflower",
         "1": "102",
         "2": "2012-09-20",
         "3": "7.7",
         "4": "English",
         "5": "Drama",
         "6": "2025-05-17 16:22:47.252377"
        },
        {
         "0": "The Perks of Being a Wallflower",
         "1": "102",
         "2": "2012-09-20",
         "3": "7.7",
         "4": "English",
         "5": "Drama",
         "6": "2025-05-17 16:22:47.252377"
        },
        {
         "0": "The Perks of Being a Wallflower",
         "1": "102",
         "2": "2012-09-20",
         "3": "7.7",
         "4": "English",
         "5": "Romance",
         "6": "2025-05-17 16:22:47.252377"
        },
        {
         "0": "The Perks of Being a Wallflower",
         "1": "102",
         "2": "2012-09-20",
         "3": "7.7",
         "4": "English",
         "5": "Romance",
         "6": "2025-05-17 16:22:47.252377"
        },
        {
         "0": "Jagten",
         "1": "115",
         "2": "2012-08-28",
         "3": "7.9",
         "4": "Polski",
         "5": "Drama",
         "6": "2025-05-17 16:22:47.252377"
        },
        {
         "0": "Jagten",
         "1": "115",
         "2": "2012-08-28",
         "3": "7.9",
         "4": "Dansk",
         "5": "Drama",
         "6": "2025-05-17 16:22:47.252377"
        },
        {
         "0": "Jagten",
         "1": "115",
         "2": "2012-08-28",
         "3": "7.9",
         "4": "Dansk",
         "5": "Drama",
         "6": "2025-05-17 16:22:47.252377"
        },
        {
         "0": "Jagten",
         "1": "115",
         "2": "2012-08-28",
         "3": "7.9",
         "4": "English",
         "5": "Drama",
         "6": "2025-05-17 16:22:47.252377"
        },
        {
         "0": "The Dark Knight Rises",
         "1": "165",
         "2": "2012-07-16",
         "3": "7.6",
         "4": "English",
         "5": "Drama",
         "6": "2025-05-17 16:22:47.252377"
        },
        {
         "0": "The Dark Knight Rises",
         "1": "165",
         "2": "2012-07-16",
         "3": "7.6",
         "4": "English",
         "5": "Drama",
         "6": "2025-05-17 16:22:47.252377"
        },
        {
         "0": "The Dark Knight Rises",
         "1": "165",
         "2": "2012-07-16",
         "3": "7.6",
         "4": "English",
         "5": "Action",
         "6": "2025-05-17 16:22:47.252377"
        },
        {
         "0": "The Dark Knight Rises",
         "1": "165",
         "2": "2012-07-16",
         "3": "7.6",
         "4": "English",
         "5": "Action",
         "6": "2025-05-17 16:22:47.252377"
        },
        {
         "0": "The Dark Knight Rises",
         "1": "165",
         "2": "2012-07-16",
         "3": "7.6",
         "4": "English",
         "5": "Thriller",
         "6": "2025-05-17 16:22:47.252377"
        },
        {
         "0": "The Dark Knight Rises",
         "1": "165",
         "2": "2012-07-16",
         "3": "7.6",
         "4": "English",
         "5": "Thriller",
         "6": "2025-05-17 16:22:47.252377"
        },
        {
         "0": "The Dark Knight Rises",
         "1": "165",
         "2": "2012-07-16",
         "3": "7.6",
         "4": "English",
         "5": "Crime",
         "6": "2025-05-17 16:22:47.252377"
        },
        {
         "0": "The Dark Knight Rises",
         "1": "165",
         "2": "2012-07-16",
         "3": "7.6",
         "4": "English",
         "5": "Crime",
         "6": "2025-05-17 16:22:47.252377"
        },
        {
         "0": "Moonrise Kingdom",
         "1": "94",
         "2": "2012-05-16",
         "3": "7.6",
         "4": "English",
         "5": "Drama",
         "6": "2025-05-17 16:22:47.252377"
        },
        {
         "0": "Moonrise Kingdom",
         "1": "94",
         "2": "2012-05-16",
         "3": "7.6",
         "4": "English",
         "5": "Drama",
         "6": "2025-05-17 16:22:47.252377"
        },
        {
         "0": "Moonrise Kingdom",
         "1": "94",
         "2": "2012-05-16",
         "3": "7.6",
         "4": "English",
         "5": "Comedy",
         "6": "2025-05-17 16:22:47.252377"
        },
        {
         "0": "Moonrise Kingdom",
         "1": "94",
         "2": "2012-05-16",
         "3": "7.6",
         "4": "English",
         "5": "Comedy",
         "6": "2025-05-17 16:22:47.252377"
        },
        {
         "0": "Moonrise Kingdom",
         "1": "94",
         "2": "2012-05-16",
         "3": "7.6",
         "4": "English",
         "5": "Romance",
         "6": "2025-05-17 16:22:47.252377"
        },
        {
         "0": "Moonrise Kingdom",
         "1": "94",
         "2": "2012-05-16",
         "3": "7.6",
         "4": "English",
         "5": "Romance",
         "6": "2025-05-17 16:22:47.252377"
        },
        {
         "0": "Polisse",
         "1": "127",
         "2": "2011-10-06",
         "3": "7.9",
         "4": "Français",
         "5": "Drama",
         "6": "2025-05-17 16:22:47.252377"
        },
        {
         "0": "Polisse",
         "1": "127",
         "2": "2011-10-06",
         "3": "7.9",
         "4": "al-?arabiyyah",
         "5": "Drama",
         "6": "2025-05-17 16:22:47.252377"
        },
        {
         "0": "Polisse",
         "1": "127",
         "2": "2011-10-06",
         "3": "7.9",
         "4": "Français",
         "5": "Drama",
         "6": "2025-05-17 16:22:47.252377"
        },
        {
         "0": "Samsara",
         "1": "102",
         "2": "2011-09-16",
         "3": "8.0",
         "4": "English",
         "5": "Drama",
         "6": "2025-05-17 16:22:47.252377"
        },
        {
         "0": "Samsara",
         "1": "102",
         "2": "2011-09-16",
         "3": "8.0",
         "4": "English",
         "5": "Drama",
         "6": "2025-05-17 16:22:47.252377"
        },
        {
         "0": "Samsara",
         "1": "102",
         "2": "2011-09-16",
         "3": "8.0",
         "4": "English",
         "5": "Documentary",
         "6": "2025-05-17 16:22:47.252377"
        },
        {
         "0": "Samsara",
         "1": "102",
         "2": "2011-09-16",
         "3": "8.0",
         "4": "English",
         "5": "Documentary",
         "6": "2025-05-17 16:22:47.252377"
        },
        {
         "0": "Warrior",
         "1": "140",
         "2": "2011-09-09",
         "3": "7.7",
         "4": "English",
         "5": "Drama",
         "6": "2025-05-17 16:22:47.252377"
        },
        {
         "0": "Warrior",
         "1": "140",
         "2": "2011-09-09",
         "3": "7.7",
         "4": "English",
         "5": "Drama",
         "6": "2025-05-17 16:22:47.252377"
        },
        {
         "0": "Warrior",
         "1": "140",
         "2": "2011-09-09",
         "3": "7.7",
         "4": "English",
         "5": "Action",
         "6": "2025-05-17 16:22:47.252377"
        },
        {
         "0": "Warrior",
         "1": "140",
         "2": "2011-09-09",
         "3": "7.7",
         "4": "English",
         "5": "Action",
         "6": "2025-05-17 16:22:47.252377"
        },
        {
         "0": "Kevin Hart: Laugh at My Pain",
         "1": "89",
         "2": "2011-09-09",
         "3": "7.7",
         "4": "English",
         "5": "Comedy",
         "6": "2025-05-17 16:22:47.252377"
        },
        {
         "0": "Kevin Hart: Laugh at My Pain",
         "1": "89",
         "2": "2011-09-09",
         "3": "7.7",
         "4": "English",
         "5": "Comedy",
         "6": "2025-05-17 16:22:47.252377"
        },
        {
         "0": "Kevin Hart: Laugh at My Pain",
         "1": "89",
         "2": "2011-09-09",
         "3": "7.7",
         "4": "English",
         "5": "Documentary",
         "6": "2025-05-17 16:22:47.252377"
        },
        {
         "0": "Kevin Hart: Laugh at My Pain",
         "1": "89",
         "2": "2011-09-09",
         "3": "7.7",
         "4": "English",
         "5": "Documentary",
         "6": "2025-05-17 16:22:47.252377"
        },
        {
         "0": "Inside Job",
         "1": "109",
         "2": "2010-10-08",
         "3": "7.7",
         "4": "English",
         "5": "Documentary",
         "6": "2025-05-17 16:22:47.252377"
        },
        {
         "0": "Inside Job",
         "1": "109",
         "2": "2010-10-08",
         "3": "7.7",
         "4": "English",
         "5": "Documentary",
         "6": "2025-05-17 16:22:47.252377"
        },
        {
         "0": "The King's Speech",
         "1": "118",
         "2": "2010-09-06",
         "3": "7.6",
         "4": "English",
         "5": "Drama",
         "6": "2025-05-17 16:22:47.252377"
        },
        {
         "0": "The King's Speech",
         "1": "118",
         "2": "2010-09-06",
         "3": "7.6",
         "4": "English",
         "5": "Drama",
         "6": "2025-05-17 16:22:47.252377"
        },
        {
         "0": "The King's Speech",
         "1": "118",
         "2": "2010-09-06",
         "3": "7.6",
         "4": "English",
         "5": "History",
         "6": "2025-05-17 16:22:47.252377"
        },
        {
         "0": "The King's Speech",
         "1": "118",
         "2": "2010-09-06",
         "3": "7.6",
         "4": "English",
         "5": "History",
         "6": "2025-05-17 16:22:47.252377"
        },
        {
         "0": "Incendies",
         "1": "130",
         "2": "2010-09-04",
         "3": "7.9",
         "4": "Français",
         "5": "Drama",
         "6": "2025-05-17 16:22:47.252377"
        },
        {
         "0": "Incendies",
         "1": "130",
         "2": "2010-09-04",
         "3": "7.9",
         "4": "al-?arabiyyah",
         "5": "Drama",
         "6": "2025-05-17 16:22:47.252377"
        },
        {
         "0": "Incendies",
         "1": "130",
         "2": "2010-09-04",
         "3": "7.9",
         "4": "Français",
         "5": "Drama",
         "6": "2025-05-17 16:22:47.252377"
        },
        {
         "0": "Incendies",
         "1": "130",
         "2": "2010-09-04",
         "3": "7.9",
         "4": "English",
         "5": "Drama",
         "6": "2025-05-17 16:22:47.252377"
        },
        {
         "0": "Incendies",
         "1": "130",
         "2": "2010-09-04",
         "3": "7.9",
         "4": "Français",
         "5": "Mystery",
         "6": "2025-05-17 16:22:47.252377"
        },
        {
         "0": "Incendies",
         "1": "130",
         "2": "2010-09-04",
         "3": "7.9",
         "4": "al-?arabiyyah",
         "5": "Mystery",
         "6": "2025-05-17 16:22:47.252377"
        },
        {
         "0": "Incendies",
         "1": "130",
         "2": "2010-09-04",
         "3": "7.9",
         "4": "Français",
         "5": "Mystery",
         "6": "2025-05-17 16:22:47.252377"
        },
        {
         "0": "Incendies",
         "1": "130",
         "2": "2010-09-04",
         "3": "7.9",
         "4": "English",
         "5": "Mystery",
         "6": "2025-05-17 16:22:47.252377"
        },
        {
         "0": "Incendies",
         "1": "130",
         "2": "2010-09-04",
         "3": "7.9",
         "4": "Français",
         "5": "War",
         "6": "2025-05-17 16:22:47.252377"
        },
        {
         "0": "Incendies",
         "1": "130",
         "2": "2010-09-04",
         "3": "7.9",
         "4": "al-?arabiyyah",
         "5": "War",
         "6": "2025-05-17 16:22:47.252377"
        },
        {
         "0": "Incendies",
         "1": "130",
         "2": "2010-09-04",
         "3": "7.9",
         "4": "Français",
         "5": "War",
         "6": "2025-05-17 16:22:47.252377"
        },
        {
         "0": "Incendies",
         "1": "130",
         "2": "2010-09-04",
         "3": "7.9",
         "4": "English",
         "5": "War",
         "6": "2025-05-17 16:22:47.252377"
        },
        {
         "0": "Toy Story 3",
         "1": "103",
         "2": "2010-06-16",
         "3": "7.6",
         "4": "English",
         "5": "Animation",
         "6": "2025-05-17 16:22:47.252377"
        },
        {
         "0": "Toy Story 3",
         "1": "103",
         "2": "2010-06-16",
         "3": "7.6",
         "4": "Español",
         "5": "Animation",
         "6": "2025-05-17 16:22:47.252377"
        },
        {
         "0": "Toy Story 3",
         "1": "103",
         "2": "2010-06-16",
         "3": "7.6",
         "4": "English",
         "5": "Animation",
         "6": "2025-05-17 16:22:47.252377"
        },
        {
         "0": "Toy Story 3",
         "1": "103",
         "2": "2010-06-16",
         "3": "7.6",
         "4": "English",
         "5": "Comedy",
         "6": "2025-05-17 16:22:47.252377"
        },
        {
         "0": "Toy Story 3",
         "1": "103",
         "2": "2010-06-16",
         "3": "7.6",
         "4": "Español",
         "5": "Comedy",
         "6": "2025-05-17 16:22:47.252377"
        },
        {
         "0": "Toy Story 3",
         "1": "103",
         "2": "2010-06-16",
         "3": "7.6",
         "4": "English",
         "5": "Comedy",
         "6": "2025-05-17 16:22:47.252377"
        },
        {
         "0": "Toy Story 3",
         "1": "103",
         "2": "2010-06-16",
         "3": "7.6",
         "4": "English",
         "5": "Family",
         "6": "2025-05-17 16:22:47.252377"
        },
        {
         "0": "Toy Story 3",
         "1": "103",
         "2": "2010-06-16",
         "3": "7.6",
         "4": "Español",
         "5": "Family",
         "6": "2025-05-17 16:22:47.252377"
        },
        {
         "0": "Toy Story 3",
         "1": "103",
         "2": "2010-06-16",
         "3": "7.6",
         "4": "English",
         "5": "Family",
         "6": "2025-05-17 16:22:47.252377"
        },
        {
         "0": "Shutter Island",
         "1": "138",
         "2": "2010-02-18",
         "3": "7.8",
         "4": "English",
         "5": "Drama",
         "6": "2025-05-17 16:22:47.252377"
        },
        {
         "0": "Shutter Island",
         "1": "138",
         "2": "2010-02-18",
         "3": "7.8",
         "4": "Deutsch",
         "5": "Drama",
         "6": "2025-05-17 16:22:47.252377"
        },
        {
         "0": "Shutter Island",
         "1": "138",
         "2": "2010-02-18",
         "3": "7.8",
         "4": "English",
         "5": "Drama",
         "6": "2025-05-17 16:22:47.252377"
        },
        {
         "0": "Shutter Island",
         "1": "138",
         "2": "2010-02-18",
         "3": "7.8",
         "4": "English",
         "5": "Thriller",
         "6": "2025-05-17 16:22:47.252377"
        },
        {
         "0": "Shutter Island",
         "1": "138",
         "2": "2010-02-18",
         "3": "7.8",
         "4": "Deutsch",
         "5": "Thriller",
         "6": "2025-05-17 16:22:47.252377"
        },
        {
         "0": "Shutter Island",
         "1": "138",
         "2": "2010-02-18",
         "3": "7.8",
         "4": "English",
         "5": "Thriller",
         "6": "2025-05-17 16:22:47.252377"
        },
        {
         "0": "Shutter Island",
         "1": "138",
         "2": "2010-02-18",
         "3": "7.8",
         "4": "English",
         "5": "Mystery",
         "6": "2025-05-17 16:22:47.252377"
        },
        {
         "0": "Shutter Island",
         "1": "138",
         "2": "2010-02-18",
         "3": "7.8",
         "4": "Deutsch",
         "5": "Mystery",
         "6": "2025-05-17 16:22:47.252377"
        },
        {
         "0": "Shutter Island",
         "1": "138",
         "2": "2010-02-18",
         "3": "7.8",
         "4": "English",
         "5": "Mystery",
         "6": "2025-05-17 16:22:47.252377"
        },
        {
         "0": "My Name Is Khan",
         "1": "145",
         "2": "2010-02-12",
         "3": "7.7",
         "4": "Hindi",
         "5": "Drama",
         "6": "2025-05-17 16:22:47.252377"
        },
        {
         "0": "My Name Is Khan",
         "1": "145",
         "2": "2010-02-12",
         "3": "7.7",
         "4": "Urduw",
         "5": "Drama",
         "6": "2025-05-17 16:22:47.252377"
        },
        {
         "0": "My Name Is Khan",
         "1": "145",
         "2": "2010-02-12",
         "3": "7.7",
         "4": "English",
         "5": "Drama",
         "6": "2025-05-17 16:22:47.252377"
        },
        {
         "0": "My Name Is Khan",
         "1": "145",
         "2": "2010-02-12",
         "3": "7.7",
         "4": "English",
         "5": "Drama",
         "6": "2025-05-17 16:22:47.252377"
        },
        {
         "0": "My Name Is Khan",
         "1": "145",
         "2": "2010-02-12",
         "3": "7.7",
         "4": "Hindi",
         "5": "Romance",
         "6": "2025-05-17 16:22:47.252377"
        },
        {
         "0": "My Name Is Khan",
         "1": "145",
         "2": "2010-02-12",
         "3": "7.7",
         "4": "Urduw",
         "5": "Romance",
         "6": "2025-05-17 16:22:47.252377"
        },
        {
         "0": "My Name Is Khan",
         "1": "145",
         "2": "2010-02-12",
         "3": "7.7",
         "4": "English",
         "5": "Romance",
         "6": "2025-05-17 16:22:47.252377"
        },
        {
         "0": "My Name Is Khan",
         "1": "145",
         "2": "2010-02-12",
         "3": "7.7",
         "4": "English",
         "5": "Romance",
         "6": "2025-05-17 16:22:47.252377"
        },
        {
         "0": "Emma",
         "1": "240",
         "2": "2009-10-11",
         "3": "7.6",
         "4": "English",
         "5": "Drama",
         "6": "2025-05-17 16:22:47.252377"
        },
        {
         "0": "Emma",
         "1": "240",
         "2": "2009-10-11",
         "3": "7.6",
         "4": "English",
         "5": "Drama",
         "6": "2025-05-17 16:22:47.252377"
        },
        {
         "0": "Emma",
         "1": "240",
         "2": "2009-10-11",
         "3": "7.6",
         "4": "English",
         "5": "Comedy",
         "6": "2025-05-17 16:22:47.252377"
        },
        {
         "0": "Emma",
         "1": "240",
         "2": "2009-10-11",
         "3": "7.6",
         "4": "English",
         "5": "Comedy",
         "6": "2025-05-17 16:22:47.252377"
        },
        {
         "0": "Emma",
         "1": "240",
         "2": "2009-10-11",
         "3": "7.6",
         "4": "English",
         "5": "Romance",
         "6": "2025-05-17 16:22:47.252377"
        },
        {
         "0": "Emma",
         "1": "240",
         "2": "2009-10-11",
         "3": "7.6",
         "4": "English",
         "5": "Romance",
         "6": "2025-05-17 16:22:47.252377"
        },
        {
         "0": "El secreto de sus ojos",
         "1": "129",
         "2": "2009-08-13",
         "3": "7.8",
         "4": "Español",
         "5": "Drama",
         "6": "2025-05-17 16:22:47.252377"
        },
        {
         "0": "El secreto de sus ojos",
         "1": "129",
         "2": "2009-08-13",
         "3": "7.8",
         "4": "Español",
         "5": "Drama",
         "6": "2025-05-17 16:22:47.252377"
        },
        {
         "0": "El secreto de sus ojos",
         "1": "129",
         "2": "2009-08-13",
         "3": "7.8",
         "4": "Español",
         "5": "Crime",
         "6": "2025-05-17 16:22:47.252377"
        },
        {
         "0": "El secreto de sus ojos",
         "1": "129",
         "2": "2009-08-13",
         "3": "7.8",
         "4": "Español",
         "5": "Crime",
         "6": "2025-05-17 16:22:47.252377"
        },
        {
         "0": "El secreto de sus ojos",
         "1": "129",
         "2": "2009-08-13",
         "3": "7.8",
         "4": "Español",
         "5": "Mystery",
         "6": "2025-05-17 16:22:47.252377"
        },
        {
         "0": "El secreto de sus ojos",
         "1": "129",
         "2": "2009-08-13",
         "3": "7.8",
         "4": "Español",
         "5": "Mystery",
         "6": "2025-05-17 16:22:47.252377"
        },
        {
         "0": "El secreto de sus ojos",
         "1": "129",
         "2": "2009-08-13",
         "3": "7.8",
         "4": "Español",
         "5": "Romance",
         "6": "2025-05-17 16:22:47.252377"
        },
        {
         "0": "El secreto de sus ojos",
         "1": "129",
         "2": "2009-08-13",
         "3": "7.8",
         "4": "Español",
         "5": "Romance",
         "6": "2025-05-17 16:22:47.252377"
        },
        {
         "0": "Hachi: A Dog's Tale",
         "1": "93",
         "2": "2009-06-13",
         "3": "7.7",
         "4": "English",
         "5": "Drama",
         "6": "2025-05-17 16:22:47.252377"
        },
        {
         "0": "Hachi: A Dog's Tale",
         "1": "93",
         "2": "2009-06-13",
         "3": "7.7",
         "4": "Nihongo",
         "5": "Drama",
         "6": "2025-05-17 16:22:47.252377"
        },
        {
         "0": "Hachi: A Dog's Tale",
         "1": "93",
         "2": "2009-06-13",
         "3": "7.7",
         "4": "English",
         "5": "Drama",
         "6": "2025-05-17 16:22:47.252377"
        },
        {
         "0": "Hachi: A Dog's Tale",
         "1": "93",
         "2": "2009-06-13",
         "3": "7.7",
         "4": "English",
         "5": "Family",
         "6": "2025-05-17 16:22:47.252377"
        },
        {
         "0": "Hachi: A Dog's Tale",
         "1": "93",
         "2": "2009-06-13",
         "3": "7.7",
         "4": "Nihongo",
         "5": "Family",
         "6": "2025-05-17 16:22:47.252377"
        },
        {
         "0": "Hachi: A Dog's Tale",
         "1": "93",
         "2": "2009-06-13",
         "3": "7.7",
         "4": "English",
         "5": "Family",
         "6": "2025-05-17 16:22:47.252377"
        },
        {
         "0": "Moon",
         "1": "97",
         "2": "2009-06-12",
         "3": "7.6",
         "4": "English",
         "5": "Drama",
         "6": "2025-05-17 16:22:47.252377"
        },
        {
         "0": "Moon",
         "1": "97",
         "2": "2009-06-12",
         "3": "7.6",
         "4": "Español",
         "5": "Drama",
         "6": "2025-05-17 16:22:47.252377"
        },
        {
         "0": "Moon",
         "1": "97",
         "2": "2009-06-12",
         "3": "7.6",
         "4": "English",
         "5": "Drama",
         "6": "2025-05-17 16:22:47.252377"
        },
        {
         "0": "Moon",
         "1": "97",
         "2": "2009-06-12",
         "3": "7.6",
         "4": "English",
         "5": "Science Fiction",
         "6": "2025-05-17 16:22:47.252377"
        },
        {
         "0": "Moon",
         "1": "97",
         "2": "2009-06-12",
         "3": "7.6",
         "4": "Español",
         "5": "Science Fiction",
         "6": "2025-05-17 16:22:47.252377"
        },
        {
         "0": "Moon",
         "1": "97",
         "2": "2009-06-12",
         "3": "7.6",
         "4": "English",
         "5": "Science Fiction",
         "6": "2025-05-17 16:22:47.252377"
        },
        {
         "0": "Up",
         "1": "96",
         "2": "2009-05-13",
         "3": "7.7",
         "4": "English",
         "5": "Adventure",
         "6": "2025-05-17 16:22:47.252377"
        },
        {
         "0": "Up",
         "1": "96",
         "2": "2009-05-13",
         "3": "7.7",
         "4": "English",
         "5": "Adventure",
         "6": "2025-05-17 16:22:47.252377"
        },
        {
         "0": "Up",
         "1": "96",
         "2": "2009-05-13",
         "3": "7.7",
         "4": "English",
         "5": "Animation",
         "6": "2025-05-17 16:22:47.252377"
        },
        {
         "0": "Up",
         "1": "96",
         "2": "2009-05-13",
         "3": "7.7",
         "4": "English",
         "5": "Animation",
         "6": "2025-05-17 16:22:47.252377"
        },
        {
         "0": "Up",
         "1": "96",
         "2": "2009-05-13",
         "3": "7.7",
         "4": "English",
         "5": "Comedy",
         "6": "2025-05-17 16:22:47.252377"
        },
        {
         "0": "Up",
         "1": "96",
         "2": "2009-05-13",
         "3": "7.7",
         "4": "English",
         "5": "Comedy",
         "6": "2025-05-17 16:22:47.252377"
        },
        {
         "0": "Up",
         "1": "96",
         "2": "2009-05-13",
         "3": "7.7",
         "4": "English",
         "5": "Family",
         "6": "2025-05-17 16:22:47.252377"
        },
        {
         "0": "Up",
         "1": "96",
         "2": "2009-05-13",
         "3": "7.7",
         "4": "English",
         "5": "Family",
         "6": "2025-05-17 16:22:47.252377"
        },
        {
         "0": "My Dog Tulip",
         "1": "83",
         "2": "2009-01-01",
         "3": "7.6",
         "4": "English",
         "5": "Animation",
         "6": "2025-05-17 16:22:47.252377"
        },
        {
         "0": "My Dog Tulip",
         "1": "83",
         "2": "2009-01-01",
         "3": "7.6",
         "4": "English",
         "5": "Animation",
         "6": "2025-05-17 16:22:47.252377"
        },
        {
         "0": "My Dog Tulip",
         "1": "83",
         "2": "2009-01-01",
         "3": "7.6",
         "4": "English",
         "5": "Drama",
         "6": "2025-05-17 16:22:47.252377"
        },
        {
         "0": "My Dog Tulip",
         "1": "83",
         "2": "2009-01-01",
         "3": "7.6",
         "4": "English",
         "5": "Drama",
         "6": "2025-05-17 16:22:47.252377"
        },
        {
         "0": "My Dog Tulip",
         "1": "83",
         "2": "2009-01-01",
         "3": "7.6",
         "4": "English",
         "5": "Comedy",
         "6": "2025-05-17 16:22:47.252377"
        },
        {
         "0": "My Dog Tulip",
         "1": "83",
         "2": "2009-01-01",
         "3": "7.6",
         "4": "English",
         "5": "Comedy",
         "6": "2025-05-17 16:22:47.252377"
        },
        {
         "0": "Gran Torino",
         "1": "116",
         "2": "2008-12-09",
         "3": "7.8",
         "4": "English",
         "5": "Drama",
         "6": "2025-05-17 16:22:47.252377"
        },
        {
         "0": "Gran Torino",
         "1": "116",
         "2": "2008-12-09",
         "3": "7.8",
         "4": "English",
         "5": "Drama",
         "6": "2025-05-17 16:22:47.252377"
        },
        {
         "0": "Call + Response",
         "1": "86",
         "2": "2008-10-10",
         "3": "8.0",
         "4": "English",
         "5": "Documentary",
         "6": "2025-05-17 16:22:47.252377"
        },
        {
         "0": "The Dark Knight",
         "1": "152",
         "2": "2008-07-16",
         "3": "8.2",
         "4": "English",
         "5": "Drama",
         "6": "2025-05-17 16:22:47.252377"
        },
        {
         "0": "The Dark Knight",
         "1": "152",
         "2": "2008-07-16",
         "3": "8.2",
         "4": "Zhongwén",
         "5": "Drama",
         "6": "2025-05-17 16:22:47.252377"
        },
        {
         "0": "The Dark Knight",
         "1": "152",
         "2": "2008-07-16",
         "3": "8.2",
         "4": "English",
         "5": "Drama",
         "6": "2025-05-17 16:22:47.252377"
        },
        {
         "0": "The Dark Knight",
         "1": "152",
         "2": "2008-07-16",
         "3": "8.2",
         "4": "English",
         "5": "Action",
         "6": "2025-05-17 16:22:47.252377"
        },
        {
         "0": "The Dark Knight",
         "1": "152",
         "2": "2008-07-16",
         "3": "8.2",
         "4": "Zhongwén",
         "5": "Action",
         "6": "2025-05-17 16:22:47.252377"
        },
        {
         "0": "The Dark Knight",
         "1": "152",
         "2": "2008-07-16",
         "3": "8.2",
         "4": "English",
         "5": "Action",
         "6": "2025-05-17 16:22:47.252377"
        },
        {
         "0": "The Dark Knight",
         "1": "152",
         "2": "2008-07-16",
         "3": "8.2",
         "4": "English",
         "5": "Thriller",
         "6": "2025-05-17 16:22:47.252377"
        },
        {
         "0": "The Dark Knight",
         "1": "152",
         "2": "2008-07-16",
         "3": "8.2",
         "4": "Zhongwén",
         "5": "Thriller",
         "6": "2025-05-17 16:22:47.252377"
        },
        {
         "0": "The Dark Knight",
         "1": "152",
         "2": "2008-07-16",
         "3": "8.2",
         "4": "English",
         "5": "Thriller",
         "6": "2025-05-17 16:22:47.252377"
        },
        {
         "0": "The Dark Knight",
         "1": "152",
         "2": "2008-07-16",
         "3": "8.2",
         "4": "English",
         "5": "Crime",
         "6": "2025-05-17 16:22:47.252377"
        },
        {
         "0": "The Dark Knight",
         "1": "152",
         "2": "2008-07-16",
         "3": "8.2",
         "4": "Zhongwén",
         "5": "Crime",
         "6": "2025-05-17 16:22:47.252377"
        },
        {
         "0": "The Dark Knight",
         "1": "152",
         "2": "2008-07-16",
         "3": "8.2",
         "4": "English",
         "5": "Crime",
         "6": "2025-05-17 16:22:47.252377"
        },
        {
         "0": "Vals Im Bashir",
         "1": "90",
         "2": "2008-06-25",
         "3": "7.8",
         "4": "Ivrit",
         "5": "Animation",
         "6": "2025-05-17 16:22:47.252377"
        },
        {
         "0": "Vals Im Bashir",
         "1": "90",
         "2": "2008-06-25",
         "3": "7.8",
         "4": "Ivrit",
         "5": "Animation",
         "6": "2025-05-17 16:22:47.252377"
        },
        {
         "0": "Vals Im Bashir",
         "1": "90",
         "2": "2008-06-25",
         "3": "7.8",
         "4": "al-?arabiyyah",
         "5": "Animation",
         "6": "2025-05-17 16:22:47.252377"
        },
        {
         "0": "Vals Im Bashir",
         "1": "90",
         "2": "2008-06-25",
         "3": "7.8",
         "4": "Deutsch",
         "5": "Animation",
         "6": "2025-05-17 16:22:47.252377"
        },
        {
         "0": "Vals Im Bashir",
         "1": "90",
         "2": "2008-06-25",
         "3": "7.8",
         "4": "English",
         "5": "Animation",
         "6": "2025-05-17 16:22:47.252377"
        },
        {
         "0": "Vals Im Bashir",
         "1": "90",
         "2": "2008-06-25",
         "3": "7.8",
         "4": "Ivrit",
         "5": "Drama",
         "6": "2025-05-17 16:22:47.252377"
        },
        {
         "0": "Vals Im Bashir",
         "1": "90",
         "2": "2008-06-25",
         "3": "7.8",
         "4": "Ivrit",
         "5": "Drama",
         "6": "2025-05-17 16:22:47.252377"
        },
        {
         "0": "Vals Im Bashir",
         "1": "90",
         "2": "2008-06-25",
         "3": "7.8",
         "4": "al-?arabiyyah",
         "5": "Drama",
         "6": "2025-05-17 16:22:47.252377"
        },
        {
         "0": "Vals Im Bashir",
         "1": "90",
         "2": "2008-06-25",
         "3": "7.8",
         "4": "Deutsch",
         "5": "Drama",
         "6": "2025-05-17 16:22:47.252377"
        },
        {
         "0": "Vals Im Bashir",
         "1": "90",
         "2": "2008-06-25",
         "3": "7.8",
         "4": "English",
         "5": "Drama",
         "6": "2025-05-17 16:22:47.252377"
        },
        {
         "0": "Vals Im Bashir",
         "1": "90",
         "2": "2008-06-25",
         "3": "7.8",
         "4": "Ivrit",
         "5": "War",
         "6": "2025-05-17 16:22:47.252377"
        },
        {
         "0": "Vals Im Bashir",
         "1": "90",
         "2": "2008-06-25",
         "3": "7.8",
         "4": "Ivrit",
         "5": "War",
         "6": "2025-05-17 16:22:47.252377"
        },
        {
         "0": "Vals Im Bashir",
         "1": "90",
         "2": "2008-06-25",
         "3": "7.8",
         "4": "al-?arabiyyah",
         "5": "War",
         "6": "2025-05-17 16:22:47.252377"
        },
        {
         "0": "Vals Im Bashir",
         "1": "90",
         "2": "2008-06-25",
         "3": "7.8",
         "4": "Deutsch",
         "5": "War",
         "6": "2025-05-17 16:22:47.252377"
        },
        {
         "0": "Vals Im Bashir",
         "1": "90",
         "2": "2008-06-25",
         "3": "7.8",
         "4": "English",
         "5": "War",
         "6": "2025-05-17 16:22:47.252377"
        },
        {
         "0": "WALL·E",
         "1": "98",
         "2": "2008-06-22",
         "3": "7.8",
         "4": "English",
         "5": "Animation",
         "6": "2025-05-17 16:22:47.252377"
        },
        {
         "0": "WALL·E",
         "1": "98",
         "2": "2008-06-22",
         "3": "7.8",
         "4": "English",
         "5": "Animation",
         "6": "2025-05-17 16:22:47.252377"
        },
        {
         "0": "WALL·E",
         "1": "98",
         "2": "2008-06-22",
         "3": "7.8",
         "4": "English",
         "5": "Family",
         "6": "2025-05-17 16:22:47.252377"
        },
        {
         "0": "WALL·E",
         "1": "98",
         "2": "2008-06-22",
         "3": "7.8",
         "4": "English",
         "5": "Family",
         "6": "2025-05-17 16:22:47.252377"
        },
        {
         "0": "Slumdog Millionaire",
         "1": "120",
         "2": "2008-05-12",
         "3": "7.6",
         "4": "Hindi",
         "5": "Drama",
         "6": "2025-05-17 16:22:47.252377"
        },
        {
         "0": "Slumdog Millionaire",
         "1": "120",
         "2": "2008-05-12",
         "3": "7.6",
         "4": "English",
         "5": "Drama",
         "6": "2025-05-17 16:22:47.252377"
        },
        {
         "0": "Slumdog Millionaire",
         "1": "120",
         "2": "2008-05-12",
         "3": "7.6",
         "4": "Français",
         "5": "Drama",
         "6": "2025-05-17 16:22:47.252377"
        },
        {
         "0": "Slumdog Millionaire",
         "1": "120",
         "2": "2008-05-12",
         "3": "7.6",
         "4": "English",
         "5": "Drama",
         "6": "2025-05-17 16:22:47.252377"
        },
        {
         "0": "Slumdog Millionaire",
         "1": "120",
         "2": "2008-05-12",
         "3": "7.6",
         "4": "Hindi",
         "5": "Romance",
         "6": "2025-05-17 16:22:47.252377"
        },
        {
         "0": "Slumdog Millionaire",
         "1": "120",
         "2": "2008-05-12",
         "3": "7.6",
         "4": "English",
         "5": "Romance",
         "6": "2025-05-17 16:22:47.252377"
        },
        {
         "0": "Slumdog Millionaire",
         "1": "120",
         "2": "2008-05-12",
         "3": "7.6",
         "4": "Français",
         "5": "Romance",
         "6": "2025-05-17 16:22:47.252377"
        },
        {
         "0": "Slumdog Millionaire",
         "1": "120",
         "2": "2008-05-12",
         "3": "7.6",
         "4": "English",
         "5": "Romance",
         "6": "2025-05-17 16:22:47.252377"
        },
        {
         "0": "The Boy in the Striped Pyjamas",
         "1": "94",
         "2": "2008-05-07",
         "3": "7.7",
         "4": "English",
         "5": "Drama",
         "6": "2025-05-17 16:22:47.252377"
        },
        {
         "0": "The Boy in the Striped Pyjamas",
         "1": "94",
         "2": "2008-05-07",
         "3": "7.7",
         "4": "English",
         "5": "Drama",
         "6": "2025-05-17 16:22:47.252377"
        },
        {
         "0": "The Boy in the Striped Pyjamas",
         "1": "94",
         "2": "2008-05-07",
         "3": "7.7",
         "4": "English",
         "5": "War",
         "6": "2025-05-17 16:22:47.252377"
        },
        {
         "0": "The Boy in the Striped Pyjamas",
         "1": "94",
         "2": "2008-05-07",
         "3": "7.7",
         "4": "English",
         "5": "War",
         "6": "2025-05-17 16:22:47.252377"
        },
        {
         "0": "Dolphins and Whales: Tribes of the Ocean",
         "1": "42",
         "2": "2008-02-15",
         "3": "8.0",
         "4": "English",
         "5": "Documentary",
         "6": "2025-05-17 16:22:47.252377"
        },
        {
         "0": "Dolphins and Whales: Tribes of the Ocean",
         "1": "42",
         "2": "2008-02-15",
         "3": "8.0",
         "4": "English",
         "5": "Documentary",
         "6": "2025-05-17 16:22:47.252377"
        },
        {
         "0": "There Will Be Blood",
         "1": "158",
         "2": "2007-12-28",
         "3": "7.9",
         "4": "English",
         "5": "Drama",
         "6": "2025-05-17 16:22:47.252377"
        },
        {
         "0": "There Will Be Blood",
         "1": "158",
         "2": "2007-12-28",
         "3": "7.9",
         "4": "English",
         "5": "Drama",
         "6": "2025-05-17 16:22:47.252377"
        },
        {
         "0": "No Country for Old Men",
         "1": "122",
         "2": "2007-11-08",
         "3": "7.7",
         "4": "English",
         "5": "Drama",
         "6": "2025-05-17 16:22:47.252377"
        },
        {
         "0": "No Country for Old Men",
         "1": "122",
         "2": "2007-11-08",
         "3": "7.7",
         "4": "Español",
         "5": "Drama",
         "6": "2025-05-17 16:22:47.252377"
        },
        {
         "0": "No Country for Old Men",
         "1": "122",
         "2": "2007-11-08",
         "3": "7.7",
         "4": "English",
         "5": "Drama",
         "6": "2025-05-17 16:22:47.252377"
        },
        {
         "0": "No Country for Old Men",
         "1": "122",
         "2": "2007-11-08",
         "3": "7.7",
         "4": "English",
         "5": "Thriller",
         "6": "2025-05-17 16:22:47.252377"
        },
        {
         "0": "No Country for Old Men",
         "1": "122",
         "2": "2007-11-08",
         "3": "7.7",
         "4": "Español",
         "5": "Thriller",
         "6": "2025-05-17 16:22:47.252377"
        },
        {
         "0": "No Country for Old Men",
         "1": "122",
         "2": "2007-11-08",
         "3": "7.7",
         "4": "English",
         "5": "Thriller",
         "6": "2025-05-17 16:22:47.252377"
        },
        {
         "0": "No Country for Old Men",
         "1": "122",
         "2": "2007-11-08",
         "3": "7.7",
         "4": "English",
         "5": "Crime",
         "6": "2025-05-17 16:22:47.252377"
        },
        {
         "0": "No Country for Old Men",
         "1": "122",
         "2": "2007-11-08",
         "3": "7.7",
         "4": "Español",
         "5": "Crime",
         "6": "2025-05-17 16:22:47.252377"
        },
        {
         "0": "No Country for Old Men",
         "1": "122",
         "2": "2007-11-08",
         "3": "7.7",
         "4": "English",
         "5": "Crime",
         "6": "2025-05-17 16:22:47.252377"
        },
        {
         "0": "Tropa de Elite",
         "1": "115",
         "2": "2007-10-12",
         "3": "7.8",
         "4": "Português",
         "5": "Drama",
         "6": "2025-05-17 16:22:47.252377"
        },
        {
         "0": "Tropa de Elite",
         "1": "115",
         "2": "2007-10-12",
         "3": "7.8",
         "4": "Português",
         "5": "Drama",
         "6": "2025-05-17 16:22:47.252377"
        },
        {
         "0": "Tropa de Elite",
         "1": "115",
         "2": "2007-10-12",
         "3": "7.8",
         "4": "Português",
         "5": "Action",
         "6": "2025-05-17 16:22:47.252377"
        },
        {
         "0": "Tropa de Elite",
         "1": "115",
         "2": "2007-10-12",
         "3": "7.8",
         "4": "Português",
         "5": "Action",
         "6": "2025-05-17 16:22:47.252377"
        },
        {
         "0": "Tropa de Elite",
         "1": "115",
         "2": "2007-10-12",
         "3": "7.8",
         "4": "Português",
         "5": "Crime",
         "6": "2025-05-17 16:22:47.252377"
        },
        {
         "0": "Tropa de Elite",
         "1": "115",
         "2": "2007-10-12",
         "3": "7.8",
         "4": "Português",
         "5": "Crime",
         "6": "2025-05-17 16:22:47.252377"
        },
        {
         "0": "Into the Wild",
         "1": "148",
         "2": "2007-09-11",
         "3": "7.8",
         "4": "Dansk",
         "5": "Adventure",
         "6": "2025-05-17 16:22:47.252377"
        },
        {
         "0": "Into the Wild",
         "1": "148",
         "2": "2007-09-11",
         "3": "7.8",
         "4": "English",
         "5": "Adventure",
         "6": "2025-05-17 16:22:47.252377"
        },
        {
         "0": "Into the Wild",
         "1": "148",
         "2": "2007-09-11",
         "3": "7.8",
         "4": "English",
         "5": "Adventure",
         "6": "2025-05-17 16:22:47.252377"
        },
        {
         "0": "Into the Wild",
         "1": "148",
         "2": "2007-09-11",
         "3": "7.8",
         "4": "Dansk",
         "5": "Drama",
         "6": "2025-05-17 16:22:47.252377"
        },
        {
         "0": "Into the Wild",
         "1": "148",
         "2": "2007-09-11",
         "3": "7.8",
         "4": "English",
         "5": "Drama",
         "6": "2025-05-17 16:22:47.252377"
        },
        {
         "0": "Into the Wild",
         "1": "148",
         "2": "2007-09-11",
         "3": "7.8",
         "4": "English",
         "5": "Drama",
         "6": "2025-05-17 16:22:47.252377"
        },
        {
         "0": "The Man from Earth",
         "1": "87",
         "2": "2007-06-10",
         "3": "7.7",
         "4": "English",
         "5": "Drama",
         "6": "2025-05-17 16:22:47.252377"
        },
        {
         "0": "The Man from Earth",
         "1": "87",
         "2": "2007-06-10",
         "3": "7.7",
         "4": "English",
         "5": "Drama",
         "6": "2025-05-17 16:22:47.252377"
        },
        {
         "0": "The Man from Earth",
         "1": "87",
         "2": "2007-06-10",
         "3": "7.7",
         "4": "English",
         "5": "Science Fiction",
         "6": "2025-05-17 16:22:47.252377"
        },
        {
         "0": "The Man from Earth",
         "1": "87",
         "2": "2007-06-10",
         "3": "7.7",
         "4": "English",
         "5": "Science Fiction",
         "6": "2025-05-17 16:22:47.252377"
        },
        {
         "0": "Persepolis",
         "1": "95",
         "2": "2007-05-23",
         "3": "7.7",
         "4": "Farsiy",
         "5": "Animation",
         "6": "2025-05-17 16:22:47.252377"
        },
        {
         "0": "Persepolis",
         "1": "95",
         "2": "2007-05-23",
         "3": "7.7",
         "4": "Français",
         "5": "Animation",
         "6": "2025-05-17 16:22:47.252377"
        },
        {
         "0": "Persepolis",
         "1": "95",
         "2": "2007-05-23",
         "3": "7.7",
         "4": "Français",
         "5": "Animation",
         "6": "2025-05-17 16:22:47.252377"
        },
        {
         "0": "Persepolis",
         "1": "95",
         "2": "2007-05-23",
         "3": "7.7",
         "4": "Deutsch",
         "5": "Animation",
         "6": "2025-05-17 16:22:47.252377"
        },
        {
         "0": "Persepolis",
         "1": "95",
         "2": "2007-05-23",
         "3": "7.7",
         "4": "English",
         "5": "Animation",
         "6": "2025-05-17 16:22:47.252377"
        },
        {
         "0": "Persepolis",
         "1": "95",
         "2": "2007-05-23",
         "3": "7.7",
         "4": "Farsiy",
         "5": "Drama",
         "6": "2025-05-17 16:22:47.252377"
        },
        {
         "0": "Persepolis",
         "1": "95",
         "2": "2007-05-23",
         "3": "7.7",
         "4": "Français",
         "5": "Drama",
         "6": "2025-05-17 16:22:47.252377"
        },
        {
         "0": "Persepolis",
         "1": "95",
         "2": "2007-05-23",
         "3": "7.7",
         "4": "Français",
         "5": "Drama",
         "6": "2025-05-17 16:22:47.252377"
        },
        {
         "0": "Persepolis",
         "1": "95",
         "2": "2007-05-23",
         "3": "7.7",
         "4": "Deutsch",
         "5": "Drama",
         "6": "2025-05-17 16:22:47.252377"
        },
        {
         "0": "Persepolis",
         "1": "95",
         "2": "2007-05-23",
         "3": "7.7",
         "4": "English",
         "5": "Drama",
         "6": "2025-05-17 16:22:47.252377"
        },
        {
         "0": "In the Shadow of the Moon",
         "1": "109",
         "2": "2007-01-19",
         "3": "7.6",
         "4": "Magyar",
         "5": "Documentary",
         "6": "2025-05-17 16:22:47.252377"
        },
        {
         "0": "In the Shadow of the Moon",
         "1": "109",
         "2": "2007-01-19",
         "3": "7.6",
         "4": "English",
         "5": "Documentary",
         "6": "2025-05-17 16:22:47.252377"
        },
        {
         "0": "The Pursuit of Happyness",
         "1": "117",
         "2": "2006-12-14",
         "3": "7.7",
         "4": "English",
         "5": "Drama",
         "6": "2025-05-17 16:22:47.252377"
        },
        {
         "0": "The Pursuit of Happyness",
         "1": "117",
         "2": "2006-12-14",
         "3": "7.7",
         "4": "Finu Chamoru",
         "5": "Drama",
         "6": "2025-05-17 16:22:47.252377"
        },
        {
         "0": "The Pursuit of Happyness",
         "1": "117",
         "2": "2006-12-14",
         "3": "7.7",
         "4": "English",
         "5": "Drama",
         "6": "2025-05-17 16:22:47.252377"
        },
        {
         "0": "The Prestige",
         "1": "130",
         "2": "2006-10-19",
         "3": "8.0",
         "4": "English",
         "5": "Drama",
         "6": "2025-05-17 16:22:47.252377"
        },
        {
         "0": "The Prestige",
         "1": "130",
         "2": "2006-10-19",
         "3": "8.0",
         "4": "English",
         "5": "Drama",
         "6": "2025-05-17 16:22:47.252377"
        },
        {
         "0": "The Prestige",
         "1": "130",
         "2": "2006-10-19",
         "3": "8.0",
         "4": "English",
         "5": "Thriller",
         "6": "2025-05-17 16:22:47.252377"
        },
        {
         "0": "The Prestige",
         "1": "130",
         "2": "2006-10-19",
         "3": "8.0",
         "4": "English",
         "5": "Thriller",
         "6": "2025-05-17 16:22:47.252377"
        },
        {
         "0": "The Prestige",
         "1": "130",
         "2": "2006-10-19",
         "3": "8.0",
         "4": "English",
         "5": "Mystery",
         "6": "2025-05-17 16:22:47.252377"
        },
        {
         "0": "The Prestige",
         "1": "130",
         "2": "2006-10-19",
         "3": "8.0",
         "4": "English",
         "5": "Mystery",
         "6": "2025-05-17 16:22:47.252377"
        },
        {
         "0": "The Departed",
         "1": "151",
         "2": "2006-10-05",
         "3": "7.9",
         "4": "English",
         "5": "Drama",
         "6": "2025-05-17 16:22:47.252377"
        },
        {
         "0": "The Departed",
         "1": "151",
         "2": "2006-10-05",
         "3": "7.9",
         "4": "Finu Chamoru",
         "5": "Drama",
         "6": "2025-05-17 16:22:47.252377"
        },
        {
         "0": "The Departed",
         "1": "151",
         "2": "2006-10-05",
         "3": "7.9",
         "4": "English",
         "5": "Drama",
         "6": "2025-05-17 16:22:47.252377"
        },
        {
         "0": "The Departed",
         "1": "151",
         "2": "2006-10-05",
         "3": "7.9",
         "4": "English",
         "5": "Thriller",
         "6": "2025-05-17 16:22:47.252377"
        },
        {
         "0": "The Departed",
         "1": "151",
         "2": "2006-10-05",
         "3": "7.9",
         "4": "Finu Chamoru",
         "5": "Thriller",
         "6": "2025-05-17 16:22:47.252377"
        },
        {
         "0": "The Departed",
         "1": "151",
         "2": "2006-10-05",
         "3": "7.9",
         "4": "English",
         "5": "Thriller",
         "6": "2025-05-17 16:22:47.252377"
        },
        {
         "0": "The Departed",
         "1": "151",
         "2": "2006-10-05",
         "3": "7.9",
         "4": "English",
         "5": "Crime",
         "6": "2025-05-17 16:22:47.252377"
        },
        {
         "0": "The Departed",
         "1": "151",
         "2": "2006-10-05",
         "3": "7.9",
         "4": "Finu Chamoru",
         "5": "Crime",
         "6": "2025-05-17 16:22:47.252377"
        },
        {
         "0": "The Departed",
         "1": "151",
         "2": "2006-10-05",
         "3": "7.9",
         "4": "English",
         "5": "Crime",
         "6": "2025-05-17 16:22:47.252377"
        },
        {
         "0": "Lake of Fire",
         "1": "152",
         "2": "2006-09-09",
         "3": "8.0",
         "4": "English",
         "5": "Documentary",
         "6": "2025-05-17 16:22:47.252377"
        },
        {
         "0": "Lake of Fire",
         "1": "152",
         "2": "2006-09-09",
         "3": "8.0",
         "4": "English",
         "5": "Documentary",
         "6": "2025-05-17 16:22:47.252377"
        },
        {
         "0": "Ha-Buah",
         "1": "114",
         "2": "2006-06-06",
         "3": "7.6",
         "4": "Ivrit",
         "5": "Drama",
         "6": "2025-05-17 16:22:47.252377"
        },
        {
         "0": "Ha-Buah",
         "1": "114",
         "2": "2006-06-06",
         "3": "7.6",
         "4": "Ivrit",
         "5": "Drama",
         "6": "2025-05-17 16:22:47.252377"
        },
        {
         "0": "Ha-Buah",
         "1": "114",
         "2": "2006-06-06",
         "3": "7.6",
         "4": "Ivrit",
         "5": "Romance",
         "6": "2025-05-17 16:22:47.252377"
        },
        {
         "0": "Ha-Buah",
         "1": "114",
         "2": "2006-06-06",
         "3": "7.6",
         "4": "Ivrit",
         "5": "Romance",
         "6": "2025-05-17 16:22:47.252377"
        },
        {
         "0": "El laberinto del fauno",
         "1": "118",
         "2": "2006-05-27",
         "3": "7.6",
         "4": "Español",
         "5": "Fantasy",
         "6": "2025-05-17 16:22:47.252377"
        },
        {
         "0": "El laberinto del fauno",
         "1": "118",
         "2": "2006-05-27",
         "3": "7.6",
         "4": "Español",
         "5": "Fantasy",
         "6": "2025-05-17 16:22:47.252377"
        },
        {
         "0": "El laberinto del fauno",
         "1": "118",
         "2": "2006-05-27",
         "3": "7.6",
         "4": "Español",
         "5": "Drama",
         "6": "2025-05-17 16:22:47.252377"
        },
        {
         "0": "El laberinto del fauno",
         "1": "118",
         "2": "2006-05-27",
         "3": "7.6",
         "4": "Español",
         "5": "Drama",
         "6": "2025-05-17 16:22:47.252377"
        },
        {
         "0": "El laberinto del fauno",
         "1": "118",
         "2": "2006-05-27",
         "3": "7.6",
         "4": "Español",
         "5": "War",
         "6": "2025-05-17 16:22:47.252377"
        },
        {
         "0": "El laberinto del fauno",
         "1": "118",
         "2": "2006-05-27",
         "3": "7.6",
         "4": "Español",
         "5": "War",
         "6": "2025-05-17 16:22:47.252377"
        },
        {
         "0": "V for Vendetta",
         "1": "132",
         "2": "2006-03-15",
         "3": "7.7",
         "4": "English",
         "5": "Fantasy",
         "6": "2025-05-17 16:22:47.252377"
        },
        {
         "0": "V for Vendetta",
         "1": "132",
         "2": "2006-03-15",
         "3": "7.7",
         "4": "English",
         "5": "Fantasy",
         "6": "2025-05-17 16:22:47.252377"
        },
        {
         "0": "V for Vendetta",
         "1": "132",
         "2": "2006-03-15",
         "3": "7.7",
         "4": "English",
         "5": "Action",
         "6": "2025-05-17 16:22:47.252377"
        },
        {
         "0": "V for Vendetta",
         "1": "132",
         "2": "2006-03-15",
         "3": "7.7",
         "4": "English",
         "5": "Action",
         "6": "2025-05-17 16:22:47.252377"
        },
        {
         "0": "V for Vendetta",
         "1": "132",
         "2": "2006-03-15",
         "3": "7.7",
         "4": "English",
         "5": "Thriller",
         "6": "2025-05-17 16:22:47.252377"
        },
        {
         "0": "V for Vendetta",
         "1": "132",
         "2": "2006-03-15",
         "3": "7.7",
         "4": "English",
         "5": "Thriller",
         "6": "2025-05-17 16:22:47.252377"
        },
        {
         "0": "Das Leben der Anderen",
         "1": "137",
         "2": "2006-03-15",
         "3": "7.9",
         "4": "Deutsch",
         "5": "Drama",
         "6": "2025-05-17 16:22:47.252377"
        },
        {
         "0": "Das Leben der Anderen",
         "1": "137",
         "2": "2006-03-15",
         "3": "7.9",
         "4": "Deutsch",
         "5": "Drama",
         "6": "2025-05-17 16:22:47.252377"
        },
        {
         "0": "Das Leben der Anderen",
         "1": "137",
         "2": "2006-03-15",
         "3": "7.9",
         "4": "Deutsch",
         "5": "Thriller",
         "6": "2025-05-17 16:22:47.252377"
        },
        {
         "0": "Das Leben der Anderen",
         "1": "137",
         "2": "2006-03-15",
         "3": "7.9",
         "4": "Deutsch",
         "5": "Thriller",
         "6": "2025-05-17 16:22:47.252377"
        },
        {
         "0": "Lage Raho Munna Bhai",
         "1": "144",
         "2": "2006-01-01",
         "3": "7.6",
         "4": "Hindi",
         "5": "Drama",
         "6": "2025-05-17 16:22:47.252377"
        },
        {
         "0": "Lage Raho Munna Bhai",
         "1": "144",
         "2": "2006-01-01",
         "3": "7.6",
         "4": "English",
         "5": "Drama",
         "6": "2025-05-17 16:22:47.252377"
        },
        {
         "0": "Lage Raho Munna Bhai",
         "1": "144",
         "2": "2006-01-01",
         "3": "7.6",
         "4": "Hindi",
         "5": "Comedy",
         "6": "2025-05-17 16:22:47.252377"
        },
        {
         "0": "Lage Raho Munna Bhai",
         "1": "144",
         "2": "2006-01-01",
         "3": "7.6",
         "4": "English",
         "5": "Comedy",
         "6": "2025-05-17 16:22:47.252377"
        },
        {
         "0": "Lage Raho Munna Bhai",
         "1": "144",
         "2": "2006-01-01",
         "3": "7.6",
         "4": "Hindi",
         "5": "Romance",
         "6": "2025-05-17 16:22:47.252377"
        },
        {
         "0": "Lage Raho Munna Bhai",
         "1": "144",
         "2": "2006-01-01",
         "3": "7.6",
         "4": "English",
         "5": "Romance",
         "6": "2025-05-17 16:22:47.252377"
        },
        {
         "0": "Little Big Top",
         "1": "75",
         "2": "2006-01-01",
         "3": "10.0",
         "4": "English",
         "5": "Comedy",
         "6": "2025-05-17 16:22:47.252377"
        },
        {
         "0": "Little Big Top",
         "1": "75",
         "2": "2006-01-01",
         "3": "10.0",
         "4": "English",
         "5": "Comedy",
         "6": "2025-05-17 16:22:47.252377"
        },
        {
         "0": "Pride & Prejudice",
         "1": "135",
         "2": "2005-09-16",
         "3": "7.7",
         "4": "English",
         "5": "Drama",
         "6": "2025-05-17 16:22:47.252377"
        },
        {
         "0": "Pride & Prejudice",
         "1": "135",
         "2": "2005-09-16",
         "3": "7.7",
         "4": "English",
         "5": "Drama",
         "6": "2025-05-17 16:22:47.252377"
        },
        {
         "0": "Pride & Prejudice",
         "1": "135",
         "2": "2005-09-16",
         "3": "7.7",
         "4": "English",
         "5": "Romance",
         "6": "2025-05-17 16:22:47.252377"
        },
        {
         "0": "Pride & Prejudice",
         "1": "135",
         "2": "2005-09-16",
         "3": "7.7",
         "4": "English",
         "5": "Romance",
         "6": "2025-05-17 16:22:47.252377"
        },
        {
         "0": "Million Dollar Baby",
         "1": "132",
         "2": "2004-12-15",
         "3": "7.7",
         "4": "English",
         "5": "Drama",
         "6": "2025-05-17 16:22:47.252377"
        },
        {
         "0": "Million Dollar Baby",
         "1": "132",
         "2": "2004-12-15",
         "3": "7.7",
         "4": "Gaeilge",
         "5": "Drama",
         "6": "2025-05-17 16:22:47.252377"
        },
        {
         "0": "Million Dollar Baby",
         "1": "132",
         "2": "2004-12-15",
         "3": "7.7",
         "4": "English",
         "5": "Drama",
         "6": "2025-05-17 16:22:47.252377"
        },
        {
         "0": "Chats perchés",
         "1": "59",
         "2": "2004-12-05",
         "3": "7.7",
         "4": "English",
         "5": "Documentary",
         "6": "2025-05-17 16:22:47.252377"
        },
        {
         "0": "Chats perchés",
         "1": "59",
         "2": "2004-12-05",
         "3": "7.7",
         "4": "Français",
         "5": "Documentary",
         "6": "2025-05-17 16:22:47.252377"
        },
        {
         "0": "Cama adentro",
         "1": "83",
         "2": "2004-09-21",
         "3": "7.8",
         "4": "English",
         "5": "Drama",
         "6": "2025-05-17 16:22:47.252377"
        },
        {
         "0": "Cama adentro",
         "1": "83",
         "2": "2004-09-21",
         "3": "7.8",
         "4": "Español",
         "5": "Drama",
         "6": "2025-05-17 16:22:47.252377"
        },
        {
         "0": "Cama adentro",
         "1": "83",
         "2": "2004-09-21",
         "3": "7.8",
         "4": "English",
         "5": "Foreign",
         "6": "2025-05-17 16:22:47.252377"
        },
        {
         "0": "Cama adentro",
         "1": "83",
         "2": "2004-09-21",
         "3": "7.8",
         "4": "Español",
         "5": "Foreign",
         "6": "2025-05-17 16:22:47.252377"
        },
        {
         "0": "Der Untergang",
         "1": "156",
         "2": "2004-09-08",
         "3": "7.7",
         "4": "Magyar",
         "5": "Drama",
         "6": "2025-05-17 16:22:47.252377"
        },
        {
         "0": "Der Untergang",
         "1": "156",
         "2": "2004-09-08",
         "3": "7.7",
         "4": "Deutsch",
         "5": "Drama",
         "6": "2025-05-17 16:22:47.252377"
        },
        {
         "0": "Der Untergang",
         "1": "156",
         "2": "2004-09-08",
         "3": "7.7",
         "4": "Russkii âzyk",
         "5": "Drama",
         "6": "2025-05-17 16:22:47.252377"
        },
        {
         "0": "Der Untergang",
         "1": "156",
         "2": "2004-09-08",
         "3": "7.7",
         "4": "Deutsch",
         "5": "Drama",
         "6": "2025-05-17 16:22:47.252377"
        },
        {
         "0": "Der Untergang",
         "1": "156",
         "2": "2004-09-08",
         "3": "7.7",
         "4": "Magyar",
         "5": "History",
         "6": "2025-05-17 16:22:47.252377"
        },
        {
         "0": "Der Untergang",
         "1": "156",
         "2": "2004-09-08",
         "3": "7.7",
         "4": "Deutsch",
         "5": "History",
         "6": "2025-05-17 16:22:47.252377"
        },
        {
         "0": "Der Untergang",
         "1": "156",
         "2": "2004-09-08",
         "3": "7.7",
         "4": "Russkii âzyk",
         "5": "History",
         "6": "2025-05-17 16:22:47.252377"
        },
        {
         "0": "Der Untergang",
         "1": "156",
         "2": "2004-09-08",
         "3": "7.7",
         "4": "Deutsch",
         "5": "History",
         "6": "2025-05-17 16:22:47.252377"
        },
        {
         "0": "Der Untergang",
         "1": "156",
         "2": "2004-09-08",
         "3": "7.7",
         "4": "Magyar",
         "5": "War",
         "6": "2025-05-17 16:22:47.252377"
        },
        {
         "0": "Der Untergang",
         "1": "156",
         "2": "2004-09-08",
         "3": "7.7",
         "4": "Deutsch",
         "5": "War",
         "6": "2025-05-17 16:22:47.252377"
        },
        {
         "0": "Der Untergang",
         "1": "156",
         "2": "2004-09-08",
         "3": "7.7",
         "4": "Russkii âzyk",
         "5": "War",
         "6": "2025-05-17 16:22:47.252377"
        },
        {
         "0": "Der Untergang",
         "1": "156",
         "2": "2004-09-08",
         "3": "7.7",
         "4": "Deutsch",
         "5": "War",
         "6": "2025-05-17 16:22:47.252377"
        },
        {
         "0": "Riding Giants",
         "1": "105",
         "2": "2004-07-09",
         "3": "7.6",
         "4": "English",
         "5": "Documentary",
         "6": "2025-05-17 16:22:47.252377"
        },
        {
         "0": "Riding Giants",
         "1": "105",
         "2": "2004-07-09",
         "3": "7.6",
         "4": "English",
         "5": "Documentary",
         "6": "2025-05-17 16:22:47.252377"
        },
        {
         "0": "The Notebook",
         "1": "123",
         "2": "2004-06-25",
         "3": "7.7",
         "4": "English",
         "5": "Drama",
         "6": "2025-05-17 16:22:47.252377"
        },
        {
         "0": "The Notebook",
         "1": "123",
         "2": "2004-06-25",
         "3": "7.7",
         "4": "English",
         "5": "Drama",
         "6": "2025-05-17 16:22:47.252377"
        },
        {
         "0": "The Notebook",
         "1": "123",
         "2": "2004-06-25",
         "3": "7.7",
         "4": "English",
         "5": "Romance",
         "6": "2025-05-17 16:22:47.252377"
        },
        {
         "0": "The Notebook",
         "1": "123",
         "2": "2004-06-25",
         "3": "7.7",
         "4": "English",
         "5": "Romance",
         "6": "2025-05-17 16:22:47.252377"
        },
        {
         "0": "Harry Potter and the Prisoner of Azkaban",
         "1": "141",
         "2": "2004-05-31",
         "3": "7.7",
         "4": "English",
         "5": "Adventure",
         "6": "2025-05-17 16:22:47.252377"
        },
        {
         "0": "Harry Potter and the Prisoner of Azkaban",
         "1": "141",
         "2": "2004-05-31",
         "3": "7.7",
         "4": "English",
         "5": "Adventure",
         "6": "2025-05-17 16:22:47.252377"
        },
        {
         "0": "Harry Potter and the Prisoner of Azkaban",
         "1": "141",
         "2": "2004-05-31",
         "3": "7.7",
         "4": "English",
         "5": "Fantasy",
         "6": "2025-05-17 16:22:47.252377"
        },
        {
         "0": "Harry Potter and the Prisoner of Azkaban",
         "1": "141",
         "2": "2004-05-31",
         "3": "7.7",
         "4": "English",
         "5": "Fantasy",
         "6": "2025-05-17 16:22:47.252377"
        },
        {
         "0": "Harry Potter and the Prisoner of Azkaban",
         "1": "141",
         "2": "2004-05-31",
         "3": "7.7",
         "4": "English",
         "5": "Family",
         "6": "2025-05-17 16:22:47.252377"
        },
        {
         "0": "Harry Potter and the Prisoner of Azkaban",
         "1": "141",
         "2": "2004-05-31",
         "3": "7.7",
         "4": "English",
         "5": "Family",
         "6": "2025-05-17 16:22:47.252377"
        },
        {
         "0": "Kill Bill: Vol. 2",
         "1": "136",
         "2": "2004-04-16",
         "3": "7.6",
         "4": "English",
         "5": "Action",
         "6": "2025-05-17 16:22:47.252377"
        },
        {
         "0": "Kill Bill: Vol. 2",
         "1": "136",
         "2": "2004-04-16",
         "3": "7.6",
         "4": "Finu Chamoru",
         "5": "Action",
         "6": "2025-05-17 16:22:47.252377"
        },
        {
         "0": "Kill Bill: Vol. 2",
         "1": "136",
         "2": "2004-04-16",
         "3": "7.6",
         "4": "Zhongwén",
         "5": "Action",
         "6": "2025-05-17 16:22:47.252377"
        },
        {
         "0": "Kill Bill: Vol. 2",
         "1": "136",
         "2": "2004-04-16",
         "3": "7.6",
         "4": "Español",
         "5": "Action",
         "6": "2025-05-17 16:22:47.252377"
        },
        {
         "0": "Kill Bill: Vol. 2",
         "1": "136",
         "2": "2004-04-16",
         "3": "7.6",
         "4": "English",
         "5": "Action",
         "6": "2025-05-17 16:22:47.252377"
        },
        {
         "0": "Kill Bill: Vol. 2",
         "1": "136",
         "2": "2004-04-16",
         "3": "7.6",
         "4": "English",
         "5": "Thriller",
         "6": "2025-05-17 16:22:47.252377"
        },
        {
         "0": "Kill Bill: Vol. 2",
         "1": "136",
         "2": "2004-04-16",
         "3": "7.6",
         "4": "Finu Chamoru",
         "5": "Thriller",
         "6": "2025-05-17 16:22:47.252377"
        },
        {
         "0": "Kill Bill: Vol. 2",
         "1": "136",
         "2": "2004-04-16",
         "3": "7.6",
         "4": "Zhongwén",
         "5": "Thriller",
         "6": "2025-05-17 16:22:47.252377"
        },
        {
         "0": "Kill Bill: Vol. 2",
         "1": "136",
         "2": "2004-04-16",
         "3": "7.6",
         "4": "Español",
         "5": "Thriller",
         "6": "2025-05-17 16:22:47.252377"
        },
        {
         "0": "Kill Bill: Vol. 2",
         "1": "136",
         "2": "2004-04-16",
         "3": "7.6",
         "4": "English",
         "5": "Thriller",
         "6": "2025-05-17 16:22:47.252377"
        },
        {
         "0": "Kill Bill: Vol. 2",
         "1": "136",
         "2": "2004-04-16",
         "3": "7.6",
         "4": "English",
         "5": "Crime",
         "6": "2025-05-17 16:22:47.252377"
        },
        {
         "0": "Kill Bill: Vol. 2",
         "1": "136",
         "2": "2004-04-16",
         "3": "7.6",
         "4": "Finu Chamoru",
         "5": "Crime",
         "6": "2025-05-17 16:22:47.252377"
        },
        {
         "0": "Kill Bill: Vol. 2",
         "1": "136",
         "2": "2004-04-16",
         "3": "7.6",
         "4": "Zhongwén",
         "5": "Crime",
         "6": "2025-05-17 16:22:47.252377"
        },
        {
         "0": "Kill Bill: Vol. 2",
         "1": "136",
         "2": "2004-04-16",
         "3": "7.6",
         "4": "Español",
         "5": "Crime",
         "6": "2025-05-17 16:22:47.252377"
        },
        {
         "0": "Kill Bill: Vol. 2",
         "1": "136",
         "2": "2004-04-16",
         "3": "7.6",
         "4": "English",
         "5": "Crime",
         "6": "2025-05-17 16:22:47.252377"
        },
        {
         "0": "Eternal Sunshine of the Spotless Mind",
         "1": "108",
         "2": "2004-03-19",
         "3": "7.9",
         "4": "English",
         "5": "Drama",
         "6": "2025-05-17 16:22:47.252377"
        },
        {
         "0": "Eternal Sunshine of the Spotless Mind",
         "1": "108",
         "2": "2004-03-19",
         "3": "7.9",
         "4": "English",
         "5": "Drama",
         "6": "2025-05-17 16:22:47.252377"
        },
        {
         "0": "Eternal Sunshine of the Spotless Mind",
         "1": "108",
         "2": "2004-03-19",
         "3": "7.9",
         "4": "English",
         "5": "Science Fiction",
         "6": "2025-05-17 16:22:47.252377"
        },
        {
         "0": "Eternal Sunshine of the Spotless Mind",
         "1": "108",
         "2": "2004-03-19",
         "3": "7.9",
         "4": "English",
         "5": "Science Fiction",
         "6": "2025-05-17 16:22:47.252377"
        },
        {
         "0": "Eternal Sunshine of the Spotless Mind",
         "1": "108",
         "2": "2004-03-19",
         "3": "7.9",
         "4": "English",
         "5": "Romance",
         "6": "2025-05-17 16:22:47.252377"
        },
        {
         "0": "Eternal Sunshine of the Spotless Mind",
         "1": "108",
         "2": "2004-03-19",
         "3": "7.9",
         "4": "English",
         "5": "Romance",
         "6": "2025-05-17 16:22:47.252377"
        },
        {
         "0": "Before Sunset",
         "1": "80",
         "2": "2004-02-10",
         "3": "7.6",
         "4": "English",
         "5": "Drama",
         "6": "2025-05-17 16:22:47.252377"
        },
        {
         "0": "Before Sunset",
         "1": "80",
         "2": "2004-02-10",
         "3": "7.6",
         "4": "Français",
         "5": "Drama",
         "6": "2025-05-17 16:22:47.252377"
        },
        {
         "0": "Before Sunset",
         "1": "80",
         "2": "2004-02-10",
         "3": "7.6",
         "4": "English",
         "5": "Drama",
         "6": "2025-05-17 16:22:47.252377"
        },
        {
         "0": "Before Sunset",
         "1": "80",
         "2": "2004-02-10",
         "3": "7.6",
         "4": "English",
         "5": "Romance",
         "6": "2025-05-17 16:22:47.252377"
        },
        {
         "0": "Before Sunset",
         "1": "80",
         "2": "2004-02-10",
         "3": "7.6",
         "4": "Français",
         "5": "Romance",
         "6": "2025-05-17 16:22:47.252377"
        },
        {
         "0": "Before Sunset",
         "1": "80",
         "2": "2004-02-10",
         "3": "7.6",
         "4": "English",
         "5": "Romance",
         "6": "2025-05-17 16:22:47.252377"
        },
        {
         "0": "Big Fish",
         "1": "125",
         "2": "2003-12-25",
         "3": "7.6",
         "4": "English",
         "5": "Adventure",
         "6": "2025-05-17 16:22:47.252377"
        },
        {
         "0": "Big Fish",
         "1": "125",
         "2": "2003-12-25",
         "3": "7.6",
         "4": "English",
         "5": "Adventure",
         "6": "2025-05-17 16:22:47.252377"
        },
        {
         "0": "Big Fish",
         "1": "125",
         "2": "2003-12-25",
         "3": "7.6",
         "4": "English",
         "5": "Fantasy",
         "6": "2025-05-17 16:22:47.252377"
        },
        {
         "0": "Big Fish",
         "1": "125",
         "2": "2003-12-25",
         "3": "7.6",
         "4": "English",
         "5": "Fantasy",
         "6": "2025-05-17 16:22:47.252377"
        },
        {
         "0": "Big Fish",
         "1": "125",
         "2": "2003-12-25",
         "3": "7.6",
         "4": "English",
         "5": "Drama",
         "6": "2025-05-17 16:22:47.252377"
        },
        {
         "0": "Big Fish",
         "1": "125",
         "2": "2003-12-25",
         "3": "7.6",
         "4": "English",
         "5": "Drama",
         "6": "2025-05-17 16:22:47.252377"
        },
        {
         "0": "The Lord of the Rings: The Return of the King",
         "1": "201",
         "2": "2003-12-01",
         "3": "8.1",
         "4": "English",
         "5": "Adventure",
         "6": "2025-05-17 16:22:47.252377"
        },
        {
         "0": "The Lord of the Rings: The Return of the King",
         "1": "201",
         "2": "2003-12-01",
         "3": "8.1",
         "4": "English",
         "5": "Adventure",
         "6": "2025-05-17 16:22:47.252377"
        },
        {
         "0": "The Lord of the Rings: The Return of the King",
         "1": "201",
         "2": "2003-12-01",
         "3": "8.1",
         "4": "English",
         "5": "Fantasy",
         "6": "2025-05-17 16:22:47.252377"
        },
        {
         "0": "The Lord of the Rings: The Return of the King",
         "1": "201",
         "2": "2003-12-01",
         "3": "8.1",
         "4": "English",
         "5": "Fantasy",
         "6": "2025-05-17 16:22:47.252377"
        },
        {
         "0": "The Lord of the Rings: The Return of the King",
         "1": "201",
         "2": "2003-12-01",
         "3": "8.1",
         "4": "English",
         "5": "Action",
         "6": "2025-05-17 16:22:47.252377"
        },
        {
         "0": "The Lord of the Rings: The Return of the King",
         "1": "201",
         "2": "2003-12-01",
         "3": "8.1",
         "4": "English",
         "5": "Action",
         "6": "2025-05-17 16:22:47.252377"
        },
        {
         "0": "Kill Bill: Vol. 1",
         "1": "111",
         "2": "2003-10-10",
         "3": "7.7",
         "4": "English",
         "5": "Action",
         "6": "2025-05-17 16:22:47.252377"
        },
        {
         "0": "Kill Bill: Vol. 1",
         "1": "111",
         "2": "2003-10-10",
         "3": "7.7",
         "4": "Français",
         "5": "Action",
         "6": "2025-05-17 16:22:47.252377"
        },
        {
         "0": "Kill Bill: Vol. 1",
         "1": "111",
         "2": "2003-10-10",
         "3": "7.7",
         "4": "Nihongo",
         "5": "Action",
         "6": "2025-05-17 16:22:47.252377"
        },
        {
         "0": "Kill Bill: Vol. 1",
         "1": "111",
         "2": "2003-10-10",
         "3": "7.7",
         "4": "English",
         "5": "Action",
         "6": "2025-05-17 16:22:47.252377"
        },
        {
         "0": "Kill Bill: Vol. 1",
         "1": "111",
         "2": "2003-10-10",
         "3": "7.7",
         "4": "English",
         "5": "Crime",
         "6": "2025-05-17 16:22:47.252377"
        },
        {
         "0": "Kill Bill: Vol. 1",
         "1": "111",
         "2": "2003-10-10",
         "3": "7.7",
         "4": "Français",
         "5": "Crime",
         "6": "2025-05-17 16:22:47.252377"
        },
        {
         "0": "Kill Bill: Vol. 1",
         "1": "111",
         "2": "2003-10-10",
         "3": "7.7",
         "4": "Nihongo",
         "5": "Crime",
         "6": "2025-05-17 16:22:47.252377"
        },
        {
         "0": "Kill Bill: Vol. 1",
         "1": "111",
         "2": "2003-10-10",
         "3": "7.7",
         "4": "English",
         "5": "Crime",
         "6": "2025-05-17 16:22:47.252377"
        },
        {
         "0": "Mystic River",
         "1": "138",
         "2": "2003-10-07",
         "3": "7.6",
         "4": "English",
         "5": "Drama",
         "6": "2025-05-17 16:22:47.252377"
        },
        {
         "0": "Mystic River",
         "1": "138",
         "2": "2003-10-07",
         "3": "7.6",
         "4": "English",
         "5": "Drama",
         "6": "2025-05-17 16:22:47.252377"
        },
        {
         "0": "Mystic River",
         "1": "138",
         "2": "2003-10-07",
         "3": "7.6",
         "4": "English",
         "5": "Thriller",
         "6": "2025-05-17 16:22:47.252377"
        },
        {
         "0": "Mystic River",
         "1": "138",
         "2": "2003-10-07",
         "3": "7.6",
         "4": "English",
         "5": "Thriller",
         "6": "2025-05-17 16:22:47.252377"
        },
        {
         "0": "Mystic River",
         "1": "138",
         "2": "2003-10-07",
         "3": "7.6",
         "4": "English",
         "5": "Crime",
         "6": "2025-05-17 16:22:47.252377"
        },
        {
         "0": "Mystic River",
         "1": "138",
         "2": "2003-10-07",
         "3": "7.6",
         "4": "English",
         "5": "Crime",
         "6": "2025-05-17 16:22:47.252377"
        },
        {
         "0": "Mystic River",
         "1": "138",
         "2": "2003-10-07",
         "3": "7.6",
         "4": "English",
         "5": "Mystery",
         "6": "2025-05-17 16:22:47.252377"
        },
        {
         "0": "Mystic River",
         "1": "138",
         "2": "2003-10-07",
         "3": "7.6",
         "4": "English",
         "5": "Mystery",
         "6": "2025-05-17 16:22:47.252377"
        },
        {
         "0": "The Visual Bible: The Gospel of John",
         "1": "125",
         "2": "2003-09-11",
         "3": "8.2",
         "4": "English",
         "5": "Drama",
         "6": "2025-05-17 16:22:47.252377"
        },
        {
         "0": "The Visual Bible: The Gospel of John",
         "1": "125",
         "2": "2003-09-11",
         "3": "8.2",
         "4": "English",
         "5": "Drama",
         "6": "2025-05-17 16:22:47.252377"
        },
        {
         "0": "The Visual Bible: The Gospel of John",
         "1": "125",
         "2": "2003-09-11",
         "3": "8.2",
         "4": "English",
         "5": "History",
         "6": "2025-05-17 16:22:47.252377"
        },
        {
         "0": "The Visual Bible: The Gospel of John",
         "1": "125",
         "2": "2003-09-11",
         "3": "8.2",
         "4": "English",
         "5": "History",
         "6": "2025-05-17 16:22:47.252377"
        },
        {
         "0": "Touching the Void",
         "1": "106",
         "2": "2003-09-05",
         "3": "7.6",
         "4": "English",
         "5": "Adventure",
         "6": "2025-05-17 16:22:47.252377"
        },
        {
         "0": "Touching the Void",
         "1": "106",
         "2": "2003-09-05",
         "3": "7.6",
         "4": "English",
         "5": "Adventure",
         "6": "2025-05-17 16:22:47.252377"
        },
        {
         "0": "Touching the Void",
         "1": "106",
         "2": "2003-09-05",
         "3": "7.6",
         "4": "English",
         "5": "Action",
         "6": "2025-05-17 16:22:47.252377"
        },
        {
         "0": "Touching the Void",
         "1": "106",
         "2": "2003-09-05",
         "3": "7.6",
         "4": "English",
         "5": "Action",
         "6": "2025-05-17 16:22:47.252377"
        },
        {
         "0": "Touching the Void",
         "1": "106",
         "2": "2003-09-05",
         "3": "7.6",
         "4": "English",
         "5": "Documentary",
         "6": "2025-05-17 16:22:47.252377"
        },
        {
         "0": "Touching the Void",
         "1": "106",
         "2": "2003-09-05",
         "3": "7.6",
         "4": "English",
         "5": "Documentary",
         "6": "2025-05-17 16:22:47.252377"
        },
        {
         "0": "Finding Nemo",
         "1": "100",
         "2": "2003-05-30",
         "3": "7.6",
         "4": "English",
         "5": "Animation",
         "6": "2025-05-17 16:22:47.252377"
        },
        {
         "0": "Finding Nemo",
         "1": "100",
         "2": "2003-05-30",
         "3": "7.6",
         "4": "English",
         "5": "Animation",
         "6": "2025-05-17 16:22:47.252377"
        },
        {
         "0": "Finding Nemo",
         "1": "100",
         "2": "2003-05-30",
         "3": "7.6",
         "4": "English",
         "5": "Family",
         "6": "2025-05-17 16:22:47.252377"
        },
        {
         "0": "Finding Nemo",
         "1": "100",
         "2": "2003-05-30",
         "3": "7.6",
         "4": "English",
         "5": "Family",
         "6": "2025-05-17 16:22:47.252377"
        },
        {
         "0": "Tupac: Resurrection",
         "1": "112",
         "2": "2003-01-23",
         "3": "8.0",
         "4": "English",
         "5": "Documentary",
         "6": "2025-05-17 16:22:47.252377"
        },
        {
         "0": "Tupac: Resurrection",
         "1": "112",
         "2": "2003-01-23",
         "3": "8.0",
         "4": "English",
         "5": "Documentary",
         "6": "2025-05-17 16:22:47.252377"
        },
        {
         "0": "Tupac: Resurrection",
         "1": "112",
         "2": "2003-01-23",
         "3": "8.0",
         "4": "English",
         "5": "Music",
         "6": "2025-05-17 16:22:47.252377"
        },
        {
         "0": "Tupac: Resurrection",
         "1": "112",
         "2": "2003-01-23",
         "3": "8.0",
         "4": "English",
         "5": "Music",
         "6": "2025-05-17 16:22:47.252377"
        },
        {
         "0": "Catch Me If You Can",
         "1": "141",
         "2": "2002-12-25",
         "3": "7.7",
         "4": "English",
         "5": "Drama",
         "6": "2025-05-17 16:22:47.252377"
        },
        {
         "0": "Catch Me If You Can",
         "1": "141",
         "2": "2002-12-25",
         "3": "7.7",
         "4": "Français",
         "5": "Drama",
         "6": "2025-05-17 16:22:47.252377"
        },
        {
         "0": "Catch Me If You Can",
         "1": "141",
         "2": "2002-12-25",
         "3": "7.7",
         "4": "English",
         "5": "Drama",
         "6": "2025-05-17 16:22:47.252377"
        },
        {
         "0": "Catch Me If You Can",
         "1": "141",
         "2": "2002-12-25",
         "3": "7.7",
         "4": "English",
         "5": "Crime",
         "6": "2025-05-17 16:22:47.252377"
        },
        {
         "0": "Catch Me If You Can",
         "1": "141",
         "2": "2002-12-25",
         "3": "7.7",
         "4": "Français",
         "5": "Crime",
         "6": "2025-05-17 16:22:47.252377"
        },
        {
         "0": "Catch Me If You Can",
         "1": "141",
         "2": "2002-12-25",
         "3": "7.7",
         "4": "English",
         "5": "Crime",
         "6": "2025-05-17 16:22:47.252377"
        },
        {
         "0": "The Lord of the Rings: The Two Towers",
         "1": "179",
         "2": "2002-12-18",
         "3": "8.0",
         "4": "English",
         "5": "Adventure",
         "6": "2025-05-17 16:22:47.252377"
        },
        {
         "0": "The Lord of the Rings: The Two Towers",
         "1": "179",
         "2": "2002-12-18",
         "3": "8.0",
         "4": "English",
         "5": "Adventure",
         "6": "2025-05-17 16:22:47.252377"
        },
        {
         "0": "The Lord of the Rings: The Two Towers",
         "1": "179",
         "2": "2002-12-18",
         "3": "8.0",
         "4": "English",
         "5": "Fantasy",
         "6": "2025-05-17 16:22:47.252377"
        },
        {
         "0": "The Lord of the Rings: The Two Towers",
         "1": "179",
         "2": "2002-12-18",
         "3": "8.0",
         "4": "English",
         "5": "Fantasy",
         "6": "2025-05-17 16:22:47.252377"
        },
        {
         "0": "The Lord of the Rings: The Two Towers",
         "1": "179",
         "2": "2002-12-18",
         "3": "8.0",
         "4": "English",
         "5": "Action",
         "6": "2025-05-17 16:22:47.252377"
        },
        {
         "0": "The Lord of the Rings: The Two Towers",
         "1": "179",
         "2": "2002-12-18",
         "3": "8.0",
         "4": "English",
         "5": "Action",
         "6": "2025-05-17 16:22:47.252377"
        },
        {
         "0": "The Pianist",
         "1": "150",
         "2": "2002-09-24",
         "3": "8.0",
         "4": "English",
         "5": "Drama",
         "6": "2025-05-17 16:22:47.252377"
        },
        {
         "0": "The Pianist",
         "1": "150",
         "2": "2002-09-24",
         "3": "8.0",
         "4": "Russkii âzyk",
         "5": "Drama",
         "6": "2025-05-17 16:22:47.252377"
        },
        {
         "0": "The Pianist",
         "1": "150",
         "2": "2002-09-24",
         "3": "8.0",
         "4": "Deutsch",
         "5": "Drama",
         "6": "2025-05-17 16:22:47.252377"
        },
        {
         "0": "The Pianist",
         "1": "150",
         "2": "2002-09-24",
         "3": "8.0",
         "4": "English",
         "5": "Drama",
         "6": "2025-05-17 16:22:47.252377"
        },
        {
         "0": "The Pianist",
         "1": "150",
         "2": "2002-09-24",
         "3": "8.0",
         "4": "English",
         "5": "War",
         "6": "2025-05-17 16:22:47.252377"
        },
        {
         "0": "The Pianist",
         "1": "150",
         "2": "2002-09-24",
         "3": "8.0",
         "4": "Russkii âzyk",
         "5": "War",
         "6": "2025-05-17 16:22:47.252377"
        },
        {
         "0": "The Pianist",
         "1": "150",
         "2": "2002-09-24",
         "3": "8.0",
         "4": "Deutsch",
         "5": "War",
         "6": "2025-05-17 16:22:47.252377"
        },
        {
         "0": "The Pianist",
         "1": "150",
         "2": "2002-09-24",
         "3": "8.0",
         "4": "English",
         "5": "War",
         "6": "2025-05-17 16:22:47.252377"
        },
        {
         "0": "Lilja 4-Ever",
         "1": "109",
         "2": "2002-08-23",
         "3": "7.7",
         "4": "Russkii âzyk",
         "5": "Drama",
         "6": "2025-05-17 16:22:47.252377"
        },
        {
         "0": "Lilja 4-Ever",
         "1": "109",
         "2": "2002-08-23",
         "3": "7.7",
         "4": "svenska",
         "5": "Drama",
         "6": "2025-05-17 16:22:47.252377"
        },
        {
         "0": "Lilja 4-Ever",
         "1": "109",
         "2": "2002-08-23",
         "3": "7.7",
         "4": "svenska",
         "5": "Drama",
         "6": "2025-05-17 16:22:47.252377"
        },
        {
         "0": "Lilja 4-Ever",
         "1": "109",
         "2": "2002-08-23",
         "3": "7.7",
         "4": "English",
         "5": "Drama",
         "6": "2025-05-17 16:22:47.252377"
        },
        {
         "0": "Lilja 4-Ever",
         "1": "109",
         "2": "2002-08-23",
         "3": "7.7",
         "4": "Russkii âzyk",
         "5": "Crime",
         "6": "2025-05-17 16:22:47.252377"
        },
        {
         "0": "Lilja 4-Ever",
         "1": "109",
         "2": "2002-08-23",
         "3": "7.7",
         "4": "svenska",
         "5": "Crime",
         "6": "2025-05-17 16:22:47.252377"
        },
        {
         "0": "Lilja 4-Ever",
         "1": "109",
         "2": "2002-08-23",
         "3": "7.7",
         "4": "svenska",
         "5": "Crime",
         "6": "2025-05-17 16:22:47.252377"
        },
        {
         "0": "Lilja 4-Ever",
         "1": "109",
         "2": "2002-08-23",
         "3": "7.7",
         "4": "English",
         "5": "Crime",
         "6": "2025-05-17 16:22:47.252377"
        },
        {
         "0": "Raising Victor Vargas",
         "1": "88",
         "2": "2002-05-16",
         "3": "7.8",
         "4": "English",
         "5": "Drama",
         "6": "2025-05-17 16:22:47.252377"
        },
        {
         "0": "Raising Victor Vargas",
         "1": "88",
         "2": "2002-05-16",
         "3": "7.8",
         "4": "Español",
         "5": "Drama",
         "6": "2025-05-17 16:22:47.252377"
        },
        {
         "0": "Raising Victor Vargas",
         "1": "88",
         "2": "2002-05-16",
         "3": "7.8",
         "4": "English",
         "5": "Drama",
         "6": "2025-05-17 16:22:47.252377"
        },
        {
         "0": "Raising Victor Vargas",
         "1": "88",
         "2": "2002-05-16",
         "3": "7.8",
         "4": "English",
         "5": "Romance",
         "6": "2025-05-17 16:22:47.252377"
        },
        {
         "0": "Raising Victor Vargas",
         "1": "88",
         "2": "2002-05-16",
         "3": "7.8",
         "4": "Español",
         "5": "Romance",
         "6": "2025-05-17 16:22:47.252377"
        },
        {
         "0": "Raising Victor Vargas",
         "1": "88",
         "2": "2002-05-16",
         "3": "7.8",
         "4": "English",
         "5": "Romance",
         "6": "2025-05-17 16:22:47.252377"
        },
        {
         "0": "Cidade de Deus",
         "1": "130",
         "2": "2002-02-05",
         "3": "8.1",
         "4": "Português",
         "5": "Drama",
         "6": "2025-05-17 16:22:47.252377"
        },
        {
         "0": "Cidade de Deus",
         "1": "130",
         "2": "2002-02-05",
         "3": "8.1",
         "4": "Português",
         "5": "Drama",
         "6": "2025-05-17 16:22:47.252377"
        },
        {
         "0": "Cidade de Deus",
         "1": "130",
         "2": "2002-02-05",
         "3": "8.1",
         "4": "Português",
         "5": "Crime",
         "6": "2025-05-17 16:22:47.252377"
        },
        {
         "0": "Cidade de Deus",
         "1": "130",
         "2": "2002-02-05",
         "3": "8.1",
         "4": "Português",
         "5": "Crime",
         "6": "2025-05-17 16:22:47.252377"
        },
        {
         "0": "The Jimmy Show",
         "1": "96",
         "2": "2002-01-16",
         "3": "8.0",
         "4": "English",
         "5": "Drama",
         "6": "2025-05-17 16:22:47.252377"
        },
        {
         "0": "The Jimmy Show",
         "1": "96",
         "2": "2002-01-16",
         "3": "8.0",
         "4": "English",
         "5": "Drama",
         "6": "2025-05-17 16:22:47.252377"
        },
        {
         "0": "The Jimmy Show",
         "1": "96",
         "2": "2002-01-16",
         "3": "8.0",
         "4": "English",
         "5": "Comedy",
         "6": "2025-05-17 16:22:47.252377"
        },
        {
         "0": "The Jimmy Show",
         "1": "96",
         "2": "2002-01-16",
         "3": "8.0",
         "4": "English",
         "5": "Comedy",
         "6": "2025-05-17 16:22:47.252377"
        },
        {
         "0": "The Business of Fancydancing",
         "1": "103",
         "2": "2002-01-14",
         "3": "8.0",
         "4": "English",
         "5": "Drama",
         "6": "2025-05-17 16:22:47.252377"
        },
        {
         "0": "The Business of Fancydancing",
         "1": "103",
         "2": "2002-01-14",
         "3": "8.0",
         "4": "English",
         "5": "Drama",
         "6": "2025-05-17 16:22:47.252377"
        },
        {
         "0": "The Business of Fancydancing",
         "1": "103",
         "2": "2002-01-14",
         "3": "8.0",
         "4": "English",
         "5": "Music",
         "6": "2025-05-17 16:22:47.252377"
        },
        {
         "0": "The Business of Fancydancing",
         "1": "103",
         "2": "2002-01-14",
         "3": "8.0",
         "4": "English",
         "5": "Music",
         "6": "2025-05-17 16:22:47.252377"
        },
        {
         "0": "The Heart of Me",
         "1": "96",
         "2": "2002-01-01",
         "3": "7.7",
         "4": "English",
         "5": "Drama",
         "6": "2025-05-17 16:22:47.252377"
        },
        {
         "0": "The Heart of Me",
         "1": "96",
         "2": "2002-01-01",
         "3": "7.7",
         "4": "Français",
         "5": "Drama",
         "6": "2025-05-17 16:22:47.252377"
        },
        {
         "0": "The Heart of Me",
         "1": "96",
         "2": "2002-01-01",
         "3": "7.7",
         "4": "English",
         "5": "Drama",
         "6": "2025-05-17 16:22:47.252377"
        },
        {
         "0": "The Heart of Me",
         "1": "96",
         "2": "2002-01-01",
         "3": "7.7",
         "4": "English",
         "5": "Romance",
         "6": "2025-05-17 16:22:47.252377"
        },
        {
         "0": "The Heart of Me",
         "1": "96",
         "2": "2002-01-01",
         "3": "7.7",
         "4": "Français",
         "5": "Romance",
         "6": "2025-05-17 16:22:47.252377"
        },
        {
         "0": "The Heart of Me",
         "1": "96",
         "2": "2002-01-01",
         "3": "7.7",
         "4": "English",
         "5": "Romance",
         "6": "2025-05-17 16:22:47.252377"
        },
        {
         "0": "The Lord of the Rings: The Fellowship of the Ring",
         "1": "178",
         "2": "2001-12-18",
         "3": "8.0",
         "4": "English",
         "5": "Adventure",
         "6": "2025-05-17 16:22:47.252377"
        },
        {
         "0": "The Lord of the Rings: The Fellowship of the Ring",
         "1": "178",
         "2": "2001-12-18",
         "3": "8.0",
         "4": "English",
         "5": "Adventure",
         "6": "2025-05-17 16:22:47.252377"
        },
        {
         "0": "The Lord of the Rings: The Fellowship of the Ring",
         "1": "178",
         "2": "2001-12-18",
         "3": "8.0",
         "4": "English",
         "5": "Fantasy",
         "6": "2025-05-17 16:22:47.252377"
        },
        {
         "0": "The Lord of the Rings: The Fellowship of the Ring",
         "1": "178",
         "2": "2001-12-18",
         "3": "8.0",
         "4": "English",
         "5": "Fantasy",
         "6": "2025-05-17 16:22:47.252377"
        },
        {
         "0": "The Lord of the Rings: The Fellowship of the Ring",
         "1": "178",
         "2": "2001-12-18",
         "3": "8.0",
         "4": "English",
         "5": "Action",
         "6": "2025-05-17 16:22:47.252377"
        },
        {
         "0": "The Lord of the Rings: The Fellowship of the Ring",
         "1": "178",
         "2": "2001-12-18",
         "3": "8.0",
         "4": "English",
         "5": "Action",
         "6": "2025-05-17 16:22:47.252377"
        },
        {
         "0": "A Beautiful Mind",
         "1": "135",
         "2": "2001-12-11",
         "3": "7.7",
         "4": "English",
         "5": "Drama",
         "6": "2025-05-17 16:22:47.252377"
        },
        {
         "0": "A Beautiful Mind",
         "1": "135",
         "2": "2001-12-11",
         "3": "7.7",
         "4": "English",
         "5": "Drama",
         "6": "2025-05-17 16:22:47.252377"
        },
        {
         "0": "A Beautiful Mind",
         "1": "135",
         "2": "2001-12-11",
         "3": "7.7",
         "4": "English",
         "5": "Romance",
         "6": "2025-05-17 16:22:47.252377"
        },
        {
         "0": "A Beautiful Mind",
         "1": "135",
         "2": "2001-12-11",
         "3": "7.7",
         "4": "English",
         "5": "Romance",
         "6": "2025-05-17 16:22:47.252377"
        },
        {
         "0": "Mulholland Drive",
         "1": "147",
         "2": "2001-05-16",
         "3": "7.6",
         "4": "English",
         "5": "Drama",
         "6": "2025-05-17 16:22:47.252377"
        },
        {
         "0": "Mulholland Drive",
         "1": "147",
         "2": "2001-05-16",
         "3": "7.6",
         "4": "Español",
         "5": "Drama",
         "6": "2025-05-17 16:22:47.252377"
        },
        {
         "0": "Mulholland Drive",
         "1": "147",
         "2": "2001-05-16",
         "3": "7.6",
         "4": "English",
         "5": "Drama",
         "6": "2025-05-17 16:22:47.252377"
        },
        {
         "0": "Mulholland Drive",
         "1": "147",
         "2": "2001-05-16",
         "3": "7.6",
         "4": "English",
         "5": "Thriller",
         "6": "2025-05-17 16:22:47.252377"
        },
        {
         "0": "Mulholland Drive",
         "1": "147",
         "2": "2001-05-16",
         "3": "7.6",
         "4": "Español",
         "5": "Thriller",
         "6": "2025-05-17 16:22:47.252377"
        },
        {
         "0": "Mulholland Drive",
         "1": "147",
         "2": "2001-05-16",
         "3": "7.6",
         "4": "English",
         "5": "Thriller",
         "6": "2025-05-17 16:22:47.252377"
        },
        {
         "0": "Mulholland Drive",
         "1": "147",
         "2": "2001-05-16",
         "3": "7.6",
         "4": "English",
         "5": "Mystery",
         "6": "2025-05-17 16:22:47.252377"
        },
        {
         "0": "Mulholland Drive",
         "1": "147",
         "2": "2001-05-16",
         "3": "7.6",
         "4": "Español",
         "5": "Mystery",
         "6": "2025-05-17 16:22:47.252377"
        },
        {
         "0": "Mulholland Drive",
         "1": "147",
         "2": "2001-05-16",
         "3": "7.6",
         "4": "English",
         "5": "Mystery",
         "6": "2025-05-17 16:22:47.252377"
        },
        {
         "0": "Le fabuleux destin d'Amélie Poulain",
         "1": "122",
         "2": "2001-04-25",
         "3": "7.8",
         "4": "Français",
         "5": "Comedy",
         "6": "2025-05-17 16:22:47.252377"
        },
        {
         "0": "Le fabuleux destin d'Amélie Poulain",
         "1": "122",
         "2": "2001-04-25",
         "3": "7.8",
         "4": "Russkii âzyk",
         "5": "Comedy",
         "6": "2025-05-17 16:22:47.252377"
        },
        {
         "0": "Le fabuleux destin d'Amélie Poulain",
         "1": "122",
         "2": "2001-04-25",
         "3": "7.8",
         "4": "Français",
         "5": "Comedy",
         "6": "2025-05-17 16:22:47.252377"
        },
        {
         "0": "Le fabuleux destin d'Amélie Poulain",
         "1": "122",
         "2": "2001-04-25",
         "3": "7.8",
         "4": "Français",
         "5": "Romance",
         "6": "2025-05-17 16:22:47.252377"
        },
        {
         "0": "Le fabuleux destin d'Amélie Poulain",
         "1": "122",
         "2": "2001-04-25",
         "3": "7.8",
         "4": "Russkii âzyk",
         "5": "Romance",
         "6": "2025-05-17 16:22:47.252377"
        },
        {
         "0": "Le fabuleux destin d'Amélie Poulain",
         "1": "122",
         "2": "2001-04-25",
         "3": "7.8",
         "4": "Français",
         "5": "Romance",
         "6": "2025-05-17 16:22:47.252377"
        },
        {
         "0": "Donnie Darko",
         "1": "113",
         "2": "2001-01-18",
         "3": "7.7",
         "4": "English",
         "5": "Fantasy",
         "6": "2025-05-17 16:22:47.252377"
        },
        {
         "0": "Donnie Darko",
         "1": "113",
         "2": "2001-01-18",
         "3": "7.7",
         "4": "English",
         "5": "Fantasy",
         "6": "2025-05-17 16:22:47.252377"
        },
        {
         "0": "Donnie Darko",
         "1": "113",
         "2": "2001-01-18",
         "3": "7.7",
         "4": "English",
         "5": "Drama",
         "6": "2025-05-17 16:22:47.252377"
        },
        {
         "0": "Donnie Darko",
         "1": "113",
         "2": "2001-01-18",
         "3": "7.7",
         "4": "English",
         "5": "Drama",
         "6": "2025-05-17 16:22:47.252377"
        },
        {
         "0": "Donnie Darko",
         "1": "113",
         "2": "2001-01-18",
         "3": "7.7",
         "4": "English",
         "5": "Mystery",
         "6": "2025-05-17 16:22:47.252377"
        },
        {
         "0": "Donnie Darko",
         "1": "113",
         "2": "2001-01-18",
         "3": "7.7",
         "4": "English",
         "5": "Mystery",
         "6": "2025-05-17 16:22:47.252377"
        },
        {
         "0": "Requiem for a Dream",
         "1": "102",
         "2": "2000-10-27",
         "3": "7.9",
         "4": "English",
         "5": "Drama",
         "6": "2025-05-17 16:22:47.252377"
        },
        {
         "0": "Requiem for a Dream",
         "1": "102",
         "2": "2000-10-27",
         "3": "7.9",
         "4": "English",
         "5": "Drama",
         "6": "2025-05-17 16:22:47.252377"
        },
        {
         "0": "Requiem for a Dream",
         "1": "102",
         "2": "2000-10-27",
         "3": "7.9",
         "4": "English",
         "5": "Crime",
         "6": "2025-05-17 16:22:47.252377"
        },
        {
         "0": "Requiem for a Dream",
         "1": "102",
         "2": "2000-10-27",
         "3": "7.9",
         "4": "English",
         "5": "Crime",
         "6": "2025-05-17 16:22:47.252377"
        },
        {
         "0": "Memento",
         "1": "113",
         "2": "2000-10-11",
         "3": "8.1",
         "4": "English",
         "5": "Thriller",
         "6": "2025-05-17 16:22:47.252377"
        },
        {
         "0": "Memento",
         "1": "113",
         "2": "2000-10-11",
         "3": "8.1",
         "4": "English",
         "5": "Thriller",
         "6": "2025-05-17 16:22:47.252377"
        },
        {
         "0": "Memento",
         "1": "113",
         "2": "2000-10-11",
         "3": "8.1",
         "4": "English",
         "5": "Mystery",
         "6": "2025-05-17 16:22:47.252377"
        },
        {
         "0": "Memento",
         "1": "113",
         "2": "2000-10-11",
         "3": "8.1",
         "4": "English",
         "5": "Mystery",
         "6": "2025-05-17 16:22:47.252377"
        },
        {
         "0": "Snatch",
         "1": "103",
         "2": "2000-09-01",
         "3": "7.7",
         "4": "English",
         "5": "Thriller",
         "6": "2025-05-17 16:22:47.252377"
        },
        {
         "0": "Snatch",
         "1": "103",
         "2": "2000-09-01",
         "3": "7.7",
         "4": "Russkii âzyk",
         "5": "Thriller",
         "6": "2025-05-17 16:22:47.252377"
        },
        {
         "0": "Snatch",
         "1": "103",
         "2": "2000-09-01",
         "3": "7.7",
         "4": "English",
         "5": "Thriller",
         "6": "2025-05-17 16:22:47.252377"
        },
        {
         "0": "Snatch",
         "1": "103",
         "2": "2000-09-01",
         "3": "7.7",
         "4": "English",
         "5": "Crime",
         "6": "2025-05-17 16:22:47.252377"
        },
        {
         "0": "Snatch",
         "1": "103",
         "2": "2000-09-01",
         "3": "7.7",
         "4": "Russkii âzyk",
         "5": "Crime",
         "6": "2025-05-17 16:22:47.252377"
        },
        {
         "0": "Snatch",
         "1": "103",
         "2": "2000-09-01",
         "3": "7.7",
         "4": "English",
         "5": "Crime",
         "6": "2025-05-17 16:22:47.252377"
        },
        {
         "0": "Amores perros",
         "1": "154",
         "2": "2000-06-16",
         "3": "7.6",
         "4": "Español",
         "5": "Drama",
         "6": "2025-05-17 16:22:47.252377"
        },
        {
         "0": "Amores perros",
         "1": "154",
         "2": "2000-06-16",
         "3": "7.6",
         "4": "Español",
         "5": "Drama",
         "6": "2025-05-17 16:22:47.252377"
        },
        {
         "0": "Amores perros",
         "1": "154",
         "2": "2000-06-16",
         "3": "7.6",
         "4": "Español",
         "5": "Thriller",
         "6": "2025-05-17 16:22:47.252377"
        },
        {
         "0": "Amores perros",
         "1": "154",
         "2": "2000-06-16",
         "3": "7.6",
         "4": "Español",
         "5": "Thriller",
         "6": "2025-05-17 16:22:47.252377"
        },
        {
         "0": "Dancer in the Dark",
         "1": "140",
         "2": "2000-05-17",
         "3": "7.6",
         "4": "English",
         "5": "Drama",
         "6": "2025-05-17 16:22:47.252377"
        },
        {
         "0": "Dancer in the Dark",
         "1": "140",
         "2": "2000-05-17",
         "3": "7.6",
         "4": "English",
         "5": "Drama",
         "6": "2025-05-17 16:22:47.252377"
        },
        {
         "0": "Dancer in the Dark",
         "1": "140",
         "2": "2000-05-17",
         "3": "7.6",
         "4": "English",
         "5": "Crime",
         "6": "2025-05-17 16:22:47.252377"
        },
        {
         "0": "Dancer in the Dark",
         "1": "140",
         "2": "2000-05-17",
         "3": "7.6",
         "4": "English",
         "5": "Crime",
         "6": "2025-05-17 16:22:47.252377"
        },
        {
         "0": "Dancer in the Dark",
         "1": "140",
         "2": "2000-05-17",
         "3": "7.6",
         "4": "English",
         "5": "Music",
         "6": "2025-05-17 16:22:47.252377"
        },
        {
         "0": "Dancer in the Dark",
         "1": "140",
         "2": "2000-05-17",
         "3": "7.6",
         "4": "English",
         "5": "Music",
         "6": "2025-05-17 16:22:47.252377"
        },
        {
         "0": "Gladiator",
         "1": "155",
         "2": "2000-05-01",
         "3": "7.9",
         "4": "English",
         "5": "Adventure",
         "6": "2025-05-17 16:22:47.252377"
        },
        {
         "0": "Gladiator",
         "1": "155",
         "2": "2000-05-01",
         "3": "7.9",
         "4": "English",
         "5": "Adventure",
         "6": "2025-05-17 16:22:47.252377"
        },
        {
         "0": "Gladiator",
         "1": "155",
         "2": "2000-05-01",
         "3": "7.9",
         "4": "English",
         "5": "Drama",
         "6": "2025-05-17 16:22:47.252377"
        },
        {
         "0": "Gladiator",
         "1": "155",
         "2": "2000-05-01",
         "3": "7.9",
         "4": "English",
         "5": "Drama",
         "6": "2025-05-17 16:22:47.252377"
        },
        {
         "0": "Gladiator",
         "1": "155",
         "2": "2000-05-01",
         "3": "7.9",
         "4": "English",
         "5": "Action",
         "6": "2025-05-17 16:22:47.252377"
        },
        {
         "0": "Gladiator",
         "1": "155",
         "2": "2000-05-01",
         "3": "7.9",
         "4": "English",
         "5": "Action",
         "6": "2025-05-17 16:22:47.252377"
        }
       ],
       "schema": [
        {
         "key": "0",
         "name": "title",
         "type": "string"
        },
        {
         "key": "1",
         "name": "duration_time",
         "type": "int"
        },
        {
         "key": "2",
         "name": "release_date",
         "type": "date"
        },
        {
         "key": "3",
         "name": "vote_average",
         "type": "double"
        },
        {
         "key": "4",
         "name": "language_name",
         "type": "string"
        },
        {
         "key": "5",
         "name": "genre_name",
         "type": "string"
        },
        {
         "key": "6",
         "name": "created_date",
         "type": "timestamp"
        }
       ],
       "truncated": false
      },
      "wranglerEntryContext": {
       "candidateVariableNames": [
        "results_movie_genre_language_2"
       ],
       "dataframeType": "pyspark"
      }
     },
     "type": "Synapse.DataFrame"
    }
   },
   "version": "0.1"
  }
 },
 "nbformat": 4,
 "nbformat_minor": 0
}
