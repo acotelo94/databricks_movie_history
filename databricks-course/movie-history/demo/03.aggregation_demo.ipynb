{
 "cells": [
  {
   "cell_type": "markdown",
   "metadata": {
    "application/vnd.databricks.v1+cell": {
     "cellMetadata": {},
     "inputWidgets": {},
     "nuid": "0056ed8a-ef66-4b63-bead-4e61f06a9719",
     "showTitle": false,
     "tableResultSettingsMap": {},
     "title": ""
    },
    "nteract": {
     "transient": {
      "deleting": false
     }
    }
   },
   "source": [
    "### Spark Aggregate"
   ]
  },
  {
   "cell_type": "markdown",
   "metadata": {
    "application/vnd.databricks.v1+cell": {
     "cellMetadata": {},
     "inputWidgets": {},
     "nuid": "db92f014-6446-4e73-a15f-6a777254280f",
     "showTitle": false,
     "tableResultSettingsMap": {},
     "title": ""
    },
    "nteract": {
     "transient": {
      "deleting": false
     }
    }
   },
   "source": [
    "#### Funciones simples de agregación"
   ]
  },
  {
   "cell_type": "code",
   "execution_count": 0,
   "metadata": {
    "application/vnd.databricks.v1+cell": {
     "cellMetadata": {},
     "inputWidgets": {},
     "nuid": "2cc0ef48-3c2d-43ac-a382-a6212f246aa3",
     "showTitle": false,
     "tableResultSettingsMap": {},
     "title": ""
    },
    "microsoft": {
     "language": "python",
     "language_group": "synapse_pyspark"
    }
   },
   "outputs": [],
   "source": [
    "from pyspark.sql.functions import count,count_distinct,sum,max,min,avg"
   ]
  },
  {
   "cell_type": "code",
   "execution_count": 0,
   "metadata": {
    "application/vnd.databricks.v1+cell": {
     "cellMetadata": {},
     "inputWidgets": {},
     "nuid": "a15f47d8-ec0b-484c-bd10-3ab954048ee2",
     "showTitle": false,
     "tableResultSettingsMap": {},
     "title": ""
    },
    "microsoft": {
     "language": "python",
     "language_group": "synapse_pyspark"
    }
   },
   "outputs": [],
   "source": [
    "%run configuration"
   ]
  },
  {
   "cell_type": "code",
   "execution_count": 0,
   "metadata": {
    "application/vnd.databricks.v1+cell": {
     "cellMetadata": {},
     "inputWidgets": {},
     "nuid": "b6526ec7-988b-4920-b65d-b7ea8ac8567a",
     "showTitle": false,
     "tableResultSettingsMap": {},
     "title": ""
    },
    "microsoft": {
     "language": "python",
     "language_group": "synapse_pyspark"
    }
   },
   "outputs": [],
   "source": [
    "df_movies = spark.read.parquet(f\"{silver_folder_path}/movies\")"
   ]
  },
  {
   "cell_type": "code",
   "execution_count": 0,
   "metadata": {
    "application/vnd.databricks.v1+cell": {
     "cellMetadata": {},
     "inputWidgets": {},
     "nuid": "66dcfde9-9091-48f7-859d-81670c387e45",
     "showTitle": false,
     "tableResultSettingsMap": {},
     "title": ""
    },
    "collapsed": false,
    "microsoft": {
     "language": "python",
     "language_group": "synapse_pyspark"
    }
   },
   "outputs": [],
   "source": [
    "display(df_movies)"
   ]
  },
  {
   "cell_type": "code",
   "execution_count": 0,
   "metadata": {
    "application/vnd.databricks.v1+cell": {
     "cellMetadata": {},
     "inputWidgets": {},
     "nuid": "029de3d5-d07f-4ccd-9b53-74bf7edfb811",
     "showTitle": false,
     "tableResultSettingsMap": {},
     "title": ""
    },
    "microsoft": {
     "language": "python",
     "language_group": "synapse_pyspark"
    }
   },
   "outputs": [],
   "source": [
    "df_movies.select(count(\"*\")).show()"
   ]
  },
  {
   "cell_type": "code",
   "execution_count": 0,
   "metadata": {
    "application/vnd.databricks.v1+cell": {
     "cellMetadata": {},
     "inputWidgets": {},
     "nuid": "a056c148-3013-4231-ac34-10934e6719ff",
     "showTitle": false,
     "tableResultSettingsMap": {},
     "title": ""
    },
    "microsoft": {
     "language": "python",
     "language_group": "synapse_pyspark"
    }
   },
   "outputs": [],
   "source": [
    "df_movies.select(count_distinct(\"year_release_date\")).show()"
   ]
  },
  {
   "cell_type": "code",
   "execution_count": 0,
   "metadata": {
    "application/vnd.databricks.v1+cell": {
     "cellMetadata": {},
     "inputWidgets": {},
     "nuid": "01aa8c32-101c-426c-ab11-634a8838d4d3",
     "showTitle": false,
     "tableResultSettingsMap": {},
     "title": ""
    },
    "collapsed": false,
    "microsoft": {
     "language": "python",
     "language_group": "synapse_pyspark"
    }
   },
   "outputs": [],
   "source": [
    "display(df_movies.filter(df_movies.year_release_date==2016).select(sum(df_movies.budget),count(\"*\")) \\\n",
    "        .withColumnRenamed(\"sum(budget)\",\"total_budget\").withColumnRenamed(\"count(1)\",\"total_movies\")\n",
    "     )  "
   ]
  },
  {
   "cell_type": "markdown",
   "metadata": {
    "application/vnd.databricks.v1+cell": {
     "cellMetadata": {},
     "inputWidgets": {},
     "nuid": "97da70db-eeba-413b-991f-f3446d0f9477",
     "showTitle": false,
     "tableResultSettingsMap": {},
     "title": ""
    },
    "microsoft": {
     "language": "python",
     "language_group": "synapse_pyspark"
    },
    "nteract": {
     "transient": {
      "deleting": false
     }
    }
   },
   "source": [
    "#### Group By"
   ]
  },
  {
   "cell_type": "code",
   "execution_count": 0,
   "metadata": {
    "application/vnd.databricks.v1+cell": {
     "cellMetadata": {},
     "inputWidgets": {},
     "nuid": "5ea6d7d1-a5de-4bb3-90ea-1a62887a9b16",
     "showTitle": false,
     "tableResultSettingsMap": {},
     "title": ""
    },
    "collapsed": false,
    "microsoft": {
     "language": "python",
     "language_group": "synapse_pyspark"
    }
   },
   "outputs": [],
   "source": [
    "display(df_movies.groupBy(df_movies.year_release_date) \\\n",
    "                 .agg(\n",
    "                    sum(\"budget\").alias(\"total\"),\n",
    "                    max(\"budget\").alias(\"max\"),\n",
    "                    min(\"budget\").alias(\"min\"),\n",
    "                    count(\"movie_id\").alias(\"total\"),\n",
    "                    avg(\"budget\").alias(\"promedio\")\n",
    "                 )\n",
    "                 )"
   ]
  },
  {
   "cell_type": "markdown",
   "metadata": {
    "application/vnd.databricks.v1+cell": {
     "cellMetadata": {},
     "inputWidgets": {},
     "nuid": "04bbdb3e-745f-4f49-9eb9-0e0098d7cfea",
     "showTitle": false,
     "tableResultSettingsMap": {},
     "title": ""
    },
    "microsoft": {
     "language": "python",
     "language_group": "synapse_pyspark"
    },
    "nteract": {
     "transient": {
      "deleting": false
     }
    }
   },
   "source": [
    "#### Window functions"
   ]
  },
  {
   "cell_type": "code",
   "execution_count": 0,
   "metadata": {
    "application/vnd.databricks.v1+cell": {
     "cellMetadata": {},
     "inputWidgets": {},
     "nuid": "554e5608-483f-4132-bced-6b78a845c03f",
     "showTitle": false,
     "tableResultSettingsMap": {},
     "title": ""
    },
    "collapsed": false,
    "microsoft": {
     "language": "python",
     "language_group": "synapse_pyspark"
    }
   },
   "outputs": [],
   "source": [
    "from pyspark.sql.functions import rank,desc,isnotnull\n",
    "from pyspark.sql.window import Window\n",
    "\n",
    "display(df_movies.filter(isnotnull(df_movies.year_release_date)).select(df_movies.title,df_movies.budget,df_movies.year_release_date) \\\n",
    "        .withColumn(\"rank\",rank().over(Window.partitionBy(\"year_release_date\").orderBy(desc(\"budget\"))))\n",
    ")"
   ]
  },
  {
   "cell_type": "code",
   "execution_count": 0,
   "metadata": {
    "application/vnd.databricks.v1+cell": {
     "cellMetadata": {},
     "inputWidgets": {},
     "nuid": "71a9e3c1-141c-4554-b45a-e284cb7e7dbc",
     "showTitle": false,
     "tableResultSettingsMap": {},
     "title": ""
    },
    "collapsed": false,
    "microsoft": {
     "language": "python",
     "language_group": "synapse_pyspark"
    }
   },
   "outputs": [],
   "source": [
    "from pyspark.sql.functions import rank,desc,isnotnull,dense_rank\n",
    "from pyspark.sql.window import Window\n",
    "\n",
    "movie_dense_rank = Window.partitionBy(\"year_release_date\").orderBy(desc(\"budget\"))\n",
    "\n",
    "display(df_movies.filter(isnotnull(df_movies.year_release_date)).select(df_movies.title,df_movies.budget,df_movies.year_release_date) \\\n",
    "        .withColumn(\"rank\",dense_rank().over(movie_dense_rank))\n",
    ")"
   ]
  }
 ],
 "metadata": {
  "application/vnd.databricks.v1+notebook": {
   "computePreferences": null,
   "dashboards": [],
   "environmentMetadata": null,
   "inputWidgetPreferences": null,
   "language": "python",
   "notebookMetadata": {
    "pythonIndentUnit": 4
   },
   "notebookName": "03.aggregation_demo",
   "widgets": {}
  },
  "dependencies": {
   "lakehouse": {
    "default_lakehouse": "e0a555a2-5ce0-4b01-8214-823621d9d6c6",
    "default_lakehouse_name": "DB_Lakehouse",
    "default_lakehouse_workspace_id": "919018e5-22ad-4706-a9ba-1678e37706b8",
    "known_lakehouses": [
     {
      "id": "e0a555a2-5ce0-4b01-8214-823621d9d6c6"
     }
    ]
   }
  },
  "kernel_info": {
   "name": "synapse_pyspark"
  },
  "kernelspec": {
   "display_name": "Synapse PySpark",
   "language": "Python",
   "name": "synapse_pyspark"
  },
  "language_info": {
   "name": "python"
  },
  "microsoft": {
   "language": "python",
   "language_group": "synapse_pyspark",
   "ms_spell_check": {
    "ms_spell_check_language": "es"
   }
  },
  "nteract": {
   "version": "nteract-front-end@1.0.0"
  },
  "spark_compute": {
   "compute_id": "/trident/default",
   "session_options": {
    "conf": {
     "spark.synapse.nbs.session.timeout": "1200000"
    }
   }
  },
  "synapse_widget": {
   "state": {
    "1df13e7b-dd36-4dcc-b747-290f4cb2e8c4": {
     "persist_state": {
      "view": {
       "chartOptions": {
        "aggregationType": "sum",
        "binsNumber": 10,
        "categoryFieldKeys": [],
        "chartType": "bar",
        "isStacked": false,
        "seriesFieldKeys": [],
        "wordFrequency": "-1"
       },
       "tableOptions": {},
       "type": "details",
       "viewOptionsGroup": [
        {
         "tabItems": [
          {
           "key": "0",
           "name": "Table",
           "options": {},
           "type": "table"
          }
         ]
        }
       ]
      }
     },
     "sync_state": {
      "isSummary": false,
      "language": "scala",
      "table": {
       "rows": [
        {
         "0": "2015",
         "1": "6.508097363E9",
         "2": "2.8E8",
         "3": "50000.0",
         "4": "198",
         "5": "3.2869178601010103E7"
        },
        {
         "0": "2006",
         "1": "6.398129867E9",
         "2": "2.7E8",
         "3": "100000.0",
         "4": "217",
         "5": "2.9484469433179725E7"
        },
        {
         "0": "2013",
         "1": "7.962019899E9",
         "2": "2.55E8",
         "3": "22000.0",
         "4": "215",
         "5": "3.703265069302326E7"
        },
        {
         "0": "2014",
         "1": "6.976953E9",
         "2": "2.5E8",
         "3": "300000.0",
         "4": "224",
         "5": "3.114711160714286E7"
        },
        {
         "0": "2004",
         "1": "5.93559075E9",
         "2": "2.0E8",
         "3": "65000.0",
         "4": "185",
         "5": "3.2084274324324325E7"
        },
        {
         "0": "2012",
         "1": "7.190332154E9",
         "2": "2.6E8",
         "3": "60000.0",
         "4": "196",
         "5": "3.668536813265306E7"
        },
        {
         "0": "2009",
         "1": "7.299435452E9",
         "2": "2.5E8",
         "3": "250000.0",
         "4": "232",
         "5": "3.1463083844827585E7"
        },
        {
         "0": "2005",
         "1": "6.175084523E9",
         "2": "2.07E8",
         "3": "50000.0",
         "4": "201",
         "5": "3.0721813547263682E7"
        },
        {
         "0": "2010",
         "1": "7.282967461E9",
         "2": "2.6E8",
         "3": "65000.0",
         "4": "211",
         "5": "3.451643346445498E7"
        },
        {
         "0": "2011",
         "1": "7.597510431E9",
         "2": "3.8E8",
         "3": "56000.0",
         "4": "215",
         "5": "3.533725781860465E7"
        },
        {
         "0": "2008",
         "1": "6.7502714E9",
         "2": "2.25E8",
         "3": "200000.0",
         "4": "205",
         "5": "3.292815317073171E7"
        },
        {
         "0": "2002",
         "1": "5.475446169E9",
         "2": "1.4E8",
         "3": "150000.0",
         "4": "185",
         "5": "2.9597006318918917E7"
        },
        {
         "0": "2003",
         "1": "5.173137898E9",
         "2": "2.0E8",
         "3": "46000.0",
         "4": "154",
         "5": "3.359180453246753E7"
        },
        {
         "0": "2007",
         "1": "5.71114751E9",
         "2": "3.0E8",
         "3": "15000.0",
         "4": "182",
         "5": "3.1379931373626374E7"
        },
        {
         "1": "7.889118615E9",
         "2": "2.1E8",
         "3": "31192.0",
         "4": "299",
         "5": "2.6385012090301003E7"
        },
        {
         "0": "1997",
         "1": "3.58125E9",
         "2": "2.0E8",
         "3": "250000.0",
         "4": "98",
         "5": "3.6543367346938774E7"
        },
        {
         "0": "1994",
         "1": "1.369227E9",
         "2": "1.15E8",
         "3": "27000.0",
         "4": "51",
         "5": "2.684758823529412E7"
        },
        {
         "0": "1996",
         "1": "2.743092051E9",
         "2": "1.0E8",
         "3": "200000.0",
         "4": "92",
         "5": "2.9816217945652176E7"
        },
        {
         "0": "1998",
         "1": "3.34044E9",
         "2": "1.4E8",
         "3": "60000.0",
         "4": "116",
         "5": "2.879689655172414E7"
        },
        {
         "0": "2016",
         "1": "4.29015E9",
         "2": "2.5E8",
         "3": "750000.0",
         "4": "94",
         "5": "4.563989361702128E7"
        },
        {
         "0": "1995",
         "1": "2.0141E9",
         "2": "1.75E8",
         "3": "2000000.0",
         "4": "64",
         "5": "3.14703125E7"
        },
        {
         "0": "2001",
         "1": "5.343166397E9",
         "2": "1.4E8",
         "3": "250000.0",
         "4": "166",
         "5": "3.2187749379518073E7"
        },
        {
         "0": "2000",
         "1": "5.1952E9",
         "2": "1.275E8",
         "3": "1000000.0",
         "4": "153",
         "5": "3.395555555555555E7"
        },
        {
         "0": "1999",
         "1": "4.579425648E9",
         "2": "1.7E8",
         "3": "60000.0",
         "4": "153",
         "5": "2.9930886588235293E7"
        },
        {
         "0": "1990",
         "1": "6.56225E8",
         "2": "7.0E7",
         "3": "225000.0",
         "4": "25",
         "5": "2.6249E7"
        },
        {
         "0": "1988",
         "1": "3.219E8",
         "2": "6.3E7",
         "3": "1300000.0",
         "4": "27",
         "5": "1.1922222222222222E7"
        },
        {
         "0": "1991",
         "1": "7.12E8",
         "2": "1.0E8",
         "3": "500000.0",
         "4": "28",
         "5": "2.542857142857143E7"
        },
        {
         "0": "1982",
         "1": "2.44E8",
         "2": "3.5E7",
         "3": "2000000.0",
         "4": "23",
         "5": "1.0608695652173912E7"
        },
        {
         "0": "1989",
         "1": "5.2476E8",
         "2": "7.0E7",
         "3": "160000.0",
         "4": "27",
         "5": "1.9435555555555556E7"
        },
        {
         "0": "1985",
         "1": "3.41265523E8",
         "2": "4.4E7",
         "3": "860000.0",
         "4": "26",
         "5": "1.3125597038461538E7"
        },
        {
         "0": "1987",
         "1": "3.839E8",
         "2": "5.5E7",
         "3": "1000000.0",
         "4": "27",
         "5": "1.4218518518518519E7"
        },
        {
         "0": "1992",
         "1": "7.69625538E8",
         "2": "8.0E7",
         "3": "220000.0",
         "4": "32",
         "5": "2.40507980625E7"
        },
        {
         "0": "1984",
         "1": "4.0455E8",
         "2": "5.8E7",
         "3": "1250000.0",
         "4": "27",
         "5": "1.4983333333333334E7"
        },
        {
         "0": "1981",
         "1": "3.844E8",
         "2": "4.6E7",
         "3": "350000.0",
         "4": "33",
         "5": "1.1648484848484848E7"
        },
        {
         "0": "1986",
         "1": "3.134E8",
         "2": "3.7E7",
         "3": "2000000.0",
         "4": "24",
         "5": "1.3058333333333334E7"
        },
        {
         "0": "1993",
         "1": "8.529E8",
         "2": "8.5E7",
         "3": "800000.0",
         "4": "44",
         "5": "1.938409090909091E7"
        },
        {
         "0": "1977",
         "1": "1.3611E8",
         "2": "2.2E7",
         "3": "10000.0",
         "4": "15",
         "5": "9074000.0"
        },
        {
         "0": "1974",
         "1": "3.3085E7",
         "2": "1.3E7",
         "3": "85000.0",
         "4": "8",
         "5": "4135625.0"
        },
        {
         "0": "1978",
         "1": "1.14E8",
         "2": "5.5E7",
         "3": "300000.0",
         "4": "12",
         "5": "9500000.0"
        },
        {
         "0": "1968",
         "1": "4.3905E7",
         "2": "1.05E7",
         "3": "950000.0",
         "4": "9",
         "5": "4878333.333333333"
        },
        {
         "0": "1973",
         "1": "3.5615783E7",
         "2": "8000000.0",
         "3": "500000.0",
         "4": "9",
         "5": "3957309.222222222"
        },
        {
         "0": "1979",
         "1": "1.7335E8",
         "2": "3.5E7",
         "3": "400000.0",
         "4": "14",
         "5": "1.2382142857142856E7"
        },
        {
         "0": "1971",
         "1": "3.4177E7",
         "2": "9000000.0",
         "3": "27000.0",
         "4": "10",
         "5": "3417700.0"
        },
        {
         "0": "1969",
         "1": "5.8444087E7",
         "2": "2.0E7",
         "3": "100000.0",
         "4": "10",
         "5": "5844408.7"
        },
        {
         "0": "1970",
         "1": "6.5356946E7",
         "2": "2.5E7",
         "3": "600000.0",
         "4": "9",
         "5": "7261882.888888889"
        },
        {
         "0": "1980",
         "1": "2.79E8",
         "2": "5.4E7",
         "3": "1000000.0",
         "4": "19",
         "5": "1.468421052631579E7"
        },
        {
         "0": "1983",
         "1": "3.43952E8",
         "2": "4.06E7",
         "3": "550000.0",
         "4": "22",
         "5": "1.5634181818181818E7"
        },
        {
         "0": "1964",
         "1": "5.318E7",
         "2": "1.9E7",
         "3": "120000.0",
         "4": "9",
         "5": "5908888.888888889"
        },
        {
         "0": "1975",
         "1": "2.67E7",
         "2": "1.1E7",
         "3": "300000.0",
         "4": "6",
         "5": "4450000.0"
        },
        {
         "0": "1961",
         "1": "1.19E7",
         "2": "4000000.0",
         "3": "2000000.0",
         "4": "4",
         "5": "2975000.0"
        },
        {
         "0": "1952",
         "1": "9270800.0",
         "2": "4000000.0",
         "3": "730000.0",
         "4": "4",
         "5": "2317700.0"
        },
        {
         "0": "1946",
         "1": "1.128E7",
         "2": "6000000.0",
         "3": "2100000.0",
         "4": "3",
         "5": "3760000.0"
        },
        {
         "0": "1966",
         "1": "1.49778E7",
         "2": "3900000.0",
         "3": "1200000.0",
         "4": "6",
         "5": "2496300.0"
        },
        {
         "0": "1967",
         "1": "1.75E7",
         "2": "9500000.0",
         "3": "2000000.0",
         "4": "4",
         "5": "4375000.0"
        },
        {
         "0": "1945",
         "1": "6910000.0",
         "2": "2160000.0",
         "3": "1250000.0",
         "4": "4",
         "5": "1727500.0"
        },
        {
         "0": "1963",
         "1": "6.9701E7",
         "2": "3.1115E7",
         "3": "1000000.0",
         "4": "8",
         "5": "8712625.0"
        },
        {
         "0": "1965",
         "1": "5.08E7",
         "2": "2.0E7",
         "3": "300000.0",
         "4": "7",
         "5": "7257142.857142857"
        },
        {
         "0": "1972",
         "1": "1.8212E7",
         "2": "6000000.0",
         "3": "12000.0",
         "4": "8",
         "5": "2276500.0"
        },
        {
         "0": "1976",
         "1": "5.89E7",
         "2": "3.5E7",
         "3": "1000000.0",
         "4": "9",
         "5": "6544444.444444444"
        },
        {
         "0": "1962",
         "1": "2.3212E7",
         "2": "1.5E7",
         "3": "62000.0",
         "4": "6",
         "5": "3868666.6666666665"
        },
        {
         "0": "1959",
         "1": "1.1383848E7",
         "2": "5000000.0",
         "3": "2883848.0",
         "4": "3",
         "5": "3794616.0"
        },
        {
         "0": "1939",
         "1": "8277000.0",
         "2": "4000000.0",
         "3": "1500000.0",
         "4": "3",
         "5": "2759000.0"
        },
        {
         "0": "1951",
         "1": "1.235E7",
         "2": "8250000.0",
         "3": "1800000.0",
         "4": "3",
         "5": "4116666.6666666665"
        },
        {
         "0": "1938",
         "1": "3644736.0",
         "2": "2000000.0",
         "3": "1644736.0",
         "4": "2",
         "5": "1822368.0"
        },
        {
         "0": "1947",
         "1": "6300000.0",
         "2": "2300000.0",
         "3": "2000000.0",
         "4": "3",
         "5": "2100000.0"
        },
        {
         "0": "1949",
         "1": "2600000.0",
         "2": "1600000.0",
         "3": "1000000.0",
         "4": "2",
         "5": "1300000.0"
        },
        {
         "0": "1957",
         "1": "3350000.0",
         "2": "3000000.0",
         "3": "350000.0",
         "4": "2",
         "5": "1675000.0"
        },
        {
         "0": "1936",
         "1": "3200000.0",
         "2": "2000000.0",
         "3": "1200000.0",
         "4": "2",
         "5": "1600000.0"
        },
        {
         "0": "1953",
         "1": "7210000.0",
         "2": "4100000.0",
         "3": "210000.0",
         "4": "4",
         "5": "1802500.0"
        },
        {
         "0": "1954",
         "1": "1.091E7",
         "2": "5000000.0",
         "3": "910000.0",
         "4": "3",
         "5": "3636666.6666666665"
        },
        {
         "0": "1940",
         "1": "7568000.0",
         "2": "2280000.0",
         "3": "1288000.0",
         "4": "4",
         "5": "1892000.0"
        },
        {
         "0": "1929",
         "1": "2379000.0",
         "2": "2000000.0",
         "3": "379000.0",
         "4": "2",
         "5": "1189500.0"
        },
        {
         "0": "1955",
         "1": "3200000.0",
         "2": "2000000.0",
         "3": "1200000.0",
         "4": "2",
         "5": "1600000.0"
        },
        {
         "0": "1942",
         "1": "1736000.0",
         "2": "878000.0",
         "3": "858000.0",
         "4": "2",
         "5": "868000.0"
        },
        {
         "0": "1944",
         "1": "4988000.0",
         "2": "2627000.0",
         "3": "2361000.0",
         "4": "2",
         "5": "2494000.0"
        },
        {
         "0": "1956",
         "1": "9500000.0",
         "2": "4500000.0",
         "3": "1000000.0",
         "4": "3",
         "5": "3166666.6666666665"
        },
        {
         "0": "1934",
         "1": "325000.0",
         "2": "325000.0",
         "3": "325000.0",
         "4": "1",
         "5": "325000.0"
        },
        {
         "0": "1950",
         "1": "3768785.0",
         "2": "3768785.0",
         "3": "3768785.0",
         "4": "1",
         "5": "3768785.0"
        },
        {
         "0": "1932",
         "1": "2000000.0",
         "2": "2000000.0",
         "3": "2000000.0",
         "4": "1",
         "5": "2000000.0"
        },
        {
         "0": "1960",
         "1": "6806948.0",
         "2": "3000000.0",
         "3": "806948.0",
         "4": "3",
         "5": "2268982.6666666665"
        },
        {
         "0": "1941",
         "1": "1250000.0",
         "2": "1250000.0",
         "3": "1250000.0",
         "4": "1",
         "5": "1250000.0"
        },
        {
         "0": "1937",
         "1": "2000000.0",
         "2": "2000000.0",
         "3": "2000000.0",
         "4": "1",
         "5": "2000000.0"
        },
        {
         "0": "1958",
         "1": "3000000.0",
         "2": "3000000.0",
         "3": "3000000.0",
         "4": "1",
         "5": "3000000.0"
        },
        {
         "0": "1948",
         "1": "8700000.0",
         "2": "3700000.0",
         "3": "2000000.0",
         "4": "3",
         "5": "2900000.0"
        },
        {
         "0": "1927",
         "1": "9.262E7",
         "2": "9.262E7",
         "3": "9.262E7",
         "4": "1",
         "5": "9.262E7"
        },
        {
         "0": "1925",
         "1": "245000.0",
         "2": "245000.0",
         "3": "245000.0",
         "4": "1",
         "5": "245000.0"
        },
        {
         "0": "1930",
         "1": "3950000.0",
         "2": "3950000.0",
         "3": "3950000.0",
         "4": "1",
         "5": "3950000.0"
        },
        {
         "0": "1916",
         "1": "385907.0",
         "2": "385907.0",
         "3": "385907.0",
         "4": "1",
         "5": "385907.0"
        },
        {
         "0": "1935",
         "1": "609000.0",
         "2": "609000.0",
         "3": "609000.0",
         "4": "1",
         "5": "609000.0"
        },
        {
         "0": "2017",
         "1": "2000000.0",
         "2": "2000000.0",
         "3": "2000000.0",
         "4": "1",
         "5": "2000000.0"
        },
        {
         "0": "1933",
         "1": "439000.0",
         "2": "439000.0",
         "3": "439000.0",
         "4": "1",
         "5": "439000.0"
        }
       ],
       "schema": [
        {
         "key": "0",
         "name": "year_release_date",
         "type": "int"
        },
        {
         "key": "1",
         "name": "total",
         "type": "double"
        },
        {
         "key": "2",
         "name": "max",
         "type": "double"
        },
        {
         "key": "3",
         "name": "min",
         "type": "double"
        },
        {
         "key": "4",
         "name": "total",
         "type": "bigint"
        },
        {
         "key": "5",
         "name": "promedio",
         "type": "double"
        }
       ],
       "truncated": false
      },
      "wranglerEntryContext": {
       "dataframeType": "pyspark"
      }
     },
     "type": "Synapse.DataFrame"
    },
    "4f3bed37-81e2-41ee-b934-658185023f34": {
     "persist_state": {
      "view": {
       "chartOptions": {
        "aggregationType": "sum",
        "binsNumber": 10,
        "categoryFieldKeys": [],
        "chartType": "bar",
        "isStacked": false,
        "seriesFieldKeys": [],
        "wordFrequency": "-1"
       },
       "tableOptions": {},
       "type": "details",
       "viewOptionsGroup": [
        {
         "tabItems": [
          {
           "key": "0",
           "name": "Table",
           "options": {},
           "type": "table"
          }
         ]
        }
       ]
      }
     },
     "sync_state": {
      "isSummary": false,
      "language": "scala",
      "table": {
       "rows": [
        {
         "0": "4.29015E9",
         "1": "94"
        }
       ],
       "schema": [
        {
         "key": "0",
         "name": "total_budget",
         "type": "double"
        },
        {
         "key": "1",
         "name": "total_movies",
         "type": "bigint"
        }
       ],
       "truncated": false
      },
      "wranglerEntryContext": {
       "dataframeType": "pyspark"
      }
     },
     "type": "Synapse.DataFrame"
    },
    "7337b04a-3e77-4dd2-8dfa-f88f5917abfe": {
     "persist_state": {
      "view": {
       "chartOptions": {
        "aggregationType": "sum",
        "binsNumber": 10,
        "categoryFieldKeys": [],
        "chartType": "bar",
        "isStacked": false,
        "seriesFieldKeys": [],
        "wordFrequency": "-1"
       },
       "tableOptions": {},
       "type": "details",
       "viewOptionsGroup": [
        {
         "tabItems": [
          {
           "key": "0",
           "name": "Table",
           "options": {},
           "type": "table"
          }
         ]
        }
       ]
      }
     },
     "sync_state": {
      "isSummary": false,
      "language": "scala",
      "table": {
       "rows": [
        {
         "0": "Intolerance",
         "1": "385907.0",
         "2": "1916",
         "3": "1"
        },
        {
         "0": "The Big Parade",
         "1": "245000.0",
         "2": "1925",
         "3": "1"
        },
        {
         "0": "Metropolis",
         "1": "9.262E7",
         "2": "1927",
         "3": "1"
        },
        {
         "0": "Die Büchse der Pandora",
         "1": "2000000.0",
         "2": "1929",
         "3": "1"
        },
        {
         "0": "The Broadway Melody",
         "1": "379000.0",
         "2": "1929",
         "3": "2"
        },
        {
         "0": "Hell's Angels",
         "1": "3950000.0",
         "2": "1930",
         "3": "1"
        },
        {
         "0": "A Farewell to Arms",
         "1": "2000000.0",
         "2": "1932",
         "3": "1"
        },
        {
         "0": "42nd Street",
         "1": "439000.0",
         "2": "1933",
         "3": "1"
        },
        {
         "0": "It Happened One Night",
         "1": "325000.0",
         "2": "1934",
         "3": "1"
        },
        {
         "0": "Top Hat",
         "1": "609000.0",
         "2": "1935",
         "3": "1"
        },
        {
         "0": "Modern Times",
         "1": "2000000.0",
         "2": "1936",
         "3": "1"
        },
        {
         "0": "The Charge of the Light Brigade",
         "1": "1200000.0",
         "2": "1936",
         "3": "2"
        },
        {
         "0": "The Prisoner of Zenda",
         "1": "2000000.0",
         "2": "1937",
         "3": "1"
        },
        {
         "0": "Alexander's Ragtime Band",
         "1": "2000000.0",
         "2": "1938",
         "3": "1"
        },
        {
         "0": "You Can't Take It With You",
         "1": "1644736.0",
         "2": "1938",
         "3": "2"
        },
        {
         "0": "Gone with the Wind",
         "1": "4000000.0",
         "2": "1939",
         "3": "1"
        },
        {
         "0": "The Wizard of Oz",
         "1": "2777000.0",
         "2": "1939",
         "3": "2"
        },
        {
         "0": "Mr. Smith Goes to Washington",
         "1": "1500000.0",
         "2": "1939",
         "3": "3"
        },
        {
         "0": "Fantasia",
         "1": "2280000.0",
         "2": "1940",
         "3": "1"
        },
        {
         "0": "Boom Town",
         "1": "2000000.0",
         "2": "1940",
         "3": "2"
        },
        {
         "0": "The Blue Bird",
         "1": "2000000.0",
         "2": "1940",
         "3": "2"
        },
        {
         "0": "Rebecca",
         "1": "1288000.0",
         "2": "1940",
         "3": "3"
        },
        {
         "0": "How Green Was My Valley",
         "1": "1250000.0",
         "2": "1941",
         "3": "1"
        },
        {
         "0": "Casablanca",
         "1": "878000.0",
         "2": "1942",
         "3": "1"
        },
        {
         "0": "Bambi",
         "1": "858000.0",
         "2": "1942",
         "3": "2"
        },
        {
         "0": "A Guy Named Joe",
         "1": "2627000.0",
         "2": "1944",
         "3": "1"
        },
        {
         "0": "Bathing Beauty",
         "1": "2361000.0",
         "2": "1944",
         "3": "2"
        },
        {
         "0": "The Valley of Decision",
         "1": "2160000.0",
         "2": "1945",
         "3": "1"
        },
        {
         "0": "State Fair",
         "1": "2000000.0",
         "2": "1945",
         "3": "2"
        },
        {
         "0": "Spellbound",
         "1": "1500000.0",
         "2": "1945",
         "3": "3"
        },
        {
         "0": "The Lost Weekend",
         "1": "1250000.0",
         "2": "1945",
         "3": "4"
        },
        {
         "0": "Duel in the Sun",
         "1": "6000000.0",
         "2": "1946",
         "3": "1"
        },
        {
         "0": "It's a Wonderful Life",
         "1": "3180000.0",
         "2": "1946",
         "3": "2"
        },
        {
         "0": "The Best Years of Our Lives",
         "1": "2100000.0",
         "2": "1946",
         "3": "3"
        },
        {
         "0": "The Lady from Shanghai",
         "1": "2300000.0",
         "2": "1947",
         "3": "1"
        },
        {
         "0": "Gentleman's Agreement",
         "1": "2000000.0",
         "2": "1947",
         "3": "2"
        },
        {
         "0": "Tycoon",
         "1": "2000000.0",
         "2": "1947",
         "3": "2"
        },
        {
         "0": "The Pirate",
         "1": "3700000.0",
         "2": "1948",
         "3": "1"
        },
        {
         "0": "Red River",
         "1": "3000000.0",
         "2": "1948",
         "3": "2"
        },
        {
         "0": "Open Secret",
         "1": "2000000.0",
         "2": "1948",
         "3": "3"
        },
        {
         "0": "She Wore a Yellow Ribbon",
         "1": "1600000.0",
         "2": "1949",
         "3": "1"
        },
        {
         "0": "Sands of Iwo Jima",
         "1": "1000000.0",
         "2": "1949",
         "3": "2"
        },
        {
         "0": "Annie Get Your Gun",
         "1": "3768785.0",
         "2": "1950",
         "3": "1"
        },
        {
         "0": "Quo Vadis",
         "1": "8250000.0",
         "2": "1951",
         "3": "1"
        },
        {
         "0": "Show Boat",
         "1": "2300000.0",
         "2": "1951",
         "3": "2"
        },
        {
         "0": "A Streetcar Named Desire",
         "1": "1800000.0",
         "2": "1951",
         "3": "3"
        },
        {
         "0": "The Greatest Show on Earth",
         "1": "4000000.0",
         "2": "1952",
         "3": "1"
        },
        {
         "0": "Singin' in the Rain",
         "1": "2540800.0",
         "2": "1952",
         "3": "2"
        },
        {
         "0": "Deadline - U.S.A.",
         "1": "2000000.0",
         "2": "1952",
         "3": "3"
        },
        {
         "0": "High Noon",
         "1": "730000.0",
         "2": "1952",
         "3": "4"
        },
        {
         "0": "The Robe",
         "1": "4100000.0",
         "2": "1953",
         "3": "1"
        },
        {
         "0": "From Here to Eternity",
         "1": "1650000.0",
         "2": "1953",
         "3": "2"
        },
        {
         "0": "Niagara",
         "1": "1250000.0",
         "2": "1953",
         "3": "3"
        },
        {
         "0": "The Beast from 20,000 Fathoms",
         "1": "210000.0",
         "2": "1953",
         "3": "4"
        },
        {
         "0": "20,000 Leagues Under the Sea",
         "1": "5000000.0",
         "2": "1954",
         "3": "1"
        },
        {
         "0": "The Egyptian",
         "1": "5000000.0",
         "2": "1954",
         "3": "1"
        },
        {
         "0": "On the Waterfront",
         "1": "910000.0",
         "2": "1954",
         "3": "2"
        },
        {
         "0": "Ordet",
         "1": "2000000.0",
         "2": "1955",
         "3": "1"
        },
        {
         "0": "The Trouble with Harry",
         "1": "1200000.0",
         "2": "1955",
         "3": "2"
        },
        {
         "0": "Moby Dick",
         "1": "4500000.0",
         "2": "1956",
         "3": "1"
        },
        {
         "0": "Trapeze",
         "1": "4000000.0",
         "2": "1956",
         "3": "2"
        },
        {
         "0": "Love Me Tender",
         "1": "1000000.0",
         "2": "1956",
         "3": "3"
        },
        {
         "0": "The Bridge on the River Kwai",
         "1": "3000000.0",
         "2": "1957",
         "3": "1"
        },
        {
         "0": "12 Angry Men",
         "1": "350000.0",
         "2": "1957",
         "3": "2"
        },
        {
         "0": "Cat on a Hot Tin Roof",
         "1": "3000000.0",
         "2": "1958",
         "3": "1"
        },
        {
         "0": "Solomon and Sheba",
         "1": "5000000.0",
         "2": "1959",
         "3": "1"
        },
        {
         "0": "The Nun's Story",
         "1": "3500000.0",
         "2": "1959",
         "3": "2"
        },
        {
         "0": "Some Like It Hot",
         "1": "2883848.0",
         "2": "1959",
         "3": "3"
        },
        {
         "0": "The Apartment",
         "1": "3000000.0",
         "2": "1960",
         "3": "1"
        },
        {
         "0": "Elmer Gantry",
         "1": "3000000.0",
         "2": "1960",
         "3": "1"
        },
        {
         "0": "Psycho",
         "1": "806948.0",
         "2": "1960",
         "3": "2"
        },
        {
         "0": "The Misfits",
         "1": "4000000.0",
         "2": "1961",
         "3": "1"
        },
        {
         "0": "Judgment at Nuremberg",
         "1": "3000000.0",
         "2": "1961",
         "3": "2"
        },
        {
         "0": "Pocketful of Miracles",
         "1": "2900000.0",
         "2": "1961",
         "3": "3"
        },
        {
         "0": "The Hustler",
         "1": "2000000.0",
         "2": "1961",
         "3": "4"
        },
        {
         "0": "Lawrence of Arabia",
         "1": "1.5E7",
         "2": "1962",
         "3": "1"
        },
        {
         "0": "The Man Who Shot Liberty Valance",
         "1": "3200000.0",
         "2": "1962",
         "3": "2"
        },
        {
         "0": "Lolita",
         "1": "2000000.0",
         "2": "1962",
         "3": "3"
        },
        {
         "0": "To Kill a Mockingbird",
         "1": "2000000.0",
         "2": "1962",
         "3": "3"
        },
        {
         "0": "Dr. No",
         "1": "950000.0",
         "2": "1962",
         "3": "4"
        },
        {
         "0": "The Brain That Wouldn't Die",
         "1": "62000.0",
         "2": "1962",
         "3": "5"
        },
        {
         "0": "Cleopatra",
         "1": "3.1115E7",
         "2": "1963",
         "3": "1"
        },
        {
         "0": "55 Days at Peking",
         "1": "1.7E7",
         "2": "1963",
         "3": "2"
        },
        {
         "0": "It's a Mad, Mad, Mad, Mad World",
         "1": "9400000.0",
         "2": "1963",
         "3": "3"
        },
        {
         "0": "The Great Escape",
         "1": "4000000.0",
         "2": "1963",
         "3": "4"
        },
        {
         "0": "Donovan's Reef",
         "1": "2686000.0",
         "2": "1963",
         "3": "5"
        },
        {
         "0": "Hud",
         "1": "2500000.0",
         "2": "1963",
         "3": "6"
        },
        {
         "0": "From Russia with Love",
         "1": "2000000.0",
         "2": "1963",
         "3": "7"
        },
        {
         "0": "Tom Jones",
         "1": "1000000.0",
         "2": "1963",
         "3": "8"
        },
        {
         "0": "The Fall of the Roman Empire",
         "1": "1.9E7",
         "2": "1964",
         "3": "1"
        },
        {
         "0": "My Fair Lady",
         "1": "1.7E7",
         "2": "1964",
         "3": "2"
        },
        {
         "0": "Mary Poppins",
         "1": "6000000.0",
         "2": "1964",
         "3": "3"
        },
        {
         "0": "The Train",
         "1": "5800000.0",
         "2": "1964",
         "3": "4"
        },
        {
         "0": "Goldfinger",
         "1": "2500000.0",
         "2": "1964",
         "3": "5"
        },
        {
         "0": "Nothing But a Man",
         "1": "2000000.0",
         "2": "1964",
         "3": "6"
        },
        {
         "0": "A Hard Day's Night",
         "1": "560000.0",
         "2": "1964",
         "3": "7"
        },
        {
         "0": "Per un pugno di dollari",
         "1": "200000.0",
         "2": "1964",
         "3": "8"
        },
        {
         "0": "Une femme mariée: Suite de fragments d'un film tourné en 1964",
         "1": "120000.0",
         "2": "1964",
         "3": "9"
        },
        {
         "0": "The Greatest Story Ever Told",
         "1": "2.0E7",
         "2": "1965",
         "3": "1"
        },
        {
         "0": "Doctor Zhivago",
         "1": "1.1E7",
         "2": "1965",
         "3": "2"
        },
        {
         "0": "The Sound of Music",
         "1": "8200000.0",
         "2": "1965",
         "3": "3"
        },
        {
         "0": "Thunderball",
         "1": "5500000.0",
         "2": "1965",
         "3": "4"
        },
        {
         "0": "Major Dundee",
         "1": "3800000.0",
         "2": "1965",
         "3": "5"
        },
        {
         "0": "A Charlie Brown Christmas",
         "1": "2000000.0",
         "2": "1965",
         "3": "6"
        },
        {
         "0": "Pierrot le fou",
         "1": "300000.0",
         "2": "1965",
         "3": "7"
        },
        {
         "0": "A Man for All Seasons",
         "1": "3900000.0",
         "2": "1966",
         "3": "1"
        },
        {
         "0": "Harper",
         "1": "3500000.0",
         "2": "1966",
         "3": "2"
        },
        {
         "0": "Torn Curtain",
         "1": "3000000.0",
         "2": "1966",
         "3": "3"
        },
        {
         "0": "A Funny Thing Happened on the Way to the Forum",
         "1": "2000000.0",
         "2": "1966",
         "3": "4"
        },
        {
         "0": "Batman",
         "1": "1377800.0",
         "2": "1966",
         "3": "5"
        },
        {
         "0": "Il buono, il brutto, il cattivo",
         "1": "1200000.0",
         "2": "1966",
         "3": "6"
        },
        {
         "0": "You Only Live Twice",
         "1": "9500000.0",
         "2": "1967",
         "3": "1"
        },
        {
         "0": "In Cold Blood",
         "1": "3500000.0",
         "2": "1967",
         "3": "2"
        },
        {
         "0": "Point Blank",
         "1": "2500000.0",
         "2": "1967",
         "3": "3"
        },
        {
         "0": "Die Schlangengrube und das Pendel",
         "1": "2000000.0",
         "2": "1967",
         "3": "4"
        },
        {
         "0": "2001: A Space Odyssey",
         "1": "1.05E7",
         "2": "1968",
         "3": "1"
        },
        {
         "0": "Oliver!",
         "1": "1.0E7",
         "2": "1968",
         "3": "2"
        },
        {
         "0": "Barbarella",
         "1": "9000000.0",
         "2": "1968",
         "3": "3"
        },
        {
         "0": "C'era una volta il West",
         "1": "5000000.0",
         "2": "1968",
         "3": "4"
        },
        {
         "0": "Rosemary's Baby",
         "1": "3200000.0",
         "2": "1968",
         "3": "5"
        },
        {
         "0": "Yours, Mine and Ours",
         "1": "2000000.0",
         "2": "1968",
         "3": "6"
        },
        {
         "0": "Hang 'em High",
         "1": "1800000.0",
         "2": "1968",
         "3": "7"
        },
        {
         "0": "Shalako",
         "1": "1455000.0",
         "2": "1968",
         "3": "8"
        },
        {
         "0": "Charly",
         "1": "950000.0",
         "2": "1968",
         "3": "9"
        },
        {
         "0": "Paint Your Wagon",
         "1": "2.0E7",
         "2": "1969",
         "3": "1"
        },
        {
         "0": "Sweet Charity",
         "1": "8000000.0",
         "2": "1969",
         "3": "2"
        },
        {
         "0": "On Her Majesty's Secret Service",
         "1": "6500000.0",
         "2": "1969",
         "3": "3"
        },
        {
         "0": "The Wild Bunch",
         "1": "6244087.0",
         "2": "1969",
         "3": "4"
        },
        {
         "0": "Butch Cassidy and the Sundance Kid",
         "1": "6000000.0",
         "2": "1969",
         "3": "5"
        },
        {
         "0": "Topaz",
         "1": "4000000.0",
         "2": "1969",
         "3": "6"
        },
        {
         "0": "Midnight Cowboy",
         "1": "3600000.0",
         "2": "1969",
         "3": "7"
        },
        {
         "0": "La sirène du Mississipi",
         "1": "2000000.0",
         "2": "1969",
         "3": "8"
        },
        {
         "0": "Gli intoccabili",
         "1": "2000000.0",
         "2": "1969",
         "3": "8"
        },
        {
         "0": "The Stewardesses",
         "1": "100000.0",
         "2": "1969",
         "3": "9"
        },
        {
         "0": "Waterloo",
         "1": "2.5E7",
         "2": "1970",
         "3": "1"
        },
        {
         "0": "Catch-22",
         "1": "1.8E7",
         "2": "1970",
         "3": "2"
        },
        {
         "0": "The Molly Maguires",
         "1": "1.1E7",
         "2": "1970",
         "3": "3"
        },
        {
         "0": "The Ballad of Cable Hogue",
         "1": "3716946.0",
         "2": "1970",
         "3": "4"
        },
        {
         "0": "Beneath the Planet of the Apes",
         "1": "3000000.0",
         "2": "1970",
         "3": "5"
        },
        {
         "0": "Beyond the Valley of the Dolls",
         "1": "2090000.0",
         "2": "1970",
         "3": "6"
        },
        {
         "0": "Cotton Comes to Harlem",
         "1": "1200000.0",
         "2": "1970",
         "3": "7"
        },
        {
         "0": "Il conformista",
         "1": "750000.0",
         "2": "1970",
         "3": "8"
        },
        {
         "0": "Woodstock",
         "1": "600000.0",
         "2": "1970",
         "3": "9"
        },
        {
         "0": "Fiddler on the Roof",
         "1": "9000000.0",
         "2": "1971",
         "3": "1"
        },
        {
         "0": "Diamonds Are Forever",
         "1": "7200000.0",
         "2": "1971",
         "3": "2"
        },
        {
         "0": "The Andromeda Strain",
         "1": "6500000.0",
         "2": "1971",
         "3": "3"
        },
        {
         "0": "Willy Wonka & the Chocolate Factory",
         "1": "3000000.0",
         "2": "1971",
         "3": "4"
        },
        {
         "0": "Escape from the Planet of the Apes",
         "1": "2500000.0",
         "2": "1971",
         "3": "5"
        },
        {
         "0": "Bananas",
         "1": "2000000.0",
         "2": "1971",
         "3": "6"
        },
        {
         "0": "The Night Visitor",
         "1": "2000000.0",
         "2": "1971",
         "3": "6"
        },
        {
         "0": "The French Connection",
         "1": "1800000.0",
         "2": "1971",
         "3": "7"
        },
        {
         "0": "Sweet Sweetback's Baadasssss Song",
         "1": "150000.0",
         "2": "1971",
         "3": "8"
        },
        {
         "0": "Pink Narcissus",
         "1": "27000.0",
         "2": "1971",
         "3": "9"
        },
        {
         "0": "The Godfather",
         "1": "6000000.0",
         "2": "1972",
         "3": "1"
        },
        {
         "0": "Frenzy",
         "1": "3500000.0",
         "2": "1972",
         "3": "2"
        },
        {
         "0": "Viskningar och rop",
         "1": "2000000.0",
         "2": "1972",
         "3": "3"
        },
        {
         "0": "Everything You Always Wanted to Know About Sex *But Were Afraid to Ask",
         "1": "2000000.0",
         "2": "1972",
         "3": "3"
        },
        {
         "0": "1776",
         "1": "2000000.0",
         "2": "1972",
         "3": "3"
        },
        {
         "0": "Conquest of the Planet of the Apes",
         "1": "1700000.0",
         "2": "1972",
         "3": "4"
        },
        {
         "0": "Silent Running",
         "1": "1000000.0",
         "2": "1972",
         "3": "5"
        },
        {
         "0": "Pink Flamingos",
         "1": "12000.0",
         "2": "1972",
         "3": "6"
        },
        {
         "0": "The Exorcist",
         "1": "8000000.0",
         "2": "1973",
         "3": "1"
        },
        {
         "0": "Live and Let Die",
         "1": "7000000.0",
         "2": "1973",
         "3": "2"
        },
        {
         "0": "The Sting",
         "1": "5500000.0",
         "2": "1973",
         "3": "3"
        },
        {
         "0": "High Plains Drifter",
         "1": "5500000.0",
         "2": "1973",
         "3": "3"
        },
        {
         "0": "Pat Garrett & Billy the Kid",
         "1": "4638783.0",
         "2": "1973",
         "3": "4"
        },
        {
         "0": "Sleeper",
         "1": "2000000.0",
         "2": "1973",
         "3": "5"
        },
        {
         "0": "Battle for the Planet of the Apes",
         "1": "1700000.0",
         "2": "1973",
         "3": "6"
        },
        {
         "0": "American Graffiti",
         "1": "777000.0",
         "2": "1973",
         "3": "7"
        },
        {
         "0": "Mean Streets",
         "1": "500000.0",
         "2": "1973",
         "3": "8"
        },
        {
         "0": "The Godfather: Part II",
         "1": "1.3E7",
         "2": "1974",
         "3": "1"
        },
        {
         "0": "The Man with the Golden Gun",
         "1": "7000000.0",
         "2": "1974",
         "3": "2"
        },
        {
         "0": "The Front Page",
         "1": "4000000.0",
         "2": "1974",
         "3": "3"
        },
        {
         "0": "Young Frankenstein",
         "1": "2800000.0",
         "2": "1974",
         "3": "4"
        },
        {
         "0": "Blazing Saddles",
         "1": "2600000.0",
         "2": "1974",
         "3": "5"
        },
        {
         "0": "Benji",
         "1": "2000000.0",
         "2": "1974",
         "3": "6"
        },
        {
         "0": "The Conversation",
         "1": "1600000.0",
         "2": "1974",
         "3": "7"
        },
        {
         "0": "The Texas Chain Saw Massacre",
         "1": "85000.0",
         "2": "1974",
         "3": "8"
        },
        {
         "0": "Barry Lyndon",
         "1": "1.1E7",
         "2": "1975",
         "3": "1"
        },
        {
         "0": "Jaws",
         "1": "7000000.0",
         "2": "1975",
         "3": "2"
        },
        {
         "0": "The Return of the Pink Panther",
         "1": "5000000.0",
         "2": "1975",
         "3": "3"
        },
        {
         "0": "One Flew Over the Cuckoo's Nest",
         "1": "3000000.0",
         "2": "1975",
         "3": "4"
        },
        {
         "0": "Monty Python and the Holy Grail",
         "1": "400000.0",
         "2": "1975",
         "3": "5"
        },
        {
         "0": "Death Race 2000",
         "1": "300000.0",
         "2": "1975",
         "3": "6"
        },
        {
         "0": "The Bad News Bears",
         "1": "3.5E7",
         "2": "1976",
         "3": "1"
        },
        {
         "0": "Logan's Run",
         "1": "9000000.0",
         "2": "1976",
         "3": "2"
        },
        {
         "0": "Network",
         "1": "3800000.0",
         "2": "1976",
         "3": "3"
        },
        {
         "0": "The Omen",
         "1": "2800000.0",
         "2": "1976",
         "3": "4"
        },
        {
         "0": "Family Plot",
         "1": "2000000.0",
         "2": "1976",
         "3": "5"
        },
        {
         "0": "Robin and Marian",
         "1": "2000000.0",
         "2": "1976",
         "3": "5"
        },
        {
         "0": "Silent Movie",
         "1": "2000000.0",
         "2": "1976",
         "3": "5"
        },
        {
         "0": "Taxi Driver",
         "1": "1300000.0",
         "2": "1976",
         "3": "6"
        },
        {
         "0": "Rocky",
         "1": "1000000.0",
         "2": "1976",
         "3": "7"
        },
        {
         "0": "A Bridge Too Far",
         "1": "2.2E7",
         "2": "1977",
         "3": "1"
        },
        {
         "0": "Sorcerer",
         "1": "2.2E7",
         "2": "1977",
         "3": "1"
        },
        {
         "0": "Close Encounters of the Third Kind",
         "1": "2.0E7",
         "2": "1977",
         "3": "2"
        },
        {
         "0": "Damnation Alley",
         "1": "1.7E7",
         "2": "1977",
         "3": "3"
        },
        {
         "0": "The Spy Who Loved Me",
         "1": "1.4E7",
         "2": "1977",
         "3": "4"
        },
        {
         "0": "Exorcist II: The Heretic",
         "1": "1.4E7",
         "2": "1977",
         "3": "4"
        },
        {
         "0": "Star Wars",
         "1": "1.1E7",
         "2": "1977",
         "3": "5"
        },
        {
         "0": "Capricorn One",
         "1": "5000000.0",
         "2": "1977",
         "3": "6"
        },
        {
         "0": "Annie Hall",
         "1": "4000000.0",
         "2": "1977",
         "3": "7"
        },
        {
         "0": "New York, New York",
         "1": "2000000.0",
         "2": "1977",
         "3": "8"
        },
        {
         "0": "March or Die",
         "1": "2000000.0",
         "2": "1977",
         "3": "8"
        },
        {
         "0": "Julia",
         "1": "2000000.0",
         "2": "1977",
         "3": "8"
        },
        {
         "0": "The Kentucky Fried Movie",
         "1": "600000.0",
         "2": "1977",
         "3": "9"
        },
        {
         "0": "Kingdom of the Spiders",
         "1": "500000.0",
         "2": "1977",
         "3": "10"
        },
        {
         "0": "Eraserhead",
         "1": "10000.0",
         "2": "1977",
         "3": "11"
        },
        {
         "0": "Superman",
         "1": "5.5E7",
         "2": "1978",
         "3": "1"
        },
        {
         "0": "Jaws 2",
         "1": "2.0E7",
         "2": "1978",
         "3": "2"
        },
        {
         "0": "The Deer Hunter",
         "1": "1.5E7",
         "2": "1978",
         "3": "3"
        },
        {
         "0": "Grease",
         "1": "6000000.0",
         "2": "1978",
         "3": "4"
        },
        {
         "0": "Force 10 from Navarone",
         "1": "5000000.0",
         "2": "1978",
         "3": "5"
        },
        {
         "0": "Animal House",
         "1": "2700000.0",
         "2": "1978",
         "3": "6"
        },
        {
         "0": "The Boys from Brazil",
         "1": "2000000.0",
         "2": "1978",
         "3": "7"
        },
        {
         "0": "Days of Heaven",
         "1": "2000000.0",
         "2": "1978",
         "3": "7"
        },
        {
         "0": "F.I.S.T.",
         "1": "2000000.0",
         "2": "1978",
         "3": "7"
        },
        {
         "0": "Caravans",
         "1": "2000000.0",
         "2": "1978",
         "3": "7"
        },
        {
         "0": "Alien Zone",
         "1": "2000000.0",
         "2": "1978",
         "3": "7"
        },
        {
         "0": "Halloween",
         "1": "300000.0",
         "2": "1978",
         "3": "8"
        },
        {
         "0": "Star Trek: The Motion Picture",
         "1": "3.5E7",
         "2": "1979",
         "3": "1"
        },
        {
         "0": "1941",
         "1": "3.5E7",
         "2": "1979",
         "3": "1"
        },
        {
         "0": "Moonraker",
         "1": "3.4E7",
         "2": "1979",
         "3": "2"
        },
        {
         "0": "The Black Hole",
         "1": "2.0E7",
         "2": "1979",
         "3": "3"
        },
        {
         "0": "Prophecy",
         "1": "1.2E7",
         "2": "1979",
         "3": "4"
        },
        {
         "0": "Alien",
         "1": "1.1E7",
         "2": "1979",
         "3": "5"
        },
        {
         "0": "The Rose",
         "1": "9250000.0",
         "2": "1979",
         "3": "6"
        },
        {
         "0": "The First Great Train Robbery",
         "1": "6000000.0",
         "2": "1979",
         "3": "7"
        },
        {
         "0": "The Black Stallion",
         "1": "2700000.0",
         "2": "1979",
         "3": "8"
        },
        {
         "0": "The Muppet Movie",
         "1": "2000000.0",
         "2": "1979",
         "3": "9"
        },
        {
         "0": "All That Jazz",
         "1": "2000000.0",
         "2": "1979",
         "3": "9"
        },
        {
         "0": "Meteor",
         "1": "2000000.0",
         "2": "1979",
         "3": "9"
        },
        {
         "0": "Penitentiary",
         "1": "2000000.0",
         "2": "1979",
         "3": "9"
        },
        {
         "0": "Mad Max",
         "1": "400000.0",
         "2": "1979",
         "3": "10"
        },
        {
         "0": "Superman II",
         "1": "5.4E7",
         "2": "1980",
         "3": "1"
        },
        {
         "0": "Heaven's Gate",
         "1": "4.4E7",
         "2": "1980",
         "3": "2"
        },
        {
         "0": "Flash Gordon",
         "1": "3.5E7",
         "2": "1980",
         "3": "3"
        },
        {
         "0": "The Blues Brothers",
         "1": "2.7E7",
         "2": "1980",
         "3": "4"
        },
        {
         "0": "The Shining",
         "1": "1.9E7",
         "2": "1980",
         "3": "5"
        },
        {
         "0": "Raging Bull",
         "1": "1.8E7",
         "2": "1980",
         "3": "6"
        },
        {
         "0": "The Empire Strikes Back",
         "1": "1.8E7",
         "2": "1980",
         "3": "6"
        },
        {
         "0": "Coal Miner's Daughter",
         "1": "1.5E7",
         "2": "1980",
         "3": "7"
        },
        {
         "0": "The Long Riders",
         "1": "1.0E7",
         "2": "1980",
         "3": "8"
        },
        {
         "0": "Dressed to Kill",
         "1": "6500000.0",
         "2": "1980",
         "3": "9"
        },
        {
         "0": "Caddyshack",
         "1": "6000000.0",
         "2": "1980",
         "3": "10"
        },
        {
         "0": "Ordinary People",
         "1": "6000000.0",
         "2": "1980",
         "3": "10"
        },
        {
         "0": "Galaxina",
         "1": "5500000.0",
         "2": "1980",
         "3": "11"
        },
        {
         "0": "The Blue Lagoon",
         "1": "4500000.0",
         "2": "1980",
         "3": "12"
        },
        {
         "0": "Airplane!",
         "1": "3500000.0",
         "2": "1980",
         "3": "13"
        },
        {
         "0": "Private Benjamin",
         "1": "2000000.0",
         "2": "1980",
         "3": "14"
        },
        {
         "0": "Raise the Titanic",
         "1": "2000000.0",
         "2": "1980",
         "3": "14"
        },
        {
         "0": "Can't Stop the Music",
         "1": "2000000.0",
         "2": "1980",
         "3": "14"
        },
        {
         "0": "The Fog",
         "1": "1000000.0",
         "2": "1980",
         "3": "15"
        },
        {
         "0": "Inchon",
         "1": "4.6E7",
         "2": "1981",
         "3": "1"
        },
        {
         "0": "Lion of the Desert",
         "1": "3.5E7",
         "2": "1981",
         "3": "2"
        },
        {
         "0": "Reds",
         "1": "3.2E7",
         "2": "1981",
         "3": "3"
        },
        {
         "0": "For Your Eyes Only",
         "1": "2.8E7",
         "2": "1981",
         "3": "4"
        },
        {
         "0": "Under the Rainbow",
         "1": "2.0E7",
         "2": "1981",
         "3": "5"
        },
        {
         "0": "Dragonslayer",
         "1": "1.8E7",
         "2": "1981",
         "3": "6"
        },
        {
         "0": "Raiders of the Lost Ark",
         "1": "1.8E7",
         "2": "1981",
         "3": "6"
        },
        {
         "0": "Blow Out",
         "1": "1.8E7",
         "2": "1981",
         "3": "6"
        },
        {
         "0": "The Legend of the Lone Ranger",
         "1": "1.8E7",
         "2": "1981",
         "3": "6"
        },
        {
         "0": "Roar",
         "1": "1.7E7",
         "2": "1981",
         "3": "7"
        },
        {
         "0": "Das Boot",
         "1": "1.4E7",
         "2": "1981",
         "3": "8"
        },
        {
         "0": "Sphinx",
         "1": "1.4E7",
         "2": "1981",
         "3": "8"
        },
        {
         "0": "The Postman Always Rings Twice",
         "1": "1.2E7",
         "2": "1981",
         "3": "9"
        },
        {
         "0": "La Guerre du feu",
         "1": "1.2E7",
         "2": "1981",
         "3": "9"
        },
        {
         "0": "History of the World: Part I",
         "1": "1.1E7",
         "2": "1981",
         "3": "10"
        },
        {
         "0": "Stripes",
         "1": "1.0E7",
         "2": "1981",
         "3": "11"
        },
        {
         "0": "Heartbeeps",
         "1": "1.0E7",
         "2": "1981",
         "3": "11"
        },
        {
         "0": "Heavy Metal",
         "1": "9300000.0",
         "2": "1981",
         "3": "12"
        },
        {
         "0": "Escape from New York",
         "1": "6000000.0",
         "2": "1981",
         "3": "13"
        },
        {
         "0": "Chariots of Fire",
         "1": "5500000.0",
         "2": "1981",
         "3": "14"
        },
        {
         "0": "Nighthawks",
         "1": "5000000.0",
         "2": "1981",
         "3": "15"
        },
        {
         "0": "Time Bandits",
         "1": "5000000.0",
         "2": "1981",
         "3": "15"
        },
        {
         "0": "Porky's",
         "1": "4000000.0",
         "2": "1981",
         "3": "16"
        },
        {
         "0": "Mad Max 2",
         "1": "2000000.0",
         "2": "1981",
         "3": "17"
        },
        {
         "0": "Mommie Dearest",
         "1": "2000000.0",
         "2": "1981",
         "3": "17"
        },
        {
         "0": "Modern Problems",
         "1": "2000000.0",
         "2": "1981",
         "3": "17"
        },
        {
         "0": "...E tu vivrai nel terrore! L'aldilà",
         "1": "2000000.0",
         "2": "1981",
         "3": "17"
        },
        {
         "0": "The Four Seasons",
         "1": "2000000.0",
         "2": "1981",
         "3": "17"
        },
        {
         "0": "Graduation Day",
         "1": "2000000.0",
         "2": "1981",
         "3": "17"
        },
        {
         "0": "The Pursuit of D.B. Cooper",
         "1": "2000000.0",
         "2": "1981",
         "3": "17"
        },
        {
         "0": "Friday the 13th Part 2",
         "1": "1250000.0",
         "2": "1981",
         "3": "18"
        },
        {
         "0": "The Howling",
         "1": "1000000.0",
         "2": "1981",
         "3": "19"
        },
        {
         "0": "The Evil Dead",
         "1": "350000.0",
         "2": "1981",
         "3": "20"
        },
        {
         "0": "The Best Little Whorehouse in Texas",
         "1": "3.5E7",
         "2": "1982",
         "3": "1"
        },
        {
         "0": "Blade Runner",
         "1": "2.8E7",
         "2": "1982",
         "3": "2"
        },
        {
         "0": "Gandhi",
         "1": "2.2E7",
         "2": "1982",
         "3": "3"
        },
        {
         "0": "Tootsie",
         "1": "2.1E7",
         "2": "1982",
         "3": "4"
        },
        {
         "0": "Conan the Barbarian",
         "1": "2.0E7",
         "2": "1982",
         "3": "5"
        },
        {
         "0": "The Verdict",
         "1": "1.6E7",
         "2": "1982",
         "3": "6"
        },
        {
         "0": "The Thing",
         "1": "1.5E7",
         "2": "1982",
         "3": "7"
        },
        {
         "0": "First Blood",
         "1": "1.5E7",
         "2": "1982",
         "3": "7"
        },
        {
         "0": "Star Trek II: The Wrath of Khan",
         "1": "1.2E7",
         "2": "1982",
         "3": "8"
        },
        {
         "0": "Poltergeist",
         "1": "1.07E7",
         "2": "1982",
         "3": "9"
        },
        {
         "0": "E.T. the Extra-Terrestrial",
         "1": "1.05E7",
         "2": "1982",
         "3": "10"
        },
        {
         "0": "Creepshow",
         "1": "8000000.0",
         "2": "1982",
         "3": "11"
        },
        {
         "0": "Fast Times at Ridgemont High",
         "1": "4500000.0",
         "2": "1982",
         "3": "12"
        },
        {
         "0": "Class of 1984",
         "1": "4300000.0",
         "2": "1982",
         "3": "13"
        },
        {
         "0": "Friday the 13th Part III",
         "1": "4000000.0",
         "2": "1982",
         "3": "14"
        },
        {
         "0": "The Man from Snowy River",
         "1": "3500000.0",
         "2": "1982",
         "3": "15"
        },
        {
         "0": "Halloween III: Season of the Witch",
         "1": "2500000.0",
         "2": "1982",
         "3": "16"
        },
        {
         "0": "Jekyll and Hyde ... Together Again",
         "1": "2000000.0",
         "2": "1982",
         "3": "17"
        },
        {
         "0": "Cat People",
         "1": "2000000.0",
         "2": "1982",
         "3": "17"
        },
        {
         "0": "Diner",
         "1": "2000000.0",
         "2": "1982",
         "3": "17"
        },
        {
         "0": "The Beastmaster",
         "1": "2000000.0",
         "2": "1982",
         "3": "17"
        },
        {
         "0": "Megaforce",
         "1": "2000000.0",
         "2": "1982",
         "3": "17"
        },
        {
         "0": "Butterfly",
         "1": "2000000.0",
         "2": "1982",
         "3": "17"
        },
        {
         "0": "Trading Places",
         "1": "4.06E7",
         "2": "1983",
         "3": "1"
        },
        {
         "0": "Superman III",
         "1": "3.9E7",
         "2": "1983",
         "3": "2"
        },
        {
         "0": "Never Say Never Again",
         "1": "3.6E7",
         "2": "1983",
         "3": "3"
        },
        {
         "0": "Return of the Jedi",
         "1": "3.235E7",
         "2": "1983",
         "3": "4"
        },
        {
         "0": "Octopussy",
         "1": "2.75E7",
         "2": "1983",
         "3": "5"
        },
        {
         "0": "Krull",
         "1": "2.7E7",
         "2": "1983",
         "3": "6"
        },
        {
         "0": "The Right Stuff",
         "1": "2.7E7",
         "2": "1983",
         "3": "6"
        },
        {
         "0": "Scarface",
         "1": "2.5E7",
         "2": "1983",
         "3": "7"
        },
        {
         "0": "National Lampoon's Vacation",
         "1": "1.5E7",
         "2": "1983",
         "3": "8"
        },
        {
         "0": "WarGames",
         "1": "1.2E7",
         "2": "1983",
         "3": "9"
        },
        {
         "0": "Yentl",
         "1": "1.2E7",
         "2": "1983",
         "3": "9"
        },
        {
         "0": "The Outsiders",
         "1": "1.0E7",
         "2": "1983",
         "3": "10"
        },
        {
         "0": "The Dead Zone",
         "1": "1.0E7",
         "2": "1983",
         "3": "10"
        },
        {
         "0": "Losin' It",
         "1": "7000000.0",
         "2": "1983",
         "3": "11"
        },
        {
         "0": "Videodrome",
         "1": "5952000.0",
         "2": "1983",
         "3": "12"
        },
        {
         "0": "Lone Wolf McQuade",
         "1": "5000000.0",
         "2": "1983",
         "3": "13"
        },
        {
         "0": "Flashdance",
         "1": "4000000.0",
         "2": "1983",
         "3": "14"
        },
        {
         "0": "A Christmas Story",
         "1": "2000000.0",
         "2": "1983",
         "3": "15"
        },
        {
         "0": "Gabriela, Cravo e Canela",
         "1": "2000000.0",
         "2": "1983",
         "3": "15"
        },
        {
         "0": "The Wicked Lady",
         "1": "2000000.0",
         "2": "1983",
         "3": "15"
        },
        {
         "0": "The Ballad of Gregorio Cortez",
         "1": "2000000.0",
         "2": "1983",
         "3": "15"
        },
        {
         "0": "Love Letters",
         "1": "550000.0",
         "2": "1983",
         "3": "16"
        },
        {
         "0": "The Cotton Club",
         "1": "5.8E7",
         "2": "1984",
         "3": "1"
        },
        {
         "0": "Dune",
         "1": "4.0E7",
         "2": "1984",
         "3": "2"
        },
        {
         "0": "Once Upon a Time in America",
         "1": "3.0E7",
         "2": "1984",
         "3": "3"
        },
        {
         "0": "Indiana Jones and the Temple of Doom",
         "1": "2.8E7",
         "2": "1984",
         "3": "4"
        },
        {
         "0": "The Neverending Story",
         "1": "2.7E7",
         "2": "1984",
         "3": "5"
        },
        {
         "0": "The Bounty",
         "1": "2.5E7",
         "2": "1984",
         "3": "6"
        },
        {
         "0": "Sheena",
         "1": "2.5E7",
         "2": "1984",
         "3": "6"
        },
        {
         "0": "Star Trek III: The Search for Spock",
         "1": "1.8E7",
         "2": "1984",
         "3": "7"
        },
        {
         "0": "Conan the Destroyer",
         "1": "1.8E7",
         "2": "1984",
         "3": "7"
        },
        {
         "0": "Amadeus",
         "1": "1.8E7",
         "2": "1984",
         "3": "7"
        },
        {
         "0": "Beverly Hills Cop",
         "1": "1.5E7",
         "2": "1984",
         "3": "8"
        },
        {
         "0": "Firestarter",
         "1": "1.5E7",
         "2": "1984",
         "3": "8"
        },
        {
         "0": "Gremlins",
         "1": "1.1E7",
         "2": "1984",
         "3": "9"
        },
        {
         "0": "Body Double",
         "1": "1.0E7",
         "2": "1984",
         "3": "10"
        },
        {
         "0": "The Ice Pirates",
         "1": "9000000.0",
         "2": "1984",
         "3": "11"
        },
        {
         "0": "Footloose",
         "1": "8200000.0",
         "2": "1984",
         "3": "12"
        },
        {
         "0": "The Karate Kid",
         "1": "8000000.0",
         "2": "1984",
         "3": "13"
        },
        {
         "0": "Splash",
         "1": "8000000.0",
         "2": "1984",
         "3": "13"
        },
        {
         "0": "A Passage to India",
         "1": "8000000.0",
         "2": "1984",
         "3": "13"
        },
        {
         "0": "The Hotel New Hampshire",
         "1": "7500000.0",
         "2": "1984",
         "3": "14"
        },
        {
         "0": "Police Academy",
         "1": "4500000.0",
         "2": "1984",
         "3": "15"
        },
        {
         "0": "Red Dawn",
         "1": "4200000.0",
         "2": "1984",
         "3": "16"
        },
        {
         "0": "Friday the 13th: The Final Chapter",
         "1": "2600000.0",
         "2": "1984",
         "3": "17"
        },
        {
         "0": "The Toxic Avenger",
         "1": "2000000.0",
         "2": "1984",
         "3": "18"
        },
        {
         "0": "A Nightmare on Elm Street",
         "1": "1800000.0",
         "2": "1984",
         "3": "19"
        },
        {
         "0": "Repo Man",
         "1": "1500000.0",
         "2": "1984",
         "3": "20"
        },
        {
         "0": "C.H.U.D.",
         "1": "1250000.0",
         "2": "1984",
         "3": "21"
        },
        {
         "0": "Rambo: First Blood Part II",
         "1": "4.4E7",
         "2": "1985",
         "3": "1"
        },
        {
         "0": "Out of Africa",
         "1": "3.1E7",
         "2": "1985",
         "3": "2"
        },
        {
         "0": "A View to a Kill",
         "1": "3.0E7",
         "2": "1985",
         "3": "3"
        },
        {
         "0": "Silverado",
         "1": "2.6E7",
         "2": "1985",
         "3": "4"
        },
        {
         "0": "Lifeforce",
         "1": "2.5E7",
         "2": "1985",
         "3": "5"
        },
        {
         "0": "Return to Oz",
         "1": "2.5E7",
         "2": "1985",
         "3": "5"
        },
        {
         "0": "Ladyhawke",
         "1": "2.0E7",
         "2": "1985",
         "3": "6"
        },
        {
         "0": "Back to the Future",
         "1": "1.9E7",
         "2": "1985",
         "3": "7"
        },
        {
         "0": "Young Sherlock Holmes",
         "1": "1.8E7",
         "2": "1985",
         "3": "8"
        },
        {
         "0": "Red Sonja",
         "1": "1.79E7",
         "2": "1985",
         "3": "9"
        },
        {
         "0": "Brazil",
         "1": "1.5E7",
         "2": "1985",
         "3": "10"
        },
        {
         "0": "Mad Max Beyond Thunderdome",
         "1": "1.2305523E7",
         "2": "1985",
         "3": "11"
        },
        {
         "0": "Witness",
         "1": "1.2E7",
         "2": "1985",
         "3": "12"
        },
        {
         "0": "Commando",
         "1": "1.0E7",
         "2": "1985",
         "3": "13"
        },
        {
         "0": "The Last Dragon",
         "1": "1.0E7",
         "2": "1985",
         "3": "13"
        },
        {
         "0": "The Return of the Living Dead",
         "1": "4000000.0",
         "2": "1985",
         "3": "14"
        },
        {
         "0": "A Nightmare on Elm Street Part 2: Freddy's Revenge",
         "1": "3000000.0",
         "2": "1985",
         "3": "15"
        },
        {
         "0": "A Room with a View",
         "1": "3000000.0",
         "2": "1985",
         "3": "15"
        },
        {
         "0": "Krush Groove",
         "1": "3000000.0",
         "2": "1985",
         "3": "15"
        },
        {
         "0": "Friday the 13th: A New Beginning",
         "1": "2200000.0",
         "2": "1985",
         "3": "16"
        },
        {
         "0": "Pale Rider",
         "1": "2000000.0",
         "2": "1985",
         "3": "17"
        },
        {
         "0": "Subway",
         "1": "2000000.0",
         "2": "1985",
         "3": "17"
        },
        {
         "0": "Invasion U.S.A.",
         "1": "2000000.0",
         "2": "1985",
         "3": "17"
        },
        {
         "0": "Anne of Green Gables",
         "1": "2000000.0",
         "2": "1985",
         "3": "17"
        },
        {
         "0": "Def-Con 4",
         "1": "2000000.0",
         "2": "1985",
         "3": "17"
        },
        {
         "0": "My Beautiful Laundrette",
         "1": "860000.0",
         "2": "1985",
         "3": "18"
        },
        {
         "0": "Howard the Duck",
         "1": "3.7E7",
         "2": "1986",
         "3": "1"
        },
        {
         "0": "Big Trouble in Little China",
         "1": "2.5E7",
         "2": "1986",
         "3": "2"
        },
        {
         "0": "The Golden Child",
         "1": "2.5E7",
         "2": "1986",
         "3": "2"
        },
        {
         "0": "Little Shop of Horrors",
         "1": "2.5E7",
         "2": "1986",
         "3": "2"
        },
        {
         "0": "Star Trek IV: The Voyage Home",
         "1": "2.4E7",
         "2": "1986",
         "3": "3"
        },
        {
         "0": "River's Edge",
         "1": "1.9E7",
         "2": "1986",
         "3": "4"
        },
        {
         "0": "Aliens",
         "1": "1.85E7",
         "2": "1986",
         "3": "5"
        },
        {
         "0": "Peggy Sue Got Married",
         "1": "1.8E7",
         "2": "1986",
         "3": "6"
        },
        {
         "0": "Nine 1/2 Weeks",
         "1": "1.7E7",
         "2": "1986",
         "3": "7"
        },
        {
         "0": "Shanghai Surprise",
         "1": "1.7E7",
         "2": "1986",
         "3": "7"
        },
        {
         "0": "Highlander",
         "1": "1.6E7",
         "2": "1986",
         "3": "8"
        },
        {
         "0": "Top Gun",
         "1": "1.5E7",
         "2": "1986",
         "3": "9"
        },
        {
         "0": "Invaders from Mars",
         "1": "1.2E7",
         "2": "1986",
         "3": "10"
        },
        {
         "0": "Stand by Me",
         "1": "8000000.0",
         "2": "1986",
         "3": "11"
        },
        {
         "0": "Platoon",
         "1": "6000000.0",
         "2": "1986",
         "3": "12"
        },
        {
         "0": "Crocodile Dundee",
         "1": "5000000.0",
         "2": "1986",
         "3": "13"
        },
        {
         "0": "April Fool's Day",
         "1": "5000000.0",
         "2": "1986",
         "3": "13"
        },
        {
         "0": "The Texas Chainsaw Massacre 2",
         "1": "4700000.0",
         "2": "1986",
         "3": "14"
        },
        {
         "0": "Salvador",
         "1": "4500000.0",
         "2": "1986",
         "3": "15"
        },
        {
         "0": "Friday the 13th Part VI: Jason Lives",
         "1": "3000000.0",
         "2": "1986",
         "3": "16"
        },
        {
         "0": "The Wraith",
         "1": "2700000.0",
         "2": "1986",
         "3": "17"
        },
        {
         "0": "Legal Eagles",
         "1": "2000000.0",
         "2": "1986",
         "3": "18"
        },
        {
         "0": "Witchboard",
         "1": "2000000.0",
         "2": "1986",
         "3": "18"
        },
        {
         "0": "She's Gotta Have It",
         "1": "2000000.0",
         "2": "1986",
         "3": "18"
        },
        {
         "0": "Ishtar",
         "1": "5.5E7",
         "2": "1987",
         "3": "1"
        },
        {
         "0": "The Living Daylights",
         "1": "4.0E7",
         "2": "1987",
         "3": "2"
        },
        {
         "0": "The Running Man",
         "1": "2.7E7",
         "2": "1987",
         "3": "3"
        },
        {
         "0": "The Untouchables",
         "1": "2.5E7",
         "2": "1987",
         "3": "4"
        },
        {
         "0": "The Last Emperor",
         "1": "2.3E7",
         "2": "1987",
         "3": "5"
        },
        {
         "0": "Jaws: The Revenge",
         "1": "2.3E7",
         "2": "1987",
         "3": "5"
        },
        {
         "0": "Spaceballs",
         "1": "2.27E7",
         "2": "1987",
         "3": "6"
        },
        {
         "0": "Beverly Hills Cop II",
         "1": "2.0E7",
         "2": "1987",
         "3": "7"
        },
        {
         "0": "Predator",
         "1": "1.8E7",
         "2": "1987",
         "3": "8"
        },
        {
         "0": "Superman IV: The Quest for Peace",
         "1": "1.7E7",
         "2": "1987",
         "3": "9"
        },
        {
         "0": "The Princess Bride",
         "1": "1.6E7",
         "2": "1987",
         "3": "10"
        },
        {
         "0": "Radio Days",
         "1": "1.6E7",
         "2": "1987",
         "3": "10"
        },
        {
         "0": "Wall Street",
         "1": "1.5E7",
         "2": "1987",
         "3": "11"
        },
        {
         "0": "Fatal Attraction",
         "1": "1.4E7",
         "2": "1987",
         "3": "12"
        },
        {
         "0": "Good Morning, Vietnam",
         "1": "1.3E7",
         "2": "1987",
         "3": "13"
        },
        {
         "0": "The Lost Boys",
         "1": "8500000.0",
         "2": "1987",
         "3": "14"
        },
        {
         "0": "La Bamba",
         "1": "6500000.0",
         "2": "1987",
         "3": "15"
        },
        {
         "0": "A Nightmare on Elm Street 3: Dream Warriors",
         "1": "5000000.0",
         "2": "1987",
         "3": "16"
        },
        {
         "0": "Evil Dead II",
         "1": "3600000.0",
         "2": "1987",
         "3": "17"
        },
        {
         "0": "Creepshow 2",
         "1": "3500000.0",
         "2": "1987",
         "3": "18"
        },
        {
         "0": "Three Men and a Baby",
         "1": "2000000.0",
         "2": "1987",
         "3": "19"
        },
        {
         "0": "Cry Freedom",
         "1": "2000000.0",
         "2": "1987",
         "3": "19"
        },
        {
         "0": "Teen Wolf Too",
         "1": "2000000.0",
         "2": "1987",
         "3": "19"
        },
        {
         "0": "Maurice",
         "1": "2000000.0",
         "2": "1987",
         "3": "19"
        },
        {
         "0": "The Barbarians",
         "1": "2000000.0",
         "2": "1987",
         "3": "19"
        },
        {
         "0": "From a Whisper to a Scream",
         "1": "1100000.0",
         "2": "1987",
         "3": "20"
        },
        {
         "0": "Hellraiser",
         "1": "1000000.0",
         "2": "1987",
         "3": "21"
        },
        {
         "0": "Rambo III",
         "1": "6.3E7",
         "2": "1988",
         "3": "1"
        },
        {
         "0": "Midnight Run",
         "1": "3.0E7",
         "2": "1988",
         "3": "2"
        },
        {
         "0": "Die Hard",
         "1": "2.8E7",
         "2": "1988",
         "3": "3"
        },
        {
         "0": "Rain Man",
         "1": "2.5E7",
         "2": "1988",
         "3": "4"
        },
        {
         "0": "My Stepmother is an Alien",
         "1": "2.0E7",
         "2": "1988",
         "3": "5"
        },
        {
         "0": "Big",
         "1": "1.8E7",
         "2": "1988",
         "3": "6"
        },
        {
         "0": "Beetlejuice",
         "1": "1.5E7",
         "2": "1988",
         "3": "7"
        },
        {
         "0": "Twins",
         "1": "1.5E7",
         "2": "1988",
         "3": "7"
        },
        {
         "0": "Dangerous Liaisons",
         "1": "1.4E7",
         "2": "1988",
         "3": "8"
        },
        {
         "0": "Young Guns",
         "1": "1.3E7",
         "2": "1988",
         "3": "9"
        },
        {
         "0": "The Land Before Time",
         "1": "1.23E7",
         "2": "1988",
         "3": "10"
        },
        {
         "0": "Poltergeist III",
         "1": "1.05E7",
         "2": "1988",
         "3": "11"
        },
        {
         "0": "Child's Play",
         "1": "9000000.0",
         "2": "1988",
         "3": "12"
        },
        {
         "0": "Action Jackson",
         "1": "7000000.0",
         "2": "1988",
         "3": "13"
        },
        {
         "0": "A Nightmare on Elm Street 4: The Dream Master",
         "1": "7000000.0",
         "2": "1988",
         "3": "13"
        },
        {
         "0": "The Last Temptation of Christ",
         "1": "7000000.0",
         "2": "1988",
         "3": "13"
        },
        {
         "0": "Halloween 4: The Return of Michael Myers",
         "1": "5000000.0",
         "2": "1988",
         "3": "14"
        },
        {
         "0": "Talk Radio",
         "1": "4000000.0",
         "2": "1988",
         "3": "15"
        },
        {
         "0": "Phantasm II",
         "1": "3000000.0",
         "2": "1988",
         "3": "16"
        },
        {
         "0": "Friday the 13th Part VII: The New Blood",
         "1": "2800000.0",
         "2": "1988",
         "3": "17"
        },
        {
         "0": "Crocodile Dundee II",
         "1": "2000000.0",
         "2": "1988",
         "3": "18"
        },
        {
         "0": "Mystic Pizza",
         "1": "2000000.0",
         "2": "1988",
         "3": "18"
        },
        {
         "0": "Bright Lights, Big City",
         "1": "2000000.0",
         "2": "1988",
         "3": "18"
        },
        {
         "0": "School Daze",
         "1": "2000000.0",
         "2": "1988",
         "3": "18"
        },
        {
         "0": "Lady in White",
         "1": "2000000.0",
         "2": "1988",
         "3": "18"
        },
        {
         "0": "Iguana",
         "1": "2000000.0",
         "2": "1988",
         "3": "18"
        },
        {
         "0": "Prison",
         "1": "1300000.0",
         "2": "1988",
         "3": "19"
        },
        {
         "0": "The Abyss",
         "1": "7.0E7",
         "2": "1989",
         "3": "1"
        },
        {
         "0": "Tango & Cash",
         "1": "5.5E7",
         "2": "1989",
         "3": "2"
        },
        {
         "0": "Indiana Jones and the Last Crusade",
         "1": "4.8E7",
         "2": "1989",
         "3": "3"
        },
        {
         "0": "Back to the Future Part II",
         "1": "4.0E7",
         "2": "1989",
         "3": "4"
        },
        {
         "0": "Batman",
         "1": "3.5E7",
         "2": "1989",
         "3": "5"
        },
        {
         "0": "Licence to Kill",
         "1": "3.2E7",
         "2": "1989",
         "3": "6"
        },
        {
         "0": "Black Rain",
         "1": "3.0E7",
         "2": "1989",
         "3": "7"
        },
        {
         "0": "Star Trek V: The Final Frontier",
         "1": "3.0E7",
         "2": "1989",
         "3": "7"
        },
        {
         "0": "We're No Angels",
         "1": "2.0E7",
         "2": "1989",
         "3": "8"
        },
        {
         "0": "Sea of Love",
         "1": "1.9E7",
         "2": "1989",
         "3": "9"
        },
        {
         "0": "Glory",
         "1": "1.8E7",
         "2": "1989",
         "3": "10"
        },
        {
         "0": "Dead Poets Society",
         "1": "1.64E7",
         "2": "1989",
         "3": "11"
        },
        {
         "0": "When Harry Met Sally...",
         "1": "1.6E7",
         "2": "1989",
         "3": "12"
        },
        {
         "0": "New York Stories",
         "1": "1.5E7",
         "2": "1989",
         "3": "13"
        },
        {
         "0": "Road House",
         "1": "1.5E7",
         "2": "1989",
         "3": "13"
        },
        {
         "0": "Born on the Fourth of July",
         "1": "1.4E7",
         "2": "1989",
         "3": "14"
        },
        {
         "0": "Major League",
         "1": "1.1E7",
         "2": "1989",
         "3": "15"
        },
        {
         "0": "Henry V",
         "1": "9000000.0",
         "2": "1989",
         "3": "16"
        },
        {
         "0": "Driving Miss Daisy",
         "1": "7500000.0",
         "2": "1989",
         "3": "17"
        },
        {
         "0": "Do the Right Thing",
         "1": "6500000.0",
         "2": "1989",
         "3": "18"
        },
        {
         "0": "Halloween 5: The Revenge of Michael Myers",
         "1": "5000000.0",
         "2": "1989",
         "3": "19"
        },
        {
         "0": "UHF",
         "1": "5000000.0",
         "2": "1989",
         "3": "19"
        },
        {
         "0": "The Blood of Heroes",
         "1": "2000000.0",
         "2": "1989",
         "3": "20"
        },
        {
         "0": "Troop Beverly Hills",
         "1": "2000000.0",
         "2": "1989",
         "3": "20"
        },
        {
         "0": "The Toxic Avenger Part II",
         "1": "2000000.0",
         "2": "1989",
         "3": "20"
        },
        {
         "0": "Sex, Lies, and Videotape",
         "1": "1200000.0",
         "2": "1989",
         "3": "21"
        },
        {
         "0": "Roger & Me",
         "1": "160000.0",
         "2": "1989",
         "3": "22"
        },
        {
         "0": "Die Hard 2",
         "1": "7.0E7",
         "2": "1990",
         "3": "1"
        },
        {
         "0": "Total Recall",
         "1": "6.5E7",
         "2": "1990",
         "3": "2"
        },
        {
         "0": "Days of Thunder",
         "1": "6.0E7",
         "2": "1990",
         "3": "3"
        },
        {
         "0": "The Godfather: Part III",
         "1": "5.4E7",
         "2": "1990",
         "3": "4"
        },
        {
         "0": "Gremlins 2: The New Batch",
         "1": "5.0E7",
         "2": "1990",
         "3": "5"
        },
        {
         "0": "Dick Tracy",
         "1": "4.7E7",
         "2": "1990",
         "3": "6"
        },
        {
         "0": "Back to the Future Part III",
         "1": "4.0E7",
         "2": "1990",
         "3": "7"
        },
        {
         "0": "Predator 2",
         "1": "3.5E7",
         "2": "1990",
         "3": "8"
        },
        {
         "0": "Arachnophobia",
         "1": "3.1E7",
         "2": "1990",
         "3": "9"
        },
        {
         "0": "Flatliners",
         "1": "2.6E7",
         "2": "1990",
         "3": "10"
        },
        {
         "0": "GoodFellas",
         "1": "2.5E7",
         "2": "1990",
         "3": "11"
        },
        {
         "0": "Ghost",
         "1": "2.2E7",
         "2": "1990",
         "3": "12"
        },
        {
         "0": "Dances with Wolves",
         "1": "2.2E7",
         "2": "1990",
         "3": "12"
        },
        {
         "0": "Edward Scissorhands",
         "1": "2.0E7",
         "2": "1990",
         "3": "13"
        },
        {
         "0": "Home Alone",
         "1": "1.8E7",
         "2": "1990",
         "3": "14"
        },
        {
         "0": "Kindergarten Cop",
         "1": "1.5E7",
         "2": "1990",
         "3": "15"
        },
        {
         "0": "Pretty Woman",
         "1": "1.4E7",
         "2": "1990",
         "3": "16"
        },
        {
         "0": "Child's Play 2",
         "1": "1.3E7",
         "2": "1990",
         "3": "17"
        },
        {
         "0": "Tremors",
         "1": "1.1E7",
         "2": "1990",
         "3": "18"
        },
        {
         "0": "Mo' Better Blues",
         "1": "1.0E7",
         "2": "1990",
         "3": "19"
        },
        {
         "0": "Quigley Down Under",
         "1": "2000000.0",
         "2": "1990",
         "3": "20"
        },
        {
         "0": "Slacker",
         "1": "2000000.0",
         "2": "1990",
         "3": "20"
        },
        {
         "0": "Håkon Håkonsen",
         "1": "2000000.0",
         "2": "1990",
         "3": "20"
        },
        {
         "0": "Midnight Cabaret",
         "1": "2000000.0",
         "2": "1990",
         "3": "20"
        },
        {
         "0": "Metropolitan",
         "1": "225000.0",
         "2": "1990",
         "3": "21"
        },
        {
         "0": "Terminator 2: Judgment Day",
         "1": "1.0E8",
         "2": "1991",
         "3": "1"
        },
        {
         "0": "Hook",
         "1": "7.0E7",
         "2": "1991",
         "3": "2"
        },
        {
         "0": "Hudson Hawk",
         "1": "6.5E7",
         "2": "1991",
         "3": "3"
        },
        {
         "0": "Robin Hood: Prince of Thieves",
         "1": "4.8E7",
         "2": "1991",
         "3": "4"
        },
        {
         "0": "JFK",
         "1": "4.0E7",
         "2": "1991",
         "3": "5"
        },
        {
         "0": "The Doors",
         "1": "3.8E7",
         "2": "1991",
         "3": "6"
        },
        {
         "0": "Cape Fear",
         "1": "3.5E7",
         "2": "1991",
         "3": "7"
        },
        {
         "0": "Flight of the Intruder",
         "1": "3.5E7",
         "2": "1991",
         "3": "7"
        },
        {
         "0": "The Addams Family",
         "1": "3.0E7",
         "2": "1991",
         "3": "8"
        },
        {
         "0": "The Prince of Tides",
         "1": "3.0E7",
         "2": "1991",
         "3": "8"
        },
        {
         "0": "Star Trek VI: The Undiscovered Country",
         "1": "2.7E7",
         "2": "1991",
         "3": "9"
        },
        {
         "0": "Teenage Mutant Ninja Turtles II: The Secret of the Ooze",
         "1": "2.5E7",
         "2": "1991",
         "3": "10"
        },
        {
         "0": "The Fisher King",
         "1": "2.4E7",
         "2": "1991",
         "3": "11"
        },
        {
         "0": "Harley Davidson and the Marlboro Man",
         "1": "2.3E7",
         "2": "1991",
         "3": "12"
        },
        {
         "0": "The Naked Gun 2½: The Smell of Fear",
         "1": "2.3E7",
         "2": "1991",
         "3": "12"
        },
        {
         "0": "The Silence of the Lambs",
         "1": "1.9E7",
         "2": "1991",
         "3": "13"
        },
        {
         "0": "Double Impact",
         "1": "1.5E7",
         "2": "1991",
         "3": "14"
        },
        {
         "0": "White Fang",
         "1": "1.4E7",
         "2": "1991",
         "3": "15"
        },
        {
         "0": "Freddy's Dead: The Final Nightmare",
         "1": "1.1E7",
         "2": "1991",
         "3": "16"
        },
        {
         "0": "Return to the Blue Lagoon",
         "1": "1.1E7",
         "2": "1991",
         "3": "16"
        },
        {
         "0": "Showdown in Little Tokyo",
         "1": "8000000.0",
         "2": "1991",
         "3": "17"
        },
        {
         "0": "Boyz n the Hood",
         "1": "6500000.0",
         "2": "1991",
         "3": "18"
        },
        {
         "0": "Beastmaster 2: Through the Portal of Time",
         "1": "6000000.0",
         "2": "1991",
         "3": "19"
        },
        {
         "0": "Bill & Ted's Bogus Journey",
         "1": "2000000.0",
         "2": "1991",
         "3": "20"
        },
        {
         "0": "House Party 2",
         "1": "2000000.0",
         "2": "1991",
         "3": "20"
        },
        {
         "0": "Stone Cold",
         "1": "2000000.0",
         "2": "1991",
         "3": "20"
        },
        {
         "0": "Straight Out of Brooklyn",
         "1": "2000000.0",
         "2": "1991",
         "3": "20"
        },
        {
         "0": "Johnny Suede",
         "1": "500000.0",
         "2": "1991",
         "3": "21"
        },
        {
         "0": "Batman Returns",
         "1": "8.0E7",
         "2": "1992",
         "3": "1"
        },
        {
         "0": "Death Becomes Her",
         "1": "5.5E7",
         "2": "1992",
         "3": "2"
        },
        {
         "0": "Alien³",
         "1": "5.0E7",
         "2": "1992",
         "3": "3"
        },
        {
         "0": "Patriot Games",
         "1": "4.5E7",
         "2": "1992",
         "3": "4"
        },
        {
         "0": "A Few Good Men",
         "1": "4.0E7",
         "2": "1992",
         "3": "5"
        },
        {
         "0": "Memoirs of an Invisible Man",
         "1": "4.0E7",
         "2": "1992",
         "3": "5"
        },
        {
         "0": "Dracula",
         "1": "4.0E7",
         "2": "1992",
         "3": "5"
        },
        {
         "0": "The Last of the Mohicans",
         "1": "4.0E7",
         "2": "1992",
         "3": "5"
        },
        {
         "0": "Boomerang",
         "1": "4.0E7",
         "2": "1992",
         "3": "5"
        },
        {
         "0": "A League of Their Own",
         "1": "4.0E7",
         "2": "1992",
         "3": "5"
        },
        {
         "0": "Lethal Weapon 3",
         "1": "3.5E7",
         "2": "1992",
         "3": "6"
        },
        {
         "0": "Hoffa",
         "1": "3.5E7",
         "2": "1992",
         "3": "6"
        },
        {
         "0": "Malcolm X",
         "1": "3.4E7",
         "2": "1992",
         "3": "7"
        },
        {
         "0": "Aladdin",
         "1": "2.8E7",
         "2": "1992",
         "3": "8"
        },
        {
         "0": "The Bodyguard",
         "1": "2.5E7",
         "2": "1992",
         "3": "9"
        },
        {
         "0": "Wayne's World",
         "1": "2.0E7",
         "2": "1992",
         "3": "10"
        },
        {
         "0": "Home Alone 2: Lost in New York",
         "1": "1.8E7",
         "2": "1992",
         "3": "11"
        },
        {
         "0": "Unforgiven",
         "1": "1.4E7",
         "2": "1992",
         "3": "12"
        },
        {
         "0": "Glengarry Glen Ross",
         "1": "1.25E7",
         "2": "1992",
         "3": "13"
        },
        {
         "0": "Raising Cain",
         "1": "1.2E7",
         "2": "1992",
         "3": "14"
        },
        {
         "0": "Army of Darkness",
         "1": "1.1E7",
         "2": "1992",
         "3": "15"
        },
        {
         "0": "My Cousin Vinny",
         "1": "1.1E7",
         "2": "1992",
         "3": "15"
        },
        {
         "0": "The Lawnmower Man",
         "1": "1.0E7",
         "2": "1992",
         "3": "16"
        },
        {
         "0": "The Mighty Ducks",
         "1": "1.0E7",
         "2": "1992",
         "3": "16"
        },
        {
         "0": "Fortress",
         "1": "8000000.0",
         "2": "1992",
         "3": "17"
        },
        {
         "0": "Light Sleeper",
         "1": "5000000.0",
         "2": "1992",
         "3": "18"
        },
        {
         "0": "The Crying Game",
         "1": "3705538.0",
         "2": "1992",
         "3": "19"
        },
        {
         "0": "Howards End",
         "1": "2000000.0",
         "2": "1992",
         "3": "20"
        },
        {
         "0": "The Muppet Christmas Carol",
         "1": "2000000.0",
         "2": "1992",
         "3": "20"
        },
        {
         "0": "Split Second",
         "1": "2000000.0",
         "2": "1992",
         "3": "20"
        },
        {
         "0": "Reservoir Dogs",
         "1": "1200000.0",
         "2": "1992",
         "3": "21"
        },
        {
         "0": "El Mariachi",
         "1": "220000.0",
         "2": "1992",
         "3": "22"
        },
        {
         "0": "Last Action Hero",
         "1": "8.5E7",
         "2": "1993",
         "3": "1"
        },
        {
         "0": "Cliffhanger",
         "1": "7.0E7",
         "2": "1993",
         "3": "2"
        },
        {
         "0": "Jurassic Park",
         "1": "6.3E7",
         "2": "1993",
         "3": "3"
        },
        {
         "0": "Super Mario Bros.",
         "1": "4.8E7",
         "2": "1993",
         "3": "4"
        },
        {
         "0": "The Pelican Brief",
         "1": "4.5E7",
         "2": "1993",
         "3": "5"
        },
        {
         "0": "The Fugitive",
         "1": "4.4E7",
         "2": "1993",
         "3": "6"
        },
        {
         "0": "The Firm",
         "1": "4.2E7",
         "2": "1993",
         "3": "7"
        },
        {
         "0": "The Age of Innocence",
         "1": "3.4E7",
         "2": "1993",
         "3": "8"
        },
        {
         "0": "Alive",
         "1": "3.2E7",
         "2": "1993",
         "3": "9"
        },
        {
         "0": "Hocus Pocus",
         "1": "2.8E7",
         "2": "1993",
         "3": "10"
        },
        {
         "0": "The Thief and the Cobbler",
         "1": "2.8E7",
         "2": "1993",
         "3": "10"
        },
        {
         "0": "Philadelphia",
         "1": "2.6E7",
         "2": "1993",
         "3": "11"
        },
        {
         "0": "Mrs. Doubtfire",
         "1": "2.5E7",
         "2": "1993",
         "3": "12"
        },
        {
         "0": "Tombstone",
         "1": "2.5E7",
         "2": "1993",
         "3": "12"
        },
        {
         "0": "RoboCop 3",
         "1": "2.2E7",
         "2": "1993",
         "3": "13"
        },
        {
         "0": "Shadowlands",
         "1": "2.2E7",
         "2": "1993",
         "3": "13"
        },
        {
         "0": "Schindler's List",
         "1": "2.2E7",
         "2": "1993",
         "3": "13"
        },
        {
         "0": "Teenage Mutant Ninja Turtles III",
         "1": "2.1E7",
         "2": "1993",
         "3": "14"
        },
        {
         "0": "The Nutcracker",
         "1": "1.9E7",
         "2": "1993",
         "3": "15"
        },
        {
         "0": "Groundhog Day",
         "1": "1.46E7",
         "2": "1993",
         "3": "16"
        },
        {
         "0": "Cool Runnings",
         "1": "1.4E7",
         "2": "1993",
         "3": "17"
        },
        {
         "0": "Poetic Justice",
         "1": "1.4E7",
         "2": "1993",
         "3": "17"
        },
        {
         "0": "True Romance",
         "1": "1.25E7",
         "2": "1993",
         "3": "18"
        },
        {
         "0": "The Remains of the Day",
         "1": "1.15E7",
         "2": "1993",
         "3": "19"
        },
        {
         "0": "Romeo Is Bleeding",
         "1": "1.15E7",
         "2": "1993",
         "3": "19"
        },
        {
         "0": "What's Eating Gilbert Grape",
         "1": "1.1E7",
         "2": "1993",
         "3": "20"
        },
        {
         "0": "Much Ado About Nothing",
         "1": "8000000.0",
         "2": "1993",
         "3": "21"
        },
        {
         "0": "The Piano",
         "1": "7000000.0",
         "2": "1993",
         "3": "22"
        },
        {
         "0": "Dazed and Confused",
         "1": "6900000.0",
         "2": "1993",
         "3": "23"
        },
        {
         "0": "The Adventures of Huck Finn",
         "1": "6500000.0",
         "2": "1993",
         "3": "24"
        },
        {
         "0": "Only the Strong",
         "1": "6000000.0",
         "2": "1993",
         "3": "25"
        },
        {
         "0": "Menace II Society",
         "1": "3500000.0",
         "2": "1993",
         "3": "26"
        },
        {
         "0": "Jason Goes to Hell: The Final Friday",
         "1": "3000000.0",
         "2": "1993",
         "3": "27"
        },
        {
         "0": "Excessive Force",
         "1": "3000000.0",
         "2": "1993",
         "3": "27"
        },
        {
         "0": "Airborne",
         "1": "2600000.0",
         "2": "1993",
         "3": "28"
        },
        {
         "0": "National Lampoon's Loaded Weapon 1",
         "1": "2000000.0",
         "2": "1993",
         "3": "29"
        },
        {
         "0": "Nowhere to Run",
         "1": "2000000.0",
         "2": "1993",
         "3": "29"
        },
        {
         "0": "Les visiteurs",
         "1": "2000000.0",
         "2": "1993",
         "3": "29"
        },
        {
         "0": "What's Love Got to Do with It",
         "1": "2000000.0",
         "2": "1993",
         "3": "29"
        },
        {
         "0": "Warlock: The Armageddon",
         "1": "2000000.0",
         "2": "1993",
         "3": "29"
        },
        {
         "0": "Return of the Living Dead 3",
         "1": "2000000.0",
         "2": "1993",
         "3": "29"
        },
        {
         "0": "Ed and His Dead Mother",
         "1": "2000000.0",
         "2": "1993",
         "3": "29"
        },
        {
         "0": "Killing Zoe",
         "1": "1500000.0",
         "2": "1993",
         "3": "30"
        },
        {
         "0": "Ruby in Paradise",
         "1": "800000.0",
         "2": "1993",
         "3": "31"
        },
        {
         "0": "True Lies",
         "1": "1.15E8",
         "2": "1994",
         "3": "1"
        },
        {
         "0": "Wyatt Earp",
         "1": "6.3E7",
         "2": "1994",
         "3": "2"
        },
        {
         "0": "Clear and Present Danger",
         "1": "6.2E7",
         "2": "1994",
         "3": "3"
        },
        {
         "0": "Interview with the Vampire",
         "1": "6.0E7",
         "2": "1994",
         "3": "4"
        },
        {
         "0": "Disclosure",
         "1": "5.5E7",
         "2": "1994",
         "3": "5"
        },
        {
         "0": "Forrest Gump",
         "1": "5.5E7",
         "2": "1994",
         "3": "5"
        },
        {
         "0": "On Deadly Ground",
         "1": "5.0E7",
         "2": "1994",
         "3": "6"
        },
        {
         "0": "Baby's Day Out",
         "1": "5.0E7",
         "2": "1994",
         "3": "6"
        },
        {
         "0": "Beverly Hills Cop III",
         "1": "5.0E7",
         "2": "1994",
         "3": "6"
        },
        {
         "0": "The Flintstones",
         "1": "4.6E7",
         "2": "1994",
         "3": "7"
        },
        {
         "0": "The Specialist",
         "1": "4.5E7",
         "2": "1994",
         "3": "8"
        },
        {
         "0": "The Lion King",
         "1": "4.5E7",
         "2": "1994",
         "3": "8"
        },
        {
         "0": "The River Wild",
         "1": "4.5E7",
         "2": "1994",
         "3": "8"
        },
        {
         "0": "The Client",
         "1": "4.5E7",
         "2": "1994",
         "3": "8"
        },
        {
         "0": "Ri¢hie Ri¢h",
         "1": "4.0E7",
         "2": "1994",
         "3": "9"
        },
        {
         "0": "Renaissance Man",
         "1": "4.0E7",
         "2": "1994",
         "3": "9"
        },
        {
         "0": "Star Trek: Generations",
         "1": "3.8E7",
         "2": "1994",
         "3": "10"
        },
        {
         "0": "Street Fighter",
         "1": "3.5E7",
         "2": "1994",
         "3": "11"
        },
        {
         "0": "Speed",
         "1": "3.0E7",
         "2": "1994",
         "3": "12"
        },
        {
         "0": "Legends of the Fall",
         "1": "3.0E7",
         "2": "1994",
         "3": "12"
        },
        {
         "0": "The Hudsucker Proxy",
         "1": "3.0E7",
         "2": "1994",
         "3": "12"
        },
        {
         "0": "The Naked Gun 33?: The Final Insult",
         "1": "3.0E7",
         "2": "1994",
         "3": "12"
        },
        {
         "0": "Timecop",
         "1": "2.7E7",
         "2": "1994",
         "3": "13"
        },
        {
         "0": "Highlander III: The Sorcerer",
         "1": "2.6E7",
         "2": "1994",
         "3": "14"
        },
        {
         "0": "Don Juan DeMarco",
         "1": "2.5E7",
         "2": "1994",
         "3": "15"
        },
        {
         "0": "The Shawshank Redemption",
         "1": "2.5E7",
         "2": "1994",
         "3": "15"
        },
        {
         "0": "The Mask",
         "1": "2.3E7",
         "2": "1994",
         "3": "16"
        },
        {
         "0": "The Santa Clause",
         "1": "2.2E7",
         "2": "1994",
         "3": "17"
        },
        {
         "0": "Rapa Nui",
         "1": "2.0E7",
         "2": "1994",
         "3": "18"
        },
        {
         "0": "Little Women",
         "1": "1.8E7",
         "2": "1994",
         "3": "19"
        },
        {
         "0": "Ace Ventura: Pet Detective",
         "1": "1.5E7",
         "2": "1994",
         "3": "20"
        },
        {
         "0": "The Crow",
         "1": "1.5E7",
         "2": "1994",
         "3": "20"
        },
        {
         "0": "New Nightmare",
         "1": "1.4E7",
         "2": "1994",
         "3": "21"
        },
        {
         "0": "Serial Mom",
         "1": "1.3E7",
         "2": "1994",
         "3": "22"
        },
        {
         "0": "There Goes My Baby",
         "1": "1.05E7",
         "2": "1994",
         "3": "23"
        },
        {
         "0": "A Low Down Dirty Shame",
         "1": "1.0E7",
         "2": "1994",
         "3": "24"
        },
        {
         "0": "PCU",
         "1": "9000000.0",
         "2": "1994",
         "3": "25"
        },
        {
         "0": "Pulp Fiction",
         "1": "8000000.0",
         "2": "1994",
         "3": "26"
        },
        {
         "0": "Four Weddings and a Funeral",
         "1": "6000000.0",
         "2": "1994",
         "3": "27"
        },
        {
         "0": "Heavenly Creatures",
         "1": "5000000.0",
         "2": "1994",
         "3": "28"
        },
        {
         "0": "Wolf",
         "1": "2000000.0",
         "2": "1994",
         "3": "29"
        },
        {
         "0": "Bullets Over Broadway",
         "1": "2000000.0",
         "2": "1994",
         "3": "29"
        },
        {
         "0": "Police Academy: Mission to Moscow",
         "1": "2000000.0",
         "2": "1994",
         "3": "29"
        },
        {
         "0": "3 Ninjas Kick Back",
         "1": "2000000.0",
         "2": "1994",
         "3": "29"
        },
        {
         "0": "Exotica",
         "1": "2000000.0",
         "2": "1994",
         "3": "29"
        },
        {
         "0": "Crooklyn",
         "1": "2000000.0",
         "2": "1994",
         "3": "29"
        },
        {
         "0": "Men of War",
         "1": "2000000.0",
         "2": "1994",
         "3": "29"
        },
        {
         "0": "Sugar Hill",
         "1": "2000000.0",
         "2": "1994",
         "3": "29"
        },
        {
         "0": "The Inkwell",
         "1": "2000000.0",
         "2": "1994",
         "3": "29"
        },
        {
         "0": "Hoop Dreams",
         "1": "700000.0",
         "2": "1994",
         "3": "30"
        },
        {
         "0": "Clerks",
         "1": "27000.0",
         "2": "1994",
         "3": "31"
        },
        {
         "0": "Waterworld",
         "1": "1.75E8",
         "2": "1995",
         "3": "1"
        },
        {
         "0": "Batman Forever",
         "1": "1.0E8",
         "2": "1995",
         "3": "2"
        },
        {
         "0": "Cutthroat Island",
         "1": "9.8E7",
         "2": "1995",
         "3": "3"
        },
        {
         "0": "Die Hard: With a Vengeance",
         "1": "9.0E7",
         "2": "1995",
         "3": "4"
        },
        {
         "0": "Braveheart",
         "1": "7.2E7",
         "2": "1995",
         "3": "5"
        },
        {
         "0": "The American President",
         "1": "6.2E7",
         "2": "1995",
         "3": "6"
        },
        {
         "0": "Under Siege 2: Dark Territory",
         "1": "6.0E7",
         "2": "1995",
         "3": "7"
        },
        {
         "0": "Money Train",
         "1": "6.0E7",
         "2": "1995",
         "3": "7"
        },
        {
         "0": "GoldenEye",
         "1": "5.8E7",
         "2": "1995",
         "3": "8"
        },
        {
         "0": "First Knight",
         "1": "5.5E7",
         "2": "1995",
         "3": "9"
        },
        {
         "0": "Pocahontas",
         "1": "5.5E7",
         "2": "1995",
         "3": "9"
        },
        {
         "0": "Crimson Tide",
         "1": "5.3E7",
         "2": "1995",
         "3": "10"
        },
        {
         "0": "Casino",
         "1": "5.2E7",
         "2": "1995",
         "3": "11"
        },
        {
         "0": "Apollo 13",
         "1": "5.2E7",
         "2": "1995",
         "3": "11"
        },
        {
         "0": "Outbreak",
         "1": "5.0E7",
         "2": "1995",
         "3": "12"
        },
        {
         "0": "Assassins",
         "1": "5.0E7",
         "2": "1995",
         "3": "12"
        },
        {
         "0": "Congo",
         "1": "5.0E7",
         "2": "1995",
         "3": "12"
        },
        {
         "0": "The Scarlet Letter",
         "1": "5.0E7",
         "2": "1995",
         "3": "12"
        },
        {
         "0": "Jade",
         "1": "5.0E7",
         "2": "1995",
         "3": "12"
        },
        {
         "0": "Showgirls",
         "1": "4.5E7",
         "2": "1995",
         "3": "13"
        },
        {
         "0": "The Indian in the Cupboard",
         "1": "4.5E7",
         "2": "1995",
         "3": "13"
        },
        {
         "0": "Nixon",
         "1": "4.4E7",
         "2": "1995",
         "3": "14"
        },
        {
         "0": "Kiss of Death",
         "1": "4.0E7",
         "2": "1995",
         "3": "15"
        },
        {
         "0": "Species",
         "1": "3.5E7",
         "2": "1995",
         "3": "16"
        },
        {
         "0": "Le Hussard sur le toit",
         "1": "3.5E7",
         "2": "1995",
         "3": "16"
        },
        {
         "0": "The Quick and the Dead",
         "1": "3.2E7",
         "2": "1995",
         "3": "17"
        },
        {
         "0": "Toy Story",
         "1": "3.0E7",
         "2": "1995",
         "3": "18"
        },
        {
         "0": "Virtuosity",
         "1": "3.0E7",
         "2": "1995",
         "3": "18"
        },
        {
         "0": "Ace Ventura: When Nature Calls",
         "1": "3.0E7",
         "2": "1995",
         "3": "18"
        },
        {
         "0": "Babe",
         "1": "3.0E7",
         "2": "1995",
         "3": "18"
        },
        {
         "0": "Rob Roy",
         "1": "2.8E7",
         "2": "1995",
         "3": "19"
        },
        {
         "0": "Tank Girl",
         "1": "2.5E7",
         "2": "1995",
         "3": "20"
        },
        {
         "0": "The Bridges of Madison County",
         "1": "2.4E7",
         "2": "1995",
         "3": "21"
        },
        {
         "0": "The Net",
         "1": "2.2E7",
         "2": "1995",
         "3": "22"
        },
        {
         "0": "Hackers",
         "1": "2.0E7",
         "2": "1995",
         "3": "23"
        },
        {
         "0": "To Die For",
         "1": "2.0E7",
         "2": "1995",
         "3": "23"
        },
        {
         "0": "Bad Boys",
         "1": "1.9E7",
         "2": "1995",
         "3": "24"
        },
        {
         "0": "Mortal Kombat",
         "1": "1.8E7",
         "2": "1995",
         "3": "25"
        },
        {
         "0": "Sense and Sensibility",
         "1": "1.65E7",
         "2": "1995",
         "3": "26"
        },
        {
         "0": "Vampire in Brooklyn",
         "1": "1.4E7",
         "2": "1995",
         "3": "27"
        },
        {
         "0": "Jefferson in Paris",
         "1": "1.4E7",
         "2": "1995",
         "3": "27"
        },
        {
         "0": "Clueless",
         "1": "1.2E7",
         "2": "1995",
         "3": "28"
        },
        {
         "0": "Dead Man Walking",
         "1": "1.1E7",
         "2": "1995",
         "3": "29"
        },
        {
         "0": "The Perez Family",
         "1": "1.1E7",
         "2": "1995",
         "3": "29"
        },
        {
         "0": "Things to Do in Denver When You're Dead",
         "1": "8000000.0",
         "2": "1995",
         "3": "30"
        },
        {
         "0": "Desperado",
         "1": "7000000.0",
         "2": "1995",
         "3": "31"
        },
        {
         "0": "Mallrats",
         "1": "6000000.0",
         "2": "1995",
         "3": "32"
        },
        {
         "0": "Tales from the Hood",
         "1": "6000000.0",
         "2": "1995",
         "3": "32"
        },
        {
         "0": "The Usual Suspects",
         "1": "6000000.0",
         "2": "1995",
         "3": "32"
        },
        {
         "0": "Halloween: The Curse of Michael Myers",
         "1": "5000000.0",
         "2": "1995",
         "3": "33"
        },
        {
         "0": "Four Rooms",
         "1": "4000000.0",
         "2": "1995",
         "3": "34"
        },
        {
         "0": "Leaving Las Vegas",
         "1": "3600000.0",
         "2": "1995",
         "3": "35"
        },
        {
         "0": "Friday",
         "1": "3500000.0",
         "2": "1995",
         "3": "36"
        },
        {
         "0": "Before Sunrise",
         "1": "2500000.0",
         "2": "1995",
         "3": "37"
        },
        {
         "0": "Copycat",
         "1": "2000000.0",
         "2": "1995",
         "3": "38"
        },
        {
         "0": "Mr. Holland's Opus",
         "1": "2000000.0",
         "2": "1995",
         "3": "38"
        },
        {
         "0": "Tales from the Crypt: Demon Knight",
         "1": "2000000.0",
         "2": "1995",
         "3": "38"
        },
        {
         "0": "Home for the Holidays",
         "1": "2000000.0",
         "2": "1995",
         "3": "38"
        },
        {
         "0": "Welcome to the Dollhouse",
         "1": "2000000.0",
         "2": "1995",
         "3": "38"
        },
        {
         "0": "The Prophecy",
         "1": "2000000.0",
         "2": "1995",
         "3": "38"
        },
        {
         "0": "The Brothers McMullen",
         "1": "2000000.0",
         "2": "1995",
         "3": "38"
        },
        {
         "0": "The Incredibly True Adventure of Two Girls In Love",
         "1": "2000000.0",
         "2": "1995",
         "3": "38"
        },
        {
         "0": "Richard III",
         "1": "2000000.0",
         "2": "1995",
         "3": "38"
        },
        {
         "0": "Bang",
         "1": "2000000.0",
         "2": "1995",
         "3": "38"
        },
        {
         "0": "Eraser",
         "1": "1.0E8",
         "2": "1996",
         "3": "1"
        },
        {
         "0": "The Hunchback of Notre Dame",
         "1": "1.0E8",
         "2": "1996",
         "3": "1"
        },
        {
         "0": "Twister",
         "1": "9.2E7",
         "2": "1996",
         "3": "2"
        },
        {
         "0": "Mission: Impossible",
         "1": "8.0E7",
         "2": "1996",
         "3": "3"
        },
        {
         "0": "Space Jam",
         "1": "8.0E7",
         "2": "1996",
         "3": "3"
        },
        {
         "0": "Ransom",
         "1": "8.0E7",
         "2": "1996",
         "3": "3"
        },
        {
         "0": "Daylight",
         "1": "8.0E7",
         "2": "1996",
         "3": "3"
        },
        {
         "0": "The Rock",
         "1": "7.5E7",
         "2": "1996",
         "3": "4"
        },
        {
         "0": "Independence Day",
         "1": "7.5E7",
         "2": "1996",
         "3": "4"
        },
        {
         "0": "Mars Attacks!",
         "1": "7.0E7",
         "2": "1996",
         "3": "5"
        },
        {
         "0": "The Long Kiss Goodnight",
         "1": "6.5E7",
         "2": "1996",
         "3": "6"
        },
        {
         "0": "Jingle All the Way",
         "1": "6.0E7",
         "2": "1996",
         "3": "7"
        },
        {
         "0": "Up Close & Personal",
         "1": "6.0E7",
         "2": "1996",
         "3": "7"
        },
        {
         "0": "DragonHeart",
         "1": "5.7E7",
         "2": "1996",
         "3": "8"
        },
        {
         "0": "Executive Decision",
         "1": "5.5E7",
         "2": "1996",
         "3": "9"
        },
        {
         "0": "Evita",
         "1": "5.5E7",
         "2": "1996",
         "3": "9"
        },
        {
         "0": "The Fan",
         "1": "5.5E7",
         "2": "1996",
         "3": "9"
        },
        {
         "0": "The Nutty Professor",
         "1": "5.4E7",
         "2": "1996",
         "3": "10"
        },
        {
         "0": "Broken Arrow",
         "1": "5.0E7",
         "2": "1996",
         "3": "11"
        },
        {
         "0": "Jerry Maguire",
         "1": "5.0E7",
         "2": "1996",
         "3": "11"
        },
        {
         "0": "Striptease",
         "1": "5.0E7",
         "2": "1996",
         "3": "11"
        },
        {
         "0": "Escape from L.A.",
         "1": "5.0E7",
         "2": "1996",
         "3": "11"
        },
        {
         "0": "The Ghost and the Darkness",
         "1": "5.0E7",
         "2": "1996",
         "3": "11"
        },
        {
         "0": "Chain Reaction",
         "1": "5.0E7",
         "2": "1996",
         "3": "11"
        },
        {
         "0": "Mary Reilly",
         "1": "4.7E7",
         "2": "1996",
         "3": "12"
        },
        {
         "0": "Star Trek: First Contact",
         "1": "4.6E7",
         "2": "1996",
         "3": "13"
        },
        {
         "0": "Courage Under Fire",
         "1": "4.6E7",
         "2": "1996",
         "3": "13"
        },
        {
         "0": "Multiplicity",
         "1": "4.5E7",
         "2": "1996",
         "3": "14"
        },
        {
         "0": "The Glimmer Man",
         "1": "4.5E7",
         "2": "1996",
         "3": "14"
        },
        {
         "0": "The Phantom",
         "1": "4.5E7",
         "2": "1996",
         "3": "14"
        },
        {
         "0": "Tin Cup",
         "1": "4.5E7",
         "2": "1996",
         "3": "14"
        },
        {
         "0": "Sleepers",
         "1": "4.4E7",
         "2": "1996",
         "3": "15"
        },
        {
         "0": "The Mirror Has Two Faces",
         "1": "4.2E7",
         "2": "1996",
         "3": "16"
        },
        {
         "0": "A Time to Kill",
         "1": "4.0E7",
         "2": "1996",
         "3": "17"
        },
        {
         "0": "The Island of Dr. Moreau",
         "1": "4.0E7",
         "2": "1996",
         "3": "17"
        },
        {
         "0": "White Squall",
         "1": "3.8E7",
         "2": "1996",
         "3": "18"
        },
        {
         "0": "Extreme Measures",
         "1": "3.8E7",
         "2": "1996",
         "3": "18"
        },
        {
         "0": "Bogus",
         "1": "3.2E7",
         "2": "1996",
         "3": "19"
        },
        {
         "0": "Phenomenon",
         "1": "3.2E7",
         "2": "1996",
         "3": "19"
        },
        {
         "0": "Michael Collins",
         "1": "2.8E7",
         "2": "1996",
         "3": "20"
        },
        {
         "0": "Kingpin",
         "1": "2.7E7",
         "2": "1996",
         "3": "21"
        },
        {
         "0": "The First Wives Club",
         "1": "2.6E7",
         "2": "1996",
         "3": "22"
        },
        {
         "0": "Blood and Wine",
         "1": "2.6E7",
         "2": "1996",
         "3": "22"
        },
        {
         "0": "Flipper",
         "1": "2.553E7",
         "2": "1996",
         "3": "23"
        },
        {
         "0": "Maximum Risk",
         "1": "2.5E7",
         "2": "1996",
         "3": "24"
        },
        {
         "0": "Fled",
         "1": "2.5E7",
         "2": "1996",
         "3": "24"
        },
        {
         "0": "Mrs. Winterbourne",
         "1": "2.5E7",
         "2": "1996",
         "3": "24"
        },
        {
         "0": "Everyone Says I Love You",
         "1": "2.0E7",
         "2": "1996",
         "3": "25"
        },
        {
         "0": "Eye for an Eye",
         "1": "2.0E7",
         "2": "1996",
         "3": "25"
        },
        {
         "0": "From Dusk Till Dawn",
         "1": "1.9E7",
         "2": "1996",
         "3": "26"
        },
        {
         "0": "Spy Hard",
         "1": "1.8E7",
         "2": "1996",
         "3": "27"
        },
        {
         "0": "Kansas City",
         "1": "1.8E7",
         "2": "1996",
         "3": "27"
        },
        {
         "0": "The Craft",
         "1": "1.5E7",
         "2": "1996",
         "3": "28"
        },
        {
         "0": "Silent Trigger",
         "1": "1.5E7",
         "2": "1996",
         "3": "28"
        },
        {
         "0": "Romeo + Juliet",
         "1": "1.45E7",
         "2": "1996",
         "3": "29"
        },
        {
         "0": "Scream",
         "1": "1.4E7",
         "2": "1996",
         "3": "30"
        },
        {
         "0": "Faithful",
         "1": "1.3E7",
         "2": "1996",
         "3": "31"
        },
        {
         "0": "The Funeral",
         "1": "1.25E7",
         "2": "1996",
         "3": "32"
        },
        {
         "0": "Beavis and Butt-Head Do America",
         "1": "1.2E7",
         "2": "1996",
         "3": "33"
        },
        {
         "0": "Happy Gilmore",
         "1": "1.2E7",
         "2": "1996",
         "3": "33"
        },
        {
         "0": "Harriet the Spy",
         "1": "1.2E7",
         "2": "1996",
         "3": "33"
        },
        {
         "0": "Girl 6",
         "1": "1.2E7",
         "2": "1996",
         "3": "33"
        },
        {
         "0": "Set It Off",
         "1": "9000000.0",
         "2": "1996",
         "3": "34"
        },
        {
         "0": "Flirting with Disaster",
         "1": "7000000.0",
         "2": "1996",
         "3": "35"
        },
        {
         "0": "Bottle Rocket",
         "1": "7000000.0",
         "2": "1996",
         "3": "35"
        },
        {
         "0": "Albino Alligator",
         "1": "6000000.0",
         "2": "1996",
         "3": "36"
        },
        {
         "0": "Lone Star",
         "1": "5000000.0",
         "2": "1996",
         "3": "37"
        },
        {
         "0": "Bound",
         "1": "4500000.0",
         "2": "1996",
         "3": "38"
        },
        {
         "0": "Trainspotting",
         "1": "4000000.0",
         "2": "1996",
         "3": "39"
        },
        {
         "0": "She's the One",
         "1": "3500000.0",
         "2": "1996",
         "3": "40"
        },
        {
         "0": "Freeway",
         "1": "3000000.0",
         "2": "1996",
         "3": "41"
        },
        {
         "0": "Kama Sutra - A Tale of Love",
         "1": "3000000.0",
         "2": "1996",
         "3": "41"
        },
        {
         "0": "Basquiat",
         "1": "2962051.0",
         "2": "1996",
         "3": "42"
        },
        {
         "0": "Get on the Bus",
         "1": "2400000.0",
         "2": "1996",
         "3": "43"
        },
        {
         "0": "De jurk",
         "1": "2000000.0",
         "2": "1996",
         "3": "44"
        },
        {
         "0": "Shine",
         "1": "2000000.0",
         "2": "1996",
         "3": "44"
        },
        {
         "0": "Sgt. Bilko",
         "1": "2000000.0",
         "2": "1996",
         "3": "44"
        },
        {
         "0": "That Thing You Do!",
         "1": "2000000.0",
         "2": "1996",
         "3": "44"
        },
        {
         "0": "Marvin's Room",
         "1": "2000000.0",
         "2": "1996",
         "3": "44"
        },
        {
         "0": "Hamlet",
         "1": "2000000.0",
         "2": "1996",
         "3": "44"
        },
        {
         "0": "City Hall",
         "1": "2000000.0",
         "2": "1996",
         "3": "44"
        },
        {
         "0": "Chacun Cherche Son Chat",
         "1": "2000000.0",
         "2": "1996",
         "3": "44"
        },
        {
         "0": "Waiting for Guffman",
         "1": "2000000.0",
         "2": "1996",
         "3": "44"
        },
        {
         "0": "My Fellow Americans",
         "1": "2000000.0",
         "2": "1996",
         "3": "44"
        },
        {
         "0": "The Adventures of Pinocchio",
         "1": "2000000.0",
         "2": "1996",
         "3": "44"
        },
        {
         "0": "Trees Lounge",
         "1": "2000000.0",
         "2": "1996",
         "3": "44"
        },
        {
         "0": "A Thin Line Between Love and Hate",
         "1": "2000000.0",
         "2": "1996",
         "3": "44"
        },
        {
         "0": "Ghosts of Mississippi",
         "1": "2000000.0",
         "2": "1996",
         "3": "44"
        },
        {
         "0": "Walking and Talking",
         "1": "2000000.0",
         "2": "1996",
         "3": "44"
        },
        {
         "0": "Love and Other Catastrophes",
         "1": "2000000.0",
         "2": "1996",
         "3": "44"
        },
        {
         "0": "Sling Blade",
         "1": "1000000.0",
         "2": "1996",
         "3": "45"
        },
        {
         "0": "Swingers",
         "1": "200000.0",
         "2": "1996",
         "3": "46"
        },
        {
         "0": "Titanic",
         "1": "2.0E8",
         "2": "1997",
         "3": "1"
        },
        {
         "0": "Speed 2: Cruise Control",
         "1": "1.6E8",
         "2": "1997",
         "3": "2"
        },
        {
         "0": "Batman & Robin",
         "1": "1.25E8",
         "2": "1997",
         "3": "3"
        },
        {
         "0": "Dante's Peak",
         "1": "1.16E8",
         "2": "1997",
         "3": "4"
        },
        {
         "0": "Tomorrow Never Dies",
         "1": "1.1E8",
         "2": "1997",
         "3": "5"
        },
        {
         "0": "Starship Troopers",
         "1": "1.05E8",
         "2": "1997",
         "3": "6"
        },
        {
         "0": "Contact",
         "1": "9.0E7",
         "2": "1997",
         "3": "7"
        },
        {
         "0": "The Devil's Own",
         "1": "9.0E7",
         "2": "1997",
         "3": "7"
        },
        {
         "0": "Volcano",
         "1": "9.0E7",
         "2": "1997",
         "3": "7"
        },
        {
         "0": "The Fifth Element",
         "1": "9.0E7",
         "2": "1997",
         "3": "7"
        },
        {
         "0": "Men in Black",
         "1": "9.0E7",
         "2": "1997",
         "3": "7"
        },
        {
         "0": "Air Force One",
         "1": "8.5E7",
         "2": "1997",
         "3": "8"
        },
        {
         "0": "Face/Off",
         "1": "8.0E7",
         "2": "1997",
         "3": "9"
        },
        {
         "0": "Flubber",
         "1": "8.0E7",
         "2": "1997",
         "3": "9"
        },
        {
         "0": "The Postman",
         "1": "8.0E7",
         "2": "1997",
         "3": "9"
        },
        {
         "0": "Conspiracy Theory",
         "1": "7.5E7",
         "2": "1997",
         "3": "10"
        },
        {
         "0": "The Lost World: Jurassic Park",
         "1": "7.3E7",
         "2": "1997",
         "3": "11"
        },
        {
         "0": "Seven Years in Tibet",
         "1": "7.0E7",
         "2": "1997",
         "3": "12"
        },
        {
         "0": "Alien: Resurrection",
         "1": "7.0E7",
         "2": "1997",
         "3": "12"
        },
        {
         "0": "The Saint",
         "1": "6.8E7",
         "2": "1997",
         "3": "13"
        },
        {
         "0": "The Jackal",
         "1": "6.0E7",
         "2": "1997",
         "3": "14"
        },
        {
         "0": "Event Horizon",
         "1": "6.0E7",
         "2": "1997",
         "3": "14"
        },
        {
         "0": "The Relic",
         "1": "6.0E7",
         "2": "1997",
         "3": "14"
        },
        {
         "0": "The Devil's Advocate",
         "1": "5.7E7",
         "2": "1997",
         "3": "15"
        },
        {
         "0": "George of the Jungle",
         "1": "5.5E7",
         "2": "1997",
         "3": "16"
        },
        {
         "0": "Turbulence",
         "1": "5.5E7",
         "2": "1997",
         "3": "16"
        },
        {
         "0": "Anastasia",
         "1": "5.3E7",
         "2": "1997",
         "3": "17"
        },
        {
         "0": "Absolute Power",
         "1": "5.0E7",
         "2": "1997",
         "3": "18"
        },
        {
         "0": "The Game",
         "1": "5.0E7",
         "2": "1997",
         "3": "18"
        },
        {
         "0": "As Good as It Gets",
         "1": "5.0E7",
         "2": "1997",
         "3": "18"
        },
        {
         "0": "G.I. Jane",
         "1": "5.0E7",
         "2": "1997",
         "3": "18"
        },
        {
         "0": "The Peacemaker",
         "1": "5.0E7",
         "2": "1997",
         "3": "18"
        },
        {
         "0": "Mad City",
         "1": "5.0E7",
         "2": "1997",
         "3": "18"
        },
        {
         "0": "Liar Liar",
         "1": "4.5E7",
         "2": "1997",
         "3": "19"
        },
        {
         "0": "Shadow Conspiracy",
         "1": "4.5E7",
         "2": "1997",
         "3": "19"
        },
        {
         "0": "Spawn",
         "1": "4.0E7",
         "2": "1997",
         "3": "20"
        },
        {
         "0": "The Rainmaker",
         "1": "4.0E7",
         "2": "1997",
         "3": "20"
        },
        {
         "0": "My Best Friend's Wedding",
         "1": "3.8E7",
         "2": "1997",
         "3": "21"
        },
        {
         "0": "Switchback",
         "1": "3.7E7",
         "2": "1997",
         "3": "22"
        },
        {
         "0": "Gattaca",
         "1": "3.6E7",
         "2": "1997",
         "3": "23"
        },
        {
         "0": "Breakdown",
         "1": "3.6E7",
         "2": "1997",
         "3": "23"
        },
        {
         "0": "Amistad",
         "1": "3.6E7",
         "2": "1997",
         "3": "23"
        },
        {
         "0": "L.A. Confidential",
         "1": "3.5E7",
         "2": "1997",
         "3": "24"
        },
        {
         "0": "Midnight in the Garden of Good and Evil",
         "1": "3.5E7",
         "2": "1997",
         "3": "24"
        },
        {
         "0": "Smilla's Sense of Snow",
         "1": "3.5E7",
         "2": "1997",
         "3": "24"
        },
        {
         "0": "Donnie Brasco",
         "1": "3.5E7",
         "2": "1997",
         "3": "24"
        },
        {
         "0": "In & Out",
         "1": "3.5E7",
         "2": "1997",
         "3": "24"
        },
        {
         "0": "Cats Don't Dance",
         "1": "3.2E7",
         "2": "1997",
         "3": "25"
        },
        {
         "0": "Kundun",
         "1": "2.8E7",
         "2": "1997",
         "3": "26"
        },
        {
         "0": "Snow White: A Tale of Terror",
         "1": "2.6E7",
         "2": "1997",
         "3": "27"
        },
        {
         "0": "Spice World",
         "1": "2.5E7",
         "2": "1997",
         "3": "28"
        },
        {
         "0": "Nothing to Lose",
         "1": "2.5E7",
         "2": "1997",
         "3": "28"
        },
        {
         "0": "Scream 2",
         "1": "2.4E7",
         "2": "1997",
         "3": "29"
        },
        {
         "0": "Deconstructing Harry",
         "1": "2.0E7",
         "2": "1997",
         "3": "30"
        },
        {
         "0": "The Man Who Knew Too Little",
         "1": "2.0E7",
         "2": "1997",
         "3": "30"
        },
        {
         "0": "Selena",
         "1": "2.0E7",
         "2": "1997",
         "3": "30"
        },
        {
         "0": "The Ice Storm",
         "1": "1.8E7",
         "2": "1997",
         "3": "31"
        },
        {
         "0": "I Know What You Did Last Summer",
         "1": "1.7E7",
         "2": "1997",
         "3": "32"
        },
        {
         "0": "Austin Powers: International Man of Mystery",
         "1": "1.65E7",
         "2": "1997",
         "3": "33"
        },
        {
         "0": "Cop Land",
         "1": "1.5E7",
         "2": "1997",
         "3": "34"
        },
        {
         "0": "Wag the Dog",
         "1": "1.5E7",
         "2": "1997",
         "3": "34"
        },
        {
         "0": "Jackie Brown",
         "1": "1.2E7",
         "2": "1997",
         "3": "35"
        },
        {
         "0": "Good Will Hunting",
         "1": "1.0E7",
         "2": "1997",
         "3": "36"
        },
        {
         "0": "The Spanish Prisoner",
         "1": "1.0E7",
         "2": "1997",
         "3": "36"
        },
        {
         "0": "The Apostle",
         "1": "5000000.0",
         "2": "1997",
         "3": "37"
        },
        {
         "0": "The Sweet Hereafter",
         "1": "5000000.0",
         "2": "1997",
         "3": "37"
        },
        {
         "0": "Karakter",
         "1": "4500000.0",
         "2": "1997",
         "3": "38"
        },
        {
         "0": "The Full Monty",
         "1": "3500000.0",
         "2": "1997",
         "3": "39"
        },
        {
         "0": "Air Bud",
         "1": "3000000.0",
         "2": "1997",
         "3": "40"
        },
        {
         "0": "Shooting Fish",
         "1": "3000000.0",
         "2": "1997",
         "3": "40"
        },
        {
         "0": "Money Talks",
         "1": "2000000.0",
         "2": "1997",
         "3": "41"
        },
        {
         "0": "The Edge",
         "1": "2000000.0",
         "2": "1997",
         "3": "41"
        },
        {
         "0": "Grosse Pointe Blank",
         "1": "2000000.0",
         "2": "1997",
         "3": "41"
        },
        {
         "0": "8 Heads in a Duffel Bag",
         "1": "2000000.0",
         "2": "1997",
         "3": "41"
        },
        {
         "0": "In the Company of Men",
         "1": "2000000.0",
         "2": "1997",
         "3": "41"
        },
        {
         "0": "Trekkies",
         "1": "2000000.0",
         "2": "1997",
         "3": "41"
        },
        {
         "0": "24 7: Twenty Four Seven",
         "1": "2000000.0",
         "2": "1997",
         "3": "41"
        },
        {
         "0": "How to Be a Player",
         "1": "2000000.0",
         "2": "1997",
         "3": "41"
        },
        {
         "0": "Soul Food",
         "1": "2000000.0",
         "2": "1997",
         "3": "41"
        },
        {
         "0": "The Last Time I Committed Suicide",
         "1": "2000000.0",
         "2": "1997",
         "3": "41"
        },
        {
         "0": "Oscar and Lucinda",
         "1": "2000000.0",
         "2": "1997",
         "3": "41"
        },
        {
         "0": "Eve's Bayou",
         "1": "2000000.0",
         "2": "1997",
         "3": "41"
        },
        {
         "0": "Love and Death on Long Island",
         "1": "2000000.0",
         "2": "1997",
         "3": "41"
        },
        {
         "0": "Dream with the Fishes",
         "1": "2000000.0",
         "2": "1997",
         "3": "41"
        },
        {
         "0": "Warriors of Virtue",
         "1": "2000000.0",
         "2": "1997",
         "3": "41"
        },
        {
         "0": "Hav Plenty",
         "1": "2000000.0",
         "2": "1997",
         "3": "41"
        },
        {
         "0": "Ulee's Gold",
         "1": "2000000.0",
         "2": "1997",
         "3": "41"
        },
        {
         "0": "Clockwatchers",
         "1": "2000000.0",
         "2": "1997",
         "3": "41"
        },
        {
         "0": "Critical Care",
         "1": "2000000.0",
         "2": "1997",
         "3": "41"
        },
        {
         "0": "Rien ne va plus",
         "1": "2000000.0",
         "2": "1997",
         "3": "41"
        },
        {
         "0": "I Love You, Don't Touch Me!",
         "1": "2000000.0",
         "2": "1997",
         "3": "41"
        },
        {
         "0": "La femme de chambre du Titanic",
         "1": "2000000.0",
         "2": "1997",
         "3": "41"
        },
        {
         "0": "Hurricane Streets",
         "1": "2000000.0",
         "2": "1997",
         "3": "41"
        },
        {
         "0": "Orgazmo",
         "1": "1000000.0",
         "2": "1997",
         "3": "42"
        },
        {
         "0": "Two Girls and a Guy",
         "1": "1000000.0",
         "2": "1997",
         "3": "42"
        },
        {
         "0": "Chasing Amy",
         "1": "250000.0",
         "2": "1997",
         "3": "43"
        },
        {
         "0": "Cube",
         "1": "250000.0",
         "2": "1997",
         "3": "43"
        },
        {
         "0": "The Sticky Fingers of Time",
         "1": "250000.0",
         "2": "1997",
         "3": "43"
        },
        {
         "0": "Lethal Weapon 4",
         "1": "1.4E8",
         "2": "1998",
         "3": "1"
        },
        {
         "0": "Armageddon",
         "1": "1.4E8",
         "2": "1998",
         "3": "1"
        },
        {
         "0": "The Mask of Zorro",
         "1": "9.5E7",
         "2": "1998",
         "3": "2"
        },
        {
         "0": "Babe: Pig in the City",
         "1": "9.0E7",
         "2": "1998",
         "3": "3"
        },
        {
         "0": "Enemy of the State",
         "1": "9.0E7",
         "2": "1998",
         "3": "3"
        },
        {
         "0": "Mighty Joe Young",
         "1": "9.0E7",
         "2": "1998",
         "3": "3"
        },
        {
         "0": "Mulan",
         "1": "9.0E7",
         "2": "1998",
         "3": "3"
        },
        {
         "0": "What Dreams May Come",
         "1": "8.5E7",
         "2": "1998",
         "3": "4"
        },
        {
         "0": "Lost in Space",
         "1": "8.0E7",
         "2": "1998",
         "3": "5"
        },
        {
         "0": "Practical Magic",
         "1": "7.5E7",
         "2": "1998",
         "3": "6"
        },
        {
         "0": "Deep Impact",
         "1": "7.5E7",
         "2": "1998",
         "3": "6"
        },
        {
         "0": "Soldier",
         "1": "7.5E7",
         "2": "1998",
         "3": "6"
        },
        {
         "0": "Sphere",
         "1": "7.5E7",
         "2": "1998",
         "3": "6"
        },
        {
         "0": "Snake Eyes",
         "1": "7.3E7",
         "2": "1998",
         "3": "7"
        },
        {
         "0": "Doctor Dolittle",
         "1": "7.1E7",
         "2": "1998",
         "3": "8"
        },
        {
         "0": "Saving Private Ryan",
         "1": "7.0E7",
         "2": "1998",
         "3": "9"
        },
        {
         "0": "Six Days Seven Nights",
         "1": "7.0E7",
         "2": "1998",
         "3": "9"
        },
        {
         "0": "The Prince of Egypt",
         "1": "7.0E7",
         "2": "1998",
         "3": "9"
        },
        {
         "0": "The Siege",
         "1": "7.0E7",
         "2": "1998",
         "3": "9"
        },
        {
         "0": "The X Files",
         "1": "6.6E7",
         "2": "1998",
         "3": "10"
        },
        {
         "0": "I Still Know What You Did Last Summer",
         "1": "6.5E7",
         "2": "1998",
         "3": "11"
        },
        {
         "0": "Primary Colors",
         "1": "6.5E7",
         "2": "1998",
         "3": "11"
        },
        {
         "0": "You've Got Mail",
         "1": "6.5E7",
         "2": "1998",
         "3": "11"
        },
        {
         "0": "Mercury Rising",
         "1": "6.0E7",
         "2": "1998",
         "3": "12"
        },
        {
         "0": "Antz",
         "1": "6.0E7",
         "2": "1998",
         "3": "12"
        },
        {
         "0": "Holy Man",
         "1": "6.0E7",
         "2": "1998",
         "3": "12"
        },
        {
         "0": "The Horse Whisperer",
         "1": "6.0E7",
         "2": "1998",
         "3": "12"
        },
        {
         "0": "City of Angels",
         "1": "5.5E7",
         "2": "1998",
         "3": "13"
        },
        {
         "0": "Ronin",
         "1": "5.5E7",
         "2": "1998",
         "3": "13"
        },
        {
         "0": "The Thin Red Line",
         "1": "5.2E7",
         "2": "1998",
         "3": "14"
        },
        {
         "0": "The Negotiator",
         "1": "5.0E7",
         "2": "1998",
         "3": "15"
        },
        {
         "0": "Patch Adams",
         "1": "5.0E7",
         "2": "1998",
         "3": "15"
        },
        {
         "0": "Deep Rising",
         "1": "4.5E7",
         "2": "1998",
         "3": "16"
        },
        {
         "0": "Blade",
         "1": "4.5E7",
         "2": "1998",
         "3": "16"
        },
        {
         "0": "Small Soldiers",
         "1": "4.0E7",
         "2": "1998",
         "3": "17"
        },
        {
         "0": "Quest for Camelot",
         "1": "4.0E7",
         "2": "1998",
         "3": "17"
        },
        {
         "0": "Elizabeth",
         "1": "3.0E7",
         "2": "1998",
         "3": "18"
        },
        {
         "0": "Bulworth",
         "1": "3.0E7",
         "2": "1998",
         "3": "18"
        },
        {
         "0": "Very Bad Things",
         "1": "3.0E7",
         "2": "1998",
         "3": "18"
        },
        {
         "0": "The Replacement Killers",
         "1": "3.0E7",
         "2": "1998",
         "3": "18"
        },
        {
         "0": "The Rugrats Movie",
         "1": "3.0E7",
         "2": "1998",
         "3": "18"
        },
        {
         "0": "Dark City",
         "1": "2.7E7",
         "2": "1998",
         "3": "19"
        },
        {
         "0": "The Newton Boys",
         "1": "2.7E7",
         "2": "1998",
         "3": "19"
        },
        {
         "0": "EverAfter",
         "1": "2.6E7",
         "2": "1998",
         "3": "20"
        },
        {
         "0": "He Got Game",
         "1": "2.5E7",
         "2": "1998",
         "3": "21"
        },
        {
         "0": "Bride of Chucky",
         "1": "2.5E7",
         "2": "1998",
         "3": "21"
        },
        {
         "0": "Without Limits",
         "1": "2.5E7",
         "2": "1998",
         "3": "21"
        },
        {
         "0": "Meet the Deedles",
         "1": "2.4E7",
         "2": "1998",
         "3": "22"
        },
        {
         "0": "The Waterboy",
         "1": "2.3E7",
         "2": "1998",
         "3": "23"
        },
        {
         "0": "There's Something About Mary",
         "1": "2.3E7",
         "2": "1998",
         "3": "23"
        },
        {
         "0": "American History X",
         "1": "2.0E7",
         "2": "1998",
         "3": "24"
        },
        {
         "0": "Vampires",
         "1": "2.0E7",
         "2": "1998",
         "3": "24"
        },
        {
         "0": "Simon Birch",
         "1": "2.0E7",
         "2": "1998",
         "3": "24"
        },
        {
         "0": "How Stella Got Her Groove Back",
         "1": "2.0E7",
         "2": "1998",
         "3": "24"
        },
        {
         "0": "Wild Things",
         "1": "2.0E7",
         "2": "1998",
         "3": "24"
        },
        {
         "0": "Fear and Loathing in Las Vegas",
         "1": "1.85E7",
         "2": "1998",
         "3": "25"
        },
        {
         "0": "The Red Violin",
         "1": "1.8E7",
         "2": "1998",
         "3": "26"
        },
        {
         "0": "A Night at the Roxbury",
         "1": "1.7E7",
         "2": "1998",
         "3": "27"
        },
        {
         "0": "The Faculty",
         "1": "1.5E7",
         "2": "1998",
         "3": "28"
        },
        {
         "0": "Home Fries",
         "1": "1.5E7",
         "2": "1998",
         "3": "28"
        },
        {
         "0": "The Object of My Affection",
         "1": "1.5E7",
         "2": "1998",
         "3": "28"
        },
        {
         "0": "Urban Legend",
         "1": "1.4E7",
         "2": "1998",
         "3": "29"
        },
        {
         "0": "54",
         "1": "1.3E7",
         "2": "1998",
         "3": "30"
        },
        {
         "0": "The Big Hit",
         "1": "1.3E7",
         "2": "1998",
         "3": "30"
        },
        {
         "0": "Woo",
         "1": "1.3E7",
         "2": "1998",
         "3": "30"
        },
        {
         "0": "Rounders",
         "1": "1.2E7",
         "2": "1998",
         "3": "31"
        },
        {
         "0": "Living Out Loud",
         "1": "1.2E7",
         "2": "1998",
         "3": "31"
        },
        {
         "0": "Can't Hardly Wait",
         "1": "1.0E7",
         "2": "1998",
         "3": "32"
        },
        {
         "0": "An Alan Smithee Film: Burn, Hollywood, Burn",
         "1": "1.0E7",
         "2": "1998",
         "3": "32"
        },
        {
         "0": "Rushmore",
         "1": "9000000.0",
         "2": "1998",
         "3": "33"
        },
        {
         "0": "Half Baked",
         "1": "8000000.0",
         "2": "1998",
         "3": "34"
        },
        {
         "0": "Sliding Doors",
         "1": "6000000.0",
         "2": "1998",
         "3": "35"
        },
        {
         "0": "Slums of Beverly Hills",
         "1": "5000000.0",
         "2": "1998",
         "3": "36"
        },
        {
         "0": "Zero Effect",
         "1": "5000000.0",
         "2": "1998",
         "3": "36"
        },
        {
         "0": "Happiness",
         "1": "3000000.0",
         "2": "1998",
         "3": "37"
        },
        {
         "0": "Central do Brasil",
         "1": "2900000.0",
         "2": "1998",
         "3": "38"
        },
        {
         "0": "Velvet Goldmine",
         "1": "2000000.0",
         "2": "1998",
         "3": "39"
        }
       ],
       "schema": [
        {
         "key": "0",
         "name": "title",
         "type": "string"
        },
        {
         "key": "1",
         "name": "budget",
         "type": "double"
        },
        {
         "key": "2",
         "name": "year_release_date",
         "type": "int"
        },
        {
         "key": "3",
         "name": "rank",
         "type": "int"
        }
       ],
       "truncated": false
      },
      "wranglerEntryContext": {
       "dataframeType": "pyspark"
      }
     },
     "type": "Synapse.DataFrame"
    },
    "8f0e5105-098f-44dc-a3d6-3b0117dca4a5": {
     "persist_state": {
      "view": {
       "chartOptions": {
        "aggregationType": "sum",
        "binsNumber": 10,
        "categoryFieldKeys": [],
        "chartType": "bar",
        "isStacked": false,
        "seriesFieldKeys": [],
        "wordFrequency": "-1"
       },
       "tableOptions": {},
       "type": "details",
       "viewOptionsGroup": [
        {
         "tabItems": [
          {
           "key": "0",
           "name": "Table",
           "options": {},
           "type": "table"
          }
         ]
        }
       ]
      }
     },
     "sync_state": {
      "isSummary": false,
      "language": "scala",
      "table": {
       "rows": [
        {
         "0": "767",
         "1": "Harry Potter and the Half-Blood Prince",
         "10": "Developer",
         "11": "2009",
         "2": "2.5E8",
         "3": "98.885637",
         "4": "2009-07-07",
         "5": "9.33959197E8",
         "6": "153",
         "7": "7.4",
         "8": "5293",
         "9": "2025-05-11 19:47:34.629792"
        },
        {
         "0": "2080",
         "1": "X-Men Origins: Wolverine",
         "10": "Developer",
         "11": "2009",
         "2": "1.5E8",
         "3": "5.954334",
         "4": "2009-04-28",
         "5": "3.73062864E8",
         "6": "107",
         "7": "6.2",
         "8": "4021",
         "9": "2025-05-11 19:47:34.629792"
        },
        {
         "0": "4597",
         "1": "Armored",
         "10": "Developer",
         "11": "2009",
         "2": "2.0E7",
         "3": "15.21229",
         "4": "2009-12-04",
         "5": "2.2942221E7",
         "6": "88",
         "7": "5.5",
         "8": "208",
         "9": "2025-05-11 19:47:34.629792"
        },
        {
         "0": "4959",
         "1": "The International",
         "10": "Developer",
         "11": "2009",
         "2": "5.0E7",
         "3": "13.391833",
         "4": "2009-02-03",
         "5": "6.0161391E7",
         "6": "118",
         "7": "6.0",
         "8": "368",
         "9": "2025-05-11 19:47:34.629792"
        },
        {
         "0": "5178",
         "1": "The Good Heart",
         "10": "Developer",
         "11": "2009",
         "2": "3800000.0",
         "3": "2.201678",
         "4": "2009-09-11",
         "5": "4750000.0",
         "6": "95",
         "7": "6.0",
         "8": "21",
         "9": "2025-05-11 19:47:34.629792"
        },
        {
         "0": "7445",
         "1": "Brothers",
         "10": "Developer",
         "11": "2009",
         "2": "2.6E7",
         "3": "22.07638",
         "4": "2009-01-27",
         "5": "4.3318349E7",
         "6": "104",
         "7": "6.8",
         "8": "633",
         "9": "2025-05-11 19:47:34.629792"
        },
        {
         "0": "7980",
         "1": "The Lovely Bones",
         "10": "Developer",
         "11": "2009",
         "2": "6.5E7",
         "3": "29.257137",
         "4": "2009-12-26",
         "5": "9.3525586E7",
         "6": "136",
         "7": "6.6",
         "8": "1065",
         "9": "2025-05-11 19:47:34.629792"
        },
        {
         "0": "8054",
         "1": "The Imaginarium of Doctor Parnassus",
         "10": "Developer",
         "11": "2009",
         "2": "3.0E7",
         "3": "37.181019",
         "4": "2009-10-01",
         "5": "6.4352607E7",
         "6": "123",
         "7": "6.3",
         "8": "869",
         "9": "2025-05-11 19:47:34.629792"
        },
        {
         "0": "8355",
         "1": "Ice Age: Dawn of the Dinosaurs",
         "10": "Developer",
         "11": "2009",
         "2": "9.0E7",
         "3": "69.457898",
         "4": "2009-06-29",
         "5": "8.86686817E8",
         "6": "94",
         "7": "6.5",
         "8": "2271",
         "9": "2025-05-11 19:47:34.629792"
        },
        {
         "0": "8373",
         "1": "Transformers: Revenge of the Fallen",
         "10": "Developer",
         "11": "2009",
         "2": "1.5E8",
         "3": "21.939663",
         "4": "2009-06-19",
         "5": "8.36297228E8",
         "6": "150",
         "7": "6.0",
         "8": "3138",
         "9": "2025-05-11 19:47:34.629792"
        },
        {
         "0": "8952",
         "1": "I Love You Phillip Morris",
         "10": "Developer",
         "11": "2009",
         "2": "1.3E7",
         "3": "19.664699",
         "4": "2009-01-18",
         "5": "1.0652035E7",
         "6": "98",
         "7": "6.4",
         "8": "503",
         "9": "2025-05-11 19:47:34.629792"
        },
        {
         "0": "10024",
         "1": "My Sister's Keeper",
         "10": "Developer",
         "11": "2009",
         "2": "3.0E7",
         "3": "24.09152",
         "4": "2009-06-26",
         "5": "9.5714875E7",
         "6": "109",
         "7": "7.1",
         "8": "598",
         "9": "2025-05-11 19:47:34.629792"
        },
        {
         "0": "10184",
         "1": "He's Just Not That Into You",
         "10": "Developer",
         "11": "2009",
         "2": "4.0E7",
         "3": "26.253357",
         "4": "2009-02-06",
         "5": "1.77259441E8",
         "6": "129",
         "7": "6.2",
         "8": "959",
         "9": "2025-05-11 19:47:34.629792"
        },
        {
         "0": "10197",
         "1": "Nine",
         "10": "Developer",
         "11": "2009",
         "2": "8.0E7",
         "3": "9.357734",
         "4": "2009-12-03",
         "5": "5.3825515E7",
         "6": "112",
         "7": "5.1",
         "8": "165",
         "9": "2025-05-11 19:47:34.629792"
        },
        {
         "0": "10198",
         "1": "The Princess and the Frog",
         "10": "Developer",
         "11": "2009",
         "2": "1.05E8",
         "3": "62.479574",
         "4": "2009-12-08",
         "5": "2.67045765E8",
         "6": "97",
         "7": "6.7",
         "8": "1247",
         "9": "2025-05-11 19:47:34.629792"
        },
        {
         "0": "10313",
         "1": "The Men Who Stare at Goats",
         "10": "Developer",
         "11": "2009",
         "2": "2.4E7",
         "3": "20.69219",
         "4": "2009-10-17",
         "5": "6.8729358E7",
         "6": "93",
         "7": "5.9",
         "8": "742",
         "9": "2025-05-11 19:47:34.629792"
        },
        {
         "0": "10315",
         "1": "Fantastic Mr. Fox",
         "10": "Developer",
         "11": "2009",
         "2": "4.0E7",
         "3": "41.258956",
         "4": "2009-10-23",
         "5": "4.6471023E7",
         "6": "87",
         "7": "7.5",
         "8": "1176",
         "9": "2025-05-11 19:47:34.629792"
        },
        {
         "0": "10521",
         "1": "Bride Wars",
         "10": "Developer",
         "11": "2009",
         "2": "3.0E7",
         "3": "33.385429",
         "4": "2009-01-09",
         "5": "1.14663461E8",
         "6": "89",
         "7": "5.9",
         "8": "856",
         "9": "2025-05-11 19:47:34.629792"
        },
        {
         "0": "10528",
         "1": "Sherlock Holmes",
         "10": "Developer",
         "11": "2009",
         "2": "9.0E7",
         "3": "57.834787",
         "4": "2009-12-23",
         "5": "5.24028679E8",
         "6": "128",
         "7": "7.0",
         "8": "5766",
         "9": "2025-05-11 19:47:34.629792"
        },
        {
         "0": "10664",
         "1": "[REC]²",
         "10": "Developer",
         "11": "2009",
         "2": "5600000.0",
         "3": "22.341462",
         "4": "2009-09-15",
         "5": "1.846968E7",
         "6": "85",
         "7": "6.4",
         "8": "489",
         "9": "2025-05-11 19:47:34.629792"
        },
        {
         "0": "11156",
         "1": "Coco avant Chanel",
         "10": "Developer",
         "11": "2009",
         "2": "2000000.0",
         "3": "8.426589",
         "4": "2009-04-22",
         "5": "2600000.0",
         "6": "110",
         "7": "6.6",
         "8": "246",
         "9": "2025-05-11 19:47:34.629792"
        },
        {
         "0": "11322",
         "1": "Public Enemies",
         "10": "Developer",
         "11": "2009",
         "2": "8.0E7",
         "3": "33.691694",
         "4": "2009-07-01",
         "5": "2.1410462E8",
         "6": "140",
         "7": "6.5",
         "8": "1344",
         "9": "2025-05-11 19:47:34.629792"
        },
        {
         "0": "11323",
         "1": "The Informant!",
         "10": "Developer",
         "11": "2009",
         "2": "2.2E7",
         "3": "17.772518",
         "4": "2009-09-18",
         "5": "3.5424826E7",
         "6": "108",
         "7": "6.0",
         "8": "301",
         "9": "2025-05-11 19:47:34.629792"
        },
        {
         "0": "11699",
         "1": "The Bad Lieutenant: Port of Call - New Orleans",
         "10": "Developer",
         "11": "2009",
         "2": "2.5E7",
         "3": "17.339852",
         "4": "2009-09-11",
         "5": "1.0589102E7",
         "6": "122",
         "7": "6.0",
         "8": "326",
         "9": "2025-05-11 19:47:34.629792"
        },
        {
         "0": "12244",
         "1": "9",
         "10": "Developer",
         "11": "2009",
         "2": "3.0E7",
         "3": "55.806402",
         "4": "2009-08-19",
         "5": "4.8428063E7",
         "6": "79",
         "7": "6.6",
         "8": "1262",
         "9": "2025-05-11 19:47:34.629792"
        },
        {
         "0": "12403",
         "1": "A Perfect Getaway",
         "10": "Developer",
         "11": "2009",
         "2": "1.4E7",
         "3": "20.792603",
         "4": "2009-06-08",
         "5": "2.2852638E7",
         "6": "98",
         "7": "6.2",
         "8": "351",
         "9": "2025-05-11 19:47:34.629792"
        },
        {
         "0": "12404",
         "1": "Me and Orson Welles",
         "10": "Developer",
         "11": "2009",
         "2": "2.5E7",
         "3": "3.593165",
         "4": "2009-11-25",
         "5": "2336172.0",
         "6": "114",
         "7": "6.6",
         "8": "49",
         "9": "2025-05-11 19:47:34.629792"
        },
        {
         "0": "12437",
         "1": "Underworld: Rise of the Lycans",
         "10": "Developer",
         "11": "2009",
         "2": "3.5E7",
         "3": "51.927471",
         "4": "2009-01-22",
         "5": "9.1353501E7",
         "6": "92",
         "7": "6.2",
         "8": "1428",
         "9": "2025-05-11 19:47:34.629792"
        },
        {
         "0": "12569",
         "1": "Extract",
         "10": "Developer",
         "11": "2009",
         "2": "8000000.0",
         "3": "14.652342",
         "4": "2009-09-03",
         "5": "1.0848783E7",
         "6": "92",
         "7": "5.7",
         "8": "192",
         "9": "2025-05-11 19:47:34.629792"
        },
        {
         "0": "12573",
         "1": "A Serious Man",
         "10": "Developer",
         "11": "2009",
         "2": "7000000.0",
         "3": "23.612409",
         "4": "2009-10-02",
         "5": "3.1430334E7",
         "6": "105",
         "7": "6.6",
         "8": "483",
         "9": "2025-05-11 19:47:34.629792"
        },
        {
         "0": "13183",
         "1": "Watchmen",
         "10": "Developer",
         "11": "2009",
         "2": "1.3E8",
         "3": "64.798873",
         "4": "2009-03-05",
         "5": "1.85258983E8",
         "6": "163",
         "7": "7.0",
         "8": "2811",
         "9": "2025-05-11 19:47:34.629792"
        },
        {
         "0": "13448",
         "1": "Angels & Demons",
         "10": "Developer",
         "11": "2009",
         "2": "1.5E8",
         "3": "67.447636",
         "4": "2009-05-13",
         "5": "3.56613439E8",
         "6": "138",
         "7": "6.5",
         "8": "2129",
         "9": "2025-05-11 19:47:34.629792"
        },
        {
         "0": "13475",
         "1": "Star Trek",
         "10": "Developer",
         "11": "2009",
         "2": "1.5E8",
         "3": "73.616808",
         "4": "2009-05-06",
         "5": "3.85680446E8",
         "6": "127",
         "7": "7.4",
         "8": "4518",
         "9": "2025-05-11 19:47:34.629792"
        },
        {
         "0": "13576",
         "1": "Michael Jackson's This Is It",
         "10": "Developer",
         "11": "2009",
         "2": "6.0E7",
         "3": "15.798622",
         "4": "2009-10-28",
         "5": "7.5E7",
         "6": "111",
         "7": "6.7",
         "8": "247",
         "9": "2025-05-11 19:47:34.629792"
        },
        {
         "0": "13788",
         "1": "The Unborn",
         "10": "Developer",
         "11": "2009",
         "2": "1.6E7",
         "3": "15.788784",
         "4": "2009-01-09",
         "5": "7.651405E7",
         "6": "87",
         "7": "4.8",
         "8": "365",
         "9": "2025-05-11 19:47:34.629792"
        },
        {
         "0": "13811",
         "1": "Knowing",
         "10": "Developer",
         "11": "2009",
         "2": "5.0E7",
         "3": "32.693093",
         "4": "2009-03-19",
         "5": "1.55446362E8",
         "6": "121",
         "7": "5.9",
         "8": "1486",
         "9": "2025-05-11 19:47:34.629792"
        },
        {
         "0": "13836",
         "1": "Race to Witch Mountain",
         "10": "Developer",
         "11": "2009",
         "2": "5.0E7",
         "3": "23.935053",
         "4": "2009-03-12",
         "5": "1.06303988E8",
         "6": "98",
         "7": "5.5",
         "8": "509",
         "9": "2025-05-11 19:47:34.629792"
        },
        {
         "0": "14160",
         "1": "Up",
         "10": "Developer",
         "11": "2009",
         "2": "1.75E8",
         "3": "92.201962",
         "4": "2009-05-13",
         "5": "7.35099082E8",
         "6": "96",
         "7": "7.7",
         "8": "6870",
         "9": "2025-05-11 19:47:34.629792"
        },
        {
         "0": "14164",
         "1": "Dragonball Evolution",
         "10": "Developer",
         "11": "2009",
         "2": "1.0E8",
         "3": "21.677732",
         "4": "2009-04-01",
         "5": "1.25E8",
         "6": "85",
         "7": "2.9",
         "8": "462",
         "9": "2025-05-11 19:47:34.629792"
        },
        {
         "0": "14435",
         "1": "My Bloody Valentine",
         "10": "Developer",
         "11": "2009",
         "2": "1.5E7",
         "3": "13.706357",
         "4": "2009-01-16",
         "5": "1.00734718E8",
         "6": "101",
         "7": "5.3",
         "8": "299",
         "9": "2025-05-11 19:47:34.629792"
        },
        {
         "0": "14451",
         "1": "Død snø",
         "10": "Developer",
         "11": "2009",
         "2": "800000.0",
         "3": "11.205726",
         "4": "2009-01-09",
         "5": "1984662.0",
         "6": "91",
         "7": "6.1",
         "8": "311",
         "9": "2025-05-11 19:47:34.629792"
        },
        {
         "0": "14536",
         "1": "New in Town",
         "10": "Developer",
         "11": "2009",
         "2": "8000000.0",
         "3": "13.987772",
         "4": "2009-01-30",
         "5": "2.9010817E7",
         "6": "97",
         "7": "5.2",
         "8": "99",
         "9": "2025-05-11 19:47:34.629792"
        },
        {
         "0": "14560",
         "1": "Paul Blart: Mall Cop",
         "10": "Developer",
         "11": "2009",
         "2": "2.6E7",
         "3": "31.250383",
         "4": "2009-01-15",
         "5": "1.83293131E8",
         "6": "91",
         "7": "5.2",
         "8": "788",
         "9": "2025-05-11 19:47:34.629792"
        },
        {
         "0": "14834",
         "1": "Not Easily Broken",
         "10": "Developer",
         "11": "2009",
         "2": "2000000.0",
         "3": "5.1299",
         "4": "2009-01-09",
         "5": "2600000.0",
         "6": "99",
         "7": "6.3",
         "8": "9",
         "9": "2025-05-11 19:47:34.629792"
        },
        {
         "0": "14836",
         "1": "Coraline",
         "10": "Developer",
         "11": "2009",
         "2": "6.0E7",
         "3": "51.146047",
         "4": "2009-02-05",
         "5": "1.24596398E8",
         "6": "100",
         "7": "7.3",
         "8": "1386",
         "9": "2025-05-11 19:47:34.629792"
        },
        {
         "0": "14849",
         "1": "Dead Like Me: Life After Death",
         "10": "Developer",
         "11": "2009",
         "2": "2000000.0",
         "3": "7.864905",
         "4": "2009-02-17",
         "5": "2600000.0",
         "6": "87",
         "7": "5.8",
         "8": "65",
         "9": "2025-05-11 19:47:34.629792"
        },
        {
         "0": "14869",
         "1": "G.I. Joe: The Rise of Cobra",
         "10": "Developer",
         "11": "2009",
         "2": "1.75E8",
         "3": "32.852443",
         "4": "2009-08-04",
         "5": "3.02469017E8",
         "6": "118",
         "7": "5.6",
         "8": "1962",
         "9": "2025-05-11 19:47:34.629792"
        },
        {
         "0": "15092",
         "1": "Crank: High Voltage",
         "10": "Developer",
         "11": "2009",
         "2": "2.0E7",
         "3": "35.542809",
         "4": "2009-04-16",
         "5": "3.4560577E7",
         "6": "96",
         "7": "5.9",
         "8": "861",
         "9": "2025-05-11 19:47:34.629792"
        },
        {
         "0": "15189",
         "1": "Hotel for Dogs",
         "10": "Developer",
         "11": "2009",
         "2": "3.5E7",
         "3": "13.25753",
         "4": "2009-01-16",
         "5": "7.303446E7",
         "6": "100",
         "7": "5.7",
         "8": "202",
         "9": "2025-05-11 19:47:34.629792"
        },
        {
         "0": "15268",
         "1": "Street Fighter: The Legend of Chun-Li",
         "10": "Developer",
         "11": "2009",
         "2": "5.0E7",
         "3": "8.139676",
         "4": "2009-02-27",
         "5": "1.2764201E7",
         "6": "97",
         "7": "3.9",
         "8": "112",
         "9": "2025-05-11 19:47:34.629792"
        },
        {
         "0": "15512",
         "1": "Monsters vs Aliens",
         "10": "Developer",
         "11": "2009",
         "2": "1.75E8",
         "3": "36.167578",
         "4": "2009-03-19",
         "5": "3.8150987E8",
         "6": "94",
         "7": "6.0",
         "8": "1423",
         "9": "2025-05-11 19:47:34.629792"
        },
        {
         "0": "15670",
         "1": "Madea Goes to Jail",
         "10": "Developer",
         "11": "2009",
         "2": "2000000.0",
         "3": "3.107371",
         "4": "2009-02-16",
         "5": "2600000.0",
         "6": "103",
         "7": "6.4",
         "8": "52",
         "9": "2025-05-11 19:47:34.629792"
        },
        {
         "0": "16523",
         "1": "Where the Wild Things Are",
         "10": "Developer",
         "11": "2009",
         "2": "1.0E8",
         "3": "31.586215",
         "4": "2009-10-16",
         "5": "1.00086793E8",
         "6": "101",
         "7": "6.4",
         "8": "572",
         "9": "2025-05-11 19:47:34.629792"
        },
        {
         "0": "16538",
         "1": "I Love You, Man",
         "10": "Developer",
         "11": "2009",
         "2": "4.1E7",
         "3": "25.391899",
         "4": "2009-03-20",
         "5": "9.1636986E7",
         "6": "105",
         "7": "6.5",
         "8": "515",
         "9": "2025-05-11 19:47:34.629792"
        },
        {
         "0": "16558",
         "1": "Duplicity",
         "10": "Developer",
         "11": "2009",
         "2": "7.8146652E7",
         "3": "13.630049",
         "4": "2009-03-19",
         "5": "6.0E7",
         "6": "125",
         "7": "5.7",
         "8": "201",
         "9": "2025-05-11 19:47:34.629792"
        },
        {
         "0": "16577",
         "1": "Astro Boy",
         "10": "Developer",
         "11": "2009",
         "2": "6.5E7",
         "3": "24.857079",
         "4": "2009-10-15",
         "5": "4.4091067E7",
         "6": "94",
         "7": "6.1",
         "8": "409",
         "9": "2025-05-11 19:47:34.629792"
        },
        {
         "0": "16614",
         "1": "Adventureland",
         "10": "Developer",
         "11": "2009",
         "2": "9500000.0",
         "3": "19.978021",
         "4": "2009-04-03",
         "5": "1.7164377E7",
         "6": "107",
         "7": "6.4",
         "8": "737",
         "9": "2025-05-11 19:47:34.629792"
        },
        {
         "0": "16866",
         "1": "Planet 51",
         "10": "Developer",
         "11": "2009",
         "2": "7.0E7",
         "3": "23.661071",
         "4": "2009-11-19",
         "5": "1.04945765E8",
         "6": "91",
         "7": "5.6",
         "8": "556",
         "9": "2025-05-11 19:47:34.629792"
        },
        {
         "0": "16871",
         "1": "Drag Me to Hell",
         "10": "Developer",
         "11": "2009",
         "2": "3.0E7",
         "3": "45.083509",
         "4": "2009-03-15",
         "5": "9.0810892E7",
         "6": "99",
         "7": "6.2",
         "8": "966",
         "9": "2025-05-11 19:47:34.629792"
        },
        {
         "0": "16991",
         "1": "Observe and Report",
         "10": "Developer",
         "11": "2009",
         "2": "2000000.0",
         "3": "10.529143",
         "4": "2009-04-10",
         "5": "2600000.0",
         "6": "86",
         "7": "5.6",
         "8": "225",
         "9": "2025-05-11 19:47:34.629792"
        },
        {
         "0": "16995",
         "1": "State of Play",
         "10": "Developer",
         "11": "2009",
         "2": "6.0E7",
         "3": "21.685719",
         "4": "2009-04-17",
         "5": "8.7784194E7",
         "6": "127",
         "7": "6.7",
         "8": "484",
         "9": "2025-05-11 19:47:34.629792"
        },
        {
         "0": "17134",
         "1": "12 Rounds",
         "10": "Developer",
         "11": "2009",
         "2": "2.0E7",
         "3": "15.66135",
         "4": "2009-03-19",
         "5": "1.7280326E7",
         "6": "108",
         "7": "5.7",
         "8": "220",
         "9": "2025-05-11 19:47:34.629792"
        },
        {
         "0": "17332",
         "1": "The Soloist",
         "10": "Developer",
         "11": "2009",
         "2": "6.0E7",
         "3": "17.299333",
         "4": "2009-04-24",
         "5": "3.1720158E7",
         "6": "109",
         "7": "6.6",
         "8": "234",
         "9": "2025-05-11 19:47:34.629792"
        },
        {
         "0": "17431",
         "1": "Moon",
         "10": "Developer",
         "11": "2009",
         "2": "5000000.0",
         "3": "46.114184",
         "4": "2009-06-12",
         "5": "9760104.0",
         "6": "97",
         "7": "7.6",
         "8": "1794",
         "9": "2025-05-11 19:47:34.629792"
        },
        {
         "0": "17577",
         "1": "The Devil's Tomb",
         "10": "Developer",
         "11": "2009",
         "2": "1.0E7",
         "3": "5.099472",
         "4": "2009-05-26",
         "5": "1.25E7",
         "6": "90",
         "7": "4.0",
         "8": "53",
         "9": "2025-05-11 19:47:34.629792"
        },
        {
         "0": "17610",
         "1": "Year One",
         "10": "Developer",
         "11": "2009",
         "2": "6.0E7",
         "3": "25.293538",
         "4": "2009-06-18",
         "5": "6.23579E7",
         "6": "97",
         "7": "4.6",
         "8": "524",
         "9": "2025-05-11 19:47:34.629792"
        },
        {
         "0": "17654",
         "1": "District 9",
         "10": "Developer",
         "11": "2009",
         "2": "3.0E7",
         "3": "63.13678",
         "4": "2009-08-05",
         "5": "2.10819611E8",
         "6": "112",
         "7": "7.3",
         "8": "3382",
         "9": "2025-05-11 19:47:34.629792"
        },
        {
         "0": "17979",
         "1": "A Christmas Carol",
         "10": "Developer",
         "11": "2009",
         "2": "2.0E8",
         "3": "39.744242",
         "4": "2009-11-04",
         "5": "3.25233863E8",
         "6": "96",
         "7": "6.6",
         "8": "1095",
         "9": "2025-05-11 19:47:34.629792"
        },
        {
         "0": "18065",
         "1": "Next Day Air",
         "10": "Developer",
         "11": "2009",
         "2": "2000000.0",
         "3": "2.747402",
         "4": "2009-02-06",
         "5": "2600000.0",
         "6": "84",
         "7": "5.3",
         "8": "36",
         "9": "2025-05-11 19:47:34.629792"
        },
        {
         "0": "18126",
         "1": "Hannah Montana: The Movie",
         "10": "Developer",
         "11": "2009",
         "2": "3.5E7",
         "3": "13.788422",
         "4": "2009-04-10",
         "5": "1.55545279E8",
         "6": "102",
         "7": "6.0",
         "8": "449",
         "9": "2025-05-11 19:47:34.629792"
        },
        {
         "0": "18162",
         "1": "Land of the Lost",
         "10": "Developer",
         "11": "2009",
         "2": "1.0E8",
         "3": "19.38841",
         "4": "2009-06-05",
         "5": "6.8688831E7",
         "6": "102",
         "7": "5.3",
         "8": "381",
         "9": "2025-05-11 19:47:34.629792"
        },
        {
         "0": "18238",
         "1": "Lesbian Vampire Killers",
         "10": "Developer",
         "11": "2009",
         "2": "2000000.0",
         "3": "6.632891",
         "4": "2009-03-16",
         "5": "2600000.0",
         "6": "86",
         "7": "5.3",
         "8": "124",
         "9": "2025-05-11 19:47:34.629792"
        },
        {
         "0": "18239",
         "1": "The Twilight Saga: New Moon",
         "10": "Developer",
         "11": "2009",
         "2": "5.0E7",
         "3": "94.815867",
         "4": "2009-03-15",
         "5": "7.09827462E8",
         "6": "130",
         "7": "5.6",
         "8": "2436",
         "9": "2025-05-11 19:47:34.629792"
        },
        {
         "0": "18240",
         "1": "The Proposal",
         "10": "Developer",
         "11": "2009",
         "2": "4.0E7",
         "3": "36.238968",
         "4": "2009-06-01",
         "5": "3.17375031E8",
         "6": "108",
         "7": "6.7",
         "8": "1804",
         "9": "2025-05-11 19:47:34.629792"
        },
        {
         "0": "18320",
         "1": "The Young Victoria",
         "10": "Developer",
         "11": "2009",
         "2": "3.5E7",
         "3": "16.343317",
         "4": "2009-03-04",
         "5": "2.7409889E7",
         "6": "105",
         "7": "7.0",
         "8": "322",
         "9": "2025-05-11 19:47:34.629792"
        },
        {
         "0": "18360",
         "1": "Night at the Museum: Battle of the Smithsonian",
         "10": "Developer",
         "11": "2009",
         "2": "1.5E8",
         "3": "81.781591",
         "4": "2009-05-20",
         "5": "4.1310617E8",
         "6": "105",
         "7": "5.9",
         "8": "1971",
         "9": "2025-05-11 19:47:34.629792"
        },
        {
         "0": "18405",
         "1": "The Last House on the Left",
         "10": "Developer",
         "11": "2009",
         "2": "1.5E7",
         "3": "19.760383",
         "4": "2009-03-13",
         "5": "3.2721635E7",
         "6": "110",
         "7": "6.2",
         "8": "440",
         "9": "2025-05-11 19:47:34.629792"
        },
        {
         "0": "18480",
         "1": "Brüno",
         "10": "Developer",
         "11": "2009",
         "2": "4.2E7",
         "3": "16.122168",
         "4": "2009-07-08",
         "5": "5.25E7",
         "6": "83",
         "7": "5.4",
         "8": "518",
         "9": "2025-05-11 19:47:34.629792"
        },
        {
         "0": "18487",
         "1": "The Taking of Pelham 1 2 3",
         "10": "Developer",
         "11": "2009",
         "2": "1.0E8",
         "3": "40.597856",
         "4": "2009-06-11",
         "5": "1.50166126E8",
         "6": "106",
         "7": "6.2",
         "8": "954",
         "9": "2025-05-11 19:47:34.629792"
        },
        {
         "0": "18530",
         "1": "The Cry of the Owl",
         "10": "Developer",
         "11": "2009",
         "2": "1.15E7",
         "3": "4.75919",
         "4": "2009-02-07",
         "5": "1.4375E7",
         "6": "101",
         "7": "5.5",
         "8": "29",
         "9": "2025-05-11 19:47:34.629792"
        },
        {
         "0": "18785",
         "1": "The Hangover",
         "10": "Developer",
         "11": "2009",
         "2": "3.5E7",
         "3": "82.21166",
         "4": "2009-06-05",
         "5": "4.59270619E8",
         "6": "100",
         "7": "7.2",
         "8": "6173",
         "9": "2025-05-11 19:47:34.629792"
        },
        {
         "0": "18947",
         "1": "The Boat That Rocked",
         "10": "Developer",
         "11": "2009",
         "2": "5.0E7",
         "3": "31.02233",
         "4": "2009-04-01",
         "5": "3.6348784E7",
         "6": "116",
         "7": "7.2",
         "8": "666",
         "9": "2025-05-11 19:47:34.629792"
        },
        {
         "0": "19255",
         "1": "Away We Go",
         "10": "Developer",
         "11": "2009",
         "2": "1.7E7",
         "3": "10.13559",
         "4": "2009-06-05",
         "5": "1.4899417E7",
         "6": "98",
         "7": "6.7",
         "8": "189",
         "9": "2025-05-11 19:47:34.629792"
        },
        {
         "0": "19265",
         "1": "Whatever Works",
         "10": "Developer",
         "11": "2009",
         "2": "1.5E7",
         "3": "21.857387",
         "4": "2009-06-19",
         "5": "3.5097815E7",
         "6": "92",
         "7": "6.8",
         "8": "350",
         "9": "2025-05-11 19:47:34.629792"
        },
        {
         "0": "19556",
         "1": "Miss March",
         "10": "Developer",
         "11": "2009",
         "2": "2000000.0",
         "3": "9.371534",
         "4": "2009-03-13",
         "5": "2600000.0",
         "6": "89",
         "7": "5.4",
         "8": "77",
         "9": "2025-05-11 19:47:34.629792"
        },
        {
         "0": "19585",
         "1": "G-Force",
         "10": "Developer",
         "11": "2009",
         "2": "1.5E8",
         "3": "26.710398",
         "4": "2009-07-21",
         "5": "2.92817841E8",
         "6": "88",
         "7": "5.1",
         "8": "510",
         "9": "2025-05-11 19:47:34.629792"
        },
        {
         "0": "19615",
         "1": "Flying By",
         "10": "Developer",
         "11": "2009",
         "2": "2000000.0",
         "3": "1.546169",
         "4": "2009-01-01",
         "5": "2600000.0",
         "6": "95",
         "7": "7.0",
         "8": "2",
         "9": "2025-05-11 19:47:34.629792"
        },
        {
         "0": "19724",
         "1": "Imagine That",
         "10": "Developer",
         "11": "2009",
         "2": "5.5E7",
         "3": "12.340384",
         "4": "2009-06-19",
         "5": "6.875E7",
         "6": "107",
         "7": "5.7",
         "8": "134",
         "9": "2025-05-11 19:47:34.629792"
        },
        {
         "0": "19840",
         "1": "I Love You, Beth Cooper",
         "10": "Developer",
         "11": "2009",
         "2": "1.8E7",
         "3": "14.15192",
         "4": "2009-07-10",
         "5": "2.25E7",
         "6": "102",
         "7": "5.1",
         "8": "197",
         "9": "2025-05-11 19:47:34.629792"
        },
        {
         "0": "19898",
         "1": "Pandorum",
         "10": "Developer",
         "11": "2009",
         "2": "3.3E7",
         "3": "28.353517",
         "4": "2009-09-08",
         "5": "2.0645327E7",
         "6": "108",
         "7": "6.5",
         "8": "774",
         "9": "2025-05-11 19:47:34.629792"
        },
        {
         "0": "19899",
         "1": "Couples Retreat",
         "10": "Developer",
         "11": "2009",
         "2": "7.0E7",
         "3": "26.676487",
         "4": "2009-09-19",
         "5": "1.7184484E8",
         "6": "113",
         "7": "5.3",
         "8": "588",
         "9": "2025-05-11 19:47:34.629792"
        },
        {
         "0": "19901",
         "1": "Daybreakers",
         "10": "Developer",
         "11": "2009",
         "2": "2.0E7",
         "3": "28.019226",
         "4": "2009-01-06",
         "5": "5.1416464E7",
         "6": "98",
         "7": "6.0",
         "8": "634",
         "9": "2025-05-11 19:47:34.629792"
        },
        {
         "0": "19904",
         "1": "The Stepfather",
         "10": "Developer",
         "11": "2009",
         "2": "2000000.0",
         "3": "7.924428",
         "4": "2009-10-16",
         "5": "2600000.0",
         "6": "101",
         "7": "5.4",
         "8": "167",
         "9": "2025-05-11 19:47:34.629792"
        },
        {
         "0": "19905",
         "1": "The Goods: Live Hard, Sell Hard",
         "10": "Developer",
         "11": "2009",
         "2": "1.0E7",
         "3": "3.352702",
         "4": "2009-08-14",
         "5": "1.25E7",
         "6": "90",
         "7": "5.4",
         "8": "58",
         "9": "2025-05-11 19:47:34.629792"
        },
        {
         "0": "19908",
         "1": "Zombieland",
         "10": "Developer",
         "11": "2009",
         "2": "2.36E7",
         "3": "57.300674",
         "4": "2009-10-07",
         "5": "1.02391382E8",
         "6": "88",
         "7": "7.2",
         "8": "3550",
         "9": "2025-05-11 19:47:34.629792"
        },
        {
         "0": "19912",
         "1": "The Final Destination",
         "10": "Developer",
         "11": "2009",
         "2": "4.0E7",
         "3": "32.478077",
         "4": "2009-08-26",
         "5": "1.86167139E8",
         "6": "82",
         "7": "5.4",
         "8": "831",
         "9": "2025-05-11 19:47:34.629792"
        },
        {
         "0": "19913",
         "1": "(500) Days of Summer",
         "10": "Developer",
         "11": "2009",
         "2": "7500000.0",
         "3": "45.610993",
         "4": "2009-07-17",
         "5": "6.0722734E7",
         "6": "95",
         "7": "7.2",
         "8": "2904",
         "9": "2025-05-11 19:47:34.629792"
        },
        {
         "0": "19959",
         "1": "Surrogates",
         "10": "Developer",
         "11": "2009",
         "2": "8.0E7",
         "3": "36.664991",
         "4": "2009-09-24",
         "5": "1.22444772E8",
         "6": "89",
         "7": "5.9",
         "8": "1195",
         "9": "2025-05-11 19:47:34.629792"
        },
        {
         "0": "19994",
         "1": "Jennifer's Body",
         "10": "Developer",
         "11": "2009",
         "2": "1.6E7",
         "3": "32.257414",
         "4": "2009-09-18",
         "5": "3.1556061E7",
         "6": "100",
         "7": "5.3",
         "8": "837",
         "9": "2025-05-11 19:47:34.629792"
        },
        {
         "0": "19995",
         "1": "Avatar",
         "10": "Developer",
         "11": "2009",
         "2": "2.37E8",
         "3": "150.437577",
         "4": "2009-12-10",
         "5": "2.787965087E9",
         "6": "162",
         "7": "7.2",
         "8": "11800",
         "9": "2025-05-11 19:47:34.629792"
        },
        {
         "0": "20178",
         "1": "World's Greatest Dad",
         "10": "Developer",
         "11": "2009",
         "2": "1.0E7",
         "3": "9.805551",
         "4": "2009-08-20",
         "5": "295750.0",
         "6": "99",
         "7": "6.5",
         "8": "177",
         "9": "2025-05-11 19:47:34.629792"
        },
        {
         "0": "20766",
         "1": "The Road",
         "10": "Developer",
         "11": "2009",
         "2": "3.2E7",
         "3": "41.075532",
         "4": "2009-11-25",
         "5": "2.7635305E7",
         "6": "111",
         "7": "6.8",
         "8": "1087",
         "9": "2025-05-11 19:47:34.629792"
        },
        {
         "0": "20829",
         "1": "Funny People",
         "10": "Developer",
         "11": "2009",
         "2": "7.5E7",
         "3": "20.199057",
         "4": "2009-07-31",
         "5": "6.1458982E7",
         "6": "146",
         "7": "5.7",
         "8": "390",
         "9": "2025-05-11 19:47:34.629792"
        },
        {
         "0": "20856",
         "1": "Aliens in the Attic",
         "10": "Developer",
         "11": "2009",
         "2": "4.5E7",
         "3": "13.707183",
         "4": "2009-07-31",
         "5": "5.7881056E7",
         "6": "86",
         "7": "5.3",
         "8": "244",
         "9": "2025-05-11 19:47:34.629792"
        },
        {
         "0": "20943",
         "1": "The Ugly Truth",
         "10": "Developer",
         "11": "2009",
         "2": "3.8E7",
         "3": "22.332927",
         "4": "2009-07-24",
         "5": "2.05298907E8",
         "6": "96",
         "7": "6.4",
         "8": "972",
         "9": "2025-05-11 19:47:34.629792"
        },
        {
         "0": "21208",
         "1": "Orphan",
         "10": "Developer",
         "11": "2009",
         "2": "2.0E7",
         "3": "29.295801",
         "4": "2009-07-24",
         "5": "4.1596251E7",
         "6": "123",
         "7": "6.7",
         "8": "1261",
         "9": "2025-05-11 19:47:34.629792"
        },
        {
         "0": "21283",
         "1": "Steppin: The Movie",
         "10": "Developer",
         "11": "2009",
         "2": "2000000.0",
         "3": "0.328498",
         "4": "2009-05-19",
         "5": "2600000.0",
         "6": "85",
         "7": "5.0",
         "8": "4",
         "9": "2025-05-11 19:47:34.629792"
        },
        {
         "0": "21641",
         "1": "The Damned United",
         "10": "Developer",
         "11": "2009",
         "2": "1.0E7",
         "3": "13.409125",
         "4": "2009-03-27",
         "5": "1.25E7",
         "6": "97",
         "7": "7.2",
         "8": "152",
         "9": "2025-05-11 19:47:34.629792"
        },
        {
         "0": "21724",
         "1": "Dance Flick",
         "10": "Developer",
         "11": "2009",
         "2": "2000000.0",
         "3": "7.326034",
         "4": "2009-05-22",
         "5": "2600000.0",
         "6": "83",
         "7": "4.7",
         "8": "71",
         "9": "2025-05-11 19:47:34.629792"
        },
        {
         "0": "22051",
         "1": "Adam",
         "10": "Developer",
         "11": "2009",
         "2": "2000000.0",
         "3": "8.308442",
         "4": "2009-07-29",
         "5": "2600000.0",
         "6": "99",
         "7": "6.9",
         "8": "150",
         "9": "2025-05-11 19:47:34.629792"
        },
        {
         "0": "22074",
         "1": "Capitalism: A Love Story",
         "10": "Developer",
         "11": "2009",
         "2": "2.0E7",
         "3": "10.50098",
         "4": "2009-09-06",
         "5": "1.7436509E7",
         "6": "120",
         "7": "7.0",
         "8": "167",
         "9": "2025-05-11 19:47:34.629792"
        },
        {
         "0": "22215",
         "1": "Chéri",
         "10": "Developer",
         "11": "2009",
         "2": "2.3E7",
         "3": "5.494047",
         "4": "2009-02-10",
         "5": "9366227.0",
         "6": "86",
         "7": "5.9",
         "8": "56",
         "9": "2025-05-11 19:47:34.629792"
        },
        {
         "0": "22327",
         "1": "Youth in Revolt",
         "10": "Developer",
         "11": "2009",
         "2": "1.8E7",
         "3": "13.462544",
         "4": "2009-09-11",
         "5": "2.25E7",
         "6": "87",
         "7": "5.9",
         "8": "319",
         "9": "2025-05-11 19:47:34.629792"
        },
        {
         "0": "22787",
         "1": "Whiteout",
         "10": "Developer",
         "11": "2009",
         "2": "4.0E7",
         "3": "14.818718",
         "4": "2009-09-09",
         "5": "1.2206028E7",
         "6": "101",
         "7": "5.3",
         "8": "220",
         "9": "2025-05-11 19:47:34.629792"
        },
        {
         "0": "22794",
         "1": "Cloudy with a Chance of Meatballs",
         "10": "Developer",
         "11": "2009",
         "2": "1.0E8",
         "3": "46.781182",
         "4": "2009-09-17",
         "5": "2.42988466E8",
         "6": "90",
         "7": "6.5",
         "8": "1747",
         "9": "2025-05-11 19:47:34.629792"
        },
        {
         "0": "22798",
         "1": "Whip It",
         "10": "Developer",
         "11": "2009",
         "2": "1.5E7",
         "3": "20.05902",
         "4": "2009-09-13",
         "5": "1.6633035E7",
         "6": "111",
         "7": "6.7",
         "8": "357",
         "9": "2025-05-11 19:47:34.629792"
        },
        {
         "0": "22803",
         "1": "Law Abiding Citizen",
         "10": "Developer",
         "11": "2009",
         "2": "5.3E7",
         "3": "49.593978",
         "4": "2009-10-15",
         "5": "1.26690726E8",
         "6": "109",
         "7": "7.2",
         "8": "1486",
         "9": "2025-05-11 19:47:34.629792"
        },
        {
         "0": "22804",
         "1": "Saw VI",
         "10": "Developer",
         "11": "2009",
         "2": "1.1E7",
         "3": "31.900899",
         "4": "2009-10-22",
         "5": "6.8233629E7",
         "6": "90",
         "7": "6.0",
         "8": "722",
         "9": "2025-05-11 19:47:34.629792"
        },
        {
         "0": "22805",
         "1": "Motherhood",
         "10": "Developer",
         "11": "2009",
         "2": "2000000.0",
         "3": "10.955567",
         "4": "2009-01-21",
         "5": "2600000.0",
         "6": "90",
         "7": "4.7",
         "8": "44",
         "9": "2025-05-11 19:47:34.629792"
        },
        {
         "0": "22820",
         "1": "Gentlemen Broncos",
         "10": "Developer",
         "11": "2009",
         "2": "1.0E7",
         "3": "3.193777",
         "4": "2009-09-30",
         "5": "1.25E7",
         "6": "89",
         "7": "6.2",
         "8": "51",
         "9": "2025-05-11 19:47:34.629792"
        },
        {
         "0": "22821",
         "1": "The Boondock Saints II: All Saints Day",
         "10": "Developer",
         "11": "2009",
         "2": "8000000.0",
         "3": "13.517017",
         "4": "2009-11-24",
         "5": "1.0629321E7",
         "6": "118",
         "7": "5.9",
         "8": "261",
         "9": "2025-05-11 19:47:34.629792"
        },
        {
         "0": "22824",
         "1": "The Fourth Kind",
         "10": "Developer",
         "11": "2009",
         "2": "1.0E7",
         "3": "22.888173",
         "4": "2009-11-06",
         "5": "4.2333295E7",
         "6": "98",
         "7": "5.8",
         "8": "441",
         "9": "2025-05-11 19:47:34.629792"
        },
        {
         "0": "22825",
         "1": "The Box",
         "10": "Developer",
         "11": "2009",
         "2": "3.0E7",
         "3": "21.606001",
         "4": "2009-09-17",
         "5": "3.3333531E7",
         "6": "115",
         "7": "5.4",
         "8": "597",
         "9": "2025-05-11 19:47:34.629792"
        },
        {
         "0": "22832",
         "1": "Ninja Assassin",
         "10": "Developer",
         "11": "2009",
         "2": "4.0E7",
         "3": "19.085403",
         "4": "2009-09-29",
         "5": "6.0462347E7",
         "6": "99",
         "7": "6.2",
         "8": "371",
         "9": "2025-05-11 19:47:34.629792"
        },
        {
         "0": "22881",
         "1": "The Blind Side",
         "10": "Developer",
         "11": "2009",
         "2": "2.9E7",
         "3": "25.767395",
         "4": "2009-11-20",
         "5": "3.09208309E8",
         "6": "129",
         "7": "7.2",
         "8": "1597",
         "9": "2025-05-11 19:47:34.629792"
        },
        {
         "0": "22897",
         "1": "It's Complicated",
         "10": "Developer",
         "11": "2009",
         "2": "8.5E7",
         "3": "16.479851",
         "4": "2009-12-23",
         "5": "2.19103655E8",
         "6": "121",
         "7": "6.2",
         "8": "360",
         "9": "2025-05-11 19:47:34.629792"
        },
        {
         "0": "22949",
         "1": "Old Dogs",
         "10": "Developer",
         "11": "2009",
         "2": "3.5E7",
         "3": "13.707843",
         "4": "2009-11-24",
         "5": "9.221931E7",
         "6": "88",
         "7": "5.2",
         "8": "210",
         "9": "2025-05-11 19:47:34.629792"
        },
        {
         "0": "22954",
         "1": "Invictus",
         "10": "Developer",
         "11": "2009",
         "2": "6.0E7",
         "3": "23.85119",
         "4": "2009-12-10",
         "5": "1.22233971E8",
         "6": "134",
         "7": "7.0",
         "8": "1125",
         "9": "2025-05-11 19:47:34.629792"
        },
        {
         "0": "23049",
         "1": "My Life in Ruins",
         "10": "Developer",
         "11": "2009",
         "2": "1.7E7",
         "3": "5.787891",
         "4": "2009-02-06",
         "5": "2.0455276E7",
         "6": "95",
         "7": "5.6",
         "8": "101",
         "9": "2025-05-11 19:47:34.629792"
        },
        {
         "0": "23082",
         "1": "The Invention of Lying",
         "10": "Developer",
         "11": "2009",
         "2": "1.85E7",
         "3": "16.665841",
         "4": "2009-09-13",
         "5": "3.1912793E7",
         "6": "100",
         "7": "6.0",
         "8": "518",
         "9": "2025-05-11 19:47:34.629792"
        },
        {
         "0": "23367",
         "1": "Bandslam",
         "10": "Developer",
         "11": "2009",
         "2": "2.0E7",
         "3": "7.716606",
         "4": "2009-08-06",
         "5": "5210988.0",
         "6": "111",
         "7": "5.4",
         "8": "126",
         "9": "2025-05-11 19:47:34.629792"
        },
        {
         "0": "23398",
         "1": "Alvin and the Chipmunks: The Squeakquel",
         "10": "Developer",
         "11": "2009",
         "2": "7.5E7",
         "3": "29.412262",
         "4": "2009-12-21",
         "5": "4.43140005E8",
         "6": "88",
         "7": "5.4",
         "8": "666",
         "9": "2025-05-11 19:47:34.629792"
        },
        {
         "0": "23706",
         "1": "All About Steve",
         "10": "Developer",
         "11": "2009",
         "2": "1.5E7",
         "3": "13.237835",
         "4": "2009-09-04",
         "5": "4.0105542E7",
         "6": "99",
         "7": "4.7",
         "8": "295",
         "9": "2025-05-11 19:47:34.629792"
        },
        {
         "0": "23963",
         "1": "Pontypool",
         "10": "Developer",
         "11": "2009",
         "2": "1500000.0",
         "3": "4.680206",
         "4": "2009-03-06",
         "5": "32000.0",
         "6": "93",
         "7": "6.6",
         "8": "183",
         "9": "2025-05-11 19:47:34.629792"
        },
        {
         "0": "23988",
         "1": "Stan Helsing",
         "10": "Developer",
         "11": "2009",
         "2": "2000000.0",
         "3": "7.410523",
         "4": "2009-10-27",
         "5": "2600000.0",
         "6": "90",
         "7": "4.0",
         "8": "97",
         "9": "2025-05-11 19:47:34.629792"
        },
        {
         "0": "24150",
         "1": "Halloween II",
         "10": "Developer",
         "11": "2009",
         "2": "1.5E7",
         "3": "12.929525",
         "4": "2009-08-28",
         "5": "3.9421467E7",
         "6": "105",
         "7": "5.1",
         "8": "267",
         "9": "2025-05-11 19:47:34.629792"
        },
        {
         "0": "24418",
         "1": "Cirque du Freak: The Vampire's Assistant",
         "10": "Developer",
         "11": "2009",
         "2": "4.0E7",
         "3": "16.424807",
         "4": "2009-10-23",
         "5": "2.8169671E7",
         "6": "109",
         "7": "5.5",
         "8": "348",
         "9": "2025-05-11 19:47:34.629792"
        },
        {
         "0": "24420",
         "1": "The Time Traveler's Wife",
         "10": "Developer",
         "11": "2009",
         "2": "3.9E7",
         "3": "37.492928",
         "4": "2009-08-14",
         "5": "1.01229792E8",
         "6": "107",
         "7": "6.7",
         "8": "798",
         "9": "2025-05-11 19:47:34.629792"
        },
        {
         "0": "24424",
         "1": "Ajami",
         "10": "Developer",
         "11": "2009",
         "2": "2000000.0",
         "3": "0.51799",
         "4": "2009-09-17",
         "5": "2600000.0",
         "6": "120",
         "7": "6.8",
         "8": "27",
         "9": "2025-05-11 19:47:34.629792"
        },
        {
         "0": "24438",
         "1": "Did You Hear About the Morgans?",
         "10": "Developer",
         "11": "2009",
         "2": "5.8E7",
         "3": "14.403696",
         "4": "2009-12-17",
         "5": "8.528025E7",
         "6": "103",
         "7": "5.1",
         "8": "276",
         "9": "2025-05-11 19:47:34.629792"
        },
        {
         "0": "24469",
         "1": "Fish Tank",
         "10": "Developer",
         "11": "2009",
         "2": "3000000.0",
         "3": "12.68672",
         "4": "2009-05-14",
         "5": "2357852.0",
         "6": "123",
         "7": "6.9",
         "8": "250",
         "9": "2025-05-11 19:47:34.629792"
        },
        {
         "0": "24663",
         "1": "The Open Road",
         "10": "Developer",
         "11": "2009",
         "2": "2000000.0",
         "3": "1.388136",
         "4": "2009-02-07",
         "5": "2600000.0",
         "6": "90",
         "7": "4.8",
         "8": "19",
         "9": "2025-05-11 19:47:34.629792"
        },
        {
         "0": "24684",
         "1": "An Education",
         "10": "Developer",
         "11": "2009",
         "2": "7500000.0",
         "3": "16.990308",
         "4": "2009-10-29",
         "5": "2.6096852E7",
         "6": "100",
         "7": "6.8",
         "8": "409",
         "9": "2025-05-11 19:47:34.629792"
        },
        {
         "0": "24803",
         "1": "Julie & Julia",
         "10": "Developer",
         "11": "2009",
         "2": "4.0E7",
         "3": "22.853006",
         "4": "2009-08-06",
         "5": "1.29540499E8",
         "6": "123",
         "7": "6.6",
         "8": "560",
         "9": "2025-05-11 19:47:34.629792"
        },
        {
         "0": "24869",
         "1": "Ink",
         "10": "Developer",
         "11": "2009",
         "2": "250000.0",
         "3": "5.217002",
         "4": "2009-01-23",
         "5": "312500.0",
         "6": "106",
         "7": "6.4",
         "8": "101",
         "9": "2025-05-11 19:47:34.629792"
        },
        {
         "0": "25132",
         "1": "Shorts",
         "10": "Developer",
         "11": "2009",
         "2": "4.0E7",
         "3": "4.100942",
         "4": "2009-08-21",
         "5": "2.8972508E7",
         "6": "89",
         "7": "5.1",
         "8": "44",
         "9": "2025-05-11 19:47:34.629792"
        },
        {
         "0": "25186",
         "1": "Janky Promoters",
         "10": "Developer",
         "11": "2009",
         "2": "1.0E7",
         "3": "1.728816",
         "4": "2009-10-16",
         "5": "9069.0",
         "6": "85",
         "7": "7.0",
         "8": "5",
         "9": "2025-05-11 19:47:34.629792"
        },
        {
         "0": "25196",
         "1": "Crazy Heart",
         "10": "Developer",
         "11": "2009",
         "2": "7000000.0",
         "3": "17.697042",
         "4": "2009-12-16",
         "5": "3.9462438E7",
         "6": "112",
         "7": "6.8",
         "8": "274",
         "9": "2025-05-11 19:47:34.629792"
        },
        {
         "0": "25353",
         "1": "La véritable histoire du Chat Botté",
         "10": "Developer",
         "11": "2009",
         "2": "2000000.0",
         "3": "1.684948",
         "4": "2009-04-01",
         "5": "2600000.0",
         "6": "82",
         "7": "3.8",
         "8": "7",
         "9": "2025-05-11 19:47:34.629792"
        },
        {
         "0": "25376",
         "1": "El secreto de sus ojos",
         "10": "Developer",
         "11": "2009",
         "2": "2000000.0",
         "3": "25.894065",
         "4": "2009-08-13",
         "5": "2600000.0",
         "6": "129",
         "7": "7.8",
         "8": "626",
         "9": "2025-05-11 19:47:34.629792"
        },
        {
         "0": "25643",
         "1": "Love Happens",
         "10": "Developer",
         "11": "2009",
         "2": "1.8E7",
         "3": "13.472365",
         "4": "2009-09-18",
         "5": "3.6133014E7",
         "6": "109",
         "7": "5.6",
         "8": "180",
         "9": "2025-05-11 19:47:34.629792"
        },
        {
         "0": "25704",
         "1": "Post Grad",
         "10": "Developer",
         "11": "2009",
         "2": "1.5E7",
         "3": "7.446069",
         "4": "2009-08-21",
         "5": "6405245.0",
         "6": "89",
         "7": "5.0",
         "8": "100",
         "9": "2025-05-11 19:47:34.629792"
        },
        {
         "0": "25769",
         "1": "Carriers",
         "10": "Developer",
         "11": "2009",
         "2": "2000000.0",
         "3": "12.708963",
         "4": "2009-09-04",
         "5": "2600000.0",
         "6": "84",
         "7": "5.8",
         "8": "282",
         "9": "2025-05-11 19:47:34.629792"
        },
        {
         "0": "25941",
         "1": "Harry Brown",
         "10": "Developer",
         "11": "2009",
         "2": "7300000.0",
         "3": "16.829837",
         "4": "2009-11-11",
         "5": "1.0329747E7",
         "6": "103",
         "7": "6.7",
         "8": "348",
         "9": "2025-05-11 19:47:34.629792"
        },
        {
         "0": "25968",
         "1": "Veronika Decides to Die",
         "10": "Developer",
         "11": "2009",
         "2": "9000000.0",
         "3": "4.799022",
         "4": "2009-05-16",
         "5": "1.125E7",
         "6": "103",
         "7": "5.8",
         "8": "75",
         "9": "2025-05-11 19:47:34.629792"
        },
        {
         "0": "25983",
         "1": "The House of the Devil",
         "10": "Developer",
         "11": "2009",
         "2": "2000000.0",
         "3": "8.628485",
         "4": "2009-04-25",
         "5": "2600000.0",
         "6": "95",
         "7": "6.0",
         "8": "197",
         "9": "2025-05-11 19:47:34.629792"
        },
        {
         "0": "26171",
         "1": "Everybody's Fine",
         "10": "Developer",
         "11": "2009",
         "2": "2.1E7",
         "3": "15.440465",
         "4": "2009-12-04",
         "5": "2.625E7",
         "6": "99",
         "7": "6.5",
         "8": "284",
         "9": "2025-05-11 19:47:34.629792"
        },
        {
         "0": "26320",
         "1": "Taking Woodstock",
         "10": "Developer",
         "11": "2009",
         "2": "2000000.0",
         "3": "11.870161",
         "4": "2009-09-03",
         "5": "2600000.0",
         "6": "120",
         "7": "6.2",
         "8": "127",
         "9": "2025-05-11 19:47:34.629792"
        },
        {
         "0": "26367",
         "1": "I Can Do Bad All By Myself",
         "10": "Developer",
         "11": "2009",
         "2": "2000000.0",
         "3": "2.242809",
         "4": "2009-09-11",
         "5": "2600000.0",
         "6": "113",
         "7": "6.0",
         "8": "40",
         "9": "2025-05-11 19:47:34.629792"
        },
        {
         "0": "26379",
         "1": "Paa",
         "10": "Developer",
         "11": "2009",
         "2": "3250000.0",
         "3": "2.126139",
         "4": "2009-12-04",
         "5": "4062500.0",
         "6": "133",
         "7": "6.6",
         "8": "19",
         "9": "2025-05-11 19:47:34.629792"
        },
        {
         "0": "26390",
         "1": "Brooklyn's Finest",
         "10": "Developer",
         "11": "2009",
         "2": "1.7E7",
         "3": "18.790102",
         "4": "2009-01-16",
         "5": "2.9536299E7",
         "6": "133",
         "7": "6.2",
         "8": "293",
         "9": "2025-05-11 19:47:34.629792"
        },
        {
         "0": "26428",
         "1": "Agora",
         "10": "Developer",
         "11": "2009",
         "2": "7.0E7",
         "3": "18.888806",
         "4": "2009-05-17",
         "5": "3.9041505E7",
         "6": "127",
         "7": "6.9",
         "8": "395",
         "9": "2025-05-11 19:47:34.629792"
        },
        {
         "0": "26466",
         "1": "Triangle",
         "10": "Developer",
         "11": "2009",
         "2": "1.2E7",
         "3": "25.496926",
         "4": "2009-10-16",
         "5": "1.5E7",
         "6": "99",
         "7": "6.9",
         "8": "612",
         "9": "2025-05-11 19:47:34.629792"
        },
        {
         "0": "26673",
         "1": "Frat Party",
         "10": "Developer",
         "11": "2009",
         "2": "2000000.0",
         "3": "0.783842",
         "4": "2009-01-01",
         "5": "2600000.0",
         "6": "84",
         "7": "3.5",
         "8": "4",
         "9": "2025-05-11 19:47:34.629792"
        },
        {
         "0": "26688",
         "1": "Sorority Row",
         "10": "Developer",
         "11": "2009",
         "2": "1.25E7",
         "3": "8.780512",
         "4": "2009-09-09",
         "5": "2.720612E7",
         "6": "101",
         "7": "5.4",
         "8": "177",
         "9": "2025-05-11 19:47:34.629792"
        },
        {
         "0": "26815",
         "1": "Rocket Singh: Salesman of the Year",
         "10": "Developer",
         "11": "2009",
         "2": "1250000.0",
         "3": "3.000435",
         "4": "2009-12-11",
         "5": "1562500.0",
         "6": "156",
         "7": "7.0",
         "8": "27",
         "9": "2025-05-11 19:47:34.629792"
        },
        {
         "0": "26837",
         "1": "B-Girl",
         "10": "Developer",
         "11": "2009",
         "2": "2000000.0",
         "3": "0.631571",
         "4": "2009-07-29",
         "5": "2600000.0",
         "6": "84",
         "7": "5.5",
         "8": "7",
         "9": "2025-05-11 19:47:34.629792"
        },
        {
         "0": "26963",
         "1": "The Secret of Kells",
         "10": "Developer",
         "11": "2009",
         "2": "2000000.0",
         "3": "10.621353",
         "4": "2009-02-09",
         "5": "2600000.0",
         "6": "75",
         "7": "7.3",
         "8": "181",
         "9": "2025-05-11 19:47:34.629792"
        },
        {
         "0": "27023",
         "1": "Saint John of Las Vegas",
         "10": "Developer",
         "11": "2009",
         "2": "3800000.0",
         "3": "2.559806",
         "4": "2009-06-10",
         "5": "111731.0",
         "6": "84",
         "7": "5.9",
         "8": "18",
         "9": "2025-05-11 19:47:34.629792"
        },
        {
         "0": "27588",
         "1": "Forget Me Not",
         "10": "Developer",
         "11": "2009",
         "2": "2000000.0",
         "3": "5.065752",
         "4": "2009-10-22",
         "5": "2600000.0",
         "6": "103",
         "7": "5.0",
         "8": "66",
         "9": "2025-05-11 19:47:34.629792"
        },
        {
         "0": "27936",
         "1": "Micmacs à tire-larigot",
         "10": "Developer",
         "11": "2009",
         "2": "3.3E7",
         "3": "7.663515",
         "4": "2009-10-28",
         "5": "1.4E7",
         "6": "100",
         "7": "6.8",
         "8": "148",
         "9": "2025-05-11 19:47:34.629792"
        },
        {
         "0": "28053",
         "1": "City Island",
         "10": "Developer",
         "11": "2009",
         "2": "6000000.0",
         "3": "6.497285",
         "4": "2009-03-06",
         "5": "6670712.0",
         "6": "104",
         "7": "6.9",
         "8": "113",
         "9": "2025-05-11 19:47:34.629792"
        },
        {
         "0": "28089",
         "1": "The Messenger",
         "10": "Developer",
         "11": "2009",
         "2": "6500000.0",
         "3": "8.432401",
         "4": "2009-11-13",
         "5": "1521261.0",
         "6": "113",
         "7": "7.1",
         "8": "119",
         "9": "2025-05-11 19:47:34.629792"
        },
        {
         "0": "28178",
         "1": "Hachi: A Dog's Tale",
         "10": "Developer",
         "11": "2009",
         "2": "1.6E7",
         "3": "43.217089",
         "4": "2009-06-13",
         "5": "4.7801389E7",
         "6": "93",
         "7": "7.7",
         "8": "1717",
         "9": "2025-05-11 19:47:34.629792"
        },
        {
         "0": "28211",
         "1": "Chloe",
         "10": "Developer",
         "11": "2009",
         "2": "1.5E7",
         "3": "26.373864",
         "4": "2009-03-25",
         "5": "8459458.0",
         "6": "96",
         "7": "5.9",
         "8": "498",
         "9": "2025-05-11 19:47:34.629792"
        },
        {
         "0": "28355",
         "1": "Case 39",
         "10": "Developer",
         "11": "2009",
         "2": "2.7E7",
         "3": "23.917982",
         "4": "2009-08-13",
         "5": "2.9E7",
         "6": "109",
         "7": "6.1",
         "8": "563",
         "9": "2025-05-11 19:47:34.629792"
        },
        {
         "0": "28665",
         "1": "Fame",
         "10": "Developer",
         "11": "2009",
         "2": "2000000.0",
         "3": "7.668063",
         "4": "2009-01-01",
         "5": "2600000.0",
         "6": "107",
         "7": "5.5",
         "8": "135",
         "9": "2025-05-11 19:47:34.629792"
        },
        {
         "0": "29917",
         "1": "Exam",
         "10": "Developer",
         "11": "2009",
         "2": "2000000.0",
         "3": "20.265518",
         "4": "2009-06-19",
         "5": "2600000.0",
         "6": "101",
         "7": "6.6",
         "8": "523",
         "9": "2025-05-11 19:47:34.629792"
        },
        {
         "0": "29963",
         "1": "Bright Star",
         "10": "Developer",
         "11": "2009",
         "2": "8500000.0",
         "3": "9.230073",
         "4": "2009-11-05",
         "5": "4440055.0",
         "6": "119",
         "7": "6.8",
         "8": "107",
         "9": "2025-05-11 19:47:34.629792"
        },
        {
         "0": "30128",
         "1": "I Hope They Serve Beer in Hell",
         "10": "Developer",
         "11": "2009",
         "2": "7000000.0",
         "3": "7.155519",
         "4": "2009-09-25",
         "5": "1429299.0",
         "6": "106",
         "7": "5.7",
         "8": "20",
         "9": "2025-05-11 19:47:34.629792"
        },
        {
         "0": "30979",
         "1": "The Horse Boy",
         "10": "Developer",
         "11": "2009",
         "2": "2000000.0",
         "3": "0.465404",
         "4": "2009-11-25",
         "5": "2600000.0",
         "6": "93",
         "7": "5.5",
         "8": "2",
         "9": "2025-05-11 19:47:34.629792"
        },
        {
         "0": "31166",
         "1": "I Come with the Rain",
         "10": "Developer",
         "11": "2009",
         "2": "1.8E7",
         "3": "8.266124",
         "4": "2009-05-14",
         "5": "2.25E7",
         "6": "114",
         "7": "5.6",
         "8": "20",
         "9": "2025-05-11 19:47:34.629792"
        },
        {
         "0": "31175",
         "1": "Soul Kitchen",
         "10": "Developer",
         "11": "2009",
         "2": "5000000.0",
         "3": "5.461487",
         "4": "2009-09-09",
         "5": "1.7872796E7",
         "6": "99",
         "7": "7.1",
         "8": "116",
         "9": "2025-05-11 19:47:34.629792"
        },
        {
         "0": "31203",
         "1": "Le petit Nicolas",
         "10": "Developer",
         "11": "2009",
         "2": "2000000.0",
         "3": "20.362025",
         "4": "2009-09-30",
         "5": "2600000.0",
         "6": "91",
         "7": "5.9",
         "8": "306",
         "9": "2025-05-11 19:47:34.629792"
        },
        {
         "0": "32395",
         "1": "The Greatest",
         "10": "Developer",
         "11": "2009",
         "2": "6000000.0",
         "3": "6.903186",
         "4": "2009-01-17",
         "5": "7500000.0",
         "6": "99",
         "7": "6.2",
         "8": "34",
         "9": "2025-05-11 19:47:34.629792"
        },
        {
         "0": "33511",
         "1": "Nowhere Boy",
         "10": "Developer",
         "11": "2009",
         "2": "2000000.0",
         "3": "1.950959",
         "4": "2009-12-25",
         "5": "2600000.0",
         "6": "98",
         "7": "7.2",
         "8": "244",
         "9": "2025-05-11 19:47:34.629792"
        },
        {
         "0": "33870",
         "1": "Mao's Last Dancer",
         "10": "Developer",
         "11": "2009",
         "2": "2.5E7",
         "3": "1.876811",
         "4": "2009-10-01",
         "5": "2.0719451E7",
         "6": "117",
         "7": "6.8",
         "8": "28",
         "9": "2025-05-11 19:47:34.629792"
        },
        {
         "0": "34069",
         "1": "Cargo",
         "10": "Developer",
         "11": "2009",
         "2": "2000000.0",
         "3": "10.142218",
         "4": "2009-09-24",
         "5": "2600000.0",
         "6": "120",
         "7": "5.9",
         "8": "140",
         "9": "2025-05-11 19:47:34.629792"
        },
        {
         "0": "34592",
         "1": "ZMD: Zombies of Mass Destruction",
         "10": "Developer",
         "11": "2009",
         "2": "2000000.0",
         "3": "1.563711",
         "4": "2009-01-01",
         "5": "2600000.0",
         "6": "92",
         "7": "4.7",
         "8": "31",
         "9": "2025-05-11 19:47:34.629792"
        },
        {
         "0": "34647",
         "1": "Enter the Void",
         "10": "Developer",
         "11": "2009",
         "2": "1.3E7",
         "3": "20.39955",
         "4": "2009-05-05",
         "5": "754249.0",
         "6": "161",
         "7": "7.2",
         "8": "387",
         "9": "2025-05-11 19:47:34.629792"
        },
        {
         "0": "34653",
         "1": "A Single Man",
         "10": "Developer",
         "11": "2009",
         "2": "7000000.0",
         "3": "21.626288",
         "4": "2009-10-19",
         "5": "8750000.0",
         "6": "101",
         "7": "7.3",
         "8": "463",
         "9": "2025-05-11 19:47:34.629792"
        },
        {
         "0": "34769",
         "1": "Defendor",
         "10": "Developer",
         "11": "2009",
         "2": "3500000.0",
         "3": "8.45342",
         "4": "2009-09-12",
         "5": "44462.0",
         "6": "101",
         "7": "6.5",
         "8": "195",
         "9": "2025-05-11 19:47:34.629792"
        },
        {
         "0": "35219",
         "1": "The Missing Person",
         "10": "Developer",
         "11": "2009",
         "2": "2000000.0",
         "3": "1.161034",
         "4": "2009-01-16",
         "5": "2600000.0",
         "6": "95",
         "7": "6.4",
         "8": "9",
         "9": "2025-05-11 19:47:34.629792"
        },
        {
         "0": "35689",
         "1": "Don McKay",
         "10": "Developer",
         "11": "2009",
         "2": "2000000.0",
         "3": "1.496454",
         "4": "2009-04-24",
         "5": "2600000.0",
         "6": "87",
         "7": "5.4",
         "8": "21",
         "9": "2025-05-11 19:47:34.629792"
        },
        {
         "0": "36597",
         "1": "Wuthering Heights",
         "10": "Developer",
         "11": "2009",
         "2": "2000000.0",
         "3": "4.409263",
         "4": "2009-01-18",
         "5": "2600000.0",
         "6": "142",
         "7": "6.9",
         "8": "37",
         "9": "2025-05-11 19:47:34.629792"
        },
        {
         "0": "36691",
         "1": "Solitary Man",
         "10": "Developer",
         "11": "2009",
         "2": "1.5E7",
         "3": "7.497306",
         "4": "2009-09-07",
         "5": "5024782.0",
         "6": "90",
         "7": "5.8",
         "8": "84",
         "9": "2025-05-11 19:47:34.629792"
        },
        {
         "0": "36811",
         "1": "The Last Station",
         "10": "Developer",
         "11": "2009",
         "2": "2000000.0",
         "3": "3.659292",
         "4": "2009-09-04",
         "5": "2600000.0",
         "6": "112",
         "7": "6.7",
         "8": "55",
         "9": "2025-05-11 19:47:34.629792"
        },
        {
         "0": "36970",
         "1": "Oceans",
         "10": "Developer",
         "11": "2009",
         "2": "2000000.0",
         "3": "10.706613",
         "4": "2009-10-17",
         "5": "2600000.0",
         "6": "84",
         "7": "7.3",
         "8": "111",
         "9": "2025-05-11 19:47:34.629792"
        },
        {
         "0": "37080",
         "1": "Mother and Child",
         "10": "Developer",
         "11": "2009",
         "2": "7000000.0",
         "3": "5.517597",
         "4": "2009-11-07",
         "5": "8750000.0",
         "6": "125",
         "7": "6.7",
         "8": "46",
         "9": "2025-05-11 19:47:34.629792"
        },
        {
         "0": "37206",
         "1": "A Shine of Rainbows",
         "10": "Developer",
         "11": "2009",
         "2": "6000000.0",
         "3": "12.099486",
         "4": "2009-10-01",
         "5": "7500000.0",
         "6": "101",
         "7": "6.3",
         "8": "14",
         "9": "2025-05-11 19:47:34.629792"
        },
        {
         "0": "534",
         "1": "Terminator Salvation",
         "10": "Developer",
         "11": "2009",
         "2": "2.0E8",
         "3": "71.862892",
         "4": "2009-05-20",
         "5": "3.71353001E8",
         "6": "115",
         "7": "5.9",
         "8": "2463",
         "9": "2025-05-11 19:47:34.629792"
        },
        {
         "0": "37842",
         "1": "Les herbes folles",
         "10": "Developer",
         "11": "2009",
         "2": "2000000.0",
         "3": "1.866443",
         "4": "2009-05-20",
         "5": "2600000.0",
         "6": "104",
         "7": "5.8",
         "8": "22",
         "9": "2025-05-11 19:47:34.629792"
        },
        {
         "0": "37903",
         "1": "Das weisse Band",
         "10": "Developer",
         "11": "2009",
         "2": "1.52388E7",
         "3": "17.94739",
         "4": "2009-05-21",
         "5": "1.90485E7",
         "6": "144",
         "7": "7.2",
         "8": "255",
         "9": "2025-05-11 19:47:34.629792"
        },
        {
         "0": "38415",
         "1": "Bran Nue Dae",
         "10": "Developer",
         "11": "2009",
         "2": "2000000.0",
         "3": "0.050456",
         "4": "2009-08-09",
         "5": "2600000.0",
         "6": "82",
         "7": "5.2",
         "8": "6",
         "9": "2025-05-11 19:47:34.629792"
        },
        {
         "0": "38448",
         "1": "Ondine",
         "10": "Developer",
         "11": "2009",
         "2": "1.2E7",
         "3": "5.841285",
         "4": "2009-09-14",
         "5": "1644755.0",
         "6": "111",
         "7": "6.5",
         "8": "84",
         "9": "2025-05-11 19:47:34.629792"
        },
        {
         "0": "38780",
         "1": "Rampage",
         "10": "Developer",
         "11": "2009",
         "2": "2000000.0",
         "3": "7.101197",
         "4": "2009-08-14",
         "5": "2600000.0",
         "6": "85",
         "7": "6.0",
         "8": "131",
         "9": "2025-05-11 19:47:34.629792"
        },
        {
         "0": "39037",
         "1": "The Good Guy",
         "10": "Developer",
         "11": "2009",
         "2": "3200000.0",
         "3": "2.631688",
         "4": "2009-04-25",
         "5": "4000000.0",
         "6": "90",
         "7": "5.4",
         "8": "59",
         "9": "2025-05-11 19:47:34.629792"
        },
        {
         "0": "39303",
         "1": "2:13",
         "10": "Developer",
         "11": "2009",
         "2": "3500000.0",
         "3": "1.271621",
         "4": "2009-04-25",
         "5": "4375000.0",
         "6": "96",
         "7": "4.6",
         "8": "10",
         "9": "2025-05-11 19:47:34.629792"
        },
        {
         "0": "39563",
         "1": "The Eclipse",
         "10": "Developer",
         "11": "2009",
         "2": "2000000.0",
         "3": "9.342465",
         "4": "2009-04-24",
         "5": "2600000.0",
         "6": "88",
         "7": "6.1",
         "8": "15",
         "9": "2025-05-11 19:47:34.629792"
        },
        {
         "0": "39800",
         "1": "Life During Wartime",
         "10": "Developer",
         "11": "2009",
         "2": "4500000.0",
         "3": "3.108881",
         "4": "2009-10-10",
         "5": "744816.0",
         "6": "97",
         "7": "6.3",
         "8": "30",
         "9": "2025-05-11 19:47:34.629792"
        },
        {
         "0": "40658",
         "1": "Starsuckers",
         "10": "Developer",
         "11": "2009",
         "2": "2000000.0",
         "3": "0.429083",
         "4": "2009-09-30",
         "5": "2600000.0",
         "6": "103",
         "7": "6.2",
         "8": "5",
         "9": "2025-05-11 19:47:34.629792"
        },
        {
         "0": "40914",
         "1": "Royal Kill",
         "10": "Developer",
         "11": "2009",
         "2": "2000000.0",
         "3": "1.088501",
         "4": "2009-04-10",
         "5": "2600000.0",
         "6": "90",
         "7": "2.8",
         "8": "6",
         "9": "2025-05-11 19:47:34.629792"
        },
        {
         "0": "41009",
         "1": "Perrier’s Bounty",
         "10": "Developer",
         "11": "2009",
         "2": "2000000.0",
         "3": "3.810943",
         "4": "2009-09-11",
         "5": "2600000.0",
         "6": "88",
         "7": "5.1",
         "8": "24",
         "9": "2025-05-11 19:47:34.629792"
        },
        {
         "0": "41110",
         "1": "Io sono l'amore",
         "10": "Developer",
         "11": "2009",
         "2": "2000000.0",
         "3": "5.355763",
         "4": "2009-09-05",
         "5": "2600000.0",
         "6": "120",
         "7": "6.9",
         "8": "73",
         "9": "2025-05-11 19:47:34.629792"
        },
        {
         "0": "41144",
         "1": "To Save A Life",
         "10": "Developer",
         "11": "2009",
         "2": "2000000.0",
         "3": "0.05021",
         "4": "2009-11-05",
         "5": "2600000.0",
         "6": "120",
         "7": "6.2",
         "8": "21",
         "9": "2025-05-11 19:47:34.629792"
        },
        {
         "0": "41248",
         "1": "La Fille du RER",
         "10": "Developer",
         "11": "2009",
         "2": "2000000.0",
         "3": "2.351706",
         "4": "2009-03-18",
         "5": "2600000.0",
         "6": "105",
         "7": "5.6",
         "8": "10",
         "9": "2025-05-11 19:47:34.629792"
        },
        {
         "0": "41479",
         "1": "The Joneses",
         "10": "Developer",
         "11": "2009",
         "2": "1.0E7",
         "3": "14.979375",
         "4": "2009-09-13",
         "5": "7022728.0",
         "6": "96",
         "7": "6.1",
         "8": "210",
         "9": "2025-05-11 19:47:34.629792"
        },
        {
         "0": "42819",
         "1": "The City of Your Final Destination",
         "10": "Developer",
         "11": "2009",
         "2": "2000000.0",
         "3": "1.353971",
         "4": "2009-03-21",
         "5": "2600000.0",
         "6": "114",
         "7": "5.7",
         "8": "9",
         "9": "2025-05-11 19:47:34.629792"
        },
        {
         "0": "43213",
         "1": "Chicago Overcoat",
         "10": "Developer",
         "11": "2009",
         "2": "3200000.0",
         "3": "1.034844",
         "4": "2009-10-10",
         "5": "4000000.0",
         "6": "95",
         "7": "6.1",
         "8": "5",
         "9": "2025-05-11 19:47:34.629792"
        },
        {
         "0": "44770",
         "1": "The Exploding Girl",
         "10": "Developer",
         "11": "2009",
         "2": "2000000.0",
         "3": "0.611081",
         "4": "2009-04-22",
         "5": "2600000.0",
         "6": "80",
         "7": "6.4",
         "8": "15",
         "9": "2025-05-11 19:47:34.629792"
        },
        {
         "0": "44990",
         "1": "Breaking Upwards",
         "10": "Developer",
         "11": "2009",
         "2": "2000000.0",
         "3": "0.67457",
         "4": "2009-03-14",
         "5": "2600000.0",
         "6": "88",
         "7": "5.6",
         "8": "12",
         "9": "2025-05-11 19:47:34.629792"
        },
        {
         "0": "45650",
         "1": "The Hole",
         "10": "Developer",
         "11": "2009",
         "2": "2000000.0",
         "3": "9.983004",
         "4": "2009-09-09",
         "5": "2600000.0",
         "6": "92",
         "7": "5.6",
         "8": "244",
         "9": "2025-05-11 19:47:34.629792"
        },
        {
         "0": "46420",
         "1": "The Loved Ones",
         "10": "Developer",
         "11": "2009",
         "2": "2000000.0",
         "3": "4.989985",
         "4": "2009-09-13",
         "5": "2600000.0",
         "6": "84",
         "7": "6.6",
         "8": "207",
         "9": "2025-05-11 19:47:34.629792"
        },
        {
         "0": "48620",
         "1": "The Mighty Macs",
         "10": "Developer",
         "11": "2009",
         "2": "7000000.0",
         "3": "2.932784",
         "4": "2009-10-21",
         "5": "8750000.0",
         "6": "102",
         "7": "5.0",
         "8": "15",
         "9": "2025-05-11 19:47:34.629792"
        },
        {
         "0": "52032",
         "1": "My Dog Tulip",
         "10": "Developer",
         "11": "2009",
         "2": "2000000.0",
         "3": "1.170257",
         "4": "2009-01-01",
         "5": "2600000.0",
         "6": "83",
         "7": "7.6",
         "8": "9",
         "9": "2025-05-11 19:47:34.629792"
        },
        {
         "0": "57294",
         "1": "Crying with Laughter",
         "10": "Developer",
         "11": "2009",
         "2": "2000000.0",
         "3": "0.108135",
         "4": "2009-06-01",
         "5": "2600000.0",
         "6": "93",
         "7": "7.0",
         "8": "1",
         "9": "2025-05-11 19:47:34.629792"
        },
        {
         "0": "71866",
         "1": "Tanner Hall",
         "10": "Developer",
         "11": "2009",
         "2": "2000000.0",
         "3": "2.015525",
         "4": "2009-09-14",
         "5": "2600000.0",
         "6": "96",
         "7": "5.4",
         "8": "32",
         "9": "2025-05-11 19:47:34.629792"
        },
        {
         "0": "79587",
         "1": "Four Single Fathers",
         "10": "Developer",
         "11": "2009",
         "2": "2000000.0",
         "3": "0.008263",
         "4": "2009-01-15",
         "5": "2600000.0",
         "6": "100",
         "7": "0.0",
         "8": "0",
         "9": "2025-05-11 19:47:34.629792"
        },
        {
         "0": "91122",
         "1": "16 to Life",
         "10": "Developer",
         "11": "2009",
         "2": "2000000.0",
         "3": "0.108468",
         "4": "2009-09-19",
         "5": "2600000.0",
         "6": "118",
         "7": "4.4",
         "8": "5",
         "9": "2025-05-11 19:47:34.629792"
        },
        {
         "0": "183894",
         "1": "Emma",
         "10": "Developer",
         "11": "2009",
         "2": "2000000.0",
         "3": "2.135689",
         "4": "2009-10-11",
         "5": "2600000.0",
         "6": "240",
         "7": "7.6",
         "8": "38",
         "9": "2025-05-11 19:47:34.629792"
        },
        {
         "0": "291081",
         "1": "Red Riding: In the Year of Our Lord 1974",
         "10": "Developer",
         "11": "2009",
         "2": "2000000.0",
         "3": "7.247023",
         "4": "2009-02-28",
         "5": "2600000.0",
         "6": "102",
         "7": "7.0",
         "8": "54",
         "9": "2025-05-11 19:47:34.629792"
        },
        {
         "0": "310706",
         "1": "Black Water Transit",
         "10": "Developer",
         "11": "2009",
         "2": "2000000.0",
         "3": "0.126738",
         "4": "2009-05-13",
         "5": "2600000.0",
         "6": "100",
         "7": "0.0",
         "8": "0",
         "9": "2025-05-11 19:47:34.629792"
        },
        {
         "0": "189",
         "1": "Sin City: A Dame to Kill For",
         "10": "Developer",
         "11": "2014",
         "2": "6.5E7",
         "3": "85.428395",
         "4": "2014-08-20",
         "5": "3.9407616E7",
         "6": "102",
         "7": "6.3",
         "8": "1286",
         "9": "2025-05-11 19:47:34.629792"
        },
        {
         "0": "49017",
         "1": "Dracula Untold",
         "10": "Developer",
         "11": "2014",
         "2": "7.0E7",
         "3": "64.457947",
         "4": "2014-10-01",
         "5": "2.15529201E8",
         "6": "92",
         "7": "6.2",
         "8": "2389",
         "9": "2025-05-11 19:47:34.629792"
        },
        {
         "0": "68737",
         "1": "Seventh Son",
         "10": "Developer",
         "11": "2014",
         "2": "9.5E7",
         "3": "63.628459",
         "4": "2014-12-12",
         "5": "1.14178613E8",
         "6": "102",
         "7": "5.2",
         "8": "957",
         "9": "2025-05-11 19:47:34.629792"
        },
        {
         "0": "76649",
         "1": "Pompeii",
         "10": "Developer",
         "11": "2014",
         "2": "1.3E8",
         "3": "50.561849",
         "4": "2014-02-18",
         "5": "1.17831631E8",
         "6": "105",
         "7": "5.2",
         "8": "1267",
         "9": "2025-05-11 19:47:34.629792"
        },
        {
         "0": "79316",
         "1": "Devil's Due",
         "10": "Developer",
         "11": "2014",
         "2": "7000000.0",
         "3": "14.741589",
         "4": "2014-01-08",
         "5": "3.6433975E7",
         "6": "89",
         "7": "4.4",
         "8": "216",
         "9": "2025-05-11 19:47:34.629792"
        },
        {
         "0": "82702",
         "1": "How to Train Your Dragon 2",
         "10": "Developer",
         "11": "2014",
         "2": "1.45E8",
         "3": "100.21391",
         "4": "2014-06-12",
         "5": "6.09123048E8",
         "6": "102",
         "7": "7.6",
         "8": "3106",
         "9": "2025-05-11 19:47:34.629792"
        },
        {
         "0": "82703",
         "1": "Mr. Peabody & Sherman",
         "10": "Developer",
         "11": "2014",
         "2": "1.45E8",
         "3": "38.73494",
         "4": "2014-02-07",
         "5": "2.7291243E8",
         "6": "92",
         "7": "6.7",
         "8": "843",
         "9": "2025-05-11 19:47:34.629792"
        },
        {
         "0": "85350",
         "1": "Boyhood",
         "10": "Developer",
         "11": "2014",
         "2": "4000000.0",
         "3": "43.40352",
         "4": "2014-06-05",
         "5": "4.4349E7",
         "6": "164",
         "7": "7.5",
         "8": "1971",
         "9": "2025-05-11 19:47:34.629792"
        },
        {
         "0": "86834",
         "1": "Noah",
         "10": "Developer",
         "11": "2014",
         "2": "1.25E8",
         "3": "46.115758",
         "4": "2014-03-20",
         "5": "3.62637473E8",
         "6": "139",
         "7": "5.6",
         "8": "2350",
         "9": "2025-05-11 19:47:34.629792"
        },
        {
         "0": "87093",
         "1": "Big Eyes",
         "10": "Developer",
         "11": "2014",
         "2": "1.0E7",
         "3": "28.570174",
         "4": "2014-12-24",
         "5": "2.8883511E7",
         "6": "105",
         "7": "6.8",
         "8": "1196",
         "9": "2025-05-11 19:47:34.629792"
        },
        {
         "0": "97020",
         "1": "RoboCop",
         "10": "Developer",
         "11": "2014",
         "2": "1.2E8",
         "3": "66.757869",
         "4": "2014-01-30",
         "5": "2.42688965E8",
         "6": "102",
         "7": "5.7",
         "8": "2342",
         "9": "2025-05-11 19:47:34.629792"
        },
        {
         "0": "97370",
         "1": "Under the Skin",
         "10": "Developer",
         "11": "2014",
         "2": "1.33E7",
         "3": "29.782161",
         "4": "2014-03-14",
         "5": "5380251.0",
         "6": "108",
         "7": "6.0",
         "8": "1102",
         "9": "2025-05-11 19:47:34.629792"
        },
        {
         "0": "98566",
         "1": "Teenage Mutant Ninja Turtles",
         "10": "Developer",
         "11": "2014",
         "2": "1.25E8",
         "3": "143.350376",
         "4": "2014-08-07",
         "5": "4.772E8",
         "6": "101",
         "7": "5.8",
         "8": "2636",
         "9": "2025-05-11 19:47:34.629792"
        },
        {
         "0": "100042",
         "1": "Dumb and Dumber To",
         "10": "Developer",
         "11": "2014",
         "2": "4.0E7",
         "3": "67.767785",
         "4": "2014-11-12",
         "5": "1.6983701E8",
         "6": "110",
         "7": "5.4",
         "8": "1127",
         "9": "2025-05-11 19:47:34.629792"
        },
        {
         "0": "100241",
         "1": "I, Frankenstein",
         "10": "Developer",
         "11": "2014",
         "2": "6.5E7",
         "3": "31.324734",
         "4": "2014-01-22",
         "5": "7.1154592E7",
         "6": "92",
         "7": "5.0",
         "8": "687",
         "9": "2025-05-11 19:47:34.629792"
        },
        {
         "0": "100402",
         "1": "Captain America: The Winter Soldier",
         "10": "Developer",
         "11": "2014",
         "2": "1.7E8",
         "3": "72.225265",
         "4": "2014-03-20",
         "5": "7.14766572E8",
         "6": "136",
         "7": "7.6",
         "8": "5764",
         "9": "2025-05-11 19:47:34.629792"
        },
        {
         "0": "102382",
         "1": "The Amazing Spider-Man 2",
         "10": "Developer",
         "11": "2014",
         "2": "2.0E8",
         "3": "89.270217",
         "4": "2014-04-16",
         "5": "7.05717432E8",
         "6": "142",
         "7": "6.5",
         "8": "4179",
         "9": "2025-05-11 19:47:34.629792"
        },
        {
         "0": "102651",
         "1": "Maleficent",
         "10": "Developer",
         "11": "2014",
         "2": "1.8E8",
         "3": "110.620647",
         "4": "2014-05-28",
         "5": "7.58539785E8",
         "6": "97",
         "7": "7.0",
         "8": "4496",
         "9": "2025-05-11 19:47:34.629792"
        },
        {
         "0": "116149",
         "1": "Paddington",
         "10": "Developer",
         "11": "2014",
         "2": "5.5E7",
         "3": "39.882276",
         "4": "2014-11-27",
         "5": "2.59207227E8",
         "6": "95",
         "7": "7.0",
         "8": "883",
         "9": "2025-05-11 19:47:34.629792"
        },
        {
         "0": "118340",
         "1": "Guardians of the Galaxy",
         "10": "Developer",
         "11": "2014",
         "2": "1.7E8",
         "3": "481.098624",
         "4": "2014-07-30",
         "5": "7.73328629E8",
         "6": "121",
         "7": "7.9",
         "8": "9742",
         "9": "2025-05-11 19:47:34.629792"
        },
        {
         "0": "119450",
         "1": "Dawn of the Planet of the Apes",
         "10": "Developer",
         "11": "2014",
         "2": "1.7E8",
         "3": "243.791743",
         "4": "2014-06-26",
         "5": "7.10644566E8",
         "6": "130",
         "7": "7.3",
         "8": "4410",
         "9": "2025-05-11 19:47:34.629792"
        },
        {
         "0": "120467",
         "1": "The Grand Budapest Hotel",
         "10": "Developer",
         "11": "2014",
         "2": "3.0E7",
         "3": "74.417456",
         "4": "2014-02-26",
         "5": "1.74600318E8",
         "6": "99",
         "7": "8.0",
         "8": "4519",
         "9": "2025-05-11 19:47:34.629792"
        },
        {
         "0": "122917",
         "1": "The Hobbit: The Battle of the Five Armies",
         "10": "Developer",
         "11": "2014",
         "2": "2.5E8",
         "3": "120.965743",
         "4": "2014-12-10",
         "5": "9.56019788E8",
         "6": "144",
         "7": "7.1",
         "8": "4760",
         "9": "2025-05-11 19:47:34.629792"
        },
        {
         "0": "127585",
         "1": "X-Men: Days of Future Past",
         "10": "Developer",
         "11": "2014",
         "2": "2.5E8",
         "3": "118.078691",
         "4": "2014-05-15",
         "5": "7.47862775E8",
         "6": "131",
         "7": "7.5",
         "8": "6032",
         "9": "2025-05-11 19:47:34.629792"
        },
        {
         "0": "131631",
         "1": "The Hunger Games: Mockingjay - Part 1",
         "10": "Developer",
         "11": "2014",
         "2": "1.25E8",
         "3": "206.227151",
         "4": "2014-11-18",
         "5": "7.52100229E8",
         "6": "123",
         "7": "6.6",
         "8": "5584",
         "9": "2025-05-11 19:47:34.629792"
        },
        {
         "0": "136797",
         "1": "Need for Speed",
         "10": "Developer",
         "11": "2014",
         "2": "6.6E7",
         "3": "54.81489",
         "4": "2014-03-13",
         "5": "2.03277636E8",
         "6": "130",
         "7": "6.1",
         "8": "1520",
         "9": "2025-05-11 19:47:34.629792"
        },
        {
         "0": "136835",
         "1": "No Good Deed",
         "10": "Developer",
         "11": "2014",
         "2": "1.32E7",
         "3": "24.656068",
         "4": "2014-09-10",
         "5": "5.3830415E7",
         "6": "83",
         "7": "5.6",
         "8": "181",
         "9": "2025-05-11 19:47:34.629792"
        },
        {
         "0": "137094",
         "1": "Jack Ryan: Shadow Recruit",
         "10": "Developer",
         "11": "2014",
         "2": "6.0E7",
         "3": "42.538258",
         "4": "2014-01-15",
         "5": "5.0549107E7",
         "6": "105",
         "7": "5.9",
         "8": "1173",
         "9": "2025-05-11 19:47:34.629792"
        },
        {
         "0": "137106",
         "1": "The Lego Movie",
         "10": "Developer",
         "11": "2014",
         "2": "6.0E7",
         "3": "59.547928",
         "4": "2014-02-06",
         "5": "4.69160692E8",
         "6": "100",
         "7": "7.5",
         "8": "3070",
         "9": "2025-05-11 19:47:34.629792"
        },
        {
         "0": "137113",
         "1": "Edge of Tomorrow",
         "10": "Developer",
         "11": "2014",
         "2": "1.78E8",
         "3": "79.456485",
         "4": "2014-05-27",
         "5": "3.70541256E8",
         "6": "113",
         "7": "7.6",
         "8": "4858",
         "9": "2025-05-11 19:47:34.629792"
        },
        {
         "0": "137321",
         "1": "Winter's Tale",
         "10": "Developer",
         "11": "2014",
         "2": "6.0E7",
         "3": "22.736038",
         "4": "2014-02-13",
         "5": "3.0800231E7",
         "6": "118",
         "7": "6.0",
         "8": "487",
         "9": "2025-05-11 19:47:34.629792"
        },
        {
         "0": "138103",
         "1": "The Expendables 3",
         "10": "Developer",
         "11": "2014",
         "2": "9.0E7",
         "3": "61.025639",
         "4": "2014-08-04",
         "5": "2.06172544E8",
         "6": "127",
         "7": "6.1",
         "8": "1795",
         "9": "2025-05-11 19:47:34.629792"
        },
        {
         "0": "145220",
         "1": "Muppets Most Wanted",
         "10": "Developer",
         "11": "2014",
         "2": "5.0E7",
         "3": "14.808304",
         "4": "2014-03-20",
         "5": "8.038329E7",
         "6": "112",
         "7": "6.2",
         "8": "316",
         "9": "2025-05-11 19:47:34.629792"
        },
        {
         "0": "147441",
         "1": "Exodus: Gods and Kings",
         "10": "Developer",
         "11": "2014",
         "2": "1.4E8",
         "3": "101.599427",
         "4": "2014-12-03",
         "5": "2.68031828E8",
         "6": "150",
         "7": "5.6",
         "8": "1921",
         "9": "2025-05-11 19:47:34.629792"
        },
        {
         "0": "152760",
         "1": "The Monuments Men",
         "10": "Developer",
         "11": "2014",
         "2": "7.0E7",
         "3": "43.873266",
         "4": "2014-01-24",
         "5": "1.54984035E8",
         "6": "118",
         "7": "5.8",
         "8": "1523",
         "9": "2025-05-11 19:47:34.629792"
        },
        {
         "0": "156022",
         "1": "The Equalizer",
         "10": "Developer",
         "11": "2014",
         "2": "5.5E7",
         "3": "79.922059",
         "4": "2014-09-24",
         "5": "1.92330738E8",
         "6": "132",
         "7": "7.1",
         "8": "2954",
         "9": "2025-05-11 19:47:34.629792"
        },
        {
         "0": "157336",
         "1": "Interstellar",
         "10": "Developer",
         "11": "2014",
         "2": "1.65E8",
         "3": "724.247784",
         "4": "2014-11-05",
         "5": "6.75120017E8",
         "6": "169",
         "7": "8.1",
         "8": "10867",
         "9": "2025-05-11 19:47:34.629792"
        },
        {
         "0": "157350",
         "1": "Divergent",
         "10": "Developer",
         "11": "2014",
         "2": "8.5E7",
         "3": "80.316463",
         "4": "2014-03-14",
         "5": "2.88747895E8",
         "6": "139",
         "7": "6.9",
         "8": "4663",
         "9": "2025-05-11 19:47:34.629792"
        },
        {
         "0": "157353",
         "1": "Transcendence",
         "10": "Developer",
         "11": "2014",
         "2": "1.0E8",
         "3": "58.991388",
         "4": "2014-04-16",
         "5": "1.03039258E8",
         "6": "119",
         "7": "5.9",
         "8": "2295",
         "9": "2025-05-11 19:47:34.629792"
        },
        {
         "0": "157847",
         "1": "Joe",
         "10": "Developer",
         "11": "2014",
         "2": "4000000.0",
         "3": "22.987897",
         "4": "2014-04-11",
         "5": "2365467.0",
         "6": "118",
         "7": "6.5",
         "8": "338",
         "9": "2025-05-11 19:47:34.629792"
        },
        {
         "0": "157849",
         "1": "A Most Wanted Man",
         "10": "Developer",
         "11": "2014",
         "2": "1.5E7",
         "3": "26.708193",
         "4": "2014-07-25",
         "5": "3.1554855E7",
         "6": "121",
         "7": "6.5",
         "8": "541",
         "9": "2025-05-11 19:47:34.629792"
        },
        {
         "0": "168530",
         "1": "Ride Along",
         "10": "Developer",
         "11": "2014",
         "2": "2.5E7",
         "3": "28.468",
         "4": "2014-01-07",
         "5": "1.53997819E8",
         "6": "99",
         "7": "6.1",
         "8": "853",
         "9": "2025-05-11 19:47:34.629792"
        },
        {
         "0": "169917",
         "1": "A Walk Among the Tombstones",
         "10": "Developer",
         "11": "2014",
         "2": "2.8E7",
         "3": "61.309619",
         "4": "2014-09-18",
         "5": "5.31816E7",
         "6": "113",
         "7": "6.2",
         "8": "1131",
         "9": "2025-05-11 19:47:34.629792"
        },
        {
         "0": "170687",
         "1": "The Boxtrolls",
         "10": "Developer",
         "11": "2014",
         "2": "6.0E7",
         "3": "30.656345",
         "4": "2014-09-10",
         "5": "1.0825577E8",
         "6": "97",
         "7": "6.6",
         "8": "668",
         "9": "2025-05-11 19:47:34.629792"
        },
        {
         "0": "171274",
         "1": "Inherent Vice",
         "10": "Developer",
         "11": "2014",
         "2": "2.0E7",
         "3": "45.742217",
         "4": "2014-12-25",
         "5": "1.1110975E7",
         "6": "148",
         "7": "6.5",
         "8": "833",
         "9": "2025-05-11 19:47:34.629792"
        },
        {
         "0": "171424",
         "1": "The Green Inferno",
         "10": "Developer",
         "11": "2014",
         "2": "5000000.0",
         "3": "17.845161",
         "4": "2014-09-04",
         "5": "6833445.0",
         "6": "100",
         "7": "5.0",
         "8": "349",
         "9": "2025-05-11 19:47:34.629792"
        },
        {
         "0": "172385",
         "1": "Rio 2",
         "10": "Developer",
         "11": "2014",
         "2": "1.03E8",
         "3": "42.40024",
         "4": "2014-03-19",
         "5": "5.00188435E8",
         "6": "102",
         "7": "6.3",
         "8": "978",
         "9": "2025-05-11 19:47:34.629792"
        },
        {
         "0": "177572",
         "1": "Big Hero 6",
         "10": "Developer",
         "11": "2014",
         "2": "1.65E8",
         "3": "203.73459",
         "4": "2014-10-24",
         "5": "6.52105443E8",
         "6": "102",
         "7": "7.8",
         "8": "6135",
         "9": "2025-05-11 19:47:34.629792"
        },
        {
         "0": "180296",
         "1": "They Came Together",
         "10": "Developer",
         "11": "2014",
         "2": "2000000.0",
         "3": "12.036888",
         "4": "2014-06-27",
         "5": "2600000.0",
         "6": "84",
         "7": "5.3",
         "8": "171",
         "9": "2025-05-11 19:47:34.629792"
        },
        {
         "0": "181533",
         "1": "Night at the Museum: Secret of the Tomb",
         "10": "Developer",
         "11": "2014",
         "2": "1.27E8",
         "3": "115.597753",
         "4": "2014-12-17",
         "5": "3.49424282E8",
         "6": "97",
         "7": "6.1",
         "8": "1851",
         "9": "2025-05-11 19:47:34.629792"
        },
        {
         "0": "184098",
         "1": "Think Like a Man Too",
         "10": "Developer",
         "11": "2014",
         "2": "2.4E7",
         "3": "15.237142",
         "4": "2014-06-20",
         "5": "7.0181428E7",
         "6": "105",
         "7": "6.4",
         "8": "225",
         "9": "2025-05-11 19:47:34.629792"
        },
        {
         "0": "184315",
         "1": "Hercules",
         "10": "Developer",
         "11": "2014",
         "2": "1.0E8",
         "3": "76.842247",
         "4": "2014-07-23",
         "5": "2.434E8",
         "6": "99",
         "7": "5.6",
         "8": "1680",
         "9": "2025-05-11 19:47:34.629792"
        },
        {
         "0": "184345",
         "1": "A Haunted House 2",
         "10": "Developer",
         "11": "2014",
         "2": "2000000.0",
         "3": "18.428909",
         "4": "2014-04-17",
         "5": "2600000.0",
         "6": "87",
         "7": "5.4",
         "8": "346",
         "9": "2025-05-11 19:47:34.629792"
        },
        {
         "0": "184346",
         "1": "Deliver Us from Evil",
         "10": "Developer",
         "11": "2014",
         "2": "3.0E7",
         "3": "29.359201",
         "4": "2014-07-01",
         "5": "3.75E7",
         "6": "118",
         "7": "5.9",
         "8": "690",
         "9": "2025-05-11 19:47:34.629792"
        },
        {
         "0": "187017",
         "1": "22 Jump Street",
         "10": "Developer",
         "11": "2014",
         "2": "5.0E7",
         "3": "52.380982",
         "4": "2014-06-05",
         "5": "1.88441614E8",
         "6": "112",
         "7": "7.0",
         "8": "3319",
         "9": "2025-05-11 19:47:34.629792"
        },
        {
         "0": "188161",
         "1": "A Million Ways to Die in the West",
         "10": "Developer",
         "11": "2014",
         "2": "2000000.0",
         "3": "32.808675",
         "4": "2014-05-22",
         "5": "2600000.0",
         "6": "116",
         "7": "5.8",
         "8": "1468",
         "9": "2025-05-11 19:47:34.629792"
        },
        {
         "0": "188166",
         "1": "Blue Ruin",
         "10": "Developer",
         "11": "2014",
         "2": "2000000.0",
         "3": "25.349758",
         "4": "2014-04-25",
         "5": "2600000.0",
         "6": "90",
         "7": "6.9",
         "8": "462",
         "9": "2025-05-11 19:47:34.629792"
        },
        {
         "0": "188207",
         "1": "The Legend of Hercules",
         "10": "Developer",
         "11": "2014",
         "2": "7.0E7",
         "3": "25.020428",
         "4": "2014-01-10",
         "5": "6.1279452E7",
         "6": "99",
         "7": "4.4",
         "8": "533",
         "9": "2025-05-11 19:47:34.629792"
        },
        {
         "0": "189711",
         "1": "Love in the Time of Monsters",
         "10": "Developer",
         "11": "2014",
         "2": "2000000.0",
         "3": "0.133619",
         "4": "2014-03-08",
         "5": "2600000.0",
         "6": "75",
         "7": "5.0",
         "8": "2",
         "9": "2025-05-11 19:47:34.629792"
        },
        {
         "0": "190859",
         "1": "American Sniper",
         "10": "Developer",
         "11": "2014",
         "2": "5.88E7",
         "3": "87.53437",
         "4": "2014-12-11",
         "5": "5.42307423E8",
         "6": "133",
         "7": "7.4",
         "8": "4469",
         "9": "2025-05-11 19:47:34.629792"
        },
        {
         "0": "192102",
         "1": "3 Days to Kill",
         "10": "Developer",
         "11": "2014",
         "2": "2.8E7",
         "3": "41.638961",
         "4": "2014-02-14",
         "5": "5.2597999E7",
         "6": "113",
         "7": "6.0",
         "8": "883",
         "9": "2025-05-11 19:47:34.629792"
        },
        {
         "0": "192132",
         "1": "Palo Alto",
         "10": "Developer",
         "11": "2014",
         "2": "2000000.0",
         "3": "16.570708",
         "4": "2014-05-09",
         "5": "2600000.0",
         "6": "100",
         "7": "6.4",
         "8": "348",
         "9": "2025-05-11 19:47:34.629792"
        },
        {
         "0": "193610",
         "1": "The Other Woman",
         "10": "Developer",
         "11": "2014",
         "2": "4.0E7",
         "3": "34.519636",
         "4": "2014-04-16",
         "5": "1.96781193E8",
         "6": "109",
         "7": "6.2",
         "8": "1437",
         "9": "2025-05-11 19:47:34.629792"
        },
        {
         "0": "193893",
         "1": "Let's Be Cops",
         "10": "Developer",
         "11": "2014",
         "2": "1.7E7",
         "3": "70.668923",
         "4": "2014-08-13",
         "5": "1.36621271E8",
         "6": "104",
         "7": "6.4",
         "8": "1219",
         "9": "2025-05-11 19:47:34.629792"
        },
        {
         "0": "194662",
         "1": "Birdman",
         "10": "Developer",
         "11": "2014",
         "2": "1.8E7",
         "3": "89.811154",
         "4": "2014-08-27",
         "5": "1.03215094E8",
         "6": "119",
         "7": "7.4",
         "8": "4535",
         "9": "2025-05-11 19:47:34.629792"
        },
        {
         "0": "195589",
         "1": "Neighbors",
         "10": "Developer",
         "11": "2014",
         "2": "1.8E7",
         "3": "36.471231",
         "4": "2014-05-08",
         "5": "2.681574E8",
         "6": "96",
         "7": "6.2",
         "8": "2713",
         "9": "2025-05-11 19:47:34.629792"
        },
        {
         "0": "196867",
         "1": "Annie",
         "10": "Developer",
         "11": "2014",
         "2": "6.5E7",
         "3": "33.439187",
         "4": "2014-12-19",
         "5": "1.33821816E8",
         "6": "119",
         "7": "6.0",
         "8": "466",
         "9": "2025-05-11 19:47:34.629792"
        },
        {
         "0": "198185",
         "1": "Million Dollar Arm",
         "10": "Developer",
         "11": "2014",
         "2": "2.5E7",
         "3": "17.312433",
         "4": "2014-05-09",
         "5": "3.8307627E7",
         "6": "124",
         "7": "6.6",
         "8": "259",
         "9": "2025-05-11 19:47:34.629792"
        },
        {
         "0": "198370",
         "1": "Mutual Friends",
         "10": "Developer",
         "11": "2014",
         "2": "2000000.0",
         "3": "0.136721",
         "4": "2014-04-15",
         "5": "2600000.0",
         "6": "75",
         "7": "0.0",
         "8": "0",
         "9": "2025-05-11 19:47:34.629792"
        },
        {
         "0": "198663",
         "1": "The Maze Runner",
         "10": "Developer",
         "11": "2014",
         "2": "3.4E7",
         "3": "131.815575",
         "4": "2014-09-10",
         "5": "3.48319861E8",
         "6": "113",
         "7": "7.0",
         "8": "5371",
         "9": "2025-05-11 19:47:34.629792"
        },
        {
         "0": "199933",
         "1": "Atlas Shrugged Part III: Who is John Galt?",
         "10": "Developer",
         "11": "2014",
         "2": "5000000.0",
         "3": "1.731035",
         "4": "2014-09-12",
         "5": "846704.0",
         "6": "99",
         "7": "3.9",
         "8": "15",
         "9": "2025-05-11 19:47:34.629792"
        },
        {
         "0": "200505",
         "1": "Draft Day",
         "10": "Developer",
         "11": "2014",
         "2": "2.5E7",
         "3": "14.17009",
         "4": "2014-04-11",
         "5": "2.8831145E7",
         "6": "109",
         "7": "6.5",
         "8": "304",
         "9": "2025-05-11 19:47:34.629792"
        },
        {
         "0": "204922",
         "1": "Before I Go to Sleep",
         "10": "Developer",
         "11": "2014",
         "2": "2.2E7",
         "3": "48.784734",
         "4": "2014-09-03",
         "5": "1.5447154E7",
         "6": "92",
         "7": "6.2",
         "8": "659",
         "9": "2025-05-11 19:47:34.629792"
        },
        {
         "0": "205587",
         "1": "The Judge",
         "10": "Developer",
         "11": "2014",
         "2": "5.0E7",
         "3": "42.472324",
         "4": "2014-10-08",
         "5": "8.3719388E7",
         "6": "141",
         "7": "7.2",
         "8": "1417",
         "9": "2025-05-11 19:47:34.629792"
        },
        {
         "0": "205596",
         "1": "The Imitation Game",
         "10": "Developer",
         "11": "2014",
         "2": "1.4E7",
         "3": "145.364591",
         "4": "2014-11-14",
         "5": "2.33555708E8",
         "6": "113",
         "7": "8.0",
         "8": "5723",
         "9": "2025-05-11 19:47:34.629792"
        },
        {
         "0": "206296",
         "1": "The Last Five Years",
         "10": "Developer",
         "11": "2014",
         "2": "2000000.0",
         "3": "5.563068",
         "4": "2014-11-03",
         "5": "2600000.0",
         "6": "94",
         "7": "5.5",
         "8": "143",
         "9": "2025-05-11 19:47:34.629792"
        },
        {
         "0": "206563",
         "1": "Trash",
         "10": "Developer",
         "11": "2014",
         "2": "2000000.0",
         "3": "14.637357",
         "4": "2014-10-09",
         "5": "2600000.0",
         "6": "112",
         "7": "7.1",
         "8": "242",
         "9": "2025-05-11 19:47:34.629792"
        },
        {
         "0": "208763",
         "1": "Viy",
         "10": "Developer",
         "11": "2014",
         "2": "2.6E7",
         "3": "7.182761",
         "4": "2014-01-30",
         "5": "3.25E7",
         "6": "127",
         "7": "4.9",
         "8": "71",
         "9": "2025-05-11 19:47:34.629792"
        },
        {
         "0": "208869",
         "1": "Plastic",
         "10": "Developer",
         "11": "2014",
         "2": "2000000.0",
         "3": "9.70276",
         "4": "2014-04-30",
         "5": "2600000.0",
         "6": "102",
         "7": "6.1",
         "8": "86",
         "9": "2025-05-11 19:47:34.629792"
        },
        {
         "0": "209451",
         "1": "Jersey Boys",
         "10": "Developer",
         "11": "2014",
         "2": "4.0E7",
         "3": "14.199933",
         "4": "2014-06-05",
         "5": "6.7347013E7",
         "6": "134",
         "7": "6.8",
         "8": "255",
         "9": "2025-05-11 19:47:34.629792"
        },
        {
         "0": "210577",
         "1": "Gone Girl",
         "10": "Developer",
         "11": "2014",
         "2": "6.1E7",
         "3": "143.041543",
         "4": "2014-10-01",
         "5": "3.69330363E8",
         "6": "145",
         "7": "7.9",
         "8": "5862",
         "9": "2025-05-11 19:47:34.629792"
        },
        {
         "0": "215211",
         "1": "Grace of Monaco",
         "10": "Developer",
         "11": "2014",
         "2": "3.0E7",
         "3": "10.958697",
         "4": "2014-05-14",
         "5": "3.75E7",
         "6": "103",
         "7": "5.8",
         "8": "195",
         "9": "2025-05-11 19:47:34.629792"
        },
        {
         "0": "216282",
         "1": "Into the Storm",
         "10": "Developer",
         "11": "2014",
         "2": "5.0E7",
         "3": "20.566554",
         "4": "2014-08-06",
         "5": "1.60602194E8",
         "6": "89",
         "7": "5.8",
         "8": "817",
         "9": "2025-05-11 19:47:34.629792"
        },
        {
         "0": "218043",
         "1": "Left Behind",
         "10": "Developer",
         "11": "2014",
         "2": "1.6E7",
         "3": "33.452469",
         "4": "2014-10-03",
         "5": "1.9682924E7",
         "6": "110",
         "7": "3.7",
         "8": "392",
         "9": "2025-05-11 19:47:34.629792"
        },
        {
         "0": "218778",
         "1": "Alexander and the Terrible, Horrible, No Good, Very Bad Day",
         "10": "Developer",
         "11": "2014",
         "2": "2.8E7",
         "3": "22.14595",
         "4": "2014-10-08",
         "5": "1.00654149E8",
         "6": "81",
         "7": "6.1",
         "8": "493",
         "9": "2025-05-11 19:47:34.629792"
        },
        {
         "0": "222649",
         "1": "Rosewater",
         "10": "Developer",
         "11": "2014",
         "2": "2000000.0",
         "3": "5.75555",
         "4": "2014-11-07",
         "5": "2600000.0",
         "6": "103",
         "7": "6.5",
         "8": "98",
         "9": "2025-05-11 19:47:34.629792"
        },
        {
         "0": "222899",
         "1": "About Last Night",
         "10": "Developer",
         "11": "2014",
         "2": "1.25E7",
         "3": "11.828068",
         "4": "2014-02-14",
         "5": "4.9002684E7",
         "6": "100",
         "7": "6.0",
         "8": "210",
         "9": "2025-05-11 19:47:34.629792"
        },
        {
         "0": "222935",
         "1": "The Fault in Our Stars",
         "10": "Developer",
         "11": "2014",
         "2": "1.2E7",
         "3": "74.358971",
         "4": "2014-05-16",
         "5": "3.07166834E8",
         "6": "125",
         "7": "7.6",
         "8": "3759",
         "9": "2025-05-11 19:47:34.629792"
        },
        {
         "0": "224141",
         "1": "Into the Woods",
         "10": "Developer",
         "11": "2014",
         "2": "5.0E7",
         "3": "65.90161",
         "4": "2014-12-25",
         "5": "2.12902372E8",
         "6": "125",
         "7": "5.6",
         "8": "1652",
         "9": "2025-05-11 19:47:34.629792"
        },
        {
         "0": "225565",
         "1": "That Awkward Moment",
         "10": "Developer",
         "11": "2014",
         "2": "8000000.0",
         "3": "37.821106",
         "4": "2014-01-29",
         "5": "2.6049082E7",
         "6": "94",
         "7": "6.1",
         "8": "1004",
         "9": "2025-05-11 19:47:34.629792"
        },
        {
         "0": "225574",
         "1": "Non-Stop",
         "10": "Developer",
         "11": "2014",
         "2": "5.0E7",
         "3": "83.295796",
         "4": "2014-01-26",
         "5": "2.228096E8",
         "6": "106",
         "7": "6.8",
         "8": "2268",
         "9": "2025-05-11 19:47:34.629792"
        },
        {
         "0": "225886",
         "1": "Sex Tape",
         "10": "Developer",
         "11": "2014",
         "2": "4.0E7",
         "3": "72.641296",
         "4": "2014-07-17",
         "5": "1.26069509E8",
         "6": "97",
         "7": "5.3",
         "8": "1695",
         "9": "2025-05-11 19:47:34.629792"
        },
        {
         "0": "226486",
         "1": "Tammy",
         "10": "Developer",
         "11": "2014",
         "2": "2.0E7",
         "3": "21.657563",
         "4": "2014-07-02",
         "5": "1.00525432E8",
         "6": "97",
         "7": "5.0",
         "8": "500",
         "9": "2025-05-11 19:47:34.629792"
        },
        {
         "0": "226857",
         "1": "Endless Love",
         "10": "Developer",
         "11": "2014",
         "2": "2.0E7",
         "3": "27.256849",
         "4": "2014-02-12",
         "5": "3.407792E7",
         "6": "103",
         "7": "6.7",
         "8": "542",
         "9": "2025-05-11 19:47:34.629792"
        },
        {
         "0": "227156",
         "1": "The Giver",
         "10": "Developer",
         "11": "2014",
         "2": "2.5E7",
         "3": "53.811461",
         "4": "2014-08-11",
         "5": "6.6980456E7",
         "6": "94",
         "7": "6.4",
         "8": "1798",
         "9": "2025-05-11 19:47:34.629792"
        },
        {
         "0": "227159",
         "1": "Horrible Bosses 2",
         "10": "Developer",
         "11": "2014",
         "2": "4.2E7",
         "3": "82.185281",
         "4": "2014-11-26",
         "5": "1.07670357E8",
         "6": "108",
         "7": "6.1",
         "8": "1536",
         "9": "2025-05-11 19:47:34.629792"
        },
        {
         "0": "227306",
         "1": "Unbroken",
         "10": "Developer",
         "11": "2014",
         "2": "6.5E7",
         "3": "43.055253",
         "4": "2014-12-25",
         "5": "1.63442937E8",
         "6": "137",
         "7": "7.3",
         "8": "1400",
         "9": "2025-05-11 19:47:34.629792"
        },
        {
         "0": "227348",
         "1": "Paranormal Activity: The Marked Ones",
         "10": "Developer",
         "11": "2014",
         "2": "5000000.0",
         "3": "19.984477",
         "4": "2014-01-01",
         "5": "8.6362372E7",
         "6": "84",
         "7": "5.2",
         "8": "449",
         "9": "2025-05-11 19:47:34.629792"
        },
        {
         "0": "227735",
         "1": "Dolphin Tale 2",
         "10": "Developer",
         "11": "2014",
         "2": "3.6E7",
         "3": "6.967857",
         "4": "2014-09-12",
         "5": "5.2424533E7",
         "6": "107",
         "7": "6.7",
         "8": "96",
         "9": "2025-05-11 19:47:34.629792"
        },
        {
         "0": "227783",
         "1": "The Nut Job",
         "10": "Developer",
         "11": "2014",
         "2": "2000000.0",
         "3": "18.568021",
         "4": "2014-01-17",
         "5": "2600000.0",
         "6": "85",
         "7": "5.5",
         "8": "319",
         "9": "2025-05-11 19:47:34.629792"
        },
        {
         "0": "227975",
         "1": "Praia do Futuro",
         "10": "Developer",
         "11": "2014",
         "2": "2000000.0",
         "3": "2.611364",
         "4": "2014-05-01",
         "5": "2600000.0",
         "6": "106",
         "7": "6.4",
         "8": "31",
         "9": "2025-05-11 19:47:34.629792"
        },
        {
         "0": "228194",
         "1": "The Hundred-Foot Journey",
         "10": "Developer",
         "11": "2014",
         "2": "2.2E7",
         "3": "27.898438",
         "4": "2014-08-06",
         "5": "8.8880821E7",
         "6": "122",
         "7": "7.3",
         "8": "508",
         "9": "2025-05-11 19:47:34.629792"
        },
        {
         "0": "228326",
         "1": "The Book of Life",
         "10": "Developer",
         "11": "2014",
         "2": "5.0E7",
         "3": "34.890999",
         "4": "2014-10-01",
         "5": "9.7437106E7",
         "6": "95",
         "7": "7.3",
         "8": "755",
         "9": "2025-05-11 19:47:34.629792"
        },
        {
         "0": "228970",
         "1": "Wild",
         "10": "Developer",
         "11": "2014",
         "2": "1.5E7",
         "3": "42.952942",
         "4": "2014-12-05",
         "5": "5.2501541E7",
         "6": "115",
         "7": "7.0",
         "8": "951",
         "9": "2025-05-11 19:47:34.629792"
        },
        {
         "0": "230266",
         "1": "Miss Julie",
         "10": "Developer",
         "11": "2014",
         "2": "5500000.0",
         "3": "5.033065",
         "4": "2014-09-07",
         "5": "5000000.0",
         "6": "120",
         "7": "5.9",
         "8": "45",
         "9": "2025-05-11 19:47:34.629792"
        },
        {
         "0": "231576",
         "1": "Wish I Was Here",
         "10": "Developer",
         "11": "2014",
         "2": "5500000.0",
         "3": "15.015271",
         "4": "2014-01-18",
         "5": "5483299.0",
         "6": "120",
         "7": "6.4",
         "8": "300",
         "9": "2025-05-11 19:47:34.629792"
        },
        {
         "0": "232672",
         "1": "Blended",
         "10": "Developer",
         "11": "2014",
         "2": "4.0E7",
         "3": "44.120328",
         "4": "2014-05-21",
         "5": "1.2349461E8",
         "6": "117",
         "7": "6.6",
         "8": "1006",
         "9": "2025-05-11 19:47:34.629792"
        },
        {
         "0": "232679",
         "1": "When the Game Stands Tall",
         "10": "Developer",
         "11": "2014",
         "2": "1.5E7",
         "3": "7.297757",
         "4": "2014-08-22",
         "5": "3.0127963E7",
         "6": "115",
         "7": "6.3",
         "8": "130",
         "9": "2025-05-11 19:47:34.629792"
        },
        {
         "0": "235260",
         "1": "Son of God",
         "10": "Developer",
         "11": "2014",
         "2": "2.2E7",
         "3": "9.175762",
         "4": "2014-02-28",
         "5": "6.7800064E7",
         "6": "138",
         "7": "5.9",
         "8": "83",
         "9": "2025-05-11 19:47:34.629792"
        },
        {
         "0": "235271",
         "1": "Addicted",
         "10": "Developer",
         "11": "2014",
         "2": "2000000.0",
         "3": "7.544515",
         "4": "2014-10-10",
         "5": "2600000.0",
         "6": "105",
         "7": "5.4",
         "8": "63",
         "9": "2025-05-11 19:47:34.629792"
        },
        {
         "0": "236751",
         "1": "Heaven is for Real",
         "10": "Developer",
         "11": "2014",
         "2": "1.2E7",
         "3": "11.150261",
         "4": "2014-04-16",
         "5": "1.01332962E8",
         "6": "99",
         "7": "6.0",
         "8": "229",
         "9": "2025-05-11 19:47:34.629792"
        },
        {
         "0": "238603",
         "1": "Earth to Echo",
         "10": "Developer",
         "11": "2014",
         "2": "1.3E7",
         "3": "17.371327",
         "4": "2014-06-14",
         "5": "4.53E7",
         "6": "89",
         "7": "5.7",
         "8": "290",
         "9": "2025-05-11 19:47:34.629792"
        },
        {
         "0": "238636",
         "1": "The Purge: Anarchy",
         "10": "Developer",
         "11": "2014",
         "2": "9000000.0",
         "3": "82.975841",
         "4": "2014-07-17",
         "5": "1.08782847E8",
         "6": "104",
         "7": "6.6",
         "8": "1954",
         "9": "2025-05-11 19:47:34.629792"
        },
        {
         "0": "239563",
         "1": "St. Vincent",
         "10": "Developer",
         "11": "2014",
         "2": "1.3E7",
         "3": "43.791745",
         "4": "2014-10-09",
         "5": "5.4837234E7",
         "6": "102",
         "7": "7.1",
         "8": "763",
         "9": "2025-05-11 19:47:34.629792"
        },
        {
         "0": "239566",
         "1": "Get on Up",
         "10": "Developer",
         "11": "2014",
         "2": "2000000.0",
         "3": "13.064264",
         "4": "2014-08-01",
         "5": "2600000.0",
         "6": "139",
         "7": "6.4",
         "8": "158",
         "9": "2025-05-11 19:47:34.629792"
        },
        {
         "0": "239571",
         "1": "The Best of Me",
         "10": "Developer",
         "11": "2014",
         "2": "2.6E7",
         "3": "33.93914",
         "4": "2014-10-16",
         "5": "3.5926213E7",
         "6": "117",
         "7": "7.2",
         "8": "765",
         "9": "2025-05-11 19:47:34.629792"
        },
        {
         "0": "239678",
         "1": "This Is Where I Leave You",
         "10": "Developer",
         "11": "2014",
         "2": "1.98E7",
         "3": "20.311684",
         "4": "2014-09-10",
         "5": "4.129632E7",
         "6": "103",
         "7": "6.5",
         "8": "505",
         "9": "2025-05-11 19:47:34.629792"
        },
        {
         "0": "239897",
         "1": "Dwegons",
         "10": "Developer",
         "11": "2014",
         "2": "2000000.0",
         "3": "0.485405",
         "4": "2014-01-24",
         "5": "2600000.0",
         "6": "98",
         "7": "0.5",
         "8": "1",
         "9": "2025-05-11 19:47:34.629792"
        },
        {
         "0": "240832",
         "1": "Lucy",
         "10": "Developer",
         "11": "2014",
         "2": "4.0E7",
         "3": "115.241998",
         "4": "2014-07-14",
         "5": "1.26546825E8",
         "6": "89",
         "7": "6.3",
         "8": "5878",
         "9": "2025-05-11 19:47:34.629792"
        },
        {
         "0": "241239",
         "1": "A Most Violent Year",
         "10": "Developer",
         "11": "2014",
         "2": "2.0E7",
         "3": "37.629309",
         "4": "2014-12-30",
         "5": "1.200707E7",
         "6": "125",
         "7": "6.5",
         "8": "546",
         "9": "2025-05-11 19:47:34.629792"
        },
        {
         "0": "241254",
         "1": "The Prince",
         "10": "Developer",
         "11": "2014",
         "2": "1.8E7",
         "3": "21.638673",
         "4": "2014-08-22",
         "5": "2.665868E8",
         "6": "93",
         "7": "4.6",
         "8": "218",
         "9": "2025-05-11 19:47:34.629792"
        },
        {
         "0": "241766",
         "1": "Lords of London",
         "10": "Developer",
         "11": "2014",
         "2": "3440000.0",
         "3": "1.913302",
         "4": "2014-01-06",
         "5": "4300000.0",
         "6": "90",
         "7": "3.6",
         "8": "6",
         "9": "2025-05-11 19:47:34.629792"
        },
        {
         "0": "241771",
         "1": "Beyond the Lights",
         "10": "Developer",
         "11": "2014",
         "2": "7000000.0",
         "3": "8.079046",
         "4": "2014-09-10",
         "5": "1.4618727E7",
         "6": "116",
         "7": "7.0",
         "8": "139",
         "9": "2025-05-11 19:47:34.629792"
        },
        {
         "0": "242095",
         "1": "The Signal",
         "10": "Developer",
         "11": "2014",
         "2": "4000000.0",
         "3": "27.662696",
         "4": "2014-03-15",
         "5": "600896.0",
         "6": "95",
         "7": "5.8",
         "8": "631",
         "9": "2025-05-11 19:47:34.629792"
        },
        {
         "0": "242166",
         "1": "Red Sky",
         "10": "Developer",
         "11": "2014",
         "2": "2.5E7",
         "3": "3.344158",
         "4": "2014-03-12",
         "5": "3.125E7",
         "6": "100",
         "7": "4.1",
         "8": "26",
         "9": "2025-05-11 19:47:34.629792"
        },
        {
         "0": "242512",
         "1": "Ouija",
         "10": "Developer",
         "11": "2014",
         "2": "5000000.0",
         "3": "56.30466",
         "4": "2014-10-24",
         "5": "1.03590271E8",
         "6": "89",
         "7": "4.9",
         "8": "983",
         "9": "2025-05-11 19:47:34.629792"
        },
        {
         "0": "242582",
         "1": "Nightcrawler",
         "10": "Developer",
         "11": "2014",
         "2": "8500000.0",
         "3": "89.095538",
         "4": "2014-10-23",
         "5": "3.8697217E7",
         "6": "117",
         "7": "7.6",
         "8": "3395",
         "9": "2025-05-11 19:47:34.629792"
        },
        {
         "0": "244267",
         "1": "I Origins",
         "10": "Developer",
         "11": "2014",
         "2": "2000000.0",
         "3": "37.555398",
         "4": "2014-07-18",
         "5": "2600000.0",
         "6": "106",
         "7": "7.5",
         "8": "1063",
         "9": "2025-05-11 19:47:34.629792"
        },
        {
         "0": "244403",
         "1": "Rudderless",
         "10": "Developer",
         "11": "2014",
         "2": "5000000.0",
         "3": "10.619574",
         "4": "2014-10-17",
         "5": "6250000.0",
         "6": "105",
         "7": "7.4",
         "8": "105",
         "9": "2025-05-11 19:47:34.629792"
        },
        {
         "0": "244534",
         "1": "Happy Christmas",
         "10": "Developer",
         "11": "2014",
         "2": "2000000.0",
         "3": "7.052422",
         "4": "2014-06-26",
         "5": "2600000.0",
         "6": "82",
         "7": "5.2",
         "8": "58",
         "9": "2025-05-11 19:47:34.629792"
        },
        {
         "0": "244772",
         "1": "The Skeleton Twins",
         "10": "Developer",
         "11": "2014",
         "2": "2000000.0",
         "3": "15.699363",
         "4": "2014-01-18",
         "5": "2600000.0",
         "6": "90",
         "7": "6.7",
         "8": "292",
         "9": "2025-05-11 19:47:34.629792"
        },
        {
         "0": "244776",
         "1": "The Sleepwalker",
         "10": "Developer",
         "11": "2014",
         "2": "2000000.0",
         "3": "0.926084",
         "4": "2014-01-20",
         "5": "2600000.0",
         "6": "92",
         "7": "4.1",
         "8": "7",
         "9": "2025-05-11 19:47:34.629792"
        },
        {
         "0": "244783",
         "1": "Song One",
         "10": "Developer",
         "11": "2014",
         "2": "6000000.0",
         "3": "6.349218",
         "4": "2014-01-20",
         "5": "32251.0",
         "6": "86",
         "7": "5.5",
         "8": "87",
         "9": "2025-05-11 19:47:34.629792"
        },
        {
         "0": "244786",
         "1": "Whiplash",
         "10": "Developer",
         "11": "2014",
         "2": "3300000.0",
         "3": "192.528841",
         "4": "2014-10-10",
         "5": "1.3092E7",
         "6": "105",
         "7": "8.3",
         "8": "4254",
         "9": "2025-05-11 19:47:34.629792"
        },
        {
         "0": "245700",
         "1": "Mr. Turner",
         "10": "Developer",
         "11": "2014",
         "2": "2000000.0",
         "3": "9.242554",
         "4": "2014-10-31",
         "5": "2600000.0",
         "6": "150",
         "7": "6.3",
         "8": "204",
         "9": "2025-05-11 19:47:34.629792"
        },
        {
         "0": "245916",
         "1": "Kill the Messenger",
         "10": "Developer",
         "11": "2014",
         "2": "5000000.0",
         "3": "21.343093",
         "4": "2014-10-09",
         "5": "2450846.0",
         "6": "112",
         "7": "6.6",
         "8": "355",
         "9": "2025-05-11 19:47:34.629792"
        },
        {
         "0": "246403",
         "1": "Tusk",
         "10": "Developer",
         "11": "2014",
         "2": "2800000.0",
         "3": "15.754614",
         "4": "2014-09-19",
         "5": "1826705.0",
         "6": "102",
         "7": "5.1",
         "8": "366",
         "9": "2025-05-11 19:47:34.629792"
        },
        {
         "0": "248402",
         "1": "A Fine Step",
         "10": "Developer",
         "11": "2014",
         "2": "2000000.0",
         "3": "0.65434",
         "4": "2014-04-16",
         "5": "2600000.0",
         "6": "90",
         "7": "4.1",
         "8": "7",
         "9": "2025-05-11 19:47:34.629792"
        },
        {
         "0": "248774",
         "1": "Obvious Child",
         "10": "Developer",
         "11": "2014",
         "2": "2000000.0",
         "3": "10.12895",
         "4": "2014-06-06",
         "5": "2600000.0",
         "6": "83",
         "7": "6.7",
         "8": "187",
         "9": "2025-05-11 19:47:34.629792"
        },
        {
         "0": "250066",
         "1": "American Heist",
         "10": "Developer",
         "11": "2014",
         "2": "1.0E7",
         "3": "11.431434",
         "4": "2014-09-11",
         "5": "1.25E7",
         "6": "94",
         "7": "4.3",
         "8": "158",
         "9": "2025-05-11 19:47:34.629792"
        },
        {
         "0": "250184",
         "1": "Locker 13",
         "10": "Developer",
         "11": "2014",
         "2": "2000000.0",
         "3": "1.905197",
         "4": "2014-03-29",
         "5": "2600000.0",
         "6": "90",
         "7": "6.8",
         "8": "3",
         "9": "2025-05-11 19:47:34.629792"
        },
        {
         "0": "250349",
         "1": "Barbecue",
         "10": "Developer",
         "11": "2014",
         "2": "6000000.0",
         "3": "5.119593",
         "4": "2014-04-30",
         "5": "1.4348529E7",
         "6": "98",
         "7": "5.8",
         "8": "214",
         "9": "2025-05-11 19:47:34.629792"
        },
        {
         "0": "250546",
         "1": "Annabelle",
         "10": "Developer",
         "11": "2014",
         "2": "6500000.0",
         "3": "60.225219",
         "4": "2014-10-02",
         "5": "2.55273813E8",
         "6": "99",
         "7": "5.6",
         "8": "1517",
         "9": "2025-05-11 19:47:34.629792"
        },
        {
         "0": "251321",
         "1": "Aloft",
         "10": "Developer",
         "11": "2014",
         "2": "8000000.0",
         "3": "6.500835",
         "4": "2014-02-12",
         "5": "53086.0",
         "6": "112",
         "7": "5.1",
         "8": "41",
         "9": "2025-05-11 19:47:34.629792"
        },
        {
         "0": "251979",
         "1": "The Perfect Wave",
         "10": "Developer",
         "11": "2014",
         "2": "2000000.0",
         "3": "4.118612",
         "4": "2014-02-28",
         "5": "2600000.0",
         "6": "113",
         "7": "4.4",
         "8": "21",
         "9": "2025-05-11 19:47:34.629792"
        },
        {
         "0": "252680",
         "1": "Moms' Night Out",
         "10": "Developer",
         "11": "2014",
         "2": "5000000.0",
         "3": "10.274542",
         "4": "2014-03-25",
         "5": "1.0429707E7",
         "6": "98",
         "7": "5.5",
         "8": "121",
         "9": "2025-05-11 19:47:34.629792"
        },
        {
         "0": "253235",
         "1": "And So It Goes",
         "10": "Developer",
         "11": "2014",
         "2": "1.8E7",
         "3": "9.633711",
         "4": "2014-07-20",
         "5": "2.5312387E7",
         "6": "94",
         "7": "5.7",
         "8": "164",
         "9": "2025-05-11 19:47:34.629792"
        },
        {
         "0": "253253",
         "1": "Animals",
         "10": "Developer",
         "11": "2014",
         "2": "2000000.0",
         "3": "1.5846",
         "4": "2014-05-15",
         "5": "2600000.0",
         "6": "90",
         "7": "6.2",
         "8": "9",
         "9": "2025-05-11 19:47:34.629792"
        },
        {
         "0": "253261",
         "1": "Born to Fly: Elizabeth Streb vs. Gravity",
         "10": "Developer",
         "11": "2014",
         "2": "2000000.0",
         "3": "0.069244",
         "4": "2014-03-08",
         "5": "2600000.0",
         "6": "82",
         "7": "5.0",
         "8": "1",
         "9": "2025-05-11 19:47:34.629792"
        },
        {
         "0": "253290",
         "1": "Butterfly Girl",
         "10": "Developer",
         "11": "2014",
         "2": "2000000.0",
         "3": "0.015189",
         "4": "2014-03-10",
         "5": "2600000.0",
         "6": "77",
         "7": "0.0",
         "8": "0",
         "9": "2025-05-11 19:47:34.629792"
        },
        {
         "0": "253306",
         "1": "Housebound",
         "10": "Developer",
         "11": "2014",
         "2": "2000000.0",
         "3": "10.322858",
         "4": "2014-09-04",
         "5": "2600000.0",
         "6": "109",
         "7": "6.5",
         "8": "358",
         "9": "2025-05-11 19:47:34.629792"
        },
        {
         "0": "253331",
         "1": "Black or White",
         "10": "Developer",
         "11": "2014",
         "2": "9000000.0",
         "3": "12.172131",
         "4": "2014-09-06",
         "5": "2.1571189E7",
         "6": "121",
         "7": "6.5",
         "8": "115",
         "9": "2025-05-11 19:47:34.629792"
        },
        {
         "0": "254024",
         "1": "The Face of an Angel",
         "10": "Developer",
         "11": "2014",
         "2": "2000000.0",
         "3": "7.336256",
         "4": "2014-09-06",
         "5": "2600000.0",
         "6": "100",
         "7": "4.7",
         "8": "64",
         "9": "2025-05-11 19:47:34.629792"
        },
        {
         "0": "254473",
         "1": "Brick Mansions",
         "10": "Developer",
         "11": "2014",
         "2": "2.8E7",
         "3": "25.520976",
         "4": "2014-04-22",
         "5": "6.8896829E7",
         "6": "90",
         "7": "5.7",
         "8": "615",
         "9": "2025-05-11 19:47:34.629792"
        },
        {
         "0": "254904",
         "1": "The November Man",
         "10": "Developer",
         "11": "2014",
         "2": "1.5E7",
         "3": "45.317278",
         "4": "2014-08-27",
         "5": "3.2556119E7",
         "6": "108",
         "7": "6.0",
         "8": "639",
         "9": "2025-05-11 19:47:34.629792"
        },
        {
         "0": "255343",
         "1": "Escobar: Paradise Lost",
         "10": "Developer",
         "11": "2014",
         "2": "1.7E7",
         "3": "25.112567",
         "4": "2014-10-11",
         "5": "3758328.0",
         "6": "120",
         "7": "6.1",
         "8": "271",
         "9": "2025-05-11 19:47:34.629792"
        },
        {
         "0": "256092",
         "1": "Drive Hard",
         "10": "Developer",
         "11": "2014",
         "2": "1.2E7",
         "3": "3.94487",
         "4": "2014-05-26",
         "5": "1.5E7",
         "6": "96",
         "7": "3.9",
         "8": "74",
         "9": "2025-05-11 19:47:34.629792"
        },
        {
         "0": "256274",
         "1": "As Above, So Below",
         "10": "Developer",
         "11": "2014",
         "2": "5000000.0",
         "3": "26.510558",
         "4": "2014-08-14",
         "5": "4.01E7",
         "6": "93",
         "7": "6.1",
         "8": "766",
         "9": "2025-05-11 19:47:34.629792"
        },
        {
         "0": "256687",
         "1": "Swelter",
         "10": "Developer",
         "11": "2014",
         "2": "2000000.0",
         "3": "2.214925",
         "4": "2014-04-20",
         "5": "2600000.0",
         "6": "96",
         "7": "4.6",
         "8": "21",
         "9": "2025-05-11 19:47:34.629792"
        },
        {
         "0": "256917",
         "1": "The Water Diviner",
         "10": "Developer",
         "11": "2014",
         "2": "2.25E7",
         "3": "22.096286",
         "4": "2014-12-25",
         "5": "1.5520023E7",
         "6": "112",
         "7": "6.8",
         "8": "431",
         "9": "2025-05-11 19:47:34.629792"
        },
        {
         "0": "257932",
         "1": "Dragon Nest: Warriors' Dawn",
         "10": "Developer",
         "11": "2014",
         "2": "4.0E7",
         "3": "5.057695",
         "4": "2014-05-20",
         "5": "5.0E7",
         "6": "88",
         "7": "6.8",
         "8": "19",
         "9": "2025-05-11 19:47:34.629792"
        },
        {
         "0": "258755",
         "1": "A escondidas",
         "10": "Developer",
         "11": "2014",
         "2": "2000000.0",
         "3": "1.233688",
         "4": "2014-10-03",
         "5": "2600000.0",
         "6": "96",
         "7": "7.6",
         "8": "26",
         "9": "2025-05-11 19:47:34.629792"
        },
        {
         "0": "260346",
         "1": "Taken 3",
         "10": "Developer",
         "11": "2014",
         "2": "4.8E7",
         "3": "88.844777",
         "4": "2014-12-16",
         "5": "3.25771424E8",
         "6": "109",
         "7": "6.1",
         "8": "2200",
         "9": "2025-05-11 19:47:34.629792"
        },
        {
         "0": "260947",
         "1": "Something Wicked",
         "10": "Developer",
         "11": "2014",
         "2": "3000000.0",
         "3": "1.968679",
         "4": "2014-04-04",
         "5": "3750000.0",
         "6": "95",
         "7": "4.6",
         "8": "16",
         "9": "2025-05-11 19:47:34.629792"
        },
        {
         "0": "262543",
         "1": "Autómata",
         "10": "Developer",
         "11": "2014",
         "2": "7000000.0",
         "3": "49.808505",
         "4": "2014-10-09",
         "5": "8750000.0",
         "6": "110",
         "7": "5.6",
         "8": "670",
         "9": "2025-05-11 19:47:34.629792"
        },
        {
         "0": "263503",
         "1": "Water & Power",
         "10": "Developer",
         "11": "2014",
         "2": "2000000.0",
         "3": "0.350557",
         "4": "2014-05-02",
         "5": "2600000.0",
         "6": "75",
         "7": "3.0",
         "8": "1",
         "9": "2025-05-11 19:47:34.629792"
        },
        {
         "0": "264656",
         "1": "The Homesman",
         "10": "Developer",
         "11": "2014",
         "2": "1.6E7",
         "3": "20.59148",
         "4": "2014-05-18",
         "5": "3442853.0",
         "6": "122",
         "7": "6.4",
         "8": "258",
         "9": "2025-05-11 19:47:34.629792"
        },
        {
         "0": "266034",
         "1": "La chambre bleue",
         "10": "Developer",
         "11": "2014",
         "2": "2000000.0",
         "3": "2.486992",
         "4": "2014-05-16",
         "5": "2600000.0",
         "6": "75",
         "7": "6.2",
         "8": "32",
         "9": "2025-05-11 19:47:34.629792"
        },
        {
         "0": "266102",
         "1": "Desert Dancer",
         "10": "Developer",
         "11": "2014",
         "2": "2000000.0",
         "3": "1.972668",
         "4": "2014-07-03",
         "5": "2600000.0",
         "6": "98",
         "7": "6.5",
         "8": "18",
         "9": "2025-05-11 19:47:34.629792"
        },
        {
         "0": "266856",
         "1": "The Theory of Everything",
         "10": "Developer",
         "11": "2014",
         "2": "1.5E7",
         "3": "61.182331",
         "4": "2014-11-26",
         "5": "1.23726688E8",
         "6": "123",
         "7": "7.8",
         "8": "3311",
         "9": "2025-05-11 19:47:34.629792"
        },
        {
         "0": "268171",
         "1": "Elsa & Fred",
         "10": "Developer",
         "11": "2014",
         "2": "1.0E7",
         "3": "2.849895",
         "4": "2014-03-07",
         "5": "1.25E7",
         "6": "104",
         "7": "6.2",
         "8": "31",
         "9": "2025-05-11 19:47:34.629792"
        },
        {
         "0": "268917",
         "1": "The Past Is a Grotesque Animal",
         "10": "Developer",
         "11": "2014",
         "2": "2000000.0",
         "3": "0.394575",
         "4": "2014-06-15",
         "5": "2600000.0",
         "6": "77",
         "7": "5.5",
         "8": "2",
         "9": "2025-05-11 19:47:34.629792"
        },
        {
         "0": "269057",
         "1": "Bang Bang Baby",
         "10": "Developer",
         "11": "2014",
         "2": "1000000.0",
         "3": "0.973323",
         "4": "2014-09-08",
         "5": "1250000.0",
         "6": "90",
         "7": "6.6",
         "8": "8",
         "9": "2025-05-11 19:47:34.629792"
        },
        {
         "0": "270938",
         "1": "Falcon Rising",
         "10": "Developer",
         "11": "2014",
         "2": "2000000.0",
         "3": "6.988357",
         "4": "2014-09-05",
         "5": "2600000.0",
         "6": "103",
         "7": "5.5",
         "8": "71",
         "9": "2025-05-11 19:47:34.629792"
        },
        {
         "0": "270946",
         "1": "Penguins of Madagascar",
         "10": "Developer",
         "11": "2014",
         "2": "1.32E8",
         "3": "84.366984",
         "4": "2014-11-22",
         "5": "3.73552094E8",
         "6": "92",
         "7": "6.5",
         "8": "1346",
         "9": "2025-05-11 19:47:34.629792"
        },
        {
         "0": "271185",
         "1": "Ask Me Anything",
         "10": "Developer",
         "11": "2014",
         "2": "950000.0",
         "3": "8.976128",
         "4": "2014-04-19",
         "5": "1187500.0",
         "6": "100",
         "7": "5.5",
         "8": "155",
         "9": "2025-05-11 19:47:34.629792"
        },
        {
         "0": "271331",
         "1": "United Passions",
         "10": "Developer",
         "11": "2014",
         "2": "2.7E7",
         "3": "6.036684",
         "4": "2014-06-19",
         "5": "3.375E7",
         "6": "110",
         "7": "3.0",
         "8": "16",
         "9": "2025-05-11 19:47:34.629792"
        },
        {
         "0": "272724",
         "1": "Doc Holliday's Revenge",
         "10": "Developer",
         "11": "2014",
         "2": "1000000.0",
         "3": "0.4594",
         "4": "2014-06-01",
         "5": "1250000.0",
         "6": "84",
         "7": "3.2",
         "8": "3",
         "9": "2025-05-11 19:47:34.629792"
        },
        {
         "0": "272726",
         "1": "Dude Where's My Dog?",
         "10": "Developer",
         "11": "2014",
         "2": "2000000.0",
         "3": "0.28397",
         "4": "2014-06-12",
         "5": "2600000.0",
         "6": "75",
         "7": "0.0",
         "8": "0",
         "9": "2025-05-11 19:47:34.629792"
        },
        {
         "0": "274758",
         "1": "Give Me Shelter",
         "10": "Developer",
         "11": "2014",
         "2": "2000000.0",
         "3": "0.278981",
         "4": "2014-06-24",
         "5": "2600000.0",
         "6": "90",
         "7": "0.0",
         "8": "0",
         "9": "2025-05-11 19:47:34.629792"
        },
        {
         "0": "278316",
         "1": "Da Sweet Blood of Jesus",
         "10": "Developer",
         "11": "2014",
         "2": "2000000.0",
         "3": "4.480579",
         "4": "2014-06-22",
         "5": "2600000.0",
         "6": "123",
         "7": "4.1",
         "8": "13",
         "9": "2025-05-11 19:47:34.629792"
        },
        {
         "0": "278348",
         "1": "The Maid's Room",
         "10": "Developer",
         "11": "2014",
         "2": "2000000.0",
         "3": "1.501688",
         "4": "2014-08-08",
         "5": "2600000.0",
         "6": "98",
         "7": "4.8",
         "8": "4",
         "9": "2025-05-11 19:47:34.629792"
        },
        {
         "0": "280381",
         "1": "House at the End of the Drive",
         "10": "Developer",
         "11": "2014",
         "2": "2000000.0",
         "3": "0.43049",
         "4": "2014-01-11",
         "5": "2600000.0",
         "6": "91",
         "7": "0.0",
         "8": "0",
         "9": "2025-05-11 19:47:34.629792"
        },
        {
         "0": "281230",
         "1": "Fort McCoy",
         "10": "Developer",
         "11": "2014",
         "2": "2000000.0",
         "3": "0.384496",
         "4": "2014-01-01",
         "5": "2600000.0",
         "6": "75",
         "7": "6.3",
         "8": "2",
         "9": "2025-05-11 19:47:34.629792"
        },
        {
         "0": "281730",
         "1": "Fugly",
         "10": "Developer",
         "11": "2014",
         "2": "2000000.0",
         "3": "0.371337",
         "4": "2014-06-13",
         "5": "2600000.0",
         "6": "134",
         "7": "5.3",
         "8": "2",
         "9": "2025-05-11 19:47:34.629792"
        },
        {
         "0": "282128",
         "1": "An American in Hollywood",
         "10": "Developer",
         "11": "2014",
         "2": "2000000.0",
         "3": "0.015697",
         "4": "2014-07-18",
         "5": "2600000.0",
         "6": "89",
         "7": "0.0",
         "8": "0",
         "9": "2025-05-11 19:47:34.629792"
        },
        {
         "0": "283384",
         "1": "The Calling",
         "10": "Developer",
         "11": "2014",
         "2": "2000000.0",
         "3": "5.759493",
         "4": "2014-08-05",
         "5": "2600000.0",
         "6": "108",
         "7": "5.6",
         "8": "88",
         "9": "2025-05-11 19:47:34.629792"
        },
        {
         "0": "283671",
         "1": "Jungle Shuffle",
         "10": "Developer",
         "11": "2014",
         "2": "2000000.0",
         "3": "1.413934",
         "4": "2014-08-07",
         "5": "2600000.0",
         "6": "85",
         "7": "6.5",
         "8": "1",
         "9": "2025-05-11 19:47:34.629792"
        },
        {
         "0": "283686",
         "1": "Out of the Dark",
         "10": "Developer",
         "11": "2014",
         "2": "2000000.0",
         "3": "3.215465",
         "4": "2014-08-27",
         "5": "2600000.0",
         "6": "92",
         "7": "4.6",
         "8": "55",
         "9": "2025-05-11 19:47:34.629792"
        },
        {
         "0": "283708",
         "1": "Loin des hommes",
         "10": "Developer",
         "11": "2014",
         "2": "7700000.0",
         "3": "3.363973",
         "4": "2014-08-30",
         "5": "9625000.0",
         "6": "110",
         "7": "6.6",
         "8": "43",
         "9": "2025-05-11 19:47:34.629792"
        },
        {
         "0": "284293",
         "1": "Still Alice",
         "10": "Developer",
         "11": "2014",
         "2": "5000000.0",
         "3": "35.307577",
         "4": "2014-12-05",
         "5": "4.3884652E7",
         "6": "99",
         "7": "7.5",
         "8": "1104",
         "9": "2025-05-11 19:47:34.629792"
        },
        {
         "0": "284296",
         "1": "Top Five",
         "10": "Developer",
         "11": "2014",
         "2": "2000000.0",
         "3": "15.896312",
         "4": "2014-12-12",
         "5": "2600000.0",
         "6": "102",
         "7": "6.3",
         "8": "210",
         "9": "2025-05-11 19:47:34.629792"
        },
        {
         "0": "284536",
         "1": "The Gambler",
         "10": "Developer",
         "11": "2014",
         "2": "2.5E7",
         "3": "22.622453",
         "4": "2014-12-25",
         "5": "3.917113E7",
         "6": "111",
         "7": "5.7",
         "8": "543",
         "9": "2025-05-11 19:47:34.629792"
        },
        {
         "0": "287524",
         "1": "Fear Clinic",
         "10": "Developer",
         "11": "2014",
         "2": "2000000.0",
         "3": "1.859965",
         "4": "2014-10-31",
         "5": "2600000.0",
         "6": "95",
         "7": "4.0",
         "8": "42",
         "9": "2025-05-11 19:47:34.629792"
        },
        {
         "0": "287625",
         "1": "Stories of Our Lives",
         "10": "Developer",
         "11": "2014",
         "2": "2000000.0",
         "3": "0.327794",
         "4": "2014-09-05",
         "5": "2600000.0",
         "6": "60",
         "7": "0.0",
         "8": "0",
         "9": "2025-05-11 19:47:34.629792"
        },
        {
         "0": "288927",
         "1": "Archaeology of a Woman",
         "10": "Developer",
         "11": "2014",
         "2": "2000000.0",
         "3": "0.254659",
         "4": "2014-09-12",
         "5": "2600000.0",
         "6": "94",
         "7": "0.0",
         "8": "0",
         "9": "2025-05-11 19:47:34.629792"
        },
        {
         "0": "288980",
         "1": "Freedom",
         "10": "Developer",
         "11": "2014",
         "2": "1.45E7",
         "3": "4.389363",
         "4": "2014-08-21",
         "5": "1.8125E7",
         "6": "98",
         "7": "5.8",
         "8": "9",
         "9": "2025-05-11 19:47:34.629792"
        },
        {
         "0": "289180",
         "1": "H.",
         "10": "Developer",
         "11": "2014",
         "2": "2000000.0",
         "3": "1.045623",
         "4": "2014-08-28",
         "5": "2600000.0",
         "6": "93",
         "7": "6.5",
         "8": "4",
         "9": "2025-05-11 19:47:34.629792"
        },
        {
         "0": "290370",
         "1": "Mutant World",
         "10": "Developer",
         "11": "2014",
         "2": "2000000.0",
         "3": "1.893697",
         "4": "2014-09-27",
         "5": "2600000.0",
         "6": "85",
         "7": "2.6",
         "8": "9",
         "9": "2025-05-11 19:47:34.629792"
        },
        {
         "0": "290555",
         "1": "Wolves",
         "10": "Developer",
         "11": "2014",
         "2": "1.8E7",
         "3": "7.922639",
         "4": "2014-08-28",
         "5": "2.25E7",
         "6": "90",
         "7": "5.7",
         "8": "82",
         "9": "2025-05-11 19:47:34.629792"
        },
        {
         "0": "292481",
         "1": "Henry & Me",
         "10": "Developer",
         "11": "2014",
         "2": "5000000.0",
         "3": "0.999655",
         "4": "2014-08-18",
         "5": "6250000.0",
         "6": "67",
         "7": "3.0",
         "8": "3",
         "9": "2025-05-11 19:47:34.629792"
        },
        {
         "0": "292483",
         "1": "Not Cool",
         "10": "Developer",
         "11": "2014",
         "2": "2000000.0",
         "3": "1.186971",
         "4": "2014-09-23",
         "5": "2600000.0",
         "6": "90",
         "7": "3.7",
         "8": "25",
         "9": "2025-05-11 19:47:34.629792"
        },
        {
         "0": "292539",
         "1": "Food Chains",
         "10": "Developer",
         "11": "2014",
         "2": "913000.0",
         "3": "0.795698",
         "4": "2014-04-26",
         "5": "1141250.0",
         "6": "83",
         "7": "7.4",
         "8": "8",
         "9": "2025-05-11 19:47:34.629792"
        },
        {
         "0": "294086",
         "1": "Tiger Orange",
         "10": "Developer",
         "11": "2014",
         "2": "2000000.0",
         "3": "0.176377",
         "4": "2014-07-26",
         "5": "2600000.0",
         "6": "75",
         "7": "6.4",
         "8": "4",
         "9": "2025-05-11 19:47:34.629792"
        },
        {
         "0": "294512",
         "1": "Alpha and Omega: The Legend of the Saw Tooth Cave",
         "10": "Developer",
         "11": "2014",
         "2": "2000000.0",
         "3": "1.874783",
         "4": "2014-07-21",
         "5": "2600000.0",
         "6": "53",
         "7": "6.5",
         "8": "4",
         "9": "2025-05-11 19:47:34.629792"
        },
        {
         "0": "295914",
         "1": "Kurmanjan Datka. Queen of the Mountains",
         "10": "Developer",
         "11": "2014",
         "2": "2000000.0",
         "3": "0.077873",
         "4": "2014-08-22",
         "5": "2600000.0",
         "6": "135",
         "7": "0.0",
         "8": "0",
         "9": "2025-05-11 19:47:34.629792"
        },
        {
         "0": "296943",
         "1": "The Hadza:  Last of the First",
         "10": "Developer",
         "11": "2014",
         "2": "2000000.0",
         "3": "0.045648",
         "4": "2014-10-31",
         "5": "2600000.0",
         "6": "70",
         "7": "0.0",
         "8": "0",
         "9": "2025-05-11 19:47:34.629792"
        },
        {
         "0": "297100",
         "1": "The Little Ponderosa Zoo",
         "10": "Developer",
         "11": "2014",
         "2": "500000.0",
         "3": "0.073079",
         "4": "2014-09-11",
         "5": "625000.0",
         "6": "84",
         "7": "2.0",
         "8": "1",
         "9": "2025-05-11 19:47:34.629792"
        },
        {
         "0": "297596",
         "1": "Dying of the Light",
         "10": "Developer",
         "11": "2014",
         "2": "1.5E7",
         "3": "10.48009",
         "4": "2014-12-04",
         "5": "1.875E7",
         "6": "94",
         "7": "4.5",
         "8": "118",
         "9": "2025-05-11 19:47:34.629792"
        },
        {
         "0": "297621",
         "1": "There's Always Woodstock",
         "10": "Developer",
         "11": "2014",
         "2": "2000000.0",
         "3": "2.025701",
         "4": "2014-11-14",
         "5": "2600000.0",
         "6": "90",
         "7": "5.4",
         "8": "12",
         "9": "2025-05-11 19:47:34.629792"
        },
        {
         "0": "300706",
         "1": "Let's Kill Ward's Wife",
         "10": "Developer",
         "11": "2014",
         "2": "5000000.0",
         "3": "8.496364",
         "4": "2014-12-23",
         "5": "6250000.0",
         "6": "81",
         "7": "5.5",
         "8": "76",
         "9": "2025-05-11 19:47:34.629792"
        },
        {
         "0": "301748",
         "1": "Opposite Sex",
         "10": "Developer",
         "11": "2014",
         "2": "3300000.0",
         "3": "2.964785",
         "4": "2014-11-08",
         "5": "45000.0",
         "6": "96",
         "7": "4.1",
         "8": "9",
         "9": "2025-05-11 19:47:34.629792"
        },
        {
         "0": "304410",
         "1": "La Famille Bélier",
         "10": "Developer",
         "11": "2014",
         "2": "1.1E7",
         "3": "25.302978",
         "4": "2014-12-17",
         "5": "1.375E7",
         "6": "105",
         "7": "7.0",
         "8": "766",
         "9": "2025-05-11 19:47:34.629792"
        },
        {
         "0": "312791",
         "1": "GirlHouse",
         "10": "Developer",
         "11": "2014",
         "2": "3150000.0",
         "3": "8.039223",
         "4": "2014-10-16",
         "5": "3937500.0",
         "6": "100",
         "7": "5.2",
         "8": "97",
         "9": "2025-05-11 19:47:34.629792"
        },
        {
         "0": "326576",
         "1": "Dawn of the Crescent Moon",
         "10": "Developer",
         "11": "2014",
         "2": "2000000.0",
         "3": "0.049469",
         "4": "2014-04-05",
         "5": "2600000.0",
         "6": "95",
         "7": "2.0",
         "8": "1",
         "9": "2025-05-11 19:47:34.629792"
        },
        {
         "0": "327833",
         "1": "Skin Trade",
         "10": "Developer",
         "11": "2014",
         "2": "9000000.0",
         "3": "6.677926",
         "4": "2014-11-07",
         "5": "1.125E7",
         "6": "96",
         "7": "5.6",
         "8": "61",
         "9": "2025-05-11 19:47:34.629792"
        },
        {
         "0": "328307",
         "1": "Rise of the Entrepreneur: The Search for a Better Way",
         "10": "Developer",
         "11": "2014",
         "2": "2000000.0",
         "3": "0.052942",
         "4": "2014-11-20",
         "5": "2600000.0",
         "6": "75",
         "7": "8.0",
         "8": "1",
         "9": "2025-05-11 19:47:34.629792"
        },
        {
         "0": "331493",
         "1": "Light from the Darkroom",
         "10": "Developer",
         "11": "2014",
         "2": "2000000.0",
         "3": "0.012942",
         "4": "2014-01-01",
         "5": "2600000.0",
         "6": "75",
         "7": "0.0",
         "8": "0",
         "9": "2025-05-11 19:47:34.629792"
        },
        {
         "0": "331745",
         "1": "Top Spin",
         "10": "Developer",
         "11": "2014",
         "2": "2000000.0",
         "3": "0.523122",
         "4": "2014-11-15",
         "5": "2600000.0",
         "6": "80",
         "7": "6.8",
         "8": "6",
         "9": "2025-05-11 19:47:34.629792"
        },
        {
         "0": "362765",
         "1": "The Sound and the Shadow",
         "10": "Developer",
         "11": "2014",
         "2": "2000000.0",
         "3": "0.072359",
         "4": "2014-10-19",
         "5": "2600000.0",
         "6": "90",
         "7": "0.0",
         "8": "0",
         "9": "2025-05-11 19:47:34.629792"
        },
        {
         "0": "378237",
         "1": "Amidst the Devil's Wings",
         "10": "Developer",
         "11": "2014",
         "2": "300000.0",
         "3": "0.018087",
         "4": "2014-12-01",
         "5": "375000.0",
         "6": "90",
         "7": "0.0",
         "8": "0",
         "9": "2025-05-11 19:47:34.629792"
        },
        {
         "0": "402515",
         "1": "Solitude",
         "10": "Developer",
         "11": "2014",
         "2": "2000000.0",
         "3": "0.018716",
         "4": "2014-10-21",
         "5": "2600000.0",
         "6": "89",
         "7": "0.0",
         "8": "0",
         "9": "2025-05-11 19:47:34.629792"
        },
        {
         "0": "408429",
         "1": "Perfect Cowboy",
         "10": "Developer",
         "11": "2014",
         "2": "2000000.0",
         "3": "0.050978",
         "4": "2014-07-13",
         "5": "2600000.0",
         "6": "109",
         "7": "5.0",
         "8": "1",
         "9": "2025-05-11 19:47:34.629792"
        },
        {
         "0": "433715",
         "1": "8 Days",
         "10": "Developer",
         "11": "2014",
         "2": "2000000.0",
         "3": "0.015295",
         "4": "2014-06-15",
         "5": "2600000.0",
         "6": "90",
         "7": "0.0",
         "8": "0",
         "9": "2025-05-11 19:47:34.629792"
        },
        {
         "0": "1771",
         "1": "Captain America: The First Avenger",
         "10": "Developer",
         "11": "2011",
         "2": "1.4E8",
         "3": "74.506246",
         "4": "2011-07-22",
         "5": "3.70569774E8",
         "6": "124",
         "7": "6.6",
         "8": "7047",
         "9": "2025-05-11 19:47:34.629792"
        },
        {
         "0": "1865",
         "1": "Pirates of the Caribbean: On Stranger Tides",
         "10": "Developer",
         "11": "2011",
         "2": "3.8E8",
         "3": "135.413856",
         "4": "2011-05-14",
         "5": "1.045713802E9",
         "6": "136",
         "7": "6.4",
         "8": "4948",
         "9": "2025-05-11 19:47:34.629792"
        },
        {
         "0": "8967",
         "1": "The Tree of Life",
         "10": "Developer",
         "11": "2011",
         "2": "3.2E7",
         "3": "43.862456",
         "4": "2011-05-18",
         "5": "5.4674226E7",
         "6": "139",
         "7": "6.5",
         "8": "987",
         "9": "2025-05-11 19:47:34.629792"
        },
        {
         "0": "10195",
         "1": "Thor",
         "10": "Developer",
         "11": "2011",
         "2": "1.5E8",
         "3": "86.493424",
         "4": "2011-04-21",
         "5": "4.49326618E8",
         "6": "115",
         "7": "6.6",
         "8": "6525",
         "9": "2025-05-11 19:47:34.629792"
        },
        {
         "0": "10316",
         "1": "The Ides of March",
         "10": "Developer",
         "11": "2011",
         "2": "1.25E7",
         "3": "20.317469",
         "4": "2011-09-24",
         "5": "7.5993061E7",
         "6": "101",
         "7": "6.5",
         "8": "910",
         "9": "2025-05-11 19:47:34.629792"
        },
        {
         "0": "17578",
         "1": "The Adventures of Tintin",
         "10": "Developer",
         "11": "2011",
         "2": "1.3E8",
         "3": "89.938296",
         "4": "2011-10-25",
         "5": "3.71940071E8",
         "6": "107",
         "7": "6.7",
         "8": "2061",
         "9": "2025-05-11 19:47:34.629792"
        },
        {
         "0": "23629",
         "1": "Sucker Punch",
         "10": "Developer",
         "11": "2011",
         "2": "8.2E7",
         "3": "39.127082",
         "4": "2011-03-24",
         "5": "8.9792502E7",
         "6": "110",
         "7": "5.9",
         "8": "1623",
         "9": "2025-05-11 19:47:34.629792"
        },
        {
         "0": "27582",
         "1": "The Mechanic",
         "10": "Developer",
         "11": "2011",
         "2": "4.0E7",
         "3": "44.094856",
         "4": "2011-01-13",
         "5": "5.1070807E7",
         "6": "93",
         "7": "6.3",
         "8": "1045",
         "9": "2025-05-11 19:47:34.629792"
        },
        {
         "0": "37686",
         "1": "Super 8",
         "10": "Developer",
         "11": "2011",
         "2": "5.0E7",
         "3": "37.069253",
         "4": "2011-06-08",
         "5": "2.60095987E8",
         "6": "112",
         "7": "6.6",
         "8": "2435",
         "9": "2025-05-11 19:47:34.629792"
        },
        {
         "0": "37958",
         "1": "Immortals",
         "10": "Developer",
         "11": "2011",
         "2": "7.5E7",
         "3": "37.917002",
         "4": "2011-11-10",
         "5": "2.26904017E8",
         "6": "110",
         "7": "5.7",
         "8": "880",
         "9": "2025-05-11 19:47:34.629792"
        },
        {
         "0": "38050",
         "1": "The Adjustment Bureau",
         "10": "Developer",
         "11": "2011",
         "2": "5.02E7",
         "3": "26.60772",
         "4": "2011-03-03",
         "5": "1.27869379E8",
         "6": "106",
         "7": "6.5",
         "8": "1652",
         "9": "2025-05-11 19:47:34.629792"
        },
        {
         "0": "38117",
         "1": "Beastly",
         "10": "Developer",
         "11": "2011",
         "2": "1.7E7",
         "3": "24.054062",
         "4": "2011-01-21",
         "5": "4.3165571E7",
         "6": "86",
         "7": "6.0",
         "8": "849",
         "9": "2025-05-11 19:47:34.629792"
        },
        {
         "0": "38317",
         "1": "Zookeeper",
         "10": "Developer",
         "11": "2011",
         "2": "8.0E7",
         "3": "27.46264",
         "4": "2011-07-06",
         "5": "1.69852759E8",
         "6": "102",
         "7": "5.3",
         "8": "498",
         "9": "2025-05-11 19:47:34.629792"
        },
        {
         "0": "38319",
         "1": "Your Highness",
         "10": "Developer",
         "11": "2011",
         "2": "4.99E7",
         "3": "21.408222",
         "4": "2011-04-08",
         "5": "2.6121638E7",
         "6": "102",
         "7": "5.2",
         "8": "501",
         "9": "2025-05-11 19:47:34.629792"
        },
        {
         "0": "38321",
         "1": "Priest",
         "10": "Developer",
         "11": "2011",
         "2": "6.0E7",
         "3": "28.350927",
         "4": "2011-05-05",
         "5": "7.8309131E7",
         "6": "87",
         "7": "5.4",
         "8": "692",
         "9": "2025-05-11 19:47:34.629792"
        },
        {
         "0": "38322",
         "1": "Big Mommas: Like Father, Like Son",
         "10": "Developer",
         "11": "2011",
         "2": "3.2E7",
         "3": "15.901137",
         "4": "2011-02-16",
         "5": "8.3615414E7",
         "6": "107",
         "7": "5.3",
         "8": "313",
         "9": "2025-05-11 19:47:34.629792"
        },
        {
         "0": "38356",
         "1": "Transformers: Dark of the Moon",
         "10": "Developer",
         "11": "2011",
         "2": "1.95E8",
         "3": "28.529607",
         "4": "2011-06-28",
         "5": "1.123746996E9",
         "6": "154",
         "7": "6.1",
         "8": "3299",
         "9": "2025-05-11 19:47:34.629792"
        },
        {
         "0": "38541",
         "1": "The Divide",
         "10": "Developer",
         "11": "2011",
         "2": "3000000.0",
         "3": "11.882563",
         "4": "2011-03-13",
         "5": "22000.0",
         "6": "112",
         "7": "5.7",
         "8": "197",
         "9": "2025-05-11 19:47:34.629792"
        },
        {
         "0": "38543",
         "1": "Ironclad",
         "10": "Developer",
         "11": "2011",
         "2": "2.5E7",
         "3": "12.31708",
         "4": "2011-03-03",
         "5": "3.125E7",
         "6": "121",
         "7": "6.2",
         "8": "227",
         "9": "2025-05-11 19:47:34.629792"
        },
        {
         "0": "39254",
         "1": "Real Steel",
         "10": "Developer",
         "11": "2011",
         "2": "1.1E8",
         "3": "37.195046",
         "4": "2011-09-28",
         "5": "2.99268508E8",
         "6": "127",
         "7": "6.6",
         "8": "2692",
         "9": "2025-05-11 19:47:34.629792"
        },
        {
         "0": "39513",
         "1": "Paul",
         "10": "Developer",
         "11": "2011",
         "2": "4.0E7",
         "3": "43.151268",
         "4": "2011-02-14",
         "5": "9.755205E7",
         "6": "104",
         "7": "6.5",
         "8": "1789",
         "9": "2025-05-11 19:47:34.629792"
        },
        {
         "0": "39538",
         "1": "Contagion",
         "10": "Developer",
         "11": "2011",
         "2": "6.0E7",
         "3": "38.820858",
         "4": "2011-09-08",
         "5": "1.37551594E8",
         "6": "106",
         "7": "6.2",
         "8": "1325",
         "9": "2025-05-11 19:47:34.629792"
        },
        {
         "0": "40805",
         "1": "The Green Hornet",
         "10": "Developer",
         "11": "2011",
         "2": "1.2E8",
         "3": "31.703608",
         "4": "2011-01-12",
         "5": "2.27817248E8",
         "6": "119",
         "7": "5.5",
         "8": "1251",
         "9": "2025-05-11 19:47:34.629792"
        },
        {
         "0": "40807",
         "1": "50/50",
         "10": "Developer",
         "11": "2011",
         "2": "8000000.0",
         "3": "33.372828",
         "4": "2011-09-30",
         "5": "3.9187783E7",
         "6": "100",
         "7": "7.0",
         "8": "1261",
         "9": "2025-05-11 19:47:34.629792"
        },
        {
         "0": "41446",
         "1": "Scream 4",
         "10": "Developer",
         "11": "2011",
         "2": "4.0E7",
         "3": "35.21926",
         "4": "2011-04-11",
         "5": "9.7138686E7",
         "6": "111",
         "7": "6.1",
         "8": "902",
         "9": "2025-05-11 19:47:34.629792"
        },
        {
         "0": "41513",
         "1": "The Smurfs",
         "10": "Developer",
         "11": "2011",
         "2": "1.1E8",
         "3": "36.65422",
         "4": "2011-07-29",
         "5": "5.63749323E8",
         "6": "103",
         "7": "5.5",
         "8": "1179",
         "9": "2025-05-11 19:47:34.629792"
        },
        {
         "0": "41630",
         "1": "No Strings Attached",
         "10": "Developer",
         "11": "2011",
         "2": "2.5E7",
         "3": "38.688822",
         "4": "2011-01-21",
         "5": "1.4778044E8",
         "6": "107",
         "7": "6.1",
         "8": "1331",
         "9": "2025-05-11 19:47:34.629792"
        },
        {
         "0": "43935",
         "1": "Dylan Dog: Dead of Night",
         "10": "Developer",
         "11": "2011",
         "2": "2.0E7",
         "3": "10.617236",
         "4": "2011-03-16",
         "5": "4634062.0",
         "6": "107",
         "7": "4.5",
         "8": "139",
         "9": "2025-05-11 19:47:34.629792"
        },
        {
         "0": "43959",
         "1": "Soul Surfer",
         "10": "Developer",
         "11": "2011",
         "2": "1.8E7",
         "3": "19.234672",
         "4": "2011-04-08",
         "5": "4.708899E7",
         "6": "106",
         "7": "6.9",
         "8": "342",
         "9": "2025-05-11 19:47:34.629792"
        },
        {
         "0": "44564",
         "1": "The Dilemma",
         "10": "Developer",
         "11": "2011",
         "2": "7.0E7",
         "3": "14.780634",
         "4": "2011-01-13",
         "5": "6.7112664E7",
         "6": "111",
         "7": "5.2",
         "8": "304",
         "9": "2025-05-11 19:47:34.629792"
        },
        {
         "0": "44754",
         "1": "Margaret",
         "10": "Developer",
         "11": "2011",
         "2": "1.4E7",
         "3": "4.898424",
         "4": "2011-09-30",
         "5": "46495.0",
         "6": "149",
         "7": "6.1",
         "8": "86",
         "9": "2025-05-11 19:47:34.629792"
        },
        {
         "0": "44826",
         "1": "Hugo",
         "10": "Developer",
         "11": "2011",
         "2": "1.7E8",
         "3": "32.319043",
         "4": "2011-11-22",
         "5": "1.8577016E8",
         "6": "126",
         "7": "7.0",
         "8": "2141",
         "9": "2025-05-11 19:47:34.629792"
        },
        {
         "0": "44896",
         "1": "Rango",
         "10": "Developer",
         "11": "2011",
         "2": "1.35E8",
         "3": "29.91353",
         "4": "2011-03-02",
         "5": "2.45724603E8",
         "6": "107",
         "7": "6.6",
         "8": "2051",
         "9": "2025-05-11 19:47:34.629792"
        },
        {
         "0": "44912",
         "1": "Green Lantern",
         "10": "Developer",
         "11": "2011",
         "2": "2.0E8",
         "3": "51.872839",
         "4": "2011-06-16",
         "5": "2.19851172E8",
         "6": "114",
         "7": "5.1",
         "8": "2487",
         "9": "2025-05-11 19:47:34.629792"
        },
        {
         "0": "44943",
         "1": "Battle: Los Angeles",
         "10": "Developer",
         "11": "2011",
         "2": "7.0E7",
         "3": "49.199234",
         "4": "2011-03-08",
         "5": "2.02466756E8",
         "6": "116",
         "7": "5.5",
         "8": "1448",
         "9": "2025-05-11 19:47:34.629792"
        },
        {
         "0": "45054",
         "1": "There Be Dragons",
         "10": "Developer",
         "11": "2011",
         "2": "2000000.0",
         "3": "6.668679",
         "4": "2011-03-25",
         "5": "2600000.0",
         "6": "112",
         "7": "5.9",
         "8": "27",
         "9": "2025-05-11 19:47:34.629792"
        },
        {
         "0": "45243",
         "1": "The Hangover Part II",
         "10": "Developer",
         "11": "2011",
         "2": "8.0E7",
         "3": "58.040149",
         "4": "2011-05-25",
         "5": "2.54455986E8",
         "6": "102",
         "7": "6.2",
         "8": "3739",
         "9": "2025-05-11 19:47:34.629792"
        },
        {
         "0": "45610",
         "1": "Machine Gun Preacher",
         "10": "Developer",
         "11": "2011",
         "2": "3.0E7",
         "3": "13.268936",
         "4": "2011-09-23",
         "5": "2527904.0",
         "6": "129",
         "7": "6.4",
         "8": "286",
         "9": "2025-05-11 19:47:34.629792"
        },
        {
         "0": "45612",
         "1": "Source Code",
         "10": "Developer",
         "11": "2011",
         "2": "3.2E7",
         "3": "59.19888",
         "4": "2011-03-30",
         "5": "1.47332697E8",
         "6": "93",
         "7": "7.1",
         "8": "2699",
         "9": "2025-05-11 19:47:34.629792"
        },
        {
         "0": "46195",
         "1": "Rio",
         "10": "Developer",
         "11": "2011",
         "2": "9.0E7",
         "3": "46.200042",
         "4": "2011-04-03",
         "5": "4.8463576E8",
         "6": "96",
         "7": "6.5",
         "8": "2166",
         "9": "2025-05-11 19:47:34.629792"
        },
        {
         "0": "46256",
         "1": "The Lion of Judah",
         "10": "Developer",
         "11": "2011",
         "2": "1.5E7",
         "3": "0.165909",
         "4": "2011-06-03",
         "5": "1.875E7",
         "6": "87",
         "7": "5.8",
         "8": "2",
         "9": "2025-05-11 19:47:34.629792"
        },
        {
         "0": "46529",
         "1": "I Am Number Four",
         "10": "Developer",
         "11": "2011",
         "2": "5.0E7",
         "3": "43.450266",
         "4": "2011-02-18",
         "5": "1.4449283E8",
         "6": "109",
         "7": "5.9",
         "8": "1567",
         "9": "2025-05-11 19:47:34.629792"
        },
        {
         "0": "47327",
         "1": "Drive Angry",
         "10": "Developer",
         "11": "2011",
         "2": "5.0E7",
         "3": "30.387148",
         "4": "2011-02-24",
         "5": "2.8931401E7",
         "6": "105",
         "7": "5.3",
         "8": "600",
         "9": "2025-05-11 19:47:34.629792"
        },
        {
         "0": "48138",
         "1": "Unknown",
         "10": "Developer",
         "11": "2011",
         "2": "3.0E7",
         "3": "38.643914",
         "4": "2011-02-16",
         "5": "1.30786397E8",
         "6": "113",
         "7": "6.5",
         "8": "1265",
         "9": "2025-05-11 19:47:34.629792"
        },
        {
         "0": "48171",
         "1": "The Rite",
         "10": "Developer",
         "11": "2011",
         "2": "3.7E7",
         "3": "11.492474",
         "4": "2011-01-28",
         "5": "9.6047633E7",
         "6": "114",
         "7": "5.8",
         "8": "556",
         "9": "2025-05-11 19:47:34.629792"
        },
        {
         "0": "48231",
         "1": "A Dangerous Method",
         "10": "Developer",
         "11": "2011",
         "2": "1.5E7",
         "3": "27.133277",
         "4": "2011-09-30",
         "5": "2.7462041E7",
         "6": "99",
         "7": "6.2",
         "8": "571",
         "9": "2025-05-11 19:47:34.629792"
        },
        {
         "0": "48340",
         "1": "Sanctum",
         "10": "Developer",
         "11": "2011",
         "2": "3.0E7",
         "3": "20.063165",
         "4": "2011-02-03",
         "5": "1.0860931E8",
         "6": "108",
         "7": "5.8",
         "8": "339",
         "9": "2025-05-11 19:47:34.629792"
        },
        {
         "0": "48572",
         "1": "Red State",
         "10": "Developer",
         "11": "2011",
         "2": "4000000.0",
         "3": "12.062371",
         "4": "2011-08-19",
         "5": "1104682.0",
         "6": "88",
         "7": "5.9",
         "8": "316",
         "9": "2025-05-11 19:47:34.629792"
        },
        {
         "0": "49010",
         "1": "Hobo with a Shotgun",
         "10": "Developer",
         "11": "2011",
         "2": "3000000.0",
         "3": "16.900433",
         "4": "2011-05-06",
         "5": "748453.0",
         "6": "86",
         "7": "5.7",
         "8": "211",
         "9": "2025-05-11 19:47:34.629792"
        },
        {
         "0": "49013",
         "1": "Cars 2",
         "10": "Developer",
         "11": "2011",
         "2": "2.0E8",
         "3": "49.98659",
         "4": "2011-06-11",
         "5": "5.59852396E8",
         "6": "106",
         "7": "5.8",
         "8": "2033",
         "9": "2025-05-11 19:47:34.629792"
        },
        {
         "0": "49020",
         "1": "Submarine",
         "10": "Developer",
         "11": "2011",
         "2": "2000000.0",
         "3": "8.518866",
         "4": "2011-03-18",
         "5": "2600000.0",
         "6": "97",
         "7": "7.4",
         "8": "443",
         "9": "2025-05-11 19:47:34.629792"
        },
        {
         "0": "49021",
         "1": "Killer Elite",
         "10": "Developer",
         "11": "2011",
         "2": "6.6E7",
         "3": "29.501489",
         "4": "2011-09-23",
         "5": "5.7777106E7",
         "6": "116",
         "7": "6.1",
         "8": "695",
         "9": "2025-05-11 19:47:34.629792"
        },
        {
         "0": "49022",
         "1": "Something Borrowed",
         "10": "Developer",
         "11": "2011",
         "2": "3.5E7",
         "3": "14.029012",
         "4": "2011-05-05",
         "5": "5.9901913E7",
         "6": "112",
         "7": "5.9",
         "8": "296",
         "9": "2025-05-11 19:47:34.629792"
        },
        {
         "0": "49444",
         "1": "Kung Fu Panda 2",
         "10": "Developer",
         "11": "2011",
         "2": "1.5E8",
         "3": "51.247321",
         "4": "2011-05-25",
         "5": "6.65692281E8",
         "6": "91",
         "7": "6.7",
         "8": "1880",
         "9": "2025-05-11 19:47:34.629792"
        },
        {
         "0": "49517",
         "1": "Tinker Tailor Soldier Spy",
         "10": "Developer",
         "11": "2011",
         "2": "3.0E7",
         "3": "33.649652",
         "4": "2011-09-16",
         "5": "3.75E7",
         "6": "127",
         "7": "6.6",
         "8": "840",
         "9": "2025-05-11 19:47:34.629792"
        },
        {
         "0": "49520",
         "1": "The Change-Up",
         "10": "Developer",
         "11": "2011",
         "2": "5.2E7",
         "3": "32.015477",
         "4": "2011-08-05",
         "5": "7.5450437E7",
         "6": "112",
         "7": "5.9",
         "8": "736",
         "9": "2025-05-11 19:47:34.629792"
        },
        {
         "0": "49530",
         "1": "In Time",
         "10": "Developer",
         "11": "2011",
         "2": "4.0E7",
         "3": "60.231382",
         "4": "2011-10-27",
         "5": "1.73930596E8",
         "6": "109",
         "7": "6.7",
         "8": "3417",
         "9": "2025-05-11 19:47:34.629792"
        },
        {
         "0": "49538",
         "1": "X-Men: First Class",
         "10": "Developer",
         "11": "2011",
         "2": "1.6E8",
         "3": "3.195174",
         "4": "2011-05-24",
         "5": "3.53624124E8",
         "6": "132",
         "7": "7.1",
         "8": "5181",
         "9": "2025-05-11 19:47:34.629792"
        },
        {
         "0": "49730",
         "1": "Red Riding Hood",
         "10": "Developer",
         "11": "2011",
         "2": "4.2E7",
         "3": "45.151657",
         "4": "2011-03-11",
         "5": "8.9162162E7",
         "6": "100",
         "7": "5.6",
         "8": "922",
         "9": "2025-05-11 19:47:34.629792"
        },
        {
         "0": "49950",
         "1": "The Roommate",
         "10": "Developer",
         "11": "2011",
         "2": "1.6E7",
         "3": "11.807269",
         "4": "2011-02-04",
         "5": "4.0492759E7",
         "6": "91",
         "7": "5.3",
         "8": "224",
         "9": "2025-05-11 19:47:34.629792"
        },
        {
         "0": "50321",
         "1": "Mars Needs Moms",
         "10": "Developer",
         "11": "2011",
         "2": "1.5E8",
         "3": "12.362599",
         "4": "2011-03-09",
         "5": "3.8992758E7",
         "6": "88",
         "7": "5.5",
         "8": "199",
         "9": "2025-05-11 19:47:34.629792"
        },
        {
         "0": "50348",
         "1": "The Lincoln Lawyer",
         "10": "Developer",
         "11": "2011",
         "2": "4.0E7",
         "3": "26.072228",
         "4": "2011-03-17",
         "5": "8.5412898E7",
         "6": "119",
         "7": "7.0",
         "8": "902",
         "9": "2025-05-11 19:47:34.629792"
        },
        {
         "0": "50357",
         "1": "Apollo 18",
         "10": "Developer",
         "11": "2011",
         "2": "5000000.0",
         "3": "17.028252",
         "4": "2011-07-20",
         "5": "2.5562924E7",
         "6": "86",
         "7": "5.0",
         "8": "356",
         "9": "2025-05-11 19:47:34.629792"
        },
        {
         "0": "50359",
         "1": "Hop",
         "10": "Developer",
         "11": "2011",
         "2": "6.3E7",
         "3": "16.791058",
         "4": "2011-03-30",
         "5": "1.83953723E8",
         "6": "95",
         "7": "5.5",
         "8": "331",
         "9": "2025-05-11 19:47:34.629792"
        },
        {
         "0": "50456",
         "1": "Hanna",
         "10": "Developer",
         "11": "2011",
         "2": "3.0E7",
         "3": "31.191975",
         "4": "2011-04-07",
         "5": "6.3782078E7",
         "6": "111",
         "7": "6.5",
         "8": "1263",
         "9": "2025-05-11 19:47:34.629792"
        },
        {
         "0": "50544",
         "1": "Friends with Benefits",
         "10": "Developer",
         "11": "2011",
         "2": "3.5E7",
         "3": "40.526587",
         "4": "2011-07-21",
         "5": "1.50483765E8",
         "6": "109",
         "7": "6.5",
         "8": "2237",
         "9": "2025-05-11 19:47:34.629792"
        },
        {
         "0": "50546",
         "1": "Just Go with It",
         "10": "Developer",
         "11": "2011",
         "2": "8.0E7",
         "3": "37.02665",
         "4": "2011-02-10",
         "5": "2.14918407E8",
         "6": "117",
         "7": "6.3",
         "8": "1543",
         "9": "2025-05-11 19:47:34.629792"
        },
        {
         "0": "50601",
         "1": "5 Days of War",
         "10": "Developer",
         "11": "2011",
         "2": "2.0E7",
         "3": "5.727602",
         "4": "2011-04-14",
         "5": "17479.0",
         "6": "113",
         "7": "5.8",
         "8": "62",
         "9": "2025-05-11 19:47:34.629792"
        },
        {
         "0": "50646",
         "1": "Crazy, Stupid, Love.",
         "10": "Developer",
         "11": "2011",
         "2": "5.0E7",
         "3": "37.990705",
         "4": "2011-07-29",
         "5": "1.42851197E8",
         "6": "118",
         "7": "7.0",
         "8": "2443",
         "9": "2025-05-11 19:47:34.629792"
        },
        {
         "0": "50698",
         "1": "Grave Encounters",
         "10": "Developer",
         "11": "2011",
         "2": "1000000.0",
         "3": "13.222268",
         "4": "2011-09-09",
         "5": "1250000.0",
         "6": "92",
         "7": "6.1",
         "8": "381",
         "9": "2025-05-11 19:47:34.629792"
        },
        {
         "0": "50725",
         "1": "Take Me Home Tonight",
         "10": "Developer",
         "11": "2011",
         "2": "1.9E7",
         "3": "11.766564",
         "4": "2011-03-04",
         "5": "6928068.0",
         "6": "97",
         "7": "6.2",
         "8": "208",
         "9": "2025-05-11 19:47:34.629792"
        },
        {
         "0": "50780",
         "1": "The Beaver",
         "10": "Developer",
         "11": "2011",
         "2": "2.1E7",
         "3": "13.847872",
         "4": "2011-02-11",
         "5": "970816.0",
         "6": "91",
         "7": "6.3",
         "8": "276",
         "9": "2025-05-11 19:47:34.629792"
        },
        {
         "0": "50837",
         "1": "Martha Marcy May Marlene",
         "10": "Developer",
         "11": "2011",
         "2": "2000000.0",
         "3": "17.806082",
         "4": "2011-10-21",
         "5": "2600000.0",
         "6": "101",
         "7": "6.7",
         "8": "277",
         "9": "2025-05-11 19:47:34.629792"
        },
        {
         "0": "50839",
         "1": "Margin Call",
         "10": "Developer",
         "11": "2011",
         "2": "3500000.0",
         "3": "26.259389",
         "4": "2011-09-28",
         "5": "1.9504039E7",
         "6": "107",
         "7": "6.7",
         "8": "524",
         "9": "2025-05-11 19:47:34.629792"
        },
        {
         "0": "50875",
         "1": "Higher Ground",
         "10": "Developer",
         "11": "2011",
         "2": "2000000.0",
         "3": "1.699101",
         "4": "2011-08-26",
         "5": "2600000.0",
         "6": "109",
         "7": "5.3",
         "8": "14",
         "9": "2025-05-11 19:47:34.629792"
        },
        {
         "0": "51052",
         "1": "Arthur Christmas",
         "10": "Developer",
         "11": "2011",
         "2": "2000000.0",
         "3": "19.83683",
         "4": "2011-02-22",
         "5": "2600000.0",
         "6": "97",
         "7": "6.7",
         "8": "333",
         "9": "2025-05-11 19:47:34.629792"
        },
        {
         "0": "51162",
         "1": "Winnie the Pooh",
         "10": "Developer",
         "11": "2011",
         "2": "3.0E7",
         "3": "19.143721",
         "4": "2011-04-13",
         "5": "1.446E7",
         "6": "63",
         "7": "6.8",
         "8": "258",
         "9": "2025-05-11 19:47:34.629792"
        },
        {
         "0": "51497",
         "1": "Fast Five",
         "10": "Developer",
         "11": "2011",
         "2": "1.25E8",
         "3": "7.255718",
         "4": "2011-04-20",
         "5": "6.26137675E8",
         "6": "130",
         "7": "7.1",
         "8": "2438",
         "9": "2025-05-11 19:47:34.629792"
        },
        {
         "0": "51540",
         "1": "Horrible Bosses",
         "10": "Developer",
         "11": "2011",
         "2": "3.5E7",
         "3": "50.309843",
         "4": "2011-07-08",
         "5": "1.17E8",
         "6": "98",
         "7": "6.5",
         "8": "2277",
         "9": "2025-05-11 19:47:34.629792"
        },
        {
         "0": "51588",
         "1": "Prom",
         "10": "Developer",
         "11": "2011",
         "2": "8000000.0",
         "3": "11.837067",
         "4": "2011-04-29",
         "5": "1.013E7",
         "6": "104",
         "7": "5.7",
         "8": "134",
         "9": "2025-05-11 19:47:34.629792"
        },
        {
         "0": "51828",
         "1": "One Day",
         "10": "Developer",
         "11": "2011",
         "2": "1.5E7",
         "3": "16.629173",
         "4": "2011-03-02",
         "5": "5.9389433E7",
         "6": "107",
         "7": "7.0",
         "8": "978",
         "9": "2025-05-11 19:47:34.629792"
        },
        {
         "0": "51995",
         "1": "Salvation Boulevard",
         "10": "Developer",
         "11": "2011",
         "2": "8000000.0",
         "3": "3.653305",
         "4": "2011-07-15",
         "5": "1.0E7",
         "6": "96",
         "7": "5.6",
         "8": "28",
         "9": "2025-05-11 19:47:34.629792"
        },
        {
         "0": "52067",
         "1": "Cedar Rapids",
         "10": "Developer",
         "11": "2011",
         "2": "2000000.0",
         "3": "10.254807",
         "4": "2011-02-11",
         "5": "2600000.0",
         "6": "87",
         "7": "5.9",
         "8": "135",
         "9": "2025-05-11 19:47:34.629792"
        },
        {
         "0": "52449",
         "1": "Bad Teacher",
         "10": "Developer",
         "11": "2011",
         "2": "2.0E7",
         "3": "28.497242",
         "4": "2011-05-16",
         "5": "2.16197492E8",
         "6": "92",
         "7": "5.4",
         "8": "1584",
         "9": "2025-05-11 19:47:34.629792"
        },
        {
         "0": "52451",
         "1": "The Three Musketeers",
         "10": "Developer",
         "11": "2011",
         "2": "7.5E7",
         "3": "36.605246",
         "4": "2011-08-31",
         "5": "1.32274484E8",
         "6": "110",
         "7": "5.6",
         "8": "924",
         "9": "2025-05-11 19:47:34.629792"
        },
        {
         "0": "54897",
         "1": "The Grace Card",
         "10": "Developer",
         "11": "2011",
         "2": "200000.0",
         "3": "0.616283",
         "4": "2011-02-25",
         "5": "2295733.0",
         "6": "101",
         "7": "6.5",
         "8": "10",
         "9": "2025-05-11 19:47:34.629792"
        },
        {
         "0": "55301",
         "1": "Alvin and the Chipmunks: Chipwrecked",
         "10": "Developer",
         "11": "2011",
         "2": "7.5E7",
         "3": "23.473004",
         "4": "2011-12-14",
         "5": "3.42695435E8",
         "6": "87",
         "7": "5.4",
         "8": "484",
         "9": "2025-05-11 19:47:34.629792"
        },
        {
         "0": "55420",
         "1": "Another Earth",
         "10": "Developer",
         "11": "2011",
         "2": "100000.0",
         "3": "25.402697",
         "4": "2011-07-22",
         "5": "1776935.0",
         "6": "92",
         "7": "6.8",
         "8": "527",
         "9": "2025-05-11 19:47:34.629792"
        },
        {
         "0": "55465",
         "1": "A Very Harold & Kumar Christmas",
         "10": "Developer",
         "11": "2011",
         "2": "1.9E7",
         "3": "17.971883",
         "4": "2011-11-04",
         "5": "3.5387212E7",
         "6": "108",
         "7": "6.0",
         "8": "328",
         "9": "2025-05-11 19:47:34.629792"
        },
        {
         "0": "55720",
         "1": "A Better Life",
         "10": "Developer",
         "11": "2011",
         "2": "1.0E7",
         "3": "4.123533",
         "4": "2011-06-24",
         "5": "1759252.0",
         "6": "98",
         "7": "7.0",
         "8": "54",
         "9": "2025-05-11 19:47:34.629792"
        },
        {
         "0": "55721",
         "1": "Bridesmaids",
         "10": "Developer",
         "11": "2011",
         "2": "3.25E7",
         "3": "17.107065",
         "4": "2011-04-28",
         "5": "2.88383523E8",
         "6": "125",
         "7": "6.5",
         "8": "1661",
         "9": "2025-05-11 19:47:34.629792"
        },
        {
         "0": "55779",
         "1": "Final Destination 5",
         "10": "Developer",
         "11": "2011",
         "2": "4.7E7",
         "3": "38.555482",
         "4": "2011-08-12",
         "5": "1.57887643E8",
         "6": "92",
         "7": "5.9",
         "8": "866",
         "9": "2025-05-11 19:47:34.629792"
        },
        {
         "0": "55787",
         "1": "Water for Elephants",
         "10": "Developer",
         "11": "2011",
         "2": "3.8E7",
         "3": "16.801218",
         "4": "2011-03-15",
         "5": "1.1415623E8",
         "6": "120",
         "7": "6.7",
         "8": "850",
         "9": "2025-05-11 19:47:34.629792"
        },
        {
         "0": "56288",
         "1": "Spy Kids: All the Time in the World",
         "10": "Developer",
         "11": "2011",
         "2": "2.7E7",
         "3": "14.788073",
         "4": "2011-08-18",
         "5": "8.556431E7",
         "6": "89",
         "7": "4.4",
         "8": "222",
         "9": "2025-05-11 19:47:34.629792"
        },
        {
         "0": "56292",
         "1": "Mission: Impossible - Ghost Protocol",
         "10": "Developer",
         "11": "2011",
         "2": "1.45E8",
         "3": "77.77477",
         "4": "2011-12-07",
         "5": "6.9471338E8",
         "6": "133",
         "7": "6.8",
         "8": "3972",
         "9": "2025-05-11 19:47:34.629792"
        },
        {
         "0": "57089",
         "1": "Hoodwinked Too! Hood VS. Evil",
         "10": "Developer",
         "11": "2011",
         "2": "3.0E7",
         "3": "10.694417",
         "4": "2011-04-29",
         "5": "1.3521829E7",
         "6": "86",
         "7": "4.8",
         "8": "131",
         "9": "2025-05-11 19:47:34.629792"
        },
        {
         "0": "57119",
         "1": "Jumping the Broom",
         "10": "Developer",
         "11": "2011",
         "2": "6600000.0",
         "3": "4.492455",
         "4": "2011-05-06",
         "5": "3.771061E7",
         "6": "112",
         "7": "6.0",
         "8": "56",
         "9": "2025-05-11 19:47:34.629792"
        },
        {
         "0": "57157",
         "1": "Young Adult",
         "10": "Developer",
         "11": "2011",
         "2": "1.2E7",
         "3": "16.183746",
         "4": "2011-12-16",
         "5": "2.2939027E7",
         "6": "94",
         "7": "5.6",
         "8": "364",
         "9": "2025-05-11 19:47:34.629792"
        },
        {
         "0": "57212",
         "1": "War Horse",
         "10": "Developer",
         "11": "2011",
         "2": "6.6E7",
         "3": "29.505574",
         "4": "2011-12-25",
         "5": "1.77584879E8",
         "6": "146",
         "7": "7.0",
         "8": "992",
         "9": "2025-05-11 19:47:34.629792"
        },
        {
         "0": "57431",
         "1": "The Sitter",
         "10": "Developer",
         "11": "2011",
         "2": "2.5E7",
         "3": "19.428994",
         "4": "2011-12-09",
         "5": "3.4942188E7",
         "6": "81",
         "7": "5.4",
         "8": "325",
         "9": "2025-05-11 19:47:34.629792"
        },
        {
         "0": "58151",
         "1": "Fright Night",
         "10": "Developer",
         "11": "2011",
         "2": "1.7E7",
         "3": "18.27083",
         "4": "2011-08-18",
         "5": "2.4922237E7",
         "6": "106",
         "7": "6.0",
         "8": "603",
         "9": "2025-05-11 19:47:34.629792"
        },
        {
         "0": "58224",
         "1": "Mr. Popper's Penguins",
         "10": "Developer",
         "11": "2011",
         "2": "5.5E7",
         "3": "32.835777",
         "4": "2011-06-17",
         "5": "1.87361754E8",
         "6": "94",
         "7": "5.7",
         "8": "751",
         "9": "2025-05-11 19:47:34.629792"
        },
        {
         "0": "58233",
         "1": "Johnny English Reborn",
         "10": "Developer",
         "11": "2011",
         "2": "4.5E7",
         "3": "35.6585",
         "4": "2011-09-15",
         "5": "1.60078586E8",
         "6": "101",
         "7": "6.0",
         "8": "1007",
         "9": "2025-05-11 19:47:34.629792"
        },
        {
         "0": "58428",
         "1": "The Innkeepers",
         "10": "Developer",
         "11": "2011",
         "2": "750000.0",
         "3": "14.386807",
         "4": "2011-12-01",
         "5": "78396.0",
         "6": "102",
         "7": "5.4",
         "8": "219",
         "9": "2025-05-11 19:47:34.629792"
        },
        {
         "0": "58492",
         "1": "The Greatest Movie Ever Sold",
         "10": "Developer",
         "11": "2011",
         "2": "2000000.0",
         "3": "0.692497",
         "4": "2011-04-22",
         "5": "2600000.0",
         "6": "87",
         "7": "6.4",
         "8": "88",
         "9": "2025-05-11 19:47:34.629792"
        },
        {
         "0": "58574",
         "1": "Sherlock Holmes: A Game of Shadows",
         "10": "Developer",
         "11": "2011",
         "2": "1.25E8",
         "3": "81.499621",
         "4": "2011-11-22",
         "5": "3.34615E8",
         "6": "129",
         "7": "7.0",
         "8": "3886",
         "9": "2025-05-11 19:47:34.629792"
        },
        {
         "0": "58626",
         "1": "The Hit List",
         "10": "Developer",
         "11": "2011",
         "2": "6000000.0",
         "3": "4.957014",
         "4": "2011-04-02",
         "5": "7500000.0",
         "6": "90",
         "7": "5.2",
         "8": "73",
         "9": "2025-05-11 19:47:34.629792"
        },
        {
         "0": "58882",
         "1": "Snow Flower and the Secret Fan",
         "10": "Developer",
         "11": "2011",
         "2": "134005.0",
         "3": "2.260315",
         "4": "2011-07-15",
         "5": "1332231.0",
         "6": "104",
         "7": "5.3",
         "8": "22",
         "9": "2025-05-11 19:47:34.629792"
        },
        {
         "0": "59108",
         "1": "Tower Heist",
         "10": "Developer",
         "11": "2011",
         "2": "7.5E7",
         "3": "36.743324",
         "4": "2011-11-02",
         "5": "1.52930623E8",
         "6": "104",
         "7": "5.8",
         "8": "932",
         "9": "2025-05-11 19:47:34.629792"
        },
        {
         "0": "59436",
         "1": "Midnight in Paris",
         "10": "Developer",
         "11": "2011",
         "2": "3.0E7",
         "3": "43.753585",
         "4": "2011-05-11",
         "5": "1.51119219E8",
         "6": "94",
         "7": "7.4",
         "8": "1990",
         "9": "2025-05-11 19:47:34.629792"
        },
        {
         "0": "59440",
         "1": "Warrior",
         "10": "Developer",
         "11": "2011",
         "2": "2.5E7",
         "3": "51.915025",
         "4": "2011-09-09",
         "5": "2.3057115E7",
         "6": "140",
         "7": "7.7",
         "8": "1272",
         "9": "2025-05-11 19:47:34.629792"
        },
        {
         "0": "59678",
         "1": "Attack the Block",
         "10": "Developer",
         "11": "2011",
         "2": "1.4350531E7",
         "3": "30.952377",
         "4": "2011-05-12",
         "5": "3964682.0",
         "6": "88",
         "7": "6.3",
         "8": "733",
         "9": "2025-05-11 19:47:34.629792"
        },
        {
         "0": "59728",
         "1": "The 5th Quarter",
         "10": "Developer",
         "11": "2011",
         "2": "6000000.0",
         "3": "0.215464",
         "4": "2011-03-25",
         "5": "399611.0",
         "6": "97",
         "7": "4.7",
         "8": "12",
         "9": "2025-05-11 19:47:34.629792"
        },
        {
         "0": "59860",
         "1": "Monte Carlo",
         "10": "Developer",
         "11": "2011",
         "2": "2.0E7",
         "3": "17.237143",
         "4": "2011-07-01",
         "5": "1.7425E7",
         "6": "109",
         "7": "6.0",
         "8": "593",
         "9": "2025-05-11 19:47:34.629792"
        },
        {
         "0": "59861",
         "1": "Larry Crowne",
         "10": "Developer",
         "11": "2011",
         "2": "3.0E7",
         "3": "20.355458",
         "4": "2011-06-30",
         "5": "3.6160375E7",
         "6": "98",
         "7": "5.7",
         "8": "359",
         "9": "2025-05-11 19:47:34.629792"
        },
        {
         "0": "59965",
         "1": "Abduction",
         "10": "Developer",
         "11": "2011",
         "2": "3.5E7",
         "3": "19.893646",
         "4": "2011-09-22",
         "5": "8.2087155E7",
         "6": "106",
         "7": "5.6",
         "8": "961",
         "9": "2025-05-11 19:47:34.629792"
        },
        {
         "0": "59968",
         "1": "Our Idiot Brother",
         "10": "Developer",
         "11": "2011",
         "2": "1.0E7",
         "3": "15.688439",
         "4": "2011-08-26",
         "5": "1.7273593E7",
         "6": "90",
         "7": "5.9",
         "8": "365",
         "9": "2025-05-11 19:47:34.629792"
        },
        {
         "0": "60307",
         "1": "Diary of a Wimpy Kid: Rodrick Rules",
         "10": "Developer",
         "11": "2011",
         "2": "2.1E7",
         "3": "14.329891",
         "4": "2011-03-25",
         "5": "7.2417394E7",
         "6": "99",
         "7": "6.3",
         "8": "238",
         "9": "2025-05-11 19:47:34.629792"
        },
        {
         "0": "60308",
         "1": "Moneyball",
         "10": "Developer",
         "11": "2011",
         "2": "5.0E7",
         "3": "46.180421",
         "4": "2011-09-22",
         "5": "1.10206216E8",
         "6": "133",
         "7": "7.0",
         "8": "1381",
         "9": "2025-05-11 19:47:34.629792"
        },
        {
         "0": "60420",
         "1": "Like Crazy",
         "10": "Developer",
         "11": "2011",
         "2": "250000.0",
         "3": "21.825564",
         "4": "2011-10-28",
         "5": "3542353.0",
         "6": "90",
         "7": "6.4",
         "8": "381",
         "9": "2025-05-11 19:47:34.629792"
        },
        {
         "0": "60421",
         "1": "Circumstance",
         "10": "Developer",
         "11": "2011",
         "2": "2000000.0",
         "3": "2.34239",
         "4": "2011-08-26",
         "5": "2600000.0",
         "6": "107",
         "7": "7.4",
         "8": "23",
         "9": "2025-05-11 19:47:34.629792"
        },
        {
         "0": "60422",
         "1": "Another Happy Day",
         "10": "Developer",
         "11": "2011",
         "2": "4000000.0",
         "3": "3.238466",
         "4": "2011-11-18",
         "5": "355688.0",
         "6": "119",
         "7": "6.2",
         "8": "37",
         "9": "2025-05-11 19:47:34.629792"
        },
        {
         "0": "61038",
         "1": "Go for It!",
         "10": "Developer",
         "11": "2011",
         "2": "2450000.0",
         "3": "0.500753",
         "4": "2011-05-13",
         "5": "3062500.0",
         "6": "105",
         "7": "4.6",
         "8": "5",
         "9": "2025-05-11 19:47:34.629792"
        },
        {
         "0": "61791",
         "1": "Rise of the Planet of the Apes",
         "10": "Developer",
         "11": "2011",
         "2": "9.3E7",
         "3": "138.433168",
         "4": "2011-08-03",
         "5": "4.82860185E8",
         "6": "105",
         "7": "7.0",
         "8": "4347",
         "9": "2025-05-11 19:47:34.629792"
        },
        {
         "0": "61891",
         "1": "Anonymous",
         "10": "Developer",
         "11": "2011",
         "2": "3.0E7",
         "3": "16.698316",
         "4": "2011-10-21",
         "5": "1.5395087E7",
         "6": "130",
         "7": "6.3",
         "8": "288",
         "9": "2025-05-11 19:47:34.629792"
        },
        {
         "0": "62206",
         "1": "30 Minutes or Less",
         "10": "Developer",
         "11": "2011",
         "2": "2.8E7",
         "3": "25.039383",
         "4": "2011-08-11",
         "5": "4.054744E7",
         "6": "83",
         "7": "5.6",
         "8": "531",
         "9": "2025-05-11 19:47:34.629792"
        },
        {
         "0": "62215",
         "1": "Melancholia",
         "10": "Developer",
         "11": "2011",
         "2": "7400000.0",
         "3": "36.173598",
         "4": "2011-05-26",
         "5": "2.1817298E7",
         "6": "136",
         "7": "7.0",
         "8": "885",
         "9": "2025-05-11 19:47:34.629792"
        },
        {
         "0": "62630",
         "1": "The Devil's Double",
         "10": "Developer",
         "11": "2011",
         "2": "1.91E7",
         "3": "10.559414",
         "4": "2011-02-11",
         "5": "5728213.0",
         "6": "109",
         "7": "6.5",
         "8": "208",
         "9": "2025-05-11 19:47:34.629792"
        },
        {
         "0": "62835",
         "1": "Colombiana",
         "10": "Developer",
         "11": "2011",
         "2": "4.0E7",
         "3": "33.785969",
         "4": "2011-07-27",
         "5": "6.0965854E7",
         "6": "108",
         "7": "6.5",
         "8": "824",
         "9": "2025-05-11 19:47:34.629792"
        },
        {
         "0": "62837",
         "1": "Dolphin Tale",
         "10": "Developer",
         "11": "2011",
         "2": "3.7E7",
         "3": "6.63839",
         "4": "2011-09-23",
         "5": "9.5404397E7",
         "6": "113",
         "7": "6.7",
         "8": "163",
         "9": "2025-05-11 19:47:34.629792"
        },
        {
         "0": "62838",
         "1": "New Year's Eve",
         "10": "Developer",
         "11": "2011",
         "2": "5.6E7",
         "3": "21.219292",
         "4": "2011-12-08",
         "5": "1.42044638E8",
         "6": "118",
         "7": "5.7",
         "8": "718",
         "9": "2025-05-11 19:47:34.629792"
        },
        {
         "0": "63006",
         "1": "Dum Maaro Dum",
         "10": "Developer",
         "11": "2011",
         "2": "2000000.0",
         "3": "0.075817",
         "4": "2011-04-22",
         "5": "2600000.0",
         "6": "130",
         "7": "5.4",
         "8": "7",
         "9": "2025-05-11 19:47:34.629792"
        },
        {
         "0": "63492",
         "1": "What's Your Number?",
         "10": "Developer",
         "11": "2011",
         "2": "2.0E7",
         "3": "19.220789",
         "4": "2011-09-30",
         "5": "3.0426096E7",
         "6": "106",
         "7": "6.2",
         "8": "671",
         "9": "2025-05-11 19:47:34.629792"
        },
        {
         "0": "64328",
         "1": "The Muppets",
         "10": "Developer",
         "11": "2011",
         "2": "4.5E7",
         "3": "17.047276",
         "4": "2011-11-22",
         "5": "1.65184237E8",
         "6": "103",
         "7": "6.5",
         "8": "501",
         "9": "2025-05-11 19:47:34.629792"
        },
        {
         "0": "64639",
         "1": "Straw Dogs",
         "10": "Developer",
         "11": "2011",
         "2": "2.5E7",
         "3": "7.473455",
         "4": "2011-09-16",
         "5": "1.0324441E7",
         "6": "110",
         "7": "5.5",
         "8": "144",
         "9": "2025-05-11 19:47:34.629792"
        },
        {
         "0": "64678",
         "1": "The Art of Getting By",
         "10": "Developer",
         "11": "2011",
         "2": "2000000.0",
         "3": "12.690224",
         "4": "2011-06-17",
         "5": "2600000.0",
         "6": "83",
         "7": "6.5",
         "8": "415",
         "9": "2025-05-11 19:47:34.629792"
        },
        {
         "0": "64685",
         "1": "Extremely Loud & Incredibly Close",
         "10": "Developer",
         "11": "2011",
         "2": "4.0E7",
         "3": "31.066874",
         "4": "2011-12-24",
         "5": "5.5247881E7",
         "6": "129",
         "7": "6.9",
         "8": "708",
         "9": "2025-05-11 19:47:34.629792"
        },
        {
         "0": "64690",
         "1": "Drive",
         "10": "Developer",
         "11": "2011",
         "2": "1.5E7",
         "3": "49.294864",
         "4": "2011-08-06",
         "5": "7.8054825E7",
         "6": "100",
         "7": "7.4",
         "8": "3725",
         "9": "2025-05-11 19:47:34.629792"
        },
        {
         "0": "64720",
         "1": "Take Shelter",
         "10": "Developer",
         "11": "2011",
         "2": "5000000.0",
         "3": "19.807295",
         "4": "2011-11-25",
         "5": "3099314.0",
         "6": "120",
         "7": "7.1",
         "8": "471",
         "9": "2025-05-11 19:47:34.629792"
        },
        {
         "0": "65055",
         "1": "Shark Night",
         "10": "Developer",
         "11": "2011",
         "2": "2.8E7",
         "3": "8.363702",
         "4": "2011-09-02",
         "5": "1.0126458E7",
         "6": "91",
         "7": "4.9",
         "8": "132",
         "9": "2025-05-11 19:47:34.629792"
        },
        {
         "0": "65057",
         "1": "The Descendants",
         "10": "Developer",
         "11": "2011",
         "2": "2.0E7",
         "3": "40.903931",
         "4": "2011-09-09",
         "5": "1.77243185E8",
         "6": "115",
         "7": "6.7",
         "8": "934",
         "9": "2025-05-11 19:47:34.629792"
        },
        {
         "0": "65754",
         "1": "The Girl with the Dragon Tattoo",
         "10": "Developer",
         "11": "2011",
         "2": "9.0E7",
         "3": "47.651083",
         "4": "2011-12-14",
         "5": "2.3261743E8",
         "6": "158",
         "7": "7.2",
         "8": "2434",
         "9": "2025-05-11 19:47:34.629792"
        },
        {
         "0": "65759",
         "1": "Happy Feet Two",
         "10": "Developer",
         "11": "2011",
         "2": "1.3E8",
         "3": "17.7735",
         "4": "2011-11-17",
         "5": "1.50406466E8",
         "6": "100",
         "7": "5.8",
         "8": "373",
         "9": "2025-05-11 19:47:34.629792"
        },
        {
         "0": "66025",
         "1": "Mooz-lum",
         "10": "Developer",
         "11": "2011",
         "2": "2000000.0",
         "3": "0.414754",
         "4": "2011-02-11",
         "5": "2600000.0",
         "6": "95",
         "7": "4.5",
         "8": "3",
         "9": "2025-05-11 19:47:34.629792"
        },
        {
         "0": "66125",
         "1": "Red Dog",
         "10": "Developer",
         "11": "2011",
         "2": "2000000.0",
         "3": "5.499412",
         "4": "2011-08-04",
         "5": "2600000.0",
         "6": "92",
         "7": "7.1",
         "8": "83",
         "9": "2025-05-11 19:47:34.629792"
        },
        {
         "0": "66607",
         "1": "Salvando al Soldado Perez",
         "10": "Developer",
         "11": "2011",
         "2": "2000000.0",
         "3": "0.177356",
         "4": "2011-03-18",
         "5": "2600000.0",
         "6": "105",
         "7": "6.1",
         "8": "18",
         "9": "2025-05-11 19:47:34.629792"
        },
        {
         "0": "66767",
         "1": "Beat the World",
         "10": "Developer",
         "11": "2011",
         "2": "1.0E7",
         "3": "2.873796",
         "4": "2011-06-10",
         "5": "1.25E7",
         "6": "91",
         "7": "4.3",
         "8": "16",
         "9": "2025-05-11 19:47:34.629792"
        },
        {
         "0": "66942",
         "1": "Griff the Invisible",
         "10": "Developer",
         "11": "2011",
         "2": "2902660.0",
         "3": "1.35088",
         "4": "2011-08-19",
         "5": "3628325.0",
         "6": "93",
         "7": "6.1",
         "8": "34",
         "9": "2025-05-11 19:47:34.629792"
        },
        {
         "0": "67675",
         "1": "Glee: The Concert Movie",
         "10": "Developer",
         "11": "2011",
         "2": "9000000.0",
         "3": "9.933926",
         "4": "2011-08-11",
         "5": "1.8663238E7",
         "6": "84",
         "7": "6.8",
         "8": "79",
         "9": "2025-05-11 19:47:34.629792"
        },
        {
         "0": "67911",
         "1": "Bucky Larson: Born to Be a Star",
         "10": "Developer",
         "11": "2011",
         "2": "1.0E7",
         "3": "3.919057",
         "4": "2011-09-09",
         "5": "1.25E7",
         "6": "97",
         "7": "4.4",
         "8": "51",
         "9": "2025-05-11 19:47:34.629792"
        },
        {
         "0": "67913",
         "1": "The Guard",
         "10": "Developer",
         "11": "2011",
         "2": "6000000.0",
         "3": "19.411141",
         "4": "2011-07-07",
         "5": "1.9560274E7",
         "6": "96",
         "7": "6.8",
         "8": "372",
         "9": "2025-05-11 19:47:34.629792"
        },
        {
         "0": "68202",
         "1": "Without Men",
         "10": "Developer",
         "11": "2011",
         "2": "2000000.0",
         "3": "0.28076",
         "4": "2011-06-29",
         "5": "2600000.0",
         "6": "83",
         "7": "4.6",
         "8": "8",
         "9": "2025-05-11 19:47:34.629792"
        },
        {
         "0": "68684",
         "1": "Detention",
         "10": "Developer",
         "11": "2011",
         "2": "1.0E7",
         "3": "10.424596",
         "4": "2011-03-16",
         "5": "1.25E7",
         "6": "93",
         "7": "5.7",
         "8": "129",
         "9": "2025-05-11 19:47:34.629792"
        },
        {
         "0": "68818",
         "1": "Blackthorn",
         "10": "Developer",
         "11": "2011",
         "2": "2000000.0",
         "3": "5.223096",
         "4": "2011-08-31",
         "5": "2600000.0",
         "6": "98",
         "7": "6.6",
         "8": "73",
         "9": "2025-05-11 19:47:34.629792"
        },
        {
         "0": "69668",
         "1": "Dream House",
         "10": "Developer",
         "11": "2011",
         "2": "5.0E7",
         "3": "19.267479",
         "4": "2011-09-30",
         "5": "3.850234E7",
         "6": "84",
         "7": "5.8",
         "8": "391",
         "9": "2025-05-11 19:47:34.629792"
        },
        {
         "0": "70006",
         "1": "Never Back Down 2: The Beatdown",
         "10": "Developer",
         "11": "2011",
         "2": "3000000.0",
         "3": "9.249229",
         "4": "2011-09-13",
         "5": "3750000.0",
         "6": "90",
         "7": "5.8",
         "8": "136",
         "9": "2025-05-11 19:47:34.629792"
        },
        {
         "0": "70435",
         "1": "Haywire",
         "10": "Developer",
         "11": "2011",
         "2": "2.3E7",
         "3": "26.257951",
         "4": "2011-11-06",
         "5": "3.3372606E7",
         "6": "93",
         "7": "5.6",
         "8": "505",
         "9": "2025-05-11 19:47:34.629792"
        },
        {
         "0": "70670",
         "1": "Hodejegerne",
         "10": "Developer",
         "11": "2011",
         "2": "2000000.0",
         "3": "20.821846",
         "4": "2011-08-04",
         "5": "2600000.0",
         "6": "100",
         "7": "7.1",
         "8": "399",
         "9": "2025-05-11 19:47:34.629792"
        },
        {
         "0": "70868",
         "1": "I Don't Know How She Does It",
         "10": "Developer",
         "11": "2011",
         "2": "2.4E7",
         "3": "8.630825",
         "4": "2011-09-16",
         "5": "3.0551495E7",
         "6": "89",
         "7": "5.0",
         "8": "141",
         "9": "2025-05-11 19:47:34.629792"
        },
        {
         "0": "70875",
         "1": "The Harvest (La Cosecha)",
         "10": "Developer",
         "11": "2011",
         "2": "56000.0",
         "3": "0.010909",
         "4": "2011-07-29",
         "5": "70000.0",
         "6": "80",
         "7": "0.0",
         "8": "0",
         "9": "2025-05-11 19:47:34.629792"
        },
        {
         "0": "71157",
         "1": "Polisse",
         "10": "Developer",
         "11": "2011",
         "2": "2000000.0",
         "3": "14.038703",
         "4": "2011-10-06",
         "5": "2600000.0",
         "6": "127",
         "7": "7.9",
         "8": "285",
         "9": "2025-05-11 19:47:34.629792"
        },
        {
         "0": "71469",
         "1": "The Darkest Hour",
         "10": "Developer",
         "11": "2011",
         "2": "3.0E7",
         "3": "23.328823",
         "4": "2011-12-22",
         "5": "6.4626786E7",
         "6": "89",
         "7": "4.8",
         "8": "469",
         "9": "2025-05-11 19:47:34.629792"
        },
        {
         "0": "71676",
         "1": "Ghost Rider: Spirit of Vengeance",
         "10": "Developer",
         "11": "2011",
         "2": "5.7E7",
         "3": "48.622278",
         "4": "2011-12-10",
         "5": "1.49217355E8",
         "6": "95",
         "7": "4.7",
         "8": "1135",
         "9": "2025-05-11 19:47:34.629792"
        },
        {
         "0": "71688",
         "1": "The Iron Lady",
         "10": "Developer",
         "11": "2011",
         "2": "1.3E7",
         "3": "23.3784",
         "4": "2011-12-30",
         "5": "1.14956699E8",
         "6": "105",
         "7": "6.2",
         "8": "527",
         "9": "2025-05-11 19:47:34.629792"
        },
        {
         "0": "71859",
         "1": "We Need to Talk About Kevin",
         "10": "Developer",
         "11": "2011",
         "2": "7000000.0",
         "3": "21.276864",
         "4": "2011-09-28",
         "5": "6038942.0",
         "6": "112",
         "7": "7.4",
         "8": "677",
         "9": "2025-05-11 19:47:34.629792"
        },
        {
         "0": "71880",
         "1": "Jack and Jill",
         "10": "Developer",
         "11": "2011",
         "2": "7.9E7",
         "3": "22.132418",
         "4": "2011-11-11",
         "5": "1.49673788E8",
         "6": "91",
         "7": "4.1",
         "8": "604",
         "9": "2025-05-11 19:47:34.629792"
        },
        {
         "0": "72113",
         "1": "Carnage",
         "10": "Developer",
         "11": "2011",
         "2": "2.5E7",
         "3": "20.011435",
         "4": "2011-09-16",
         "5": "2.7603069E7",
         "6": "80",
         "7": "7.0",
         "8": "738",
         "9": "2025-05-11 19:47:34.629792"
        },
        {
         "0": "72213",
         "1": "Courageous",
         "10": "Developer",
         "11": "2011",
         "2": "1000000.0",
         "3": "5.961119",
         "4": "2011-09-30",
         "5": "3.4522221E7",
         "6": "129",
         "7": "6.8",
         "8": "77",
         "9": "2025-05-11 19:47:34.629792"
        },
        {
         "0": "72571",
         "1": "Paranormal Activity 3",
         "10": "Developer",
         "11": "2011",
         "2": "5000000.0",
         "3": "29.15813",
         "4": "2011-10-19",
         "5": "2.05703818E8",
         "6": "83",
         "7": "5.9",
         "8": "669",
         "9": "2025-05-11 19:47:34.629792"
        },
        {
         "0": "72766",
         "1": "Newlyweds",
         "10": "Developer",
         "11": "2011",
         "2": "2000000.0",
         "3": "0.642552",
         "4": "2011-12-26",
         "5": "2600000.0",
         "6": "85",
         "7": "5.9",
         "8": "5",
         "9": "2025-05-11 19:47:34.629792"
        },
        {
         "0": "73532",
         "1": "Le Havre",
         "10": "Developer",
         "11": "2011",
         "2": "3850000.0",
         "3": "10.787322",
         "4": "2011-05-17",
         "5": "4812500.0",
         "6": "93",
         "7": "6.8",
         "8": "97",
         "9": "2025-05-11 19:47:34.629792"
        },
        {
         "0": "73567",
         "1": "Killer Joe",
         "10": "Developer",
         "11": "2011",
         "2": "1.0E7",
         "3": "16.436178",
         "4": "2011-09-10",
         "5": "3665069.0",
         "6": "102",
         "7": "6.5",
         "8": "425",
         "9": "2025-05-11 19:47:34.629792"
        },
        {
         "0": "73873",
         "1": "Albert Nobbs",
         "10": "Developer",
         "11": "2011",
         "2": "8000000.0",
         "3": "7.802245",
         "4": "2011-12-21",
         "5": "5634828.0",
         "6": "113",
         "7": "6.2",
         "8": "132",
         "9": "2025-05-11 19:47:34.629792"
        },
        {
         "0": "73937",
         "1": "The Big Year",
         "10": "Developer",
         "11": "2011",
         "2": "4.1E7",
         "3": "9.419726",
         "4": "2011-10-13",
         "5": "7448385.0",
         "6": "100",
         "7": "5.6",
         "8": "248",
         "9": "2025-05-11 19:47:34.629792"
        },
        {
         "0": "74457",
         "1": "Redemption Road",
         "10": "Developer",
         "11": "2011",
         "2": "2000000.0",
         "3": "0.197264",
         "4": "2011-08-26",
         "5": "2600000.0",
         "6": "91",
         "7": "4.7",
         "8": "6",
         "9": "2025-05-11 19:47:34.629792"
        },
        {
         "0": "74465",
         "1": "We Bought a Zoo",
         "10": "Developer",
         "11": "2011",
         "2": "5.0E7",
         "3": "38.629763",
         "4": "2011-12-22",
         "5": "1.20081841E8",
         "6": "124",
         "7": "6.5",
         "8": "909",
         "9": "2025-05-11 19:47:34.629792"
        },
        {
         "0": "74510",
         "1": "Kevin Hart: Laugh at My Pain",
         "10": "Developer",
         "11": "2011",
         "2": "2000000.0",
         "3": "5.498834",
         "4": "2011-09-09",
         "5": "2600000.0",
         "6": "89",
         "7": "7.7",
         "8": "43",
         "9": "2025-05-11 19:47:34.629792"
        },
        {
         "0": "74534",
         "1": "The Best Exotic Marigold Hotel",
         "10": "Developer",
         "11": "2011",
         "2": "1.0E7",
         "3": "21.258991",
         "4": "2011-11-28",
         "5": "1.36836156E8",
         "6": "124",
         "7": "6.9",
         "8": "459",
         "9": "2025-05-11 19:47:34.629792"
        },
        {
         "0": "74536",
         "1": "The Son of No One",
         "10": "Developer",
         "11": "2011",
         "2": "1.5E7",
         "3": "7.701186",
         "4": "2011-11-04",
         "5": "1.875E7",
         "6": "90",
         "7": "4.8",
         "8": "92",
         "9": "2025-05-11 19:47:34.629792"
        },
        {
         "0": "74643",
         "1": "The Artist",
         "10": "Developer",
         "11": "2011",
         "2": "1.5E7",
         "3": "29.943316",
         "4": "2011-05-15",
         "5": "1.33432856E8",
         "6": "100",
         "7": "7.3",
         "8": "1049",
         "9": "2025-05-11 19:47:34.629792"
        },
        {
         "0": "74725",
         "1": "Kill List",
         "10": "Developer",
         "11": "2011",
         "2": "500000.0",
         "3": "12.203041",
         "4": "2011-09-02",
         "5": "171760.0",
         "6": "95",
         "7": "6.0",
         "8": "210",
         "9": "2025-05-11 19:47:34.629792"
        },
        {
         "0": "74777",
         "1": "Absentia",
         "10": "Developer",
         "11": "2011",
         "2": "70000.0",
         "3": "6.328665",
         "4": "2011-03-03",
         "5": "87500.0",
         "6": "92",
         "7": "5.8",
         "8": "121",
         "9": "2025-05-11 19:47:34.629792"
        },
        {
         "0": "75033",
         "1": "Winnie Mandela",
         "10": "Developer",
         "11": "2011",
         "2": "1.5E7",
         "3": "1.897761",
         "4": "2011-09-16",
         "5": "1.875E7",
         "6": "107",
         "7": "5.2",
         "8": "5",
         "9": "2025-05-11 19:47:34.629792"
        },
        {
         "0": "75900",
         "1": "My Week with Marilyn",
         "10": "Developer",
         "11": "2011",
         "2": "6400000.0",
         "3": "21.006078",
         "4": "2011-10-17",
         "5": "3.5057696E7",
         "6": "99",
         "7": "6.6",
         "8": "406",
         "9": "2025-05-11 19:47:34.629792"
        },
        {
         "0": "76025",
         "1": "Shame",
         "10": "Developer",
         "11": "2011",
         "2": "6500000.0",
         "3": "40.688426",
         "4": "2011-10-02",
         "5": "1.7693675E7",
         "6": "100",
         "7": "7.0",
         "8": "875",
         "9": "2025-05-11 19:47:34.629792"
        },
        {
         "0": "77459",
         "1": "Un monstre à Paris",
         "10": "Developer",
         "11": "2011",
         "2": "2.5E7",
         "3": "17.375562",
         "4": "2011-10-12",
         "5": "3.125E7",
         "6": "90",
         "7": "6.5",
         "8": "313",
         "9": "2025-05-11 19:47:34.629792"
        },
        {
         "0": "77495",
         "1": "Mientras duermes",
         "10": "Developer",
         "11": "2011",
         "2": "5000000.0",
         "3": "9.136965",
         "4": "2011-10-14",
         "5": "6250000.0",
         "6": "107",
         "7": "7.0",
         "8": "202",
         "9": "2025-05-11 19:47:34.629792"
        },
        {
         "0": "77949",
         "1": "The Awakening",
         "10": "Developer",
         "11": "2011",
         "2": "4798235.0",
         "3": "25.30216",
         "4": "2011-08-17",
         "5": "209696.0",
         "6": "107",
         "7": "6.3",
         "8": "458",
         "9": "2025-05-11 19:47:34.629792"
        },
        {
         "0": "78381",
         "1": "Twixt",
         "10": "Developer",
         "11": "2011",
         "2": "7000000.0",
         "3": "5.060656",
         "4": "2011-09-10",
         "5": "8750000.0",
         "6": "84",
         "7": "5.0",
         "8": "85",
         "9": "2025-05-11 19:47:34.629792"
        },
        {
         "0": "78814",
         "1": "We Have Your Husband",
         "10": "Developer",
         "11": "2011",
         "2": "2000000.0",
         "3": "0.102003",
         "4": "2011-11-12",
         "5": "2600000.0",
         "6": "89",
         "7": "5.0",
         "8": "3",
         "9": "2025-05-11 19:47:34.629792"
        },
        {
         "0": "79120",
         "1": "Weekend",
         "10": "Developer",
         "11": "2011",
         "2": "2000000.0",
         "3": "1.041254",
         "4": "2011-09-22",
         "5": "2600000.0",
         "6": "96",
         "7": "7.4",
         "8": "163",
         "9": "2025-05-11 19:47:34.629792"
        },
        {
         "0": "79777",
         "1": "In the Land of Blood and Honey",
         "10": "Developer",
         "11": "2011",
         "2": "1.0E7",
         "3": "4.267466",
         "4": "2011-12-23",
         "5": "303877.0",
         "6": "127",
         "7": "5.8",
         "8": "45",
         "9": "2025-05-11 19:47:34.629792"
        },
        {
         "0": "80468",
         "1": "Some Guy Who Kills People",
         "10": "Developer",
         "11": "2011",
         "2": "300000.0",
         "3": "2.733725",
         "4": "2011-04-14",
         "5": "375000.0",
         "6": "97",
         "7": "5.7",
         "8": "45",
         "9": "2025-05-11 19:47:34.629792"
        },
        {
         "0": "81390",
         "1": "A Lonely Place to Die",
         "10": "Developer",
         "11": "2011",
         "2": "4000000.0",
         "3": "8.30723",
         "4": "2011-04-09",
         "5": "2.5345E7",
         "6": "99",
         "7": "6.2",
         "8": "157",
         "9": "2025-05-11 19:47:34.629792"
        },
        {
         "0": "82532",
         "1": "Jeff, Who Lives at Home",
         "10": "Developer",
         "11": "2011",
         "2": "1.0E7",
         "3": "10.409155",
         "4": "2011-09-13",
         "5": "4417580.0",
         "6": "83",
         "7": "6.1",
         "8": "217",
         "9": "2025-05-11 19:47:34.629792"
        },
        {
         "0": "83860",
         "1": "October Baby",
         "10": "Developer",
         "11": "2011",
         "2": "2000000.0",
         "3": "1.86221",
         "4": "2011-10-30",
         "5": "2600000.0",
         "6": "107",
         "7": "6.8",
         "8": "35",
         "9": "2025-05-11 19:47:34.629792"
        },
        {
         "0": "84355",
         "1": "Your Sister's Sister",
         "10": "Developer",
         "11": "2011",
         "2": "125000.0",
         "3": "12.833247",
         "4": "2011-09-11",
         "5": "3200000.0",
         "6": "90",
         "7": "6.5",
         "8": "137",
         "9": "2025-05-11 19:47:34.629792"
        },
        {
         "0": "85860",
         "1": "The FP",
         "10": "Developer",
         "11": "2011",
         "2": "2000000.0",
         "3": "0.838957",
         "4": "2011-03-13",
         "5": "2600000.0",
         "6": "82",
         "7": "4.5",
         "8": "11",
         "9": "2025-05-11 19:47:34.629792"
        },
        {
         "0": "86304",
         "1": "All Superheroes Must Die",
         "10": "Developer",
         "11": "2011",
         "2": "2000000.0",
         "3": "3.545991",
         "4": "2011-10-26",
         "5": "2600000.0",
         "6": "78",
         "7": "4.2",
         "8": "13",
         "9": "2025-05-11 19:47:34.629792"
        },
        {
         "0": "86331",
         "1": "Q",
         "10": "Developer",
         "11": "2011",
         "2": "1344000.0",
         "3": "20.422246",
         "4": "2011-09-14",
         "5": "1680000.0",
         "6": "103",
         "7": "4.1",
         "8": "140",
         "9": "2025-05-11 19:47:34.629792"
        },
        {
         "0": "86549",
         "1": "August",
         "10": "Developer",
         "11": "2011",
         "2": "2000000.0",
         "3": "1.419431",
         "4": "2011-06-09",
         "5": "2600000.0",
         "6": "100",
         "7": "6.2",
         "8": "15",
         "9": "2025-05-11 19:47:34.629792"
        },
        {
         "0": "86812",
         "1": "Sound of My Voice",
         "10": "Developer",
         "11": "2011",
         "2": "2000000.0",
         "3": "6.192383",
         "4": "2011-01-22",
         "5": "2600000.0",
         "6": "85",
         "7": "6.3",
         "8": "108",
         "9": "2025-05-11 19:47:34.629792"
        },
        {
         "0": "88794",
         "1": "J. Edgar",
         "10": "Developer",
         "11": "2011",
         "2": "3.5E7",
         "3": "28.069419",
         "4": "2011-11-09",
         "5": "8.460603E7",
         "6": "137",
         "7": "6.0",
         "8": "741",
         "9": "2025-05-11 19:47:34.629792"
        },
        {
         "0": "89708",
         "1": "Samsara",
         "10": "Developer",
         "11": "2011",
         "2": "4000000.0",
         "3": "12.781973",
         "4": "2011-09-16",
         "5": "5000000.0",
         "6": "102",
         "7": "8.0",
         "8": "167",
         "9": "2025-05-11 19:47:34.629792"
        },
        {
         "0": "91070",
         "1": "L!fe Happens",
         "10": "Developer",
         "11": "2011",
         "2": "930000.0",
         "3": "5.974156",
         "4": "2011-06-18",
         "5": "30905.0",
         "6": "100",
         "7": "5.3",
         "8": "66",
         "9": "2025-05-11 19:47:34.629792"
        },
        {
         "0": "92182",
         "1": "Silent House",
         "10": "Developer",
         "11": "2011",
         "2": "2000000.0",
         "3": "11.66632",
         "4": "2011-01-21",
         "5": "2600000.0",
         "6": "85",
         "7": "5.2",
         "8": "125",
         "9": "2025-05-11 19:47:34.629792"
        },
        {
         "0": "94329",
         "1": "Serbuan maut",
         "10": "Developer",
         "11": "2011",
         "2": "1100000.0",
         "3": "40.285095",
         "4": "2011-09-08",
         "5": "4105187.0",
         "6": "101",
         "7": "7.3",
         "8": "1055",
         "9": "2025-05-11 19:47:34.629792"
        },
        {
         "0": "96534",
         "1": "My Last Day Without You",
         "10": "Developer",
         "11": "2011",
         "2": "1000000.0",
         "3": "0.153625",
         "4": "2011-06-11",
         "5": "1250000.0",
         "6": "90",
         "7": "5.7",
         "8": "3",
         "9": "2025-05-11 19:47:34.629792"
        },
        {
         "0": "98549",
         "1": "The Legend of Hell's Gate: An American Conspiracy",
         "10": "Developer",
         "11": "2011",
         "2": "2000000.0",
         "3": "1.002585",
         "4": "2011-03-03",
         "5": "2600000.0",
         "6": "108",
         "7": "3.9",
         "8": "8",
         "9": "2025-05-11 19:47:34.629792"
        },
        {
         "0": "98568",
         "1": "Enter Nowhere",
         "10": "Developer",
         "11": "2011",
         "2": "2000000.0",
         "3": "3.637857",
         "4": "2011-10-22",
         "5": "2600000.0",
         "6": "90",
         "7": "6.5",
         "8": "49",
         "9": "2025-05-11 19:47:34.629792"
        },
        {
         "0": "101173",
         "1": "Coriolanus",
         "10": "Developer",
         "11": "2011",
         "2": "7700000.0",
         "3": "7.554799",
         "4": "2011-02-14",
         "5": "1072602.0",
         "6": "123",
         "7": "5.9",
         "8": "131",
         "9": "2025-05-11 19:47:34.629792"
        },
        {
         "0": "107315",
         "1": "Below Zero",
         "10": "Developer",
         "11": "2011",
         "2": "2000000.0",
         "3": "1.36514",
         "4": "2011-10-22",
         "5": "2600000.0",
         "6": "75",
         "7": "4.4",
         "8": "12",
         "9": "2025-05-11 19:47:34.629792"
        },
        {
         "0": "146882",
         "1": "Le bonheur d'Elza",
         "10": "Developer",
         "11": "2011",
         "2": "2000000.0",
         "3": "0.007254",
         "4": "2011-04-11",
         "5": "2600000.0",
         "6": "78",
         "7": "0.0",
         "8": "0",
         "9": "2025-05-11 19:47:34.629792"
        },
        {
         "0": "228550",
         "1": "Raymond Did It",
         "10": "Developer",
         "11": "2011",
         "2": "2000000.0",
         "3": "0.160779",
         "4": "2011-03-27",
         "5": "2600000.0",
         "6": "83",
         "7": "3.2",
         "8": "8",
         "9": "2025-05-11 19:47:34.629792"
        },
        {
         "0": "417859",
         "1": "Puss in Boots",
         "10": "Developer",
         "11": "2011",
         "2": "1.3E8",
         "3": "20.678787",
         "4": "2011-10-28",
         "5": "5.54987477E8",
         "6": "90",
         "7": "6.4",
         "8": "451",
         "9": "2025-05-11 19:47:34.629792"
        },
        {
         "0": "4258",
         "1": "Scary Movie 5",
         "10": "Developer",
         "11": "2013",
         "2": "2.0E7",
         "3": "36.819044",
         "4": "2013-04-11",
         "5": "7.8378744E7",
         "6": "86",
         "7": "4.6",
         "8": "793",
         "9": "2025-05-11 19:47:34.629792"
        },
        {
         "0": "47964",
         "1": "A Good Day to Die Hard",
         "10": "Developer",
         "11": "2013",
         "2": "9.2E7",
         "3": "65.402595",
         "4": "2013-02-06",
         "5": "3.04654182E8",
         "6": "98",
         "7": "5.2",
         "8": "3493",
         "9": "2025-05-11 19:47:34.629792"
        },
        {
         "0": "49047",
         "1": "Gravity",
         "10": "Developer",
         "11": "2013",
         "2": "1.05E8",
         "3": "110.153618",
         "4": "2013-09-27",
         "5": "7.16392705E8",
         "6": "91",
         "7": "7.3",
         "8": "5751",
         "9": "2025-05-11 19:47:34.629792"
        },
        {
         "0": "49519",
         "1": "The Croods",
         "10": "Developer",
         "11": "2013",
         "2": "1.35E8",
         "3": "64.183321",
         "4": "2013-03-20",
         "5": "5.85178928E8",
         "6": "98",
         "7": "6.8",
         "8": "2399",
         "9": "2025-05-11 19:47:34.629792"
        },
        {
         "0": "49521",
         "1": "Man of Steel",
         "10": "Developer",
         "11": "2013",
         "2": "2.25E8",
         "3": "99.398009",
         "4": "2013-06-12",
         "5": "6.62845518E8",
         "6": "143",
         "7": "6.5",
         "8": "6359",
         "9": "2025-05-11 19:47:34.629792"
        },
        {
         "0": "49524",
         "1": "R.I.P.D.",
         "10": "Developer",
         "11": "2013",
         "2": "1.3E8",
         "3": "39.448066",
         "4": "2013-07-18",
         "5": "6.16485E7",
         "6": "96",
         "7": "5.4",
         "8": "1260",
         "9": "2025-05-11 19:47:34.629792"
        },
        {
         "0": "54138",
         "1": "Star Trek Into Darkness",
         "10": "Developer",
         "11": "2013",
         "2": "1.9E8",
         "3": "78.291018",
         "4": "2013-05-05",
         "5": "4.67365246E8",
         "6": "132",
         "7": "7.4",
         "8": "4418",
         "9": "2025-05-11 19:47:34.629792"
        },
        {
         "0": "57158",
         "1": "The Hobbit: The Desolation of Smaug",
         "10": "Developer",
         "11": "2013",
         "2": "2.5E8",
         "3": "94.370564",
         "4": "2013-12-11",
         "5": "9.584E8",
         "6": "161",
         "7": "7.6",
         "8": "4524",
         "9": "2025-05-11 19:47:34.629792"
        },
        {
         "0": "57201",
         "1": "The Lone Ranger",
         "10": "Developer",
         "11": "2013",
         "2": "2.55E8",
         "3": "49.046956",
         "4": "2013-07-03",
         "5": "8.928991E7",
         "6": "149",
         "7": "5.9",
         "8": "2311",
         "9": "2025-05-11 19:47:34.629792"
        },
        {
         "0": "59859",
         "1": "Kick-Ass 2",
         "10": "Developer",
         "11": "2013",
         "2": "2.8E7",
         "3": "40.28635",
         "4": "2013-07-17",
         "5": "6.07E7",
         "6": "103",
         "7": "6.3",
         "8": "2224",
         "9": "2025-05-11 19:47:34.629792"
        },
        {
         "0": "59981",
         "1": "Legends of Oz: Dorothy's Return",
         "10": "Developer",
         "11": "2013",
         "2": "7.0E7",
         "3": "6.682006",
         "4": "2013-06-13",
         "5": "1.8662027E7",
         "6": "88",
         "7": "5.9",
         "8": "43",
         "9": "2025-05-11 19:47:34.629792"
        },
        {
         "0": "60304",
         "1": "Hansel & Gretel: Witch Hunters",
         "10": "Developer",
         "11": "2013",
         "2": "5.0E7",
         "3": "53.02787",
         "4": "2013-01-17",
         "5": "2.24803475E8",
         "6": "88",
         "7": "5.7",
         "8": "3239",
         "9": "2025-05-11 19:47:34.629792"
        },
        {
         "0": "62211",
         "1": "Monsters University",
         "10": "Developer",
         "11": "2013",
         "2": "2.0E8",
         "3": "89.186492",
         "4": "2013-06-20",
         "5": "7.43559607E8",
         "6": "104",
         "7": "7.0",
         "8": "3528",
         "9": "2025-05-11 19:47:34.629792"
        },
        {
         "0": "64682",
         "1": "The Great Gatsby",
         "10": "Developer",
         "11": "2013",
         "2": "1.05E8",
         "3": "61.196071",
         "4": "2013-05-10",
         "5": "3.51040419E8",
         "6": "143",
         "7": "7.3",
         "8": "3769",
         "9": "2025-05-11 19:47:34.629792"
        },
        {
         "0": "64686",
         "1": "47 Ronin",
         "10": "Developer",
         "11": "2013",
         "2": "1.75E8",
         "3": "41.796339",
         "4": "2013-12-06",
         "5": "1.50962475E8",
         "6": "119",
         "7": "5.9",
         "8": "1326",
         "9": "2025-05-11 19:47:34.629792"
        },
        {
         "0": "64807",
         "1": "Grudge Match",
         "10": "Developer",
         "11": "2013",
         "2": "4.0E7",
         "3": "21.362949",
         "4": "2013-12-25",
         "5": "4.490726E7",
         "6": "113",
         "7": "6.0",
         "8": "433",
         "9": "2025-05-11 19:47:34.629792"
        },
        {
         "0": "68179",
         "1": "Escape from Planet Earth",
         "10": "Developer",
         "11": "2013",
         "2": "4.0E7",
         "3": "18.14218",
         "4": "2013-02-14",
         "5": "7.4597643E7",
         "6": "89",
         "7": "5.7",
         "8": "332",
         "9": "2025-05-11 19:47:34.629792"
        },
        {
         "0": "68721",
         "1": "Iron Man 3",
         "10": "Developer",
         "11": "2013",
         "2": "2.0E8",
         "3": "77.68208",
         "4": "2013-04-18",
         "5": "1.215439994E9",
         "6": "130",
         "7": "6.8",
         "8": "8806",
         "9": "2025-05-11 19:47:34.629792"
        },
        {
         "0": "68724",
         "1": "Elysium",
         "10": "Developer",
         "11": "2013",
         "2": "1.15E8",
         "3": "67.33767",
         "4": "2013-08-07",
         "5": "2.861407E8",
         "6": "109",
         "7": "6.4",
         "8": "3439",
         "9": "2025-05-11 19:47:34.629792"
        },
        {
         "0": "68726",
         "1": "Pacific Rim",
         "10": "Developer",
         "11": "2013",
         "2": "1.8E8",
         "3": "56.523205",
         "4": "2013-07-11",
         "5": "4.07602906E8",
         "6": "131",
         "7": "6.7",
         "8": "4794",
         "9": "2025-05-11 19:47:34.629792"
        },
        {
         "0": "68727",
         "1": "Trance",
         "10": "Developer",
         "11": "2013",
         "2": "2.0E7",
         "3": "38.802415",
         "4": "2013-03-27",
         "5": "2.4261569E7",
         "6": "101",
         "7": "6.5",
         "8": "956",
         "9": "2025-05-11 19:47:34.629792"
        },
        {
         "0": "68728",
         "1": "Oz: The Great and Powerful",
         "10": "Developer",
         "11": "2013",
         "2": "2.0E8",
         "3": "46.985445",
         "4": "2013-03-07",
         "5": "4.91868548E8",
         "6": "130",
         "7": "5.7",
         "8": "3530",
         "9": "2025-05-11 19:47:34.629792"
        },
        {
         "0": "70074",
         "1": "Bullet to the Head",
         "10": "Developer",
         "11": "2013",
         "2": "5.5E7",
         "3": "22.503935",
         "4": "2013-01-31",
         "5": "9489829.0",
         "6": "92",
         "7": "5.2",
         "8": "481",
         "9": "2025-05-11 19:47:34.629792"
        },
        {
         "0": "72190",
         "1": "World War Z",
         "10": "Developer",
         "11": "2013",
         "2": "2.0E8",
         "3": "81.834855",
         "4": "2013-06-20",
         "5": "5.31865E8",
         "6": "116",
         "7": "6.7",
         "8": "5560",
         "9": "2025-05-11 19:47:34.629792"
        },
        {
         "0": "72359",
         "1": "Peeples",
         "10": "Developer",
         "11": "2013",
         "2": "2000000.0",
         "3": "5.112809",
         "4": "2013-05-09",
         "5": "2600000.0",
         "6": "95",
         "7": "5.6",
         "8": "26",
         "9": "2025-05-11 19:47:34.629792"
        },
        {
         "0": "72559",
         "1": "G.I. Joe: Retaliation",
         "10": "Developer",
         "11": "2013",
         "2": "1.3E8",
         "3": "59.325589",
         "4": "2013-03-26",
         "5": "3.71876278E8",
         "6": "110",
         "7": "5.4",
         "8": "3025",
         "9": "2025-05-11 19:47:34.629792"
        },
        {
         "0": "72710",
         "1": "The Host",
         "10": "Developer",
         "11": "2013",
         "2": "4.4E7",
         "3": "42.933027",
         "4": "2013-03-22",
         "5": "6.3327201E7",
         "6": "125",
         "7": "6.0",
         "8": "1817",
         "9": "2025-05-11 19:47:34.629792"
        },
        {
         "0": "75612",
         "1": "Oblivion",
         "10": "Developer",
         "11": "2013",
         "2": "1.2E8",
         "3": "67.698004",
         "4": "2013-04-10",
         "5": "2.86168572E8",
         "6": "124",
         "7": "6.4",
         "8": "4800",
         "9": "2025-05-11 19:47:34.629792"
        },
        {
         "0": "75656",
         "1": "Now You See Me",
         "10": "Developer",
         "11": "2013",
         "2": "7.5E7",
         "3": "71.124686",
         "4": "2013-05-29",
         "5": "1.17698894E8",
         "6": "115",
         "7": "7.3",
         "8": "5487",
         "9": "2025-05-11 19:47:34.629792"
        },
        {
         "0": "76170",
         "1": "The Wolverine",
         "10": "Developer",
         "11": "2013",
         "2": "1.2E8",
         "3": "15.953444",
         "4": "2013-07-23",
         "5": "4.15440673E8",
         "6": "126",
         "7": "6.3",
         "8": "4053",
         "9": "2025-05-11 19:47:34.629792"
        },
        {
         "0": "76203",
         "1": "12 Years a Slave",
         "10": "Developer",
         "11": "2013",
         "2": "2.0E7",
         "3": "95.9229",
         "4": "2013-10-18",
         "5": "1.87E8",
         "6": "134",
         "7": "7.9",
         "8": "3674",
         "9": "2025-05-11 19:47:34.629792"
        },
        {
         "0": "76285",
         "1": "Percy Jackson: Sea of Monsters",
         "10": "Developer",
         "11": "2013",
         "2": "9.0E7",
         "3": "40.262261",
         "4": "2013-08-07",
         "5": "1.74578751E8",
         "6": "106",
         "7": "5.9",
         "8": "1648",
         "9": "2025-05-11 19:47:34.629792"
        },
        {
         "0": "76338",
         "1": "Thor: The Dark World",
         "10": "Developer",
         "11": "2013",
         "2": "1.7E8",
         "3": "99.499595",
         "4": "2013-10-29",
         "5": "6.44571402E8",
         "6": "112",
         "7": "6.8",
         "8": "4755",
         "9": "2025-05-11 19:47:34.629792"
        },
        {
         "0": "76617",
         "1": "Texas Chainsaw 3D",
         "10": "Developer",
         "11": "2013",
         "2": "2.0E7",
         "3": "26.497025",
         "4": "2013-01-03",
         "5": "4.7241945E7",
         "6": "92",
         "7": "5.3",
         "8": "465",
         "9": "2025-05-11 19:47:34.629792"
        },
        {
         "0": "76640",
         "1": "The Last Stand",
         "10": "Developer",
         "11": "2013",
         "2": "3.0E7",
         "3": "43.882857",
         "4": "2013-01-12",
         "5": "3.75E7",
         "6": "107",
         "7": "5.7",
         "8": "1266",
         "9": "2025-05-11 19:47:34.629792"
        },
        {
         "0": "77931",
         "1": "The Smurfs 2",
         "10": "Developer",
         "11": "2013",
         "2": "1.05E8",
         "3": "32.473628",
         "4": "2013-07-30",
         "5": "3.47434178E8",
         "6": "105",
         "7": "5.5",
         "8": "695",
         "9": "2025-05-11 19:47:34.629792"
        },
        {
         "0": "77950",
         "1": "Turbo",
         "10": "Developer",
         "11": "2013",
         "2": "1.35E8",
         "3": "44.765377",
         "4": "2013-07-11",
         "5": "2.82570682E8",
         "6": "96",
         "7": "6.1",
         "8": "1074",
         "9": "2025-05-11 19:47:34.629792"
        },
        {
         "0": "77951",
         "1": "Walking With Dinosaurs",
         "10": "Developer",
         "11": "2013",
         "2": "8.0E7",
         "3": "10.088006",
         "4": "2013-12-18",
         "5": "1.26546518E8",
         "6": "87",
         "7": "5.2",
         "8": "133",
         "9": "2025-05-11 19:47:34.629792"
        },
        {
         "0": "77987",
         "1": "Only God Forgives",
         "10": "Developer",
         "11": "2013",
         "2": "4800000.0",
         "3": "35.754865",
         "4": "2013-05-30",
         "5": "1.0337387E7",
         "6": "90",
         "7": "5.6",
         "8": "862",
         "9": "2025-05-11 19:47:34.629792"
        },
        {
         "0": "78383",
         "1": "Nurse 3-D",
         "10": "Developer",
         "11": "2013",
         "2": "2000000.0",
         "3": "10.013629",
         "4": "2013-09-28",
         "5": "2600000.0",
         "6": "99",
         "7": "4.9",
         "8": "119",
         "9": "2025-05-11 19:47:34.629792"
        },
        {
         "0": "80274",
         "1": "Ender's Game",
         "10": "Developer",
         "11": "2013",
         "2": "1.1E8",
         "3": "45.94834",
         "4": "2013-10-23",
         "5": "1.25537191E8",
         "6": "114",
         "7": "6.6",
         "8": "2303",
         "9": "2025-05-11 19:47:34.629792"
        },
        {
         "0": "81005",
         "1": "Jack the Giant Slayer",
         "10": "Developer",
         "11": "2013",
         "2": "1.95E8",
         "3": "43.349855",
         "4": "2013-02-27",
         "5": "1.97687603E8",
         "6": "114",
         "7": "5.5",
         "8": "2598",
         "9": "2025-05-11 19:47:34.629792"
        },
        {
         "0": "82654",
         "1": "Warm Bodies",
         "10": "Developer",
         "11": "2013",
         "2": "3.5E7",
         "3": "43.742241",
         "4": "2013-01-31",
         "5": "1.16980662E8",
         "6": "97",
         "7": "6.4",
         "8": "2652",
         "9": "2025-05-11 19:47:34.629792"
        },
        {
         "0": "82682",
         "1": "Gangster Squad",
         "10": "Developer",
         "11": "2013",
         "2": "6.0E7",
         "3": "29.041198",
         "4": "2013-01-10",
         "5": "1.05200903E8",
         "6": "113",
         "7": "6.2",
         "8": "1778",
         "9": "2025-05-11 19:47:34.629792"
        },
        {
         "0": "82700",
         "1": "After Earth",
         "10": "Developer",
         "11": "2013",
         "2": "1.3E8",
         "3": "42.840582",
         "4": "2013-05-30",
         "5": "2.43843127E8",
         "6": "100",
         "7": "5.0",
         "8": "2532",
         "9": "2025-05-11 19:47:34.629792"
        },
        {
         "0": "84197",
         "1": "Filly Brown",
         "10": "Developer",
         "11": "2013",
         "2": "2000000.0",
         "3": "0.106949",
         "4": "2013-04-19",
         "5": "2600000.0",
         "6": "100",
         "7": "5.9",
         "8": "10",
         "9": "2025-05-11 19:47:34.629792"
        },
        {
         "0": "86825",
         "1": "Stoker",
         "10": "Developer",
         "11": "2013",
         "2": "1.2E7",
         "3": "27.322212",
         "4": "2013-02-28",
         "5": "1.2077441E7",
         "6": "99",
         "7": "6.5",
         "8": "882",
         "9": "2025-05-11 19:47:34.629792"
        },
        {
         "0": "86829",
         "1": "Inside Llewyn Davis",
         "10": "Developer",
         "11": "2013",
         "2": "1.1E7",
         "3": "36.319205",
         "4": "2013-10-06",
         "5": "3.2935319E7",
         "6": "105",
         "7": "7.2",
         "8": "834",
         "9": "2025-05-11 19:47:34.629792"
        },
        {
         "0": "87421",
         "1": "Riddick",
         "10": "Developer",
         "11": "2013",
         "2": "3.8E7",
         "3": "46.630062",
         "4": "2013-09-02",
         "5": "9.8337295E7",
         "6": "119",
         "7": "6.2",
         "8": "2035",
         "9": "2025-05-11 19:47:34.629792"
        },
        {
         "0": "87499",
         "1": "The East",
         "10": "Developer",
         "11": "2013",
         "2": "6500000.0",
         "3": "16.574756",
         "4": "2013-05-31",
         "5": "2401510.0",
         "6": "116",
         "7": "6.5",
         "8": "305",
         "9": "2025-05-11 19:47:34.629792"
        },
        {
         "0": "87567",
         "1": "The Big Wedding",
         "10": "Developer",
         "11": "2013",
         "2": "3.5E7",
         "3": "18.84332",
         "4": "2013-04-25",
         "5": "2.1819348E7",
         "6": "90",
         "7": "5.7",
         "8": "414",
         "9": "2025-05-11 19:47:34.629792"
        },
        {
         "0": "91586",
         "1": "Insidious: Chapter 2",
         "10": "Developer",
         "11": "2013",
         "2": "5000000.0",
         "3": "48.375848",
         "4": "2013-09-12",
         "5": "6250000.0",
         "6": "106",
         "7": "6.5",
         "8": "1211",
         "9": "2025-05-11 19:47:34.629792"
        },
        {
         "0": "93456",
         "1": "Despicable Me 2",
         "10": "Developer",
         "11": "2013",
         "2": "7.6E7",
         "3": "136.886704",
         "4": "2013-06-25",
         "5": "9.70761885E8",
         "6": "98",
         "7": "7.0",
         "8": "4637",
         "9": "2025-05-11 19:47:34.629792"
        },
        {
         "0": "96721",
         "1": "Rush",
         "10": "Developer",
         "11": "2013",
         "2": "3.8E7",
         "3": "33.003828",
         "4": "2013-09-02",
         "5": "9.0247624E7",
         "6": "123",
         "7": "7.7",
         "8": "2277",
         "9": "2025-05-11 19:47:34.629792"
        },
        {
         "0": "97367",
         "1": "The Place Beyond the Pines",
         "10": "Developer",
         "11": "2013",
         "2": "1.5E7",
         "3": "35.395129",
         "4": "2013-03-20",
         "5": "3.5485608E7",
         "6": "140",
         "7": "6.8",
         "8": "1653",
         "9": "2025-05-11 19:47:34.629792"
        },
        {
         "0": "98357",
         "1": "Broken City",
         "10": "Developer",
         "11": "2013",
         "2": "5.6E7",
         "3": "29.490057",
         "4": "2013-01-18",
         "5": "1.9701164E7",
         "6": "109",
         "7": "5.7",
         "8": "593",
         "9": "2025-05-11 19:47:34.629792"
        },
        {
         "0": "102362",
         "1": "Dead Man Down",
         "10": "Developer",
         "11": "2013",
         "2": "2000000.0",
         "3": "29.647844",
         "4": "2013-03-08",
         "5": "2600000.0",
         "6": "118",
         "7": "5.9",
         "8": "638",
         "9": "2025-05-11 19:47:34.629792"
        },
        {
         "0": "103731",
         "1": "Mud",
         "10": "Developer",
         "11": "2013",
         "2": "1.0E7",
         "3": "17.663353",
         "4": "2013-05-01",
         "5": "2.15877E7",
         "6": "130",
         "7": "7.0",
         "8": "1068",
         "9": "2025-05-11 19:47:34.629792"
        },
        {
         "0": "106646",
         "1": "The Wolf of Wall Street",
         "10": "Developer",
         "11": "2013",
         "2": "1.0E8",
         "3": "95.007934",
         "4": "2013-12-25",
         "5": "3.92000694E8",
         "6": "180",
         "7": "7.9",
         "8": "6571",
         "9": "2025-05-11 19:47:34.629792"
        },
        {
         "0": "106747",
         "1": "Machete Kills",
         "10": "Developer",
         "11": "2013",
         "2": "1.2E7",
         "3": "29.072964",
         "4": "2013-09-12",
         "5": "1.5008161E7",
         "6": "107",
         "7": "5.3",
         "8": "631",
         "9": "2025-05-11 19:47:34.629792"
        },
        {
         "0": "107811",
         "1": "21 & Over",
         "10": "Developer",
         "11": "2013",
         "2": "1.3E7",
         "3": "35.522027",
         "4": "2013-03-01",
         "5": "4.8065672E7",
         "6": "93",
         "7": "5.7",
         "8": "737",
         "9": "2025-05-11 19:47:34.629792"
        },
        {
         "0": "107846",
         "1": "Escape Plan",
         "10": "Developer",
         "11": "2013",
         "2": "5.0E7",
         "3": "44.478043",
         "4": "2013-10-09",
         "5": "1.22915111E8",
         "6": "115",
         "7": "6.7",
         "8": "1659",
         "9": "2025-05-11 19:47:34.629792"
        },
        {
         "0": "107985",
         "1": "The World's End",
         "10": "Developer",
         "11": "2013",
         "2": "2.0E7",
         "3": "55.964605",
         "4": "2013-07-18",
         "5": "4.6089287E7",
         "6": "109",
         "7": "6.7",
         "8": "1778",
         "9": "2025-05-11 19:47:34.629792"
        },
        {
         "0": "109091",
         "1": "The Counselor",
         "10": "Developer",
         "11": "2013",
         "2": "2.5E7",
         "3": "35.022029",
         "4": "2013-10-25",
         "5": "7.1009334E7",
         "6": "117",
         "7": "5.0",
         "8": "712",
         "9": "2025-05-11 19:47:34.629792"
        },
        {
         "0": "109410",
         "1": "42",
         "10": "Developer",
         "11": "2013",
         "2": "4.0E7",
         "3": "31.884559",
         "4": "2013-04-12",
         "5": "9.5020213E7",
         "6": "128",
         "7": "6.8",
         "8": "787",
         "9": "2025-05-11 19:47:34.629792"
        },
        {
         "0": "109414",
         "1": "This Is the End",
         "10": "Developer",
         "11": "2013",
         "2": "3.2E7",
         "3": "38.21708",
         "4": "2013-06-12",
         "5": "1.26041322E8",
         "6": "107",
         "7": "6.3",
         "8": "2359",
         "9": "2025-05-11 19:47:34.629792"
        },
        {
         "0": "109417",
         "1": "Battle of the Year",
         "10": "Developer",
         "11": "2013",
         "2": "2.0E7",
         "3": "8.237336",
         "4": "2013-09-21",
         "5": "1.6549477E7",
         "6": "110",
         "7": "5.9",
         "8": "88",
         "9": "2025-05-11 19:47:34.629792"
        },
        {
         "0": "109418",
         "1": "Grown Ups 2",
         "10": "Developer",
         "11": "2013",
         "2": "8.0E7",
         "3": "45.589568",
         "4": "2013-07-11",
         "5": "2.46984278E8",
         "6": "100",
         "7": "5.8",
         "8": "1155",
         "9": "2025-05-11 19:47:34.629792"
        },
        {
         "0": "109421",
         "1": "Side Effects",
         "10": "Developer",
         "11": "2013",
         "2": "3.0E7",
         "3": "48.237797",
         "4": "2013-02-07",
         "5": "6.3372757E7",
         "6": "106",
         "7": "6.4",
         "8": "1323",
         "9": "2025-05-11 19:47:34.629792"
        },
        {
         "0": "109424",
         "1": "Captain Phillips",
         "10": "Developer",
         "11": "2013",
         "2": "5.5E7",
         "3": "52.786917",
         "4": "2013-10-10",
         "5": "9.5E7",
         "6": "134",
         "7": "7.6",
         "8": "2454",
         "9": "2025-05-11 19:47:34.629792"
        },
        {
         "0": "109428",
         "1": "Evil Dead",
         "10": "Developer",
         "11": "2013",
         "2": "1.7E7",
         "3": "33.912116",
         "4": "2013-04-05",
         "5": "9.7542952E7",
         "6": "91",
         "7": "6.4",
         "8": "1723",
         "9": "2025-05-11 19:47:34.629792"
        },
        {
         "0": "109431",
         "1": "Identity Thief",
         "10": "Developer",
         "11": "2013",
         "2": "3.5E7",
         "3": "34.005726",
         "4": "2013-02-07",
         "5": "1.7396501E8",
         "6": "111",
         "7": "5.6",
         "8": "1645",
         "9": "2025-05-11 19:47:34.629792"
        },
        {
         "0": "109443",
         "1": "Anchorman 2: The Legend Continues",
         "10": "Developer",
         "11": "2013",
         "2": "5.0E7",
         "3": "38.125008",
         "4": "2013-12-18",
         "5": "1.73649015E8",
         "6": "119",
         "7": "6.0",
         "8": "923",
         "9": "2025-05-11 19:47:34.629792"
        },
        {
         "0": "109445",
         "1": "Frozen",
         "10": "Developer",
         "11": "2013",
         "2": "1.5E8",
         "3": "165.125366",
         "4": "2013-11-27",
         "5": "1.274219009E9",
         "6": "102",
         "7": "7.3",
         "8": "5295",
         "9": "2025-05-11 19:47:34.629792"
        },
        {
         "0": "109451",
         "1": "Cloudy with a Chance of Meatballs 2",
         "10": "Developer",
         "11": "2013",
         "2": "7.8E7",
         "3": "41.247402",
         "4": "2013-09-26",
         "5": "2.48384621E8",
         "6": "95",
         "7": "6.4",
         "8": "915",
         "9": "2025-05-11 19:47:34.629792"
        },
        {
         "0": "109491",
         "1": "Beautiful Creatures",
         "10": "Developer",
         "11": "2013",
         "2": "6.0E7",
         "3": "40.721373",
         "4": "2013-02-13",
         "5": "6.0052138E7",
         "6": "124",
         "7": "5.6",
         "8": "984",
         "9": "2025-05-11 19:47:34.629792"
        },
        {
         "0": "109729",
         "1": "The Canyons",
         "10": "Developer",
         "11": "2013",
         "2": "250000.0",
         "3": "6.978907",
         "4": "2013-07-29",
         "5": "56825.0",
         "6": "99",
         "7": "4.1",
         "8": "75",
         "9": "2025-05-11 19:47:34.629792"
        },
        {
         "0": "110415",
         "1": "Snowpiercer",
         "10": "Developer",
         "11": "2013",
         "2": "3.92E7",
         "3": "64.238688",
         "4": "2013-08-01",
         "5": "8.6758912E7",
         "6": "126",
         "7": "6.7",
         "8": "2854",
         "9": "2025-05-11 19:47:34.629792"
        },
        {
         "0": "111190",
         "1": "Adore",
         "10": "Developer",
         "11": "2013",
         "2": "1.6E7",
         "3": "18.790221",
         "4": "2013-04-03",
         "5": "318982.0",
         "6": "100",
         "7": "6.1",
         "8": "291",
         "9": "2025-05-11 19:47:34.629792"
        },
        {
         "0": "112949",
         "1": "Safe Haven",
         "10": "Developer",
         "11": "2013",
         "2": "2.8E7",
         "3": "37.729059",
         "4": "2013-02-07",
         "5": "9.759414E7",
         "6": "115",
         "7": "6.9",
         "8": "823",
         "9": "2025-05-11 19:47:34.629792"
        },
        {
         "0": "116711",
         "1": "Epic",
         "10": "Developer",
         "11": "2013",
         "2": "1.0E8",
         "3": "36.711378",
         "4": "2013-05-15",
         "5": "2.68426634E8",
         "6": "102",
         "7": "6.4",
         "8": "1121",
         "9": "2025-05-11 19:47:34.629792"
        },
        {
         "0": "116741",
         "1": "The Internship",
         "10": "Developer",
         "11": "2013",
         "2": "5.8E7",
         "3": "1.551497",
         "4": "2013-06-07",
         "5": "4.4E7",
         "6": "119",
         "7": "6.1",
         "8": "1658",
         "9": "2025-05-11 19:47:34.629792"
        },
        {
         "0": "116745",
         "1": "The Secret Life of Walter Mitty",
         "10": "Developer",
         "11": "2013",
         "2": "9.0E7",
         "3": "43.348022",
         "4": "2013-12-18",
         "5": "1.88133322E8",
         "6": "114",
         "7": "7.0",
         "8": "3144",
         "9": "2025-05-11 19:47:34.629792"
        },
        {
         "0": "117251",
         "1": "White House Down",
         "10": "Developer",
         "11": "2013",
         "2": "1.5E8",
         "3": "39.004588",
         "4": "2013-06-27",
         "5": "2.05366737E8",
         "6": "131",
         "7": "6.4",
         "8": "1891",
         "9": "2025-05-11 19:47:34.629792"
        },
        {
         "0": "119283",
         "1": "Parker",
         "10": "Developer",
         "11": "2013",
         "2": "3.5E7",
         "3": "28.670477",
         "4": "2013-01-23",
         "5": "4.6216641E7",
         "6": "118",
         "7": "5.7",
         "8": "1455",
         "9": "2025-05-11 19:47:34.629792"
        },
        {
         "0": "121986",
         "1": "Frances Ha",
         "10": "Developer",
         "11": "2013",
         "2": "2000000.0",
         "3": "15.492257",
         "4": "2013-05-17",
         "5": "2600000.0",
         "6": "86",
         "7": "7.2",
         "8": "345",
         "9": "2025-05-11 19:47:34.629792"
        },
        {
         "0": "122081",
         "1": "Spring Breakers",
         "10": "Developer",
         "11": "2013",
         "2": "5000000.0",
         "3": "62.554173",
         "4": "2013-01-24",
         "5": "3.1724284E7",
         "6": "94",
         "7": "5.0",
         "8": "1551",
         "9": "2025-05-11 19:47:34.629792"
        },
        {
         "0": "122906",
         "1": "About Time",
         "10": "Developer",
         "11": "2013",
         "2": "2000000.0",
         "3": "74.817641",
         "4": "2013-08-16",
         "5": "2600000.0",
         "6": "123",
         "7": "7.8",
         "8": "2067",
         "9": "2025-05-11 19:47:34.629792"
        },
        {
         "0": "123553",
         "1": "The Mortal Instruments: City of Bones",
         "10": "Developer",
         "11": "2013",
         "2": "6.0E7",
         "3": "45.514031",
         "4": "2013-08-21",
         "5": "9.0565421E7",
         "6": "130",
         "7": "6.2",
         "8": "1602",
         "9": "2025-05-11 19:47:34.629792"
        },
        {
         "0": "124459",
         "1": "The Incredible Burt Wonderstone",
         "10": "Developer",
         "11": "2013",
         "2": "3.0E7",
         "3": "26.9385",
         "4": "2013-03-14",
         "5": "2.7437881E7",
         "6": "100",
         "7": "5.3",
         "8": "724",
         "9": "2025-05-11 19:47:34.629792"
        },
        {
         "0": "127560",
         "1": "The Railway Man",
         "10": "Developer",
         "11": "2013",
         "2": "1.8E7",
         "3": "13.916583",
         "4": "2013-12-26",
         "5": "2.2309223E7",
         "6": "116",
         "7": "6.7",
         "8": "273",
         "9": "2025-05-11 19:47:34.629792"
        },
        {
         "0": "129139",
         "1": "The To Do List",
         "10": "Developer",
         "11": "2013",
         "2": "1500000.0",
         "3": "15.017068",
         "4": "2013-07-24",
         "5": "3566225.0",
         "6": "104",
         "7": "5.5",
         "8": "342",
         "9": "2025-05-11 19:47:34.629792"
        },
        {
         "0": "129670",
         "1": "Nebraska",
         "10": "Developer",
         "11": "2013",
         "2": "1.2E7",
         "3": "29.223881",
         "4": "2013-09-21",
         "5": "1.7654912E7",
         "6": "115",
         "7": "7.4",
         "8": "636",
         "9": "2025-05-11 19:47:34.629792"
        },
        {
         "0": "130150",
         "1": "Labor Day",
         "10": "Developer",
         "11": "2013",
         "2": "1.8E7",
         "3": "17.683563",
         "4": "2013-12-27",
         "5": "2.0275812E7",
         "6": "111",
         "7": "6.7",
         "8": "299",
         "9": "2025-05-11 19:47:34.629792"
        },
        {
         "0": "132232",
         "1": "Mama",
         "10": "Developer",
         "11": "2013",
         "2": "1.5E7",
         "3": "47.455148",
         "4": "2013-01-17",
         "5": "1.46497771E8",
         "6": "100",
         "7": "6.0",
         "8": "1401",
         "9": "2025-05-11 19:47:34.629792"
        },
        {
         "0": "132344",
         "1": "Before Midnight",
         "10": "Developer",
         "11": "2013",
         "2": "3000000.0",
         "3": "23.299907",
         "4": "2013-04-05",
         "5": "1.1176469E7",
         "6": "108",
         "7": "7.4",
         "8": "568",
         "9": "2025-05-11 19:47:34.629792"
        },
        {
         "0": "132363",
         "1": "The Butler",
         "10": "Developer",
         "11": "2013",
         "2": "2.5E7",
         "3": "32.105328",
         "4": "2013-08-16",
         "5": "1.15922175E8",
         "6": "132",
         "7": "7.2",
         "8": "1101",
         "9": "2025-05-11 19:47:34.629792"
        },
        {
         "0": "133805",
         "1": "Carrie",
         "10": "Developer",
         "11": "2013",
         "2": "3.0E7",
         "3": "63.848541",
         "4": "2013-10-16",
         "5": "8.2394288E7",
         "6": "100",
         "7": "5.8",
         "8": "1463",
         "9": "2025-05-11 19:47:34.629792"
        },
        {
         "0": "134374",
         "1": "Pain & Gain",
         "10": "Developer",
         "11": "2013",
         "2": "2.5E7",
         "3": "31.893932",
         "4": "2013-04-18",
         "5": "8.6175291E7",
         "6": "130",
         "7": "6.1",
         "8": "1573",
         "9": "2025-05-11 19:47:34.629792"
        },
        {
         "0": "134411",
         "1": "Snitch",
         "10": "Developer",
         "11": "2013",
         "2": "3.5E7",
         "3": "30.556135",
         "4": "2013-02-21",
         "5": "4.2930462E7",
         "6": "112",
         "7": "5.8",
         "8": "1138",
         "9": "2025-05-11 19:47:34.629792"
        },
        {
         "0": "136400",
         "1": "2 Guns",
         "10": "Developer",
         "11": "2013",
         "2": "6.1E7",
         "3": "42.881415",
         "4": "2013-08-02",
         "5": "1.31940411E8",
         "6": "109",
         "7": "6.6",
         "8": "1589",
         "9": "2025-05-11 19:47:34.629792"
        },
        {
         "0": "137093",
         "1": "Last Vegas",
         "10": "Developer",
         "11": "2013",
         "2": "2.8E7",
         "3": "28.043508",
         "4": "2013-10-31",
         "5": "1.3440245E8",
         "6": "105",
         "7": "6.4",
         "8": "799",
         "9": "2025-05-11 19:47:34.629792"
        },
        {
         "0": "137347",
         "1": "Closer to the Moon",
         "10": "Developer",
         "11": "2013",
         "2": "9000000.0",
         "3": "9.159265",
         "4": "2013-11-29",
         "5": "1.125E7",
         "6": "112",
         "7": "6.4",
         "8": "13",
         "9": "2025-05-11 19:47:34.629792"
        },
        {
         "0": "138697",
         "1": "Don Jon",
         "10": "Developer",
         "11": "2013",
         "2": "6000000.0",
         "3": "33.296684",
         "4": "2013-07-26",
         "5": "7500000.0",
         "6": "90",
         "7": "5.9",
         "8": "1671",
         "9": "2025-05-11 19:47:34.629792"
        },
        {
         "0": "138832",
         "1": "We're the Millers",
         "10": "Developer",
         "11": "2013",
         "2": "3.7E7",
         "3": "100.348805",
         "4": "2013-08-07",
         "5": "2.69994119E8",
         "6": "110",
         "7": "6.8",
         "8": "2972",
         "9": "2025-05-11 19:47:34.629792"
        },
        {
         "0": "138843",
         "1": "The Conjuring",
         "10": "Developer",
         "11": "2013",
         "2": "1.3E7",
         "3": "49.975409",
         "4": "2013-07-18",
         "5": "3.18000141E8",
         "6": "112",
         "7": "7.4",
         "8": "3092",
         "9": "2025-05-11 19:47:34.629792"
        },
        {
         "0": "138976",
         "1": "Treachery",
         "10": "Developer",
         "11": "2013",
         "2": "625000.0",
         "3": "0.283059",
         "4": "2013-05-16",
         "5": "781250.0",
         "6": "68",
         "7": "4.8",
         "8": "5",
         "9": "2025-05-11 19:47:34.629792"
        },
        {
         "0": "139038",
         "1": "A Haunted House",
         "10": "Developer",
         "11": "2013",
         "2": "2500000.0",
         "3": "18.661541",
         "4": "2013-01-11",
         "5": "6.0141683E7",
         "6": "86",
         "7": "5.4",
         "8": "516",
         "9": "2025-05-11 19:47:34.629792"
        },
        {
         "0": "140823",
         "1": "Saving Mr. Banks",
         "10": "Developer",
         "11": "2013",
         "2": "3.5E7",
         "3": "31.957947",
         "4": "2013-11-16",
         "5": "1.1254458E8",
         "6": "125",
         "7": "7.3",
         "8": "1226",
         "9": "2025-05-11 19:47:34.629792"
        },
        {
         "0": "142061",
         "1": "Batman: The Dark Knight Returns, Part 2",
         "10": "Developer",
         "11": "2013",
         "2": "3500000.0",
         "3": "25.891466",
         "4": "2013-01-18",
         "5": "4375000.0",
         "6": "78",
         "7": "7.9",
         "8": "419",
         "9": "2025-05-11 19:47:34.629792"
        },
        {
         "0": "144340",
         "1": "Admission",
         "10": "Developer",
         "11": "2013",
         "2": "1.3E7",
         "3": "17.632446",
         "4": "2013-03-21",
         "5": "1.8E7",
         "6": "107",
         "7": "5.4",
         "8": "304",
         "9": "2025-05-11 19:47:34.629792"
        },
        {
         "0": "146203",
         "1": "The Last Exorcism Part II",
         "10": "Developer",
         "11": "2013",
         "2": "5000000.0",
         "3": "10.605752",
         "4": "2013-02-28",
         "5": "1.5179302E7",
         "6": "88",
         "7": "4.4",
         "8": "203",
         "9": "2025-05-11 19:47:34.629792"
        },
        {
         "0": "146216",
         "1": "RED 2",
         "10": "Developer",
         "11": "2013",
         "2": "8.4E7",
         "3": "44.34333",
         "4": "2013-07-18",
         "5": "1.05E8",
         "6": "116",
         "7": "6.4",
         "8": "1526",
         "9": "2025-05-11 19:47:34.629792"
        },
        {
         "0": "146227",
         "1": "Getaway",
         "10": "Developer",
         "11": "2013",
         "2": "1.8E7",
         "3": "16.520516",
         "4": "2013-08-29",
         "5": "1.0501938E7",
         "6": "90",
         "7": "4.9",
         "8": "246",
         "9": "2025-05-11 19:47:34.629792"
        },
        {
         "0": "146233",
         "1": "Prisoners",
         "10": "Developer",
         "11": "2013",
         "2": "4.6E7",
         "3": "88.496873",
         "4": "2013-09-18",
         "5": "1.22126687E8",
         "6": "153",
         "7": "7.9",
         "8": "3085",
         "9": "2025-05-11 19:47:34.629792"
        },
        {
         "0": "146238",
         "1": "Runner Runner",
         "10": "Developer",
         "11": "2013",
         "2": "3.0E7",
         "3": "22.975918",
         "4": "2013-09-24",
         "5": "6.2616646E7",
         "6": "91",
         "7": "5.5",
         "8": "543",
         "9": "2025-05-11 19:47:34.629792"
        },
        {
         "0": "146239",
         "1": "Delivery Man",
         "10": "Developer",
         "11": "2013",
         "2": "2.6E7",
         "3": "30.114383",
         "4": "2013-10-10",
         "5": "5.1164106E7",
         "6": "105",
         "7": "6.2",
         "8": "551",
         "9": "2025-05-11 19:47:34.629792"
        },
        {
         "0": "146304",
         "1": "The Best Man Holiday",
         "10": "Developer",
         "11": "2013",
         "2": "1.7E7",
         "3": "7.210095",
         "4": "2013-11-15",
         "5": "7.1625195E7",
         "6": "123",
         "7": "6.7",
         "8": "110",
         "9": "2025-05-11 19:47:34.629792"
        },
        {
         "0": "147773",
         "1": "The Way Way Back",
         "10": "Developer",
         "11": "2013",
         "2": "4600000.0",
         "3": "32.14444",
         "4": "2013-06-06",
         "5": "2.3198652E7",
         "6": "103",
         "7": "7.1",
         "8": "688",
         "9": "2025-05-11 19:47:34.629792"
        },
        {
         "0": "150202",
         "1": "The Haunting in Connecticut 2: Ghosts of Georgia",
         "10": "Developer",
         "11": "2013",
         "2": "2000000.0",
         "3": "11.708343",
         "4": "2013-02-01",
         "5": "2600000.0",
         "6": "101",
         "7": "5.6",
         "8": "175",
         "9": "2025-05-11 19:47:34.629792"
        },
        {
         "0": "152532",
         "1": "Dallas Buyers Club",
         "10": "Developer",
         "11": "2013",
         "2": "5000000.0",
         "3": "59.454473",
         "4": "2013-09-07",
         "5": "5.5198285E7",
         "6": "117",
         "7": "7.9",
         "8": "2886",
         "9": "2025-05-11 19:47:34.629792"
        },
        {
         "0": "152599",
         "1": "The Immigrant",
         "10": "Developer",
         "11": "2013",
         "2": "1.6E7",
         "3": "13.832464",
         "4": "2013-07-03",
         "5": "5867686.0",
         "6": "117",
         "7": "6.2",
         "8": "250",
         "9": "2025-05-11 19:47:34.629792"
        },
        {
         "0": "152601",
         "1": "Her",
         "10": "Developer",
         "11": "2013",
         "2": "2.3E7",
         "3": "53.682367",
         "4": "2013-12-18",
         "5": "4.7351251E7",
         "6": "126",
         "7": "7.9",
         "8": "4097",
         "9": "2025-05-11 19:47:34.629792"
        },
        {
         "0": "152737",
         "1": "August: Osage County",
         "10": "Developer",
         "11": "2013",
         "2": "2.5E7",
         "3": "20.561682",
         "4": "2013-12-26",
         "5": "7.4188937E7",
         "6": "121",
         "7": "6.9",
         "8": "483",
         "9": "2025-05-11 19:47:34.629792"
        },
        {
         "0": "152742",
         "1": "La migliore offerta",
         "10": "Developer",
         "11": "2013",
         "2": "1.35E7",
         "3": "30.058263",
         "4": "2013-01-01",
         "5": "1.9255873E7",
         "6": "124",
         "7": "7.7",
         "8": "704",
         "9": "2025-05-11 19:47:34.629792"
        },
        {
         "0": "152747",
         "1": "All Is Lost",
         "10": "Developer",
         "11": "2013",
         "2": "9000000.0",
         "3": "28.540614",
         "4": "2013-10-18",
         "5": "6108720.0",
         "6": "106",
         "7": "6.6",
         "8": "671",
         "9": "2025-05-11 19:47:34.629792"
        },
        {
         "0": "153158",
         "1": "Metegol",
         "10": "Developer",
         "11": "2013",
         "2": "2.2E7",
         "3": "14.866351",
         "4": "2013-07-18",
         "5": "2.4E7",
         "6": "106",
         "7": "6.0",
         "8": "122",
         "9": "2025-05-11 19:47:34.629792"
        },
        {
         "0": "153795",
         "1": "Straight A's",
         "10": "Developer",
         "11": "2013",
         "2": "7000000.0",
         "3": "4.50829",
         "4": "2013-01-16",
         "5": "8750000.0",
         "6": "88",
         "7": "5.2",
         "8": "46",
         "9": "2025-05-11 19:47:34.629792"
        },
        {
         "0": "157058",
         "1": "30 Nights of Paranormal Activity With the Devil Inside the Girl With the Dragon Tattoo",
         "10": "Developer",
         "11": "2013",
         "2": "2000000.0",
         "3": "1.737032",
         "4": "2013-01-14",
         "5": "2600000.0",
         "6": "80",
         "7": "2.9",
         "8": "28",
         "9": "2025-05-11 19:47:34.629792"
        },
        {
         "0": "157354",
         "1": "Fruitvale Station",
         "10": "Developer",
         "11": "2013",
         "2": "2000000.0",
         "3": "20.967146",
         "4": "2013-07-25",
         "5": "2600000.0",
         "6": "85",
         "7": "7.3",
         "8": "390",
         "9": "2025-05-11 19:47:34.629792"
        },
        {
         "0": "157386",
         "1": "The Spectacular Now",
         "10": "Developer",
         "11": "2013",
         "2": "2500000.0",
         "3": "25.722747",
         "4": "2013-08-02",
         "5": "6854611.0",
         "6": "95",
         "7": "6.8",
         "8": "1048",
         "9": "2025-05-11 19:47:34.629792"
        },
        {
         "0": "157547",
         "1": "Oculus",
         "10": "Developer",
         "11": "2013",
         "2": "5000000.0",
         "3": "35.871248",
         "4": "2013-09-08",
         "5": "4.4030246E7",
         "6": "104",
         "7": "6.3",
         "8": "1050",
         "9": "2025-05-11 19:47:34.629792"
        },
        {
         "0": "157841",
         "1": "The Young and Prodigious T.S. Spivet",
         "10": "Developer",
         "11": "2013",
         "2": "3.3E7",
         "3": "10.651202",
         "4": "2013-10-16",
         "5": "9494789.0",
         "6": "105",
         "7": "6.7",
         "8": "232",
         "9": "2025-05-11 19:47:34.629792"
        },
        {
         "0": "158011",
         "1": "The Call",
         "10": "Developer",
         "11": "2013",
         "2": "1.3E7",
         "3": "34.532418",
         "4": "2013-03-14",
         "5": "6.8572378E7",
         "6": "94",
         "7": "6.6",
         "8": "1257",
         "9": "2025-05-11 19:47:34.629792"
        },
        {
         "0": "158015",
         "1": "The Purge",
         "10": "Developer",
         "11": "2013",
         "2": "3000000.0",
         "3": "54.403033",
         "4": "2013-05-31",
         "5": "8.9328627E7",
         "6": "86",
         "7": "6.0",
         "8": "2428",
         "9": "2025-05-11 19:47:34.629792"
        },
        {
         "0": "158752",
         "1": "Escape from Tomorrow",
         "10": "Developer",
         "11": "2013",
         "2": "2000000.0",
         "3": "1.352222",
         "4": "2013-10-11",
         "5": "2600000.0",
         "6": "90",
         "7": "4.8",
         "8": "87",
         "9": "2025-05-11 19:47:34.629792"
        },
        {
         "0": "158895",
         "1": "This Is Martin Bonner",
         "10": "Developer",
         "11": "2013",
         "2": "2000000.0",
         "3": "0.76368",
         "4": "2013-06-28",
         "5": "2600000.0",
         "6": "83",
         "7": "6.6",
         "8": "4",
         "9": "2025-05-11 19:47:34.629792"
        },
        {
         "0": "159014",
         "1": "20 Feet from Stardom",
         "10": "Developer",
         "11": "2013",
         "2": "1000000.0",
         "3": "5.247956",
         "4": "2013-06-14",
         "5": "1250000.0",
         "6": "89",
         "7": "7.4",
         "8": "85",
         "9": "2025-05-11 19:47:34.629792"
        },
        {
         "0": "159037",
         "1": "The Square",
         "10": "Developer",
         "11": "2013",
         "2": "2000000.0",
         "3": "4.892203",
         "4": "2013-06-07",
         "5": "2600000.0",
         "6": "88",
         "7": "7.8",
         "8": "55",
         "9": "2025-05-11 19:47:34.629792"
        },
        {
         "0": "159770",
         "1": "The Dirties",
         "10": "Developer",
         "11": "2013",
         "2": "2000000.0",
         "3": "0.833937",
         "4": "2013-10-04",
         "5": "2600000.0",
         "6": "83",
         "7": "6.0",
         "8": "42",
         "9": "2025-05-11 19:47:34.629792"
        },
        {
         "0": "160588",
         "1": "Blue Jasmine",
         "10": "Developer",
         "11": "2013",
         "2": "1.8E7",
         "3": "34.694216",
         "4": "2013-07-25",
         "5": "9.9206215E7",
         "6": "98",
         "7": "7.0",
         "8": "1098",
         "9": "2025-05-11 19:47:34.629792"
        },
        {
         "0": "162903",
         "1": "The Fifth Estate",
         "10": "Developer",
         "11": "2013",
         "2": "2.8E7",
         "3": "20.267062",
         "4": "2013-10-11",
         "5": "8555008.0",
         "6": "128",
         "7": "5.7",
         "8": "364",
         "9": "2025-05-11 19:47:34.629792"
        },
        {
         "0": "164457",
         "1": "Out of the Furnace",
         "10": "Developer",
         "11": "2013",
         "2": "2.2E7",
         "3": "29.230298",
         "4": "2013-12-06",
         "5": "1.54E7",
         "6": "116",
         "7": "6.5",
         "8": "720",
         "9": "2025-05-11 19:47:34.629792"
        },
        {
         "0": "164558",
         "1": "One Direction: This Is Us",
         "10": "Developer",
         "11": "2013",
         "2": "1.0E7",
         "3": "7.944457",
         "4": "2013-08-28",
         "5": "1.25E7",
         "6": "92",
         "7": "8.0",
         "8": "201",
         "9": "2025-05-11 19:47:34.629792"
        },
        {
         "0": "165864",
         "1": "Hansel and Gretel Get Baked",
         "10": "Developer",
         "11": "2013",
         "2": "4500000.0",
         "3": "2.503612",
         "4": "2013-02-19",
         "5": "5625000.0",
         "6": "86",
         "7": "4.8",
         "8": "67",
         "9": "2025-05-11 19:47:34.629792"
        },
        {
         "0": "166624",
         "1": "Treading Water",
         "10": "Developer",
         "11": "2013",
         "2": "4700000.0",
         "3": "0.217538",
         "4": "2013-09-13",
         "5": "5875000.0",
         "6": "92",
         "7": "5.6",
         "8": "6",
         "9": "2025-05-11 19:47:34.629792"
        },
        {
         "0": "168672",
         "1": "American Hustle",
         "10": "Developer",
         "11": "2013",
         "2": "4.0E7",
         "3": "49.664128",
         "4": "2013-12-12",
         "5": "2.51171807E8",
         "6": "138",
         "7": "6.8",
         "8": "2807",
         "9": "2025-05-11 19:47:34.629792"
        },
        {
         "0": "171759",
         "1": "The Lost Medallion: The Adventures of Billy Stone",
         "10": "Developer",
         "11": "2013",
         "2": "2000000.0",
         "3": "2.952932",
         "4": "2013-03-01",
         "5": "2600000.0",
         "6": "97",
         "7": "5.6",
         "8": "13",
         "9": "2025-05-11 19:47:34.629792"
        },
        {
         "0": "172391",
         "1": "Khumba",
         "10": "Developer",
         "11": "2013",
         "2": "2.0E7",
         "3": "6.459787",
         "4": "2013-07-18",
         "5": "2.7187375E7",
         "6": "85",
         "7": "5.8",
         "8": "72",
         "9": "2025-05-11 19:47:34.629792"
        },
        {
         "0": "172533",
         "1": "Drinking Buddies",
         "10": "Developer",
         "11": "2013",
         "2": "2000000.0",
         "3": "17.378455",
         "4": "2013-08-23",
         "5": "2600000.0",
         "6": "90",
         "7": "6.0",
         "8": "356",
         "9": "2025-05-11 19:47:34.629792"
        },
        {
         "0": "173224",
         "1": "Along the Roadside",
         "10": "Developer",
         "11": "2013",
         "2": "2000000.0",
         "3": "0.166655",
         "4": "2013-02-28",
         "5": "2600000.0",
         "6": "118",
         "7": "7.7",
         "8": "3",
         "9": "2025-05-11 19:47:34.629792"
        },
        {
         "0": "174311",
         "1": "All Is Bright",
         "10": "Developer",
         "11": "2013",
         "2": "2000000.0",
         "3": "3.613577",
         "4": "2013-09-10",
         "5": "2600000.0",
         "6": "107",
         "7": "5.3",
         "8": "36",
         "9": "2025-05-11 19:47:34.629792"
        },
        {
         "0": "174362",
         "1": "Bending Steel",
         "10": "Developer",
         "11": "2013",
         "2": "2000000.0",
         "3": "0.048726",
         "4": "2013-04-20",
         "5": "2600000.0",
         "6": "93",
         "7": "5.0",
         "8": "1",
         "9": "2025-05-11 19:47:34.629792"
        },
        {
         "0": "175291",
         "1": "Cheap Thrills",
         "10": "Developer",
         "11": "2013",
         "2": "2000000.0",
         "3": "10.826253",
         "4": "2013-03-08",
         "5": "2600000.0",
         "6": "85",
         "7": "6.3",
         "8": "155",
         "9": "2025-05-11 19:47:34.629792"
        },
        {
         "0": "175528",
         "1": "Baggage Claim",
         "10": "Developer",
         "11": "2013",
         "2": "8500000.0",
         "3": "11.436405",
         "4": "2013-09-27",
         "5": "2.2456509E7",
         "6": "96",
         "7": "5.6",
         "8": "85",
         "9": "2025-05-11 19:47:34.629792"
        },
        {
         "0": "175541",
         "1": "Black Nativity",
         "10": "Developer",
         "11": "2013",
         "2": "1.75E7",
         "3": "7.180403",
         "4": "2013-11-27",
         "5": "7018189.0",
         "6": "93",
         "7": "5.8",
         "8": "16",
         "9": "2025-05-11 19:47:34.629792"
        },
        {
         "0": "175555",
         "1": "A Madea Christmas",
         "10": "Developer",
         "11": "2013",
         "2": "2000000.0",
         "3": "5.377155",
         "4": "2013-12-13",
         "5": "2600000.0",
         "6": "100",
         "7": "7.0",
         "8": "35",
         "9": "2025-05-11 19:47:34.629792"
        },
        {
         "0": "175574",
         "1": "Free Birds",
         "10": "Developer",
         "11": "2013",
         "2": "5.5E7",
         "3": "14.414937",
         "4": "2013-10-30",
         "5": "1.1E8",
         "6": "91",
         "7": "5.7",
         "8": "254",
         "9": "2025-05-11 19:47:34.629792"
        },
        {
         "0": "176077",
         "1": "Enter the Dangerous Mind",
         "10": "Developer",
         "11": "2013",
         "2": "2000000.0",
         "3": "1.998826",
         "4": "2013-03-11",
         "5": "2600000.0",
         "6": "88",
         "7": "4.8",
         "8": "14",
         "9": "2025-05-11 19:47:34.629792"
        },
        {
         "0": "176124",
         "1": "Home Run",
         "10": "Developer",
         "11": "2013",
         "2": "1200000.0",
         "3": "3.085411",
         "4": "2013-04-19",
         "5": "2861020.0",
         "6": "114",
         "7": "6.3",
         "8": "24",
         "9": "2025-05-11 19:47:34.629792"
        },
        {
         "0": "178862",
         "1": "Aroused",
         "10": "Developer",
         "11": "2013",
         "2": "2000000.0",
         "3": "2.557258",
         "4": "2013-02-20",
         "5": "2600000.0",
         "6": "73",
         "7": "7.2",
         "8": "11",
         "9": "2025-05-11 19:47:34.629792"
        },
        {
         "0": "179144",
         "1": "La grande bellezza",
         "10": "Developer",
         "11": "2013",
         "2": "1.24E7",
         "3": "32.523573",
         "4": "2013-05-21",
         "5": "8371085.0",
         "6": "142",
         "7": "7.3",
         "8": "720",
         "9": "2025-05-11 19:47:34.629792"
        },
        {
         "0": "182873",
         "1": "Green Street Hooligans: Underground",
         "10": "Developer",
         "11": "2013",
         "2": "2000000.0",
         "3": "5.0005",
         "4": "2013-01-01",
         "5": "2600000.0",
         "6": "90",
         "7": "5.4",
         "8": "33",
         "9": "2025-05-11 19:47:34.629792"
        },
        {
         "0": "184374",
         "1": "Cinco de Mayo: La Batalla",
         "10": "Developer",
         "11": "2013",
         "2": "1.0E7",
         "3": "0.072085",
         "4": "2013-05-03",
         "5": "1.25E7",
         "6": "125",
         "7": "5.8",
         "8": "14",
         "9": "2025-05-11 19:47:34.629792"
        },
        {
         "0": "185008",
         "1": "Yeh Jawaani Hai Deewani",
         "10": "Developer",
         "11": "2013",
         "2": "7700000.0",
         "3": "3.353176",
         "4": "2013-05-31",
         "5": "4.6E7",
         "6": "159",
         "7": "7.2",
         "8": "79",
         "9": "2025-05-11 19:47:34.629792"
        },
        {
         "0": "185567",
         "1": "Zulu",
         "10": "Developer",
         "11": "2013",
         "2": "1.6E7",
         "3": "14.529496",
         "4": "2013-12-04",
         "5": "2.0E7",
         "6": "110",
         "7": "6.7",
         "8": "172",
         "9": "2025-05-11 19:47:34.629792"
        },
        {
         "0": "186935",
         "1": "Heli",
         "10": "Developer",
         "11": "2013",
         "2": "1000000.0",
         "3": "3.629777",
         "4": "2013-08-09",
         "5": "1250000.0",
         "6": "105",
         "7": "6.2",
         "8": "32",
         "9": "2025-05-11 19:47:34.629792"
        },
        {
         "0": "188652",
         "1": "The Ghastly Love of Johnny X",
         "10": "Developer",
         "11": "2013",
         "2": "2000000.0",
         "3": "0.209475",
         "4": "2013-04-26",
         "5": "2600000.0",
         "6": "106",
         "7": "6.6",
         "8": "8",
         "9": "2025-05-11 19:47:34.629792"
        },
        {
         "0": "190847",
         "1": "The Last Days on Mars",
         "10": "Developer",
         "11": "2013",
         "2": "2000000.0",
         "3": "18.764453",
         "4": "2013-08-11",
         "5": "2600000.0",
         "6": "98",
         "7": "5.2",
         "8": "302",
         "9": "2025-05-11 19:47:34.629792"
        },
        {
         "0": "190955",
         "1": "Blood Ties",
         "10": "Developer",
         "11": "2013",
         "2": "2.55E7",
         "3": "12.756344",
         "4": "2013-08-22",
         "5": "2415472.0",
         "6": "128",
         "7": "6.0",
         "8": "171",
         "9": "2025-05-11 19:47:34.629792"
        },
        {
         "0": "191714",
         "1": "Dabba",
         "10": "Developer",
         "11": "2013",
         "2": "1000000.0",
         "3": "14.017809",
         "4": "2013-09-19",
         "5": "4235151.0",
         "6": "104",
         "7": "7.3",
         "8": "221",
         "9": "2025-05-11 19:47:34.629792"
        },
        {
         "0": "192134",
         "1": "Dom Hemingway",
         "10": "Developer",
         "11": "2013",
         "2": "2000000.0",
         "3": "10.416332",
         "4": "2013-11-15",
         "5": "2600000.0",
         "6": "93",
         "7": "5.8",
         "8": "212",
         "9": "2025-05-11 19:47:34.629792"
        },
        {
         "0": "192136",
         "1": "Mandela: Long Walk to Freedom",
         "10": "Developer",
         "11": "2013",
         "2": "3.5E7",
         "3": "15.50957",
         "4": "2013-12-06",
         "5": "2.733E7",
         "6": "141",
         "7": "6.5",
         "8": "224",
         "9": "2025-05-11 19:47:34.629792"
        },
        {
         "0": "192210",
         "1": "Open Road",
         "10": "Developer",
         "11": "2013",
         "2": "3000000.0",
         "3": "2.680629",
         "4": "2013-04-12",
         "5": "3750000.0",
         "6": "85",
         "7": "5.2",
         "8": "18",
         "9": "2025-05-11 19:47:34.629792"
        },
        {
         "0": "193613",
         "1": "Metallica: Through the Never",
         "10": "Developer",
         "11": "2013",
         "2": "1.8E7",
         "3": "7.871686",
         "4": "2013-09-25",
         "5": "7972967.0",
         "6": "93",
         "7": "6.7",
         "8": "83",
         "9": "2025-05-11 19:47:34.629792"
        },
        {
         "0": "193722",
         "1": "R100",
         "10": "Developer",
         "11": "2013",
         "2": "5500000.0",
         "3": "3.21392",
         "4": "2013-10-05",
         "5": "6875000.0",
         "6": "100",
         "7": "5.4",
         "8": "31",
         "9": "2025-05-11 19:47:34.629792"
        },
        {
         "0": "198062",
         "1": "Coffee Town",
         "10": "Developer",
         "11": "2013",
         "2": "2000000.0",
         "3": "2.253589",
         "4": "2013-07-09",
         "5": "2600000.0",
         "6": "87",
         "7": "6.7",
         "8": "45",
         "9": "2025-05-11 19:47:34.629792"
        },
        {
         "0": "198277",
         "1": "Begin Again",
         "10": "Developer",
         "11": "2013",
         "2": "8000000.0",
         "3": "35.735689",
         "4": "2013-09-07",
         "5": "6.3464861E7",
         "6": "104",
         "7": "7.3",
         "8": "1254",
         "9": "2025-05-11 19:47:34.629792"
        },
        {
         "0": "199373",
         "1": "The Frozen Ground",
         "10": "Developer",
         "11": "2013",
         "2": "2.722E7",
         "3": "28.060472",
         "4": "2013-07-18",
         "5": "5496951.0",
         "6": "105",
         "7": "6.1",
         "8": "465",
         "9": "2025-05-11 19:47:34.629792"
        },
        {
         "0": "201132",
         "1": "Antarctica: A Year on Ice",
         "10": "Developer",
         "11": "2013",
         "2": "1000000.0",
         "3": "1.883947",
         "4": "2013-09-05",
         "5": "1250000.0",
         "6": "92",
         "7": "7.2",
         "8": "29",
         "9": "2025-05-11 19:47:34.629792"
        },
        {
         "0": "202575",
         "1": "The House of Magic",
         "10": "Developer",
         "11": "2013",
         "2": "3.4E7",
         "3": "12.867326",
         "4": "2013-12-24",
         "5": "4.25E7",
         "6": "85",
         "7": "6.3",
         "8": "121",
         "9": "2025-05-11 19:47:34.629792"
        },
        {
         "0": "202604",
         "1": "The Vatican Exorcisms",
         "10": "Developer",
         "11": "2013",
         "2": "2000000.0",
         "3": "0.447166",
         "4": "2013-05-29",
         "5": "2600000.0",
         "6": "75",
         "7": "4.4",
         "8": "11",
         "9": "2025-05-11 19:47:34.629792"
        },
        {
         "0": "203833",
         "1": "The Book Thief",
         "10": "Developer",
         "11": "2013",
         "2": "2000000.0",
         "3": "57.84156",
         "4": "2013-11-08",
         "5": "2600000.0",
         "6": "131",
         "7": "7.4",
         "8": "1486",
         "9": "2025-05-11 19:47:34.629792"
        },
        {
         "0": "204082",
         "1": "Homefront",
         "10": "Developer",
         "11": "2013",
         "2": "2.2E7",
         "3": "35.737655",
         "4": "2013-11-27",
         "5": "4.3058898E7",
         "6": "100",
         "7": "6.4",
         "8": "875",
         "9": "2025-05-11 19:47:34.629792"
        },
        {
         "0": "205126",
         "1": "Independence Daysaster",
         "10": "Developer",
         "11": "2013",
         "2": "1800000.0",
         "3": "1.959405",
         "4": "2013-06-27",
         "5": "2250000.0",
         "6": "86",
         "7": "4.2",
         "8": "22",
         "9": "2025-05-11 19:47:34.629792"
        },
        {
         "0": "205220",
         "1": "Philomena",
         "10": "Developer",
         "11": "2013",
         "2": "1.2E7",
         "3": "29.019504",
         "4": "2013-11-01",
         "5": "1.00129872E8",
         "6": "98",
         "7": "7.4",
         "8": "579",
         "9": "2025-05-11 19:47:34.629792"
        },
        {
         "0": "205321",
         "1": "Sharknado",
         "10": "Developer",
         "11": "2013",
         "2": "1000000.0",
         "3": "20.466433",
         "4": "2013-07-11",
         "5": "1250000.0",
         "6": "86",
         "7": "3.8",
         "8": "476",
         "9": "2025-05-11 19:47:34.629792"
        },
        {
         "0": "206284",
         "1": "Grace Unplugged",
         "10": "Developer",
         "11": "2013",
         "2": "2000000.0",
         "3": "2.160586",
         "4": "2013-10-04",
         "5": "2600000.0",
         "6": "102",
         "7": "6.0",
         "8": "24",
         "9": "2025-05-11 19:47:34.629792"
        },
        {
         "0": "207769",
         "1": "Banshee Chapter",
         "10": "Developer",
         "11": "2013",
         "2": "950000.0",
         "3": "7.310879",
         "4": "2013-08-26",
         "5": "1187500.0",
         "6": "87",
         "7": "5.7",
         "8": "92",
         "9": "2025-05-11 19:47:34.629792"
        },
        {
         "0": "208134",
         "1": "Jackass Presents: Bad Grandpa",
         "10": "Developer",
         "11": "2013",
         "2": "1.5E7",
         "3": "27.165222",
         "4": "2013-10-22",
         "5": "1.51831537E8",
         "6": "92",
         "7": "6.0",
         "8": "680",
         "9": "2025-05-11 19:47:34.629792"
        },
        {
         "0": "209263",
         "1": "Enough Said",
         "10": "Developer",
         "11": "2013",
         "2": "2000000.0",
         "3": "14.969093",
         "4": "2013-09-18",
         "5": "2600000.0",
         "6": "93",
         "7": "6.6",
         "8": "348",
         "9": "2025-05-11 19:47:34.629792"
        },
        {
         "0": "209274",
         "1": "Ida",
         "10": "Developer",
         "11": "2013",
         "2": "2159280.0",
         "3": "13.265432",
         "4": "2013-10-25",
         "5": "1.07E7",
         "6": "80",
         "7": "7.1",
         "8": "260",
         "9": "2025-05-11 19:47:34.629792"
        },
        {
         "0": "209403",
         "1": "Bad Words",
         "10": "Developer",
         "11": "2013",
         "2": "9500000.0",
         "3": "14.105392",
         "4": "2013-09-06",
         "5": "7800000.0",
         "6": "88",
         "7": "6.4",
         "8": "334",
         "9": "2025-05-11 19:47:34.629792"
        },
        {
         "0": "211086",
         "1": "Faith Connections",
         "10": "Developer",
         "11": "2013",
         "2": "550000.0",
         "3": "0.48088",
         "4": "2013-11-21",
         "5": "687500.0",
         "6": "115",
         "7": "4.2",
         "8": "3",
         "9": "2025-05-11 19:47:34.629792"
        },
        {
         "0": "211954",
         "1": "No se Aceptan Devoluciones",
         "10": "Developer",
         "11": "2013",
         "2": "5500000.0",
         "3": "9.59729",
         "4": "2013-07-20",
         "5": "9.9067206E7",
         "6": "115",
         "7": "7.5",
         "8": "205",
         "9": "2025-05-11 19:47:34.629792"
        },
        {
         "0": "215881",
         "1": "Plush",
         "10": "Developer",
         "11": "2013",
         "2": "2000000.0",
         "3": "5.099368",
         "4": "2013-09-13",
         "5": "2600000.0",
         "6": "98",
         "7": "5.4",
         "8": "40",
         "9": "2025-05-11 19:47:34.629792"
        },
        {
         "0": "215918",
         "1": "1982",
         "10": "Developer",
         "11": "2013",
         "2": "1000000.0",
         "3": "0.175885",
         "4": "2013-12-31",
         "5": "1250000.0",
         "6": "90",
         "7": "5.0",
         "8": "1",
         "9": "2025-05-11 19:47:34.629792"
        },
        {
         "0": "215924",
         "1": "Los insólitos peces gato",
         "10": "Developer",
         "11": "2013",
         "2": "1300000.0",
         "3": "1.473405",
         "4": "2013-08-10",
         "5": "1625000.0",
         "6": "87",
         "7": "5.7",
         "8": "17",
         "9": "2025-05-11 19:47:34.629792"
        },
        {
         "0": "217708",
         "1": "Hross í oss",
         "10": "Developer",
         "11": "2013",
         "2": "2000000.0",
         "3": "1.617943",
         "4": "2013-08-30",
         "5": "2600000.0",
         "6": "85",
         "7": "6.9",
         "8": "26",
         "9": "2025-05-11 19:47:34.629792"
        },
        {
         "0": "220490",
         "1": "Her Cry: La Llorona Investigation",
         "10": "Developer",
         "11": "2013",
         "2": "2000000.0",
         "3": "0.056459",
         "4": "2013-04-19",
         "5": "2600000.0",
         "6": "89",
         "7": "0.0",
         "8": "0",
         "9": "2025-05-11 19:47:34.629792"
        },
        {
         "0": "222250",
         "1": "A True Story",
         "10": "Developer",
         "11": "2013",
         "2": "2000000.0",
         "3": "0.970351",
         "4": "2013-09-20",
         "5": "2600000.0",
         "6": "96",
         "7": "6.8",
         "8": "2",
         "9": "2025-05-11 19:47:34.629792"
        },
        {
         "0": "226354",
         "1": "The Christmas Candle",
         "10": "Developer",
         "11": "2013",
         "2": "2000000.0",
         "3": "1.799504",
         "4": "2013-11-22",
         "5": "2600000.0",
         "6": "100",
         "7": "5.8",
         "8": "8",
         "9": "2025-05-11 19:47:34.629792"
        },
        {
         "0": "227707",
         "1": "The Adventurer: The Curse of the Midas Box",
         "10": "Developer",
         "11": "2013",
         "2": "2.5E7",
         "3": "8.842722",
         "4": "2013-12-05",
         "5": "6399.0",
         "6": "99",
         "7": "5.1",
         "8": "73",
         "9": "2025-05-11 19:47:34.629792"
        },
        {
         "0": "242575",
         "1": "Guten Tag, Ramón",
         "10": "Developer",
         "11": "2013",
         "2": "4000000.0",
         "3": "1.771584",
         "4": "2013-10-18",
         "5": "5000000.0",
         "6": "119",
         "7": "8.1",
         "8": "18",
         "9": "2025-05-11 19:47:34.629792"
        },
        {
         "0": "246449",
         "1": "Against the Wild",
         "10": "Developer",
         "11": "2013",
         "2": "1493619.0",
         "3": "2.492747",
         "4": "2013-12-29",
         "5": "1867023.0",
         "6": "90",
         "7": "4.9",
         "8": "19",
         "9": "2025-05-11 19:47:34.629792"
        },
        {
         "0": "250902",
         "1": "The Image Revolution",
         "10": "Developer",
         "11": "2013",
         "2": "50000.0",
         "3": "0.54562",
         "4": "2013-11-21",
         "5": "62500.0",
         "6": "81",
         "7": "5.7",
         "8": "3",
         "9": "2025-05-11 19:47:34.629792"
        },
        {
         "0": "252360",
         "1": "In the Name of the King III",
         "10": "Developer",
         "11": "2013",
         "2": "3500000.0",
         "3": "4.304341",
         "4": "2013-12-27",
         "5": "4375000.0",
         "6": "85",
         "7": "3.3",
         "8": "19",
         "9": "2025-05-11 19:47:34.629792"
        },
        {
         "0": "255266",
         "1": "Dry Spell",
         "10": "Developer",
         "11": "2013",
         "2": "22000.0",
         "3": "0.048948",
         "4": "2013-02-14",
         "5": "27500.0",
         "6": "90",
         "7": "6.0",
         "8": "1",
         "9": "2025-05-11 19:47:34.629792"
        },
        {
         "0": "270554",
         "1": "Echo Dr.",
         "10": "Developer",
         "11": "2013",
         "2": "2000000.0",
         "3": "0.053755",
         "4": "2013-11-08",
         "5": "2600000.0",
         "6": "85",
         "7": "5.0",
         "8": "1",
         "9": "2025-05-11 19:47:34.629792"
        },
        {
         "0": "294600",
         "1": "Last I Heard",
         "10": "Developer",
         "11": "2013",
         "2": "2000000.0",
         "3": "0.35819",
         "4": "2013-01-01",
         "5": "2600000.0",
         "6": "98",
         "7": "6.0",
         "8": "1",
         "9": "2025-05-11 19:47:34.629792"
        },
        {
         "0": "299552",
         "1": "Born Of War",
         "10": "Developer",
         "11": "2013",
         "2": "2000000.0",
         "3": "1.136568",
         "4": "2013-12-05",
         "5": "2600000.0",
         "6": "109",
         "7": "4.1",
         "8": "7",
         "9": "2025-05-11 19:47:34.629792"
        },
        {
         "0": "308467",
         "1": "Roadside",
         "10": "Developer",
         "11": "2013",
         "2": "2000000.0",
         "3": "0.160234",
         "4": "2013-03-01",
         "5": "2600000.0",
         "6": "90",
         "7": "4.2",
         "8": "5",
         "9": "2025-05-11 19:47:34.629792"
        },
        {
         "0": "310933",
         "1": "Bleeding Hearts",
         "10": "Developer",
         "11": "2013",
         "2": "2000000.0",
         "3": "0.100533",
         "4": "2013-06-01",
         "5": "2600000.0",
         "6": "75",
         "7": "2.0",
         "8": "1",
         "9": "2025-05-11 19:47:34.629792"
        },
        {
         "0": "320435",
         "1": "UnDivided",
         "10": "Developer",
         "11": "2013",
         "2": "2000000.0",
         "3": "0.010607",
         "4": "2013-02-01",
         "5": "2600000.0",
         "6": "75",
         "7": "0.0",
         "8": "0",
         "9": "2025-05-11 19:47:34.629792"
        },
        {
         "0": "355629",
         "1": "La Navaja De Don Juan",
         "10": "Developer",
         "11": "2013",
         "2": "2000000.0",
         "3": "0.021678",
         "4": "2013-10-27",
         "5": "2600000.0",
         "6": "98",
         "7": "0.0",
         "8": "0",
         "9": "2025-05-11 19:47:34.629792"
        },
        {
         "0": "752",
         "1": "V for Vendetta",
         "10": "Developer",
         "11": "2006",
         "2": "5.4E7",
         "3": "84.630969",
         "4": "2006-03-15",
         "5": "1.32511035E8",
         "6": "132",
         "7": "7.7",
         "8": "4442",
         "9": "2025-05-11 19:47:34.629792"
        },
        {
         "0": "773",
         "1": "Little Miss Sunshine",
         "10": "Developer",
         "11": "2006",
         "2": "8000000.0",
         "3": "14.793177",
         "4": "2006-07-26",
         "5": "1.00523181E8",
         "6": "102",
         "7": "7.5",
         "8": "1686",
         "9": "2025-05-11 19:47:34.629792"
        },
        {
         "0": "58",
         "1": "Pirates of the Caribbean: Dead Man's Chest",
         "10": "Developer",
         "11": "2006",
         "2": "2.0E8",
         "3": "145.847379",
         "4": "2006-06-20",
         "5": "1.065659812E9",
         "6": "151",
         "7": "7.0",
         "8": "5246",
         "9": "2025-05-11 19:47:34.629792"
        },
        {
         "0": "834",
         "1": "Underworld: Evolution",
         "10": "Developer",
         "11": "2006",
         "2": "5.0E7",
         "3": "49.020045",
         "4": "2006-01-12",
         "5": "1.11340801E8",
         "6": "106",
         "7": "6.4",
         "8": "1528",
         "9": "2025-05-11 19:47:34.629792"
        },
        {
         "0": "920",
         "1": "Cars",
         "10": "Developer",
         "11": "2006",
         "2": "1.2E8",
         "3": "82.643036",
         "4": "2006-06-08",
         "5": "4.61983149E8",
         "6": "117",
         "7": "6.6",
         "8": "3877",
         "9": "2025-05-11 19:47:34.629792"
        },
        {
         "0": "950",
         "1": "Ice Age: The Meltdown",
         "10": "Developer",
         "11": "2006",
         "2": "8.0E7",
         "3": "85.115058",
         "4": "2006-03-23",
         "5": "6.6094078E8",
         "6": "91",
         "7": "6.5",
         "8": "2951",
         "9": "2025-05-11 19:47:34.629792"
        },
        {
         "0": "956",
         "1": "Mission: Impossible III",
         "10": "Developer",
         "11": "2006",
         "2": "1.5E8",
         "3": "63.079003",
         "4": "2006-05-03",
         "5": "3.97850012E8",
         "6": "126",
         "7": "6.5",
         "8": "2028",
         "9": "2025-05-11 19:47:34.629792"
        },
        {
         "0": "1116",
         "1": "The Wind That Shakes the Barley",
         "10": "Developer",
         "11": "2006",
         "2": "6500000.0",
         "3": "6.787967",
         "4": "2006-05-18",
         "5": "2.2889018E7",
         "6": "124",
         "7": "7.1",
         "8": "154",
         "9": "2025-05-11 19:47:34.629792"
        },
        {
         "0": "1123",
         "1": "Catch a Fire",
         "10": "Developer",
         "11": "2006",
         "2": "2000000.0",
         "3": "4.052219",
         "4": "2006-10-27",
         "5": "2600000.0",
         "6": "101",
         "7": "6.4",
         "8": "25",
         "9": "2025-05-11 19:47:34.629792"
        },
        {
         "0": "1124",
         "1": "The Prestige",
         "10": "Developer",
         "11": "2006",
         "2": "4.0E7",
         "3": "74.440708",
         "4": "2006-10-19",
         "5": "1.09676311E8",
         "6": "130",
         "7": "8.0",
         "8": "4391",
         "9": "2025-05-11 19:47:34.629792"
        },
        {
         "0": "1125",
         "1": "Dreamgirls",
         "10": "Developer",
         "11": "2006",
         "2": "7.0E7",
         "3": "14.486311",
         "4": "2006-12-25",
         "5": "1.5493768E8",
         "6": "134",
         "7": "6.6",
         "8": "284",
         "9": "2025-05-11 19:47:34.629792"
        },
        {
         "0": "1164",
         "1": "Babel",
         "10": "Developer",
         "11": "2006",
         "2": "2.5E7",
         "3": "25.785925",
         "4": "2006-09-08",
         "5": "1.35330182E8",
         "6": "143",
         "7": "6.9",
         "8": "1055",
         "9": "2025-05-11 19:47:34.629792"
        },
        {
         "0": "1165",
         "1": "The Queen",
         "10": "Developer",
         "11": "2006",
         "2": "1.5E7",
         "3": "19.113278",
         "4": "2006-09-15",
         "5": "1.23384128E8",
         "6": "103",
         "7": "6.8",
         "8": "338",
         "9": "2025-05-11 19:47:34.629792"
        },
        {
         "0": "1246",
         "1": "Rocky Balboa",
         "10": "Developer",
         "11": "2006",
         "2": "2.4E7",
         "3": "30.445257",
         "4": "2006-12-20",
         "5": "1.55721132E8",
         "6": "102",
         "7": "6.5",
         "8": "835",
         "9": "2025-05-11 19:47:34.629792"
        },
        {
         "0": "1251",
         "1": "Letters from Iwo Jima",
         "10": "Developer",
         "11": "2006",
         "2": "1.9E7",
         "3": "24.47248",
         "4": "2006-12-19",
         "5": "6.8673228E7",
         "6": "141",
         "7": "7.2",
         "8": "541",
         "9": "2025-05-11 19:47:34.629792"
        },
        {
         "0": "1259",
         "1": "Notes on a Scandal",
         "10": "Developer",
         "11": "2006",
         "2": "1.5E7",
         "3": "12.576381",
         "4": "2006-12-25",
         "5": "4.9469904E7",
         "6": "92",
         "7": "6.9",
         "8": "235",
         "9": "2025-05-11 19:47:34.629792"
        },
        {
         "0": "1262",
         "1": "Stranger Than Fiction",
         "10": "Developer",
         "11": "2006",
         "2": "3.0E7",
         "3": "32.26789",
         "4": "2006-09-09",
         "5": "5.3653224E7",
         "6": "113",
         "7": "7.1",
         "8": "721",
         "9": "2025-05-11 19:47:34.629792"
        },
        {
         "0": "1372",
         "1": "Blood Diamond",
         "10": "Developer",
         "11": "2006",
         "2": "1.0E8",
         "3": "52.792678",
         "4": "2006-12-07",
         "5": "1.70877916E8",
         "6": "143",
         "7": "7.3",
         "8": "2281",
         "9": "2025-05-11 19:47:34.629792"
        },
        {
         "0": "1378",
         "1": "Shortbus",
         "10": "Developer",
         "11": "2006",
         "2": "2000000.0",
         "3": "14.846001",
         "4": "2006-05-20",
         "5": "2600000.0",
         "6": "101",
         "7": "6.3",
         "8": "140",
         "9": "2025-05-11 19:47:34.629792"
        },
        {
         "0": "1381",
         "1": "The Fountain",
         "10": "Developer",
         "11": "2006",
         "2": "3.5E7",
         "3": "24.606012",
         "4": "2006-09-06",
         "5": "1.530489E7",
         "6": "96",
         "7": "6.8",
         "8": "827",
         "9": "2025-05-11 19:47:34.629792"
        },
        {
         "0": "1402",
         "1": "The Pursuit of Happyness",
         "10": "Developer",
         "11": "2006",
         "2": "5.5E7",
         "3": "80.581367",
         "4": "2006-12-14",
         "5": "3.07077295E8",
         "6": "117",
         "7": "7.7",
         "8": "2525",
         "9": "2025-05-11 19:47:34.629792"
        },
        {
         "0": "1417",
         "1": "El laberinto del fauno",
         "10": "Developer",
         "11": "2006",
         "2": "1.9E7",
         "3": "90.809408",
         "4": "2006-05-27",
         "5": "8.3258226E7",
         "6": "118",
         "7": "7.6",
         "8": "3041",
         "9": "2025-05-11 19:47:34.629792"
        },
        {
         "0": "1422",
         "1": "The Departed",
         "10": "Developer",
         "11": "2006",
         "2": "9.0E7",
         "3": "63.429157",
         "4": "2006-10-05",
         "5": "2.89847354E8",
         "6": "151",
         "7": "7.9",
         "8": "4339",
         "9": "2025-05-11 19:47:34.629792"
        },
        {
         "0": "1427",
         "1": "Perfume: The Story of a Murderer",
         "10": "Developer",
         "11": "2006",
         "2": "5.0E7",
         "3": "42.551902",
         "4": "2006-09-13",
         "5": "1.32180323E8",
         "6": "147",
         "7": "7.1",
         "8": "1165",
         "9": "2025-05-11 19:47:34.629792"
        },
        {
         "0": "1440",
         "1": "Little Children",
         "10": "Developer",
         "11": "2006",
         "2": "2.6E7",
         "3": "11.942862",
         "4": "2006-10-06",
         "5": "1.4821658E7",
         "6": "136",
         "7": "6.9",
         "8": "240",
         "9": "2025-05-11 19:47:34.629792"
        },
        {
         "0": "1452",
         "1": "Superman Returns",
         "10": "Developer",
         "11": "2006",
         "2": "2.7E8",
         "3": "57.925623",
         "4": "2006-06-28",
         "5": "3.91081192E8",
         "6": "154",
         "7": "5.4",
         "8": "1400",
         "9": "2025-05-11 19:47:34.629792"
        },
        {
         "0": "1491",
         "1": "The Illusionist",
         "10": "Developer",
         "11": "2006",
         "2": "4.0E7",
         "3": "36.960953",
         "4": "2006-08-18",
         "5": "8.6915017E7",
         "6": "110",
         "7": "7.1",
         "8": "1615",
         "9": "2025-05-11 19:47:34.629792"
        },
        {
         "0": "1523",
         "1": "The Last King of Scotland",
         "10": "Developer",
         "11": "2006",
         "2": "6000000.0",
         "3": "26.286954",
         "4": "2006-09-01",
         "5": "4.802797E7",
         "6": "121",
         "7": "7.4",
         "8": "558",
         "9": "2025-05-11 19:47:34.629792"
        },
        {
         "0": "1579",
         "1": "Apocalypto",
         "10": "Developer",
         "11": "2006",
         "2": "4.0E7",
         "3": "41.570047",
         "4": "2006-12-07",
         "5": "1.2017529E8",
         "6": "139",
         "7": "7.3",
         "8": "1221",
         "9": "2025-05-11 19:47:34.629792"
        },
        {
         "0": "1581",
         "1": "The Holiday",
         "10": "Developer",
         "11": "2006",
         "2": "8.5E7",
         "3": "44.967453",
         "4": "2006-12-08",
         "5": "1.941687E8",
         "6": "136",
         "7": "6.7",
         "8": "1225",
         "9": "2025-05-11 19:47:34.629792"
        },
        {
         "0": "1590",
         "1": "Copying Beethoven",
         "10": "Developer",
         "11": "2006",
         "2": "1.1E7",
         "3": "5.062687",
         "4": "2006-09-10",
         "5": "1.375E7",
         "6": "104",
         "7": "6.2",
         "8": "42",
         "9": "2025-05-11 19:47:34.629792"
        },
        {
         "0": "1593",
         "1": "Night at the Museum",
         "10": "Developer",
         "11": "2006",
         "2": "1.1E8",
         "3": "48.780039",
         "4": "2006-10-20",
         "5": "5.74480841E8",
         "6": "108",
         "7": "6.3",
         "8": "2862",
         "9": "2025-05-11 19:47:34.629792"
        },
        {
         "0": "1717",
         "1": "All the King's Men",
         "10": "Developer",
         "11": "2006",
         "2": "5.5E7",
         "3": "7.768223",
         "4": "2006-09-10",
         "5": "9450897.0",
         "6": "125",
         "7": "5.7",
         "8": "95",
         "9": "2025-05-11 19:47:34.629792"
        },
        {
         "0": "1781",
         "1": "An Inconvenient Truth",
         "10": "Developer",
         "11": "2006",
         "2": "1000000.0",
         "3": "14.139004",
         "4": "2006-01-24",
         "5": "4.6243E7",
         "6": "100",
         "7": "6.7",
         "8": "251",
         "9": "2025-05-11 19:47:34.629792"
        },
        {
         "0": "1819",
         "1": "You, Me and Dupree",
         "10": "Developer",
         "11": "2006",
         "2": "5.4E7",
         "3": "18.600367",
         "4": "2006-07-14",
         "5": "1.30431368E8",
         "6": "108",
         "7": "5.4",
         "8": "407",
         "9": "2025-05-11 19:47:34.629792"
        },
        {
         "0": "1852",
         "1": "World Trade Center",
         "10": "Developer",
         "11": "2006",
         "2": "6.3E7",
         "3": "24.697533",
         "4": "2006-08-09",
         "5": "1.62945894E8",
         "6": "128",
         "7": "5.9",
         "8": "447",
         "9": "2025-05-11 19:47:34.629792"
        },
        {
         "0": "1887",
         "1": "Marie Antoinette",
         "10": "Developer",
         "11": "2006",
         "2": "4.0E7",
         "3": "22.364549",
         "4": "2006-05-24",
         "5": "6.047434E7",
         "6": "123",
         "7": "6.5",
         "8": "642",
         "9": "2025-05-11 19:47:34.629792"
        },
        {
         "0": "1948",
         "1": "Crank",
         "10": "Developer",
         "11": "2006",
         "2": "1.2E7",
         "3": "47.992817",
         "4": "2006-08-31",
         "5": "4.2931041E7",
         "6": "88",
         "7": "6.6",
         "8": "1151",
         "9": "2025-05-11 19:47:34.629792"
        },
        {
         "0": "1969",
         "1": "Bandidas",
         "10": "Developer",
         "11": "2006",
         "2": "3.5E7",
         "3": "20.27704",
         "4": "2006-01-18",
         "5": "1.0496317E7",
         "6": "93",
         "7": "5.8",
         "8": "307",
         "9": "2025-05-11 19:47:34.629792"
        },
        {
         "0": "1975",
         "1": "The Grudge 2",
         "10": "Developer",
         "11": "2006",
         "2": "2.0E7",
         "3": "13.906944",
         "4": "2006-10-13",
         "5": "3.9143839E7",
         "6": "102",
         "7": "5.2",
         "8": "283",
         "9": "2025-05-11 19:47:34.629792"
        },
        {
         "0": "2044",
         "1": "The Lake House",
         "10": "Developer",
         "11": "2006",
         "2": "4.0E7",
         "3": "29.88736",
         "4": "2006-06-16",
         "5": "1.14830111E8",
         "6": "99",
         "7": "6.5",
         "8": "670",
         "9": "2025-05-11 19:47:34.629792"
        },
        {
         "0": "2207",
         "1": "16 Blocks",
         "10": "Developer",
         "11": "2006",
         "2": "5.5E7",
         "3": "32.31022",
         "4": "2006-03-01",
         "5": "6.5664721E7",
         "6": "105",
         "7": "6.2",
         "8": "661",
         "9": "2025-05-11 19:47:34.629792"
        },
        {
         "0": "2266",
         "1": "Paris, je t'aime",
         "10": "Developer",
         "11": "2006",
         "2": "1.3E7",
         "3": "10.573191",
         "4": "2006-05-16",
         "5": "4857367.0",
         "6": "120",
         "7": "6.8",
         "8": "207",
         "9": "2025-05-11 19:47:34.629792"
        },
        {
         "0": "2295",
         "1": "Clerks II",
         "10": "Developer",
         "11": "2006",
         "2": "5000000.0",
         "3": "18.077963",
         "4": "2006-05-25",
         "5": "2.6888376E7",
         "6": "97",
         "7": "6.9",
         "8": "398",
         "9": "2025-05-11 19:47:34.629792"
        },
        {
         "0": "2447",
         "1": "The Nativity Story",
         "10": "Developer",
         "11": "2006",
         "2": "3.5E7",
         "3": "3.721272",
         "4": "2006-12-01",
         "5": "4.375E7",
         "6": "101",
         "7": "6.4",
         "8": "35",
         "9": "2025-05-11 19:47:34.629792"
        },
        {
         "0": "2486",
         "1": "Eragon",
         "10": "Developer",
         "11": "2006",
         "2": "1.0E8",
         "3": "30.863434",
         "4": "2006-12-14",
         "5": "2.49288105E8",
         "6": "104",
         "7": "4.9",
         "8": "967",
         "9": "2025-05-11 19:47:34.629792"
        },
        {
         "0": "3093",
         "1": "Basic Instinct 2",
         "10": "Developer",
         "11": "2006",
         "2": "7.0E7",
         "3": "13.483387",
         "4": "2006-03-29",
         "5": "3.8629478E7",
         "6": "114",
         "7": "4.6",
         "8": "180",
         "9": "2025-05-11 19:47:34.629792"
        },
        {
         "0": "3509",
         "1": "A Scanner Darkly",
         "10": "Developer",
         "11": "2006",
         "2": "8700000.0",
         "3": "26.093043",
         "4": "2006-05-25",
         "5": "7659918.0",
         "6": "100",
         "7": "6.8",
         "8": "532",
         "9": "2025-05-11 19:47:34.629792"
        },
        {
         "0": "3683",
         "1": "Flags of Our Fathers",
         "10": "Developer",
         "11": "2006",
         "2": "9.0E7",
         "3": "23.9366",
         "4": "2006-10-18",
         "5": "6.5900249E7",
         "6": "132",
         "7": "6.7",
         "8": "526",
         "9": "2025-05-11 19:47:34.629792"
        },
        {
         "0": "4257",
         "1": "Scary Movie 4",
         "10": "Developer",
         "11": "2006",
         "2": "4.5E7",
         "3": "32.549282",
         "4": "2006-04-13",
         "5": "1.7826262E8",
         "6": "83",
         "7": "5.3",
         "8": "750",
         "9": "2025-05-11 19:47:34.629792"
        },
        {
         "0": "4474",
         "1": "My Super Ex-Girlfriend",
         "10": "Developer",
         "11": "2006",
         "2": "2000000.0",
         "3": "20.252143",
         "4": "2006-06-20",
         "5": "2600000.0",
         "6": "95",
         "7": "4.8",
         "8": "442",
         "9": "2025-05-11 19:47:34.629792"
        },
        {
         "0": "4657",
         "1": "Jindabyne",
         "10": "Developer",
         "11": "2006",
         "2": "2000000.0",
         "3": "8.950864",
         "4": "2006-07-20",
         "5": "2600000.0",
         "6": "123",
         "7": "5.7",
         "8": "25",
         "9": "2025-05-11 19:47:34.629792"
        },
        {
         "0": "4723",
         "1": "Southland Tales",
         "10": "Developer",
         "11": "2006",
         "2": "1.7E7",
         "3": "9.349386",
         "4": "2006-05-15",
         "5": "374743.0",
         "6": "144",
         "7": "5.2",
         "8": "153",
         "9": "2025-05-11 19:47:34.629792"
        },
        {
         "0": "5072",
         "1": "Severance",
         "10": "Developer",
         "11": "2006",
         "2": "2000000.0",
         "3": "12.898984",
         "4": "2006-05-19",
         "5": "2600000.0",
         "6": "96",
         "7": "6.4",
         "8": "169",
         "9": "2025-05-11 19:47:34.629792"
        },
        {
         "0": "5172",
         "1": "The Astronaut Farmer",
         "10": "Developer",
         "11": "2006",
         "2": "1.3E7",
         "3": "6.764437",
         "4": "2006-10-15",
         "5": "1.1130889E7",
         "6": "104",
         "7": "6.2",
         "8": "123",
         "9": "2025-05-11 19:47:34.629792"
        },
        {
         "0": "5393",
         "1": "Happily N'Ever After",
         "10": "Developer",
         "11": "2006",
         "2": "4.7E7",
         "3": "10.410933",
         "4": "2006-09-14",
         "5": "3.8085778E7",
         "6": "75",
         "7": "4.6",
         "8": "104",
         "9": "2025-05-11 19:47:34.629792"
        },
        {
         "0": "5820",
         "1": "The Sentinel",
         "10": "Developer",
         "11": "2006",
         "2": "6.0E7",
         "3": "15.352807",
         "4": "2006-04-19",
         "5": "7.7920346E7",
         "6": "108",
         "7": "5.8",
         "8": "225",
         "9": "2025-05-11 19:47:34.629792"
        },
        {
         "0": "6877",
         "1": "Failure to Launch",
         "10": "Developer",
         "11": "2006",
         "2": "5.0E7",
         "3": "18.806031",
         "4": "2006-03-10",
         "5": "8.8715192E7",
         "6": "97",
         "7": "5.5",
         "8": "399",
         "9": "2025-05-11 19:47:34.629792"
        },
        {
         "0": "7304",
         "1": "Running Scared",
         "10": "Developer",
         "11": "2006",
         "2": "1.7E7",
         "3": "19.311572",
         "4": "2006-01-06",
         "5": "9500000.0",
         "6": "122",
         "7": "7.0",
         "8": "331",
         "9": "2025-05-11 19:47:34.629792"
        },
        {
         "0": "7484",
         "1": "Open Season",
         "10": "Developer",
         "11": "2006",
         "2": "8.5E7",
         "3": "26.61951",
         "4": "2006-09-29",
         "5": "1.97309027E8",
         "6": "83",
         "7": "6.1",
         "8": "656",
         "9": "2025-05-11 19:47:34.629792"
        },
        {
         "0": "7510",
         "1": "Running with Scissors",
         "10": "Developer",
         "11": "2006",
         "2": "1.2E7",
         "3": "4.770195",
         "4": "2006-10-27",
         "5": "6754898.0",
         "6": "116",
         "7": "5.8",
         "8": "78",
         "9": "2025-05-11 19:47:34.629792"
        },
        {
         "0": "7512",
         "1": "Idiocracy",
         "10": "Developer",
         "11": "2006",
         "2": "3.0E7",
         "3": "27.940093",
         "4": "2006-09-01",
         "5": "495303.0",
         "6": "84",
         "7": "6.3",
         "8": "664",
         "9": "2025-05-11 19:47:34.629792"
        },
        {
         "0": "7516",
         "1": "Smokin' Aces",
         "10": "Developer",
         "11": "2006",
         "2": "1.7E7",
         "3": "23.491962",
         "4": "2006-12-09",
         "5": "5.7103895E7",
         "6": "109",
         "7": "6.4",
         "8": "534",
         "9": "2025-05-11 19:47:34.629792"
        },
        {
         "0": "7518",
         "1": "Over the Hedge",
         "10": "Developer",
         "11": "2006",
         "2": "8.0E7",
         "3": "36.32705",
         "4": "2006-04-22",
         "5": "3.43397247E8",
         "6": "83",
         "7": "6.3",
         "8": "1074",
         "9": "2025-05-11 19:47:34.629792"
        },
        {
         "0": "7547",
         "1": "Come Early Morning",
         "10": "Developer",
         "11": "2006",
         "2": "6000000.0",
         "3": "3.427061",
         "4": "2006-01-10",
         "5": "7500000.0",
         "6": "97",
         "7": "5.9",
         "8": "10",
         "9": "2025-05-11 19:47:34.629792"
        },
        {
         "0": "7859",
         "1": "Half Nelson",
         "10": "Developer",
         "11": "2006",
         "2": "700000.0",
         "3": "12.378031",
         "4": "2006-08-11",
         "5": "4911725.0",
         "6": "107",
         "7": "6.5",
         "8": "240",
         "9": "2025-05-11 19:47:34.629792"
        },
        {
         "0": "7874",
         "1": "Black Snake Moan",
         "10": "Developer",
         "11": "2006",
         "2": "1.5E7",
         "3": "11.429607",
         "4": "2006-12-08",
         "5": "1.0903846E7",
         "6": "116",
         "7": "6.6",
         "8": "243",
         "9": "2025-05-11 19:47:34.629792"
        },
        {
         "0": "7913",
         "1": "Rang De Basanti",
         "10": "Developer",
         "11": "2006",
         "2": "2200000.0",
         "3": "5.206967",
         "4": "2006-01-26",
         "5": "1.1502151E7",
         "6": "157",
         "7": "7.2",
         "8": "97",
         "9": "2025-05-11 19:47:34.629792"
        },
        {
         "0": "8618",
         "1": "The History Boys",
         "10": "Developer",
         "11": "2006",
         "2": "4000000.0",
         "3": "3.771652",
         "4": "2006-10-02",
         "5": "1.3401952E7",
         "6": "109",
         "7": "6.6",
         "8": "66",
         "9": "2025-05-11 19:47:34.629792"
        },
        {
         "0": "8975",
         "1": "The Marine",
         "10": "Developer",
         "11": "2006",
         "2": "2.0E7",
         "3": "7.679336",
         "4": "2006-10-13",
         "5": "2.2165608E7",
         "6": "92",
         "7": "5.0",
         "8": "163",
         "9": "2025-05-11 19:47:34.629792"
        },
        {
         "0": "8998",
         "1": "Friends with Money",
         "10": "Developer",
         "11": "2006",
         "2": "6500000.0",
         "3": "11.885221",
         "4": "2006-09-07",
         "5": "1.3368437E7",
         "6": "88",
         "7": "5.1",
         "8": "128",
         "9": "2025-05-11 19:47:34.629792"
        },
        {
         "0": "9035",
         "1": "Slither",
         "10": "Developer",
         "11": "2006",
         "2": "1.55E7",
         "3": "17.327279",
         "4": "2006-03-31",
         "5": "1.9375E7",
         "6": "95",
         "7": "6.3",
         "8": "317",
         "9": "2025-05-11 19:47:34.629792"
        },
        {
         "0": "9036",
         "1": "Eight Below",
         "10": "Developer",
         "11": "2006",
         "2": "4.0E7",
         "3": "24.287306",
         "4": "2006-02-17",
         "5": "1.20455994E8",
         "6": "120",
         "7": "6.7",
         "8": "542",
         "9": "2025-05-11 19:47:34.629792"
        },
        {
         "0": "9053",
         "1": "DOA: Dead or Alive",
         "10": "Developer",
         "11": "2006",
         "2": "2.1E7",
         "3": "12.790408",
         "4": "2006-09-07",
         "5": "480314.0",
         "6": "87",
         "7": "5.0",
         "8": "205",
         "9": "2025-05-11 19:47:34.629792"
        },
        {
         "0": "9072",
         "1": "Little Man",
         "10": "Developer",
         "11": "2006",
         "2": "6.4E7",
         "3": "12.421504",
         "4": "2006-08-31",
         "5": "1.01595121E8",
         "6": "98",
         "7": "5.3",
         "8": "261",
         "9": "2025-05-11 19:47:34.629792"
        },
        {
         "0": "9075",
         "1": "Zwartboek",
         "10": "Developer",
         "11": "2006",
         "2": "2.1E7",
         "3": "13.906611",
         "4": "2006-09-01",
         "5": "2.6193068E7",
         "6": "145",
         "7": "7.2",
         "8": "277",
         "9": "2025-05-11 19:47:34.629792"
        },
        {
         "0": "9286",
         "1": "Final Destination 3",
         "10": "Developer",
         "11": "2006",
         "2": "2.5E7",
         "3": "31.64341",
         "4": "2006-02-10",
         "5": "1.17719158E8",
         "6": "93",
         "7": "5.8",
         "8": "974",
         "9": "2025-05-11 19:47:34.629792"
        },
        {
         "0": "9297",
         "1": "Monster House",
         "10": "Developer",
         "11": "2006",
         "2": "7.5E7",
         "3": "36.368839",
         "4": "2006-07-21",
         "5": "1.40175006E8",
         "6": "91",
         "7": "6.3",
         "8": "874",
         "9": "2025-05-11 19:47:34.629792"
        },
        {
         "0": "9339",
         "1": "Click",
         "10": "Developer",
         "11": "2006",
         "2": "8.25E7",
         "3": "41.176631",
         "4": "2006-06-22",
         "5": "2.37681299E8",
         "6": "107",
         "7": "6.0",
         "8": "2104",
         "9": "2025-05-11 19:47:34.629792"
        },
        {
         "0": "9389",
         "1": "Renaissance",
         "10": "Developer",
         "11": "2006",
         "2": "1.8E7",
         "3": "9.244181",
         "4": "2006-03-16",
         "5": "1831348.0",
         "6": "105",
         "7": "6.7",
         "8": "77",
         "9": "2025-05-11 19:47:34.629792"
        },
        {
         "0": "182",
         "1": "The Good German",
         "10": "Developer",
         "11": "2006",
         "2": "3.2E7",
         "3": "5.347936",
         "4": "2006-12-08",
         "5": "5914908.0",
         "6": "108",
         "7": "5.9",
         "8": "86",
         "9": "2025-05-11 19:47:34.629792"
        },
        {
         "0": "186",
         "1": "Lucky Number Slevin",
         "10": "Developer",
         "11": "2006",
         "2": "2.7E7",
         "3": "36.921445",
         "4": "2006-02-24",
         "5": "5.6308881E7",
         "6": "110",
         "7": "7.4",
         "8": "1323",
         "9": "2025-05-11 19:47:34.629792"
        },
        {
         "0": "9513",
         "1": "Garfield: A Tail of Two Kitties",
         "10": "Developer",
         "11": "2006",
         "2": "2000000.0",
         "3": "16.930969",
         "4": "2006-06-15",
         "5": "2600000.0",
         "6": "78",
         "7": "5.1",
         "8": "464",
         "9": "2025-05-11 19:47:34.629792"
        },
        {
         "0": "9526",
         "1": "A Prairie Home Companion",
         "10": "Developer",
         "11": "2006",
         "2": "1.0E7",
         "3": "5.025446",
         "4": "2006-06-09",
         "5": "1.25E7",
         "6": "105",
         "7": "6.4",
         "8": "81",
         "9": "2025-05-11 19:47:34.629792"
        },
        {
         "0": "9615",
         "1": "The Fast and the Furious: Tokyo Drift",
         "10": "Developer",
         "11": "2006",
         "2": "8.5E7",
         "3": "8.282876",
         "4": "2006-06-03",
         "5": "1.58468292E8",
         "6": "104",
         "7": "6.1",
         "8": "1705",
         "9": "2025-05-11 19:47:34.629792"
        },
        {
         "0": "9655",
         "1": "She's the Man",
         "10": "Developer",
         "11": "2006",
         "2": "2.0E7",
         "3": "10.81439",
         "4": "2006-03-17",
         "5": "3.3889159E7",
         "6": "105",
         "7": "6.4",
         "8": "671",
         "9": "2025-05-11 19:47:34.629792"
        },
        {
         "0": "9656",
         "1": "Black Christmas",
         "10": "Developer",
         "11": "2006",
         "2": "9000000.0",
         "3": "4.134327",
         "4": "2006-12-25",
         "5": "2.1510851E7",
         "6": "84",
         "7": "4.8",
         "8": "119",
         "9": "2025-05-11 19:47:34.629792"
        },
        {
         "0": "9664",
         "1": "Flyboys",
         "10": "Developer",
         "11": "2006",
         "2": "6.0E7",
         "3": "13.155999",
         "4": "2006-09-22",
         "5": "1.78E7",
         "6": "140",
         "7": "6.3",
         "8": "271",
         "9": "2025-05-11 19:47:34.629792"
        },
        {
         "0": "9672",
         "1": "Infamous",
         "10": "Developer",
         "11": "2006",
         "2": "1.3E7",
         "3": "3.680896",
         "4": "2006-11-16",
         "5": "1151330.0",
         "6": "110",
         "7": "6.4",
         "8": "60",
         "9": "2025-05-11 19:47:34.629792"
        },
        {
         "0": "9676",
         "1": "The Black Dahlia",
         "10": "Developer",
         "11": "2006",
         "2": "5.0E7",
         "3": "15.213484",
         "4": "2006-09-15",
         "5": "4.9111202E7",
         "6": "121",
         "7": "5.7",
         "8": "287",
         "9": "2025-05-11 19:47:34.629792"
        },
        {
         "0": "9682",
         "1": "Pulse",
         "10": "Developer",
         "11": "2006",
         "2": "3.8E7",
         "3": "9.662715",
         "4": "2006-08-11",
         "5": "2.9907685E7",
         "6": "90",
         "7": "5.0",
         "8": "150",
         "9": "2025-05-11 19:47:34.629792"
        },
        {
         "0": "9693",
         "1": "Children of Men",
         "10": "Developer",
         "11": "2006",
         "2": "7.6E7",
         "3": "35.387874",
         "4": "2006-09-22",
         "5": "6.9959751E7",
         "6": "109",
         "7": "7.4",
         "8": "2071",
         "9": "2025-05-11 19:47:34.629792"
        },
        {
         "0": "9697",
         "1": "Lady in the Water",
         "10": "Developer",
         "11": "2006",
         "2": "7.5E7",
         "3": "20.219385",
         "4": "2006-07-21",
         "5": "4.2285169E7",
         "6": "110",
         "7": "5.3",
         "8": "409",
         "9": "2025-05-11 19:47:34.629792"
        },
        {
         "0": "9726",
         "1": "A Good Year",
         "10": "Developer",
         "11": "2006",
         "2": "3.5E7",
         "3": "16.782471",
         "4": "2006-09-09",
         "5": "4.2064105E7",
         "6": "118",
         "7": "6.5",
         "8": "357",
         "9": "2025-05-11 19:47:34.629792"
        },
        {
         "0": "9754",
         "1": "Firewall",
         "10": "Developer",
         "11": "2006",
         "2": "4.5E7",
         "3": "18.186026",
         "4": "2006-02-10",
         "5": "8.28E7",
         "6": "105",
         "7": "5.6",
         "8": "267",
         "9": "2025-05-11 19:47:34.629792"
        },
        {
         "0": "9762",
         "1": "Step Up",
         "10": "Developer",
         "11": "2006",
         "2": "1.2E7",
         "3": "45.477802",
         "4": "2006-08-11",
         "5": "1.14194847E8",
         "6": "104",
         "7": "6.7",
         "8": "1060",
         "9": "2025-05-11 19:47:34.629792"
        },
        {
         "0": "9766",
         "1": "Gridiron Gang",
         "10": "Developer",
         "11": "2006",
         "2": "3.0E7",
         "3": "9.278361",
         "4": "2006-09-15",
         "5": "4.1480851E7",
         "6": "125",
         "7": "6.5",
         "8": "206",
         "9": "2025-05-11 19:47:34.629792"
        },
        {
         "0": "9767",
         "1": "The Break-Up",
         "10": "Developer",
         "11": "2006",
         "2": "5.2E7",
         "3": "26.251217",
         "4": "2006-06-01",
         "5": "2.04999686E8",
         "6": "106",
         "7": "5.6",
         "8": "832",
         "9": "2025-05-11 19:47:34.629792"
        },
        {
         "0": "9782",
         "1": "The Night Listener",
         "10": "Developer",
         "11": "2006",
         "2": "2000000.0",
         "3": "7.173059",
         "4": "2006-02-12",
         "5": "2600000.0",
         "6": "91",
         "7": "5.5",
         "8": "57",
         "9": "2025-05-11 19:47:34.629792"
        },
        {
         "0": "9792",
         "1": "The Hills Have Eyes",
         "10": "Developer",
         "11": "2006",
         "2": "1.5E7",
         "3": "35.107857",
         "4": "2006-03-10",
         "5": "6.9623713E7",
         "6": "107",
         "7": "6.1",
         "8": "705",
         "9": "2025-05-11 19:47:34.629792"
        },
        {
         "0": "9794",
         "1": "Employee of the Month",
         "10": "Developer",
         "11": "2006",
         "2": "1.2E7",
         "3": "9.559737",
         "4": "2006-10-06",
         "5": "3.8368909E7",
         "6": "103",
         "7": "5.3",
         "8": "153",
         "9": "2025-05-11 19:47:34.629792"
        },
        {
         "0": "9809",
         "1": "Let's Go to Prison",
         "10": "Developer",
         "11": "2006",
         "2": "4000000.0",
         "3": "4.59841",
         "4": "2006-11-17",
         "5": "4630045.0",
         "6": "84",
         "7": "5.5",
         "8": "69",
         "9": "2025-05-11 19:47:34.629792"
        },
        {
         "0": "9829",
         "1": "United 93",
         "10": "Developer",
         "11": "2006",
         "2": "1.5E7",
         "3": "17.50138",
         "4": "2006-04-28",
         "5": "7.6286096E7",
         "6": "111",
         "7": "6.9",
         "8": "367",
         "9": "2025-05-11 19:47:34.629792"
        },
        {
         "0": "9836",
         "1": "Happy Feet",
         "10": "Developer",
         "11": "2006",
         "2": "1.0E8",
         "3": "37.272385",
         "4": "2006-11-16",
         "5": "3.84335608E8",
         "6": "108",
         "7": "5.9",
         "8": "1410",
         "9": "2025-05-11 19:47:34.629792"
        },
        {
         "0": "9842",
         "1": "School for Scoundrels",
         "10": "Developer",
         "11": "2006",
         "2": "2.0E7",
         "3": "8.244324",
         "4": "2006-09-29",
         "5": "1.7807569E7",
         "6": "100",
         "7": "5.6",
         "8": "111",
         "9": "2025-05-11 19:47:34.629792"
        },
        {
         "0": "9895",
         "1": "Man of the Year",
         "10": "Developer",
         "11": "2006",
         "2": "2.0E7",
         "3": "11.203335",
         "4": "2006-10-09",
         "5": "4.1237648E7",
         "6": "115",
         "7": "5.8",
         "8": "129",
         "9": "2025-05-11 19:47:34.629792"
        },
        {
         "0": "9900",
         "1": "Grandma's Boy",
         "10": "Developer",
         "11": "2006",
         "2": "2000000.0",
         "3": "9.974681",
         "4": "2006-01-06",
         "5": "2600000.0",
         "6": "94",
         "7": "6.6",
         "8": "220",
         "9": "2025-05-11 19:47:34.629792"
        },
        {
         "0": "9903",
         "1": "The Hoax",
         "10": "Developer",
         "11": "2006",
         "2": "2.5E7",
         "3": "5.073536",
         "4": "2006-10-14",
         "5": "1.1772461E7",
         "6": "116",
         "7": "6.4",
         "8": "60",
         "9": "2025-05-11 19:47:34.629792"
        },
        {
         "0": "214",
         "1": "Saw III",
         "10": "Developer",
         "11": "2006",
         "2": "1.0E7",
         "3": "33.124871",
         "4": "2006-10-27",
         "5": "1.63876815E8",
         "6": "108",
         "7": "6.1",
         "8": "1071",
         "9": "2025-05-11 19:47:34.629792"
        },
        {
         "0": "9907",
         "1": "Barnyard",
         "10": "Developer",
         "11": "2006",
         "2": "5.1E7",
         "3": "10.430832",
         "4": "2006-08-04",
         "5": "7.2779E7",
         "6": "90",
         "7": "5.3",
         "8": "225",
         "9": "2025-05-11 19:47:34.629792"
        },
        {
         "0": "9918",
         "1": "Glory Road",
         "10": "Developer",
         "11": "2006",
         "2": "2000000.0",
         "3": "8.305085",
         "4": "2006-01-13",
         "5": "2600000.0",
         "6": "118",
         "7": "7.2",
         "8": "144",
         "9": "2025-05-11 19:47:34.629792"
        },
        {
         "0": "9950",
         "1": "Find Me Guilty",
         "10": "Developer",
         "11": "2006",
         "2": "1.3E7",
         "3": "12.321302",
         "4": "2006-03-16",
         "5": "2636637.0",
         "6": "125",
         "7": "6.5",
         "8": "138",
         "9": "2025-05-11 19:47:34.629792"
        },
        {
         "0": "9952",
         "1": "Rescue Dawn",
         "10": "Developer",
         "11": "2006",
         "2": "1.0E7",
         "3": "17.078656",
         "4": "2006-09-09",
         "5": "7177143.0",
         "6": "126",
         "7": "6.9",
         "8": "336",
         "9": "2025-05-11 19:47:34.629792"
        },
        {
         "0": "9954",
         "1": "The Covenant",
         "10": "Developer",
         "11": "2006",
         "2": "2.0E7",
         "3": "15.804814",
         "4": "2006-09-08",
         "5": "3.7597471E7",
         "6": "97",
         "7": "5.2",
         "8": "288",
         "9": "2025-05-11 19:47:34.629792"
        }
       ],
       "schema": [
        {
         "key": "0",
         "name": "movie_id",
         "type": "int"
        },
        {
         "key": "1",
         "name": "title",
         "type": "string"
        },
        {
         "key": "2",
         "name": "budget",
         "type": "double"
        },
        {
         "key": "3",
         "name": "popularity",
         "type": "double"
        },
        {
         "key": "4",
         "name": "release_date",
         "type": "date"
        },
        {
         "key": "5",
         "name": "revenue",
         "type": "double"
        },
        {
         "key": "6",
         "name": "duration_time",
         "type": "int"
        },
        {
         "key": "7",
         "name": "vote_average",
         "type": "double"
        },
        {
         "key": "8",
         "name": "vote_count",
         "type": "int"
        },
        {
         "key": "9",
         "name": "ingestion_time",
         "type": "timestamp"
        },
        {
         "key": "10",
         "name": "enviroment",
         "type": "string"
        },
        {
         "key": "11",
         "name": "year_release_date",
         "type": "int"
        }
       ],
       "truncated": false
      },
      "wranglerEntryContext": {
       "candidateVariableNames": [
        "df_movies"
       ],
       "dataframeType": "pyspark"
      }
     },
     "type": "Synapse.DataFrame"
    },
    "e8f51e13-b379-47e7-9129-4eff55aa138b": {
     "persist_state": {
      "view": {
       "chartOptions": {
        "aggregationType": "sum",
        "binsNumber": 10,
        "categoryFieldKeys": [],
        "chartType": "bar",
        "isStacked": false,
        "seriesFieldKeys": [],
        "wordFrequency": "-1"
       },
       "tableOptions": {},
       "type": "details",
       "viewOptionsGroup": [
        {
         "tabItems": [
          {
           "key": "0",
           "name": "Table",
           "options": {},
           "type": "table"
          }
         ]
        }
       ]
      }
     },
     "sync_state": {
      "isSummary": false,
      "language": "scala",
      "table": {
       "rows": [
        {
         "0": "Intolerance",
         "1": "385907.0",
         "2": "1916",
         "3": "1"
        },
        {
         "0": "The Big Parade",
         "1": "245000.0",
         "2": "1925",
         "3": "1"
        },
        {
         "0": "Metropolis",
         "1": "9.262E7",
         "2": "1927",
         "3": "1"
        },
        {
         "0": "Die Büchse der Pandora",
         "1": "2000000.0",
         "2": "1929",
         "3": "1"
        },
        {
         "0": "The Broadway Melody",
         "1": "379000.0",
         "2": "1929",
         "3": "2"
        },
        {
         "0": "Hell's Angels",
         "1": "3950000.0",
         "2": "1930",
         "3": "1"
        },
        {
         "0": "A Farewell to Arms",
         "1": "2000000.0",
         "2": "1932",
         "3": "1"
        },
        {
         "0": "42nd Street",
         "1": "439000.0",
         "2": "1933",
         "3": "1"
        },
        {
         "0": "It Happened One Night",
         "1": "325000.0",
         "2": "1934",
         "3": "1"
        },
        {
         "0": "Top Hat",
         "1": "609000.0",
         "2": "1935",
         "3": "1"
        },
        {
         "0": "Modern Times",
         "1": "2000000.0",
         "2": "1936",
         "3": "1"
        },
        {
         "0": "The Charge of the Light Brigade",
         "1": "1200000.0",
         "2": "1936",
         "3": "2"
        },
        {
         "0": "The Prisoner of Zenda",
         "1": "2000000.0",
         "2": "1937",
         "3": "1"
        },
        {
         "0": "Alexander's Ragtime Band",
         "1": "2000000.0",
         "2": "1938",
         "3": "1"
        },
        {
         "0": "You Can't Take It With You",
         "1": "1644736.0",
         "2": "1938",
         "3": "2"
        },
        {
         "0": "Gone with the Wind",
         "1": "4000000.0",
         "2": "1939",
         "3": "1"
        },
        {
         "0": "The Wizard of Oz",
         "1": "2777000.0",
         "2": "1939",
         "3": "2"
        },
        {
         "0": "Mr. Smith Goes to Washington",
         "1": "1500000.0",
         "2": "1939",
         "3": "3"
        },
        {
         "0": "Fantasia",
         "1": "2280000.0",
         "2": "1940",
         "3": "1"
        },
        {
         "0": "Boom Town",
         "1": "2000000.0",
         "2": "1940",
         "3": "2"
        },
        {
         "0": "The Blue Bird",
         "1": "2000000.0",
         "2": "1940",
         "3": "2"
        },
        {
         "0": "Rebecca",
         "1": "1288000.0",
         "2": "1940",
         "3": "4"
        },
        {
         "0": "How Green Was My Valley",
         "1": "1250000.0",
         "2": "1941",
         "3": "1"
        },
        {
         "0": "Casablanca",
         "1": "878000.0",
         "2": "1942",
         "3": "1"
        },
        {
         "0": "Bambi",
         "1": "858000.0",
         "2": "1942",
         "3": "2"
        },
        {
         "0": "A Guy Named Joe",
         "1": "2627000.0",
         "2": "1944",
         "3": "1"
        },
        {
         "0": "Bathing Beauty",
         "1": "2361000.0",
         "2": "1944",
         "3": "2"
        },
        {
         "0": "The Valley of Decision",
         "1": "2160000.0",
         "2": "1945",
         "3": "1"
        },
        {
         "0": "State Fair",
         "1": "2000000.0",
         "2": "1945",
         "3": "2"
        },
        {
         "0": "Spellbound",
         "1": "1500000.0",
         "2": "1945",
         "3": "3"
        },
        {
         "0": "The Lost Weekend",
         "1": "1250000.0",
         "2": "1945",
         "3": "4"
        },
        {
         "0": "Duel in the Sun",
         "1": "6000000.0",
         "2": "1946",
         "3": "1"
        },
        {
         "0": "It's a Wonderful Life",
         "1": "3180000.0",
         "2": "1946",
         "3": "2"
        },
        {
         "0": "The Best Years of Our Lives",
         "1": "2100000.0",
         "2": "1946",
         "3": "3"
        },
        {
         "0": "The Lady from Shanghai",
         "1": "2300000.0",
         "2": "1947",
         "3": "1"
        },
        {
         "0": "Gentleman's Agreement",
         "1": "2000000.0",
         "2": "1947",
         "3": "2"
        },
        {
         "0": "Tycoon",
         "1": "2000000.0",
         "2": "1947",
         "3": "2"
        },
        {
         "0": "The Pirate",
         "1": "3700000.0",
         "2": "1948",
         "3": "1"
        },
        {
         "0": "Red River",
         "1": "3000000.0",
         "2": "1948",
         "3": "2"
        },
        {
         "0": "Open Secret",
         "1": "2000000.0",
         "2": "1948",
         "3": "3"
        },
        {
         "0": "She Wore a Yellow Ribbon",
         "1": "1600000.0",
         "2": "1949",
         "3": "1"
        },
        {
         "0": "Sands of Iwo Jima",
         "1": "1000000.0",
         "2": "1949",
         "3": "2"
        },
        {
         "0": "Annie Get Your Gun",
         "1": "3768785.0",
         "2": "1950",
         "3": "1"
        },
        {
         "0": "Quo Vadis",
         "1": "8250000.0",
         "2": "1951",
         "3": "1"
        },
        {
         "0": "Show Boat",
         "1": "2300000.0",
         "2": "1951",
         "3": "2"
        },
        {
         "0": "A Streetcar Named Desire",
         "1": "1800000.0",
         "2": "1951",
         "3": "3"
        },
        {
         "0": "The Greatest Show on Earth",
         "1": "4000000.0",
         "2": "1952",
         "3": "1"
        },
        {
         "0": "Singin' in the Rain",
         "1": "2540800.0",
         "2": "1952",
         "3": "2"
        },
        {
         "0": "Deadline - U.S.A.",
         "1": "2000000.0",
         "2": "1952",
         "3": "3"
        },
        {
         "0": "High Noon",
         "1": "730000.0",
         "2": "1952",
         "3": "4"
        },
        {
         "0": "The Robe",
         "1": "4100000.0",
         "2": "1953",
         "3": "1"
        },
        {
         "0": "From Here to Eternity",
         "1": "1650000.0",
         "2": "1953",
         "3": "2"
        },
        {
         "0": "Niagara",
         "1": "1250000.0",
         "2": "1953",
         "3": "3"
        },
        {
         "0": "The Beast from 20,000 Fathoms",
         "1": "210000.0",
         "2": "1953",
         "3": "4"
        },
        {
         "0": "20,000 Leagues Under the Sea",
         "1": "5000000.0",
         "2": "1954",
         "3": "1"
        },
        {
         "0": "The Egyptian",
         "1": "5000000.0",
         "2": "1954",
         "3": "1"
        },
        {
         "0": "On the Waterfront",
         "1": "910000.0",
         "2": "1954",
         "3": "3"
        },
        {
         "0": "Ordet",
         "1": "2000000.0",
         "2": "1955",
         "3": "1"
        },
        {
         "0": "The Trouble with Harry",
         "1": "1200000.0",
         "2": "1955",
         "3": "2"
        },
        {
         "0": "Moby Dick",
         "1": "4500000.0",
         "2": "1956",
         "3": "1"
        },
        {
         "0": "Trapeze",
         "1": "4000000.0",
         "2": "1956",
         "3": "2"
        },
        {
         "0": "Love Me Tender",
         "1": "1000000.0",
         "2": "1956",
         "3": "3"
        },
        {
         "0": "The Bridge on the River Kwai",
         "1": "3000000.0",
         "2": "1957",
         "3": "1"
        },
        {
         "0": "12 Angry Men",
         "1": "350000.0",
         "2": "1957",
         "3": "2"
        },
        {
         "0": "Cat on a Hot Tin Roof",
         "1": "3000000.0",
         "2": "1958",
         "3": "1"
        },
        {
         "0": "Solomon and Sheba",
         "1": "5000000.0",
         "2": "1959",
         "3": "1"
        },
        {
         "0": "The Nun's Story",
         "1": "3500000.0",
         "2": "1959",
         "3": "2"
        },
        {
         "0": "Some Like It Hot",
         "1": "2883848.0",
         "2": "1959",
         "3": "3"
        },
        {
         "0": "The Apartment",
         "1": "3000000.0",
         "2": "1960",
         "3": "1"
        },
        {
         "0": "Elmer Gantry",
         "1": "3000000.0",
         "2": "1960",
         "3": "1"
        },
        {
         "0": "Psycho",
         "1": "806948.0",
         "2": "1960",
         "3": "3"
        },
        {
         "0": "The Misfits",
         "1": "4000000.0",
         "2": "1961",
         "3": "1"
        },
        {
         "0": "Judgment at Nuremberg",
         "1": "3000000.0",
         "2": "1961",
         "3": "2"
        },
        {
         "0": "Pocketful of Miracles",
         "1": "2900000.0",
         "2": "1961",
         "3": "3"
        },
        {
         "0": "The Hustler",
         "1": "2000000.0",
         "2": "1961",
         "3": "4"
        },
        {
         "0": "Lawrence of Arabia",
         "1": "1.5E7",
         "2": "1962",
         "3": "1"
        },
        {
         "0": "The Man Who Shot Liberty Valance",
         "1": "3200000.0",
         "2": "1962",
         "3": "2"
        },
        {
         "0": "Lolita",
         "1": "2000000.0",
         "2": "1962",
         "3": "3"
        },
        {
         "0": "To Kill a Mockingbird",
         "1": "2000000.0",
         "2": "1962",
         "3": "3"
        },
        {
         "0": "Dr. No",
         "1": "950000.0",
         "2": "1962",
         "3": "5"
        },
        {
         "0": "The Brain That Wouldn't Die",
         "1": "62000.0",
         "2": "1962",
         "3": "6"
        },
        {
         "0": "Cleopatra",
         "1": "3.1115E7",
         "2": "1963",
         "3": "1"
        },
        {
         "0": "55 Days at Peking",
         "1": "1.7E7",
         "2": "1963",
         "3": "2"
        },
        {
         "0": "It's a Mad, Mad, Mad, Mad World",
         "1": "9400000.0",
         "2": "1963",
         "3": "3"
        },
        {
         "0": "The Great Escape",
         "1": "4000000.0",
         "2": "1963",
         "3": "4"
        },
        {
         "0": "Donovan's Reef",
         "1": "2686000.0",
         "2": "1963",
         "3": "5"
        },
        {
         "0": "Hud",
         "1": "2500000.0",
         "2": "1963",
         "3": "6"
        },
        {
         "0": "From Russia with Love",
         "1": "2000000.0",
         "2": "1963",
         "3": "7"
        },
        {
         "0": "Tom Jones",
         "1": "1000000.0",
         "2": "1963",
         "3": "8"
        },
        {
         "0": "The Fall of the Roman Empire",
         "1": "1.9E7",
         "2": "1964",
         "3": "1"
        },
        {
         "0": "My Fair Lady",
         "1": "1.7E7",
         "2": "1964",
         "3": "2"
        },
        {
         "0": "Mary Poppins",
         "1": "6000000.0",
         "2": "1964",
         "3": "3"
        },
        {
         "0": "The Train",
         "1": "5800000.0",
         "2": "1964",
         "3": "4"
        },
        {
         "0": "Goldfinger",
         "1": "2500000.0",
         "2": "1964",
         "3": "5"
        },
        {
         "0": "Nothing But a Man",
         "1": "2000000.0",
         "2": "1964",
         "3": "6"
        },
        {
         "0": "A Hard Day's Night",
         "1": "560000.0",
         "2": "1964",
         "3": "7"
        },
        {
         "0": "Per un pugno di dollari",
         "1": "200000.0",
         "2": "1964",
         "3": "8"
        },
        {
         "0": "Une femme mariée: Suite de fragments d'un film tourné en 1964",
         "1": "120000.0",
         "2": "1964",
         "3": "9"
        },
        {
         "0": "The Greatest Story Ever Told",
         "1": "2.0E7",
         "2": "1965",
         "3": "1"
        },
        {
         "0": "Doctor Zhivago",
         "1": "1.1E7",
         "2": "1965",
         "3": "2"
        },
        {
         "0": "The Sound of Music",
         "1": "8200000.0",
         "2": "1965",
         "3": "3"
        },
        {
         "0": "Thunderball",
         "1": "5500000.0",
         "2": "1965",
         "3": "4"
        },
        {
         "0": "Major Dundee",
         "1": "3800000.0",
         "2": "1965",
         "3": "5"
        },
        {
         "0": "A Charlie Brown Christmas",
         "1": "2000000.0",
         "2": "1965",
         "3": "6"
        },
        {
         "0": "Pierrot le fou",
         "1": "300000.0",
         "2": "1965",
         "3": "7"
        },
        {
         "0": "A Man for All Seasons",
         "1": "3900000.0",
         "2": "1966",
         "3": "1"
        },
        {
         "0": "Harper",
         "1": "3500000.0",
         "2": "1966",
         "3": "2"
        },
        {
         "0": "Torn Curtain",
         "1": "3000000.0",
         "2": "1966",
         "3": "3"
        },
        {
         "0": "A Funny Thing Happened on the Way to the Forum",
         "1": "2000000.0",
         "2": "1966",
         "3": "4"
        },
        {
         "0": "Batman",
         "1": "1377800.0",
         "2": "1966",
         "3": "5"
        },
        {
         "0": "Il buono, il brutto, il cattivo",
         "1": "1200000.0",
         "2": "1966",
         "3": "6"
        },
        {
         "0": "You Only Live Twice",
         "1": "9500000.0",
         "2": "1967",
         "3": "1"
        },
        {
         "0": "In Cold Blood",
         "1": "3500000.0",
         "2": "1967",
         "3": "2"
        },
        {
         "0": "Point Blank",
         "1": "2500000.0",
         "2": "1967",
         "3": "3"
        },
        {
         "0": "Die Schlangengrube und das Pendel",
         "1": "2000000.0",
         "2": "1967",
         "3": "4"
        },
        {
         "0": "2001: A Space Odyssey",
         "1": "1.05E7",
         "2": "1968",
         "3": "1"
        },
        {
         "0": "Oliver!",
         "1": "1.0E7",
         "2": "1968",
         "3": "2"
        },
        {
         "0": "Barbarella",
         "1": "9000000.0",
         "2": "1968",
         "3": "3"
        },
        {
         "0": "C'era una volta il West",
         "1": "5000000.0",
         "2": "1968",
         "3": "4"
        },
        {
         "0": "Rosemary's Baby",
         "1": "3200000.0",
         "2": "1968",
         "3": "5"
        },
        {
         "0": "Yours, Mine and Ours",
         "1": "2000000.0",
         "2": "1968",
         "3": "6"
        },
        {
         "0": "Hang 'em High",
         "1": "1800000.0",
         "2": "1968",
         "3": "7"
        },
        {
         "0": "Shalako",
         "1": "1455000.0",
         "2": "1968",
         "3": "8"
        },
        {
         "0": "Charly",
         "1": "950000.0",
         "2": "1968",
         "3": "9"
        },
        {
         "0": "Paint Your Wagon",
         "1": "2.0E7",
         "2": "1969",
         "3": "1"
        },
        {
         "0": "Sweet Charity",
         "1": "8000000.0",
         "2": "1969",
         "3": "2"
        },
        {
         "0": "On Her Majesty's Secret Service",
         "1": "6500000.0",
         "2": "1969",
         "3": "3"
        },
        {
         "0": "The Wild Bunch",
         "1": "6244087.0",
         "2": "1969",
         "3": "4"
        },
        {
         "0": "Butch Cassidy and the Sundance Kid",
         "1": "6000000.0",
         "2": "1969",
         "3": "5"
        },
        {
         "0": "Topaz",
         "1": "4000000.0",
         "2": "1969",
         "3": "6"
        },
        {
         "0": "Midnight Cowboy",
         "1": "3600000.0",
         "2": "1969",
         "3": "7"
        },
        {
         "0": "La sirène du Mississipi",
         "1": "2000000.0",
         "2": "1969",
         "3": "8"
        },
        {
         "0": "Gli intoccabili",
         "1": "2000000.0",
         "2": "1969",
         "3": "8"
        },
        {
         "0": "The Stewardesses",
         "1": "100000.0",
         "2": "1969",
         "3": "10"
        },
        {
         "0": "Waterloo",
         "1": "2.5E7",
         "2": "1970",
         "3": "1"
        },
        {
         "0": "Catch-22",
         "1": "1.8E7",
         "2": "1970",
         "3": "2"
        },
        {
         "0": "The Molly Maguires",
         "1": "1.1E7",
         "2": "1970",
         "3": "3"
        },
        {
         "0": "The Ballad of Cable Hogue",
         "1": "3716946.0",
         "2": "1970",
         "3": "4"
        },
        {
         "0": "Beneath the Planet of the Apes",
         "1": "3000000.0",
         "2": "1970",
         "3": "5"
        },
        {
         "0": "Beyond the Valley of the Dolls",
         "1": "2090000.0",
         "2": "1970",
         "3": "6"
        },
        {
         "0": "Cotton Comes to Harlem",
         "1": "1200000.0",
         "2": "1970",
         "3": "7"
        },
        {
         "0": "Il conformista",
         "1": "750000.0",
         "2": "1970",
         "3": "8"
        },
        {
         "0": "Woodstock",
         "1": "600000.0",
         "2": "1970",
         "3": "9"
        },
        {
         "0": "Fiddler on the Roof",
         "1": "9000000.0",
         "2": "1971",
         "3": "1"
        },
        {
         "0": "Diamonds Are Forever",
         "1": "7200000.0",
         "2": "1971",
         "3": "2"
        },
        {
         "0": "The Andromeda Strain",
         "1": "6500000.0",
         "2": "1971",
         "3": "3"
        },
        {
         "0": "Willy Wonka & the Chocolate Factory",
         "1": "3000000.0",
         "2": "1971",
         "3": "4"
        },
        {
         "0": "Escape from the Planet of the Apes",
         "1": "2500000.0",
         "2": "1971",
         "3": "5"
        },
        {
         "0": "Bananas",
         "1": "2000000.0",
         "2": "1971",
         "3": "6"
        },
        {
         "0": "The Night Visitor",
         "1": "2000000.0",
         "2": "1971",
         "3": "6"
        },
        {
         "0": "The French Connection",
         "1": "1800000.0",
         "2": "1971",
         "3": "8"
        },
        {
         "0": "Sweet Sweetback's Baadasssss Song",
         "1": "150000.0",
         "2": "1971",
         "3": "9"
        },
        {
         "0": "Pink Narcissus",
         "1": "27000.0",
         "2": "1971",
         "3": "10"
        },
        {
         "0": "The Godfather",
         "1": "6000000.0",
         "2": "1972",
         "3": "1"
        },
        {
         "0": "Frenzy",
         "1": "3500000.0",
         "2": "1972",
         "3": "2"
        },
        {
         "0": "Viskningar och rop",
         "1": "2000000.0",
         "2": "1972",
         "3": "3"
        },
        {
         "0": "Everything You Always Wanted to Know About Sex *But Were Afraid to Ask",
         "1": "2000000.0",
         "2": "1972",
         "3": "3"
        },
        {
         "0": "1776",
         "1": "2000000.0",
         "2": "1972",
         "3": "3"
        },
        {
         "0": "Conquest of the Planet of the Apes",
         "1": "1700000.0",
         "2": "1972",
         "3": "6"
        },
        {
         "0": "Silent Running",
         "1": "1000000.0",
         "2": "1972",
         "3": "7"
        },
        {
         "0": "Pink Flamingos",
         "1": "12000.0",
         "2": "1972",
         "3": "8"
        },
        {
         "0": "The Exorcist",
         "1": "8000000.0",
         "2": "1973",
         "3": "1"
        },
        {
         "0": "Live and Let Die",
         "1": "7000000.0",
         "2": "1973",
         "3": "2"
        },
        {
         "0": "The Sting",
         "1": "5500000.0",
         "2": "1973",
         "3": "3"
        },
        {
         "0": "High Plains Drifter",
         "1": "5500000.0",
         "2": "1973",
         "3": "3"
        },
        {
         "0": "Pat Garrett & Billy the Kid",
         "1": "4638783.0",
         "2": "1973",
         "3": "5"
        },
        {
         "0": "Sleeper",
         "1": "2000000.0",
         "2": "1973",
         "3": "6"
        },
        {
         "0": "Battle for the Planet of the Apes",
         "1": "1700000.0",
         "2": "1973",
         "3": "7"
        },
        {
         "0": "American Graffiti",
         "1": "777000.0",
         "2": "1973",
         "3": "8"
        },
        {
         "0": "Mean Streets",
         "1": "500000.0",
         "2": "1973",
         "3": "9"
        },
        {
         "0": "The Godfather: Part II",
         "1": "1.3E7",
         "2": "1974",
         "3": "1"
        },
        {
         "0": "The Man with the Golden Gun",
         "1": "7000000.0",
         "2": "1974",
         "3": "2"
        },
        {
         "0": "The Front Page",
         "1": "4000000.0",
         "2": "1974",
         "3": "3"
        },
        {
         "0": "Young Frankenstein",
         "1": "2800000.0",
         "2": "1974",
         "3": "4"
        },
        {
         "0": "Blazing Saddles",
         "1": "2600000.0",
         "2": "1974",
         "3": "5"
        },
        {
         "0": "Benji",
         "1": "2000000.0",
         "2": "1974",
         "3": "6"
        },
        {
         "0": "The Conversation",
         "1": "1600000.0",
         "2": "1974",
         "3": "7"
        },
        {
         "0": "The Texas Chain Saw Massacre",
         "1": "85000.0",
         "2": "1974",
         "3": "8"
        },
        {
         "0": "Barry Lyndon",
         "1": "1.1E7",
         "2": "1975",
         "3": "1"
        },
        {
         "0": "Jaws",
         "1": "7000000.0",
         "2": "1975",
         "3": "2"
        },
        {
         "0": "The Return of the Pink Panther",
         "1": "5000000.0",
         "2": "1975",
         "3": "3"
        },
        {
         "0": "One Flew Over the Cuckoo's Nest",
         "1": "3000000.0",
         "2": "1975",
         "3": "4"
        },
        {
         "0": "Monty Python and the Holy Grail",
         "1": "400000.0",
         "2": "1975",
         "3": "5"
        },
        {
         "0": "Death Race 2000",
         "1": "300000.0",
         "2": "1975",
         "3": "6"
        },
        {
         "0": "The Bad News Bears",
         "1": "3.5E7",
         "2": "1976",
         "3": "1"
        },
        {
         "0": "Logan's Run",
         "1": "9000000.0",
         "2": "1976",
         "3": "2"
        },
        {
         "0": "Network",
         "1": "3800000.0",
         "2": "1976",
         "3": "3"
        },
        {
         "0": "The Omen",
         "1": "2800000.0",
         "2": "1976",
         "3": "4"
        },
        {
         "0": "Family Plot",
         "1": "2000000.0",
         "2": "1976",
         "3": "5"
        },
        {
         "0": "Robin and Marian",
         "1": "2000000.0",
         "2": "1976",
         "3": "5"
        },
        {
         "0": "Silent Movie",
         "1": "2000000.0",
         "2": "1976",
         "3": "5"
        },
        {
         "0": "Taxi Driver",
         "1": "1300000.0",
         "2": "1976",
         "3": "8"
        },
        {
         "0": "Rocky",
         "1": "1000000.0",
         "2": "1976",
         "3": "9"
        },
        {
         "0": "A Bridge Too Far",
         "1": "2.2E7",
         "2": "1977",
         "3": "1"
        },
        {
         "0": "Sorcerer",
         "1": "2.2E7",
         "2": "1977",
         "3": "1"
        },
        {
         "0": "Close Encounters of the Third Kind",
         "1": "2.0E7",
         "2": "1977",
         "3": "3"
        },
        {
         "0": "Damnation Alley",
         "1": "1.7E7",
         "2": "1977",
         "3": "4"
        },
        {
         "0": "The Spy Who Loved Me",
         "1": "1.4E7",
         "2": "1977",
         "3": "5"
        },
        {
         "0": "Exorcist II: The Heretic",
         "1": "1.4E7",
         "2": "1977",
         "3": "5"
        },
        {
         "0": "Star Wars",
         "1": "1.1E7",
         "2": "1977",
         "3": "7"
        },
        {
         "0": "Capricorn One",
         "1": "5000000.0",
         "2": "1977",
         "3": "8"
        },
        {
         "0": "Annie Hall",
         "1": "4000000.0",
         "2": "1977",
         "3": "9"
        },
        {
         "0": "New York, New York",
         "1": "2000000.0",
         "2": "1977",
         "3": "10"
        },
        {
         "0": "March or Die",
         "1": "2000000.0",
         "2": "1977",
         "3": "10"
        },
        {
         "0": "Julia",
         "1": "2000000.0",
         "2": "1977",
         "3": "10"
        },
        {
         "0": "The Kentucky Fried Movie",
         "1": "600000.0",
         "2": "1977",
         "3": "13"
        },
        {
         "0": "Kingdom of the Spiders",
         "1": "500000.0",
         "2": "1977",
         "3": "14"
        },
        {
         "0": "Eraserhead",
         "1": "10000.0",
         "2": "1977",
         "3": "15"
        },
        {
         "0": "Superman",
         "1": "5.5E7",
         "2": "1978",
         "3": "1"
        },
        {
         "0": "Jaws 2",
         "1": "2.0E7",
         "2": "1978",
         "3": "2"
        },
        {
         "0": "The Deer Hunter",
         "1": "1.5E7",
         "2": "1978",
         "3": "3"
        },
        {
         "0": "Grease",
         "1": "6000000.0",
         "2": "1978",
         "3": "4"
        },
        {
         "0": "Force 10 from Navarone",
         "1": "5000000.0",
         "2": "1978",
         "3": "5"
        },
        {
         "0": "Animal House",
         "1": "2700000.0",
         "2": "1978",
         "3": "6"
        },
        {
         "0": "The Boys from Brazil",
         "1": "2000000.0",
         "2": "1978",
         "3": "7"
        },
        {
         "0": "Days of Heaven",
         "1": "2000000.0",
         "2": "1978",
         "3": "7"
        },
        {
         "0": "F.I.S.T.",
         "1": "2000000.0",
         "2": "1978",
         "3": "7"
        },
        {
         "0": "Caravans",
         "1": "2000000.0",
         "2": "1978",
         "3": "7"
        },
        {
         "0": "Alien Zone",
         "1": "2000000.0",
         "2": "1978",
         "3": "7"
        },
        {
         "0": "Halloween",
         "1": "300000.0",
         "2": "1978",
         "3": "12"
        },
        {
         "0": "Star Trek: The Motion Picture",
         "1": "3.5E7",
         "2": "1979",
         "3": "1"
        },
        {
         "0": "1941",
         "1": "3.5E7",
         "2": "1979",
         "3": "1"
        },
        {
         "0": "Moonraker",
         "1": "3.4E7",
         "2": "1979",
         "3": "3"
        },
        {
         "0": "The Black Hole",
         "1": "2.0E7",
         "2": "1979",
         "3": "4"
        },
        {
         "0": "Prophecy",
         "1": "1.2E7",
         "2": "1979",
         "3": "5"
        },
        {
         "0": "Alien",
         "1": "1.1E7",
         "2": "1979",
         "3": "6"
        },
        {
         "0": "The Rose",
         "1": "9250000.0",
         "2": "1979",
         "3": "7"
        },
        {
         "0": "The First Great Train Robbery",
         "1": "6000000.0",
         "2": "1979",
         "3": "8"
        },
        {
         "0": "The Black Stallion",
         "1": "2700000.0",
         "2": "1979",
         "3": "9"
        },
        {
         "0": "The Muppet Movie",
         "1": "2000000.0",
         "2": "1979",
         "3": "10"
        },
        {
         "0": "All That Jazz",
         "1": "2000000.0",
         "2": "1979",
         "3": "10"
        },
        {
         "0": "Meteor",
         "1": "2000000.0",
         "2": "1979",
         "3": "10"
        },
        {
         "0": "Penitentiary",
         "1": "2000000.0",
         "2": "1979",
         "3": "10"
        },
        {
         "0": "Mad Max",
         "1": "400000.0",
         "2": "1979",
         "3": "14"
        },
        {
         "0": "Superman II",
         "1": "5.4E7",
         "2": "1980",
         "3": "1"
        },
        {
         "0": "Heaven's Gate",
         "1": "4.4E7",
         "2": "1980",
         "3": "2"
        },
        {
         "0": "Flash Gordon",
         "1": "3.5E7",
         "2": "1980",
         "3": "3"
        },
        {
         "0": "The Blues Brothers",
         "1": "2.7E7",
         "2": "1980",
         "3": "4"
        },
        {
         "0": "The Shining",
         "1": "1.9E7",
         "2": "1980",
         "3": "5"
        },
        {
         "0": "Raging Bull",
         "1": "1.8E7",
         "2": "1980",
         "3": "6"
        },
        {
         "0": "The Empire Strikes Back",
         "1": "1.8E7",
         "2": "1980",
         "3": "6"
        },
        {
         "0": "Coal Miner's Daughter",
         "1": "1.5E7",
         "2": "1980",
         "3": "8"
        },
        {
         "0": "The Long Riders",
         "1": "1.0E7",
         "2": "1980",
         "3": "9"
        },
        {
         "0": "Dressed to Kill",
         "1": "6500000.0",
         "2": "1980",
         "3": "10"
        },
        {
         "0": "Caddyshack",
         "1": "6000000.0",
         "2": "1980",
         "3": "11"
        },
        {
         "0": "Ordinary People",
         "1": "6000000.0",
         "2": "1980",
         "3": "11"
        },
        {
         "0": "Galaxina",
         "1": "5500000.0",
         "2": "1980",
         "3": "13"
        },
        {
         "0": "The Blue Lagoon",
         "1": "4500000.0",
         "2": "1980",
         "3": "14"
        },
        {
         "0": "Airplane!",
         "1": "3500000.0",
         "2": "1980",
         "3": "15"
        },
        {
         "0": "Private Benjamin",
         "1": "2000000.0",
         "2": "1980",
         "3": "16"
        },
        {
         "0": "Raise the Titanic",
         "1": "2000000.0",
         "2": "1980",
         "3": "16"
        },
        {
         "0": "Can't Stop the Music",
         "1": "2000000.0",
         "2": "1980",
         "3": "16"
        },
        {
         "0": "The Fog",
         "1": "1000000.0",
         "2": "1980",
         "3": "19"
        },
        {
         "0": "Inchon",
         "1": "4.6E7",
         "2": "1981",
         "3": "1"
        },
        {
         "0": "Lion of the Desert",
         "1": "3.5E7",
         "2": "1981",
         "3": "2"
        },
        {
         "0": "Reds",
         "1": "3.2E7",
         "2": "1981",
         "3": "3"
        },
        {
         "0": "For Your Eyes Only",
         "1": "2.8E7",
         "2": "1981",
         "3": "4"
        },
        {
         "0": "Under the Rainbow",
         "1": "2.0E7",
         "2": "1981",
         "3": "5"
        },
        {
         "0": "Dragonslayer",
         "1": "1.8E7",
         "2": "1981",
         "3": "6"
        },
        {
         "0": "Raiders of the Lost Ark",
         "1": "1.8E7",
         "2": "1981",
         "3": "6"
        },
        {
         "0": "Blow Out",
         "1": "1.8E7",
         "2": "1981",
         "3": "6"
        },
        {
         "0": "The Legend of the Lone Ranger",
         "1": "1.8E7",
         "2": "1981",
         "3": "6"
        },
        {
         "0": "Roar",
         "1": "1.7E7",
         "2": "1981",
         "3": "10"
        },
        {
         "0": "Das Boot",
         "1": "1.4E7",
         "2": "1981",
         "3": "11"
        },
        {
         "0": "Sphinx",
         "1": "1.4E7",
         "2": "1981",
         "3": "11"
        },
        {
         "0": "The Postman Always Rings Twice",
         "1": "1.2E7",
         "2": "1981",
         "3": "13"
        },
        {
         "0": "La Guerre du feu",
         "1": "1.2E7",
         "2": "1981",
         "3": "13"
        },
        {
         "0": "History of the World: Part I",
         "1": "1.1E7",
         "2": "1981",
         "3": "15"
        },
        {
         "0": "Stripes",
         "1": "1.0E7",
         "2": "1981",
         "3": "16"
        },
        {
         "0": "Heartbeeps",
         "1": "1.0E7",
         "2": "1981",
         "3": "16"
        },
        {
         "0": "Heavy Metal",
         "1": "9300000.0",
         "2": "1981",
         "3": "18"
        },
        {
         "0": "Escape from New York",
         "1": "6000000.0",
         "2": "1981",
         "3": "19"
        },
        {
         "0": "Chariots of Fire",
         "1": "5500000.0",
         "2": "1981",
         "3": "20"
        },
        {
         "0": "Nighthawks",
         "1": "5000000.0",
         "2": "1981",
         "3": "21"
        },
        {
         "0": "Time Bandits",
         "1": "5000000.0",
         "2": "1981",
         "3": "21"
        },
        {
         "0": "Porky's",
         "1": "4000000.0",
         "2": "1981",
         "3": "23"
        },
        {
         "0": "Mad Max 2",
         "1": "2000000.0",
         "2": "1981",
         "3": "24"
        },
        {
         "0": "Mommie Dearest",
         "1": "2000000.0",
         "2": "1981",
         "3": "24"
        },
        {
         "0": "Modern Problems",
         "1": "2000000.0",
         "2": "1981",
         "3": "24"
        },
        {
         "0": "...E tu vivrai nel terrore! L'aldilà",
         "1": "2000000.0",
         "2": "1981",
         "3": "24"
        },
        {
         "0": "The Four Seasons",
         "1": "2000000.0",
         "2": "1981",
         "3": "24"
        },
        {
         "0": "Graduation Day",
         "1": "2000000.0",
         "2": "1981",
         "3": "24"
        },
        {
         "0": "The Pursuit of D.B. Cooper",
         "1": "2000000.0",
         "2": "1981",
         "3": "24"
        },
        {
         "0": "Friday the 13th Part 2",
         "1": "1250000.0",
         "2": "1981",
         "3": "31"
        },
        {
         "0": "The Howling",
         "1": "1000000.0",
         "2": "1981",
         "3": "32"
        },
        {
         "0": "The Evil Dead",
         "1": "350000.0",
         "2": "1981",
         "3": "33"
        },
        {
         "0": "The Best Little Whorehouse in Texas",
         "1": "3.5E7",
         "2": "1982",
         "3": "1"
        },
        {
         "0": "Blade Runner",
         "1": "2.8E7",
         "2": "1982",
         "3": "2"
        },
        {
         "0": "Gandhi",
         "1": "2.2E7",
         "2": "1982",
         "3": "3"
        },
        {
         "0": "Tootsie",
         "1": "2.1E7",
         "2": "1982",
         "3": "4"
        },
        {
         "0": "Conan the Barbarian",
         "1": "2.0E7",
         "2": "1982",
         "3": "5"
        },
        {
         "0": "The Verdict",
         "1": "1.6E7",
         "2": "1982",
         "3": "6"
        },
        {
         "0": "The Thing",
         "1": "1.5E7",
         "2": "1982",
         "3": "7"
        },
        {
         "0": "First Blood",
         "1": "1.5E7",
         "2": "1982",
         "3": "7"
        },
        {
         "0": "Star Trek II: The Wrath of Khan",
         "1": "1.2E7",
         "2": "1982",
         "3": "9"
        },
        {
         "0": "Poltergeist",
         "1": "1.07E7",
         "2": "1982",
         "3": "10"
        },
        {
         "0": "E.T. the Extra-Terrestrial",
         "1": "1.05E7",
         "2": "1982",
         "3": "11"
        },
        {
         "0": "Creepshow",
         "1": "8000000.0",
         "2": "1982",
         "3": "12"
        },
        {
         "0": "Fast Times at Ridgemont High",
         "1": "4500000.0",
         "2": "1982",
         "3": "13"
        },
        {
         "0": "Class of 1984",
         "1": "4300000.0",
         "2": "1982",
         "3": "14"
        },
        {
         "0": "Friday the 13th Part III",
         "1": "4000000.0",
         "2": "1982",
         "3": "15"
        },
        {
         "0": "The Man from Snowy River",
         "1": "3500000.0",
         "2": "1982",
         "3": "16"
        },
        {
         "0": "Halloween III: Season of the Witch",
         "1": "2500000.0",
         "2": "1982",
         "3": "17"
        },
        {
         "0": "Jekyll and Hyde ... Together Again",
         "1": "2000000.0",
         "2": "1982",
         "3": "18"
        },
        {
         "0": "Cat People",
         "1": "2000000.0",
         "2": "1982",
         "3": "18"
        },
        {
         "0": "Diner",
         "1": "2000000.0",
         "2": "1982",
         "3": "18"
        },
        {
         "0": "The Beastmaster",
         "1": "2000000.0",
         "2": "1982",
         "3": "18"
        },
        {
         "0": "Megaforce",
         "1": "2000000.0",
         "2": "1982",
         "3": "18"
        },
        {
         "0": "Butterfly",
         "1": "2000000.0",
         "2": "1982",
         "3": "18"
        },
        {
         "0": "Trading Places",
         "1": "4.06E7",
         "2": "1983",
         "3": "1"
        },
        {
         "0": "Superman III",
         "1": "3.9E7",
         "2": "1983",
         "3": "2"
        },
        {
         "0": "Never Say Never Again",
         "1": "3.6E7",
         "2": "1983",
         "3": "3"
        },
        {
         "0": "Return of the Jedi",
         "1": "3.235E7",
         "2": "1983",
         "3": "4"
        },
        {
         "0": "Octopussy",
         "1": "2.75E7",
         "2": "1983",
         "3": "5"
        },
        {
         "0": "Krull",
         "1": "2.7E7",
         "2": "1983",
         "3": "6"
        },
        {
         "0": "The Right Stuff",
         "1": "2.7E7",
         "2": "1983",
         "3": "6"
        },
        {
         "0": "Scarface",
         "1": "2.5E7",
         "2": "1983",
         "3": "8"
        },
        {
         "0": "National Lampoon's Vacation",
         "1": "1.5E7",
         "2": "1983",
         "3": "9"
        },
        {
         "0": "WarGames",
         "1": "1.2E7",
         "2": "1983",
         "3": "10"
        },
        {
         "0": "Yentl",
         "1": "1.2E7",
         "2": "1983",
         "3": "10"
        },
        {
         "0": "The Outsiders",
         "1": "1.0E7",
         "2": "1983",
         "3": "12"
        },
        {
         "0": "The Dead Zone",
         "1": "1.0E7",
         "2": "1983",
         "3": "12"
        },
        {
         "0": "Losin' It",
         "1": "7000000.0",
         "2": "1983",
         "3": "14"
        },
        {
         "0": "Videodrome",
         "1": "5952000.0",
         "2": "1983",
         "3": "15"
        },
        {
         "0": "Lone Wolf McQuade",
         "1": "5000000.0",
         "2": "1983",
         "3": "16"
        },
        {
         "0": "Flashdance",
         "1": "4000000.0",
         "2": "1983",
         "3": "17"
        },
        {
         "0": "A Christmas Story",
         "1": "2000000.0",
         "2": "1983",
         "3": "18"
        },
        {
         "0": "Gabriela, Cravo e Canela",
         "1": "2000000.0",
         "2": "1983",
         "3": "18"
        },
        {
         "0": "The Wicked Lady",
         "1": "2000000.0",
         "2": "1983",
         "3": "18"
        },
        {
         "0": "The Ballad of Gregorio Cortez",
         "1": "2000000.0",
         "2": "1983",
         "3": "18"
        },
        {
         "0": "Love Letters",
         "1": "550000.0",
         "2": "1983",
         "3": "22"
        },
        {
         "0": "The Cotton Club",
         "1": "5.8E7",
         "2": "1984",
         "3": "1"
        },
        {
         "0": "Dune",
         "1": "4.0E7",
         "2": "1984",
         "3": "2"
        },
        {
         "0": "Once Upon a Time in America",
         "1": "3.0E7",
         "2": "1984",
         "3": "3"
        },
        {
         "0": "Indiana Jones and the Temple of Doom",
         "1": "2.8E7",
         "2": "1984",
         "3": "4"
        },
        {
         "0": "The Neverending Story",
         "1": "2.7E7",
         "2": "1984",
         "3": "5"
        },
        {
         "0": "The Bounty",
         "1": "2.5E7",
         "2": "1984",
         "3": "6"
        },
        {
         "0": "Sheena",
         "1": "2.5E7",
         "2": "1984",
         "3": "6"
        },
        {
         "0": "Star Trek III: The Search for Spock",
         "1": "1.8E7",
         "2": "1984",
         "3": "8"
        },
        {
         "0": "Conan the Destroyer",
         "1": "1.8E7",
         "2": "1984",
         "3": "8"
        },
        {
         "0": "Amadeus",
         "1": "1.8E7",
         "2": "1984",
         "3": "8"
        },
        {
         "0": "Beverly Hills Cop",
         "1": "1.5E7",
         "2": "1984",
         "3": "11"
        },
        {
         "0": "Firestarter",
         "1": "1.5E7",
         "2": "1984",
         "3": "11"
        },
        {
         "0": "Gremlins",
         "1": "1.1E7",
         "2": "1984",
         "3": "13"
        },
        {
         "0": "Body Double",
         "1": "1.0E7",
         "2": "1984",
         "3": "14"
        },
        {
         "0": "The Ice Pirates",
         "1": "9000000.0",
         "2": "1984",
         "3": "15"
        },
        {
         "0": "Footloose",
         "1": "8200000.0",
         "2": "1984",
         "3": "16"
        },
        {
         "0": "The Karate Kid",
         "1": "8000000.0",
         "2": "1984",
         "3": "17"
        },
        {
         "0": "Splash",
         "1": "8000000.0",
         "2": "1984",
         "3": "17"
        },
        {
         "0": "A Passage to India",
         "1": "8000000.0",
         "2": "1984",
         "3": "17"
        },
        {
         "0": "The Hotel New Hampshire",
         "1": "7500000.0",
         "2": "1984",
         "3": "20"
        },
        {
         "0": "Police Academy",
         "1": "4500000.0",
         "2": "1984",
         "3": "21"
        },
        {
         "0": "Red Dawn",
         "1": "4200000.0",
         "2": "1984",
         "3": "22"
        },
        {
         "0": "Friday the 13th: The Final Chapter",
         "1": "2600000.0",
         "2": "1984",
         "3": "23"
        },
        {
         "0": "The Toxic Avenger",
         "1": "2000000.0",
         "2": "1984",
         "3": "24"
        },
        {
         "0": "A Nightmare on Elm Street",
         "1": "1800000.0",
         "2": "1984",
         "3": "25"
        },
        {
         "0": "Repo Man",
         "1": "1500000.0",
         "2": "1984",
         "3": "26"
        },
        {
         "0": "C.H.U.D.",
         "1": "1250000.0",
         "2": "1984",
         "3": "27"
        },
        {
         "0": "Rambo: First Blood Part II",
         "1": "4.4E7",
         "2": "1985",
         "3": "1"
        },
        {
         "0": "Out of Africa",
         "1": "3.1E7",
         "2": "1985",
         "3": "2"
        },
        {
         "0": "A View to a Kill",
         "1": "3.0E7",
         "2": "1985",
         "3": "3"
        },
        {
         "0": "Silverado",
         "1": "2.6E7",
         "2": "1985",
         "3": "4"
        },
        {
         "0": "Lifeforce",
         "1": "2.5E7",
         "2": "1985",
         "3": "5"
        },
        {
         "0": "Return to Oz",
         "1": "2.5E7",
         "2": "1985",
         "3": "5"
        },
        {
         "0": "Ladyhawke",
         "1": "2.0E7",
         "2": "1985",
         "3": "7"
        },
        {
         "0": "Back to the Future",
         "1": "1.9E7",
         "2": "1985",
         "3": "8"
        },
        {
         "0": "Young Sherlock Holmes",
         "1": "1.8E7",
         "2": "1985",
         "3": "9"
        },
        {
         "0": "Red Sonja",
         "1": "1.79E7",
         "2": "1985",
         "3": "10"
        },
        {
         "0": "Brazil",
         "1": "1.5E7",
         "2": "1985",
         "3": "11"
        },
        {
         "0": "Mad Max Beyond Thunderdome",
         "1": "1.2305523E7",
         "2": "1985",
         "3": "12"
        },
        {
         "0": "Witness",
         "1": "1.2E7",
         "2": "1985",
         "3": "13"
        },
        {
         "0": "Commando",
         "1": "1.0E7",
         "2": "1985",
         "3": "14"
        },
        {
         "0": "The Last Dragon",
         "1": "1.0E7",
         "2": "1985",
         "3": "14"
        },
        {
         "0": "The Return of the Living Dead",
         "1": "4000000.0",
         "2": "1985",
         "3": "16"
        },
        {
         "0": "A Nightmare on Elm Street Part 2: Freddy's Revenge",
         "1": "3000000.0",
         "2": "1985",
         "3": "17"
        },
        {
         "0": "A Room with a View",
         "1": "3000000.0",
         "2": "1985",
         "3": "17"
        },
        {
         "0": "Krush Groove",
         "1": "3000000.0",
         "2": "1985",
         "3": "17"
        },
        {
         "0": "Friday the 13th: A New Beginning",
         "1": "2200000.0",
         "2": "1985",
         "3": "20"
        },
        {
         "0": "Pale Rider",
         "1": "2000000.0",
         "2": "1985",
         "3": "21"
        },
        {
         "0": "Subway",
         "1": "2000000.0",
         "2": "1985",
         "3": "21"
        },
        {
         "0": "Invasion U.S.A.",
         "1": "2000000.0",
         "2": "1985",
         "3": "21"
        },
        {
         "0": "Anne of Green Gables",
         "1": "2000000.0",
         "2": "1985",
         "3": "21"
        },
        {
         "0": "Def-Con 4",
         "1": "2000000.0",
         "2": "1985",
         "3": "21"
        },
        {
         "0": "My Beautiful Laundrette",
         "1": "860000.0",
         "2": "1985",
         "3": "26"
        },
        {
         "0": "Howard the Duck",
         "1": "3.7E7",
         "2": "1986",
         "3": "1"
        },
        {
         "0": "Big Trouble in Little China",
         "1": "2.5E7",
         "2": "1986",
         "3": "2"
        },
        {
         "0": "The Golden Child",
         "1": "2.5E7",
         "2": "1986",
         "3": "2"
        },
        {
         "0": "Little Shop of Horrors",
         "1": "2.5E7",
         "2": "1986",
         "3": "2"
        },
        {
         "0": "Star Trek IV: The Voyage Home",
         "1": "2.4E7",
         "2": "1986",
         "3": "5"
        },
        {
         "0": "River's Edge",
         "1": "1.9E7",
         "2": "1986",
         "3": "6"
        },
        {
         "0": "Aliens",
         "1": "1.85E7",
         "2": "1986",
         "3": "7"
        },
        {
         "0": "Peggy Sue Got Married",
         "1": "1.8E7",
         "2": "1986",
         "3": "8"
        },
        {
         "0": "Nine 1/2 Weeks",
         "1": "1.7E7",
         "2": "1986",
         "3": "9"
        },
        {
         "0": "Shanghai Surprise",
         "1": "1.7E7",
         "2": "1986",
         "3": "9"
        },
        {
         "0": "Highlander",
         "1": "1.6E7",
         "2": "1986",
         "3": "11"
        },
        {
         "0": "Top Gun",
         "1": "1.5E7",
         "2": "1986",
         "3": "12"
        },
        {
         "0": "Invaders from Mars",
         "1": "1.2E7",
         "2": "1986",
         "3": "13"
        },
        {
         "0": "Stand by Me",
         "1": "8000000.0",
         "2": "1986",
         "3": "14"
        },
        {
         "0": "Platoon",
         "1": "6000000.0",
         "2": "1986",
         "3": "15"
        },
        {
         "0": "Crocodile Dundee",
         "1": "5000000.0",
         "2": "1986",
         "3": "16"
        },
        {
         "0": "April Fool's Day",
         "1": "5000000.0",
         "2": "1986",
         "3": "16"
        },
        {
         "0": "The Texas Chainsaw Massacre 2",
         "1": "4700000.0",
         "2": "1986",
         "3": "18"
        },
        {
         "0": "Salvador",
         "1": "4500000.0",
         "2": "1986",
         "3": "19"
        },
        {
         "0": "Friday the 13th Part VI: Jason Lives",
         "1": "3000000.0",
         "2": "1986",
         "3": "20"
        },
        {
         "0": "The Wraith",
         "1": "2700000.0",
         "2": "1986",
         "3": "21"
        },
        {
         "0": "Legal Eagles",
         "1": "2000000.0",
         "2": "1986",
         "3": "22"
        },
        {
         "0": "Witchboard",
         "1": "2000000.0",
         "2": "1986",
         "3": "22"
        },
        {
         "0": "She's Gotta Have It",
         "1": "2000000.0",
         "2": "1986",
         "3": "22"
        },
        {
         "0": "Ishtar",
         "1": "5.5E7",
         "2": "1987",
         "3": "1"
        },
        {
         "0": "The Living Daylights",
         "1": "4.0E7",
         "2": "1987",
         "3": "2"
        },
        {
         "0": "The Running Man",
         "1": "2.7E7",
         "2": "1987",
         "3": "3"
        },
        {
         "0": "The Untouchables",
         "1": "2.5E7",
         "2": "1987",
         "3": "4"
        },
        {
         "0": "The Last Emperor",
         "1": "2.3E7",
         "2": "1987",
         "3": "5"
        },
        {
         "0": "Jaws: The Revenge",
         "1": "2.3E7",
         "2": "1987",
         "3": "5"
        },
        {
         "0": "Spaceballs",
         "1": "2.27E7",
         "2": "1987",
         "3": "7"
        },
        {
         "0": "Beverly Hills Cop II",
         "1": "2.0E7",
         "2": "1987",
         "3": "8"
        },
        {
         "0": "Predator",
         "1": "1.8E7",
         "2": "1987",
         "3": "9"
        },
        {
         "0": "Superman IV: The Quest for Peace",
         "1": "1.7E7",
         "2": "1987",
         "3": "10"
        },
        {
         "0": "The Princess Bride",
         "1": "1.6E7",
         "2": "1987",
         "3": "11"
        },
        {
         "0": "Radio Days",
         "1": "1.6E7",
         "2": "1987",
         "3": "11"
        },
        {
         "0": "Wall Street",
         "1": "1.5E7",
         "2": "1987",
         "3": "13"
        },
        {
         "0": "Fatal Attraction",
         "1": "1.4E7",
         "2": "1987",
         "3": "14"
        },
        {
         "0": "Good Morning, Vietnam",
         "1": "1.3E7",
         "2": "1987",
         "3": "15"
        },
        {
         "0": "The Lost Boys",
         "1": "8500000.0",
         "2": "1987",
         "3": "16"
        },
        {
         "0": "La Bamba",
         "1": "6500000.0",
         "2": "1987",
         "3": "17"
        },
        {
         "0": "A Nightmare on Elm Street 3: Dream Warriors",
         "1": "5000000.0",
         "2": "1987",
         "3": "18"
        },
        {
         "0": "Evil Dead II",
         "1": "3600000.0",
         "2": "1987",
         "3": "19"
        },
        {
         "0": "Creepshow 2",
         "1": "3500000.0",
         "2": "1987",
         "3": "20"
        },
        {
         "0": "Three Men and a Baby",
         "1": "2000000.0",
         "2": "1987",
         "3": "21"
        },
        {
         "0": "Cry Freedom",
         "1": "2000000.0",
         "2": "1987",
         "3": "21"
        },
        {
         "0": "Teen Wolf Too",
         "1": "2000000.0",
         "2": "1987",
         "3": "21"
        },
        {
         "0": "Maurice",
         "1": "2000000.0",
         "2": "1987",
         "3": "21"
        },
        {
         "0": "The Barbarians",
         "1": "2000000.0",
         "2": "1987",
         "3": "21"
        },
        {
         "0": "From a Whisper to a Scream",
         "1": "1100000.0",
         "2": "1987",
         "3": "26"
        },
        {
         "0": "Hellraiser",
         "1": "1000000.0",
         "2": "1987",
         "3": "27"
        },
        {
         "0": "Rambo III",
         "1": "6.3E7",
         "2": "1988",
         "3": "1"
        },
        {
         "0": "Midnight Run",
         "1": "3.0E7",
         "2": "1988",
         "3": "2"
        },
        {
         "0": "Die Hard",
         "1": "2.8E7",
         "2": "1988",
         "3": "3"
        },
        {
         "0": "Rain Man",
         "1": "2.5E7",
         "2": "1988",
         "3": "4"
        },
        {
         "0": "My Stepmother is an Alien",
         "1": "2.0E7",
         "2": "1988",
         "3": "5"
        },
        {
         "0": "Big",
         "1": "1.8E7",
         "2": "1988",
         "3": "6"
        },
        {
         "0": "Beetlejuice",
         "1": "1.5E7",
         "2": "1988",
         "3": "7"
        },
        {
         "0": "Twins",
         "1": "1.5E7",
         "2": "1988",
         "3": "7"
        },
        {
         "0": "Dangerous Liaisons",
         "1": "1.4E7",
         "2": "1988",
         "3": "9"
        },
        {
         "0": "Young Guns",
         "1": "1.3E7",
         "2": "1988",
         "3": "10"
        },
        {
         "0": "The Land Before Time",
         "1": "1.23E7",
         "2": "1988",
         "3": "11"
        },
        {
         "0": "Poltergeist III",
         "1": "1.05E7",
         "2": "1988",
         "3": "12"
        },
        {
         "0": "Child's Play",
         "1": "9000000.0",
         "2": "1988",
         "3": "13"
        },
        {
         "0": "Action Jackson",
         "1": "7000000.0",
         "2": "1988",
         "3": "14"
        },
        {
         "0": "A Nightmare on Elm Street 4: The Dream Master",
         "1": "7000000.0",
         "2": "1988",
         "3": "14"
        },
        {
         "0": "The Last Temptation of Christ",
         "1": "7000000.0",
         "2": "1988",
         "3": "14"
        },
        {
         "0": "Halloween 4: The Return of Michael Myers",
         "1": "5000000.0",
         "2": "1988",
         "3": "17"
        },
        {
         "0": "Talk Radio",
         "1": "4000000.0",
         "2": "1988",
         "3": "18"
        },
        {
         "0": "Phantasm II",
         "1": "3000000.0",
         "2": "1988",
         "3": "19"
        },
        {
         "0": "Friday the 13th Part VII: The New Blood",
         "1": "2800000.0",
         "2": "1988",
         "3": "20"
        },
        {
         "0": "Crocodile Dundee II",
         "1": "2000000.0",
         "2": "1988",
         "3": "21"
        },
        {
         "0": "Mystic Pizza",
         "1": "2000000.0",
         "2": "1988",
         "3": "21"
        },
        {
         "0": "Bright Lights, Big City",
         "1": "2000000.0",
         "2": "1988",
         "3": "21"
        },
        {
         "0": "School Daze",
         "1": "2000000.0",
         "2": "1988",
         "3": "21"
        },
        {
         "0": "Lady in White",
         "1": "2000000.0",
         "2": "1988",
         "3": "21"
        },
        {
         "0": "Iguana",
         "1": "2000000.0",
         "2": "1988",
         "3": "21"
        },
        {
         "0": "Prison",
         "1": "1300000.0",
         "2": "1988",
         "3": "27"
        },
        {
         "0": "The Abyss",
         "1": "7.0E7",
         "2": "1989",
         "3": "1"
        },
        {
         "0": "Tango & Cash",
         "1": "5.5E7",
         "2": "1989",
         "3": "2"
        },
        {
         "0": "Indiana Jones and the Last Crusade",
         "1": "4.8E7",
         "2": "1989",
         "3": "3"
        },
        {
         "0": "Back to the Future Part II",
         "1": "4.0E7",
         "2": "1989",
         "3": "4"
        },
        {
         "0": "Batman",
         "1": "3.5E7",
         "2": "1989",
         "3": "5"
        },
        {
         "0": "Licence to Kill",
         "1": "3.2E7",
         "2": "1989",
         "3": "6"
        },
        {
         "0": "Black Rain",
         "1": "3.0E7",
         "2": "1989",
         "3": "7"
        },
        {
         "0": "Star Trek V: The Final Frontier",
         "1": "3.0E7",
         "2": "1989",
         "3": "7"
        },
        {
         "0": "We're No Angels",
         "1": "2.0E7",
         "2": "1989",
         "3": "9"
        },
        {
         "0": "Sea of Love",
         "1": "1.9E7",
         "2": "1989",
         "3": "10"
        },
        {
         "0": "Glory",
         "1": "1.8E7",
         "2": "1989",
         "3": "11"
        },
        {
         "0": "Dead Poets Society",
         "1": "1.64E7",
         "2": "1989",
         "3": "12"
        },
        {
         "0": "When Harry Met Sally...",
         "1": "1.6E7",
         "2": "1989",
         "3": "13"
        },
        {
         "0": "New York Stories",
         "1": "1.5E7",
         "2": "1989",
         "3": "14"
        },
        {
         "0": "Road House",
         "1": "1.5E7",
         "2": "1989",
         "3": "14"
        },
        {
         "0": "Born on the Fourth of July",
         "1": "1.4E7",
         "2": "1989",
         "3": "16"
        },
        {
         "0": "Major League",
         "1": "1.1E7",
         "2": "1989",
         "3": "17"
        },
        {
         "0": "Henry V",
         "1": "9000000.0",
         "2": "1989",
         "3": "18"
        },
        {
         "0": "Driving Miss Daisy",
         "1": "7500000.0",
         "2": "1989",
         "3": "19"
        },
        {
         "0": "Do the Right Thing",
         "1": "6500000.0",
         "2": "1989",
         "3": "20"
        },
        {
         "0": "Halloween 5: The Revenge of Michael Myers",
         "1": "5000000.0",
         "2": "1989",
         "3": "21"
        },
        {
         "0": "UHF",
         "1": "5000000.0",
         "2": "1989",
         "3": "21"
        },
        {
         "0": "The Blood of Heroes",
         "1": "2000000.0",
         "2": "1989",
         "3": "23"
        },
        {
         "0": "Troop Beverly Hills",
         "1": "2000000.0",
         "2": "1989",
         "3": "23"
        },
        {
         "0": "The Toxic Avenger Part II",
         "1": "2000000.0",
         "2": "1989",
         "3": "23"
        },
        {
         "0": "Sex, Lies, and Videotape",
         "1": "1200000.0",
         "2": "1989",
         "3": "26"
        },
        {
         "0": "Roger & Me",
         "1": "160000.0",
         "2": "1989",
         "3": "27"
        },
        {
         "0": "Die Hard 2",
         "1": "7.0E7",
         "2": "1990",
         "3": "1"
        },
        {
         "0": "Total Recall",
         "1": "6.5E7",
         "2": "1990",
         "3": "2"
        },
        {
         "0": "Days of Thunder",
         "1": "6.0E7",
         "2": "1990",
         "3": "3"
        },
        {
         "0": "The Godfather: Part III",
         "1": "5.4E7",
         "2": "1990",
         "3": "4"
        },
        {
         "0": "Gremlins 2: The New Batch",
         "1": "5.0E7",
         "2": "1990",
         "3": "5"
        },
        {
         "0": "Dick Tracy",
         "1": "4.7E7",
         "2": "1990",
         "3": "6"
        },
        {
         "0": "Back to the Future Part III",
         "1": "4.0E7",
         "2": "1990",
         "3": "7"
        },
        {
         "0": "Predator 2",
         "1": "3.5E7",
         "2": "1990",
         "3": "8"
        },
        {
         "0": "Arachnophobia",
         "1": "3.1E7",
         "2": "1990",
         "3": "9"
        },
        {
         "0": "Flatliners",
         "1": "2.6E7",
         "2": "1990",
         "3": "10"
        },
        {
         "0": "GoodFellas",
         "1": "2.5E7",
         "2": "1990",
         "3": "11"
        },
        {
         "0": "Ghost",
         "1": "2.2E7",
         "2": "1990",
         "3": "12"
        },
        {
         "0": "Dances with Wolves",
         "1": "2.2E7",
         "2": "1990",
         "3": "12"
        },
        {
         "0": "Edward Scissorhands",
         "1": "2.0E7",
         "2": "1990",
         "3": "14"
        },
        {
         "0": "Home Alone",
         "1": "1.8E7",
         "2": "1990",
         "3": "15"
        },
        {
         "0": "Kindergarten Cop",
         "1": "1.5E7",
         "2": "1990",
         "3": "16"
        },
        {
         "0": "Pretty Woman",
         "1": "1.4E7",
         "2": "1990",
         "3": "17"
        },
        {
         "0": "Child's Play 2",
         "1": "1.3E7",
         "2": "1990",
         "3": "18"
        },
        {
         "0": "Tremors",
         "1": "1.1E7",
         "2": "1990",
         "3": "19"
        },
        {
         "0": "Mo' Better Blues",
         "1": "1.0E7",
         "2": "1990",
         "3": "20"
        },
        {
         "0": "Quigley Down Under",
         "1": "2000000.0",
         "2": "1990",
         "3": "21"
        },
        {
         "0": "Slacker",
         "1": "2000000.0",
         "2": "1990",
         "3": "21"
        },
        {
         "0": "Håkon Håkonsen",
         "1": "2000000.0",
         "2": "1990",
         "3": "21"
        },
        {
         "0": "Midnight Cabaret",
         "1": "2000000.0",
         "2": "1990",
         "3": "21"
        },
        {
         "0": "Metropolitan",
         "1": "225000.0",
         "2": "1990",
         "3": "25"
        },
        {
         "0": "Terminator 2: Judgment Day",
         "1": "1.0E8",
         "2": "1991",
         "3": "1"
        },
        {
         "0": "Hook",
         "1": "7.0E7",
         "2": "1991",
         "3": "2"
        },
        {
         "0": "Hudson Hawk",
         "1": "6.5E7",
         "2": "1991",
         "3": "3"
        },
        {
         "0": "Robin Hood: Prince of Thieves",
         "1": "4.8E7",
         "2": "1991",
         "3": "4"
        },
        {
         "0": "JFK",
         "1": "4.0E7",
         "2": "1991",
         "3": "5"
        },
        {
         "0": "The Doors",
         "1": "3.8E7",
         "2": "1991",
         "3": "6"
        },
        {
         "0": "Cape Fear",
         "1": "3.5E7",
         "2": "1991",
         "3": "7"
        },
        {
         "0": "Flight of the Intruder",
         "1": "3.5E7",
         "2": "1991",
         "3": "7"
        },
        {
         "0": "The Addams Family",
         "1": "3.0E7",
         "2": "1991",
         "3": "9"
        },
        {
         "0": "The Prince of Tides",
         "1": "3.0E7",
         "2": "1991",
         "3": "9"
        },
        {
         "0": "Star Trek VI: The Undiscovered Country",
         "1": "2.7E7",
         "2": "1991",
         "3": "11"
        },
        {
         "0": "Teenage Mutant Ninja Turtles II: The Secret of the Ooze",
         "1": "2.5E7",
         "2": "1991",
         "3": "12"
        },
        {
         "0": "The Fisher King",
         "1": "2.4E7",
         "2": "1991",
         "3": "13"
        },
        {
         "0": "Harley Davidson and the Marlboro Man",
         "1": "2.3E7",
         "2": "1991",
         "3": "14"
        },
        {
         "0": "The Naked Gun 2½: The Smell of Fear",
         "1": "2.3E7",
         "2": "1991",
         "3": "14"
        },
        {
         "0": "The Silence of the Lambs",
         "1": "1.9E7",
         "2": "1991",
         "3": "16"
        },
        {
         "0": "Double Impact",
         "1": "1.5E7",
         "2": "1991",
         "3": "17"
        },
        {
         "0": "White Fang",
         "1": "1.4E7",
         "2": "1991",
         "3": "18"
        },
        {
         "0": "Freddy's Dead: The Final Nightmare",
         "1": "1.1E7",
         "2": "1991",
         "3": "19"
        },
        {
         "0": "Return to the Blue Lagoon",
         "1": "1.1E7",
         "2": "1991",
         "3": "19"
        },
        {
         "0": "Showdown in Little Tokyo",
         "1": "8000000.0",
         "2": "1991",
         "3": "21"
        },
        {
         "0": "Boyz n the Hood",
         "1": "6500000.0",
         "2": "1991",
         "3": "22"
        },
        {
         "0": "Beastmaster 2: Through the Portal of Time",
         "1": "6000000.0",
         "2": "1991",
         "3": "23"
        },
        {
         "0": "Bill & Ted's Bogus Journey",
         "1": "2000000.0",
         "2": "1991",
         "3": "24"
        },
        {
         "0": "House Party 2",
         "1": "2000000.0",
         "2": "1991",
         "3": "24"
        },
        {
         "0": "Stone Cold",
         "1": "2000000.0",
         "2": "1991",
         "3": "24"
        },
        {
         "0": "Straight Out of Brooklyn",
         "1": "2000000.0",
         "2": "1991",
         "3": "24"
        },
        {
         "0": "Johnny Suede",
         "1": "500000.0",
         "2": "1991",
         "3": "28"
        },
        {
         "0": "Batman Returns",
         "1": "8.0E7",
         "2": "1992",
         "3": "1"
        },
        {
         "0": "Death Becomes Her",
         "1": "5.5E7",
         "2": "1992",
         "3": "2"
        },
        {
         "0": "Alien³",
         "1": "5.0E7",
         "2": "1992",
         "3": "3"
        },
        {
         "0": "Patriot Games",
         "1": "4.5E7",
         "2": "1992",
         "3": "4"
        },
        {
         "0": "A Few Good Men",
         "1": "4.0E7",
         "2": "1992",
         "3": "5"
        },
        {
         "0": "Memoirs of an Invisible Man",
         "1": "4.0E7",
         "2": "1992",
         "3": "5"
        },
        {
         "0": "Dracula",
         "1": "4.0E7",
         "2": "1992",
         "3": "5"
        },
        {
         "0": "The Last of the Mohicans",
         "1": "4.0E7",
         "2": "1992",
         "3": "5"
        },
        {
         "0": "Boomerang",
         "1": "4.0E7",
         "2": "1992",
         "3": "5"
        },
        {
         "0": "A League of Their Own",
         "1": "4.0E7",
         "2": "1992",
         "3": "5"
        },
        {
         "0": "Lethal Weapon 3",
         "1": "3.5E7",
         "2": "1992",
         "3": "11"
        },
        {
         "0": "Hoffa",
         "1": "3.5E7",
         "2": "1992",
         "3": "11"
        },
        {
         "0": "Malcolm X",
         "1": "3.4E7",
         "2": "1992",
         "3": "13"
        },
        {
         "0": "Aladdin",
         "1": "2.8E7",
         "2": "1992",
         "3": "14"
        },
        {
         "0": "The Bodyguard",
         "1": "2.5E7",
         "2": "1992",
         "3": "15"
        },
        {
         "0": "Wayne's World",
         "1": "2.0E7",
         "2": "1992",
         "3": "16"
        },
        {
         "0": "Home Alone 2: Lost in New York",
         "1": "1.8E7",
         "2": "1992",
         "3": "17"
        },
        {
         "0": "Unforgiven",
         "1": "1.4E7",
         "2": "1992",
         "3": "18"
        },
        {
         "0": "Glengarry Glen Ross",
         "1": "1.25E7",
         "2": "1992",
         "3": "19"
        },
        {
         "0": "Raising Cain",
         "1": "1.2E7",
         "2": "1992",
         "3": "20"
        },
        {
         "0": "Army of Darkness",
         "1": "1.1E7",
         "2": "1992",
         "3": "21"
        },
        {
         "0": "My Cousin Vinny",
         "1": "1.1E7",
         "2": "1992",
         "3": "21"
        },
        {
         "0": "The Lawnmower Man",
         "1": "1.0E7",
         "2": "1992",
         "3": "23"
        },
        {
         "0": "The Mighty Ducks",
         "1": "1.0E7",
         "2": "1992",
         "3": "23"
        },
        {
         "0": "Fortress",
         "1": "8000000.0",
         "2": "1992",
         "3": "25"
        },
        {
         "0": "Light Sleeper",
         "1": "5000000.0",
         "2": "1992",
         "3": "26"
        },
        {
         "0": "The Crying Game",
         "1": "3705538.0",
         "2": "1992",
         "3": "27"
        },
        {
         "0": "Howards End",
         "1": "2000000.0",
         "2": "1992",
         "3": "28"
        },
        {
         "0": "The Muppet Christmas Carol",
         "1": "2000000.0",
         "2": "1992",
         "3": "28"
        },
        {
         "0": "Split Second",
         "1": "2000000.0",
         "2": "1992",
         "3": "28"
        },
        {
         "0": "Reservoir Dogs",
         "1": "1200000.0",
         "2": "1992",
         "3": "31"
        },
        {
         "0": "El Mariachi",
         "1": "220000.0",
         "2": "1992",
         "3": "32"
        },
        {
         "0": "Last Action Hero",
         "1": "8.5E7",
         "2": "1993",
         "3": "1"
        },
        {
         "0": "Cliffhanger",
         "1": "7.0E7",
         "2": "1993",
         "3": "2"
        },
        {
         "0": "Jurassic Park",
         "1": "6.3E7",
         "2": "1993",
         "3": "3"
        },
        {
         "0": "Super Mario Bros.",
         "1": "4.8E7",
         "2": "1993",
         "3": "4"
        },
        {
         "0": "The Pelican Brief",
         "1": "4.5E7",
         "2": "1993",
         "3": "5"
        },
        {
         "0": "The Fugitive",
         "1": "4.4E7",
         "2": "1993",
         "3": "6"
        },
        {
         "0": "The Firm",
         "1": "4.2E7",
         "2": "1993",
         "3": "7"
        },
        {
         "0": "The Age of Innocence",
         "1": "3.4E7",
         "2": "1993",
         "3": "8"
        },
        {
         "0": "Alive",
         "1": "3.2E7",
         "2": "1993",
         "3": "9"
        },
        {
         "0": "Hocus Pocus",
         "1": "2.8E7",
         "2": "1993",
         "3": "10"
        },
        {
         "0": "The Thief and the Cobbler",
         "1": "2.8E7",
         "2": "1993",
         "3": "10"
        },
        {
         "0": "Philadelphia",
         "1": "2.6E7",
         "2": "1993",
         "3": "12"
        },
        {
         "0": "Mrs. Doubtfire",
         "1": "2.5E7",
         "2": "1993",
         "3": "13"
        },
        {
         "0": "Tombstone",
         "1": "2.5E7",
         "2": "1993",
         "3": "13"
        },
        {
         "0": "RoboCop 3",
         "1": "2.2E7",
         "2": "1993",
         "3": "15"
        },
        {
         "0": "Shadowlands",
         "1": "2.2E7",
         "2": "1993",
         "3": "15"
        },
        {
         "0": "Schindler's List",
         "1": "2.2E7",
         "2": "1993",
         "3": "15"
        },
        {
         "0": "Teenage Mutant Ninja Turtles III",
         "1": "2.1E7",
         "2": "1993",
         "3": "18"
        },
        {
         "0": "The Nutcracker",
         "1": "1.9E7",
         "2": "1993",
         "3": "19"
        },
        {
         "0": "Groundhog Day",
         "1": "1.46E7",
         "2": "1993",
         "3": "20"
        },
        {
         "0": "Cool Runnings",
         "1": "1.4E7",
         "2": "1993",
         "3": "21"
        },
        {
         "0": "Poetic Justice",
         "1": "1.4E7",
         "2": "1993",
         "3": "21"
        },
        {
         "0": "True Romance",
         "1": "1.25E7",
         "2": "1993",
         "3": "23"
        },
        {
         "0": "The Remains of the Day",
         "1": "1.15E7",
         "2": "1993",
         "3": "24"
        },
        {
         "0": "Romeo Is Bleeding",
         "1": "1.15E7",
         "2": "1993",
         "3": "24"
        },
        {
         "0": "What's Eating Gilbert Grape",
         "1": "1.1E7",
         "2": "1993",
         "3": "26"
        },
        {
         "0": "Much Ado About Nothing",
         "1": "8000000.0",
         "2": "1993",
         "3": "27"
        },
        {
         "0": "The Piano",
         "1": "7000000.0",
         "2": "1993",
         "3": "28"
        },
        {
         "0": "Dazed and Confused",
         "1": "6900000.0",
         "2": "1993",
         "3": "29"
        },
        {
         "0": "The Adventures of Huck Finn",
         "1": "6500000.0",
         "2": "1993",
         "3": "30"
        },
        {
         "0": "Only the Strong",
         "1": "6000000.0",
         "2": "1993",
         "3": "31"
        },
        {
         "0": "Menace II Society",
         "1": "3500000.0",
         "2": "1993",
         "3": "32"
        },
        {
         "0": "Jason Goes to Hell: The Final Friday",
         "1": "3000000.0",
         "2": "1993",
         "3": "33"
        },
        {
         "0": "Excessive Force",
         "1": "3000000.0",
         "2": "1993",
         "3": "33"
        },
        {
         "0": "Airborne",
         "1": "2600000.0",
         "2": "1993",
         "3": "35"
        },
        {
         "0": "National Lampoon's Loaded Weapon 1",
         "1": "2000000.0",
         "2": "1993",
         "3": "36"
        },
        {
         "0": "Nowhere to Run",
         "1": "2000000.0",
         "2": "1993",
         "3": "36"
        },
        {
         "0": "Les visiteurs",
         "1": "2000000.0",
         "2": "1993",
         "3": "36"
        },
        {
         "0": "What's Love Got to Do with It",
         "1": "2000000.0",
         "2": "1993",
         "3": "36"
        },
        {
         "0": "Warlock: The Armageddon",
         "1": "2000000.0",
         "2": "1993",
         "3": "36"
        },
        {
         "0": "Return of the Living Dead 3",
         "1": "2000000.0",
         "2": "1993",
         "3": "36"
        },
        {
         "0": "Ed and His Dead Mother",
         "1": "2000000.0",
         "2": "1993",
         "3": "36"
        },
        {
         "0": "Killing Zoe",
         "1": "1500000.0",
         "2": "1993",
         "3": "43"
        },
        {
         "0": "Ruby in Paradise",
         "1": "800000.0",
         "2": "1993",
         "3": "44"
        },
        {
         "0": "True Lies",
         "1": "1.15E8",
         "2": "1994",
         "3": "1"
        },
        {
         "0": "Wyatt Earp",
         "1": "6.3E7",
         "2": "1994",
         "3": "2"
        },
        {
         "0": "Clear and Present Danger",
         "1": "6.2E7",
         "2": "1994",
         "3": "3"
        },
        {
         "0": "Interview with the Vampire",
         "1": "6.0E7",
         "2": "1994",
         "3": "4"
        },
        {
         "0": "Disclosure",
         "1": "5.5E7",
         "2": "1994",
         "3": "5"
        },
        {
         "0": "Forrest Gump",
         "1": "5.5E7",
         "2": "1994",
         "3": "5"
        },
        {
         "0": "On Deadly Ground",
         "1": "5.0E7",
         "2": "1994",
         "3": "7"
        },
        {
         "0": "Baby's Day Out",
         "1": "5.0E7",
         "2": "1994",
         "3": "7"
        },
        {
         "0": "Beverly Hills Cop III",
         "1": "5.0E7",
         "2": "1994",
         "3": "7"
        },
        {
         "0": "The Flintstones",
         "1": "4.6E7",
         "2": "1994",
         "3": "10"
        },
        {
         "0": "The Specialist",
         "1": "4.5E7",
         "2": "1994",
         "3": "11"
        },
        {
         "0": "The Lion King",
         "1": "4.5E7",
         "2": "1994",
         "3": "11"
        },
        {
         "0": "The River Wild",
         "1": "4.5E7",
         "2": "1994",
         "3": "11"
        },
        {
         "0": "The Client",
         "1": "4.5E7",
         "2": "1994",
         "3": "11"
        },
        {
         "0": "Ri¢hie Ri¢h",
         "1": "4.0E7",
         "2": "1994",
         "3": "15"
        },
        {
         "0": "Renaissance Man",
         "1": "4.0E7",
         "2": "1994",
         "3": "15"
        },
        {
         "0": "Star Trek: Generations",
         "1": "3.8E7",
         "2": "1994",
         "3": "17"
        },
        {
         "0": "Street Fighter",
         "1": "3.5E7",
         "2": "1994",
         "3": "18"
        },
        {
         "0": "Speed",
         "1": "3.0E7",
         "2": "1994",
         "3": "19"
        },
        {
         "0": "Legends of the Fall",
         "1": "3.0E7",
         "2": "1994",
         "3": "19"
        },
        {
         "0": "The Hudsucker Proxy",
         "1": "3.0E7",
         "2": "1994",
         "3": "19"
        },
        {
         "0": "The Naked Gun 33?: The Final Insult",
         "1": "3.0E7",
         "2": "1994",
         "3": "19"
        },
        {
         "0": "Timecop",
         "1": "2.7E7",
         "2": "1994",
         "3": "23"
        },
        {
         "0": "Highlander III: The Sorcerer",
         "1": "2.6E7",
         "2": "1994",
         "3": "24"
        },
        {
         "0": "Don Juan DeMarco",
         "1": "2.5E7",
         "2": "1994",
         "3": "25"
        },
        {
         "0": "The Shawshank Redemption",
         "1": "2.5E7",
         "2": "1994",
         "3": "25"
        },
        {
         "0": "The Mask",
         "1": "2.3E7",
         "2": "1994",
         "3": "27"
        },
        {
         "0": "The Santa Clause",
         "1": "2.2E7",
         "2": "1994",
         "3": "28"
        },
        {
         "0": "Rapa Nui",
         "1": "2.0E7",
         "2": "1994",
         "3": "29"
        },
        {
         "0": "Little Women",
         "1": "1.8E7",
         "2": "1994",
         "3": "30"
        },
        {
         "0": "Ace Ventura: Pet Detective",
         "1": "1.5E7",
         "2": "1994",
         "3": "31"
        },
        {
         "0": "The Crow",
         "1": "1.5E7",
         "2": "1994",
         "3": "31"
        },
        {
         "0": "New Nightmare",
         "1": "1.4E7",
         "2": "1994",
         "3": "33"
        },
        {
         "0": "Serial Mom",
         "1": "1.3E7",
         "2": "1994",
         "3": "34"
        },
        {
         "0": "There Goes My Baby",
         "1": "1.05E7",
         "2": "1994",
         "3": "35"
        },
        {
         "0": "A Low Down Dirty Shame",
         "1": "1.0E7",
         "2": "1994",
         "3": "36"
        },
        {
         "0": "PCU",
         "1": "9000000.0",
         "2": "1994",
         "3": "37"
        },
        {
         "0": "Pulp Fiction",
         "1": "8000000.0",
         "2": "1994",
         "3": "38"
        },
        {
         "0": "Four Weddings and a Funeral",
         "1": "6000000.0",
         "2": "1994",
         "3": "39"
        },
        {
         "0": "Heavenly Creatures",
         "1": "5000000.0",
         "2": "1994",
         "3": "40"
        },
        {
         "0": "Wolf",
         "1": "2000000.0",
         "2": "1994",
         "3": "41"
        },
        {
         "0": "Bullets Over Broadway",
         "1": "2000000.0",
         "2": "1994",
         "3": "41"
        },
        {
         "0": "Police Academy: Mission to Moscow",
         "1": "2000000.0",
         "2": "1994",
         "3": "41"
        },
        {
         "0": "3 Ninjas Kick Back",
         "1": "2000000.0",
         "2": "1994",
         "3": "41"
        },
        {
         "0": "Exotica",
         "1": "2000000.0",
         "2": "1994",
         "3": "41"
        },
        {
         "0": "Crooklyn",
         "1": "2000000.0",
         "2": "1994",
         "3": "41"
        },
        {
         "0": "Men of War",
         "1": "2000000.0",
         "2": "1994",
         "3": "41"
        },
        {
         "0": "Sugar Hill",
         "1": "2000000.0",
         "2": "1994",
         "3": "41"
        },
        {
         "0": "The Inkwell",
         "1": "2000000.0",
         "2": "1994",
         "3": "41"
        },
        {
         "0": "Hoop Dreams",
         "1": "700000.0",
         "2": "1994",
         "3": "50"
        },
        {
         "0": "Clerks",
         "1": "27000.0",
         "2": "1994",
         "3": "51"
        },
        {
         "0": "Waterworld",
         "1": "1.75E8",
         "2": "1995",
         "3": "1"
        },
        {
         "0": "Batman Forever",
         "1": "1.0E8",
         "2": "1995",
         "3": "2"
        },
        {
         "0": "Cutthroat Island",
         "1": "9.8E7",
         "2": "1995",
         "3": "3"
        },
        {
         "0": "Die Hard: With a Vengeance",
         "1": "9.0E7",
         "2": "1995",
         "3": "4"
        },
        {
         "0": "Braveheart",
         "1": "7.2E7",
         "2": "1995",
         "3": "5"
        },
        {
         "0": "The American President",
         "1": "6.2E7",
         "2": "1995",
         "3": "6"
        },
        {
         "0": "Under Siege 2: Dark Territory",
         "1": "6.0E7",
         "2": "1995",
         "3": "7"
        },
        {
         "0": "Money Train",
         "1": "6.0E7",
         "2": "1995",
         "3": "7"
        },
        {
         "0": "GoldenEye",
         "1": "5.8E7",
         "2": "1995",
         "3": "9"
        },
        {
         "0": "First Knight",
         "1": "5.5E7",
         "2": "1995",
         "3": "10"
        },
        {
         "0": "Pocahontas",
         "1": "5.5E7",
         "2": "1995",
         "3": "10"
        },
        {
         "0": "Crimson Tide",
         "1": "5.3E7",
         "2": "1995",
         "3": "12"
        },
        {
         "0": "Casino",
         "1": "5.2E7",
         "2": "1995",
         "3": "13"
        },
        {
         "0": "Apollo 13",
         "1": "5.2E7",
         "2": "1995",
         "3": "13"
        },
        {
         "0": "Outbreak",
         "1": "5.0E7",
         "2": "1995",
         "3": "15"
        },
        {
         "0": "Assassins",
         "1": "5.0E7",
         "2": "1995",
         "3": "15"
        },
        {
         "0": "Congo",
         "1": "5.0E7",
         "2": "1995",
         "3": "15"
        },
        {
         "0": "The Scarlet Letter",
         "1": "5.0E7",
         "2": "1995",
         "3": "15"
        },
        {
         "0": "Jade",
         "1": "5.0E7",
         "2": "1995",
         "3": "15"
        },
        {
         "0": "Showgirls",
         "1": "4.5E7",
         "2": "1995",
         "3": "20"
        },
        {
         "0": "The Indian in the Cupboard",
         "1": "4.5E7",
         "2": "1995",
         "3": "20"
        },
        {
         "0": "Nixon",
         "1": "4.4E7",
         "2": "1995",
         "3": "22"
        },
        {
         "0": "Kiss of Death",
         "1": "4.0E7",
         "2": "1995",
         "3": "23"
        },
        {
         "0": "Species",
         "1": "3.5E7",
         "2": "1995",
         "3": "24"
        },
        {
         "0": "Le Hussard sur le toit",
         "1": "3.5E7",
         "2": "1995",
         "3": "24"
        },
        {
         "0": "The Quick and the Dead",
         "1": "3.2E7",
         "2": "1995",
         "3": "26"
        },
        {
         "0": "Toy Story",
         "1": "3.0E7",
         "2": "1995",
         "3": "27"
        },
        {
         "0": "Virtuosity",
         "1": "3.0E7",
         "2": "1995",
         "3": "27"
        },
        {
         "0": "Ace Ventura: When Nature Calls",
         "1": "3.0E7",
         "2": "1995",
         "3": "27"
        },
        {
         "0": "Babe",
         "1": "3.0E7",
         "2": "1995",
         "3": "27"
        },
        {
         "0": "Rob Roy",
         "1": "2.8E7",
         "2": "1995",
         "3": "31"
        },
        {
         "0": "Tank Girl",
         "1": "2.5E7",
         "2": "1995",
         "3": "32"
        },
        {
         "0": "The Bridges of Madison County",
         "1": "2.4E7",
         "2": "1995",
         "3": "33"
        },
        {
         "0": "The Net",
         "1": "2.2E7",
         "2": "1995",
         "3": "34"
        },
        {
         "0": "Hackers",
         "1": "2.0E7",
         "2": "1995",
         "3": "35"
        },
        {
         "0": "To Die For",
         "1": "2.0E7",
         "2": "1995",
         "3": "35"
        },
        {
         "0": "Bad Boys",
         "1": "1.9E7",
         "2": "1995",
         "3": "37"
        },
        {
         "0": "Mortal Kombat",
         "1": "1.8E7",
         "2": "1995",
         "3": "38"
        },
        {
         "0": "Sense and Sensibility",
         "1": "1.65E7",
         "2": "1995",
         "3": "39"
        },
        {
         "0": "Vampire in Brooklyn",
         "1": "1.4E7",
         "2": "1995",
         "3": "40"
        },
        {
         "0": "Jefferson in Paris",
         "1": "1.4E7",
         "2": "1995",
         "3": "40"
        },
        {
         "0": "Clueless",
         "1": "1.2E7",
         "2": "1995",
         "3": "42"
        },
        {
         "0": "Dead Man Walking",
         "1": "1.1E7",
         "2": "1995",
         "3": "43"
        },
        {
         "0": "The Perez Family",
         "1": "1.1E7",
         "2": "1995",
         "3": "43"
        },
        {
         "0": "Things to Do in Denver When You're Dead",
         "1": "8000000.0",
         "2": "1995",
         "3": "45"
        },
        {
         "0": "Desperado",
         "1": "7000000.0",
         "2": "1995",
         "3": "46"
        },
        {
         "0": "Mallrats",
         "1": "6000000.0",
         "2": "1995",
         "3": "47"
        },
        {
         "0": "Tales from the Hood",
         "1": "6000000.0",
         "2": "1995",
         "3": "47"
        },
        {
         "0": "The Usual Suspects",
         "1": "6000000.0",
         "2": "1995",
         "3": "47"
        },
        {
         "0": "Halloween: The Curse of Michael Myers",
         "1": "5000000.0",
         "2": "1995",
         "3": "50"
        },
        {
         "0": "Four Rooms",
         "1": "4000000.0",
         "2": "1995",
         "3": "51"
        },
        {
         "0": "Leaving Las Vegas",
         "1": "3600000.0",
         "2": "1995",
         "3": "52"
        },
        {
         "0": "Friday",
         "1": "3500000.0",
         "2": "1995",
         "3": "53"
        },
        {
         "0": "Before Sunrise",
         "1": "2500000.0",
         "2": "1995",
         "3": "54"
        },
        {
         "0": "Copycat",
         "1": "2000000.0",
         "2": "1995",
         "3": "55"
        },
        {
         "0": "Mr. Holland's Opus",
         "1": "2000000.0",
         "2": "1995",
         "3": "55"
        },
        {
         "0": "Tales from the Crypt: Demon Knight",
         "1": "2000000.0",
         "2": "1995",
         "3": "55"
        },
        {
         "0": "Home for the Holidays",
         "1": "2000000.0",
         "2": "1995",
         "3": "55"
        },
        {
         "0": "Welcome to the Dollhouse",
         "1": "2000000.0",
         "2": "1995",
         "3": "55"
        },
        {
         "0": "The Prophecy",
         "1": "2000000.0",
         "2": "1995",
         "3": "55"
        },
        {
         "0": "The Brothers McMullen",
         "1": "2000000.0",
         "2": "1995",
         "3": "55"
        },
        {
         "0": "The Incredibly True Adventure of Two Girls In Love",
         "1": "2000000.0",
         "2": "1995",
         "3": "55"
        },
        {
         "0": "Richard III",
         "1": "2000000.0",
         "2": "1995",
         "3": "55"
        },
        {
         "0": "Bang",
         "1": "2000000.0",
         "2": "1995",
         "3": "55"
        },
        {
         "0": "Eraser",
         "1": "1.0E8",
         "2": "1996",
         "3": "1"
        },
        {
         "0": "The Hunchback of Notre Dame",
         "1": "1.0E8",
         "2": "1996",
         "3": "1"
        },
        {
         "0": "Twister",
         "1": "9.2E7",
         "2": "1996",
         "3": "3"
        },
        {
         "0": "Mission: Impossible",
         "1": "8.0E7",
         "2": "1996",
         "3": "4"
        },
        {
         "0": "Space Jam",
         "1": "8.0E7",
         "2": "1996",
         "3": "4"
        },
        {
         "0": "Ransom",
         "1": "8.0E7",
         "2": "1996",
         "3": "4"
        },
        {
         "0": "Daylight",
         "1": "8.0E7",
         "2": "1996",
         "3": "4"
        },
        {
         "0": "The Rock",
         "1": "7.5E7",
         "2": "1996",
         "3": "8"
        },
        {
         "0": "Independence Day",
         "1": "7.5E7",
         "2": "1996",
         "3": "8"
        },
        {
         "0": "Mars Attacks!",
         "1": "7.0E7",
         "2": "1996",
         "3": "10"
        },
        {
         "0": "The Long Kiss Goodnight",
         "1": "6.5E7",
         "2": "1996",
         "3": "11"
        },
        {
         "0": "Jingle All the Way",
         "1": "6.0E7",
         "2": "1996",
         "3": "12"
        },
        {
         "0": "Up Close & Personal",
         "1": "6.0E7",
         "2": "1996",
         "3": "12"
        },
        {
         "0": "DragonHeart",
         "1": "5.7E7",
         "2": "1996",
         "3": "14"
        },
        {
         "0": "Executive Decision",
         "1": "5.5E7",
         "2": "1996",
         "3": "15"
        },
        {
         "0": "Evita",
         "1": "5.5E7",
         "2": "1996",
         "3": "15"
        },
        {
         "0": "The Fan",
         "1": "5.5E7",
         "2": "1996",
         "3": "15"
        },
        {
         "0": "The Nutty Professor",
         "1": "5.4E7",
         "2": "1996",
         "3": "18"
        },
        {
         "0": "Broken Arrow",
         "1": "5.0E7",
         "2": "1996",
         "3": "19"
        },
        {
         "0": "Jerry Maguire",
         "1": "5.0E7",
         "2": "1996",
         "3": "19"
        },
        {
         "0": "Striptease",
         "1": "5.0E7",
         "2": "1996",
         "3": "19"
        },
        {
         "0": "Escape from L.A.",
         "1": "5.0E7",
         "2": "1996",
         "3": "19"
        },
        {
         "0": "The Ghost and the Darkness",
         "1": "5.0E7",
         "2": "1996",
         "3": "19"
        },
        {
         "0": "Chain Reaction",
         "1": "5.0E7",
         "2": "1996",
         "3": "19"
        },
        {
         "0": "Mary Reilly",
         "1": "4.7E7",
         "2": "1996",
         "3": "25"
        },
        {
         "0": "Star Trek: First Contact",
         "1": "4.6E7",
         "2": "1996",
         "3": "26"
        },
        {
         "0": "Courage Under Fire",
         "1": "4.6E7",
         "2": "1996",
         "3": "26"
        },
        {
         "0": "Multiplicity",
         "1": "4.5E7",
         "2": "1996",
         "3": "28"
        },
        {
         "0": "The Glimmer Man",
         "1": "4.5E7",
         "2": "1996",
         "3": "28"
        },
        {
         "0": "The Phantom",
         "1": "4.5E7",
         "2": "1996",
         "3": "28"
        },
        {
         "0": "Tin Cup",
         "1": "4.5E7",
         "2": "1996",
         "3": "28"
        },
        {
         "0": "Sleepers",
         "1": "4.4E7",
         "2": "1996",
         "3": "32"
        },
        {
         "0": "The Mirror Has Two Faces",
         "1": "4.2E7",
         "2": "1996",
         "3": "33"
        },
        {
         "0": "A Time to Kill",
         "1": "4.0E7",
         "2": "1996",
         "3": "34"
        },
        {
         "0": "The Island of Dr. Moreau",
         "1": "4.0E7",
         "2": "1996",
         "3": "34"
        },
        {
         "0": "White Squall",
         "1": "3.8E7",
         "2": "1996",
         "3": "36"
        },
        {
         "0": "Extreme Measures",
         "1": "3.8E7",
         "2": "1996",
         "3": "36"
        },
        {
         "0": "Bogus",
         "1": "3.2E7",
         "2": "1996",
         "3": "38"
        },
        {
         "0": "Phenomenon",
         "1": "3.2E7",
         "2": "1996",
         "3": "38"
        },
        {
         "0": "Michael Collins",
         "1": "2.8E7",
         "2": "1996",
         "3": "40"
        },
        {
         "0": "Kingpin",
         "1": "2.7E7",
         "2": "1996",
         "3": "41"
        },
        {
         "0": "The First Wives Club",
         "1": "2.6E7",
         "2": "1996",
         "3": "42"
        },
        {
         "0": "Blood and Wine",
         "1": "2.6E7",
         "2": "1996",
         "3": "42"
        },
        {
         "0": "Flipper",
         "1": "2.553E7",
         "2": "1996",
         "3": "44"
        },
        {
         "0": "Maximum Risk",
         "1": "2.5E7",
         "2": "1996",
         "3": "45"
        },
        {
         "0": "Fled",
         "1": "2.5E7",
         "2": "1996",
         "3": "45"
        },
        {
         "0": "Mrs. Winterbourne",
         "1": "2.5E7",
         "2": "1996",
         "3": "45"
        },
        {
         "0": "Everyone Says I Love You",
         "1": "2.0E7",
         "2": "1996",
         "3": "48"
        },
        {
         "0": "Eye for an Eye",
         "1": "2.0E7",
         "2": "1996",
         "3": "48"
        },
        {
         "0": "From Dusk Till Dawn",
         "1": "1.9E7",
         "2": "1996",
         "3": "50"
        },
        {
         "0": "Spy Hard",
         "1": "1.8E7",
         "2": "1996",
         "3": "51"
        },
        {
         "0": "Kansas City",
         "1": "1.8E7",
         "2": "1996",
         "3": "51"
        },
        {
         "0": "The Craft",
         "1": "1.5E7",
         "2": "1996",
         "3": "53"
        },
        {
         "0": "Silent Trigger",
         "1": "1.5E7",
         "2": "1996",
         "3": "53"
        },
        {
         "0": "Romeo + Juliet",
         "1": "1.45E7",
         "2": "1996",
         "3": "55"
        },
        {
         "0": "Scream",
         "1": "1.4E7",
         "2": "1996",
         "3": "56"
        },
        {
         "0": "Faithful",
         "1": "1.3E7",
         "2": "1996",
         "3": "57"
        },
        {
         "0": "The Funeral",
         "1": "1.25E7",
         "2": "1996",
         "3": "58"
        },
        {
         "0": "Beavis and Butt-Head Do America",
         "1": "1.2E7",
         "2": "1996",
         "3": "59"
        },
        {
         "0": "Happy Gilmore",
         "1": "1.2E7",
         "2": "1996",
         "3": "59"
        },
        {
         "0": "Harriet the Spy",
         "1": "1.2E7",
         "2": "1996",
         "3": "59"
        },
        {
         "0": "Girl 6",
         "1": "1.2E7",
         "2": "1996",
         "3": "59"
        },
        {
         "0": "Set It Off",
         "1": "9000000.0",
         "2": "1996",
         "3": "63"
        },
        {
         "0": "Flirting with Disaster",
         "1": "7000000.0",
         "2": "1996",
         "3": "64"
        },
        {
         "0": "Bottle Rocket",
         "1": "7000000.0",
         "2": "1996",
         "3": "64"
        },
        {
         "0": "Albino Alligator",
         "1": "6000000.0",
         "2": "1996",
         "3": "66"
        },
        {
         "0": "Lone Star",
         "1": "5000000.0",
         "2": "1996",
         "3": "67"
        },
        {
         "0": "Bound",
         "1": "4500000.0",
         "2": "1996",
         "3": "68"
        },
        {
         "0": "Trainspotting",
         "1": "4000000.0",
         "2": "1996",
         "3": "69"
        },
        {
         "0": "She's the One",
         "1": "3500000.0",
         "2": "1996",
         "3": "70"
        },
        {
         "0": "Freeway",
         "1": "3000000.0",
         "2": "1996",
         "3": "71"
        },
        {
         "0": "Kama Sutra - A Tale of Love",
         "1": "3000000.0",
         "2": "1996",
         "3": "71"
        },
        {
         "0": "Basquiat",
         "1": "2962051.0",
         "2": "1996",
         "3": "73"
        },
        {
         "0": "Get on the Bus",
         "1": "2400000.0",
         "2": "1996",
         "3": "74"
        },
        {
         "0": "De jurk",
         "1": "2000000.0",
         "2": "1996",
         "3": "75"
        },
        {
         "0": "Shine",
         "1": "2000000.0",
         "2": "1996",
         "3": "75"
        },
        {
         "0": "Sgt. Bilko",
         "1": "2000000.0",
         "2": "1996",
         "3": "75"
        },
        {
         "0": "That Thing You Do!",
         "1": "2000000.0",
         "2": "1996",
         "3": "75"
        },
        {
         "0": "Marvin's Room",
         "1": "2000000.0",
         "2": "1996",
         "3": "75"
        },
        {
         "0": "Hamlet",
         "1": "2000000.0",
         "2": "1996",
         "3": "75"
        },
        {
         "0": "City Hall",
         "1": "2000000.0",
         "2": "1996",
         "3": "75"
        },
        {
         "0": "Chacun Cherche Son Chat",
         "1": "2000000.0",
         "2": "1996",
         "3": "75"
        },
        {
         "0": "Waiting for Guffman",
         "1": "2000000.0",
         "2": "1996",
         "3": "75"
        },
        {
         "0": "My Fellow Americans",
         "1": "2000000.0",
         "2": "1996",
         "3": "75"
        },
        {
         "0": "The Adventures of Pinocchio",
         "1": "2000000.0",
         "2": "1996",
         "3": "75"
        },
        {
         "0": "Trees Lounge",
         "1": "2000000.0",
         "2": "1996",
         "3": "75"
        },
        {
         "0": "A Thin Line Between Love and Hate",
         "1": "2000000.0",
         "2": "1996",
         "3": "75"
        },
        {
         "0": "Ghosts of Mississippi",
         "1": "2000000.0",
         "2": "1996",
         "3": "75"
        },
        {
         "0": "Walking and Talking",
         "1": "2000000.0",
         "2": "1996",
         "3": "75"
        },
        {
         "0": "Love and Other Catastrophes",
         "1": "2000000.0",
         "2": "1996",
         "3": "75"
        },
        {
         "0": "Sling Blade",
         "1": "1000000.0",
         "2": "1996",
         "3": "91"
        },
        {
         "0": "Swingers",
         "1": "200000.0",
         "2": "1996",
         "3": "92"
        },
        {
         "0": "Titanic",
         "1": "2.0E8",
         "2": "1997",
         "3": "1"
        },
        {
         "0": "Speed 2: Cruise Control",
         "1": "1.6E8",
         "2": "1997",
         "3": "2"
        },
        {
         "0": "Batman & Robin",
         "1": "1.25E8",
         "2": "1997",
         "3": "3"
        },
        {
         "0": "Dante's Peak",
         "1": "1.16E8",
         "2": "1997",
         "3": "4"
        },
        {
         "0": "Tomorrow Never Dies",
         "1": "1.1E8",
         "2": "1997",
         "3": "5"
        },
        {
         "0": "Starship Troopers",
         "1": "1.05E8",
         "2": "1997",
         "3": "6"
        },
        {
         "0": "Contact",
         "1": "9.0E7",
         "2": "1997",
         "3": "7"
        },
        {
         "0": "The Devil's Own",
         "1": "9.0E7",
         "2": "1997",
         "3": "7"
        },
        {
         "0": "Volcano",
         "1": "9.0E7",
         "2": "1997",
         "3": "7"
        },
        {
         "0": "The Fifth Element",
         "1": "9.0E7",
         "2": "1997",
         "3": "7"
        },
        {
         "0": "Men in Black",
         "1": "9.0E7",
         "2": "1997",
         "3": "7"
        },
        {
         "0": "Air Force One",
         "1": "8.5E7",
         "2": "1997",
         "3": "12"
        },
        {
         "0": "Face/Off",
         "1": "8.0E7",
         "2": "1997",
         "3": "13"
        },
        {
         "0": "Flubber",
         "1": "8.0E7",
         "2": "1997",
         "3": "13"
        },
        {
         "0": "The Postman",
         "1": "8.0E7",
         "2": "1997",
         "3": "13"
        },
        {
         "0": "Conspiracy Theory",
         "1": "7.5E7",
         "2": "1997",
         "3": "16"
        },
        {
         "0": "The Lost World: Jurassic Park",
         "1": "7.3E7",
         "2": "1997",
         "3": "17"
        },
        {
         "0": "Seven Years in Tibet",
         "1": "7.0E7",
         "2": "1997",
         "3": "18"
        },
        {
         "0": "Alien: Resurrection",
         "1": "7.0E7",
         "2": "1997",
         "3": "18"
        },
        {
         "0": "The Saint",
         "1": "6.8E7",
         "2": "1997",
         "3": "20"
        },
        {
         "0": "The Jackal",
         "1": "6.0E7",
         "2": "1997",
         "3": "21"
        },
        {
         "0": "Event Horizon",
         "1": "6.0E7",
         "2": "1997",
         "3": "21"
        },
        {
         "0": "The Relic",
         "1": "6.0E7",
         "2": "1997",
         "3": "21"
        },
        {
         "0": "The Devil's Advocate",
         "1": "5.7E7",
         "2": "1997",
         "3": "24"
        },
        {
         "0": "George of the Jungle",
         "1": "5.5E7",
         "2": "1997",
         "3": "25"
        },
        {
         "0": "Turbulence",
         "1": "5.5E7",
         "2": "1997",
         "3": "25"
        },
        {
         "0": "Anastasia",
         "1": "5.3E7",
         "2": "1997",
         "3": "27"
        },
        {
         "0": "Absolute Power",
         "1": "5.0E7",
         "2": "1997",
         "3": "28"
        },
        {
         "0": "The Game",
         "1": "5.0E7",
         "2": "1997",
         "3": "28"
        },
        {
         "0": "As Good as It Gets",
         "1": "5.0E7",
         "2": "1997",
         "3": "28"
        },
        {
         "0": "G.I. Jane",
         "1": "5.0E7",
         "2": "1997",
         "3": "28"
        },
        {
         "0": "The Peacemaker",
         "1": "5.0E7",
         "2": "1997",
         "3": "28"
        },
        {
         "0": "Mad City",
         "1": "5.0E7",
         "2": "1997",
         "3": "28"
        },
        {
         "0": "Liar Liar",
         "1": "4.5E7",
         "2": "1997",
         "3": "34"
        },
        {
         "0": "Shadow Conspiracy",
         "1": "4.5E7",
         "2": "1997",
         "3": "34"
        },
        {
         "0": "Spawn",
         "1": "4.0E7",
         "2": "1997",
         "3": "36"
        },
        {
         "0": "The Rainmaker",
         "1": "4.0E7",
         "2": "1997",
         "3": "36"
        },
        {
         "0": "My Best Friend's Wedding",
         "1": "3.8E7",
         "2": "1997",
         "3": "38"
        },
        {
         "0": "Switchback",
         "1": "3.7E7",
         "2": "1997",
         "3": "39"
        },
        {
         "0": "Gattaca",
         "1": "3.6E7",
         "2": "1997",
         "3": "40"
        },
        {
         "0": "Breakdown",
         "1": "3.6E7",
         "2": "1997",
         "3": "40"
        },
        {
         "0": "Amistad",
         "1": "3.6E7",
         "2": "1997",
         "3": "40"
        },
        {
         "0": "L.A. Confidential",
         "1": "3.5E7",
         "2": "1997",
         "3": "43"
        },
        {
         "0": "Midnight in the Garden of Good and Evil",
         "1": "3.5E7",
         "2": "1997",
         "3": "43"
        },
        {
         "0": "Smilla's Sense of Snow",
         "1": "3.5E7",
         "2": "1997",
         "3": "43"
        },
        {
         "0": "Donnie Brasco",
         "1": "3.5E7",
         "2": "1997",
         "3": "43"
        },
        {
         "0": "In & Out",
         "1": "3.5E7",
         "2": "1997",
         "3": "43"
        },
        {
         "0": "Cats Don't Dance",
         "1": "3.2E7",
         "2": "1997",
         "3": "48"
        },
        {
         "0": "Kundun",
         "1": "2.8E7",
         "2": "1997",
         "3": "49"
        },
        {
         "0": "Snow White: A Tale of Terror",
         "1": "2.6E7",
         "2": "1997",
         "3": "50"
        },
        {
         "0": "Spice World",
         "1": "2.5E7",
         "2": "1997",
         "3": "51"
        },
        {
         "0": "Nothing to Lose",
         "1": "2.5E7",
         "2": "1997",
         "3": "51"
        },
        {
         "0": "Scream 2",
         "1": "2.4E7",
         "2": "1997",
         "3": "53"
        },
        {
         "0": "Deconstructing Harry",
         "1": "2.0E7",
         "2": "1997",
         "3": "54"
        },
        {
         "0": "The Man Who Knew Too Little",
         "1": "2.0E7",
         "2": "1997",
         "3": "54"
        },
        {
         "0": "Selena",
         "1": "2.0E7",
         "2": "1997",
         "3": "54"
        },
        {
         "0": "The Ice Storm",
         "1": "1.8E7",
         "2": "1997",
         "3": "57"
        },
        {
         "0": "I Know What You Did Last Summer",
         "1": "1.7E7",
         "2": "1997",
         "3": "58"
        },
        {
         "0": "Austin Powers: International Man of Mystery",
         "1": "1.65E7",
         "2": "1997",
         "3": "59"
        },
        {
         "0": "Cop Land",
         "1": "1.5E7",
         "2": "1997",
         "3": "60"
        },
        {
         "0": "Wag the Dog",
         "1": "1.5E7",
         "2": "1997",
         "3": "60"
        },
        {
         "0": "Jackie Brown",
         "1": "1.2E7",
         "2": "1997",
         "3": "62"
        },
        {
         "0": "Good Will Hunting",
         "1": "1.0E7",
         "2": "1997",
         "3": "63"
        },
        {
         "0": "The Spanish Prisoner",
         "1": "1.0E7",
         "2": "1997",
         "3": "63"
        },
        {
         "0": "The Apostle",
         "1": "5000000.0",
         "2": "1997",
         "3": "65"
        },
        {
         "0": "The Sweet Hereafter",
         "1": "5000000.0",
         "2": "1997",
         "3": "65"
        },
        {
         "0": "Karakter",
         "1": "4500000.0",
         "2": "1997",
         "3": "67"
        },
        {
         "0": "The Full Monty",
         "1": "3500000.0",
         "2": "1997",
         "3": "68"
        },
        {
         "0": "Air Bud",
         "1": "3000000.0",
         "2": "1997",
         "3": "69"
        },
        {
         "0": "Shooting Fish",
         "1": "3000000.0",
         "2": "1997",
         "3": "69"
        },
        {
         "0": "Money Talks",
         "1": "2000000.0",
         "2": "1997",
         "3": "71"
        },
        {
         "0": "The Edge",
         "1": "2000000.0",
         "2": "1997",
         "3": "71"
        },
        {
         "0": "Grosse Pointe Blank",
         "1": "2000000.0",
         "2": "1997",
         "3": "71"
        },
        {
         "0": "8 Heads in a Duffel Bag",
         "1": "2000000.0",
         "2": "1997",
         "3": "71"
        },
        {
         "0": "In the Company of Men",
         "1": "2000000.0",
         "2": "1997",
         "3": "71"
        },
        {
         "0": "Trekkies",
         "1": "2000000.0",
         "2": "1997",
         "3": "71"
        },
        {
         "0": "24 7: Twenty Four Seven",
         "1": "2000000.0",
         "2": "1997",
         "3": "71"
        },
        {
         "0": "How to Be a Player",
         "1": "2000000.0",
         "2": "1997",
         "3": "71"
        },
        {
         "0": "Soul Food",
         "1": "2000000.0",
         "2": "1997",
         "3": "71"
        },
        {
         "0": "The Last Time I Committed Suicide",
         "1": "2000000.0",
         "2": "1997",
         "3": "71"
        },
        {
         "0": "Oscar and Lucinda",
         "1": "2000000.0",
         "2": "1997",
         "3": "71"
        },
        {
         "0": "Eve's Bayou",
         "1": "2000000.0",
         "2": "1997",
         "3": "71"
        },
        {
         "0": "Love and Death on Long Island",
         "1": "2000000.0",
         "2": "1997",
         "3": "71"
        },
        {
         "0": "Dream with the Fishes",
         "1": "2000000.0",
         "2": "1997",
         "3": "71"
        },
        {
         "0": "Warriors of Virtue",
         "1": "2000000.0",
         "2": "1997",
         "3": "71"
        },
        {
         "0": "Hav Plenty",
         "1": "2000000.0",
         "2": "1997",
         "3": "71"
        },
        {
         "0": "Ulee's Gold",
         "1": "2000000.0",
         "2": "1997",
         "3": "71"
        },
        {
         "0": "Clockwatchers",
         "1": "2000000.0",
         "2": "1997",
         "3": "71"
        },
        {
         "0": "Critical Care",
         "1": "2000000.0",
         "2": "1997",
         "3": "71"
        },
        {
         "0": "Rien ne va plus",
         "1": "2000000.0",
         "2": "1997",
         "3": "71"
        },
        {
         "0": "I Love You, Don't Touch Me!",
         "1": "2000000.0",
         "2": "1997",
         "3": "71"
        },
        {
         "0": "La femme de chambre du Titanic",
         "1": "2000000.0",
         "2": "1997",
         "3": "71"
        },
        {
         "0": "Hurricane Streets",
         "1": "2000000.0",
         "2": "1997",
         "3": "71"
        },
        {
         "0": "Orgazmo",
         "1": "1000000.0",
         "2": "1997",
         "3": "94"
        },
        {
         "0": "Two Girls and a Guy",
         "1": "1000000.0",
         "2": "1997",
         "3": "94"
        },
        {
         "0": "Chasing Amy",
         "1": "250000.0",
         "2": "1997",
         "3": "96"
        },
        {
         "0": "Cube",
         "1": "250000.0",
         "2": "1997",
         "3": "96"
        },
        {
         "0": "The Sticky Fingers of Time",
         "1": "250000.0",
         "2": "1997",
         "3": "96"
        },
        {
         "0": "Lethal Weapon 4",
         "1": "1.4E8",
         "2": "1998",
         "3": "1"
        },
        {
         "0": "Armageddon",
         "1": "1.4E8",
         "2": "1998",
         "3": "1"
        },
        {
         "0": "The Mask of Zorro",
         "1": "9.5E7",
         "2": "1998",
         "3": "3"
        },
        {
         "0": "Babe: Pig in the City",
         "1": "9.0E7",
         "2": "1998",
         "3": "4"
        },
        {
         "0": "Enemy of the State",
         "1": "9.0E7",
         "2": "1998",
         "3": "4"
        },
        {
         "0": "Mighty Joe Young",
         "1": "9.0E7",
         "2": "1998",
         "3": "4"
        },
        {
         "0": "Mulan",
         "1": "9.0E7",
         "2": "1998",
         "3": "4"
        },
        {
         "0": "What Dreams May Come",
         "1": "8.5E7",
         "2": "1998",
         "3": "8"
        },
        {
         "0": "Lost in Space",
         "1": "8.0E7",
         "2": "1998",
         "3": "9"
        },
        {
         "0": "Practical Magic",
         "1": "7.5E7",
         "2": "1998",
         "3": "10"
        },
        {
         "0": "Deep Impact",
         "1": "7.5E7",
         "2": "1998",
         "3": "10"
        },
        {
         "0": "Soldier",
         "1": "7.5E7",
         "2": "1998",
         "3": "10"
        },
        {
         "0": "Sphere",
         "1": "7.5E7",
         "2": "1998",
         "3": "10"
        },
        {
         "0": "Snake Eyes",
         "1": "7.3E7",
         "2": "1998",
         "3": "14"
        },
        {
         "0": "Doctor Dolittle",
         "1": "7.1E7",
         "2": "1998",
         "3": "15"
        },
        {
         "0": "Saving Private Ryan",
         "1": "7.0E7",
         "2": "1998",
         "3": "16"
        },
        {
         "0": "Six Days Seven Nights",
         "1": "7.0E7",
         "2": "1998",
         "3": "16"
        },
        {
         "0": "The Prince of Egypt",
         "1": "7.0E7",
         "2": "1998",
         "3": "16"
        },
        {
         "0": "The Siege",
         "1": "7.0E7",
         "2": "1998",
         "3": "16"
        },
        {
         "0": "The X Files",
         "1": "6.6E7",
         "2": "1998",
         "3": "20"
        },
        {
         "0": "I Still Know What You Did Last Summer",
         "1": "6.5E7",
         "2": "1998",
         "3": "21"
        },
        {
         "0": "Primary Colors",
         "1": "6.5E7",
         "2": "1998",
         "3": "21"
        },
        {
         "0": "You've Got Mail",
         "1": "6.5E7",
         "2": "1998",
         "3": "21"
        },
        {
         "0": "Mercury Rising",
         "1": "6.0E7",
         "2": "1998",
         "3": "24"
        },
        {
         "0": "Antz",
         "1": "6.0E7",
         "2": "1998",
         "3": "24"
        },
        {
         "0": "Holy Man",
         "1": "6.0E7",
         "2": "1998",
         "3": "24"
        },
        {
         "0": "The Horse Whisperer",
         "1": "6.0E7",
         "2": "1998",
         "3": "24"
        },
        {
         "0": "City of Angels",
         "1": "5.5E7",
         "2": "1998",
         "3": "28"
        },
        {
         "0": "Ronin",
         "1": "5.5E7",
         "2": "1998",
         "3": "28"
        },
        {
         "0": "The Thin Red Line",
         "1": "5.2E7",
         "2": "1998",
         "3": "30"
        },
        {
         "0": "The Negotiator",
         "1": "5.0E7",
         "2": "1998",
         "3": "31"
        },
        {
         "0": "Patch Adams",
         "1": "5.0E7",
         "2": "1998",
         "3": "31"
        },
        {
         "0": "Deep Rising",
         "1": "4.5E7",
         "2": "1998",
         "3": "33"
        },
        {
         "0": "Blade",
         "1": "4.5E7",
         "2": "1998",
         "3": "33"
        },
        {
         "0": "Small Soldiers",
         "1": "4.0E7",
         "2": "1998",
         "3": "35"
        },
        {
         "0": "Quest for Camelot",
         "1": "4.0E7",
         "2": "1998",
         "3": "35"
        },
        {
         "0": "Elizabeth",
         "1": "3.0E7",
         "2": "1998",
         "3": "37"
        },
        {
         "0": "Bulworth",
         "1": "3.0E7",
         "2": "1998",
         "3": "37"
        },
        {
         "0": "Very Bad Things",
         "1": "3.0E7",
         "2": "1998",
         "3": "37"
        },
        {
         "0": "The Replacement Killers",
         "1": "3.0E7",
         "2": "1998",
         "3": "37"
        },
        {
         "0": "The Rugrats Movie",
         "1": "3.0E7",
         "2": "1998",
         "3": "37"
        },
        {
         "0": "Dark City",
         "1": "2.7E7",
         "2": "1998",
         "3": "42"
        },
        {
         "0": "The Newton Boys",
         "1": "2.7E7",
         "2": "1998",
         "3": "42"
        },
        {
         "0": "EverAfter",
         "1": "2.6E7",
         "2": "1998",
         "3": "44"
        },
        {
         "0": "He Got Game",
         "1": "2.5E7",
         "2": "1998",
         "3": "45"
        },
        {
         "0": "Bride of Chucky",
         "1": "2.5E7",
         "2": "1998",
         "3": "45"
        },
        {
         "0": "Without Limits",
         "1": "2.5E7",
         "2": "1998",
         "3": "45"
        },
        {
         "0": "Meet the Deedles",
         "1": "2.4E7",
         "2": "1998",
         "3": "48"
        },
        {
         "0": "The Waterboy",
         "1": "2.3E7",
         "2": "1998",
         "3": "49"
        },
        {
         "0": "There's Something About Mary",
         "1": "2.3E7",
         "2": "1998",
         "3": "49"
        },
        {
         "0": "American History X",
         "1": "2.0E7",
         "2": "1998",
         "3": "51"
        },
        {
         "0": "Vampires",
         "1": "2.0E7",
         "2": "1998",
         "3": "51"
        },
        {
         "0": "Simon Birch",
         "1": "2.0E7",
         "2": "1998",
         "3": "51"
        },
        {
         "0": "How Stella Got Her Groove Back",
         "1": "2.0E7",
         "2": "1998",
         "3": "51"
        },
        {
         "0": "Wild Things",
         "1": "2.0E7",
         "2": "1998",
         "3": "51"
        },
        {
         "0": "Fear and Loathing in Las Vegas",
         "1": "1.85E7",
         "2": "1998",
         "3": "56"
        },
        {
         "0": "The Red Violin",
         "1": "1.8E7",
         "2": "1998",
         "3": "57"
        },
        {
         "0": "A Night at the Roxbury",
         "1": "1.7E7",
         "2": "1998",
         "3": "58"
        },
        {
         "0": "The Faculty",
         "1": "1.5E7",
         "2": "1998",
         "3": "59"
        },
        {
         "0": "Home Fries",
         "1": "1.5E7",
         "2": "1998",
         "3": "59"
        },
        {
         "0": "The Object of My Affection",
         "1": "1.5E7",
         "2": "1998",
         "3": "59"
        },
        {
         "0": "Urban Legend",
         "1": "1.4E7",
         "2": "1998",
         "3": "62"
        },
        {
         "0": "54",
         "1": "1.3E7",
         "2": "1998",
         "3": "63"
        },
        {
         "0": "The Big Hit",
         "1": "1.3E7",
         "2": "1998",
         "3": "63"
        },
        {
         "0": "Woo",
         "1": "1.3E7",
         "2": "1998",
         "3": "63"
        },
        {
         "0": "Rounders",
         "1": "1.2E7",
         "2": "1998",
         "3": "66"
        },
        {
         "0": "Living Out Loud",
         "1": "1.2E7",
         "2": "1998",
         "3": "66"
        },
        {
         "0": "Can't Hardly Wait",
         "1": "1.0E7",
         "2": "1998",
         "3": "68"
        },
        {
         "0": "An Alan Smithee Film: Burn, Hollywood, Burn",
         "1": "1.0E7",
         "2": "1998",
         "3": "68"
        },
        {
         "0": "Rushmore",
         "1": "9000000.0",
         "2": "1998",
         "3": "70"
        },
        {
         "0": "Half Baked",
         "1": "8000000.0",
         "2": "1998",
         "3": "71"
        },
        {
         "0": "Sliding Doors",
         "1": "6000000.0",
         "2": "1998",
         "3": "72"
        },
        {
         "0": "Slums of Beverly Hills",
         "1": "5000000.0",
         "2": "1998",
         "3": "73"
        },
        {
         "0": "Zero Effect",
         "1": "5000000.0",
         "2": "1998",
         "3": "73"
        },
        {
         "0": "Happiness",
         "1": "3000000.0",
         "2": "1998",
         "3": "75"
        },
        {
         "0": "Central do Brasil",
         "1": "2900000.0",
         "2": "1998",
         "3": "76"
        },
        {
         "0": "Velvet Goldmine",
         "1": "2000000.0",
         "2": "1998",
         "3": "77"
        }
       ],
       "schema": [
        {
         "key": "0",
         "name": "title",
         "type": "string"
        },
        {
         "key": "1",
         "name": "budget",
         "type": "double"
        },
        {
         "key": "2",
         "name": "year_release_date",
         "type": "int"
        },
        {
         "key": "3",
         "name": "rank",
         "type": "int"
        }
       ],
       "truncated": false
      },
      "wranglerEntryContext": {
       "dataframeType": "pyspark"
      }
     },
     "type": "Synapse.DataFrame"
    }
   },
   "version": "0.1"
  }
 },
 "nbformat": 4,
 "nbformat_minor": 0
}
