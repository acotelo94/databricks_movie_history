{
 "cells": [
  {
   "cell_type": "markdown",
   "metadata": {
    "application/vnd.databricks.v1+cell": {
     "cellMetadata": {
      "byteLimit": 2048000,
      "rowLimit": 10000
     },
     "inputWidgets": {},
     "nuid": "1c0d97d3-e900-4115-944e-d5d2b5e46914",
     "showTitle": false,
     "tableResultSettingsMap": {},
     "title": ""
    },
    "nteract": {
     "transient": {
      "deleting": false
     }
    }
   },
   "source": [
    "### Generar resultado \"results_group_movie_genre\""
   ]
  },
  {
   "cell_type": "code",
   "execution_count": 0,
   "metadata": {
    "application/vnd.databricks.v1+cell": {
     "cellMetadata": {
      "byteLimit": 2048000,
      "rowLimit": 10000
     },
     "inputWidgets": {},
     "nuid": "51b29225-3974-4222-acc2-8c54ae7dae93",
     "showTitle": false,
     "tableResultSettingsMap": {},
     "title": ""
    }
   },
   "outputs": [],
   "source": [
    "dbutils.widgets.text(\"file_date\",\"2024-12-30\")\n",
    "file_date = dbutils.widgets.get(\"file_date\")"
   ]
  },
  {
   "cell_type": "code",
   "execution_count": 0,
   "metadata": {
    "application/vnd.databricks.v1+cell": {
     "cellMetadata": {
      "byteLimit": 2048000,
      "rowLimit": 10000
     },
     "inputWidgets": {},
     "nuid": "41ed8fd1-bc2e-4484-88c4-cc74ccda6007",
     "showTitle": false,
     "tableResultSettingsMap": {},
     "title": ""
    },
    "microsoft": {
     "language": "python",
     "language_group": "synapse_pyspark"
    }
   },
   "outputs": [],
   "source": [
    "%run \"../includes/configuration\""
   ]
  },
  {
   "cell_type": "code",
   "execution_count": 0,
   "metadata": {
    "application/vnd.databricks.v1+cell": {
     "cellMetadata": {
      "byteLimit": 2048000,
      "rowLimit": 10000
     },
     "inputWidgets": {},
     "nuid": "d0c514f7-9f19-4194-acff-8d9f6ad6863d",
     "showTitle": false,
     "tableResultSettingsMap": {},
     "title": ""
    }
   },
   "outputs": [],
   "source": [
    "%run \"../includes/common_functions\""
   ]
  },
  {
   "cell_type": "markdown",
   "metadata": {
    "application/vnd.databricks.v1+cell": {
     "cellMetadata": {
      "byteLimit": 2048000,
      "rowLimit": 10000
     },
     "inputWidgets": {},
     "nuid": "46115f6e-25f7-44b1-b558-3fd62222c7d0",
     "showTitle": false,
     "tableResultSettingsMap": {},
     "title": ""
    },
    "microsoft": {
     "language": "python",
     "language_group": "synapse_pyspark"
    },
    "nteract": {
     "transient": {
      "deleting": false
     }
    }
   },
   "source": [
    "##### Obtener datos de Silver"
   ]
  },
  {
   "cell_type": "code",
   "execution_count": 0,
   "metadata": {
    "application/vnd.databricks.v1+cell": {
     "cellMetadata": {
      "byteLimit": 2048000,
      "rowLimit": 10000
     },
     "inputWidgets": {},
     "nuid": "e304880e-dec6-42d3-8f2f-adec861c5ddd",
     "showTitle": false,
     "tableResultSettingsMap": {},
     "title": ""
    },
    "microsoft": {
     "language": "python",
     "language_group": "synapse_pyspark"
    }
   },
   "outputs": [],
   "source": [
    "df_movies = spark.read.format(\"delta\").load(f\"{silver_folder_path}/movies\").filter(f\"file_date = '{file_date}'\")\n",
    "df_movie_genres = spark.read.format(\"delta\").load(f\"{silver_folder_path}/movie_genres\").filter(f\"file_date = '{file_date}'\")\n",
    "df_genres = spark.read.format(\"delta\").load(f\"{silver_folder_path}/genres\")"
   ]
  },
  {
   "cell_type": "code",
   "execution_count": 0,
   "metadata": {
    "application/vnd.databricks.v1+cell": {
     "cellMetadata": {
      "byteLimit": 2048000,
      "rowLimit": 10000
     },
     "inputWidgets": {},
     "nuid": "2b3e1b78-a5ad-429f-aa0d-65fa3a096863",
     "showTitle": false,
     "tableResultSettingsMap": {},
     "title": ""
    },
    "microsoft": {
     "language": "python",
     "language_group": "synapse_pyspark"
    }
   },
   "outputs": [],
   "source": [
    "df_movie_genre = df_genres.join(df_movie_genres,df_genres.genre_id==df_movie_genres.genre_id,\"inner\").select(\"movie_id\",\"genre_name\")"
   ]
  },
  {
   "cell_type": "code",
   "execution_count": 0,
   "metadata": {
    "application/vnd.databricks.v1+cell": {
     "cellMetadata": {
      "byteLimit": 2048000,
      "rowLimit": 10000
     },
     "inputWidgets": {},
     "nuid": "cbb3b8e8-aece-46ba-9577-ee71b0380b5c",
     "showTitle": false,
     "tableResultSettingsMap": {},
     "title": ""
    },
    "collapsed": false,
    "microsoft": {
     "language": "python",
     "language_group": "synapse_pyspark"
    }
   },
   "outputs": [],
   "source": [
    "df_movie_full = df_movies.join(df_movie_genre,df_movies.movie_id==df_movie_genre.movie_id,\"inner\").select(\"year_release_date\",\"budget\",\"revenue\",\"genre_name\")"
   ]
  },
  {
   "cell_type": "markdown",
   "metadata": {
    "application/vnd.databricks.v1+cell": {
     "cellMetadata": {
      "byteLimit": 2048000,
      "rowLimit": 10000
     },
     "inputWidgets": {},
     "nuid": "0fe34e0c-6984-498c-94b0-63690c6ac91c",
     "showTitle": false,
     "tableResultSettingsMap": {},
     "title": ""
    },
    "microsoft": {
     "language": "python",
     "language_group": "synapse_pyspark"
    },
    "nteract": {
     "transient": {
      "deleting": false
     }
    }
   },
   "source": [
    "##### Agregaciones"
   ]
  },
  {
   "cell_type": "code",
   "execution_count": 0,
   "metadata": {
    "application/vnd.databricks.v1+cell": {
     "cellMetadata": {
      "byteLimit": 2048000,
      "rowLimit": 10000
     },
     "inputWidgets": {},
     "nuid": "645d8b0a-2d02-4837-8337-e6642bcc11c3",
     "showTitle": false,
     "tableResultSettingsMap": {},
     "title": ""
    },
    "microsoft": {
     "language": "python",
     "language_group": "synapse_pyspark"
    }
   },
   "outputs": [],
   "source": [
    "from pyspark.sql.functions import sum\n",
    "\n",
    "results_group_by = df_movie_full.groupBy(\"year_release_date\",\"genre_name\") \\\n",
    "                                .agg(\n",
    "                                    sum(\"budget\").alias(\"total_budget\"),\n",
    "                                    sum(\"revenue\").alias(\"total_revenue\")\n",
    "                                    )"
   ]
  },
  {
   "cell_type": "code",
   "execution_count": 0,
   "metadata": {
    "application/vnd.databricks.v1+cell": {
     "cellMetadata": {
      "byteLimit": 2048000,
      "rowLimit": 10000
     },
     "inputWidgets": {},
     "nuid": "17ad090c-884a-4b01-9bdd-12eab8a85af0",
     "showTitle": false,
     "tableResultSettingsMap": {},
     "title": ""
    },
    "collapsed": false,
    "microsoft": {
     "language": "python",
     "language_group": "synapse_pyspark"
    }
   },
   "outputs": [],
   "source": [
    "from pyspark.sql.window import Window\n",
    "from pyspark.sql.functions import desc,dense_rank,asc,lit\n",
    "\n",
    "df_results_dense_rank = Window.partitionBy(\"year_release_date\").orderBy(desc(\"total_budget\"),desc(\"total_revenue\"))\n",
    "df_final = results_group_by.withColumn(\"dense_rank\",dense_rank().over(df_results_dense_rank)).withColumn(\"created_date\",lit(file_date))"
   ]
  },
  {
   "cell_type": "markdown",
   "metadata": {
    "application/vnd.databricks.v1+cell": {
     "cellMetadata": {
      "byteLimit": 2048000,
      "rowLimit": 10000
     },
     "inputWidgets": {},
     "nuid": "4944ccb5-3b12-415f-bb9e-99cddc1d48e2",
     "showTitle": false,
     "tableResultSettingsMap": {},
     "title": ""
    },
    "microsoft": {
     "language": "python",
     "language_group": "synapse_pyspark"
    },
    "nteract": {
     "transient": {
      "deleting": false
     }
    }
   },
   "source": [
    "##### Escribir resultado en Gold"
   ]
  },
  {
   "cell_type": "code",
   "execution_count": 0,
   "metadata": {
    "application/vnd.databricks.v1+cell": {
     "cellMetadata": {
      "byteLimit": 2048000,
      "rowLimit": 10000
     },
     "inputWidgets": {},
     "nuid": "9d335c11-16ab-4a9f-a33a-7f4c5de18432",
     "showTitle": false,
     "tableResultSettingsMap": {},
     "title": ""
    }
   },
   "outputs": [],
   "source": [
    "merge_condition=\"target.year_release_date = source.year_release_date  AND target.genre_name = source.genre_name AND target.created_date = source.created_date\"\n",
    "merge_delta_lake(df_final,\"movie_gold\",\"results_group_movie_genre\",gold_folder_path,merge_condition,\"created_date\")"
   ]
  },
  {
   "cell_type": "code",
   "execution_count": 0,
   "metadata": {
    "application/vnd.databricks.v1+cell": {
     "cellMetadata": {
      "byteLimit": 2048000,
      "implicitDf": true,
      "rowLimit": 10000
     },
     "inputWidgets": {},
     "nuid": "7e1b2af0-bdf9-4504-9d82-6c594bdb2aa4",
     "showTitle": false,
     "tableResultSettingsMap": {},
     "title": ""
    }
   },
   "outputs": [],
   "source": [
    "%sql\n",
    "select * from movie_gold.results_group_movie_genre"
   ]
  }
 ],
 "metadata": {
  "application/vnd.databricks.v1+notebook": {
   "computePreferences": null,
   "dashboards": [],
   "environmentMetadata": null,
   "inputWidgetPreferences": null,
   "language": "python",
   "notebookMetadata": {
    "mostRecentlyExecutedCommandWithImplicitDF": {
     "commandId": 7618061479981350,
     "dataframes": [
      "_sqldf"
     ]
    },
    "pythonIndentUnit": 4
   },
   "notebookName": "03.results_group_movie_genre",
   "widgets": {
    "file_date": {
     "currentValue": "2024-12-16",
     "nuid": "5f1ce3f0-87c9-436a-8fdd-70278103b1df",
     "typedWidgetInfo": {
      "autoCreated": false,
      "defaultValue": "2024-12-30",
      "label": null,
      "name": "file_date",
      "options": {
       "widgetDisplayType": "Text",
       "validationRegex": null
      },
      "parameterDataType": "String"
     },
     "widgetInfo": {
      "widgetType": "text",
      "defaultValue": "2024-12-30",
      "label": null,
      "name": "file_date",
      "options": {
       "widgetType": "text",
       "autoCreated": null,
       "validationRegex": null
      }
     }
    }
   }
  },
  "dependencies": {
   "lakehouse": {
    "default_lakehouse": "e0a555a2-5ce0-4b01-8214-823621d9d6c6",
    "default_lakehouse_name": "DB_Lakehouse",
    "default_lakehouse_workspace_id": "919018e5-22ad-4706-a9ba-1678e37706b8",
    "known_lakehouses": [
     {
      "id": "e0a555a2-5ce0-4b01-8214-823621d9d6c6"
     }
    ]
   }
  },
  "kernel_info": {
   "name": "synapse_pyspark"
  },
  "kernelspec": {
   "display_name": "Synapse PySpark",
   "language": "Python",
   "name": "synapse_pyspark"
  },
  "language_info": {
   "name": "python"
  },
  "microsoft": {
   "language": "python",
   "language_group": "synapse_pyspark",
   "ms_spell_check": {
    "ms_spell_check_language": "es"
   }
  },
  "nteract": {
   "version": "nteract-front-end@1.0.0"
  },
  "spark_compute": {
   "compute_id": "/trident/default",
   "session_options": {
    "conf": {
     "spark.synapse.nbs.session.timeout": "1200000"
    }
   }
  },
  "synapse_widget": {
   "state": {
    "2c4beeb7-d824-4492-b73d-2970131b3d95": {
     "persist_state": {
      "view": {
       "chartOptions": {
        "aggregationType": "sum",
        "binsNumber": 10,
        "categoryFieldKeys": [],
        "chartType": "bar",
        "isStacked": false,
        "seriesFieldKeys": [],
        "wordFrequency": "-1"
       },
       "tableOptions": {},
       "type": "details",
       "viewOptionsGroup": [
        {
         "tabItems": [
          {
           "key": "0",
           "name": "Table",
           "options": {},
           "type": "table"
          }
         ]
        }
       ]
      }
     },
     "sync_state": {
      "isSummary": false,
      "language": "scala",
      "table": {
       "rows": [
        {
         "0": "2016",
         "1": "9.0E7",
         "2": "3.34901337E8",
         "3": "Adventure"
        },
        {
         "0": "2016",
         "1": "9.0E7",
         "2": "3.34901337E8",
         "3": "Action"
        },
        {
         "0": "2016",
         "1": "9.0E7",
         "2": "3.34901337E8",
         "3": "Comedy"
        },
        {
         "0": "2016",
         "1": "9.0E7",
         "2": "3.34901337E8",
         "3": "Thriller"
        },
        {
         "0": "2016",
         "1": "9.0E7",
         "2": "3.34901337E8",
         "3": "Crime"
        },
        {
         "0": "2016",
         "1": "9.0E7",
         "2": "3.34901337E8",
         "3": "Mystery"
        },
        {
         "0": "2015",
         "1": "1.0E8",
         "2": "9.3820758E7",
         "3": "Adventure"
        },
        {
         "0": "2015",
         "1": "1.0E8",
         "2": "9.3820758E7",
         "3": "Drama"
        },
        {
         "0": "2015",
         "1": "1.0E8",
         "2": "9.3820758E7",
         "3": "Action"
        },
        {
         "0": "2015",
         "1": "1.0E8",
         "2": "9.3820758E7",
         "3": "History"
        },
        {
         "0": "2015",
         "1": "1.0E8",
         "2": "9.3820758E7",
         "3": "Thriller"
        },
        {
         "0": "2016",
         "1": "5.0E7",
         "2": "2.503595E7",
         "3": "Drama"
        },
        {
         "0": "2016",
         "1": "5.0E7",
         "2": "2.503595E7",
         "3": "Action"
        },
        {
         "0": "2016",
         "1": "5.0E7",
         "2": "2.503595E7",
         "3": "History"
        },
        {
         "0": "2016",
         "1": "5.0E7",
         "2": "2.503595E7",
         "3": "Thriller"
        },
        {
         "0": "2016",
         "1": "5.0E7",
         "2": "2.503595E7",
         "3": "War"
        },
        {
         "0": "2016",
         "1": "1.75E8",
         "2": "7.45E8",
         "3": "Adventure"
        },
        {
         "0": "2016",
         "1": "1.75E8",
         "2": "7.45E8",
         "3": "Fantasy"
        },
        {
         "0": "2016",
         "1": "1.75E8",
         "2": "7.45E8",
         "3": "Action"
        },
        {
         "0": "2016",
         "1": "1.75E8",
         "2": "7.45E8",
         "3": "Crime"
        },
        {
         "0": "2016",
         "1": "1.75E8",
         "2": "7.45E8",
         "3": "Science Fiction"
        },
        {
         "0": "2015",
         "1": "3.0E7",
         "2": "8.4025816E7",
         "3": "Drama"
        },
        {
         "0": "2015",
         "1": "3.0E7",
         "2": "8.4025816E7",
         "3": "Action"
        },
        {
         "0": "2015",
         "1": "3.0E7",
         "2": "8.4025816E7",
         "3": "Thriller"
        },
        {
         "0": "2015",
         "1": "3.0E7",
         "2": "8.4025816E7",
         "3": "Crime"
        },
        {
         "0": "2015",
         "1": "3.0E7",
         "2": "8.4025816E7",
         "3": "Mystery"
        },
        {
         "0": "2016",
         "1": "5.0E7",
         "2": "6.941137E7",
         "3": "Drama"
        },
        {
         "0": "2016",
         "1": "5.0E7",
         "2": "6.941137E7",
         "3": "Action"
        },
        {
         "0": "2016",
         "1": "5.0E7",
         "2": "6.941137E7",
         "3": "History"
        },
        {
         "0": "2016",
         "1": "5.0E7",
         "2": "6.941137E7",
         "3": "Thriller"
        },
        {
         "0": "2016",
         "1": "5.0E7",
         "2": "6.941137E7",
         "3": "War"
        },
        {
         "0": "2015",
         "1": "5.0E7",
         "2": "7.1561644E7",
         "3": "Drama"
        },
        {
         "0": "2015",
         "1": "5.0E7",
         "2": "7.1561644E7",
         "3": "Action"
        },
        {
         "0": "2015",
         "1": "5.0E7",
         "2": "7.1561644E7",
         "3": "Thriller"
        },
        {
         "0": "2015",
         "1": "5.0E7",
         "2": "7.1561644E7",
         "3": "Crime"
        },
        {
         "0": "2015",
         "1": "5.0E7",
         "2": "7.1561644E7",
         "3": "Mystery"
        },
        {
         "0": "2015",
         "1": "1.35E8",
         "2": "3.68871007E8",
         "3": "Fantasy"
        },
        {
         "0": "2015",
         "1": "1.35E8",
         "2": "3.68871007E8",
         "3": "Animation"
        },
        {
         "0": "2015",
         "1": "1.35E8",
         "2": "3.68871007E8",
         "3": "Comedy"
        },
        {
         "0": "2015",
         "1": "1.35E8",
         "2": "3.68871007E8",
         "3": "Science Fiction"
        },
        {
         "0": "2015",
         "1": "1.35E8",
         "2": "3.68871007E8",
         "3": "Family"
        },
        {
         "0": "2015",
         "1": "2000000.0",
         "2": "2600000.0",
         "3": "Drama"
        },
        {
         "0": "2015",
         "1": "2000000.0",
         "2": "2600000.0",
         "3": "Thriller"
        },
        {
         "0": "2015",
         "1": "2000000.0",
         "2": "2600000.0",
         "3": "Crime"
        },
        {
         "0": "2015",
         "1": "2000000.0",
         "2": "2600000.0",
         "3": "Mystery"
        },
        {
         "0": "2016",
         "1": "1.8E7",
         "2": "2.25E7",
         "3": "Drama"
        },
        {
         "0": "2016",
         "1": "1.8E7",
         "2": "2.25E7",
         "3": "Action"
        },
        {
         "0": "2016",
         "1": "1.8E7",
         "2": "2.25E7",
         "3": "Thriller"
        },
        {
         "0": "2016",
         "1": "1.8E7",
         "2": "2.25E7",
         "3": "Crime"
        },
        {
         "0": "2015",
         "1": "2000000.0",
         "2": "2600000.0",
         "3": "Adventure"
        },
        {
         "0": "2015",
         "1": "2000000.0",
         "2": "2600000.0",
         "3": "Animation"
        },
        {
         "0": "2015",
         "1": "2000000.0",
         "2": "2600000.0",
         "3": "Comedy"
        },
        {
         "0": "2015",
         "1": "2000000.0",
         "2": "2600000.0",
         "3": "Family"
        },
        {
         "0": "2015",
         "1": "4.0E7",
         "2": "1.0E8",
         "3": "Adventure"
        },
        {
         "0": "2015",
         "1": "4.0E7",
         "2": "1.0E8",
         "3": "Action"
        },
        {
         "0": "2015",
         "1": "4.0E7",
         "2": "1.0E8",
         "3": "History"
        },
        {
         "0": "2015",
         "1": "4.0E7",
         "2": "1.0E8",
         "3": "War"
        },
        {
         "0": "2016",
         "1": "1.9E7",
         "2": "1.40752617E8",
         "3": "Adventure"
        },
        {
         "0": "2016",
         "1": "1.9E7",
         "2": "1.40752617E8",
         "3": "Fantasy"
        },
        {
         "0": "2016",
         "1": "1.9E7",
         "2": "1.40752617E8",
         "3": "Animation"
        },
        {
         "0": "2016",
         "1": "1.9E7",
         "2": "1.40752617E8",
         "3": "Comedy"
        },
        {
         "0": "2016",
         "1": "5000000.0",
         "2": "6250000.0",
         "3": "Fantasy"
        },
        {
         "0": "2016",
         "1": "5000000.0",
         "2": "6250000.0",
         "3": "Horror"
        },
        {
         "0": "2016",
         "1": "5000000.0",
         "2": "6250000.0",
         "3": "Comedy"
        },
        {
         "0": "2016",
         "1": "5000000.0",
         "2": "6250000.0",
         "3": "Thriller"
        },
        {
         "0": "2015",
         "1": "7.4E7",
         "2": "1.156730962E9",
         "3": "Adventure"
        },
        {
         "0": "2015",
         "1": "7.4E7",
         "2": "1.156730962E9",
         "3": "Animation"
        },
        {
         "0": "2015",
         "1": "7.4E7",
         "2": "1.156730962E9",
         "3": "Comedy"
        },
        {
         "0": "2015",
         "1": "7.4E7",
         "2": "1.156730962E9",
         "3": "Family"
        },
        {
         "0": "2016",
         "1": "8.0E7",
         "2": "5.209909E7",
         "3": "Drama"
        },
        {
         "0": "2016",
         "1": "8.0E7",
         "2": "5.209909E7",
         "3": "Action"
        },
        {
         "0": "2016",
         "1": "8.0E7",
         "2": "5.209909E7",
         "3": "History"
        },
        {
         "0": "2016",
         "1": "8.0E7",
         "2": "5.209909E7",
         "3": "Thriller"
        },
        {
         "0": "2016",
         "1": "2.8E7",
         "2": "1.6374328E7",
         "3": "Horror"
        },
        {
         "0": "2016",
         "1": "2.8E7",
         "2": "1.6374328E7",
         "3": "Comedy"
        },
        {
         "0": "2016",
         "1": "2.8E7",
         "2": "1.6374328E7",
         "3": "Thriller"
        },
        {
         "0": "2016",
         "1": "2.8E7",
         "2": "1.6374328E7",
         "3": "Romance"
        },
        {
         "0": "2015",
         "1": "1.76000003E8",
         "2": "1.83987723E8",
         "3": "Adventure"
        },
        {
         "0": "2015",
         "1": "1.76000003E8",
         "2": "1.83987723E8",
         "3": "Fantasy"
        },
        {
         "0": "2015",
         "1": "1.76000003E8",
         "2": "1.83987723E8",
         "3": "Action"
        },
        {
         "0": "2015",
         "1": "1.76000003E8",
         "2": "1.83987723E8",
         "3": "Science Fiction"
        },
        {
         "0": "2015",
         "1": "1500000.0",
         "2": "1875000.0",
         "3": "Drama"
        },
        {
         "0": "2015",
         "1": "1500000.0",
         "2": "1875000.0",
         "3": "Horror"
        },
        {
         "0": "2015",
         "1": "1500000.0",
         "2": "1875000.0",
         "3": "Thriller"
        },
        {
         "0": "2015",
         "1": "1500000.0",
         "2": "1875000.0",
         "3": "Mystery"
        },
        {
         "0": "2015",
         "1": "1.75E8",
         "2": "8.57611174E8",
         "3": "Animation"
        },
        {
         "0": "2015",
         "1": "1.75E8",
         "2": "8.57611174E8",
         "3": "Drama"
        },
        {
         "0": "2015",
         "1": "1.75E8",
         "2": "8.57611174E8",
         "3": "Comedy"
        },
        {
         "0": "2015",
         "1": "1.75E8",
         "2": "8.57611174E8",
         "3": "Family"
        },
        {
         "0": "2016",
         "1": "4500000.0",
         "2": "3.2E7",
         "3": "Drama"
        },
        {
         "0": "2016",
         "1": "4500000.0",
         "2": "3.2E7",
         "3": "Action"
        },
        {
         "0": "2016",
         "1": "4500000.0",
         "2": "3.2E7",
         "3": "History"
        },
        {
         "0": "2016",
         "1": "4500000.0",
         "2": "3.2E7",
         "3": "Thriller"
        },
        {
         "0": "2015",
         "1": "1.35E8",
         "2": "5.32950503E8",
         "3": "Adventure"
        },
        {
         "0": "2015",
         "1": "1.35E8",
         "2": "5.32950503E8",
         "3": "Drama"
        },
        {
         "0": "2015",
         "1": "1.35E8",
         "2": "5.32950503E8",
         "3": "Western"
        },
        {
         "0": "2015",
         "1": "1.35E8",
         "2": "5.32950503E8",
         "3": "Thriller"
        },
        {
         "0": "2015",
         "1": "1.55E8",
         "2": "4.40603537E8",
         "3": "Adventure"
        },
        {
         "0": "2015",
         "1": "1.55E8",
         "2": "4.40603537E8",
         "3": "Action"
        },
        {
         "0": "2015",
         "1": "1.55E8",
         "2": "4.40603537E8",
         "3": "Thriller"
        },
        {
         "0": "2015",
         "1": "1.55E8",
         "2": "4.40603537E8",
         "3": "Science Fiction"
        },
        {
         "0": "2015",
         "1": "9.5E7",
         "2": "5.43514353E8",
         "3": "Fantasy"
        },
        {
         "0": "2015",
         "1": "9.5E7",
         "2": "5.43514353E8",
         "3": "Drama"
        },
        {
         "0": "2015",
         "1": "9.5E7",
         "2": "5.43514353E8",
         "3": "Romance"
        },
        {
         "0": "2015",
         "1": "9.5E7",
         "2": "5.43514353E8",
         "3": "Family"
        },
        {
         "0": "2015",
         "1": "4.4E7",
         "2": "1.55760117E8",
         "3": "Drama"
        },
        {
         "0": "2015",
         "1": "4.4E7",
         "2": "1.55760117E8",
         "3": "Western"
        },
        {
         "0": "2015",
         "1": "4.4E7",
         "2": "1.55760117E8",
         "3": "Crime"
        },
        {
         "0": "2015",
         "1": "4.4E7",
         "2": "1.55760117E8",
         "3": "Mystery"
        },
        {
         "0": "2015",
         "1": "2000000.0",
         "2": "2600000.0",
         "3": "Drama"
        },
        {
         "0": "2015",
         "1": "2000000.0",
         "2": "2600000.0",
         "3": "Horror"
        },
        {
         "0": "2015",
         "1": "2000000.0",
         "2": "2600000.0",
         "3": "Thriller"
        },
        {
         "0": "2015",
         "1": "2000000.0",
         "2": "2600000.0",
         "3": "Mystery"
        },
        {
         "0": "2015",
         "1": "1.5E8",
         "2": "1.51352881E9",
         "3": "Adventure"
        },
        {
         "0": "2015",
         "1": "1.5E8",
         "2": "1.51352881E9",
         "3": "Action"
        },
        {
         "0": "2015",
         "1": "1.5E8",
         "2": "1.51352881E9",
         "3": "Thriller"
        },
        {
         "0": "2015",
         "1": "1.5E8",
         "2": "1.51352881E9",
         "3": "Science Fiction"
        },
        {
         "0": "2015",
         "1": "3000000.0",
         "2": "3750000.0",
         "3": "Drama"
        },
        {
         "0": "2015",
         "1": "3000000.0",
         "2": "3750000.0",
         "3": "Horror"
        },
        {
         "0": "2015",
         "1": "3000000.0",
         "2": "3750000.0",
         "3": "Thriller"
        },
        {
         "0": "2015",
         "1": "3000000.0",
         "2": "3750000.0",
         "3": "Mystery"
        },
        {
         "0": "2016",
         "1": "1.75E8",
         "2": "9.665506E8",
         "3": "Adventure"
        },
        {
         "0": "2016",
         "1": "1.75E8",
         "2": "9.665506E8",
         "3": "Fantasy"
        },
        {
         "0": "2016",
         "1": "1.75E8",
         "2": "9.665506E8",
         "3": "Drama"
        },
        {
         "0": "2016",
         "1": "1.75E8",
         "2": "9.665506E8",
         "3": "Family"
        },
        {
         "0": "2015",
         "1": "8000000.0",
         "2": "5659286.0",
         "3": "Animation"
        },
        {
         "0": "2015",
         "1": "8000000.0",
         "2": "5659286.0",
         "3": "Drama"
        },
        {
         "0": "2015",
         "1": "8000000.0",
         "2": "5659286.0",
         "3": "Comedy"
        },
        {
         "0": "2015",
         "1": "8000000.0",
         "2": "5659286.0",
         "3": "Romance"
        },
        {
         "0": "2015",
         "1": "2000000.0",
         "2": "2600000.0",
         "3": "Drama"
        },
        {
         "0": "2015",
         "1": "2000000.0",
         "2": "2600000.0",
         "3": "Horror"
        },
        {
         "0": "2015",
         "1": "2000000.0",
         "2": "2600000.0",
         "3": "Thriller"
        },
        {
         "0": "2015",
         "1": "2000000.0",
         "2": "2600000.0",
         "3": "Mystery"
        },
        {
         "0": "2015",
         "1": "5.01E7",
         "2": "1.53962963E8",
         "3": "Drama"
        },
        {
         "0": "2015",
         "1": "5.01E7",
         "2": "1.53962963E8",
         "3": "Comedy"
        },
        {
         "0": "2015",
         "1": "5.01E7",
         "2": "1.53962963E8",
         "3": "Crime"
        },
        {
         "0": "2015",
         "1": "5.01E7",
         "2": "1.53962963E8",
         "3": "Romance"
        },
        {
         "0": "2015",
         "1": "1.9E8",
         "2": "2.09154322E8",
         "3": "Adventure"
        },
        {
         "0": "2015",
         "1": "1.9E8",
         "2": "2.09154322E8",
         "3": "Science Fiction"
        },
        {
         "0": "2015",
         "1": "1.9E8",
         "2": "2.09154322E8",
         "3": "Mystery"
        },
        {
         "0": "2015",
         "1": "1.9E8",
         "2": "2.09154322E8",
         "3": "Family"
        },
        {
         "0": "2015",
         "1": "7.4E7",
         "2": "3.11594032E8",
         "3": "Adventure"
        },
        {
         "0": "2015",
         "1": "7.4E7",
         "2": "3.11594032E8",
         "3": "Animation"
        },
        {
         "0": "2015",
         "1": "7.4E7",
         "2": "3.11594032E8",
         "3": "Comedy"
        },
        {
         "0": "2015",
         "1": "7.4E7",
         "2": "3.11594032E8",
         "3": "Family"
        },
        {
         "0": "2015",
         "1": "2.7E7",
         "2": "3.375E7",
         "3": "Adventure"
        },
        {
         "0": "2015",
         "1": "2.7E7",
         "2": "3.375E7",
         "3": "Action"
        },
        {
         "0": "2015",
         "1": "2.7E7",
         "2": "3.375E7",
         "3": "Science Fiction"
        },
        {
         "0": "2015",
         "1": "2.7E7",
         "2": "3.375E7",
         "3": "Romance"
        },
        {
         "0": "2015",
         "1": "1.5E8",
         "2": "3.7885834E8",
         "3": "Adventure"
        },
        {
         "0": "2015",
         "1": "1.5E8",
         "2": "3.7885834E8",
         "3": "Action"
        },
        {
         "0": "2015",
         "1": "1.5E8",
         "2": "3.7885834E8",
         "3": "Thriller"
        },
        {
         "0": "2015",
         "1": "1.5E8",
         "2": "3.7885834E8",
         "3": "Science Fiction"
        },
        {
         "0": "2016",
         "1": "1.35E8",
         "2": "2.45623848E8",
         "3": "Adventure"
        },
        {
         "0": "2016",
         "1": "1.35E8",
         "2": "2.45623848E8",
         "3": "Fantasy"
        },
        {
         "0": "2016",
         "1": "1.35E8",
         "2": "2.45623848E8",
         "3": "Action"
        },
        {
         "0": "2016",
         "1": "1.35E8",
         "2": "2.45623848E8",
         "3": "Comedy"
        },
        {
         "0": "2016",
         "1": "1.7E7",
         "2": "1.19100758E8",
         "3": "Drama"
        },
        {
         "0": "2016",
         "1": "1.7E7",
         "2": "1.19100758E8",
         "3": "Horror"
        },
        {
         "0": "2016",
         "1": "1.7E7",
         "2": "1.19100758E8",
         "3": "Thriller"
        },
        {
         "0": "2016",
         "1": "1.8E7",
         "2": "8.8923251E7",
         "3": "Comedy"
        },
        {
         "0": "2016",
         "1": "1.8E7",
         "2": "8.8923251E7",
         "3": "Romance"
        },
        {
         "0": "2016",
         "1": "1.8E7",
         "2": "8.8923251E7",
         "3": "Family"
        },
        {
         "0": "2015",
         "1": "1.6E8",
         "2": "6.53428261E8",
         "3": "Adventure"
        },
        {
         "0": "2015",
         "1": "1.6E8",
         "2": "6.53428261E8",
         "3": "Action"
        },
        {
         "0": "2015",
         "1": "1.6E8",
         "2": "6.53428261E8",
         "3": "Science Fiction"
        },
        {
         "0": "2016",
         "1": "1.0E7",
         "2": "6.4188367E7",
         "3": "Horror"
        },
        {
         "0": "2016",
         "1": "1.0E7",
         "2": "6.4188367E7",
         "3": "Thriller"
        },
        {
         "0": "2016",
         "1": "1.0E7",
         "2": "6.4188367E7",
         "3": "Mystery"
        },
        {
         "0": "2015",
         "1": "3.7E7",
         "2": "2.625002E7",
         "3": "Drama"
        },
        {
         "0": "2015",
         "1": "3.7E7",
         "2": "2.625002E7",
         "3": "Comedy"
        },
        {
         "0": "2015",
         "1": "3.7E7",
         "2": "2.625002E7",
         "3": "Romance"
        },
        {
         "0": "2016",
         "1": "1.85E8",
         "2": "3.43471816E8",
         "3": "Adventure"
        },
        {
         "0": "2016",
         "1": "1.85E8",
         "2": "3.43471816E8",
         "3": "Action"
        },
        {
         "0": "2016",
         "1": "1.85E8",
         "2": "3.43471816E8",
         "3": "Science Fiction"
        },
        {
         "0": "2015",
         "1": "2000000.0",
         "2": "2600000.0",
         "3": "Drama"
        },
        {
         "0": "2015",
         "1": "2000000.0",
         "2": "2600000.0",
         "3": "Horror"
        },
        {
         "0": "2015",
         "1": "2000000.0",
         "2": "2600000.0",
         "3": "Mystery"
        },
        {
         "0": "2015",
         "1": "2.8E8",
         "2": "1.405403694E9",
         "3": "Adventure"
        },
        {
         "0": "2015",
         "1": "2.8E8",
         "2": "1.405403694E9",
         "3": "Action"
        },
        {
         "0": "2015",
         "1": "2.8E8",
         "2": "1.405403694E9",
         "3": "Science Fiction"
        },
        {
         "0": "2015",
         "1": "7000000.0",
         "2": "8750000.0",
         "3": "Drama"
        },
        {
         "0": "2015",
         "1": "7000000.0",
         "2": "8750000.0",
         "3": "Thriller"
        },
        {
         "0": "2015",
         "1": "7000000.0",
         "2": "8750000.0",
         "3": "Crime"
        },
        {
         "0": "2015",
         "1": "3.5E7",
         "2": "5.1680201E7",
         "3": "Action"
        },
        {
         "0": "2015",
         "1": "3.5E7",
         "2": "5.1680201E7",
         "3": "Comedy"
        },
        {
         "0": "2015",
         "1": "3.5E7",
         "2": "5.1680201E7",
         "3": "Crime"
        },
        {
         "0": "2015",
         "1": "1.0E7",
         "2": "1.0835752E7",
         "3": "Drama"
        },
        {
         "0": "2015",
         "1": "1.0E7",
         "2": "1.0835752E7",
         "3": "Comedy"
        },
        {
         "0": "2015",
         "1": "1.0E7",
         "2": "1.0835752E7",
         "3": "Music"
        },
        {
         "0": "2015",
         "1": "1.5E8",
         "2": "1.2838832E8",
         "3": "Adventure"
        },
        {
         "0": "2015",
         "1": "1.5E8",
         "2": "1.2838832E8",
         "3": "Fantasy"
        },
        {
         "0": "2015",
         "1": "1.5E8",
         "2": "1.2838832E8",
         "3": "Family"
        },
        {
         "0": "2015",
         "1": "1.3E8",
         "2": "5.19311965E8",
         "3": "Adventure"
        },
        {
         "0": "2015",
         "1": "1.3E8",
         "2": "5.19311965E8",
         "3": "Action"
        },
        {
         "0": "2015",
         "1": "1.3E8",
         "2": "5.19311965E8",
         "3": "Science Fiction"
        },
        {
         "0": "2016",
         "1": "5.8E7",
         "2": "7.83112979E8",
         "3": "Adventure"
        },
        {
         "0": "2016",
         "1": "5.8E7",
         "2": "7.83112979E8",
         "3": "Action"
        },
        {
         "0": "2016",
         "1": "5.8E7",
         "2": "7.83112979E8",
         "3": "Comedy"
        },
        {
         "0": "2015",
         "1": "2000000.0",
         "2": "2600000.0",
         "3": "Horror"
        },
        {
         "0": "2015",
         "1": "2000000.0",
         "2": "2600000.0",
         "3": "Action"
        },
        {
         "0": "2015",
         "1": "2000000.0",
         "2": "2600000.0",
         "3": "Thriller"
        },
        {
         "0": "2016",
         "1": "1.6E8",
         "2": "4.33677183E8",
         "3": "Adventure"
        },
        {
         "0": "2016",
         "1": "1.6E8",
         "2": "4.33677183E8",
         "3": "Fantasy"
        },
        {
         "0": "2016",
         "1": "1.6E8",
         "2": "4.33677183E8",
         "3": "Action"
        },
        {
         "0": "2016",
         "1": "5000000.0",
         "2": "3220371.0",
         "3": "Horror"
        },
        {
         "0": "2016",
         "1": "5000000.0",
         "2": "3220371.0",
         "3": "Thriller"
        },
        {
         "0": "2016",
         "1": "5000000.0",
         "2": "3220371.0",
         "3": "Crime"
        },
        {
         "0": "2016",
         "1": "2.5E7",
         "2": "1.5436808E7",
         "3": "Drama"
        },
        {
         "0": "2016",
         "1": "2.5E7",
         "2": "1.5436808E7",
         "3": "Thriller"
        },
        {
         "0": "2016",
         "1": "2.5E7",
         "2": "1.5436808E7",
         "3": "Crime"
        },
        {
         "0": "2015",
         "1": "6.4E7",
         "2": "9.757125E7",
         "3": "Adventure"
        },
        {
         "0": "2015",
         "1": "6.4E7",
         "2": "9.757125E7",
         "3": "Fantasy"
        },
        {
         "0": "2015",
         "1": "6.4E7",
         "2": "9.757125E7",
         "3": "Animation"
        },
        {
         "0": "2016",
         "1": "6.5E7",
         "2": "1.43695338E8",
         "3": "Adventure"
        },
        {
         "0": "2016",
         "1": "6.5E7",
         "2": "1.43695338E8",
         "3": "Fantasy"
        },
        {
         "0": "2016",
         "1": "6.5E7",
         "2": "1.43695338E8",
         "3": "Family"
        },
        {
         "0": "2015",
         "1": "2000000.0",
         "2": "2600000.0",
         "3": "Drama"
        },
        {
         "0": "2015",
         "1": "2000000.0",
         "2": "2600000.0",
         "3": "Thriller"
        },
        {
         "0": "2015",
         "1": "2000000.0",
         "2": "2600000.0",
         "3": "Crime"
        },
        {
         "0": "2016",
         "1": "1.44E8",
         "2": "2.29147509E8",
         "3": "Fantasy"
        },
        {
         "0": "2016",
         "1": "1.44E8",
         "2": "2.29147509E8",
         "3": "Action"
        },
        {
         "0": "2016",
         "1": "1.44E8",
         "2": "2.29147509E8",
         "3": "Comedy"
        },
        {
         "0": "2017",
         "1": "2000000.0",
         "2": "2600000.0",
         "3": "Drama"
        },
        {
         "0": "2017",
         "1": "2000000.0",
         "2": "2600000.0",
         "3": "Comedy"
        },
        {
         "0": "2017",
         "1": "2000000.0",
         "2": "2600000.0",
         "3": "Family"
        },
        {
         "0": "2015",
         "1": "3.0E7",
         "2": "3.75E7",
         "3": "Drama"
        },
        {
         "0": "2015",
         "1": "3.0E7",
         "2": "3.75E7",
         "3": "Thriller"
        },
        {
         "0": "2015",
         "1": "3.0E7",
         "2": "3.75E7",
         "3": "Crime"
        },
        {
         "0": "2016",
         "1": "1.65E8",
         "2": "3.89681935E8",
         "3": "Adventure"
        },
        {
         "0": "2016",
         "1": "1.65E8",
         "2": "3.89681935E8",
         "3": "Action"
        },
        {
         "0": "2016",
         "1": "1.65E8",
         "2": "3.89681935E8",
         "3": "Science Fiction"
        },
        {
         "0": "2015",
         "1": "2.5E7",
         "2": "7.262967E7",
         "3": "Action"
        },
        {
         "0": "2015",
         "1": "2.5E7",
         "2": "7.262967E7",
         "3": "Thriller"
        },
        {
         "0": "2015",
         "1": "2.5E7",
         "2": "7.262967E7",
         "3": "Crime"
        },
        {
         "0": "2016",
         "1": "1.4E8",
         "2": "1.83345589E8",
         "3": "Adventure"
        },
        {
         "0": "2016",
         "1": "1.4E8",
         "2": "1.83345589E8",
         "3": "Fantasy"
        },
        {
         "0": "2016",
         "1": "1.4E8",
         "2": "1.83345589E8",
         "3": "Family"
        },
        {
         "0": "2016",
         "1": "2.5E8",
         "2": "1.153304495E9",
         "3": "Adventure"
        },
        {
         "0": "2016",
         "1": "2.5E8",
         "2": "1.153304495E9",
         "3": "Action"
        },
        {
         "0": "2016",
         "1": "2.5E8",
         "2": "1.153304495E9",
         "3": "Science Fiction"
        },
        {
         "0": "2015",
         "1": "2000000.0",
         "2": "2600000.0",
         "3": "Horror"
        },
        {
         "0": "2015",
         "1": "2000000.0",
         "2": "2600000.0",
         "3": "Action"
        },
        {
         "0": "2015",
         "1": "2000000.0",
         "2": "2600000.0",
         "3": "Thriller"
        },
        {
         "0": "2015",
         "1": "2.0E7",
         "2": "6420319.0",
         "3": "Drama"
        },
        {
         "0": "2015",
         "1": "2.0E7",
         "2": "6420319.0",
         "3": "Comedy"
        },
        {
         "0": "2015",
         "1": "2.0E7",
         "2": "6420319.0",
         "3": "War"
        },
        {
         "0": "2015",
         "1": "1.5E8",
         "2": "6.82330139E8",
         "3": "Adventure"
        },
        {
         "0": "2015",
         "1": "1.5E8",
         "2": "6.82330139E8",
         "3": "Action"
        },
        {
         "0": "2015",
         "1": "1.5E8",
         "2": "6.82330139E8",
         "3": "Thriller"
        },
        {
         "0": "2015",
         "1": "9.0E7",
         "2": "1.4693691E8",
         "3": "Adventure"
        },
        {
         "0": "2015",
         "1": "9.0E7",
         "2": "1.4693691E8",
         "3": "Fantasy"
        },
        {
         "0": "2015",
         "1": "9.0E7",
         "2": "1.4693691E8",
         "3": "Action"
        },
        {
         "0": "2015",
         "1": "4.0E7",
         "2": "3.4227298E7",
         "3": "Drama"
        },
        {
         "0": "2015",
         "1": "4.0E7",
         "2": "3.4227298E7",
         "3": "Thriller"
        },
        {
         "0": "2015",
         "1": "4.0E7",
         "2": "3.4227298E7",
         "3": "Science Fiction"
        },
        {
         "0": "2015",
         "1": "1.0E7",
         "2": "1.25E7",
         "3": "Horror"
        },
        {
         "0": "2015",
         "1": "1.0E7",
         "2": "1.25E7",
         "3": "Action"
        },
        {
         "0": "2015",
         "1": "1.0E7",
         "2": "1.25E7",
         "3": "Thriller"
        },
        {
         "0": "2015",
         "1": "2000000.0",
         "2": "2600000.0",
         "3": "Western"
        },
        {
         "0": "2015",
         "1": "2000000.0",
         "2": "2600000.0",
         "3": "Thriller"
        },
        {
         "0": "2015",
         "1": "2000000.0",
         "2": "2600000.0",
         "3": "Romance"
        },
        {
         "0": "2015",
         "1": "2000000.0",
         "2": "2600000.0",
         "3": "Horror"
        },
        {
         "0": "2015",
         "1": "2000000.0",
         "2": "2600000.0",
         "3": "Thriller"
        },
        {
         "0": "2015",
         "1": "2000000.0",
         "2": "2600000.0",
         "3": "Mystery"
        },
        {
         "0": "2015",
         "1": "1.2E7",
         "2": "8.55123E7",
         "3": "Drama"
        },
        {
         "0": "2015",
         "1": "1.2E7",
         "2": "8.55123E7",
         "3": "Mystery"
        },
        {
         "0": "2015",
         "1": "1.2E7",
         "2": "8.55123E7",
         "3": "Romance"
        },
        {
         "0": "2015",
         "1": "2.0E7",
         "2": "8.8346473E7",
         "3": "Drama"
        },
        {
         "0": "2015",
         "1": "2.0E7",
         "2": "8.8346473E7",
         "3": "History"
        },
        {
         "0": "2015",
         "1": "2.0E7",
         "2": "8.8346473E7",
         "3": "Thriller"
        },
        {
         "0": "2015",
         "1": "1.0E7",
         "2": "1.04303851E8",
         "3": "Drama"
        },
        {
         "0": "2015",
         "1": "1.0E7",
         "2": "1.04303851E8",
         "3": "Horror"
        },
        {
         "0": "2015",
         "1": "1.0E7",
         "2": "1.04303851E8",
         "3": "Thriller"
        },
        {
         "0": "2015",
         "1": "8.8E7",
         "2": "2.43637091E8",
         "3": "Action"
        },
        {
         "0": "2015",
         "1": "8.8E7",
         "2": "2.43637091E8",
         "3": "Comedy"
        },
        {
         "0": "2015",
         "1": "8.8E7",
         "2": "2.43637091E8",
         "3": "Science Fiction"
        },
        {
         "0": "2016",
         "1": "2.0E7",
         "2": "8.370731E7",
         "3": "Adventure"
        },
        {
         "0": "2016",
         "1": "2.0E7",
         "2": "8.370731E7",
         "3": "Crime"
        },
        {
         "0": "2016",
         "1": "2.0E7",
         "2": "8.370731E7",
         "3": "Mystery"
        },
        {
         "0": "2015",
         "1": "1.05E8",
         "2": "1.33718711E8",
         "3": "Action"
        },
        {
         "0": "2015",
         "1": "1.05E8",
         "2": "1.33718711E8",
         "3": "Thriller"
        },
        {
         "0": "2015",
         "1": "1.05E8",
         "2": "1.33718711E8",
         "3": "Crime"
        },
        {
         "0": "2015",
         "1": "6000000.0",
         "2": "1.112209E7",
         "3": "Drama"
        },
        {
         "0": "2015",
         "1": "6000000.0",
         "2": "1.112209E7",
         "3": "Music"
        },
        {
         "0": "2015",
         "1": "6000000.0",
         "2": "1.112209E7",
         "3": "Romance"
        },
        {
         "0": "2015",
         "1": "2000000.0",
         "2": "2600000.0",
         "3": "Drama"
        },
        {
         "0": "2015",
         "1": "2000000.0",
         "2": "2600000.0",
         "3": "Comedy"
        },
        {
         "0": "2015",
         "1": "2000000.0",
         "2": "2600000.0",
         "3": "Music"
        },
        {
         "0": "2016",
         "1": "2.2E7",
         "2": "6.3647656E7",
         "3": "Drama"
        },
        {
         "0": "2016",
         "1": "2.2E7",
         "2": "6.3647656E7",
         "3": "Comedy"
        },
        {
         "0": "2016",
         "1": "2.2E7",
         "2": "6.3647656E7",
         "3": "Mystery"
        },
        {
         "0": "2015",
         "1": "7.5E7",
         "2": "1.08145109E8",
         "3": "Adventure"
        },
        {
         "0": "2015",
         "1": "7.5E7",
         "2": "1.08145109E8",
         "3": "Action"
        },
        {
         "0": "2015",
         "1": "7.5E7",
         "2": "1.08145109E8",
         "3": "Comedy"
        },
        {
         "0": "2015",
         "1": "2000000.0",
         "2": "2600000.0",
         "3": "Action"
        },
        {
         "0": "2015",
         "1": "2000000.0",
         "2": "2600000.0",
         "3": "Thriller"
        },
        {
         "0": "2015",
         "1": "2000000.0",
         "2": "2600000.0",
         "3": "Mystery"
        },
        {
         "0": "2015",
         "1": "5.8E7",
         "2": "1.58162788E8",
         "3": "Adventure"
        },
        {
         "0": "2015",
         "1": "5.8E7",
         "2": "1.58162788E8",
         "3": "Horror"
        },
        {
         "0": "2015",
         "1": "5.8E7",
         "2": "1.58162788E8",
         "3": "Comedy"
        },
        {
         "0": "2015",
         "1": "8900000.0",
         "2": "4100000.0",
         "3": "Action"
        },
        {
         "0": "2015",
         "1": "8900000.0",
         "2": "4100000.0",
         "3": "Thriller"
        },
        {
         "0": "2015",
         "1": "8900000.0",
         "2": "4100000.0",
         "3": "Crime"
        },
        {
         "0": "2016",
         "1": "2000000.0",
         "2": "2600000.0",
         "3": "Horror"
        },
        {
         "0": "2016",
         "1": "2000000.0",
         "2": "2600000.0",
         "3": "Comedy"
        },
        {
         "0": "2016",
         "1": "2000000.0",
         "2": "2600000.0",
         "3": "Thriller"
        },
        {
         "0": "2015",
         "1": "2000000.0",
         "2": "2600000.0",
         "3": "Action"
        },
        {
         "0": "2015",
         "1": "2000000.0",
         "2": "2600000.0",
         "3": "Comedy"
        },
        {
         "0": "2015",
         "1": "2000000.0",
         "2": "2600000.0",
         "3": "Science Fiction"
        },
        {
         "0": "2015",
         "1": "4.9E7",
         "2": "1.04399548E8",
         "3": "Action"
        },
        {
         "0": "2015",
         "1": "4.9E7",
         "2": "1.04399548E8",
         "3": "Crime"
        },
        {
         "0": "2015",
         "1": "4.9E7",
         "2": "1.04399548E8",
         "3": "Science Fiction"
        },
        {
         "0": "2016",
         "1": "2000000.0",
         "2": "2600000.0",
         "3": "Drama"
        },
        {
         "0": "2016",
         "1": "2000000.0",
         "2": "2600000.0",
         "3": "Romance"
        },
        {
         "0": "2016",
         "1": "2000000.0",
         "2": "2600000.0",
         "3": "Family"
        },
        {
         "0": "2015",
         "1": "3.5E7",
         "2": "6.1181942E7",
         "3": "Adventure"
        },
        {
         "0": "2015",
         "1": "3.5E7",
         "2": "6.1181942E7",
         "3": "Drama"
        },
        {
         "0": "2015",
         "1": "3.5E7",
         "2": "6.1181942E7",
         "3": "Thriller"
        },
        {
         "0": "2015",
         "1": "2000000.0",
         "2": "2600000.0",
         "3": "Horror"
        },
        {
         "0": "2015",
         "1": "2000000.0",
         "2": "2600000.0",
         "3": "Thriller"
        },
        {
         "0": "2015",
         "1": "2000000.0",
         "2": "2600000.0",
         "3": "Science Fiction"
        },
        {
         "0": "2015",
         "1": "2000000.0",
         "2": "2600000.0",
         "3": "Adventure"
        },
        {
         "0": "2015",
         "1": "2000000.0",
         "2": "2600000.0",
         "3": "Animation"
        },
        {
         "0": "2015",
         "1": "2000000.0",
         "2": "2600000.0",
         "3": "Comedy"
        },
        {
         "0": "2016",
         "1": "750000.0",
         "2": "937500.0",
         "3": "Drama"
        },
        {
         "0": "2016",
         "1": "750000.0",
         "2": "937500.0",
         "3": "Thriller"
        },
        {
         "0": "2016",
         "1": "750000.0",
         "2": "937500.0",
         "3": "Crime"
        },
        {
         "0": "2015",
         "1": "1.75E8",
         "2": "3.31926147E8",
         "3": "Adventure"
        },
        {
         "0": "2015",
         "1": "1.75E8",
         "2": "3.31926147E8",
         "3": "Animation"
        },
        {
         "0": "2015",
         "1": "1.75E8",
         "2": "3.31926147E8",
         "3": "Family"
        },
        {
         "0": "2016",
         "1": "6.0E7",
         "2": "2.05754447E8",
         "3": "Action"
        },
        {
         "0": "2016",
         "1": "6.0E7",
         "2": "2.05754447E8",
         "3": "Thriller"
        },
        {
         "0": "2016",
         "1": "6.0E7",
         "2": "2.05754447E8",
         "3": "Crime"
        },
        {
         "0": "2015",
         "1": "2000000.0",
         "2": "2600000.0",
         "3": "Action"
        },
        {
         "0": "2015",
         "1": "2000000.0",
         "2": "2600000.0",
         "3": "Thriller"
        },
        {
         "0": "2015",
         "1": "2000000.0",
         "2": "2600000.0",
         "3": "Crime"
        },
        {
         "0": "2015",
         "1": "2.5E7",
         "2": "6.5663276E7",
         "3": "Fantasy"
        },
        {
         "0": "2015",
         "1": "2.5E7",
         "2": "6.5663276E7",
         "3": "Drama"
        },
        {
         "0": "2015",
         "1": "2.5E7",
         "2": "6.5663276E7",
         "3": "Romance"
        },
        {
         "0": "2016",
         "1": "1.8E7",
         "2": "6212282.0",
         "3": "Adventure"
        },
        {
         "0": "2016",
         "1": "1.8E7",
         "2": "6212282.0",
         "3": "Drama"
        },
        {
         "0": "2016",
         "1": "1.8E7",
         "2": "6212282.0",
         "3": "Science Fiction"
        },
        {
         "0": "2015",
         "1": "1.08E8",
         "2": "6.3016189E8",
         "3": "Adventure"
        },
        {
         "0": "2015",
         "1": "1.08E8",
         "2": "6.3016189E8",
         "3": "Drama"
        },
        {
         "0": "2015",
         "1": "1.08E8",
         "2": "6.3016189E8",
         "3": "Science Fiction"
        },
        {
         "0": "2016",
         "1": "1.0E7",
         "2": "1.1858788E8",
         "3": "Horror"
        },
        {
         "0": "2016",
         "1": "1.0E7",
         "2": "1.1858788E8",
         "3": "Action"
        },
        {
         "0": "2016",
         "1": "1.0E7",
         "2": "1.1858788E8",
         "3": "Thriller"
        },
        {
         "0": "2015",
         "1": "3.8E7",
         "2": "1.07597242E8",
         "3": "Action"
        },
        {
         "0": "2015",
         "1": "3.8E7",
         "2": "1.07597242E8",
         "3": "Comedy"
        },
        {
         "0": "2015",
         "1": "3.8E7",
         "2": "1.07597242E8",
         "3": "Family"
        },
        {
         "0": "2015",
         "1": "2.6E7",
         "2": "3.0523226E7",
         "3": "Thriller"
        },
        {
         "0": "2015",
         "1": "2.6E7",
         "2": "3.0523226E7",
         "3": "Science Fiction"
        },
        {
         "0": "2015",
         "1": "2.6E7",
         "2": "3.0523226E7",
         "3": "Mystery"
        },
        {
         "0": "2015",
         "1": "4.0E7",
         "2": "5.71006128E8",
         "3": "Drama"
        },
        {
         "0": "2015",
         "1": "4.0E7",
         "2": "5.71006128E8",
         "3": "Thriller"
        },
        {
         "0": "2015",
         "1": "4.0E7",
         "2": "5.71006128E8",
         "3": "Romance"
        },
        {
         "0": "2015",
         "1": "2000000.0",
         "2": "2600000.0",
         "3": "Drama"
        },
        {
         "0": "2015",
         "1": "2000000.0",
         "2": "2600000.0",
         "3": "Action"
        },
        {
         "0": "2015",
         "1": "2000000.0",
         "2": "2600000.0",
         "3": "Thriller"
        },
        {
         "0": "2015",
         "1": "7.0E7",
         "2": "1.775294E7",
         "3": "Drama"
        },
        {
         "0": "2015",
         "1": "7.0E7",
         "2": "1.775294E7",
         "3": "Crime"
        },
        {
         "0": "2015",
         "1": "7.0E7",
         "2": "1.775294E7",
         "3": "Mystery"
        },
        {
         "0": "2015",
         "1": "4.0E7",
         "2": "1.3644292E7",
         "3": "Drama"
        },
        {
         "0": "2015",
         "1": "4.0E7",
         "2": "1.3644292E7",
         "3": "Action"
        },
        {
         "0": "2015",
         "1": "4.0E7",
         "2": "1.3644292E7",
         "3": "Crime"
        },
        {
         "0": "2016",
         "1": "2000000.0",
         "2": "2600000.0",
         "3": "Horror"
        },
        {
         "0": "2016",
         "1": "2000000.0",
         "2": "2600000.0",
         "3": "Action"
        },
        {
         "0": "2016",
         "1": "2000000.0",
         "2": "2600000.0",
         "3": "Thriller"
        },
        {
         "0": "2015",
         "1": "5000000.0",
         "2": "6250000.0",
         "3": "Horror"
        },
        {
         "0": "2015",
         "1": "5000000.0",
         "2": "6250000.0",
         "3": "Thriller"
        },
        {
         "0": "2015",
         "1": "5000000.0",
         "2": "6250000.0",
         "3": "Science Fiction"
        },
        {
         "0": "2015",
         "1": "1.48E7",
         "2": "1.22513057E8",
         "3": "Drama"
        },
        {
         "0": "2015",
         "1": "1.48E7",
         "2": "1.22513057E8",
         "3": "Comedy"
        },
        {
         "0": "2015",
         "1": "1.48E7",
         "2": "1.22513057E8",
         "3": "Music"
        },
        {
         "0": "2015",
         "1": "2000000.0",
         "2": "2600000.0",
         "3": "Drama"
        },
        {
         "0": "2015",
         "1": "2000000.0",
         "2": "2600000.0",
         "3": "Thriller"
        },
        {
         "0": "2015",
         "1": "2000000.0",
         "2": "2600000.0",
         "3": "Mystery"
        },
        {
         "0": "2015",
         "1": "1.2E8",
         "2": "1.67977596E8",
         "3": "Adventure"
        },
        {
         "0": "2015",
         "1": "1.2E8",
         "2": "1.67977596E8",
         "3": "Action"
        },
        {
         "0": "2015",
         "1": "1.2E8",
         "2": "1.67977596E8",
         "3": "Science Fiction"
        },
        {
         "0": "2015",
         "1": "1.1E8",
         "2": "2.95238201E8",
         "3": "Adventure"
        },
        {
         "0": "2015",
         "1": "1.1E8",
         "2": "2.95238201E8",
         "3": "Thriller"
        },
        {
         "0": "2015",
         "1": "1.1E8",
         "2": "2.95238201E8",
         "3": "Science Fiction"
        },
        {
         "0": "2015",
         "1": "2000000.0",
         "2": "2600000.0",
         "3": "Adventure"
        },
        {
         "0": "2015",
         "1": "2000000.0",
         "2": "2600000.0",
         "3": "Drama"
        },
        {
         "0": "2015",
         "1": "2000000.0",
         "2": "2600000.0",
         "3": "Western"
        },
        {
         "0": "2015",
         "1": "1.95E7",
         "2": "3.485499E7",
         "3": "Drama"
        },
        {
         "0": "2015",
         "1": "1.95E7",
         "2": "3.485499E7",
         "3": "Crime"
        },
        {
         "0": "2015",
         "1": "1.95E7",
         "2": "3.485499E7",
         "3": "Mystery"
        },
        {
         "0": "2015",
         "1": "2.0E7",
         "2": "4.3967255E7",
         "3": "Adventure"
        },
        {
         "0": "2015",
         "1": "2.0E7",
         "2": "4.3967255E7",
         "3": "Drama"
        },
        {
         "0": "2015",
         "1": "2.0E7",
         "2": "4.3967255E7",
         "3": "Family"
        },
        {
         "0": "2015",
         "1": "8.0E7",
         "2": "4.73226958E8",
         "3": "Animation"
        },
        {
         "0": "2015",
         "1": "8.0E7",
         "2": "4.73226958E8",
         "3": "Comedy"
        },
        {
         "0": "2015",
         "1": "8.0E7",
         "2": "4.73226958E8",
         "3": "Family"
        },
        {
         "0": "2015",
         "1": "2000000.0",
         "2": "2600000.0",
         "3": "Drama"
        },
        {
         "0": "2015",
         "1": "2000000.0",
         "2": "2600000.0",
         "3": "Thriller"
        },
        {
         "0": "2015",
         "1": "2000000.0",
         "2": "2600000.0",
         "3": "Science Fiction"
        },
        {
         "0": "2016",
         "1": "1.15E8",
         "2": "1.64602163E8",
         "3": "Adventure"
        },
        {
         "0": "2016",
         "1": "1.15E8",
         "2": "1.64602163E8",
         "3": "Drama"
        },
        {
         "0": "2016",
         "1": "1.15E8",
         "2": "1.64602163E8",
         "3": "Action"
        },
        {
         "0": "2015",
         "1": "2000000.0",
         "2": "2600000.0",
         "3": "Drama"
        },
        {
         "0": "2015",
         "1": "2000000.0",
         "2": "2600000.0",
         "3": "Thriller"
        },
        {
         "0": "2015",
         "1": "2000000.0",
         "2": "2600000.0",
         "3": "Crime"
        },
        {
         "0": "2015",
         "1": "1.5E7",
         "2": "6.1548707E7",
         "3": "Fantasy"
        },
        {
         "0": "2015",
         "1": "1.5E7",
         "2": "6.1548707E7",
         "3": "Horror"
        },
        {
         "0": "2015",
         "1": "1.5E7",
         "2": "6.1548707E7",
         "3": "Comedy"
        },
        {
         "0": "2016",
         "1": "8000000.0",
         "2": "1.0E7",
         "3": "Action"
        },
        {
         "0": "2016",
         "1": "8000000.0",
         "2": "1.0E7",
         "3": "Thriller"
        },
        {
         "0": "2016",
         "1": "8000000.0",
         "2": "1.0E7",
         "3": "Crime"
        },
        {
         "0": "2016",
         "1": "2.5E8",
         "2": "8.73260194E8",
         "3": "Adventure"
        },
        {
         "0": "2016",
         "1": "2.5E8",
         "2": "8.73260194E8",
         "3": "Fantasy"
        },
        {
         "0": "2016",
         "1": "2.5E8",
         "2": "8.73260194E8",
         "3": "Action"
        },
        {
         "0": "2015",
         "1": "5000000.0",
         "2": "6250000.0",
         "3": "Adventure"
        },
        {
         "0": "2015",
         "1": "5000000.0",
         "2": "6250000.0",
         "3": "Action"
        },
        {
         "0": "2015",
         "1": "5000000.0",
         "2": "6250000.0",
         "3": "Thriller"
        },
        {
         "0": "2015",
         "1": "2.45E8",
         "2": "8.80674609E8",
         "3": "Adventure"
        },
        {
         "0": "2015",
         "1": "2.45E8",
         "2": "8.80674609E8",
         "3": "Action"
        },
        {
         "0": "2015",
         "1": "2.45E8",
         "2": "8.80674609E8",
         "3": "Crime"
        },
        {
         "0": "2015",
         "1": "1.0E7",
         "2": "7587485.0",
         "3": "Drama"
        },
        {
         "0": "2015",
         "1": "1.0E7",
         "2": "7587485.0",
         "3": "Comedy"
        },
        {
         "0": "2015",
         "1": "1.0E7",
         "2": "7587485.0",
         "3": "Mystery"
        },
        {
         "0": "2015",
         "1": "1.1E8",
         "2": "4.70490832E8",
         "3": "Drama"
        },
        {
         "0": "2015",
         "1": "1.1E8",
         "2": "4.70490832E8",
         "3": "Action"
        },
        {
         "0": "2015",
         "1": "1.1E8",
         "2": "4.70490832E8",
         "3": "Thriller"
        },
        {
         "0": "2016",
         "1": "2.5E7",
         "2": "1397284.0",
         "3": "Drama"
        },
        {
         "0": "2016",
         "1": "2.5E7",
         "2": "1397284.0",
         "3": "Action"
        },
        {
         "0": "2016",
         "1": "2.5E7",
         "2": "1397284.0",
         "3": "Western"
        },
        {
         "0": "2015",
         "1": "700000.0",
         "2": "1.7986781E7",
         "3": "Drama"
        },
        {
         "0": "2015",
         "1": "700000.0",
         "2": "1.7986781E7",
         "3": "Comedy"
        },
        {
         "0": "2015",
         "1": "700000.0",
         "2": "1.7986781E7",
         "3": "Crime"
        },
        {
         "0": "2015",
         "1": "2000000.0",
         "2": "2600000.0",
         "3": "Drama"
        },
        {
         "0": "2015",
         "1": "2000000.0",
         "2": "2600000.0",
         "3": "Thriller"
        },
        {
         "0": "2015",
         "1": "3000000.0",
         "2": "3387000.0",
         "3": "Horror"
        },
        {
         "0": "2015",
         "1": "3000000.0",
         "2": "3387000.0",
         "3": "Thriller"
        },
        {
         "0": "2015",
         "1": "3300000.0",
         "2": "6.4110728E7",
         "3": "Horror"
        },
        {
         "0": "2015",
         "1": "3300000.0",
         "2": "6.4110728E7",
         "3": "Thriller"
        },
        {
         "0": "2015",
         "1": "2000000.0",
         "2": "2600000.0",
         "3": "Comedy"
        },
        {
         "0": "2015",
         "1": "2000000.0",
         "2": "2600000.0",
         "3": "Science Fiction"
        },
        {
         "0": "2015",
         "1": "5.3E7",
         "2": "9.8837872E7",
         "3": "Drama"
        },
        {
         "0": "2015",
         "1": "5.3E7",
         "2": "9.8837872E7",
         "3": "Crime"
        },
        {
         "0": "2016",
         "1": "2000000.0",
         "2": "2600000.0",
         "3": "Action"
        },
        {
         "0": "2016",
         "1": "2000000.0",
         "2": "2600000.0",
         "3": "Crime"
        },
        {
         "0": "2015",
         "1": "4400000.0",
         "2": "5500000.0",
         "3": "Horror"
        },
        {
         "0": "2015",
         "1": "4400000.0",
         "2": "5500000.0",
         "3": "Comedy"
        },
        {
         "0": "2015",
         "1": "2.9E7",
         "2": "2.87506194E8",
         "3": "Comedy"
        },
        {
         "0": "2015",
         "1": "2.9E7",
         "2": "2.87506194E8",
         "3": "Music"
        },
        {
         "0": "2015",
         "1": "1.1E7",
         "2": "6.2076141E7",
         "3": "Drama"
        },
        {
         "0": "2015",
         "1": "1.1E7",
         "2": "6.2076141E7",
         "3": "Romance"
        },
        {
         "0": "2016",
         "1": "1.8E8",
         "2": "3.56743061E8",
         "3": "Adventure"
        },
        {
         "0": "2016",
         "1": "1.8E8",
         "2": "3.56743061E8",
         "3": "Action"
        },
        {
         "0": "2016",
         "1": "3500000.0",
         "2": "4.0423945E7",
         "3": "Horror"
        },
        {
         "0": "2016",
         "1": "3500000.0",
         "2": "4.0423945E7",
         "3": "Mystery"
        },
        {
         "0": "2015",
         "1": "4.0E7",
         "2": "1.65478348E8",
         "3": "Drama"
        },
        {
         "0": "2015",
         "1": "4.0E7",
         "2": "1.65478348E8",
         "3": "Thriller"
        },
        {
         "0": "2015",
         "1": "6.0E7",
         "2": "1.01134059E8",
         "3": "Drama"
        },
        {
         "0": "2015",
         "1": "6.0E7",
         "2": "1.01134059E8",
         "3": "Comedy"
        },
        {
         "0": "2015",
         "1": "2000000.0",
         "2": "2600000.0",
         "3": "Drama"
        },
        {
         "0": "2015",
         "1": "2000000.0",
         "2": "2600000.0",
         "3": "Romance"
        },
        {
         "0": "2016",
         "1": "1.0E7",
         "2": "4.0055439E7",
         "3": "Horror"
        },
        {
         "0": "2016",
         "1": "1.0E7",
         "2": "4.0055439E7",
         "3": "Thriller"
        },
        {
         "0": "2015",
         "1": "1.0E7",
         "2": "8.5978266E7",
         "3": "Drama"
        },
        {
         "0": "2015",
         "1": "1.0E7",
         "2": "8.5978266E7",
         "3": "Comedy"
        },
        {
         "0": "2016",
         "1": "3000000.0",
         "2": "3750000.0",
         "3": "Action"
        },
        {
         "0": "2016",
         "1": "3000000.0",
         "2": "3750000.0",
         "3": "Comedy"
        },
        {
         "0": "2016",
         "1": "7.5E7",
         "2": "8.75958308E8",
         "3": "Animation"
        },
        {
         "0": "2016",
         "1": "7.5E7",
         "2": "8.75958308E8",
         "3": "Family"
        },
        {
         "0": "2016",
         "1": "2000000.0",
         "2": "2600000.0",
         "3": "Drama"
        },
        {
         "0": "2016",
         "1": "2000000.0",
         "2": "2600000.0",
         "3": "Romance"
        },
        {
         "0": "2016",
         "1": "1.5E7",
         "2": "2.0566327E7",
         "3": "Action"
        },
        {
         "0": "2016",
         "1": "1.5E7",
         "2": "2.0566327E7",
         "3": "Comedy"
        },
        {
         "0": "2015",
         "1": "8500000.0",
         "2": "4.3528634E7",
         "3": "Comedy"
        },
        {
         "0": "2015",
         "1": "8500000.0",
         "2": "4.3528634E7",
         "3": "Romance"
        },
        {
         "0": "2015",
         "1": "9500000.0",
         "2": "1.1875E7",
         "3": "Horror"
        },
        {
         "0": "2015",
         "1": "9500000.0",
         "2": "1.1875E7",
         "3": "Science Fiction"
        },
        {
         "0": "2015",
         "1": "50000.0",
         "2": "62500.0",
         "3": "Horror"
        },
        {
         "0": "2015",
         "1": "50000.0",
         "2": "62500.0",
         "3": "Thriller"
        },
        {
         "0": "2015",
         "1": "2300000.0",
         "2": "2875000.0",
         "3": "Drama"
        },
        {
         "0": "2015",
         "1": "2300000.0",
         "2": "2875000.0",
         "3": "Thriller"
        },
        {
         "0": "2016",
         "1": "2.0E7",
         "2": "2.07945075E8",
         "3": "Drama"
        },
        {
         "0": "2016",
         "1": "2.0E7",
         "2": "2.07945075E8",
         "3": "Romance"
        },
        {
         "0": "2016",
         "1": "2000000.0",
         "2": "2600000.0",
         "3": "Comedy"
        },
        {
         "0": "2016",
         "1": "2000000.0",
         "2": "2600000.0",
         "3": "Romance"
        },
        {
         "0": "2016",
         "1": "1000000.0",
         "2": "1250000.0",
         "3": "Drama"
        },
        {
         "0": "2016",
         "1": "1000000.0",
         "2": "1250000.0",
         "3": "Science Fiction"
        },
        {
         "0": "2015",
         "1": "2500000.0",
         "2": "3125000.0",
         "3": "Horror"
        },
        {
         "0": "2015",
         "1": "2500000.0",
         "2": "3125000.0",
         "3": "Comedy"
        },
        {
         "0": "2015",
         "1": "2.5E7",
         "2": "2.4902723E7",
         "3": "Drama"
        },
        {
         "0": "2015",
         "1": "2.5E7",
         "2": "2.4902723E7",
         "3": "History"
        },
        {
         "0": "2015",
         "1": "2000000.0",
         "2": "2600000.0",
         "3": "Drama"
        },
        {
         "0": "2015",
         "1": "2000000.0",
         "2": "2600000.0",
         "3": "Romance"
        },
        {
         "0": "2016",
         "1": "2.9E7",
         "2": "4.8902953E7",
         "3": "Drama"
        },
        {
         "0": "2016",
         "1": "2.9E7",
         "2": "4.8902953E7",
         "3": "Comedy"
        },
        {
         "0": "2016",
         "1": "2000000.0",
         "2": "2600000.0",
         "3": "Drama"
        },
        {
         "0": "2016",
         "1": "2000000.0",
         "2": "2600000.0",
         "3": "Comedy"
        },
        {
         "0": "2016",
         "1": "2000000.0",
         "2": "2600000.0",
         "3": "Action"
        },
        {
         "0": "2016",
         "1": "2000000.0",
         "2": "2600000.0",
         "3": "Romance"
        },
        {
         "0": "2016",
         "1": "1.7E7",
         "2": "2.125E7",
         "3": "Drama"
        },
        {
         "0": "2016",
         "1": "1.7E7",
         "2": "2.125E7",
         "3": "Action"
        },
        {
         "0": "2015",
         "1": "5000000.0",
         "2": "5.4418872E7",
         "3": "Action"
        },
        {
         "0": "2015",
         "1": "5000000.0",
         "2": "5.4418872E7",
         "3": "Thriller"
        },
        {
         "0": "2016",
         "1": "3.8E7",
         "2": "1.09906372E8",
         "3": "Adventure"
        },
        {
         "0": "2016",
         "1": "3.8E7",
         "2": "1.09906372E8",
         "3": "Science Fiction"
        },
        {
         "0": "2015",
         "1": "2000000.0",
         "2": "2600000.0",
         "3": "History"
        },
        {
         "0": "2015",
         "1": "2000000.0",
         "2": "2600000.0",
         "3": "Documentary"
        },
        {
         "0": "2015",
         "1": "2000000.0",
         "2": "2600000.0",
         "3": "Action"
        },
        {
         "0": "2015",
         "1": "2000000.0",
         "2": "2600000.0",
         "3": "Crime"
        },
        {
         "0": "2015",
         "1": "2000000.0",
         "2": "2600000.0",
         "3": "Comedy"
        },
        {
         "0": "2015",
         "1": "2000000.0",
         "2": "2600000.0",
         "3": "Romance"
        },
        {
         "0": "2015",
         "1": "2000000.0",
         "2": "2600000.0",
         "3": "Thriller"
        },
        {
         "0": "2015",
         "1": "2000000.0",
         "2": "2600000.0",
         "3": "Mystery"
        },
        {
         "0": "2015",
         "1": "350000.0",
         "2": "437500.0",
         "3": "Science Fiction"
        },
        {
         "0": "2015",
         "1": "350000.0",
         "2": "437500.0",
         "3": "Family"
        },
        {
         "0": "2015",
         "1": "2100000.0",
         "2": "3330.0",
         "3": "Drama"
        },
        {
         "0": "2015",
         "1": "2100000.0",
         "2": "3330.0",
         "3": "Crime"
        },
        {
         "0": "2015",
         "1": "2000000.0",
         "2": "2600000.0",
         "3": "Drama"
        },
        {
         "0": "2015",
         "1": "2000000.0",
         "2": "2600000.0",
         "3": "Comedy"
        },
        {
         "0": "2015",
         "1": "2000000.0",
         "2": "2600000.0",
         "3": "Drama"
        },
        {
         "0": "2015",
         "1": "2000000.0",
         "2": "2600000.0",
         "3": "Family"
        },
        {
         "0": "2015",
         "1": "1.0E7",
         "2": "17472.0",
         "3": "Drama"
        },
        {
         "0": "2015",
         "1": "1.0E7",
         "2": "17472.0",
         "3": "Thriller"
        },
        {
         "0": "2015",
         "1": "2000000.0",
         "2": "2600000.0",
         "3": "Fantasy"
        },
        {
         "0": "2015",
         "1": "2000000.0",
         "2": "2600000.0",
         "3": "Drama"
        },
        {
         "0": "2016",
         "1": "5000000.0",
         "2": "2.4804129E7",
         "3": "Drama"
        },
        {
         "0": "2016",
         "1": "5000000.0",
         "2": "2.4804129E7",
         "3": "Action"
        },
        {
         "0": "2016",
         "1": "1.1E7",
         "2": "1.375E7",
         "3": "Drama"
        },
        {
         "0": "2016",
         "1": "1.1E7",
         "2": "1.375E7",
         "3": "Thriller"
        },
        {
         "0": "2016",
         "1": "7000000.0",
         "2": "1333124.0",
         "3": "Horror"
        },
        {
         "0": "2016",
         "1": "7000000.0",
         "2": "1333124.0",
         "3": "Thriller"
        },
        {
         "0": "2015",
         "1": "1.2E7",
         "2": "3.2248241E7",
         "3": "Thriller"
        },
        {
         "0": "2015",
         "1": "1.2E7",
         "2": "3.2248241E7",
         "3": "Science Fiction"
        },
        {
         "0": "2015",
         "1": "2000000.0",
         "2": "2600000.0",
         "3": "Horror"
        },
        {
         "0": "2015",
         "1": "2000000.0",
         "2": "2600000.0",
         "3": "Thriller"
        },
        {
         "0": "2015",
         "1": "1.1E7",
         "2": "1.375E7",
         "3": "Drama"
        },
        {
         "0": "2015",
         "1": "1.1E7",
         "2": "1.375E7",
         "3": "Western"
        },
        {
         "0": "2015",
         "1": "7000000.0",
         "2": "573335.0",
         "3": "Drama"
        },
        {
         "0": "2015",
         "1": "7000000.0",
         "2": "573335.0",
         "3": "Romance"
        },
        {
         "0": "2015",
         "1": "3400000.0",
         "2": "4250000.0",
         "3": "Drama"
        },
        {
         "0": "2015",
         "1": "3400000.0",
         "2": "4250000.0",
         "3": "Music"
        },
        {
         "0": "2015",
         "1": "2000000.0",
         "2": "2600000.0",
         "3": "Drama"
        },
        {
         "0": "2015",
         "1": "2000000.0",
         "2": "2600000.0",
         "3": "Thriller"
        },
        {
         "0": "2015",
         "1": "2.8E7",
         "2": "1.33346506E8",
         "3": "Drama"
        },
        {
         "0": "2015",
         "1": "2.8E7",
         "2": "1.33346506E8",
         "3": "Comedy"
        },
        {
         "0": "2015",
         "1": "2000000.0",
         "2": "2600000.0",
         "3": "Horror"
        },
        {
         "0": "2015",
         "1": "2000000.0",
         "2": "2600000.0",
         "3": "Action"
        },
        {
         "0": "2015",
         "1": "2000000.0",
         "2": "2600000.0",
         "3": "Drama"
        },
        {
         "0": "2015",
         "1": "2000000.0",
         "2": "2600000.0",
         "3": "Romance"
        },
        {
         "0": "2015",
         "1": "1.3E7",
         "2": "1784763.0",
         "3": "Horror"
        },
        {
         "0": "2015",
         "1": "1.3E7",
         "2": "1784763.0",
         "3": "Thriller"
        },
        {
         "0": "2015",
         "1": "2000000.0",
         "2": "2600000.0",
         "3": "Drama"
        },
        {
         "0": "2015",
         "1": "2000000.0",
         "2": "2600000.0",
         "3": "Action"
        },
        {
         "0": "2016",
         "1": "1.1E8",
         "2": "1.79246868E8",
         "3": "Adventure"
        },
        {
         "0": "2016",
         "1": "1.1E8",
         "2": "1.79246868E8",
         "3": "Science Fiction"
        },
        {
         "0": "2016",
         "1": "3.8E7",
         "2": "1.12343513E8",
         "3": "Comedy"
        },
        {
         "0": "2016",
         "1": "3.8E7",
         "2": "1.12343513E8",
         "3": "Romance"
        },
        {
         "0": "2015",
         "1": "3.4E7",
         "2": "6.3013281E7",
         "3": "Drama"
        },
        {
         "0": "2015",
         "1": "3.4E7",
         "2": "6.3013281E7",
         "3": "Romance"
        },
        {
         "0": "2015",
         "1": "1.5E7",
         "2": "3.6869414E7",
         "3": "Drama"
        },
        {
         "0": "2015",
         "1": "1.5E7",
         "2": "3.6869414E7",
         "3": "Science Fiction"
        },
        {
         "0": "2015",
         "1": "2000000.0",
         "2": "2600000.0",
         "3": "Horror"
        },
        {
         "0": "2015",
         "1": "2000000.0",
         "2": "2600000.0",
         "3": "Science Fiction"
        },
        {
         "0": "2016",
         "1": "2000000.0",
         "2": "2600000.0",
         "3": "Horror"
        },
        {
         "0": "2016",
         "1": "2000000.0",
         "2": "2600000.0",
         "3": "Music"
        },
        {
         "0": "2016",
         "1": "5.0E7",
         "2": "2.16972543E8",
         "3": "Action"
        },
        {
         "0": "2016",
         "1": "5.0E7",
         "2": "2.16972543E8",
         "3": "Comedy"
        },
        {
         "0": "2015",
         "1": "2.8E7",
         "2": "2.01634991E8",
         "3": "Drama"
        },
        {
         "0": "2015",
         "1": "2.8E7",
         "2": "2.01634991E8",
         "3": "Music"
        },
        {
         "0": "2015",
         "1": "100000.0",
         "2": "4.266441E7",
         "3": "Horror"
        },
        {
         "0": "2015",
         "1": "100000.0",
         "2": "4.266441E7",
         "3": "Thriller"
        },
        {
         "0": "2015",
         "1": "700000.0",
         "2": "875000.0",
         "3": "Drama"
        },
        {
         "0": "2015",
         "1": "700000.0",
         "2": "875000.0",
         "3": "Comedy"
        },
        {
         "0": "2015",
         "1": "1.0E7",
         "2": "3727746.0",
         "3": "Drama"
        },
        {
         "0": "2015",
         "1": "1.0E7",
         "2": "3727746.0",
         "3": "Romance"
        },
        {
         "0": "2015",
         "1": "6.0E7",
         "2": "7.5E7",
         "3": "Comedy"
        },
        {
         "0": "2015",
         "1": "6.0E7",
         "2": "7.5E7",
         "3": "Western"
        },
        {
         "0": "2015",
         "1": "6.0E7",
         "2": "3.041856E7",
         "3": "Adventure"
        },
        {
         "0": "2015",
         "1": "6.0E7",
         "2": "3.041856E7",
         "3": "Comedy"
        },
        {
         "0": "2015",
         "1": "3.0E7",
         "2": "3.4441873E7",
         "3": "Drama"
        },
        {
         "0": "2015",
         "1": "3.0E7",
         "2": "3.4441873E7",
         "3": "History"
        },
        {
         "0": "2015",
         "1": "2.6E7",
         "2": "3.25E7",
         "3": "Comedy"
        },
        {
         "0": "2015",
         "1": "2.6E7",
         "2": "3.25E7",
         "3": "Romance"
        },
        {
         "0": "2016",
         "1": "2.0E7",
         "2": "2.1164799E7",
         "3": "Comedy"
        },
        {
         "0": "2016",
         "1": "2.0E7",
         "2": "2.1164799E7",
         "3": "Romance"
        },
        {
         "0": "2016",
         "1": "7.3E7",
         "2": "3.49779543E8",
         "3": "Animation"
        },
        {
         "0": "2016",
         "1": "7.3E7",
         "2": "3.49779543E8",
         "3": "Family"
        },
        {
         "0": "2015",
         "1": "1000000.0",
         "2": "6.288209E7",
         "3": "Horror"
        },
        {
         "0": "2015",
         "1": "1000000.0",
         "2": "6.288209E7",
         "3": "Thriller"
        },
        {
         "0": "2016",
         "1": "4900000.0",
         "2": "4.4107032E7",
         "3": "Horror"
        },
        {
         "0": "2016",
         "1": "4900000.0",
         "2": "4.4107032E7",
         "3": "Thriller"
        },
        {
         "0": "2015",
         "1": "522360.0",
         "2": "652950.0",
         "3": "Documentary"
        },
        {
         "0": "2015",
         "1": "522360.0",
         "2": "652950.0",
         "3": "Music"
        },
        {
         "0": "2016",
         "1": "4.0E7",
         "2": "1.24827316E8",
         "3": "Action"
        },
        {
         "0": "2016",
         "1": "4.0E7",
         "2": "1.24827316E8",
         "3": "Comedy"
        },
        {
         "0": "2015",
         "1": "2000000.0",
         "2": "2600000.0",
         "3": "Comedy"
        },
        {
         "0": "2015",
         "1": "2000000.0",
         "2": "2600000.0",
         "3": "Family"
        },
        {
         "0": "2015",
         "1": "6000000.0",
         "2": "3.5401758E7",
         "3": "Drama"
        },
        {
         "0": "2015",
         "1": "6000000.0",
         "2": "3.5401758E7",
         "3": "Thriller"
        },
        {
         "0": "2015",
         "1": "1.7E7",
         "2": "2.4E7",
         "3": "Comedy"
        },
        {
         "0": "2015",
         "1": "1.7E7",
         "2": "2.4E7",
         "3": "Family"
        },
        {
         "0": "2015",
         "1": "2000000.0",
         "2": "2600000.0",
         "3": "Horror"
        },
        {
         "0": "2015",
         "1": "2000000.0",
         "2": "2600000.0",
         "3": "Thriller"
        },
        {
         "0": "2015",
         "1": "5000000.0",
         "2": "9.8450062E7",
         "3": "Horror"
        },
        {
         "0": "2015",
         "1": "5000000.0",
         "2": "9.8450062E7",
         "3": "Thriller"
        },
        {
         "0": "2015",
         "1": "8000000.0",
         "2": "1.0E7",
         "3": "Animation"
        },
        {
         "0": "2015",
         "1": "8000000.0",
         "2": "1.0E7",
         "3": "Comedy"
        },
        {
         "0": "2016",
         "1": "1.2E8",
         "2": "4.15484914E8",
         "3": "Action"
        },
        {
         "0": "2016",
         "1": "1.2E8",
         "2": "4.15484914E8",
         "3": "Thriller"
        },
        {
         "0": "2016",
         "1": "2.0E7",
         "2": "1.2639297E7",
         "3": "Action"
        },
        {
         "0": "2016",
         "1": "2.0E7",
         "2": "1.2639297E7",
         "3": "Thriller"
        },
        {
         "0": "2015",
         "1": "5.0E7",
         "2": "3324330.0",
         "3": "Thriller"
        },
        {
         "0": "2015",
         "1": "5.0E7",
         "2": "3324330.0",
         "3": "Crime"
        },
        {
         "0": "2016",
         "1": "2.9E7",
         "2": "7.8636257E7",
         "3": "Comedy"
        },
        {
         "0": "2015",
         "1": "2000000.0",
         "2": "2600000.0",
         "3": "Horror"
        },
        {
         "0": "2016",
         "1": "1.0E8",
         "2": "9.4061311E7",
         "3": "Drama"
        },
        {
         "0": "2016",
         "1": "2.0E7",
         "2": "1.83936074E8",
         "3": "Comedy"
        },
        {
         "0": "2015",
         "1": "1.5E7",
         "2": "1.875E7",
         "3": "Drama"
        },
        {
         "0": "2016",
         "1": "2000000.0",
         "2": "2600000.0",
         "3": "Thriller"
        },
        {
         "0": "2016",
         "1": "2.0E7",
         "2": "4.6069568E7",
         "3": "Action"
        },
        {
         "0": "2015",
         "1": "2000000.0",
         "2": "2600000.0",
         "3": "Drama"
        },
        {
         "0": "2016",
         "1": "4000000.0",
         "2": "5000000.0",
         "3": "Horror"
        },
        {
         "0": "2016",
         "1": "3.5E7",
         "2": "4.375E7",
         "3": "Horror"
        },
        {
         "0": "2015",
         "1": "650000.0",
         "2": "812500.0",
         "3": "Documentary"
        },
        {
         "0": "2015",
         "1": "3000000.0",
         "2": "3750000.0",
         "3": "Thriller"
        },
        {
         "0": "2016",
         "1": "2.0E7",
         "2": "2.5E7",
         "3": "Drama"
        },
        {
         "0": "2016",
         "1": "5000000.0",
         "2": "2.3507567E7",
         "3": "Drama"
        },
        {
         "0": "2015",
         "1": "4000000.0",
         "2": "187112.0",
         "3": "Horror"
        },
        {
         "0": "2016",
         "1": "2000000.0",
         "2": "2600000.0",
         "3": "Adventure"
        },
        {
         "0": "2015",
         "1": "2000000.0",
         "2": "2600000.0",
         "3": "Drama"
        },
        {
         "0": "2015",
         "1": "6.1E7",
         "2": "3.11256926E8",
         "3": "Action"
        },
        {
         "0": "2015",
         "1": "2000000.0",
         "2": "2600000.0",
         "3": "Family"
        },
        {
         "0": "2015",
         "1": "3.5E7",
         "2": "5.036379E7",
         "3": "Drama"
        },
        {
         "0": "2015",
         "1": "75000.0",
         "2": "93750.0",
         "3": "Science Fiction"
        },
        {
         "0": "2016",
         "1": "8500000.0",
         "2": "1.5861566E7",
         "3": "Drama"
        },
        {
         "0": "2016",
         "1": "4.0E7",
         "2": "3.20170008E8",
         "3": "Horror"
        },
        {
         "0": "2016",
         "1": "5.0E7",
         "2": "5.5969E7",
         "3": "Comedy"
        },
        {
         "0": "2015",
         "1": "2000000.0",
         "2": "2600000.0",
         "3": "Drama"
        },
        {
         "0": "2016",
         "1": "1.4E8",
         "2": "1.50680864E8",
         "3": "Fantasy"
        },
        {
         "0": "2016",
         "1": "2000000.0",
         "2": "2600000.0",
         "3": "Drama"
        },
        {
         "0": "2015",
         "1": "1.0E7",
         "2": "5.2882018E7",
         "3": "Horror"
        },
        {
         "0": "2015",
         "1": "2000000.0",
         "2": "2600000.0",
         "3": "Thriller"
        },
        {
         "0": "2015",
         "1": "1.1E7",
         "2": "6.1619773E7",
         "3": "Drama"
        },
        {
         "0": "2015",
         "1": "2.0E7",
         "2": "2.5E7",
         "3": "Drama"
        },
        {
         "0": "2016",
         "1": "1.15E7",
         "2": "9.4073028E7",
         "3": "Comedy"
        },
        {
         "0": "2015",
         "1": "2500000.0",
         "2": "3125000.0",
         "3": "Crime"
        },
        {
         "0": "2016",
         "1": "1.78E8",
         "2": "5.43934787E8",
         "3": "Science Fiction"
        },
        {
         "0": "2016",
         "1": "8000000.0",
         "2": "1.0E7",
         "3": "Drama"
        },
        {
         "0": "2015",
         "1": "2.0E7",
         "2": "2.5E7",
         "3": "Thriller"
        },
        {
         "0": "2015",
         "1": "5.0E7",
         "2": "2.42786137E8",
         "3": "Comedy"
        },
        {
         "0": "2015",
         "1": "3.5E7",
         "2": "1.4431253E7",
         "3": "Comedy"
        },
        {
         "0": "2016",
         "1": "2000000.0",
         "2": "2600000.0",
         "3": "Drama"
        },
        {
         "0": "2015",
         "1": "2.0E7",
         "2": "3.6606743E7",
         "3": "Drama"
        },
        {
         "0": "2015",
         "1": "6.8E7",
         "2": "2.17022588E8",
         "3": "Comedy"
        },
        {
         "0": "2016",
         "1": "2.7E7",
         "2": "9.3282604E7",
         "3": "Thriller"
        },
        {
         "0": "2015",
         "1": "4.0E7",
         "2": "1.11811453E8",
         "3": "Comedy"
        },
        {
         "0": "2015",
         "1": "50000.0",
         "2": "62500.0",
         "3": "Documentary"
        },
        {
         "0": "2015",
         "1": "4000000.0",
         "2": "5.2425855E7",
         "3": "Thriller"
        },
        {
         "0": "2015",
         "1": "3.5E7",
         "2": "1.40795793E8",
         "3": "Comedy"
        },
        {
         "0": "2016",
         "1": "2000000.0",
         "2": "2600000.0",
         "3": "Horror"
        },
        {
         "0": "2016",
         "1": "1.85E7",
         "2": "6490401.0",
         "3": "Drama"
        },
        {
         "0": "2015",
         "1": "5000000.0",
         "2": "4842699.0",
         "3": "Drama"
        },
        {
         "0": "2015",
         "1": "3500000.0",
         "2": "4375000.0",
         "3": "Documentary"
        },
        {
         "0": "2015",
         "1": "1.9E8",
         "2": "1.50624936E9",
         "3": "Action"
        },
        {
         "0": "2015",
         "1": "3.5E7",
         "2": "1.94564672E8",
         "3": "Comedy"
        },
        {
         "0": "2015",
         "1": "1900000.0",
         "2": "2375000.0",
         "3": "Drama"
        },
        {
         "0": "2016",
         "1": "3.5E7",
         "2": "1.08758521E8",
         "3": "Comedy"
        },
        {
         "0": "2015",
         "1": "2000000.0",
         "2": "2600000.0",
         "3": "Documentary"
        },
        {
         "0": "2015",
         "1": "3.1E7",
         "2": "1.04384188E8",
         "3": "Comedy"
        },
        {
         "0": "2015",
         "1": "3.7E7",
         "2": "1.73567581E8",
         "3": "Drama"
        },
        {
         "0": "2015",
         "1": "7500000.0",
         "2": "9375000.0",
         "3": "Action"
        },
        {
         "0": "2016",
         "1": "2000000.0",
         "2": "2600000.0",
         "3": "Drama"
        },
        {
         "0": "2015",
         "1": "2000000.0",
         "2": "2600000.0",
         "3": "Western"
        },
        {
         "0": "2016",
         "1": "1.6E7",
         "2": "7.7E7",
         "3": "Drama"
        },
        {
         "0": "2016",
         "1": "2000000.0",
         "2": "2600000.0",
         "3": "Horror"
        },
        {
         "0": "2016",
         "1": "2000000.0",
         "2": "2600000.0",
         "3": "Family"
        },
        {
         "0": "2015",
         "1": "2000000.0",
         "2": "2600000.0",
         "3": "Documentary"
        },
        {
         "0": "2015",
         "1": "9.9E7",
         "2": "2.46233113E8",
         "3": "Animation"
        },
        {
         "0": "2015",
         "1": "1200000.0",
         "2": "1500000.0",
         "3": "Drama"
        },
        {
         "0": "2015",
         "1": "1500000.0",
         "2": "1875000.0",
         "3": "Comedy"
        }
       ],
       "schema": [
        {
         "key": "0",
         "name": "year_release_date",
         "type": "int"
        },
        {
         "key": "1",
         "name": "budget",
         "type": "double"
        },
        {
         "key": "2",
         "name": "revenue",
         "type": "double"
        },
        {
         "key": "3",
         "name": "genre_name",
         "type": "string"
        }
       ],
       "truncated": false
      },
      "wranglerEntryContext": {
       "candidateVariableNames": [
        "df_movie_full"
       ],
       "dataframeType": "pyspark"
      }
     },
     "type": "Synapse.DataFrame"
    },
    "f4a0394c-e785-4d8f-93e5-64ad61cb43a6": {
     "persist_state": {
      "view": {
       "chartOptions": {
        "aggregationType": "sum",
        "binsNumber": 10,
        "categoryFieldKeys": [],
        "chartType": "bar",
        "isStacked": false,
        "seriesFieldKeys": [],
        "wordFrequency": "-1"
       },
       "tableOptions": {},
       "type": "details",
       "viewOptionsGroup": [
        {
         "tabItems": [
          {
           "key": "0",
           "name": "Table",
           "options": {},
           "type": "table"
          }
         ]
        }
       ]
      }
     },
     "sync_state": {
      "isSummary": false,
      "language": "scala",
      "table": {
       "rows": [
        {
         "0": "2015",
         "1": "Adventure",
         "2": "3.312000003E9",
         "3": "1.1310253623E10",
         "4": "1"
        },
        {
         "0": "2015",
         "1": "Action",
         "2": "2.923400003E9",
         "3": "1.0589692656E10",
         "4": "2"
        },
        {
         "0": "2015",
         "1": "Science Fiction",
         "2": "2.145925003E9",
         "3": "7.313836414E9",
         "4": "3"
        },
        {
         "0": "2015",
         "1": "Drama",
         "2": "1.9552E9",
         "3": "6.478183286E9",
         "4": "4"
        },
        {
         "0": "2015",
         "1": "Thriller",
         "2": "1.73115E9",
         "3": "6.443202308E9",
         "4": "5"
        },
        {
         "0": "2015",
         "1": "Comedy",
         "2": "1.6232E9",
         "3": "6.131404237E9",
         "4": "6"
        },
        {
         "0": "2015",
         "1": "Family",
         "2": "1.23135E9",
         "3": "4.567419272E9",
         "4": "7"
        },
        {
         "0": "2015",
         "1": "Crime",
         "2": "9.268E8",
         "3": "1.961292814E9",
         "4": "8"
        },
        {
         "0": "2015",
         "1": "Animation",
         "2": "8.96E8",
         "3": "3.864623929E9",
         "4": "9"
        },
        {
         "0": "2015",
         "1": "Fantasy",
         "2": "7.52000003E8",
         "3": "1.599081546E9",
         "4": "10"
        },
        {
         "0": "2015",
         "1": "Mystery",
         "2": "4.72E8",
         "3": "7.2315784E8",
         "4": "11"
        },
        {
         "0": "2015",
         "1": "Romance",
         "2": "4.066E8",
         "3": "1.714859553E9",
         "4": "12"
        },
        {
         "0": "2015",
         "1": "Western",
         "2": "2.56E8",
         "3": "7.8526062E8",
         "4": "13"
        },
        {
         "0": "2015",
         "1": "History",
         "2": "2.17E8",
         "3": "3.44111827E8",
         "4": "14"
        },
        {
         "0": "2015",
         "1": "Horror",
         "2": "1.8235E8",
         "3": "7.26501029E8",
         "4": "15"
        },
        {
         "0": "2015",
         "1": "Music",
         "2": "9.372236E7",
         "3": "6.41115034E8",
         "4": "16"
        },
        {
         "0": "2015",
         "1": "War",
         "2": "6.0E7",
         "3": "1.06420319E8",
         "4": "17"
        },
        {
         "0": "2015",
         "1": "Documentary",
         "2": "1.072236E7",
         "3": "1.370295E7",
         "4": "18"
        },
        {
         "0": "2016",
         "1": "Action",
         "2": "2.5085E9",
         "3": "7.483476635E9",
         "4": "1"
        },
        {
         "0": "2016",
         "1": "Adventure",
         "2": "2.35E9",
         "3": "7.639395987E9",
         "4": "2"
        },
        {
         "0": "2016",
         "1": "Fantasy",
         "2": "1.408E9",
         "3": "4.117983742E9",
         "4": "3"
        },
        {
         "0": "2016",
         "1": "Science Fiction",
         "2": "1.12E9",
         "3": "3.472008555E9",
         "4": "4"
        },
        {
         "0": "2016",
         "1": "Drama",
         "2": "8.7125E8",
         "3": "2.124354463E9",
         "4": "5"
        },
        {
         "0": "2016",
         "1": "Comedy",
         "2": "8.655E8",
         "3": "2.986433856E9",
         "4": "6"
        },
        {
         "0": "2016",
         "1": "Thriller",
         "2": "6.6715E8",
         "3": "1.724250616E9",
         "4": "7"
        },
        {
         "0": "2016",
         "1": "Family",
         "2": "5.5E8",
         "3": "2.613452629E9",
         "4": "8"
        },
        {
         "0": "2016",
         "1": "Crime",
         "2": "4.0375E8",
         "3": "1.424057773E9",
         "4": "9"
        },
        {
         "0": "2016",
         "1": "Horror",
         "2": "1.894E8",
         "3": "8.35561252E8",
         "4": "10"
        },
        {
         "0": "2016",
         "1": "History",
         "2": "1.845E8",
         "3": "1.7854641E8",
         "4": "11"
        },
        {
         "0": "2016",
         "1": "Animation",
         "2": "1.67E8",
         "3": "1.366490468E9",
         "4": "12"
        },
        {
         "0": "2016",
         "1": "Mystery",
         "2": "1.455E8",
         "3": "5.86868615E8",
         "4": "13"
        },
        {
         "0": "2016",
         "1": "Romance",
         "2": "1.32E8",
         "3": "4.57150966E8",
         "4": "14"
        },
        {
         "0": "2016",
         "1": "War",
         "2": "1.0E8",
         "3": "9.444732E7",
         "4": "15"
        },
        {
         "0": "2016",
         "1": "Western",
         "2": "2.5E7",
         "3": "1397284.0",
         "4": "16"
        },
        {
         "0": "2016",
         "1": "Music",
         "2": "2000000.0",
         "3": "2600000.0",
         "4": "17"
        },
        {
         "0": "2017",
         "1": "Comedy",
         "2": "2000000.0",
         "3": "2600000.0",
         "4": "1"
        },
        {
         "0": "2017",
         "1": "Family",
         "2": "2000000.0",
         "3": "2600000.0",
         "4": "1"
        },
        {
         "0": "2017",
         "1": "Drama",
         "2": "2000000.0",
         "3": "2600000.0",
         "4": "1"
        }
       ],
       "schema": [
        {
         "key": "0",
         "name": "year_release_date",
         "type": "int"
        },
        {
         "key": "1",
         "name": "genre_name",
         "type": "string"
        },
        {
         "key": "2",
         "name": "total_budget",
         "type": "double"
        },
        {
         "key": "3",
         "name": "total_revenue",
         "type": "double"
        },
        {
         "key": "4",
         "name": "dense_rank",
         "type": "int"
        }
       ],
       "truncated": false
      },
      "wranglerEntryContext": {
       "candidateVariableNames": [
        "df_final"
       ],
       "dataframeType": "pyspark"
      }
     },
     "type": "Synapse.DataFrame"
    }
   },
   "version": "0.1"
  }
 },
 "nbformat": 4,
 "nbformat_minor": 0
}
