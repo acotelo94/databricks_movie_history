{
 "cells": [
  {
   "cell_type": "markdown",
   "metadata": {
    "application/vnd.databricks.v1+cell": {
     "cellMetadata": {
      "byteLimit": 2048000,
      "rowLimit": 10000
     },
     "inputWidgets": {},
     "nuid": "b2b3caef-4da9-493c-8721-078d4519bb56",
     "showTitle": false,
     "tableResultSettingsMap": {},
     "title": ""
    },
    "nteract": {
     "transient": {
      "deleting": false
     }
    }
   },
   "source": [
    "#### Generación de tabla \"results_movie_genre_language\"\n"
   ]
  },
  {
   "cell_type": "markdown",
   "metadata": {
    "application/vnd.databricks.v1+cell": {
     "cellMetadata": {
      "byteLimit": 2048000,
      "rowLimit": 10000
     },
     "inputWidgets": {},
     "nuid": "65ddaaea-4aaf-4fc2-b4c3-1213fdd93058",
     "showTitle": false,
     "tableResultSettingsMap": {},
     "title": ""
    }
   },
   "source": [
    "##### Librerías"
   ]
  },
  {
   "cell_type": "code",
   "execution_count": 0,
   "metadata": {
    "application/vnd.databricks.v1+cell": {
     "cellMetadata": {
      "byteLimit": 2048000,
      "rowLimit": 10000
     },
     "inputWidgets": {},
     "nuid": "84e8dc90-5c32-4782-9639-13867618e8a5",
     "showTitle": false,
     "tableResultSettingsMap": {},
     "title": ""
    }
   },
   "outputs": [],
   "source": [
    "dbutils.widgets.text(\"file_date\",\"2024-12-30\")\n",
    "file_date = dbutils.widgets.get(\"file_date\")"
   ]
  },
  {
   "cell_type": "code",
   "execution_count": 0,
   "metadata": {
    "application/vnd.databricks.v1+cell": {
     "cellMetadata": {
      "byteLimit": 2048000,
      "rowLimit": 10000
     },
     "inputWidgets": {},
     "nuid": "0517917a-92c1-4dc0-bc6d-9cc68eedf1bf",
     "showTitle": false,
     "tableResultSettingsMap": {},
     "title": ""
    }
   },
   "outputs": [],
   "source": [
    "from pyspark.sql.functions import current_timestamp,lit"
   ]
  },
  {
   "cell_type": "code",
   "execution_count": 0,
   "metadata": {
    "application/vnd.databricks.v1+cell": {
     "cellMetadata": {
      "byteLimit": 2048000,
      "rowLimit": 10000
     },
     "inputWidgets": {},
     "nuid": "b361ccf1-69b0-4c1d-bb5e-3f3f7ef53ac1",
     "showTitle": false,
     "tableResultSettingsMap": {},
     "title": ""
    },
    "microsoft": {
     "language": "python",
     "language_group": "synapse_pyspark"
    }
   },
   "outputs": [],
   "source": [
    "%run \"../includes/configuration\""
   ]
  },
  {
   "cell_type": "code",
   "execution_count": 0,
   "metadata": {
    "application/vnd.databricks.v1+cell": {
     "cellMetadata": {
      "byteLimit": 2048000,
      "rowLimit": 10000
     },
     "inputWidgets": {},
     "nuid": "ca94fb52-e0e1-4681-bf28-096cd11a9227",
     "showTitle": false,
     "tableResultSettingsMap": {},
     "title": ""
    }
   },
   "outputs": [],
   "source": [
    "%run \"../includes/common_functions\""
   ]
  },
  {
   "cell_type": "markdown",
   "metadata": {
    "application/vnd.databricks.v1+cell": {
     "cellMetadata": {
      "byteLimit": 2048000,
      "rowLimit": 10000
     },
     "inputWidgets": {},
     "nuid": "c4a53343-35f0-4134-994b-0f8c93f839ab",
     "showTitle": false,
     "tableResultSettingsMap": {},
     "title": ""
    },
    "microsoft": {
     "language": "python",
     "language_group": "synapse_pyspark"
    },
    "nteract": {
     "transient": {
      "deleting": false
     }
    }
   },
   "source": [
    "##### Obtener datos (Silver)"
   ]
  },
  {
   "cell_type": "code",
   "execution_count": 0,
   "metadata": {
    "application/vnd.databricks.v1+cell": {
     "cellMetadata": {
      "byteLimit": 2048000,
      "rowLimit": 10000
     },
     "inputWidgets": {},
     "nuid": "6805b121-d5cc-4c90-aef1-8fbd23f01f0e",
     "showTitle": false,
     "tableResultSettingsMap": {},
     "title": ""
    },
    "microsoft": {
     "language": "python",
     "language_group": "synapse_pyspark"
    }
   },
   "outputs": [],
   "source": [
    "df_genre = spark.read.format(\"delta\").load(f\"{silver_folder_path}/genres\")\n",
    "df_language = spark.read.format(\"delta\").load(f\"{silver_folder_path}/languages\")\n",
    "df_movie = spark.read.format(\"delta\").load(f\"{silver_folder_path}/movies\").filter(f\"file_date = '{file_date}'\")\n",
    "df_movie_language = spark.read.format(\"delta\").load(f\"{silver_folder_path}/movies_languages\").filter(f\"file_date = '{file_date}'\")\n",
    "df_movie_genre = spark.read.format(\"delta\").load(f\"{silver_folder_path}/movie_genres\").filter(f\"file_date = '{file_date}'\")"
   ]
  },
  {
   "cell_type": "code",
   "execution_count": 0,
   "metadata": {
    "application/vnd.databricks.v1+cell": {
     "cellMetadata": {
      "byteLimit": 2048000,
      "rowLimit": 10000
     },
     "inputWidgets": {},
     "nuid": "c58cfe62-0ab9-4df2-8868-56ab39f4401e",
     "showTitle": false,
     "tableResultSettingsMap": {},
     "title": ""
    },
    "microsoft": {
     "language": "python",
     "language_group": "synapse_pyspark"
    }
   },
   "outputs": [],
   "source": [
    "df_movie_languages = df_movie_language.join(df_language,df_movie_language.language_id==df_language.language_id).select(df_movie_language.movie_id,df_language.language_name,df_language.language_id)\n",
    "df_movie_genres = df_movie_genre.join(df_genre,df_movie_genre.genre_id==df_genre.genre_id).select(df_movie_genre.movie_id,df_genre.genre_name,df_genre.genre_id)"
   ]
  },
  {
   "cell_type": "code",
   "execution_count": 0,
   "metadata": {
    "application/vnd.databricks.v1+cell": {
     "cellMetadata": {
      "byteLimit": 2048000,
      "rowLimit": 10000
     },
     "inputWidgets": {},
     "nuid": "e65d7f51-99bd-4d6d-8b57-ccca8f819d44",
     "showTitle": false,
     "tableResultSettingsMap": {},
     "title": ""
    },
    "microsoft": {
     "language": "python",
     "language_group": "synapse_pyspark"
    }
   },
   "outputs": [],
   "source": [
    "df_results_movie_genre_language =  df_movie.join(df_movie_languages,df_movie.movie_id==df_movie_languages.movie_id) \\\n",
    "                                          .join(df_movie_genres,df_movie.movie_id==df_movie_genres.movie_id) \\\n",
    "                                          .select(df_movie.movie_id,df_movie_languages.language_id,df_movie_genres.genre_id,df_movie.title,df_movie.duration_time,df_movie.release_date,df_movie.vote_average,df_movie_languages.language_name,df_movie_genres.genre_name) \\\n",
    "                                          .withColumn(\"created_date\",lit(file_date)) \\\n",
    "                                          .orderBy(df_movie.release_date.desc())"
   ]
  },
  {
   "cell_type": "code",
   "execution_count": 0,
   "metadata": {
    "application/vnd.databricks.v1+cell": {
     "cellMetadata": {
      "byteLimit": 2048000,
      "rowLimit": 10000
     },
     "inputWidgets": {},
     "nuid": "44637d97-62a3-4546-a2d4-589712b3d807",
     "showTitle": false,
     "tableResultSettingsMap": {},
     "title": ""
    },
    "collapsed": false,
    "microsoft": {
     "language": "python",
     "language_group": "synapse_pyspark"
    }
   },
   "outputs": [],
   "source": [
    "display(df_results_movie_genre_language)"
   ]
  },
  {
   "cell_type": "markdown",
   "metadata": {
    "application/vnd.databricks.v1+cell": {
     "cellMetadata": {
      "byteLimit": 2048000,
      "rowLimit": 10000
     },
     "inputWidgets": {},
     "nuid": "dc76eb16-4baf-4f6a-b421-795bfb5a2e99",
     "showTitle": false,
     "tableResultSettingsMap": {},
     "title": ""
    },
    "microsoft": {
     "language": "python",
     "language_group": "synapse_pyspark"
    },
    "nteract": {
     "transient": {
      "deleting": false
     }
    }
   },
   "source": [
    "##### Escribir resultado en Gold"
   ]
  },
  {
   "cell_type": "code",
   "execution_count": 0,
   "metadata": {
    "application/vnd.databricks.v1+cell": {
     "cellMetadata": {
      "byteLimit": 2048000,
      "rowLimit": 10000
     },
     "inputWidgets": {},
     "nuid": "ed84c619-0cf3-4b30-8d60-c4ab6adb838b",
     "showTitle": false,
     "tableResultSettingsMap": {},
     "title": ""
    }
   },
   "outputs": [],
   "source": [
    "merge_condition=\"target.movie_id = source.movie_id  AND target.language_id = source.language_id AND target.genre_id = source.genre_id AND target.created_date = source.created_date\"\n",
    "merge_delta_lake(df_results_movie_genre_language,\"movie_gold\",\"results_movie_genre_language\",gold_folder_path,merge_condition,\"created_date\")"
   ]
  },
  {
   "cell_type": "code",
   "execution_count": 0,
   "metadata": {
    "application/vnd.databricks.v1+cell": {
     "cellMetadata": {
      "byteLimit": 2048000,
      "implicitDf": true,
      "rowLimit": 10000
     },
     "inputWidgets": {},
     "nuid": "4880d2dc-2735-4c12-9835-6a57846a42af",
     "showTitle": false,
     "tableResultSettingsMap": {},
     "title": ""
    }
   },
   "outputs": [],
   "source": [
    "%sql\n",
    "SELECT * FROM movie_gold.results_movie_genre_language"
   ]
  }
 ],
 "metadata": {
  "application/vnd.databricks.v1+notebook": {
   "computePreferences": null,
   "dashboards": [],
   "environmentMetadata": null,
   "inputWidgetPreferences": null,
   "language": "python",
   "notebookMetadata": {
    "mostRecentlyExecutedCommandWithImplicitDF": {
     "commandId": 4923321157297524,
     "dataframes": [
      "_sqldf"
     ]
    },
    "pythonIndentUnit": 4
   },
   "notebookName": "01.results_movie_genre_language",
   "widgets": {
    "file_date": {
     "currentValue": "2024-12-16",
     "nuid": "59634777-7085-4c74-a300-b213aeadf96d",
     "typedWidgetInfo": {
      "autoCreated": false,
      "defaultValue": "2024-12-30",
      "label": null,
      "name": "file_date",
      "options": {
       "widgetDisplayType": "Text",
       "validationRegex": null
      },
      "parameterDataType": "String"
     },
     "widgetInfo": {
      "widgetType": "text",
      "defaultValue": "2024-12-30",
      "label": null,
      "name": "file_date",
      "options": {
       "widgetType": "text",
       "autoCreated": null,
       "validationRegex": null
      }
     }
    }
   }
  },
  "dependencies": {
   "lakehouse": {
    "default_lakehouse": "e0a555a2-5ce0-4b01-8214-823621d9d6c6",
    "default_lakehouse_name": "DB_Lakehouse",
    "default_lakehouse_workspace_id": "919018e5-22ad-4706-a9ba-1678e37706b8",
    "known_lakehouses": [
     {
      "id": "e0a555a2-5ce0-4b01-8214-823621d9d6c6"
     }
    ]
   }
  },
  "kernel_info": {
   "name": "synapse_pyspark"
  },
  "kernelspec": {
   "display_name": "Synapse PySpark",
   "language": "Python",
   "name": "synapse_pyspark"
  },
  "language_info": {
   "name": "python"
  },
  "microsoft": {
   "language": "python",
   "language_group": "synapse_pyspark",
   "ms_spell_check": {
    "ms_spell_check_language": "es"
   }
  },
  "nteract": {
   "version": "nteract-front-end@1.0.0"
  },
  "spark_compute": {
   "compute_id": "/trident/default",
   "session_options": {
    "conf": {
     "spark.synapse.nbs.session.timeout": "1200000"
    }
   }
  },
  "synapse_widget": {
   "state": {
    "9b35f765-ade6-4752-a7a5-aff9e8c0c1b7": {
     "persist_state": {
      "view": {
       "chartOptions": {
        "aggregationType": "sum",
        "binsNumber": 10,
        "categoryFieldKeys": [
         "5"
        ],
        "chartType": "bar",
        "evaluatesOverAllRecords": false,
        "isStacked": false,
        "seriesFieldKeys": [
         "1"
        ],
        "wordFrequency": "-1"
       },
       "tableOptions": {},
       "type": "details",
       "viewOptionsGroup": [
        {
         "tabItems": [
          {
           "key": "0",
           "name": "Table",
           "options": {},
           "type": "table"
          }
         ]
        }
       ]
      }
     },
     "sync_state": {
      "isSummary": false,
      "language": "scala",
      "table": {
       "rows": [
        {
         "0": "Growing Up Smith",
         "1": "102",
         "2": "2017-02-03",
         "3": "7.4",
         "4": "English",
         "5": "Drama",
         "6": "2025-05-17 16:20:37.426342"
        },
        {
         "0": "Growing Up Smith",
         "1": "102",
         "2": "2017-02-03",
         "3": "7.4",
         "4": "English",
         "5": "Drama",
         "6": "2025-05-17 16:20:37.426342"
        },
        {
         "0": "Growing Up Smith",
         "1": "102",
         "2": "2017-02-03",
         "3": "7.4",
         "4": "English",
         "5": "Comedy",
         "6": "2025-05-17 16:20:37.426342"
        },
        {
         "0": "Growing Up Smith",
         "1": "102",
         "2": "2017-02-03",
         "3": "7.4",
         "4": "English",
         "5": "Comedy",
         "6": "2025-05-17 16:20:37.426342"
        },
        {
         "0": "Growing Up Smith",
         "1": "102",
         "2": "2017-02-03",
         "3": "7.4",
         "4": "English",
         "5": "Family",
         "6": "2025-05-17 16:20:37.426342"
        },
        {
         "0": "Growing Up Smith",
         "1": "102",
         "2": "2017-02-03",
         "3": "7.4",
         "4": "English",
         "5": "Family",
         "6": "2025-05-17 16:20:37.426342"
        },
        {
         "0": "Two Lovers and a Bear",
         "1": "96",
         "2": "2016-10-02",
         "3": "6.8",
         "4": "English",
         "5": "Drama",
         "6": "2025-05-17 16:20:37.426342"
        },
        {
         "0": "Two Lovers and a Bear",
         "1": "96",
         "2": "2016-10-02",
         "3": "6.8",
         "4": "English",
         "5": "Drama",
         "6": "2025-05-17 16:20:37.426342"
        },
        {
         "0": "Two Lovers and a Bear",
         "1": "96",
         "2": "2016-10-02",
         "3": "6.8",
         "4": "English",
         "5": "Romance",
         "6": "2025-05-17 16:20:37.426342"
        },
        {
         "0": "Two Lovers and a Bear",
         "1": "96",
         "2": "2016-10-02",
         "3": "6.8",
         "4": "English",
         "5": "Romance",
         "6": "2025-05-17 16:20:37.426342"
        },
        {
         "0": "Mr. Church",
         "1": "104",
         "2": "2016-09-16",
         "3": "7.0",
         "4": "English",
         "5": "Drama",
         "6": "2025-05-17 16:20:37.426342"
        },
        {
         "0": "Mr. Church",
         "1": "104",
         "2": "2016-09-16",
         "3": "7.0",
         "4": "English",
         "5": "Drama",
         "6": "2025-05-17 16:20:37.426342"
        },
        {
         "0": "Kicks",
         "1": "80",
         "2": "2016-09-09",
         "3": "7.5",
         "4": "English",
         "5": "Adventure",
         "6": "2025-05-17 16:20:37.426342"
        },
        {
         "0": "Kicks",
         "1": "80",
         "2": "2016-09-09",
         "3": "7.5",
         "4": "English",
         "5": "Adventure",
         "6": "2025-05-17 16:20:37.426342"
        },
        {
         "0": "The Birth of a Nation",
         "1": "120",
         "2": "2016-09-09",
         "3": "6.5",
         "4": "English",
         "5": "Drama",
         "6": "2025-05-17 16:20:37.426342"
        },
        {
         "0": "The Birth of a Nation",
         "1": "120",
         "2": "2016-09-09",
         "3": "6.5",
         "4": "English",
         "5": "Drama",
         "6": "2025-05-17 16:20:37.426342"
        },
        {
         "0": "Antibirth",
         "1": "94",
         "2": "2016-09-02",
         "3": "4.8",
         "4": "English",
         "5": "Horror",
         "6": "2025-05-17 16:20:37.426342"
        },
        {
         "0": "Antibirth",
         "1": "94",
         "2": "2016-09-02",
         "3": "4.8",
         "4": "English",
         "5": "Horror",
         "6": "2025-05-17 16:20:37.426342"
        },
        {
         "0": "Hands of Stone",
         "1": "105",
         "2": "2016-08-26",
         "3": "6.1",
         "4": "Español",
         "5": "Drama",
         "6": "2025-05-17 16:20:37.426342"
        },
        {
         "0": "Hands of Stone",
         "1": "105",
         "2": "2016-08-26",
         "3": "6.1",
         "4": "English",
         "5": "Drama",
         "6": "2025-05-17 16:20:37.426342"
        },
        {
         "0": "Hands of Stone",
         "1": "105",
         "2": "2016-08-26",
         "3": "6.1",
         "4": "English",
         "5": "Drama",
         "6": "2025-05-17 16:20:37.426342"
        },
        {
         "0": "Ben-Hur",
         "1": "125",
         "2": "2016-08-17",
         "3": "5.3",
         "4": "English",
         "5": "Drama",
         "6": "2025-05-17 16:20:37.426342"
        },
        {
         "0": "Ben-Hur",
         "1": "125",
         "2": "2016-08-17",
         "3": "5.3",
         "4": "English",
         "5": "Drama",
         "6": "2025-05-17 16:20:37.426342"
        },
        {
         "0": "Pete's Dragon",
         "1": "102",
         "2": "2016-08-10",
         "3": "6.2",
         "4": "English",
         "5": "Adventure",
         "6": "2025-05-17 16:20:37.426342"
        },
        {
         "0": "Pete's Dragon",
         "1": "102",
         "2": "2016-08-10",
         "3": "6.2",
         "4": "English",
         "5": "Adventure",
         "6": "2025-05-17 16:20:37.426342"
        },
        {
         "0": "Pete's Dragon",
         "1": "102",
         "2": "2016-08-10",
         "3": "6.2",
         "4": "English",
         "5": "Fantasy",
         "6": "2025-05-17 16:20:37.426342"
        },
        {
         "0": "Pete's Dragon",
         "1": "102",
         "2": "2016-08-10",
         "3": "6.2",
         "4": "English",
         "5": "Fantasy",
         "6": "2025-05-17 16:20:37.426342"
        },
        {
         "0": "Pete's Dragon",
         "1": "102",
         "2": "2016-08-10",
         "3": "6.2",
         "4": "English",
         "5": "Family",
         "6": "2025-05-17 16:20:37.426342"
        },
        {
         "0": "Pete's Dragon",
         "1": "102",
         "2": "2016-08-10",
         "3": "6.2",
         "4": "English",
         "5": "Family",
         "6": "2025-05-17 16:20:37.426342"
        },
        {
         "0": "Suicide Squad",
         "1": "123",
         "2": "2016-08-02",
         "3": "5.9",
         "4": "English",
         "5": "Adventure",
         "6": "2025-05-17 16:20:37.426342"
        },
        {
         "0": "Suicide Squad",
         "1": "123",
         "2": "2016-08-02",
         "3": "5.9",
         "4": "English",
         "5": "Adventure",
         "6": "2025-05-17 16:20:37.426342"
        },
        {
         "0": "Suicide Squad",
         "1": "123",
         "2": "2016-08-02",
         "3": "5.9",
         "4": "English",
         "5": "Fantasy",
         "6": "2025-05-17 16:20:37.426342"
        },
        {
         "0": "Suicide Squad",
         "1": "123",
         "2": "2016-08-02",
         "3": "5.9",
         "4": "English",
         "5": "Fantasy",
         "6": "2025-05-17 16:20:37.426342"
        },
        {
         "0": "Suicide Squad",
         "1": "123",
         "2": "2016-08-02",
         "3": "5.9",
         "4": "English",
         "5": "Action",
         "6": "2025-05-17 16:20:37.426342"
        },
        {
         "0": "Suicide Squad",
         "1": "123",
         "2": "2016-08-02",
         "3": "5.9",
         "4": "English",
         "5": "Action",
         "6": "2025-05-17 16:20:37.426342"
        },
        {
         "0": "Suicide Squad",
         "1": "123",
         "2": "2016-08-02",
         "3": "5.9",
         "4": "English",
         "5": "Crime",
         "6": "2025-05-17 16:20:37.426342"
        },
        {
         "0": "Suicide Squad",
         "1": "123",
         "2": "2016-08-02",
         "3": "5.9",
         "4": "English",
         "5": "Crime",
         "6": "2025-05-17 16:20:37.426342"
        },
        {
         "0": "Suicide Squad",
         "1": "123",
         "2": "2016-08-02",
         "3": "5.9",
         "4": "English",
         "5": "Science Fiction",
         "6": "2025-05-17 16:20:37.426342"
        },
        {
         "0": "Suicide Squad",
         "1": "123",
         "2": "2016-08-02",
         "3": "5.9",
         "4": "English",
         "5": "Science Fiction",
         "6": "2025-05-17 16:20:37.426342"
        },
        {
         "0": "Indignation",
         "1": "110",
         "2": "2016-07-29",
         "3": "6.8",
         "4": "English",
         "5": "Drama",
         "6": "2025-05-17 16:20:37.426342"
        },
        {
         "0": "Indignation",
         "1": "110",
         "2": "2016-07-29",
         "3": "6.8",
         "4": "English",
         "5": "Drama",
         "6": "2025-05-17 16:20:37.426342"
        },
        {
         "0": "Bad Moms",
         "1": "100",
         "2": "2016-07-28",
         "3": "6.3",
         "4": "English",
         "5": "Comedy",
         "6": "2025-05-17 16:20:37.426342"
        },
        {
         "0": "Bad Moms",
         "1": "100",
         "2": "2016-07-28",
         "3": "6.3",
         "4": "English",
         "5": "Comedy",
         "6": "2025-05-17 16:20:37.426342"
        },
        {
         "0": "Bad Moms",
         "1": "100",
         "2": "2016-07-28",
         "3": "6.3",
         "4": "Russkii âzyk",
         "5": "Comedy",
         "6": "2025-05-17 16:20:37.426342"
        },
        {
         "0": "Nerve",
         "1": "96",
         "2": "2016-07-27",
         "3": "7.1",
         "4": "English",
         "5": "Adventure",
         "6": "2025-05-17 16:20:37.426342"
        },
        {
         "0": "Nerve",
         "1": "96",
         "2": "2016-07-27",
         "3": "7.1",
         "4": "English",
         "5": "Adventure",
         "6": "2025-05-17 16:20:37.426342"
        },
        {
         "0": "Nerve",
         "1": "96",
         "2": "2016-07-27",
         "3": "7.1",
         "4": "English",
         "5": "Crime",
         "6": "2025-05-17 16:20:37.426342"
        },
        {
         "0": "Nerve",
         "1": "96",
         "2": "2016-07-27",
         "3": "7.1",
         "4": "English",
         "5": "Crime",
         "6": "2025-05-17 16:20:37.426342"
        },
        {
         "0": "Nerve",
         "1": "96",
         "2": "2016-07-27",
         "3": "7.1",
         "4": "English",
         "5": "Mystery",
         "6": "2025-05-17 16:20:37.426342"
        },
        {
         "0": "Nerve",
         "1": "96",
         "2": "2016-07-27",
         "3": "7.1",
         "4": "English",
         "5": "Mystery",
         "6": "2025-05-17 16:20:37.426342"
        },
        {
         "0": "Jason Bourne",
         "1": "123",
         "2": "2016-07-27",
         "3": "5.9",
         "4": "English",
         "5": "Action",
         "6": "2025-05-17 16:20:37.426342"
        },
        {
         "0": "Jason Bourne",
         "1": "123",
         "2": "2016-07-27",
         "3": "5.9",
         "4": "English",
         "5": "Action",
         "6": "2025-05-17 16:20:37.426342"
        },
        {
         "0": "Jason Bourne",
         "1": "123",
         "2": "2016-07-27",
         "3": "5.9",
         "4": "English",
         "5": "Thriller",
         "6": "2025-05-17 16:20:37.426342"
        },
        {
         "0": "Jason Bourne",
         "1": "123",
         "2": "2016-07-27",
         "3": "5.9",
         "4": "English",
         "5": "Thriller",
         "6": "2025-05-17 16:20:37.426342"
        },
        {
         "0": "Lights Out",
         "1": "81",
         "2": "2016-07-21",
         "3": "6.3",
         "4": "English",
         "5": "Horror",
         "6": "2025-05-17 16:20:37.426342"
        },
        {
         "0": "Lights Out",
         "1": "81",
         "2": "2016-07-21",
         "3": "6.3",
         "4": "English",
         "5": "Horror",
         "6": "2025-05-17 16:20:37.426342"
        },
        {
         "0": "Lights Out",
         "1": "81",
         "2": "2016-07-21",
         "3": "6.3",
         "4": "English",
         "5": "Thriller",
         "6": "2025-05-17 16:20:37.426342"
        },
        {
         "0": "Lights Out",
         "1": "81",
         "2": "2016-07-21",
         "3": "6.3",
         "4": "English",
         "5": "Thriller",
         "6": "2025-05-17 16:20:37.426342"
        },
        {
         "0": "Ghostbusters",
         "1": "116",
         "2": "2016-07-14",
         "3": "5.3",
         "4": "English",
         "5": "Fantasy",
         "6": "2025-05-17 16:20:37.426342"
        },
        {
         "0": "Ghostbusters",
         "1": "116",
         "2": "2016-07-14",
         "3": "5.3",
         "4": "English",
         "5": "Fantasy",
         "6": "2025-05-17 16:20:37.426342"
        },
        {
         "0": "Ghostbusters",
         "1": "116",
         "2": "2016-07-14",
         "3": "5.3",
         "4": "English",
         "5": "Action",
         "6": "2025-05-17 16:20:37.426342"
        },
        {
         "0": "Ghostbusters",
         "1": "116",
         "2": "2016-07-14",
         "3": "5.3",
         "4": "English",
         "5": "Action",
         "6": "2025-05-17 16:20:37.426342"
        },
        {
         "0": "Ghostbusters",
         "1": "116",
         "2": "2016-07-14",
         "3": "5.3",
         "4": "English",
         "5": "Comedy",
         "6": "2025-05-17 16:20:37.426342"
        },
        {
         "0": "Ghostbusters",
         "1": "116",
         "2": "2016-07-14",
         "3": "5.3",
         "4": "English",
         "5": "Comedy",
         "6": "2025-05-17 16:20:37.426342"
        },
        {
         "0": "Kickboxer: Vengeance",
         "1": "90",
         "2": "2016-07-14",
         "3": "4.5",
         "4": "English",
         "5": "Drama",
         "6": "2025-05-17 16:20:37.426342"
        },
        {
         "0": "Kickboxer: Vengeance",
         "1": "90",
         "2": "2016-07-14",
         "3": "4.5",
         "4": "Phasa Thai",
         "5": "Drama",
         "6": "2025-05-17 16:20:37.426342"
        },
        {
         "0": "Kickboxer: Vengeance",
         "1": "90",
         "2": "2016-07-14",
         "3": "4.5",
         "4": "English",
         "5": "Drama",
         "6": "2025-05-17 16:20:37.426342"
        },
        {
         "0": "Kickboxer: Vengeance",
         "1": "90",
         "2": "2016-07-14",
         "3": "4.5",
         "4": "English",
         "5": "Action",
         "6": "2025-05-17 16:20:37.426342"
        },
        {
         "0": "Kickboxer: Vengeance",
         "1": "90",
         "2": "2016-07-14",
         "3": "4.5",
         "4": "Phasa Thai",
         "5": "Action",
         "6": "2025-05-17 16:20:37.426342"
        },
        {
         "0": "Kickboxer: Vengeance",
         "1": "90",
         "2": "2016-07-14",
         "3": "4.5",
         "4": "English",
         "5": "Action",
         "6": "2025-05-17 16:20:37.426342"
        },
        {
         "0": "The Infiltrator",
         "1": "127",
         "2": "2016-07-13",
         "3": "6.6",
         "4": "Español",
         "5": "Drama",
         "6": "2025-05-17 16:20:37.426342"
        },
        {
         "0": "The Infiltrator",
         "1": "127",
         "2": "2016-07-13",
         "3": "6.6",
         "4": "English",
         "5": "Drama",
         "6": "2025-05-17 16:20:37.426342"
        },
        {
         "0": "The Infiltrator",
         "1": "127",
         "2": "2016-07-13",
         "3": "6.6",
         "4": "English",
         "5": "Drama",
         "6": "2025-05-17 16:20:37.426342"
        },
        {
         "0": "The Infiltrator",
         "1": "127",
         "2": "2016-07-13",
         "3": "6.6",
         "4": "Español",
         "5": "Thriller",
         "6": "2025-05-17 16:20:37.426342"
        },
        {
         "0": "The Infiltrator",
         "1": "127",
         "2": "2016-07-13",
         "3": "6.6",
         "4": "English",
         "5": "Thriller",
         "6": "2025-05-17 16:20:37.426342"
        },
        {
         "0": "The Infiltrator",
         "1": "127",
         "2": "2016-07-13",
         "3": "6.6",
         "4": "English",
         "5": "Thriller",
         "6": "2025-05-17 16:20:37.426342"
        },
        {
         "0": "The Infiltrator",
         "1": "127",
         "2": "2016-07-13",
         "3": "6.6",
         "4": "Español",
         "5": "Crime",
         "6": "2025-05-17 16:20:37.426342"
        },
        {
         "0": "The Infiltrator",
         "1": "127",
         "2": "2016-07-13",
         "3": "6.6",
         "4": "English",
         "5": "Crime",
         "6": "2025-05-17 16:20:37.426342"
        },
        {
         "0": "The Infiltrator",
         "1": "127",
         "2": "2016-07-13",
         "3": "6.6",
         "4": "English",
         "5": "Crime",
         "6": "2025-05-17 16:20:37.426342"
        },
        {
         "0": "Sausage Party",
         "1": "83",
         "2": "2016-07-11",
         "3": "5.6",
         "4": "English",
         "5": "Adventure",
         "6": "2025-05-17 16:20:37.426342"
        },
        {
         "0": "Sausage Party",
         "1": "83",
         "2": "2016-07-11",
         "3": "5.6",
         "4": "English",
         "5": "Adventure",
         "6": "2025-05-17 16:20:37.426342"
        },
        {
         "0": "Sausage Party",
         "1": "83",
         "2": "2016-07-11",
         "3": "5.6",
         "4": "English",
         "5": "Fantasy",
         "6": "2025-05-17 16:20:37.426342"
        },
        {
         "0": "Sausage Party",
         "1": "83",
         "2": "2016-07-11",
         "3": "5.6",
         "4": "English",
         "5": "Fantasy",
         "6": "2025-05-17 16:20:37.426342"
        },
        {
         "0": "Sausage Party",
         "1": "83",
         "2": "2016-07-11",
         "3": "5.6",
         "4": "English",
         "5": "Animation",
         "6": "2025-05-17 16:20:37.426342"
        },
        {
         "0": "Sausage Party",
         "1": "83",
         "2": "2016-07-11",
         "3": "5.6",
         "4": "English",
         "5": "Animation",
         "6": "2025-05-17 16:20:37.426342"
        },
        {
         "0": "Sausage Party",
         "1": "83",
         "2": "2016-07-11",
         "3": "5.6",
         "4": "English",
         "5": "Comedy",
         "6": "2025-05-17 16:20:37.426342"
        },
        {
         "0": "Sausage Party",
         "1": "83",
         "2": "2016-07-11",
         "3": "5.6",
         "4": "English",
         "5": "Comedy",
         "6": "2025-05-17 16:20:37.426342"
        },
        {
         "0": "The Dog Lover",
         "1": "101",
         "2": "2016-07-08",
         "3": "5.3",
         "4": "English",
         "5": "Drama",
         "6": "2025-05-17 16:20:37.426342"
        },
        {
         "0": "The Dog Lover",
         "1": "101",
         "2": "2016-07-08",
         "3": "5.3",
         "4": "English",
         "5": "Drama",
         "6": "2025-05-17 16:20:37.426342"
        },
        {
         "0": "Yoga Hosers",
         "1": "88",
         "2": "2016-07-08",
         "3": "4.7",
         "4": "Français",
         "5": "Fantasy",
         "6": "2025-05-17 16:20:37.426342"
        },
        {
         "0": "Yoga Hosers",
         "1": "88",
         "2": "2016-07-08",
         "3": "4.7",
         "4": "Deutsch",
         "5": "Fantasy",
         "6": "2025-05-17 16:20:37.426342"
        },
        {
         "0": "Yoga Hosers",
         "1": "88",
         "2": "2016-07-08",
         "3": "4.7",
         "4": "English",
         "5": "Fantasy",
         "6": "2025-05-17 16:20:37.426342"
        },
        {
         "0": "Yoga Hosers",
         "1": "88",
         "2": "2016-07-08",
         "3": "4.7",
         "4": "English",
         "5": "Fantasy",
         "6": "2025-05-17 16:20:37.426342"
        },
        {
         "0": "Yoga Hosers",
         "1": "88",
         "2": "2016-07-08",
         "3": "4.7",
         "4": "Français",
         "5": "Horror",
         "6": "2025-05-17 16:20:37.426342"
        },
        {
         "0": "Yoga Hosers",
         "1": "88",
         "2": "2016-07-08",
         "3": "4.7",
         "4": "Deutsch",
         "5": "Horror",
         "6": "2025-05-17 16:20:37.426342"
        },
        {
         "0": "Yoga Hosers",
         "1": "88",
         "2": "2016-07-08",
         "3": "4.7",
         "4": "English",
         "5": "Horror",
         "6": "2025-05-17 16:20:37.426342"
        },
        {
         "0": "Yoga Hosers",
         "1": "88",
         "2": "2016-07-08",
         "3": "4.7",
         "4": "English",
         "5": "Horror",
         "6": "2025-05-17 16:20:37.426342"
        },
        {
         "0": "Yoga Hosers",
         "1": "88",
         "2": "2016-07-08",
         "3": "4.7",
         "4": "Français",
         "5": "Comedy",
         "6": "2025-05-17 16:20:37.426342"
        },
        {
         "0": "Yoga Hosers",
         "1": "88",
         "2": "2016-07-08",
         "3": "4.7",
         "4": "Deutsch",
         "5": "Comedy",
         "6": "2025-05-17 16:20:37.426342"
        },
        {
         "0": "Yoga Hosers",
         "1": "88",
         "2": "2016-07-08",
         "3": "4.7",
         "4": "English",
         "5": "Comedy",
         "6": "2025-05-17 16:20:37.426342"
        },
        {
         "0": "Yoga Hosers",
         "1": "88",
         "2": "2016-07-08",
         "3": "4.7",
         "4": "English",
         "5": "Comedy",
         "6": "2025-05-17 16:20:37.426342"
        },
        {
         "0": "Yoga Hosers",
         "1": "88",
         "2": "2016-07-08",
         "3": "4.7",
         "4": "Français",
         "5": "Thriller",
         "6": "2025-05-17 16:20:37.426342"
        },
        {
         "0": "Yoga Hosers",
         "1": "88",
         "2": "2016-07-08",
         "3": "4.7",
         "4": "Deutsch",
         "5": "Thriller",
         "6": "2025-05-17 16:20:37.426342"
        },
        {
         "0": "Yoga Hosers",
         "1": "88",
         "2": "2016-07-08",
         "3": "4.7",
         "4": "English",
         "5": "Thriller",
         "6": "2025-05-17 16:20:37.426342"
        },
        {
         "0": "Yoga Hosers",
         "1": "88",
         "2": "2016-07-08",
         "3": "4.7",
         "4": "English",
         "5": "Thriller",
         "6": "2025-05-17 16:20:37.426342"
        },
        {
         "0": "Star Trek Beyond",
         "1": "122",
         "2": "2016-07-07",
         "3": "6.6",
         "4": "English",
         "5": "Adventure",
         "6": "2025-05-17 16:20:37.426342"
        },
        {
         "0": "Star Trek Beyond",
         "1": "122",
         "2": "2016-07-07",
         "3": "6.6",
         "4": "English",
         "5": "Adventure",
         "6": "2025-05-17 16:20:37.426342"
        },
        {
         "0": "Star Trek Beyond",
         "1": "122",
         "2": "2016-07-07",
         "3": "6.6",
         "4": "English",
         "5": "Action",
         "6": "2025-05-17 16:20:37.426342"
        },
        {
         "0": "Star Trek Beyond",
         "1": "122",
         "2": "2016-07-07",
         "3": "6.6",
         "4": "English",
         "5": "Action",
         "6": "2025-05-17 16:20:37.426342"
        },
        {
         "0": "Star Trek Beyond",
         "1": "122",
         "2": "2016-07-07",
         "3": "6.6",
         "4": "English",
         "5": "Science Fiction",
         "6": "2025-05-17 16:20:37.426342"
        },
        {
         "0": "Star Trek Beyond",
         "1": "122",
         "2": "2016-07-07",
         "3": "6.6",
         "4": "English",
         "5": "Science Fiction",
         "6": "2025-05-17 16:20:37.426342"
        },
        {
         "0": "The Legend of Tarzan",
         "1": "109",
         "2": "2016-06-29",
         "3": "5.5",
         "4": "English",
         "5": "Adventure",
         "6": "2025-05-17 16:20:37.426342"
        },
        {
         "0": "The Legend of Tarzan",
         "1": "109",
         "2": "2016-06-29",
         "3": "5.5",
         "4": "English",
         "5": "Adventure",
         "6": "2025-05-17 16:20:37.426342"
        },
        {
         "0": "The Legend of Tarzan",
         "1": "109",
         "2": "2016-06-29",
         "3": "5.5",
         "4": "English",
         "5": "Action",
         "6": "2025-05-17 16:20:37.426342"
        },
        {
         "0": "The Legend of Tarzan",
         "1": "109",
         "2": "2016-06-29",
         "3": "5.5",
         "4": "English",
         "5": "Action",
         "6": "2025-05-17 16:20:37.426342"
        },
        {
         "0": "The Purge: Election Year",
         "1": "105",
         "2": "2016-06-29",
         "3": "6.1",
         "4": "English",
         "5": "Horror",
         "6": "2025-05-17 16:20:37.426342"
        },
        {
         "0": "The Purge: Election Year",
         "1": "105",
         "2": "2016-06-29",
         "3": "6.1",
         "4": "English",
         "5": "Horror",
         "6": "2025-05-17 16:20:37.426342"
        },
        {
         "0": "The Purge: Election Year",
         "1": "105",
         "2": "2016-06-29",
         "3": "6.1",
         "4": "English",
         "5": "Action",
         "6": "2025-05-17 16:20:37.426342"
        },
        {
         "0": "The Purge: Election Year",
         "1": "105",
         "2": "2016-06-29",
         "3": "6.1",
         "4": "English",
         "5": "Action",
         "6": "2025-05-17 16:20:37.426342"
        },
        {
         "0": "The Purge: Election Year",
         "1": "105",
         "2": "2016-06-29",
         "3": "6.1",
         "4": "English",
         "5": "Thriller",
         "6": "2025-05-17 16:20:37.426342"
        },
        {
         "0": "The Purge: Election Year",
         "1": "105",
         "2": "2016-06-29",
         "3": "6.1",
         "4": "English",
         "5": "Thriller",
         "6": "2025-05-17 16:20:37.426342"
        },
        {
         "0": "The Shallows",
         "1": "86",
         "2": "2016-06-24",
         "3": "6.2",
         "4": "English",
         "5": "Drama",
         "6": "2025-05-17 16:20:37.426342"
        },
        {
         "0": "The Shallows",
         "1": "86",
         "2": "2016-06-24",
         "3": "6.2",
         "4": "English",
         "5": "Drama",
         "6": "2025-05-17 16:20:37.426342"
        },
        {
         "0": "The Shallows",
         "1": "86",
         "2": "2016-06-24",
         "3": "6.2",
         "4": "English",
         "5": "Horror",
         "6": "2025-05-17 16:20:37.426342"
        },
        {
         "0": "The Shallows",
         "1": "86",
         "2": "2016-06-24",
         "3": "6.2",
         "4": "English",
         "5": "Horror",
         "6": "2025-05-17 16:20:37.426342"
        },
        {
         "0": "The Shallows",
         "1": "86",
         "2": "2016-06-24",
         "3": "6.2",
         "4": "English",
         "5": "Thriller",
         "6": "2025-05-17 16:20:37.426342"
        },
        {
         "0": "The Shallows",
         "1": "86",
         "2": "2016-06-24",
         "3": "6.2",
         "4": "English",
         "5": "Thriller",
         "6": "2025-05-17 16:20:37.426342"
        },
        {
         "0": "Free State of Jones",
         "1": "139",
         "2": "2016-06-24",
         "3": "6.6",
         "4": "Deutsch",
         "5": "Drama",
         "6": "2025-05-17 16:20:37.426342"
        },
        {
         "0": "Free State of Jones",
         "1": "139",
         "2": "2016-06-24",
         "3": "6.6",
         "4": "English",
         "5": "Drama",
         "6": "2025-05-17 16:20:37.426342"
        },
        {
         "0": "Free State of Jones",
         "1": "139",
         "2": "2016-06-24",
         "3": "6.6",
         "4": "English",
         "5": "Drama",
         "6": "2025-05-17 16:20:37.426342"
        },
        {
         "0": "Free State of Jones",
         "1": "139",
         "2": "2016-06-24",
         "3": "6.6",
         "4": "Deutsch",
         "5": "Action",
         "6": "2025-05-17 16:20:37.426342"
        },
        {
         "0": "Free State of Jones",
         "1": "139",
         "2": "2016-06-24",
         "3": "6.6",
         "4": "English",
         "5": "Action",
         "6": "2025-05-17 16:20:37.426342"
        },
        {
         "0": "Free State of Jones",
         "1": "139",
         "2": "2016-06-24",
         "3": "6.6",
         "4": "English",
         "5": "Action",
         "6": "2025-05-17 16:20:37.426342"
        },
        {
         "0": "Free State of Jones",
         "1": "139",
         "2": "2016-06-24",
         "3": "6.6",
         "4": "Deutsch",
         "5": "History",
         "6": "2025-05-17 16:20:37.426342"
        },
        {
         "0": "Free State of Jones",
         "1": "139",
         "2": "2016-06-24",
         "3": "6.6",
         "4": "English",
         "5": "History",
         "6": "2025-05-17 16:20:37.426342"
        },
        {
         "0": "Free State of Jones",
         "1": "139",
         "2": "2016-06-24",
         "3": "6.6",
         "4": "English",
         "5": "History",
         "6": "2025-05-17 16:20:37.426342"
        },
        {
         "0": "Free State of Jones",
         "1": "139",
         "2": "2016-06-24",
         "3": "6.6",
         "4": "Deutsch",
         "5": "Thriller",
         "6": "2025-05-17 16:20:37.426342"
        },
        {
         "0": "Free State of Jones",
         "1": "139",
         "2": "2016-06-24",
         "3": "6.6",
         "4": "English",
         "5": "Thriller",
         "6": "2025-05-17 16:20:37.426342"
        },
        {
         "0": "Free State of Jones",
         "1": "139",
         "2": "2016-06-24",
         "3": "6.6",
         "4": "English",
         "5": "Thriller",
         "6": "2025-05-17 16:20:37.426342"
        },
        {
         "0": "Free State of Jones",
         "1": "139",
         "2": "2016-06-24",
         "3": "6.6",
         "4": "Deutsch",
         "5": "War",
         "6": "2025-05-17 16:20:37.426342"
        },
        {
         "0": "Free State of Jones",
         "1": "139",
         "2": "2016-06-24",
         "3": "6.6",
         "4": "English",
         "5": "War",
         "6": "2025-05-17 16:20:37.426342"
        },
        {
         "0": "Free State of Jones",
         "1": "139",
         "2": "2016-06-24",
         "3": "6.6",
         "4": "English",
         "5": "War",
         "6": "2025-05-17 16:20:37.426342"
        },
        {
         "0": "Independence Day: Resurgence",
         "1": "120",
         "2": "2016-06-22",
         "3": "4.9",
         "4": "English",
         "5": "Adventure",
         "6": "2025-05-17 16:20:37.426342"
        },
        {
         "0": "Independence Day: Resurgence",
         "1": "120",
         "2": "2016-06-22",
         "3": "4.9",
         "4": "English",
         "5": "Adventure",
         "6": "2025-05-17 16:20:37.426342"
        },
        {
         "0": "Independence Day: Resurgence",
         "1": "120",
         "2": "2016-06-22",
         "3": "4.9",
         "4": "English",
         "5": "Action",
         "6": "2025-05-17 16:20:37.426342"
        },
        {
         "0": "Independence Day: Resurgence",
         "1": "120",
         "2": "2016-06-22",
         "3": "4.9",
         "4": "English",
         "5": "Action",
         "6": "2025-05-17 16:20:37.426342"
        },
        {
         "0": "Independence Day: Resurgence",
         "1": "120",
         "2": "2016-06-22",
         "3": "4.9",
         "4": "English",
         "5": "Science Fiction",
         "6": "2025-05-17 16:20:37.426342"
        },
        {
         "0": "Independence Day: Resurgence",
         "1": "120",
         "2": "2016-06-22",
         "3": "4.9",
         "4": "English",
         "5": "Science Fiction",
         "6": "2025-05-17 16:20:37.426342"
        },
        {
         "0": "The Secret Life of Pets",
         "1": "87",
         "2": "2016-06-18",
         "3": "5.9",
         "4": "English",
         "5": "Animation",
         "6": "2025-05-17 16:20:37.426342"
        },
        {
         "0": "The Secret Life of Pets",
         "1": "87",
         "2": "2016-06-18",
         "3": "5.9",
         "4": "English",
         "5": "Animation",
         "6": "2025-05-17 16:20:37.426342"
        },
        {
         "0": "The Secret Life of Pets",
         "1": "87",
         "2": "2016-06-18",
         "3": "5.9",
         "4": "English",
         "5": "Family",
         "6": "2025-05-17 16:20:37.426342"
        },
        {
         "0": "The Secret Life of Pets",
         "1": "87",
         "2": "2016-06-18",
         "3": "5.9",
         "4": "English",
         "5": "Family",
         "6": "2025-05-17 16:20:37.426342"
        },
        {
         "0": "Central Intelligence",
         "1": "107",
         "2": "2016-06-15",
         "3": "6.2",
         "4": "English",
         "5": "Action",
         "6": "2025-05-17 16:20:37.426342"
        },
        {
         "0": "Central Intelligence",
         "1": "107",
         "2": "2016-06-15",
         "3": "6.2",
         "4": "English",
         "5": "Action",
         "6": "2025-05-17 16:20:37.426342"
        },
        {
         "0": "Central Intelligence",
         "1": "107",
         "2": "2016-06-15",
         "3": "6.2",
         "4": "English",
         "5": "Comedy",
         "6": "2025-05-17 16:20:37.426342"
        },
        {
         "0": "Central Intelligence",
         "1": "107",
         "2": "2016-06-15",
         "3": "6.2",
         "4": "English",
         "5": "Comedy",
         "6": "2025-05-17 16:20:37.426342"
        },
        {
         "0": "The Neon Demon",
         "1": "117",
         "2": "2016-06-08",
         "3": "6.4",
         "4": "English",
         "5": "Horror",
         "6": "2025-05-17 16:20:37.426342"
        },
        {
         "0": "The Neon Demon",
         "1": "117",
         "2": "2016-06-08",
         "3": "6.4",
         "4": "English",
         "5": "Horror",
         "6": "2025-05-17 16:20:37.426342"
        },
        {
         "0": "The Neon Demon",
         "1": "117",
         "2": "2016-06-08",
         "3": "6.4",
         "4": "English",
         "5": "Thriller",
         "6": "2025-05-17 16:20:37.426342"
        },
        {
         "0": "The Neon Demon",
         "1": "117",
         "2": "2016-06-08",
         "3": "6.4",
         "4": "English",
         "5": "Thriller",
         "6": "2025-05-17 16:20:37.426342"
        },
        {
         "0": "Me Before You",
         "1": "110",
         "2": "2016-06-02",
         "3": "7.6",
         "4": "English",
         "5": "Drama",
         "6": "2025-05-17 16:20:37.426342"
        },
        {
         "0": "Me Before You",
         "1": "110",
         "2": "2016-06-02",
         "3": "7.6",
         "4": "English",
         "5": "Drama",
         "6": "2025-05-17 16:20:37.426342"
        },
        {
         "0": "Me Before You",
         "1": "110",
         "2": "2016-06-02",
         "3": "7.6",
         "4": "English",
         "5": "Romance",
         "6": "2025-05-17 16:20:37.426342"
        },
        {
         "0": "Me Before You",
         "1": "110",
         "2": "2016-06-02",
         "3": "7.6",
         "4": "English",
         "5": "Romance",
         "6": "2025-05-17 16:20:37.426342"
        },
        {
         "0": "Now You See Me 2",
         "1": "129",
         "2": "2016-06-02",
         "3": "6.7",
         "4": "Zhongwén",
         "5": "Adventure",
         "6": "2025-05-17 16:20:37.426342"
        },
        {
         "0": "Now You See Me 2",
         "1": "129",
         "2": "2016-06-02",
         "3": "6.7",
         "4": "English",
         "5": "Adventure",
         "6": "2025-05-17 16:20:37.426342"
        },
        {
         "0": "Now You See Me 2",
         "1": "129",
         "2": "2016-06-02",
         "3": "6.7",
         "4": "English",
         "5": "Adventure",
         "6": "2025-05-17 16:20:37.426342"
        },
        {
         "0": "Now You See Me 2",
         "1": "129",
         "2": "2016-06-02",
         "3": "6.7",
         "4": "Zhongwén",
         "5": "Action",
         "6": "2025-05-17 16:20:37.426342"
        },
        {
         "0": "Now You See Me 2",
         "1": "129",
         "2": "2016-06-02",
         "3": "6.7",
         "4": "English",
         "5": "Action",
         "6": "2025-05-17 16:20:37.426342"
        },
        {
         "0": "Now You See Me 2",
         "1": "129",
         "2": "2016-06-02",
         "3": "6.7",
         "4": "English",
         "5": "Action",
         "6": "2025-05-17 16:20:37.426342"
        },
        {
         "0": "Now You See Me 2",
         "1": "129",
         "2": "2016-06-02",
         "3": "6.7",
         "4": "Zhongwén",
         "5": "Comedy",
         "6": "2025-05-17 16:20:37.426342"
        },
        {
         "0": "Now You See Me 2",
         "1": "129",
         "2": "2016-06-02",
         "3": "6.7",
         "4": "English",
         "5": "Comedy",
         "6": "2025-05-17 16:20:37.426342"
        },
        {
         "0": "Now You See Me 2",
         "1": "129",
         "2": "2016-06-02",
         "3": "6.7",
         "4": "English",
         "5": "Comedy",
         "6": "2025-05-17 16:20:37.426342"
        },
        {
         "0": "Now You See Me 2",
         "1": "129",
         "2": "2016-06-02",
         "3": "6.7",
         "4": "Zhongwén",
         "5": "Thriller",
         "6": "2025-05-17 16:20:37.426342"
        },
        {
         "0": "Now You See Me 2",
         "1": "129",
         "2": "2016-06-02",
         "3": "6.7",
         "4": "English",
         "5": "Thriller",
         "6": "2025-05-17 16:20:37.426342"
        },
        {
         "0": "Now You See Me 2",
         "1": "129",
         "2": "2016-06-02",
         "3": "6.7",
         "4": "English",
         "5": "Thriller",
         "6": "2025-05-17 16:20:37.426342"
        },
        {
         "0": "Now You See Me 2",
         "1": "129",
         "2": "2016-06-02",
         "3": "6.7",
         "4": "Zhongwén",
         "5": "Crime",
         "6": "2025-05-17 16:20:37.426342"
        },
        {
         "0": "Now You See Me 2",
         "1": "129",
         "2": "2016-06-02",
         "3": "6.7",
         "4": "English",
         "5": "Crime",
         "6": "2025-05-17 16:20:37.426342"
        },
        {
         "0": "Now You See Me 2",
         "1": "129",
         "2": "2016-06-02",
         "3": "6.7",
         "4": "English",
         "5": "Crime",
         "6": "2025-05-17 16:20:37.426342"
        },
        {
         "0": "Now You See Me 2",
         "1": "129",
         "2": "2016-06-02",
         "3": "6.7",
         "4": "Zhongwén",
         "5": "Mystery",
         "6": "2025-05-17 16:20:37.426342"
        },
        {
         "0": "Now You See Me 2",
         "1": "129",
         "2": "2016-06-02",
         "3": "6.7",
         "4": "English",
         "5": "Mystery",
         "6": "2025-05-17 16:20:37.426342"
        },
        {
         "0": "Now You See Me 2",
         "1": "129",
         "2": "2016-06-02",
         "3": "6.7",
         "4": "English",
         "5": "Mystery",
         "6": "2025-05-17 16:20:37.426342"
        },
        {
         "0": "Teenage Mutant Ninja Turtles: Out of the Shadows",
         "1": "112",
         "2": "2016-06-01",
         "3": "5.8",
         "4": "English",
         "5": "Adventure",
         "6": "2025-05-17 16:20:37.426342"
        },
        {
         "0": "Teenage Mutant Ninja Turtles: Out of the Shadows",
         "1": "112",
         "2": "2016-06-01",
         "3": "5.8",
         "4": "English",
         "5": "Adventure",
         "6": "2025-05-17 16:20:37.426342"
        },
        {
         "0": "Teenage Mutant Ninja Turtles: Out of the Shadows",
         "1": "112",
         "2": "2016-06-01",
         "3": "5.8",
         "4": "English",
         "5": "Fantasy",
         "6": "2025-05-17 16:20:37.426342"
        },
        {
         "0": "Teenage Mutant Ninja Turtles: Out of the Shadows",
         "1": "112",
         "2": "2016-06-01",
         "3": "5.8",
         "4": "English",
         "5": "Fantasy",
         "6": "2025-05-17 16:20:37.426342"
        },
        {
         "0": "Teenage Mutant Ninja Turtles: Out of the Shadows",
         "1": "112",
         "2": "2016-06-01",
         "3": "5.8",
         "4": "English",
         "5": "Action",
         "6": "2025-05-17 16:20:37.426342"
        },
        {
         "0": "Teenage Mutant Ninja Turtles: Out of the Shadows",
         "1": "112",
         "2": "2016-06-01",
         "3": "5.8",
         "4": "English",
         "5": "Action",
         "6": "2025-05-17 16:20:37.426342"
        },
        {
         "0": "Teenage Mutant Ninja Turtles: Out of the Shadows",
         "1": "112",
         "2": "2016-06-01",
         "3": "5.8",
         "4": "English",
         "5": "Comedy",
         "6": "2025-05-17 16:20:37.426342"
        },
        {
         "0": "Teenage Mutant Ninja Turtles: Out of the Shadows",
         "1": "112",
         "2": "2016-06-01",
         "3": "5.8",
         "4": "English",
         "5": "Comedy",
         "6": "2025-05-17 16:20:37.426342"
        },
        {
         "0": "The BFG",
         "1": "120",
         "2": "2016-06-01",
         "3": "6.0",
         "4": "English",
         "5": "Adventure",
         "6": "2025-05-17 16:20:37.426342"
        },
        {
         "0": "The BFG",
         "1": "120",
         "2": "2016-06-01",
         "3": "6.0",
         "4": "English",
         "5": "Adventure",
         "6": "2025-05-17 16:20:37.426342"
        },
        {
         "0": "The BFG",
         "1": "120",
         "2": "2016-06-01",
         "3": "6.0",
         "4": "English",
         "5": "Fantasy",
         "6": "2025-05-17 16:20:37.426342"
        },
        {
         "0": "The BFG",
         "1": "120",
         "2": "2016-06-01",
         "3": "6.0",
         "4": "English",
         "5": "Fantasy",
         "6": "2025-05-17 16:20:37.426342"
        },
        {
         "0": "The BFG",
         "1": "120",
         "2": "2016-06-01",
         "3": "6.0",
         "4": "English",
         "5": "Family",
         "6": "2025-05-17 16:20:37.426342"
        },
        {
         "0": "The BFG",
         "1": "120",
         "2": "2016-06-01",
         "3": "6.0",
         "4": "English",
         "5": "Family",
         "6": "2025-05-17 16:20:37.426342"
        },
        {
         "0": "Warcraft",
         "1": "123",
         "2": "2016-05-25",
         "3": "6.3",
         "4": "English",
         "5": "Adventure",
         "6": "2025-05-17 16:20:37.426342"
        },
        {
         "0": "Warcraft",
         "1": "123",
         "2": "2016-05-25",
         "3": "6.3",
         "4": "English",
         "5": "Adventure",
         "6": "2025-05-17 16:20:37.426342"
        },
        {
         "0": "Warcraft",
         "1": "123",
         "2": "2016-05-25",
         "3": "6.3",
         "4": "English",
         "5": "Fantasy",
         "6": "2025-05-17 16:20:37.426342"
        },
        {
         "0": "Warcraft",
         "1": "123",
         "2": "2016-05-25",
         "3": "6.3",
         "4": "English",
         "5": "Fantasy",
         "6": "2025-05-17 16:20:37.426342"
        },
        {
         "0": "Warcraft",
         "1": "123",
         "2": "2016-05-25",
         "3": "6.3",
         "4": "English",
         "5": "Action",
         "6": "2025-05-17 16:20:37.426342"
        },
        {
         "0": "Warcraft",
         "1": "123",
         "2": "2016-05-25",
         "3": "6.3",
         "4": "English",
         "5": "Action",
         "6": "2025-05-17 16:20:37.426342"
        },
        {
         "0": "Departure",
         "1": "109",
         "2": "2016-05-20",
         "3": "7.5",
         "4": "Français",
         "5": "Drama",
         "6": "2025-05-17 16:20:37.426342"
        },
        {
         "0": "Departure",
         "1": "109",
         "2": "2016-05-20",
         "3": "7.5",
         "4": "English",
         "5": "Drama",
         "6": "2025-05-17 16:20:37.426342"
        },
        {
         "0": "Departure",
         "1": "109",
         "2": "2016-05-20",
         "3": "7.5",
         "4": "English",
         "5": "Drama",
         "6": "2025-05-17 16:20:37.426342"
        },
        {
         "0": "Departure",
         "1": "109",
         "2": "2016-05-20",
         "3": "7.5",
         "4": "Français",
         "5": "Romance",
         "6": "2025-05-17 16:20:37.426342"
        },
        {
         "0": "Departure",
         "1": "109",
         "2": "2016-05-20",
         "3": "7.5",
         "4": "English",
         "5": "Romance",
         "6": "2025-05-17 16:20:37.426342"
        },
        {
         "0": "Departure",
         "1": "109",
         "2": "2016-05-20",
         "3": "7.5",
         "4": "English",
         "5": "Romance",
         "6": "2025-05-17 16:20:37.426342"
        },
        {
         "0": "Departure",
         "1": "109",
         "2": "2016-05-20",
         "3": "7.5",
         "4": "Français",
         "5": "Family",
         "6": "2025-05-17 16:20:37.426342"
        },
        {
         "0": "Departure",
         "1": "109",
         "2": "2016-05-20",
         "3": "7.5",
         "4": "English",
         "5": "Family",
         "6": "2025-05-17 16:20:37.426342"
        },
        {
         "0": "Departure",
         "1": "109",
         "2": "2016-05-20",
         "3": "7.5",
         "4": "English",
         "5": "Family",
         "6": "2025-05-17 16:20:37.426342"
        },
        {
         "0": "X-Men: Apocalypse",
         "1": "144",
         "2": "2016-05-18",
         "3": "6.4",
         "4": "English",
         "5": "Science Fiction",
         "6": "2025-05-17 16:20:37.426342"
        },
        {
         "0": "X-Men: Apocalypse",
         "1": "144",
         "2": "2016-05-18",
         "3": "6.4",
         "4": "English",
         "5": "Science Fiction",
         "6": "2025-05-17 16:20:37.426342"
        },
        {
         "0": "The Conjuring 2",
         "1": "134",
         "2": "2016-05-13",
         "3": "7.0",
         "4": "English",
         "5": "Horror",
         "6": "2025-05-17 16:20:37.426342"
        },
        {
         "0": "The Conjuring 2",
         "1": "134",
         "2": "2016-05-13",
         "3": "7.0",
         "4": "English",
         "5": "Horror",
         "6": "2025-05-17 16:20:37.426342"
        },
        {
         "0": "Money Monster",
         "1": "98",
         "2": "2016-05-12",
         "3": "6.5",
         "4": "English",
         "5": "Thriller",
         "6": "2025-05-17 16:20:37.426342"
        },
        {
         "0": "Money Monster",
         "1": "98",
         "2": "2016-05-12",
         "3": "6.5",
         "4": "English",
         "5": "Thriller",
         "6": "2025-05-17 16:20:37.426342"
        },
        {
         "0": "The Angry Birds Movie",
         "1": "97",
         "2": "2016-05-11",
         "3": "5.9",
         "4": "English",
         "5": "Animation",
         "6": "2025-05-17 16:20:37.426342"
        },
        {
         "0": "The Angry Birds Movie",
         "1": "97",
         "2": "2016-05-11",
         "3": "5.9",
         "4": "English",
         "5": "Animation",
         "6": "2025-05-17 16:20:37.426342"
        },
        {
         "0": "The Angry Birds Movie",
         "1": "97",
         "2": "2016-05-11",
         "3": "5.9",
         "4": "English",
         "5": "Family",
         "6": "2025-05-17 16:20:37.426342"
        },
        {
         "0": "The Angry Birds Movie",
         "1": "97",
         "2": "2016-05-11",
         "3": "5.9",
         "4": "English",
         "5": "Family",
         "6": "2025-05-17 16:20:37.426342"
        },
        {
         "0": "Code of Honor",
         "1": "106",
         "2": "2016-05-06",
         "3": "4.1",
         "4": "Deutsch",
         "5": "Action",
         "6": "2025-05-17 16:20:37.426342"
        },
        {
         "0": "Code of Honor",
         "1": "106",
         "2": "2016-05-06",
         "3": "4.1",
         "4": "English",
         "5": "Action",
         "6": "2025-05-17 16:20:37.426342"
        },
        {
         "0": "Code of Honor",
         "1": "106",
         "2": "2016-05-06",
         "3": "4.1",
         "4": "English",
         "5": "Action",
         "6": "2025-05-17 16:20:37.426342"
        },
        {
         "0": "Code of Honor",
         "1": "106",
         "2": "2016-05-06",
         "3": "4.1",
         "4": "Deutsch",
         "5": "Thriller",
         "6": "2025-05-17 16:20:37.426342"
        },
        {
         "0": "Code of Honor",
         "1": "106",
         "2": "2016-05-06",
         "3": "4.1",
         "4": "English",
         "5": "Thriller",
         "6": "2025-05-17 16:20:37.426342"
        },
        {
         "0": "Code of Honor",
         "1": "106",
         "2": "2016-05-06",
         "3": "4.1",
         "4": "English",
         "5": "Thriller",
         "6": "2025-05-17 16:20:37.426342"
        },
        {
         "0": "Code of Honor",
         "1": "106",
         "2": "2016-05-06",
         "3": "4.1",
         "4": "Deutsch",
         "5": "Crime",
         "6": "2025-05-17 16:20:37.426342"
        },
        {
         "0": "Code of Honor",
         "1": "106",
         "2": "2016-05-06",
         "3": "4.1",
         "4": "English",
         "5": "Crime",
         "6": "2025-05-17 16:20:37.426342"
        },
        {
         "0": "Code of Honor",
         "1": "106",
         "2": "2016-05-06",
         "3": "4.1",
         "4": "English",
         "5": "Crime",
         "6": "2025-05-17 16:20:37.426342"
        },
        {
         "0": "Florence Foster Jenkins",
         "1": "110",
         "2": "2016-05-06",
         "3": "6.6",
         "4": "English",
         "5": "Drama",
         "6": "2025-05-17 16:20:37.426342"
        },
        {
         "0": "Florence Foster Jenkins",
         "1": "110",
         "2": "2016-05-06",
         "3": "6.6",
         "4": "English",
         "5": "Drama",
         "6": "2025-05-17 16:20:37.426342"
        },
        {
         "0": "Florence Foster Jenkins",
         "1": "110",
         "2": "2016-05-06",
         "3": "6.6",
         "4": "English",
         "5": "Comedy",
         "6": "2025-05-17 16:20:37.426342"
        },
        {
         "0": "Florence Foster Jenkins",
         "1": "110",
         "2": "2016-05-06",
         "3": "6.6",
         "4": "English",
         "5": "Comedy",
         "6": "2025-05-17 16:20:37.426342"
        },
        {
         "0": "Our Kind of Traitor",
         "1": "108",
         "2": "2016-05-05",
         "3": "6.0",
         "4": "Français",
         "5": "Thriller",
         "6": "2025-05-17 16:20:37.426342"
        },
        {
         "0": "Our Kind of Traitor",
         "1": "108",
         "2": "2016-05-05",
         "3": "6.0",
         "4": "English",
         "5": "Thriller",
         "6": "2025-05-17 16:20:37.426342"
        },
        {
         "0": "Our Kind of Traitor",
         "1": "108",
         "2": "2016-05-05",
         "3": "6.0",
         "4": "English",
         "5": "Thriller",
         "6": "2025-05-17 16:20:37.426342"
        },
        {
         "0": "Our Kind of Traitor",
         "1": "108",
         "2": "2016-05-05",
         "3": "6.0",
         "4": "Russkii âzyk",
         "5": "Thriller",
         "6": "2025-05-17 16:20:37.426342"
        },
        {
         "0": "Neighbors 2: Sorority Rising",
         "1": "91",
         "2": "2016-05-04",
         "3": "5.6",
         "4": "English",
         "5": "Comedy",
         "6": "2025-05-17 16:20:37.426342"
        },
        {
         "0": "Neighbors 2: Sorority Rising",
         "1": "91",
         "2": "2016-05-04",
         "3": "5.6",
         "4": "English",
         "5": "Comedy",
         "6": "2025-05-17 16:20:37.426342"
        },
        {
         "0": "Restoration",
         "1": "90",
         "2": "2016-05-03",
         "3": "5.3",
         "4": "English",
         "5": "Horror",
         "6": "2025-05-17 16:20:37.426342"
        },
        {
         "0": "Restoration",
         "1": "90",
         "2": "2016-05-03",
         "3": "5.3",
         "4": "English",
         "5": "Horror",
         "6": "2025-05-17 16:20:37.426342"
        },
        {
         "0": "The Secret",
         "1": "200",
         "2": "2016-04-29",
         "3": "0.0",
         "4": "English",
         "5": "Drama",
         "6": "2025-05-17 16:20:37.426342"
        },
        {
         "0": "Captain America: Civil War",
         "1": "147",
         "2": "2016-04-27",
         "3": "7.1",
         "4": "Deutsch",
         "5": "Adventure",
         "6": "2025-05-17 16:20:37.426342"
        },
        {
         "0": "Captain America: Civil War",
         "1": "147",
         "2": "2016-04-27",
         "3": "7.1",
         "4": "English",
         "5": "Adventure",
         "6": "2025-05-17 16:20:37.426342"
        },
        {
         "0": "Captain America: Civil War",
         "1": "147",
         "2": "2016-04-27",
         "3": "7.1",
         "4": "English",
         "5": "Adventure",
         "6": "2025-05-17 16:20:37.426342"
        },
        {
         "0": "Captain America: Civil War",
         "1": "147",
         "2": "2016-04-27",
         "3": "7.1",
         "4": "Românã",
         "5": "Adventure",
         "6": "2025-05-17 16:20:37.426342"
        },
        {
         "0": "Captain America: Civil War",
         "1": "147",
         "2": "2016-04-27",
         "3": "7.1",
         "4": "Russkii âzyk",
         "5": "Adventure",
         "6": "2025-05-17 16:20:37.426342"
        },
        {
         "0": "Captain America: Civil War",
         "1": "147",
         "2": "2016-04-27",
         "3": "7.1",
         "4": "Deutsch",
         "5": "Action",
         "6": "2025-05-17 16:20:37.426342"
        },
        {
         "0": "Captain America: Civil War",
         "1": "147",
         "2": "2016-04-27",
         "3": "7.1",
         "4": "English",
         "5": "Action",
         "6": "2025-05-17 16:20:37.426342"
        },
        {
         "0": "Captain America: Civil War",
         "1": "147",
         "2": "2016-04-27",
         "3": "7.1",
         "4": "English",
         "5": "Action",
         "6": "2025-05-17 16:20:37.426342"
        },
        {
         "0": "Captain America: Civil War",
         "1": "147",
         "2": "2016-04-27",
         "3": "7.1",
         "4": "Românã",
         "5": "Action",
         "6": "2025-05-17 16:20:37.426342"
        },
        {
         "0": "Captain America: Civil War",
         "1": "147",
         "2": "2016-04-27",
         "3": "7.1",
         "4": "Russkii âzyk",
         "5": "Action",
         "6": "2025-05-17 16:20:37.426342"
        },
        {
         "0": "Captain America: Civil War",
         "1": "147",
         "2": "2016-04-27",
         "3": "7.1",
         "4": "Deutsch",
         "5": "Science Fiction",
         "6": "2025-05-17 16:20:37.426342"
        },
        {
         "0": "Captain America: Civil War",
         "1": "147",
         "2": "2016-04-27",
         "3": "7.1",
         "4": "English",
         "5": "Science Fiction",
         "6": "2025-05-17 16:20:37.426342"
        },
        {
         "0": "Captain America: Civil War",
         "1": "147",
         "2": "2016-04-27",
         "3": "7.1",
         "4": "English",
         "5": "Science Fiction",
         "6": "2025-05-17 16:20:37.426342"
        },
        {
         "0": "Captain America: Civil War",
         "1": "147",
         "2": "2016-04-27",
         "3": "7.1",
         "4": "Românã",
         "5": "Science Fiction",
         "6": "2025-05-17 16:20:37.426342"
        },
        {
         "0": "Captain America: Civil War",
         "1": "147",
         "2": "2016-04-27",
         "3": "7.1",
         "4": "Russkii âzyk",
         "5": "Science Fiction",
         "6": "2025-05-17 16:20:37.426342"
        },
        {
         "0": "Keanu",
         "1": "94",
         "2": "2016-04-21",
         "3": "6.0",
         "4": "English",
         "5": "Action",
         "6": "2025-05-17 16:20:37.426342"
        },
        {
         "0": "Keanu",
         "1": "94",
         "2": "2016-04-21",
         "3": "6.0",
         "4": "English",
         "5": "Action",
         "6": "2025-05-17 16:20:37.426342"
        },
        {
         "0": "Keanu",
         "1": "94",
         "2": "2016-04-21",
         "3": "6.0",
         "4": "English",
         "5": "Comedy",
         "6": "2025-05-17 16:20:37.426342"
        },
        {
         "0": "Keanu",
         "1": "94",
         "2": "2016-04-21",
         "3": "6.0",
         "4": "English",
         "5": "Comedy",
         "6": "2025-05-17 16:20:37.426342"
        },
        {
         "0": "The Veil",
         "1": "93",
         "2": "2016-04-21",
         "3": "4.5",
         "4": "English",
         "5": "Horror",
         "6": "2025-05-17 16:20:37.426342"
        },
        {
         "0": "The Veil",
         "1": "93",
         "2": "2016-04-21",
         "3": "4.5",
         "4": "English",
         "5": "Horror",
         "6": "2025-05-17 16:20:37.426342"
        },
        {
         "0": "Green Room",
         "1": "95",
         "2": "2016-04-15",
         "3": "6.7",
         "4": "English",
         "5": "Horror",
         "6": "2025-05-17 16:20:37.426342"
        },
        {
         "0": "Green Room",
         "1": "95",
         "2": "2016-04-15",
         "3": "6.7",
         "4": "English",
         "5": "Horror",
         "6": "2025-05-17 16:20:37.426342"
        },
        {
         "0": "Green Room",
         "1": "95",
         "2": "2016-04-15",
         "3": "6.7",
         "4": "English",
         "5": "Thriller",
         "6": "2025-05-17 16:20:37.426342"
        },
        {
         "0": "Green Room",
         "1": "95",
         "2": "2016-04-15",
         "3": "6.7",
         "4": "English",
         "5": "Thriller",
         "6": "2025-05-17 16:20:37.426342"
        },
        {
         "0": "Green Room",
         "1": "95",
         "2": "2016-04-15",
         "3": "6.7",
         "4": "English",
         "5": "Crime",
         "6": "2025-05-17 16:20:37.426342"
        },
        {
         "0": "Green Room",
         "1": "95",
         "2": "2016-04-15",
         "3": "6.7",
         "4": "English",
         "5": "Crime",
         "6": "2025-05-17 16:20:37.426342"
        },
        {
         "0": "I Am Wrath",
         "1": "92",
         "2": "2016-04-14",
         "3": "4.5",
         "4": "English",
         "5": "Drama",
         "6": "2025-05-17 16:20:37.426342"
        },
        {
         "0": "I Am Wrath",
         "1": "92",
         "2": "2016-04-14",
         "3": "4.5",
         "4": "English",
         "5": "Drama",
         "6": "2025-05-17 16:20:37.426342"
        },
        {
         "0": "I Am Wrath",
         "1": "92",
         "2": "2016-04-14",
         "3": "4.5",
         "4": "English",
         "5": "Action",
         "6": "2025-05-17 16:20:37.426342"
        },
        {
         "0": "I Am Wrath",
         "1": "92",
         "2": "2016-04-14",
         "3": "4.5",
         "4": "English",
         "5": "Action",
         "6": "2025-05-17 16:20:37.426342"
        },
        {
         "0": "I Am Wrath",
         "1": "92",
         "2": "2016-04-14",
         "3": "4.5",
         "4": "English",
         "5": "Thriller",
         "6": "2025-05-17 16:20:37.426342"
        },
        {
         "0": "I Am Wrath",
         "1": "92",
         "2": "2016-04-14",
         "3": "4.5",
         "4": "English",
         "5": "Thriller",
         "6": "2025-05-17 16:20:37.426342"
        },
        {
         "0": "I Am Wrath",
         "1": "92",
         "2": "2016-04-14",
         "3": "4.5",
         "4": "English",
         "5": "Crime",
         "6": "2025-05-17 16:20:37.426342"
        },
        {
         "0": "I Am Wrath",
         "1": "92",
         "2": "2016-04-14",
         "3": "4.5",
         "4": "English",
         "5": "Crime",
         "6": "2025-05-17 16:20:37.426342"
        },
        {
         "0": "The Boss",
         "1": "91",
         "2": "2016-04-07",
         "3": "5.5",
         "4": "English",
         "5": "Comedy",
         "6": "2025-05-17 16:20:37.426342"
        },
        {
         "0": "The Boss",
         "1": "91",
         "2": "2016-04-07",
         "3": "5.5",
         "4": "English",
         "5": "Comedy",
         "6": "2025-05-17 16:20:37.426342"
        },
        {
         "0": "The Jungle Book",
         "1": "106",
         "2": "2016-04-07",
         "3": "6.7",
         "4": "English",
         "5": "Adventure",
         "6": "2025-05-17 16:20:37.426342"
        },
        {
         "0": "The Jungle Book",
         "1": "106",
         "2": "2016-04-07",
         "3": "6.7",
         "4": "English",
         "5": "Adventure",
         "6": "2025-05-17 16:20:37.426342"
        },
        {
         "0": "The Jungle Book",
         "1": "106",
         "2": "2016-04-07",
         "3": "6.7",
         "4": "English",
         "5": "Fantasy",
         "6": "2025-05-17 16:20:37.426342"
        },
        {
         "0": "The Jungle Book",
         "1": "106",
         "2": "2016-04-07",
         "3": "6.7",
         "4": "English",
         "5": "Fantasy",
         "6": "2025-05-17 16:20:37.426342"
        },
        {
         "0": "The Jungle Book",
         "1": "106",
         "2": "2016-04-07",
         "3": "6.7",
         "4": "English",
         "5": "Drama",
         "6": "2025-05-17 16:20:37.426342"
        },
        {
         "0": "The Jungle Book",
         "1": "106",
         "2": "2016-04-07",
         "3": "6.7",
         "4": "English",
         "5": "Drama",
         "6": "2025-05-17 16:20:37.426342"
        },
        {
         "0": "The Jungle Book",
         "1": "106",
         "2": "2016-04-07",
         "3": "6.7",
         "4": "English",
         "5": "Family",
         "6": "2025-05-17 16:20:37.426342"
        },
        {
         "0": "The Jungle Book",
         "1": "106",
         "2": "2016-04-07",
         "3": "6.7",
         "4": "English",
         "5": "Family",
         "6": "2025-05-17 16:20:37.426342"
        },
        {
         "0": "The Huntsman: Winter's War",
         "1": "114",
         "2": "2016-04-06",
         "3": "6.0",
         "4": "English",
         "5": "Adventure",
         "6": "2025-05-17 16:20:37.426342"
        },
        {
         "0": "The Huntsman: Winter's War",
         "1": "114",
         "2": "2016-04-06",
         "3": "6.0",
         "4": "English",
         "5": "Adventure",
         "6": "2025-05-17 16:20:37.426342"
        },
        {
         "0": "The Huntsman: Winter's War",
         "1": "114",
         "2": "2016-04-06",
         "3": "6.0",
         "4": "English",
         "5": "Drama",
         "6": "2025-05-17 16:20:37.426342"
        },
        {
         "0": "The Huntsman: Winter's War",
         "1": "114",
         "2": "2016-04-06",
         "3": "6.0",
         "4": "English",
         "5": "Drama",
         "6": "2025-05-17 16:20:37.426342"
        },
        {
         "0": "The Huntsman: Winter's War",
         "1": "114",
         "2": "2016-04-06",
         "3": "6.0",
         "4": "English",
         "5": "Action",
         "6": "2025-05-17 16:20:37.426342"
        },
        {
         "0": "The Huntsman: Winter's War",
         "1": "114",
         "2": "2016-04-06",
         "3": "6.0",
         "4": "English",
         "5": "Action",
         "6": "2025-05-17 16:20:37.426342"
        },
        {
         "0": "God's Not Dead 2",
         "1": "121",
         "2": "2016-04-01",
         "3": "5.7",
         "4": "English",
         "5": "Drama",
         "6": "2025-05-17 16:20:37.426342"
        },
        {
         "0": "God's Not Dead 2",
         "1": "121",
         "2": "2016-04-01",
         "3": "5.7",
         "4": "English",
         "5": "Drama",
         "6": "2025-05-17 16:20:37.426342"
        },
        {
         "0": "Compadres",
         "1": "101",
         "2": "2016-03-31",
         "3": "5.2",
         "4": "English",
         "5": "Action",
         "6": "2025-05-17 16:20:37.426342"
        },
        {
         "0": "Compadres",
         "1": "101",
         "2": "2016-03-31",
         "3": "5.2",
         "4": "Español",
         "5": "Action",
         "6": "2025-05-17 16:20:37.426342"
        },
        {
         "0": "Compadres",
         "1": "101",
         "2": "2016-03-31",
         "3": "5.2",
         "4": "English",
         "5": "Comedy",
         "6": "2025-05-17 16:20:37.426342"
        },
        {
         "0": "Compadres",
         "1": "101",
         "2": "2016-03-31",
         "3": "5.2",
         "4": "Español",
         "5": "Comedy",
         "6": "2025-05-17 16:20:37.426342"
        },
        {
         "0": "Alleluia! The Devil's Carnival",
         "1": "75",
         "2": "2016-03-29",
         "3": "6.0",
         "4": "English",
         "5": "Horror",
         "6": "2025-05-17 16:20:37.426342"
        },
        {
         "0": "Alleluia! The Devil's Carnival",
         "1": "75",
         "2": "2016-03-29",
         "3": "6.0",
         "4": "English",
         "5": "Music",
         "6": "2025-05-17 16:20:37.426342"
        },
        {
         "0": "My Big Fat Greek Wedding 2",
         "1": "94",
         "2": "2016-03-23",
         "3": "5.5",
         "4": "English",
         "5": "Comedy",
         "6": "2025-05-17 16:20:37.426342"
        },
        {
         "0": "My Big Fat Greek Wedding 2",
         "1": "94",
         "2": "2016-03-23",
         "3": "5.5",
         "4": "English",
         "5": "Comedy",
         "6": "2025-05-17 16:20:37.426342"
        },
        {
         "0": "My Big Fat Greek Wedding 2",
         "1": "94",
         "2": "2016-03-23",
         "3": "5.5",
         "4": "English",
         "5": "Romance",
         "6": "2025-05-17 16:20:37.426342"
        },
        {
         "0": "My Big Fat Greek Wedding 2",
         "1": "94",
         "2": "2016-03-23",
         "3": "5.5",
         "4": "English",
         "5": "Romance",
         "6": "2025-05-17 16:20:37.426342"
        },
        {
         "0": "My Big Fat Greek Wedding 2",
         "1": "94",
         "2": "2016-03-23",
         "3": "5.5",
         "4": "English",
         "5": "Family",
         "6": "2025-05-17 16:20:37.426342"
        },
        {
         "0": "My Big Fat Greek Wedding 2",
         "1": "94",
         "2": "2016-03-23",
         "3": "5.5",
         "4": "English",
         "5": "Family",
         "6": "2025-05-17 16:20:37.426342"
        },
        {
         "0": "Batman v Superman: Dawn of Justice",
         "1": "151",
         "2": "2016-03-23",
         "3": "5.7",
         "4": "English",
         "5": "Adventure",
         "6": "2025-05-17 16:20:37.426342"
        },
        {
         "0": "Batman v Superman: Dawn of Justice",
         "1": "151",
         "2": "2016-03-23",
         "3": "5.7",
         "4": "English",
         "5": "Adventure",
         "6": "2025-05-17 16:20:37.426342"
        },
        {
         "0": "Batman v Superman: Dawn of Justice",
         "1": "151",
         "2": "2016-03-23",
         "3": "5.7",
         "4": "English",
         "5": "Fantasy",
         "6": "2025-05-17 16:20:37.426342"
        },
        {
         "0": "Batman v Superman: Dawn of Justice",
         "1": "151",
         "2": "2016-03-23",
         "3": "5.7",
         "4": "English",
         "5": "Fantasy",
         "6": "2025-05-17 16:20:37.426342"
        },
        {
         "0": "Batman v Superman: Dawn of Justice",
         "1": "151",
         "2": "2016-03-23",
         "3": "5.7",
         "4": "English",
         "5": "Action",
         "6": "2025-05-17 16:20:37.426342"
        },
        {
         "0": "Batman v Superman: Dawn of Justice",
         "1": "151",
         "2": "2016-03-23",
         "3": "5.7",
         "4": "English",
         "5": "Action",
         "6": "2025-05-17 16:20:37.426342"
        },
        {
         "0": "Médecin de campagne",
         "1": "102",
         "2": "2016-03-23",
         "3": "6.0",
         "4": "Français",
         "5": "Drama",
         "6": "2025-05-17 16:20:37.426342"
        },
        {
         "0": "Médecin de campagne",
         "1": "102",
         "2": "2016-03-23",
         "3": "6.0",
         "4": "Français",
         "5": "Drama",
         "6": "2025-05-17 16:20:37.426342"
        },
        {
         "0": "Médecin de campagne",
         "1": "102",
         "2": "2016-03-23",
         "3": "6.0",
         "4": "Français",
         "5": "Comedy",
         "6": "2025-05-17 16:20:37.426342"
        },
        {
         "0": "Médecin de campagne",
         "1": "102",
         "2": "2016-03-23",
         "3": "6.0",
         "4": "Français",
         "5": "Comedy",
         "6": "2025-05-17 16:20:37.426342"
        },
        {
         "0": "Miracles from Heaven",
         "1": "117",
         "2": "2016-03-17",
         "3": "6.7",
         "4": "English",
         "5": "Drama",
         "6": "2025-05-17 16:20:37.426342"
        },
        {
         "0": "Miracles from Heaven",
         "1": "117",
         "2": "2016-03-17",
         "3": "6.7",
         "4": "English",
         "5": "Drama",
         "6": "2025-05-17 16:20:37.426342"
        },
        {
         "0": "Creative Control",
         "1": "97",
         "2": "2016-03-11",
         "3": "5.4",
         "4": "English",
         "5": "Drama",
         "6": "2025-05-17 16:20:37.426342"
        },
        {
         "0": "Creative Control",
         "1": "97",
         "2": "2016-03-11",
         "3": "5.4",
         "4": "English",
         "5": "Drama",
         "6": "2025-05-17 16:20:37.426342"
        },
        {
         "0": "Creative Control",
         "1": "97",
         "2": "2016-03-11",
         "3": "5.4",
         "4": "English",
         "5": "Science Fiction",
         "6": "2025-05-17 16:20:37.426342"
        },
        {
         "0": "Creative Control",
         "1": "97",
         "2": "2016-03-11",
         "3": "5.4",
         "4": "English",
         "5": "Science Fiction",
         "6": "2025-05-17 16:20:37.426342"
        },
        {
         "0": "The Perfect Match",
         "1": "96",
         "2": "2016-03-11",
         "3": "5.2",
         "4": "English",
         "5": "Comedy",
         "6": "2025-05-17 16:20:37.426342"
        },
        {
         "0": "The Perfect Match",
         "1": "96",
         "2": "2016-03-11",
         "3": "5.2",
         "4": "English",
         "5": "Comedy",
         "6": "2025-05-17 16:20:37.426342"
        },
        {
         "0": "The Perfect Match",
         "1": "96",
         "2": "2016-03-11",
         "3": "5.2",
         "4": "English",
         "5": "Romance",
         "6": "2025-05-17 16:20:37.426342"
        },
        {
         "0": "The Perfect Match",
         "1": "96",
         "2": "2016-03-11",
         "3": "5.2",
         "4": "English",
         "5": "Romance",
         "6": "2025-05-17 16:20:37.426342"
        },
        {
         "0": "The Young Messiah",
         "1": "120",
         "2": "2016-03-10",
         "3": "6.4",
         "4": "English",
         "5": "Drama",
         "6": "2025-05-17 16:20:37.426342"
        },
        {
         "0": "The Young Messiah",
         "1": "120",
         "2": "2016-03-10",
         "3": "6.4",
         "4": "English",
         "5": "Drama",
         "6": "2025-05-17 16:20:37.426342"
        },
        {
         "0": "Allegiant",
         "1": "121",
         "2": "2016-03-09",
         "3": "5.9",
         "4": "English",
         "5": "Adventure",
         "6": "2025-05-17 16:20:37.426342"
        },
        {
         "0": "Allegiant",
         "1": "121",
         "2": "2016-03-09",
         "3": "5.9",
         "4": "English",
         "5": "Adventure",
         "6": "2025-05-17 16:20:37.426342"
        },
        {
         "0": "Allegiant",
         "1": "121",
         "2": "2016-03-09",
         "3": "5.9",
         "4": "English",
         "5": "Science Fiction",
         "6": "2025-05-17 16:20:37.426342"
        },
        {
         "0": "Allegiant",
         "1": "121",
         "2": "2016-03-09",
         "3": "5.9",
         "4": "English",
         "5": "Science Fiction",
         "6": "2025-05-17 16:20:37.426342"
        },
        {
         "0": "A Beginner's Guide to Snuff",
         "1": "87",
         "2": "2016-03-04",
         "3": "0.0",
         "4": "English",
         "5": "Horror",
         "6": "2025-05-17 16:20:37.426342"
        },
        {
         "0": "A Beginner's Guide to Snuff",
         "1": "87",
         "2": "2016-03-04",
         "3": "0.0",
         "4": "English",
         "5": "Horror",
         "6": "2025-05-17 16:20:37.426342"
        },
        {
         "0": "A Beginner's Guide to Snuff",
         "1": "87",
         "2": "2016-03-04",
         "3": "0.0",
         "4": "English",
         "5": "Comedy",
         "6": "2025-05-17 16:20:37.426342"
        },
        {
         "0": "A Beginner's Guide to Snuff",
         "1": "87",
         "2": "2016-03-04",
         "3": "0.0",
         "4": "English",
         "5": "Comedy",
         "6": "2025-05-17 16:20:37.426342"
        },
        {
         "0": "A Beginner's Guide to Snuff",
         "1": "87",
         "2": "2016-03-04",
         "3": "0.0",
         "4": "English",
         "5": "Thriller",
         "6": "2025-05-17 16:20:37.426342"
        },
        {
         "0": "A Beginner's Guide to Snuff",
         "1": "87",
         "2": "2016-03-04",
         "3": "0.0",
         "4": "English",
         "5": "Thriller",
         "6": "2025-05-17 16:20:37.426342"
        },
        {
         "0": "London Has Fallen",
         "1": "99",
         "2": "2016-03-02",
         "3": "5.8",
         "4": "English",
         "5": "Action",
         "6": "2025-05-17 16:20:37.426342"
        },
        {
         "0": "London Has Fallen",
         "1": "99",
         "2": "2016-03-02",
         "3": "5.8",
         "4": "English",
         "5": "Action",
         "6": "2025-05-17 16:20:37.426342"
        },
        {
         "0": "London Has Fallen",
         "1": "99",
         "2": "2016-03-02",
         "3": "5.8",
         "4": "English",
         "5": "Thriller",
         "6": "2025-05-17 16:20:37.426342"
        },
        {
         "0": "London Has Fallen",
         "1": "99",
         "2": "2016-03-02",
         "3": "5.8",
         "4": "English",
         "5": "Thriller",
         "6": "2025-05-17 16:20:37.426342"
        },
        {
         "0": "London Has Fallen",
         "1": "99",
         "2": "2016-03-02",
         "3": "5.8",
         "4": "English",
         "5": "Crime",
         "6": "2025-05-17 16:20:37.426342"
        },
        {
         "0": "London Has Fallen",
         "1": "99",
         "2": "2016-03-02",
         "3": "5.8",
         "4": "English",
         "5": "Crime",
         "6": "2025-05-17 16:20:37.426342"
        },
        {
         "0": "Gods of Egypt",
         "1": "127",
         "2": "2016-02-25",
         "3": "5.3",
         "4": "English",
         "5": "Fantasy",
         "6": "2025-05-17 16:20:37.426342"
        },
        {
         "0": "Gods of Egypt",
         "1": "127",
         "2": "2016-02-25",
         "3": "5.3",
         "4": "English",
         "5": "Fantasy",
         "6": "2025-05-17 16:20:37.426342"
        },
        {
         "0": "The Witch",
         "1": "92",
         "2": "2016-02-19",
         "3": "6.3",
         "4": "English",
         "5": "Horror",
         "6": "2025-05-17 16:20:37.426342"
        },
        {
         "0": "The Witch",
         "1": "92",
         "2": "2016-02-19",
         "3": "6.3",
         "4": "English",
         "5": "Horror",
         "6": "2025-05-17 16:20:37.426342"
        },
        {
         "0": "The Witch",
         "1": "92",
         "2": "2016-02-19",
         "3": "6.3",
         "4": "English",
         "5": "Mystery",
         "6": "2025-05-17 16:20:37.426342"
        },
        {
         "0": "The Witch",
         "1": "92",
         "2": "2016-02-19",
         "3": "6.3",
         "4": "English",
         "5": "Mystery",
         "6": "2025-05-17 16:20:37.426342"
        },
        {
         "0": "Race",
         "1": "134",
         "2": "2016-02-19",
         "3": "7.1",
         "4": "English",
         "5": "Drama",
         "6": "2025-05-17 16:20:37.426342"
        },
        {
         "0": "Race",
         "1": "134",
         "2": "2016-02-19",
         "3": "7.1",
         "4": "English",
         "5": "Drama",
         "6": "2025-05-17 16:20:37.426342"
        },
        {
         "0": "Race",
         "1": "134",
         "2": "2016-02-19",
         "3": "7.1",
         "4": "English",
         "5": "Action",
         "6": "2025-05-17 16:20:37.426342"
        },
        {
         "0": "Race",
         "1": "134",
         "2": "2016-02-19",
         "3": "7.1",
         "4": "English",
         "5": "Action",
         "6": "2025-05-17 16:20:37.426342"
        },
        {
         "0": "Triple 9",
         "1": "115",
         "2": "2016-02-19",
         "3": "5.6",
         "4": "English",
         "5": "Action",
         "6": "2025-05-17 16:20:37.426342"
        },
        {
         "0": "Triple 9",
         "1": "115",
         "2": "2016-02-19",
         "3": "5.6",
         "4": "English",
         "5": "Action",
         "6": "2025-05-17 16:20:37.426342"
        },
        {
         "0": "Triple 9",
         "1": "115",
         "2": "2016-02-19",
         "3": "5.6",
         "4": "English",
         "5": "Thriller",
         "6": "2025-05-17 16:20:37.426342"
        },
        {
         "0": "Triple 9",
         "1": "115",
         "2": "2016-02-19",
         "3": "5.6",
         "4": "English",
         "5": "Thriller",
         "6": "2025-05-17 16:20:37.426342"
        },
        {
         "0": "Risen",
         "1": "107",
         "2": "2016-02-19",
         "3": "5.7",
         "4": "English",
         "5": "Action",
         "6": "2025-05-17 16:20:37.426342"
        },
        {
         "0": "Risen",
         "1": "107",
         "2": "2016-02-19",
         "3": "5.7",
         "4": "English",
         "5": "Action",
         "6": "2025-05-17 16:20:37.426342"
        },
        {
         "0": "Midnight Special",
         "1": "112",
         "2": "2016-02-18",
         "3": "6.2",
         "4": "English",
         "5": "Adventure",
         "6": "2025-05-17 16:20:37.426342"
        },
        {
         "0": "Midnight Special",
         "1": "112",
         "2": "2016-02-18",
         "3": "6.2",
         "4": "English",
         "5": "Adventure",
         "6": "2025-05-17 16:20:37.426342"
        },
        {
         "0": "Midnight Special",
         "1": "112",
         "2": "2016-02-18",
         "3": "6.2",
         "4": "English",
         "5": "Drama",
         "6": "2025-05-17 16:20:37.426342"
        },
        {
         "0": "Midnight Special",
         "1": "112",
         "2": "2016-02-18",
         "3": "6.2",
         "4": "English",
         "5": "Drama",
         "6": "2025-05-17 16:20:37.426342"
        },
        {
         "0": "Midnight Special",
         "1": "112",
         "2": "2016-02-18",
         "3": "6.2",
         "4": "English",
         "5": "Science Fiction",
         "6": "2025-05-17 16:20:37.426342"
        },
        {
         "0": "Midnight Special",
         "1": "112",
         "2": "2016-02-18",
         "3": "6.2",
         "4": "English",
         "5": "Science Fiction",
         "6": "2025-05-17 16:20:37.426342"
        },
        {
         "0": "Cabin Fever",
         "1": "99",
         "2": "2016-02-12",
         "3": "4.4",
         "4": "English",
         "5": "Horror",
         "6": "2025-05-17 16:20:37.426342"
        },
        {
         "0": "Cabin Fever",
         "1": "99",
         "2": "2016-02-12",
         "3": "4.4",
         "4": "English",
         "5": "Horror",
         "6": "2025-05-17 16:20:37.426342"
        },
        {
         "0": "Deadpool",
         "1": "108",
         "2": "2016-02-09",
         "3": "7.4",
         "4": "English",
         "5": "Adventure",
         "6": "2025-05-17 16:20:37.426342"
        },
        {
         "0": "Deadpool",
         "1": "108",
         "2": "2016-02-09",
         "3": "7.4",
         "4": "English",
         "5": "Adventure",
         "6": "2025-05-17 16:20:37.426342"
        },
        {
         "0": "Deadpool",
         "1": "108",
         "2": "2016-02-09",
         "3": "7.4",
         "4": "English",
         "5": "Action",
         "6": "2025-05-17 16:20:37.426342"
        },
        {
         "0": "Deadpool",
         "1": "108",
         "2": "2016-02-09",
         "3": "7.4",
         "4": "English",
         "5": "Action",
         "6": "2025-05-17 16:20:37.426342"
        },
        {
         "0": "Deadpool",
         "1": "108",
         "2": "2016-02-09",
         "3": "7.4",
         "4": "English",
         "5": "Comedy",
         "6": "2025-05-17 16:20:37.426342"
        },
        {
         "0": "Deadpool",
         "1": "108",
         "2": "2016-02-09",
         "3": "7.4",
         "4": "English",
         "5": "Comedy",
         "6": "2025-05-17 16:20:37.426342"
        },
        {
         "0": "Zoolander 2",
         "1": "100",
         "2": "2016-02-06",
         "3": "4.7",
         "4": "English",
         "5": "Comedy",
         "6": "2025-05-17 16:20:37.426342"
        },
        {
         "0": "Zoolander 2",
         "1": "100",
         "2": "2016-02-06",
         "3": "4.7",
         "4": "English",
         "5": "Comedy",
         "6": "2025-05-17 16:20:37.426342"
        },
        {
         "0": "Hail, Caesar!",
         "1": "106",
         "2": "2016-02-05",
         "3": "5.7",
         "4": "English",
         "5": "Drama",
         "6": "2025-05-17 16:20:37.426342"
        },
        {
         "0": "Hail, Caesar!",
         "1": "106",
         "2": "2016-02-05",
         "3": "5.7",
         "4": "English",
         "5": "Drama",
         "6": "2025-05-17 16:20:37.426342"
        },
        {
         "0": "Hail, Caesar!",
         "1": "106",
         "2": "2016-02-05",
         "3": "5.7",
         "4": "English",
         "5": "Comedy",
         "6": "2025-05-17 16:20:37.426342"
        },
        {
         "0": "Hail, Caesar!",
         "1": "106",
         "2": "2016-02-05",
         "3": "5.7",
         "4": "English",
         "5": "Comedy",
         "6": "2025-05-17 16:20:37.426342"
        },
        {
         "0": "Hail, Caesar!",
         "1": "106",
         "2": "2016-02-05",
         "3": "5.7",
         "4": "English",
         "5": "Mystery",
         "6": "2025-05-17 16:20:37.426342"
        },
        {
         "0": "Hail, Caesar!",
         "1": "106",
         "2": "2016-02-05",
         "3": "5.7",
         "4": "English",
         "5": "Mystery",
         "6": "2025-05-17 16:20:37.426342"
        },
        {
         "0": "Misconduct",
         "1": "106",
         "2": "2016-02-05",
         "3": "5.3",
         "4": "English",
         "5": "Drama",
         "6": "2025-05-17 16:20:37.426342"
        },
        {
         "0": "Misconduct",
         "1": "106",
         "2": "2016-02-05",
         "3": "5.3",
         "4": "Italiano",
         "5": "Drama",
         "6": "2025-05-17 16:20:37.426342"
        },
        {
         "0": "Misconduct",
         "1": "106",
         "2": "2016-02-05",
         "3": "5.3",
         "4": "English",
         "5": "Drama",
         "6": "2025-05-17 16:20:37.426342"
        },
        {
         "0": "Misconduct",
         "1": "106",
         "2": "2016-02-05",
         "3": "5.3",
         "4": "English",
         "5": "Thriller",
         "6": "2025-05-17 16:20:37.426342"
        },
        {
         "0": "Misconduct",
         "1": "106",
         "2": "2016-02-05",
         "3": "5.3",
         "4": "Italiano",
         "5": "Thriller",
         "6": "2025-05-17 16:20:37.426342"
        },
        {
         "0": "Misconduct",
         "1": "106",
         "2": "2016-02-05",
         "3": "5.3",
         "4": "English",
         "5": "Thriller",
         "6": "2025-05-17 16:20:37.426342"
        },
        {
         "0": "Pride and Prejudice and Zombies",
         "1": "108",
         "2": "2016-02-04",
         "3": "5.5",
         "4": "English",
         "5": "Horror",
         "6": "2025-05-17 16:20:37.426342"
        },
        {
         "0": "Pride and Prejudice and Zombies",
         "1": "108",
         "2": "2016-02-04",
         "3": "5.5",
         "4": "English",
         "5": "Horror",
         "6": "2025-05-17 16:20:37.426342"
        },
        {
         "0": "Pride and Prejudice and Zombies",
         "1": "108",
         "2": "2016-02-04",
         "3": "5.5",
         "4": "English",
         "5": "Comedy",
         "6": "2025-05-17 16:20:37.426342"
        },
        {
         "0": "Pride and Prejudice and Zombies",
         "1": "108",
         "2": "2016-02-04",
         "3": "5.5",
         "4": "English",
         "5": "Comedy",
         "6": "2025-05-17 16:20:37.426342"
        },
        {
         "0": "Pride and Prejudice and Zombies",
         "1": "108",
         "2": "2016-02-04",
         "3": "5.5",
         "4": "English",
         "5": "Thriller",
         "6": "2025-05-17 16:20:37.426342"
        },
        {
         "0": "Pride and Prejudice and Zombies",
         "1": "108",
         "2": "2016-02-04",
         "3": "5.5",
         "4": "English",
         "5": "Thriller",
         "6": "2025-05-17 16:20:37.426342"
        },
        {
         "0": "Pride and Prejudice and Zombies",
         "1": "108",
         "2": "2016-02-04",
         "3": "5.5",
         "4": "English",
         "5": "Romance",
         "6": "2025-05-17 16:20:37.426342"
        },
        {
         "0": "Pride and Prejudice and Zombies",
         "1": "108",
         "2": "2016-02-04",
         "3": "5.5",
         "4": "English",
         "5": "Romance",
         "6": "2025-05-17 16:20:37.426342"
        },
        {
         "0": "Fight to the Finish",
         "1": "94",
         "2": "2016-02-02",
         "3": "5.2",
         "4": "English",
         "5": "Action",
         "6": "2025-05-17 16:20:37.426342"
        },
        {
         "0": "Fight to the Finish",
         "1": "94",
         "2": "2016-02-02",
         "3": "5.2",
         "4": "English",
         "5": "Action",
         "6": "2025-05-17 16:20:37.426342"
        },
        {
         "0": "Fight to the Finish",
         "1": "94",
         "2": "2016-02-02",
         "3": "5.2",
         "4": "English",
         "5": "Romance",
         "6": "2025-05-17 16:20:37.426342"
        },
        {
         "0": "Fight to the Finish",
         "1": "94",
         "2": "2016-02-02",
         "3": "5.2",
         "4": "English",
         "5": "Romance",
         "6": "2025-05-17 16:20:37.426342"
        },
        {
         "0": "Wind Walkers",
         "1": "93",
         "2": "2016-01-28",
         "3": "7.5",
         "4": "English",
         "5": "Horror",
         "6": "2025-05-17 16:20:37.426342"
        },
        {
         "0": "Wind Walkers",
         "1": "93",
         "2": "2016-01-28",
         "3": "7.5",
         "4": "English",
         "5": "Horror",
         "6": "2025-05-17 16:20:37.426342"
        },
        {
         "0": "Wind Walkers",
         "1": "93",
         "2": "2016-01-28",
         "3": "7.5",
         "4": "English",
         "5": "Action",
         "6": "2025-05-17 16:20:37.426342"
        },
        {
         "0": "Wind Walkers",
         "1": "93",
         "2": "2016-01-28",
         "3": "7.5",
         "4": "English",
         "5": "Action",
         "6": "2025-05-17 16:20:37.426342"
        },
        {
         "0": "Wind Walkers",
         "1": "93",
         "2": "2016-01-28",
         "3": "7.5",
         "4": "English",
         "5": "Thriller",
         "6": "2025-05-17 16:20:37.426342"
        },
        {
         "0": "Wind Walkers",
         "1": "93",
         "2": "2016-01-28",
         "3": "7.5",
         "4": "English",
         "5": "Thriller",
         "6": "2025-05-17 16:20:37.426342"
        },
        {
         "0": "Fifty Shades of Black",
         "1": "92",
         "2": "2016-01-28",
         "3": "4.3",
         "4": "English",
         "5": "Comedy",
         "6": "2025-05-17 16:20:37.426342"
        },
        {
         "0": "Fifty Shades of Black",
         "1": "92",
         "2": "2016-01-28",
         "3": "4.3",
         "4": "English",
         "5": "Comedy",
         "6": "2025-05-17 16:20:37.426342"
        },
        {
         "0": "Fifty Shades of Black",
         "1": "92",
         "2": "2016-01-28",
         "3": "4.3",
         "4": "English",
         "5": "Romance",
         "6": "2025-05-17 16:20:37.426342"
        },
        {
         "0": "Fifty Shades of Black",
         "1": "92",
         "2": "2016-01-28",
         "3": "4.3",
         "4": "English",
         "5": "Romance",
         "6": "2025-05-17 16:20:37.426342"
        },
        {
         "0": "The Finest Hours",
         "1": "114",
         "2": "2016-01-25",
         "3": "6.3",
         "4": "English",
         "5": "Drama",
         "6": "2025-05-17 16:20:37.426342"
        },
        {
         "0": "The Finest Hours",
         "1": "114",
         "2": "2016-01-25",
         "3": "6.3",
         "4": "English",
         "5": "Drama",
         "6": "2025-05-17 16:20:37.426342"
        },
        {
         "0": "The Finest Hours",
         "1": "114",
         "2": "2016-01-25",
         "3": "6.3",
         "4": "English",
         "5": "Action",
         "6": "2025-05-17 16:20:37.426342"
        },
        {
         "0": "The Finest Hours",
         "1": "114",
         "2": "2016-01-25",
         "3": "6.3",
         "4": "English",
         "5": "Action",
         "6": "2025-05-17 16:20:37.426342"
        },
        {
         "0": "The Finest Hours",
         "1": "114",
         "2": "2016-01-25",
         "3": "6.3",
         "4": "English",
         "5": "History",
         "6": "2025-05-17 16:20:37.426342"
        },
        {
         "0": "The Finest Hours",
         "1": "114",
         "2": "2016-01-25",
         "3": "6.3",
         "4": "English",
         "5": "History",
         "6": "2025-05-17 16:20:37.426342"
        },
        {
         "0": "The Finest Hours",
         "1": "114",
         "2": "2016-01-25",
         "3": "6.3",
         "4": "English",
         "5": "Thriller",
         "6": "2025-05-17 16:20:37.426342"
        },
        {
         "0": "The Finest Hours",
         "1": "114",
         "2": "2016-01-25",
         "3": "6.3",
         "4": "English",
         "5": "Thriller",
         "6": "2025-05-17 16:20:37.426342"
        },
        {
         "0": "The Boy",
         "1": "97",
         "2": "2016-01-22",
         "3": "5.8",
         "4": "English",
         "5": "Horror",
         "6": "2025-05-17 16:20:37.426342"
        },
        {
         "0": "The Boy",
         "1": "97",
         "2": "2016-01-22",
         "3": "5.8",
         "4": "English",
         "5": "Horror",
         "6": "2025-05-17 16:20:37.426342"
        },
        {
         "0": "The Boy",
         "1": "97",
         "2": "2016-01-22",
         "3": "5.8",
         "4": "English",
         "5": "Thriller",
         "6": "2025-05-17 16:20:37.426342"
        },
        {
         "0": "The Boy",
         "1": "97",
         "2": "2016-01-22",
         "3": "5.8",
         "4": "English",
         "5": "Thriller",
         "6": "2025-05-17 16:20:37.426342"
        },
        {
         "0": "The Boy",
         "1": "97",
         "2": "2016-01-22",
         "3": "5.8",
         "4": "English",
         "5": "Mystery",
         "6": "2025-05-17 16:20:37.426342"
        },
        {
         "0": "The Boy",
         "1": "97",
         "2": "2016-01-22",
         "3": "5.8",
         "4": "English",
         "5": "Mystery",
         "6": "2025-05-17 16:20:37.426342"
        },
        {
         "0": "Airlift",
         "1": "126",
         "2": "2016-01-22",
         "3": "7.3",
         "4": "al-?arabiyyah",
         "5": "Drama",
         "6": "2025-05-17 16:20:37.426342"
        },
        {
         "0": "Airlift",
         "1": "126",
         "2": "2016-01-22",
         "3": "7.3",
         "4": "Malayalã",
         "5": "Drama",
         "6": "2025-05-17 16:20:37.426342"
        },
        {
         "0": "Airlift",
         "1": "126",
         "2": "2016-01-22",
         "3": "7.3",
         "4": "Hindi",
         "5": "Drama",
         "6": "2025-05-17 16:20:37.426342"
        },
        {
         "0": "Airlift",
         "1": "126",
         "2": "2016-01-22",
         "3": "7.3",
         "4": "Hindi",
         "5": "Drama",
         "6": "2025-05-17 16:20:37.426342"
        },
        {
         "0": "Airlift",
         "1": "126",
         "2": "2016-01-22",
         "3": "7.3",
         "4": "al-?arabiyyah",
         "5": "Action",
         "6": "2025-05-17 16:20:37.426342"
        },
        {
         "0": "Airlift",
         "1": "126",
         "2": "2016-01-22",
         "3": "7.3",
         "4": "Malayalã",
         "5": "Action",
         "6": "2025-05-17 16:20:37.426342"
        },
        {
         "0": "Airlift",
         "1": "126",
         "2": "2016-01-22",
         "3": "7.3",
         "4": "Hindi",
         "5": "Action",
         "6": "2025-05-17 16:20:37.426342"
        },
        {
         "0": "Airlift",
         "1": "126",
         "2": "2016-01-22",
         "3": "7.3",
         "4": "Hindi",
         "5": "Action",
         "6": "2025-05-17 16:20:37.426342"
        },
        {
         "0": "Airlift",
         "1": "126",
         "2": "2016-01-22",
         "3": "7.3",
         "4": "al-?arabiyyah",
         "5": "History",
         "6": "2025-05-17 16:20:37.426342"
        },
        {
         "0": "Airlift",
         "1": "126",
         "2": "2016-01-22",
         "3": "7.3",
         "4": "Malayalã",
         "5": "History",
         "6": "2025-05-17 16:20:37.426342"
        },
        {
         "0": "Airlift",
         "1": "126",
         "2": "2016-01-22",
         "3": "7.3",
         "4": "Hindi",
         "5": "History",
         "6": "2025-05-17 16:20:37.426342"
        },
        {
         "0": "Airlift",
         "1": "126",
         "2": "2016-01-22",
         "3": "7.3",
         "4": "Hindi",
         "5": "History",
         "6": "2025-05-17 16:20:37.426342"
        },
        {
         "0": "Airlift",
         "1": "126",
         "2": "2016-01-22",
         "3": "7.3",
         "4": "al-?arabiyyah",
         "5": "Thriller",
         "6": "2025-05-17 16:20:37.426342"
        },
        {
         "0": "Airlift",
         "1": "126",
         "2": "2016-01-22",
         "3": "7.3",
         "4": "Malayalã",
         "5": "Thriller",
         "6": "2025-05-17 16:20:37.426342"
        },
        {
         "0": "Airlift",
         "1": "126",
         "2": "2016-01-22",
         "3": "7.3",
         "4": "Hindi",
         "5": "Thriller",
         "6": "2025-05-17 16:20:37.426342"
        },
        {
         "0": "Airlift",
         "1": "126",
         "2": "2016-01-22",
         "3": "7.3",
         "4": "Hindi",
         "5": "Thriller",
         "6": "2025-05-17 16:20:37.426342"
        },
        {
         "0": "Dirty Grandpa",
         "1": "102",
         "2": "2016-01-21",
         "3": "5.7",
         "4": "English",
         "5": "Comedy",
         "6": "2025-05-17 16:20:37.426342"
        },
        {
         "0": "Dirty Grandpa",
         "1": "102",
         "2": "2016-01-21",
         "3": "5.7",
         "4": "English",
         "5": "Comedy",
         "6": "2025-05-17 16:20:37.426342"
        },
        {
         "0": "How to Be Single",
         "1": "110",
         "2": "2016-01-21",
         "3": "5.9",
         "4": "English",
         "5": "Comedy",
         "6": "2025-05-17 16:20:37.426342"
        },
        {
         "0": "How to Be Single",
         "1": "110",
         "2": "2016-01-21",
         "3": "5.9",
         "4": "English",
         "5": "Comedy",
         "6": "2025-05-17 16:20:37.426342"
        },
        {
         "0": "How to Be Single",
         "1": "110",
         "2": "2016-01-21",
         "3": "5.9",
         "4": "English",
         "5": "Romance",
         "6": "2025-05-17 16:20:37.426342"
        },
        {
         "0": "How to Be Single",
         "1": "110",
         "2": "2016-01-21",
         "3": "5.9",
         "4": "English",
         "5": "Romance",
         "6": "2025-05-17 16:20:37.426342"
        },
        {
         "0": "Ride Along 2",
         "1": "102",
         "2": "2016-01-14",
         "3": "6.1",
         "4": "English",
         "5": "Action",
         "6": "2025-05-17 16:20:37.426342"
        },
        {
         "0": "Ride Along 2",
         "1": "102",
         "2": "2016-01-14",
         "3": "6.1",
         "4": "English",
         "5": "Action",
         "6": "2025-05-17 16:20:37.426342"
        },
        {
         "0": "Ride Along 2",
         "1": "102",
         "2": "2016-01-14",
         "3": "6.1",
         "4": "English",
         "5": "Comedy",
         "6": "2025-05-17 16:20:37.426342"
        },
        {
         "0": "Ride Along 2",
         "1": "102",
         "2": "2016-01-14",
         "3": "6.1",
         "4": "English",
         "5": "Comedy",
         "6": "2025-05-17 16:20:37.426342"
        },
        {
         "0": "The 5th Wave",
         "1": "112",
         "2": "2016-01-14",
         "3": "5.6",
         "4": "English",
         "5": "Adventure",
         "6": "2025-05-17 16:20:37.426342"
        },
        {
         "0": "The 5th Wave",
         "1": "112",
         "2": "2016-01-14",
         "3": "5.6",
         "4": "English",
         "5": "Adventure",
         "6": "2025-05-17 16:20:37.426342"
        },
        {
         "0": "The 5th Wave",
         "1": "112",
         "2": "2016-01-14",
         "3": "5.6",
         "4": "English",
         "5": "Science Fiction",
         "6": "2025-05-17 16:20:37.426342"
        },
        {
         "0": "The 5th Wave",
         "1": "112",
         "2": "2016-01-14",
         "3": "5.6",
         "4": "English",
         "5": "Science Fiction",
         "6": "2025-05-17 16:20:37.426342"
        },
        {
         "0": "13 Hours: The Secret Soldiers of Benghazi",
         "1": "144",
         "2": "2016-01-13",
         "3": "7.0",
         "4": "al-?arabiyyah",
         "5": "Drama",
         "6": "2025-05-17 16:20:37.426342"
        },
        {
         "0": "13 Hours: The Secret Soldiers of Benghazi",
         "1": "144",
         "2": "2016-01-13",
         "3": "7.0",
         "4": "English",
         "5": "Drama",
         "6": "2025-05-17 16:20:37.426342"
        },
        {
         "0": "13 Hours: The Secret Soldiers of Benghazi",
         "1": "144",
         "2": "2016-01-13",
         "3": "7.0",
         "4": "English",
         "5": "Drama",
         "6": "2025-05-17 16:20:37.426342"
        },
        {
         "0": "13 Hours: The Secret Soldiers of Benghazi",
         "1": "144",
         "2": "2016-01-13",
         "3": "7.0",
         "4": "al-?arabiyyah",
         "5": "Action",
         "6": "2025-05-17 16:20:37.426342"
        },
        {
         "0": "13 Hours: The Secret Soldiers of Benghazi",
         "1": "144",
         "2": "2016-01-13",
         "3": "7.0",
         "4": "English",
         "5": "Action",
         "6": "2025-05-17 16:20:37.426342"
        },
        {
         "0": "13 Hours: The Secret Soldiers of Benghazi",
         "1": "144",
         "2": "2016-01-13",
         "3": "7.0",
         "4": "English",
         "5": "Action",
         "6": "2025-05-17 16:20:37.426342"
        },
        {
         "0": "13 Hours: The Secret Soldiers of Benghazi",
         "1": "144",
         "2": "2016-01-13",
         "3": "7.0",
         "4": "al-?arabiyyah",
         "5": "History",
         "6": "2025-05-17 16:20:37.426342"
        },
        {
         "0": "13 Hours: The Secret Soldiers of Benghazi",
         "1": "144",
         "2": "2016-01-13",
         "3": "7.0",
         "4": "English",
         "5": "History",
         "6": "2025-05-17 16:20:37.426342"
        },
        {
         "0": "13 Hours: The Secret Soldiers of Benghazi",
         "1": "144",
         "2": "2016-01-13",
         "3": "7.0",
         "4": "English",
         "5": "History",
         "6": "2025-05-17 16:20:37.426342"
        },
        {
         "0": "13 Hours: The Secret Soldiers of Benghazi",
         "1": "144",
         "2": "2016-01-13",
         "3": "7.0",
         "4": "al-?arabiyyah",
         "5": "Thriller",
         "6": "2025-05-17 16:20:37.426342"
        },
        {
         "0": "13 Hours: The Secret Soldiers of Benghazi",
         "1": "144",
         "2": "2016-01-13",
         "3": "7.0",
         "4": "English",
         "5": "Thriller",
         "6": "2025-05-17 16:20:37.426342"
        },
        {
         "0": "13 Hours: The Secret Soldiers of Benghazi",
         "1": "144",
         "2": "2016-01-13",
         "3": "7.0",
         "4": "English",
         "5": "Thriller",
         "6": "2025-05-17 16:20:37.426342"
        },
        {
         "0": "13 Hours: The Secret Soldiers of Benghazi",
         "1": "144",
         "2": "2016-01-13",
         "3": "7.0",
         "4": "al-?arabiyyah",
         "5": "War",
         "6": "2025-05-17 16:20:37.426342"
        },
        {
         "0": "13 Hours: The Secret Soldiers of Benghazi",
         "1": "144",
         "2": "2016-01-13",
         "3": "7.0",
         "4": "English",
         "5": "War",
         "6": "2025-05-17 16:20:37.426342"
        },
        {
         "0": "13 Hours: The Secret Soldiers of Benghazi",
         "1": "144",
         "2": "2016-01-13",
         "3": "7.0",
         "4": "English",
         "5": "War",
         "6": "2025-05-17 16:20:37.426342"
        },
        {
         "0": "The Masked Saint",
         "1": "111",
         "2": "2016-01-08",
         "3": "2.9",
         "4": "English",
         "5": "Action",
         "6": "2025-05-17 16:20:37.426342"
        },
        {
         "0": "The Masked Saint",
         "1": "111",
         "2": "2016-01-08",
         "3": "2.9",
         "4": "English",
         "5": "Action",
         "6": "2025-05-17 16:20:37.426342"
        },
        {
         "0": "The Masked Saint",
         "1": "111",
         "2": "2016-01-08",
         "3": "2.9",
         "4": "English",
         "5": "Crime",
         "6": "2025-05-17 16:20:37.426342"
        },
        {
         "0": "The Masked Saint",
         "1": "111",
         "2": "2016-01-08",
         "3": "2.9",
         "4": "English",
         "5": "Crime",
         "6": "2025-05-17 16:20:37.426342"
        },
        {
         "0": "The Forest",
         "1": "95",
         "2": "2016-01-07",
         "3": "4.8",
         "4": "English",
         "5": "Horror",
         "6": "2025-05-17 16:20:37.426342"
        },
        {
         "0": "The Forest",
         "1": "95",
         "2": "2016-01-07",
         "3": "4.8",
         "4": "English",
         "5": "Horror",
         "6": "2025-05-17 16:20:37.426342"
        },
        {
         "0": "The Forest",
         "1": "95",
         "2": "2016-01-07",
         "3": "4.8",
         "4": "English",
         "5": "Thriller",
         "6": "2025-05-17 16:20:37.426342"
        },
        {
         "0": "The Forest",
         "1": "95",
         "2": "2016-01-07",
         "3": "4.8",
         "4": "English",
         "5": "Thriller",
         "6": "2025-05-17 16:20:37.426342"
        },
        {
         "0": "Adulterers",
         "1": "80",
         "2": "2016-01-05",
         "3": "5.2",
         "4": "English",
         "5": "Drama",
         "6": "2025-05-17 16:20:37.426342"
        },
        {
         "0": "Adulterers",
         "1": "80",
         "2": "2016-01-05",
         "3": "5.2",
         "4": "English",
         "5": "Drama",
         "6": "2025-05-17 16:20:37.426342"
        },
        {
         "0": "Adulterers",
         "1": "80",
         "2": "2016-01-05",
         "3": "5.2",
         "4": "English",
         "5": "Thriller",
         "6": "2025-05-17 16:20:37.426342"
        },
        {
         "0": "Adulterers",
         "1": "80",
         "2": "2016-01-05",
         "3": "5.2",
         "4": "English",
         "5": "Thriller",
         "6": "2025-05-17 16:20:37.426342"
        },
        {
         "0": "Adulterers",
         "1": "80",
         "2": "2016-01-05",
         "3": "5.2",
         "4": "English",
         "5": "Crime",
         "6": "2025-05-17 16:20:37.426342"
        },
        {
         "0": "Adulterers",
         "1": "80",
         "2": "2016-01-05",
         "3": "5.2",
         "4": "English",
         "5": "Crime",
         "6": "2025-05-17 16:20:37.426342"
        },
        {
         "0": "Rodeo Girl",
         "1": "108",
         "2": "2016-01-05",
         "3": "5.5",
         "4": "English",
         "5": "Family",
         "6": "2025-05-17 16:20:37.426342"
        },
        {
         "0": "Rodeo Girl",
         "1": "108",
         "2": "2016-01-05",
         "3": "5.5",
         "4": "English",
         "5": "Family",
         "6": "2025-05-17 16:20:37.426342"
        },
        {
         "0": "Jane Got a Gun",
         "1": "98",
         "2": "2016-01-01",
         "3": "5.4",
         "4": "English",
         "5": "Drama",
         "6": "2025-05-17 16:20:37.426342"
        },
        {
         "0": "Jane Got a Gun",
         "1": "98",
         "2": "2016-01-01",
         "3": "5.4",
         "4": "English",
         "5": "Drama",
         "6": "2025-05-17 16:20:37.426342"
        },
        {
         "0": "Jane Got a Gun",
         "1": "98",
         "2": "2016-01-01",
         "3": "5.4",
         "4": "English",
         "5": "Action",
         "6": "2025-05-17 16:20:37.426342"
        },
        {
         "0": "Jane Got a Gun",
         "1": "98",
         "2": "2016-01-01",
         "3": "5.4",
         "4": "English",
         "5": "Action",
         "6": "2025-05-17 16:20:37.426342"
        },
        {
         "0": "Jane Got a Gun",
         "1": "98",
         "2": "2016-01-01",
         "3": "5.4",
         "4": "English",
         "5": "Western",
         "6": "2025-05-17 16:20:37.426342"
        },
        {
         "0": "Jane Got a Gun",
         "1": "98",
         "2": "2016-01-01",
         "3": "5.4",
         "4": "English",
         "5": "Western",
         "6": "2025-05-17 16:20:37.426342"
        },
        {
         "0": "Anomalisa",
         "1": "90",
         "2": "2015-12-30",
         "3": "7.0",
         "4": "English",
         "5": "Animation",
         "6": "2025-05-17 16:20:37.426342"
        },
        {
         "0": "Anomalisa",
         "1": "90",
         "2": "2015-12-30",
         "3": "7.0",
         "4": "English",
         "5": "Animation",
         "6": "2025-05-17 16:20:37.426342"
        },
        {
         "0": "Anomalisa",
         "1": "90",
         "2": "2015-12-30",
         "3": "7.0",
         "4": "English",
         "5": "Drama",
         "6": "2025-05-17 16:20:37.426342"
        },
        {
         "0": "Anomalisa",
         "1": "90",
         "2": "2015-12-30",
         "3": "7.0",
         "4": "English",
         "5": "Drama",
         "6": "2025-05-17 16:20:37.426342"
        },
        {
         "0": "Anomalisa",
         "1": "90",
         "2": "2015-12-30",
         "3": "7.0",
         "4": "English",
         "5": "Comedy",
         "6": "2025-05-17 16:20:37.426342"
        },
        {
         "0": "Anomalisa",
         "1": "90",
         "2": "2015-12-30",
         "3": "7.0",
         "4": "English",
         "5": "Comedy",
         "6": "2025-05-17 16:20:37.426342"
        },
        {
         "0": "Anomalisa",
         "1": "90",
         "2": "2015-12-30",
         "3": "7.0",
         "4": "English",
         "5": "Romance",
         "6": "2025-05-17 16:20:37.426342"
        },
        {
         "0": "Anomalisa",
         "1": "90",
         "2": "2015-12-30",
         "3": "7.0",
         "4": "English",
         "5": "Romance",
         "6": "2025-05-17 16:20:37.426342"
        },
        {
         "0": "Daddy's Home",
         "1": "96",
         "2": "2015-12-25",
         "3": "5.8",
         "4": "English",
         "5": "Comedy",
         "6": "2025-05-17 16:20:37.426342"
        },
        {
         "0": "Daddy's Home",
         "1": "96",
         "2": "2015-12-25",
         "3": "5.8",
         "4": "English",
         "5": "Comedy",
         "6": "2025-05-17 16:20:37.426342"
        },
        {
         "0": "The Revenant",
         "1": "156",
         "2": "2015-12-25",
         "3": "7.3",
         "4": "Français",
         "5": "Adventure",
         "6": "2025-05-17 16:20:37.426342"
        },
        {
         "0": "The Revenant",
         "1": "156",
         "2": "2015-12-25",
         "3": "7.3",
         "4": "English",
         "5": "Adventure",
         "6": "2025-05-17 16:20:37.426342"
        },
        {
         "0": "The Revenant",
         "1": "156",
         "2": "2015-12-25",
         "3": "7.3",
         "4": "English",
         "5": "Adventure",
         "6": "2025-05-17 16:20:37.426342"
        },
        {
         "0": "The Revenant",
         "1": "156",
         "2": "2015-12-25",
         "3": "7.3",
         "4": "Français",
         "5": "Drama",
         "6": "2025-05-17 16:20:37.426342"
        },
        {
         "0": "The Revenant",
         "1": "156",
         "2": "2015-12-25",
         "3": "7.3",
         "4": "English",
         "5": "Drama",
         "6": "2025-05-17 16:20:37.426342"
        },
        {
         "0": "The Revenant",
         "1": "156",
         "2": "2015-12-25",
         "3": "7.3",
         "4": "English",
         "5": "Drama",
         "6": "2025-05-17 16:20:37.426342"
        },
        {
         "0": "The Revenant",
         "1": "156",
         "2": "2015-12-25",
         "3": "7.3",
         "4": "Français",
         "5": "Western",
         "6": "2025-05-17 16:20:37.426342"
        },
        {
         "0": "The Revenant",
         "1": "156",
         "2": "2015-12-25",
         "3": "7.3",
         "4": "English",
         "5": "Western",
         "6": "2025-05-17 16:20:37.426342"
        },
        {
         "0": "The Revenant",
         "1": "156",
         "2": "2015-12-25",
         "3": "7.3",
         "4": "English",
         "5": "Western",
         "6": "2025-05-17 16:20:37.426342"
        },
        {
         "0": "The Revenant",
         "1": "156",
         "2": "2015-12-25",
         "3": "7.3",
         "4": "Français",
         "5": "Thriller",
         "6": "2025-05-17 16:20:37.426342"
        },
        {
         "0": "The Revenant",
         "1": "156",
         "2": "2015-12-25",
         "3": "7.3",
         "4": "English",
         "5": "Thriller",
         "6": "2025-05-17 16:20:37.426342"
        },
        {
         "0": "The Revenant",
         "1": "156",
         "2": "2015-12-25",
         "3": "7.3",
         "4": "English",
         "5": "Thriller",
         "6": "2025-05-17 16:20:37.426342"
        },
        {
         "0": "The Hateful Eight",
         "1": "167",
         "2": "2015-12-25",
         "3": "7.6",
         "4": "Español",
         "5": "Drama",
         "6": "2025-05-17 16:20:37.426342"
        },
        {
         "0": "The Hateful Eight",
         "1": "167",
         "2": "2015-12-25",
         "3": "7.6",
         "4": "English",
         "5": "Drama",
         "6": "2025-05-17 16:20:37.426342"
        },
        {
         "0": "The Hateful Eight",
         "1": "167",
         "2": "2015-12-25",
         "3": "7.6",
         "4": "English",
         "5": "Drama",
         "6": "2025-05-17 16:20:37.426342"
        },
        {
         "0": "The Hateful Eight",
         "1": "167",
         "2": "2015-12-25",
         "3": "7.6",
         "4": "Español",
         "5": "Western",
         "6": "2025-05-17 16:20:37.426342"
        },
        {
         "0": "The Hateful Eight",
         "1": "167",
         "2": "2015-12-25",
         "3": "7.6",
         "4": "English",
         "5": "Western",
         "6": "2025-05-17 16:20:37.426342"
        },
        {
         "0": "The Hateful Eight",
         "1": "167",
         "2": "2015-12-25",
         "3": "7.6",
         "4": "English",
         "5": "Western",
         "6": "2025-05-17 16:20:37.426342"
        },
        {
         "0": "The Hateful Eight",
         "1": "167",
         "2": "2015-12-25",
         "3": "7.6",
         "4": "Español",
         "5": "Crime",
         "6": "2025-05-17 16:20:37.426342"
        },
        {
         "0": "The Hateful Eight",
         "1": "167",
         "2": "2015-12-25",
         "3": "7.6",
         "4": "English",
         "5": "Crime",
         "6": "2025-05-17 16:20:37.426342"
        },
        {
         "0": "The Hateful Eight",
         "1": "167",
         "2": "2015-12-25",
         "3": "7.6",
         "4": "English",
         "5": "Crime",
         "6": "2025-05-17 16:20:37.426342"
        },
        {
         "0": "The Hateful Eight",
         "1": "167",
         "2": "2015-12-25",
         "3": "7.6",
         "4": "Español",
         "5": "Mystery",
         "6": "2025-05-17 16:20:37.426342"
        },
        {
         "0": "The Hateful Eight",
         "1": "167",
         "2": "2015-12-25",
         "3": "7.6",
         "4": "English",
         "5": "Mystery",
         "6": "2025-05-17 16:20:37.426342"
        },
        {
         "0": "The Hateful Eight",
         "1": "167",
         "2": "2015-12-25",
         "3": "7.6",
         "4": "English",
         "5": "Mystery",
         "6": "2025-05-17 16:20:37.426342"
        },
        {
         "0": "Joy",
         "1": "124",
         "2": "2015-12-24",
         "3": "6.4",
         "4": "Español",
         "5": "Drama",
         "6": "2025-05-17 16:20:37.426342"
        },
        {
         "0": "Joy",
         "1": "124",
         "2": "2015-12-24",
         "3": "6.4",
         "4": "English",
         "5": "Drama",
         "6": "2025-05-17 16:20:37.426342"
        },
        {
         "0": "Joy",
         "1": "124",
         "2": "2015-12-24",
         "3": "6.4",
         "4": "English",
         "5": "Drama",
         "6": "2025-05-17 16:20:37.426342"
        },
        {
         "0": "Joy",
         "1": "124",
         "2": "2015-12-24",
         "3": "6.4",
         "4": "Español",
         "5": "Comedy",
         "6": "2025-05-17 16:20:37.426342"
        },
        {
         "0": "Joy",
         "1": "124",
         "2": "2015-12-24",
         "3": "6.4",
         "4": "English",
         "5": "Comedy",
         "6": "2025-05-17 16:20:37.426342"
        },
        {
         "0": "Joy",
         "1": "124",
         "2": "2015-12-24",
         "3": "6.4",
         "4": "English",
         "5": "Comedy",
         "6": "2025-05-17 16:20:37.426342"
        },
        {
         "0": "Alvin and the Chipmunks: The Road Chip",
         "1": "92",
         "2": "2015-12-17",
         "3": "5.8",
         "4": "English",
         "5": "Adventure",
         "6": "2025-05-17 16:20:37.426342"
        },
        {
         "0": "Alvin and the Chipmunks: The Road Chip",
         "1": "92",
         "2": "2015-12-17",
         "3": "5.8",
         "4": "English",
         "5": "Adventure",
         "6": "2025-05-17 16:20:37.426342"
        },
        {
         "0": "Alvin and the Chipmunks: The Road Chip",
         "1": "92",
         "2": "2015-12-17",
         "3": "5.8",
         "4": "English",
         "5": "Animation",
         "6": "2025-05-17 16:20:37.426342"
        },
        {
         "0": "Alvin and the Chipmunks: The Road Chip",
         "1": "92",
         "2": "2015-12-17",
         "3": "5.8",
         "4": "English",
         "5": "Animation",
         "6": "2025-05-17 16:20:37.426342"
        },
        {
         "0": "Alvin and the Chipmunks: The Road Chip",
         "1": "92",
         "2": "2015-12-17",
         "3": "5.8",
         "4": "English",
         "5": "Comedy",
         "6": "2025-05-17 16:20:37.426342"
        },
        {
         "0": "Alvin and the Chipmunks: The Road Chip",
         "1": "92",
         "2": "2015-12-17",
         "3": "5.8",
         "4": "English",
         "5": "Comedy",
         "6": "2025-05-17 16:20:37.426342"
        },
        {
         "0": "Alvin and the Chipmunks: The Road Chip",
         "1": "92",
         "2": "2015-12-17",
         "3": "5.8",
         "4": "English",
         "5": "Family",
         "6": "2025-05-17 16:20:37.426342"
        },
        {
         "0": "Alvin and the Chipmunks: The Road Chip",
         "1": "92",
         "2": "2015-12-17",
         "3": "5.8",
         "4": "English",
         "5": "Family",
         "6": "2025-05-17 16:20:37.426342"
        },
        {
         "0": "To Be Frank, Sinatra at 100",
         "1": "75",
         "2": "2015-12-12",
         "3": "0.0",
         "4": "English",
         "5": "Documentary",
         "6": "2025-05-17 16:20:37.426342"
        },
        {
         "0": "American Hero",
         "1": "86",
         "2": "2015-12-11",
         "3": "5.0",
         "4": "English",
         "5": "Action",
         "6": "2025-05-17 16:20:37.426342"
        },
        {
         "0": "American Hero",
         "1": "86",
         "2": "2015-12-11",
         "3": "5.0",
         "4": "English",
         "5": "Action",
         "6": "2025-05-17 16:20:37.426342"
        },
        {
         "0": "American Hero",
         "1": "86",
         "2": "2015-12-11",
         "3": "5.0",
         "4": "English",
         "5": "Comedy",
         "6": "2025-05-17 16:20:37.426342"
        },
        {
         "0": "American Hero",
         "1": "86",
         "2": "2015-12-11",
         "3": "5.0",
         "4": "English",
         "5": "Comedy",
         "6": "2025-05-17 16:20:37.426342"
        },
        {
         "0": "American Hero",
         "1": "86",
         "2": "2015-12-11",
         "3": "5.0",
         "4": "English",
         "5": "Science Fiction",
         "6": "2025-05-17 16:20:37.426342"
        },
        {
         "0": "American Hero",
         "1": "86",
         "2": "2015-12-11",
         "3": "5.0",
         "4": "English",
         "5": "Science Fiction",
         "6": "2025-05-17 16:20:37.426342"
        },
        {
         "0": "The Big Short",
         "1": "130",
         "2": "2015-12-11",
         "3": "7.3",
         "4": "English",
         "5": "Drama",
         "6": "2025-05-17 16:20:37.426342"
        },
        {
         "0": "The Big Short",
         "1": "130",
         "2": "2015-12-11",
         "3": "7.3",
         "4": "English",
         "5": "Drama",
         "6": "2025-05-17 16:20:37.426342"
        },
        {
         "0": "The Big Short",
         "1": "130",
         "2": "2015-12-11",
         "3": "7.3",
         "4": "English",
         "5": "Comedy",
         "6": "2025-05-17 16:20:37.426342"
        },
        {
         "0": "The Big Short",
         "1": "130",
         "2": "2015-12-11",
         "3": "7.3",
         "4": "English",
         "5": "Comedy",
         "6": "2025-05-17 16:20:37.426342"
        },
        {
         "0": "The Ridiculous 6",
         "1": "119",
         "2": "2015-12-11",
         "3": "4.9",
         "4": "English",
         "5": "Comedy",
         "6": "2025-05-17 16:20:37.426342"
        },
        {
         "0": "The Ridiculous 6",
         "1": "119",
         "2": "2015-12-11",
         "3": "4.9",
         "4": "English",
         "5": "Comedy",
         "6": "2025-05-17 16:20:37.426342"
        },
        {
         "0": "The Ridiculous 6",
         "1": "119",
         "2": "2015-12-11",
         "3": "4.9",
         "4": "English",
         "5": "Western",
         "6": "2025-05-17 16:20:37.426342"
        },
        {
         "0": "The Ridiculous 6",
         "1": "119",
         "2": "2015-12-11",
         "3": "4.9",
         "4": "English",
         "5": "Western",
         "6": "2025-05-17 16:20:37.426342"
        },
        {
         "0": "Close Range",
         "1": "80",
         "2": "2015-12-11",
         "3": "4.9",
         "4": "English",
         "5": "Action",
         "6": "2025-05-17 16:20:37.426342"
        },
        {
         "0": "Close Range",
         "1": "80",
         "2": "2015-12-11",
         "3": "4.9",
         "4": "English",
         "5": "Action",
         "6": "2025-05-17 16:20:37.426342"
        },
        {
         "0": "Close Range",
         "1": "80",
         "2": "2015-12-11",
         "3": "4.9",
         "4": "English",
         "5": "Crime",
         "6": "2025-05-17 16:20:37.426342"
        },
        {
         "0": "Close Range",
         "1": "80",
         "2": "2015-12-11",
         "3": "4.9",
         "4": "English",
         "5": "Crime",
         "6": "2025-05-17 16:20:37.426342"
        },
        {
         "0": "Christmas Eve",
         "1": "95",
         "2": "2015-12-04",
         "3": "6.1",
         "4": "English",
         "5": "Comedy",
         "6": "2025-05-17 16:20:37.426342"
        },
        {
         "0": "Christmas Eve",
         "1": "95",
         "2": "2015-12-04",
         "3": "6.1",
         "4": "Português",
         "5": "Comedy",
         "6": "2025-05-17 16:20:37.426342"
        },
        {
         "0": "Christmas Eve",
         "1": "95",
         "2": "2015-12-04",
         "3": "6.1",
         "4": "English",
         "5": "Comedy",
         "6": "2025-05-17 16:20:37.426342"
        },
        {
         "0": "Christmas Eve",
         "1": "95",
         "2": "2015-12-04",
         "3": "6.1",
         "4": "English",
         "5": "Romance",
         "6": "2025-05-17 16:20:37.426342"
        },
        {
         "0": "Christmas Eve",
         "1": "95",
         "2": "2015-12-04",
         "3": "6.1",
         "4": "Português",
         "5": "Romance",
         "6": "2025-05-17 16:20:37.426342"
        },
        {
         "0": "Christmas Eve",
         "1": "95",
         "2": "2015-12-04",
         "3": "6.1",
         "4": "English",
         "5": "Romance",
         "6": "2025-05-17 16:20:37.426342"
        },
        {
         "0": "Point Break",
         "1": "114",
         "2": "2015-12-03",
         "3": "5.5",
         "4": "English",
         "5": "Action",
         "6": "2025-05-17 16:20:37.426342"
        },
        {
         "0": "Point Break",
         "1": "114",
         "2": "2015-12-03",
         "3": "5.5",
         "4": "English",
         "5": "Action",
         "6": "2025-05-17 16:20:37.426342"
        },
        {
         "0": "Point Break",
         "1": "114",
         "2": "2015-12-03",
         "3": "5.5",
         "4": "English",
         "5": "Thriller",
         "6": "2025-05-17 16:20:37.426342"
        },
        {
         "0": "Point Break",
         "1": "114",
         "2": "2015-12-03",
         "3": "5.5",
         "4": "English",
         "5": "Thriller",
         "6": "2025-05-17 16:20:37.426342"
        },
        {
         "0": "Point Break",
         "1": "114",
         "2": "2015-12-03",
         "3": "5.5",
         "4": "English",
         "5": "Crime",
         "6": "2025-05-17 16:20:37.426342"
        },
        {
         "0": "Point Break",
         "1": "114",
         "2": "2015-12-03",
         "3": "5.5",
         "4": "English",
         "5": "Crime",
         "6": "2025-05-17 16:20:37.426342"
        },
        {
         "0": "Chiamatemi Francesco - Il Papa della gente",
         "1": "75",
         "2": "2015-12-03",
         "3": "7.3",
         "4": "Español",
         "5": "Drama",
         "6": "2025-05-17 16:20:37.426342"
        },
        {
         "0": "Chiamatemi Francesco - Il Papa della gente",
         "1": "75",
         "2": "2015-12-03",
         "3": "7.3",
         "4": "Italiano",
         "5": "Drama",
         "6": "2025-05-17 16:20:37.426342"
        },
        {
         "0": "Krampus",
         "1": "98",
         "2": "2015-11-26",
         "3": "5.9",
         "4": "Deutsch",
         "5": "Fantasy",
         "6": "2025-05-17 16:20:37.426342"
        },
        {
         "0": "Krampus",
         "1": "98",
         "2": "2015-11-26",
         "3": "5.9",
         "4": "English",
         "5": "Fantasy",
         "6": "2025-05-17 16:20:37.426342"
        },
        {
         "0": "Krampus",
         "1": "98",
         "2": "2015-11-26",
         "3": "5.9",
         "4": "English",
         "5": "Fantasy",
         "6": "2025-05-17 16:20:37.426342"
        },
        {
         "0": "Krampus",
         "1": "98",
         "2": "2015-11-26",
         "3": "5.9",
         "4": "Deutsch",
         "5": "Horror",
         "6": "2025-05-17 16:20:37.426342"
        },
        {
         "0": "Krampus",
         "1": "98",
         "2": "2015-11-26",
         "3": "5.9",
         "4": "English",
         "5": "Horror",
         "6": "2025-05-17 16:20:37.426342"
        },
        {
         "0": "Krampus",
         "1": "98",
         "2": "2015-11-26",
         "3": "5.9",
         "4": "English",
         "5": "Horror",
         "6": "2025-05-17 16:20:37.426342"
        },
        {
         "0": "Krampus",
         "1": "98",
         "2": "2015-11-26",
         "3": "5.9",
         "4": "Deutsch",
         "5": "Comedy",
         "6": "2025-05-17 16:20:37.426342"
        },
        {
         "0": "Krampus",
         "1": "98",
         "2": "2015-11-26",
         "3": "5.9",
         "4": "English",
         "5": "Comedy",
         "6": "2025-05-17 16:20:37.426342"
        },
        {
         "0": "Krampus",
         "1": "98",
         "2": "2015-11-26",
         "3": "5.9",
         "4": "English",
         "5": "Comedy",
         "6": "2025-05-17 16:20:37.426342"
        },
        {
         "0": "Creed",
         "1": "133",
         "2": "2015-11-25",
         "3": "7.3",
         "4": "English",
         "5": "Drama",
         "6": "2025-05-17 16:20:37.426342"
        },
        {
         "0": "Creed",
         "1": "133",
         "2": "2015-11-25",
         "3": "7.3",
         "4": "English",
         "5": "Drama",
         "6": "2025-05-17 16:20:37.426342"
        },
        {
         "0": "10 Days in a Madhouse",
         "1": "111",
         "2": "2015-11-20",
         "3": "4.3",
         "4": "English",
         "5": "Drama",
         "6": "2025-05-17 16:20:37.426342"
        },
        {
         "0": "10 Days in a Madhouse",
         "1": "111",
         "2": "2015-11-20",
         "3": "4.3",
         "4": "English",
         "5": "Drama",
         "6": "2025-05-17 16:20:37.426342"
        },
        {
         "0": "In the Heart of the Sea",
         "1": "122",
         "2": "2015-11-20",
         "3": "6.5",
         "4": "English",
         "5": "Adventure",
         "6": "2025-05-17 16:20:37.426342"
        },
        {
         "0": "In the Heart of the Sea",
         "1": "122",
         "2": "2015-11-20",
         "3": "6.5",
         "4": "English",
         "5": "Adventure",
         "6": "2025-05-17 16:20:37.426342"
        },
        {
         "0": "In the Heart of the Sea",
         "1": "122",
         "2": "2015-11-20",
         "3": "6.5",
         "4": "English",
         "5": "Drama",
         "6": "2025-05-17 16:20:37.426342"
        },
        {
         "0": "In the Heart of the Sea",
         "1": "122",
         "2": "2015-11-20",
         "3": "6.5",
         "4": "English",
         "5": "Drama",
         "6": "2025-05-17 16:20:37.426342"
        },
        {
         "0": "In the Heart of the Sea",
         "1": "122",
         "2": "2015-11-20",
         "3": "6.5",
         "4": "English",
         "5": "Action",
         "6": "2025-05-17 16:20:37.426342"
        },
        {
         "0": "In the Heart of the Sea",
         "1": "122",
         "2": "2015-11-20",
         "3": "6.5",
         "4": "English",
         "5": "Action",
         "6": "2025-05-17 16:20:37.426342"
        },
        {
         "0": "In the Heart of the Sea",
         "1": "122",
         "2": "2015-11-20",
         "3": "6.5",
         "4": "English",
         "5": "History",
         "6": "2025-05-17 16:20:37.426342"
        },
        {
         "0": "In the Heart of the Sea",
         "1": "122",
         "2": "2015-11-20",
         "3": "6.5",
         "4": "English",
         "5": "History",
         "6": "2025-05-17 16:20:37.426342"
        },
        {
         "0": "In the Heart of the Sea",
         "1": "122",
         "2": "2015-11-20",
         "3": "6.5",
         "4": "English",
         "5": "Thriller",
         "6": "2025-05-17 16:20:37.426342"
        },
        {
         "0": "In the Heart of the Sea",
         "1": "122",
         "2": "2015-11-20",
         "3": "6.5",
         "4": "English",
         "5": "Thriller",
         "6": "2025-05-17 16:20:37.426342"
        },
        {
         "0": "#Horror",
         "1": "90",
         "2": "2015-11-20",
         "3": "3.3",
         "4": "Español",
         "5": "Drama",
         "6": "2025-05-17 16:20:37.426342"
        },
        {
         "0": "#Horror",
         "1": "90",
         "2": "2015-11-20",
         "3": "3.3",
         "4": "English",
         "5": "Drama",
         "6": "2025-05-17 16:20:37.426342"
        },
        {
         "0": "#Horror",
         "1": "90",
         "2": "2015-11-20",
         "3": "3.3",
         "4": "Deutsch",
         "5": "Drama",
         "6": "2025-05-17 16:20:37.426342"
        },
        {
         "0": "#Horror",
         "1": "90",
         "2": "2015-11-20",
         "3": "3.3",
         "4": "Español",
         "5": "Horror",
         "6": "2025-05-17 16:20:37.426342"
        },
        {
         "0": "#Horror",
         "1": "90",
         "2": "2015-11-20",
         "3": "3.3",
         "4": "English",
         "5": "Horror",
         "6": "2025-05-17 16:20:37.426342"
        },
        {
         "0": "#Horror",
         "1": "90",
         "2": "2015-11-20",
         "3": "3.3",
         "4": "Deutsch",
         "5": "Horror",
         "6": "2025-05-17 16:20:37.426342"
        },
        {
         "0": "#Horror",
         "1": "90",
         "2": "2015-11-20",
         "3": "3.3",
         "4": "Español",
         "5": "Thriller",
         "6": "2025-05-17 16:20:37.426342"
        },
        {
         "0": "#Horror",
         "1": "90",
         "2": "2015-11-20",
         "3": "3.3",
         "4": "English",
         "5": "Thriller",
         "6": "2025-05-17 16:20:37.426342"
        },
        {
         "0": "#Horror",
         "1": "90",
         "2": "2015-11-20",
         "3": "3.3",
         "4": "Deutsch",
         "5": "Thriller",
         "6": "2025-05-17 16:20:37.426342"
        },
        {
         "0": "#Horror",
         "1": "90",
         "2": "2015-11-20",
         "3": "3.3",
         "4": "Español",
         "5": "Mystery",
         "6": "2025-05-17 16:20:37.426342"
        },
        {
         "0": "#Horror",
         "1": "90",
         "2": "2015-11-20",
         "3": "3.3",
         "4": "English",
         "5": "Mystery",
         "6": "2025-05-17 16:20:37.426342"
        },
        {
         "0": "#Horror",
         "1": "90",
         "2": "2015-11-20",
         "3": "3.3",
         "4": "Deutsch",
         "5": "Mystery",
         "6": "2025-05-17 16:20:37.426342"
        },
        {
         "0": "Criminal Activities",
         "1": "94",
         "2": "2015-11-20",
         "3": "5.8",
         "4": "English",
         "5": "Drama",
         "6": "2025-05-17 16:20:37.426342"
        },
        {
         "0": "Criminal Activities",
         "1": "94",
         "2": "2015-11-20",
         "3": "5.8",
         "4": "English",
         "5": "Drama",
         "6": "2025-05-17 16:20:37.426342"
        },
        {
         "0": "Criminal Activities",
         "1": "94",
         "2": "2015-11-20",
         "3": "5.8",
         "4": "English",
         "5": "Thriller",
         "6": "2025-05-17 16:20:37.426342"
        },
        {
         "0": "Criminal Activities",
         "1": "94",
         "2": "2015-11-20",
         "3": "5.8",
         "4": "English",
         "5": "Thriller",
         "6": "2025-05-17 16:20:37.426342"
        },
        {
         "0": "Criminal Activities",
         "1": "94",
         "2": "2015-11-20",
         "3": "5.8",
         "4": "English",
         "5": "Crime",
         "6": "2025-05-17 16:20:37.426342"
        },
        {
         "0": "Criminal Activities",
         "1": "94",
         "2": "2015-11-20",
         "3": "5.8",
         "4": "English",
         "5": "Crime",
         "6": "2025-05-17 16:20:37.426342"
        },
        {
         "0": "The Hunger Games: Mockingjay - Part 2",
         "1": "137",
         "2": "2015-11-18",
         "3": "6.6",
         "4": "English",
         "5": "Adventure",
         "6": "2025-05-17 16:20:37.426342"
        },
        {
         "0": "The Hunger Games: Mockingjay - Part 2",
         "1": "137",
         "2": "2015-11-18",
         "3": "6.6",
         "4": "English",
         "5": "Adventure",
         "6": "2025-05-17 16:20:37.426342"
        },
        {
         "0": "The Hunger Games: Mockingjay - Part 2",
         "1": "137",
         "2": "2015-11-18",
         "3": "6.6",
         "4": "English",
         "5": "Action",
         "6": "2025-05-17 16:20:37.426342"
        },
        {
         "0": "The Hunger Games: Mockingjay - Part 2",
         "1": "137",
         "2": "2015-11-18",
         "3": "6.6",
         "4": "English",
         "5": "Action",
         "6": "2025-05-17 16:20:37.426342"
        },
        {
         "0": "The Hunger Games: Mockingjay - Part 2",
         "1": "137",
         "2": "2015-11-18",
         "3": "6.6",
         "4": "English",
         "5": "Science Fiction",
         "6": "2025-05-17 16:20:37.426342"
        },
        {
         "0": "The Hunger Games: Mockingjay - Part 2",
         "1": "137",
         "2": "2015-11-18",
         "3": "6.6",
         "4": "English",
         "5": "Science Fiction",
         "6": "2025-05-17 16:20:37.426342"
        },
        {
         "0": "The Good Dinosaur",
         "1": "93",
         "2": "2015-11-14",
         "3": "6.6",
         "4": "English",
         "5": "Adventure",
         "6": "2025-05-17 16:20:37.426342"
        },
        {
         "0": "The Good Dinosaur",
         "1": "93",
         "2": "2015-11-14",
         "3": "6.6",
         "4": "English",
         "5": "Adventure",
         "6": "2025-05-17 16:20:37.426342"
        },
        {
         "0": "The Good Dinosaur",
         "1": "93",
         "2": "2015-11-14",
         "3": "6.6",
         "4": "English",
         "5": "Animation",
         "6": "2025-05-17 16:20:37.426342"
        },
        {
         "0": "The Good Dinosaur",
         "1": "93",
         "2": "2015-11-14",
         "3": "6.6",
         "4": "English",
         "5": "Animation",
         "6": "2025-05-17 16:20:37.426342"
        },
        {
         "0": "The Good Dinosaur",
         "1": "93",
         "2": "2015-11-14",
         "3": "6.6",
         "4": "English",
         "5": "Family",
         "6": "2025-05-17 16:20:37.426342"
        },
        {
         "0": "The Good Dinosaur",
         "1": "93",
         "2": "2015-11-14",
         "3": "6.6",
         "4": "English",
         "5": "Family",
         "6": "2025-05-17 16:20:37.426342"
        },
        {
         "0": "Heist",
         "1": "93",
         "2": "2015-11-13",
         "3": "5.6",
         "4": "English",
         "5": "Action",
         "6": "2025-05-17 16:20:37.426342"
        },
        {
         "0": "Heist",
         "1": "93",
         "2": "2015-11-13",
         "3": "5.6",
         "4": "English",
         "5": "Action",
         "6": "2025-05-17 16:20:37.426342"
        },
        {
         "0": "Heist",
         "1": "93",
         "2": "2015-11-13",
         "3": "5.6",
         "4": "English",
         "5": "Thriller",
         "6": "2025-05-17 16:20:37.426342"
        },
        {
         "0": "Heist",
         "1": "93",
         "2": "2015-11-13",
         "3": "5.6",
         "4": "English",
         "5": "Thriller",
         "6": "2025-05-17 16:20:37.426342"
        },
        {
         "0": "Heist",
         "1": "93",
         "2": "2015-11-13",
         "3": "5.6",
         "4": "English",
         "5": "Crime",
         "6": "2025-05-17 16:20:37.426342"
        },
        {
         "0": "Heist",
         "1": "93",
         "2": "2015-11-13",
         "3": "5.6",
         "4": "English",
         "5": "Crime",
         "6": "2025-05-17 16:20:37.426342"
        },
        {
         "0": "My All American",
         "1": "118",
         "2": "2015-11-13",
         "3": "6.8",
         "4": "English",
         "5": "Drama",
         "6": "2025-05-17 16:20:37.426342"
        },
        {
         "0": "My All American",
         "1": "118",
         "2": "2015-11-13",
         "3": "6.8",
         "4": "English",
         "5": "Drama",
         "6": "2025-05-17 16:20:37.426342"
        },
        {
         "0": "By the Sea",
         "1": "122",
         "2": "2015-11-12",
         "3": "5.4",
         "4": "Français",
         "5": "Drama",
         "6": "2025-05-17 16:20:37.426342"
        },
        {
         "0": "By the Sea",
         "1": "122",
         "2": "2015-11-12",
         "3": "5.4",
         "4": "English",
         "5": "Drama",
         "6": "2025-05-17 16:20:37.426342"
        },
        {
         "0": "By the Sea",
         "1": "122",
         "2": "2015-11-12",
         "3": "5.4",
         "4": "Ukra?nska",
         "5": "Drama",
         "6": "2025-05-17 16:20:37.426342"
        },
        {
         "0": "By the Sea",
         "1": "122",
         "2": "2015-11-12",
         "3": "5.4",
         "4": "English",
         "5": "Drama",
         "6": "2025-05-17 16:20:37.426342"
        },
        {
         "0": "By the Sea",
         "1": "122",
         "2": "2015-11-12",
         "3": "5.4",
         "4": "Français",
         "5": "Romance",
         "6": "2025-05-17 16:20:37.426342"
        },
        {
         "0": "By the Sea",
         "1": "122",
         "2": "2015-11-12",
         "3": "5.4",
         "4": "English",
         "5": "Romance",
         "6": "2025-05-17 16:20:37.426342"
        },
        {
         "0": "By the Sea",
         "1": "122",
         "2": "2015-11-12",
         "3": "5.4",
         "4": "Ukra?nska",
         "5": "Romance",
         "6": "2025-05-17 16:20:37.426342"
        },
        {
         "0": "By the Sea",
         "1": "122",
         "2": "2015-11-12",
         "3": "5.4",
         "4": "English",
         "5": "Romance",
         "6": "2025-05-17 16:20:37.426342"
        },
        {
         "0": "Concussion",
         "1": "123",
         "2": "2015-11-12",
         "3": "7.0",
         "4": "English",
         "5": "Drama",
         "6": "2025-05-17 16:20:37.426342"
        },
        {
         "0": "Concussion",
         "1": "123",
         "2": "2015-11-12",
         "3": "7.0",
         "4": "English",
         "5": "Drama",
         "6": "2025-05-17 16:20:37.426342"
        },
        {
         "0": "Love the Coopers",
         "1": "107",
         "2": "2015-11-12",
         "3": "5.4",
         "4": "English",
         "5": "Comedy",
         "6": "2025-05-17 16:20:37.426342"
        },
        {
         "0": "Love the Coopers",
         "1": "107",
         "2": "2015-11-12",
         "3": "5.4",
         "4": "English",
         "5": "Comedy",
         "6": "2025-05-17 16:20:37.426342"
        },
        {
         "0": "Love the Coopers",
         "1": "107",
         "2": "2015-11-12",
         "3": "5.4",
         "4": "English",
         "5": "Family",
         "6": "2025-05-17 16:20:37.426342"
        },
        {
         "0": "Love the Coopers",
         "1": "107",
         "2": "2015-11-12",
         "3": "5.4",
         "4": "English",
         "5": "Family",
         "6": "2025-05-17 16:20:37.426342"
        },
        {
         "0": "Victor Frankenstein",
         "1": "109",
         "2": "2015-11-10",
         "3": "5.6",
         "4": "English",
         "5": "Drama",
         "6": "2025-05-17 16:20:37.426342"
        },
        {
         "0": "Victor Frankenstein",
         "1": "109",
         "2": "2015-11-10",
         "3": "5.6",
         "4": "English",
         "5": "Drama",
         "6": "2025-05-17 16:20:37.426342"
        },
        {
         "0": "Victor Frankenstein",
         "1": "109",
         "2": "2015-11-10",
         "3": "5.6",
         "4": "English",
         "5": "Thriller",
         "6": "2025-05-17 16:20:37.426342"
        },
        {
         "0": "Victor Frankenstein",
         "1": "109",
         "2": "2015-11-10",
         "3": "5.6",
         "4": "English",
         "5": "Thriller",
         "6": "2025-05-17 16:20:37.426342"
        },
        {
         "0": "Victor Frankenstein",
         "1": "109",
         "2": "2015-11-10",
         "3": "5.6",
         "4": "English",
         "5": "Science Fiction",
         "6": "2025-05-17 16:20:37.426342"
        },
        {
         "0": "Victor Frankenstein",
         "1": "109",
         "2": "2015-11-10",
         "3": "5.6",
         "4": "English",
         "5": "Science Fiction",
         "6": "2025-05-17 16:20:37.426342"
        },
        {
         "0": "Spotlight",
         "1": "128",
         "2": "2015-11-06",
         "3": "7.8",
         "4": "English",
         "5": "Drama",
         "6": "2025-05-17 16:20:37.426342"
        },
        {
         "0": "Spotlight",
         "1": "128",
         "2": "2015-11-06",
         "3": "7.8",
         "4": "English",
         "5": "Drama",
         "6": "2025-05-17 16:20:37.426342"
        },
        {
         "0": "Spotlight",
         "1": "128",
         "2": "2015-11-06",
         "3": "7.8",
         "4": "English",
         "5": "History",
         "6": "2025-05-17 16:20:37.426342"
        },
        {
         "0": "Spotlight",
         "1": "128",
         "2": "2015-11-06",
         "3": "7.8",
         "4": "English",
         "5": "History",
         "6": "2025-05-17 16:20:37.426342"
        },
        {
         "0": "Spotlight",
         "1": "128",
         "2": "2015-11-06",
         "3": "7.8",
         "4": "English",
         "5": "Thriller",
         "6": "2025-05-17 16:20:37.426342"
        },
        {
         "0": "Spotlight",
         "1": "128",
         "2": "2015-11-06",
         "3": "7.8",
         "4": "English",
         "5": "Thriller",
         "6": "2025-05-17 16:20:37.426342"
        },
        {
         "0": "The Peanuts Movie",
         "1": "88",
         "2": "2015-11-05",
         "3": "6.5",
         "4": "English",
         "5": "Animation",
         "6": "2025-05-17 16:20:37.426342"
        },
        {
         "0": "The Peanuts Movie",
         "1": "88",
         "2": "2015-11-05",
         "3": "6.5",
         "4": "English",
         "5": "Animation",
         "6": "2025-05-17 16:20:37.426342"
        },
        {
         "0": "Don Gato: El inicio de la pandilla",
         "1": "89",
         "2": "2015-10-30",
         "3": "5.3",
         "4": "Español",
         "5": "Animation",
         "6": "2025-05-17 16:20:37.426342"
        },
        {
         "0": "Don Gato: El inicio de la pandilla",
         "1": "89",
         "2": "2015-10-30",
         "3": "5.3",
         "4": "Español",
         "5": "Comedy",
         "6": "2025-05-17 16:20:37.426342"
        },
        {
         "0": "Running Forever",
         "1": "88",
         "2": "2015-10-27",
         "3": "0.0",
         "4": "English",
         "5": "Family",
         "6": "2025-05-17 16:20:37.426342"
        },
        {
         "0": "Spectre",
         "1": "148",
         "2": "2015-10-26",
         "3": "6.3",
         "4": "Español",
         "5": "Adventure",
         "6": "2025-05-17 16:20:37.426342"
        },
        {
         "0": "Spectre",
         "1": "148",
         "2": "2015-10-26",
         "3": "6.3",
         "4": "Français",
         "5": "Adventure",
         "6": "2025-05-17 16:20:37.426342"
        },
        {
         "0": "Spectre",
         "1": "148",
         "2": "2015-10-26",
         "3": "6.3",
         "4": "Deutsch",
         "5": "Adventure",
         "6": "2025-05-17 16:20:37.426342"
        },
        {
         "0": "Spectre",
         "1": "148",
         "2": "2015-10-26",
         "3": "6.3",
         "4": "English",
         "5": "Adventure",
         "6": "2025-05-17 16:20:37.426342"
        },
        {
         "0": "Spectre",
         "1": "148",
         "2": "2015-10-26",
         "3": "6.3",
         "4": "English",
         "5": "Adventure",
         "6": "2025-05-17 16:20:37.426342"
        },
        {
         "0": "Spectre",
         "1": "148",
         "2": "2015-10-26",
         "3": "6.3",
         "4": "Italiano",
         "5": "Adventure",
         "6": "2025-05-17 16:20:37.426342"
        },
        {
         "0": "Spectre",
         "1": "148",
         "2": "2015-10-26",
         "3": "6.3",
         "4": "Español",
         "5": "Action",
         "6": "2025-05-17 16:20:37.426342"
        },
        {
         "0": "Spectre",
         "1": "148",
         "2": "2015-10-26",
         "3": "6.3",
         "4": "Français",
         "5": "Action",
         "6": "2025-05-17 16:20:37.426342"
        },
        {
         "0": "Spectre",
         "1": "148",
         "2": "2015-10-26",
         "3": "6.3",
         "4": "Deutsch",
         "5": "Action",
         "6": "2025-05-17 16:20:37.426342"
        },
        {
         "0": "Spectre",
         "1": "148",
         "2": "2015-10-26",
         "3": "6.3",
         "4": "English",
         "5": "Action",
         "6": "2025-05-17 16:20:37.426342"
        },
        {
         "0": "Spectre",
         "1": "148",
         "2": "2015-10-26",
         "3": "6.3",
         "4": "English",
         "5": "Action",
         "6": "2025-05-17 16:20:37.426342"
        },
        {
         "0": "Spectre",
         "1": "148",
         "2": "2015-10-26",
         "3": "6.3",
         "4": "Italiano",
         "5": "Action",
         "6": "2025-05-17 16:20:37.426342"
        },
        {
         "0": "Spectre",
         "1": "148",
         "2": "2015-10-26",
         "3": "6.3",
         "4": "Español",
         "5": "Crime",
         "6": "2025-05-17 16:20:37.426342"
        },
        {
         "0": "Spectre",
         "1": "148",
         "2": "2015-10-26",
         "3": "6.3",
         "4": "Français",
         "5": "Crime",
         "6": "2025-05-17 16:20:37.426342"
        },
        {
         "0": "Spectre",
         "1": "148",
         "2": "2015-10-26",
         "3": "6.3",
         "4": "Deutsch",
         "5": "Crime",
         "6": "2025-05-17 16:20:37.426342"
        },
        {
         "0": "Spectre",
         "1": "148",
         "2": "2015-10-26",
         "3": "6.3",
         "4": "English",
         "5": "Crime",
         "6": "2025-05-17 16:20:37.426342"
        },
        {
         "0": "Spectre",
         "1": "148",
         "2": "2015-10-26",
         "3": "6.3",
         "4": "English",
         "5": "Crime",
         "6": "2025-05-17 16:20:37.426342"
        },
        {
         "0": "Spectre",
         "1": "148",
         "2": "2015-10-26",
         "3": "6.3",
         "4": "Italiano",
         "5": "Crime",
         "6": "2025-05-17 16:20:37.426342"
        },
        {
         "0": "Eden",
         "1": "97",
         "2": "2015-10-22",
         "3": "5.6",
         "4": "English",
         "5": "Drama",
         "6": "2025-05-17 16:20:37.426342"
        },
        {
         "0": "Eden",
         "1": "97",
         "2": "2015-10-22",
         "3": "5.6",
         "4": "English",
         "5": "Drama",
         "6": "2025-05-17 16:20:37.426342"
        },
        {
         "0": "Eden",
         "1": "97",
         "2": "2015-10-22",
         "3": "5.6",
         "4": "English",
         "5": "Thriller",
         "6": "2025-05-17 16:20:37.426342"
        },
        {
         "0": "Eden",
         "1": "97",
         "2": "2015-10-22",
         "3": "5.6",
         "4": "English",
         "5": "Thriller",
         "6": "2025-05-17 16:20:37.426342"
        },
        {
         "0": "The Last Witch Hunter",
         "1": "106",
         "2": "2015-10-21",
         "3": "5.7",
         "4": "English",
         "5": "Adventure",
         "6": "2025-05-17 16:20:37.426342"
        },
        {
         "0": "The Last Witch Hunter",
         "1": "106",
         "2": "2015-10-21",
         "3": "5.7",
         "4": "English",
         "5": "Adventure",
         "6": "2025-05-17 16:20:37.426342"
        },
        {
         "0": "The Last Witch Hunter",
         "1": "106",
         "2": "2015-10-21",
         "3": "5.7",
         "4": "English",
         "5": "Fantasy",
         "6": "2025-05-17 16:20:37.426342"
        },
        {
         "0": "The Last Witch Hunter",
         "1": "106",
         "2": "2015-10-21",
         "3": "5.7",
         "4": "English",
         "5": "Fantasy",
         "6": "2025-05-17 16:20:37.426342"
        },
        {
         "0": "The Last Witch Hunter",
         "1": "106",
         "2": "2015-10-21",
         "3": "5.7",
         "4": "English",
         "5": "Action",
         "6": "2025-05-17 16:20:37.426342"
        },
        {
         "0": "The Last Witch Hunter",
         "1": "106",
         "2": "2015-10-21",
         "3": "5.7",
         "4": "English",
         "5": "Action",
         "6": "2025-05-17 16:20:37.426342"
        },
        {
         "0": "Brooklyn",
         "1": "111",
         "2": "2015-10-20",
         "3": "7.2",
         "4": "English",
         "5": "Drama",
         "6": "2025-05-17 16:20:37.426342"
        },
        {
         "0": "Brooklyn",
         "1": "111",
         "2": "2015-10-20",
         "3": "7.2",
         "4": "English",
         "5": "Drama",
         "6": "2025-05-17 16:20:37.426342"
        },
        {
         "0": "Brooklyn",
         "1": "111",
         "2": "2015-10-20",
         "3": "7.2",
         "4": "English",
         "5": "Romance",
         "6": "2025-05-17 16:20:37.426342"
        },
        {
         "0": "Brooklyn",
         "1": "111",
         "2": "2015-10-20",
         "3": "7.2",
         "4": "English",
         "5": "Romance",
         "6": "2025-05-17 16:20:37.426342"
        },
        {
         "0": "Rotor DR1",
         "1": "98",
         "2": "2015-10-20",
         "3": "4.7",
         "4": "English",
         "5": "Science Fiction",
         "6": "2025-05-17 16:20:37.426342"
        },
        {
         "0": "Rotor DR1",
         "1": "98",
         "2": "2015-10-20",
         "3": "4.7",
         "4": "English",
         "5": "Family",
         "6": "2025-05-17 16:20:37.426342"
        },
        {
         "0": "Re-Kill",
         "1": "87",
         "2": "2015-10-16",
         "3": "4.9",
         "4": "English",
         "5": "Horror",
         "6": "2025-05-17 16:20:37.426342"
        },
        {
         "0": "Re-Kill",
         "1": "87",
         "2": "2015-10-16",
         "3": "4.9",
         "4": "English",
         "5": "Horror",
         "6": "2025-05-17 16:20:37.426342"
        },
        {
         "0": "Re-Kill",
         "1": "87",
         "2": "2015-10-16",
         "3": "4.9",
         "4": "English",
         "5": "Science Fiction",
         "6": "2025-05-17 16:20:37.426342"
        },
        {
         "0": "Re-Kill",
         "1": "87",
         "2": "2015-10-16",
         "3": "4.9",
         "4": "English",
         "5": "Science Fiction",
         "6": "2025-05-17 16:20:37.426342"
        },
        {
         "0": "The Wicked Within",
         "1": "91",
         "2": "2015-10-16",
         "3": "4.2",
         "4": "English",
         "5": "Horror",
         "6": "2025-05-17 16:20:37.426342"
        },
        {
         "0": "The Wicked Within",
         "1": "91",
         "2": "2015-10-16",
         "3": "4.2",
         "4": "English",
         "5": "Horror",
         "6": "2025-05-17 16:20:37.426342"
        },
        {
         "0": "Mi America",
         "1": "126",
         "2": "2015-10-16",
         "3": "0.0",
         "4": "Español",
         "5": "Drama",
         "6": "2025-05-17 16:20:37.426342"
        },
        {
         "0": "Mi America",
         "1": "126",
         "2": "2015-10-16",
         "3": "0.0",
         "4": "English",
         "5": "Drama",
         "6": "2025-05-17 16:20:37.426342"
        },
        {
         "0": "Mi America",
         "1": "126",
         "2": "2015-10-16",
         "3": "0.0",
         "4": "English",
         "5": "Drama",
         "6": "2025-05-17 16:20:37.426342"
        },
        {
         "0": "Mi America",
         "1": "126",
         "2": "2015-10-16",
         "3": "0.0",
         "4": "Español",
         "5": "Crime",
         "6": "2025-05-17 16:20:37.426342"
        },
        {
         "0": "Mi America",
         "1": "126",
         "2": "2015-10-16",
         "3": "0.0",
         "4": "English",
         "5": "Crime",
         "6": "2025-05-17 16:20:37.426342"
        },
        {
         "0": "Mi America",
         "1": "126",
         "2": "2015-10-16",
         "3": "0.0",
         "4": "English",
         "5": "Crime",
         "6": "2025-05-17 16:20:37.426342"
        },
        {
         "0": "Room",
         "1": "117",
         "2": "2015-10-16",
         "3": "8.1",
         "4": "English",
         "5": "Drama",
         "6": "2025-05-17 16:20:37.426342"
        },
        {
         "0": "Room",
         "1": "117",
         "2": "2015-10-16",
         "3": "8.1",
         "4": "English",
         "5": "Drama",
         "6": "2025-05-17 16:20:37.426342"
        },
        {
         "0": "Room",
         "1": "117",
         "2": "2015-10-16",
         "3": "8.1",
         "4": "English",
         "5": "Thriller",
         "6": "2025-05-17 16:20:37.426342"
        },
        {
         "0": "Room",
         "1": "117",
         "2": "2015-10-16",
         "3": "8.1",
         "4": "English",
         "5": "Thriller",
         "6": "2025-05-17 16:20:37.426342"
        },
        {
         "0": "Unnatural",
         "1": "89",
         "2": "2015-10-16",
         "3": "4.3",
         "4": "English",
         "5": "Horror",
         "6": "2025-05-17 16:20:37.426342"
        },
        {
         "0": "Unnatural",
         "1": "89",
         "2": "2015-10-16",
         "3": "4.3",
         "4": "English",
         "5": "Horror",
         "6": "2025-05-17 16:20:37.426342"
        },
        {
         "0": "Unnatural",
         "1": "89",
         "2": "2015-10-16",
         "3": "4.3",
         "4": "English",
         "5": "Action",
         "6": "2025-05-17 16:20:37.426342"
        },
        {
         "0": "Unnatural",
         "1": "89",
         "2": "2015-10-16",
         "3": "4.3",
         "4": "English",
         "5": "Action",
         "6": "2025-05-17 16:20:37.426342"
        },
        {
         "0": "Unnatural",
         "1": "89",
         "2": "2015-10-16",
         "3": "4.3",
         "4": "English",
         "5": "Thriller",
         "6": "2025-05-17 16:20:37.426342"
        },
        {
         "0": "Unnatural",
         "1": "89",
         "2": "2015-10-16",
         "3": "4.3",
         "4": "English",
         "5": "Thriller",
         "6": "2025-05-17 16:20:37.426342"
        },
        {
         "0": "Dancin' It's On",
         "1": "89",
         "2": "2015-10-16",
         "3": "4.3",
         "4": "English",
         "5": "Drama",
         "6": "2025-05-17 16:20:37.426342"
        },
        {
         "0": "Dancin' It's On",
         "1": "89",
         "2": "2015-10-16",
         "3": "4.3",
         "4": "Ceština",
         "5": "Drama",
         "6": "2025-05-17 16:20:37.426342"
        },
        {
         "0": "Dancin' It's On",
         "1": "89",
         "2": "2015-10-16",
         "3": "4.3",
         "4": "English",
         "5": "Romance",
         "6": "2025-05-17 16:20:37.426342"
        },
        {
         "0": "Dancin' It's On",
         "1": "89",
         "2": "2015-10-16",
         "3": "4.3",
         "4": "Ceština",
         "5": "Romance",
         "6": "2025-05-17 16:20:37.426342"
        },
        {
         "0": "Bridge of Spies",
         "1": "141",
         "2": "2015-10-15",
         "3": "7.2",
         "4": "Deutsch",
         "5": "Drama",
         "6": "2025-05-17 16:20:37.426342"
        },
        {
         "0": "Bridge of Spies",
         "1": "141",
         "2": "2015-10-15",
         "3": "7.2",
         "4": "English",
         "5": "Drama",
         "6": "2025-05-17 16:20:37.426342"
        },
        {
         "0": "Bridge of Spies",
         "1": "141",
         "2": "2015-10-15",
         "3": "7.2",
         "4": "English",
         "5": "Drama",
         "6": "2025-05-17 16:20:37.426342"
        },
        {
         "0": "Bridge of Spies",
         "1": "141",
         "2": "2015-10-15",
         "3": "7.2",
         "4": "Russkii âzyk",
         "5": "Drama",
         "6": "2025-05-17 16:20:37.426342"
        },
        {
         "0": "Bridge of Spies",
         "1": "141",
         "2": "2015-10-15",
         "3": "7.2",
         "4": "Deutsch",
         "5": "Thriller",
         "6": "2025-05-17 16:20:37.426342"
        },
        {
         "0": "Bridge of Spies",
         "1": "141",
         "2": "2015-10-15",
         "3": "7.2",
         "4": "English",
         "5": "Thriller",
         "6": "2025-05-17 16:20:37.426342"
        },
        {
         "0": "Bridge of Spies",
         "1": "141",
         "2": "2015-10-15",
         "3": "7.2",
         "4": "English",
         "5": "Thriller",
         "6": "2025-05-17 16:20:37.426342"
        },
        {
         "0": "Bridge of Spies",
         "1": "141",
         "2": "2015-10-15",
         "3": "7.2",
         "4": "Russkii âzyk",
         "5": "Thriller",
         "6": "2025-05-17 16:20:37.426342"
        },
        {
         "0": "Secret in Their Eyes",
         "1": "111",
         "2": "2015-10-14",
         "3": "6.2",
         "4": "English",
         "5": "Drama",
         "6": "2025-05-17 16:20:37.426342"
        },
        {
         "0": "Secret in Their Eyes",
         "1": "111",
         "2": "2015-10-14",
         "3": "6.2",
         "4": "English",
         "5": "Drama",
         "6": "2025-05-17 16:20:37.426342"
        },
        {
         "0": "Secret in Their Eyes",
         "1": "111",
         "2": "2015-10-14",
         "3": "6.2",
         "4": "English",
         "5": "Crime",
         "6": "2025-05-17 16:20:37.426342"
        },
        {
         "0": "Secret in Their Eyes",
         "1": "111",
         "2": "2015-10-14",
         "3": "6.2",
         "4": "English",
         "5": "Crime",
         "6": "2025-05-17 16:20:37.426342"
        },
        {
         "0": "Secret in Their Eyes",
         "1": "111",
         "2": "2015-10-14",
         "3": "6.2",
         "4": "English",
         "5": "Mystery",
         "6": "2025-05-17 16:20:37.426342"
        },
        {
         "0": "Secret in Their Eyes",
         "1": "111",
         "2": "2015-10-14",
         "3": "6.2",
         "4": "English",
         "5": "Mystery",
         "6": "2025-05-17 16:20:37.426342"
        },
        {
         "0": "They Will Have to Kill Us First",
         "1": "105",
         "2": "2015-10-13",
         "3": "5.0",
         "4": "Français",
         "5": "Documentary",
         "6": "2025-05-17 16:20:37.426342"
        },
        {
         "0": "They Will Have to Kill Us First",
         "1": "105",
         "2": "2015-10-13",
         "3": "5.0",
         "4": "English",
         "5": "Documentary",
         "6": "2025-05-17 16:20:37.426342"
        },
        {
         "0": "They Will Have to Kill Us First",
         "1": "105",
         "2": "2015-10-13",
         "3": "5.0",
         "4": "Bamanankan",
         "5": "Documentary",
         "6": "2025-05-17 16:20:37.426342"
        },
        {
         "0": "They Will Have to Kill Us First",
         "1": "105",
         "2": "2015-10-13",
         "3": "5.0",
         "4": "Français",
         "5": "Documentary",
         "6": "2025-05-17 16:20:37.426342"
        },
        {
         "0": "They Will Have to Kill Us First",
         "1": "105",
         "2": "2015-10-13",
         "3": "5.0",
         "4": "Français",
         "5": "Music",
         "6": "2025-05-17 16:20:37.426342"
        },
        {
         "0": "They Will Have to Kill Us First",
         "1": "105",
         "2": "2015-10-13",
         "3": "5.0",
         "4": "English",
         "5": "Music",
         "6": "2025-05-17 16:20:37.426342"
        },
        {
         "0": "They Will Have to Kill Us First",
         "1": "105",
         "2": "2015-10-13",
         "3": "5.0",
         "4": "Bamanankan",
         "5": "Music",
         "6": "2025-05-17 16:20:37.426342"
        },
        {
         "0": "They Will Have to Kill Us First",
         "1": "105",
         "2": "2015-10-13",
         "3": "5.0",
         "4": "Français",
         "5": "Music",
         "6": "2025-05-17 16:20:37.426342"
        },
        {
         "0": "Steve Jobs",
         "1": "122",
         "2": "2015-10-09",
         "3": "6.8",
         "4": "English",
         "5": "Drama",
         "6": "2025-05-17 16:20:37.426342"
        },
        {
         "0": "Steve Jobs",
         "1": "122",
         "2": "2015-10-09",
         "3": "6.8",
         "4": "English",
         "5": "Drama",
         "6": "2025-05-17 16:20:37.426342"
        },
        {
         "0": "Steve Jobs",
         "1": "122",
         "2": "2015-10-09",
         "3": "6.8",
         "4": "English",
         "5": "History",
         "6": "2025-05-17 16:20:37.426342"
        },
        {
         "0": "Steve Jobs",
         "1": "122",
         "2": "2015-10-09",
         "3": "6.8",
         "4": "English",
         "5": "History",
         "6": "2025-05-17 16:20:37.426342"
        },
        {
         "0": "Western Religion",
         "1": "106",
         "2": "2015-10-09",
         "3": "0.0",
         "4": "English",
         "5": "Western",
         "6": "2025-05-17 16:20:37.426342"
        },
        {
         "0": "Western Religion",
         "1": "106",
         "2": "2015-10-09",
         "3": "0.0",
         "4": "English",
         "5": "Western",
         "6": "2025-05-17 16:20:37.426342"
        },
        {
         "0": "Navy Seals vs. Zombies",
         "1": "97",
         "2": "2015-10-08",
         "3": "3.5",
         "4": "English",
         "5": "Action",
         "6": "2025-05-17 16:20:37.426342"
        },
        {
         "0": "Navy Seals vs. Zombies",
         "1": "97",
         "2": "2015-10-08",
         "3": "3.5",
         "4": "English",
         "5": "Horror",
         "6": "2025-05-17 16:20:37.426342"
        },
        {
         "0": "Navy Seals vs. Zombies",
         "1": "97",
         "2": "2015-10-08",
         "3": "3.5",
         "4": "English",
         "5": "Horror",
         "6": "2025-05-17 16:20:37.426342"
        },
        {
         "0": "Navy Seals vs. Zombies",
         "1": "97",
         "2": "2015-10-08",
         "3": "3.5",
         "4": "English",
         "5": "Action",
         "6": "2025-05-17 16:20:37.426342"
        },
        {
         "0": "Freeheld",
         "1": "103",
         "2": "2015-10-02",
         "3": "7.1",
         "4": "English",
         "5": "Drama",
         "6": "2025-05-17 16:20:37.426342"
        },
        {
         "0": "Freeheld",
         "1": "103",
         "2": "2015-10-02",
         "3": "7.1",
         "4": "English",
         "5": "Drama",
         "6": "2025-05-17 16:20:37.426342"
        },
        {
         "0": "Freeheld",
         "1": "103",
         "2": "2015-10-02",
         "3": "7.1",
         "4": "English",
         "5": "Romance",
         "6": "2025-05-17 16:20:37.426342"
        },
        {
         "0": "Freeheld",
         "1": "103",
         "2": "2015-10-02",
         "3": "7.1",
         "4": "English",
         "5": "Romance",
         "6": "2025-05-17 16:20:37.426342"
        },
        {
         "0": "Shark Lake",
         "1": "92",
         "2": "2015-10-02",
         "3": "4.4",
         "4": "English",
         "5": "Thriller",
         "6": "2025-05-17 16:20:37.426342"
        },
        {
         "0": "Shark Lake",
         "1": "92",
         "2": "2015-10-02",
         "3": "4.4",
         "4": "English",
         "5": "Thriller",
         "6": "2025-05-17 16:20:37.426342"
        },
        {
         "0": "Dutch Kills",
         "1": "90",
         "2": "2015-10-02",
         "3": "0.0",
         "4": "English",
         "5": "Drama",
         "6": "2025-05-17 16:20:37.426342"
        },
        {
         "0": "Dutch Kills",
         "1": "90",
         "2": "2015-10-02",
         "3": "0.0",
         "4": "English",
         "5": "Thriller",
         "6": "2025-05-17 16:20:37.426342"
        },
        {
         "0": "Dutch Kills",
         "1": "90",
         "2": "2015-10-02",
         "3": "0.0",
         "4": "English",
         "5": "Crime",
         "6": "2025-05-17 16:20:37.426342"
        },
        {
         "0": "Circle",
         "1": "87",
         "2": "2015-10-02",
         "3": "6.0",
         "4": "English",
         "5": "Horror",
         "6": "2025-05-17 16:20:37.426342"
        },
        {
         "0": "Circle",
         "1": "87",
         "2": "2015-10-02",
         "3": "6.0",
         "4": "English",
         "5": "Horror",
         "6": "2025-05-17 16:20:37.426342"
        },
        {
         "0": "Circle",
         "1": "87",
         "2": "2015-10-02",
         "3": "6.0",
         "4": "English",
         "5": "Science Fiction",
         "6": "2025-05-17 16:20:37.426342"
        },
        {
         "0": "Circle",
         "1": "87",
         "2": "2015-10-02",
         "3": "6.0",
         "4": "English",
         "5": "Science Fiction",
         "6": "2025-05-17 16:20:37.426342"
        },
        {
         "0": "Burnt",
         "1": "100",
         "2": "2015-10-02",
         "3": "6.3",
         "4": "Français",
         "5": "Drama",
         "6": "2025-05-17 16:20:37.426342"
        },
        {
         "0": "Burnt",
         "1": "100",
         "2": "2015-10-02",
         "3": "6.3",
         "4": "English",
         "5": "Drama",
         "6": "2025-05-17 16:20:37.426342"
        },
        {
         "0": "Burnt",
         "1": "100",
         "2": "2015-10-02",
         "3": "6.3",
         "4": "English",
         "5": "Drama",
         "6": "2025-05-17 16:20:37.426342"
        },
        {
         "0": "Regression",
         "1": "106",
         "2": "2015-10-01",
         "3": "5.3",
         "4": "English",
         "5": "Horror",
         "6": "2025-05-17 16:20:37.426342"
        },
        {
         "0": "Regression",
         "1": "106",
         "2": "2015-10-01",
         "3": "5.3",
         "4": "English",
         "5": "Horror",
         "6": "2025-05-17 16:20:37.426342"
        },
        {
         "0": "Regression",
         "1": "106",
         "2": "2015-10-01",
         "3": "5.3",
         "4": "English",
         "5": "Thriller",
         "6": "2025-05-17 16:20:37.426342"
        },
        {
         "0": "Regression",
         "1": "106",
         "2": "2015-10-01",
         "3": "5.3",
         "4": "English",
         "5": "Thriller",
         "6": "2025-05-17 16:20:37.426342"
        },
        {
         "0": "Regression",
         "1": "106",
         "2": "2015-10-01",
         "3": "5.3",
         "4": "English",
         "5": "Mystery",
         "6": "2025-05-17 16:20:37.426342"
        },
        {
         "0": "Regression",
         "1": "106",
         "2": "2015-10-01",
         "3": "5.3",
         "4": "English",
         "5": "Mystery",
         "6": "2025-05-17 16:20:37.426342"
        },
        {
         "0": "The Walk",
         "1": "123",
         "2": "2015-09-30",
         "3": "6.9",
         "4": "Français",
         "5": "Adventure",
         "6": "2025-05-17 16:20:37.426342"
        },
        {
         "0": "The Walk",
         "1": "123",
         "2": "2015-09-30",
         "3": "6.9",
         "4": "English",
         "5": "Adventure",
         "6": "2025-05-17 16:20:37.426342"
        },
        {
         "0": "The Walk",
         "1": "123",
         "2": "2015-09-30",
         "3": "6.9",
         "4": "English",
         "5": "Adventure",
         "6": "2025-05-17 16:20:37.426342"
        },
        {
         "0": "The Walk",
         "1": "123",
         "2": "2015-09-30",
         "3": "6.9",
         "4": "Français",
         "5": "Drama",
         "6": "2025-05-17 16:20:37.426342"
        },
        {
         "0": "The Walk",
         "1": "123",
         "2": "2015-09-30",
         "3": "6.9",
         "4": "English",
         "5": "Drama",
         "6": "2025-05-17 16:20:37.426342"
        },
        {
         "0": "The Walk",
         "1": "123",
         "2": "2015-09-30",
         "3": "6.9",
         "4": "English",
         "5": "Drama",
         "6": "2025-05-17 16:20:37.426342"
        },
        {
         "0": "The Walk",
         "1": "123",
         "2": "2015-09-30",
         "3": "6.9",
         "4": "Français",
         "5": "Thriller",
         "6": "2025-05-17 16:20:37.426342"
        },
        {
         "0": "The Walk",
         "1": "123",
         "2": "2015-09-30",
         "3": "6.9",
         "4": "English",
         "5": "Thriller",
         "6": "2025-05-17 16:20:37.426342"
        },
        {
         "0": "The Walk",
         "1": "123",
         "2": "2015-09-30",
         "3": "6.9",
         "4": "English",
         "5": "Thriller",
         "6": "2025-05-17 16:20:37.426342"
        },
        {
         "0": "The Martian",
         "1": "141",
         "2": "2015-09-30",
         "3": "7.6",
         "4": "Zhongwén",
         "5": "Adventure",
         "6": "2025-05-17 16:20:37.426342"
        },
        {
         "0": "The Martian",
         "1": "141",
         "2": "2015-09-30",
         "3": "7.6",
         "4": "English",
         "5": "Adventure",
         "6": "2025-05-17 16:20:37.426342"
        },
        {
         "0": "The Martian",
         "1": "141",
         "2": "2015-09-30",
         "3": "7.6",
         "4": "English",
         "5": "Adventure",
         "6": "2025-05-17 16:20:37.426342"
        },
        {
         "0": "The Martian",
         "1": "141",
         "2": "2015-09-30",
         "3": "7.6",
         "4": "Zhongwén",
         "5": "Drama",
         "6": "2025-05-17 16:20:37.426342"
        },
        {
         "0": "The Martian",
         "1": "141",
         "2": "2015-09-30",
         "3": "7.6",
         "4": "English",
         "5": "Drama",
         "6": "2025-05-17 16:20:37.426342"
        },
        {
         "0": "The Martian",
         "1": "141",
         "2": "2015-09-30",
         "3": "7.6",
         "4": "English",
         "5": "Drama",
         "6": "2025-05-17 16:20:37.426342"
        },
        {
         "0": "The Martian",
         "1": "141",
         "2": "2015-09-30",
         "3": "7.6",
         "4": "Zhongwén",
         "5": "Science Fiction",
         "6": "2025-05-17 16:20:37.426342"
        },
        {
         "0": "The Martian",
         "1": "141",
         "2": "2015-09-30",
         "3": "7.6",
         "4": "English",
         "5": "Science Fiction",
         "6": "2025-05-17 16:20:37.426342"
        },
        {
         "0": "The Martian",
         "1": "141",
         "2": "2015-09-30",
         "3": "7.6",
         "4": "English",
         "5": "Science Fiction",
         "6": "2025-05-17 16:20:37.426342"
        },
        {
         "0": "R.L. Stine's Monsterville: The Cabinet of Souls",
         "1": "85",
         "2": "2015-09-29",
         "3": "6.9",
         "4": "English",
         "5": "Horror",
         "6": "2025-05-17 16:20:37.426342"
        },
        {
         "0": "R.L. Stine's Monsterville: The Cabinet of Souls",
         "1": "85",
         "2": "2015-09-29",
         "3": "6.9",
         "4": "English",
         "5": "Horror",
         "6": "2025-05-17 16:20:37.426342"
        },
        {
         "0": "R.L. Stine's Monsterville: The Cabinet of Souls",
         "1": "85",
         "2": "2015-09-29",
         "3": "6.9",
         "4": "English",
         "5": "Comedy",
         "6": "2025-05-17 16:20:37.426342"
        },
        {
         "0": "R.L. Stine's Monsterville: The Cabinet of Souls",
         "1": "85",
         "2": "2015-09-29",
         "3": "6.9",
         "4": "English",
         "5": "Comedy",
         "6": "2025-05-17 16:20:37.426342"
        },
        {
         "0": "Queen Crab",
         "1": "90",
         "2": "2015-09-29",
         "3": "3.3",
         "4": "English",
         "5": "Science Fiction",
         "6": "2025-05-17 16:20:37.426342"
        },
        {
         "0": "Queen Crab",
         "1": "90",
         "2": "2015-09-29",
         "3": "3.3",
         "4": "English",
         "5": "Science Fiction",
         "6": "2025-05-17 16:20:37.426342"
        },
        {
         "0": "Theresa Is a Mother",
         "1": "105",
         "2": "2015-09-25",
         "3": "0.0",
         "4": "English",
         "5": "Drama",
         "6": "2025-05-17 16:20:37.426342"
        },
        {
         "0": "Theresa Is a Mother",
         "1": "105",
         "2": "2015-09-25",
         "3": "0.0",
         "4": "English",
         "5": "Drama",
         "6": "2025-05-17 16:20:37.426342"
        },
        {
         "0": "Theresa Is a Mother",
         "1": "105",
         "2": "2015-09-25",
         "3": "0.0",
         "4": "English",
         "5": "Comedy",
         "6": "2025-05-17 16:20:37.426342"
        },
        {
         "0": "Theresa Is a Mother",
         "1": "105",
         "2": "2015-09-25",
         "3": "0.0",
         "4": "English",
         "5": "Comedy",
         "6": "2025-05-17 16:20:37.426342"
        },
        {
         "0": "Theresa Is a Mother",
         "1": "105",
         "2": "2015-09-25",
         "3": "0.0",
         "4": "English",
         "5": "Music",
         "6": "2025-05-17 16:20:37.426342"
        },
        {
         "0": "Theresa Is a Mother",
         "1": "105",
         "2": "2015-09-25",
         "3": "0.0",
         "4": "English",
         "5": "Music",
         "6": "2025-05-17 16:20:37.426342"
        },
        {
         "0": "The Intern",
         "1": "121",
         "2": "2015-09-24",
         "3": "7.1",
         "4": "English",
         "5": "Comedy",
         "6": "2025-05-17 16:20:37.426342"
        },
        {
         "0": "The Intern",
         "1": "121",
         "2": "2015-09-24",
         "3": "7.1",
         "4": "English",
         "5": "Comedy",
         "6": "2025-05-17 16:20:37.426342"
        },
        {
         "0": "Pan",
         "1": "111",
         "2": "2015-09-24",
         "3": "5.9",
         "4": "English",
         "5": "Adventure",
         "6": "2025-05-17 16:20:37.426342"
        },
        {
         "0": "Pan",
         "1": "111",
         "2": "2015-09-24",
         "3": "5.9",
         "4": "English",
         "5": "Adventure",
         "6": "2025-05-17 16:20:37.426342"
        },
        {
         "0": "Pan",
         "1": "111",
         "2": "2015-09-24",
         "3": "5.9",
         "4": "English",
         "5": "Fantasy",
         "6": "2025-05-17 16:20:37.426342"
        },
        {
         "0": "Pan",
         "1": "111",
         "2": "2015-09-24",
         "3": "5.9",
         "4": "English",
         "5": "Fantasy",
         "6": "2025-05-17 16:20:37.426342"
        },
        {
         "0": "Pan",
         "1": "111",
         "2": "2015-09-24",
         "3": "5.9",
         "4": "English",
         "5": "Family",
         "6": "2025-05-17 16:20:37.426342"
        },
        {
         "0": "Pan",
         "1": "111",
         "2": "2015-09-24",
         "3": "5.9",
         "4": "English",
         "5": "Family",
         "6": "2025-05-17 16:20:37.426342"
        },
        {
         "0": "Hotel Transylvania 2",
         "1": "89",
         "2": "2015-09-21",
         "3": "6.7",
         "4": "English",
         "5": "Animation",
         "6": "2025-05-17 16:20:37.426342"
        },
        {
         "0": "Hotel Transylvania 2",
         "1": "89",
         "2": "2015-09-21",
         "3": "6.7",
         "4": "English",
         "5": "Animation",
         "6": "2025-05-17 16:20:37.426342"
        },
        {
         "0": "Hotel Transylvania 2",
         "1": "89",
         "2": "2015-09-21",
         "3": "6.7",
         "4": "Phasa Thai",
         "5": "Animation",
         "6": "2025-05-17 16:20:37.426342"
        },
        {
         "0": "Hotel Transylvania 2",
         "1": "89",
         "2": "2015-09-21",
         "3": "6.7",
         "4": "English",
         "5": "Comedy",
         "6": "2025-05-17 16:20:37.426342"
        },
        {
         "0": "Hotel Transylvania 2",
         "1": "89",
         "2": "2015-09-21",
         "3": "6.7",
         "4": "English",
         "5": "Comedy",
         "6": "2025-05-17 16:20:37.426342"
        },
        {
         "0": "Hotel Transylvania 2",
         "1": "89",
         "2": "2015-09-21",
         "3": "6.7",
         "4": "Phasa Thai",
         "5": "Comedy",
         "6": "2025-05-17 16:20:37.426342"
        },
        {
         "0": "Hotel Transylvania 2",
         "1": "89",
         "2": "2015-09-21",
         "3": "6.7",
         "4": "English",
         "5": "Family",
         "6": "2025-05-17 16:20:37.426342"
        },
        {
         "0": "Hotel Transylvania 2",
         "1": "89",
         "2": "2015-09-21",
         "3": "6.7",
         "4": "English",
         "5": "Family",
         "6": "2025-05-17 16:20:37.426342"
        },
        {
         "0": "Hotel Transylvania 2",
         "1": "89",
         "2": "2015-09-21",
         "3": "6.7",
         "4": "Phasa Thai",
         "5": "Family",
         "6": "2025-05-17 16:20:37.426342"
        },
        {
         "0": "Captive",
         "1": "97",
         "2": "2015-09-17",
         "3": "5.6",
         "4": "English",
         "5": "Drama",
         "6": "2025-05-17 16:20:37.426342"
        },
        {
         "0": "Captive",
         "1": "97",
         "2": "2015-09-17",
         "3": "5.6",
         "4": "English",
         "5": "Drama",
         "6": "2025-05-17 16:20:37.426342"
        },
        {
         "0": "Captive",
         "1": "97",
         "2": "2015-09-17",
         "3": "5.6",
         "4": "English",
         "5": "Thriller",
         "6": "2025-05-17 16:20:37.426342"
        },
        {
         "0": "Captive",
         "1": "97",
         "2": "2015-09-17",
         "3": "5.6",
         "4": "English",
         "5": "Thriller",
         "6": "2025-05-17 16:20:37.426342"
        },
        {
         "0": "Captive",
         "1": "97",
         "2": "2015-09-17",
         "3": "5.6",
         "4": "English",
         "5": "Crime",
         "6": "2025-05-17 16:20:37.426342"
        },
        {
         "0": "Captive",
         "1": "97",
         "2": "2015-09-17",
         "3": "5.6",
         "4": "English",
         "5": "Crime",
         "6": "2025-05-17 16:20:37.426342"
        },
        {
         "0": "Julija in Alfa Romeo",
         "1": "83",
         "2": "2015-09-17",
         "3": "6.0",
         "4": "English",
         "5": "Drama",
         "6": "2025-05-17 16:20:37.426342"
        },
        {
         "0": "Julija in Alfa Romeo",
         "1": "83",
         "2": "2015-09-17",
         "3": "6.0",
         "4": "Slovenšcina",
         "5": "Drama",
         "6": "2025-05-17 16:20:37.426342"
        },
        {
         "0": "Julija in Alfa Romeo",
         "1": "83",
         "2": "2015-09-17",
         "3": "6.0",
         "4": "Slovenšcina",
         "5": "Drama",
         "6": "2025-05-17 16:20:37.426342"
        },
        {
         "0": "Julija in Alfa Romeo",
         "1": "83",
         "2": "2015-09-17",
         "3": "6.0",
         "4": "English",
         "5": "Comedy",
         "6": "2025-05-17 16:20:37.426342"
        },
        {
         "0": "Julija in Alfa Romeo",
         "1": "83",
         "2": "2015-09-17",
         "3": "6.0",
         "4": "Slovenšcina",
         "5": "Comedy",
         "6": "2025-05-17 16:20:37.426342"
        },
        {
         "0": "Julija in Alfa Romeo",
         "1": "83",
         "2": "2015-09-17",
         "3": "6.0",
         "4": "Slovenšcina",
         "5": "Comedy",
         "6": "2025-05-17 16:20:37.426342"
        },
        {
         "0": "Sicario",
         "1": "121",
         "2": "2015-09-17",
         "3": "7.2",
         "4": "Español",
         "5": "Drama",
         "6": "2025-05-17 16:20:37.426342"
        },
        {
         "0": "Sicario",
         "1": "121",
         "2": "2015-09-17",
         "3": "7.2",
         "4": "English",
         "5": "Drama",
         "6": "2025-05-17 16:20:37.426342"
        },
        {
         "0": "Sicario",
         "1": "121",
         "2": "2015-09-17",
         "3": "7.2",
         "4": "English",
         "5": "Drama",
         "6": "2025-05-17 16:20:37.426342"
        },
        {
         "0": "Sicario",
         "1": "121",
         "2": "2015-09-17",
         "3": "7.2",
         "4": "Español",
         "5": "Action",
         "6": "2025-05-17 16:20:37.426342"
        },
        {
         "0": "Sicario",
         "1": "121",
         "2": "2015-09-17",
         "3": "7.2",
         "4": "English",
         "5": "Action",
         "6": "2025-05-17 16:20:37.426342"
        },
        {
         "0": "Sicario",
         "1": "121",
         "2": "2015-09-17",
         "3": "7.2",
         "4": "English",
         "5": "Action",
         "6": "2025-05-17 16:20:37.426342"
        },
        {
         "0": "Sicario",
         "1": "121",
         "2": "2015-09-17",
         "3": "7.2",
         "4": "Español",
         "5": "Thriller",
         "6": "2025-05-17 16:20:37.426342"
        },
        {
         "0": "Sicario",
         "1": "121",
         "2": "2015-09-17",
         "3": "7.2",
         "4": "English",
         "5": "Thriller",
         "6": "2025-05-17 16:20:37.426342"
        },
        {
         "0": "Sicario",
         "1": "121",
         "2": "2015-09-17",
         "3": "7.2",
         "4": "English",
         "5": "Thriller",
         "6": "2025-05-17 16:20:37.426342"
        },
        {
         "0": "Sicario",
         "1": "121",
         "2": "2015-09-17",
         "3": "7.2",
         "4": "Español",
         "5": "Crime",
         "6": "2025-05-17 16:20:37.426342"
        },
        {
         "0": "Sicario",
         "1": "121",
         "2": "2015-09-17",
         "3": "7.2",
         "4": "English",
         "5": "Crime",
         "6": "2025-05-17 16:20:37.426342"
        },
        {
         "0": "Sicario",
         "1": "121",
         "2": "2015-09-17",
         "3": "7.2",
         "4": "English",
         "5": "Crime",
         "6": "2025-05-17 16:20:37.426342"
        },
        {
         "0": "Sicario",
         "1": "121",
         "2": "2015-09-17",
         "3": "7.2",
         "4": "Español",
         "5": "Mystery",
         "6": "2025-05-17 16:20:37.426342"
        },
        {
         "0": "Sicario",
         "1": "121",
         "2": "2015-09-17",
         "3": "7.2",
         "4": "English",
         "5": "Mystery",
         "6": "2025-05-17 16:20:37.426342"
        },
        {
         "0": "Sicario",
         "1": "121",
         "2": "2015-09-17",
         "3": "7.2",
         "4": "English",
         "5": "Mystery",
         "6": "2025-05-17 16:20:37.426342"
        },
        {
         "0": "Forsaken",
         "1": "90",
         "2": "2015-09-16",
         "3": "5.8",
         "4": "English",
         "5": "Drama",
         "6": "2025-05-17 16:20:37.426342"
        },
        {
         "0": "Forsaken",
         "1": "90",
         "2": "2015-09-16",
         "3": "5.8",
         "4": "English",
         "5": "Drama",
         "6": "2025-05-17 16:20:37.426342"
        },
        {
         "0": "Forsaken",
         "1": "90",
         "2": "2015-09-16",
         "3": "5.8",
         "4": "English",
         "5": "Western",
         "6": "2025-05-17 16:20:37.426342"
        },
        {
         "0": "Forsaken",
         "1": "90",
         "2": "2015-09-16",
         "3": "5.8",
         "4": "English",
         "5": "Western",
         "6": "2025-05-17 16:20:37.426342"
        },
        {
         "0": "Évolution",
         "1": "81",
         "2": "2015-09-14",
         "3": "6.4",
         "4": "Français",
         "5": "Drama",
         "6": "2025-05-17 16:20:37.426342"
        },
        {
         "0": "Évolution",
         "1": "81",
         "2": "2015-09-14",
         "3": "6.4",
         "4": "Français",
         "5": "Drama",
         "6": "2025-05-17 16:20:37.426342"
        },
        {
         "0": "Évolution",
         "1": "81",
         "2": "2015-09-14",
         "3": "6.4",
         "4": "Français",
         "5": "Horror",
         "6": "2025-05-17 16:20:37.426342"
        },
        {
         "0": "Évolution",
         "1": "81",
         "2": "2015-09-14",
         "3": "6.4",
         "4": "Français",
         "5": "Horror",
         "6": "2025-05-17 16:20:37.426342"
        },
        {
         "0": "Évolution",
         "1": "81",
         "2": "2015-09-14",
         "3": "6.4",
         "4": "Français",
         "5": "Mystery",
         "6": "2025-05-17 16:20:37.426342"
        },
        {
         "0": "Évolution",
         "1": "81",
         "2": "2015-09-14",
         "3": "6.4",
         "4": "Français",
         "5": "Mystery",
         "6": "2025-05-17 16:20:37.426342"
        },
        {
         "0": "Listening",
         "1": "100",
         "2": "2015-09-11",
         "3": "5.5",
         "4": "English",
         "5": "Drama",
         "6": "2025-05-17 16:20:37.426342"
        },
        {
         "0": "Listening",
         "1": "100",
         "2": "2015-09-11",
         "3": "5.5",
         "4": "English",
         "5": "Drama",
         "6": "2025-05-17 16:20:37.426342"
        },
        {
         "0": "Listening",
         "1": "100",
         "2": "2015-09-11",
         "3": "5.5",
         "4": "English",
         "5": "Thriller",
         "6": "2025-05-17 16:20:37.426342"
        },
        {
         "0": "Listening",
         "1": "100",
         "2": "2015-09-11",
         "3": "5.5",
         "4": "English",
         "5": "Thriller",
         "6": "2025-05-17 16:20:37.426342"
        },
        {
         "0": "Listening",
         "1": "100",
         "2": "2015-09-11",
         "3": "5.5",
         "4": "English",
         "5": "Science Fiction",
         "6": "2025-05-17 16:20:37.426342"
        },
        {
         "0": "Listening",
         "1": "100",
         "2": "2015-09-11",
         "3": "5.5",
         "4": "English",
         "5": "Science Fiction",
         "6": "2025-05-17 16:20:37.426342"
        },
        {
         "0": "90 Minutes in Heaven",
         "1": "121",
         "2": "2015-09-11",
         "3": "5.4",
         "4": "English",
         "5": "Drama",
         "6": "2025-05-17 16:20:37.426342"
        },
        {
         "0": "90 Minutes in Heaven",
         "1": "121",
         "2": "2015-09-11",
         "3": "5.4",
         "4": "Português",
         "5": "Drama",
         "6": "2025-05-17 16:20:37.426342"
        },
        {
         "0": "90 Minutes in Heaven",
         "1": "121",
         "2": "2015-09-11",
         "3": "5.4",
         "4": "English",
         "5": "Drama",
         "6": "2025-05-17 16:20:37.426342"
        },
        {
         "0": "The Visit",
         "1": "94",
         "2": "2015-09-10",
         "3": "6.0",
         "4": "English",
         "5": "Horror",
         "6": "2025-05-17 16:20:37.426342"
        },
        {
         "0": "The Visit",
         "1": "94",
         "2": "2015-09-10",
         "3": "6.0",
         "4": "English",
         "5": "Horror",
         "6": "2025-05-17 16:20:37.426342"
        },
        {
         "0": "The Visit",
         "1": "94",
         "2": "2015-09-10",
         "3": "6.0",
         "4": "English",
         "5": "Thriller",
         "6": "2025-05-17 16:20:37.426342"
        },
        {
         "0": "The Visit",
         "1": "94",
         "2": "2015-09-10",
         "3": "6.0",
         "4": "English",
         "5": "Thriller",
         "6": "2025-05-17 16:20:37.426342"
        },
        {
         "0": "Maze Runner: The Scorch Trials",
         "1": "132",
         "2": "2015-09-09",
         "3": "6.4",
         "4": "English",
         "5": "Action",
         "6": "2025-05-17 16:20:37.426342"
        },
        {
         "0": "Maze Runner: The Scorch Trials",
         "1": "132",
         "2": "2015-09-09",
         "3": "6.4",
         "4": "English",
         "5": "Action",
         "6": "2025-05-17 16:20:37.426342"
        },
        {
         "0": "Black Mass",
         "1": "122",
         "2": "2015-09-04",
         "3": "6.3",
         "4": "English",
         "5": "Drama",
         "6": "2025-05-17 16:20:37.426342"
        },
        {
         "0": "Black Mass",
         "1": "122",
         "2": "2015-09-04",
         "3": "6.3",
         "4": "English",
         "5": "Drama",
         "6": "2025-05-17 16:20:37.426342"
        },
        {
         "0": "Black Mass",
         "1": "122",
         "2": "2015-09-04",
         "3": "6.3",
         "4": "English",
         "5": "Crime",
         "6": "2025-05-17 16:20:37.426342"
        },
        {
         "0": "Black Mass",
         "1": "122",
         "2": "2015-09-04",
         "3": "6.3",
         "4": "English",
         "5": "Crime",
         "6": "2025-05-17 16:20:37.426342"
        },
        {
         "0": "Time to Choose",
         "1": "100",
         "2": "2015-09-04",
         "3": "0.0",
         "4": "English",
         "5": "Documentary",
         "6": "2025-05-17 16:20:37.426342"
        },
        {
         "0": "Time to Choose",
         "1": "100",
         "2": "2015-09-04",
         "3": "0.0",
         "4": "English",
         "5": "Documentary",
         "6": "2025-05-17 16:20:37.426342"
        },
        {
         "0": "Heroes of Dirt",
         "1": "98",
         "2": "2015-09-04",
         "3": "0.0",
         "4": "English",
         "5": "Drama",
         "6": "2025-05-17 16:20:37.426342"
        },
        {
         "0": "Heroes of Dirt",
         "1": "98",
         "2": "2015-09-04",
         "3": "0.0",
         "4": "English",
         "5": "Drama",
         "6": "2025-05-17 16:20:37.426342"
        },
        {
         "0": "Heroes of Dirt",
         "1": "98",
         "2": "2015-09-04",
         "3": "0.0",
         "4": "English",
         "5": "Action",
         "6": "2025-05-17 16:20:37.426342"
        },
        {
         "0": "Heroes of Dirt",
         "1": "98",
         "2": "2015-09-04",
         "3": "0.0",
         "4": "English",
         "5": "Action",
         "6": "2025-05-17 16:20:37.426342"
        },
        {
         "0": "The Transporter Refueled",
         "1": "96",
         "2": "2015-09-03",
         "3": "5.2",
         "4": "English",
         "5": "Action",
         "6": "2025-05-17 16:20:37.426342"
        },
        {
         "0": "The Transporter Refueled",
         "1": "96",
         "2": "2015-09-03",
         "3": "5.2",
         "4": "English",
         "5": "Action",
         "6": "2025-05-17 16:20:37.426342"
        },
        {
         "0": "The Transporter Refueled",
         "1": "96",
         "2": "2015-09-03",
         "3": "5.2",
         "4": "English",
         "5": "Thriller",
         "6": "2025-05-17 16:20:37.426342"
        },
        {
         "0": "The Transporter Refueled",
         "1": "96",
         "2": "2015-09-03",
         "3": "5.2",
         "4": "English",
         "5": "Thriller",
         "6": "2025-05-17 16:20:37.426342"
        },
        {
         "0": "The Transporter Refueled",
         "1": "96",
         "2": "2015-09-03",
         "3": "5.2",
         "4": "English",
         "5": "Crime",
         "6": "2025-05-17 16:20:37.426342"
        },
        {
         "0": "The Transporter Refueled",
         "1": "96",
         "2": "2015-09-03",
         "3": "5.2",
         "4": "English",
         "5": "Crime",
         "6": "2025-05-17 16:20:37.426342"
        },
        {
         "0": "Run, Hide, Die",
         "1": "75",
         "2": "2015-09-01",
         "3": "3.5",
         "4": "English",
         "5": "Horror",
         "6": "2025-05-17 16:20:37.426342"
        },
        {
         "0": "Run, Hide, Die",
         "1": "75",
         "2": "2015-09-01",
         "3": "3.5",
         "4": "English",
         "5": "Horror",
         "6": "2025-05-17 16:20:37.426342"
        },
        {
         "0": "Run, Hide, Die",
         "1": "75",
         "2": "2015-09-01",
         "3": "3.5",
         "4": "English",
         "5": "Thriller",
         "6": "2025-05-17 16:20:37.426342"
        },
        {
         "0": "Run, Hide, Die",
         "1": "75",
         "2": "2015-09-01",
         "3": "3.5",
         "4": "English",
         "5": "Thriller",
         "6": "2025-05-17 16:20:37.426342"
        },
        {
         "0": "Goddess of Love",
         "1": "96",
         "2": "2015-08-31",
         "3": "6.2",
         "4": "Deutsch",
         "5": "Drama",
         "6": "2025-05-17 16:20:37.426342"
        },
        {
         "0": "Goddess of Love",
         "1": "96",
         "2": "2015-08-31",
         "3": "6.2",
         "4": "English",
         "5": "Drama",
         "6": "2025-05-17 16:20:37.426342"
        },
        {
         "0": "Goddess of Love",
         "1": "96",
         "2": "2015-08-31",
         "3": "6.2",
         "4": "English",
         "5": "Drama",
         "6": "2025-05-17 16:20:37.426342"
        },
        {
         "0": "Goddess of Love",
         "1": "96",
         "2": "2015-08-31",
         "3": "6.2",
         "4": "Deutsch",
         "5": "Horror",
         "6": "2025-05-17 16:20:37.426342"
        },
        {
         "0": "Goddess of Love",
         "1": "96",
         "2": "2015-08-31",
         "3": "6.2",
         "4": "English",
         "5": "Horror",
         "6": "2025-05-17 16:20:37.426342"
        },
        {
         "0": "Goddess of Love",
         "1": "96",
         "2": "2015-08-31",
         "3": "6.2",
         "4": "English",
         "5": "Horror",
         "6": "2025-05-17 16:20:37.426342"
        },
        {
         "0": "Goddess of Love",
         "1": "96",
         "2": "2015-08-31",
         "3": "6.2",
         "4": "Deutsch",
         "5": "Thriller",
         "6": "2025-05-17 16:20:37.426342"
        },
        {
         "0": "Goddess of Love",
         "1": "96",
         "2": "2015-08-31",
         "3": "6.2",
         "4": "English",
         "5": "Thriller",
         "6": "2025-05-17 16:20:37.426342"
        },
        {
         "0": "Goddess of Love",
         "1": "96",
         "2": "2015-08-31",
         "3": "6.2",
         "4": "English",
         "5": "Thriller",
         "6": "2025-05-17 16:20:37.426342"
        },
        {
         "0": "Goddess of Love",
         "1": "96",
         "2": "2015-08-31",
         "3": "6.2",
         "4": "Deutsch",
         "5": "Mystery",
         "6": "2025-05-17 16:20:37.426342"
        },
        {
         "0": "Goddess of Love",
         "1": "96",
         "2": "2015-08-31",
         "3": "6.2",
         "4": "English",
         "5": "Mystery",
         "6": "2025-05-17 16:20:37.426342"
        },
        {
         "0": "Goddess of Love",
         "1": "96",
         "2": "2015-08-31",
         "3": "6.2",
         "4": "English",
         "5": "Mystery",
         "6": "2025-05-17 16:20:37.426342"
        },
        {
         "0": "Chain of Command",
         "1": "88",
         "2": "2015-08-30",
         "3": "5.3",
         "4": "English",
         "5": "Adventure",
         "6": "2025-05-17 16:20:37.426342"
        },
        {
         "0": "Chain of Command",
         "1": "88",
         "2": "2015-08-30",
         "3": "5.3",
         "4": "English",
         "5": "Adventure",
         "6": "2025-05-17 16:20:37.426342"
        },
        {
         "0": "Chain of Command",
         "1": "88",
         "2": "2015-08-30",
         "3": "5.3",
         "4": "English",
         "5": "Action",
         "6": "2025-05-17 16:20:37.426342"
        },
        {
         "0": "Chain of Command",
         "1": "88",
         "2": "2015-08-30",
         "3": "5.3",
         "4": "English",
         "5": "Action",
         "6": "2025-05-17 16:20:37.426342"
        },
        {
         "0": "Chain of Command",
         "1": "88",
         "2": "2015-08-30",
         "3": "5.3",
         "4": "English",
         "5": "Thriller",
         "6": "2025-05-17 16:20:37.426342"
        },
        {
         "0": "Chain of Command",
         "1": "88",
         "2": "2015-08-30",
         "3": "5.3",
         "4": "English",
         "5": "Thriller",
         "6": "2025-05-17 16:20:37.426342"
        },
        {
         "0": "Abandoned",
         "1": "82",
         "2": "2015-08-30",
         "3": "5.8",
         "4": "English",
         "5": "Drama",
         "6": "2025-05-17 16:20:37.426342"
        },
        {
         "0": "Abandoned",
         "1": "82",
         "2": "2015-08-30",
         "3": "5.8",
         "4": "English",
         "5": "Drama",
         "6": "2025-05-17 16:20:37.426342"
        },
        {
         "0": "Abandoned",
         "1": "82",
         "2": "2015-08-30",
         "3": "5.8",
         "4": "English",
         "5": "Thriller",
         "6": "2025-05-17 16:20:37.426342"
        },
        {
         "0": "Abandoned",
         "1": "82",
         "2": "2015-08-30",
         "3": "5.8",
         "4": "English",
         "5": "Thriller",
         "6": "2025-05-17 16:20:37.426342"
        },
        {
         "0": "The Rise of the Krays",
         "1": "110",
         "2": "2015-08-29",
         "3": "4.5",
         "4": "English",
         "5": "Crime",
         "6": "2025-05-17 16:20:37.426342"
        },
        {
         "0": "The Rise of the Krays",
         "1": "110",
         "2": "2015-08-29",
         "3": "4.5",
         "4": "English",
         "5": "Crime",
         "6": "2025-05-17 16:20:37.426342"
        },
        {
         "0": "Zipper",
         "1": "103",
         "2": "2015-08-28",
         "3": "5.5",
         "4": "English",
         "5": "Drama",
         "6": "2025-05-17 16:20:37.426342"
        },
        {
         "0": "Zipper",
         "1": "103",
         "2": "2015-08-28",
         "3": "5.5",
         "4": "English",
         "5": "Drama",
         "6": "2025-05-17 16:20:37.426342"
        },
        {
         "0": "Zipper",
         "1": "103",
         "2": "2015-08-28",
         "3": "5.5",
         "4": "English",
         "5": "Thriller",
         "6": "2025-05-17 16:20:37.426342"
        },
        {
         "0": "Zipper",
         "1": "103",
         "2": "2015-08-28",
         "3": "5.5",
         "4": "English",
         "5": "Thriller",
         "6": "2025-05-17 16:20:37.426342"
        },
        {
         "0": "Unsullied",
         "1": "93",
         "2": "2015-08-28",
         "3": "3.0",
         "4": "English",
         "5": "Horror",
         "6": "2025-05-17 16:20:37.426342"
        },
        {
         "0": "Unsullied",
         "1": "93",
         "2": "2015-08-28",
         "3": "3.0",
         "4": "English",
         "5": "Horror",
         "6": "2025-05-17 16:20:37.426342"
        },
        {
         "0": "Unsullied",
         "1": "93",
         "2": "2015-08-28",
         "3": "3.0",
         "4": "English",
         "5": "Action",
         "6": "2025-05-17 16:20:37.426342"
        },
        {
         "0": "Unsullied",
         "1": "93",
         "2": "2015-08-28",
         "3": "3.0",
         "4": "English",
         "5": "Action",
         "6": "2025-05-17 16:20:37.426342"
        },
        {
         "0": "Unsullied",
         "1": "93",
         "2": "2015-08-28",
         "3": "3.0",
         "4": "English",
         "5": "Thriller",
         "6": "2025-05-17 16:20:37.426342"
        },
        {
         "0": "Unsullied",
         "1": "93",
         "2": "2015-08-28",
         "3": "3.0",
         "4": "English",
         "5": "Thriller",
         "6": "2025-05-17 16:20:37.426342"
        },
        {
         "0": "We Are Your Friends",
         "1": "96",
         "2": "2015-08-26",
         "3": "6.3",
         "4": "English",
         "5": "Drama",
         "6": "2025-05-17 16:20:37.426342"
        },
        {
         "0": "We Are Your Friends",
         "1": "96",
         "2": "2015-08-26",
         "3": "6.3",
         "4": "Italiano",
         "5": "Drama",
         "6": "2025-05-17 16:20:37.426342"
        },
        {
         "0": "We Are Your Friends",
         "1": "96",
         "2": "2015-08-26",
         "3": "6.3",
         "4": "English",
         "5": "Drama",
         "6": "2025-05-17 16:20:37.426342"
        },
        {
         "0": "We Are Your Friends",
         "1": "96",
         "2": "2015-08-26",
         "3": "6.3",
         "4": "English",
         "5": "Music",
         "6": "2025-05-17 16:20:37.426342"
        },
        {
         "0": "We Are Your Friends",
         "1": "96",
         "2": "2015-08-26",
         "3": "6.3",
         "4": "Italiano",
         "5": "Music",
         "6": "2025-05-17 16:20:37.426342"
        },
        {
         "0": "We Are Your Friends",
         "1": "96",
         "2": "2015-08-26",
         "3": "6.3",
         "4": "English",
         "5": "Music",
         "6": "2025-05-17 16:20:37.426342"
        },
        {
         "0": "We Are Your Friends",
         "1": "96",
         "2": "2015-08-26",
         "3": "6.3",
         "4": "English",
         "5": "Romance",
         "6": "2025-05-17 16:20:37.426342"
        },
        {
         "0": "We Are Your Friends",
         "1": "96",
         "2": "2015-08-26",
         "3": "6.3",
         "4": "Italiano",
         "5": "Romance",
         "6": "2025-05-17 16:20:37.426342"
        },
        {
         "0": "We Are Your Friends",
         "1": "96",
         "2": "2015-08-26",
         "3": "6.3",
         "4": "English",
         "5": "Romance",
         "6": "2025-05-17 16:20:37.426342"
        },
        {
         "0": "No Escape",
         "1": "103",
         "2": "2015-08-26",
         "3": "6.7",
         "4": "Français",
         "5": "Action",
         "6": "2025-05-17 16:20:37.426342"
        },
        {
         "0": "No Escape",
         "1": "103",
         "2": "2015-08-26",
         "3": "6.7",
         "4": "English",
         "5": "Action",
         "6": "2025-05-17 16:20:37.426342"
        },
        {
         "0": "No Escape",
         "1": "103",
         "2": "2015-08-26",
         "3": "6.7",
         "4": "Phasa Thai",
         "5": "Action",
         "6": "2025-05-17 16:20:37.426342"
        },
        {
         "0": "No Escape",
         "1": "103",
         "2": "2015-08-26",
         "3": "6.7",
         "4": "English",
         "5": "Action",
         "6": "2025-05-17 16:20:37.426342"
        },
        {
         "0": "No Escape",
         "1": "103",
         "2": "2015-08-26",
         "3": "6.7",
         "4": "Français",
         "5": "Thriller",
         "6": "2025-05-17 16:20:37.426342"
        },
        {
         "0": "No Escape",
         "1": "103",
         "2": "2015-08-26",
         "3": "6.7",
         "4": "English",
         "5": "Thriller",
         "6": "2025-05-17 16:20:37.426342"
        },
        {
         "0": "No Escape",
         "1": "103",
         "2": "2015-08-26",
         "3": "6.7",
         "4": "Phasa Thai",
         "5": "Thriller",
         "6": "2025-05-17 16:20:37.426342"
        },
        {
         "0": "No Escape",
         "1": "103",
         "2": "2015-08-26",
         "3": "6.7",
         "4": "English",
         "5": "Thriller",
         "6": "2025-05-17 16:20:37.426342"
        },
        {
         "0": "The Curse of Downers Grove",
         "1": "89",
         "2": "2015-08-21",
         "3": "4.4",
         "4": "English",
         "5": "Drama",
         "6": "2025-05-17 16:20:37.426342"
        },
        {
         "0": "The Curse of Downers Grove",
         "1": "89",
         "2": "2015-08-21",
         "3": "4.4",
         "4": "English",
         "5": "Drama",
         "6": "2025-05-17 16:20:37.426342"
        },
        {
         "0": "The Curse of Downers Grove",
         "1": "89",
         "2": "2015-08-21",
         "3": "4.4",
         "4": "English",
         "5": "Horror",
         "6": "2025-05-17 16:20:37.426342"
        },
        {
         "0": "The Curse of Downers Grove",
         "1": "89",
         "2": "2015-08-21",
         "3": "4.4",
         "4": "English",
         "5": "Horror",
         "6": "2025-05-17 16:20:37.426342"
        },
        {
         "0": "The Curse of Downers Grove",
         "1": "89",
         "2": "2015-08-21",
         "3": "4.4",
         "4": "English",
         "5": "Thriller",
         "6": "2025-05-17 16:20:37.426342"
        },
        {
         "0": "The Curse of Downers Grove",
         "1": "89",
         "2": "2015-08-21",
         "3": "4.4",
         "4": "English",
         "5": "Thriller",
         "6": "2025-05-17 16:20:37.426342"
        },
        {
         "0": "The Curse of Downers Grove",
         "1": "89",
         "2": "2015-08-21",
         "3": "4.4",
         "4": "English",
         "5": "Mystery",
         "6": "2025-05-17 16:20:37.426342"
        },
        {
         "0": "The Curse of Downers Grove",
         "1": "89",
         "2": "2015-08-21",
         "3": "4.4",
         "4": "English",
         "5": "Mystery",
         "6": "2025-05-17 16:20:37.426342"
        },
        {
         "0": "Sinister 2",
         "1": "97",
         "2": "2015-08-19",
         "3": "5.4",
         "4": "English",
         "5": "Horror",
         "6": "2025-05-17 16:20:37.426342"
        },
        {
         "0": "Sinister 2",
         "1": "97",
         "2": "2015-08-19",
         "3": "5.4",
         "4": "English",
         "5": "Horror",
         "6": "2025-05-17 16:20:37.426342"
        },
        {
         "0": "Amnesiac",
         "1": "90",
         "2": "2015-08-14",
         "3": "4.1",
         "4": "English",
         "5": "Drama",
         "6": "2025-05-17 16:20:37.426342"
        },
        {
         "0": "Amnesiac",
         "1": "90",
         "2": "2015-08-14",
         "3": "4.1",
         "4": "English",
         "5": "Drama",
         "6": "2025-05-17 16:20:37.426342"
        },
        {
         "0": "Amnesiac",
         "1": "90",
         "2": "2015-08-14",
         "3": "4.1",
         "4": "English",
         "5": "Horror",
         "6": "2025-05-17 16:20:37.426342"
        },
        {
         "0": "Amnesiac",
         "1": "90",
         "2": "2015-08-14",
         "3": "4.1",
         "4": "English",
         "5": "Horror",
         "6": "2025-05-17 16:20:37.426342"
        },
        {
         "0": "Amnesiac",
         "1": "90",
         "2": "2015-08-14",
         "3": "4.1",
         "4": "English",
         "5": "Thriller",
         "6": "2025-05-17 16:20:37.426342"
        },
        {
         "0": "Amnesiac",
         "1": "90",
         "2": "2015-08-14",
         "3": "4.1",
         "4": "English",
         "5": "Thriller",
         "6": "2025-05-17 16:20:37.426342"
        },
        {
         "0": "Amnesiac",
         "1": "90",
         "2": "2015-08-14",
         "3": "4.1",
         "4": "English",
         "5": "Mystery",
         "6": "2025-05-17 16:20:37.426342"
        },
        {
         "0": "Amnesiac",
         "1": "90",
         "2": "2015-08-14",
         "3": "4.1",
         "4": "English",
         "5": "Mystery",
         "6": "2025-05-17 16:20:37.426342"
        },
        {
         "0": "The Man from U.N.C.L.E.",
         "1": "116",
         "2": "2015-08-13",
         "3": "7.1",
         "4": "English",
         "5": "Adventure",
         "6": "2025-05-17 16:20:37.426342"
        },
        {
         "0": "The Man from U.N.C.L.E.",
         "1": "116",
         "2": "2015-08-13",
         "3": "7.1",
         "4": "Deutsch",
         "5": "Adventure",
         "6": "2025-05-17 16:20:37.426342"
        },
        {
         "0": "The Man from U.N.C.L.E.",
         "1": "116",
         "2": "2015-08-13",
         "3": "7.1",
         "4": "English",
         "5": "Adventure",
         "6": "2025-05-17 16:20:37.426342"
        },
        {
         "0": "The Man from U.N.C.L.E.",
         "1": "116",
         "2": "2015-08-13",
         "3": "7.1",
         "4": "Italiano",
         "5": "Adventure",
         "6": "2025-05-17 16:20:37.426342"
        },
        {
         "0": "The Man from U.N.C.L.E.",
         "1": "116",
         "2": "2015-08-13",
         "3": "7.1",
         "4": "Russkii âzyk",
         "5": "Adventure",
         "6": "2025-05-17 16:20:37.426342"
        },
        {
         "0": "The Man from U.N.C.L.E.",
         "1": "116",
         "2": "2015-08-13",
         "3": "7.1",
         "4": "Deutsch",
         "5": "Action",
         "6": "2025-05-17 16:20:37.426342"
        },
        {
         "0": "The Man from U.N.C.L.E.",
         "1": "116",
         "2": "2015-08-13",
         "3": "7.1",
         "4": "English",
         "5": "Action",
         "6": "2025-05-17 16:20:37.426342"
        },
        {
         "0": "The Man from U.N.C.L.E.",
         "1": "116",
         "2": "2015-08-13",
         "3": "7.1",
         "4": "English",
         "5": "Action",
         "6": "2025-05-17 16:20:37.426342"
        },
        {
         "0": "The Man from U.N.C.L.E.",
         "1": "116",
         "2": "2015-08-13",
         "3": "7.1",
         "4": "Italiano",
         "5": "Action",
         "6": "2025-05-17 16:20:37.426342"
        },
        {
         "0": "The Man from U.N.C.L.E.",
         "1": "116",
         "2": "2015-08-13",
         "3": "7.1",
         "4": "Russkii âzyk",
         "5": "Action",
         "6": "2025-05-17 16:20:37.426342"
        },
        {
         "0": "The Man from U.N.C.L.E.",
         "1": "116",
         "2": "2015-08-13",
         "3": "7.1",
         "4": "Deutsch",
         "5": "Comedy",
         "6": "2025-05-17 16:20:37.426342"
        },
        {
         "0": "The Man from U.N.C.L.E.",
         "1": "116",
         "2": "2015-08-13",
         "3": "7.1",
         "4": "English",
         "5": "Comedy",
         "6": "2025-05-17 16:20:37.426342"
        },
        {
         "0": "The Man from U.N.C.L.E.",
         "1": "116",
         "2": "2015-08-13",
         "3": "7.1",
         "4": "English",
         "5": "Comedy",
         "6": "2025-05-17 16:20:37.426342"
        },
        {
         "0": "The Man from U.N.C.L.E.",
         "1": "116",
         "2": "2015-08-13",
         "3": "7.1",
         "4": "Italiano",
         "5": "Comedy",
         "6": "2025-05-17 16:20:37.426342"
        },
        {
         "0": "The Man from U.N.C.L.E.",
         "1": "116",
         "2": "2015-08-13",
         "3": "7.1",
         "4": "Russkii âzyk",
         "5": "Comedy",
         "6": "2025-05-17 16:20:37.426342"
        },
        {
         "0": "Straight Outta Compton",
         "1": "147",
         "2": "2015-08-13",
         "3": "7.7",
         "4": "English",
         "5": "Drama",
         "6": "2025-05-17 16:20:37.426342"
        },
        {
         "0": "Straight Outta Compton",
         "1": "147",
         "2": "2015-08-13",
         "3": "7.7",
         "4": "English",
         "5": "Drama",
         "6": "2025-05-17 16:20:37.426342"
        },
        {
         "0": "Straight Outta Compton",
         "1": "147",
         "2": "2015-08-13",
         "3": "7.7",
         "4": "English",
         "5": "Music",
         "6": "2025-05-17 16:20:37.426342"
        },
        {
         "0": "Straight Outta Compton",
         "1": "147",
         "2": "2015-08-13",
         "3": "7.7",
         "4": "English",
         "5": "Music",
         "6": "2025-05-17 16:20:37.426342"
        },
        {
         "0": "AWOL-72",
         "1": "79",
         "2": "2015-08-07",
         "3": "2.8",
         "4": "English",
         "5": "Thriller",
         "6": "2025-05-17 16:20:37.426342"
        },
        {
         "0": "AWOL-72",
         "1": "79",
         "2": "2015-08-07",
         "3": "2.8",
         "4": "English",
         "5": "Thriller",
         "6": "2025-05-17 16:20:37.426342"
        },
        {
         "0": "The Diary of a Teenage Girl",
         "1": "98",
         "2": "2015-08-07",
         "3": "6.8",
         "4": "English",
         "5": "Drama",
         "6": "2025-05-17 16:20:37.426342"
        },
        {
         "0": "The Diary of a Teenage Girl",
         "1": "98",
         "2": "2015-08-07",
         "3": "6.8",
         "4": "English",
         "5": "Drama",
         "6": "2025-05-17 16:20:37.426342"
        },
        {
         "0": "The Diary of a Teenage Girl",
         "1": "98",
         "2": "2015-08-07",
         "3": "6.8",
         "4": "English",
         "5": "Romance",
         "6": "2025-05-17 16:20:37.426342"
        },
        {
         "0": "The Diary of a Teenage Girl",
         "1": "98",
         "2": "2015-08-07",
         "3": "6.8",
         "4": "English",
         "5": "Romance",
         "6": "2025-05-17 16:20:37.426342"
        },
        {
         "0": "The 33",
         "1": "120",
         "2": "2015-08-06",
         "3": "6.0",
         "4": "Español",
         "5": "Drama",
         "6": "2025-05-17 16:20:37.426342"
        },
        {
         "0": "The 33",
         "1": "120",
         "2": "2015-08-06",
         "3": "6.0",
         "4": "English",
         "5": "Drama",
         "6": "2025-05-17 16:20:37.426342"
        },
        {
         "0": "The 33",
         "1": "120",
         "2": "2015-08-06",
         "3": "6.0",
         "4": "English",
         "5": "Drama",
         "6": "2025-05-17 16:20:37.426342"
        },
        {
         "0": "The 33",
         "1": "120",
         "2": "2015-08-06",
         "3": "6.0",
         "4": "Español",
         "5": "History",
         "6": "2025-05-17 16:20:37.426342"
        },
        {
         "0": "The 33",
         "1": "120",
         "2": "2015-08-06",
         "3": "6.0",
         "4": "English",
         "5": "History",
         "6": "2025-05-17 16:20:37.426342"
        },
        {
         "0": "The 33",
         "1": "120",
         "2": "2015-08-06",
         "3": "6.0",
         "4": "English",
         "5": "History",
         "6": "2025-05-17 16:20:37.426342"
        },
        {
         "0": "Fantastic Four",
         "1": "100",
         "2": "2015-08-05",
         "3": "4.4",
         "4": "English",
         "5": "Adventure",
         "6": "2025-05-17 16:20:37.426342"
        }
       ],
       "schema": [
        {
         "key": "0",
         "name": "title",
         "type": "string"
        },
        {
         "key": "1",
         "name": "duration_time",
         "type": "int"
        },
        {
         "key": "2",
         "name": "release_date",
         "type": "date"
        },
        {
         "key": "3",
         "name": "vote_average",
         "type": "double"
        },
        {
         "key": "4",
         "name": "language_name",
         "type": "string"
        },
        {
         "key": "5",
         "name": "genre_name",
         "type": "string"
        },
        {
         "key": "6",
         "name": "created_date",
         "type": "timestamp"
        }
       ],
       "truncated": false
      },
      "wranglerEntryContext": {
       "candidateVariableNames": [
        "df_results_movie_genre_language"
       ],
       "dataframeType": "pyspark"
      }
     },
     "type": "Synapse.DataFrame"
    }
   },
   "version": "0.1"
  }
 },
 "nbformat": 4,
 "nbformat_minor": 0
}
