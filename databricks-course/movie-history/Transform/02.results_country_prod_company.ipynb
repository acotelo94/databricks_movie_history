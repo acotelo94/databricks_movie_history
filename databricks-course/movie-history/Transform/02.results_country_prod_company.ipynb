{
 "cells": [
  {
   "cell_type": "markdown",
   "metadata": {
    "application/vnd.databricks.v1+cell": {
     "cellMetadata": {
      "byteLimit": 2048000,
      "rowLimit": 10000
     },
     "inputWidgets": {},
     "nuid": "a4367f26-a034-43ce-a9c3-1e0bc06285f0",
     "showTitle": false,
     "tableResultSettingsMap": {},
     "title": ""
    },
    "nteract": {
     "transient": {
      "deleting": false
     }
    }
   },
   "source": [
    "#### Generación de tabla \"results_country_prod_company\""
   ]
  },
  {
   "cell_type": "code",
   "execution_count": 0,
   "metadata": {
    "application/vnd.databricks.v1+cell": {
     "cellMetadata": {
      "byteLimit": 2048000,
      "rowLimit": 10000
     },
     "inputWidgets": {},
     "nuid": "6ecb39c9-eb95-449c-97ce-34408de2e574",
     "showTitle": false,
     "tableResultSettingsMap": {},
     "title": ""
    }
   },
   "outputs": [],
   "source": [
    "dbutils.widgets.text(\"file_date\",\"2024-12-30\")\n",
    "file_date = dbutils.widgets.get(\"file_date\")"
   ]
  },
  {
   "cell_type": "code",
   "execution_count": 0,
   "metadata": {
    "application/vnd.databricks.v1+cell": {
     "cellMetadata": {
      "byteLimit": 2048000,
      "rowLimit": 10000
     },
     "inputWidgets": {},
     "nuid": "496da99c-6776-4368-a569-464c124c0d80",
     "showTitle": false,
     "tableResultSettingsMap": {},
     "title": ""
    },
    "microsoft": {
     "language": "python",
     "language_group": "synapse_pyspark"
    }
   },
   "outputs": [],
   "source": [
    "from pyspark.sql.functions import current_timestamp,lit"
   ]
  },
  {
   "cell_type": "code",
   "execution_count": 0,
   "metadata": {
    "application/vnd.databricks.v1+cell": {
     "cellMetadata": {
      "byteLimit": 2048000,
      "rowLimit": 10000
     },
     "inputWidgets": {},
     "nuid": "ecd84e22-5492-4e61-9af7-372b0f08b105",
     "showTitle": false,
     "tableResultSettingsMap": {},
     "title": ""
    },
    "microsoft": {
     "language": "python",
     "language_group": "synapse_pyspark"
    }
   },
   "outputs": [],
   "source": [
    "%run \"../includes/configuration\""
   ]
  },
  {
   "cell_type": "code",
   "execution_count": 0,
   "metadata": {
    "application/vnd.databricks.v1+cell": {
     "cellMetadata": {
      "byteLimit": 2048000,
      "rowLimit": 10000
     },
     "inputWidgets": {},
     "nuid": "68b6045d-66d4-452c-ae08-f3643f482629",
     "showTitle": false,
     "tableResultSettingsMap": {},
     "title": ""
    }
   },
   "outputs": [],
   "source": [
    "%run \"../includes/common_functions\""
   ]
  },
  {
   "cell_type": "markdown",
   "metadata": {
    "application/vnd.databricks.v1+cell": {
     "cellMetadata": {
      "byteLimit": 2048000,
      "rowLimit": 10000
     },
     "inputWidgets": {},
     "nuid": "a799f913-1dc3-4e93-82a4-4884cd01626e",
     "showTitle": false,
     "tableResultSettingsMap": {},
     "title": ""
    },
    "microsoft": {
     "language": "python",
     "language_group": "synapse_pyspark"
    },
    "nteract": {
     "transient": {
      "deleting": false
     }
    }
   },
   "source": [
    "#### Obtener datos (Silver)"
   ]
  },
  {
   "cell_type": "code",
   "execution_count": 0,
   "metadata": {
    "application/vnd.databricks.v1+cell": {
     "cellMetadata": {
      "byteLimit": 2048000,
      "rowLimit": 10000
     },
     "inputWidgets": {},
     "nuid": "7db2eb66-8864-4abc-aff9-39c60059fc20",
     "showTitle": false,
     "tableResultSettingsMap": {},
     "title": ""
    },
    "microsoft": {
     "language": "python",
     "language_group": "synapse_pyspark"
    }
   },
   "outputs": [],
   "source": [
    "df_movie = spark.read.format(\"delta\").load(f\"{silver_folder_path}/movies\").filter(f\"file_date = '{file_date}'\")\n",
    "df_country = spark.read.format(\"delta\").load(f\"{silver_folder_path}/countries\")\n",
    "df_production_country = spark.read.format(\"delta\").load(f\"{silver_folder_path}/production_countries\").filter(f\"file_date = '{file_date}'\")\n",
    "df_production_company = spark.read.format(\"delta\").load(f\"{silver_folder_path}/productions_companies\").filter(f\"file_date = '{file_date}'\")\n",
    "df_movie_company = spark.read.format(\"delta\").load(f\"{silver_folder_path}/movies_companies\").filter(f\"file_date = '{file_date}'\")\n"
   ]
  },
  {
   "cell_type": "markdown",
   "metadata": {
    "application/vnd.databricks.v1+cell": {
     "cellMetadata": {
      "byteLimit": 2048000,
      "rowLimit": 10000
     },
     "inputWidgets": {},
     "nuid": "a4d8e94a-98d5-495c-b856-cbb09808e5b8",
     "showTitle": false,
     "tableResultSettingsMap": {},
     "title": ""
    }
   },
   "source": [
    "### Join \"country\" y \"production_country\""
   ]
  },
  {
   "cell_type": "code",
   "execution_count": 0,
   "metadata": {
    "application/vnd.databricks.v1+cell": {
     "cellMetadata": {
      "byteLimit": 2048000,
      "rowLimit": 10000
     },
     "inputWidgets": {},
     "nuid": "82db5afb-28c4-4cce-9ee8-5d7e8585e3b8",
     "showTitle": false,
     "tableResultSettingsMap": {},
     "title": ""
    }
   },
   "outputs": [],
   "source": [
    "country_prod_coun_df= df_country.join(df_production_country,df_country.country_id==df_production_country.country_id,\"inner\")\\\n",
    "    .select(df_country.country_name,df_country.country_id,df_production_country.movie_id)"
   ]
  },
  {
   "cell_type": "markdown",
   "metadata": {
    "application/vnd.databricks.v1+cell": {
     "cellMetadata": {
      "byteLimit": 2048000,
      "rowLimit": 10000
     },
     "inputWidgets": {},
     "nuid": "86346556-db2e-4ef6-8158-1ee851a7bc92",
     "showTitle": false,
     "tableResultSettingsMap": {},
     "title": ""
    }
   },
   "source": [
    "### Join \"production_country\" y \"movie_company\""
   ]
  },
  {
   "cell_type": "code",
   "execution_count": 0,
   "metadata": {
    "application/vnd.databricks.v1+cell": {
     "cellMetadata": {
      "byteLimit": 2048000,
      "rowLimit": 10000
     },
     "inputWidgets": {},
     "nuid": "02296694-0883-44df-b16e-2b0070152d70",
     "showTitle": false,
     "tableResultSettingsMap": {},
     "title": ""
    }
   },
   "outputs": [],
   "source": [
    "prod_comp_mov_comp_df = df_production_company.join(df_movie_company,df_production_company.company_id==df_movie_company.company_id,\"inner\")\\\n",
    "    .select(df_production_company.company_name,df_movie_company.company_id,df_movie_company.movie_id)"
   ]
  },
  {
   "cell_type": "code",
   "execution_count": 0,
   "metadata": {
    "application/vnd.databricks.v1+cell": {
     "cellMetadata": {
      "byteLimit": 2048000,
      "rowLimit": 10000
     },
     "inputWidgets": {},
     "nuid": "8f4e6e5f-0ad5-47e7-9541-524c0a25b8c6",
     "showTitle": false,
     "tableResultSettingsMap": {},
     "title": ""
    }
   },
   "outputs": [],
   "source": [
    "movie_filter_df = df_movie.filter(\"year_release_date >= 2010\")"
   ]
  },
  {
   "cell_type": "code",
   "execution_count": 0,
   "metadata": {
    "application/vnd.databricks.v1+cell": {
     "cellMetadata": {
      "byteLimit": 2048000,
      "rowLimit": 10000
     },
     "inputWidgets": {},
     "nuid": "c71815b6-3a12-4118-86ca-b1f019ebf18f",
     "showTitle": false,
     "tableResultSettingsMap": {},
     "title": ""
    }
   },
   "outputs": [],
   "source": [
    "results_movies_country_prod_company_df = movie_filter_df.join(country_prod_coun_df, movie_filter_df.movie_id == country_prod_coun_df.movie_id,\"inner\")\\\n",
    "    .join(prod_comp_mov_comp_df, movie_filter_df.movie_id == prod_comp_mov_comp_df.movie_id,\"inner\")"
   ]
  },
  {
   "cell_type": "code",
   "execution_count": 0,
   "metadata": {
    "application/vnd.databricks.v1+cell": {
     "cellMetadata": {
      "byteLimit": 2048000,
      "rowLimit": 10000
     },
     "inputWidgets": {},
     "nuid": "ad0791c6-66bb-4445-ac4a-6fc33788ef04",
     "showTitle": false,
     "tableResultSettingsMap": {},
     "title": ""
    }
   },
   "outputs": [],
   "source": [
    "df_results = results_movies_country_prod_company_df.select(movie_filter_df.movie_id,\"country_id\",\"company_id\",\"title\",\"budget\",\"duration_time\",\"release_date\",\"country_name\",\"company_name\").withColumn(\"created_date\",lit(file_date))"
   ]
  },
  {
   "cell_type": "code",
   "execution_count": 0,
   "metadata": {
    "application/vnd.databricks.v1+cell": {
     "cellMetadata": {
      "byteLimit": 2048000,
      "rowLimit": 10000
     },
     "inputWidgets": {},
     "nuid": "5ebeb9c7-952b-4231-9fd5-d4af5ae438f1",
     "showTitle": false,
     "tableResultSettingsMap": {},
     "title": ""
    }
   },
   "outputs": [],
   "source": [
    "results_order_by_df = df_results.orderBy(df_results.title.asc())"
   ]
  },
  {
   "cell_type": "markdown",
   "metadata": {
    "application/vnd.databricks.v1+cell": {
     "cellMetadata": {
      "byteLimit": 2048000,
      "rowLimit": 10000
     },
     "inputWidgets": {},
     "nuid": "2c0ec64b-9082-4179-8c01-daec452db213",
     "showTitle": false,
     "tableResultSettingsMap": {},
     "title": ""
    },
    "microsoft": {
     "language": "python",
     "language_group": "synapse_pyspark"
    },
    "nteract": {
     "transient": {
      "deleting": false
     }
    }
   },
   "source": [
    "#### Escribir resultado en Gold"
   ]
  },
  {
   "cell_type": "code",
   "execution_count": 0,
   "metadata": {
    "application/vnd.databricks.v1+cell": {
     "cellMetadata": {
      "byteLimit": 2048000,
      "rowLimit": 10000
     },
     "inputWidgets": {},
     "nuid": "0cece1ef-96b0-4b92-880f-f6362eb5c962",
     "showTitle": false,
     "tableResultSettingsMap": {},
     "title": ""
    }
   },
   "outputs": [],
   "source": [
    "merge_condition=\"target.movie_id = source.movie_id  AND target.country_id = source.country_id AND target.company_id = source.company_id AND target.created_date = source.created_date\"\n",
    "merge_delta_lake(results_order_by_df,\"movie_gold\",\"results_country_prod_company\",gold_folder_path,merge_condition,\"created_date\")"
   ]
  },
  {
   "cell_type": "code",
   "execution_count": 0,
   "metadata": {
    "application/vnd.databricks.v1+cell": {
     "cellMetadata": {
      "byteLimit": 2048000,
      "implicitDf": true,
      "rowLimit": 10000
     },
     "inputWidgets": {},
     "nuid": "21e92b9e-a8b6-4dc4-9c78-8e551627e485",
     "showTitle": false,
     "tableResultSettingsMap": {},
     "title": ""
    },
    "collapsed": false,
    "microsoft": {
     "language": "python",
     "language_group": "synapse_pyspark"
    }
   },
   "outputs": [],
   "source": [
    "%sql\n",
    "SELECT * FROM movie_gold.results_country_prod_company"
   ]
  }
 ],
 "metadata": {
  "application/vnd.databricks.v1+notebook": {
   "computePreferences": null,
   "dashboards": [],
   "environmentMetadata": null,
   "inputWidgetPreferences": null,
   "language": "python",
   "notebookMetadata": {
    "mostRecentlyExecutedCommandWithImplicitDF": {
     "commandId": 2101941084689407,
     "dataframes": [
      "_sqldf"
     ]
    },
    "pythonIndentUnit": 4
   },
   "notebookName": "02.results_country_prod_company",
   "widgets": {
    "file_date": {
     "currentValue": "2024-12-16",
     "nuid": "d39a1f56-1fb2-419e-a428-083ab9f4ab67",
     "typedWidgetInfo": {
      "autoCreated": false,
      "defaultValue": "2024-12-30",
      "label": null,
      "name": "file_date",
      "options": {
       "widgetDisplayType": "Text",
       "validationRegex": null
      },
      "parameterDataType": "String"
     },
     "widgetInfo": {
      "widgetType": "text",
      "defaultValue": "2024-12-30",
      "label": null,
      "name": "file_date",
      "options": {
       "widgetType": "text",
       "autoCreated": null,
       "validationRegex": null
      }
     }
    }
   }
  },
  "dependencies": {
   "lakehouse": {
    "default_lakehouse": "e0a555a2-5ce0-4b01-8214-823621d9d6c6",
    "default_lakehouse_name": "DB_Lakehouse",
    "default_lakehouse_workspace_id": "919018e5-22ad-4706-a9ba-1678e37706b8",
    "known_lakehouses": [
     {
      "id": "e0a555a2-5ce0-4b01-8214-823621d9d6c6"
     }
    ]
   }
  },
  "kernel_info": {
   "name": "synapse_pyspark"
  },
  "kernelspec": {
   "display_name": "Synapse PySpark",
   "language": "Python",
   "name": "synapse_pyspark"
  },
  "language_info": {
   "name": "python"
  },
  "microsoft": {
   "language": "python",
   "language_group": "synapse_pyspark",
   "ms_spell_check": {
    "ms_spell_check_language": "es"
   }
  },
  "nteract": {
   "version": "nteract-front-end@1.0.0"
  },
  "spark_compute": {
   "compute_id": "/trident/default",
   "session_options": {
    "conf": {
     "spark.synapse.nbs.session.timeout": "1200000"
    }
   }
  },
  "synapse_widget": {
   "state": {
    "58539b64-e4ee-41a2-99ee-ad9af1e1734e": {
     "persist_state": {
      "view": {
       "chartOptions": {
        "aggregationType": "sum",
        "binsNumber": 10,
        "categoryFieldKeys": [
         "0"
        ],
        "chartType": "bar",
        "evaluatesOverAllRecords": false,
        "isStacked": false,
        "seriesFieldKeys": [
         "3"
        ],
        "wordFrequency": "-1"
       },
       "tableOptions": {},
       "type": "details",
       "viewOptionsGroup": [
        {
         "tabItems": [
          {
           "key": "0",
           "name": "Table",
           "options": {},
           "type": "table"
          }
         ]
        }
       ]
      }
     },
     "sync_state": {
      "isSummary": false,
      "language": "scala",
      "table": {
       "rows": [
        {
         "0": "#Horror",
         "1": "1500000.0",
         "2": "1875000.0",
         "3": "90",
         "4": "2015-11-20",
         "5": "United States of America",
         "6": "Lowland Pictures",
         "7": "2025-05-17 18:25:37.207483"
        },
        {
         "0": "#Horror",
         "1": "1500000.0",
         "2": "1875000.0",
         "3": "90",
         "4": "2015-11-20",
         "5": "United States of America",
         "6": "AST Studios",
         "7": "2025-05-17 18:25:37.207483"
        },
        {
         "0": "12 Years a Slave",
         "1": "2.0E7",
         "2": "1.87E8",
         "3": "134",
         "4": "2013-10-18",
         "5": "United States of America",
         "6": "River Road Entertainment",
         "7": "2025-05-17 18:25:37.207483"
        },
        {
         "0": "12 Years a Slave",
         "1": "2.0E7",
         "2": "1.87E8",
         "3": "134",
         "4": "2013-10-18",
         "5": "United States of America",
         "6": "Regency Enterprises",
         "7": "2025-05-17 18:25:37.207483"
        },
        {
         "0": "12 Years a Slave",
         "1": "2.0E7",
         "2": "1.87E8",
         "3": "134",
         "4": "2013-10-18",
         "5": "United States of America",
         "6": "Plan B Entertainment",
         "7": "2025-05-17 18:25:37.207483"
        },
        {
         "0": "12 Years a Slave",
         "1": "2.0E7",
         "2": "1.87E8",
         "3": "134",
         "4": "2013-10-18",
         "5": "United States of America",
         "6": "New Regency Pictures",
         "7": "2025-05-17 18:25:37.207483"
        },
        {
         "0": "12 Years a Slave",
         "1": "2.0E7",
         "2": "1.87E8",
         "3": "134",
         "4": "2013-10-18",
         "5": "United States of America",
         "6": "Film4",
         "7": "2025-05-17 18:25:37.207483"
        },
        {
         "0": "12 Years a Slave",
         "1": "2.0E7",
         "2": "1.87E8",
         "3": "134",
         "4": "2013-10-18",
         "5": "United Kingdom",
         "6": "River Road Entertainment",
         "7": "2025-05-17 18:25:37.207483"
        },
        {
         "0": "12 Years a Slave",
         "1": "2.0E7",
         "2": "1.87E8",
         "3": "134",
         "4": "2013-10-18",
         "5": "United Kingdom",
         "6": "Regency Enterprises",
         "7": "2025-05-17 18:25:37.207483"
        },
        {
         "0": "12 Years a Slave",
         "1": "2.0E7",
         "2": "1.87E8",
         "3": "134",
         "4": "2013-10-18",
         "5": "United Kingdom",
         "6": "Plan B Entertainment",
         "7": "2025-05-17 18:25:37.207483"
        },
        {
         "0": "12 Years a Slave",
         "1": "2.0E7",
         "2": "1.87E8",
         "3": "134",
         "4": "2013-10-18",
         "5": "United Kingdom",
         "6": "New Regency Pictures",
         "7": "2025-05-17 18:25:37.207483"
        },
        {
         "0": "12 Years a Slave",
         "1": "2.0E7",
         "2": "1.87E8",
         "3": "134",
         "4": "2013-10-18",
         "5": "United Kingdom",
         "6": "Film4",
         "7": "2025-05-17 18:25:37.207483"
        },
        {
         "0": "127 Hours",
         "1": "1.8E7",
         "2": "3.569292E7",
         "3": "94",
         "4": "2010-11-05",
         "5": "United Kingdom",
         "6": "Fox Searchlight Pictures",
         "7": "2025-05-17 18:25:37.207483"
        },
        {
         "0": "127 Hours",
         "1": "1.8E7",
         "2": "3.569292E7",
         "3": "94",
         "4": "2010-11-05",
         "5": "United Kingdom",
         "6": "HandMade Films",
         "7": "2025-05-17 18:25:37.207483"
        },
        {
         "0": "127 Hours",
         "1": "1.8E7",
         "2": "3.569292E7",
         "3": "94",
         "4": "2010-11-05",
         "5": "United Kingdom",
         "6": "Pathu00e9",
         "7": "2025-05-17 18:25:37.207483"
        },
        {
         "0": "127 Hours",
         "1": "1.8E7",
         "2": "3.569292E7",
         "3": "94",
         "4": "2010-11-05",
         "5": "United Kingdom",
         "6": "Cloud Eight Films",
         "7": "2025-05-17 18:25:37.207483"
        },
        {
         "0": "127 Hours",
         "1": "1.8E7",
         "2": "3.569292E7",
         "3": "94",
         "4": "2010-11-05",
         "5": "United Kingdom",
         "6": "Warner Bros.",
         "7": "2025-05-17 18:25:37.207483"
        },
        {
         "0": "127 Hours",
         "1": "1.8E7",
         "2": "3.569292E7",
         "3": "94",
         "4": "2010-11-05",
         "5": "United Kingdom",
         "6": "Everest Entertainment",
         "7": "2025-05-17 18:25:37.207483"
        },
        {
         "0": "127 Hours",
         "1": "1.8E7",
         "2": "3.569292E7",
         "3": "94",
         "4": "2010-11-05",
         "5": "United Kingdom",
         "6": "Film4",
         "7": "2025-05-17 18:25:37.207483"
        },
        {
         "0": "127 Hours",
         "1": "1.8E7",
         "2": "3.569292E7",
         "3": "94",
         "4": "2010-11-05",
         "5": "United States of America",
         "6": "Fox Searchlight Pictures",
         "7": "2025-05-17 18:25:37.207483"
        },
        {
         "0": "127 Hours",
         "1": "1.8E7",
         "2": "3.569292E7",
         "3": "94",
         "4": "2010-11-05",
         "5": "United States of America",
         "6": "HandMade Films",
         "7": "2025-05-17 18:25:37.207483"
        },
        {
         "0": "127 Hours",
         "1": "1.8E7",
         "2": "3.569292E7",
         "3": "94",
         "4": "2010-11-05",
         "5": "United States of America",
         "6": "Pathu00e9",
         "7": "2025-05-17 18:25:37.207483"
        },
        {
         "0": "127 Hours",
         "1": "1.8E7",
         "2": "3.569292E7",
         "3": "94",
         "4": "2010-11-05",
         "5": "United States of America",
         "6": "Cloud Eight Films",
         "7": "2025-05-17 18:25:37.207483"
        },
        {
         "0": "127 Hours",
         "1": "1.8E7",
         "2": "3.569292E7",
         "3": "94",
         "4": "2010-11-05",
         "5": "United States of America",
         "6": "Warner Bros.",
         "7": "2025-05-17 18:25:37.207483"
        },
        {
         "0": "127 Hours",
         "1": "1.8E7",
         "2": "3.569292E7",
         "3": "94",
         "4": "2010-11-05",
         "5": "United States of America",
         "6": "Everest Entertainment",
         "7": "2025-05-17 18:25:37.207483"
        },
        {
         "0": "127 Hours",
         "1": "1.8E7",
         "2": "3.569292E7",
         "3": "94",
         "4": "2010-11-05",
         "5": "United States of America",
         "6": "Film4",
         "7": "2025-05-17 18:25:37.207483"
        },
        {
         "0": "13 Hours: The Secret Soldiers of Benghazi",
         "1": "5.0E7",
         "2": "6.941137E7",
         "3": "144",
         "4": "2016-01-13",
         "5": "Malta",
         "6": "3 Arts Entertainment",
         "7": "2025-05-17 18:25:37.207483"
        },
        {
         "0": "13 Hours: The Secret Soldiers of Benghazi",
         "1": "5.0E7",
         "2": "6.941137E7",
         "3": "144",
         "4": "2016-01-13",
         "5": "Malta",
         "6": "Paramount Pictures",
         "7": "2025-05-17 18:25:37.207483"
        },
        {
         "0": "13 Hours: The Secret Soldiers of Benghazi",
         "1": "5.0E7",
         "2": "6.941137E7",
         "3": "144",
         "4": "2016-01-13",
         "5": "Malta",
         "6": "Dune Films",
         "7": "2025-05-17 18:25:37.207483"
        },
        {
         "0": "13 Hours: The Secret Soldiers of Benghazi",
         "1": "5.0E7",
         "2": "6.941137E7",
         "3": "144",
         "4": "2016-01-13",
         "5": "Malta",
         "6": "Latina Pictures",
         "7": "2025-05-17 18:25:37.207483"
        },
        {
         "0": "13 Hours: The Secret Soldiers of Benghazi",
         "1": "5.0E7",
         "2": "6.941137E7",
         "3": "144",
         "4": "2016-01-13",
         "5": "Malta",
         "6": "Bay Films",
         "7": "2025-05-17 18:25:37.207483"
        },
        {
         "0": "13 Hours: The Secret Soldiers of Benghazi",
         "1": "5.0E7",
         "2": "6.941137E7",
         "3": "144",
         "4": "2016-01-13",
         "5": "Morocco",
         "6": "3 Arts Entertainment",
         "7": "2025-05-17 18:25:37.207483"
        },
        {
         "0": "13 Hours: The Secret Soldiers of Benghazi",
         "1": "5.0E7",
         "2": "6.941137E7",
         "3": "144",
         "4": "2016-01-13",
         "5": "Morocco",
         "6": "Paramount Pictures",
         "7": "2025-05-17 18:25:37.207483"
        },
        {
         "0": "13 Hours: The Secret Soldiers of Benghazi",
         "1": "5.0E7",
         "2": "6.941137E7",
         "3": "144",
         "4": "2016-01-13",
         "5": "Morocco",
         "6": "Dune Films",
         "7": "2025-05-17 18:25:37.207483"
        },
        {
         "0": "13 Hours: The Secret Soldiers of Benghazi",
         "1": "5.0E7",
         "2": "6.941137E7",
         "3": "144",
         "4": "2016-01-13",
         "5": "Morocco",
         "6": "Latina Pictures",
         "7": "2025-05-17 18:25:37.207483"
        },
        {
         "0": "13 Hours: The Secret Soldiers of Benghazi",
         "1": "5.0E7",
         "2": "6.941137E7",
         "3": "144",
         "4": "2016-01-13",
         "5": "Morocco",
         "6": "Bay Films",
         "7": "2025-05-17 18:25:37.207483"
        },
        {
         "0": "13 Hours: The Secret Soldiers of Benghazi",
         "1": "5.0E7",
         "2": "6.941137E7",
         "3": "144",
         "4": "2016-01-13",
         "5": "United States of America",
         "6": "3 Arts Entertainment",
         "7": "2025-05-17 18:25:37.207483"
        },
        {
         "0": "13 Hours: The Secret Soldiers of Benghazi",
         "1": "5.0E7",
         "2": "6.941137E7",
         "3": "144",
         "4": "2016-01-13",
         "5": "United States of America",
         "6": "Paramount Pictures",
         "7": "2025-05-17 18:25:37.207483"
        },
        {
         "0": "13 Hours: The Secret Soldiers of Benghazi",
         "1": "5.0E7",
         "2": "6.941137E7",
         "3": "144",
         "4": "2016-01-13",
         "5": "United States of America",
         "6": "Dune Films",
         "7": "2025-05-17 18:25:37.207483"
        },
        {
         "0": "13 Hours: The Secret Soldiers of Benghazi",
         "1": "5.0E7",
         "2": "6.941137E7",
         "3": "144",
         "4": "2016-01-13",
         "5": "United States of America",
         "6": "Latina Pictures",
         "7": "2025-05-17 18:25:37.207483"
        },
        {
         "0": "13 Hours: The Secret Soldiers of Benghazi",
         "1": "5.0E7",
         "2": "6.941137E7",
         "3": "144",
         "4": "2016-01-13",
         "5": "United States of America",
         "6": "Bay Films",
         "7": "2025-05-17 18:25:37.207483"
        },
        {
         "0": "2 Guns",
         "1": "6.1E7",
         "2": "1.31940411E8",
         "3": "109",
         "4": "2013-08-02",
         "5": "United States of America",
         "6": "Marc Platt Productions",
         "7": "2025-05-17 18:25:37.207483"
        },
        {
         "0": "2 Guns",
         "1": "6.1E7",
         "2": "1.31940411E8",
         "3": "109",
         "4": "2013-08-02",
         "5": "United States of America",
         "6": "Universal Studios",
         "7": "2025-05-17 18:25:37.207483"
        },
        {
         "0": "2 Guns",
         "1": "6.1E7",
         "2": "1.31940411E8",
         "3": "109",
         "4": "2013-08-02",
         "5": "United States of America",
         "6": "Envision Entertainment Corporation",
         "7": "2025-05-17 18:25:37.207483"
        },
        {
         "0": "2 Guns",
         "1": "6.1E7",
         "2": "1.31940411E8",
         "3": "109",
         "4": "2013-08-02",
         "5": "United States of America",
         "6": "Emmett/Furla Films",
         "7": "2025-05-17 18:25:37.207483"
        },
        {
         "0": "20 Feet from Stardom",
         "1": "1000000.0",
         "2": "1250000.0",
         "3": "89",
         "4": "2013-06-14",
         "5": "United States of America",
         "6": "Tremolo Productions",
         "7": "2025-05-17 18:25:37.207483"
        },
        {
         "0": "21 & Over",
         "1": "1.3E7",
         "2": "4.8065672E7",
         "3": "93",
         "4": "2013-03-01",
         "5": "United States of America",
         "6": "SkyLand Entertainment",
         "7": "2025-05-17 18:25:37.207483"
        },
        {
         "0": "21 & Over",
         "1": "1.3E7",
         "2": "4.8065672E7",
         "3": "93",
         "4": "2013-03-01",
         "5": "United States of America",
         "6": "Relativity Media",
         "7": "2025-05-17 18:25:37.207483"
        },
        {
         "0": "21 & Over",
         "1": "1.3E7",
         "2": "4.8065672E7",
         "3": "93",
         "4": "2013-03-01",
         "5": "United States of America",
         "6": "Mandeville Films",
         "7": "2025-05-17 18:25:37.207483"
        },
        {
         "0": "21 & Over",
         "1": "1.3E7",
         "2": "4.8065672E7",
         "3": "93",
         "4": "2013-03-01",
         "5": "United States of America",
         "6": "Virgin Produced",
         "7": "2025-05-17 18:25:37.207483"
        },
        {
         "0": "21 Jump Street",
         "1": "4.2E7",
         "2": "2.01585328E8",
         "3": "109",
         "4": "2012-03-12",
         "5": "United States of America",
         "6": "Original Film",
         "7": "2025-05-17 18:25:37.207483"
        },
        {
         "0": "21 Jump Street",
         "1": "4.2E7",
         "2": "2.01585328E8",
         "3": "109",
         "4": "2012-03-12",
         "5": "United States of America",
         "6": "Columbia Pictures",
         "7": "2025-05-17 18:25:37.207483"
        },
        {
         "0": "21 Jump Street",
         "1": "4.2E7",
         "2": "2.01585328E8",
         "3": "109",
         "4": "2012-03-12",
         "5": "United States of America",
         "6": "Metro-Goldwyn-Mayer (MGM)",
         "7": "2025-05-17 18:25:37.207483"
        },
        {
         "0": "21 Jump Street",
         "1": "4.2E7",
         "2": "2.01585328E8",
         "3": "109",
         "4": "2012-03-12",
         "5": "United States of America",
         "6": "Relativity Media",
         "7": "2025-05-17 18:25:37.207483"
        },
        {
         "0": "21 Jump Street",
         "1": "4.2E7",
         "2": "2.01585328E8",
         "3": "109",
         "4": "2012-03-12",
         "5": "United States of America",
         "6": "Stephen J. Cannell Productions",
         "7": "2025-05-17 18:25:37.207483"
        },
        {
         "0": "22 Jump Street",
         "1": "5.0E7",
         "2": "1.88441614E8",
         "3": "112",
         "4": "2014-06-05",
         "5": "United States of America",
         "6": "Media Rights Capital",
         "7": "2025-05-17 18:25:37.207483"
        },
        {
         "0": "22 Jump Street",
         "1": "5.0E7",
         "2": "1.88441614E8",
         "3": "112",
         "4": "2014-06-05",
         "5": "United States of America",
         "6": "Original Film",
         "7": "2025-05-17 18:25:37.207483"
        },
        {
         "0": "22 Jump Street",
         "1": "5.0E7",
         "2": "1.88441614E8",
         "3": "112",
         "4": "2014-06-05",
         "5": "United States of America",
         "6": "Columbia Pictures",
         "7": "2025-05-17 18:25:37.207483"
        },
        {
         "0": "22 Jump Street",
         "1": "5.0E7",
         "2": "1.88441614E8",
         "3": "112",
         "4": "2014-06-05",
         "5": "United States of America",
         "6": "JHF Productions",
         "7": "2025-05-17 18:25:37.207483"
        },
        {
         "0": "22 Jump Street",
         "1": "5.0E7",
         "2": "1.88441614E8",
         "3": "112",
         "4": "2014-06-05",
         "5": "United States of America",
         "6": "33andOut Productions",
         "7": "2025-05-17 18:25:37.207483"
        },
        {
         "0": "22 Jump Street",
         "1": "5.0E7",
         "2": "1.88441614E8",
         "3": "112",
         "4": "2014-06-05",
         "5": "United States of America",
         "6": "LStar Capital",
         "7": "2025-05-17 18:25:37.207483"
        },
        {
         "0": "22 Jump Street",
         "1": "5.0E7",
         "2": "1.88441614E8",
         "3": "112",
         "4": "2014-06-05",
         "5": "United States of America",
         "6": "Metro-Goldwyn-Mayer (MGM)",
         "7": "2025-05-17 18:25:37.207483"
        },
        {
         "0": "22 Jump Street",
         "1": "5.0E7",
         "2": "1.88441614E8",
         "3": "112",
         "4": "2014-06-05",
         "5": "United States of America",
         "6": "Cannell Studios",
         "7": "2025-05-17 18:25:37.207483"
        },
        {
         "0": "3 Backyards",
         "1": "2000000.0",
         "2": "2600000.0",
         "3": "88",
         "4": "2010-01-01",
         "5": "United States of America",
         "6": "Caruso / Mendelsohn Productions",
         "7": "2025-05-17 18:25:37.207483"
        },
        {
         "0": "3 Days to Kill",
         "1": "2.8E7",
         "2": "5.2597999E7",
         "3": "113",
         "4": "2014-02-14",
         "5": "France",
         "6": "Paradise/MGN",
         "7": "2025-05-17 18:25:37.207483"
        },
        {
         "0": "3 Days to Kill",
         "1": "2.8E7",
         "2": "5.2597999E7",
         "3": "113",
         "4": "2014-02-14",
         "5": "France",
         "6": "Feelgood Entertainment",
         "7": "2025-05-17 18:25:37.207483"
        },
        {
         "0": "3 Days to Kill",
         "1": "2.8E7",
         "2": "5.2597999E7",
         "3": "113",
         "4": "2014-02-14",
         "5": "France",
         "6": "3DTK",
         "7": "2025-05-17 18:25:37.207483"
        },
        {
         "0": "3 Days to Kill",
         "1": "2.8E7",
         "2": "5.2597999E7",
         "3": "113",
         "4": "2014-02-14",
         "5": "France",
         "6": "Relativity Media",
         "7": "2025-05-17 18:25:37.207483"
        },
        {
         "0": "3 Days to Kill",
         "1": "2.8E7",
         "2": "5.2597999E7",
         "3": "113",
         "4": "2014-02-14",
         "5": "France",
         "6": "EuropaCorp",
         "7": "2025-05-17 18:25:37.207483"
        },
        {
         "0": "3 Days to Kill",
         "1": "2.8E7",
         "2": "5.2597999E7",
         "3": "113",
         "4": "2014-02-14",
         "5": "France",
         "6": "Wonderland Sound and Vision",
         "7": "2025-05-17 18:25:37.207483"
        },
        {
         "0": "3 Days to Kill",
         "1": "2.8E7",
         "2": "5.2597999E7",
         "3": "113",
         "4": "2014-02-14",
         "5": "United States of America",
         "6": "Paradise/MGN",
         "7": "2025-05-17 18:25:37.207483"
        },
        {
         "0": "3 Days to Kill",
         "1": "2.8E7",
         "2": "5.2597999E7",
         "3": "113",
         "4": "2014-02-14",
         "5": "United States of America",
         "6": "Feelgood Entertainment",
         "7": "2025-05-17 18:25:37.207483"
        },
        {
         "0": "3 Days to Kill",
         "1": "2.8E7",
         "2": "5.2597999E7",
         "3": "113",
         "4": "2014-02-14",
         "5": "United States of America",
         "6": "3DTK",
         "7": "2025-05-17 18:25:37.207483"
        },
        {
         "0": "3 Days to Kill",
         "1": "2.8E7",
         "2": "5.2597999E7",
         "3": "113",
         "4": "2014-02-14",
         "5": "United States of America",
         "6": "Relativity Media",
         "7": "2025-05-17 18:25:37.207483"
        },
        {
         "0": "3 Days to Kill",
         "1": "2.8E7",
         "2": "5.2597999E7",
         "3": "113",
         "4": "2014-02-14",
         "5": "United States of America",
         "6": "EuropaCorp",
         "7": "2025-05-17 18:25:37.207483"
        },
        {
         "0": "3 Days to Kill",
         "1": "2.8E7",
         "2": "5.2597999E7",
         "3": "113",
         "4": "2014-02-14",
         "5": "United States of America",
         "6": "Wonderland Sound and Vision",
         "7": "2025-05-17 18:25:37.207483"
        },
        {
         "0": "30 Minutes or Less",
         "1": "2.8E7",
         "2": "4.054744E7",
         "3": "83",
         "4": "2011-08-11",
         "5": "United States of America",
         "6": "Columbia Pictures",
         "7": "2025-05-17 18:25:37.207483"
        },
        {
         "0": "30 Minutes or Less",
         "1": "2.8E7",
         "2": "4.054744E7",
         "3": "83",
         "4": "2011-08-11",
         "5": "Germany",
         "6": "Columbia Pictures",
         "7": "2025-05-17 18:25:37.207483"
        },
        {
         "0": "30 Minutes or Less",
         "1": "2.8E7",
         "2": "4.054744E7",
         "3": "83",
         "4": "2011-08-11",
         "5": "Canada",
         "6": "Columbia Pictures",
         "7": "2025-05-17 18:25:37.207483"
        },
        {
         "0": "30 Nights of Paranormal Activity With the Devil Inside the Girl With the Dragon Tattoo",
         "1": "2000000.0",
         "2": "2600000.0",
         "3": "80",
         "4": "2013-01-14",
         "5": "United States of America",
         "6": "Silver Nitrate Films",
         "7": "2025-05-17 18:25:37.207483"
        },
        {
         "0": "30 Nights of Paranormal Activity With the Devil Inside the Girl With the Dragon Tattoo",
         "1": "2000000.0",
         "2": "2600000.0",
         "3": "80",
         "4": "2013-01-14",
         "5": "United States of America",
         "6": "Silver Nitrate Pictures",
         "7": "2025-05-17 18:25:37.207483"
        },
        {
         "0": "42",
         "1": "4.0E7",
         "2": "9.5020213E7",
         "3": "128",
         "4": "2013-04-12",
         "5": "United States of America",
         "6": "Warner Bros.",
         "7": "2025-05-17 18:25:37.207483"
        },
        {
         "0": "47 Ronin",
         "1": "1.75E8",
         "2": "1.50962475E8",
         "3": "119",
         "4": "2013-12-06",
         "5": "United States of America",
         "6": "Mid Atlantic Films",
         "7": "2025-05-17 18:25:37.207483"
        },
        {
         "0": "47 Ronin",
         "1": "1.75E8",
         "2": "1.50962475E8",
         "3": "119",
         "4": "2013-12-06",
         "5": "United States of America",
         "6": "H2F Entertainment",
         "7": "2025-05-17 18:25:37.207483"
        },
        {
         "0": "47 Ronin",
         "1": "1.75E8",
         "2": "1.50962475E8",
         "3": "119",
         "4": "2013-12-06",
         "5": "United States of America",
         "6": "Moving Picture Company (MPC)",
         "7": "2025-05-17 18:25:37.207483"
        },
        {
         "0": "47 Ronin",
         "1": "1.75E8",
         "2": "1.50962475E8",
         "3": "119",
         "4": "2013-12-06",
         "5": "United States of America",
         "6": "Universal",
         "7": "2025-05-17 18:25:37.207483"
        },
        {
         "0": "47 Ronin",
         "1": "1.75E8",
         "2": "1.50962475E8",
         "3": "119",
         "4": "2013-12-06",
         "5": "United States of America",
         "6": "Stuber Productions",
         "7": "2025-05-17 18:25:37.207483"
        },
        {
         "0": "5 Days of War",
         "1": "2.0E7",
         "2": "17479.0",
         "3": "113",
         "4": "2011-04-14",
         "5": "United States of America",
         "6": "Rex Media",
         "7": "2025-05-17 18:25:37.207483"
        },
        {
         "0": "5 Days of War",
         "1": "2.0E7",
         "2": "17479.0",
         "3": "113",
         "4": "2011-04-14",
         "5": "United States of America",
         "6": "Georgia International Films",
         "7": "2025-05-17 18:25:37.207483"
        },
        {
         "0": "5 Days of War",
         "1": "2.0E7",
         "2": "17479.0",
         "3": "113",
         "4": "2011-04-14",
         "5": "United States of America",
         "6": "Dispictures",
         "7": "2025-05-17 18:25:37.207483"
        },
        {
         "0": "5 Days of War",
         "1": "2.0E7",
         "2": "17479.0",
         "3": "113",
         "4": "2011-04-14",
         "5": "United States of America",
         "6": "Midnight Sun Pictures",
         "7": "2025-05-17 18:25:37.207483"
        },
        {
         "0": "50/50",
         "1": "8000000.0",
         "2": "3.9187783E7",
         "3": "100",
         "4": "2011-09-30",
         "5": "United States of America",
         "6": "Mandate Pictures",
         "7": "2025-05-17 18:25:37.207483"
        },
        {
         "0": "50/50",
         "1": "8000000.0",
         "2": "3.9187783E7",
         "3": "100",
         "4": "2011-09-30",
         "5": "United States of America",
         "6": "Summit Entertainment",
         "7": "2025-05-17 18:25:37.207483"
        },
        {
         "0": "8 Days",
         "1": "2000000.0",
         "2": "2600000.0",
         "3": "90",
         "4": "2014-06-15",
         "5": "United States of America",
         "6": "After Eden Pictures",
         "7": "2025-05-17 18:25:37.207483"
        },
        {
         "0": "90 Minutes in Heaven",
         "1": "5000000.0",
         "2": "4842699.0",
         "3": "121",
         "4": "2015-09-11",
         "5": "United States of America",
         "6": "Giving Films",
         "7": "2025-05-17 18:25:37.207483"
        },
        {
         "0": "90 Minutes in Heaven",
         "1": "5000000.0",
         "2": "4842699.0",
         "3": "121",
         "4": "2015-09-11",
         "5": "United States of America",
         "6": "Emmett/Furla Films",
         "7": "2025-05-17 18:25:37.207483"
        },
        {
         "0": "A Better Life",
         "1": "1.0E7",
         "2": "1759252.0",
         "3": "98",
         "4": "2011-06-24",
         "5": "United States of America",
         "6": "Depth of Field",
         "7": "2025-05-17 18:25:37.207483"
        },
        {
         "0": "A Better Life",
         "1": "1.0E7",
         "2": "1759252.0",
         "3": "98",
         "4": "2011-06-24",
         "5": "United States of America",
         "6": "Witt/Thomas Productions",
         "7": "2025-05-17 18:25:37.207483"
        },
        {
         "0": "A Better Life",
         "1": "1.0E7",
         "2": "1759252.0",
         "3": "98",
         "4": "2011-06-24",
         "5": "United States of America",
         "6": "Summit Entertainment",
         "7": "2025-05-17 18:25:37.207483"
        },
        {
         "0": "A Better Life",
         "1": "1.0E7",
         "2": "1759252.0",
         "3": "98",
         "4": "2011-06-24",
         "5": "United States of America",
         "6": "Lime Orchard Productions",
         "7": "2025-05-17 18:25:37.207483"
        },
        {
         "0": "A Better Life",
         "1": "1.0E7",
         "2": "1759252.0",
         "3": "98",
         "4": "2011-06-24",
         "5": "United States of America",
         "6": "McLaughlin Films",
         "7": "2025-05-17 18:25:37.207483"
        },
        {
         "0": "A Dangerous Method",
         "1": "1.5E7",
         "2": "2.7462041E7",
         "3": "99",
         "4": "2011-09-30",
         "5": "Switzerland",
         "6": "Millbrook Pictures",
         "7": "2025-05-17 18:25:37.207483"
        },
        {
         "0": "A Dangerous Method",
         "1": "1.5E7",
         "2": "2.7462041E7",
         "3": "99",
         "4": "2011-09-30",
         "5": "Switzerland",
         "6": "The Movie Network",
         "7": "2025-05-17 18:25:37.207483"
        },
        {
         "0": "A Dangerous Method",
         "1": "1.5E7",
         "2": "2.7462041E7",
         "3": "99",
         "4": "2011-09-30",
         "5": "Switzerland",
         "6": "Recorded Pictures Company",
         "7": "2025-05-17 18:25:37.207483"
        },
        {
         "0": "A Dangerous Method",
         "1": "1.5E7",
         "2": "2.7462041E7",
         "3": "99",
         "4": "2011-09-30",
         "5": "Switzerland",
         "6": "Lago Film",
         "7": "2025-05-17 18:25:37.207483"
        },
        {
         "0": "A Dangerous Method",
         "1": "1.5E7",
         "2": "2.7462041E7",
         "3": "99",
         "4": "2011-09-30",
         "5": "Switzerland",
         "6": "Dangerous Method Film AG",
         "7": "2025-05-17 18:25:37.207483"
        },
        {
         "0": "A Dangerous Method",
         "1": "1.5E7",
         "2": "2.7462041E7",
         "3": "99",
         "4": "2011-09-30",
         "5": "Switzerland",
         "6": "Prospero Pictures",
         "7": "2025-05-17 18:25:37.207483"
        },
        {
         "0": "A Dangerous Method",
         "1": "1.5E7",
         "2": "2.7462041E7",
         "3": "99",
         "4": "2011-09-30",
         "5": "United Kingdom",
         "6": "Millbrook Pictures",
         "7": "2025-05-17 18:25:37.207483"
        },
        {
         "0": "A Dangerous Method",
         "1": "1.5E7",
         "2": "2.7462041E7",
         "3": "99",
         "4": "2011-09-30",
         "5": "United Kingdom",
         "6": "The Movie Network",
         "7": "2025-05-17 18:25:37.207483"
        },
        {
         "0": "A Dangerous Method",
         "1": "1.5E7",
         "2": "2.7462041E7",
         "3": "99",
         "4": "2011-09-30",
         "5": "United Kingdom",
         "6": "Recorded Pictures Company",
         "7": "2025-05-17 18:25:37.207483"
        },
        {
         "0": "A Dangerous Method",
         "1": "1.5E7",
         "2": "2.7462041E7",
         "3": "99",
         "4": "2011-09-30",
         "5": "United Kingdom",
         "6": "Lago Film",
         "7": "2025-05-17 18:25:37.207483"
        },
        {
         "0": "A Dangerous Method",
         "1": "1.5E7",
         "2": "2.7462041E7",
         "3": "99",
         "4": "2011-09-30",
         "5": "United Kingdom",
         "6": "Dangerous Method Film AG",
         "7": "2025-05-17 18:25:37.207483"
        },
        {
         "0": "A Dangerous Method",
         "1": "1.5E7",
         "2": "2.7462041E7",
         "3": "99",
         "4": "2011-09-30",
         "5": "United Kingdom",
         "6": "Prospero Pictures",
         "7": "2025-05-17 18:25:37.207483"
        },
        {
         "0": "A Dangerous Method",
         "1": "1.5E7",
         "2": "2.7462041E7",
         "3": "99",
         "4": "2011-09-30",
         "5": "Germany",
         "6": "Millbrook Pictures",
         "7": "2025-05-17 18:25:37.207483"
        },
        {
         "0": "A Dangerous Method",
         "1": "1.5E7",
         "2": "2.7462041E7",
         "3": "99",
         "4": "2011-09-30",
         "5": "Germany",
         "6": "The Movie Network",
         "7": "2025-05-17 18:25:37.207483"
        },
        {
         "0": "A Dangerous Method",
         "1": "1.5E7",
         "2": "2.7462041E7",
         "3": "99",
         "4": "2011-09-30",
         "5": "Germany",
         "6": "Recorded Pictures Company",
         "7": "2025-05-17 18:25:37.207483"
        },
        {
         "0": "A Dangerous Method",
         "1": "1.5E7",
         "2": "2.7462041E7",
         "3": "99",
         "4": "2011-09-30",
         "5": "Germany",
         "6": "Lago Film",
         "7": "2025-05-17 18:25:37.207483"
        },
        {
         "0": "A Dangerous Method",
         "1": "1.5E7",
         "2": "2.7462041E7",
         "3": "99",
         "4": "2011-09-30",
         "5": "Germany",
         "6": "Dangerous Method Film AG",
         "7": "2025-05-17 18:25:37.207483"
        },
        {
         "0": "A Dangerous Method",
         "1": "1.5E7",
         "2": "2.7462041E7",
         "3": "99",
         "4": "2011-09-30",
         "5": "Germany",
         "6": "Prospero Pictures",
         "7": "2025-05-17 18:25:37.207483"
        },
        {
         "0": "A Dangerous Method",
         "1": "1.5E7",
         "2": "2.7462041E7",
         "3": "99",
         "4": "2011-09-30",
         "5": "Canada",
         "6": "Millbrook Pictures",
         "7": "2025-05-17 18:25:37.207483"
        },
        {
         "0": "A Dangerous Method",
         "1": "1.5E7",
         "2": "2.7462041E7",
         "3": "99",
         "4": "2011-09-30",
         "5": "Canada",
         "6": "The Movie Network",
         "7": "2025-05-17 18:25:37.207483"
        },
        {
         "0": "A Dangerous Method",
         "1": "1.5E7",
         "2": "2.7462041E7",
         "3": "99",
         "4": "2011-09-30",
         "5": "Canada",
         "6": "Recorded Pictures Company",
         "7": "2025-05-17 18:25:37.207483"
        },
        {
         "0": "A Dangerous Method",
         "1": "1.5E7",
         "2": "2.7462041E7",
         "3": "99",
         "4": "2011-09-30",
         "5": "Canada",
         "6": "Lago Film",
         "7": "2025-05-17 18:25:37.207483"
        },
        {
         "0": "A Dangerous Method",
         "1": "1.5E7",
         "2": "2.7462041E7",
         "3": "99",
         "4": "2011-09-30",
         "5": "Canada",
         "6": "Dangerous Method Film AG",
         "7": "2025-05-17 18:25:37.207483"
        },
        {
         "0": "A Dangerous Method",
         "1": "1.5E7",
         "2": "2.7462041E7",
         "3": "99",
         "4": "2011-09-30",
         "5": "Canada",
         "6": "Prospero Pictures",
         "7": "2025-05-17 18:25:37.207483"
        },
        {
         "0": "A Good Day to Die Hard",
         "1": "9.2E7",
         "2": "3.04654182E8",
         "3": "98",
         "4": "2013-02-06",
         "5": "United States of America",
         "6": "Mid Atlantic Films",
         "7": "2025-05-17 18:25:37.207483"
        },
        {
         "0": "A Good Day to Die Hard",
         "1": "9.2E7",
         "2": "3.04654182E8",
         "3": "98",
         "4": "2013-02-06",
         "5": "United States of America",
         "6": "Dune Entertainment",
         "7": "2025-05-17 18:25:37.207483"
        },
        {
         "0": "A Good Day to Die Hard",
         "1": "9.2E7",
         "2": "3.04654182E8",
         "3": "98",
         "4": "2013-02-06",
         "5": "United States of America",
         "6": "Twentieth Century Fox Film Corporation",
         "7": "2025-05-17 18:25:37.207483"
        },
        {
         "0": "A Good Day to Die Hard",
         "1": "9.2E7",
         "2": "3.04654182E8",
         "3": "98",
         "4": "2013-02-06",
         "5": "United States of America",
         "6": "Ingenious Media",
         "7": "2025-05-17 18:25:37.207483"
        },
        {
         "0": "A Good Day to Die Hard",
         "1": "9.2E7",
         "2": "3.04654182E8",
         "3": "98",
         "4": "2013-02-06",
         "5": "United States of America",
         "6": "Origo Film Group",
         "7": "2025-05-17 18:25:37.207483"
        },
        {
         "0": "A Good Day to Die Hard",
         "1": "9.2E7",
         "2": "3.04654182E8",
         "3": "98",
         "4": "2013-02-06",
         "5": "United States of America",
         "6": "Giant Pictures",
         "7": "2025-05-17 18:25:37.207483"
        },
        {
         "0": "A Good Day to Die Hard",
         "1": "9.2E7",
         "2": "3.04654182E8",
         "3": "98",
         "4": "2013-02-06",
         "5": "United States of America",
         "6": "TSG Entertainment",
         "7": "2025-05-17 18:25:37.207483"
        },
        {
         "0": "A Good Day to Die Hard",
         "1": "9.2E7",
         "2": "3.04654182E8",
         "3": "98",
         "4": "2013-02-06",
         "5": "United States of America",
         "6": "Temple Hill Entertainment",
         "7": "2025-05-17 18:25:37.207483"
        },
        {
         "0": "A Good Day to Die Hard",
         "1": "9.2E7",
         "2": "3.04654182E8",
         "3": "98",
         "4": "2013-02-06",
         "5": "United States of America",
         "6": "Big Screen Productions",
         "7": "2025-05-17 18:25:37.207483"
        },
        {
         "0": "A Haunted House",
         "1": "2500000.0",
         "2": "6.0141683E7",
         "3": "86",
         "4": "2013-01-11",
         "5": "United States of America",
         "6": "Wayans Bros. Entertainment",
         "7": "2025-05-17 18:25:37.207483"
        },
        {
         "0": "A Haunted House",
         "1": "2500000.0",
         "2": "6.0141683E7",
         "3": "86",
         "4": "2013-01-11",
         "5": "United States of America",
         "6": "Endgame Entertainment",
         "7": "2025-05-17 18:25:37.207483"
        },
        {
         "0": "A Haunted House",
         "1": "2500000.0",
         "2": "6.0141683E7",
         "3": "86",
         "4": "2013-01-11",
         "5": "United States of America",
         "6": "IM Global",
         "7": "2025-05-17 18:25:37.207483"
        },
        {
         "0": "A Haunted House",
         "1": "2500000.0",
         "2": "6.0141683E7",
         "3": "86",
         "4": "2013-01-11",
         "5": "United States of America",
         "6": "Open Road Films",
         "7": "2025-05-17 18:25:37.207483"
        },
        {
         "0": "A Haunted House 2",
         "1": "2000000.0",
         "2": "2600000.0",
         "3": "87",
         "4": "2014-04-17",
         "5": "United States of America",
         "6": "Automatik Entertainment",
         "7": "2025-05-17 18:25:37.207483"
        },
        {
         "0": "A Haunted House 2",
         "1": "2000000.0",
         "2": "2600000.0",
         "3": "87",
         "4": "2014-04-17",
         "5": "United States of America",
         "6": "Open Road Films",
         "7": "2025-05-17 18:25:37.207483"
        },
        {
         "0": "A LEGO Brickumentary",
         "1": "650000.0",
         "2": "812500.0",
         "3": "93",
         "4": "2015-07-31",
         "5": "United States of America",
         "6": "HeLo",
         "7": "2025-05-17 18:25:37.207483"
        },
        {
         "0": "A LEGO Brickumentary",
         "1": "650000.0",
         "2": "812500.0",
         "3": "93",
         "4": "2015-07-31",
         "5": "United States of America",
         "6": "Global Emerging Markets (GEM)",
         "7": "2025-05-17 18:25:37.207483"
        },
        {
         "0": "A LEGO Brickumentary",
         "1": "650000.0",
         "2": "812500.0",
         "3": "93",
         "4": "2015-07-31",
         "5": "Denmark",
         "6": "HeLo",
         "7": "2025-05-17 18:25:37.207483"
        },
        {
         "0": "A LEGO Brickumentary",
         "1": "650000.0",
         "2": "812500.0",
         "3": "93",
         "4": "2015-07-31",
         "5": "Denmark",
         "6": "Global Emerging Markets (GEM)",
         "7": "2025-05-17 18:25:37.207483"
        },
        {
         "0": "A Lonely Place to Die",
         "1": "4000000.0",
         "2": "2.5345E7",
         "3": "99",
         "4": "2011-04-09",
         "5": "United Kingdom",
         "6": "Eigerwand Pictures",
         "7": "2025-05-17 18:25:37.207483"
        },
        {
         "0": "A Lonely Place to Die",
         "1": "4000000.0",
         "2": "2.5345E7",
         "3": "99",
         "4": "2011-04-09",
         "5": "United Kingdom",
         "6": "Molinare Studios",
         "7": "2025-05-17 18:25:37.207483"
        },
        {
         "0": "A Lonely Place to Die",
         "1": "4000000.0",
         "2": "2.5345E7",
         "3": "99",
         "4": "2011-04-09",
         "5": "United Kingdom",
         "6": "Carnaby International",
         "7": "2025-05-17 18:25:37.207483"
        },
        {
         "0": "A Madea Christmas",
         "1": "2000000.0",
         "2": "2600000.0",
         "3": "100",
         "4": "2013-12-13",
         "5": "United States of America",
         "6": "Lions Gate",
         "7": "2025-05-17 18:25:37.207483"
        },
        {
         "0": "A Million Ways to Die in the West",
         "1": "2000000.0",
         "2": "2600000.0",
         "3": "116",
         "4": "2014-05-22",
         "5": "United States of America",
         "6": "Media Rights Capital",
         "7": "2025-05-17 18:25:37.207483"
        },
        {
         "0": "A Million Ways to Die in the West",
         "1": "2000000.0",
         "2": "2600000.0",
         "3": "116",
         "4": "2014-05-22",
         "5": "United States of America",
         "6": "RGB Media",
         "7": "2025-05-17 18:25:37.207483"
        },
        {
         "0": "A Million Ways to Die in the West",
         "1": "2000000.0",
         "2": "2600000.0",
         "3": "116",
         "4": "2014-05-22",
         "5": "United States of America",
         "6": "Bluegrass Films",
         "7": "2025-05-17 18:25:37.207483"
        },
        {
         "0": "A Million Ways to Die in the West",
         "1": "2000000.0",
         "2": "2600000.0",
         "3": "116",
         "4": "2014-05-22",
         "5": "United States of America",
         "6": "Fuzzy Door Productions",
         "7": "2025-05-17 18:25:37.207483"
        },
        {
         "0": "A Most Violent Year",
         "1": "2.0E7",
         "2": "1.200707E7",
         "3": "125",
         "4": "2014-12-30",
         "5": "United Arab Emirates",
         "6": "Old Bull Pictures",
         "7": "2025-05-17 18:25:37.207483"
        },
        {
         "0": "A Most Violent Year",
         "1": "2.0E7",
         "2": "1.200707E7",
         "3": "125",
         "4": "2014-12-30",
         "5": "United Arab Emirates",
         "6": "A24",
         "7": "2025-05-17 18:25:37.207483"
        },
        {
         "0": "A Most Violent Year",
         "1": "2.0E7",
         "2": "1.200707E7",
         "3": "125",
         "4": "2014-12-30",
         "5": "United Arab Emirates",
         "6": "FilmNation Entertainment",
         "7": "2025-05-17 18:25:37.207483"
        },
        {
         "0": "A Most Violent Year",
         "1": "2.0E7",
         "2": "1.200707E7",
         "3": "125",
         "4": "2014-12-30",
         "5": "United Arab Emirates",
         "6": "Imagenation Abu Dhabi FZ",
         "7": "2025-05-17 18:25:37.207483"
        },
        {
         "0": "A Most Violent Year",
         "1": "2.0E7",
         "2": "1.200707E7",
         "3": "125",
         "4": "2014-12-30",
         "5": "United Arab Emirates",
         "6": "Participant Media",
         "7": "2025-05-17 18:25:37.207483"
        },
        {
         "0": "A Most Violent Year",
         "1": "2.0E7",
         "2": "1.200707E7",
         "3": "125",
         "4": "2014-12-30",
         "5": "United Arab Emirates",
         "6": "Washington Square Films",
         "7": "2025-05-17 18:25:37.207483"
        },
        {
         "0": "A Most Violent Year",
         "1": "2.0E7",
         "2": "1.200707E7",
         "3": "125",
         "4": "2014-12-30",
         "5": "United Arab Emirates",
         "6": "Before the Door Pictures",
         "7": "2025-05-17 18:25:37.207483"
        },
        {
         "0": "A Most Violent Year",
         "1": "2.0E7",
         "2": "1.200707E7",
         "3": "125",
         "4": "2014-12-30",
         "5": "United States of America",
         "6": "Old Bull Pictures",
         "7": "2025-05-17 18:25:37.207483"
        },
        {
         "0": "A Most Violent Year",
         "1": "2.0E7",
         "2": "1.200707E7",
         "3": "125",
         "4": "2014-12-30",
         "5": "United States of America",
         "6": "A24",
         "7": "2025-05-17 18:25:37.207483"
        },
        {
         "0": "A Most Violent Year",
         "1": "2.0E7",
         "2": "1.200707E7",
         "3": "125",
         "4": "2014-12-30",
         "5": "United States of America",
         "6": "FilmNation Entertainment",
         "7": "2025-05-17 18:25:37.207483"
        },
        {
         "0": "A Most Violent Year",
         "1": "2.0E7",
         "2": "1.200707E7",
         "3": "125",
         "4": "2014-12-30",
         "5": "United States of America",
         "6": "Imagenation Abu Dhabi FZ",
         "7": "2025-05-17 18:25:37.207483"
        },
        {
         "0": "A Most Violent Year",
         "1": "2.0E7",
         "2": "1.200707E7",
         "3": "125",
         "4": "2014-12-30",
         "5": "United States of America",
         "6": "Participant Media",
         "7": "2025-05-17 18:25:37.207483"
        },
        {
         "0": "A Most Violent Year",
         "1": "2.0E7",
         "2": "1.200707E7",
         "3": "125",
         "4": "2014-12-30",
         "5": "United States of America",
         "6": "Washington Square Films",
         "7": "2025-05-17 18:25:37.207483"
        },
        {
         "0": "A Most Violent Year",
         "1": "2.0E7",
         "2": "1.200707E7",
         "3": "125",
         "4": "2014-12-30",
         "5": "United States of America",
         "6": "Before the Door Pictures",
         "7": "2025-05-17 18:25:37.207483"
        },
        {
         "0": "A Most Wanted Man",
         "1": "1.5E7",
         "2": "3.1554855E7",
         "3": "121",
         "4": "2014-07-25",
         "5": "United Kingdom",
         "6": "Lionsgate",
         "7": "2025-05-17 18:25:37.207483"
        },
        {
         "0": "A Most Wanted Man",
         "1": "1.5E7",
         "2": "3.1554855E7",
         "3": "121",
         "4": "2014-07-25",
         "5": "United Kingdom",
         "6": "Senator Film Produktion",
         "7": "2025-05-17 18:25:37.207483"
        },
        {
         "0": "A Most Wanted Man",
         "1": "1.5E7",
         "2": "3.1554855E7",
         "3": "121",
         "4": "2014-07-25",
         "5": "United Kingdom",
         "6": "Amusement Park Films",
         "7": "2025-05-17 18:25:37.207483"
        },
        {
         "0": "A Most Wanted Man",
         "1": "1.5E7",
         "2": "3.1554855E7",
         "3": "121",
         "4": "2014-07-25",
         "5": "United Kingdom",
         "6": "Potboiler Productions",
         "7": "2025-05-17 18:25:37.207483"
        },
        {
         "0": "A Most Wanted Man",
         "1": "1.5E7",
         "2": "3.1554855E7",
         "3": "121",
         "4": "2014-07-25",
         "5": "United Kingdom",
         "6": "The Ink Factory",
         "7": "2025-05-17 18:25:37.207483"
        },
        {
         "0": "A Most Wanted Man",
         "1": "1.5E7",
         "2": "3.1554855E7",
         "3": "121",
         "4": "2014-07-25",
         "5": "United Kingdom",
         "6": "FilmNation Entertainment",
         "7": "2025-05-17 18:25:37.207483"
        },
        {
         "0": "A Most Wanted Man",
         "1": "1.5E7",
         "2": "3.1554855E7",
         "3": "121",
         "4": "2014-07-25",
         "5": "United Kingdom",
         "6": "Demarest Films",
         "7": "2025-05-17 18:25:37.207483"
        },
        {
         "0": "A Most Wanted Man",
         "1": "1.5E7",
         "2": "3.1554855E7",
         "3": "121",
         "4": "2014-07-25",
         "5": "United Kingdom",
         "6": "Film4",
         "7": "2025-05-17 18:25:37.207483"
        },
        {
         "0": "A Most Wanted Man",
         "1": "1.5E7",
         "2": "3.1554855E7",
         "3": "121",
         "4": "2014-07-25",
         "5": "United States of America",
         "6": "Lionsgate",
         "7": "2025-05-17 18:25:37.207483"
        },
        {
         "0": "A Most Wanted Man",
         "1": "1.5E7",
         "2": "3.1554855E7",
         "3": "121",
         "4": "2014-07-25",
         "5": "United States of America",
         "6": "Senator Film Produktion",
         "7": "2025-05-17 18:25:37.207483"
        },
        {
         "0": "A Most Wanted Man",
         "1": "1.5E7",
         "2": "3.1554855E7",
         "3": "121",
         "4": "2014-07-25",
         "5": "United States of America",
         "6": "Amusement Park Films",
         "7": "2025-05-17 18:25:37.207483"
        },
        {
         "0": "A Most Wanted Man",
         "1": "1.5E7",
         "2": "3.1554855E7",
         "3": "121",
         "4": "2014-07-25",
         "5": "United States of America",
         "6": "Potboiler Productions",
         "7": "2025-05-17 18:25:37.207483"
        },
        {
         "0": "A Most Wanted Man",
         "1": "1.5E7",
         "2": "3.1554855E7",
         "3": "121",
         "4": "2014-07-25",
         "5": "United States of America",
         "6": "The Ink Factory",
         "7": "2025-05-17 18:25:37.207483"
        },
        {
         "0": "A Most Wanted Man",
         "1": "1.5E7",
         "2": "3.1554855E7",
         "3": "121",
         "4": "2014-07-25",
         "5": "United States of America",
         "6": "FilmNation Entertainment",
         "7": "2025-05-17 18:25:37.207483"
        },
        {
         "0": "A Most Wanted Man",
         "1": "1.5E7",
         "2": "3.1554855E7",
         "3": "121",
         "4": "2014-07-25",
         "5": "United States of America",
         "6": "Demarest Films",
         "7": "2025-05-17 18:25:37.207483"
        },
        {
         "0": "A Most Wanted Man",
         "1": "1.5E7",
         "2": "3.1554855E7",
         "3": "121",
         "4": "2014-07-25",
         "5": "United States of America",
         "6": "Film4",
         "7": "2025-05-17 18:25:37.207483"
        },
        {
         "0": "A Most Wanted Man",
         "1": "1.5E7",
         "2": "3.1554855E7",
         "3": "121",
         "4": "2014-07-25",
         "5": "Germany",
         "6": "Lionsgate",
         "7": "2025-05-17 18:25:37.207483"
        },
        {
         "0": "A Most Wanted Man",
         "1": "1.5E7",
         "2": "3.1554855E7",
         "3": "121",
         "4": "2014-07-25",
         "5": "Germany",
         "6": "Senator Film Produktion",
         "7": "2025-05-17 18:25:37.207483"
        },
        {
         "0": "A Most Wanted Man",
         "1": "1.5E7",
         "2": "3.1554855E7",
         "3": "121",
         "4": "2014-07-25",
         "5": "Germany",
         "6": "Amusement Park Films",
         "7": "2025-05-17 18:25:37.207483"
        },
        {
         "0": "A Most Wanted Man",
         "1": "1.5E7",
         "2": "3.1554855E7",
         "3": "121",
         "4": "2014-07-25",
         "5": "Germany",
         "6": "Potboiler Productions",
         "7": "2025-05-17 18:25:37.207483"
        },
        {
         "0": "A Most Wanted Man",
         "1": "1.5E7",
         "2": "3.1554855E7",
         "3": "121",
         "4": "2014-07-25",
         "5": "Germany",
         "6": "The Ink Factory",
         "7": "2025-05-17 18:25:37.207483"
        },
        {
         "0": "A Most Wanted Man",
         "1": "1.5E7",
         "2": "3.1554855E7",
         "3": "121",
         "4": "2014-07-25",
         "5": "Germany",
         "6": "FilmNation Entertainment",
         "7": "2025-05-17 18:25:37.207483"
        },
        {
         "0": "A Most Wanted Man",
         "1": "1.5E7",
         "2": "3.1554855E7",
         "3": "121",
         "4": "2014-07-25",
         "5": "Germany",
         "6": "Demarest Films",
         "7": "2025-05-17 18:25:37.207483"
        },
        {
         "0": "A Most Wanted Man",
         "1": "1.5E7",
         "2": "3.1554855E7",
         "3": "121",
         "4": "2014-07-25",
         "5": "Germany",
         "6": "Film4",
         "7": "2025-05-17 18:25:37.207483"
        },
        {
         "0": "A Thousand Words",
         "1": "4.0E7",
         "2": "2.2044277E7",
         "3": "91",
         "4": "2012-03-07",
         "5": "United States of America",
         "6": "Saturn Films",
         "7": "2025-05-17 18:25:37.207483"
        },
        {
         "0": "A Thousand Words",
         "1": "4.0E7",
         "2": "2.2044277E7",
         "3": "91",
         "4": "2012-03-07",
         "5": "United States of America",
         "6": "DreamWorks SKG",
         "7": "2025-05-17 18:25:37.207483"
        },
        {
         "0": "A Thousand Words",
         "1": "4.0E7",
         "2": "2.2044277E7",
         "3": "91",
         "4": "2012-03-07",
         "5": "United States of America",
         "6": "Paramount Pictures",
         "7": "2025-05-17 18:25:37.207483"
        },
        {
         "0": "A Thousand Words",
         "1": "4.0E7",
         "2": "2.2044277E7",
         "3": "91",
         "4": "2012-03-07",
         "5": "United States of America",
         "6": "Varsity Pictures",
         "7": "2025-05-17 18:25:37.207483"
        },
        {
         "0": "A Very Harold & Kumar Christmas",
         "1": "1.9E7",
         "2": "3.5387212E7",
         "3": "108",
         "4": "2011-11-04",
         "5": "United States of America",
         "6": "Mandate Pictures",
         "7": "2025-05-17 18:25:37.207483"
        },
        {
         "0": "A Very Harold & Kumar Christmas",
         "1": "1.9E7",
         "2": "3.5387212E7",
         "3": "108",
         "4": "2011-11-04",
         "5": "United States of America",
         "6": "New Line Cinema",
         "7": "2025-05-17 18:25:37.207483"
        },
        {
         "0": "A Walk Among the Tombstones",
         "1": "2.8E7",
         "2": "5.31816E7",
         "3": "113",
         "4": "2014-09-18",
         "5": "United States of America",
         "6": "Jersey Films",
         "7": "2025-05-17 18:25:37.207483"
        },
        {
         "0": "A Walk Among the Tombstones",
         "1": "2.8E7",
         "2": "5.31816E7",
         "3": "113",
         "4": "2014-09-18",
         "5": "United States of America",
         "6": "Double Feature Films",
         "7": "2025-05-17 18:25:37.207483"
        },
        {
         "0": "A Walk Among the Tombstones",
         "1": "2.8E7",
         "2": "5.31816E7",
         "3": "113",
         "4": "2014-09-18",
         "5": "United States of America",
         "6": "Da Vinci Media Ventures",
         "7": "2025-05-17 18:25:37.207483"
        },
        {
         "0": "A Walk Among the Tombstones",
         "1": "2.8E7",
         "2": "5.31816E7",
         "3": "113",
         "4": "2014-09-18",
         "5": "United States of America",
         "6": "Free State Pictures",
         "7": "2025-05-17 18:25:37.207483"
        },
        {
         "0": "A Walk Among the Tombstones",
         "1": "2.8E7",
         "2": "5.31816E7",
         "3": "113",
         "4": "2014-09-18",
         "5": "United States of America",
         "6": "Traveling Picture Show Company (TPSC)",
         "7": "2025-05-17 18:25:37.207483"
        },
        {
         "0": "A Walk Among the Tombstones",
         "1": "2.8E7",
         "2": "5.31816E7",
         "3": "113",
         "4": "2014-09-18",
         "5": "United States of America",
         "6": "1984 Private Defense Contractors",
         "7": "2025-05-17 18:25:37.207483"
        },
        {
         "0": "A Walk Among the Tombstones",
         "1": "2.8E7",
         "2": "5.31816E7",
         "3": "113",
         "4": "2014-09-18",
         "5": "United States of America",
         "6": "Exclusive Media Group",
         "7": "2025-05-17 18:25:37.207483"
        },
        {
         "0": "A Walk Among the Tombstones",
         "1": "2.8E7",
         "2": "5.31816E7",
         "3": "113",
         "4": "2014-09-18",
         "5": "United States of America",
         "6": "Cross Creek Pictures",
         "7": "2025-05-17 18:25:37.207483"
        },
        {
         "0": "A escondidas",
         "1": "2000000.0",
         "2": "2600000.0",
         "3": "96",
         "4": "2014-10-03",
         "5": "Spain",
         "6": "Bitart New Media",
         "7": "2025-05-17 18:25:37.207483"
        },
        {
         "0": "A escondidas",
         "1": "2000000.0",
         "2": "2600000.0",
         "3": "96",
         "4": "2014-10-03",
         "5": "Spain",
         "6": "Departamento de Cultura del Gobierno Vasco",
         "7": "2025-05-17 18:25:37.207483"
        },
        {
         "0": "A escondidas",
         "1": "2000000.0",
         "2": "2600000.0",
         "3": "96",
         "4": "2014-10-03",
         "5": "Spain",
         "6": "Baleuko S.L.",
         "7": "2025-05-17 18:25:37.207483"
        },
        {
         "0": "AWOL-72",
         "1": "3000000.0",
         "2": "3750000.0",
         "3": "79",
         "4": "2015-08-07",
         "5": "United States of America",
         "6": "Triumphant Entertainment",
         "7": "2025-05-17 18:25:37.207483"
        },
        {
         "0": "Abandoned",
         "1": "2000000.0",
         "2": "2600000.0",
         "3": "82",
         "4": "2015-08-30",
         "5": "New Zealand",
         "6": "Making Movies",
         "7": "2025-05-17 18:25:37.207483"
        },
        {
         "0": "Abduction",
         "1": "3.5E7",
         "2": "8.2087155E7",
         "3": "106",
         "4": "2011-09-22",
         "5": "United States of America",
         "6": "Vertigo Entertainment",
         "7": "2025-05-17 18:25:37.207483"
        },
        {
         "0": "Abduction",
         "1": "3.5E7",
         "2": "8.2087155E7",
         "3": "106",
         "4": "2011-09-22",
         "5": "United States of America",
         "6": "Lions Gate Films",
         "7": "2025-05-17 18:25:37.207483"
        },
        {
         "0": "Abduction",
         "1": "3.5E7",
         "2": "8.2087155E7",
         "3": "106",
         "4": "2011-09-22",
         "5": "United States of America",
         "6": "Quick Six Entertainment",
         "7": "2025-05-17 18:25:37.207483"
        },
        {
         "0": "Abduction",
         "1": "3.5E7",
         "2": "8.2087155E7",
         "3": "106",
         "4": "2011-09-22",
         "5": "United States of America",
         "6": "Mango Farms",
         "7": "2025-05-17 18:25:37.207483"
        },
        {
         "0": "Abduction",
         "1": "3.5E7",
         "2": "8.2087155E7",
         "3": "106",
         "4": "2011-09-22",
         "5": "United States of America",
         "6": "Tailor Made",
         "7": "2025-05-17 18:25:37.207483"
        },
        {
         "0": "Abduction",
         "1": "3.5E7",
         "2": "8.2087155E7",
         "3": "106",
         "4": "2011-09-22",
         "5": "United States of America",
         "6": "Gotham Group",
         "7": "2025-05-17 18:25:37.207483"
        },
        {
         "0": "About Last Night",
         "1": "1.25E7",
         "2": "4.9002684E7",
         "3": "100",
         "4": "2014-02-14",
         "5": "United States of America",
         "6": "Rainforest Films",
         "7": "2025-05-17 18:25:37.207483"
        },
        {
         "0": "About Last Night",
         "1": "1.25E7",
         "2": "4.9002684E7",
         "3": "100",
         "4": "2014-02-14",
         "5": "United States of America",
         "6": "Screen Gems, Inc.",
         "7": "2025-05-17 18:25:37.207483"
        },
        {
         "0": "About Last Night",
         "1": "1.25E7",
         "2": "4.9002684E7",
         "3": "100",
         "4": "2014-02-14",
         "5": "United States of America",
         "6": "Olive Bridge Entertainment",
         "7": "2025-05-17 18:25:37.207483"
        },
        {
         "0": "About Time",
         "1": "2000000.0",
         "2": "2600000.0",
         "3": "123",
         "4": "2013-08-16",
         "5": "United Kingdom",
         "6": "Translux",
         "7": "2025-05-17 18:25:37.207483"
        },
        {
         "0": "About Time",
         "1": "2000000.0",
         "2": "2600000.0",
         "3": "123",
         "4": "2013-08-16",
         "5": "United Kingdom",
         "6": "Working Title Films",
         "7": "2025-05-17 18:25:37.207483"
        },
        {
         "0": "Abraham Lincoln: Vampire Hunter",
         "1": "6.9E7",
         "2": "1.12265139E8",
         "3": "94",
         "4": "2012-06-20",
         "5": "United States of America",
         "6": "Bazelevs Production",
         "7": "2025-05-17 18:25:37.207483"
        },
        {
         "0": "Abraham Lincoln: Vampire Hunter",
         "1": "6.9E7",
         "2": "1.12265139E8",
         "3": "94",
         "4": "2012-06-20",
         "5": "United States of America",
         "6": "Twentieth Century Fox Film Corporation",
         "7": "2025-05-17 18:25:37.207483"
        },
        {
         "0": "Abraham Lincoln: Vampire Hunter",
         "1": "6.9E7",
         "2": "1.12265139E8",
         "3": "94",
         "4": "2012-06-20",
         "5": "United States of America",
         "6": "Location Gourmet",
         "7": "2025-05-17 18:25:37.207483"
        },
        {
         "0": "Abraham Lincoln: Vampire Hunter",
         "1": "6.9E7",
         "2": "1.12265139E8",
         "3": "94",
         "4": "2012-06-20",
         "5": "United States of America",
         "6": "Abraham Productions",
         "7": "2025-05-17 18:25:37.207483"
        },
        {
         "0": "Abraham Lincoln: Vampire Hunter",
         "1": "6.9E7",
         "2": "1.12265139E8",
         "3": "94",
         "4": "2012-06-20",
         "5": "United States of America",
         "6": "Tim Burton Productions",
         "7": "2025-05-17 18:25:37.207483"
        },
        {
         "0": "Absentia",
         "1": "70000.0",
         "2": "87500.0",
         "3": "92",
         "4": "2011-03-03",
         "5": "United States of America",
         "6": "FallBack Plan Productions",
         "7": "2025-05-17 18:25:37.207483"
        },
        {
         "0": "Absentia",
         "1": "70000.0",
         "2": "87500.0",
         "3": "92",
         "4": "2011-03-03",
         "5": "United States of America",
         "6": "Blue Dot Productions",
         "7": "2025-05-17 18:25:37.207483"
        },
        {
         "0": "Accidental Love",
         "1": "2.6E7",
         "2": "3.25E7",
         "3": "100",
         "4": "2015-02-10",
         "5": "United States of America",
         "6": "K. JAM Media",
         "7": "2025-05-17 18:25:37.207483"
        },
        {
         "0": "Act of Valor",
         "1": "1.2E7",
         "2": "8.1272766E7",
         "3": "110",
         "4": "2012-02-24",
         "5": "United States of America",
         "6": "Bandito Brothers",
         "7": "2025-05-17 18:25:37.207483"
        },
        {
         "0": "Act of Valor",
         "1": "1.2E7",
         "2": "8.1272766E7",
         "3": "110",
         "4": "2012-02-24",
         "5": "United States of America",
         "6": "Relativity Media",
         "7": "2025-05-17 18:25:37.207483"
        },
        {
         "0": "Addicted",
         "1": "2000000.0",
         "2": "2600000.0",
         "3": "105",
         "4": "2014-10-10",
         "5": "United States of America",
         "6": "Lionsgate",
         "7": "2025-05-17 18:25:37.207483"
        },
        {
         "0": "Addicted",
         "1": "2000000.0",
         "2": "2600000.0",
         "3": "105",
         "4": "2014-10-10",
         "5": "United States of America",
         "6": "Codeblack Entertainment",
         "7": "2025-05-17 18:25:37.207483"
        },
        {
         "0": "Admission",
         "1": "1.3E7",
         "2": "1.8E7",
         "3": "107",
         "4": "2013-03-21",
         "5": "United States of America",
         "6": "Focus Features",
         "7": "2025-05-17 18:25:37.207483"
        },
        {
         "0": "Adore",
         "1": "1.6E7",
         "2": "318982.0",
         "3": "100",
         "4": "2013-04-03",
         "5": "France",
         "6": "Cinu00e9@",
         "7": "2025-05-17 18:25:37.207483"
        },
        {
         "0": "Adore",
         "1": "1.6E7",
         "2": "318982.0",
         "3": "100",
         "4": "2013-04-03",
         "5": "France",
         "6": "Gaumont",
         "7": "2025-05-17 18:25:37.207483"
        },
        {
         "0": "Adore",
         "1": "1.6E7",
         "2": "318982.0",
         "3": "100",
         "4": "2013-04-03",
         "5": "France",
         "6": "Mon Voisin Productions",
         "7": "2025-05-17 18:25:37.207483"
        },
        {
         "0": "Adore",
         "1": "1.6E7",
         "2": "318982.0",
         "3": "100",
         "4": "2013-04-03",
         "5": "France",
         "6": "Hopscotch Features",
         "7": "2025-05-17 18:25:37.207483"
        },
        {
         "0": "Adore",
         "1": "1.6E7",
         "2": "318982.0",
         "3": "100",
         "4": "2013-04-03",
         "5": "France",
         "6": "Screen Australia",
         "7": "2025-05-17 18:25:37.207483"
        },
        {
         "0": "Adore",
         "1": "1.6E7",
         "2": "318982.0",
         "3": "100",
         "4": "2013-04-03",
         "5": "France",
         "6": "Canal+",
         "7": "2025-05-17 18:25:37.207483"
        },
        {
         "0": "Adore",
         "1": "1.6E7",
         "2": "318982.0",
         "3": "100",
         "4": "2013-04-03",
         "5": "France",
         "6": "France 2 Cinu00e9ma",
         "7": "2025-05-17 18:25:37.207483"
        },
        {
         "0": "Adore",
         "1": "1.6E7",
         "2": "318982.0",
         "3": "100",
         "4": "2013-04-03",
         "5": "France",
         "6": "France Tu00e9lu00e9visions",
         "7": "2025-05-17 18:25:37.207483"
        },
        {
         "0": "Adore",
         "1": "1.6E7",
         "2": "318982.0",
         "3": "100",
         "4": "2013-04-03",
         "5": "France",
         "6": "Screen NSW",
         "7": "2025-05-17 18:25:37.207483"
        },
        {
         "0": "Adore",
         "1": "1.6E7",
         "2": "318982.0",
         "3": "100",
         "4": "2013-04-03",
         "5": "Australia",
         "6": "Cinu00e9@",
         "7": "2025-05-17 18:25:37.207483"
        },
        {
         "0": "Adore",
         "1": "1.6E7",
         "2": "318982.0",
         "3": "100",
         "4": "2013-04-03",
         "5": "Australia",
         "6": "Gaumont",
         "7": "2025-05-17 18:25:37.207483"
        },
        {
         "0": "Adore",
         "1": "1.6E7",
         "2": "318982.0",
         "3": "100",
         "4": "2013-04-03",
         "5": "Australia",
         "6": "Mon Voisin Productions",
         "7": "2025-05-17 18:25:37.207483"
        },
        {
         "0": "Adore",
         "1": "1.6E7",
         "2": "318982.0",
         "3": "100",
         "4": "2013-04-03",
         "5": "Australia",
         "6": "Hopscotch Features",
         "7": "2025-05-17 18:25:37.207483"
        },
        {
         "0": "Adore",
         "1": "1.6E7",
         "2": "318982.0",
         "3": "100",
         "4": "2013-04-03",
         "5": "Australia",
         "6": "Screen Australia",
         "7": "2025-05-17 18:25:37.207483"
        },
        {
         "0": "Adore",
         "1": "1.6E7",
         "2": "318982.0",
         "3": "100",
         "4": "2013-04-03",
         "5": "Australia",
         "6": "Canal+",
         "7": "2025-05-17 18:25:37.207483"
        },
        {
         "0": "Adore",
         "1": "1.6E7",
         "2": "318982.0",
         "3": "100",
         "4": "2013-04-03",
         "5": "Australia",
         "6": "France 2 Cinu00e9ma",
         "7": "2025-05-17 18:25:37.207483"
        },
        {
         "0": "Adore",
         "1": "1.6E7",
         "2": "318982.0",
         "3": "100",
         "4": "2013-04-03",
         "5": "Australia",
         "6": "France Tu00e9lu00e9visions",
         "7": "2025-05-17 18:25:37.207483"
        },
        {
         "0": "Adore",
         "1": "1.6E7",
         "2": "318982.0",
         "3": "100",
         "4": "2013-04-03",
         "5": "Australia",
         "6": "Screen NSW",
         "7": "2025-05-17 18:25:37.207483"
        },
        {
         "0": "After",
         "1": "2000000.0",
         "2": "2600000.0",
         "3": "90",
         "4": "2012-08-27",
         "5": "United States of America",
         "6": "Quite Quick Productions",
         "7": "2025-05-17 18:25:37.207483"
        },
        {
         "0": "After",
         "1": "2000000.0",
         "2": "2600000.0",
         "3": "90",
         "4": "2012-08-27",
         "5": "United States of America",
         "6": "Seabourne Pictures",
         "7": "2025-05-17 18:25:37.207483"
        },
        {
         "0": "After Earth",
         "1": "1.3E8",
         "2": "2.43843127E8",
         "3": "100",
         "4": "2013-05-30",
         "5": "United States of America",
         "6": "Columbia Pictures",
         "7": "2025-05-17 18:25:37.207483"
        },
        {
         "0": "After Earth",
         "1": "1.3E8",
         "2": "2.43843127E8",
         "3": "100",
         "4": "2013-05-30",
         "5": "United States of America",
         "6": "Overbrook Entertainment",
         "7": "2025-05-17 18:25:37.207483"
        },
        {
         "0": "After Earth",
         "1": "1.3E8",
         "2": "2.43843127E8",
         "3": "100",
         "4": "2013-05-30",
         "5": "United States of America",
         "6": "Blinding Edge Pictures",
         "7": "2025-05-17 18:25:37.207483"
        },
        {
         "0": "After.Life",
         "1": "4500000.0",
         "2": "3606395.0",
         "3": "104",
         "4": "2010-04-09",
         "5": "United States of America",
         "6": "Plum Pictures",
         "7": "2025-05-17 18:25:37.207483"
        },
        {
         "0": "After.Life",
         "1": "4500000.0",
         "2": "3606395.0",
         "3": "104",
         "4": "2010-04-09",
         "5": "United States of America",
         "6": "Harbor Light Entertainment",
         "7": "2025-05-17 18:25:37.207483"
        },
        {
         "0": "After.Life",
         "1": "4500000.0",
         "2": "3606395.0",
         "3": "104",
         "4": "2010-04-09",
         "5": "United States of America",
         "6": "Lleju Productions",
         "7": "2025-05-17 18:25:37.207483"
        },
        {
         "0": "Against the Wild",
         "1": "1493619.0",
         "2": "1867023.0",
         "3": "90",
         "4": "2013-12-29",
         "5": "Canada",
         "6": "Against the Wild Films",
         "7": "2025-05-17 18:25:37.207483"
        },
        {
         "0": "Airlift",
         "1": "4500000.0",
         "2": "3.2E7",
         "3": "126",
         "4": "2016-01-22",
         "5": "India",
         "6": "Cape Of Good Films",
         "7": "2025-05-17 18:25:37.207483"
        },
        {
         "0": "Airlift",
         "1": "4500000.0",
         "2": "3.2E7",
         "3": "126",
         "4": "2016-01-22",
         "5": "India",
         "6": "Hari Om Entertainment Co.",
         "7": "2025-05-17 18:25:37.207483"
        },
        {
         "0": "Airlift",
         "1": "4500000.0",
         "2": "3.2E7",
         "3": "126",
         "4": "2016-01-22",
         "5": "India",
         "6": "T-Series",
         "7": "2025-05-17 18:25:37.207483"
        },
        {
         "0": "Albert Nobbs",
         "1": "8000000.0",
         "2": "5634828.0",
         "3": "113",
         "4": "2011-12-21",
         "5": "United Kingdom",
         "6": "Chrysalis Films",
         "7": "2025-05-17 18:25:37.207483"
        },
        {
         "0": "Albert Nobbs",
         "1": "8000000.0",
         "2": "5634828.0",
         "3": "113",
         "4": "2011-12-21",
         "5": "Ireland",
         "6": "Chrysalis Films",
         "7": "2025-05-17 18:25:37.207483"
        },
        {
         "0": "Alex Cross",
         "1": "4.5E7",
         "2": "3.0353232E7",
         "3": "101",
         "4": "2012-10-18",
         "5": "United States of America",
         "6": "Summit Entertainment",
         "7": "2025-05-17 18:25:37.207483"
        },
        {
         "0": "Alexander and the Terrible, Horrible, No Good, Very Bad Day",
         "1": "2.8E7",
         "2": "1.00654149E8",
         "3": "81",
         "4": "2014-10-08",
         "5": "United States of America",
         "6": "21 Laps Entertainment",
         "7": "2025-05-17 18:25:37.207483"
        },
        {
         "0": "Alexander and the Terrible, Horrible, No Good, Very Bad Day",
         "1": "2.8E7",
         "2": "1.00654149E8",
         "3": "81",
         "4": "2014-10-08",
         "5": "United States of America",
         "6": "Walt Disney Pictures",
         "7": "2025-05-17 18:25:37.207483"
        },
        {
         "0": "Alexander and the Terrible, Horrible, No Good, Very Bad Day",
         "1": "2.8E7",
         "2": "1.00654149E8",
         "3": "81",
         "4": "2014-10-08",
         "5": "United States of America",
         "6": "Jim Henson Company, The",
         "7": "2025-05-17 18:25:37.207483"
        },
        {
         "0": "Alice in Wonderland",
         "1": "2.0E8",
         "2": "1.02549111E9",
         "3": "108",
         "4": "2010-03-03",
         "5": "United States of America",
         "6": "Team Todd",
         "7": "2025-05-17 18:25:37.207483"
        },
        {
         "0": "Alice in Wonderland",
         "1": "2.0E8",
         "2": "1.02549111E9",
         "3": "108",
         "4": "2010-03-03",
         "5": "United States of America",
         "6": "Walt Disney Pictures",
         "7": "2025-05-17 18:25:37.207483"
        },
        {
         "0": "Alice in Wonderland",
         "1": "2.0E8",
         "2": "1.02549111E9",
         "3": "108",
         "4": "2010-03-03",
         "5": "United States of America",
         "6": "Zanuck Company, The",
         "7": "2025-05-17 18:25:37.207483"
        },
        {
         "0": "Alice in Wonderland",
         "1": "2.0E8",
         "2": "1.02549111E9",
         "3": "108",
         "4": "2010-03-03",
         "5": "United States of America",
         "6": "Tim Burton Productions",
         "7": "2025-05-17 18:25:37.207483"
        },
        {
         "0": "Alice in Wonderland",
         "1": "2.0E8",
         "2": "1.02549111E9",
         "3": "108",
         "4": "2010-03-03",
         "5": "United States of America",
         "6": "Roth Films",
         "7": "2025-05-17 18:25:37.207483"
        },
        {
         "0": "All Good Things",
         "1": "2000000.0",
         "2": "2600000.0",
         "3": "101",
         "4": "2010-12-03",
         "5": "United States of America",
         "6": "The Weinstein Company",
         "7": "2025-05-17 18:25:37.207483"
        },
        {
         "0": "All Is Bright",
         "1": "2000000.0",
         "2": "2600000.0",
         "3": "107",
         "4": "2013-09-10",
         "5": "United States of America",
         "6": "Sidney Kimmel Entertainment",
         "7": "2025-05-17 18:25:37.207483"
        },
        {
         "0": "All Is Bright",
         "1": "2000000.0",
         "2": "2600000.0",
         "3": "107",
         "4": "2013-09-10",
         "5": "United States of America",
         "6": "Touchy Feely Films",
         "7": "2025-05-17 18:25:37.207483"
        },
        {
         "0": "All Is Bright",
         "1": "2000000.0",
         "2": "2600000.0",
         "3": "107",
         "4": "2013-09-10",
         "5": "United States of America",
         "6": "GreenStreet Films",
         "7": "2025-05-17 18:25:37.207483"
        },
        {
         "0": "All Is Lost",
         "1": "9000000.0",
         "2": "6108720.0",
         "3": "106",
         "4": "2013-10-18",
         "5": "United States of America",
         "6": "Black Bear Pictures",
         "7": "2025-05-17 18:25:37.207483"
        },
        {
         "0": "All Is Lost",
         "1": "9000000.0",
         "2": "6108720.0",
         "3": "106",
         "4": "2013-10-18",
         "5": "United States of America",
         "6": "FilmNation Entertainment",
         "7": "2025-05-17 18:25:37.207483"
        },
        {
         "0": "All Is Lost",
         "1": "9000000.0",
         "2": "6108720.0",
         "3": "106",
         "4": "2013-10-18",
         "5": "United States of America",
         "6": "Sudden Storm Productions",
         "7": "2025-05-17 18:25:37.207483"
        },
        {
         "0": "All Is Lost",
         "1": "9000000.0",
         "2": "6108720.0",
         "3": "106",
         "4": "2013-10-18",
         "5": "United States of America",
         "6": "Washington Square Films",
         "7": "2025-05-17 18:25:37.207483"
        },
        {
         "0": "All Is Lost",
         "1": "9000000.0",
         "2": "6108720.0",
         "3": "106",
         "4": "2013-10-18",
         "5": "United States of America",
         "6": "Before the Door Pictures",
         "7": "2025-05-17 18:25:37.207483"
        },
        {
         "0": "All Is Lost",
         "1": "9000000.0",
         "2": "6108720.0",
         "3": "106",
         "4": "2013-10-18",
         "5": "United States of America",
         "6": "Treehouse Pictures",
         "7": "2025-05-17 18:25:37.207483"
        },
        {
         "0": "Allegiant",
         "1": "1.1E8",
         "2": "1.79246868E8",
         "3": "121",
         "4": "2016-03-09",
         "5": "United States of America",
         "6": "Lionsgate",
         "7": "2025-05-17 18:25:37.207483"
        },
        {
         "0": "Allegiant",
         "1": "1.1E8",
         "2": "1.79246868E8",
         "3": "121",
         "4": "2016-03-09",
         "5": "United States of America",
         "6": "Summit Entertainment",
         "7": "2025-05-17 18:25:37.207483"
        },
        {
         "0": "Allegiant",
         "1": "1.1E8",
         "2": "1.79246868E8",
         "3": "121",
         "4": "2016-03-09",
         "5": "United States of America",
         "6": "Red Wagon Entertainment",
         "7": "2025-05-17 18:25:37.207483"
        },
        {
         "0": "Allegiant",
         "1": "1.1E8",
         "2": "1.79246868E8",
         "3": "121",
         "4": "2016-03-09",
         "5": "United States of America",
         "6": "Mandeville Films",
         "7": "2025-05-17 18:25:37.207483"
        },
        {
         "0": "Alleluia! The Devil's Carnival",
         "1": "2000000.0",
         "2": "2600000.0",
         "3": "75",
         "4": "2016-03-29",
         "5": "United States of America",
         "6": "Execution Style Entertainment",
         "7": "2025-05-17 18:25:37.207483"
        },
        {
         "0": "Alleluia! The Devil's Carnival",
         "1": "2000000.0",
         "2": "2600000.0",
         "3": "75",
         "4": "2016-03-29",
         "5": "United States of America",
         "6": "Limb from Limb Pictures",
         "7": "2025-05-17 18:25:37.207483"
        },
        {
         "0": "Aloft",
         "1": "8000000.0",
         "2": "53086.0",
         "3": "112",
         "4": "2014-02-12",
         "5": "France",
         "6": "Arcadia Motion Pictures",
         "7": "2025-05-17 18:25:37.207483"
        },
        {
         "0": "Aloft",
         "1": "8000000.0",
         "2": "53086.0",
         "3": "112",
         "4": "2014-02-12",
         "5": "France",
         "6": "Buffalo Gal Pictures",
         "7": "2025-05-17 18:25:37.207483"
        },
        {
         "0": "Aloft",
         "1": "8000000.0",
         "2": "53086.0",
         "3": "112",
         "4": "2014-02-12",
         "5": "France",
         "6": "Wanda Visiu00f3n S.A.",
         "7": "2025-05-17 18:25:37.207483"
        },
        {
         "0": "Aloft",
         "1": "8000000.0",
         "2": "53086.0",
         "3": "112",
         "4": "2014-02-12",
         "5": "United States of America",
         "6": "Arcadia Motion Pictures",
         "7": "2025-05-17 18:25:37.207483"
        },
        {
         "0": "Aloft",
         "1": "8000000.0",
         "2": "53086.0",
         "3": "112",
         "4": "2014-02-12",
         "5": "United States of America",
         "6": "Buffalo Gal Pictures",
         "7": "2025-05-17 18:25:37.207483"
        },
        {
         "0": "Aloft",
         "1": "8000000.0",
         "2": "53086.0",
         "3": "112",
         "4": "2014-02-12",
         "5": "United States of America",
         "6": "Wanda Visiu00f3n S.A.",
         "7": "2025-05-17 18:25:37.207483"
        },
        {
         "0": "Aloft",
         "1": "8000000.0",
         "2": "53086.0",
         "3": "112",
         "4": "2014-02-12",
         "5": "Spain",
         "6": "Arcadia Motion Pictures",
         "7": "2025-05-17 18:25:37.207483"
        },
        {
         "0": "Aloft",
         "1": "8000000.0",
         "2": "53086.0",
         "3": "112",
         "4": "2014-02-12",
         "5": "Spain",
         "6": "Buffalo Gal Pictures",
         "7": "2025-05-17 18:25:37.207483"
        },
        {
         "0": "Aloft",
         "1": "8000000.0",
         "2": "53086.0",
         "3": "112",
         "4": "2014-02-12",
         "5": "Spain",
         "6": "Wanda Visiu00f3n S.A.",
         "7": "2025-05-17 18:25:37.207483"
        },
        {
         "0": "Aloha",
         "1": "3.7E7",
         "2": "2.625002E7",
         "3": "105",
         "4": "2015-05-27",
         "5": "United States of America",
         "6": "Vinyl Films",
         "7": "2025-05-17 18:25:37.207483"
        },
        {
         "0": "Aloha",
         "1": "3.7E7",
         "2": "2.625002E7",
         "3": "105",
         "4": "2015-05-27",
         "5": "United States of America",
         "6": "Scott Rudin Productions",
         "7": "2025-05-17 18:25:37.207483"
        },
        {
         "0": "Along the Roadside",
         "1": "2000000.0",
         "2": "2600000.0",
         "3": "118",
         "4": "2013-02-28",
         "5": "United States of America",
         "6": "Metakwon Filmworks",
         "7": "2025-05-17 18:25:37.207483"
        },
        {
         "0": "Alpha and Omega",
         "1": "2.0E7",
         "2": "3.93E7",
         "3": "88",
         "4": "2010-09-17",
         "5": "United States of America",
         "6": "Crest Animation Productions",
         "7": "2025-05-17 18:25:37.207483"
        },
        {
         "0": "Alpha and Omega",
         "1": "2.0E7",
         "2": "3.93E7",
         "3": "88",
         "4": "2010-09-17",
         "5": "United States of America",
         "6": "Relativity Media",
         "7": "2025-05-17 18:25:37.207483"
        },
        {
         "0": "Alpha and Omega",
         "1": "2.0E7",
         "2": "3.93E7",
         "3": "88",
         "4": "2010-09-17",
         "5": "United States of America",
         "6": "Lions Gate Family Entertainment",
         "7": "2025-05-17 18:25:37.207483"
        },
        {
         "0": "Alpha and Omega",
         "1": "2.0E7",
         "2": "3.93E7",
         "3": "88",
         "4": "2010-09-17",
         "5": "India",
         "6": "Crest Animation Productions",
         "7": "2025-05-17 18:25:37.207483"
        },
        {
         "0": "Alpha and Omega",
         "1": "2.0E7",
         "2": "3.93E7",
         "3": "88",
         "4": "2010-09-17",
         "5": "India",
         "6": "Relativity Media",
         "7": "2025-05-17 18:25:37.207483"
        },
        {
         "0": "Alpha and Omega",
         "1": "2.0E7",
         "2": "3.93E7",
         "3": "88",
         "4": "2010-09-17",
         "5": "India",
         "6": "Lions Gate Family Entertainment",
         "7": "2025-05-17 18:25:37.207483"
        },
        {
         "0": "Alpha and Omega: The Legend of the Saw Tooth Cave",
         "1": "2000000.0",
         "2": "2600000.0",
         "3": "53",
         "4": "2014-07-21",
         "5": "United States of America",
         "6": "LionsGate",
         "7": "2025-05-17 18:25:37.207483"
        },
        {
         "0": "Alpha and Omega: The Legend of the Saw Tooth Cave",
         "1": "2000000.0",
         "2": "2600000.0",
         "3": "53",
         "4": "2014-07-21",
         "5": "United States of America",
         "6": "Crest Animation Production",
         "7": "2025-05-17 18:25:37.207483"
        },
        {
         "0": "Alvin and the Chipmunks: Chipwrecked",
         "1": "7.5E7",
         "2": "3.42695435E8",
         "3": "87",
         "4": "2011-12-14",
         "5": "United States of America",
         "6": "Fox 2000 Pictures",
         "7": "2025-05-17 18:25:37.207483"
        },
        {
         "0": "Alvin and the Chipmunks: The Road Chip",
         "1": "2000000.0",
         "2": "2600000.0",
         "3": "92",
         "4": "2015-12-17",
         "5": "United States of America",
         "6": "Fox 2000 Pictures",
         "7": "2025-05-17 18:25:37.207483"
        },
        {
         "0": "Alvin and the Chipmunks: The Road Chip",
         "1": "2000000.0",
         "2": "2600000.0",
         "3": "92",
         "4": "2015-12-17",
         "5": "United States of America",
         "6": "Regency Enterprises",
         "7": "2025-05-17 18:25:37.207483"
        },
        {
         "0": "Alvin and the Chipmunks: The Road Chip",
         "1": "2000000.0",
         "2": "2600000.0",
         "3": "92",
         "4": "2015-12-17",
         "5": "United States of America",
         "6": "TSG Entertainment",
         "7": "2025-05-17 18:25:37.207483"
        },
        {
         "0": "Alvin and the Chipmunks: The Road Chip",
         "1": "2000000.0",
         "2": "2600000.0",
         "3": "92",
         "4": "2015-12-17",
         "5": "United States of America",
         "6": "Sunswept Entertainment",
         "7": "2025-05-17 18:25:37.207483"
        },
        {
         "0": "Alvin and the Chipmunks: The Road Chip",
         "1": "2000000.0",
         "2": "2600000.0",
         "3": "92",
         "4": "2015-12-17",
         "5": "United States of America",
         "6": "Bagdasarian Productions",
         "7": "2025-05-17 18:25:37.207483"
        },
        {
         "0": "American Heist",
         "1": "1.0E7",
         "2": "1.25E7",
         "3": "94",
         "4": "2014-09-11",
         "5": "Canada",
         "6": "Maple Leaf Finance Primeredian Entertainment",
         "7": "2025-05-17 18:25:37.207483"
        },
        {
         "0": "American Heist",
         "1": "1.0E7",
         "2": "1.25E7",
         "3": "94",
         "4": "2014-09-11",
         "5": "Canada",
         "6": "Glacier Films",
         "7": "2025-05-17 18:25:37.207483"
        },
        {
         "0": "American Heist",
         "1": "1.0E7",
         "2": "1.25E7",
         "3": "94",
         "4": "2014-09-11",
         "5": "Canada",
         "6": "NGN Productions",
         "7": "2025-05-17 18:25:37.207483"
        },
        {
         "0": "American Heist",
         "1": "1.0E7",
         "2": "1.25E7",
         "3": "94",
         "4": "2014-09-11",
         "5": "Luxembourg",
         "6": "Maple Leaf Finance Primeredian Entertainment",
         "7": "2025-05-17 18:25:37.207483"
        },
        {
         "0": "American Heist",
         "1": "1.0E7",
         "2": "1.25E7",
         "3": "94",
         "4": "2014-09-11",
         "5": "Luxembourg",
         "6": "Glacier Films",
         "7": "2025-05-17 18:25:37.207483"
        },
        {
         "0": "American Heist",
         "1": "1.0E7",
         "2": "1.25E7",
         "3": "94",
         "4": "2014-09-11",
         "5": "Luxembourg",
         "6": "NGN Productions",
         "7": "2025-05-17 18:25:37.207483"
        },
        {
         "0": "American Hero",
         "1": "2000000.0",
         "2": "2600000.0",
         "3": "86",
         "4": "2015-12-11",
         "5": "United States of America",
         "6": "Protagonist Pictures",
         "7": "2025-05-17 18:25:37.207483"
        },
        {
         "0": "American Hero",
         "1": "2000000.0",
         "2": "2600000.0",
         "3": "86",
         "4": "2015-12-11",
         "5": "United States of America",
         "6": "Screen Media Films",
         "7": "2025-05-17 18:25:37.207483"
        },
        {
         "0": "American Hero",
         "1": "2000000.0",
         "2": "2600000.0",
         "3": "86",
         "4": "2015-12-11",
         "5": "United States of America",
         "6": "Vertigo Films",
         "7": "2025-05-17 18:25:37.207483"
        },
        {
         "0": "American Hustle",
         "1": "4.0E7",
         "2": "2.51171807E8",
         "3": "138",
         "4": "2013-12-12",
         "5": "United States of America",
         "6": "Atlas Entertainment",
         "7": "2025-05-17 18:25:37.207483"
        },
        {
         "0": "American Hustle",
         "1": "4.0E7",
         "2": "2.51171807E8",
         "3": "138",
         "4": "2013-12-12",
         "5": "United States of America",
         "6": "Columbia Pictures",
         "7": "2025-05-17 18:25:37.207483"
        },
        {
         "0": "American Hustle",
         "1": "4.0E7",
         "2": "2.51171807E8",
         "3": "138",
         "4": "2013-12-12",
         "5": "United States of America",
         "6": "Annapurna Pictures",
         "7": "2025-05-17 18:25:37.207483"
        },
        {
         "0": "American Reunion",
         "1": "5.0E7",
         "2": "2.34989584E8",
         "3": "113",
         "4": "2012-04-04",
         "5": "United States of America",
         "6": "Universal Pictures",
         "7": "2025-05-17 18:25:37.207483"
        },
        {
         "0": "American Sniper",
         "1": "5.88E7",
         "2": "5.42307423E8",
         "3": "133",
         "4": "2014-12-11",
         "5": "United States of America",
         "6": "Malpaso Productions",
         "7": "2025-05-17 18:25:37.207483"
        },
        {
         "0": "American Sniper",
         "1": "5.88E7",
         "2": "5.42307423E8",
         "3": "133",
         "4": "2014-12-11",
         "5": "United States of America",
         "6": "Village Roadshow Pictures",
         "7": "2025-05-17 18:25:37.207483"
        },
        {
         "0": "American Sniper",
         "1": "5.88E7",
         "2": "5.42307423E8",
         "3": "133",
         "4": "2014-12-11",
         "5": "United States of America",
         "6": "22 & Indiana Pictures",
         "7": "2025-05-17 18:25:37.207483"
        },
        {
         "0": "American Sniper",
         "1": "5.88E7",
         "2": "5.42307423E8",
         "3": "133",
         "4": "2014-12-11",
         "5": "United States of America",
         "6": "Mad Chance Productions",
         "7": "2025-05-17 18:25:37.207483"
        },
        {
         "0": "American Sniper",
         "1": "5.88E7",
         "2": "5.42307423E8",
         "3": "133",
         "4": "2014-12-11",
         "5": "United States of America",
         "6": "RatPac-Dune Entertainment",
         "7": "2025-05-17 18:25:37.207483"
        },
        {
         "0": "American Sniper",
         "1": "5.88E7",
         "2": "5.42307423E8",
         "3": "133",
         "4": "2014-12-11",
         "5": "United States of America",
         "6": "Warner Bros.",
         "7": "2025-05-17 18:25:37.207483"
        },
        {
         "0": "Amidst the Devil's Wings",
         "1": "300000.0",
         "2": "375000.0",
         "3": "90",
         "4": "2014-12-01",
         "5": "United States of America",
         "6": "Daniel Columbie Films & Productions",
         "7": "2025-05-17 18:25:37.207483"
        },
        {
         "0": "Amigo",
         "1": "1200000.0",
         "2": "1500000.0",
         "3": "128",
         "4": "2010-07-14",
         "5": "United States of America",
         "6": "Anarchist's Convention Films",
         "7": "2025-05-17 18:25:37.207483"
        },
        {
         "0": "Amnesiac",
         "1": "3000000.0",
         "2": "3750000.0",
         "3": "90",
         "4": "2015-08-14",
         "5": "United States of America",
         "6": "Infra-Red Pictures",
         "7": "2025-05-17 18:25:37.207483"
        },
        {
         "0": "Amour",
         "1": "8900000.0",
         "2": "1.9839492E7",
         "3": "127",
         "4": "2012-07-01",
         "5": "France",
         "6": "X-Filme Creative Pool",
         "7": "2025-05-17 18:25:37.207483"
        },
        {
         "0": "Amour",
         "1": "8900000.0",
         "2": "1.9839492E7",
         "3": "127",
         "4": "2012-07-01",
         "5": "France",
         "6": "Wega Film",
         "7": "2025-05-17 18:25:37.207483"
        },
        {
         "0": "Amour",
         "1": "8900000.0",
         "2": "1.9839492E7",
         "3": "127",
         "4": "2012-07-01",
         "5": "France",
         "6": "Les Films du Losange",
         "7": "2025-05-17 18:25:37.207483"
        },
        {
         "0": "Amour",
         "1": "8900000.0",
         "2": "1.9839492E7",
         "3": "127",
         "4": "2012-07-01",
         "5": "Austria",
         "6": "X-Filme Creative Pool",
         "7": "2025-05-17 18:25:37.207483"
        },
        {
         "0": "Amour",
         "1": "8900000.0",
         "2": "1.9839492E7",
         "3": "127",
         "4": "2012-07-01",
         "5": "Austria",
         "6": "Wega Film",
         "7": "2025-05-17 18:25:37.207483"
        },
        {
         "0": "Amour",
         "1": "8900000.0",
         "2": "1.9839492E7",
         "3": "127",
         "4": "2012-07-01",
         "5": "Austria",
         "6": "Les Films du Losange",
         "7": "2025-05-17 18:25:37.207483"
        },
        {
         "0": "Amour",
         "1": "8900000.0",
         "2": "1.9839492E7",
         "3": "127",
         "4": "2012-07-01",
         "5": "Germany",
         "6": "X-Filme Creative Pool",
         "7": "2025-05-17 18:25:37.207483"
        },
        {
         "0": "Amour",
         "1": "8900000.0",
         "2": "1.9839492E7",
         "3": "127",
         "4": "2012-07-01",
         "5": "Germany",
         "6": "Wega Film",
         "7": "2025-05-17 18:25:37.207483"
        },
        {
         "0": "Amour",
         "1": "8900000.0",
         "2": "1.9839492E7",
         "3": "127",
         "4": "2012-07-01",
         "5": "Germany",
         "6": "Les Films du Losange",
         "7": "2025-05-17 18:25:37.207483"
        },
        {
         "0": "Anchorman 2: The Legend Continues",
         "1": "5.0E7",
         "2": "1.73649015E8",
         "3": "119",
         "4": "2013-12-18",
         "5": "United States of America",
         "6": "Paramount Pictures",
         "7": "2025-05-17 18:25:37.207483"
        },
        {
         "0": "Anchorman 2: The Legend Continues",
         "1": "5.0E7",
         "2": "1.73649015E8",
         "3": "119",
         "4": "2013-12-18",
         "5": "United States of America",
         "6": "Gary Sanchez Productions",
         "7": "2025-05-17 18:25:37.207483"
        },
        {
         "0": "Anchorman 2: The Legend Continues",
         "1": "5.0E7",
         "2": "1.73649015E8",
         "3": "119",
         "4": "2013-12-18",
         "5": "United States of America",
         "6": "Apatow Productions",
         "7": "2025-05-17 18:25:37.207483"
        },
        {
         "0": "And So It Goes",
         "1": "1.8E7",
         "2": "2.5312387E7",
         "3": "94",
         "4": "2014-07-20",
         "5": "United States of America",
         "6": "Castle Rock Entertainment",
         "7": "2025-05-17 18:25:37.207483"
        },
        {
         "0": "And So It Goes",
         "1": "1.8E7",
         "2": "2.5312387E7",
         "3": "94",
         "4": "2014-07-20",
         "5": "United States of America",
         "6": "ASIG Productions",
         "7": "2025-05-17 18:25:37.207483"
        },
        {
         "0": "And So It Goes",
         "1": "1.8E7",
         "2": "2.5312387E7",
         "3": "94",
         "4": "2014-07-20",
         "5": "United States of America",
         "6": "Envision Entertainment",
         "7": "2025-05-17 18:25:37.207483"
        },
        {
         "0": "Anderson's Cross",
         "1": "300000.0",
         "2": "375000.0",
         "3": "98",
         "4": "2010-05-20",
         "5": "United States of America",
         "6": "Illumination Pictures",
         "7": "2025-05-17 18:25:37.207483"
        },
        {
         "0": "Anna Karenina",
         "1": "2000000.0",
         "2": "2600000.0",
         "3": "130",
         "4": "2012-09-06",
         "5": "France",
         "6": "Universal Pictures",
         "7": "2025-05-17 18:25:37.207483"
        },
        {
         "0": "Anna Karenina",
         "1": "2000000.0",
         "2": "2600000.0",
         "3": "130",
         "4": "2012-09-06",
         "5": "France",
         "6": "Working Title Films",
         "7": "2025-05-17 18:25:37.207483"
        },
        {
         "0": "Anna Karenina",
         "1": "2000000.0",
         "2": "2600000.0",
         "3": "130",
         "4": "2012-09-06",
         "5": "France",
         "6": "Focus Features",
         "7": "2025-05-17 18:25:37.207483"
        },
        {
         "0": "Anna Karenina",
         "1": "2000000.0",
         "2": "2600000.0",
         "3": "130",
         "4": "2012-09-06",
         "5": "United Kingdom",
         "6": "Universal Pictures",
         "7": "2025-05-17 18:25:37.207483"
        },
        {
         "0": "Anna Karenina",
         "1": "2000000.0",
         "2": "2600000.0",
         "3": "130",
         "4": "2012-09-06",
         "5": "United Kingdom",
         "6": "Working Title Films",
         "7": "2025-05-17 18:25:37.207483"
        },
        {
         "0": "Anna Karenina",
         "1": "2000000.0",
         "2": "2600000.0",
         "3": "130",
         "4": "2012-09-06",
         "5": "United Kingdom",
         "6": "Focus Features",
         "7": "2025-05-17 18:25:37.207483"
        },
        {
         "0": "Annabelle",
         "1": "6500000.0",
         "2": "2.55273813E8",
         "3": "99",
         "4": "2014-10-02",
         "5": "United States of America",
         "6": "New Line Cinema",
         "7": "2025-05-17 18:25:37.207483"
        },
        {
         "0": "Annabelle",
         "1": "6500000.0",
         "2": "2.55273813E8",
         "3": "99",
         "4": "2014-10-02",
         "5": "United States of America",
         "6": "Evergreen Media Group",
         "7": "2025-05-17 18:25:37.207483"
        },
        {
         "0": "Annabelle",
         "1": "6500000.0",
         "2": "2.55273813E8",
         "3": "99",
         "4": "2014-10-02",
         "5": "United States of America",
         "6": "RatPac-Dune Entertainment",
         "7": "2025-05-17 18:25:37.207483"
        },
        {
         "0": "Annabelle",
         "1": "6500000.0",
         "2": "2.55273813E8",
         "3": "99",
         "4": "2014-10-02",
         "5": "United States of America",
         "6": "The Safran Company",
         "7": "2025-05-17 18:25:37.207483"
        },
        {
         "0": "Annie",
         "1": "6.5E7",
         "2": "1.33821816E8",
         "3": "119",
         "4": "2014-12-19",
         "5": "United States of America",
         "6": "Columbia Pictures",
         "7": "2025-05-17 18:25:37.207483"
        },
        {
         "0": "Annie",
         "1": "6.5E7",
         "2": "1.33821816E8",
         "3": "119",
         "4": "2014-12-19",
         "5": "United States of America",
         "6": "Marcy Media",
         "7": "2025-05-17 18:25:37.207483"
        },
        {
         "0": "Annie",
         "1": "6.5E7",
         "2": "1.33821816E8",
         "3": "119",
         "4": "2014-12-19",
         "5": "United States of America",
         "6": "Sony Pictures Entertainment (SPE)",
         "7": "2025-05-17 18:25:37.207483"
        },
        {
         "0": "Annie",
         "1": "6.5E7",
         "2": "1.33821816E8",
         "3": "119",
         "4": "2014-12-19",
         "5": "United States of America",
         "6": "Olive Bridge Entertainment",
         "7": "2025-05-17 18:25:37.207483"
        },
        {
         "0": "Annie",
         "1": "6.5E7",
         "2": "1.33821816E8",
         "3": "119",
         "4": "2014-12-19",
         "5": "United States of America",
         "6": "Overbrook Entertainment",
         "7": "2025-05-17 18:25:37.207483"
        },
        {
         "0": "Anomalisa",
         "1": "8000000.0",
         "2": "5659286.0",
         "3": "90",
         "4": "2015-12-30",
         "5": "United States of America",
         "6": "Starburns Industries",
         "7": "2025-05-17 18:25:37.207483"
        },
        {
         "0": "Anonymous",
         "1": "3.0E7",
         "2": "1.5395087E7",
         "3": "130",
         "4": "2011-10-21",
         "5": "United Kingdom",
         "6": "Centropolis Entertainment",
         "7": "2025-05-17 18:25:37.207483"
        },
        {
         "0": "Anonymous",
         "1": "3.0E7",
         "2": "1.5395087E7",
         "3": "130",
         "4": "2011-10-21",
         "5": "United Kingdom",
         "6": "Columbia Pictures",
         "7": "2025-05-17 18:25:37.207483"
        },
        {
         "0": "Anonymous",
         "1": "3.0E7",
         "2": "1.5395087E7",
         "3": "130",
         "4": "2011-10-21",
         "5": "Germany",
         "6": "Centropolis Entertainment",
         "7": "2025-05-17 18:25:37.207483"
        },
        {
         "0": "Anonymous",
         "1": "3.0E7",
         "2": "1.5395087E7",
         "3": "130",
         "4": "2011-10-21",
         "5": "Germany",
         "6": "Columbia Pictures",
         "7": "2025-05-17 18:25:37.207483"
        },
        {
         "0": "Another Earth",
         "1": "100000.0",
         "2": "1776935.0",
         "3": "92",
         "4": "2011-07-22",
         "5": "United States of America",
         "6": "Artists Public Domain",
         "7": "2025-05-17 18:25:37.207483"
        },
        {
         "0": "Another Happy Day",
         "1": "4000000.0",
         "2": "355688.0",
         "3": "119",
         "4": "2011-11-18",
         "5": "United States of America",
         "6": "Filmula",
         "7": "2025-05-17 18:25:37.207483"
        },
        {
         "0": "Another Year",
         "1": "8000000.0",
         "2": "1.8124262E7",
         "3": "129",
         "4": "2010-11-05",
         "5": "United Kingdom",
         "6": "Thin Man Films",
         "7": "2025-05-17 18:25:37.207483"
        },
        {
         "0": "Another Year",
         "1": "8000000.0",
         "2": "1.8124262E7",
         "3": "129",
         "4": "2010-11-05",
         "5": "United Kingdom",
         "6": "Film4",
         "7": "2025-05-17 18:25:37.207483"
        },
        {
         "0": "Ant-Man",
         "1": "1.3E8",
         "2": "5.19311965E8",
         "3": "117",
         "4": "2015-07-14",
         "5": "United States of America",
         "6": "Marvel Studios",
         "7": "2025-05-17 18:25:37.207483"
        },
        {
         "0": "Antarctica: A Year on Ice",
         "1": "1000000.0",
         "2": "1250000.0",
         "3": "92",
         "4": "2013-09-05",
         "5": "New Zealand",
         "6": "Antzworks",
         "7": "2025-05-17 18:25:37.207483"
        },
        {
         "0": "Antibirth",
         "1": "3.5E7",
         "2": "4.375E7",
         "3": "94",
         "4": "2016-09-02",
         "5": "United States of America",
         "6": "Hideaway Pictures",
         "7": "2025-05-17 18:25:37.207483"
        },
        {
         "0": "Antibirth",
         "1": "3.5E7",
         "2": "4.375E7",
         "3": "94",
         "4": "2016-09-02",
         "5": "United States of America",
         "6": "Culmination Productions",
         "7": "2025-05-17 18:25:37.207483"
        },
        {
         "0": "Antibirth",
         "1": "3.5E7",
         "2": "4.375E7",
         "3": "94",
         "4": "2016-09-02",
         "5": "United States of America",
         "6": "Traverse Media",
         "7": "2025-05-17 18:25:37.207483"
        },
        {
         "0": "Antiviral",
         "1": "2400000.0",
         "2": "3000000.0",
         "3": "110",
         "4": "2012-09-19",
         "5": "Canada",
         "6": "Alliance Films",
         "7": "2025-05-17 18:25:37.207483"
        },
        {
         "0": "Antiviral",
         "1": "2400000.0",
         "2": "3000000.0",
         "3": "110",
         "4": "2012-09-19",
         "5": "Canada",
         "6": "TF1 International",
         "7": "2025-05-17 18:25:37.207483"
        },
        {
         "0": "Antiviral",
         "1": "2400000.0",
         "2": "3000000.0",
         "3": "110",
         "4": "2012-09-19",
         "5": "Canada",
         "6": "Telefilm Canada",
         "7": "2025-05-17 18:25:37.207483"
        },
        {
         "0": "Apollo 18",
         "1": "5000000.0",
         "2": "2.5562924E7",
         "3": "86",
         "4": "2011-07-20",
         "5": "Canada",
         "6": "Bazelevs Production",
         "7": "2025-05-17 18:25:37.207483"
        },
        {
         "0": "Apollo 18",
         "1": "5000000.0",
         "2": "2.5562924E7",
         "3": "86",
         "4": "2011-07-20",
         "5": "Canada",
         "6": "Bekmambetov Projects Ltd.",
         "7": "2025-05-17 18:25:37.207483"
        },
        {
         "0": "Apollo 18",
         "1": "5000000.0",
         "2": "2.5562924E7",
         "3": "86",
         "4": "2011-07-20",
         "5": "Canada",
         "6": "Dimension Films",
         "7": "2025-05-17 18:25:37.207483"
        },
        {
         "0": "Apollo 18",
         "1": "5000000.0",
         "2": "2.5562924E7",
         "3": "86",
         "4": "2011-07-20",
         "5": "United States of America",
         "6": "Bazelevs Production",
         "7": "2025-05-17 18:25:37.207483"
        },
        {
         "0": "Apollo 18",
         "1": "5000000.0",
         "2": "2.5562924E7",
         "3": "86",
         "4": "2011-07-20",
         "5": "United States of America",
         "6": "Bekmambetov Projects Ltd.",
         "7": "2025-05-17 18:25:37.207483"
        },
        {
         "0": "Apollo 18",
         "1": "5000000.0",
         "2": "2.5562924E7",
         "3": "86",
         "4": "2011-07-20",
         "5": "United States of America",
         "6": "Dimension Films",
         "7": "2025-05-17 18:25:37.207483"
        },
        {
         "0": "Arbitrage",
         "1": "1.2E7",
         "2": "3.5485056E7",
         "3": "100",
         "4": "2012-09-14",
         "5": "United States of America",
         "6": "Artina Films",
         "7": "2025-05-17 18:25:37.207483"
        },
        {
         "0": "Arbitrage",
         "1": "1.2E7",
         "2": "3.5485056E7",
         "3": "100",
         "4": "2012-09-14",
         "5": "United States of America",
         "6": "Lionsgate",
         "7": "2025-05-17 18:25:37.207483"
        },
        {
         "0": "Arbitrage",
         "1": "1.2E7",
         "2": "3.5485056E7",
         "3": "100",
         "4": "2012-09-14",
         "5": "United States of America",
         "6": "Parlay Films",
         "7": "2025-05-17 18:25:37.207483"
        },
        {
         "0": "Arbitrage",
         "1": "1.2E7",
         "2": "3.5485056E7",
         "3": "100",
         "4": "2012-09-14",
         "5": "United States of America",
         "6": "LB Productions",
         "7": "2025-05-17 18:25:37.207483"
        },
        {
         "0": "Arbitrage",
         "1": "1.2E7",
         "2": "3.5485056E7",
         "3": "100",
         "4": "2012-09-14",
         "5": "United States of America",
         "6": "Alvernia Studios",
         "7": "2025-05-17 18:25:37.207483"
        },
        {
         "0": "Arbitrage",
         "1": "1.2E7",
         "2": "3.5485056E7",
         "3": "100",
         "4": "2012-09-14",
         "5": "United States of America",
         "6": "Treehouse Pictures",
         "7": "2025-05-17 18:25:37.207483"
        },
        {
         "0": "Arbitrage",
         "1": "1.2E7",
         "2": "3.5485056E7",
         "3": "100",
         "4": "2012-09-14",
         "5": "United States of America",
         "6": "Green Room Films",
         "7": "2025-05-17 18:25:37.207483"
        },
        {
         "0": "Arbitrage",
         "1": "1.2E7",
         "2": "3.5485056E7",
         "3": "100",
         "4": "2012-09-14",
         "5": "United States of America",
         "6": "Lucky Monkey Pictures",
         "7": "2025-05-17 18:25:37.207483"
        },
        {
         "0": "Area 51",
         "1": "5000000.0",
         "2": "6250000.0",
         "3": "91",
         "4": "2015-05-15",
         "5": "United States of America",
         "6": "Insurge Pictures",
         "7": "2025-05-17 18:25:37.207483"
        },
        {
         "0": "Argo",
         "1": "4.45E7",
         "2": "2.32324128E8",
         "3": "120",
         "4": "2012-10-11",
         "5": "United States of America",
         "6": "Smokehouse Pictures",
         "7": "2025-05-17 18:25:37.207483"
        },
        {
         "0": "Argo",
         "1": "4.45E7",
         "2": "2.32324128E8",
         "3": "120",
         "4": "2012-10-11",
         "5": "United States of America",
         "6": "Warner Bros.",
         "7": "2025-05-17 18:25:37.207483"
        },
        {
         "0": "Argo",
         "1": "4.45E7",
         "2": "2.32324128E8",
         "3": "120",
         "4": "2012-10-11",
         "5": "United States of America",
         "6": "GK Films",
         "7": "2025-05-17 18:25:37.207483"
        },
        {
         "0": "Aroused",
         "1": "2000000.0",
         "2": "2600000.0",
         "3": "73",
         "4": "2013-02-20",
         "5": "United States of America",
         "6": "Cherry On Top",
         "7": "2025-05-17 18:25:37.207483"
        },
        {
         "0": "Arthur Christmas",
         "1": "2000000.0",
         "2": "2600000.0",
         "3": "97",
         "4": "2011-02-22",
         "5": "United States of America",
         "6": "Sony Pictures Animation",
         "7": "2025-05-17 18:25:37.207483"
        },
        {
         "0": "Arthur Christmas",
         "1": "2000000.0",
         "2": "2600000.0",
         "3": "97",
         "4": "2011-02-22",
         "5": "United States of America",
         "6": "Aardman Animations",
         "7": "2025-05-17 18:25:37.207483"
        },
        {
         "0": "Arthur Christmas",
         "1": "2000000.0",
         "2": "2600000.0",
         "3": "97",
         "4": "2011-02-22",
         "5": "United States of America",
         "6": "Columbia Pictures",
         "7": "2025-05-17 18:25:37.207483"
        },
        {
         "0": "As Above, So Below",
         "1": "5000000.0",
         "2": "4.01E7",
         "3": "93",
         "4": "2014-08-14",
         "5": "United States of America",
         "6": "Legendary Pictures",
         "7": "2025-05-17 18:25:37.207483"
        },
        {
         "0": "As Above, So Below",
         "1": "5000000.0",
         "2": "4.01E7",
         "3": "93",
         "4": "2014-08-14",
         "5": "United States of America",
         "6": "Universal Pictures",
         "7": "2025-05-17 18:25:37.207483"
        },
        {
         "0": "As Above, So Below",
         "1": "5000000.0",
         "2": "4.01E7",
         "3": "93",
         "4": "2014-08-14",
         "5": "United States of America",
         "6": "Brothers Dowdle Productions",
         "7": "2025-05-17 18:25:37.207483"
        },
        {
         "0": "Ask Me Anything",
         "1": "950000.0",
         "2": "1187500.0",
         "3": "100",
         "4": "2014-04-19",
         "5": "United States of America",
         "6": "Tait Productions",
         "7": "2025-05-17 18:25:37.207483"
        },
        {
         "0": "Ask Me Anything",
         "1": "950000.0",
         "2": "1187500.0",
         "3": "100",
         "4": "2014-04-19",
         "5": "United States of America",
         "6": "LA Publicity",
         "7": "2025-05-17 18:25:37.207483"
        },
        {
         "0": "Ask Me Anything",
         "1": "950000.0",
         "2": "1187500.0",
         "3": "100",
         "4": "2014-04-19",
         "5": "United States of America",
         "6": "Presque Isle Films",
         "7": "2025-05-17 18:25:37.207483"
        },
        {
         "0": "Ask Me Anything",
         "1": "950000.0",
         "2": "1187500.0",
         "3": "100",
         "4": "2014-04-19",
         "5": "United States of America",
         "6": "Decipher Entertainment",
         "7": "2025-05-17 18:25:37.207483"
        },
        {
         "0": "Atlas Shrugged Part II",
         "1": "2000000.0",
         "2": "2600000.0",
         "3": "112",
         "4": "2012-10-12",
         "5": "United States of America",
         "6": "Atlas 2 Productions",
         "7": "2025-05-17 18:25:37.207483"
        },
        {
         "0": "Atlas Shrugged Part II",
         "1": "2000000.0",
         "2": "2600000.0",
         "3": "112",
         "4": "2012-10-12",
         "5": "United States of America",
         "6": "Cinema Vehicle Services",
         "7": "2025-05-17 18:25:37.207483"
        },
        {
         "0": "Atlas Shrugged Part III: Who is John Galt?",
         "1": "5000000.0",
         "2": "846704.0",
         "3": "99",
         "4": "2014-09-12",
         "5": "United States of America",
         "6": "Atlas 3 Productions",
         "7": "2025-05-17 18:25:37.207483"
        },
        {
         "0": "Attack the Block",
         "1": "1.4350531E7",
         "2": "3964682.0",
         "3": "88",
         "4": "2011-05-12",
         "5": "United Kingdom",
         "6": "UK Film Council",
         "7": "2025-05-17 18:25:37.207483"
        },
        {
         "0": "Attack the Block",
         "1": "1.4350531E7",
         "2": "3964682.0",
         "3": "88",
         "4": "2011-05-12",
         "5": "United Kingdom",
         "6": "Studio Canal",
         "7": "2025-05-17 18:25:37.207483"
        },
        {
         "0": "Attack the Block",
         "1": "1.4350531E7",
         "2": "3964682.0",
         "3": "88",
         "4": "2011-05-12",
         "5": "United Kingdom",
         "6": "Film4",
         "7": "2025-05-17 18:25:37.207483"
        },
        {
         "0": "August: Osage County",
         "1": "2.5E7",
         "2": "7.4188937E7",
         "3": "121",
         "4": "2013-12-26",
         "5": "United States of America",
         "6": "Smokehouse Pictures",
         "7": "2025-05-17 18:25:37.207483"
        },
        {
         "0": "August: Osage County",
         "1": "2.5E7",
         "2": "7.4188937E7",
         "3": "121",
         "4": "2013-12-26",
         "5": "United States of America",
         "6": "Jean Doumanian Productions",
         "7": "2025-05-17 18:25:37.207483"
        },
        {
         "0": "Autómata",
         "1": "7000000.0",
         "2": "8750000.0",
         "3": "110",
         "4": "2014-10-09",
         "5": "Spain",
         "6": "Nu Boyana Viburno",
         "7": "2025-05-17 18:25:37.207483"
        },
        {
         "0": "Autómata",
         "1": "7000000.0",
         "2": "8750000.0",
         "3": "110",
         "4": "2014-10-09",
         "5": "Spain",
         "6": "Green Moon Productions",
         "7": "2025-05-17 18:25:37.207483"
        },
        {
         "0": "Avengers: Age of Ultron",
         "1": "2.8E8",
         "2": "1.405403694E9",
         "3": "141",
         "4": "2015-04-22",
         "5": "United States of America",
         "6": "Marvel Studios",
         "7": "2025-05-17 18:25:37.207483"
        },
        {
         "0": "Avengers: Age of Ultron",
         "1": "2.8E8",
         "2": "1.405403694E9",
         "3": "141",
         "4": "2015-04-22",
         "5": "United States of America",
         "6": "Revolution Sun Studios",
         "7": "2025-05-17 18:25:37.207483"
        },
        {
         "0": "Avengers: Age of Ultron",
         "1": "2.8E8",
         "2": "1.405403694E9",
         "3": "141",
         "4": "2015-04-22",
         "5": "United States of America",
         "6": "Prime Focus",
         "7": "2025-05-17 18:25:37.207483"
        },
        {
         "0": "Baahubali: The Beginning",
         "1": "4.0E7",
         "2": "1.0E8",
         "3": "159",
         "4": "2015-07-10",
         "5": "India",
         "6": "Arka Media Works",
         "7": "2025-05-17 18:25:37.207483"
        },
        {
         "0": "Bachelorette",
         "1": "3000000.0",
         "2": "1.1947954E7",
         "3": "87",
         "4": "2012-08-06",
         "5": "United States of America",
         "6": "Gary Sanchez Productions",
         "7": "2025-05-17 18:25:37.207483"
        },
        {
         "0": "Bachelorette",
         "1": "3000000.0",
         "2": "1.1947954E7",
         "3": "87",
         "4": "2012-08-06",
         "5": "United States of America",
         "6": "BCDF Pictures",
         "7": "2025-05-17 18:25:37.207483"
        },
        {
         "0": "Backmask",
         "1": "2000000.0",
         "2": "2600000.0",
         "3": "91",
         "4": "2015-01-16",
         "5": "United States of America",
         "6": "Vicarious Entertainment",
         "7": "2025-05-17 18:25:37.207483"
        },
        {
         "0": "Backmask",
         "1": "2000000.0",
         "2": "2600000.0",
         "3": "91",
         "4": "2015-01-16",
         "5": "United States of America",
         "6": "Shallow Focus",
         "7": "2025-05-17 18:25:37.207483"
        },
        {
         "0": "Backmask",
         "1": "2000000.0",
         "2": "2600000.0",
         "3": "91",
         "4": "2015-01-16",
         "5": "United States of America",
         "6": "Bloodline Productions",
         "7": "2025-05-17 18:25:37.207483"
        },
        {
         "0": "Backmask",
         "1": "2000000.0",
         "2": "2600000.0",
         "3": "91",
         "4": "2015-01-16",
         "5": "United States of America",
         "6": "GO Productions",
         "7": "2025-05-17 18:25:37.207483"
        },
        {
         "0": "Bad Moms",
         "1": "2.0E7",
         "2": "1.83936074E8",
         "3": "100",
         "4": "2016-07-28",
         "5": "United States of America",
         "6": "BillBlock Media",
         "7": "2025-05-17 18:25:37.207483"
        },
        {
         "0": "Bad Moms",
         "1": "2.0E7",
         "2": "1.83936074E8",
         "3": "100",
         "4": "2016-07-28",
         "5": "United States of America",
         "6": "Huayi Brothers Pictures",
         "7": "2025-05-17 18:25:37.207483"
        },
        {
         "0": "Bad Moms",
         "1": "2.0E7",
         "2": "1.83936074E8",
         "3": "100",
         "4": "2016-07-28",
         "5": "United States of America",
         "6": "STX Entertainment",
         "7": "2025-05-17 18:25:37.207483"
        },
        {
         "0": "Bad Teacher",
         "1": "2.0E7",
         "2": "2.16197492E8",
         "3": "92",
         "4": "2011-05-16",
         "5": "United States of America",
         "6": "Mosaic Media Group",
         "7": "2025-05-17 18:25:37.207483"
        },
        {
         "0": "Bad Teacher",
         "1": "2.0E7",
         "2": "2.16197492E8",
         "3": "92",
         "4": "2011-05-16",
         "5": "United States of America",
         "6": "Columbia Pictures",
         "7": "2025-05-17 18:25:37.207483"
        },
        {
         "0": "Bad Words",
         "1": "9500000.0",
         "2": "7800000.0",
         "3": "88",
         "4": "2013-09-06",
         "5": "United States of America",
         "6": "Aggregate Film",
         "7": "2025-05-17 18:25:37.207483"
        },
        {
         "0": "Bad Words",
         "1": "9500000.0",
         "2": "7800000.0",
         "3": "88",
         "4": "2013-09-06",
         "5": "United States of America",
         "6": "Darko Entertainment",
         "7": "2025-05-17 18:25:37.207483"
        },
        {
         "0": "Baggage Claim",
         "1": "8500000.0",
         "2": "2.2456509E7",
         "3": "96",
         "4": "2013-09-27",
         "5": "United States of America",
         "6": "Sneak Preview Productions",
         "7": "2025-05-17 18:25:37.207483"
        },
        {
         "0": "Bait",
         "1": "3.0E7",
         "2": "3.75E7",
         "3": "93",
         "4": "2012-09-05",
         "5": "Singapore",
         "6": "Story Bridge Films",
         "7": "2025-05-17 18:25:37.207483"
        },
        {
         "0": "Bait",
         "1": "3.0E7",
         "2": "3.75E7",
         "3": "93",
         "4": "2012-09-05",
         "5": "Singapore",
         "6": "Blackmagic Design Films",
         "7": "2025-05-17 18:25:37.207483"
        },
        {
         "0": "Bait",
         "1": "3.0E7",
         "2": "3.75E7",
         "3": "93",
         "4": "2012-09-05",
         "5": "Singapore",
         "6": "Screen Australia",
         "7": "2025-05-17 18:25:37.207483"
        },
        {
         "0": "Bait",
         "1": "3.0E7",
         "2": "3.75E7",
         "3": "93",
         "4": "2012-09-05",
         "5": "Singapore",
         "6": "Pictures in Paradise",
         "7": "2025-05-17 18:25:37.207483"
        },
        {
         "0": "Bait",
         "1": "3.0E7",
         "2": "3.75E7",
         "3": "93",
         "4": "2012-09-05",
         "5": "Singapore",
         "6": "Bait Productions",
         "7": "2025-05-17 18:25:37.207483"
        },
        {
         "0": "Bait",
         "1": "3.0E7",
         "2": "3.75E7",
         "3": "93",
         "4": "2012-09-05",
         "5": "Singapore",
         "6": "Screen Queensland",
         "7": "2025-05-17 18:25:37.207483"
        },
        {
         "0": "Bait",
         "1": "3.0E7",
         "2": "3.75E7",
         "3": "93",
         "4": "2012-09-05",
         "5": "Singapore",
         "6": "Media Development Authority (MDA)",
         "7": "2025-05-17 18:25:37.207483"
        },
        {
         "0": "Bait",
         "1": "3.0E7",
         "2": "3.75E7",
         "3": "93",
         "4": "2012-09-05",
         "5": "Australia",
         "6": "Story Bridge Films",
         "7": "2025-05-17 18:25:37.207483"
        },
        {
         "0": "Bait",
         "1": "3.0E7",
         "2": "3.75E7",
         "3": "93",
         "4": "2012-09-05",
         "5": "Australia",
         "6": "Blackmagic Design Films",
         "7": "2025-05-17 18:25:37.207483"
        },
        {
         "0": "Bait",
         "1": "3.0E7",
         "2": "3.75E7",
         "3": "93",
         "4": "2012-09-05",
         "5": "Australia",
         "6": "Screen Australia",
         "7": "2025-05-17 18:25:37.207483"
        },
        {
         "0": "Bait",
         "1": "3.0E7",
         "2": "3.75E7",
         "3": "93",
         "4": "2012-09-05",
         "5": "Australia",
         "6": "Pictures in Paradise",
         "7": "2025-05-17 18:25:37.207483"
        },
        {
         "0": "Bait",
         "1": "3.0E7",
         "2": "3.75E7",
         "3": "93",
         "4": "2012-09-05",
         "5": "Australia",
         "6": "Bait Productions",
         "7": "2025-05-17 18:25:37.207483"
        },
        {
         "0": "Bait",
         "1": "3.0E7",
         "2": "3.75E7",
         "3": "93",
         "4": "2012-09-05",
         "5": "Australia",
         "6": "Screen Queensland",
         "7": "2025-05-17 18:25:37.207483"
        },
        {
         "0": "Bait",
         "1": "3.0E7",
         "2": "3.75E7",
         "3": "93",
         "4": "2012-09-05",
         "5": "Australia",
         "6": "Media Development Authority (MDA)",
         "7": "2025-05-17 18:25:37.207483"
        },
        {
         "0": "Bang Bang Baby",
         "1": "1000000.0",
         "2": "1250000.0",
         "3": "90",
         "4": "2014-09-08",
         "5": "Canada",
         "6": "Scythia Films",
         "7": "2025-05-17 18:25:37.207483"
        },
        {
         "0": "Bang Bang Baby",
         "1": "1000000.0",
         "2": "1250000.0",
         "3": "90",
         "4": "2014-09-08",
         "5": "Canada",
         "6": "JoBro Productions & Film Finance",
         "7": "2025-05-17 18:25:37.207483"
        },
        {
         "0": "Banshee Chapter",
         "1": "950000.0",
         "2": "1187500.0",
         "3": "87",
         "4": "2013-08-26",
         "5": "United States of America",
         "6": "Favorit Film",
         "7": "2025-05-17 18:25:37.207483"
        },
        {
         "0": "Banshee Chapter",
         "1": "950000.0",
         "2": "1187500.0",
         "3": "87",
         "4": "2013-08-26",
         "5": "United States of America",
         "6": "Sunchaser Entertainment",
         "7": "2025-05-17 18:25:37.207483"
        },
        {
         "0": "Banshee Chapter",
         "1": "950000.0",
         "2": "1187500.0",
         "3": "87",
         "4": "2013-08-26",
         "5": "United States of America",
         "6": "Before the Door Pictures",
         "7": "2025-05-17 18:25:37.207483"
        },
        {
         "0": "Banshee Chapter",
         "1": "950000.0",
         "2": "1187500.0",
         "3": "87",
         "4": "2013-08-26",
         "5": "Germany",
         "6": "Favorit Film",
         "7": "2025-05-17 18:25:37.207483"
        },
        {
         "0": "Banshee Chapter",
         "1": "950000.0",
         "2": "1187500.0",
         "3": "87",
         "4": "2013-08-26",
         "5": "Germany",
         "6": "Sunchaser Entertainment",
         "7": "2025-05-17 18:25:37.207483"
        },
        {
         "0": "Banshee Chapter",
         "1": "950000.0",
         "2": "1187500.0",
         "3": "87",
         "4": "2013-08-26",
         "5": "Germany",
         "6": "Before the Door Pictures",
         "7": "2025-05-17 18:25:37.207483"
        },
        {
         "0": "Barbecue",
         "1": "6000000.0",
         "2": "1.4348529E7",
         "3": "98",
         "4": "2014-04-30",
         "5": "France",
         "6": "Cinu00e9france 1888",
         "7": "2025-05-17 18:25:37.207483"
        },
        {
         "0": "Barbecue",
         "1": "6000000.0",
         "2": "1.4348529E7",
         "3": "98",
         "4": "2014-04-30",
         "5": "France",
         "6": "Studio Canal",
         "7": "2025-05-17 18:25:37.207483"
        },
        {
         "0": "Barbecue",
         "1": "6000000.0",
         "2": "1.4348529E7",
         "3": "98",
         "4": "2014-04-30",
         "5": "France",
         "6": "Same Player",
         "7": "2025-05-17 18:25:37.207483"
        },
        {
         "0": "Barbecue",
         "1": "6000000.0",
         "2": "1.4348529E7",
         "3": "98",
         "4": "2014-04-30",
         "5": "France",
         "6": "TF1 Films Production",
         "7": "2025-05-17 18:25:37.207483"
        },
        {
         "0": "Barney's Version",
         "1": "3.0E7",
         "2": "8454301.0",
         "3": "134",
         "4": "2010-10-26",
         "5": "Canada",
         "6": "Serendipity Point Films",
         "7": "2025-05-17 18:25:37.207483"
        },
        {
         "0": "Barney's Version",
         "1": "3.0E7",
         "2": "8454301.0",
         "3": "134",
         "4": "2010-10-26",
         "5": "Italy",
         "6": "Serendipity Point Films",
         "7": "2025-05-17 18:25:37.207483"
        },
        {
         "0": "Barry Munday",
         "1": "2000000.0",
         "2": "2600000.0",
         "3": "95",
         "4": "2010-03-13",
         "5": "United States of America",
         "6": "Prospect Pictures",
         "7": "2025-05-17 18:25:37.207483"
        },
        {
         "0": "Barry Munday",
         "1": "2000000.0",
         "2": "2600000.0",
         "3": "95",
         "4": "2010-03-13",
         "5": "United States of America",
         "6": "Stick 'N' Stone Productions",
         "7": "2025-05-17 18:25:37.207483"
        },
        {
         "0": "Barry Munday",
         "1": "2000000.0",
         "2": "2600000.0",
         "3": "95",
         "4": "2010-03-13",
         "5": "United States of America",
         "6": "Far Hills Pictures",
         "7": "2025-05-17 18:25:37.207483"
        },
        {
         "0": "Barry Munday",
         "1": "2000000.0",
         "2": "2600000.0",
         "3": "95",
         "4": "2010-03-13",
         "5": "United States of America",
         "6": "Corner Store Entertainment",
         "7": "2025-05-17 18:25:37.207483"
        },
        {
         "0": "Batman v Superman: Dawn of Justice",
         "1": "2.5E8",
         "2": "8.73260194E8",
         "3": "151",
         "4": "2016-03-23",
         "5": "United States of America",
         "6": "Atlas Entertainment",
         "7": "2025-05-17 18:25:37.207483"
        },
        {
         "0": "Batman v Superman: Dawn of Justice",
         "1": "2.5E8",
         "2": "8.73260194E8",
         "3": "151",
         "4": "2016-03-23",
         "5": "United States of America",
         "6": "DC Comics",
         "7": "2025-05-17 18:25:37.207483"
        },
        {
         "0": "Batman v Superman: Dawn of Justice",
         "1": "2.5E8",
         "2": "8.73260194E8",
         "3": "151",
         "4": "2016-03-23",
         "5": "United States of America",
         "6": "RatPac-Dune Entertainment",
         "7": "2025-05-17 18:25:37.207483"
        },
        {
         "0": "Batman v Superman: Dawn of Justice",
         "1": "2.5E8",
         "2": "8.73260194E8",
         "3": "151",
         "4": "2016-03-23",
         "5": "United States of America",
         "6": "Warner Bros.",
         "7": "2025-05-17 18:25:37.207483"
        },
        {
         "0": "Batman v Superman: Dawn of Justice",
         "1": "2.5E8",
         "2": "8.73260194E8",
         "3": "151",
         "4": "2016-03-23",
         "5": "United States of America",
         "6": "Cruel & Unusual Films",
         "7": "2025-05-17 18:25:37.207483"
        },
        {
         "0": "Batman v Superman: Dawn of Justice",
         "1": "2.5E8",
         "2": "8.73260194E8",
         "3": "151",
         "4": "2016-03-23",
         "5": "United States of America",
         "6": "DC Entertainment",
         "7": "2025-05-17 18:25:37.207483"
        },
        {
         "0": "Batman: The Dark Knight Returns, Part 2",
         "1": "3500000.0",
         "2": "4375000.0",
         "3": "78",
         "4": "2013-01-18",
         "5": "United States of America",
         "6": "Warner Bros. Animation",
         "7": "2025-05-17 18:25:37.207483"
        },
        {
         "0": "Batman: The Dark Knight Returns, Part 2",
         "1": "3500000.0",
         "2": "4375000.0",
         "3": "78",
         "4": "2013-01-18",
         "5": "United States of America",
         "6": "DC Comics",
         "7": "2025-05-17 18:25:37.207483"
        },
        {
         "0": "Batman: The Dark Knight Returns, Part 2",
         "1": "3500000.0",
         "2": "4375000.0",
         "3": "78",
         "4": "2013-01-18",
         "5": "United States of America",
         "6": "Warner Premiere",
         "7": "2025-05-17 18:25:37.207483"
        },
        {
         "0": "Batman: The Dark Knight Returns, Part 2",
         "1": "3500000.0",
         "2": "4375000.0",
         "3": "78",
         "4": "2013-01-18",
         "5": "United States of America",
         "6": "DC Entertainment",
         "7": "2025-05-17 18:25:37.207483"
        },
        {
         "0": "Battle of the Year",
         "1": "2.0E7",
         "2": "1.6549477E7",
         "3": "110",
         "4": "2013-09-21",
         "5": "United States of America",
         "6": "Screen Gems",
         "7": "2025-05-17 18:25:37.207483"
        },
        {
         "0": "Battle: Los Angeles",
         "1": "7.0E7",
         "2": "2.02466756E8",
         "3": "116",
         "4": "2011-03-08",
         "5": "United States of America",
         "6": "Original Film",
         "7": "2025-05-17 18:25:37.207483"
        },
        {
         "0": "Battle: Los Angeles",
         "1": "7.0E7",
         "2": "2.02466756E8",
         "3": "116",
         "4": "2011-03-08",
         "5": "United States of America",
         "6": "Columbia Pictures",
         "7": "2025-05-17 18:25:37.207483"
        },
        {
         "0": "Battle: Los Angeles",
         "1": "7.0E7",
         "2": "2.02466756E8",
         "3": "116",
         "4": "2011-03-08",
         "5": "United States of America",
         "6": "Relativity Media",
         "7": "2025-05-17 18:25:37.207483"
        },
        {
         "0": "Battleship",
         "1": "2.09E8",
         "2": "3.03025485E8",
         "3": "131",
         "4": "2012-04-11",
         "5": "United States of America",
         "6": "Hasbro",
         "7": "2025-05-17 18:25:37.207483"
        },
        {
         "0": "Battleship",
         "1": "2.09E8",
         "2": "3.03025485E8",
         "3": "131",
         "4": "2012-04-11",
         "5": "United States of America",
         "6": "Universal Pictures",
         "7": "2025-05-17 18:25:37.207483"
        },
        {
         "0": "Battleship",
         "1": "2.09E8",
         "2": "3.03025485E8",
         "3": "131",
         "4": "2012-04-11",
         "5": "United States of America",
         "6": "Film 44",
         "7": "2025-05-17 18:25:37.207483"
        },
        {
         "0": "Battleship",
         "1": "2.09E8",
         "2": "3.03025485E8",
         "3": "131",
         "4": "2012-04-11",
         "5": "United States of America",
         "6": "Bluegrass Films",
         "7": "2025-05-17 18:25:37.207483"
        },
        {
         "0": "Beastly",
         "1": "1.7E7",
         "2": "4.3165571E7",
         "3": "86",
         "4": "2011-01-21",
         "5": "United States of America",
         "6": "Storefront Films",
         "7": "2025-05-17 18:25:37.207483"
        },
        {
         "0": "Beastly",
         "1": "1.7E7",
         "2": "4.3165571E7",
         "3": "86",
         "4": "2011-01-21",
         "5": "United States of America",
         "6": "Mel's Cite du Cinema",
         "7": "2025-05-17 18:25:37.207483"
        },
        {
         "0": "Beastly",
         "1": "1.7E7",
         "2": "4.3165571E7",
         "3": "86",
         "4": "2011-01-21",
         "5": "United States of America",
         "6": "CBS Films",
         "7": "2025-05-17 18:25:37.207483"
        },
        {
         "0": "Beasts of the Southern Wild",
         "1": "1800000.0",
         "2": "2.1107746E7",
         "3": "93",
         "4": "2012-06-29",
         "5": "United States of America",
         "6": "Journeyman Pictures",
         "7": "2025-05-17 18:25:37.207483"
        },
        {
         "0": "Beasts of the Southern Wild",
         "1": "1800000.0",
         "2": "2.1107746E7",
         "3": "93",
         "4": "2012-06-29",
         "5": "United States of America",
         "6": "Court 13 Pictures",
         "7": "2025-05-17 18:25:37.207483"
        },
        {
         "0": "Beasts of the Southern Wild",
         "1": "1800000.0",
         "2": "2.1107746E7",
         "3": "93",
         "4": "2012-06-29",
         "5": "United States of America",
         "6": "Cinereach",
         "7": "2025-05-17 18:25:37.207483"
        },
        {
         "0": "Beat the World",
         "1": "1.0E7",
         "2": "1.25E7",
         "3": "91",
         "4": "2011-06-10",
         "5": "Canada",
         "6": "The Harold Greenberg Fund",
         "7": "2025-05-17 18:25:37.207483"
        },
        {
         "0": "Beat the World",
         "1": "1.0E7",
         "2": "1.25E7",
         "3": "91",
         "4": "2011-06-10",
         "5": "Canada",
         "6": "Inner City Films",
         "7": "2025-05-17 18:25:37.207483"
        },
        {
         "0": "Beat the World",
         "1": "1.0E7",
         "2": "1.25E7",
         "3": "91",
         "4": "2011-06-10",
         "5": "Canada",
         "6": "Telefilm Canada - Equity Investment Program",
         "7": "2025-05-17 18:25:37.207483"
        },
        {
         "0": "Beat the World",
         "1": "1.0E7",
         "2": "1.25E7",
         "3": "91",
         "4": "2011-06-10",
         "5": "Canada",
         "6": "Ontario Media Development Corporation (OMDC)",
         "7": "2025-05-17 18:25:37.207483"
        },
        {
         "0": "Beautiful Creatures",
         "1": "6.0E7",
         "2": "6.0052138E7",
         "3": "124",
         "4": "2013-02-13",
         "5": "United States of America",
         "6": "Alcon Entertainment",
         "7": "2025-05-17 18:25:37.207483"
        },
        {
         "0": "Beautiful Creatures",
         "1": "6.0E7",
         "2": "6.0052138E7",
         "3": "124",
         "4": "2013-02-13",
         "5": "United States of America",
         "6": "3 Arts Entertainment",
         "7": "2025-05-17 18:25:37.207483"
        },
        {
         "0": "Beautiful Creatures",
         "1": "6.0E7",
         "2": "6.0052138E7",
         "3": "124",
         "4": "2013-02-13",
         "5": "United States of America",
         "6": "Belle Pictures",
         "7": "2025-05-17 18:25:37.207483"
        },
        {
         "0": "Beautiful Creatures",
         "1": "6.0E7",
         "2": "6.0052138E7",
         "3": "124",
         "4": "2013-02-13",
         "5": "United States of America",
         "6": "Warner Bros.",
         "7": "2025-05-17 18:25:37.207483"
        },
        {
         "0": "Before I Go to Sleep",
         "1": "2.2E7",
         "2": "1.5447154E7",
         "3": "92",
         "4": "2014-09-03",
         "5": "France",
         "6": "Scott Free Productions",
         "7": "2025-05-17 18:25:37.207483"
        },
        {
         "0": "Before I Go to Sleep",
         "1": "2.2E7",
         "2": "1.5447154E7",
         "3": "92",
         "4": "2014-09-03",
         "5": "France",
         "6": "StudioCanal",
         "7": "2025-05-17 18:25:37.207483"
        },
        {
         "0": "Before I Go to Sleep",
         "1": "2.2E7",
         "2": "1.5447154E7",
         "3": "92",
         "4": "2014-09-03",
         "5": "France",
         "6": "Clarius Entertainment",
         "7": "2025-05-17 18:25:37.207483"
        },
        {
         "0": "Before I Go to Sleep",
         "1": "2.2E7",
         "2": "1.5447154E7",
         "3": "92",
         "4": "2014-09-03",
         "5": "France",
         "6": "Filmgate Films",
         "7": "2025-05-17 18:25:37.207483"
        },
        {
         "0": "Before I Go to Sleep",
         "1": "2.2E7",
         "2": "1.5447154E7",
         "3": "92",
         "4": "2014-09-03",
         "5": "France",
         "6": "Film i Vu00e4st",
         "7": "2025-05-17 18:25:37.207483"
        },
        {
         "0": "Before I Go to Sleep",
         "1": "2.2E7",
         "2": "1.5447154E7",
         "3": "92",
         "4": "2014-09-03",
         "5": "France",
         "6": "Millennium Films",
         "7": "2025-05-17 18:25:37.207483"
        },
        {
         "0": "Before I Go to Sleep",
         "1": "2.2E7",
         "2": "1.5447154E7",
         "3": "92",
         "4": "2014-09-03",
         "5": "Sweden",
         "6": "Scott Free Productions",
         "7": "2025-05-17 18:25:37.207483"
        },
        {
         "0": "Before I Go to Sleep",
         "1": "2.2E7",
         "2": "1.5447154E7",
         "3": "92",
         "4": "2014-09-03",
         "5": "Sweden",
         "6": "StudioCanal",
         "7": "2025-05-17 18:25:37.207483"
        },
        {
         "0": "Before I Go to Sleep",
         "1": "2.2E7",
         "2": "1.5447154E7",
         "3": "92",
         "4": "2014-09-03",
         "5": "Sweden",
         "6": "Clarius Entertainment",
         "7": "2025-05-17 18:25:37.207483"
        },
        {
         "0": "Before I Go to Sleep",
         "1": "2.2E7",
         "2": "1.5447154E7",
         "3": "92",
         "4": "2014-09-03",
         "5": "Sweden",
         "6": "Filmgate Films",
         "7": "2025-05-17 18:25:37.207483"
        },
        {
         "0": "Before I Go to Sleep",
         "1": "2.2E7",
         "2": "1.5447154E7",
         "3": "92",
         "4": "2014-09-03",
         "5": "Sweden",
         "6": "Film i Vu00e4st",
         "7": "2025-05-17 18:25:37.207483"
        },
        {
         "0": "Before I Go to Sleep",
         "1": "2.2E7",
         "2": "1.5447154E7",
         "3": "92",
         "4": "2014-09-03",
         "5": "Sweden",
         "6": "Millennium Films",
         "7": "2025-05-17 18:25:37.207483"
        },
        {
         "0": "Before I Go to Sleep",
         "1": "2.2E7",
         "2": "1.5447154E7",
         "3": "92",
         "4": "2014-09-03",
         "5": "United Kingdom",
         "6": "Scott Free Productions",
         "7": "2025-05-17 18:25:37.207483"
        },
        {
         "0": "Before I Go to Sleep",
         "1": "2.2E7",
         "2": "1.5447154E7",
         "3": "92",
         "4": "2014-09-03",
         "5": "United Kingdom",
         "6": "StudioCanal",
         "7": "2025-05-17 18:25:37.207483"
        },
        {
         "0": "Before I Go to Sleep",
         "1": "2.2E7",
         "2": "1.5447154E7",
         "3": "92",
         "4": "2014-09-03",
         "5": "United Kingdom",
         "6": "Clarius Entertainment",
         "7": "2025-05-17 18:25:37.207483"
        },
        {
         "0": "Before I Go to Sleep",
         "1": "2.2E7",
         "2": "1.5447154E7",
         "3": "92",
         "4": "2014-09-03",
         "5": "United Kingdom",
         "6": "Filmgate Films",
         "7": "2025-05-17 18:25:37.207483"
        },
        {
         "0": "Before I Go to Sleep",
         "1": "2.2E7",
         "2": "1.5447154E7",
         "3": "92",
         "4": "2014-09-03",
         "5": "United Kingdom",
         "6": "Film i Vu00e4st",
         "7": "2025-05-17 18:25:37.207483"
        },
        {
         "0": "Before I Go to Sleep",
         "1": "2.2E7",
         "2": "1.5447154E7",
         "3": "92",
         "4": "2014-09-03",
         "5": "United Kingdom",
         "6": "Millennium Films",
         "7": "2025-05-17 18:25:37.207483"
        },
        {
         "0": "Before Midnight",
         "1": "3000000.0",
         "2": "1.1176469E7",
         "3": "108",
         "4": "2013-04-05",
         "5": "Greece",
         "6": "Castle Rock Entertainment",
         "7": "2025-05-17 18:25:37.207483"
        },
        {
         "0": "Before Midnight",
         "1": "3000000.0",
         "2": "1.1176469E7",
         "3": "108",
         "4": "2013-04-05",
         "5": "Greece",
         "6": "Venture Forth",
         "7": "2025-05-17 18:25:37.207483"
        },
        {
         "0": "Before Midnight",
         "1": "3000000.0",
         "2": "1.1176469E7",
         "3": "108",
         "4": "2013-04-05",
         "5": "Greece",
         "6": "Faliro House Productions",
         "7": "2025-05-17 18:25:37.207483"
        },
        {
         "0": "Before Midnight",
         "1": "3000000.0",
         "2": "1.1176469E7",
         "3": "108",
         "4": "2013-04-05",
         "5": "Greece",
         "6": "Detour Filmproduction",
         "7": "2025-05-17 18:25:37.207483"
        },
        {
         "0": "Before Midnight",
         "1": "3000000.0",
         "2": "1.1176469E7",
         "3": "108",
         "4": "2013-04-05",
         "5": "United States of America",
         "6": "Castle Rock Entertainment",
         "7": "2025-05-17 18:25:37.207483"
        },
        {
         "0": "Before Midnight",
         "1": "3000000.0",
         "2": "1.1176469E7",
         "3": "108",
         "4": "2013-04-05",
         "5": "United States of America",
         "6": "Venture Forth",
         "7": "2025-05-17 18:25:37.207483"
        },
        {
         "0": "Before Midnight",
         "1": "3000000.0",
         "2": "1.1176469E7",
         "3": "108",
         "4": "2013-04-05",
         "5": "United States of America",
         "6": "Faliro House Productions",
         "7": "2025-05-17 18:25:37.207483"
        },
        {
         "0": "Before Midnight",
         "1": "3000000.0",
         "2": "1.1176469E7",
         "3": "108",
         "4": "2013-04-05",
         "5": "United States of America",
         "6": "Detour Filmproduction",
         "7": "2025-05-17 18:25:37.207483"
        },
        {
         "0": "Begin Again",
         "1": "8000000.0",
         "2": "6.3464861E7",
         "3": "104",
         "4": "2013-09-07",
         "5": "United States of America",
         "6": "Likely Story",
         "7": "2025-05-17 18:25:37.207483"
        },
        {
         "0": "Begin Again",
         "1": "8000000.0",
         "2": "6.3464861E7",
         "3": "104",
         "4": "2013-09-07",
         "5": "United States of America",
         "6": "Sycamore Pictures",
         "7": "2025-05-17 18:25:37.207483"
        },
        {
         "0": "Begin Again",
         "1": "8000000.0",
         "2": "6.3464861E7",
         "3": "104",
         "4": "2013-09-07",
         "5": "United States of America",
         "6": "Exclusive Media Group",
         "7": "2025-05-17 18:25:37.207483"
        },
        {
         "0": "Begin Again",
         "1": "8000000.0",
         "2": "6.3464861E7",
         "3": "104",
         "4": "2013-09-07",
         "5": "United States of America",
         "6": "Apatow Productions",
         "7": "2025-05-17 18:25:37.207483"
        },
        {
         "0": "Beginners",
         "1": "3200000.0",
         "2": "5332926.0",
         "3": "105",
         "4": "2010-09-11",
         "5": "United States of America",
         "6": "Olympus Pictures",
         "7": "2025-05-17 18:25:37.207483"
        },
        {
         "0": "Beginners",
         "1": "3200000.0",
         "2": "5332926.0",
         "3": "105",
         "4": "2010-09-11",
         "5": "United States of America",
         "6": "Parts and Labor",
         "7": "2025-05-17 18:25:37.207483"
        },
        {
         "0": "Beginners",
         "1": "3200000.0",
         "2": "5332926.0",
         "3": "105",
         "4": "2010-09-11",
         "5": "United States of America",
         "6": "Focus Features",
         "7": "2025-05-17 18:25:37.207483"
        },
        {
         "0": "Ben-Hur",
         "1": "1.0E8",
         "2": "9.4061311E7",
         "3": "125",
         "4": "2016-08-17",
         "5": "United States of America",
         "6": "Paramount Pictures",
         "7": "2025-05-17 18:25:37.207483"
        },
        {
         "0": "Ben-Hur",
         "1": "1.0E8",
         "2": "9.4061311E7",
         "3": "125",
         "4": "2016-08-17",
         "5": "United States of America",
         "6": "LightWorkers Media",
         "7": "2025-05-17 18:25:37.207483"
        },
        {
         "0": "Ben-Hur",
         "1": "1.0E8",
         "2": "9.4061311E7",
         "3": "125",
         "4": "2016-08-17",
         "5": "United States of America",
         "6": "Sean Daniel Company",
         "7": "2025-05-17 18:25:37.207483"
        },
        {
         "0": "Ben-Hur",
         "1": "1.0E8",
         "2": "9.4061311E7",
         "3": "125",
         "4": "2016-08-17",
         "5": "United States of America",
         "6": "Metro-Goldwyn-Mayer (MGM)",
         "7": "2025-05-17 18:25:37.207483"
        },
        {
         "0": "Beneath Hill 60",
         "1": "7347125.0",
         "2": "9183906.0",
         "3": "122",
         "4": "2010-04-15",
         "5": "Australia",
         "6": "New South Wales Film & Television Office",
         "7": "2025-05-17 18:25:37.207483"
        },
        {
         "0": "Beneath Hill 60",
         "1": "7347125.0",
         "2": "9183906.0",
         "3": "122",
         "4": "2010-04-15",
         "5": "Australia",
         "6": "Lucky Country Productions",
         "7": "2025-05-17 18:25:37.207483"
        },
        {
         "0": "Beneath Hill 60",
         "1": "7347125.0",
         "2": "9183906.0",
         "3": "122",
         "4": "2010-04-15",
         "5": "Australia",
         "6": "The Silence Productions",
         "7": "2025-05-17 18:25:37.207483"
        },
        {
         "0": "Beneath Hill 60",
         "1": "7347125.0",
         "2": "9183906.0",
         "3": "122",
         "4": "2010-04-15",
         "5": "Australia",
         "6": "Screen Australia",
         "7": "2025-05-17 18:25:37.207483"
        },
        {
         "0": "Beneath Hill 60",
         "1": "7347125.0",
         "2": "9183906.0",
         "3": "122",
         "4": "2010-04-15",
         "5": "Australia",
         "6": "Pacific Film and Television Commission",
         "7": "2025-05-17 18:25:37.207483"
        },
        {
         "0": "Bernie",
         "1": "5000000.0",
         "2": "9206470.0",
         "3": "100",
         "4": "2012-04-27",
         "5": "United States of America",
         "6": "Castle Rock Entertainment",
         "7": "2025-05-17 18:25:37.207483"
        },
        {
         "0": "Bernie",
         "1": "5000000.0",
         "2": "9206470.0",
         "3": "100",
         "4": "2012-04-27",
         "5": "United States of America",
         "6": "Wind Dancer Productions",
         "7": "2025-05-17 18:25:37.207483"
        },
        {
         "0": "Bernie",
         "1": "5000000.0",
         "2": "9206470.0",
         "3": "100",
         "4": "2012-04-27",
         "5": "United States of America",
         "6": "Mandalay Vision",
         "7": "2025-05-17 18:25:37.207483"
        },
        {
         "0": "Bernie",
         "1": "5000000.0",
         "2": "9206470.0",
         "3": "100",
         "4": "2012-04-27",
         "5": "United States of America",
         "6": "Horsethief Pictures",
         "7": "2025-05-17 18:25:37.207483"
        },
        {
         "0": "Bernie",
         "1": "5000000.0",
         "2": "9206470.0",
         "3": "100",
         "4": "2012-04-27",
         "5": "United States of America",
         "6": "Detour Filmproduction",
         "7": "2025-05-17 18:25:37.207483"
        },
        {
         "0": "Beyond the Black Rainbow",
         "1": "1100000.0",
         "2": "1375000.0",
         "3": "110",
         "4": "2010-12-03",
         "5": "Canada",
         "6": "Chromewood Productions",
         "7": "2025-05-17 18:25:37.207483"
        },
        {
         "0": "Beyond the Lights",
         "1": "7000000.0",
         "2": "1.4618727E7",
         "3": "116",
         "4": "2014-09-10",
         "5": "United States of America",
         "6": "Undisputed Cinema",
         "7": "2025-05-17 18:25:37.207483"
        },
        {
         "0": "Beyond the Lights",
         "1": "7000000.0",
         "2": "1.4618727E7",
         "3": "116",
         "4": "2014-09-10",
         "5": "United States of America",
         "6": "Relativity Sports",
         "7": "2025-05-17 18:25:37.207483"
        },
        {
         "0": "Beyond the Lights",
         "1": "7000000.0",
         "2": "1.4618727E7",
         "3": "116",
         "4": "2014-09-10",
         "5": "United States of America",
         "6": "Black Entertainment Television (BET)",
         "7": "2025-05-17 18:25:37.207483"
        },
        {
         "0": "Beyond the Lights",
         "1": "7000000.0",
         "2": "1.4618727E7",
         "3": "116",
         "4": "2014-09-10",
         "5": "United States of America",
         "6": "Homegrown Pictures",
         "7": "2025-05-17 18:25:37.207483"
        },
        {
         "0": "Beyond the Lights",
         "1": "7000000.0",
         "2": "1.4618727E7",
         "3": "116",
         "4": "2014-09-10",
         "5": "United States of America",
         "6": "Relativity Media",
         "7": "2025-05-17 18:25:37.207483"
        },
        {
         "0": "Big Eyes",
         "1": "1.0E7",
         "2": "2.8883511E7",
         "3": "105",
         "4": "2014-12-24",
         "5": "Canada",
         "6": "Silverwood Films",
         "7": "2025-05-17 18:25:37.207483"
        },
        {
         "0": "Big Eyes",
         "1": "1.0E7",
         "2": "2.8883511E7",
         "3": "105",
         "4": "2014-12-24",
         "5": "Canada",
         "6": "The Weinstein Company",
         "7": "2025-05-17 18:25:37.207483"
        },
        {
         "0": "Big Eyes",
         "1": "1.0E7",
         "2": "2.8883511E7",
         "3": "105",
         "4": "2014-12-24",
         "5": "Canada",
         "6": "Tim Burton Productions",
         "7": "2025-05-17 18:25:37.207483"
        },
        {
         "0": "Big Eyes",
         "1": "1.0E7",
         "2": "2.8883511E7",
         "3": "105",
         "4": "2014-12-24",
         "5": "Canada",
         "6": "Electric City Entertainment",
         "7": "2025-05-17 18:25:37.207483"
        },
        {
         "0": "Big Eyes",
         "1": "1.0E7",
         "2": "2.8883511E7",
         "3": "105",
         "4": "2014-12-24",
         "5": "United States of America",
         "6": "Silverwood Films",
         "7": "2025-05-17 18:25:37.207483"
        },
        {
         "0": "Big Eyes",
         "1": "1.0E7",
         "2": "2.8883511E7",
         "3": "105",
         "4": "2014-12-24",
         "5": "United States of America",
         "6": "The Weinstein Company",
         "7": "2025-05-17 18:25:37.207483"
        },
        {
         "0": "Big Eyes",
         "1": "1.0E7",
         "2": "2.8883511E7",
         "3": "105",
         "4": "2014-12-24",
         "5": "United States of America",
         "6": "Tim Burton Productions",
         "7": "2025-05-17 18:25:37.207483"
        },
        {
         "0": "Big Eyes",
         "1": "1.0E7",
         "2": "2.8883511E7",
         "3": "105",
         "4": "2014-12-24",
         "5": "United States of America",
         "6": "Electric City Entertainment",
         "7": "2025-05-17 18:25:37.207483"
        },
        {
         "0": "Big Hero 6",
         "1": "1.65E8",
         "2": "6.52105443E8",
         "3": "102",
         "4": "2014-10-24",
         "5": "United States of America",
         "6": "Walt Disney Pictures",
         "7": "2025-05-17 18:25:37.207483"
        },
        {
         "0": "Big Hero 6",
         "1": "1.65E8",
         "2": "6.52105443E8",
         "3": "102",
         "4": "2014-10-24",
         "5": "United States of America",
         "6": "Walt Disney Animation Studios",
         "7": "2025-05-17 18:25:37.207483"
        },
        {
         "0": "Big Miracle",
         "1": "4.0E7",
         "2": "2.4719215E7",
         "3": "107",
         "4": "2012-02-02",
         "5": "United Kingdom",
         "6": "Universal Pictures",
         "7": "2025-05-17 18:25:37.207483"
        },
        {
         "0": "Big Miracle",
         "1": "4.0E7",
         "2": "2.4719215E7",
         "3": "107",
         "4": "2012-02-02",
         "5": "United Kingdom",
         "6": "Working Title Films",
         "7": "2025-05-17 18:25:37.207483"
        },
        {
         "0": "Big Miracle",
         "1": "4.0E7",
         "2": "2.4719215E7",
         "3": "107",
         "4": "2012-02-02",
         "5": "United Kingdom",
         "6": "Anonymous Content",
         "7": "2025-05-17 18:25:37.207483"
        },
        {
         "0": "Big Miracle",
         "1": "4.0E7",
         "2": "2.4719215E7",
         "3": "107",
         "4": "2012-02-02",
         "5": "United States of America",
         "6": "Universal Pictures",
         "7": "2025-05-17 18:25:37.207483"
        },
        {
         "0": "Big Miracle",
         "1": "4.0E7",
         "2": "2.4719215E7",
         "3": "107",
         "4": "2012-02-02",
         "5": "United States of America",
         "6": "Working Title Films",
         "7": "2025-05-17 18:25:37.207483"
        },
        {
         "0": "Big Miracle",
         "1": "4.0E7",
         "2": "2.4719215E7",
         "3": "107",
         "4": "2012-02-02",
         "5": "United States of America",
         "6": "Anonymous Content",
         "7": "2025-05-17 18:25:37.207483"
        },
        {
         "0": "Big Mommas: Like Father, Like Son",
         "1": "3.2E7",
         "2": "8.3615414E7",
         "3": "107",
         "4": "2011-02-16",
         "5": "United States of America",
         "6": "Regency Enterprises",
         "7": "2025-05-17 18:25:37.207483"
        },
        {
         "0": "Big Mommas: Like Father, Like Son",
         "1": "3.2E7",
         "2": "8.3615414E7",
         "3": "107",
         "4": "2011-02-16",
         "5": "United States of America",
         "6": "Twentieth Century Fox Film Corporation",
         "7": "2025-05-17 18:25:37.207483"
        },
        {
         "0": "Big Mommas: Like Father, Like Son",
         "1": "3.2E7",
         "2": "8.3615414E7",
         "3": "107",
         "4": "2011-02-16",
         "5": "United States of America",
         "6": "The Collective Studios",
         "7": "2025-05-17 18:25:37.207483"
        },
        {
         "0": "Big Mommas: Like Father, Like Son",
         "1": "3.2E7",
         "2": "8.3615414E7",
         "3": "107",
         "4": "2011-02-16",
         "5": "United States of America",
         "6": "Friendly Films Productions",
         "7": "2025-05-17 18:25:37.207483"
        },
        {
         "0": "Big Mommas: Like Father, Like Son",
         "1": "3.2E7",
         "2": "8.3615414E7",
         "3": "107",
         "4": "2011-02-16",
         "5": "United States of America",
         "6": "Friendly Films (II)",
         "7": "2025-05-17 18:25:37.207483"
        },
        {
         "0": "Big Mommas: Like Father, Like Son",
         "1": "3.2E7",
         "2": "8.3615414E7",
         "3": "107",
         "4": "2011-02-16",
         "5": "United States of America",
         "6": "Runteldat Entertainment",
         "7": "2025-05-17 18:25:37.207483"
        },
        {
         "0": "Big Mommas: Like Father, Like Son",
         "1": "3.2E7",
         "2": "8.3615414E7",
         "3": "107",
         "4": "2011-02-16",
         "5": "United States of America",
         "6": "New Regency Pictures",
         "7": "2025-05-17 18:25:37.207483"
        },
        {
         "0": "Birdman",
         "1": "1.8E7",
         "2": "1.03215094E8",
         "3": "119",
         "4": "2014-08-27",
         "5": "United States of America",
         "6": "TSG Entertainment",
         "7": "2025-05-17 18:25:37.207483"
        },
        {
         "0": "Birdman",
         "1": "1.8E7",
         "2": "1.03215094E8",
         "3": "119",
         "4": "2014-08-27",
         "5": "United States of America",
         "6": "M Productions",
         "7": "2025-05-17 18:25:37.207483"
        },
        {
         "0": "Birdman",
         "1": "1.8E7",
         "2": "1.03215094E8",
         "3": "119",
         "4": "2014-08-27",
         "5": "United States of America",
         "6": "Le Grisbi Productions",
         "7": "2025-05-17 18:25:37.207483"
        },
        {
         "0": "Birdman",
         "1": "1.8E7",
         "2": "1.03215094E8",
         "3": "119",
         "4": "2014-08-27",
         "5": "United States of America",
         "6": "New Regency Pictures",
         "7": "2025-05-17 18:25:37.207483"
        },
        {
         "0": "Birdman",
         "1": "1.8E7",
         "2": "1.03215094E8",
         "3": "119",
         "4": "2014-08-27",
         "5": "United States of America",
         "6": "Worldview Entertainment",
         "7": "2025-05-17 18:25:37.207483"
        },
        {
         "0": "Biutiful",
         "1": "2000000.0",
         "2": "2600000.0",
         "3": "148",
         "4": "2010-10-20",
         "5": "Mexico",
         "6": "Televisiu00f3 de Catalunya (TV3)",
         "7": "2025-05-17 18:25:37.207483"
        },
        {
         "0": "Biutiful",
         "1": "2000000.0",
         "2": "2600000.0",
         "3": "148",
         "4": "2010-10-20",
         "5": "Mexico",
         "6": "Menageatroz",
         "7": "2025-05-17 18:25:37.207483"
        },
        {
         "0": "Biutiful",
         "1": "2000000.0",
         "2": "2600000.0",
         "3": "148",
         "4": "2010-10-20",
         "5": "Mexico",
         "6": "Televisiu00f3n Espau00f1ola (TVE)",
         "7": "2025-05-17 18:25:37.207483"
        },
        {
         "0": "Biutiful",
         "1": "2000000.0",
         "2": "2600000.0",
         "3": "148",
         "4": "2010-10-20",
         "5": "Mexico",
         "6": "Mod Producciones",
         "7": "2025-05-17 18:25:37.207483"
        },
        {
         "0": "Biutiful",
         "1": "2000000.0",
         "2": "2600000.0",
         "3": "148",
         "4": "2010-10-20",
         "5": "Mexico",
         "6": "Ikiru Films",
         "7": "2025-05-17 18:25:37.207483"
        },
        {
         "0": "Biutiful",
         "1": "2000000.0",
         "2": "2600000.0",
         "3": "148",
         "4": "2010-10-20",
         "5": "Mexico",
         "6": "Focus Features",
         "7": "2025-05-17 18:25:37.207483"
        },
        {
         "0": "Biutiful",
         "1": "2000000.0",
         "2": "2600000.0",
         "3": "148",
         "4": "2010-10-20",
         "5": "Spain",
         "6": "Televisiu00f3 de Catalunya (TV3)",
         "7": "2025-05-17 18:25:37.207483"
        },
        {
         "0": "Biutiful",
         "1": "2000000.0",
         "2": "2600000.0",
         "3": "148",
         "4": "2010-10-20",
         "5": "Spain",
         "6": "Menageatroz",
         "7": "2025-05-17 18:25:37.207483"
        },
        {
         "0": "Biutiful",
         "1": "2000000.0",
         "2": "2600000.0",
         "3": "148",
         "4": "2010-10-20",
         "5": "Spain",
         "6": "Televisiu00f3n Espau00f1ola (TVE)",
         "7": "2025-05-17 18:25:37.207483"
        },
        {
         "0": "Biutiful",
         "1": "2000000.0",
         "2": "2600000.0",
         "3": "148",
         "4": "2010-10-20",
         "5": "Spain",
         "6": "Mod Producciones",
         "7": "2025-05-17 18:25:37.207483"
        },
        {
         "0": "Biutiful",
         "1": "2000000.0",
         "2": "2600000.0",
         "3": "148",
         "4": "2010-10-20",
         "5": "Spain",
         "6": "Ikiru Films",
         "7": "2025-05-17 18:25:37.207483"
        },
        {
         "0": "Biutiful",
         "1": "2000000.0",
         "2": "2600000.0",
         "3": "148",
         "4": "2010-10-20",
         "5": "Spain",
         "6": "Focus Features",
         "7": "2025-05-17 18:25:37.207483"
        },
        {
         "0": "Bizarre",
         "1": "2000000.0",
         "2": "2600000.0",
         "3": "99",
         "4": "2015-02-07",
         "5": "United States of America",
         "6": "Bushwick Factory",
         "7": "2025-05-17 18:25:37.207483"
        },
        {
         "0": "Bizarre",
         "1": "2000000.0",
         "2": "2600000.0",
         "3": "99",
         "4": "2015-02-07",
         "5": "United States of America",
         "6": "Eivissa Productions",
         "7": "2025-05-17 18:25:37.207483"
        },
        {
         "0": "Bizarre",
         "1": "2000000.0",
         "2": "2600000.0",
         "3": "99",
         "4": "2015-02-07",
         "5": "France",
         "6": "Bushwick Factory",
         "7": "2025-05-17 18:25:37.207483"
        },
        {
         "0": "Bizarre",
         "1": "2000000.0",
         "2": "2600000.0",
         "3": "99",
         "4": "2015-02-07",
         "5": "France",
         "6": "Eivissa Productions",
         "7": "2025-05-17 18:25:37.207483"
        },
        {
         "0": "Black Mass",
         "1": "5.3E7",
         "2": "9.8837872E7",
         "3": "122",
         "4": "2015-09-04",
         "5": "United Kingdom",
         "6": "Infinitum Nihil",
         "7": "2025-05-17 18:25:37.207483"
        },
        {
         "0": "Black Mass",
         "1": "5.3E7",
         "2": "9.8837872E7",
         "3": "122",
         "4": "2015-09-04",
         "5": "United Kingdom",
         "6": "Vendian Entertainment",
         "7": "2025-05-17 18:25:37.207483"
        },
        {
         "0": "Black Mass",
         "1": "5.3E7",
         "2": "9.8837872E7",
         "3": "122",
         "4": "2015-09-04",
         "5": "United Kingdom",
         "6": "Le Grisbi Productions",
         "7": "2025-05-17 18:25:37.207483"
        },
        {
         "0": "Black Mass",
         "1": "5.3E7",
         "2": "9.8837872E7",
         "3": "122",
         "4": "2015-09-04",
         "5": "United Kingdom",
         "6": "RatPac-Dune Entertainment",
         "7": "2025-05-17 18:25:37.207483"
        },
        {
         "0": "Black Mass",
         "1": "5.3E7",
         "2": "9.8837872E7",
         "3": "122",
         "4": "2015-09-04",
         "5": "United Kingdom",
         "6": "Free State Pictures",
         "7": "2025-05-17 18:25:37.207483"
        },
        {
         "0": "Black Mass",
         "1": "5.3E7",
         "2": "9.8837872E7",
         "3": "122",
         "4": "2015-09-04",
         "5": "United Kingdom",
         "6": "Head Gear Films",
         "7": "2025-05-17 18:25:37.207483"
        },
        {
         "0": "Black Mass",
         "1": "5.3E7",
         "2": "9.8837872E7",
         "3": "122",
         "4": "2015-09-04",
         "5": "United Kingdom",
         "6": "Cross Creek Pictures",
         "7": "2025-05-17 18:25:37.207483"
        },
        {
         "0": "Black Mass",
         "1": "5.3E7",
         "2": "9.8837872E7",
         "3": "122",
         "4": "2015-09-04",
         "5": "United States of America",
         "6": "Infinitum Nihil",
         "7": "2025-05-17 18:25:37.207483"
        },
        {
         "0": "Black Mass",
         "1": "5.3E7",
         "2": "9.8837872E7",
         "3": "122",
         "4": "2015-09-04",
         "5": "United States of America",
         "6": "Vendian Entertainment",
         "7": "2025-05-17 18:25:37.207483"
        },
        {
         "0": "Black Mass",
         "1": "5.3E7",
         "2": "9.8837872E7",
         "3": "122",
         "4": "2015-09-04",
         "5": "United States of America",
         "6": "Le Grisbi Productions",
         "7": "2025-05-17 18:25:37.207483"
        },
        {
         "0": "Black Mass",
         "1": "5.3E7",
         "2": "9.8837872E7",
         "3": "122",
         "4": "2015-09-04",
         "5": "United States of America",
         "6": "RatPac-Dune Entertainment",
         "7": "2025-05-17 18:25:37.207483"
        },
        {
         "0": "Black Mass",
         "1": "5.3E7",
         "2": "9.8837872E7",
         "3": "122",
         "4": "2015-09-04",
         "5": "United States of America",
         "6": "Free State Pictures",
         "7": "2025-05-17 18:25:37.207483"
        },
        {
         "0": "Black Mass",
         "1": "5.3E7",
         "2": "9.8837872E7",
         "3": "122",
         "4": "2015-09-04",
         "5": "United States of America",
         "6": "Head Gear Films",
         "7": "2025-05-17 18:25:37.207483"
        },
        {
         "0": "Black Mass",
         "1": "5.3E7",
         "2": "9.8837872E7",
         "3": "122",
         "4": "2015-09-04",
         "5": "United States of America",
         "6": "Cross Creek Pictures",
         "7": "2025-05-17 18:25:37.207483"
        },
        {
         "0": "Black Nativity",
         "1": "1.75E7",
         "2": "7018189.0",
         "3": "93",
         "4": "2013-11-27",
         "5": "United States of America",
         "6": "Fox Searchlight Pictures",
         "7": "2025-05-17 18:25:37.207483"
        },
        {
         "0": "Black Nativity",
         "1": "1.75E7",
         "2": "7018189.0",
         "3": "93",
         "4": "2013-11-27",
         "5": "United States of America",
         "6": "Malvern Pictures",
         "7": "2025-05-17 18:25:37.207483"
        },
        {
         "0": "Black November",
         "1": "1.25E7",
         "2": "1.5625E7",
         "3": "95",
         "4": "2012-12-07",
         "5": "United States of America",
         "6": "Wells & Jeta Entertainment",
         "7": "2025-05-17 18:25:37.207483"
        },
        {
         "0": "Black November",
         "1": "1.25E7",
         "2": "1.5625E7",
         "3": "95",
         "4": "2012-12-07",
         "5": "Nigeria",
         "6": "Wells & Jeta Entertainment",
         "7": "2025-05-17 18:25:37.207483"
        },
        {
         "0": "Black Rock",
         "1": "2000000.0",
         "2": "2600000.0",
         "3": "83",
         "4": "2012-01-21",
         "5": "United States of America",
         "6": "Submarine Entertainment Distributors",
         "7": "2025-05-17 18:25:37.207483"
        },
        {
         "0": "Black Rock",
         "1": "2000000.0",
         "2": "2600000.0",
         "3": "83",
         "4": "2012-01-21",
         "5": "United States of America",
         "6": "LD Entertainment",
         "7": "2025-05-17 18:25:37.207483"
        },
        {
         "0": "Black or White",
         "1": "9000000.0",
         "2": "2.1571189E7",
         "3": "121",
         "4": "2014-09-06",
         "5": "United States of America",
         "6": "Treehouse Pictures",
         "7": "2025-05-17 18:25:37.207483"
        },
        {
         "0": "Blackhat",
         "1": "7.0E7",
         "2": "1.775294E7",
         "3": "133",
         "4": "2015-01-13",
         "5": "United States of America",
         "6": "Legendary Pictures",
         "7": "2025-05-17 18:25:37.207483"
        },
        {
         "0": "Blackhat",
         "1": "7.0E7",
         "2": "1.775294E7",
         "3": "133",
         "4": "2015-01-13",
         "5": "United States of America",
         "6": "Forward Pass",
         "7": "2025-05-17 18:25:37.207483"
        },
        {
         "0": "Blackhat",
         "1": "7.0E7",
         "2": "1.775294E7",
         "3": "133",
         "4": "2015-01-13",
         "5": "United States of America",
         "6": "Universal Pictures",
         "7": "2025-05-17 18:25:37.207483"
        },
        {
         "0": "Blackthorn",
         "1": "2000000.0",
         "2": "2600000.0",
         "3": "98",
         "4": "2011-08-31",
         "5": "Bolivia",
         "6": "Audiovisual Aval SGR",
         "7": "2025-05-17 18:25:37.207483"
        },
        {
         "0": "Blackthorn",
         "1": "2000000.0",
         "2": "2600000.0",
         "3": "98",
         "4": "2011-08-31",
         "5": "Bolivia",
         "6": "Ibermedia European Community Program",
         "7": "2025-05-17 18:25:37.207483"
        },
        {
         "0": "Blackthorn",
         "1": "2000000.0",
         "2": "2600000.0",
         "3": "98",
         "4": "2011-08-31",
         "5": "Bolivia",
         "6": "Pegaso Producciones",
         "7": "2025-05-17 18:25:37.207483"
        },
        {
         "0": "Blackthorn",
         "1": "2000000.0",
         "2": "2600000.0",
         "3": "98",
         "4": "2011-08-31",
         "5": "Bolivia",
         "6": "Manto Films",
         "7": "2025-05-17 18:25:37.207483"
        },
        {
         "0": "Blackthorn",
         "1": "2000000.0",
         "2": "2600000.0",
         "3": "98",
         "4": "2011-08-31",
         "5": "Bolivia",
         "6": "Eter Pictures",
         "7": "2025-05-17 18:25:37.207483"
        },
        {
         "0": "Blackthorn",
         "1": "2000000.0",
         "2": "2600000.0",
         "3": "98",
         "4": "2011-08-31",
         "5": "Bolivia",
         "6": "Nix Films",
         "7": "2025-05-17 18:25:37.207483"
        },
        {
         "0": "Blackthorn",
         "1": "2000000.0",
         "2": "2600000.0",
         "3": "98",
         "4": "2011-08-31",
         "5": "Bolivia",
         "6": "Ariane Mararu00eda Films",
         "7": "2025-05-17 18:25:37.207483"
        },
        {
         "0": "Blackthorn",
         "1": "2000000.0",
         "2": "2600000.0",
         "3": "98",
         "4": "2011-08-31",
         "5": "Bolivia",
         "6": "ONO",
         "7": "2025-05-17 18:25:37.207483"
        },
        {
         "0": "Blackthorn",
         "1": "2000000.0",
         "2": "2600000.0",
         "3": "98",
         "4": "2011-08-31",
         "5": "Bolivia",
         "6": "Noodles Production",
         "7": "2025-05-17 18:25:37.207483"
        },
        {
         "0": "Blackthorn",
         "1": "2000000.0",
         "2": "2600000.0",
         "3": "98",
         "4": "2011-08-31",
         "5": "Bolivia",
         "6": "Arcadia Motion Pictures",
         "7": "2025-05-17 18:25:37.207483"
        },
        {
         "0": "Blackthorn",
         "1": "2000000.0",
         "2": "2600000.0",
         "3": "98",
         "4": "2011-08-31",
         "5": "Bolivia",
         "6": "Televisiu00f3n Espau00f1ola (TVE)",
         "7": "2025-05-17 18:25:37.207483"
        },
        {
         "0": "Blackthorn",
         "1": "2000000.0",
         "2": "2600000.0",
         "3": "98",
         "4": "2011-08-31",
         "5": "Bolivia",
         "6": "Quickfire Films",
         "7": "2025-05-17 18:25:37.207483"
        },
        {
         "0": "Blackthorn",
         "1": "2000000.0",
         "2": "2600000.0",
         "3": "98",
         "4": "2011-08-31",
         "5": "Bolivia",
         "6": "Instituto de Cru00e9dito Oficial (ICO)",
         "7": "2025-05-17 18:25:37.207483"
        },
        {
         "0": "Blackthorn",
         "1": "2000000.0",
         "2": "2600000.0",
         "3": "98",
         "4": "2011-08-31",
         "5": "Bolivia",
         "6": "Instituto de la Cinematografu00eda y de las Artes Audiovisuales (ICAA)",
         "7": "2025-05-17 18:25:37.207483"
        },
        {
         "0": "Blackthorn",
         "1": "2000000.0",
         "2": "2600000.0",
         "3": "98",
         "4": "2011-08-31",
         "5": "Bolivia",
         "6": "Canal+ Espau00f1a",
         "7": "2025-05-17 18:25:37.207483"
        },
        {
         "0": "Blackthorn",
         "1": "2000000.0",
         "2": "2600000.0",
         "3": "98",
         "4": "2011-08-31",
         "5": "France",
         "6": "Audiovisual Aval SGR",
         "7": "2025-05-17 18:25:37.207483"
        },
        {
         "0": "Blackthorn",
         "1": "2000000.0",
         "2": "2600000.0",
         "3": "98",
         "4": "2011-08-31",
         "5": "France",
         "6": "Ibermedia European Community Program",
         "7": "2025-05-17 18:25:37.207483"
        },
        {
         "0": "Blackthorn",
         "1": "2000000.0",
         "2": "2600000.0",
         "3": "98",
         "4": "2011-08-31",
         "5": "France",
         "6": "Pegaso Producciones",
         "7": "2025-05-17 18:25:37.207483"
        },
        {
         "0": "Blackthorn",
         "1": "2000000.0",
         "2": "2600000.0",
         "3": "98",
         "4": "2011-08-31",
         "5": "France",
         "6": "Manto Films",
         "7": "2025-05-17 18:25:37.207483"
        },
        {
         "0": "Blackthorn",
         "1": "2000000.0",
         "2": "2600000.0",
         "3": "98",
         "4": "2011-08-31",
         "5": "France",
         "6": "Eter Pictures",
         "7": "2025-05-17 18:25:37.207483"
        },
        {
         "0": "Blackthorn",
         "1": "2000000.0",
         "2": "2600000.0",
         "3": "98",
         "4": "2011-08-31",
         "5": "France",
         "6": "Nix Films",
         "7": "2025-05-17 18:25:37.207483"
        },
        {
         "0": "Blackthorn",
         "1": "2000000.0",
         "2": "2600000.0",
         "3": "98",
         "4": "2011-08-31",
         "5": "France",
         "6": "Ariane Mararu00eda Films",
         "7": "2025-05-17 18:25:37.207483"
        },
        {
         "0": "Blackthorn",
         "1": "2000000.0",
         "2": "2600000.0",
         "3": "98",
         "4": "2011-08-31",
         "5": "France",
         "6": "ONO",
         "7": "2025-05-17 18:25:37.207483"
        },
        {
         "0": "Blackthorn",
         "1": "2000000.0",
         "2": "2600000.0",
         "3": "98",
         "4": "2011-08-31",
         "5": "France",
         "6": "Noodles Production",
         "7": "2025-05-17 18:25:37.207483"
        },
        {
         "0": "Blackthorn",
         "1": "2000000.0",
         "2": "2600000.0",
         "3": "98",
         "4": "2011-08-31",
         "5": "France",
         "6": "Arcadia Motion Pictures",
         "7": "2025-05-17 18:25:37.207483"
        },
        {
         "0": "Blackthorn",
         "1": "2000000.0",
         "2": "2600000.0",
         "3": "98",
         "4": "2011-08-31",
         "5": "France",
         "6": "Televisiu00f3n Espau00f1ola (TVE)",
         "7": "2025-05-17 18:25:37.207483"
        },
        {
         "0": "Blackthorn",
         "1": "2000000.0",
         "2": "2600000.0",
         "3": "98",
         "4": "2011-08-31",
         "5": "France",
         "6": "Quickfire Films",
         "7": "2025-05-17 18:25:37.207483"
        },
        {
         "0": "Blackthorn",
         "1": "2000000.0",
         "2": "2600000.0",
         "3": "98",
         "4": "2011-08-31",
         "5": "France",
         "6": "Instituto de Cru00e9dito Oficial (ICO)",
         "7": "2025-05-17 18:25:37.207483"
        },
        {
         "0": "Blackthorn",
         "1": "2000000.0",
         "2": "2600000.0",
         "3": "98",
         "4": "2011-08-31",
         "5": "France",
         "6": "Instituto de la Cinematografu00eda y de las Artes Audiovisuales (ICAA)",
         "7": "2025-05-17 18:25:37.207483"
        },
        {
         "0": "Blackthorn",
         "1": "2000000.0",
         "2": "2600000.0",
         "3": "98",
         "4": "2011-08-31",
         "5": "France",
         "6": "Canal+ Espau00f1a",
         "7": "2025-05-17 18:25:37.207483"
        },
        {
         "0": "Blackthorn",
         "1": "2000000.0",
         "2": "2600000.0",
         "3": "98",
         "4": "2011-08-31",
         "5": "Spain",
         "6": "Audiovisual Aval SGR",
         "7": "2025-05-17 18:25:37.207483"
        },
        {
         "0": "Blackthorn",
         "1": "2000000.0",
         "2": "2600000.0",
         "3": "98",
         "4": "2011-08-31",
         "5": "Spain",
         "6": "Ibermedia European Community Program",
         "7": "2025-05-17 18:25:37.207483"
        },
        {
         "0": "Blackthorn",
         "1": "2000000.0",
         "2": "2600000.0",
         "3": "98",
         "4": "2011-08-31",
         "5": "Spain",
         "6": "Pegaso Producciones",
         "7": "2025-05-17 18:25:37.207483"
        },
        {
         "0": "Blackthorn",
         "1": "2000000.0",
         "2": "2600000.0",
         "3": "98",
         "4": "2011-08-31",
         "5": "Spain",
         "6": "Manto Films",
         "7": "2025-05-17 18:25:37.207483"
        },
        {
         "0": "Blackthorn",
         "1": "2000000.0",
         "2": "2600000.0",
         "3": "98",
         "4": "2011-08-31",
         "5": "Spain",
         "6": "Eter Pictures",
         "7": "2025-05-17 18:25:37.207483"
        },
        {
         "0": "Blackthorn",
         "1": "2000000.0",
         "2": "2600000.0",
         "3": "98",
         "4": "2011-08-31",
         "5": "Spain",
         "6": "Nix Films",
         "7": "2025-05-17 18:25:37.207483"
        },
        {
         "0": "Blackthorn",
         "1": "2000000.0",
         "2": "2600000.0",
         "3": "98",
         "4": "2011-08-31",
         "5": "Spain",
         "6": "Ariane Mararu00eda Films",
         "7": "2025-05-17 18:25:37.207483"
        },
        {
         "0": "Blackthorn",
         "1": "2000000.0",
         "2": "2600000.0",
         "3": "98",
         "4": "2011-08-31",
         "5": "Spain",
         "6": "ONO",
         "7": "2025-05-17 18:25:37.207483"
        },
        {
         "0": "Blackthorn",
         "1": "2000000.0",
         "2": "2600000.0",
         "3": "98",
         "4": "2011-08-31",
         "5": "Spain",
         "6": "Noodles Production",
         "7": "2025-05-17 18:25:37.207483"
        },
        {
         "0": "Blackthorn",
         "1": "2000000.0",
         "2": "2600000.0",
         "3": "98",
         "4": "2011-08-31",
         "5": "Spain",
         "6": "Arcadia Motion Pictures",
         "7": "2025-05-17 18:25:37.207483"
        },
        {
         "0": "Blackthorn",
         "1": "2000000.0",
         "2": "2600000.0",
         "3": "98",
         "4": "2011-08-31",
         "5": "Spain",
         "6": "Televisiu00f3n Espau00f1ola (TVE)",
         "7": "2025-05-17 18:25:37.207483"
        },
        {
         "0": "Blackthorn",
         "1": "2000000.0",
         "2": "2600000.0",
         "3": "98",
         "4": "2011-08-31",
         "5": "Spain",
         "6": "Quickfire Films",
         "7": "2025-05-17 18:25:37.207483"
        },
        {
         "0": "Blackthorn",
         "1": "2000000.0",
         "2": "2600000.0",
         "3": "98",
         "4": "2011-08-31",
         "5": "Spain",
         "6": "Instituto de Cru00e9dito Oficial (ICO)",
         "7": "2025-05-17 18:25:37.207483"
        },
        {
         "0": "Blackthorn",
         "1": "2000000.0",
         "2": "2600000.0",
         "3": "98",
         "4": "2011-08-31",
         "5": "Spain",
         "6": "Instituto de la Cinematografu00eda y de las Artes Audiovisuales (ICAA)",
         "7": "2025-05-17 18:25:37.207483"
        },
        {
         "0": "Blackthorn",
         "1": "2000000.0",
         "2": "2600000.0",
         "3": "98",
         "4": "2011-08-31",
         "5": "Spain",
         "6": "Canal+ Espau00f1a",
         "7": "2025-05-17 18:25:37.207483"
        },
        {
         "0": "Blackthorn",
         "1": "2000000.0",
         "2": "2600000.0",
         "3": "98",
         "4": "2011-08-31",
         "5": "United Kingdom",
         "6": "Audiovisual Aval SGR",
         "7": "2025-05-17 18:25:37.207483"
        },
        {
         "0": "Blackthorn",
         "1": "2000000.0",
         "2": "2600000.0",
         "3": "98",
         "4": "2011-08-31",
         "5": "United Kingdom",
         "6": "Ibermedia European Community Program",
         "7": "2025-05-17 18:25:37.207483"
        },
        {
         "0": "Blackthorn",
         "1": "2000000.0",
         "2": "2600000.0",
         "3": "98",
         "4": "2011-08-31",
         "5": "United Kingdom",
         "6": "Pegaso Producciones",
         "7": "2025-05-17 18:25:37.207483"
        },
        {
         "0": "Blackthorn",
         "1": "2000000.0",
         "2": "2600000.0",
         "3": "98",
         "4": "2011-08-31",
         "5": "United Kingdom",
         "6": "Manto Films",
         "7": "2025-05-17 18:25:37.207483"
        },
        {
         "0": "Blackthorn",
         "1": "2000000.0",
         "2": "2600000.0",
         "3": "98",
         "4": "2011-08-31",
         "5": "United Kingdom",
         "6": "Eter Pictures",
         "7": "2025-05-17 18:25:37.207483"
        },
        {
         "0": "Blackthorn",
         "1": "2000000.0",
         "2": "2600000.0",
         "3": "98",
         "4": "2011-08-31",
         "5": "United Kingdom",
         "6": "Nix Films",
         "7": "2025-05-17 18:25:37.207483"
        },
        {
         "0": "Blackthorn",
         "1": "2000000.0",
         "2": "2600000.0",
         "3": "98",
         "4": "2011-08-31",
         "5": "United Kingdom",
         "6": "Ariane Mararu00eda Films",
         "7": "2025-05-17 18:25:37.207483"
        },
        {
         "0": "Blackthorn",
         "1": "2000000.0",
         "2": "2600000.0",
         "3": "98",
         "4": "2011-08-31",
         "5": "United Kingdom",
         "6": "ONO",
         "7": "2025-05-17 18:25:37.207483"
        },
        {
         "0": "Blackthorn",
         "1": "2000000.0",
         "2": "2600000.0",
         "3": "98",
         "4": "2011-08-31",
         "5": "United Kingdom",
         "6": "Noodles Production",
         "7": "2025-05-17 18:25:37.207483"
        },
        {
         "0": "Blackthorn",
         "1": "2000000.0",
         "2": "2600000.0",
         "3": "98",
         "4": "2011-08-31",
         "5": "United Kingdom",
         "6": "Arcadia Motion Pictures",
         "7": "2025-05-17 18:25:37.207483"
        },
        {
         "0": "Blackthorn",
         "1": "2000000.0",
         "2": "2600000.0",
         "3": "98",
         "4": "2011-08-31",
         "5": "United Kingdom",
         "6": "Televisiu00f3n Espau00f1ola (TVE)",
         "7": "2025-05-17 18:25:37.207483"
        },
        {
         "0": "Blackthorn",
         "1": "2000000.0",
         "2": "2600000.0",
         "3": "98",
         "4": "2011-08-31",
         "5": "United Kingdom",
         "6": "Quickfire Films",
         "7": "2025-05-17 18:25:37.207483"
        },
        {
         "0": "Blackthorn",
         "1": "2000000.0",
         "2": "2600000.0",
         "3": "98",
         "4": "2011-08-31",
         "5": "United Kingdom",
         "6": "Instituto de Cru00e9dito Oficial (ICO)",
         "7": "2025-05-17 18:25:37.207483"
        },
        {
         "0": "Blackthorn",
         "1": "2000000.0",
         "2": "2600000.0",
         "3": "98",
         "4": "2011-08-31",
         "5": "United Kingdom",
         "6": "Instituto de la Cinematografu00eda y de las Artes Audiovisuales (ICAA)",
         "7": "2025-05-17 18:25:37.207483"
        },
        {
         "0": "Blackthorn",
         "1": "2000000.0",
         "2": "2600000.0",
         "3": "98",
         "4": "2011-08-31",
         "5": "United Kingdom",
         "6": "Canal+ Espau00f1a",
         "7": "2025-05-17 18:25:37.207483"
        },
        {
         "0": "Blended",
         "1": "4.0E7",
         "2": "1.2349461E8",
         "3": "117",
         "4": "2014-05-21",
         "5": "United States of America",
         "6": "Happy Madison Productions",
         "7": "2025-05-17 18:25:37.207483"
        },
        {
         "0": "Blended",
         "1": "4.0E7",
         "2": "1.2349461E8",
         "3": "117",
         "4": "2014-05-21",
         "5": "United States of America",
         "6": "Gulfstream Pictures",
         "7": "2025-05-17 18:25:37.207483"
        },
        {
         "0": "Blended",
         "1": "4.0E7",
         "2": "1.2349461E8",
         "3": "117",
         "4": "2014-05-21",
         "5": "United States of America",
         "6": "Warner Bros.",
         "7": "2025-05-17 18:25:37.207483"
        },
        {
         "0": "Blended",
         "1": "4.0E7",
         "2": "1.2349461E8",
         "3": "117",
         "4": "2014-05-21",
         "5": "United States of America",
         "6": "Karz Entertainment",
         "7": "2025-05-17 18:25:37.207483"
        },
        {
         "0": "Blood Ties",
         "1": "2.55E7",
         "2": "2415472.0",
         "3": "128",
         "4": "2013-08-22",
         "5": "France",
         "6": "Les Productions du Tru00e9sor",
         "7": "2025-05-17 18:25:37.207483"
        },
        {
         "0": "Blood Ties",
         "1": "2.55E7",
         "2": "2415472.0",
         "3": "128",
         "4": "2013-08-22",
         "5": "France",
         "6": "LGM Productions",
         "7": "2025-05-17 18:25:37.207483"
        },
        {
         "0": "Blood Ties",
         "1": "2.55E7",
         "2": "2415472.0",
         "3": "128",
         "4": "2013-08-22",
         "5": "France",
         "6": "Wild Bunch",
         "7": "2025-05-17 18:25:37.207483"
        },
        {
         "0": "Blood Ties",
         "1": "2.55E7",
         "2": "2415472.0",
         "3": "128",
         "4": "2013-08-22",
         "5": "France",
         "6": "Treasure Company",
         "7": "2025-05-17 18:25:37.207483"
        },
        {
         "0": "Blood Ties",
         "1": "2.55E7",
         "2": "2415472.0",
         "3": "128",
         "4": "2013-08-22",
         "5": "France",
         "6": "Chi-Fou-Mi Productions",
         "7": "2025-05-17 18:25:37.207483"
        },
        {
         "0": "Blood Ties",
         "1": "2.55E7",
         "2": "2415472.0",
         "3": "128",
         "4": "2013-08-22",
         "5": "France",
         "6": "W9",
         "7": "2025-05-17 18:25:37.207483"
        },
        {
         "0": "Blood Ties",
         "1": "2.55E7",
         "2": "2415472.0",
         "3": "128",
         "4": "2013-08-22",
         "5": "France",
         "6": "France 4",
         "7": "2025-05-17 18:25:37.207483"
        },
        {
         "0": "Blood Ties",
         "1": "2.55E7",
         "2": "2415472.0",
         "3": "128",
         "4": "2013-08-22",
         "5": "France",
         "6": "Grisbi Productions",
         "7": "2025-05-17 18:25:37.207483"
        },
        {
         "0": "Blood Ties",
         "1": "2.55E7",
         "2": "2415472.0",
         "3": "128",
         "4": "2013-08-22",
         "5": "France",
         "6": "Caneo Films",
         "7": "2025-05-17 18:25:37.207483"
        },
        {
         "0": "Blood Ties",
         "1": "2.55E7",
         "2": "2415472.0",
         "3": "128",
         "4": "2013-08-22",
         "5": "France",
         "6": "France Tu00e9lu00e9vision",
         "7": "2025-05-17 18:25:37.207483"
        },
        {
         "0": "Blood Ties",
         "1": "2.55E7",
         "2": "2415472.0",
         "3": "128",
         "4": "2013-08-22",
         "5": "France",
         "6": "Canal+",
         "7": "2025-05-17 18:25:37.207483"
        },
        {
         "0": "Blood Ties",
         "1": "2.55E7",
         "2": "2415472.0",
         "3": "128",
         "4": "2013-08-22",
         "5": "France",
         "6": "Mars Distribution",
         "7": "2025-05-17 18:25:37.207483"
        },
        {
         "0": "Blood Ties",
         "1": "2.55E7",
         "2": "2415472.0",
         "3": "128",
         "4": "2013-08-22",
         "5": "France",
         "6": "France 3 Cinema",
         "7": "2025-05-17 18:25:37.207483"
        },
        {
         "0": "Blood Ties",
         "1": "2.55E7",
         "2": "2415472.0",
         "3": "128",
         "4": "2013-08-22",
         "5": "France",
         "6": "M6",
         "7": "2025-05-17 18:25:37.207483"
        },
        {
         "0": "Blood Ties",
         "1": "2.55E7",
         "2": "2415472.0",
         "3": "128",
         "4": "2013-08-22",
         "5": "France",
         "6": "Cinu00e9+",
         "7": "2025-05-17 18:25:37.207483"
        },
        {
         "0": "Blood Ties",
         "1": "2.55E7",
         "2": "2415472.0",
         "3": "128",
         "4": "2013-08-22",
         "5": "France",
         "6": "Worldview Entertainment",
         "7": "2025-05-17 18:25:37.207483"
        },
        {
         "0": "Blood Ties",
         "1": "2.55E7",
         "2": "2415472.0",
         "3": "128",
         "4": "2013-08-22",
         "5": "United States of America",
         "6": "Les Productions du Tru00e9sor",
         "7": "2025-05-17 18:25:37.207483"
        },
        {
         "0": "Blood Ties",
         "1": "2.55E7",
         "2": "2415472.0",
         "3": "128",
         "4": "2013-08-22",
         "5": "United States of America",
         "6": "LGM Productions",
         "7": "2025-05-17 18:25:37.207483"
        },
        {
         "0": "Blood Ties",
         "1": "2.55E7",
         "2": "2415472.0",
         "3": "128",
         "4": "2013-08-22",
         "5": "United States of America",
         "6": "Wild Bunch",
         "7": "2025-05-17 18:25:37.207483"
        },
        {
         "0": "Blood Ties",
         "1": "2.55E7",
         "2": "2415472.0",
         "3": "128",
         "4": "2013-08-22",
         "5": "United States of America",
         "6": "Treasure Company",
         "7": "2025-05-17 18:25:37.207483"
        },
        {
         "0": "Blood Ties",
         "1": "2.55E7",
         "2": "2415472.0",
         "3": "128",
         "4": "2013-08-22",
         "5": "United States of America",
         "6": "Chi-Fou-Mi Productions",
         "7": "2025-05-17 18:25:37.207483"
        },
        {
         "0": "Blood Ties",
         "1": "2.55E7",
         "2": "2415472.0",
         "3": "128",
         "4": "2013-08-22",
         "5": "United States of America",
         "6": "W9",
         "7": "2025-05-17 18:25:37.207483"
        },
        {
         "0": "Blood Ties",
         "1": "2.55E7",
         "2": "2415472.0",
         "3": "128",
         "4": "2013-08-22",
         "5": "United States of America",
         "6": "France 4",
         "7": "2025-05-17 18:25:37.207483"
        },
        {
         "0": "Blood Ties",
         "1": "2.55E7",
         "2": "2415472.0",
         "3": "128",
         "4": "2013-08-22",
         "5": "United States of America",
         "6": "Grisbi Productions",
         "7": "2025-05-17 18:25:37.207483"
        },
        {
         "0": "Blood Ties",
         "1": "2.55E7",
         "2": "2415472.0",
         "3": "128",
         "4": "2013-08-22",
         "5": "United States of America",
         "6": "Caneo Films",
         "7": "2025-05-17 18:25:37.207483"
        },
        {
         "0": "Blood Ties",
         "1": "2.55E7",
         "2": "2415472.0",
         "3": "128",
         "4": "2013-08-22",
         "5": "United States of America",
         "6": "France Tu00e9lu00e9vision",
         "7": "2025-05-17 18:25:37.207483"
        },
        {
         "0": "Blood Ties",
         "1": "2.55E7",
         "2": "2415472.0",
         "3": "128",
         "4": "2013-08-22",
         "5": "United States of America",
         "6": "Canal+",
         "7": "2025-05-17 18:25:37.207483"
        },
        {
         "0": "Blood Ties",
         "1": "2.55E7",
         "2": "2415472.0",
         "3": "128",
         "4": "2013-08-22",
         "5": "United States of America",
         "6": "Mars Distribution",
         "7": "2025-05-17 18:25:37.207483"
        },
        {
         "0": "Blood Ties",
         "1": "2.55E7",
         "2": "2415472.0",
         "3": "128",
         "4": "2013-08-22",
         "5": "United States of America",
         "6": "France 3 Cinema",
         "7": "2025-05-17 18:25:37.207483"
        },
        {
         "0": "Blood Ties",
         "1": "2.55E7",
         "2": "2415472.0",
         "3": "128",
         "4": "2013-08-22",
         "5": "United States of America",
         "6": "M6",
         "7": "2025-05-17 18:25:37.207483"
        },
        {
         "0": "Blood Ties",
         "1": "2.55E7",
         "2": "2415472.0",
         "3": "128",
         "4": "2013-08-22",
         "5": "United States of America",
         "6": "Cinu00e9+",
         "7": "2025-05-17 18:25:37.207483"
        },
        {
         "0": "Blood Ties",
         "1": "2.55E7",
         "2": "2415472.0",
         "3": "128",
         "4": "2013-08-22",
         "5": "United States of America",
         "6": "Worldview Entertainment",
         "7": "2025-05-17 18:25:37.207483"
        },
        {
         "0": "Blue Jasmine",
         "1": "1.8E7",
         "2": "9.9206215E7",
         "3": "98",
         "4": "2013-07-25",
         "5": "United States of America",
         "6": "Perdido Productions",
         "7": "2025-05-17 18:25:37.207483"
        },
        {
         "0": "Blue Like Jazz",
         "1": "1250000.0",
         "2": "1562500.0",
         "3": "106",
         "4": "2012-04-13",
         "5": "United States of America",
         "6": "Ruckus Films",
         "7": "2025-05-17 18:25:37.207483"
        },
        {
         "0": "Blue Ruin",
         "1": "2000000.0",
         "2": "2600000.0",
         "3": "90",
         "4": "2014-04-25",
         "5": "United States of America",
         "6": "The Lab Of Madness",
         "7": "2025-05-17 18:25:37.207483"
        },
        {
         "0": "Blue Ruin",
         "1": "2000000.0",
         "2": "2600000.0",
         "3": "90",
         "4": "2014-04-25",
         "5": "United States of America",
         "6": "Film Science",
         "7": "2025-05-17 18:25:37.207483"
        },
        {
         "0": "Blue Ruin",
         "1": "2000000.0",
         "2": "2600000.0",
         "3": "90",
         "4": "2014-04-25",
         "5": "United States of America",
         "6": "Paradise City",
         "7": "2025-05-17 18:25:37.207483"
        },
        {
         "0": "Blue Ruin",
         "1": "2000000.0",
         "2": "2600000.0",
         "3": "90",
         "4": "2014-04-25",
         "5": "United States of America",
         "6": "Neighborhood Watch",
         "7": "2025-05-17 18:25:37.207483"
        },
        {
         "0": "Blue Valentine",
         "1": "3500000.0",
         "2": "1.656624E7",
         "3": "112",
         "4": "2010-12-27",
         "5": "United States of America",
         "6": "Silverwood Films",
         "7": "2025-05-17 18:25:37.207483"
        },
        {
         "0": "Blue Valentine",
         "1": "3500000.0",
         "2": "1.656624E7",
         "3": "112",
         "4": "2010-12-27",
         "5": "United States of America",
         "6": "Hunting Lane Films",
         "7": "2025-05-17 18:25:37.207483"
        },
        {
         "0": "Blue Valentine",
         "1": "3500000.0",
         "2": "1.656624E7",
         "3": "112",
         "4": "2010-12-27",
         "5": "United States of America",
         "6": "Incentive Filmed Entertainment",
         "7": "2025-05-17 18:25:37.207483"
        },
        {
         "0": "Blue Valentine",
         "1": "3500000.0",
         "2": "1.656624E7",
         "3": "112",
         "4": "2010-12-27",
         "5": "United States of America",
         "6": "Cottage Industries",
         "7": "2025-05-17 18:25:37.207483"
        },
        {
         "0": "Blue Valentine",
         "1": "3500000.0",
         "2": "1.656624E7",
         "3": "112",
         "4": "2010-12-27",
         "5": "United States of America",
         "6": "Motel Movies",
         "7": "2025-05-17 18:25:37.207483"
        },
        {
         "0": "Blue Valentine",
         "1": "3500000.0",
         "2": "1.656624E7",
         "3": "112",
         "4": "2010-12-27",
         "5": "United States of America",
         "6": "Shade Pictures",
         "7": "2025-05-17 18:25:37.207483"
        },
        {
         "0": "Blue Valentine",
         "1": "3500000.0",
         "2": "1.656624E7",
         "3": "112",
         "4": "2010-12-27",
         "5": "United States of America",
         "6": "Chrysler Corporation",
         "7": "2025-05-17 18:25:37.207483"
        },
        {
         "0": "Born Of War",
         "1": "2000000.0",
         "2": "2600000.0",
         "3": "109",
         "4": "2013-12-05",
         "5": "Cyprus",
         "6": "Born of War",
         "7": "2025-05-17 18:25:37.207483"
        },
        {
         "0": "Born Of War",
         "1": "2000000.0",
         "2": "2600000.0",
         "3": "109",
         "4": "2013-12-05",
         "5": "Cyprus",
         "6": "Jewson Film",
         "7": "2025-05-17 18:25:37.207483"
        },
        {
         "0": "Born Of War",
         "1": "2000000.0",
         "2": "2600000.0",
         "3": "109",
         "4": "2013-12-05",
         "5": "Jordan",
         "6": "Born of War",
         "7": "2025-05-17 18:25:37.207483"
        },
        {
         "0": "Born Of War",
         "1": "2000000.0",
         "2": "2600000.0",
         "3": "109",
         "4": "2013-12-05",
         "5": "Jordan",
         "6": "Jewson Film",
         "7": "2025-05-17 18:25:37.207483"
        },
        {
         "0": "Born Of War",
         "1": "2000000.0",
         "2": "2600000.0",
         "3": "109",
         "4": "2013-12-05",
         "5": "United Kingdom",
         "6": "Born of War",
         "7": "2025-05-17 18:25:37.207483"
        },
        {
         "0": "Born Of War",
         "1": "2000000.0",
         "2": "2600000.0",
         "3": "109",
         "4": "2013-12-05",
         "5": "United Kingdom",
         "6": "Jewson Film",
         "7": "2025-05-17 18:25:37.207483"
        },
        {
         "0": "Boyhood",
         "1": "4000000.0",
         "2": "4.4349E7",
         "3": "164",
         "4": "2014-06-05",
         "5": "United States of America",
         "6": "IFC Films",
         "7": "2025-05-17 18:25:37.207483"
        },
        {
         "0": "Boyhood",
         "1": "4000000.0",
         "2": "4.4349E7",
         "3": "164",
         "4": "2014-06-05",
         "5": "United States of America",
         "6": "Detour Filmproduction",
         "7": "2025-05-17 18:25:37.207483"
        },
        {
         "0": "Brave",
         "1": "1.85E8",
         "2": "5.38983207E8",
         "3": "93",
         "4": "2012-06-21",
         "5": "United States of America",
         "6": "Pixar Animation Studios",
         "7": "2025-05-17 18:25:37.207483"
        },
        {
         "0": "Brave",
         "1": "1.85E8",
         "2": "5.38983207E8",
         "3": "93",
         "4": "2012-06-21",
         "5": "United States of America",
         "6": "Walt Disney Pictures",
         "7": "2025-05-17 18:25:37.207483"
        },
        {
         "0": "Brick Mansions",
         "1": "2.8E7",
         "2": "6.8896829E7",
         "3": "90",
         "4": "2014-04-22",
         "5": "Canada",
         "6": "D8",
         "7": "2025-05-17 18:25:37.207483"
        },
        {
         "0": "Brick Mansions",
         "1": "2.8E7",
         "2": "6.8896829E7",
         "3": "90",
         "4": "2014-04-22",
         "5": "Canada",
         "6": "Cinu00e9+",
         "7": "2025-05-17 18:25:37.207483"
        },
        {
         "0": "Brick Mansions",
         "1": "2.8E7",
         "2": "6.8896829E7",
         "3": "90",
         "4": "2014-04-22",
         "5": "Canada",
         "6": "EuropaCorp",
         "7": "2025-05-17 18:25:37.207483"
        },
        {
         "0": "Brick Mansions",
         "1": "2.8E7",
         "2": "6.8896829E7",
         "3": "90",
         "4": "2014-04-22",
         "5": "Canada",
         "6": "Canal+",
         "7": "2025-05-17 18:25:37.207483"
        },
        {
         "0": "Brick Mansions",
         "1": "2.8E7",
         "2": "6.8896829E7",
         "3": "90",
         "4": "2014-04-22",
         "5": "France",
         "6": "D8",
         "7": "2025-05-17 18:25:37.207483"
        },
        {
         "0": "Brick Mansions",
         "1": "2.8E7",
         "2": "6.8896829E7",
         "3": "90",
         "4": "2014-04-22",
         "5": "France",
         "6": "Cinu00e9+",
         "7": "2025-05-17 18:25:37.207483"
        },
        {
         "0": "Brick Mansions",
         "1": "2.8E7",
         "2": "6.8896829E7",
         "3": "90",
         "4": "2014-04-22",
         "5": "France",
         "6": "EuropaCorp",
         "7": "2025-05-17 18:25:37.207483"
        },
        {
         "0": "Brick Mansions",
         "1": "2.8E7",
         "2": "6.8896829E7",
         "3": "90",
         "4": "2014-04-22",
         "5": "France",
         "6": "Canal+",
         "7": "2025-05-17 18:25:37.207483"
        },
        {
         "0": "Bridesmaids",
         "1": "3.25E7",
         "2": "2.88383523E8",
         "3": "125",
         "4": "2011-04-28",
         "5": "United States of America",
         "6": "Universal Pictures",
         "7": "2025-05-17 18:25:37.207483"
        },
        {
         "0": "Bridesmaids",
         "1": "3.25E7",
         "2": "2.88383523E8",
         "3": "125",
         "4": "2011-04-28",
         "5": "United States of America",
         "6": "Relativity Media",
         "7": "2025-05-17 18:25:37.207483"
        },
        {
         "0": "Bridesmaids",
         "1": "3.25E7",
         "2": "2.88383523E8",
         "3": "125",
         "4": "2011-04-28",
         "5": "United States of America",
         "6": "Apatow Productions",
         "7": "2025-05-17 18:25:37.207483"
        },
        {
         "0": "Bridge of Spies",
         "1": "4.0E7",
         "2": "1.65478348E8",
         "3": "141",
         "4": "2015-10-15",
         "5": "India",
         "6": "Marc Platt Productions",
         "7": "2025-05-17 18:25:37.207483"
        },
        {
         "0": "Bridge of Spies",
         "1": "4.0E7",
         "2": "1.65478348E8",
         "3": "141",
         "4": "2015-10-15",
         "5": "India",
         "6": "Fox 2000 Pictures",
         "7": "2025-05-17 18:25:37.207483"
        },
        {
         "0": "Bridge of Spies",
         "1": "4.0E7",
         "2": "1.65478348E8",
         "3": "141",
         "4": "2015-10-15",
         "5": "India",
         "6": "Studio Babelsberg",
         "7": "2025-05-17 18:25:37.207483"
        },
        {
         "0": "Bridge of Spies",
         "1": "4.0E7",
         "2": "1.65478348E8",
         "3": "141",
         "4": "2015-10-15",
         "5": "India",
         "6": "Amblin Entertainment",
         "7": "2025-05-17 18:25:37.207483"
        },
        {
         "0": "Bridge of Spies",
         "1": "4.0E7",
         "2": "1.65478348E8",
         "3": "141",
         "4": "2015-10-15",
         "5": "India",
         "6": "DreamWorks SKG",
         "7": "2025-05-17 18:25:37.207483"
        },
        {
         "0": "Bridge of Spies",
         "1": "4.0E7",
         "2": "1.65478348E8",
         "3": "141",
         "4": "2015-10-15",
         "5": "India",
         "6": "TSG Entertainment",
         "7": "2025-05-17 18:25:37.207483"
        },
        {
         "0": "Bridge of Spies",
         "1": "4.0E7",
         "2": "1.65478348E8",
         "3": "141",
         "4": "2015-10-15",
         "5": "India",
         "6": "Reliance Entertainment",
         "7": "2025-05-17 18:25:37.207483"
        },
        {
         "0": "Bridge of Spies",
         "1": "4.0E7",
         "2": "1.65478348E8",
         "3": "141",
         "4": "2015-10-15",
         "5": "India",
         "6": "Participant Media",
         "7": "2025-05-17 18:25:37.207483"
        },
        {
         "0": "Bridge of Spies",
         "1": "4.0E7",
         "2": "1.65478348E8",
         "3": "141",
         "4": "2015-10-15",
         "5": "United States of America",
         "6": "Marc Platt Productions",
         "7": "2025-05-17 18:25:37.207483"
        },
        {
         "0": "Bridge of Spies",
         "1": "4.0E7",
         "2": "1.65478348E8",
         "3": "141",
         "4": "2015-10-15",
         "5": "United States of America",
         "6": "Fox 2000 Pictures",
         "7": "2025-05-17 18:25:37.207483"
        },
        {
         "0": "Bridge of Spies",
         "1": "4.0E7",
         "2": "1.65478348E8",
         "3": "141",
         "4": "2015-10-15",
         "5": "United States of America",
         "6": "Studio Babelsberg",
         "7": "2025-05-17 18:25:37.207483"
        },
        {
         "0": "Bridge of Spies",
         "1": "4.0E7",
         "2": "1.65478348E8",
         "3": "141",
         "4": "2015-10-15",
         "5": "United States of America",
         "6": "Amblin Entertainment",
         "7": "2025-05-17 18:25:37.207483"
        },
        {
         "0": "Bridge of Spies",
         "1": "4.0E7",
         "2": "1.65478348E8",
         "3": "141",
         "4": "2015-10-15",
         "5": "United States of America",
         "6": "DreamWorks SKG",
         "7": "2025-05-17 18:25:37.207483"
        },
        {
         "0": "Bridge of Spies",
         "1": "4.0E7",
         "2": "1.65478348E8",
         "3": "141",
         "4": "2015-10-15",
         "5": "United States of America",
         "6": "TSG Entertainment",
         "7": "2025-05-17 18:25:37.207483"
        },
        {
         "0": "Bridge of Spies",
         "1": "4.0E7",
         "2": "1.65478348E8",
         "3": "141",
         "4": "2015-10-15",
         "5": "United States of America",
         "6": "Reliance Entertainment",
         "7": "2025-05-17 18:25:37.207483"
        },
        {
         "0": "Bridge of Spies",
         "1": "4.0E7",
         "2": "1.65478348E8",
         "3": "141",
         "4": "2015-10-15",
         "5": "United States of America",
         "6": "Participant Media",
         "7": "2025-05-17 18:25:37.207483"
        },
        {
         "0": "Bridge of Spies",
         "1": "4.0E7",
         "2": "1.65478348E8",
         "3": "141",
         "4": "2015-10-15",
         "5": "Germany",
         "6": "Marc Platt Productions",
         "7": "2025-05-17 18:25:37.207483"
        },
        {
         "0": "Bridge of Spies",
         "1": "4.0E7",
         "2": "1.65478348E8",
         "3": "141",
         "4": "2015-10-15",
         "5": "Germany",
         "6": "Fox 2000 Pictures",
         "7": "2025-05-17 18:25:37.207483"
        },
        {
         "0": "Bridge of Spies",
         "1": "4.0E7",
         "2": "1.65478348E8",
         "3": "141",
         "4": "2015-10-15",
         "5": "Germany",
         "6": "Studio Babelsberg",
         "7": "2025-05-17 18:25:37.207483"
        },
        {
         "0": "Bridge of Spies",
         "1": "4.0E7",
         "2": "1.65478348E8",
         "3": "141",
         "4": "2015-10-15",
         "5": "Germany",
         "6": "Amblin Entertainment",
         "7": "2025-05-17 18:25:37.207483"
        },
        {
         "0": "Bridge of Spies",
         "1": "4.0E7",
         "2": "1.65478348E8",
         "3": "141",
         "4": "2015-10-15",
         "5": "Germany",
         "6": "DreamWorks SKG",
         "7": "2025-05-17 18:25:37.207483"
        },
        {
         "0": "Bridge of Spies",
         "1": "4.0E7",
         "2": "1.65478348E8",
         "3": "141",
         "4": "2015-10-15",
         "5": "Germany",
         "6": "TSG Entertainment",
         "7": "2025-05-17 18:25:37.207483"
        },
        {
         "0": "Bridge of Spies",
         "1": "4.0E7",
         "2": "1.65478348E8",
         "3": "141",
         "4": "2015-10-15",
         "5": "Germany",
         "6": "Reliance Entertainment",
         "7": "2025-05-17 18:25:37.207483"
        },
        {
         "0": "Bridge of Spies",
         "1": "4.0E7",
         "2": "1.65478348E8",
         "3": "141",
         "4": "2015-10-15",
         "5": "Germany",
         "6": "Participant Media",
         "7": "2025-05-17 18:25:37.207483"
        },
        {
         "0": "Brighton Rock",
         "1": "2000000.0",
         "2": "2600000.0",
         "3": "111",
         "4": "2010-09-13",
         "5": "United Kingdom",
         "6": "UK Film Council",
         "7": "2025-05-17 18:25:37.207483"
        },
        {
         "0": "Brighton Rock",
         "1": "2000000.0",
         "2": "2600000.0",
         "3": "111",
         "4": "2010-09-13",
         "5": "United Kingdom",
         "6": "StudioCanal",
         "7": "2025-05-17 18:25:37.207483"
        },
        {
         "0": "Brighton Rock",
         "1": "2000000.0",
         "2": "2600000.0",
         "3": "111",
         "4": "2010-09-13",
         "5": "United Kingdom",
         "6": "BBC Films",
         "7": "2025-05-17 18:25:37.207483"
        },
        {
         "0": "Broken City",
         "1": "5.6E7",
         "2": "1.9701164E7",
         "3": "109",
         "4": "2013-01-18",
         "5": "United States of America",
         "6": "Regency Enterprises",
         "7": "2025-05-17 18:25:37.207483"
        },
        {
         "0": "Broken City",
         "1": "5.6E7",
         "2": "1.9701164E7",
         "3": "109",
         "4": "2013-01-18",
         "5": "United States of America",
         "6": "Leverage Communications",
         "7": "2025-05-17 18:25:37.207483"
        },
        {
         "0": "Broken City",
         "1": "5.6E7",
         "2": "1.9701164E7",
         "3": "109",
         "4": "2013-01-18",
         "5": "United States of America",
         "6": "Black Bear Pictures",
         "7": "2025-05-17 18:25:37.207483"
        },
        {
         "0": "Broken City",
         "1": "5.6E7",
         "2": "1.9701164E7",
         "3": "109",
         "4": "2013-01-18",
         "5": "United States of America",
         "6": "Closest to the Hole Productions",
         "7": "2025-05-17 18:25:37.207483"
        },
        {
         "0": "Broken City",
         "1": "5.6E7",
         "2": "1.9701164E7",
         "3": "109",
         "4": "2013-01-18",
         "5": "United States of America",
         "6": "1984 Private Defense Contractors",
         "7": "2025-05-17 18:25:37.207483"
        },
        {
         "0": "Broken City",
         "1": "5.6E7",
         "2": "1.9701164E7",
         "3": "109",
         "4": "2013-01-18",
         "5": "United States of America",
         "6": "Inferno International",
         "7": "2025-05-17 18:25:37.207483"
        },
        {
         "0": "Broken City",
         "1": "5.6E7",
         "2": "1.9701164E7",
         "3": "109",
         "4": "2013-01-18",
         "5": "United States of America",
         "6": "Envision Entertainment Corporation",
         "7": "2025-05-17 18:25:37.207483"
        },
        {
         "0": "Broken City",
         "1": "5.6E7",
         "2": "1.9701164E7",
         "3": "109",
         "4": "2013-01-18",
         "5": "United States of America",
         "6": "Emmett/Furla Films",
         "7": "2025-05-17 18:25:37.207483"
        },
        {
         "0": "Broken City",
         "1": "5.6E7",
         "2": "1.9701164E7",
         "3": "109",
         "4": "2013-01-18",
         "5": "United States of America",
         "6": "New Regency Pictures",
         "7": "2025-05-17 18:25:37.207483"
        },
        {
         "0": "Broken Horses",
         "1": "2000000.0",
         "2": "2600000.0",
         "3": "101",
         "4": "2015-03-15",
         "5": "United States of America",
         "6": "Reliance Entertainment",
         "7": "2025-05-17 18:25:37.207483"
        },
        {
         "0": "Brooklyn",
         "1": "1.1E7",
         "2": "6.2076141E7",
         "3": "111",
         "4": "2015-10-20",
         "5": "Canada",
         "6": "Wildgaze Films",
         "7": "2025-05-17 18:25:37.207483"
        },
        {
         "0": "Brooklyn",
         "1": "1.1E7",
         "2": "6.2076141E7",
         "3": "111",
         "4": "2015-10-20",
         "5": "Canada",
         "6": "Item 7",
         "7": "2025-05-17 18:25:37.207483"
        },
        {
         "0": "Brooklyn",
         "1": "1.1E7",
         "2": "6.2076141E7",
         "3": "111",
         "4": "2015-10-20",
         "5": "Canada",
         "6": "Irish Film Board",
         "7": "2025-05-17 18:25:37.207483"
        },
        {
         "0": "Brooklyn",
         "1": "1.1E7",
         "2": "6.2076141E7",
         "3": "111",
         "4": "2015-10-20",
         "5": "Canada",
         "6": "Parallel Film Productions",
         "7": "2025-05-17 18:25:37.207483"
        },
        {
         "0": "Brooklyn",
         "1": "1.1E7",
         "2": "6.2076141E7",
         "3": "111",
         "4": "2015-10-20",
         "5": "Ireland",
         "6": "Wildgaze Films",
         "7": "2025-05-17 18:25:37.207483"
        },
        {
         "0": "Brooklyn",
         "1": "1.1E7",
         "2": "6.2076141E7",
         "3": "111",
         "4": "2015-10-20",
         "5": "Ireland",
         "6": "Item 7",
         "7": "2025-05-17 18:25:37.207483"
        },
        {
         "0": "Brooklyn",
         "1": "1.1E7",
         "2": "6.2076141E7",
         "3": "111",
         "4": "2015-10-20",
         "5": "Ireland",
         "6": "Irish Film Board",
         "7": "2025-05-17 18:25:37.207483"
        },
        {
         "0": "Brooklyn",
         "1": "1.1E7",
         "2": "6.2076141E7",
         "3": "111",
         "4": "2015-10-20",
         "5": "Ireland",
         "6": "Parallel Film Productions",
         "7": "2025-05-17 18:25:37.207483"
        },
        {
         "0": "Bucky Larson: Born to Be a Star",
         "1": "1.0E7",
         "2": "1.25E7",
         "3": "97",
         "4": "2011-09-09",
         "5": "United States of America",
         "6": "Happy Madison Productions",
         "7": "2025-05-17 18:25:37.207483"
        },
        {
         "0": "Bucky Larson: Born to Be a Star",
         "1": "1.0E7",
         "2": "1.25E7",
         "3": "97",
         "4": "2011-09-09",
         "5": "United States of America",
         "6": "Columbia Pictures",
         "7": "2025-05-17 18:25:37.207483"
        },
        {
         "0": "Bullet to the Head",
         "1": "5.5E7",
         "2": "9489829.0",
         "3": "92",
         "4": "2013-01-31",
         "5": "Switzerland",
         "6": "Dark Castle Entertainment",
         "7": "2025-05-17 18:25:37.207483"
        },
        {
         "0": "Bullet to the Head",
         "1": "5.5E7",
         "2": "9489829.0",
         "3": "92",
         "4": "2013-01-31",
         "5": "Switzerland",
         "6": "Headshot Films",
         "7": "2025-05-17 18:25:37.207483"
        },
        {
         "0": "Bullet to the Head",
         "1": "5.5E7",
         "2": "9489829.0",
         "3": "92",
         "4": "2013-01-31",
         "5": "Switzerland",
         "6": "Millar Gough Ink",
         "7": "2025-05-17 18:25:37.207483"
        },
        {
         "0": "Bullet to the Head",
         "1": "5.5E7",
         "2": "9489829.0",
         "3": "92",
         "4": "2013-01-31",
         "5": "Switzerland",
         "6": "Automatik Entertainment",
         "7": "2025-05-17 18:25:37.207483"
        },
        {
         "0": "Bullet to the Head",
         "1": "5.5E7",
         "2": "9489829.0",
         "3": "92",
         "4": "2013-01-31",
         "5": "Switzerland",
         "6": "IM Global",
         "7": "2025-05-17 18:25:37.207483"
        },
        {
         "0": "Bullet to the Head",
         "1": "5.5E7",
         "2": "9489829.0",
         "3": "92",
         "4": "2013-01-31",
         "5": "Switzerland",
         "6": "After Dark Films",
         "7": "2025-05-17 18:25:37.207483"
        },
        {
         "0": "Bullet to the Head",
         "1": "5.5E7",
         "2": "9489829.0",
         "3": "92",
         "4": "2013-01-31",
         "5": "Switzerland",
         "6": "EMJAG Productions",
         "7": "2025-05-17 18:25:37.207483"
        },
        {
         "0": "Bullet to the Head",
         "1": "5.5E7",
         "2": "9489829.0",
         "3": "92",
         "4": "2013-01-31",
         "5": "Switzerland",
         "6": "Silver Reel",
         "7": "2025-05-17 18:25:37.207483"
        },
        {
         "0": "Bullet to the Head",
         "1": "5.5E7",
         "2": "9489829.0",
         "3": "92",
         "4": "2013-01-31",
         "5": "United States of America",
         "6": "Dark Castle Entertainment",
         "7": "2025-05-17 18:25:37.207483"
        },
        {
         "0": "Bullet to the Head",
         "1": "5.5E7",
         "2": "9489829.0",
         "3": "92",
         "4": "2013-01-31",
         "5": "United States of America",
         "6": "Headshot Films",
         "7": "2025-05-17 18:25:37.207483"
        },
        {
         "0": "Bullet to the Head",
         "1": "5.5E7",
         "2": "9489829.0",
         "3": "92",
         "4": "2013-01-31",
         "5": "United States of America",
         "6": "Millar Gough Ink",
         "7": "2025-05-17 18:25:37.207483"
        },
        {
         "0": "Bullet to the Head",
         "1": "5.5E7",
         "2": "9489829.0",
         "3": "92",
         "4": "2013-01-31",
         "5": "United States of America",
         "6": "Automatik Entertainment",
         "7": "2025-05-17 18:25:37.207483"
        },
        {
         "0": "Bullet to the Head",
         "1": "5.5E7",
         "2": "9489829.0",
         "3": "92",
         "4": "2013-01-31",
         "5": "United States of America",
         "6": "IM Global",
         "7": "2025-05-17 18:25:37.207483"
        },
        {
         "0": "Bullet to the Head",
         "1": "5.5E7",
         "2": "9489829.0",
         "3": "92",
         "4": "2013-01-31",
         "5": "United States of America",
         "6": "After Dark Films",
         "7": "2025-05-17 18:25:37.207483"
        },
        {
         "0": "Bullet to the Head",
         "1": "5.5E7",
         "2": "9489829.0",
         "3": "92",
         "4": "2013-01-31",
         "5": "United States of America",
         "6": "EMJAG Productions",
         "7": "2025-05-17 18:25:37.207483"
        },
        {
         "0": "Bullet to the Head",
         "1": "5.5E7",
         "2": "9489829.0",
         "3": "92",
         "4": "2013-01-31",
         "5": "United States of America",
         "6": "Silver Reel",
         "7": "2025-05-17 18:25:37.207483"
        },
        {
         "0": "Buried",
         "1": "1987650.0",
         "2": "1.915248E7",
         "3": "94",
         "4": "2010-09-24",
         "5": "Spain",
         "6": "Studio 37",
         "7": "2025-05-17 18:25:37.207483"
        },
        {
         "0": "Buried",
         "1": "1987650.0",
         "2": "1.915248E7",
         "3": "94",
         "4": "2010-09-24",
         "5": "Spain",
         "6": "Dark Trick Films",
         "7": "2025-05-17 18:25:37.207483"
        },
        {
         "0": "Buried",
         "1": "1987650.0",
         "2": "1.915248E7",
         "3": "94",
         "4": "2010-09-24",
         "5": "Spain",
         "6": "The Safran Company",
         "7": "2025-05-17 18:25:37.207483"
        },
        {
         "0": "Buried",
         "1": "1987650.0",
         "2": "1.915248E7",
         "3": "94",
         "4": "2010-09-24",
         "5": "Spain",
         "6": "Versus Entertainment",
         "7": "2025-05-17 18:25:37.207483"
        },
        {
         "0": "Buried",
         "1": "1987650.0",
         "2": "1.915248E7",
         "3": "94",
         "4": "2010-09-24",
         "5": "United States of America",
         "6": "Studio 37",
         "7": "2025-05-17 18:25:37.207483"
        },
        {
         "0": "Buried",
         "1": "1987650.0",
         "2": "1.915248E7",
         "3": "94",
         "4": "2010-09-24",
         "5": "United States of America",
         "6": "Dark Trick Films",
         "7": "2025-05-17 18:25:37.207483"
        },
        {
         "0": "Buried",
         "1": "1987650.0",
         "2": "1.915248E7",
         "3": "94",
         "4": "2010-09-24",
         "5": "United States of America",
         "6": "The Safran Company",
         "7": "2025-05-17 18:25:37.207483"
        },
        {
         "0": "Buried",
         "1": "1987650.0",
         "2": "1.915248E7",
         "3": "94",
         "4": "2010-09-24",
         "5": "United States of America",
         "6": "Versus Entertainment",
         "7": "2025-05-17 18:25:37.207483"
        },
        {
         "0": "Buried",
         "1": "1987650.0",
         "2": "1.915248E7",
         "3": "94",
         "4": "2010-09-24",
         "5": "France",
         "6": "Studio 37",
         "7": "2025-05-17 18:25:37.207483"
        },
        {
         "0": "Buried",
         "1": "1987650.0",
         "2": "1.915248E7",
         "3": "94",
         "4": "2010-09-24",
         "5": "France",
         "6": "Dark Trick Films",
         "7": "2025-05-17 18:25:37.207483"
        },
        {
         "0": "Buried",
         "1": "1987650.0",
         "2": "1.915248E7",
         "3": "94",
         "4": "2010-09-24",
         "5": "France",
         "6": "The Safran Company",
         "7": "2025-05-17 18:25:37.207483"
        },
        {
         "0": "Buried",
         "1": "1987650.0",
         "2": "1.915248E7",
         "3": "94",
         "4": "2010-09-24",
         "5": "France",
         "6": "Versus Entertainment",
         "7": "2025-05-17 18:25:37.207483"
        },
        {
         "0": "Burlesque",
         "1": "5.5E7",
         "2": "8.9519773E7",
         "3": "119",
         "4": "2010-11-23",
         "5": "United States of America",
         "6": "Bedford Falls Productions",
         "7": "2025-05-17 18:25:37.207483"
        },
        {
         "0": "Burn",
         "1": "225000.0",
         "2": "111300.0",
         "3": "86",
         "4": "2012-11-01",
         "5": "United States of America",
         "6": "Apostle Productions",
         "7": "2025-05-17 18:25:37.207483"
        },
        {
         "0": "Burnt",
         "1": "2.0E7",
         "2": "3.6606743E7",
         "3": "100",
         "4": "2015-10-02",
         "5": "United States of America",
         "6": "Double Feature Films",
         "7": "2025-05-17 18:25:37.207483"
        },
        {
         "0": "Burnt",
         "1": "2.0E7",
         "2": "3.6606743E7",
         "3": "100",
         "4": "2015-10-02",
         "5": "United States of America",
         "6": "3 Arts Entertainment",
         "7": "2025-05-17 18:25:37.207483"
        },
        {
         "0": "Burnt",
         "1": "2.0E7",
         "2": "3.6606743E7",
         "3": "100",
         "4": "2015-10-02",
         "5": "United States of America",
         "6": "PeaPie Films",
         "7": "2025-05-17 18:25:37.207483"
        },
        {
         "0": "By the Sea",
         "1": "1.0E7",
         "2": "3727746.0",
         "3": "122",
         "4": "2015-11-12",
         "5": "France",
         "6": "Plan B Entertainment",
         "7": "2025-05-17 18:25:37.207483"
        },
        {
         "0": "By the Sea",
         "1": "1.0E7",
         "2": "3727746.0",
         "3": "122",
         "4": "2015-11-12",
         "5": "France",
         "6": "Pellikola",
         "7": "2025-05-17 18:25:37.207483"
        },
        {
         "0": "By the Sea",
         "1": "1.0E7",
         "2": "3727746.0",
         "3": "122",
         "4": "2015-11-12",
         "5": "France",
         "6": "Jolie Pas",
         "7": "2025-05-17 18:25:37.207483"
        },
        {
         "0": "By the Sea",
         "1": "1.0E7",
         "2": "3727746.0",
         "3": "122",
         "4": "2015-11-12",
         "5": "United States of America",
         "6": "Plan B Entertainment",
         "7": "2025-05-17 18:25:37.207483"
        },
        {
         "0": "By the Sea",
         "1": "1.0E7",
         "2": "3727746.0",
         "3": "122",
         "4": "2015-11-12",
         "5": "United States of America",
         "6": "Pellikola",
         "7": "2025-05-17 18:25:37.207483"
        },
        {
         "0": "By the Sea",
         "1": "1.0E7",
         "2": "3727746.0",
         "3": "122",
         "4": "2015-11-12",
         "5": "United States of America",
         "6": "Jolie Pas",
         "7": "2025-05-17 18:25:37.207483"
        },
        {
         "0": "Ca$h",
         "1": "7000000.0",
         "2": "46488.0",
         "3": "108",
         "4": "2010-01-01",
         "5": "United States of America",
         "6": "Three Good Men",
         "7": "2025-05-17 18:25:37.207483"
        },
        {
         "0": "Ca$h",
         "1": "7000000.0",
         "2": "46488.0",
         "3": "108",
         "4": "2010-01-01",
         "5": "United States of America",
         "6": "Immortal Thoughts",
         "7": "2025-05-17 18:25:37.207483"
        },
        {
         "0": "Cabin Fever",
         "1": "2000000.0",
         "2": "2600000.0",
         "3": "99",
         "4": "2016-02-12",
         "5": "United States of America",
         "6": "Armory Films",
         "7": "2025-05-17 18:25:37.207483"
        },
        {
         "0": "Cabin Fever",
         "1": "2000000.0",
         "2": "2600000.0",
         "3": "99",
         "4": "2016-02-12",
         "5": "United States of America",
         "6": "Contend",
         "7": "2025-05-17 18:25:37.207483"
        },
        {
         "0": "Cabin Fever",
         "1": "2000000.0",
         "2": "2600000.0",
         "3": "99",
         "4": "2016-02-12",
         "5": "United States of America",
         "6": "Pelican Point Media",
         "7": "2025-05-17 18:25:37.207483"
        },
        {
         "0": "Captain America: Civil War",
         "1": "2.5E8",
         "2": "1.153304495E9",
         "3": "147",
         "4": "2016-04-27",
         "5": "United States of America",
         "6": "Marvel Studios",
         "7": "2025-05-17 18:25:37.207483"
        },
        {
         "0": "Captain America: Civil War",
         "1": "2.5E8",
         "2": "1.153304495E9",
         "3": "147",
         "4": "2016-04-27",
         "5": "United States of America",
         "6": "Studio Babelsberg",
         "7": "2025-05-17 18:25:37.207483"
        },
        {
         "0": "Captain America: Civil War",
         "1": "2.5E8",
         "2": "1.153304495E9",
         "3": "147",
         "4": "2016-04-27",
         "5": "United States of America",
         "6": "Deluxe Digital Studios",
         "7": "2025-05-17 18:25:37.207483"
        },
        {
         "0": "Captain America: Civil War",
         "1": "2.5E8",
         "2": "1.153304495E9",
         "3": "147",
         "4": "2016-04-27",
         "5": "United States of America",
         "6": "Vita-Ray Dutch Productions (III)",
         "7": "2025-05-17 18:25:37.207483"
        },
        {
         "0": "Captain America: Civil War",
         "1": "2.5E8",
         "2": "1.153304495E9",
         "3": "147",
         "4": "2016-04-27",
         "5": "United States of America",
         "6": "Walt Disney Studios Motion Pictures",
         "7": "2025-05-17 18:25:37.207483"
        },
        {
         "0": "Captain America: The First Avenger",
         "1": "1.4E8",
         "2": "3.70569774E8",
         "3": "124",
         "4": "2011-07-22",
         "5": "United States of America",
         "6": "Marvel Studios",
         "7": "2025-05-17 18:25:37.207483"
        },
        {
         "0": "Captain America: The Winter Soldier",
         "1": "1.7E8",
         "2": "7.14766572E8",
         "3": "136",
         "4": "2014-03-20",
         "5": "United States of America",
         "6": "Marvel Studios",
         "7": "2025-05-17 18:25:37.207483"
        },
        {
         "0": "Captain Phillips",
         "1": "5.5E7",
         "2": "9.5E7",
         "3": "134",
         "4": "2013-10-10",
         "5": "United States of America",
         "6": "Columbia Pictures",
         "7": "2025-05-17 18:25:37.207483"
        },
        {
         "0": "Captive",
         "1": "2000000.0",
         "2": "2600000.0",
         "3": "97",
         "4": "2015-09-17",
         "5": "United States of America",
         "6": "BN Films",
         "7": "2025-05-17 18:25:37.207483"
        },
        {
         "0": "Captive",
         "1": "2000000.0",
         "2": "2600000.0",
         "3": "97",
         "4": "2015-09-17",
         "5": "United States of America",
         "6": "Yoruba Saxon Productions",
         "7": "2025-05-17 18:25:37.207483"
        },
        {
         "0": "Captive",
         "1": "2000000.0",
         "2": "2600000.0",
         "3": "97",
         "4": "2015-09-17",
         "5": "United States of America",
         "6": "1019 Entertainment",
         "7": "2025-05-17 18:25:37.207483"
        },
        {
         "0": "Captive",
         "1": "2000000.0",
         "2": "2600000.0",
         "3": "97",
         "4": "2015-09-17",
         "5": "United States of America",
         "6": "Brightside Entertainment",
         "7": "2025-05-17 18:25:37.207483"
        },
        {
         "0": "Captive",
         "1": "2000000.0",
         "2": "2600000.0",
         "3": "97",
         "4": "2015-09-17",
         "5": "United States of America",
         "6": "Itaca Films",
         "7": "2025-05-17 18:25:37.207483"
        },
        {
         "0": "Carlos",
         "1": "1.8E7",
         "2": "871279.0",
         "3": "338",
         "4": "2010-05-19",
         "5": "France",
         "6": "Egoli Tossell Film AG",
         "7": "2025-05-17 18:25:37.207483"
        },
        {
         "0": "Carlos",
         "1": "1.8E7",
         "2": "871279.0",
         "3": "338",
         "4": "2010-05-19",
         "5": "France",
         "6": "Arte France",
         "7": "2025-05-17 18:25:37.207483"
        },
        {
         "0": "Carlos",
         "1": "1.8E7",
         "2": "871279.0",
         "3": "338",
         "4": "2010-05-19",
         "5": "France",
         "6": "Canal+",
         "7": "2025-05-17 18:25:37.207483"
        },
        {
         "0": "Carlos",
         "1": "1.8E7",
         "2": "871279.0",
         "3": "338",
         "4": "2010-05-19",
         "5": "France",
         "6": "Films en Stock",
         "7": "2025-05-17 18:25:37.207483"
        },
        {
         "0": "Carlos",
         "1": "1.8E7",
         "2": "871279.0",
         "3": "338",
         "4": "2010-05-19",
         "5": "Germany",
         "6": "Egoli Tossell Film AG",
         "7": "2025-05-17 18:25:37.207483"
        },
        {
         "0": "Carlos",
         "1": "1.8E7",
         "2": "871279.0",
         "3": "338",
         "4": "2010-05-19",
         "5": "Germany",
         "6": "Arte France",
         "7": "2025-05-17 18:25:37.207483"
        },
        {
         "0": "Carlos",
         "1": "1.8E7",
         "2": "871279.0",
         "3": "338",
         "4": "2010-05-19",
         "5": "Germany",
         "6": "Canal+",
         "7": "2025-05-17 18:25:37.207483"
        },
        {
         "0": "Carlos",
         "1": "1.8E7",
         "2": "871279.0",
         "3": "338",
         "4": "2010-05-19",
         "5": "Germany",
         "6": "Films en Stock",
         "7": "2025-05-17 18:25:37.207483"
        },
        {
         "0": "Carnage",
         "1": "2.5E7",
         "2": "2.7603069E7",
         "3": "80",
         "4": "2011-09-16",
         "5": "Spain",
         "6": "Zanagar Films",
         "7": "2025-05-17 18:25:37.207483"
        },
        {
         "0": "Carnage",
         "1": "2.5E7",
         "2": "2.7603069E7",
         "3": "80",
         "4": "2011-09-16",
         "5": "Spain",
         "6": "Wild Bunch",
         "7": "2025-05-17 18:25:37.207483"
        },
        {
         "0": "Carnage",
         "1": "2.5E7",
         "2": "2.7603069E7",
         "3": "80",
         "4": "2011-09-16",
         "5": "Spain",
         "6": "SPI Film Studio",
         "7": "2025-05-17 18:25:37.207483"
        },
        {
         "0": "Carnage",
         "1": "2.5E7",
         "2": "2.7603069E7",
         "3": "80",
         "4": "2011-09-16",
         "5": "Spain",
         "6": "France 2 Cinu00e9ma",
         "7": "2025-05-17 18:25:37.207483"
        },
        {
         "0": "Carnage",
         "1": "2.5E7",
         "2": "2.7603069E7",
         "3": "80",
         "4": "2011-09-16",
         "5": "Spain",
         "6": "Versu00e1til Cinema",
         "7": "2025-05-17 18:25:37.207483"
        },
        {
         "0": "Carnage",
         "1": "2.5E7",
         "2": "2.7603069E7",
         "3": "80",
         "4": "2011-09-16",
         "5": "Spain",
         "6": "Cinu00e9Cinu00e9ma",
         "7": "2025-05-17 18:25:37.207483"
        },
        {
         "0": "Carnage",
         "1": "2.5E7",
         "2": "2.7603069E7",
         "3": "80",
         "4": "2011-09-16",
         "5": "Spain",
         "6": "Constantin Film Produktion",
         "7": "2025-05-17 18:25:37.207483"
        },
        {
         "0": "Carnage",
         "1": "2.5E7",
         "2": "2.7603069E7",
         "3": "80",
         "4": "2011-09-16",
         "5": "Spain",
         "6": "Canal+",
         "7": "2025-05-17 18:25:37.207483"
        },
        {
         "0": "Carnage",
         "1": "2.5E7",
         "2": "2.7603069E7",
         "3": "80",
         "4": "2011-09-16",
         "5": "Spain",
         "6": "France Tu00e9lu00e9visions",
         "7": "2025-05-17 18:25:37.207483"
        },
        {
         "0": "Carnage",
         "1": "2.5E7",
         "2": "2.7603069E7",
         "3": "80",
         "4": "2011-09-16",
         "5": "Spain",
         "6": "Polski Instytut Sztuki Filmowej",
         "7": "2025-05-17 18:25:37.207483"
        },
        {
         "0": "Carnage",
         "1": "2.5E7",
         "2": "2.7603069E7",
         "3": "80",
         "4": "2011-09-16",
         "5": "Spain",
         "6": "SBS Productions",
         "7": "2025-05-17 18:25:37.207483"
        },
        {
         "0": "Carnage",
         "1": "2.5E7",
         "2": "2.7603069E7",
         "3": "80",
         "4": "2011-09-16",
         "5": "France",
         "6": "Zanagar Films",
         "7": "2025-05-17 18:25:37.207483"
        },
        {
         "0": "Carnage",
         "1": "2.5E7",
         "2": "2.7603069E7",
         "3": "80",
         "4": "2011-09-16",
         "5": "France",
         "6": "Wild Bunch",
         "7": "2025-05-17 18:25:37.207483"
        },
        {
         "0": "Carnage",
         "1": "2.5E7",
         "2": "2.7603069E7",
         "3": "80",
         "4": "2011-09-16",
         "5": "France",
         "6": "SPI Film Studio",
         "7": "2025-05-17 18:25:37.207483"
        },
        {
         "0": "Carnage",
         "1": "2.5E7",
         "2": "2.7603069E7",
         "3": "80",
         "4": "2011-09-16",
         "5": "France",
         "6": "France 2 Cinu00e9ma",
         "7": "2025-05-17 18:25:37.207483"
        },
        {
         "0": "Carnage",
         "1": "2.5E7",
         "2": "2.7603069E7",
         "3": "80",
         "4": "2011-09-16",
         "5": "France",
         "6": "Versu00e1til Cinema",
         "7": "2025-05-17 18:25:37.207483"
        },
        {
         "0": "Carnage",
         "1": "2.5E7",
         "2": "2.7603069E7",
         "3": "80",
         "4": "2011-09-16",
         "5": "France",
         "6": "Cinu00e9Cinu00e9ma",
         "7": "2025-05-17 18:25:37.207483"
        },
        {
         "0": "Carnage",
         "1": "2.5E7",
         "2": "2.7603069E7",
         "3": "80",
         "4": "2011-09-16",
         "5": "France",
         "6": "Constantin Film Produktion",
         "7": "2025-05-17 18:25:37.207483"
        },
        {
         "0": "Carnage",
         "1": "2.5E7",
         "2": "2.7603069E7",
         "3": "80",
         "4": "2011-09-16",
         "5": "France",
         "6": "Canal+",
         "7": "2025-05-17 18:25:37.207483"
        },
        {
         "0": "Carnage",
         "1": "2.5E7",
         "2": "2.7603069E7",
         "3": "80",
         "4": "2011-09-16",
         "5": "France",
         "6": "France Tu00e9lu00e9visions",
         "7": "2025-05-17 18:25:37.207483"
        },
        {
         "0": "Carnage",
         "1": "2.5E7",
         "2": "2.7603069E7",
         "3": "80",
         "4": "2011-09-16",
         "5": "France",
         "6": "Polski Instytut Sztuki Filmowej",
         "7": "2025-05-17 18:25:37.207483"
        },
        {
         "0": "Carnage",
         "1": "2.5E7",
         "2": "2.7603069E7",
         "3": "80",
         "4": "2011-09-16",
         "5": "France",
         "6": "SBS Productions",
         "7": "2025-05-17 18:25:37.207483"
        },
        {
         "0": "Carnage",
         "1": "2.5E7",
         "2": "2.7603069E7",
         "3": "80",
         "4": "2011-09-16",
         "5": "Germany",
         "6": "Zanagar Films",
         "7": "2025-05-17 18:25:37.207483"
        },
        {
         "0": "Carnage",
         "1": "2.5E7",
         "2": "2.7603069E7",
         "3": "80",
         "4": "2011-09-16",
         "5": "Germany",
         "6": "Wild Bunch",
         "7": "2025-05-17 18:25:37.207483"
        },
        {
         "0": "Carnage",
         "1": "2.5E7",
         "2": "2.7603069E7",
         "3": "80",
         "4": "2011-09-16",
         "5": "Germany",
         "6": "SPI Film Studio",
         "7": "2025-05-17 18:25:37.207483"
        },
        {
         "0": "Carnage",
         "1": "2.5E7",
         "2": "2.7603069E7",
         "3": "80",
         "4": "2011-09-16",
         "5": "Germany",
         "6": "France 2 Cinu00e9ma",
         "7": "2025-05-17 18:25:37.207483"
        },
        {
         "0": "Carnage",
         "1": "2.5E7",
         "2": "2.7603069E7",
         "3": "80",
         "4": "2011-09-16",
         "5": "Germany",
         "6": "Versu00e1til Cinema",
         "7": "2025-05-17 18:25:37.207483"
        },
        {
         "0": "Carnage",
         "1": "2.5E7",
         "2": "2.7603069E7",
         "3": "80",
         "4": "2011-09-16",
         "5": "Germany",
         "6": "Cinu00e9Cinu00e9ma",
         "7": "2025-05-17 18:25:37.207483"
        },
        {
         "0": "Carnage",
         "1": "2.5E7",
         "2": "2.7603069E7",
         "3": "80",
         "4": "2011-09-16",
         "5": "Germany",
         "6": "Constantin Film Produktion",
         "7": "2025-05-17 18:25:37.207483"
        },
        {
         "0": "Carnage",
         "1": "2.5E7",
         "2": "2.7603069E7",
         "3": "80",
         "4": "2011-09-16",
         "5": "Germany",
         "6": "Canal+",
         "7": "2025-05-17 18:25:37.207483"
        },
        {
         "0": "Carnage",
         "1": "2.5E7",
         "2": "2.7603069E7",
         "3": "80",
         "4": "2011-09-16",
         "5": "Germany",
         "6": "France Tu00e9lu00e9visions",
         "7": "2025-05-17 18:25:37.207483"
        },
        {
         "0": "Carnage",
         "1": "2.5E7",
         "2": "2.7603069E7",
         "3": "80",
         "4": "2011-09-16",
         "5": "Germany",
         "6": "Polski Instytut Sztuki Filmowej",
         "7": "2025-05-17 18:25:37.207483"
        },
        {
         "0": "Carnage",
         "1": "2.5E7",
         "2": "2.7603069E7",
         "3": "80",
         "4": "2011-09-16",
         "5": "Germany",
         "6": "SBS Productions",
         "7": "2025-05-17 18:25:37.207483"
        },
        {
         "0": "Carnage",
         "1": "2.5E7",
         "2": "2.7603069E7",
         "3": "80",
         "4": "2011-09-16",
         "5": "Poland",
         "6": "Zanagar Films",
         "7": "2025-05-17 18:25:37.207483"
        },
        {
         "0": "Carnage",
         "1": "2.5E7",
         "2": "2.7603069E7",
         "3": "80",
         "4": "2011-09-16",
         "5": "Poland",
         "6": "Wild Bunch",
         "7": "2025-05-17 18:25:37.207483"
        },
        {
         "0": "Carnage",
         "1": "2.5E7",
         "2": "2.7603069E7",
         "3": "80",
         "4": "2011-09-16",
         "5": "Poland",
         "6": "SPI Film Studio",
         "7": "2025-05-17 18:25:37.207483"
        },
        {
         "0": "Carnage",
         "1": "2.5E7",
         "2": "2.7603069E7",
         "3": "80",
         "4": "2011-09-16",
         "5": "Poland",
         "6": "France 2 Cinu00e9ma",
         "7": "2025-05-17 18:25:37.207483"
        },
        {
         "0": "Carnage",
         "1": "2.5E7",
         "2": "2.7603069E7",
         "3": "80",
         "4": "2011-09-16",
         "5": "Poland",
         "6": "Versu00e1til Cinema",
         "7": "2025-05-17 18:25:37.207483"
        },
        {
         "0": "Carnage",
         "1": "2.5E7",
         "2": "2.7603069E7",
         "3": "80",
         "4": "2011-09-16",
         "5": "Poland",
         "6": "Cinu00e9Cinu00e9ma",
         "7": "2025-05-17 18:25:37.207483"
        },
        {
         "0": "Carnage",
         "1": "2.5E7",
         "2": "2.7603069E7",
         "3": "80",
         "4": "2011-09-16",
         "5": "Poland",
         "6": "Constantin Film Produktion",
         "7": "2025-05-17 18:25:37.207483"
        },
        {
         "0": "Carnage",
         "1": "2.5E7",
         "2": "2.7603069E7",
         "3": "80",
         "4": "2011-09-16",
         "5": "Poland",
         "6": "Canal+",
         "7": "2025-05-17 18:25:37.207483"
        },
        {
         "0": "Carnage",
         "1": "2.5E7",
         "2": "2.7603069E7",
         "3": "80",
         "4": "2011-09-16",
         "5": "Poland",
         "6": "France Tu00e9lu00e9visions",
         "7": "2025-05-17 18:25:37.207483"
        },
        {
         "0": "Carnage",
         "1": "2.5E7",
         "2": "2.7603069E7",
         "3": "80",
         "4": "2011-09-16",
         "5": "Poland",
         "6": "Polski Instytut Sztuki Filmowej",
         "7": "2025-05-17 18:25:37.207483"
        },
        {
         "0": "Carnage",
         "1": "2.5E7",
         "2": "2.7603069E7",
         "3": "80",
         "4": "2011-09-16",
         "5": "Poland",
         "6": "SBS Productions",
         "7": "2025-05-17 18:25:37.207483"
        },
        {
         "0": "Carrie",
         "1": "3.0E7",
         "2": "8.2394288E7",
         "3": "100",
         "4": "2013-10-16",
         "5": "United States of America",
         "6": "Metro-Goldwyn-Mayer (MGM)",
         "7": "2025-05-17 18:25:37.207483"
        },
        {
         "0": "Carrie",
         "1": "3.0E7",
         "2": "8.2394288E7",
         "3": "100",
         "4": "2013-10-16",
         "5": "United States of America",
         "6": "Screen Gems",
         "7": "2025-05-17 18:25:37.207483"
        },
        {
         "0": "Carrie",
         "1": "3.0E7",
         "2": "8.2394288E7",
         "3": "100",
         "4": "2013-10-16",
         "5": "United States of America",
         "6": "Misher Films",
         "7": "2025-05-17 18:25:37.207483"
        },
        {
         "0": "Cars 2",
         "1": "2.0E8",
         "2": "5.59852396E8",
         "3": "106",
         "4": "2011-06-11",
         "5": "United States of America",
         "6": "Pixar Animation Studios",
         "7": "2025-05-17 18:25:37.207483"
        },
        {
         "0": "Cars 2",
         "1": "2.0E8",
         "2": "5.59852396E8",
         "3": "106",
         "4": "2011-06-11",
         "5": "United States of America",
         "6": "Walt Disney Pictures",
         "7": "2025-05-17 18:25:37.207483"
        },
        {
         "0": "Casa De Mi Padre",
         "1": "2000000.0",
         "2": "2600000.0",
         "3": "84",
         "4": "2012-03-15",
         "5": "United States of America",
         "6": "NALA Films",
         "7": "2025-05-17 18:25:37.207483"
        },
        {
         "0": "Casa De Mi Padre",
         "1": "2000000.0",
         "2": "2600000.0",
         "3": "84",
         "4": "2012-03-15",
         "5": "United States of America",
         "6": "Lions Gate",
         "7": "2025-05-17 18:25:37.207483"
        },
        {
         "0": "Casa De Mi Padre",
         "1": "2000000.0",
         "2": "2600000.0",
         "3": "84",
         "4": "2012-03-15",
         "5": "United States of America",
         "6": "Gary Sanchez Productions",
         "7": "2025-05-17 18:25:37.207483"
        },
        {
         "0": "Casino Jack",
         "1": "1.25E7",
         "2": "1083683.0",
         "3": "108",
         "4": "2010-09-16",
         "5": "Canada",
         "6": "MCG",
         "7": "2025-05-17 18:25:37.207483"
        },
        {
         "0": "Casino Jack",
         "1": "1.25E7",
         "2": "1083683.0",
         "3": "108",
         "4": "2010-09-16",
         "5": "Canada",
         "6": "Bagman (2009)",
         "7": "2025-05-17 18:25:37.207483"
        },
        {
         "0": "Casino Jack",
         "1": "1.25E7",
         "2": "1083683.0",
         "3": "108",
         "4": "2010-09-16",
         "5": "Canada",
         "6": "Hannibal Pictures",
         "7": "2025-05-17 18:25:37.207483"
        },
        {
         "0": "Casino Jack",
         "1": "1.25E7",
         "2": "1083683.0",
         "3": "108",
         "4": "2010-09-16",
         "5": "Canada",
         "6": "Vortex Words Pictures",
         "7": "2025-05-17 18:25:37.207483"
        },
        {
         "0": "Casino Jack",
         "1": "1.25E7",
         "2": "1083683.0",
         "3": "108",
         "4": "2010-09-16",
         "5": "Canada",
         "6": "Rollercoaster Entertainment",
         "7": "2025-05-17 18:25:37.207483"
        },
        {
         "0": "Casino Jack",
         "1": "1.25E7",
         "2": "1083683.0",
         "3": "108",
         "4": "2010-09-16",
         "5": "Canada",
         "6": "An Olive Branch Productions",
         "7": "2025-05-17 18:25:37.207483"
        },
        {
         "0": "Casino Jack",
         "1": "1.25E7",
         "2": "1083683.0",
         "3": "108",
         "4": "2010-09-16",
         "5": "Canada",
         "6": "Trigger Street Productions",
         "7": "2025-05-17 18:25:37.207483"
        },
        {
         "0": "Cats & Dogs 2 : The Revenge of Kitty Galore",
         "1": "8.5E7",
         "2": "1.12483764E8",
         "3": "82",
         "4": "2010-07-30",
         "5": "United States of America",
         "6": "Village Roadshow Pictures",
         "7": "2025-05-17 18:25:37.207483"
        },
        {
         "0": "Cats & Dogs 2 : The Revenge of Kitty Galore",
         "1": "8.5E7",
         "2": "1.12483764E8",
         "3": "82",
         "4": "2010-07-30",
         "5": "Australia",
         "6": "Village Roadshow Pictures",
         "7": "2025-05-17 18:25:37.207483"
        },
        {
         "0": "Cedar Rapids",
         "1": "2000000.0",
         "2": "2600000.0",
         "3": "87",
         "4": "2011-02-11",
         "5": "United States of America",
         "6": "Ad Hominem Enterprises",
         "7": "2025-05-17 18:25:37.207483"
        },
        {
         "0": "Celeste & Jesse Forever",
         "1": "2000000.0",
         "2": "2600000.0",
         "3": "91",
         "4": "2012-08-03",
         "5": "United States of America",
         "6": "Team Todd",
         "7": "2025-05-17 18:25:37.207483"
        },
        {
         "0": "Censored Voices",
         "1": "2000000.0",
         "2": "2600000.0",
         "3": "84",
         "4": "2015-01-24",
         "5": "Germany",
         "6": "kNow Productions",
         "7": "2025-05-17 18:25:37.207483"
        },
        {
         "0": "Censored Voices",
         "1": "2000000.0",
         "2": "2600000.0",
         "3": "84",
         "4": "2015-01-24",
         "5": "Israel",
         "6": "kNow Productions",
         "7": "2025-05-17 18:25:37.207483"
        },
        {
         "0": "Central Intelligence",
         "1": "5.0E7",
         "2": "2.16972543E8",
         "3": "107",
         "4": "2016-06-15",
         "5": "United States of America",
         "6": "Universal Pictures",
         "7": "2025-05-17 18:25:37.207483"
        },
        {
         "0": "Central Intelligence",
         "1": "5.0E7",
         "2": "2.16972543E8",
         "3": "107",
         "4": "2016-06-15",
         "5": "United States of America",
         "6": "New Line Cinema",
         "7": "2025-05-17 18:25:37.207483"
        },
        {
         "0": "Central Intelligence",
         "1": "5.0E7",
         "2": "2.16972543E8",
         "3": "107",
         "4": "2016-06-15",
         "5": "United States of America",
         "6": "Principato-Young Entertainment",
         "7": "2025-05-17 18:25:37.207483"
        },
        {
         "0": "Central Intelligence",
         "1": "5.0E7",
         "2": "2.16972543E8",
         "3": "107",
         "4": "2016-06-15",
         "5": "United States of America",
         "6": "Bluegrass Films",
         "7": "2025-05-17 18:25:37.207483"
        },
        {
         "0": "Centurion",
         "1": "1.2E7",
         "2": "6814789.0",
         "3": "97",
         "4": "2010-02-15",
         "5": "France",
         "6": "UK Film Council",
         "7": "2025-05-17 18:25:37.207483"
        },
        {
         "0": "Centurion",
         "1": "1.2E7",
         "2": "6814789.0",
         "3": "97",
         "4": "2010-02-15",
         "5": "France",
         "6": "Pathu00e9 Pictures International",
         "7": "2025-05-17 18:25:37.207483"
        },
        {
         "0": "Centurion",
         "1": "1.2E7",
         "2": "6814789.0",
         "3": "97",
         "4": "2010-02-15",
         "5": "France",
         "6": "Cinu00e9Cinu00e9ma",
         "7": "2025-05-17 18:25:37.207483"
        },
        {
         "0": "Centurion",
         "1": "1.2E7",
         "2": "6814789.0",
         "3": "97",
         "4": "2010-02-15",
         "5": "France",
         "6": "Warner Bros.",
         "7": "2025-05-17 18:25:37.207483"
        },
        {
         "0": "Centurion",
         "1": "1.2E7",
         "2": "6814789.0",
         "3": "97",
         "4": "2010-02-15",
         "5": "France",
         "6": "Canal+",
         "7": "2025-05-17 18:25:37.207483"
        },
        {
         "0": "Centurion",
         "1": "1.2E7",
         "2": "6814789.0",
         "3": "97",
         "4": "2010-02-15",
         "5": "France",
         "6": "Celador Films",
         "7": "2025-05-17 18:25:37.207483"
        },
        {
         "0": "Centurion",
         "1": "1.2E7",
         "2": "6814789.0",
         "3": "97",
         "4": "2010-02-15",
         "5": "United Kingdom",
         "6": "UK Film Council",
         "7": "2025-05-17 18:25:37.207483"
        },
        {
         "0": "Centurion",
         "1": "1.2E7",
         "2": "6814789.0",
         "3": "97",
         "4": "2010-02-15",
         "5": "United Kingdom",
         "6": "Pathu00e9 Pictures International",
         "7": "2025-05-17 18:25:37.207483"
        },
        {
         "0": "Centurion",
         "1": "1.2E7",
         "2": "6814789.0",
         "3": "97",
         "4": "2010-02-15",
         "5": "United Kingdom",
         "6": "Cinu00e9Cinu00e9ma",
         "7": "2025-05-17 18:25:37.207483"
        },
        {
         "0": "Centurion",
         "1": "1.2E7",
         "2": "6814789.0",
         "3": "97",
         "4": "2010-02-15",
         "5": "United Kingdom",
         "6": "Warner Bros.",
         "7": "2025-05-17 18:25:37.207483"
        },
        {
         "0": "Centurion",
         "1": "1.2E7",
         "2": "6814789.0",
         "3": "97",
         "4": "2010-02-15",
         "5": "United Kingdom",
         "6": "Canal+",
         "7": "2025-05-17 18:25:37.207483"
        },
        {
         "0": "Centurion",
         "1": "1.2E7",
         "2": "6814789.0",
         "3": "97",
         "4": "2010-02-15",
         "5": "United Kingdom",
         "6": "Celador Films",
         "7": "2025-05-17 18:25:37.207483"
        },
        {
         "0": "Chain Letter",
         "1": "2000000.0",
         "2": "2600000.0",
         "3": "96",
         "4": "2010-10-01",
         "5": "United States of America",
         "6": "Deon Taylor Enterprises",
         "7": "2025-05-17 18:25:37.207483"
        },
        {
         "0": "Chain Letter",
         "1": "2000000.0",
         "2": "2600000.0",
         "3": "96",
         "4": "2010-10-01",
         "5": "United States of America",
         "6": "Tiger Tail Entertainment",
         "7": "2025-05-17 18:25:37.207483"
        },
        {
         "0": "Chain of Command",
         "1": "5000000.0",
         "2": "6250000.0",
         "3": "88",
         "4": "2015-08-30",
         "5": "United States of America",
         "6": "Dog and Pony Media",
         "7": "2025-05-17 18:25:37.207483"
        },
        {
         "0": "Chain of Command",
         "1": "5000000.0",
         "2": "6250000.0",
         "3": "88",
         "4": "2015-08-30",
         "5": "United States of America",
         "6": "Clear Lake Entertainment",
         "7": "2025-05-17 18:25:37.207483"
        },
        {
         "0": "Chain of Command",
         "1": "5000000.0",
         "2": "6250000.0",
         "3": "88",
         "4": "2015-08-30",
         "5": "United States of America",
         "6": "LionsGate",
         "7": "2025-05-17 18:25:37.207483"
        },
        {
         "0": "Chain of Command",
         "1": "5000000.0",
         "2": "6250000.0",
         "3": "88",
         "4": "2015-08-30",
         "5": "United States of America",
         "6": "Hollywood Media Bridge",
         "7": "2025-05-17 18:25:37.207483"
        },
        {
         "0": "Chappie",
         "1": "4.9E7",
         "2": "1.04399548E8",
         "3": "120",
         "4": "2015-03-04",
         "5": "Mexico",
         "6": "Media Rights Capital",
         "7": "2025-05-17 18:25:37.207483"
        },
        {
         "0": "Chappie",
         "1": "4.9E7",
         "2": "1.04399548E8",
         "3": "120",
         "4": "2015-03-04",
         "5": "Mexico",
         "6": "Columbia Pictures",
         "7": "2025-05-17 18:25:37.207483"
        },
        {
         "0": "Chappie",
         "1": "4.9E7",
         "2": "1.04399548E8",
         "3": "120",
         "4": "2015-03-04",
         "5": "Mexico",
         "6": "LStar Capital",
         "7": "2025-05-17 18:25:37.207483"
        },
        {
         "0": "Chappie",
         "1": "4.9E7",
         "2": "1.04399548E8",
         "3": "120",
         "4": "2015-03-04",
         "5": "Mexico",
         "6": "Simon Kinberg Productions",
         "7": "2025-05-17 18:25:37.207483"
        },
        {
         "0": "Chappie",
         "1": "4.9E7",
         "2": "1.04399548E8",
         "3": "120",
         "4": "2015-03-04",
         "5": "Mexico",
         "6": "Genre Films",
         "7": "2025-05-17 18:25:37.207483"
        },
        {
         "0": "Chappie",
         "1": "4.9E7",
         "2": "1.04399548E8",
         "3": "120",
         "4": "2015-03-04",
         "5": "Mexico",
         "6": "Ollin Studio",
         "7": "2025-05-17 18:25:37.207483"
        },
        {
         "0": "Chappie",
         "1": "4.9E7",
         "2": "1.04399548E8",
         "3": "120",
         "4": "2015-03-04",
         "5": "Mexico",
         "6": "Sony Pictures Entertainment (SPE)",
         "7": "2025-05-17 18:25:37.207483"
        },
        {
         "0": "Chappie",
         "1": "4.9E7",
         "2": "1.04399548E8",
         "3": "120",
         "4": "2015-03-04",
         "5": "Mexico",
         "6": "Alpha Core",
         "7": "2025-05-17 18:25:37.207483"
        },
        {
         "0": "Chappie",
         "1": "4.9E7",
         "2": "1.04399548E8",
         "3": "120",
         "4": "2015-03-04",
         "5": "South Africa",
         "6": "Media Rights Capital",
         "7": "2025-05-17 18:25:37.207483"
        },
        {
         "0": "Chappie",
         "1": "4.9E7",
         "2": "1.04399548E8",
         "3": "120",
         "4": "2015-03-04",
         "5": "South Africa",
         "6": "Columbia Pictures",
         "7": "2025-05-17 18:25:37.207483"
        },
        {
         "0": "Chappie",
         "1": "4.9E7",
         "2": "1.04399548E8",
         "3": "120",
         "4": "2015-03-04",
         "5": "South Africa",
         "6": "LStar Capital",
         "7": "2025-05-17 18:25:37.207483"
        },
        {
         "0": "Chappie",
         "1": "4.9E7",
         "2": "1.04399548E8",
         "3": "120",
         "4": "2015-03-04",
         "5": "South Africa",
         "6": "Simon Kinberg Productions",
         "7": "2025-05-17 18:25:37.207483"
        },
        {
         "0": "Chappie",
         "1": "4.9E7",
         "2": "1.04399548E8",
         "3": "120",
         "4": "2015-03-04",
         "5": "South Africa",
         "6": "Genre Films",
         "7": "2025-05-17 18:25:37.207483"
        },
        {
         "0": "Chappie",
         "1": "4.9E7",
         "2": "1.04399548E8",
         "3": "120",
         "4": "2015-03-04",
         "5": "South Africa",
         "6": "Ollin Studio",
         "7": "2025-05-17 18:25:37.207483"
        },
        {
         "0": "Chappie",
         "1": "4.9E7",
         "2": "1.04399548E8",
         "3": "120",
         "4": "2015-03-04",
         "5": "South Africa",
         "6": "Sony Pictures Entertainment (SPE)",
         "7": "2025-05-17 18:25:37.207483"
        },
        {
         "0": "Chappie",
         "1": "4.9E7",
         "2": "1.04399548E8",
         "3": "120",
         "4": "2015-03-04",
         "5": "South Africa",
         "6": "Alpha Core",
         "7": "2025-05-17 18:25:37.207483"
        },
        {
         "0": "Chappie",
         "1": "4.9E7",
         "2": "1.04399548E8",
         "3": "120",
         "4": "2015-03-04",
         "5": "United States of America",
         "6": "Media Rights Capital",
         "7": "2025-05-17 18:25:37.207483"
        },
        {
         "0": "Chappie",
         "1": "4.9E7",
         "2": "1.04399548E8",
         "3": "120",
         "4": "2015-03-04",
         "5": "United States of America",
         "6": "Columbia Pictures",
         "7": "2025-05-17 18:25:37.207483"
        },
        {
         "0": "Chappie",
         "1": "4.9E7",
         "2": "1.04399548E8",
         "3": "120",
         "4": "2015-03-04",
         "5": "United States of America",
         "6": "LStar Capital",
         "7": "2025-05-17 18:25:37.207483"
        },
        {
         "0": "Chappie",
         "1": "4.9E7",
         "2": "1.04399548E8",
         "3": "120",
         "4": "2015-03-04",
         "5": "United States of America",
         "6": "Simon Kinberg Productions",
         "7": "2025-05-17 18:25:37.207483"
        },
        {
         "0": "Chappie",
         "1": "4.9E7",
         "2": "1.04399548E8",
         "3": "120",
         "4": "2015-03-04",
         "5": "United States of America",
         "6": "Genre Films",
         "7": "2025-05-17 18:25:37.207483"
        },
        {
         "0": "Chappie",
         "1": "4.9E7",
         "2": "1.04399548E8",
         "3": "120",
         "4": "2015-03-04",
         "5": "United States of America",
         "6": "Ollin Studio",
         "7": "2025-05-17 18:25:37.207483"
        },
        {
         "0": "Chappie",
         "1": "4.9E7",
         "2": "1.04399548E8",
         "3": "120",
         "4": "2015-03-04",
         "5": "United States of America",
         "6": "Sony Pictures Entertainment (SPE)",
         "7": "2025-05-17 18:25:37.207483"
        },
        {
         "0": "Chappie",
         "1": "4.9E7",
         "2": "1.04399548E8",
         "3": "120",
         "4": "2015-03-04",
         "5": "United States of America",
         "6": "Alpha Core",
         "7": "2025-05-17 18:25:37.207483"
        },
        {
         "0": "Charlie St. Cloud",
         "1": "4.4E7",
         "2": "4.8190704E7",
         "3": "99",
         "4": "2010-05-01",
         "5": "United States of America",
         "6": "Marc Platt Productions",
         "7": "2025-05-17 18:25:37.207483"
        },
        {
         "0": "Charlie St. Cloud",
         "1": "4.4E7",
         "2": "4.8190704E7",
         "3": "99",
         "4": "2010-05-01",
         "5": "United States of America",
         "6": "Universal Pictures",
         "7": "2025-05-17 18:25:37.207483"
        },
        {
         "0": "Charlie St. Cloud",
         "1": "4.4E7",
         "2": "4.8190704E7",
         "3": "99",
         "4": "2010-05-01",
         "5": "United States of America",
         "6": "Relativity Media",
         "7": "2025-05-17 18:25:37.207483"
        },
        {
         "0": "Chasing Mavericks",
         "1": "2000000.0",
         "2": "2600000.0",
         "3": "117",
         "4": "2012-10-25",
         "5": "United States of America",
         "6": "Fox 2000 Pictures",
         "7": "2025-05-17 18:25:37.207483"
        },
        {
         "0": "Chasing Mavericks",
         "1": "2000000.0",
         "2": "2600000.0",
         "3": "117",
         "4": "2012-10-25",
         "5": "United States of America",
         "6": "Walden Media",
         "7": "2025-05-17 18:25:37.207483"
        },
        {
         "0": "Cheap Thrills",
         "1": "2000000.0",
         "2": "2600000.0",
         "3": "85",
         "4": "2013-03-08",
         "5": "United States of America",
         "6": "Snowfort Pictures",
         "7": "2025-05-17 18:25:37.207483"
        },
        {
         "0": "Cheap Thrills",
         "1": "2000000.0",
         "2": "2600000.0",
         "3": "85",
         "4": "2013-03-08",
         "5": "United States of America",
         "6": "New Artists Alliance",
         "7": "2025-05-17 18:25:37.207483"
        },
        {
         "0": "Checkmate",
         "1": "2000000.0",
         "2": "2600000.0",
         "3": "102",
         "4": "2015-07-03",
         "5": "United States of America",
         "6": "Status Media & Entertainment",
         "7": "2025-05-17 18:25:37.207483"
        },
        {
         "0": "Checkmate",
         "1": "2000000.0",
         "2": "2600000.0",
         "3": "102",
         "4": "2015-07-03",
         "5": "United States of America",
         "6": "Puppy Entertainment",
         "7": "2025-05-17 18:25:37.207483"
        },
        {
         "0": "Chernobyl Diaries",
         "1": "2000000.0",
         "2": "2600000.0",
         "3": "88",
         "4": "2012-05-24",
         "5": "United States of America",
         "6": "Alcon Entertainment",
         "7": "2025-05-17 18:25:37.207483"
        },
        {
         "0": "Chernobyl Diaries",
         "1": "2000000.0",
         "2": "2600000.0",
         "3": "88",
         "4": "2012-05-24",
         "5": "United States of America",
         "6": "FilmNation Entertainment",
         "7": "2025-05-17 18:25:37.207483"
        },
        {
         "0": "Chernobyl Diaries",
         "1": "2000000.0",
         "2": "2600000.0",
         "3": "88",
         "4": "2012-05-24",
         "5": "United States of America",
         "6": "Oren Peli / Brian Witten Pictures",
         "7": "2025-05-17 18:25:37.207483"
        },
        {
         "0": "Chiamatemi Francesco - Il Papa della gente",
         "1": "1.5E7",
         "2": "1.875E7",
         "3": "75",
         "4": "2015-12-03",
         "5": "Italy",
         "6": "Taodue Film",
         "7": "2025-05-17 18:25:37.207483"
        },
        {
         "0": "Child 44",
         "1": "5.0E7",
         "2": "3324330.0",
         "3": "137",
         "4": "2015-03-15",
         "5": "United Kingdom",
         "6": "Scott Free Productions",
         "7": "2025-05-17 18:25:37.207483"
        },
        {
         "0": "Child 44",
         "1": "5.0E7",
         "2": "3324330.0",
         "3": "137",
         "4": "2015-03-15",
         "5": "United Kingdom",
         "6": "Summit Entertainment",
         "7": "2025-05-17 18:25:37.207483"
        },
        {
         "0": "Child 44",
         "1": "5.0E7",
         "2": "3324330.0",
         "3": "137",
         "4": "2015-03-15",
         "5": "United Kingdom",
         "6": "Worldview Entertainment",
         "7": "2025-05-17 18:25:37.207483"
        },
        {
         "0": "Child 44",
         "1": "5.0E7",
         "2": "3324330.0",
         "3": "137",
         "4": "2015-03-15",
         "5": "United States of America",
         "6": "Scott Free Productions",
         "7": "2025-05-17 18:25:37.207483"
        },
        {
         "0": "Child 44",
         "1": "5.0E7",
         "2": "3324330.0",
         "3": "137",
         "4": "2015-03-15",
         "5": "United States of America",
         "6": "Summit Entertainment",
         "7": "2025-05-17 18:25:37.207483"
        },
        {
         "0": "Child 44",
         "1": "5.0E7",
         "2": "3324330.0",
         "3": "137",
         "4": "2015-03-15",
         "5": "United States of America",
         "6": "Worldview Entertainment",
         "7": "2025-05-17 18:25:37.207483"
        }
       ],
       "schema": [
        {
         "key": "0",
         "name": "title",
         "type": "string"
        },
        {
         "key": "1",
         "name": "budget",
         "type": "double"
        },
        {
         "key": "2",
         "name": "revenue",
         "type": "double"
        },
        {
         "key": "3",
         "name": "duration_time",
         "type": "int"
        },
        {
         "key": "4",
         "name": "release_date",
         "type": "date"
        },
        {
         "key": "5",
         "name": "country_name",
         "type": "string"
        },
        {
         "key": "6",
         "name": "company_name",
         "type": "string"
        },
        {
         "key": "7",
         "name": "created_date",
         "type": "timestamp"
        }
       ],
       "truncated": false
      },
      "wranglerEntryContext": {
       "dataframeType": "pyspark"
      }
     },
     "type": "Synapse.DataFrame"
    },
    "87865168-5344-4ec9-b2ef-b28e2b31f64a": {
     "persist_state": {
      "view": {
       "chartOptions": {
        "aggregationType": "sum",
        "binsNumber": 10,
        "categoryFieldKeys": [
         "0"
        ],
        "chartType": "bar",
        "evaluatesOverAllRecords": false,
        "isStacked": false,
        "seriesFieldKeys": [
         "3"
        ],
        "wordFrequency": "-1"
       },
       "tableOptions": {},
       "type": "details",
       "viewOptionsGroup": [
        {
         "tabItems": [
          {
           "key": "0",
           "name": "Table",
           "options": {},
           "type": "table"
          }
         ]
        }
       ]
      }
     },
     "sync_state": {
      "isSummary": false,
      "language": "scala",
      "table": {
       "rows": [
        {
         "0": "#Horror",
         "1": "1500000.0",
         "2": "1875000.0",
         "3": "90",
         "4": "2015-11-20",
         "5": "United States of America",
         "6": "AST Studios",
         "7": "2025-05-17 18:23:31.233017"
        },
        {
         "0": "#Horror",
         "1": "1500000.0",
         "2": "1875000.0",
         "3": "90",
         "4": "2015-11-20",
         "5": "United States of America",
         "6": "Lowland Pictures",
         "7": "2025-05-17 18:23:31.233017"
        },
        {
         "0": "12 Years a Slave",
         "1": "2.0E7",
         "2": "1.87E8",
         "3": "134",
         "4": "2013-10-18",
         "5": "United Kingdom",
         "6": "Film4",
         "7": "2025-05-17 18:23:31.233017"
        },
        {
         "0": "12 Years a Slave",
         "1": "2.0E7",
         "2": "1.87E8",
         "3": "134",
         "4": "2013-10-18",
         "5": "United States of America",
         "6": "Film4",
         "7": "2025-05-17 18:23:31.233017"
        },
        {
         "0": "12 Years a Slave",
         "1": "2.0E7",
         "2": "1.87E8",
         "3": "134",
         "4": "2013-10-18",
         "5": "United Kingdom",
         "6": "New Regency Pictures",
         "7": "2025-05-17 18:23:31.233017"
        },
        {
         "0": "12 Years a Slave",
         "1": "2.0E7",
         "2": "1.87E8",
         "3": "134",
         "4": "2013-10-18",
         "5": "United States of America",
         "6": "New Regency Pictures",
         "7": "2025-05-17 18:23:31.233017"
        },
        {
         "0": "12 Years a Slave",
         "1": "2.0E7",
         "2": "1.87E8",
         "3": "134",
         "4": "2013-10-18",
         "5": "United Kingdom",
         "6": "Plan B Entertainment",
         "7": "2025-05-17 18:23:31.233017"
        },
        {
         "0": "12 Years a Slave",
         "1": "2.0E7",
         "2": "1.87E8",
         "3": "134",
         "4": "2013-10-18",
         "5": "United States of America",
         "6": "Plan B Entertainment",
         "7": "2025-05-17 18:23:31.233017"
        },
        {
         "0": "12 Years a Slave",
         "1": "2.0E7",
         "2": "1.87E8",
         "3": "134",
         "4": "2013-10-18",
         "5": "United Kingdom",
         "6": "Regency Enterprises",
         "7": "2025-05-17 18:23:31.233017"
        },
        {
         "0": "12 Years a Slave",
         "1": "2.0E7",
         "2": "1.87E8",
         "3": "134",
         "4": "2013-10-18",
         "5": "United States of America",
         "6": "Regency Enterprises",
         "7": "2025-05-17 18:23:31.233017"
        },
        {
         "0": "12 Years a Slave",
         "1": "2.0E7",
         "2": "1.87E8",
         "3": "134",
         "4": "2013-10-18",
         "5": "United Kingdom",
         "6": "River Road Entertainment",
         "7": "2025-05-17 18:23:31.233017"
        },
        {
         "0": "12 Years a Slave",
         "1": "2.0E7",
         "2": "1.87E8",
         "3": "134",
         "4": "2013-10-18",
         "5": "United States of America",
         "6": "River Road Entertainment",
         "7": "2025-05-17 18:23:31.233017"
        },
        {
         "0": "127 Hours",
         "1": "1.8E7",
         "2": "3.569292E7",
         "3": "94",
         "4": "2010-11-05",
         "5": "United States of America",
         "6": "HandMade Films",
         "7": "2025-05-17 18:23:31.233017"
        },
        {
         "0": "127 Hours",
         "1": "1.8E7",
         "2": "3.569292E7",
         "3": "94",
         "4": "2010-11-05",
         "5": "United Kingdom",
         "6": "HandMade Films",
         "7": "2025-05-17 18:23:31.233017"
        },
        {
         "0": "127 Hours",
         "1": "1.8E7",
         "2": "3.569292E7",
         "3": "94",
         "4": "2010-11-05",
         "5": "United States of America",
         "6": "Film4",
         "7": "2025-05-17 18:23:31.233017"
        },
        {
         "0": "127 Hours",
         "1": "1.8E7",
         "2": "3.569292E7",
         "3": "94",
         "4": "2010-11-05",
         "5": "United Kingdom",
         "6": "Film4",
         "7": "2025-05-17 18:23:31.233017"
        },
        {
         "0": "127 Hours",
         "1": "1.8E7",
         "2": "3.569292E7",
         "3": "94",
         "4": "2010-11-05",
         "5": "United States of America",
         "6": "Everest Entertainment",
         "7": "2025-05-17 18:23:31.233017"
        },
        {
         "0": "127 Hours",
         "1": "1.8E7",
         "2": "3.569292E7",
         "3": "94",
         "4": "2010-11-05",
         "5": "United Kingdom",
         "6": "Everest Entertainment",
         "7": "2025-05-17 18:23:31.233017"
        },
        {
         "0": "127 Hours",
         "1": "1.8E7",
         "2": "3.569292E7",
         "3": "94",
         "4": "2010-11-05",
         "5": "United States of America",
         "6": "Fox Searchlight Pictures",
         "7": "2025-05-17 18:23:31.233017"
        },
        {
         "0": "127 Hours",
         "1": "1.8E7",
         "2": "3.569292E7",
         "3": "94",
         "4": "2010-11-05",
         "5": "United Kingdom",
         "6": "Fox Searchlight Pictures",
         "7": "2025-05-17 18:23:31.233017"
        },
        {
         "0": "127 Hours",
         "1": "1.8E7",
         "2": "3.569292E7",
         "3": "94",
         "4": "2010-11-05",
         "5": "United States of America",
         "6": "Warner Bros.",
         "7": "2025-05-17 18:23:31.233017"
        },
        {
         "0": "127 Hours",
         "1": "1.8E7",
         "2": "3.569292E7",
         "3": "94",
         "4": "2010-11-05",
         "5": "United Kingdom",
         "6": "Warner Bros.",
         "7": "2025-05-17 18:23:31.233017"
        },
        {
         "0": "127 Hours",
         "1": "1.8E7",
         "2": "3.569292E7",
         "3": "94",
         "4": "2010-11-05",
         "5": "United States of America",
         "6": "Cloud Eight Films",
         "7": "2025-05-17 18:23:31.233017"
        },
        {
         "0": "127 Hours",
         "1": "1.8E7",
         "2": "3.569292E7",
         "3": "94",
         "4": "2010-11-05",
         "5": "United Kingdom",
         "6": "Cloud Eight Films",
         "7": "2025-05-17 18:23:31.233017"
        },
        {
         "0": "127 Hours",
         "1": "1.8E7",
         "2": "3.569292E7",
         "3": "94",
         "4": "2010-11-05",
         "5": "United States of America",
         "6": "Pathu00e9",
         "7": "2025-05-17 18:23:31.233017"
        },
        {
         "0": "127 Hours",
         "1": "1.8E7",
         "2": "3.569292E7",
         "3": "94",
         "4": "2010-11-05",
         "5": "United Kingdom",
         "6": "Pathu00e9",
         "7": "2025-05-17 18:23:31.233017"
        },
        {
         "0": "13 Hours: The Secret Soldiers of Benghazi",
         "1": "5.0E7",
         "2": "6.941137E7",
         "3": "144",
         "4": "2016-01-13",
         "5": "United States of America",
         "6": "Latina Pictures",
         "7": "2025-05-17 18:23:31.233017"
        },
        {
         "0": "13 Hours: The Secret Soldiers of Benghazi",
         "1": "5.0E7",
         "2": "6.941137E7",
         "3": "144",
         "4": "2016-01-13",
         "5": "Morocco",
         "6": "Latina Pictures",
         "7": "2025-05-17 18:23:31.233017"
        },
        {
         "0": "13 Hours: The Secret Soldiers of Benghazi",
         "1": "5.0E7",
         "2": "6.941137E7",
         "3": "144",
         "4": "2016-01-13",
         "5": "Malta",
         "6": "Latina Pictures",
         "7": "2025-05-17 18:23:31.233017"
        },
        {
         "0": "13 Hours: The Secret Soldiers of Benghazi",
         "1": "5.0E7",
         "2": "6.941137E7",
         "3": "144",
         "4": "2016-01-13",
         "5": "United States of America",
         "6": "Dune Films",
         "7": "2025-05-17 18:23:31.233017"
        },
        {
         "0": "13 Hours: The Secret Soldiers of Benghazi",
         "1": "5.0E7",
         "2": "6.941137E7",
         "3": "144",
         "4": "2016-01-13",
         "5": "Morocco",
         "6": "Dune Films",
         "7": "2025-05-17 18:23:31.233017"
        },
        {
         "0": "13 Hours: The Secret Soldiers of Benghazi",
         "1": "5.0E7",
         "2": "6.941137E7",
         "3": "144",
         "4": "2016-01-13",
         "5": "Malta",
         "6": "Dune Films",
         "7": "2025-05-17 18:23:31.233017"
        },
        {
         "0": "13 Hours: The Secret Soldiers of Benghazi",
         "1": "5.0E7",
         "2": "6.941137E7",
         "3": "144",
         "4": "2016-01-13",
         "5": "United States of America",
         "6": "Paramount Pictures",
         "7": "2025-05-17 18:23:31.233017"
        },
        {
         "0": "13 Hours: The Secret Soldiers of Benghazi",
         "1": "5.0E7",
         "2": "6.941137E7",
         "3": "144",
         "4": "2016-01-13",
         "5": "Morocco",
         "6": "Paramount Pictures",
         "7": "2025-05-17 18:23:31.233017"
        },
        {
         "0": "13 Hours: The Secret Soldiers of Benghazi",
         "1": "5.0E7",
         "2": "6.941137E7",
         "3": "144",
         "4": "2016-01-13",
         "5": "Malta",
         "6": "Paramount Pictures",
         "7": "2025-05-17 18:23:31.233017"
        },
        {
         "0": "13 Hours: The Secret Soldiers of Benghazi",
         "1": "5.0E7",
         "2": "6.941137E7",
         "3": "144",
         "4": "2016-01-13",
         "5": "United States of America",
         "6": "3 Arts Entertainment",
         "7": "2025-05-17 18:23:31.233017"
        },
        {
         "0": "13 Hours: The Secret Soldiers of Benghazi",
         "1": "5.0E7",
         "2": "6.941137E7",
         "3": "144",
         "4": "2016-01-13",
         "5": "Morocco",
         "6": "3 Arts Entertainment",
         "7": "2025-05-17 18:23:31.233017"
        },
        {
         "0": "13 Hours: The Secret Soldiers of Benghazi",
         "1": "5.0E7",
         "2": "6.941137E7",
         "3": "144",
         "4": "2016-01-13",
         "5": "Malta",
         "6": "3 Arts Entertainment",
         "7": "2025-05-17 18:23:31.233017"
        },
        {
         "0": "13 Hours: The Secret Soldiers of Benghazi",
         "1": "5.0E7",
         "2": "6.941137E7",
         "3": "144",
         "4": "2016-01-13",
         "5": "United States of America",
         "6": "Bay Films",
         "7": "2025-05-17 18:23:31.233017"
        },
        {
         "0": "13 Hours: The Secret Soldiers of Benghazi",
         "1": "5.0E7",
         "2": "6.941137E7",
         "3": "144",
         "4": "2016-01-13",
         "5": "Morocco",
         "6": "Bay Films",
         "7": "2025-05-17 18:23:31.233017"
        },
        {
         "0": "13 Hours: The Secret Soldiers of Benghazi",
         "1": "5.0E7",
         "2": "6.941137E7",
         "3": "144",
         "4": "2016-01-13",
         "5": "Malta",
         "6": "Bay Films",
         "7": "2025-05-17 18:23:31.233017"
        },
        {
         "0": "2 Guns",
         "1": "6.1E7",
         "2": "1.31940411E8",
         "3": "109",
         "4": "2013-08-02",
         "5": "United States of America",
         "6": "Emmett/Furla Films",
         "7": "2025-05-17 18:23:31.233017"
        },
        {
         "0": "2 Guns",
         "1": "6.1E7",
         "2": "1.31940411E8",
         "3": "109",
         "4": "2013-08-02",
         "5": "United States of America",
         "6": "Envision Entertainment Corporation",
         "7": "2025-05-17 18:23:31.233017"
        },
        {
         "0": "2 Guns",
         "1": "6.1E7",
         "2": "1.31940411E8",
         "3": "109",
         "4": "2013-08-02",
         "5": "United States of America",
         "6": "Universal Studios",
         "7": "2025-05-17 18:23:31.233017"
        },
        {
         "0": "2 Guns",
         "1": "6.1E7",
         "2": "1.31940411E8",
         "3": "109",
         "4": "2013-08-02",
         "5": "United States of America",
         "6": "Marc Platt Productions",
         "7": "2025-05-17 18:23:31.233017"
        },
        {
         "0": "20 Feet from Stardom",
         "1": "1000000.0",
         "2": "1250000.0",
         "3": "89",
         "4": "2013-06-14",
         "5": "United States of America",
         "6": "Tremolo Productions",
         "7": "2025-05-17 18:23:31.233017"
        },
        {
         "0": "21 & Over",
         "1": "1.3E7",
         "2": "4.8065672E7",
         "3": "93",
         "4": "2013-03-01",
         "5": "United States of America",
         "6": "SkyLand Entertainment",
         "7": "2025-05-17 18:23:31.233017"
        },
        {
         "0": "21 & Over",
         "1": "1.3E7",
         "2": "4.8065672E7",
         "3": "93",
         "4": "2013-03-01",
         "5": "United States of America",
         "6": "Virgin Produced",
         "7": "2025-05-17 18:23:31.233017"
        },
        {
         "0": "21 & Over",
         "1": "1.3E7",
         "2": "4.8065672E7",
         "3": "93",
         "4": "2013-03-01",
         "5": "United States of America",
         "6": "Mandeville Films",
         "7": "2025-05-17 18:23:31.233017"
        },
        {
         "0": "21 & Over",
         "1": "1.3E7",
         "2": "4.8065672E7",
         "3": "93",
         "4": "2013-03-01",
         "5": "United States of America",
         "6": "Relativity Media",
         "7": "2025-05-17 18:23:31.233017"
        },
        {
         "0": "21 Jump Street",
         "1": "4.2E7",
         "2": "2.01585328E8",
         "3": "109",
         "4": "2012-03-12",
         "5": "United States of America",
         "6": "Columbia Pictures",
         "7": "2025-05-17 18:23:31.233017"
        },
        {
         "0": "21 Jump Street",
         "1": "4.2E7",
         "2": "2.01585328E8",
         "3": "109",
         "4": "2012-03-12",
         "5": "United States of America",
         "6": "Original Film",
         "7": "2025-05-17 18:23:31.233017"
        },
        {
         "0": "21 Jump Street",
         "1": "4.2E7",
         "2": "2.01585328E8",
         "3": "109",
         "4": "2012-03-12",
         "5": "United States of America",
         "6": "Stephen J. Cannell Productions",
         "7": "2025-05-17 18:23:31.233017"
        },
        {
         "0": "21 Jump Street",
         "1": "4.2E7",
         "2": "2.01585328E8",
         "3": "109",
         "4": "2012-03-12",
         "5": "United States of America",
         "6": "Relativity Media",
         "7": "2025-05-17 18:23:31.233017"
        },
        {
         "0": "21 Jump Street",
         "1": "4.2E7",
         "2": "2.01585328E8",
         "3": "109",
         "4": "2012-03-12",
         "5": "United States of America",
         "6": "Metro-Goldwyn-Mayer (MGM)",
         "7": "2025-05-17 18:23:31.233017"
        },
        {
         "0": "22 Jump Street",
         "1": "5.0E7",
         "2": "1.88441614E8",
         "3": "112",
         "4": "2014-06-05",
         "5": "United States of America",
         "6": "LStar Capital",
         "7": "2025-05-17 18:23:31.233017"
        },
        {
         "0": "22 Jump Street",
         "1": "5.0E7",
         "2": "1.88441614E8",
         "3": "112",
         "4": "2014-06-05",
         "5": "United States of America",
         "6": "33andOut Productions",
         "7": "2025-05-17 18:23:31.233017"
        },
        {
         "0": "22 Jump Street",
         "1": "5.0E7",
         "2": "1.88441614E8",
         "3": "112",
         "4": "2014-06-05",
         "5": "United States of America",
         "6": "JHF Productions",
         "7": "2025-05-17 18:23:31.233017"
        },
        {
         "0": "22 Jump Street",
         "1": "5.0E7",
         "2": "1.88441614E8",
         "3": "112",
         "4": "2014-06-05",
         "5": "United States of America",
         "6": "Cannell Studios",
         "7": "2025-05-17 18:23:31.233017"
        },
        {
         "0": "22 Jump Street",
         "1": "5.0E7",
         "2": "1.88441614E8",
         "3": "112",
         "4": "2014-06-05",
         "5": "United States of America",
         "6": "Columbia Pictures",
         "7": "2025-05-17 18:23:31.233017"
        },
        {
         "0": "22 Jump Street",
         "1": "5.0E7",
         "2": "1.88441614E8",
         "3": "112",
         "4": "2014-06-05",
         "5": "United States of America",
         "6": "Original Film",
         "7": "2025-05-17 18:23:31.233017"
        },
        {
         "0": "22 Jump Street",
         "1": "5.0E7",
         "2": "1.88441614E8",
         "3": "112",
         "4": "2014-06-05",
         "5": "United States of America",
         "6": "Media Rights Capital",
         "7": "2025-05-17 18:23:31.233017"
        },
        {
         "0": "22 Jump Street",
         "1": "5.0E7",
         "2": "1.88441614E8",
         "3": "112",
         "4": "2014-06-05",
         "5": "United States of America",
         "6": "Metro-Goldwyn-Mayer (MGM)",
         "7": "2025-05-17 18:23:31.233017"
        },
        {
         "0": "3 Backyards",
         "1": "2000000.0",
         "2": "2600000.0",
         "3": "88",
         "4": "2010-01-01",
         "5": "United States of America",
         "6": "Caruso / Mendelsohn Productions",
         "7": "2025-05-17 18:23:31.233017"
        },
        {
         "0": "3 Days to Kill",
         "1": "2.8E7",
         "2": "5.2597999E7",
         "3": "113",
         "4": "2014-02-14",
         "5": "United States of America",
         "6": "3DTK",
         "7": "2025-05-17 18:23:31.233017"
        },
        {
         "0": "3 Days to Kill",
         "1": "2.8E7",
         "2": "5.2597999E7",
         "3": "113",
         "4": "2014-02-14",
         "5": "France",
         "6": "3DTK",
         "7": "2025-05-17 18:23:31.233017"
        },
        {
         "0": "3 Days to Kill",
         "1": "2.8E7",
         "2": "5.2597999E7",
         "3": "113",
         "4": "2014-02-14",
         "5": "United States of America",
         "6": "Feelgood Entertainment",
         "7": "2025-05-17 18:23:31.233017"
        },
        {
         "0": "3 Days to Kill",
         "1": "2.8E7",
         "2": "5.2597999E7",
         "3": "113",
         "4": "2014-02-14",
         "5": "France",
         "6": "Feelgood Entertainment",
         "7": "2025-05-17 18:23:31.233017"
        },
        {
         "0": "3 Days to Kill",
         "1": "2.8E7",
         "2": "5.2597999E7",
         "3": "113",
         "4": "2014-02-14",
         "5": "United States of America",
         "6": "Paradise/MGN",
         "7": "2025-05-17 18:23:31.233017"
        },
        {
         "0": "3 Days to Kill",
         "1": "2.8E7",
         "2": "5.2597999E7",
         "3": "113",
         "4": "2014-02-14",
         "5": "France",
         "6": "Paradise/MGN",
         "7": "2025-05-17 18:23:31.233017"
        },
        {
         "0": "3 Days to Kill",
         "1": "2.8E7",
         "2": "5.2597999E7",
         "3": "113",
         "4": "2014-02-14",
         "5": "United States of America",
         "6": "Wonderland Sound and Vision",
         "7": "2025-05-17 18:23:31.233017"
        },
        {
         "0": "3 Days to Kill",
         "1": "2.8E7",
         "2": "5.2597999E7",
         "3": "113",
         "4": "2014-02-14",
         "5": "France",
         "6": "Wonderland Sound and Vision",
         "7": "2025-05-17 18:23:31.233017"
        },
        {
         "0": "3 Days to Kill",
         "1": "2.8E7",
         "2": "5.2597999E7",
         "3": "113",
         "4": "2014-02-14",
         "5": "United States of America",
         "6": "EuropaCorp",
         "7": "2025-05-17 18:23:31.233017"
        },
        {
         "0": "3 Days to Kill",
         "1": "2.8E7",
         "2": "5.2597999E7",
         "3": "113",
         "4": "2014-02-14",
         "5": "France",
         "6": "EuropaCorp",
         "7": "2025-05-17 18:23:31.233017"
        },
        {
         "0": "3 Days to Kill",
         "1": "2.8E7",
         "2": "5.2597999E7",
         "3": "113",
         "4": "2014-02-14",
         "5": "United States of America",
         "6": "Relativity Media",
         "7": "2025-05-17 18:23:31.233017"
        },
        {
         "0": "3 Days to Kill",
         "1": "2.8E7",
         "2": "5.2597999E7",
         "3": "113",
         "4": "2014-02-14",
         "5": "France",
         "6": "Relativity Media",
         "7": "2025-05-17 18:23:31.233017"
        },
        {
         "0": "30 Minutes or Less",
         "1": "2.8E7",
         "2": "4.054744E7",
         "3": "83",
         "4": "2011-08-11",
         "5": "Canada",
         "6": "Columbia Pictures",
         "7": "2025-05-17 18:23:31.233017"
        },
        {
         "0": "30 Minutes or Less",
         "1": "2.8E7",
         "2": "4.054744E7",
         "3": "83",
         "4": "2011-08-11",
         "5": "Germany",
         "6": "Columbia Pictures",
         "7": "2025-05-17 18:23:31.233017"
        },
        {
         "0": "30 Minutes or Less",
         "1": "2.8E7",
         "2": "4.054744E7",
         "3": "83",
         "4": "2011-08-11",
         "5": "United States of America",
         "6": "Columbia Pictures",
         "7": "2025-05-17 18:23:31.233017"
        },
        {
         "0": "30 Nights of Paranormal Activity With the Devil Inside the Girl With the Dragon Tattoo",
         "1": "2000000.0",
         "2": "2600000.0",
         "3": "80",
         "4": "2013-01-14",
         "5": "United States of America",
         "6": "Silver Nitrate Films",
         "7": "2025-05-17 18:23:31.233017"
        },
        {
         "0": "30 Nights of Paranormal Activity With the Devil Inside the Girl With the Dragon Tattoo",
         "1": "2000000.0",
         "2": "2600000.0",
         "3": "80",
         "4": "2013-01-14",
         "5": "United States of America",
         "6": "Silver Nitrate Pictures",
         "7": "2025-05-17 18:23:31.233017"
        },
        {
         "0": "42",
         "1": "4.0E7",
         "2": "9.5020213E7",
         "3": "128",
         "4": "2013-04-12",
         "5": "United States of America",
         "6": "Warner Bros.",
         "7": "2025-05-17 18:23:31.233017"
        },
        {
         "0": "47 Ronin",
         "1": "1.75E8",
         "2": "1.50962475E8",
         "3": "119",
         "4": "2013-12-06",
         "5": "United States of America",
         "6": "Moving Picture Company (MPC)",
         "7": "2025-05-17 18:23:31.233017"
        },
        {
         "0": "47 Ronin",
         "1": "1.75E8",
         "2": "1.50962475E8",
         "3": "119",
         "4": "2013-12-06",
         "5": "United States of America",
         "6": "H2F Entertainment",
         "7": "2025-05-17 18:23:31.233017"
        },
        {
         "0": "47 Ronin",
         "1": "1.75E8",
         "2": "1.50962475E8",
         "3": "119",
         "4": "2013-12-06",
         "5": "United States of America",
         "6": "Mid Atlantic Films",
         "7": "2025-05-17 18:23:31.233017"
        },
        {
         "0": "47 Ronin",
         "1": "1.75E8",
         "2": "1.50962475E8",
         "3": "119",
         "4": "2013-12-06",
         "5": "United States of America",
         "6": "Stuber Productions",
         "7": "2025-05-17 18:23:31.233017"
        },
        {
         "0": "47 Ronin",
         "1": "1.75E8",
         "2": "1.50962475E8",
         "3": "119",
         "4": "2013-12-06",
         "5": "United States of America",
         "6": "Universal",
         "7": "2025-05-17 18:23:31.233017"
        },
        {
         "0": "5 Days of War",
         "1": "2.0E7",
         "2": "17479.0",
         "3": "113",
         "4": "2011-04-14",
         "5": "United States of America",
         "6": "Dispictures",
         "7": "2025-05-17 18:23:31.233017"
        },
        {
         "0": "5 Days of War",
         "1": "2.0E7",
         "2": "17479.0",
         "3": "113",
         "4": "2011-04-14",
         "5": "United States of America",
         "6": "Georgia International Films",
         "7": "2025-05-17 18:23:31.233017"
        },
        {
         "0": "5 Days of War",
         "1": "2.0E7",
         "2": "17479.0",
         "3": "113",
         "4": "2011-04-14",
         "5": "United States of America",
         "6": "Rex Media",
         "7": "2025-05-17 18:23:31.233017"
        },
        {
         "0": "5 Days of War",
         "1": "2.0E7",
         "2": "17479.0",
         "3": "113",
         "4": "2011-04-14",
         "5": "United States of America",
         "6": "Midnight Sun Pictures",
         "7": "2025-05-17 18:23:31.233017"
        },
        {
         "0": "50/50",
         "1": "8000000.0",
         "2": "3.9187783E7",
         "3": "100",
         "4": "2011-09-30",
         "5": "United States of America",
         "6": "Summit Entertainment",
         "7": "2025-05-17 18:23:31.233017"
        },
        {
         "0": "50/50",
         "1": "8000000.0",
         "2": "3.9187783E7",
         "3": "100",
         "4": "2011-09-30",
         "5": "United States of America",
         "6": "Mandate Pictures",
         "7": "2025-05-17 18:23:31.233017"
        },
        {
         "0": "8 Days",
         "1": "2000000.0",
         "2": "2600000.0",
         "3": "90",
         "4": "2014-06-15",
         "5": "United States of America",
         "6": "After Eden Pictures",
         "7": "2025-05-17 18:23:31.233017"
        },
        {
         "0": "90 Minutes in Heaven",
         "1": "5000000.0",
         "2": "4842699.0",
         "3": "121",
         "4": "2015-09-11",
         "5": "United States of America",
         "6": "Giving Films",
         "7": "2025-05-17 18:23:31.233017"
        },
        {
         "0": "90 Minutes in Heaven",
         "1": "5000000.0",
         "2": "4842699.0",
         "3": "121",
         "4": "2015-09-11",
         "5": "United States of America",
         "6": "Emmett/Furla Films",
         "7": "2025-05-17 18:23:31.233017"
        },
        {
         "0": "A Better Life",
         "1": "1.0E7",
         "2": "1759252.0",
         "3": "98",
         "4": "2011-06-24",
         "5": "United States of America",
         "6": "McLaughlin Films",
         "7": "2025-05-17 18:23:31.233017"
        },
        {
         "0": "A Better Life",
         "1": "1.0E7",
         "2": "1759252.0",
         "3": "98",
         "4": "2011-06-24",
         "5": "United States of America",
         "6": "Lime Orchard Productions",
         "7": "2025-05-17 18:23:31.233017"
        },
        {
         "0": "A Better Life",
         "1": "1.0E7",
         "2": "1759252.0",
         "3": "98",
         "4": "2011-06-24",
         "5": "United States of America",
         "6": "Summit Entertainment",
         "7": "2025-05-17 18:23:31.233017"
        },
        {
         "0": "A Better Life",
         "1": "1.0E7",
         "2": "1759252.0",
         "3": "98",
         "4": "2011-06-24",
         "5": "United States of America",
         "6": "Witt/Thomas Productions",
         "7": "2025-05-17 18:23:31.233017"
        },
        {
         "0": "A Better Life",
         "1": "1.0E7",
         "2": "1759252.0",
         "3": "98",
         "4": "2011-06-24",
         "5": "United States of America",
         "6": "Depth of Field",
         "7": "2025-05-17 18:23:31.233017"
        },
        {
         "0": "A Dangerous Method",
         "1": "1.5E7",
         "2": "2.7462041E7",
         "3": "99",
         "4": "2011-09-30",
         "5": "Canada",
         "6": "Dangerous Method Film AG",
         "7": "2025-05-17 18:23:31.233017"
        },
        {
         "0": "A Dangerous Method",
         "1": "1.5E7",
         "2": "2.7462041E7",
         "3": "99",
         "4": "2011-09-30",
         "5": "Germany",
         "6": "Dangerous Method Film AG",
         "7": "2025-05-17 18:23:31.233017"
        },
        {
         "0": "A Dangerous Method",
         "1": "1.5E7",
         "2": "2.7462041E7",
         "3": "99",
         "4": "2011-09-30",
         "5": "United Kingdom",
         "6": "Dangerous Method Film AG",
         "7": "2025-05-17 18:23:31.233017"
        },
        {
         "0": "A Dangerous Method",
         "1": "1.5E7",
         "2": "2.7462041E7",
         "3": "99",
         "4": "2011-09-30",
         "5": "Switzerland",
         "6": "Dangerous Method Film AG",
         "7": "2025-05-17 18:23:31.233017"
        },
        {
         "0": "A Dangerous Method",
         "1": "1.5E7",
         "2": "2.7462041E7",
         "3": "99",
         "4": "2011-09-30",
         "5": "Canada",
         "6": "Lago Film",
         "7": "2025-05-17 18:23:31.233017"
        },
        {
         "0": "A Dangerous Method",
         "1": "1.5E7",
         "2": "2.7462041E7",
         "3": "99",
         "4": "2011-09-30",
         "5": "Germany",
         "6": "Lago Film",
         "7": "2025-05-17 18:23:31.233017"
        },
        {
         "0": "A Dangerous Method",
         "1": "1.5E7",
         "2": "2.7462041E7",
         "3": "99",
         "4": "2011-09-30",
         "5": "United Kingdom",
         "6": "Lago Film",
         "7": "2025-05-17 18:23:31.233017"
        },
        {
         "0": "A Dangerous Method",
         "1": "1.5E7",
         "2": "2.7462041E7",
         "3": "99",
         "4": "2011-09-30",
         "5": "Switzerland",
         "6": "Lago Film",
         "7": "2025-05-17 18:23:31.233017"
        },
        {
         "0": "A Dangerous Method",
         "1": "1.5E7",
         "2": "2.7462041E7",
         "3": "99",
         "4": "2011-09-30",
         "5": "Canada",
         "6": "Recorded Pictures Company",
         "7": "2025-05-17 18:23:31.233017"
        },
        {
         "0": "A Dangerous Method",
         "1": "1.5E7",
         "2": "2.7462041E7",
         "3": "99",
         "4": "2011-09-30",
         "5": "Germany",
         "6": "Recorded Pictures Company",
         "7": "2025-05-17 18:23:31.233017"
        },
        {
         "0": "A Dangerous Method",
         "1": "1.5E7",
         "2": "2.7462041E7",
         "3": "99",
         "4": "2011-09-30",
         "5": "United Kingdom",
         "6": "Recorded Pictures Company",
         "7": "2025-05-17 18:23:31.233017"
        },
        {
         "0": "A Dangerous Method",
         "1": "1.5E7",
         "2": "2.7462041E7",
         "3": "99",
         "4": "2011-09-30",
         "5": "Switzerland",
         "6": "Recorded Pictures Company",
         "7": "2025-05-17 18:23:31.233017"
        },
        {
         "0": "A Dangerous Method",
         "1": "1.5E7",
         "2": "2.7462041E7",
         "3": "99",
         "4": "2011-09-30",
         "5": "Canada",
         "6": "The Movie Network",
         "7": "2025-05-17 18:23:31.233017"
        },
        {
         "0": "A Dangerous Method",
         "1": "1.5E7",
         "2": "2.7462041E7",
         "3": "99",
         "4": "2011-09-30",
         "5": "Germany",
         "6": "The Movie Network",
         "7": "2025-05-17 18:23:31.233017"
        },
        {
         "0": "A Dangerous Method",
         "1": "1.5E7",
         "2": "2.7462041E7",
         "3": "99",
         "4": "2011-09-30",
         "5": "United Kingdom",
         "6": "The Movie Network",
         "7": "2025-05-17 18:23:31.233017"
        },
        {
         "0": "A Dangerous Method",
         "1": "1.5E7",
         "2": "2.7462041E7",
         "3": "99",
         "4": "2011-09-30",
         "5": "Switzerland",
         "6": "The Movie Network",
         "7": "2025-05-17 18:23:31.233017"
        },
        {
         "0": "A Dangerous Method",
         "1": "1.5E7",
         "2": "2.7462041E7",
         "3": "99",
         "4": "2011-09-30",
         "5": "Canada",
         "6": "Millbrook Pictures",
         "7": "2025-05-17 18:23:31.233017"
        },
        {
         "0": "A Dangerous Method",
         "1": "1.5E7",
         "2": "2.7462041E7",
         "3": "99",
         "4": "2011-09-30",
         "5": "Germany",
         "6": "Millbrook Pictures",
         "7": "2025-05-17 18:23:31.233017"
        },
        {
         "0": "A Dangerous Method",
         "1": "1.5E7",
         "2": "2.7462041E7",
         "3": "99",
         "4": "2011-09-30",
         "5": "United Kingdom",
         "6": "Millbrook Pictures",
         "7": "2025-05-17 18:23:31.233017"
        },
        {
         "0": "A Dangerous Method",
         "1": "1.5E7",
         "2": "2.7462041E7",
         "3": "99",
         "4": "2011-09-30",
         "5": "Switzerland",
         "6": "Millbrook Pictures",
         "7": "2025-05-17 18:23:31.233017"
        },
        {
         "0": "A Dangerous Method",
         "1": "1.5E7",
         "2": "2.7462041E7",
         "3": "99",
         "4": "2011-09-30",
         "5": "Canada",
         "6": "Prospero Pictures",
         "7": "2025-05-17 18:23:31.233017"
        },
        {
         "0": "A Dangerous Method",
         "1": "1.5E7",
         "2": "2.7462041E7",
         "3": "99",
         "4": "2011-09-30",
         "5": "Germany",
         "6": "Prospero Pictures",
         "7": "2025-05-17 18:23:31.233017"
        },
        {
         "0": "A Dangerous Method",
         "1": "1.5E7",
         "2": "2.7462041E7",
         "3": "99",
         "4": "2011-09-30",
         "5": "United Kingdom",
         "6": "Prospero Pictures",
         "7": "2025-05-17 18:23:31.233017"
        },
        {
         "0": "A Dangerous Method",
         "1": "1.5E7",
         "2": "2.7462041E7",
         "3": "99",
         "4": "2011-09-30",
         "5": "Switzerland",
         "6": "Prospero Pictures",
         "7": "2025-05-17 18:23:31.233017"
        },
        {
         "0": "A Good Day to Die Hard",
         "1": "9.2E7",
         "2": "3.04654182E8",
         "3": "98",
         "4": "2013-02-06",
         "5": "United States of America",
         "6": "TSG Entertainment",
         "7": "2025-05-17 18:23:31.233017"
        },
        {
         "0": "A Good Day to Die Hard",
         "1": "9.2E7",
         "2": "3.04654182E8",
         "3": "98",
         "4": "2013-02-06",
         "5": "United States of America",
         "6": "Giant Pictures",
         "7": "2025-05-17 18:23:31.233017"
        },
        {
         "0": "A Good Day to Die Hard",
         "1": "9.2E7",
         "2": "3.04654182E8",
         "3": "98",
         "4": "2013-02-06",
         "5": "United States of America",
         "6": "Origo Film Group",
         "7": "2025-05-17 18:23:31.233017"
        },
        {
         "0": "A Good Day to Die Hard",
         "1": "9.2E7",
         "2": "3.04654182E8",
         "3": "98",
         "4": "2013-02-06",
         "5": "United States of America",
         "6": "Big Screen Productions",
         "7": "2025-05-17 18:23:31.233017"
        },
        {
         "0": "A Good Day to Die Hard",
         "1": "9.2E7",
         "2": "3.04654182E8",
         "3": "98",
         "4": "2013-02-06",
         "5": "United States of America",
         "6": "Temple Hill Entertainment",
         "7": "2025-05-17 18:23:31.233017"
        },
        {
         "0": "A Good Day to Die Hard",
         "1": "9.2E7",
         "2": "3.04654182E8",
         "3": "98",
         "4": "2013-02-06",
         "5": "United States of America",
         "6": "Ingenious Media",
         "7": "2025-05-17 18:23:31.233017"
        },
        {
         "0": "A Good Day to Die Hard",
         "1": "9.2E7",
         "2": "3.04654182E8",
         "3": "98",
         "4": "2013-02-06",
         "5": "United States of America",
         "6": "Twentieth Century Fox Film Corporation",
         "7": "2025-05-17 18:23:31.233017"
        },
        {
         "0": "A Good Day to Die Hard",
         "1": "9.2E7",
         "2": "3.04654182E8",
         "3": "98",
         "4": "2013-02-06",
         "5": "United States of America",
         "6": "Dune Entertainment",
         "7": "2025-05-17 18:23:31.233017"
        },
        {
         "0": "A Good Day to Die Hard",
         "1": "9.2E7",
         "2": "3.04654182E8",
         "3": "98",
         "4": "2013-02-06",
         "5": "United States of America",
         "6": "Mid Atlantic Films",
         "7": "2025-05-17 18:23:31.233017"
        },
        {
         "0": "A Haunted House",
         "1": "2500000.0",
         "2": "6.0141683E7",
         "3": "86",
         "4": "2013-01-11",
         "5": "United States of America",
         "6": "Open Road Films",
         "7": "2025-05-17 18:23:31.233017"
        },
        {
         "0": "A Haunted House",
         "1": "2500000.0",
         "2": "6.0141683E7",
         "3": "86",
         "4": "2013-01-11",
         "5": "United States of America",
         "6": "Endgame Entertainment",
         "7": "2025-05-17 18:23:31.233017"
        },
        {
         "0": "A Haunted House",
         "1": "2500000.0",
         "2": "6.0141683E7",
         "3": "86",
         "4": "2013-01-11",
         "5": "United States of America",
         "6": "Wayans Bros. Entertainment",
         "7": "2025-05-17 18:23:31.233017"
        },
        {
         "0": "A Haunted House",
         "1": "2500000.0",
         "2": "6.0141683E7",
         "3": "86",
         "4": "2013-01-11",
         "5": "United States of America",
         "6": "IM Global",
         "7": "2025-05-17 18:23:31.233017"
        },
        {
         "0": "A Haunted House 2",
         "1": "2000000.0",
         "2": "2600000.0",
         "3": "87",
         "4": "2014-04-17",
         "5": "United States of America",
         "6": "Open Road Films",
         "7": "2025-05-17 18:23:31.233017"
        },
        {
         "0": "A Haunted House 2",
         "1": "2000000.0",
         "2": "2600000.0",
         "3": "87",
         "4": "2014-04-17",
         "5": "United States of America",
         "6": "Automatik Entertainment",
         "7": "2025-05-17 18:23:31.233017"
        },
        {
         "0": "A LEGO Brickumentary",
         "1": "650000.0",
         "2": "812500.0",
         "3": "93",
         "4": "2015-07-31",
         "5": "Denmark",
         "6": "Global Emerging Markets (GEM)",
         "7": "2025-05-17 18:23:31.233017"
        },
        {
         "0": "A LEGO Brickumentary",
         "1": "650000.0",
         "2": "812500.0",
         "3": "93",
         "4": "2015-07-31",
         "5": "United States of America",
         "6": "Global Emerging Markets (GEM)",
         "7": "2025-05-17 18:23:31.233017"
        },
        {
         "0": "A LEGO Brickumentary",
         "1": "650000.0",
         "2": "812500.0",
         "3": "93",
         "4": "2015-07-31",
         "5": "Denmark",
         "6": "HeLo",
         "7": "2025-05-17 18:23:31.233017"
        },
        {
         "0": "A LEGO Brickumentary",
         "1": "650000.0",
         "2": "812500.0",
         "3": "93",
         "4": "2015-07-31",
         "5": "United States of America",
         "6": "HeLo",
         "7": "2025-05-17 18:23:31.233017"
        },
        {
         "0": "A Lonely Place to Die",
         "1": "4000000.0",
         "2": "2.5345E7",
         "3": "99",
         "4": "2011-04-09",
         "5": "United Kingdom",
         "6": "Eigerwand Pictures",
         "7": "2025-05-17 18:23:31.233017"
        },
        {
         "0": "A Lonely Place to Die",
         "1": "4000000.0",
         "2": "2.5345E7",
         "3": "99",
         "4": "2011-04-09",
         "5": "United Kingdom",
         "6": "Carnaby International",
         "7": "2025-05-17 18:23:31.233017"
        },
        {
         "0": "A Lonely Place to Die",
         "1": "4000000.0",
         "2": "2.5345E7",
         "3": "99",
         "4": "2011-04-09",
         "5": "United Kingdom",
         "6": "Molinare Studios",
         "7": "2025-05-17 18:23:31.233017"
        },
        {
         "0": "A Madea Christmas",
         "1": "2000000.0",
         "2": "2600000.0",
         "3": "100",
         "4": "2013-12-13",
         "5": "United States of America",
         "6": "Lions Gate",
         "7": "2025-05-17 18:23:31.233017"
        },
        {
         "0": "A Million Ways to Die in the West",
         "1": "2000000.0",
         "2": "2600000.0",
         "3": "116",
         "4": "2014-05-22",
         "5": "United States of America",
         "6": "Bluegrass Films",
         "7": "2025-05-17 18:23:31.233017"
        },
        {
         "0": "A Million Ways to Die in the West",
         "1": "2000000.0",
         "2": "2600000.0",
         "3": "116",
         "4": "2014-05-22",
         "5": "United States of America",
         "6": "RGB Media",
         "7": "2025-05-17 18:23:31.233017"
        },
        {
         "0": "A Million Ways to Die in the West",
         "1": "2000000.0",
         "2": "2600000.0",
         "3": "116",
         "4": "2014-05-22",
         "5": "United States of America",
         "6": "Media Rights Capital",
         "7": "2025-05-17 18:23:31.233017"
        },
        {
         "0": "A Million Ways to Die in the West",
         "1": "2000000.0",
         "2": "2600000.0",
         "3": "116",
         "4": "2014-05-22",
         "5": "United States of America",
         "6": "Fuzzy Door Productions",
         "7": "2025-05-17 18:23:31.233017"
        },
        {
         "0": "A Most Violent Year",
         "1": "2.0E7",
         "2": "1.200707E7",
         "3": "125",
         "4": "2014-12-30",
         "5": "United States of America",
         "6": "A24",
         "7": "2025-05-17 18:23:31.233017"
        },
        {
         "0": "A Most Violent Year",
         "1": "2.0E7",
         "2": "1.200707E7",
         "3": "125",
         "4": "2014-12-30",
         "5": "United Arab Emirates",
         "6": "A24",
         "7": "2025-05-17 18:23:31.233017"
        },
        {
         "0": "A Most Violent Year",
         "1": "2.0E7",
         "2": "1.200707E7",
         "3": "125",
         "4": "2014-12-30",
         "5": "United States of America",
         "6": "Old Bull Pictures",
         "7": "2025-05-17 18:23:31.233017"
        },
        {
         "0": "A Most Violent Year",
         "1": "2.0E7",
         "2": "1.200707E7",
         "3": "125",
         "4": "2014-12-30",
         "5": "United Arab Emirates",
         "6": "Old Bull Pictures",
         "7": "2025-05-17 18:23:31.233017"
        },
        {
         "0": "A Most Violent Year",
         "1": "2.0E7",
         "2": "1.200707E7",
         "3": "125",
         "4": "2014-12-30",
         "5": "United States of America",
         "6": "Before the Door Pictures",
         "7": "2025-05-17 18:23:31.233017"
        },
        {
         "0": "A Most Violent Year",
         "1": "2.0E7",
         "2": "1.200707E7",
         "3": "125",
         "4": "2014-12-30",
         "5": "United Arab Emirates",
         "6": "Before the Door Pictures",
         "7": "2025-05-17 18:23:31.233017"
        },
        {
         "0": "A Most Violent Year",
         "1": "2.0E7",
         "2": "1.200707E7",
         "3": "125",
         "4": "2014-12-30",
         "5": "United States of America",
         "6": "Washington Square Films",
         "7": "2025-05-17 18:23:31.233017"
        },
        {
         "0": "A Most Violent Year",
         "1": "2.0E7",
         "2": "1.200707E7",
         "3": "125",
         "4": "2014-12-30",
         "5": "United Arab Emirates",
         "6": "Washington Square Films",
         "7": "2025-05-17 18:23:31.233017"
        },
        {
         "0": "A Most Violent Year",
         "1": "2.0E7",
         "2": "1.200707E7",
         "3": "125",
         "4": "2014-12-30",
         "5": "United States of America",
         "6": "Participant Media",
         "7": "2025-05-17 18:23:31.233017"
        },
        {
         "0": "A Most Violent Year",
         "1": "2.0E7",
         "2": "1.200707E7",
         "3": "125",
         "4": "2014-12-30",
         "5": "United Arab Emirates",
         "6": "Participant Media",
         "7": "2025-05-17 18:23:31.233017"
        },
        {
         "0": "A Most Violent Year",
         "1": "2.0E7",
         "2": "1.200707E7",
         "3": "125",
         "4": "2014-12-30",
         "5": "United States of America",
         "6": "Imagenation Abu Dhabi FZ",
         "7": "2025-05-17 18:23:31.233017"
        },
        {
         "0": "A Most Violent Year",
         "1": "2.0E7",
         "2": "1.200707E7",
         "3": "125",
         "4": "2014-12-30",
         "5": "United Arab Emirates",
         "6": "Imagenation Abu Dhabi FZ",
         "7": "2025-05-17 18:23:31.233017"
        },
        {
         "0": "A Most Violent Year",
         "1": "2.0E7",
         "2": "1.200707E7",
         "3": "125",
         "4": "2014-12-30",
         "5": "United States of America",
         "6": "FilmNation Entertainment",
         "7": "2025-05-17 18:23:31.233017"
        },
        {
         "0": "A Most Violent Year",
         "1": "2.0E7",
         "2": "1.200707E7",
         "3": "125",
         "4": "2014-12-30",
         "5": "United Arab Emirates",
         "6": "FilmNation Entertainment",
         "7": "2025-05-17 18:23:31.233017"
        },
        {
         "0": "A Most Wanted Man",
         "1": "1.5E7",
         "2": "3.1554855E7",
         "3": "121",
         "4": "2014-07-25",
         "5": "Germany",
         "6": "The Ink Factory",
         "7": "2025-05-17 18:23:31.233017"
        },
        {
         "0": "A Most Wanted Man",
         "1": "1.5E7",
         "2": "3.1554855E7",
         "3": "121",
         "4": "2014-07-25",
         "5": "United States of America",
         "6": "The Ink Factory",
         "7": "2025-05-17 18:23:31.233017"
        },
        {
         "0": "A Most Wanted Man",
         "1": "1.5E7",
         "2": "3.1554855E7",
         "3": "121",
         "4": "2014-07-25",
         "5": "United Kingdom",
         "6": "The Ink Factory",
         "7": "2025-05-17 18:23:31.233017"
        },
        {
         "0": "A Most Wanted Man",
         "1": "1.5E7",
         "2": "3.1554855E7",
         "3": "121",
         "4": "2014-07-25",
         "5": "Germany",
         "6": "Potboiler Productions",
         "7": "2025-05-17 18:23:31.233017"
        },
        {
         "0": "A Most Wanted Man",
         "1": "1.5E7",
         "2": "3.1554855E7",
         "3": "121",
         "4": "2014-07-25",
         "5": "United States of America",
         "6": "Potboiler Productions",
         "7": "2025-05-17 18:23:31.233017"
        },
        {
         "0": "A Most Wanted Man",
         "1": "1.5E7",
         "2": "3.1554855E7",
         "3": "121",
         "4": "2014-07-25",
         "5": "United Kingdom",
         "6": "Potboiler Productions",
         "7": "2025-05-17 18:23:31.233017"
        },
        {
         "0": "A Most Wanted Man",
         "1": "1.5E7",
         "2": "3.1554855E7",
         "3": "121",
         "4": "2014-07-25",
         "5": "Germany",
         "6": "Amusement Park Films",
         "7": "2025-05-17 18:23:31.233017"
        },
        {
         "0": "A Most Wanted Man",
         "1": "1.5E7",
         "2": "3.1554855E7",
         "3": "121",
         "4": "2014-07-25",
         "5": "United States of America",
         "6": "Amusement Park Films",
         "7": "2025-05-17 18:23:31.233017"
        },
        {
         "0": "A Most Wanted Man",
         "1": "1.5E7",
         "2": "3.1554855E7",
         "3": "121",
         "4": "2014-07-25",
         "5": "United Kingdom",
         "6": "Amusement Park Films",
         "7": "2025-05-17 18:23:31.233017"
        },
        {
         "0": "A Most Wanted Man",
         "1": "1.5E7",
         "2": "3.1554855E7",
         "3": "121",
         "4": "2014-07-25",
         "5": "Germany",
         "6": "Film4",
         "7": "2025-05-17 18:23:31.233017"
        },
        {
         "0": "A Most Wanted Man",
         "1": "1.5E7",
         "2": "3.1554855E7",
         "3": "121",
         "4": "2014-07-25",
         "5": "United States of America",
         "6": "Film4",
         "7": "2025-05-17 18:23:31.233017"
        },
        {
         "0": "A Most Wanted Man",
         "1": "1.5E7",
         "2": "3.1554855E7",
         "3": "121",
         "4": "2014-07-25",
         "5": "United Kingdom",
         "6": "Film4",
         "7": "2025-05-17 18:23:31.233017"
        },
        {
         "0": "A Most Wanted Man",
         "1": "1.5E7",
         "2": "3.1554855E7",
         "3": "121",
         "4": "2014-07-25",
         "5": "Germany",
         "6": "Demarest Films",
         "7": "2025-05-17 18:23:31.233017"
        },
        {
         "0": "A Most Wanted Man",
         "1": "1.5E7",
         "2": "3.1554855E7",
         "3": "121",
         "4": "2014-07-25",
         "5": "United States of America",
         "6": "Demarest Films",
         "7": "2025-05-17 18:23:31.233017"
        },
        {
         "0": "A Most Wanted Man",
         "1": "1.5E7",
         "2": "3.1554855E7",
         "3": "121",
         "4": "2014-07-25",
         "5": "United Kingdom",
         "6": "Demarest Films",
         "7": "2025-05-17 18:23:31.233017"
        },
        {
         "0": "A Most Wanted Man",
         "1": "1.5E7",
         "2": "3.1554855E7",
         "3": "121",
         "4": "2014-07-25",
         "5": "Germany",
         "6": "Senator Film Produktion",
         "7": "2025-05-17 18:23:31.233017"
        },
        {
         "0": "A Most Wanted Man",
         "1": "1.5E7",
         "2": "3.1554855E7",
         "3": "121",
         "4": "2014-07-25",
         "5": "United States of America",
         "6": "Senator Film Produktion",
         "7": "2025-05-17 18:23:31.233017"
        },
        {
         "0": "A Most Wanted Man",
         "1": "1.5E7",
         "2": "3.1554855E7",
         "3": "121",
         "4": "2014-07-25",
         "5": "United Kingdom",
         "6": "Senator Film Produktion",
         "7": "2025-05-17 18:23:31.233017"
        },
        {
         "0": "A Most Wanted Man",
         "1": "1.5E7",
         "2": "3.1554855E7",
         "3": "121",
         "4": "2014-07-25",
         "5": "Germany",
         "6": "Lionsgate",
         "7": "2025-05-17 18:23:31.233017"
        },
        {
         "0": "A Most Wanted Man",
         "1": "1.5E7",
         "2": "3.1554855E7",
         "3": "121",
         "4": "2014-07-25",
         "5": "United States of America",
         "6": "Lionsgate",
         "7": "2025-05-17 18:23:31.233017"
        },
        {
         "0": "A Most Wanted Man",
         "1": "1.5E7",
         "2": "3.1554855E7",
         "3": "121",
         "4": "2014-07-25",
         "5": "United Kingdom",
         "6": "Lionsgate",
         "7": "2025-05-17 18:23:31.233017"
        },
        {
         "0": "A Most Wanted Man",
         "1": "1.5E7",
         "2": "3.1554855E7",
         "3": "121",
         "4": "2014-07-25",
         "5": "Germany",
         "6": "FilmNation Entertainment",
         "7": "2025-05-17 18:23:31.233017"
        },
        {
         "0": "A Most Wanted Man",
         "1": "1.5E7",
         "2": "3.1554855E7",
         "3": "121",
         "4": "2014-07-25",
         "5": "United States of America",
         "6": "FilmNation Entertainment",
         "7": "2025-05-17 18:23:31.233017"
        },
        {
         "0": "A Most Wanted Man",
         "1": "1.5E7",
         "2": "3.1554855E7",
         "3": "121",
         "4": "2014-07-25",
         "5": "United Kingdom",
         "6": "FilmNation Entertainment",
         "7": "2025-05-17 18:23:31.233017"
        },
        {
         "0": "A Thousand Words",
         "1": "4.0E7",
         "2": "2.2044277E7",
         "3": "91",
         "4": "2012-03-07",
         "5": "United States of America",
         "6": "Paramount Pictures",
         "7": "2025-05-17 18:23:31.233017"
        },
        {
         "0": "A Thousand Words",
         "1": "4.0E7",
         "2": "2.2044277E7",
         "3": "91",
         "4": "2012-03-07",
         "5": "United States of America",
         "6": "DreamWorks SKG",
         "7": "2025-05-17 18:23:31.233017"
        },
        {
         "0": "A Thousand Words",
         "1": "4.0E7",
         "2": "2.2044277E7",
         "3": "91",
         "4": "2012-03-07",
         "5": "United States of America",
         "6": "Saturn Films",
         "7": "2025-05-17 18:23:31.233017"
        },
        {
         "0": "A Thousand Words",
         "1": "4.0E7",
         "2": "2.2044277E7",
         "3": "91",
         "4": "2012-03-07",
         "5": "United States of America",
         "6": "Varsity Pictures",
         "7": "2025-05-17 18:23:31.233017"
        },
        {
         "0": "A Very Harold & Kumar Christmas",
         "1": "1.9E7",
         "2": "3.5387212E7",
         "3": "108",
         "4": "2011-11-04",
         "5": "United States of America",
         "6": "New Line Cinema",
         "7": "2025-05-17 18:23:31.233017"
        },
        {
         "0": "A Very Harold & Kumar Christmas",
         "1": "1.9E7",
         "2": "3.5387212E7",
         "3": "108",
         "4": "2011-11-04",
         "5": "United States of America",
         "6": "Mandate Pictures",
         "7": "2025-05-17 18:23:31.233017"
        },
        {
         "0": "A Walk Among the Tombstones",
         "1": "2.8E7",
         "2": "5.31816E7",
         "3": "113",
         "4": "2014-09-18",
         "5": "United States of America",
         "6": "Traveling Picture Show Company (TPSC)",
         "7": "2025-05-17 18:23:31.233017"
        },
        {
         "0": "A Walk Among the Tombstones",
         "1": "2.8E7",
         "2": "5.31816E7",
         "3": "113",
         "4": "2014-09-18",
         "5": "United States of America",
         "6": "Free State Pictures",
         "7": "2025-05-17 18:23:31.233017"
        },
        {
         "0": "A Walk Among the Tombstones",
         "1": "2.8E7",
         "2": "5.31816E7",
         "3": "113",
         "4": "2014-09-18",
         "5": "United States of America",
         "6": "Da Vinci Media Ventures",
         "7": "2025-05-17 18:23:31.233017"
        },
        {
         "0": "A Walk Among the Tombstones",
         "1": "2.8E7",
         "2": "5.31816E7",
         "3": "113",
         "4": "2014-09-18",
         "5": "United States of America",
         "6": "Cross Creek Pictures",
         "7": "2025-05-17 18:23:31.233017"
        },
        {
         "0": "A Walk Among the Tombstones",
         "1": "2.8E7",
         "2": "5.31816E7",
         "3": "113",
         "4": "2014-09-18",
         "5": "United States of America",
         "6": "Exclusive Media Group",
         "7": "2025-05-17 18:23:31.233017"
        },
        {
         "0": "A Walk Among the Tombstones",
         "1": "2.8E7",
         "2": "5.31816E7",
         "3": "113",
         "4": "2014-09-18",
         "5": "United States of America",
         "6": "Double Feature Films",
         "7": "2025-05-17 18:23:31.233017"
        },
        {
         "0": "A Walk Among the Tombstones",
         "1": "2.8E7",
         "2": "5.31816E7",
         "3": "113",
         "4": "2014-09-18",
         "5": "United States of America",
         "6": "Jersey Films",
         "7": "2025-05-17 18:23:31.233017"
        },
        {
         "0": "A Walk Among the Tombstones",
         "1": "2.8E7",
         "2": "5.31816E7",
         "3": "113",
         "4": "2014-09-18",
         "5": "United States of America",
         "6": "1984 Private Defense Contractors",
         "7": "2025-05-17 18:23:31.233017"
        },
        {
         "0": "A escondidas",
         "1": "2000000.0",
         "2": "2600000.0",
         "3": "96",
         "4": "2014-10-03",
         "5": "Spain",
         "6": "Departamento de Cultura del Gobierno Vasco",
         "7": "2025-05-17 18:23:31.233017"
        },
        {
         "0": "A escondidas",
         "1": "2000000.0",
         "2": "2600000.0",
         "3": "96",
         "4": "2014-10-03",
         "5": "Spain",
         "6": "Bitart New Media",
         "7": "2025-05-17 18:23:31.233017"
        },
        {
         "0": "A escondidas",
         "1": "2000000.0",
         "2": "2600000.0",
         "3": "96",
         "4": "2014-10-03",
         "5": "Spain",
         "6": "Baleuko S.L.",
         "7": "2025-05-17 18:23:31.233017"
        },
        {
         "0": "AWOL-72",
         "1": "3000000.0",
         "2": "3750000.0",
         "3": "79",
         "4": "2015-08-07",
         "5": "United States of America",
         "6": "Triumphant Entertainment",
         "7": "2025-05-17 18:23:31.233017"
        },
        {
         "0": "Abandoned",
         "1": "2000000.0",
         "2": "2600000.0",
         "3": "82",
         "4": "2015-08-30",
         "5": "New Zealand",
         "6": "Making Movies",
         "7": "2025-05-17 18:23:31.233017"
        },
        {
         "0": "Abduction",
         "1": "3.5E7",
         "2": "8.2087155E7",
         "3": "106",
         "4": "2011-09-22",
         "5": "United States of America",
         "6": "Tailor Made",
         "7": "2025-05-17 18:23:31.233017"
        },
        {
         "0": "Abduction",
         "1": "3.5E7",
         "2": "8.2087155E7",
         "3": "106",
         "4": "2011-09-22",
         "5": "United States of America",
         "6": "Mango Farms",
         "7": "2025-05-17 18:23:31.233017"
        },
        {
         "0": "Abduction",
         "1": "3.5E7",
         "2": "8.2087155E7",
         "3": "106",
         "4": "2011-09-22",
         "5": "United States of America",
         "6": "Quick Six Entertainment",
         "7": "2025-05-17 18:23:31.233017"
        },
        {
         "0": "Abduction",
         "1": "3.5E7",
         "2": "8.2087155E7",
         "3": "106",
         "4": "2011-09-22",
         "5": "United States of America",
         "6": "Lions Gate Films",
         "7": "2025-05-17 18:23:31.233017"
        },
        {
         "0": "Abduction",
         "1": "3.5E7",
         "2": "8.2087155E7",
         "3": "106",
         "4": "2011-09-22",
         "5": "United States of America",
         "6": "Vertigo Entertainment",
         "7": "2025-05-17 18:23:31.233017"
        },
        {
         "0": "Abduction",
         "1": "3.5E7",
         "2": "8.2087155E7",
         "3": "106",
         "4": "2011-09-22",
         "5": "United States of America",
         "6": "Gotham Group",
         "7": "2025-05-17 18:23:31.233017"
        },
        {
         "0": "About Last Night",
         "1": "1.25E7",
         "2": "4.9002684E7",
         "3": "100",
         "4": "2014-02-14",
         "5": "United States of America",
         "6": "Screen Gems, Inc.",
         "7": "2025-05-17 18:23:31.233017"
        },
        {
         "0": "About Last Night",
         "1": "1.25E7",
         "2": "4.9002684E7",
         "3": "100",
         "4": "2014-02-14",
         "5": "United States of America",
         "6": "Rainforest Films",
         "7": "2025-05-17 18:23:31.233017"
        },
        {
         "0": "About Last Night",
         "1": "1.25E7",
         "2": "4.9002684E7",
         "3": "100",
         "4": "2014-02-14",
         "5": "United States of America",
         "6": "Olive Bridge Entertainment",
         "7": "2025-05-17 18:23:31.233017"
        },
        {
         "0": "About Time",
         "1": "2000000.0",
         "2": "2600000.0",
         "3": "123",
         "4": "2013-08-16",
         "5": "United Kingdom",
         "6": "Working Title Films",
         "7": "2025-05-17 18:23:31.233017"
        },
        {
         "0": "About Time",
         "1": "2000000.0",
         "2": "2600000.0",
         "3": "123",
         "4": "2013-08-16",
         "5": "United Kingdom",
         "6": "Translux",
         "7": "2025-05-17 18:23:31.233017"
        },
        {
         "0": "Abraham Lincoln: Vampire Hunter",
         "1": "6.9E7",
         "2": "1.12265139E8",
         "3": "94",
         "4": "2012-06-20",
         "5": "United States of America",
         "6": "Abraham Productions",
         "7": "2025-05-17 18:23:31.233017"
        },
        {
         "0": "Abraham Lincoln: Vampire Hunter",
         "1": "6.9E7",
         "2": "1.12265139E8",
         "3": "94",
         "4": "2012-06-20",
         "5": "United States of America",
         "6": "Location Gourmet",
         "7": "2025-05-17 18:23:31.233017"
        },
        {
         "0": "Abraham Lincoln: Vampire Hunter",
         "1": "6.9E7",
         "2": "1.12265139E8",
         "3": "94",
         "4": "2012-06-20",
         "5": "United States of America",
         "6": "Twentieth Century Fox Film Corporation",
         "7": "2025-05-17 18:23:31.233017"
        },
        {
         "0": "Abraham Lincoln: Vampire Hunter",
         "1": "6.9E7",
         "2": "1.12265139E8",
         "3": "94",
         "4": "2012-06-20",
         "5": "United States of America",
         "6": "Bazelevs Production",
         "7": "2025-05-17 18:23:31.233017"
        },
        {
         "0": "Abraham Lincoln: Vampire Hunter",
         "1": "6.9E7",
         "2": "1.12265139E8",
         "3": "94",
         "4": "2012-06-20",
         "5": "United States of America",
         "6": "Tim Burton Productions",
         "7": "2025-05-17 18:23:31.233017"
        },
        {
         "0": "Absentia",
         "1": "70000.0",
         "2": "87500.0",
         "3": "92",
         "4": "2011-03-03",
         "5": "United States of America",
         "6": "Blue Dot Productions",
         "7": "2025-05-17 18:23:31.233017"
        },
        {
         "0": "Absentia",
         "1": "70000.0",
         "2": "87500.0",
         "3": "92",
         "4": "2011-03-03",
         "5": "United States of America",
         "6": "FallBack Plan Productions",
         "7": "2025-05-17 18:23:31.233017"
        },
        {
         "0": "Accidental Love",
         "1": "2.6E7",
         "2": "3.25E7",
         "3": "100",
         "4": "2015-02-10",
         "5": "United States of America",
         "6": "K. JAM Media",
         "7": "2025-05-17 18:23:31.233017"
        },
        {
         "0": "Act of Valor",
         "1": "1.2E7",
         "2": "8.1272766E7",
         "3": "110",
         "4": "2012-02-24",
         "5": "United States of America",
         "6": "Relativity Media",
         "7": "2025-05-17 18:23:31.233017"
        },
        {
         "0": "Act of Valor",
         "1": "1.2E7",
         "2": "8.1272766E7",
         "3": "110",
         "4": "2012-02-24",
         "5": "United States of America",
         "6": "Bandito Brothers",
         "7": "2025-05-17 18:23:31.233017"
        },
        {
         "0": "Addicted",
         "1": "2000000.0",
         "2": "2600000.0",
         "3": "105",
         "4": "2014-10-10",
         "5": "United States of America",
         "6": "Codeblack Entertainment",
         "7": "2025-05-17 18:23:31.233017"
        },
        {
         "0": "Addicted",
         "1": "2000000.0",
         "2": "2600000.0",
         "3": "105",
         "4": "2014-10-10",
         "5": "United States of America",
         "6": "Lionsgate",
         "7": "2025-05-17 18:23:31.233017"
        },
        {
         "0": "Admission",
         "1": "1.3E7",
         "2": "1.8E7",
         "3": "107",
         "4": "2013-03-21",
         "5": "United States of America",
         "6": "Focus Features",
         "7": "2025-05-17 18:23:31.233017"
        },
        {
         "0": "Adore",
         "1": "1.6E7",
         "2": "318982.0",
         "3": "100",
         "4": "2013-04-03",
         "5": "Australia",
         "6": "Hopscotch Features",
         "7": "2025-05-17 18:23:31.233017"
        },
        {
         "0": "Adore",
         "1": "1.6E7",
         "2": "318982.0",
         "3": "100",
         "4": "2013-04-03",
         "5": "France",
         "6": "Hopscotch Features",
         "7": "2025-05-17 18:23:31.233017"
        },
        {
         "0": "Adore",
         "1": "1.6E7",
         "2": "318982.0",
         "3": "100",
         "4": "2013-04-03",
         "5": "Australia",
         "6": "Mon Voisin Productions",
         "7": "2025-05-17 18:23:31.233017"
        },
        {
         "0": "Adore",
         "1": "1.6E7",
         "2": "318982.0",
         "3": "100",
         "4": "2013-04-03",
         "5": "France",
         "6": "Mon Voisin Productions",
         "7": "2025-05-17 18:23:31.233017"
        },
        {
         "0": "Adore",
         "1": "1.6E7",
         "2": "318982.0",
         "3": "100",
         "4": "2013-04-03",
         "5": "Australia",
         "6": "Screen NSW",
         "7": "2025-05-17 18:23:31.233017"
        },
        {
         "0": "Adore",
         "1": "1.6E7",
         "2": "318982.0",
         "3": "100",
         "4": "2013-04-03",
         "5": "France",
         "6": "Screen NSW",
         "7": "2025-05-17 18:23:31.233017"
        },
        {
         "0": "Adore",
         "1": "1.6E7",
         "2": "318982.0",
         "3": "100",
         "4": "2013-04-03",
         "5": "Australia",
         "6": "France Tu00e9lu00e9visions",
         "7": "2025-05-17 18:23:31.233017"
        },
        {
         "0": "Adore",
         "1": "1.6E7",
         "2": "318982.0",
         "3": "100",
         "4": "2013-04-03",
         "5": "France",
         "6": "France Tu00e9lu00e9visions",
         "7": "2025-05-17 18:23:31.233017"
        },
        {
         "0": "Adore",
         "1": "1.6E7",
         "2": "318982.0",
         "3": "100",
         "4": "2013-04-03",
         "5": "Australia",
         "6": "France 2 Cinu00e9ma",
         "7": "2025-05-17 18:23:31.233017"
        },
        {
         "0": "Adore",
         "1": "1.6E7",
         "2": "318982.0",
         "3": "100",
         "4": "2013-04-03",
         "5": "France",
         "6": "France 2 Cinu00e9ma",
         "7": "2025-05-17 18:23:31.233017"
        },
        {
         "0": "Adore",
         "1": "1.6E7",
         "2": "318982.0",
         "3": "100",
         "4": "2013-04-03",
         "5": "Australia",
         "6": "Gaumont",
         "7": "2025-05-17 18:23:31.233017"
        },
        {
         "0": "Adore",
         "1": "1.6E7",
         "2": "318982.0",
         "3": "100",
         "4": "2013-04-03",
         "5": "France",
         "6": "Gaumont",
         "7": "2025-05-17 18:23:31.233017"
        },
        {
         "0": "Adore",
         "1": "1.6E7",
         "2": "318982.0",
         "3": "100",
         "4": "2013-04-03",
         "5": "Australia",
         "6": "Cinu00e9@",
         "7": "2025-05-17 18:23:31.233017"
        },
        {
         "0": "Adore",
         "1": "1.6E7",
         "2": "318982.0",
         "3": "100",
         "4": "2013-04-03",
         "5": "France",
         "6": "Cinu00e9@",
         "7": "2025-05-17 18:23:31.233017"
        },
        {
         "0": "Adore",
         "1": "1.6E7",
         "2": "318982.0",
         "3": "100",
         "4": "2013-04-03",
         "5": "Australia",
         "6": "Canal+",
         "7": "2025-05-17 18:23:31.233017"
        },
        {
         "0": "Adore",
         "1": "1.6E7",
         "2": "318982.0",
         "3": "100",
         "4": "2013-04-03",
         "5": "France",
         "6": "Canal+",
         "7": "2025-05-17 18:23:31.233017"
        },
        {
         "0": "Adore",
         "1": "1.6E7",
         "2": "318982.0",
         "3": "100",
         "4": "2013-04-03",
         "5": "Australia",
         "6": "Screen Australia",
         "7": "2025-05-17 18:23:31.233017"
        },
        {
         "0": "Adore",
         "1": "1.6E7",
         "2": "318982.0",
         "3": "100",
         "4": "2013-04-03",
         "5": "France",
         "6": "Screen Australia",
         "7": "2025-05-17 18:23:31.233017"
        },
        {
         "0": "After",
         "1": "2000000.0",
         "2": "2600000.0",
         "3": "90",
         "4": "2012-08-27",
         "5": "United States of America",
         "6": "Seabourne Pictures",
         "7": "2025-05-17 18:23:31.233017"
        },
        {
         "0": "After",
         "1": "2000000.0",
         "2": "2600000.0",
         "3": "90",
         "4": "2012-08-27",
         "5": "United States of America",
         "6": "Quite Quick Productions",
         "7": "2025-05-17 18:23:31.233017"
        },
        {
         "0": "After Earth",
         "1": "1.3E8",
         "2": "2.43843127E8",
         "3": "100",
         "4": "2013-05-30",
         "5": "United States of America",
         "6": "Blinding Edge Pictures",
         "7": "2025-05-17 18:23:31.233017"
        },
        {
         "0": "After Earth",
         "1": "1.3E8",
         "2": "2.43843127E8",
         "3": "100",
         "4": "2013-05-30",
         "5": "United States of America",
         "6": "Overbrook Entertainment",
         "7": "2025-05-17 18:23:31.233017"
        },
        {
         "0": "After Earth",
         "1": "1.3E8",
         "2": "2.43843127E8",
         "3": "100",
         "4": "2013-05-30",
         "5": "United States of America",
         "6": "Columbia Pictures",
         "7": "2025-05-17 18:23:31.233017"
        },
        {
         "0": "After.Life",
         "1": "4500000.0",
         "2": "3606395.0",
         "3": "104",
         "4": "2010-04-09",
         "5": "United States of America",
         "6": "Lleju Productions",
         "7": "2025-05-17 18:23:31.233017"
        },
        {
         "0": "After.Life",
         "1": "4500000.0",
         "2": "3606395.0",
         "3": "104",
         "4": "2010-04-09",
         "5": "United States of America",
         "6": "Plum Pictures",
         "7": "2025-05-17 18:23:31.233017"
        },
        {
         "0": "After.Life",
         "1": "4500000.0",
         "2": "3606395.0",
         "3": "104",
         "4": "2010-04-09",
         "5": "United States of America",
         "6": "Harbor Light Entertainment",
         "7": "2025-05-17 18:23:31.233017"
        },
        {
         "0": "Against the Wild",
         "1": "1493619.0",
         "2": "1867023.0",
         "3": "90",
         "4": "2013-12-29",
         "5": "Canada",
         "6": "Against the Wild Films",
         "7": "2025-05-17 18:23:31.233017"
        },
        {
         "0": "Airlift",
         "1": "4500000.0",
         "2": "3.2E7",
         "3": "126",
         "4": "2016-01-22",
         "5": "India",
         "6": "Cape Of Good Films",
         "7": "2025-05-17 18:23:31.233017"
        },
        {
         "0": "Airlift",
         "1": "4500000.0",
         "2": "3.2E7",
         "3": "126",
         "4": "2016-01-22",
         "5": "India",
         "6": "T-Series",
         "7": "2025-05-17 18:23:31.233017"
        },
        {
         "0": "Airlift",
         "1": "4500000.0",
         "2": "3.2E7",
         "3": "126",
         "4": "2016-01-22",
         "5": "India",
         "6": "Hari Om Entertainment Co.",
         "7": "2025-05-17 18:23:31.233017"
        },
        {
         "0": "Albert Nobbs",
         "1": "8000000.0",
         "2": "5634828.0",
         "3": "113",
         "4": "2011-12-21",
         "5": "Ireland",
         "6": "Chrysalis Films",
         "7": "2025-05-17 18:23:31.233017"
        },
        {
         "0": "Albert Nobbs",
         "1": "8000000.0",
         "2": "5634828.0",
         "3": "113",
         "4": "2011-12-21",
         "5": "United Kingdom",
         "6": "Chrysalis Films",
         "7": "2025-05-17 18:23:31.233017"
        },
        {
         "0": "Alex Cross",
         "1": "4.5E7",
         "2": "3.0353232E7",
         "3": "101",
         "4": "2012-10-18",
         "5": "United States of America",
         "6": "Summit Entertainment",
         "7": "2025-05-17 18:23:31.233017"
        },
        {
         "0": "Alexander and the Terrible, Horrible, No Good, Very Bad Day",
         "1": "2.8E7",
         "2": "1.00654149E8",
         "3": "81",
         "4": "2014-10-08",
         "5": "United States of America",
         "6": "Walt Disney Pictures",
         "7": "2025-05-17 18:23:31.233017"
        },
        {
         "0": "Alexander and the Terrible, Horrible, No Good, Very Bad Day",
         "1": "2.8E7",
         "2": "1.00654149E8",
         "3": "81",
         "4": "2014-10-08",
         "5": "United States of America",
         "6": "21 Laps Entertainment",
         "7": "2025-05-17 18:23:31.233017"
        },
        {
         "0": "Alexander and the Terrible, Horrible, No Good, Very Bad Day",
         "1": "2.8E7",
         "2": "1.00654149E8",
         "3": "81",
         "4": "2014-10-08",
         "5": "United States of America",
         "6": "Jim Henson Company, The",
         "7": "2025-05-17 18:23:31.233017"
        },
        {
         "0": "Alice in Wonderland",
         "1": "2.0E8",
         "2": "1.02549111E9",
         "3": "108",
         "4": "2010-03-03",
         "5": "United States of America",
         "6": "Zanuck Company, The",
         "7": "2025-05-17 18:23:31.233017"
        },
        {
         "0": "Alice in Wonderland",
         "1": "2.0E8",
         "2": "1.02549111E9",
         "3": "108",
         "4": "2010-03-03",
         "5": "United States of America",
         "6": "Roth Films",
         "7": "2025-05-17 18:23:31.233017"
        },
        {
         "0": "Alice in Wonderland",
         "1": "2.0E8",
         "2": "1.02549111E9",
         "3": "108",
         "4": "2010-03-03",
         "5": "United States of America",
         "6": "Walt Disney Pictures",
         "7": "2025-05-17 18:23:31.233017"
        },
        {
         "0": "Alice in Wonderland",
         "1": "2.0E8",
         "2": "1.02549111E9",
         "3": "108",
         "4": "2010-03-03",
         "5": "United States of America",
         "6": "Team Todd",
         "7": "2025-05-17 18:23:31.233017"
        },
        {
         "0": "Alice in Wonderland",
         "1": "2.0E8",
         "2": "1.02549111E9",
         "3": "108",
         "4": "2010-03-03",
         "5": "United States of America",
         "6": "Tim Burton Productions",
         "7": "2025-05-17 18:23:31.233017"
        },
        {
         "0": "All Good Things",
         "1": "2000000.0",
         "2": "2600000.0",
         "3": "101",
         "4": "2010-12-03",
         "5": "United States of America",
         "6": "The Weinstein Company",
         "7": "2025-05-17 18:23:31.233017"
        },
        {
         "0": "All Is Bright",
         "1": "2000000.0",
         "2": "2600000.0",
         "3": "107",
         "4": "2013-09-10",
         "5": "United States of America",
         "6": "GreenStreet Films",
         "7": "2025-05-17 18:23:31.233017"
        },
        {
         "0": "All Is Bright",
         "1": "2000000.0",
         "2": "2600000.0",
         "3": "107",
         "4": "2013-09-10",
         "5": "United States of America",
         "6": "Sidney Kimmel Entertainment",
         "7": "2025-05-17 18:23:31.233017"
        },
        {
         "0": "All Is Bright",
         "1": "2000000.0",
         "2": "2600000.0",
         "3": "107",
         "4": "2013-09-10",
         "5": "United States of America",
         "6": "Touchy Feely Films",
         "7": "2025-05-17 18:23:31.233017"
        },
        {
         "0": "All Is Lost",
         "1": "9000000.0",
         "2": "6108720.0",
         "3": "106",
         "4": "2013-10-18",
         "5": "United States of America",
         "6": "Black Bear Pictures",
         "7": "2025-05-17 18:23:31.233017"
        },
        {
         "0": "All Is Lost",
         "1": "9000000.0",
         "2": "6108720.0",
         "3": "106",
         "4": "2013-10-18",
         "5": "United States of America",
         "6": "Treehouse Pictures",
         "7": "2025-05-17 18:23:31.233017"
        },
        {
         "0": "All Is Lost",
         "1": "9000000.0",
         "2": "6108720.0",
         "3": "106",
         "4": "2013-10-18",
         "5": "United States of America",
         "6": "Before the Door Pictures",
         "7": "2025-05-17 18:23:31.233017"
        },
        {
         "0": "All Is Lost",
         "1": "9000000.0",
         "2": "6108720.0",
         "3": "106",
         "4": "2013-10-18",
         "5": "United States of America",
         "6": "Washington Square Films",
         "7": "2025-05-17 18:23:31.233017"
        },
        {
         "0": "All Is Lost",
         "1": "9000000.0",
         "2": "6108720.0",
         "3": "106",
         "4": "2013-10-18",
         "5": "United States of America",
         "6": "Sudden Storm Productions",
         "7": "2025-05-17 18:23:31.233017"
        },
        {
         "0": "All Is Lost",
         "1": "9000000.0",
         "2": "6108720.0",
         "3": "106",
         "4": "2013-10-18",
         "5": "United States of America",
         "6": "FilmNation Entertainment",
         "7": "2025-05-17 18:23:31.233017"
        },
        {
         "0": "Allegiant",
         "1": "1.1E8",
         "2": "1.79246868E8",
         "3": "121",
         "4": "2016-03-09",
         "5": "United States of America",
         "6": "Mandeville Films",
         "7": "2025-05-17 18:23:31.233017"
        },
        {
         "0": "Allegiant",
         "1": "1.1E8",
         "2": "1.79246868E8",
         "3": "121",
         "4": "2016-03-09",
         "5": "United States of America",
         "6": "Red Wagon Entertainment",
         "7": "2025-05-17 18:23:31.233017"
        },
        {
         "0": "Allegiant",
         "1": "1.1E8",
         "2": "1.79246868E8",
         "3": "121",
         "4": "2016-03-09",
         "5": "United States of America",
         "6": "Summit Entertainment",
         "7": "2025-05-17 18:23:31.233017"
        },
        {
         "0": "Allegiant",
         "1": "1.1E8",
         "2": "1.79246868E8",
         "3": "121",
         "4": "2016-03-09",
         "5": "United States of America",
         "6": "Lionsgate",
         "7": "2025-05-17 18:23:31.233017"
        },
        {
         "0": "Alleluia! The Devil's Carnival",
         "1": "2000000.0",
         "2": "2600000.0",
         "3": "75",
         "4": "2016-03-29",
         "5": "United States of America",
         "6": "Limb from Limb Pictures",
         "7": "2025-05-17 18:23:31.233017"
        },
        {
         "0": "Alleluia! The Devil's Carnival",
         "1": "2000000.0",
         "2": "2600000.0",
         "3": "75",
         "4": "2016-03-29",
         "5": "United States of America",
         "6": "Execution Style Entertainment",
         "7": "2025-05-17 18:23:31.233017"
        },
        {
         "0": "Aloft",
         "1": "8000000.0",
         "2": "53086.0",
         "3": "112",
         "4": "2014-02-12",
         "5": "Spain",
         "6": "Wanda Visiu00f3n S.A.",
         "7": "2025-05-17 18:23:31.233017"
        },
        {
         "0": "Aloft",
         "1": "8000000.0",
         "2": "53086.0",
         "3": "112",
         "4": "2014-02-12",
         "5": "United States of America",
         "6": "Wanda Visiu00f3n S.A.",
         "7": "2025-05-17 18:23:31.233017"
        },
        {
         "0": "Aloft",
         "1": "8000000.0",
         "2": "53086.0",
         "3": "112",
         "4": "2014-02-12",
         "5": "France",
         "6": "Wanda Visiu00f3n S.A.",
         "7": "2025-05-17 18:23:31.233017"
        },
        {
         "0": "Aloft",
         "1": "8000000.0",
         "2": "53086.0",
         "3": "112",
         "4": "2014-02-12",
         "5": "Spain",
         "6": "Buffalo Gal Pictures",
         "7": "2025-05-17 18:23:31.233017"
        },
        {
         "0": "Aloft",
         "1": "8000000.0",
         "2": "53086.0",
         "3": "112",
         "4": "2014-02-12",
         "5": "United States of America",
         "6": "Buffalo Gal Pictures",
         "7": "2025-05-17 18:23:31.233017"
        },
        {
         "0": "Aloft",
         "1": "8000000.0",
         "2": "53086.0",
         "3": "112",
         "4": "2014-02-12",
         "5": "France",
         "6": "Buffalo Gal Pictures",
         "7": "2025-05-17 18:23:31.233017"
        },
        {
         "0": "Aloft",
         "1": "8000000.0",
         "2": "53086.0",
         "3": "112",
         "4": "2014-02-12",
         "5": "Spain",
         "6": "Arcadia Motion Pictures",
         "7": "2025-05-17 18:23:31.233017"
        },
        {
         "0": "Aloft",
         "1": "8000000.0",
         "2": "53086.0",
         "3": "112",
         "4": "2014-02-12",
         "5": "United States of America",
         "6": "Arcadia Motion Pictures",
         "7": "2025-05-17 18:23:31.233017"
        },
        {
         "0": "Aloft",
         "1": "8000000.0",
         "2": "53086.0",
         "3": "112",
         "4": "2014-02-12",
         "5": "France",
         "6": "Arcadia Motion Pictures",
         "7": "2025-05-17 18:23:31.233017"
        },
        {
         "0": "Aloha",
         "1": "3.7E7",
         "2": "2.625002E7",
         "3": "105",
         "4": "2015-05-27",
         "5": "United States of America",
         "6": "Scott Rudin Productions",
         "7": "2025-05-17 18:23:31.233017"
        },
        {
         "0": "Aloha",
         "1": "3.7E7",
         "2": "2.625002E7",
         "3": "105",
         "4": "2015-05-27",
         "5": "United States of America",
         "6": "Vinyl Films",
         "7": "2025-05-17 18:23:31.233017"
        },
        {
         "0": "Along the Roadside",
         "1": "2000000.0",
         "2": "2600000.0",
         "3": "118",
         "4": "2013-02-28",
         "5": "United States of America",
         "6": "Metakwon Filmworks",
         "7": "2025-05-17 18:23:31.233017"
        },
        {
         "0": "Alpha and Omega",
         "1": "2.0E7",
         "2": "3.93E7",
         "3": "88",
         "4": "2010-09-17",
         "5": "India",
         "6": "Crest Animation Productions",
         "7": "2025-05-17 18:23:31.233017"
        },
        {
         "0": "Alpha and Omega",
         "1": "2.0E7",
         "2": "3.93E7",
         "3": "88",
         "4": "2010-09-17",
         "5": "United States of America",
         "6": "Crest Animation Productions",
         "7": "2025-05-17 18:23:31.233017"
        },
        {
         "0": "Alpha and Omega",
         "1": "2.0E7",
         "2": "3.93E7",
         "3": "88",
         "4": "2010-09-17",
         "5": "India",
         "6": "Lions Gate Family Entertainment",
         "7": "2025-05-17 18:23:31.233017"
        },
        {
         "0": "Alpha and Omega",
         "1": "2.0E7",
         "2": "3.93E7",
         "3": "88",
         "4": "2010-09-17",
         "5": "United States of America",
         "6": "Lions Gate Family Entertainment",
         "7": "2025-05-17 18:23:31.233017"
        },
        {
         "0": "Alpha and Omega",
         "1": "2.0E7",
         "2": "3.93E7",
         "3": "88",
         "4": "2010-09-17",
         "5": "India",
         "6": "Relativity Media",
         "7": "2025-05-17 18:23:31.233017"
        },
        {
         "0": "Alpha and Omega",
         "1": "2.0E7",
         "2": "3.93E7",
         "3": "88",
         "4": "2010-09-17",
         "5": "United States of America",
         "6": "Relativity Media",
         "7": "2025-05-17 18:23:31.233017"
        },
        {
         "0": "Alpha and Omega: The Legend of the Saw Tooth Cave",
         "1": "2000000.0",
         "2": "2600000.0",
         "3": "53",
         "4": "2014-07-21",
         "5": "United States of America",
         "6": "Crest Animation Production",
         "7": "2025-05-17 18:23:31.233017"
        },
        {
         "0": "Alpha and Omega: The Legend of the Saw Tooth Cave",
         "1": "2000000.0",
         "2": "2600000.0",
         "3": "53",
         "4": "2014-07-21",
         "5": "United States of America",
         "6": "LionsGate",
         "7": "2025-05-17 18:23:31.233017"
        },
        {
         "0": "Alvin and the Chipmunks: Chipwrecked",
         "1": "7.5E7",
         "2": "3.42695435E8",
         "3": "87",
         "4": "2011-12-14",
         "5": "United States of America",
         "6": "Fox 2000 Pictures",
         "7": "2025-05-17 18:23:31.233017"
        },
        {
         "0": "Alvin and the Chipmunks: The Road Chip",
         "1": "2000000.0",
         "2": "2600000.0",
         "3": "92",
         "4": "2015-12-17",
         "5": "United States of America",
         "6": "TSG Entertainment",
         "7": "2025-05-17 18:23:31.233017"
        },
        {
         "0": "Alvin and the Chipmunks: The Road Chip",
         "1": "2000000.0",
         "2": "2600000.0",
         "3": "92",
         "4": "2015-12-17",
         "5": "United States of America",
         "6": "Bagdasarian Productions",
         "7": "2025-05-17 18:23:31.233017"
        },
        {
         "0": "Alvin and the Chipmunks: The Road Chip",
         "1": "2000000.0",
         "2": "2600000.0",
         "3": "92",
         "4": "2015-12-17",
         "5": "United States of America",
         "6": "Regency Enterprises",
         "7": "2025-05-17 18:23:31.233017"
        },
        {
         "0": "Alvin and the Chipmunks: The Road Chip",
         "1": "2000000.0",
         "2": "2600000.0",
         "3": "92",
         "4": "2015-12-17",
         "5": "United States of America",
         "6": "Fox 2000 Pictures",
         "7": "2025-05-17 18:23:31.233017"
        },
        {
         "0": "Alvin and the Chipmunks: The Road Chip",
         "1": "2000000.0",
         "2": "2600000.0",
         "3": "92",
         "4": "2015-12-17",
         "5": "United States of America",
         "6": "Sunswept Entertainment",
         "7": "2025-05-17 18:23:31.233017"
        },
        {
         "0": "American Heist",
         "1": "1.0E7",
         "2": "1.25E7",
         "3": "94",
         "4": "2014-09-11",
         "5": "Luxembourg",
         "6": "Glacier Films",
         "7": "2025-05-17 18:23:31.233017"
        },
        {
         "0": "American Heist",
         "1": "1.0E7",
         "2": "1.25E7",
         "3": "94",
         "4": "2014-09-11",
         "5": "Canada",
         "6": "Glacier Films",
         "7": "2025-05-17 18:23:31.233017"
        },
        {
         "0": "American Heist",
         "1": "1.0E7",
         "2": "1.25E7",
         "3": "94",
         "4": "2014-09-11",
         "5": "Luxembourg",
         "6": "Maple Leaf Finance Primeredian Entertainment",
         "7": "2025-05-17 18:23:31.233017"
        },
        {
         "0": "American Heist",
         "1": "1.0E7",
         "2": "1.25E7",
         "3": "94",
         "4": "2014-09-11",
         "5": "Canada",
         "6": "Maple Leaf Finance Primeredian Entertainment",
         "7": "2025-05-17 18:23:31.233017"
        },
        {
         "0": "American Heist",
         "1": "1.0E7",
         "2": "1.25E7",
         "3": "94",
         "4": "2014-09-11",
         "5": "Luxembourg",
         "6": "NGN Productions",
         "7": "2025-05-17 18:23:31.233017"
        },
        {
         "0": "American Heist",
         "1": "1.0E7",
         "2": "1.25E7",
         "3": "94",
         "4": "2014-09-11",
         "5": "Canada",
         "6": "NGN Productions",
         "7": "2025-05-17 18:23:31.233017"
        },
        {
         "0": "American Hero",
         "1": "2000000.0",
         "2": "2600000.0",
         "3": "86",
         "4": "2015-12-11",
         "5": "United States of America",
         "6": "Protagonist Pictures",
         "7": "2025-05-17 18:23:31.233017"
        },
        {
         "0": "American Hero",
         "1": "2000000.0",
         "2": "2600000.0",
         "3": "86",
         "4": "2015-12-11",
         "5": "United States of America",
         "6": "Vertigo Films",
         "7": "2025-05-17 18:23:31.233017"
        },
        {
         "0": "American Hero",
         "1": "2000000.0",
         "2": "2600000.0",
         "3": "86",
         "4": "2015-12-11",
         "5": "United States of America",
         "6": "Screen Media Films",
         "7": "2025-05-17 18:23:31.233017"
        },
        {
         "0": "American Hustle",
         "1": "4.0E7",
         "2": "2.51171807E8",
         "3": "138",
         "4": "2013-12-12",
         "5": "United States of America",
         "6": "Annapurna Pictures",
         "7": "2025-05-17 18:23:31.233017"
        },
        {
         "0": "American Hustle",
         "1": "4.0E7",
         "2": "2.51171807E8",
         "3": "138",
         "4": "2013-12-12",
         "5": "United States of America",
         "6": "Columbia Pictures",
         "7": "2025-05-17 18:23:31.233017"
        },
        {
         "0": "American Hustle",
         "1": "4.0E7",
         "2": "2.51171807E8",
         "3": "138",
         "4": "2013-12-12",
         "5": "United States of America",
         "6": "Atlas Entertainment",
         "7": "2025-05-17 18:23:31.233017"
        },
        {
         "0": "American Reunion",
         "1": "5.0E7",
         "2": "2.34989584E8",
         "3": "113",
         "4": "2012-04-04",
         "5": "United States of America",
         "6": "Universal Pictures",
         "7": "2025-05-17 18:23:31.233017"
        },
        {
         "0": "American Sniper",
         "1": "5.88E7",
         "2": "5.42307423E8",
         "3": "133",
         "4": "2014-12-11",
         "5": "United States of America",
         "6": "RatPac-Dune Entertainment",
         "7": "2025-05-17 18:23:31.233017"
        },
        {
         "0": "American Sniper",
         "1": "5.88E7",
         "2": "5.42307423E8",
         "3": "133",
         "4": "2014-12-11",
         "5": "United States of America",
         "6": "Mad Chance Productions",
         "7": "2025-05-17 18:23:31.233017"
        },
        {
         "0": "American Sniper",
         "1": "5.88E7",
         "2": "5.42307423E8",
         "3": "133",
         "4": "2014-12-11",
         "5": "United States of America",
         "6": "22 & Indiana Pictures",
         "7": "2025-05-17 18:23:31.233017"
        },
        {
         "0": "American Sniper",
         "1": "5.88E7",
         "2": "5.42307423E8",
         "3": "133",
         "4": "2014-12-11",
         "5": "United States of America",
         "6": "Village Roadshow Pictures",
         "7": "2025-05-17 18:23:31.233017"
        },
        {
         "0": "American Sniper",
         "1": "5.88E7",
         "2": "5.42307423E8",
         "3": "133",
         "4": "2014-12-11",
         "5": "United States of America",
         "6": "Malpaso Productions",
         "7": "2025-05-17 18:23:31.233017"
        },
        {
         "0": "American Sniper",
         "1": "5.88E7",
         "2": "5.42307423E8",
         "3": "133",
         "4": "2014-12-11",
         "5": "United States of America",
         "6": "Warner Bros.",
         "7": "2025-05-17 18:23:31.233017"
        },
        {
         "0": "Amidst the Devil's Wings",
         "1": "300000.0",
         "2": "375000.0",
         "3": "90",
         "4": "2014-12-01",
         "5": "United States of America",
         "6": "Daniel Columbie Films & Productions",
         "7": "2025-05-17 18:23:31.233017"
        },
        {
         "0": "Amigo",
         "1": "1200000.0",
         "2": "1500000.0",
         "3": "128",
         "4": "2010-07-14",
         "5": "United States of America",
         "6": "Anarchist's Convention Films",
         "7": "2025-05-17 18:23:31.233017"
        },
        {
         "0": "Amnesiac",
         "1": "3000000.0",
         "2": "3750000.0",
         "3": "90",
         "4": "2015-08-14",
         "5": "United States of America",
         "6": "Infra-Red Pictures",
         "7": "2025-05-17 18:23:31.233017"
        },
        {
         "0": "Amour",
         "1": "8900000.0",
         "2": "1.9839492E7",
         "3": "127",
         "4": "2012-07-01",
         "5": "Germany",
         "6": "Les Films du Losange",
         "7": "2025-05-17 18:23:31.233017"
        },
        {
         "0": "Amour",
         "1": "8900000.0",
         "2": "1.9839492E7",
         "3": "127",
         "4": "2012-07-01",
         "5": "Austria",
         "6": "Les Films du Losange",
         "7": "2025-05-17 18:23:31.233017"
        },
        {
         "0": "Amour",
         "1": "8900000.0",
         "2": "1.9839492E7",
         "3": "127",
         "4": "2012-07-01",
         "5": "France",
         "6": "Les Films du Losange",
         "7": "2025-05-17 18:23:31.233017"
        },
        {
         "0": "Amour",
         "1": "8900000.0",
         "2": "1.9839492E7",
         "3": "127",
         "4": "2012-07-01",
         "5": "Germany",
         "6": "Wega Film",
         "7": "2025-05-17 18:23:31.233017"
        },
        {
         "0": "Amour",
         "1": "8900000.0",
         "2": "1.9839492E7",
         "3": "127",
         "4": "2012-07-01",
         "5": "Austria",
         "6": "Wega Film",
         "7": "2025-05-17 18:23:31.233017"
        },
        {
         "0": "Amour",
         "1": "8900000.0",
         "2": "1.9839492E7",
         "3": "127",
         "4": "2012-07-01",
         "5": "France",
         "6": "Wega Film",
         "7": "2025-05-17 18:23:31.233017"
        },
        {
         "0": "Amour",
         "1": "8900000.0",
         "2": "1.9839492E7",
         "3": "127",
         "4": "2012-07-01",
         "5": "Germany",
         "6": "X-Filme Creative Pool",
         "7": "2025-05-17 18:23:31.233017"
        },
        {
         "0": "Amour",
         "1": "8900000.0",
         "2": "1.9839492E7",
         "3": "127",
         "4": "2012-07-01",
         "5": "Austria",
         "6": "X-Filme Creative Pool",
         "7": "2025-05-17 18:23:31.233017"
        },
        {
         "0": "Amour",
         "1": "8900000.0",
         "2": "1.9839492E7",
         "3": "127",
         "4": "2012-07-01",
         "5": "France",
         "6": "X-Filme Creative Pool",
         "7": "2025-05-17 18:23:31.233017"
        },
        {
         "0": "Anchorman 2: The Legend Continues",
         "1": "5.0E7",
         "2": "1.73649015E8",
         "3": "119",
         "4": "2013-12-18",
         "5": "United States of America",
         "6": "Apatow Productions",
         "7": "2025-05-17 18:23:31.233017"
        },
        {
         "0": "Anchorman 2: The Legend Continues",
         "1": "5.0E7",
         "2": "1.73649015E8",
         "3": "119",
         "4": "2013-12-18",
         "5": "United States of America",
         "6": "Paramount Pictures",
         "7": "2025-05-17 18:23:31.233017"
        },
        {
         "0": "Anchorman 2: The Legend Continues",
         "1": "5.0E7",
         "2": "1.73649015E8",
         "3": "119",
         "4": "2013-12-18",
         "5": "United States of America",
         "6": "Gary Sanchez Productions",
         "7": "2025-05-17 18:23:31.233017"
        },
        {
         "0": "And So It Goes",
         "1": "1.8E7",
         "2": "2.5312387E7",
         "3": "94",
         "4": "2014-07-20",
         "5": "United States of America",
         "6": "Envision Entertainment",
         "7": "2025-05-17 18:23:31.233017"
        },
        {
         "0": "And So It Goes",
         "1": "1.8E7",
         "2": "2.5312387E7",
         "3": "94",
         "4": "2014-07-20",
         "5": "United States of America",
         "6": "ASIG Productions",
         "7": "2025-05-17 18:23:31.233017"
        },
        {
         "0": "And So It Goes",
         "1": "1.8E7",
         "2": "2.5312387E7",
         "3": "94",
         "4": "2014-07-20",
         "5": "United States of America",
         "6": "Castle Rock Entertainment",
         "7": "2025-05-17 18:23:31.233017"
        },
        {
         "0": "Anderson's Cross",
         "1": "300000.0",
         "2": "375000.0",
         "3": "98",
         "4": "2010-05-20",
         "5": "United States of America",
         "6": "Illumination Pictures",
         "7": "2025-05-17 18:23:31.233017"
        },
        {
         "0": "Anna Karenina",
         "1": "2000000.0",
         "2": "2600000.0",
         "3": "130",
         "4": "2012-09-06",
         "5": "United Kingdom",
         "6": "Focus Features",
         "7": "2025-05-17 18:23:31.233017"
        },
        {
         "0": "Anna Karenina",
         "1": "2000000.0",
         "2": "2600000.0",
         "3": "130",
         "4": "2012-09-06",
         "5": "France",
         "6": "Focus Features",
         "7": "2025-05-17 18:23:31.233017"
        },
        {
         "0": "Anna Karenina",
         "1": "2000000.0",
         "2": "2600000.0",
         "3": "130",
         "4": "2012-09-06",
         "5": "United Kingdom",
         "6": "Working Title Films",
         "7": "2025-05-17 18:23:31.233017"
        },
        {
         "0": "Anna Karenina",
         "1": "2000000.0",
         "2": "2600000.0",
         "3": "130",
         "4": "2012-09-06",
         "5": "France",
         "6": "Working Title Films",
         "7": "2025-05-17 18:23:31.233017"
        },
        {
         "0": "Anna Karenina",
         "1": "2000000.0",
         "2": "2600000.0",
         "3": "130",
         "4": "2012-09-06",
         "5": "United Kingdom",
         "6": "Universal Pictures",
         "7": "2025-05-17 18:23:31.233017"
        },
        {
         "0": "Anna Karenina",
         "1": "2000000.0",
         "2": "2600000.0",
         "3": "130",
         "4": "2012-09-06",
         "5": "France",
         "6": "Universal Pictures",
         "7": "2025-05-17 18:23:31.233017"
        },
        {
         "0": "Annabelle",
         "1": "6500000.0",
         "2": "2.55273813E8",
         "3": "99",
         "4": "2014-10-02",
         "5": "United States of America",
         "6": "RatPac-Dune Entertainment",
         "7": "2025-05-17 18:23:31.233017"
        },
        {
         "0": "Annabelle",
         "1": "6500000.0",
         "2": "2.55273813E8",
         "3": "99",
         "4": "2014-10-02",
         "5": "United States of America",
         "6": "Evergreen Media Group",
         "7": "2025-05-17 18:23:31.233017"
        },
        {
         "0": "Annabelle",
         "1": "6500000.0",
         "2": "2.55273813E8",
         "3": "99",
         "4": "2014-10-02",
         "5": "United States of America",
         "6": "The Safran Company",
         "7": "2025-05-17 18:23:31.233017"
        },
        {
         "0": "Annabelle",
         "1": "6500000.0",
         "2": "2.55273813E8",
         "3": "99",
         "4": "2014-10-02",
         "5": "United States of America",
         "6": "New Line Cinema",
         "7": "2025-05-17 18:23:31.233017"
        },
        {
         "0": "Annie",
         "1": "6.5E7",
         "2": "1.33821816E8",
         "3": "119",
         "4": "2014-12-19",
         "5": "United States of America",
         "6": "Marcy Media",
         "7": "2025-05-17 18:23:31.233017"
        },
        {
         "0": "Annie",
         "1": "6.5E7",
         "2": "1.33821816E8",
         "3": "119",
         "4": "2014-12-19",
         "5": "United States of America",
         "6": "Overbrook Entertainment",
         "7": "2025-05-17 18:23:31.233017"
        },
        {
         "0": "Annie",
         "1": "6.5E7",
         "2": "1.33821816E8",
         "3": "119",
         "4": "2014-12-19",
         "5": "United States of America",
         "6": "Columbia Pictures",
         "7": "2025-05-17 18:23:31.233017"
        },
        {
         "0": "Annie",
         "1": "6.5E7",
         "2": "1.33821816E8",
         "3": "119",
         "4": "2014-12-19",
         "5": "United States of America",
         "6": "Olive Bridge Entertainment",
         "7": "2025-05-17 18:23:31.233017"
        },
        {
         "0": "Annie",
         "1": "6.5E7",
         "2": "1.33821816E8",
         "3": "119",
         "4": "2014-12-19",
         "5": "United States of America",
         "6": "Sony Pictures Entertainment (SPE)",
         "7": "2025-05-17 18:23:31.233017"
        },
        {
         "0": "Anomalisa",
         "1": "8000000.0",
         "2": "5659286.0",
         "3": "90",
         "4": "2015-12-30",
         "5": "United States of America",
         "6": "Starburns Industries",
         "7": "2025-05-17 18:23:31.233017"
        },
        {
         "0": "Anonymous",
         "1": "3.0E7",
         "2": "1.5395087E7",
         "3": "130",
         "4": "2011-10-21",
         "5": "Germany",
         "6": "Columbia Pictures",
         "7": "2025-05-17 18:23:31.233017"
        },
        {
         "0": "Anonymous",
         "1": "3.0E7",
         "2": "1.5395087E7",
         "3": "130",
         "4": "2011-10-21",
         "5": "United Kingdom",
         "6": "Columbia Pictures",
         "7": "2025-05-17 18:23:31.233017"
        },
        {
         "0": "Anonymous",
         "1": "3.0E7",
         "2": "1.5395087E7",
         "3": "130",
         "4": "2011-10-21",
         "5": "Germany",
         "6": "Centropolis Entertainment",
         "7": "2025-05-17 18:23:31.233017"
        },
        {
         "0": "Anonymous",
         "1": "3.0E7",
         "2": "1.5395087E7",
         "3": "130",
         "4": "2011-10-21",
         "5": "United Kingdom",
         "6": "Centropolis Entertainment",
         "7": "2025-05-17 18:23:31.233017"
        },
        {
         "0": "Another Earth",
         "1": "100000.0",
         "2": "1776935.0",
         "3": "92",
         "4": "2011-07-22",
         "5": "United States of America",
         "6": "Artists Public Domain",
         "7": "2025-05-17 18:23:31.233017"
        },
        {
         "0": "Another Happy Day",
         "1": "4000000.0",
         "2": "355688.0",
         "3": "119",
         "4": "2011-11-18",
         "5": "United States of America",
         "6": "Filmula",
         "7": "2025-05-17 18:23:31.233017"
        },
        {
         "0": "Another Year",
         "1": "8000000.0",
         "2": "1.8124262E7",
         "3": "129",
         "4": "2010-11-05",
         "5": "United Kingdom",
         "6": "Film4",
         "7": "2025-05-17 18:23:31.233017"
        },
        {
         "0": "Another Year",
         "1": "8000000.0",
         "2": "1.8124262E7",
         "3": "129",
         "4": "2010-11-05",
         "5": "United Kingdom",
         "6": "Thin Man Films",
         "7": "2025-05-17 18:23:31.233017"
        },
        {
         "0": "Ant-Man",
         "1": "1.3E8",
         "2": "5.19311965E8",
         "3": "117",
         "4": "2015-07-14",
         "5": "United States of America",
         "6": "Marvel Studios",
         "7": "2025-05-17 18:23:31.233017"
        },
        {
         "0": "Antarctica: A Year on Ice",
         "1": "1000000.0",
         "2": "1250000.0",
         "3": "92",
         "4": "2013-09-05",
         "5": "New Zealand",
         "6": "Antzworks",
         "7": "2025-05-17 18:23:31.233017"
        },
        {
         "0": "Antibirth",
         "1": "3.5E7",
         "2": "4.375E7",
         "3": "94",
         "4": "2016-09-02",
         "5": "United States of America",
         "6": "Traverse Media",
         "7": "2025-05-17 18:23:31.233017"
        },
        {
         "0": "Antibirth",
         "1": "3.5E7",
         "2": "4.375E7",
         "3": "94",
         "4": "2016-09-02",
         "5": "United States of America",
         "6": "Culmination Productions",
         "7": "2025-05-17 18:23:31.233017"
        },
        {
         "0": "Antibirth",
         "1": "3.5E7",
         "2": "4.375E7",
         "3": "94",
         "4": "2016-09-02",
         "5": "United States of America",
         "6": "Hideaway Pictures",
         "7": "2025-05-17 18:23:31.233017"
        },
        {
         "0": "Antiviral",
         "1": "2400000.0",
         "2": "3000000.0",
         "3": "110",
         "4": "2012-09-19",
         "5": "Canada",
         "6": "Alliance Films",
         "7": "2025-05-17 18:23:31.233017"
        },
        {
         "0": "Antiviral",
         "1": "2400000.0",
         "2": "3000000.0",
         "3": "110",
         "4": "2012-09-19",
         "5": "Canada",
         "6": "Telefilm Canada",
         "7": "2025-05-17 18:23:31.233017"
        },
        {
         "0": "Antiviral",
         "1": "2400000.0",
         "2": "3000000.0",
         "3": "110",
         "4": "2012-09-19",
         "5": "Canada",
         "6": "TF1 International",
         "7": "2025-05-17 18:23:31.233017"
        },
        {
         "0": "Apollo 18",
         "1": "5000000.0",
         "2": "2.5562924E7",
         "3": "86",
         "4": "2011-07-20",
         "5": "United States of America",
         "6": "Bekmambetov Projects Ltd.",
         "7": "2025-05-17 18:23:31.233017"
        },
        {
         "0": "Apollo 18",
         "1": "5000000.0",
         "2": "2.5562924E7",
         "3": "86",
         "4": "2011-07-20",
         "5": "Canada",
         "6": "Bekmambetov Projects Ltd.",
         "7": "2025-05-17 18:23:31.233017"
        },
        {
         "0": "Apollo 18",
         "1": "5000000.0",
         "2": "2.5562924E7",
         "3": "86",
         "4": "2011-07-20",
         "5": "United States of America",
         "6": "Bazelevs Production",
         "7": "2025-05-17 18:23:31.233017"
        },
        {
         "0": "Apollo 18",
         "1": "5000000.0",
         "2": "2.5562924E7",
         "3": "86",
         "4": "2011-07-20",
         "5": "Canada",
         "6": "Bazelevs Production",
         "7": "2025-05-17 18:23:31.233017"
        },
        {
         "0": "Apollo 18",
         "1": "5000000.0",
         "2": "2.5562924E7",
         "3": "86",
         "4": "2011-07-20",
         "5": "United States of America",
         "6": "Dimension Films",
         "7": "2025-05-17 18:23:31.233017"
        },
        {
         "0": "Apollo 18",
         "1": "5000000.0",
         "2": "2.5562924E7",
         "3": "86",
         "4": "2011-07-20",
         "5": "Canada",
         "6": "Dimension Films",
         "7": "2025-05-17 18:23:31.233017"
        },
        {
         "0": "Arbitrage",
         "1": "1.2E7",
         "2": "3.5485056E7",
         "3": "100",
         "4": "2012-09-14",
         "5": "United States of America",
         "6": "Alvernia Studios",
         "7": "2025-05-17 18:23:31.233017"
        },
        {
         "0": "Arbitrage",
         "1": "1.2E7",
         "2": "3.5485056E7",
         "3": "100",
         "4": "2012-09-14",
         "5": "United States of America",
         "6": "LB Productions",
         "7": "2025-05-17 18:23:31.233017"
        },
        {
         "0": "Arbitrage",
         "1": "1.2E7",
         "2": "3.5485056E7",
         "3": "100",
         "4": "2012-09-14",
         "5": "United States of America",
         "6": "Parlay Films",
         "7": "2025-05-17 18:23:31.233017"
        },
        {
         "0": "Arbitrage",
         "1": "1.2E7",
         "2": "3.5485056E7",
         "3": "100",
         "4": "2012-09-14",
         "5": "United States of America",
         "6": "Lucky Monkey Pictures",
         "7": "2025-05-17 18:23:31.233017"
        },
        {
         "0": "Arbitrage",
         "1": "1.2E7",
         "2": "3.5485056E7",
         "3": "100",
         "4": "2012-09-14",
         "5": "United States of America",
         "6": "Green Room Films",
         "7": "2025-05-17 18:23:31.233017"
        },
        {
         "0": "Arbitrage",
         "1": "1.2E7",
         "2": "3.5485056E7",
         "3": "100",
         "4": "2012-09-14",
         "5": "United States of America",
         "6": "Treehouse Pictures",
         "7": "2025-05-17 18:23:31.233017"
        },
        {
         "0": "Arbitrage",
         "1": "1.2E7",
         "2": "3.5485056E7",
         "3": "100",
         "4": "2012-09-14",
         "5": "United States of America",
         "6": "Lionsgate",
         "7": "2025-05-17 18:23:31.233017"
        },
        {
         "0": "Arbitrage",
         "1": "1.2E7",
         "2": "3.5485056E7",
         "3": "100",
         "4": "2012-09-14",
         "5": "United States of America",
         "6": "Artina Films",
         "7": "2025-05-17 18:23:31.233017"
        },
        {
         "0": "Area 51",
         "1": "5000000.0",
         "2": "6250000.0",
         "3": "91",
         "4": "2015-05-15",
         "5": "United States of America",
         "6": "Insurge Pictures",
         "7": "2025-05-17 18:23:31.233017"
        },
        {
         "0": "Argo",
         "1": "4.45E7",
         "2": "2.32324128E8",
         "3": "120",
         "4": "2012-10-11",
         "5": "United States of America",
         "6": "Smokehouse Pictures",
         "7": "2025-05-17 18:23:31.233017"
        },
        {
         "0": "Argo",
         "1": "4.45E7",
         "2": "2.32324128E8",
         "3": "120",
         "4": "2012-10-11",
         "5": "United States of America",
         "6": "GK Films",
         "7": "2025-05-17 18:23:31.233017"
        },
        {
         "0": "Argo",
         "1": "4.45E7",
         "2": "2.32324128E8",
         "3": "120",
         "4": "2012-10-11",
         "5": "United States of America",
         "6": "Warner Bros.",
         "7": "2025-05-17 18:23:31.233017"
        },
        {
         "0": "Aroused",
         "1": "2000000.0",
         "2": "2600000.0",
         "3": "73",
         "4": "2013-02-20",
         "5": "United States of America",
         "6": "Cherry On Top",
         "7": "2025-05-17 18:23:31.233017"
        },
        {
         "0": "Arthur Christmas",
         "1": "2000000.0",
         "2": "2600000.0",
         "3": "97",
         "4": "2011-02-22",
         "5": "United States of America",
         "6": "Columbia Pictures",
         "7": "2025-05-17 18:23:31.233017"
        },
        {
         "0": "Arthur Christmas",
         "1": "2000000.0",
         "2": "2600000.0",
         "3": "97",
         "4": "2011-02-22",
         "5": "United States of America",
         "6": "Aardman Animations",
         "7": "2025-05-17 18:23:31.233017"
        },
        {
         "0": "Arthur Christmas",
         "1": "2000000.0",
         "2": "2600000.0",
         "3": "97",
         "4": "2011-02-22",
         "5": "United States of America",
         "6": "Sony Pictures Animation",
         "7": "2025-05-17 18:23:31.233017"
        },
        {
         "0": "As Above, So Below",
         "1": "5000000.0",
         "2": "4.01E7",
         "3": "93",
         "4": "2014-08-14",
         "5": "United States of America",
         "6": "Brothers Dowdle Productions",
         "7": "2025-05-17 18:23:31.233017"
        },
        {
         "0": "As Above, So Below",
         "1": "5000000.0",
         "2": "4.01E7",
         "3": "93",
         "4": "2014-08-14",
         "5": "United States of America",
         "6": "Universal Pictures",
         "7": "2025-05-17 18:23:31.233017"
        },
        {
         "0": "As Above, So Below",
         "1": "5000000.0",
         "2": "4.01E7",
         "3": "93",
         "4": "2014-08-14",
         "5": "United States of America",
         "6": "Legendary Pictures",
         "7": "2025-05-17 18:23:31.233017"
        },
        {
         "0": "Ask Me Anything",
         "1": "950000.0",
         "2": "1187500.0",
         "3": "100",
         "4": "2014-04-19",
         "5": "United States of America",
         "6": "Decipher Entertainment",
         "7": "2025-05-17 18:23:31.233017"
        },
        {
         "0": "Ask Me Anything",
         "1": "950000.0",
         "2": "1187500.0",
         "3": "100",
         "4": "2014-04-19",
         "5": "United States of America",
         "6": "Presque Isle Films",
         "7": "2025-05-17 18:23:31.233017"
        },
        {
         "0": "Ask Me Anything",
         "1": "950000.0",
         "2": "1187500.0",
         "3": "100",
         "4": "2014-04-19",
         "5": "United States of America",
         "6": "LA Publicity",
         "7": "2025-05-17 18:23:31.233017"
        },
        {
         "0": "Ask Me Anything",
         "1": "950000.0",
         "2": "1187500.0",
         "3": "100",
         "4": "2014-04-19",
         "5": "United States of America",
         "6": "Tait Productions",
         "7": "2025-05-17 18:23:31.233017"
        },
        {
         "0": "Atlas Shrugged Part II",
         "1": "2000000.0",
         "2": "2600000.0",
         "3": "112",
         "4": "2012-10-12",
         "5": "United States of America",
         "6": "Cinema Vehicle Services",
         "7": "2025-05-17 18:23:31.233017"
        },
        {
         "0": "Atlas Shrugged Part II",
         "1": "2000000.0",
         "2": "2600000.0",
         "3": "112",
         "4": "2012-10-12",
         "5": "United States of America",
         "6": "Atlas 2 Productions",
         "7": "2025-05-17 18:23:31.233017"
        },
        {
         "0": "Atlas Shrugged Part III: Who is John Galt?",
         "1": "5000000.0",
         "2": "846704.0",
         "3": "99",
         "4": "2014-09-12",
         "5": "United States of America",
         "6": "Atlas 3 Productions",
         "7": "2025-05-17 18:23:31.233017"
        },
        {
         "0": "Attack the Block",
         "1": "1.4350531E7",
         "2": "3964682.0",
         "3": "88",
         "4": "2011-05-12",
         "5": "United Kingdom",
         "6": "Film4",
         "7": "2025-05-17 18:23:31.233017"
        },
        {
         "0": "Attack the Block",
         "1": "1.4350531E7",
         "2": "3964682.0",
         "3": "88",
         "4": "2011-05-12",
         "5": "United Kingdom",
         "6": "UK Film Council",
         "7": "2025-05-17 18:23:31.233017"
        },
        {
         "0": "Attack the Block",
         "1": "1.4350531E7",
         "2": "3964682.0",
         "3": "88",
         "4": "2011-05-12",
         "5": "United Kingdom",
         "6": "Studio Canal",
         "7": "2025-05-17 18:23:31.233017"
        },
        {
         "0": "August: Osage County",
         "1": "2.5E7",
         "2": "7.4188937E7",
         "3": "121",
         "4": "2013-12-26",
         "5": "United States of America",
         "6": "Smokehouse Pictures",
         "7": "2025-05-17 18:23:31.233017"
        },
        {
         "0": "August: Osage County",
         "1": "2.5E7",
         "2": "7.4188937E7",
         "3": "121",
         "4": "2013-12-26",
         "5": "United States of America",
         "6": "Jean Doumanian Productions",
         "7": "2025-05-17 18:23:31.233017"
        },
        {
         "0": "Autómata",
         "1": "7000000.0",
         "2": "8750000.0",
         "3": "110",
         "4": "2014-10-09",
         "5": "Spain",
         "6": "Nu Boyana Viburno",
         "7": "2025-05-17 18:23:31.233017"
        },
        {
         "0": "Autómata",
         "1": "7000000.0",
         "2": "8750000.0",
         "3": "110",
         "4": "2014-10-09",
         "5": "Spain",
         "6": "Green Moon Productions",
         "7": "2025-05-17 18:23:31.233017"
        },
        {
         "0": "Avengers: Age of Ultron",
         "1": "2.8E8",
         "2": "1.405403694E9",
         "3": "141",
         "4": "2015-04-22",
         "5": "United States of America",
         "6": "Revolution Sun Studios",
         "7": "2025-05-17 18:23:31.233017"
        },
        {
         "0": "Avengers: Age of Ultron",
         "1": "2.8E8",
         "2": "1.405403694E9",
         "3": "141",
         "4": "2015-04-22",
         "5": "United States of America",
         "6": "Prime Focus",
         "7": "2025-05-17 18:23:31.233017"
        },
        {
         "0": "Avengers: Age of Ultron",
         "1": "2.8E8",
         "2": "1.405403694E9",
         "3": "141",
         "4": "2015-04-22",
         "5": "United States of America",
         "6": "Marvel Studios",
         "7": "2025-05-17 18:23:31.233017"
        },
        {
         "0": "Baahubali: The Beginning",
         "1": "4.0E7",
         "2": "1.0E8",
         "3": "159",
         "4": "2015-07-10",
         "5": "India",
         "6": "Arka Media Works",
         "7": "2025-05-17 18:23:31.233017"
        },
        {
         "0": "Bachelorette",
         "1": "3000000.0",
         "2": "1.1947954E7",
         "3": "87",
         "4": "2012-08-06",
         "5": "United States of America",
         "6": "BCDF Pictures",
         "7": "2025-05-17 18:23:31.233017"
        },
        {
         "0": "Bachelorette",
         "1": "3000000.0",
         "2": "1.1947954E7",
         "3": "87",
         "4": "2012-08-06",
         "5": "United States of America",
         "6": "Gary Sanchez Productions",
         "7": "2025-05-17 18:23:31.233017"
        },
        {
         "0": "Backmask",
         "1": "2000000.0",
         "2": "2600000.0",
         "3": "91",
         "4": "2015-01-16",
         "5": "United States of America",
         "6": "Bloodline Productions",
         "7": "2025-05-17 18:23:31.233017"
        },
        {
         "0": "Backmask",
         "1": "2000000.0",
         "2": "2600000.0",
         "3": "91",
         "4": "2015-01-16",
         "5": "United States of America",
         "6": "Shallow Focus",
         "7": "2025-05-17 18:23:31.233017"
        },
        {
         "0": "Backmask",
         "1": "2000000.0",
         "2": "2600000.0",
         "3": "91",
         "4": "2015-01-16",
         "5": "United States of America",
         "6": "Vicarious Entertainment",
         "7": "2025-05-17 18:23:31.233017"
        },
        {
         "0": "Backmask",
         "1": "2000000.0",
         "2": "2600000.0",
         "3": "91",
         "4": "2015-01-16",
         "5": "United States of America",
         "6": "GO Productions",
         "7": "2025-05-17 18:23:31.233017"
        },
        {
         "0": "Bad Moms",
         "1": "2.0E7",
         "2": "1.83936074E8",
         "3": "100",
         "4": "2016-07-28",
         "5": "United States of America",
         "6": "STX Entertainment",
         "7": "2025-05-17 18:23:31.233017"
        },
        {
         "0": "Bad Moms",
         "1": "2.0E7",
         "2": "1.83936074E8",
         "3": "100",
         "4": "2016-07-28",
         "5": "United States of America",
         "6": "Huayi Brothers Pictures",
         "7": "2025-05-17 18:23:31.233017"
        },
        {
         "0": "Bad Moms",
         "1": "2.0E7",
         "2": "1.83936074E8",
         "3": "100",
         "4": "2016-07-28",
         "5": "United States of America",
         "6": "BillBlock Media",
         "7": "2025-05-17 18:23:31.233017"
        },
        {
         "0": "Bad Teacher",
         "1": "2.0E7",
         "2": "2.16197492E8",
         "3": "92",
         "4": "2011-05-16",
         "5": "United States of America",
         "6": "Columbia Pictures",
         "7": "2025-05-17 18:23:31.233017"
        },
        {
         "0": "Bad Teacher",
         "1": "2.0E7",
         "2": "2.16197492E8",
         "3": "92",
         "4": "2011-05-16",
         "5": "United States of America",
         "6": "Mosaic Media Group",
         "7": "2025-05-17 18:23:31.233017"
        },
        {
         "0": "Bad Words",
         "1": "9500000.0",
         "2": "7800000.0",
         "3": "88",
         "4": "2013-09-06",
         "5": "United States of America",
         "6": "Aggregate Film",
         "7": "2025-05-17 18:23:31.233017"
        },
        {
         "0": "Bad Words",
         "1": "9500000.0",
         "2": "7800000.0",
         "3": "88",
         "4": "2013-09-06",
         "5": "United States of America",
         "6": "Darko Entertainment",
         "7": "2025-05-17 18:23:31.233017"
        },
        {
         "0": "Baggage Claim",
         "1": "8500000.0",
         "2": "2.2456509E7",
         "3": "96",
         "4": "2013-09-27",
         "5": "United States of America",
         "6": "Sneak Preview Productions",
         "7": "2025-05-17 18:23:31.233017"
        },
        {
         "0": "Bait",
         "1": "3.0E7",
         "2": "3.75E7",
         "3": "93",
         "4": "2012-09-05",
         "5": "Australia",
         "6": "Blackmagic Design Films",
         "7": "2025-05-17 18:23:31.233017"
        },
        {
         "0": "Bait",
         "1": "3.0E7",
         "2": "3.75E7",
         "3": "93",
         "4": "2012-09-05",
         "5": "Singapore",
         "6": "Blackmagic Design Films",
         "7": "2025-05-17 18:23:31.233017"
        },
        {
         "0": "Bait",
         "1": "3.0E7",
         "2": "3.75E7",
         "3": "93",
         "4": "2012-09-05",
         "5": "Australia",
         "6": "Story Bridge Films",
         "7": "2025-05-17 18:23:31.233017"
        },
        {
         "0": "Bait",
         "1": "3.0E7",
         "2": "3.75E7",
         "3": "93",
         "4": "2012-09-05",
         "5": "Singapore",
         "6": "Story Bridge Films",
         "7": "2025-05-17 18:23:31.233017"
        },
        {
         "0": "Bait",
         "1": "3.0E7",
         "2": "3.75E7",
         "3": "93",
         "4": "2012-09-05",
         "5": "Australia",
         "6": "Media Development Authority (MDA)",
         "7": "2025-05-17 18:23:31.233017"
        },
        {
         "0": "Bait",
         "1": "3.0E7",
         "2": "3.75E7",
         "3": "93",
         "4": "2012-09-05",
         "5": "Singapore",
         "6": "Media Development Authority (MDA)",
         "7": "2025-05-17 18:23:31.233017"
        },
        {
         "0": "Bait",
         "1": "3.0E7",
         "2": "3.75E7",
         "3": "93",
         "4": "2012-09-05",
         "5": "Australia",
         "6": "Screen Queensland",
         "7": "2025-05-17 18:23:31.233017"
        },
        {
         "0": "Bait",
         "1": "3.0E7",
         "2": "3.75E7",
         "3": "93",
         "4": "2012-09-05",
         "5": "Singapore",
         "6": "Screen Queensland",
         "7": "2025-05-17 18:23:31.233017"
        },
        {
         "0": "Bait",
         "1": "3.0E7",
         "2": "3.75E7",
         "3": "93",
         "4": "2012-09-05",
         "5": "Australia",
         "6": "Bait Productions",
         "7": "2025-05-17 18:23:31.233017"
        },
        {
         "0": "Bait",
         "1": "3.0E7",
         "2": "3.75E7",
         "3": "93",
         "4": "2012-09-05",
         "5": "Singapore",
         "6": "Bait Productions",
         "7": "2025-05-17 18:23:31.233017"
        },
        {
         "0": "Bait",
         "1": "3.0E7",
         "2": "3.75E7",
         "3": "93",
         "4": "2012-09-05",
         "5": "Australia",
         "6": "Pictures in Paradise",
         "7": "2025-05-17 18:23:31.233017"
        },
        {
         "0": "Bait",
         "1": "3.0E7",
         "2": "3.75E7",
         "3": "93",
         "4": "2012-09-05",
         "5": "Singapore",
         "6": "Pictures in Paradise",
         "7": "2025-05-17 18:23:31.233017"
        },
        {
         "0": "Bait",
         "1": "3.0E7",
         "2": "3.75E7",
         "3": "93",
         "4": "2012-09-05",
         "5": "Australia",
         "6": "Screen Australia",
         "7": "2025-05-17 18:23:31.233017"
        },
        {
         "0": "Bait",
         "1": "3.0E7",
         "2": "3.75E7",
         "3": "93",
         "4": "2012-09-05",
         "5": "Singapore",
         "6": "Screen Australia",
         "7": "2025-05-17 18:23:31.233017"
        },
        {
         "0": "Bang Bang Baby",
         "1": "1000000.0",
         "2": "1250000.0",
         "3": "90",
         "4": "2014-09-08",
         "5": "Canada",
         "6": "JoBro Productions & Film Finance",
         "7": "2025-05-17 18:23:31.233017"
        },
        {
         "0": "Bang Bang Baby",
         "1": "1000000.0",
         "2": "1250000.0",
         "3": "90",
         "4": "2014-09-08",
         "5": "Canada",
         "6": "Scythia Films",
         "7": "2025-05-17 18:23:31.233017"
        },
        {
         "0": "Banshee Chapter",
         "1": "950000.0",
         "2": "1187500.0",
         "3": "87",
         "4": "2013-08-26",
         "5": "Germany",
         "6": "Sunchaser Entertainment",
         "7": "2025-05-17 18:23:31.233017"
        },
        {
         "0": "Banshee Chapter",
         "1": "950000.0",
         "2": "1187500.0",
         "3": "87",
         "4": "2013-08-26",
         "5": "United States of America",
         "6": "Sunchaser Entertainment",
         "7": "2025-05-17 18:23:31.233017"
        },
        {
         "0": "Banshee Chapter",
         "1": "950000.0",
         "2": "1187500.0",
         "3": "87",
         "4": "2013-08-26",
         "5": "Germany",
         "6": "Favorit Film",
         "7": "2025-05-17 18:23:31.233017"
        },
        {
         "0": "Banshee Chapter",
         "1": "950000.0",
         "2": "1187500.0",
         "3": "87",
         "4": "2013-08-26",
         "5": "United States of America",
         "6": "Favorit Film",
         "7": "2025-05-17 18:23:31.233017"
        },
        {
         "0": "Banshee Chapter",
         "1": "950000.0",
         "2": "1187500.0",
         "3": "87",
         "4": "2013-08-26",
         "5": "Germany",
         "6": "Before the Door Pictures",
         "7": "2025-05-17 18:23:31.233017"
        },
        {
         "0": "Banshee Chapter",
         "1": "950000.0",
         "2": "1187500.0",
         "3": "87",
         "4": "2013-08-26",
         "5": "United States of America",
         "6": "Before the Door Pictures",
         "7": "2025-05-17 18:23:31.233017"
        },
        {
         "0": "Barbecue",
         "1": "6000000.0",
         "2": "1.4348529E7",
         "3": "98",
         "4": "2014-04-30",
         "5": "France",
         "6": "Cinu00e9france 1888",
         "7": "2025-05-17 18:23:31.233017"
        },
        {
         "0": "Barbecue",
         "1": "6000000.0",
         "2": "1.4348529E7",
         "3": "98",
         "4": "2014-04-30",
         "5": "France",
         "6": "TF1 Films Production",
         "7": "2025-05-17 18:23:31.233017"
        },
        {
         "0": "Barbecue",
         "1": "6000000.0",
         "2": "1.4348529E7",
         "3": "98",
         "4": "2014-04-30",
         "5": "France",
         "6": "Same Player",
         "7": "2025-05-17 18:23:31.233017"
        },
        {
         "0": "Barbecue",
         "1": "6000000.0",
         "2": "1.4348529E7",
         "3": "98",
         "4": "2014-04-30",
         "5": "France",
         "6": "Studio Canal",
         "7": "2025-05-17 18:23:31.233017"
        },
        {
         "0": "Barney's Version",
         "1": "3.0E7",
         "2": "8454301.0",
         "3": "134",
         "4": "2010-10-26",
         "5": "Italy",
         "6": "Serendipity Point Films",
         "7": "2025-05-17 18:23:31.233017"
        },
        {
         "0": "Barney's Version",
         "1": "3.0E7",
         "2": "8454301.0",
         "3": "134",
         "4": "2010-10-26",
         "5": "Canada",
         "6": "Serendipity Point Films",
         "7": "2025-05-17 18:23:31.233017"
        },
        {
         "0": "Barry Munday",
         "1": "2000000.0",
         "2": "2600000.0",
         "3": "95",
         "4": "2010-03-13",
         "5": "United States of America",
         "6": "Corner Store Entertainment",
         "7": "2025-05-17 18:23:31.233017"
        },
        {
         "0": "Barry Munday",
         "1": "2000000.0",
         "2": "2600000.0",
         "3": "95",
         "4": "2010-03-13",
         "5": "United States of America",
         "6": "Far Hills Pictures",
         "7": "2025-05-17 18:23:31.233017"
        },
        {
         "0": "Barry Munday",
         "1": "2000000.0",
         "2": "2600000.0",
         "3": "95",
         "4": "2010-03-13",
         "5": "United States of America",
         "6": "Stick 'N' Stone Productions",
         "7": "2025-05-17 18:23:31.233017"
        },
        {
         "0": "Barry Munday",
         "1": "2000000.0",
         "2": "2600000.0",
         "3": "95",
         "4": "2010-03-13",
         "5": "United States of America",
         "6": "Prospect Pictures",
         "7": "2025-05-17 18:23:31.233017"
        },
        {
         "0": "Batman v Superman: Dawn of Justice",
         "1": "2.5E8",
         "2": "8.73260194E8",
         "3": "151",
         "4": "2016-03-23",
         "5": "United States of America",
         "6": "RatPac-Dune Entertainment",
         "7": "2025-05-17 18:23:31.233017"
        },
        {
         "0": "Batman v Superman: Dawn of Justice",
         "1": "2.5E8",
         "2": "8.73260194E8",
         "3": "151",
         "4": "2016-03-23",
         "5": "United States of America",
         "6": "DC Entertainment",
         "7": "2025-05-17 18:23:31.233017"
        },
        {
         "0": "Batman v Superman: Dawn of Justice",
         "1": "2.5E8",
         "2": "8.73260194E8",
         "3": "151",
         "4": "2016-03-23",
         "5": "United States of America",
         "6": "Cruel & Unusual Films",
         "7": "2025-05-17 18:23:31.233017"
        },
        {
         "0": "Batman v Superman: Dawn of Justice",
         "1": "2.5E8",
         "2": "8.73260194E8",
         "3": "151",
         "4": "2016-03-23",
         "5": "United States of America",
         "6": "DC Comics",
         "7": "2025-05-17 18:23:31.233017"
        },
        {
         "0": "Batman v Superman: Dawn of Justice",
         "1": "2.5E8",
         "2": "8.73260194E8",
         "3": "151",
         "4": "2016-03-23",
         "5": "United States of America",
         "6": "Atlas Entertainment",
         "7": "2025-05-17 18:23:31.233017"
        },
        {
         "0": "Batman v Superman: Dawn of Justice",
         "1": "2.5E8",
         "2": "8.73260194E8",
         "3": "151",
         "4": "2016-03-23",
         "5": "United States of America",
         "6": "Warner Bros.",
         "7": "2025-05-17 18:23:31.233017"
        },
        {
         "0": "Batman: The Dark Knight Returns, Part 2",
         "1": "3500000.0",
         "2": "4375000.0",
         "3": "78",
         "4": "2013-01-18",
         "5": "United States of America",
         "6": "DC Entertainment",
         "7": "2025-05-17 18:23:31.233017"
        },
        {
         "0": "Batman: The Dark Knight Returns, Part 2",
         "1": "3500000.0",
         "2": "4375000.0",
         "3": "78",
         "4": "2013-01-18",
         "5": "United States of America",
         "6": "DC Comics",
         "7": "2025-05-17 18:23:31.233017"
        },
        {
         "0": "Batman: The Dark Knight Returns, Part 2",
         "1": "3500000.0",
         "2": "4375000.0",
         "3": "78",
         "4": "2013-01-18",
         "5": "United States of America",
         "6": "Warner Bros. Animation",
         "7": "2025-05-17 18:23:31.233017"
        },
        {
         "0": "Batman: The Dark Knight Returns, Part 2",
         "1": "3500000.0",
         "2": "4375000.0",
         "3": "78",
         "4": "2013-01-18",
         "5": "United States of America",
         "6": "Warner Premiere",
         "7": "2025-05-17 18:23:31.233017"
        },
        {
         "0": "Battle of the Year",
         "1": "2.0E7",
         "2": "1.6549477E7",
         "3": "110",
         "4": "2013-09-21",
         "5": "United States of America",
         "6": "Screen Gems",
         "7": "2025-05-17 18:23:31.233017"
        },
        {
         "0": "Battle: Los Angeles",
         "1": "7.0E7",
         "2": "2.02466756E8",
         "3": "116",
         "4": "2011-03-08",
         "5": "United States of America",
         "6": "Columbia Pictures",
         "7": "2025-05-17 18:23:31.233017"
        },
        {
         "0": "Battle: Los Angeles",
         "1": "7.0E7",
         "2": "2.02466756E8",
         "3": "116",
         "4": "2011-03-08",
         "5": "United States of America",
         "6": "Original Film",
         "7": "2025-05-17 18:23:31.233017"
        },
        {
         "0": "Battle: Los Angeles",
         "1": "7.0E7",
         "2": "2.02466756E8",
         "3": "116",
         "4": "2011-03-08",
         "5": "United States of America",
         "6": "Relativity Media",
         "7": "2025-05-17 18:23:31.233017"
        },
        {
         "0": "Battleship",
         "1": "2.09E8",
         "2": "3.03025485E8",
         "3": "131",
         "4": "2012-04-11",
         "5": "United States of America",
         "6": "Film 44",
         "7": "2025-05-17 18:23:31.233017"
        },
        {
         "0": "Battleship",
         "1": "2.09E8",
         "2": "3.03025485E8",
         "3": "131",
         "4": "2012-04-11",
         "5": "United States of America",
         "6": "Bluegrass Films",
         "7": "2025-05-17 18:23:31.233017"
        },
        {
         "0": "Battleship",
         "1": "2.09E8",
         "2": "3.03025485E8",
         "3": "131",
         "4": "2012-04-11",
         "5": "United States of America",
         "6": "Universal Pictures",
         "7": "2025-05-17 18:23:31.233017"
        },
        {
         "0": "Battleship",
         "1": "2.09E8",
         "2": "3.03025485E8",
         "3": "131",
         "4": "2012-04-11",
         "5": "United States of America",
         "6": "Hasbro",
         "7": "2025-05-17 18:23:31.233017"
        },
        {
         "0": "Beastly",
         "1": "1.7E7",
         "2": "4.3165571E7",
         "3": "86",
         "4": "2011-01-21",
         "5": "United States of America",
         "6": "Mel's Cite du Cinema",
         "7": "2025-05-17 18:23:31.233017"
        },
        {
         "0": "Beastly",
         "1": "1.7E7",
         "2": "4.3165571E7",
         "3": "86",
         "4": "2011-01-21",
         "5": "United States of America",
         "6": "Storefront Films",
         "7": "2025-05-17 18:23:31.233017"
        },
        {
         "0": "Beastly",
         "1": "1.7E7",
         "2": "4.3165571E7",
         "3": "86",
         "4": "2011-01-21",
         "5": "United States of America",
         "6": "CBS Films",
         "7": "2025-05-17 18:23:31.233017"
        },
        {
         "0": "Beasts of the Southern Wild",
         "1": "1800000.0",
         "2": "2.1107746E7",
         "3": "93",
         "4": "2012-06-29",
         "5": "United States of America",
         "6": "Cinereach",
         "7": "2025-05-17 18:23:31.233017"
        },
        {
         "0": "Beasts of the Southern Wild",
         "1": "1800000.0",
         "2": "2.1107746E7",
         "3": "93",
         "4": "2012-06-29",
         "5": "United States of America",
         "6": "Journeyman Pictures",
         "7": "2025-05-17 18:23:31.233017"
        },
        {
         "0": "Beasts of the Southern Wild",
         "1": "1800000.0",
         "2": "2.1107746E7",
         "3": "93",
         "4": "2012-06-29",
         "5": "United States of America",
         "6": "Court 13 Pictures",
         "7": "2025-05-17 18:23:31.233017"
        },
        {
         "0": "Beat the World",
         "1": "1.0E7",
         "2": "1.25E7",
         "3": "91",
         "4": "2011-06-10",
         "5": "Canada",
         "6": "Telefilm Canada - Equity Investment Program",
         "7": "2025-05-17 18:23:31.233017"
        },
        {
         "0": "Beat the World",
         "1": "1.0E7",
         "2": "1.25E7",
         "3": "91",
         "4": "2011-06-10",
         "5": "Canada",
         "6": "Inner City Films",
         "7": "2025-05-17 18:23:31.233017"
        },
        {
         "0": "Beat the World",
         "1": "1.0E7",
         "2": "1.25E7",
         "3": "91",
         "4": "2011-06-10",
         "5": "Canada",
         "6": "Ontario Media Development Corporation (OMDC)",
         "7": "2025-05-17 18:23:31.233017"
        },
        {
         "0": "Beat the World",
         "1": "1.0E7",
         "2": "1.25E7",
         "3": "91",
         "4": "2011-06-10",
         "5": "Canada",
         "6": "The Harold Greenberg Fund",
         "7": "2025-05-17 18:23:31.233017"
        },
        {
         "0": "Beautiful Creatures",
         "1": "6.0E7",
         "2": "6.0052138E7",
         "3": "124",
         "4": "2013-02-13",
         "5": "United States of America",
         "6": "Belle Pictures",
         "7": "2025-05-17 18:23:31.233017"
        },
        {
         "0": "Beautiful Creatures",
         "1": "6.0E7",
         "2": "6.0052138E7",
         "3": "124",
         "4": "2013-02-13",
         "5": "United States of America",
         "6": "3 Arts Entertainment",
         "7": "2025-05-17 18:23:31.233017"
        },
        {
         "0": "Beautiful Creatures",
         "1": "6.0E7",
         "2": "6.0052138E7",
         "3": "124",
         "4": "2013-02-13",
         "5": "United States of America",
         "6": "Alcon Entertainment",
         "7": "2025-05-17 18:23:31.233017"
        },
        {
         "0": "Beautiful Creatures",
         "1": "6.0E7",
         "2": "6.0052138E7",
         "3": "124",
         "4": "2013-02-13",
         "5": "United States of America",
         "6": "Warner Bros.",
         "7": "2025-05-17 18:23:31.233017"
        },
        {
         "0": "Before I Go to Sleep",
         "1": "2.2E7",
         "2": "1.5447154E7",
         "3": "92",
         "4": "2014-09-03",
         "5": "United Kingdom",
         "6": "Clarius Entertainment",
         "7": "2025-05-17 18:23:31.233017"
        },
        {
         "0": "Before I Go to Sleep",
         "1": "2.2E7",
         "2": "1.5447154E7",
         "3": "92",
         "4": "2014-09-03",
         "5": "Sweden",
         "6": "Clarius Entertainment",
         "7": "2025-05-17 18:23:31.233017"
        },
        {
         "0": "Before I Go to Sleep",
         "1": "2.2E7",
         "2": "1.5447154E7",
         "3": "92",
         "4": "2014-09-03",
         "5": "France",
         "6": "Clarius Entertainment",
         "7": "2025-05-17 18:23:31.233017"
        },
        {
         "0": "Before I Go to Sleep",
         "1": "2.2E7",
         "2": "1.5447154E7",
         "3": "92",
         "4": "2014-09-03",
         "5": "United Kingdom",
         "6": "Millennium Films",
         "7": "2025-05-17 18:23:31.233017"
        },
        {
         "0": "Before I Go to Sleep",
         "1": "2.2E7",
         "2": "1.5447154E7",
         "3": "92",
         "4": "2014-09-03",
         "5": "Sweden",
         "6": "Millennium Films",
         "7": "2025-05-17 18:23:31.233017"
        },
        {
         "0": "Before I Go to Sleep",
         "1": "2.2E7",
         "2": "1.5447154E7",
         "3": "92",
         "4": "2014-09-03",
         "5": "France",
         "6": "Millennium Films",
         "7": "2025-05-17 18:23:31.233017"
        },
        {
         "0": "Before I Go to Sleep",
         "1": "2.2E7",
         "2": "1.5447154E7",
         "3": "92",
         "4": "2014-09-03",
         "5": "United Kingdom",
         "6": "Film i Vu00e4st",
         "7": "2025-05-17 18:23:31.233017"
        },
        {
         "0": "Before I Go to Sleep",
         "1": "2.2E7",
         "2": "1.5447154E7",
         "3": "92",
         "4": "2014-09-03",
         "5": "Sweden",
         "6": "Film i Vu00e4st",
         "7": "2025-05-17 18:23:31.233017"
        },
        {
         "0": "Before I Go to Sleep",
         "1": "2.2E7",
         "2": "1.5447154E7",
         "3": "92",
         "4": "2014-09-03",
         "5": "France",
         "6": "Film i Vu00e4st",
         "7": "2025-05-17 18:23:31.233017"
        },
        {
         "0": "Before I Go to Sleep",
         "1": "2.2E7",
         "2": "1.5447154E7",
         "3": "92",
         "4": "2014-09-03",
         "5": "United Kingdom",
         "6": "Filmgate Films",
         "7": "2025-05-17 18:23:31.233017"
        },
        {
         "0": "Before I Go to Sleep",
         "1": "2.2E7",
         "2": "1.5447154E7",
         "3": "92",
         "4": "2014-09-03",
         "5": "Sweden",
         "6": "Filmgate Films",
         "7": "2025-05-17 18:23:31.233017"
        },
        {
         "0": "Before I Go to Sleep",
         "1": "2.2E7",
         "2": "1.5447154E7",
         "3": "92",
         "4": "2014-09-03",
         "5": "France",
         "6": "Filmgate Films",
         "7": "2025-05-17 18:23:31.233017"
        },
        {
         "0": "Before I Go to Sleep",
         "1": "2.2E7",
         "2": "1.5447154E7",
         "3": "92",
         "4": "2014-09-03",
         "5": "United Kingdom",
         "6": "StudioCanal",
         "7": "2025-05-17 18:23:31.233017"
        },
        {
         "0": "Before I Go to Sleep",
         "1": "2.2E7",
         "2": "1.5447154E7",
         "3": "92",
         "4": "2014-09-03",
         "5": "Sweden",
         "6": "StudioCanal",
         "7": "2025-05-17 18:23:31.233017"
        },
        {
         "0": "Before I Go to Sleep",
         "1": "2.2E7",
         "2": "1.5447154E7",
         "3": "92",
         "4": "2014-09-03",
         "5": "France",
         "6": "StudioCanal",
         "7": "2025-05-17 18:23:31.233017"
        },
        {
         "0": "Before I Go to Sleep",
         "1": "2.2E7",
         "2": "1.5447154E7",
         "3": "92",
         "4": "2014-09-03",
         "5": "United Kingdom",
         "6": "Scott Free Productions",
         "7": "2025-05-17 18:23:31.233017"
        },
        {
         "0": "Before I Go to Sleep",
         "1": "2.2E7",
         "2": "1.5447154E7",
         "3": "92",
         "4": "2014-09-03",
         "5": "Sweden",
         "6": "Scott Free Productions",
         "7": "2025-05-17 18:23:31.233017"
        },
        {
         "0": "Before I Go to Sleep",
         "1": "2.2E7",
         "2": "1.5447154E7",
         "3": "92",
         "4": "2014-09-03",
         "5": "France",
         "6": "Scott Free Productions",
         "7": "2025-05-17 18:23:31.233017"
        },
        {
         "0": "Before Midnight",
         "1": "3000000.0",
         "2": "1.1176469E7",
         "3": "108",
         "4": "2013-04-05",
         "5": "United States of America",
         "6": "Faliro House Productions",
         "7": "2025-05-17 18:23:31.233017"
        },
        {
         "0": "Before Midnight",
         "1": "3000000.0",
         "2": "1.1176469E7",
         "3": "108",
         "4": "2013-04-05",
         "5": "Greece",
         "6": "Faliro House Productions",
         "7": "2025-05-17 18:23:31.233017"
        },
        {
         "0": "Before Midnight",
         "1": "3000000.0",
         "2": "1.1176469E7",
         "3": "108",
         "4": "2013-04-05",
         "5": "United States of America",
         "6": "Venture Forth",
         "7": "2025-05-17 18:23:31.233017"
        },
        {
         "0": "Before Midnight",
         "1": "3000000.0",
         "2": "1.1176469E7",
         "3": "108",
         "4": "2013-04-05",
         "5": "Greece",
         "6": "Venture Forth",
         "7": "2025-05-17 18:23:31.233017"
        },
        {
         "0": "Before Midnight",
         "1": "3000000.0",
         "2": "1.1176469E7",
         "3": "108",
         "4": "2013-04-05",
         "5": "United States of America",
         "6": "Detour Filmproduction",
         "7": "2025-05-17 18:23:31.233017"
        },
        {
         "0": "Before Midnight",
         "1": "3000000.0",
         "2": "1.1176469E7",
         "3": "108",
         "4": "2013-04-05",
         "5": "Greece",
         "6": "Detour Filmproduction",
         "7": "2025-05-17 18:23:31.233017"
        },
        {
         "0": "Before Midnight",
         "1": "3000000.0",
         "2": "1.1176469E7",
         "3": "108",
         "4": "2013-04-05",
         "5": "United States of America",
         "6": "Castle Rock Entertainment",
         "7": "2025-05-17 18:23:31.233017"
        },
        {
         "0": "Before Midnight",
         "1": "3000000.0",
         "2": "1.1176469E7",
         "3": "108",
         "4": "2013-04-05",
         "5": "Greece",
         "6": "Castle Rock Entertainment",
         "7": "2025-05-17 18:23:31.233017"
        },
        {
         "0": "Begin Again",
         "1": "8000000.0",
         "2": "6.3464861E7",
         "3": "104",
         "4": "2013-09-07",
         "5": "United States of America",
         "6": "Apatow Productions",
         "7": "2025-05-17 18:23:31.233017"
        },
        {
         "0": "Begin Again",
         "1": "8000000.0",
         "2": "6.3464861E7",
         "3": "104",
         "4": "2013-09-07",
         "5": "United States of America",
         "6": "Exclusive Media Group",
         "7": "2025-05-17 18:23:31.233017"
        },
        {
         "0": "Begin Again",
         "1": "8000000.0",
         "2": "6.3464861E7",
         "3": "104",
         "4": "2013-09-07",
         "5": "United States of America",
         "6": "Sycamore Pictures",
         "7": "2025-05-17 18:23:31.233017"
        },
        {
         "0": "Begin Again",
         "1": "8000000.0",
         "2": "6.3464861E7",
         "3": "104",
         "4": "2013-09-07",
         "5": "United States of America",
         "6": "Likely Story",
         "7": "2025-05-17 18:23:31.233017"
        },
        {
         "0": "Beginners",
         "1": "3200000.0",
         "2": "5332926.0",
         "3": "105",
         "4": "2010-09-11",
         "5": "United States of America",
         "6": "Focus Features",
         "7": "2025-05-17 18:23:31.233017"
        },
        {
         "0": "Beginners",
         "1": "3200000.0",
         "2": "5332926.0",
         "3": "105",
         "4": "2010-09-11",
         "5": "United States of America",
         "6": "Parts and Labor",
         "7": "2025-05-17 18:23:31.233017"
        },
        {
         "0": "Beginners",
         "1": "3200000.0",
         "2": "5332926.0",
         "3": "105",
         "4": "2010-09-11",
         "5": "United States of America",
         "6": "Olympus Pictures",
         "7": "2025-05-17 18:23:31.233017"
        },
        {
         "0": "Ben-Hur",
         "1": "1.0E8",
         "2": "9.4061311E7",
         "3": "125",
         "4": "2016-08-17",
         "5": "United States of America",
         "6": "Sean Daniel Company",
         "7": "2025-05-17 18:23:31.233017"
        },
        {
         "0": "Ben-Hur",
         "1": "1.0E8",
         "2": "9.4061311E7",
         "3": "125",
         "4": "2016-08-17",
         "5": "United States of America",
         "6": "LightWorkers Media",
         "7": "2025-05-17 18:23:31.233017"
        },
        {
         "0": "Ben-Hur",
         "1": "1.0E8",
         "2": "9.4061311E7",
         "3": "125",
         "4": "2016-08-17",
         "5": "United States of America",
         "6": "Paramount Pictures",
         "7": "2025-05-17 18:23:31.233017"
        },
        {
         "0": "Ben-Hur",
         "1": "1.0E8",
         "2": "9.4061311E7",
         "3": "125",
         "4": "2016-08-17",
         "5": "United States of America",
         "6": "Metro-Goldwyn-Mayer (MGM)",
         "7": "2025-05-17 18:23:31.233017"
        },
        {
         "0": "Beneath Hill 60",
         "1": "7347125.0",
         "2": "9183906.0",
         "3": "122",
         "4": "2010-04-15",
         "5": "Australia",
         "6": "The Silence Productions",
         "7": "2025-05-17 18:23:31.233017"
        },
        {
         "0": "Beneath Hill 60",
         "1": "7347125.0",
         "2": "9183906.0",
         "3": "122",
         "4": "2010-04-15",
         "5": "Australia",
         "6": "Lucky Country Productions",
         "7": "2025-05-17 18:23:31.233017"
        },
        {
         "0": "Beneath Hill 60",
         "1": "7347125.0",
         "2": "9183906.0",
         "3": "122",
         "4": "2010-04-15",
         "5": "Australia",
         "6": "New South Wales Film & Television Office",
         "7": "2025-05-17 18:23:31.233017"
        },
        {
         "0": "Beneath Hill 60",
         "1": "7347125.0",
         "2": "9183906.0",
         "3": "122",
         "4": "2010-04-15",
         "5": "Australia",
         "6": "Pacific Film and Television Commission",
         "7": "2025-05-17 18:23:31.233017"
        },
        {
         "0": "Beneath Hill 60",
         "1": "7347125.0",
         "2": "9183906.0",
         "3": "122",
         "4": "2010-04-15",
         "5": "Australia",
         "6": "Screen Australia",
         "7": "2025-05-17 18:23:31.233017"
        },
        {
         "0": "Bernie",
         "1": "5000000.0",
         "2": "9206470.0",
         "3": "100",
         "4": "2012-04-27",
         "5": "United States of America",
         "6": "Detour Filmproduction",
         "7": "2025-05-17 18:23:31.233017"
        },
        {
         "0": "Bernie",
         "1": "5000000.0",
         "2": "9206470.0",
         "3": "100",
         "4": "2012-04-27",
         "5": "United States of America",
         "6": "Castle Rock Entertainment",
         "7": "2025-05-17 18:23:31.233017"
        },
        {
         "0": "Bernie",
         "1": "5000000.0",
         "2": "9206470.0",
         "3": "100",
         "4": "2012-04-27",
         "5": "United States of America",
         "6": "Horsethief Pictures",
         "7": "2025-05-17 18:23:31.233017"
        },
        {
         "0": "Bernie",
         "1": "5000000.0",
         "2": "9206470.0",
         "3": "100",
         "4": "2012-04-27",
         "5": "United States of America",
         "6": "Mandalay Vision",
         "7": "2025-05-17 18:23:31.233017"
        },
        {
         "0": "Bernie",
         "1": "5000000.0",
         "2": "9206470.0",
         "3": "100",
         "4": "2012-04-27",
         "5": "United States of America",
         "6": "Wind Dancer Productions",
         "7": "2025-05-17 18:23:31.233017"
        },
        {
         "0": "Beyond the Black Rainbow",
         "1": "1100000.0",
         "2": "1375000.0",
         "3": "110",
         "4": "2010-12-03",
         "5": "Canada",
         "6": "Chromewood Productions",
         "7": "2025-05-17 18:23:31.233017"
        },
        {
         "0": "Beyond the Lights",
         "1": "7000000.0",
         "2": "1.4618727E7",
         "3": "116",
         "4": "2014-09-10",
         "5": "United States of America",
         "6": "Black Entertainment Television (BET)",
         "7": "2025-05-17 18:23:31.233017"
        },
        {
         "0": "Beyond the Lights",
         "1": "7000000.0",
         "2": "1.4618727E7",
         "3": "116",
         "4": "2014-09-10",
         "5": "United States of America",
         "6": "Relativity Sports",
         "7": "2025-05-17 18:23:31.233017"
        },
        {
         "0": "Beyond the Lights",
         "1": "7000000.0",
         "2": "1.4618727E7",
         "3": "116",
         "4": "2014-09-10",
         "5": "United States of America",
         "6": "Undisputed Cinema",
         "7": "2025-05-17 18:23:31.233017"
        },
        {
         "0": "Beyond the Lights",
         "1": "7000000.0",
         "2": "1.4618727E7",
         "3": "116",
         "4": "2014-09-10",
         "5": "United States of America",
         "6": "Relativity Media",
         "7": "2025-05-17 18:23:31.233017"
        },
        {
         "0": "Beyond the Lights",
         "1": "7000000.0",
         "2": "1.4618727E7",
         "3": "116",
         "4": "2014-09-10",
         "5": "United States of America",
         "6": "Homegrown Pictures",
         "7": "2025-05-17 18:23:31.233017"
        },
        {
         "0": "Big Eyes",
         "1": "1.0E7",
         "2": "2.8883511E7",
         "3": "105",
         "4": "2014-12-24",
         "5": "United States of America",
         "6": "The Weinstein Company",
         "7": "2025-05-17 18:23:31.233017"
        },
        {
         "0": "Big Eyes",
         "1": "1.0E7",
         "2": "2.8883511E7",
         "3": "105",
         "4": "2014-12-24",
         "5": "Canada",
         "6": "The Weinstein Company",
         "7": "2025-05-17 18:23:31.233017"
        },
        {
         "0": "Big Eyes",
         "1": "1.0E7",
         "2": "2.8883511E7",
         "3": "105",
         "4": "2014-12-24",
         "5": "United States of America",
         "6": "Silverwood Films",
         "7": "2025-05-17 18:23:31.233017"
        },
        {
         "0": "Big Eyes",
         "1": "1.0E7",
         "2": "2.8883511E7",
         "3": "105",
         "4": "2014-12-24",
         "5": "Canada",
         "6": "Silverwood Films",
         "7": "2025-05-17 18:23:31.233017"
        },
        {
         "0": "Big Eyes",
         "1": "1.0E7",
         "2": "2.8883511E7",
         "3": "105",
         "4": "2014-12-24",
         "5": "United States of America",
         "6": "Electric City Entertainment",
         "7": "2025-05-17 18:23:31.233017"
        },
        {
         "0": "Big Eyes",
         "1": "1.0E7",
         "2": "2.8883511E7",
         "3": "105",
         "4": "2014-12-24",
         "5": "Canada",
         "6": "Electric City Entertainment",
         "7": "2025-05-17 18:23:31.233017"
        },
        {
         "0": "Big Eyes",
         "1": "1.0E7",
         "2": "2.8883511E7",
         "3": "105",
         "4": "2014-12-24",
         "5": "United States of America",
         "6": "Tim Burton Productions",
         "7": "2025-05-17 18:23:31.233017"
        },
        {
         "0": "Big Eyes",
         "1": "1.0E7",
         "2": "2.8883511E7",
         "3": "105",
         "4": "2014-12-24",
         "5": "Canada",
         "6": "Tim Burton Productions",
         "7": "2025-05-17 18:23:31.233017"
        },
        {
         "0": "Big Hero 6",
         "1": "1.65E8",
         "2": "6.52105443E8",
         "3": "102",
         "4": "2014-10-24",
         "5": "United States of America",
         "6": "Walt Disney Pictures",
         "7": "2025-05-17 18:23:31.233017"
        },
        {
         "0": "Big Hero 6",
         "1": "1.65E8",
         "2": "6.52105443E8",
         "3": "102",
         "4": "2014-10-24",
         "5": "United States of America",
         "6": "Walt Disney Animation Studios",
         "7": "2025-05-17 18:23:31.233017"
        },
        {
         "0": "Big Miracle",
         "1": "4.0E7",
         "2": "2.4719215E7",
         "3": "107",
         "4": "2012-02-02",
         "5": "United States of America",
         "6": "Anonymous Content",
         "7": "2025-05-17 18:23:31.233017"
        },
        {
         "0": "Big Miracle",
         "1": "4.0E7",
         "2": "2.4719215E7",
         "3": "107",
         "4": "2012-02-02",
         "5": "United Kingdom",
         "6": "Anonymous Content",
         "7": "2025-05-17 18:23:31.233017"
        },
        {
         "0": "Big Miracle",
         "1": "4.0E7",
         "2": "2.4719215E7",
         "3": "107",
         "4": "2012-02-02",
         "5": "United States of America",
         "6": "Working Title Films",
         "7": "2025-05-17 18:23:31.233017"
        },
        {
         "0": "Big Miracle",
         "1": "4.0E7",
         "2": "2.4719215E7",
         "3": "107",
         "4": "2012-02-02",
         "5": "United Kingdom",
         "6": "Working Title Films",
         "7": "2025-05-17 18:23:31.233017"
        },
        {
         "0": "Big Miracle",
         "1": "4.0E7",
         "2": "2.4719215E7",
         "3": "107",
         "4": "2012-02-02",
         "5": "United States of America",
         "6": "Universal Pictures",
         "7": "2025-05-17 18:23:31.233017"
        },
        {
         "0": "Big Miracle",
         "1": "4.0E7",
         "2": "2.4719215E7",
         "3": "107",
         "4": "2012-02-02",
         "5": "United Kingdom",
         "6": "Universal Pictures",
         "7": "2025-05-17 18:23:31.233017"
        },
        {
         "0": "Big Mommas: Like Father, Like Son",
         "1": "3.2E7",
         "2": "8.3615414E7",
         "3": "107",
         "4": "2011-02-16",
         "5": "United States of America",
         "6": "Runteldat Entertainment",
         "7": "2025-05-17 18:23:31.233017"
        },
        {
         "0": "Big Mommas: Like Father, Like Son",
         "1": "3.2E7",
         "2": "8.3615414E7",
         "3": "107",
         "4": "2011-02-16",
         "5": "United States of America",
         "6": "Friendly Films (II)",
         "7": "2025-05-17 18:23:31.233017"
        },
        {
         "0": "Big Mommas: Like Father, Like Son",
         "1": "3.2E7",
         "2": "8.3615414E7",
         "3": "107",
         "4": "2011-02-16",
         "5": "United States of America",
         "6": "Friendly Films Productions",
         "7": "2025-05-17 18:23:31.233017"
        },
        {
         "0": "Big Mommas: Like Father, Like Son",
         "1": "3.2E7",
         "2": "8.3615414E7",
         "3": "107",
         "4": "2011-02-16",
         "5": "United States of America",
         "6": "The Collective Studios",
         "7": "2025-05-17 18:23:31.233017"
        },
        {
         "0": "Big Mommas: Like Father, Like Son",
         "1": "3.2E7",
         "2": "8.3615414E7",
         "3": "107",
         "4": "2011-02-16",
         "5": "United States of America",
         "6": "New Regency Pictures",
         "7": "2025-05-17 18:23:31.233017"
        },
        {
         "0": "Big Mommas: Like Father, Like Son",
         "1": "3.2E7",
         "2": "8.3615414E7",
         "3": "107",
         "4": "2011-02-16",
         "5": "United States of America",
         "6": "Twentieth Century Fox Film Corporation",
         "7": "2025-05-17 18:23:31.233017"
        },
        {
         "0": "Big Mommas: Like Father, Like Son",
         "1": "3.2E7",
         "2": "8.3615414E7",
         "3": "107",
         "4": "2011-02-16",
         "5": "United States of America",
         "6": "Regency Enterprises",
         "7": "2025-05-17 18:23:31.233017"
        },
        {
         "0": "Birdman",
         "1": "1.8E7",
         "2": "1.03215094E8",
         "3": "119",
         "4": "2014-08-27",
         "5": "United States of America",
         "6": "Le Grisbi Productions",
         "7": "2025-05-17 18:23:31.233017"
        },
        {
         "0": "Birdman",
         "1": "1.8E7",
         "2": "1.03215094E8",
         "3": "119",
         "4": "2014-08-27",
         "5": "United States of America",
         "6": "M Productions",
         "7": "2025-05-17 18:23:31.233017"
        },
        {
         "0": "Birdman",
         "1": "1.8E7",
         "2": "1.03215094E8",
         "3": "119",
         "4": "2014-08-27",
         "5": "United States of America",
         "6": "TSG Entertainment",
         "7": "2025-05-17 18:23:31.233017"
        },
        {
         "0": "Birdman",
         "1": "1.8E7",
         "2": "1.03215094E8",
         "3": "119",
         "4": "2014-08-27",
         "5": "United States of America",
         "6": "Worldview Entertainment",
         "7": "2025-05-17 18:23:31.233017"
        },
        {
         "0": "Birdman",
         "1": "1.8E7",
         "2": "1.03215094E8",
         "3": "119",
         "4": "2014-08-27",
         "5": "United States of America",
         "6": "New Regency Pictures",
         "7": "2025-05-17 18:23:31.233017"
        },
        {
         "0": "Biutiful",
         "1": "2000000.0",
         "2": "2600000.0",
         "3": "148",
         "4": "2010-10-20",
         "5": "Spain",
         "6": "Focus Features",
         "7": "2025-05-17 18:23:31.233017"
        },
        {
         "0": "Biutiful",
         "1": "2000000.0",
         "2": "2600000.0",
         "3": "148",
         "4": "2010-10-20",
         "5": "Mexico",
         "6": "Focus Features",
         "7": "2025-05-17 18:23:31.233017"
        },
        {
         "0": "Biutiful",
         "1": "2000000.0",
         "2": "2600000.0",
         "3": "148",
         "4": "2010-10-20",
         "5": "Spain",
         "6": "Ikiru Films",
         "7": "2025-05-17 18:23:31.233017"
        },
        {
         "0": "Biutiful",
         "1": "2000000.0",
         "2": "2600000.0",
         "3": "148",
         "4": "2010-10-20",
         "5": "Mexico",
         "6": "Ikiru Films",
         "7": "2025-05-17 18:23:31.233017"
        },
        {
         "0": "Biutiful",
         "1": "2000000.0",
         "2": "2600000.0",
         "3": "148",
         "4": "2010-10-20",
         "5": "Spain",
         "6": "Mod Producciones",
         "7": "2025-05-17 18:23:31.233017"
        },
        {
         "0": "Biutiful",
         "1": "2000000.0",
         "2": "2600000.0",
         "3": "148",
         "4": "2010-10-20",
         "5": "Mexico",
         "6": "Mod Producciones",
         "7": "2025-05-17 18:23:31.233017"
        },
        {
         "0": "Biutiful",
         "1": "2000000.0",
         "2": "2600000.0",
         "3": "148",
         "4": "2010-10-20",
         "5": "Spain",
         "6": "Televisiu00f3n Espau00f1ola (TVE)",
         "7": "2025-05-17 18:23:31.233017"
        },
        {
         "0": "Biutiful",
         "1": "2000000.0",
         "2": "2600000.0",
         "3": "148",
         "4": "2010-10-20",
         "5": "Mexico",
         "6": "Televisiu00f3n Espau00f1ola (TVE)",
         "7": "2025-05-17 18:23:31.233017"
        },
        {
         "0": "Biutiful",
         "1": "2000000.0",
         "2": "2600000.0",
         "3": "148",
         "4": "2010-10-20",
         "5": "Spain",
         "6": "Menageatroz",
         "7": "2025-05-17 18:23:31.233017"
        },
        {
         "0": "Biutiful",
         "1": "2000000.0",
         "2": "2600000.0",
         "3": "148",
         "4": "2010-10-20",
         "5": "Mexico",
         "6": "Menageatroz",
         "7": "2025-05-17 18:23:31.233017"
        },
        {
         "0": "Biutiful",
         "1": "2000000.0",
         "2": "2600000.0",
         "3": "148",
         "4": "2010-10-20",
         "5": "Spain",
         "6": "Televisiu00f3 de Catalunya (TV3)",
         "7": "2025-05-17 18:23:31.233017"
        },
        {
         "0": "Biutiful",
         "1": "2000000.0",
         "2": "2600000.0",
         "3": "148",
         "4": "2010-10-20",
         "5": "Mexico",
         "6": "Televisiu00f3 de Catalunya (TV3)",
         "7": "2025-05-17 18:23:31.233017"
        },
        {
         "0": "Bizarre",
         "1": "2000000.0",
         "2": "2600000.0",
         "3": "99",
         "4": "2015-02-07",
         "5": "France",
         "6": "Eivissa Productions",
         "7": "2025-05-17 18:23:31.233017"
        },
        {
         "0": "Bizarre",
         "1": "2000000.0",
         "2": "2600000.0",
         "3": "99",
         "4": "2015-02-07",
         "5": "United States of America",
         "6": "Eivissa Productions",
         "7": "2025-05-17 18:23:31.233017"
        },
        {
         "0": "Bizarre",
         "1": "2000000.0",
         "2": "2600000.0",
         "3": "99",
         "4": "2015-02-07",
         "5": "France",
         "6": "Bushwick Factory",
         "7": "2025-05-17 18:23:31.233017"
        },
        {
         "0": "Bizarre",
         "1": "2000000.0",
         "2": "2600000.0",
         "3": "99",
         "4": "2015-02-07",
         "5": "United States of America",
         "6": "Bushwick Factory",
         "7": "2025-05-17 18:23:31.233017"
        },
        {
         "0": "Black Mass",
         "1": "5.3E7",
         "2": "9.8837872E7",
         "3": "122",
         "4": "2015-09-04",
         "5": "United States of America",
         "6": "Free State Pictures",
         "7": "2025-05-17 18:23:31.233017"
        },
        {
         "0": "Black Mass",
         "1": "5.3E7",
         "2": "9.8837872E7",
         "3": "122",
         "4": "2015-09-04",
         "5": "United Kingdom",
         "6": "Free State Pictures",
         "7": "2025-05-17 18:23:31.233017"
        },
        {
         "0": "Black Mass",
         "1": "5.3E7",
         "2": "9.8837872E7",
         "3": "122",
         "4": "2015-09-04",
         "5": "United States of America",
         "6": "RatPac-Dune Entertainment",
         "7": "2025-05-17 18:23:31.233017"
        },
        {
         "0": "Black Mass",
         "1": "5.3E7",
         "2": "9.8837872E7",
         "3": "122",
         "4": "2015-09-04",
         "5": "United Kingdom",
         "6": "RatPac-Dune Entertainment",
         "7": "2025-05-17 18:23:31.233017"
        },
        {
         "0": "Black Mass",
         "1": "5.3E7",
         "2": "9.8837872E7",
         "3": "122",
         "4": "2015-09-04",
         "5": "United States of America",
         "6": "Le Grisbi Productions",
         "7": "2025-05-17 18:23:31.233017"
        },
        {
         "0": "Black Mass",
         "1": "5.3E7",
         "2": "9.8837872E7",
         "3": "122",
         "4": "2015-09-04",
         "5": "United Kingdom",
         "6": "Le Grisbi Productions",
         "7": "2025-05-17 18:23:31.233017"
        },
        {
         "0": "Black Mass",
         "1": "5.3E7",
         "2": "9.8837872E7",
         "3": "122",
         "4": "2015-09-04",
         "5": "United States of America",
         "6": "Vendian Entertainment",
         "7": "2025-05-17 18:23:31.233017"
        },
        {
         "0": "Black Mass",
         "1": "5.3E7",
         "2": "9.8837872E7",
         "3": "122",
         "4": "2015-09-04",
         "5": "United Kingdom",
         "6": "Vendian Entertainment",
         "7": "2025-05-17 18:23:31.233017"
        },
        {
         "0": "Black Mass",
         "1": "5.3E7",
         "2": "9.8837872E7",
         "3": "122",
         "4": "2015-09-04",
         "5": "United States of America",
         "6": "Cross Creek Pictures",
         "7": "2025-05-17 18:23:31.233017"
        },
        {
         "0": "Black Mass",
         "1": "5.3E7",
         "2": "9.8837872E7",
         "3": "122",
         "4": "2015-09-04",
         "5": "United Kingdom",
         "6": "Cross Creek Pictures",
         "7": "2025-05-17 18:23:31.233017"
        },
        {
         "0": "Black Mass",
         "1": "5.3E7",
         "2": "9.8837872E7",
         "3": "122",
         "4": "2015-09-04",
         "5": "United States of America",
         "6": "Infinitum Nihil",
         "7": "2025-05-17 18:23:31.233017"
        },
        {
         "0": "Black Mass",
         "1": "5.3E7",
         "2": "9.8837872E7",
         "3": "122",
         "4": "2015-09-04",
         "5": "United Kingdom",
         "6": "Infinitum Nihil",
         "7": "2025-05-17 18:23:31.233017"
        },
        {
         "0": "Black Mass",
         "1": "5.3E7",
         "2": "9.8837872E7",
         "3": "122",
         "4": "2015-09-04",
         "5": "United States of America",
         "6": "Head Gear Films",
         "7": "2025-05-17 18:23:31.233017"
        },
        {
         "0": "Black Mass",
         "1": "5.3E7",
         "2": "9.8837872E7",
         "3": "122",
         "4": "2015-09-04",
         "5": "United Kingdom",
         "6": "Head Gear Films",
         "7": "2025-05-17 18:23:31.233017"
        },
        {
         "0": "Black Nativity",
         "1": "1.75E7",
         "2": "7018189.0",
         "3": "93",
         "4": "2013-11-27",
         "5": "United States of America",
         "6": "Malvern Pictures",
         "7": "2025-05-17 18:23:31.233017"
        },
        {
         "0": "Black Nativity",
         "1": "1.75E7",
         "2": "7018189.0",
         "3": "93",
         "4": "2013-11-27",
         "5": "United States of America",
         "6": "Fox Searchlight Pictures",
         "7": "2025-05-17 18:23:31.233017"
        },
        {
         "0": "Black November",
         "1": "1.25E7",
         "2": "1.5625E7",
         "3": "95",
         "4": "2012-12-07",
         "5": "Nigeria",
         "6": "Wells & Jeta Entertainment",
         "7": "2025-05-17 18:23:31.233017"
        },
        {
         "0": "Black November",
         "1": "1.25E7",
         "2": "1.5625E7",
         "3": "95",
         "4": "2012-12-07",
         "5": "United States of America",
         "6": "Wells & Jeta Entertainment",
         "7": "2025-05-17 18:23:31.233017"
        },
        {
         "0": "Black Rock",
         "1": "2000000.0",
         "2": "2600000.0",
         "3": "83",
         "4": "2012-01-21",
         "5": "United States of America",
         "6": "LD Entertainment",
         "7": "2025-05-17 18:23:31.233017"
        },
        {
         "0": "Black Rock",
         "1": "2000000.0",
         "2": "2600000.0",
         "3": "83",
         "4": "2012-01-21",
         "5": "United States of America",
         "6": "Submarine Entertainment Distributors",
         "7": "2025-05-17 18:23:31.233017"
        },
        {
         "0": "Black or White",
         "1": "9000000.0",
         "2": "2.1571189E7",
         "3": "121",
         "4": "2014-09-06",
         "5": "United States of America",
         "6": "Treehouse Pictures",
         "7": "2025-05-17 18:23:31.233017"
        },
        {
         "0": "Blackhat",
         "1": "7.0E7",
         "2": "1.775294E7",
         "3": "133",
         "4": "2015-01-13",
         "5": "United States of America",
         "6": "Universal Pictures",
         "7": "2025-05-17 18:23:31.233017"
        },
        {
         "0": "Blackhat",
         "1": "7.0E7",
         "2": "1.775294E7",
         "3": "133",
         "4": "2015-01-13",
         "5": "United States of America",
         "6": "Forward Pass",
         "7": "2025-05-17 18:23:31.233017"
        },
        {
         "0": "Blackhat",
         "1": "7.0E7",
         "2": "1.775294E7",
         "3": "133",
         "4": "2015-01-13",
         "5": "United States of America",
         "6": "Legendary Pictures",
         "7": "2025-05-17 18:23:31.233017"
        },
        {
         "0": "Blackthorn",
         "1": "2000000.0",
         "2": "2600000.0",
         "3": "98",
         "4": "2011-08-31",
         "5": "United Kingdom",
         "6": "ONO",
         "7": "2025-05-17 18:23:31.233017"
        },
        {
         "0": "Blackthorn",
         "1": "2000000.0",
         "2": "2600000.0",
         "3": "98",
         "4": "2011-08-31",
         "5": "Spain",
         "6": "ONO",
         "7": "2025-05-17 18:23:31.233017"
        },
        {
         "0": "Blackthorn",
         "1": "2000000.0",
         "2": "2600000.0",
         "3": "98",
         "4": "2011-08-31",
         "5": "France",
         "6": "ONO",
         "7": "2025-05-17 18:23:31.233017"
        },
        {
         "0": "Blackthorn",
         "1": "2000000.0",
         "2": "2600000.0",
         "3": "98",
         "4": "2011-08-31",
         "5": "Bolivia",
         "6": "ONO",
         "7": "2025-05-17 18:23:31.233017"
        },
        {
         "0": "Blackthorn",
         "1": "2000000.0",
         "2": "2600000.0",
         "3": "98",
         "4": "2011-08-31",
         "5": "United Kingdom",
         "6": "Ariane Mararu00eda Films",
         "7": "2025-05-17 18:23:31.233017"
        },
        {
         "0": "Blackthorn",
         "1": "2000000.0",
         "2": "2600000.0",
         "3": "98",
         "4": "2011-08-31",
         "5": "Spain",
         "6": "Ariane Mararu00eda Films",
         "7": "2025-05-17 18:23:31.233017"
        },
        {
         "0": "Blackthorn",
         "1": "2000000.0",
         "2": "2600000.0",
         "3": "98",
         "4": "2011-08-31",
         "5": "France",
         "6": "Ariane Mararu00eda Films",
         "7": "2025-05-17 18:23:31.233017"
        },
        {
         "0": "Blackthorn",
         "1": "2000000.0",
         "2": "2600000.0",
         "3": "98",
         "4": "2011-08-31",
         "5": "Bolivia",
         "6": "Ariane Mararu00eda Films",
         "7": "2025-05-17 18:23:31.233017"
        },
        {
         "0": "Blackthorn",
         "1": "2000000.0",
         "2": "2600000.0",
         "3": "98",
         "4": "2011-08-31",
         "5": "United Kingdom",
         "6": "Nix Films",
         "7": "2025-05-17 18:23:31.233017"
        },
        {
         "0": "Blackthorn",
         "1": "2000000.0",
         "2": "2600000.0",
         "3": "98",
         "4": "2011-08-31",
         "5": "Spain",
         "6": "Nix Films",
         "7": "2025-05-17 18:23:31.233017"
        },
        {
         "0": "Blackthorn",
         "1": "2000000.0",
         "2": "2600000.0",
         "3": "98",
         "4": "2011-08-31",
         "5": "France",
         "6": "Nix Films",
         "7": "2025-05-17 18:23:31.233017"
        },
        {
         "0": "Blackthorn",
         "1": "2000000.0",
         "2": "2600000.0",
         "3": "98",
         "4": "2011-08-31",
         "5": "Bolivia",
         "6": "Nix Films",
         "7": "2025-05-17 18:23:31.233017"
        },
        {
         "0": "Blackthorn",
         "1": "2000000.0",
         "2": "2600000.0",
         "3": "98",
         "4": "2011-08-31",
         "5": "United Kingdom",
         "6": "Eter Pictures",
         "7": "2025-05-17 18:23:31.233017"
        },
        {
         "0": "Blackthorn",
         "1": "2000000.0",
         "2": "2600000.0",
         "3": "98",
         "4": "2011-08-31",
         "5": "Spain",
         "6": "Eter Pictures",
         "7": "2025-05-17 18:23:31.233017"
        },
        {
         "0": "Blackthorn",
         "1": "2000000.0",
         "2": "2600000.0",
         "3": "98",
         "4": "2011-08-31",
         "5": "France",
         "6": "Eter Pictures",
         "7": "2025-05-17 18:23:31.233017"
        },
        {
         "0": "Blackthorn",
         "1": "2000000.0",
         "2": "2600000.0",
         "3": "98",
         "4": "2011-08-31",
         "5": "Bolivia",
         "6": "Eter Pictures",
         "7": "2025-05-17 18:23:31.233017"
        },
        {
         "0": "Blackthorn",
         "1": "2000000.0",
         "2": "2600000.0",
         "3": "98",
         "4": "2011-08-31",
         "5": "United Kingdom",
         "6": "Manto Films",
         "7": "2025-05-17 18:23:31.233017"
        },
        {
         "0": "Blackthorn",
         "1": "2000000.0",
         "2": "2600000.0",
         "3": "98",
         "4": "2011-08-31",
         "5": "Spain",
         "6": "Manto Films",
         "7": "2025-05-17 18:23:31.233017"
        },
        {
         "0": "Blackthorn",
         "1": "2000000.0",
         "2": "2600000.0",
         "3": "98",
         "4": "2011-08-31",
         "5": "France",
         "6": "Manto Films",
         "7": "2025-05-17 18:23:31.233017"
        },
        {
         "0": "Blackthorn",
         "1": "2000000.0",
         "2": "2600000.0",
         "3": "98",
         "4": "2011-08-31",
         "5": "Bolivia",
         "6": "Manto Films",
         "7": "2025-05-17 18:23:31.233017"
        },
        {
         "0": "Blackthorn",
         "1": "2000000.0",
         "2": "2600000.0",
         "3": "98",
         "4": "2011-08-31",
         "5": "United Kingdom",
         "6": "Pegaso Producciones",
         "7": "2025-05-17 18:23:31.233017"
        },
        {
         "0": "Blackthorn",
         "1": "2000000.0",
         "2": "2600000.0",
         "3": "98",
         "4": "2011-08-31",
         "5": "Spain",
         "6": "Pegaso Producciones",
         "7": "2025-05-17 18:23:31.233017"
        },
        {
         "0": "Blackthorn",
         "1": "2000000.0",
         "2": "2600000.0",
         "3": "98",
         "4": "2011-08-31",
         "5": "France",
         "6": "Pegaso Producciones",
         "7": "2025-05-17 18:23:31.233017"
        },
        {
         "0": "Blackthorn",
         "1": "2000000.0",
         "2": "2600000.0",
         "3": "98",
         "4": "2011-08-31",
         "5": "Bolivia",
         "6": "Pegaso Producciones",
         "7": "2025-05-17 18:23:31.233017"
        },
        {
         "0": "Blackthorn",
         "1": "2000000.0",
         "2": "2600000.0",
         "3": "98",
         "4": "2011-08-31",
         "5": "United Kingdom",
         "6": "Ibermedia European Community Program",
         "7": "2025-05-17 18:23:31.233017"
        },
        {
         "0": "Blackthorn",
         "1": "2000000.0",
         "2": "2600000.0",
         "3": "98",
         "4": "2011-08-31",
         "5": "Spain",
         "6": "Ibermedia European Community Program",
         "7": "2025-05-17 18:23:31.233017"
        },
        {
         "0": "Blackthorn",
         "1": "2000000.0",
         "2": "2600000.0",
         "3": "98",
         "4": "2011-08-31",
         "5": "France",
         "6": "Ibermedia European Community Program",
         "7": "2025-05-17 18:23:31.233017"
        },
        {
         "0": "Blackthorn",
         "1": "2000000.0",
         "2": "2600000.0",
         "3": "98",
         "4": "2011-08-31",
         "5": "Bolivia",
         "6": "Ibermedia European Community Program",
         "7": "2025-05-17 18:23:31.233017"
        },
        {
         "0": "Blackthorn",
         "1": "2000000.0",
         "2": "2600000.0",
         "3": "98",
         "4": "2011-08-31",
         "5": "United Kingdom",
         "6": "Audiovisual Aval SGR",
         "7": "2025-05-17 18:23:31.233017"
        },
        {
         "0": "Blackthorn",
         "1": "2000000.0",
         "2": "2600000.0",
         "3": "98",
         "4": "2011-08-31",
         "5": "Spain",
         "6": "Audiovisual Aval SGR",
         "7": "2025-05-17 18:23:31.233017"
        },
        {
         "0": "Blackthorn",
         "1": "2000000.0",
         "2": "2600000.0",
         "3": "98",
         "4": "2011-08-31",
         "5": "France",
         "6": "Audiovisual Aval SGR",
         "7": "2025-05-17 18:23:31.233017"
        },
        {
         "0": "Blackthorn",
         "1": "2000000.0",
         "2": "2600000.0",
         "3": "98",
         "4": "2011-08-31",
         "5": "Bolivia",
         "6": "Audiovisual Aval SGR",
         "7": "2025-05-17 18:23:31.233017"
        },
        {
         "0": "Blackthorn",
         "1": "2000000.0",
         "2": "2600000.0",
         "3": "98",
         "4": "2011-08-31",
         "5": "United Kingdom",
         "6": "Canal+ Espau00f1a",
         "7": "2025-05-17 18:23:31.233017"
        },
        {
         "0": "Blackthorn",
         "1": "2000000.0",
         "2": "2600000.0",
         "3": "98",
         "4": "2011-08-31",
         "5": "Spain",
         "6": "Canal+ Espau00f1a",
         "7": "2025-05-17 18:23:31.233017"
        },
        {
         "0": "Blackthorn",
         "1": "2000000.0",
         "2": "2600000.0",
         "3": "98",
         "4": "2011-08-31",
         "5": "France",
         "6": "Canal+ Espau00f1a",
         "7": "2025-05-17 18:23:31.233017"
        },
        {
         "0": "Blackthorn",
         "1": "2000000.0",
         "2": "2600000.0",
         "3": "98",
         "4": "2011-08-31",
         "5": "Bolivia",
         "6": "Canal+ Espau00f1a",
         "7": "2025-05-17 18:23:31.233017"
        },
        {
         "0": "Blackthorn",
         "1": "2000000.0",
         "2": "2600000.0",
         "3": "98",
         "4": "2011-08-31",
         "5": "United Kingdom",
         "6": "Instituto de la Cinematografu00eda y de las Artes Audiovisuales (ICAA)",
         "7": "2025-05-17 18:23:31.233017"
        },
        {
         "0": "Blackthorn",
         "1": "2000000.0",
         "2": "2600000.0",
         "3": "98",
         "4": "2011-08-31",
         "5": "Spain",
         "6": "Instituto de la Cinematografu00eda y de las Artes Audiovisuales (ICAA)",
         "7": "2025-05-17 18:23:31.233017"
        },
        {
         "0": "Blackthorn",
         "1": "2000000.0",
         "2": "2600000.0",
         "3": "98",
         "4": "2011-08-31",
         "5": "France",
         "6": "Instituto de la Cinematografu00eda y de las Artes Audiovisuales (ICAA)",
         "7": "2025-05-17 18:23:31.233017"
        },
        {
         "0": "Blackthorn",
         "1": "2000000.0",
         "2": "2600000.0",
         "3": "98",
         "4": "2011-08-31",
         "5": "Bolivia",
         "6": "Instituto de la Cinematografu00eda y de las Artes Audiovisuales (ICAA)",
         "7": "2025-05-17 18:23:31.233017"
        },
        {
         "0": "Blackthorn",
         "1": "2000000.0",
         "2": "2600000.0",
         "3": "98",
         "4": "2011-08-31",
         "5": "United Kingdom",
         "6": "Instituto de Cru00e9dito Oficial (ICO)",
         "7": "2025-05-17 18:23:31.233017"
        },
        {
         "0": "Blackthorn",
         "1": "2000000.0",
         "2": "2600000.0",
         "3": "98",
         "4": "2011-08-31",
         "5": "Spain",
         "6": "Instituto de Cru00e9dito Oficial (ICO)",
         "7": "2025-05-17 18:23:31.233017"
        },
        {
         "0": "Blackthorn",
         "1": "2000000.0",
         "2": "2600000.0",
         "3": "98",
         "4": "2011-08-31",
         "5": "France",
         "6": "Instituto de Cru00e9dito Oficial (ICO)",
         "7": "2025-05-17 18:23:31.233017"
        },
        {
         "0": "Blackthorn",
         "1": "2000000.0",
         "2": "2600000.0",
         "3": "98",
         "4": "2011-08-31",
         "5": "Bolivia",
         "6": "Instituto de Cru00e9dito Oficial (ICO)",
         "7": "2025-05-17 18:23:31.233017"
        },
        {
         "0": "Blackthorn",
         "1": "2000000.0",
         "2": "2600000.0",
         "3": "98",
         "4": "2011-08-31",
         "5": "United Kingdom",
         "6": "Quickfire Films",
         "7": "2025-05-17 18:23:31.233017"
        },
        {
         "0": "Blackthorn",
         "1": "2000000.0",
         "2": "2600000.0",
         "3": "98",
         "4": "2011-08-31",
         "5": "Spain",
         "6": "Quickfire Films",
         "7": "2025-05-17 18:23:31.233017"
        },
        {
         "0": "Blackthorn",
         "1": "2000000.0",
         "2": "2600000.0",
         "3": "98",
         "4": "2011-08-31",
         "5": "France",
         "6": "Quickfire Films",
         "7": "2025-05-17 18:23:31.233017"
        },
        {
         "0": "Blackthorn",
         "1": "2000000.0",
         "2": "2600000.0",
         "3": "98",
         "4": "2011-08-31",
         "5": "Bolivia",
         "6": "Quickfire Films",
         "7": "2025-05-17 18:23:31.233017"
        },
        {
         "0": "Blackthorn",
         "1": "2000000.0",
         "2": "2600000.0",
         "3": "98",
         "4": "2011-08-31",
         "5": "United Kingdom",
         "6": "Televisiu00f3n Espau00f1ola (TVE)",
         "7": "2025-05-17 18:23:31.233017"
        },
        {
         "0": "Blackthorn",
         "1": "2000000.0",
         "2": "2600000.0",
         "3": "98",
         "4": "2011-08-31",
         "5": "Spain",
         "6": "Televisiu00f3n Espau00f1ola (TVE)",
         "7": "2025-05-17 18:23:31.233017"
        },
        {
         "0": "Blackthorn",
         "1": "2000000.0",
         "2": "2600000.0",
         "3": "98",
         "4": "2011-08-31",
         "5": "France",
         "6": "Televisiu00f3n Espau00f1ola (TVE)",
         "7": "2025-05-17 18:23:31.233017"
        },
        {
         "0": "Blackthorn",
         "1": "2000000.0",
         "2": "2600000.0",
         "3": "98",
         "4": "2011-08-31",
         "5": "Bolivia",
         "6": "Televisiu00f3n Espau00f1ola (TVE)",
         "7": "2025-05-17 18:23:31.233017"
        },
        {
         "0": "Blackthorn",
         "1": "2000000.0",
         "2": "2600000.0",
         "3": "98",
         "4": "2011-08-31",
         "5": "United Kingdom",
         "6": "Arcadia Motion Pictures",
         "7": "2025-05-17 18:23:31.233017"
        },
        {
         "0": "Blackthorn",
         "1": "2000000.0",
         "2": "2600000.0",
         "3": "98",
         "4": "2011-08-31",
         "5": "Spain",
         "6": "Arcadia Motion Pictures",
         "7": "2025-05-17 18:23:31.233017"
        },
        {
         "0": "Blackthorn",
         "1": "2000000.0",
         "2": "2600000.0",
         "3": "98",
         "4": "2011-08-31",
         "5": "France",
         "6": "Arcadia Motion Pictures",
         "7": "2025-05-17 18:23:31.233017"
        },
        {
         "0": "Blackthorn",
         "1": "2000000.0",
         "2": "2600000.0",
         "3": "98",
         "4": "2011-08-31",
         "5": "Bolivia",
         "6": "Arcadia Motion Pictures",
         "7": "2025-05-17 18:23:31.233017"
        },
        {
         "0": "Blackthorn",
         "1": "2000000.0",
         "2": "2600000.0",
         "3": "98",
         "4": "2011-08-31",
         "5": "United Kingdom",
         "6": "Noodles Production",
         "7": "2025-05-17 18:23:31.233017"
        },
        {
         "0": "Blackthorn",
         "1": "2000000.0",
         "2": "2600000.0",
         "3": "98",
         "4": "2011-08-31",
         "5": "Spain",
         "6": "Noodles Production",
         "7": "2025-05-17 18:23:31.233017"
        },
        {
         "0": "Blackthorn",
         "1": "2000000.0",
         "2": "2600000.0",
         "3": "98",
         "4": "2011-08-31",
         "5": "France",
         "6": "Noodles Production",
         "7": "2025-05-17 18:23:31.233017"
        },
        {
         "0": "Blackthorn",
         "1": "2000000.0",
         "2": "2600000.0",
         "3": "98",
         "4": "2011-08-31",
         "5": "Bolivia",
         "6": "Noodles Production",
         "7": "2025-05-17 18:23:31.233017"
        },
        {
         "0": "Blended",
         "1": "4.0E7",
         "2": "1.2349461E8",
         "3": "117",
         "4": "2014-05-21",
         "5": "United States of America",
         "6": "Gulfstream Pictures",
         "7": "2025-05-17 18:23:31.233017"
        },
        {
         "0": "Blended",
         "1": "4.0E7",
         "2": "1.2349461E8",
         "3": "117",
         "4": "2014-05-21",
         "5": "United States of America",
         "6": "Happy Madison Productions",
         "7": "2025-05-17 18:23:31.233017"
        },
        {
         "0": "Blended",
         "1": "4.0E7",
         "2": "1.2349461E8",
         "3": "117",
         "4": "2014-05-21",
         "5": "United States of America",
         "6": "Karz Entertainment",
         "7": "2025-05-17 18:23:31.233017"
        },
        {
         "0": "Blended",
         "1": "4.0E7",
         "2": "1.2349461E8",
         "3": "117",
         "4": "2014-05-21",
         "5": "United States of America",
         "6": "Warner Bros.",
         "7": "2025-05-17 18:23:31.233017"
        },
        {
         "0": "Blood Ties",
         "1": "2.55E7",
         "2": "2415472.0",
         "3": "128",
         "4": "2013-08-22",
         "5": "United States of America",
         "6": "Caneo Films",
         "7": "2025-05-17 18:23:31.233017"
        },
        {
         "0": "Blood Ties",
         "1": "2.55E7",
         "2": "2415472.0",
         "3": "128",
         "4": "2013-08-22",
         "5": "France",
         "6": "Caneo Films",
         "7": "2025-05-17 18:23:31.233017"
        },
        {
         "0": "Blood Ties",
         "1": "2.55E7",
         "2": "2415472.0",
         "3": "128",
         "4": "2013-08-22",
         "5": "United States of America",
         "6": "Grisbi Productions",
         "7": "2025-05-17 18:23:31.233017"
        },
        {
         "0": "Blood Ties",
         "1": "2.55E7",
         "2": "2415472.0",
         "3": "128",
         "4": "2013-08-22",
         "5": "France",
         "6": "Grisbi Productions",
         "7": "2025-05-17 18:23:31.233017"
        },
        {
         "0": "Blood Ties",
         "1": "2.55E7",
         "2": "2415472.0",
         "3": "128",
         "4": "2013-08-22",
         "5": "United States of America",
         "6": "France 4",
         "7": "2025-05-17 18:23:31.233017"
        },
        {
         "0": "Blood Ties",
         "1": "2.55E7",
         "2": "2415472.0",
         "3": "128",
         "4": "2013-08-22",
         "5": "France",
         "6": "France 4",
         "7": "2025-05-17 18:23:31.233017"
        },
        {
         "0": "Blood Ties",
         "1": "2.55E7",
         "2": "2415472.0",
         "3": "128",
         "4": "2013-08-22",
         "5": "United States of America",
         "6": "W9",
         "7": "2025-05-17 18:23:31.233017"
        },
        {
         "0": "Blood Ties",
         "1": "2.55E7",
         "2": "2415472.0",
         "3": "128",
         "4": "2013-08-22",
         "5": "France",
         "6": "W9",
         "7": "2025-05-17 18:23:31.233017"
        },
        {
         "0": "Blood Ties",
         "1": "2.55E7",
         "2": "2415472.0",
         "3": "128",
         "4": "2013-08-22",
         "5": "United States of America",
         "6": "Chi-Fou-Mi Productions",
         "7": "2025-05-17 18:23:31.233017"
        },
        {
         "0": "Blood Ties",
         "1": "2.55E7",
         "2": "2415472.0",
         "3": "128",
         "4": "2013-08-22",
         "5": "France",
         "6": "Chi-Fou-Mi Productions",
         "7": "2025-05-17 18:23:31.233017"
        },
        {
         "0": "Blood Ties",
         "1": "2.55E7",
         "2": "2415472.0",
         "3": "128",
         "4": "2013-08-22",
         "5": "United States of America",
         "6": "Treasure Company",
         "7": "2025-05-17 18:23:31.233017"
        },
        {
         "0": "Blood Ties",
         "1": "2.55E7",
         "2": "2415472.0",
         "3": "128",
         "4": "2013-08-22",
         "5": "France",
         "6": "Treasure Company",
         "7": "2025-05-17 18:23:31.233017"
        },
        {
         "0": "Blood Ties",
         "1": "2.55E7",
         "2": "2415472.0",
         "3": "128",
         "4": "2013-08-22",
         "5": "United States of America",
         "6": "Worldview Entertainment",
         "7": "2025-05-17 18:23:31.233017"
        },
        {
         "0": "Blood Ties",
         "1": "2.55E7",
         "2": "2415472.0",
         "3": "128",
         "4": "2013-08-22",
         "5": "France",
         "6": "Worldview Entertainment",
         "7": "2025-05-17 18:23:31.233017"
        },
        {
         "0": "Blood Ties",
         "1": "2.55E7",
         "2": "2415472.0",
         "3": "128",
         "4": "2013-08-22",
         "5": "United States of America",
         "6": "Cinu00e9+",
         "7": "2025-05-17 18:23:31.233017"
        },
        {
         "0": "Blood Ties",
         "1": "2.55E7",
         "2": "2415472.0",
         "3": "128",
         "4": "2013-08-22",
         "5": "France",
         "6": "Cinu00e9+",
         "7": "2025-05-17 18:23:31.233017"
        },
        {
         "0": "Blood Ties",
         "1": "2.55E7",
         "2": "2415472.0",
         "3": "128",
         "4": "2013-08-22",
         "5": "United States of America",
         "6": "M6",
         "7": "2025-05-17 18:23:31.233017"
        },
        {
         "0": "Blood Ties",
         "1": "2.55E7",
         "2": "2415472.0",
         "3": "128",
         "4": "2013-08-22",
         "5": "France",
         "6": "M6",
         "7": "2025-05-17 18:23:31.233017"
        },
        {
         "0": "Blood Ties",
         "1": "2.55E7",
         "2": "2415472.0",
         "3": "128",
         "4": "2013-08-22",
         "5": "United States of America",
         "6": "France 3 Cinema",
         "7": "2025-05-17 18:23:31.233017"
        },
        {
         "0": "Blood Ties",
         "1": "2.55E7",
         "2": "2415472.0",
         "3": "128",
         "4": "2013-08-22",
         "5": "France",
         "6": "France 3 Cinema",
         "7": "2025-05-17 18:23:31.233017"
        },
        {
         "0": "Blood Ties",
         "1": "2.55E7",
         "2": "2415472.0",
         "3": "128",
         "4": "2013-08-22",
         "5": "United States of America",
         "6": "Wild Bunch",
         "7": "2025-05-17 18:23:31.233017"
        },
        {
         "0": "Blood Ties",
         "1": "2.55E7",
         "2": "2415472.0",
         "3": "128",
         "4": "2013-08-22",
         "5": "France",
         "6": "Wild Bunch",
         "7": "2025-05-17 18:23:31.233017"
        },
        {
         "0": "Blood Ties",
         "1": "2.55E7",
         "2": "2415472.0",
         "3": "128",
         "4": "2013-08-22",
         "5": "United States of America",
         "6": "LGM Productions",
         "7": "2025-05-17 18:23:31.233017"
        },
        {
         "0": "Blood Ties",
         "1": "2.55E7",
         "2": "2415472.0",
         "3": "128",
         "4": "2013-08-22",
         "5": "France",
         "6": "LGM Productions",
         "7": "2025-05-17 18:23:31.233017"
        },
        {
         "0": "Blood Ties",
         "1": "2.55E7",
         "2": "2415472.0",
         "3": "128",
         "4": "2013-08-22",
         "5": "United States of America",
         "6": "Les Productions du Tru00e9sor",
         "7": "2025-05-17 18:23:31.233017"
        },
        {
         "0": "Blood Ties",
         "1": "2.55E7",
         "2": "2415472.0",
         "3": "128",
         "4": "2013-08-22",
         "5": "France",
         "6": "Les Productions du Tru00e9sor",
         "7": "2025-05-17 18:23:31.233017"
        },
        {
         "0": "Blood Ties",
         "1": "2.55E7",
         "2": "2415472.0",
         "3": "128",
         "4": "2013-08-22",
         "5": "United States of America",
         "6": "Mars Distribution",
         "7": "2025-05-17 18:23:31.233017"
        },
        {
         "0": "Blood Ties",
         "1": "2.55E7",
         "2": "2415472.0",
         "3": "128",
         "4": "2013-08-22",
         "5": "France",
         "6": "Mars Distribution",
         "7": "2025-05-17 18:23:31.233017"
        },
        {
         "0": "Blood Ties",
         "1": "2.55E7",
         "2": "2415472.0",
         "3": "128",
         "4": "2013-08-22",
         "5": "United States of America",
         "6": "Canal+",
         "7": "2025-05-17 18:23:31.233017"
        },
        {
         "0": "Blood Ties",
         "1": "2.55E7",
         "2": "2415472.0",
         "3": "128",
         "4": "2013-08-22",
         "5": "France",
         "6": "Canal+",
         "7": "2025-05-17 18:23:31.233017"
        },
        {
         "0": "Blood Ties",
         "1": "2.55E7",
         "2": "2415472.0",
         "3": "128",
         "4": "2013-08-22",
         "5": "United States of America",
         "6": "France Tu00e9lu00e9vision",
         "7": "2025-05-17 18:23:31.233017"
        },
        {
         "0": "Blood Ties",
         "1": "2.55E7",
         "2": "2415472.0",
         "3": "128",
         "4": "2013-08-22",
         "5": "France",
         "6": "France Tu00e9lu00e9vision",
         "7": "2025-05-17 18:23:31.233017"
        },
        {
         "0": "Blue Jasmine",
         "1": "1.8E7",
         "2": "9.9206215E7",
         "3": "98",
         "4": "2013-07-25",
         "5": "United States of America",
         "6": "Perdido Productions",
         "7": "2025-05-17 18:23:31.233017"
        },
        {
         "0": "Blue Like Jazz",
         "1": "1250000.0",
         "2": "1562500.0",
         "3": "106",
         "4": "2012-04-13",
         "5": "United States of America",
         "6": "Ruckus Films",
         "7": "2025-05-17 18:23:31.233017"
        },
        {
         "0": "Blue Ruin",
         "1": "2000000.0",
         "2": "2600000.0",
         "3": "90",
         "4": "2014-04-25",
         "5": "United States of America",
         "6": "Neighborhood Watch",
         "7": "2025-05-17 18:23:31.233017"
        },
        {
         "0": "Blue Ruin",
         "1": "2000000.0",
         "2": "2600000.0",
         "3": "90",
         "4": "2014-04-25",
         "5": "United States of America",
         "6": "Paradise City",
         "7": "2025-05-17 18:23:31.233017"
        },
        {
         "0": "Blue Ruin",
         "1": "2000000.0",
         "2": "2600000.0",
         "3": "90",
         "4": "2014-04-25",
         "5": "United States of America",
         "6": "Film Science",
         "7": "2025-05-17 18:23:31.233017"
        },
        {
         "0": "Blue Ruin",
         "1": "2000000.0",
         "2": "2600000.0",
         "3": "90",
         "4": "2014-04-25",
         "5": "United States of America",
         "6": "The Lab Of Madness",
         "7": "2025-05-17 18:23:31.233017"
        },
        {
         "0": "Blue Valentine",
         "1": "3500000.0",
         "2": "1.656624E7",
         "3": "112",
         "4": "2010-12-27",
         "5": "United States of America",
         "6": "Chrysler Corporation",
         "7": "2025-05-17 18:23:31.233017"
        },
        {
         "0": "Blue Valentine",
         "1": "3500000.0",
         "2": "1.656624E7",
         "3": "112",
         "4": "2010-12-27",
         "5": "United States of America",
         "6": "Shade Pictures",
         "7": "2025-05-17 18:23:31.233017"
        },
        {
         "0": "Blue Valentine",
         "1": "3500000.0",
         "2": "1.656624E7",
         "3": "112",
         "4": "2010-12-27",
         "5": "United States of America",
         "6": "Motel Movies",
         "7": "2025-05-17 18:23:31.233017"
        },
        {
         "0": "Blue Valentine",
         "1": "3500000.0",
         "2": "1.656624E7",
         "3": "112",
         "4": "2010-12-27",
         "5": "United States of America",
         "6": "Cottage Industries",
         "7": "2025-05-17 18:23:31.233017"
        },
        {
         "0": "Blue Valentine",
         "1": "3500000.0",
         "2": "1.656624E7",
         "3": "112",
         "4": "2010-12-27",
         "5": "United States of America",
         "6": "Hunting Lane Films",
         "7": "2025-05-17 18:23:31.233017"
        },
        {
         "0": "Blue Valentine",
         "1": "3500000.0",
         "2": "1.656624E7",
         "3": "112",
         "4": "2010-12-27",
         "5": "United States of America",
         "6": "Silverwood Films",
         "7": "2025-05-17 18:23:31.233017"
        },
        {
         "0": "Blue Valentine",
         "1": "3500000.0",
         "2": "1.656624E7",
         "3": "112",
         "4": "2010-12-27",
         "5": "United States of America",
         "6": "Incentive Filmed Entertainment",
         "7": "2025-05-17 18:23:31.233017"
        },
        {
         "0": "Born Of War",
         "1": "2000000.0",
         "2": "2600000.0",
         "3": "109",
         "4": "2013-12-05",
         "5": "United Kingdom",
         "6": "Jewson Film",
         "7": "2025-05-17 18:23:31.233017"
        },
        {
         "0": "Born Of War",
         "1": "2000000.0",
         "2": "2600000.0",
         "3": "109",
         "4": "2013-12-05",
         "5": "Jordan",
         "6": "Jewson Film",
         "7": "2025-05-17 18:23:31.233017"
        },
        {
         "0": "Born Of War",
         "1": "2000000.0",
         "2": "2600000.0",
         "3": "109",
         "4": "2013-12-05",
         "5": "Cyprus",
         "6": "Jewson Film",
         "7": "2025-05-17 18:23:31.233017"
        },
        {
         "0": "Born Of War",
         "1": "2000000.0",
         "2": "2600000.0",
         "3": "109",
         "4": "2013-12-05",
         "5": "United Kingdom",
         "6": "Born of War",
         "7": "2025-05-17 18:23:31.233017"
        },
        {
         "0": "Born Of War",
         "1": "2000000.0",
         "2": "2600000.0",
         "3": "109",
         "4": "2013-12-05",
         "5": "Jordan",
         "6": "Born of War",
         "7": "2025-05-17 18:23:31.233017"
        },
        {
         "0": "Born Of War",
         "1": "2000000.0",
         "2": "2600000.0",
         "3": "109",
         "4": "2013-12-05",
         "5": "Cyprus",
         "6": "Born of War",
         "7": "2025-05-17 18:23:31.233017"
        },
        {
         "0": "Boyhood",
         "1": "4000000.0",
         "2": "4.4349E7",
         "3": "164",
         "4": "2014-06-05",
         "5": "United States of America",
         "6": "Detour Filmproduction",
         "7": "2025-05-17 18:23:31.233017"
        },
        {
         "0": "Boyhood",
         "1": "4000000.0",
         "2": "4.4349E7",
         "3": "164",
         "4": "2014-06-05",
         "5": "United States of America",
         "6": "IFC Films",
         "7": "2025-05-17 18:23:31.233017"
        },
        {
         "0": "Brave",
         "1": "1.85E8",
         "2": "5.38983207E8",
         "3": "93",
         "4": "2012-06-21",
         "5": "United States of America",
         "6": "Walt Disney Pictures",
         "7": "2025-05-17 18:23:31.233017"
        },
        {
         "0": "Brave",
         "1": "1.85E8",
         "2": "5.38983207E8",
         "3": "93",
         "4": "2012-06-21",
         "5": "United States of America",
         "6": "Pixar Animation Studios",
         "7": "2025-05-17 18:23:31.233017"
        },
        {
         "0": "Brick Mansions",
         "1": "2.8E7",
         "2": "6.8896829E7",
         "3": "90",
         "4": "2014-04-22",
         "5": "France",
         "6": "Cinu00e9+",
         "7": "2025-05-17 18:23:31.233017"
        },
        {
         "0": "Brick Mansions",
         "1": "2.8E7",
         "2": "6.8896829E7",
         "3": "90",
         "4": "2014-04-22",
         "5": "Canada",
         "6": "Cinu00e9+",
         "7": "2025-05-17 18:23:31.233017"
        },
        {
         "0": "Brick Mansions",
         "1": "2.8E7",
         "2": "6.8896829E7",
         "3": "90",
         "4": "2014-04-22",
         "5": "France",
         "6": "D8",
         "7": "2025-05-17 18:23:31.233017"
        },
        {
         "0": "Brick Mansions",
         "1": "2.8E7",
         "2": "6.8896829E7",
         "3": "90",
         "4": "2014-04-22",
         "5": "Canada",
         "6": "D8",
         "7": "2025-05-17 18:23:31.233017"
        },
        {
         "0": "Brick Mansions",
         "1": "2.8E7",
         "2": "6.8896829E7",
         "3": "90",
         "4": "2014-04-22",
         "5": "France",
         "6": "Canal+",
         "7": "2025-05-17 18:23:31.233017"
        },
        {
         "0": "Brick Mansions",
         "1": "2.8E7",
         "2": "6.8896829E7",
         "3": "90",
         "4": "2014-04-22",
         "5": "Canada",
         "6": "Canal+",
         "7": "2025-05-17 18:23:31.233017"
        },
        {
         "0": "Brick Mansions",
         "1": "2.8E7",
         "2": "6.8896829E7",
         "3": "90",
         "4": "2014-04-22",
         "5": "France",
         "6": "EuropaCorp",
         "7": "2025-05-17 18:23:31.233017"
        },
        {
         "0": "Brick Mansions",
         "1": "2.8E7",
         "2": "6.8896829E7",
         "3": "90",
         "4": "2014-04-22",
         "5": "Canada",
         "6": "EuropaCorp",
         "7": "2025-05-17 18:23:31.233017"
        },
        {
         "0": "Bridesmaids",
         "1": "3.25E7",
         "2": "2.88383523E8",
         "3": "125",
         "4": "2011-04-28",
         "5": "United States of America",
         "6": "Apatow Productions",
         "7": "2025-05-17 18:23:31.233017"
        },
        {
         "0": "Bridesmaids",
         "1": "3.25E7",
         "2": "2.88383523E8",
         "3": "125",
         "4": "2011-04-28",
         "5": "United States of America",
         "6": "Universal Pictures",
         "7": "2025-05-17 18:23:31.233017"
        },
        {
         "0": "Bridesmaids",
         "1": "3.25E7",
         "2": "2.88383523E8",
         "3": "125",
         "4": "2011-04-28",
         "5": "United States of America",
         "6": "Relativity Media",
         "7": "2025-05-17 18:23:31.233017"
        },
        {
         "0": "Bridge of Spies",
         "1": "4.0E7",
         "2": "1.65478348E8",
         "3": "141",
         "4": "2015-10-15",
         "5": "Germany",
         "6": "TSG Entertainment",
         "7": "2025-05-17 18:23:31.233017"
        },
        {
         "0": "Bridge of Spies",
         "1": "4.0E7",
         "2": "1.65478348E8",
         "3": "141",
         "4": "2015-10-15",
         "5": "United States of America",
         "6": "TSG Entertainment",
         "7": "2025-05-17 18:23:31.233017"
        },
        {
         "0": "Bridge of Spies",
         "1": "4.0E7",
         "2": "1.65478348E8",
         "3": "141",
         "4": "2015-10-15",
         "5": "India",
         "6": "TSG Entertainment",
         "7": "2025-05-17 18:23:31.233017"
        },
        {
         "0": "Bridge of Spies",
         "1": "4.0E7",
         "2": "1.65478348E8",
         "3": "141",
         "4": "2015-10-15",
         "5": "Germany",
         "6": "DreamWorks SKG",
         "7": "2025-05-17 18:23:31.233017"
        },
        {
         "0": "Bridge of Spies",
         "1": "4.0E7",
         "2": "1.65478348E8",
         "3": "141",
         "4": "2015-10-15",
         "5": "United States of America",
         "6": "DreamWorks SKG",
         "7": "2025-05-17 18:23:31.233017"
        },
        {
         "0": "Bridge of Spies",
         "1": "4.0E7",
         "2": "1.65478348E8",
         "3": "141",
         "4": "2015-10-15",
         "5": "India",
         "6": "DreamWorks SKG",
         "7": "2025-05-17 18:23:31.233017"
        },
        {
         "0": "Bridge of Spies",
         "1": "4.0E7",
         "2": "1.65478348E8",
         "3": "141",
         "4": "2015-10-15",
         "5": "Germany",
         "6": "Amblin Entertainment",
         "7": "2025-05-17 18:23:31.233017"
        },
        {
         "0": "Bridge of Spies",
         "1": "4.0E7",
         "2": "1.65478348E8",
         "3": "141",
         "4": "2015-10-15",
         "5": "United States of America",
         "6": "Amblin Entertainment",
         "7": "2025-05-17 18:23:31.233017"
        },
        {
         "0": "Bridge of Spies",
         "1": "4.0E7",
         "2": "1.65478348E8",
         "3": "141",
         "4": "2015-10-15",
         "5": "India",
         "6": "Amblin Entertainment",
         "7": "2025-05-17 18:23:31.233017"
        },
        {
         "0": "Bridge of Spies",
         "1": "4.0E7",
         "2": "1.65478348E8",
         "3": "141",
         "4": "2015-10-15",
         "5": "Germany",
         "6": "Studio Babelsberg",
         "7": "2025-05-17 18:23:31.233017"
        },
        {
         "0": "Bridge of Spies",
         "1": "4.0E7",
         "2": "1.65478348E8",
         "3": "141",
         "4": "2015-10-15",
         "5": "United States of America",
         "6": "Studio Babelsberg",
         "7": "2025-05-17 18:23:31.233017"
        },
        {
         "0": "Bridge of Spies",
         "1": "4.0E7",
         "2": "1.65478348E8",
         "3": "141",
         "4": "2015-10-15",
         "5": "India",
         "6": "Studio Babelsberg",
         "7": "2025-05-17 18:23:31.233017"
        },
        {
         "0": "Bridge of Spies",
         "1": "4.0E7",
         "2": "1.65478348E8",
         "3": "141",
         "4": "2015-10-15",
         "5": "Germany",
         "6": "Fox 2000 Pictures",
         "7": "2025-05-17 18:23:31.233017"
        },
        {
         "0": "Bridge of Spies",
         "1": "4.0E7",
         "2": "1.65478348E8",
         "3": "141",
         "4": "2015-10-15",
         "5": "United States of America",
         "6": "Fox 2000 Pictures",
         "7": "2025-05-17 18:23:31.233017"
        },
        {
         "0": "Bridge of Spies",
         "1": "4.0E7",
         "2": "1.65478348E8",
         "3": "141",
         "4": "2015-10-15",
         "5": "India",
         "6": "Fox 2000 Pictures",
         "7": "2025-05-17 18:23:31.233017"
        },
        {
         "0": "Bridge of Spies",
         "1": "4.0E7",
         "2": "1.65478348E8",
         "3": "141",
         "4": "2015-10-15",
         "5": "Germany",
         "6": "Marc Platt Productions",
         "7": "2025-05-17 18:23:31.233017"
        },
        {
         "0": "Bridge of Spies",
         "1": "4.0E7",
         "2": "1.65478348E8",
         "3": "141",
         "4": "2015-10-15",
         "5": "United States of America",
         "6": "Marc Platt Productions",
         "7": "2025-05-17 18:23:31.233017"
        },
        {
         "0": "Bridge of Spies",
         "1": "4.0E7",
         "2": "1.65478348E8",
         "3": "141",
         "4": "2015-10-15",
         "5": "India",
         "6": "Marc Platt Productions",
         "7": "2025-05-17 18:23:31.233017"
        },
        {
         "0": "Bridge of Spies",
         "1": "4.0E7",
         "2": "1.65478348E8",
         "3": "141",
         "4": "2015-10-15",
         "5": "Germany",
         "6": "Participant Media",
         "7": "2025-05-17 18:23:31.233017"
        },
        {
         "0": "Bridge of Spies",
         "1": "4.0E7",
         "2": "1.65478348E8",
         "3": "141",
         "4": "2015-10-15",
         "5": "United States of America",
         "6": "Participant Media",
         "7": "2025-05-17 18:23:31.233017"
        },
        {
         "0": "Bridge of Spies",
         "1": "4.0E7",
         "2": "1.65478348E8",
         "3": "141",
         "4": "2015-10-15",
         "5": "India",
         "6": "Participant Media",
         "7": "2025-05-17 18:23:31.233017"
        },
        {
         "0": "Bridge of Spies",
         "1": "4.0E7",
         "2": "1.65478348E8",
         "3": "141",
         "4": "2015-10-15",
         "5": "Germany",
         "6": "Reliance Entertainment",
         "7": "2025-05-17 18:23:31.233017"
        },
        {
         "0": "Bridge of Spies",
         "1": "4.0E7",
         "2": "1.65478348E8",
         "3": "141",
         "4": "2015-10-15",
         "5": "United States of America",
         "6": "Reliance Entertainment",
         "7": "2025-05-17 18:23:31.233017"
        },
        {
         "0": "Bridge of Spies",
         "1": "4.0E7",
         "2": "1.65478348E8",
         "3": "141",
         "4": "2015-10-15",
         "5": "India",
         "6": "Reliance Entertainment",
         "7": "2025-05-17 18:23:31.233017"
        },
        {
         "0": "Brighton Rock",
         "1": "2000000.0",
         "2": "2600000.0",
         "3": "111",
         "4": "2010-09-13",
         "5": "United Kingdom",
         "6": "BBC Films",
         "7": "2025-05-17 18:23:31.233017"
        },
        {
         "0": "Brighton Rock",
         "1": "2000000.0",
         "2": "2600000.0",
         "3": "111",
         "4": "2010-09-13",
         "5": "United Kingdom",
         "6": "StudioCanal",
         "7": "2025-05-17 18:23:31.233017"
        },
        {
         "0": "Brighton Rock",
         "1": "2000000.0",
         "2": "2600000.0",
         "3": "111",
         "4": "2010-09-13",
         "5": "United Kingdom",
         "6": "UK Film Council",
         "7": "2025-05-17 18:23:31.233017"
        },
        {
         "0": "Broken City",
         "1": "5.6E7",
         "2": "1.9701164E7",
         "3": "109",
         "4": "2013-01-18",
         "5": "United States of America",
         "6": "Black Bear Pictures",
         "7": "2025-05-17 18:23:31.233017"
        },
        {
         "0": "Broken City",
         "1": "5.6E7",
         "2": "1.9701164E7",
         "3": "109",
         "4": "2013-01-18",
         "5": "United States of America",
         "6": "Leverage Communications",
         "7": "2025-05-17 18:23:31.233017"
        },
        {
         "0": "Broken City",
         "1": "5.6E7",
         "2": "1.9701164E7",
         "3": "109",
         "4": "2013-01-18",
         "5": "United States of America",
         "6": "New Regency Pictures",
         "7": "2025-05-17 18:23:31.233017"
        },
        {
         "0": "Broken City",
         "1": "5.6E7",
         "2": "1.9701164E7",
         "3": "109",
         "4": "2013-01-18",
         "5": "United States of America",
         "6": "Emmett/Furla Films",
         "7": "2025-05-17 18:23:31.233017"
        },
        {
         "0": "Broken City",
         "1": "5.6E7",
         "2": "1.9701164E7",
         "3": "109",
         "4": "2013-01-18",
         "5": "United States of America",
         "6": "Envision Entertainment Corporation",
         "7": "2025-05-17 18:23:31.233017"
        },
        {
         "0": "Broken City",
         "1": "5.6E7",
         "2": "1.9701164E7",
         "3": "109",
         "4": "2013-01-18",
         "5": "United States of America",
         "6": "Regency Enterprises",
         "7": "2025-05-17 18:23:31.233017"
        },
        {
         "0": "Broken City",
         "1": "5.6E7",
         "2": "1.9701164E7",
         "3": "109",
         "4": "2013-01-18",
         "5": "United States of America",
         "6": "Inferno International",
         "7": "2025-05-17 18:23:31.233017"
        },
        {
         "0": "Broken City",
         "1": "5.6E7",
         "2": "1.9701164E7",
         "3": "109",
         "4": "2013-01-18",
         "5": "United States of America",
         "6": "1984 Private Defense Contractors",
         "7": "2025-05-17 18:23:31.233017"
        },
        {
         "0": "Broken City",
         "1": "5.6E7",
         "2": "1.9701164E7",
         "3": "109",
         "4": "2013-01-18",
         "5": "United States of America",
         "6": "Closest to the Hole Productions",
         "7": "2025-05-17 18:23:31.233017"
        },
        {
         "0": "Broken Horses",
         "1": "2000000.0",
         "2": "2600000.0",
         "3": "101",
         "4": "2015-03-15",
         "5": "United States of America",
         "6": "Reliance Entertainment",
         "7": "2025-05-17 18:23:31.233017"
        },
        {
         "0": "Brooklyn",
         "1": "1.1E7",
         "2": "6.2076141E7",
         "3": "111",
         "4": "2015-10-20",
         "5": "Ireland",
         "6": "Parallel Film Productions",
         "7": "2025-05-17 18:23:31.233017"
        },
        {
         "0": "Brooklyn",
         "1": "1.1E7",
         "2": "6.2076141E7",
         "3": "111",
         "4": "2015-10-20",
         "5": "Canada",
         "6": "Parallel Film Productions",
         "7": "2025-05-17 18:23:31.233017"
        },
        {
         "0": "Brooklyn",
         "1": "1.1E7",
         "2": "6.2076141E7",
         "3": "111",
         "4": "2015-10-20",
         "5": "Ireland",
         "6": "Wildgaze Films",
         "7": "2025-05-17 18:23:31.233017"
        },
        {
         "0": "Brooklyn",
         "1": "1.1E7",
         "2": "6.2076141E7",
         "3": "111",
         "4": "2015-10-20",
         "5": "Canada",
         "6": "Wildgaze Films",
         "7": "2025-05-17 18:23:31.233017"
        },
        {
         "0": "Brooklyn",
         "1": "1.1E7",
         "2": "6.2076141E7",
         "3": "111",
         "4": "2015-10-20",
         "5": "Ireland",
         "6": "Irish Film Board",
         "7": "2025-05-17 18:23:31.233017"
        },
        {
         "0": "Brooklyn",
         "1": "1.1E7",
         "2": "6.2076141E7",
         "3": "111",
         "4": "2015-10-20",
         "5": "Canada",
         "6": "Irish Film Board",
         "7": "2025-05-17 18:23:31.233017"
        },
        {
         "0": "Brooklyn",
         "1": "1.1E7",
         "2": "6.2076141E7",
         "3": "111",
         "4": "2015-10-20",
         "5": "Ireland",
         "6": "Item 7",
         "7": "2025-05-17 18:23:31.233017"
        },
        {
         "0": "Brooklyn",
         "1": "1.1E7",
         "2": "6.2076141E7",
         "3": "111",
         "4": "2015-10-20",
         "5": "Canada",
         "6": "Item 7",
         "7": "2025-05-17 18:23:31.233017"
        },
        {
         "0": "Bucky Larson: Born to Be a Star",
         "1": "1.0E7",
         "2": "1.25E7",
         "3": "97",
         "4": "2011-09-09",
         "5": "United States of America",
         "6": "Columbia Pictures",
         "7": "2025-05-17 18:23:31.233017"
        },
        {
         "0": "Bucky Larson: Born to Be a Star",
         "1": "1.0E7",
         "2": "1.25E7",
         "3": "97",
         "4": "2011-09-09",
         "5": "United States of America",
         "6": "Happy Madison Productions",
         "7": "2025-05-17 18:23:31.233017"
        },
        {
         "0": "Bullet to the Head",
         "1": "5.5E7",
         "2": "9489829.0",
         "3": "92",
         "4": "2013-01-31",
         "5": "United States of America",
         "6": "Millar Gough Ink",
         "7": "2025-05-17 18:23:31.233017"
        },
        {
         "0": "Bullet to the Head",
         "1": "5.5E7",
         "2": "9489829.0",
         "3": "92",
         "4": "2013-01-31",
         "5": "Switzerland",
         "6": "Millar Gough Ink",
         "7": "2025-05-17 18:23:31.233017"
        },
        {
         "0": "Bullet to the Head",
         "1": "5.5E7",
         "2": "9489829.0",
         "3": "92",
         "4": "2013-01-31",
         "5": "United States of America",
         "6": "Headshot Films",
         "7": "2025-05-17 18:23:31.233017"
        },
        {
         "0": "Bullet to the Head",
         "1": "5.5E7",
         "2": "9489829.0",
         "3": "92",
         "4": "2013-01-31",
         "5": "Switzerland",
         "6": "Headshot Films",
         "7": "2025-05-17 18:23:31.233017"
        },
        {
         "0": "Bullet to the Head",
         "1": "5.5E7",
         "2": "9489829.0",
         "3": "92",
         "4": "2013-01-31",
         "5": "United States of America",
         "6": "Silver Reel",
         "7": "2025-05-17 18:23:31.233017"
        },
        {
         "0": "Bullet to the Head",
         "1": "5.5E7",
         "2": "9489829.0",
         "3": "92",
         "4": "2013-01-31",
         "5": "Switzerland",
         "6": "Silver Reel",
         "7": "2025-05-17 18:23:31.233017"
        },
        {
         "0": "Bullet to the Head",
         "1": "5.5E7",
         "2": "9489829.0",
         "3": "92",
         "4": "2013-01-31",
         "5": "United States of America",
         "6": "EMJAG Productions",
         "7": "2025-05-17 18:23:31.233017"
        },
        {
         "0": "Bullet to the Head",
         "1": "5.5E7",
         "2": "9489829.0",
         "3": "92",
         "4": "2013-01-31",
         "5": "Switzerland",
         "6": "EMJAG Productions",
         "7": "2025-05-17 18:23:31.233017"
        },
        {
         "0": "Bullet to the Head",
         "1": "5.5E7",
         "2": "9489829.0",
         "3": "92",
         "4": "2013-01-31",
         "5": "United States of America",
         "6": "Dark Castle Entertainment",
         "7": "2025-05-17 18:23:31.233017"
        },
        {
         "0": "Bullet to the Head",
         "1": "5.5E7",
         "2": "9489829.0",
         "3": "92",
         "4": "2013-01-31",
         "5": "Switzerland",
         "6": "Dark Castle Entertainment",
         "7": "2025-05-17 18:23:31.233017"
        },
        {
         "0": "Bullet to the Head",
         "1": "5.5E7",
         "2": "9489829.0",
         "3": "92",
         "4": "2013-01-31",
         "5": "United States of America",
         "6": "After Dark Films",
         "7": "2025-05-17 18:23:31.233017"
        },
        {
         "0": "Bullet to the Head",
         "1": "5.5E7",
         "2": "9489829.0",
         "3": "92",
         "4": "2013-01-31",
         "5": "Switzerland",
         "6": "After Dark Films",
         "7": "2025-05-17 18:23:31.233017"
        },
        {
         "0": "Bullet to the Head",
         "1": "5.5E7",
         "2": "9489829.0",
         "3": "92",
         "4": "2013-01-31",
         "5": "United States of America",
         "6": "IM Global",
         "7": "2025-05-17 18:23:31.233017"
        },
        {
         "0": "Bullet to the Head",
         "1": "5.5E7",
         "2": "9489829.0",
         "3": "92",
         "4": "2013-01-31",
         "5": "Switzerland",
         "6": "IM Global",
         "7": "2025-05-17 18:23:31.233017"
        },
        {
         "0": "Bullet to the Head",
         "1": "5.5E7",
         "2": "9489829.0",
         "3": "92",
         "4": "2013-01-31",
         "5": "United States of America",
         "6": "Automatik Entertainment",
         "7": "2025-05-17 18:23:31.233017"
        },
        {
         "0": "Bullet to the Head",
         "1": "5.5E7",
         "2": "9489829.0",
         "3": "92",
         "4": "2013-01-31",
         "5": "Switzerland",
         "6": "Automatik Entertainment",
         "7": "2025-05-17 18:23:31.233017"
        },
        {
         "0": "Buried",
         "1": "1987650.0",
         "2": "1.915248E7",
         "3": "94",
         "4": "2010-09-24",
         "5": "France",
         "6": "Versus Entertainment",
         "7": "2025-05-17 18:23:31.233017"
        },
        {
         "0": "Buried",
         "1": "1987650.0",
         "2": "1.915248E7",
         "3": "94",
         "4": "2010-09-24",
         "5": "United States of America",
         "6": "Versus Entertainment",
         "7": "2025-05-17 18:23:31.233017"
        },
        {
         "0": "Buried",
         "1": "1987650.0",
         "2": "1.915248E7",
         "3": "94",
         "4": "2010-09-24",
         "5": "Spain",
         "6": "Versus Entertainment",
         "7": "2025-05-17 18:23:31.233017"
        },
        {
         "0": "Buried",
         "1": "1987650.0",
         "2": "1.915248E7",
         "3": "94",
         "4": "2010-09-24",
         "5": "France",
         "6": "The Safran Company",
         "7": "2025-05-17 18:23:31.233017"
        },
        {
         "0": "Buried",
         "1": "1987650.0",
         "2": "1.915248E7",
         "3": "94",
         "4": "2010-09-24",
         "5": "United States of America",
         "6": "The Safran Company",
         "7": "2025-05-17 18:23:31.233017"
        },
        {
         "0": "Buried",
         "1": "1987650.0",
         "2": "1.915248E7",
         "3": "94",
         "4": "2010-09-24",
         "5": "Spain",
         "6": "The Safran Company",
         "7": "2025-05-17 18:23:31.233017"
        },
        {
         "0": "Buried",
         "1": "1987650.0",
         "2": "1.915248E7",
         "3": "94",
         "4": "2010-09-24",
         "5": "France",
         "6": "Dark Trick Films",
         "7": "2025-05-17 18:23:31.233017"
        },
        {
         "0": "Buried",
         "1": "1987650.0",
         "2": "1.915248E7",
         "3": "94",
         "4": "2010-09-24",
         "5": "United States of America",
         "6": "Dark Trick Films",
         "7": "2025-05-17 18:23:31.233017"
        },
        {
         "0": "Buried",
         "1": "1987650.0",
         "2": "1.915248E7",
         "3": "94",
         "4": "2010-09-24",
         "5": "Spain",
         "6": "Dark Trick Films",
         "7": "2025-05-17 18:23:31.233017"
        },
        {
         "0": "Buried",
         "1": "1987650.0",
         "2": "1.915248E7",
         "3": "94",
         "4": "2010-09-24",
         "5": "France",
         "6": "Studio 37",
         "7": "2025-05-17 18:23:31.233017"
        },
        {
         "0": "Buried",
         "1": "1987650.0",
         "2": "1.915248E7",
         "3": "94",
         "4": "2010-09-24",
         "5": "United States of America",
         "6": "Studio 37",
         "7": "2025-05-17 18:23:31.233017"
        },
        {
         "0": "Buried",
         "1": "1987650.0",
         "2": "1.915248E7",
         "3": "94",
         "4": "2010-09-24",
         "5": "Spain",
         "6": "Studio 37",
         "7": "2025-05-17 18:23:31.233017"
        },
        {
         "0": "Burlesque",
         "1": "5.5E7",
         "2": "8.9519773E7",
         "3": "119",
         "4": "2010-11-23",
         "5": "United States of America",
         "6": "Bedford Falls Productions",
         "7": "2025-05-17 18:23:31.233017"
        },
        {
         "0": "Burn",
         "1": "225000.0",
         "2": "111300.0",
         "3": "86",
         "4": "2012-11-01",
         "5": "United States of America",
         "6": "Apostle Productions",
         "7": "2025-05-17 18:23:31.233017"
        },
        {
         "0": "Burnt",
         "1": "2.0E7",
         "2": "3.6606743E7",
         "3": "100",
         "4": "2015-10-02",
         "5": "United States of America",
         "6": "PeaPie Films",
         "7": "2025-05-17 18:23:31.233017"
        },
        {
         "0": "Burnt",
         "1": "2.0E7",
         "2": "3.6606743E7",
         "3": "100",
         "4": "2015-10-02",
         "5": "United States of America",
         "6": "3 Arts Entertainment",
         "7": "2025-05-17 18:23:31.233017"
        },
        {
         "0": "Burnt",
         "1": "2.0E7",
         "2": "3.6606743E7",
         "3": "100",
         "4": "2015-10-02",
         "5": "United States of America",
         "6": "Double Feature Films",
         "7": "2025-05-17 18:23:31.233017"
        },
        {
         "0": "By the Sea",
         "1": "1.0E7",
         "2": "3727746.0",
         "3": "122",
         "4": "2015-11-12",
         "5": "United States of America",
         "6": "Jolie Pas",
         "7": "2025-05-17 18:23:31.233017"
        },
        {
         "0": "By the Sea",
         "1": "1.0E7",
         "2": "3727746.0",
         "3": "122",
         "4": "2015-11-12",
         "5": "France",
         "6": "Jolie Pas",
         "7": "2025-05-17 18:23:31.233017"
        },
        {
         "0": "By the Sea",
         "1": "1.0E7",
         "2": "3727746.0",
         "3": "122",
         "4": "2015-11-12",
         "5": "United States of America",
         "6": "Pellikola",
         "7": "2025-05-17 18:23:31.233017"
        },
        {
         "0": "By the Sea",
         "1": "1.0E7",
         "2": "3727746.0",
         "3": "122",
         "4": "2015-11-12",
         "5": "France",
         "6": "Pellikola",
         "7": "2025-05-17 18:23:31.233017"
        },
        {
         "0": "By the Sea",
         "1": "1.0E7",
         "2": "3727746.0",
         "3": "122",
         "4": "2015-11-12",
         "5": "United States of America",
         "6": "Plan B Entertainment",
         "7": "2025-05-17 18:23:31.233017"
        },
        {
         "0": "By the Sea",
         "1": "1.0E7",
         "2": "3727746.0",
         "3": "122",
         "4": "2015-11-12",
         "5": "France",
         "6": "Plan B Entertainment",
         "7": "2025-05-17 18:23:31.233017"
        },
        {
         "0": "Ca$h",
         "1": "7000000.0",
         "2": "46488.0",
         "3": "108",
         "4": "2010-01-01",
         "5": "United States of America",
         "6": "Three Good Men",
         "7": "2025-05-17 18:23:31.233017"
        },
        {
         "0": "Ca$h",
         "1": "7000000.0",
         "2": "46488.0",
         "3": "108",
         "4": "2010-01-01",
         "5": "United States of America",
         "6": "Immortal Thoughts",
         "7": "2025-05-17 18:23:31.233017"
        },
        {
         "0": "Cabin Fever",
         "1": "2000000.0",
         "2": "2600000.0",
         "3": "99",
         "4": "2016-02-12",
         "5": "United States of America",
         "6": "Pelican Point Media",
         "7": "2025-05-17 18:23:31.233017"
        },
        {
         "0": "Cabin Fever",
         "1": "2000000.0",
         "2": "2600000.0",
         "3": "99",
         "4": "2016-02-12",
         "5": "United States of America",
         "6": "Contend",
         "7": "2025-05-17 18:23:31.233017"
        },
        {
         "0": "Cabin Fever",
         "1": "2000000.0",
         "2": "2600000.0",
         "3": "99",
         "4": "2016-02-12",
         "5": "United States of America",
         "6": "Armory Films",
         "7": "2025-05-17 18:23:31.233017"
        },
        {
         "0": "Captain America: Civil War",
         "1": "2.5E8",
         "2": "1.153304495E9",
         "3": "147",
         "4": "2016-04-27",
         "5": "United States of America",
         "6": "Vita-Ray Dutch Productions (III)",
         "7": "2025-05-17 18:23:31.233017"
        },
        {
         "0": "Captain America: Civil War",
         "1": "2.5E8",
         "2": "1.153304495E9",
         "3": "147",
         "4": "2016-04-27",
         "5": "United States of America",
         "6": "Deluxe Digital Studios",
         "7": "2025-05-17 18:23:31.233017"
        },
        {
         "0": "Captain America: Civil War",
         "1": "2.5E8",
         "2": "1.153304495E9",
         "3": "147",
         "4": "2016-04-27",
         "5": "United States of America",
         "6": "Studio Babelsberg",
         "7": "2025-05-17 18:23:31.233017"
        },
        {
         "0": "Captain America: Civil War",
         "1": "2.5E8",
         "2": "1.153304495E9",
         "3": "147",
         "4": "2016-04-27",
         "5": "United States of America",
         "6": "Marvel Studios",
         "7": "2025-05-17 18:23:31.233017"
        },
        {
         "0": "Captain America: Civil War",
         "1": "2.5E8",
         "2": "1.153304495E9",
         "3": "147",
         "4": "2016-04-27",
         "5": "United States of America",
         "6": "Walt Disney Studios Motion Pictures",
         "7": "2025-05-17 18:23:31.233017"
        },
        {
         "0": "Captain America: The First Avenger",
         "1": "1.4E8",
         "2": "3.70569774E8",
         "3": "124",
         "4": "2011-07-22",
         "5": "United States of America",
         "6": "Marvel Studios",
         "7": "2025-05-17 18:23:31.233017"
        },
        {
         "0": "Captain America: The Winter Soldier",
         "1": "1.7E8",
         "2": "7.14766572E8",
         "3": "136",
         "4": "2014-03-20",
         "5": "United States of America",
         "6": "Marvel Studios",
         "7": "2025-05-17 18:23:31.233017"
        },
        {
         "0": "Captain Phillips",
         "1": "5.5E7",
         "2": "9.5E7",
         "3": "134",
         "4": "2013-10-10",
         "5": "United States of America",
         "6": "Columbia Pictures",
         "7": "2025-05-17 18:23:31.233017"
        },
        {
         "0": "Captive",
         "1": "2000000.0",
         "2": "2600000.0",
         "3": "97",
         "4": "2015-09-17",
         "5": "United States of America",
         "6": "Brightside Entertainment",
         "7": "2025-05-17 18:23:31.233017"
        },
        {
         "0": "Captive",
         "1": "2000000.0",
         "2": "2600000.0",
         "3": "97",
         "4": "2015-09-17",
         "5": "United States of America",
         "6": "1019 Entertainment",
         "7": "2025-05-17 18:23:31.233017"
        },
        {
         "0": "Captive",
         "1": "2000000.0",
         "2": "2600000.0",
         "3": "97",
         "4": "2015-09-17",
         "5": "United States of America",
         "6": "Yoruba Saxon Productions",
         "7": "2025-05-17 18:23:31.233017"
        },
        {
         "0": "Captive",
         "1": "2000000.0",
         "2": "2600000.0",
         "3": "97",
         "4": "2015-09-17",
         "5": "United States of America",
         "6": "BN Films",
         "7": "2025-05-17 18:23:31.233017"
        },
        {
         "0": "Captive",
         "1": "2000000.0",
         "2": "2600000.0",
         "3": "97",
         "4": "2015-09-17",
         "5": "United States of America",
         "6": "Itaca Films",
         "7": "2025-05-17 18:23:31.233017"
        },
        {
         "0": "Carlos",
         "1": "1.8E7",
         "2": "871279.0",
         "3": "338",
         "4": "2010-05-19",
         "5": "Germany",
         "6": "Films en Stock",
         "7": "2025-05-17 18:23:31.233017"
        },
        {
         "0": "Carlos",
         "1": "1.8E7",
         "2": "871279.0",
         "3": "338",
         "4": "2010-05-19",
         "5": "France",
         "6": "Films en Stock",
         "7": "2025-05-17 18:23:31.233017"
        },
        {
         "0": "Carlos",
         "1": "1.8E7",
         "2": "871279.0",
         "3": "338",
         "4": "2010-05-19",
         "5": "Germany",
         "6": "Egoli Tossell Film AG",
         "7": "2025-05-17 18:23:31.233017"
        },
        {
         "0": "Carlos",
         "1": "1.8E7",
         "2": "871279.0",
         "3": "338",
         "4": "2010-05-19",
         "5": "France",
         "6": "Egoli Tossell Film AG",
         "7": "2025-05-17 18:23:31.233017"
        },
        {
         "0": "Carlos",
         "1": "1.8E7",
         "2": "871279.0",
         "3": "338",
         "4": "2010-05-19",
         "5": "Germany",
         "6": "Canal+",
         "7": "2025-05-17 18:23:31.233017"
        },
        {
         "0": "Carlos",
         "1": "1.8E7",
         "2": "871279.0",
         "3": "338",
         "4": "2010-05-19",
         "5": "France",
         "6": "Canal+",
         "7": "2025-05-17 18:23:31.233017"
        },
        {
         "0": "Carlos",
         "1": "1.8E7",
         "2": "871279.0",
         "3": "338",
         "4": "2010-05-19",
         "5": "Germany",
         "6": "Arte France",
         "7": "2025-05-17 18:23:31.233017"
        },
        {
         "0": "Carlos",
         "1": "1.8E7",
         "2": "871279.0",
         "3": "338",
         "4": "2010-05-19",
         "5": "France",
         "6": "Arte France",
         "7": "2025-05-17 18:23:31.233017"
        },
        {
         "0": "Carnage",
         "1": "2.5E7",
         "2": "2.7603069E7",
         "3": "80",
         "4": "2011-09-16",
         "5": "France",
         "6": "SBS Productions",
         "7": "2025-05-17 18:23:31.233017"
        },
        {
         "0": "Carnage",
         "1": "2.5E7",
         "2": "2.7603069E7",
         "3": "80",
         "4": "2011-09-16",
         "5": "Poland",
         "6": "SBS Productions",
         "7": "2025-05-17 18:23:31.233017"
        },
        {
         "0": "Carnage",
         "1": "2.5E7",
         "2": "2.7603069E7",
         "3": "80",
         "4": "2011-09-16",
         "5": "Germany",
         "6": "SBS Productions",
         "7": "2025-05-17 18:23:31.233017"
        },
        {
         "0": "Carnage",
         "1": "2.5E7",
         "2": "2.7603069E7",
         "3": "80",
         "4": "2011-09-16",
         "5": "Spain",
         "6": "SBS Productions",
         "7": "2025-05-17 18:23:31.233017"
        },
        {
         "0": "Carnage",
         "1": "2.5E7",
         "2": "2.7603069E7",
         "3": "80",
         "4": "2011-09-16",
         "5": "Poland",
         "6": "Polski Instytut Sztuki Filmowej",
         "7": "2025-05-17 18:23:31.233017"
        },
        {
         "0": "Carnage",
         "1": "2.5E7",
         "2": "2.7603069E7",
         "3": "80",
         "4": "2011-09-16",
         "5": "Germany",
         "6": "Polski Instytut Sztuki Filmowej",
         "7": "2025-05-17 18:23:31.233017"
        },
        {
         "0": "Carnage",
         "1": "2.5E7",
         "2": "2.7603069E7",
         "3": "80",
         "4": "2011-09-16",
         "5": "France",
         "6": "Polski Instytut Sztuki Filmowej",
         "7": "2025-05-17 18:23:31.233017"
        },
        {
         "0": "Carnage",
         "1": "2.5E7",
         "2": "2.7603069E7",
         "3": "80",
         "4": "2011-09-16",
         "5": "Spain",
         "6": "Polski Instytut Sztuki Filmowej",
         "7": "2025-05-17 18:23:31.233017"
        },
        {
         "0": "Carnage",
         "1": "2.5E7",
         "2": "2.7603069E7",
         "3": "80",
         "4": "2011-09-16",
         "5": "Poland",
         "6": "France Tu00e9lu00e9visions",
         "7": "2025-05-17 18:23:31.233017"
        },
        {
         "0": "Carnage",
         "1": "2.5E7",
         "2": "2.7603069E7",
         "3": "80",
         "4": "2011-09-16",
         "5": "Germany",
         "6": "France Tu00e9lu00e9visions",
         "7": "2025-05-17 18:23:31.233017"
        },
        {
         "0": "Carnage",
         "1": "2.5E7",
         "2": "2.7603069E7",
         "3": "80",
         "4": "2011-09-16",
         "5": "France",
         "6": "France Tu00e9lu00e9visions",
         "7": "2025-05-17 18:23:31.233017"
        },
        {
         "0": "Carnage",
         "1": "2.5E7",
         "2": "2.7603069E7",
         "3": "80",
         "4": "2011-09-16",
         "5": "Spain",
         "6": "France Tu00e9lu00e9visions",
         "7": "2025-05-17 18:23:31.233017"
        },
        {
         "0": "Carnage",
         "1": "2.5E7",
         "2": "2.7603069E7",
         "3": "80",
         "4": "2011-09-16",
         "5": "Poland",
         "6": "France 2 Cinu00e9ma",
         "7": "2025-05-17 18:23:31.233017"
        },
        {
         "0": "Carnage",
         "1": "2.5E7",
         "2": "2.7603069E7",
         "3": "80",
         "4": "2011-09-16",
         "5": "Germany",
         "6": "France 2 Cinu00e9ma",
         "7": "2025-05-17 18:23:31.233017"
        },
        {
         "0": "Carnage",
         "1": "2.5E7",
         "2": "2.7603069E7",
         "3": "80",
         "4": "2011-09-16",
         "5": "France",
         "6": "France 2 Cinu00e9ma",
         "7": "2025-05-17 18:23:31.233017"
        },
        {
         "0": "Carnage",
         "1": "2.5E7",
         "2": "2.7603069E7",
         "3": "80",
         "4": "2011-09-16",
         "5": "Spain",
         "6": "France 2 Cinu00e9ma",
         "7": "2025-05-17 18:23:31.233017"
        },
        {
         "0": "Carnage",
         "1": "2.5E7",
         "2": "2.7603069E7",
         "3": "80",
         "4": "2011-09-16",
         "5": "Poland",
         "6": "SPI Film Studio",
         "7": "2025-05-17 18:23:31.233017"
        },
        {
         "0": "Carnage",
         "1": "2.5E7",
         "2": "2.7603069E7",
         "3": "80",
         "4": "2011-09-16",
         "5": "Germany",
         "6": "SPI Film Studio",
         "7": "2025-05-17 18:23:31.233017"
        },
        {
         "0": "Carnage",
         "1": "2.5E7",
         "2": "2.7603069E7",
         "3": "80",
         "4": "2011-09-16",
         "5": "France",
         "6": "SPI Film Studio",
         "7": "2025-05-17 18:23:31.233017"
        },
        {
         "0": "Carnage",
         "1": "2.5E7",
         "2": "2.7603069E7",
         "3": "80",
         "4": "2011-09-16",
         "5": "Spain",
         "6": "SPI Film Studio",
         "7": "2025-05-17 18:23:31.233017"
        },
        {
         "0": "Carnage",
         "1": "2.5E7",
         "2": "2.7603069E7",
         "3": "80",
         "4": "2011-09-16",
         "5": "Poland",
         "6": "Wild Bunch",
         "7": "2025-05-17 18:23:31.233017"
        },
        {
         "0": "Carnage",
         "1": "2.5E7",
         "2": "2.7603069E7",
         "3": "80",
         "4": "2011-09-16",
         "5": "Germany",
         "6": "Wild Bunch",
         "7": "2025-05-17 18:23:31.233017"
        },
        {
         "0": "Carnage",
         "1": "2.5E7",
         "2": "2.7603069E7",
         "3": "80",
         "4": "2011-09-16",
         "5": "France",
         "6": "Wild Bunch",
         "7": "2025-05-17 18:23:31.233017"
        },
        {
         "0": "Carnage",
         "1": "2.5E7",
         "2": "2.7603069E7",
         "3": "80",
         "4": "2011-09-16",
         "5": "Spain",
         "6": "Wild Bunch",
         "7": "2025-05-17 18:23:31.233017"
        },
        {
         "0": "Carnage",
         "1": "2.5E7",
         "2": "2.7603069E7",
         "3": "80",
         "4": "2011-09-16",
         "5": "Poland",
         "6": "Zanagar Films",
         "7": "2025-05-17 18:23:31.233017"
        },
        {
         "0": "Carnage",
         "1": "2.5E7",
         "2": "2.7603069E7",
         "3": "80",
         "4": "2011-09-16",
         "5": "Germany",
         "6": "Zanagar Films",
         "7": "2025-05-17 18:23:31.233017"
        },
        {
         "0": "Carnage",
         "1": "2.5E7",
         "2": "2.7603069E7",
         "3": "80",
         "4": "2011-09-16",
         "5": "France",
         "6": "Zanagar Films",
         "7": "2025-05-17 18:23:31.233017"
        },
        {
         "0": "Carnage",
         "1": "2.5E7",
         "2": "2.7603069E7",
         "3": "80",
         "4": "2011-09-16",
         "5": "Spain",
         "6": "Zanagar Films",
         "7": "2025-05-17 18:23:31.233017"
        },
        {
         "0": "Carnage",
         "1": "2.5E7",
         "2": "2.7603069E7",
         "3": "80",
         "4": "2011-09-16",
         "5": "Poland",
         "6": "Canal+",
         "7": "2025-05-17 18:23:31.233017"
        },
        {
         "0": "Carnage",
         "1": "2.5E7",
         "2": "2.7603069E7",
         "3": "80",
         "4": "2011-09-16",
         "5": "Germany",
         "6": "Canal+",
         "7": "2025-05-17 18:23:31.233017"
        },
        {
         "0": "Carnage",
         "1": "2.5E7",
         "2": "2.7603069E7",
         "3": "80",
         "4": "2011-09-16",
         "5": "France",
         "6": "Canal+",
         "7": "2025-05-17 18:23:31.233017"
        },
        {
         "0": "Carnage",
         "1": "2.5E7",
         "2": "2.7603069E7",
         "3": "80",
         "4": "2011-09-16",
         "5": "Spain",
         "6": "Canal+",
         "7": "2025-05-17 18:23:31.233017"
        },
        {
         "0": "Carnage",
         "1": "2.5E7",
         "2": "2.7603069E7",
         "3": "80",
         "4": "2011-09-16",
         "5": "Poland",
         "6": "Constantin Film Produktion",
         "7": "2025-05-17 18:23:31.233017"
        },
        {
         "0": "Carnage",
         "1": "2.5E7",
         "2": "2.7603069E7",
         "3": "80",
         "4": "2011-09-16",
         "5": "Germany",
         "6": "Constantin Film Produktion",
         "7": "2025-05-17 18:23:31.233017"
        },
        {
         "0": "Carnage",
         "1": "2.5E7",
         "2": "2.7603069E7",
         "3": "80",
         "4": "2011-09-16",
         "5": "France",
         "6": "Constantin Film Produktion",
         "7": "2025-05-17 18:23:31.233017"
        },
        {
         "0": "Carnage",
         "1": "2.5E7",
         "2": "2.7603069E7",
         "3": "80",
         "4": "2011-09-16",
         "5": "Spain",
         "6": "Constantin Film Produktion",
         "7": "2025-05-17 18:23:31.233017"
        },
        {
         "0": "Carnage",
         "1": "2.5E7",
         "2": "2.7603069E7",
         "3": "80",
         "4": "2011-09-16",
         "5": "Poland",
         "6": "Cinu00e9Cinu00e9ma",
         "7": "2025-05-17 18:23:31.233017"
        },
        {
         "0": "Carnage",
         "1": "2.5E7",
         "2": "2.7603069E7",
         "3": "80",
         "4": "2011-09-16",
         "5": "Germany",
         "6": "Cinu00e9Cinu00e9ma",
         "7": "2025-05-17 18:23:31.233017"
        },
        {
         "0": "Carnage",
         "1": "2.5E7",
         "2": "2.7603069E7",
         "3": "80",
         "4": "2011-09-16",
         "5": "France",
         "6": "Cinu00e9Cinu00e9ma",
         "7": "2025-05-17 18:23:31.233017"
        },
        {
         "0": "Carnage",
         "1": "2.5E7",
         "2": "2.7603069E7",
         "3": "80",
         "4": "2011-09-16",
         "5": "Spain",
         "6": "Cinu00e9Cinu00e9ma",
         "7": "2025-05-17 18:23:31.233017"
        },
        {
         "0": "Carnage",
         "1": "2.5E7",
         "2": "2.7603069E7",
         "3": "80",
         "4": "2011-09-16",
         "5": "Poland",
         "6": "Versu00e1til Cinema",
         "7": "2025-05-17 18:23:31.233017"
        },
        {
         "0": "Carnage",
         "1": "2.5E7",
         "2": "2.7603069E7",
         "3": "80",
         "4": "2011-09-16",
         "5": "Germany",
         "6": "Versu00e1til Cinema",
         "7": "2025-05-17 18:23:31.233017"
        },
        {
         "0": "Carnage",
         "1": "2.5E7",
         "2": "2.7603069E7",
         "3": "80",
         "4": "2011-09-16",
         "5": "France",
         "6": "Versu00e1til Cinema",
         "7": "2025-05-17 18:23:31.233017"
        },
        {
         "0": "Carnage",
         "1": "2.5E7",
         "2": "2.7603069E7",
         "3": "80",
         "4": "2011-09-16",
         "5": "Spain",
         "6": "Versu00e1til Cinema",
         "7": "2025-05-17 18:23:31.233017"
        },
        {
         "0": "Carrie",
         "1": "3.0E7",
         "2": "8.2394288E7",
         "3": "100",
         "4": "2013-10-16",
         "5": "United States of America",
         "6": "Misher Films",
         "7": "2025-05-17 18:23:31.233017"
        },
        {
         "0": "Carrie",
         "1": "3.0E7",
         "2": "8.2394288E7",
         "3": "100",
         "4": "2013-10-16",
         "5": "United States of America",
         "6": "Screen Gems",
         "7": "2025-05-17 18:23:31.233017"
        },
        {
         "0": "Carrie",
         "1": "3.0E7",
         "2": "8.2394288E7",
         "3": "100",
         "4": "2013-10-16",
         "5": "United States of America",
         "6": "Metro-Goldwyn-Mayer (MGM)",
         "7": "2025-05-17 18:23:31.233017"
        },
        {
         "0": "Cars 2",
         "1": "2.0E8",
         "2": "5.59852396E8",
         "3": "106",
         "4": "2011-06-11",
         "5": "United States of America",
         "6": "Walt Disney Pictures",
         "7": "2025-05-17 18:23:31.233017"
        },
        {
         "0": "Cars 2",
         "1": "2.0E8",
         "2": "5.59852396E8",
         "3": "106",
         "4": "2011-06-11",
         "5": "United States of America",
         "6": "Pixar Animation Studios",
         "7": "2025-05-17 18:23:31.233017"
        },
        {
         "0": "Casa De Mi Padre",
         "1": "2000000.0",
         "2": "2600000.0",
         "3": "84",
         "4": "2012-03-15",
         "5": "United States of America",
         "6": "NALA Films",
         "7": "2025-05-17 18:23:31.233017"
        },
        {
         "0": "Casa De Mi Padre",
         "1": "2000000.0",
         "2": "2600000.0",
         "3": "84",
         "4": "2012-03-15",
         "5": "United States of America",
         "6": "Gary Sanchez Productions",
         "7": "2025-05-17 18:23:31.233017"
        },
        {
         "0": "Casa De Mi Padre",
         "1": "2000000.0",
         "2": "2600000.0",
         "3": "84",
         "4": "2012-03-15",
         "5": "United States of America",
         "6": "Lions Gate",
         "7": "2025-05-17 18:23:31.233017"
        },
        {
         "0": "Casino Jack",
         "1": "1.25E7",
         "2": "1083683.0",
         "3": "108",
         "4": "2010-09-16",
         "5": "Canada",
         "6": "Trigger Street Productions",
         "7": "2025-05-17 18:23:31.233017"
        },
        {
         "0": "Casino Jack",
         "1": "1.25E7",
         "2": "1083683.0",
         "3": "108",
         "4": "2010-09-16",
         "5": "Canada",
         "6": "Bagman (2009)",
         "7": "2025-05-17 18:23:31.233017"
        },
        {
         "0": "Casino Jack",
         "1": "1.25E7",
         "2": "1083683.0",
         "3": "108",
         "4": "2010-09-16",
         "5": "Canada",
         "6": "MCG",
         "7": "2025-05-17 18:23:31.233017"
        },
        {
         "0": "Casino Jack",
         "1": "1.25E7",
         "2": "1083683.0",
         "3": "108",
         "4": "2010-09-16",
         "5": "Canada",
         "6": "An Olive Branch Productions",
         "7": "2025-05-17 18:23:31.233017"
        },
        {
         "0": "Casino Jack",
         "1": "1.25E7",
         "2": "1083683.0",
         "3": "108",
         "4": "2010-09-16",
         "5": "Canada",
         "6": "Rollercoaster Entertainment",
         "7": "2025-05-17 18:23:31.233017"
        },
        {
         "0": "Casino Jack",
         "1": "1.25E7",
         "2": "1083683.0",
         "3": "108",
         "4": "2010-09-16",
         "5": "Canada",
         "6": "Vortex Words Pictures",
         "7": "2025-05-17 18:23:31.233017"
        },
        {
         "0": "Casino Jack",
         "1": "1.25E7",
         "2": "1083683.0",
         "3": "108",
         "4": "2010-09-16",
         "5": "Canada",
         "6": "Hannibal Pictures",
         "7": "2025-05-17 18:23:31.233017"
        },
        {
         "0": "Cats & Dogs 2 : The Revenge of Kitty Galore",
         "1": "8.5E7",
         "2": "1.12483764E8",
         "3": "82",
         "4": "2010-07-30",
         "5": "Australia",
         "6": "Village Roadshow Pictures",
         "7": "2025-05-17 18:23:31.233017"
        },
        {
         "0": "Cats & Dogs 2 : The Revenge of Kitty Galore",
         "1": "8.5E7",
         "2": "1.12483764E8",
         "3": "82",
         "4": "2010-07-30",
         "5": "United States of America",
         "6": "Village Roadshow Pictures",
         "7": "2025-05-17 18:23:31.233017"
        },
        {
         "0": "Cedar Rapids",
         "1": "2000000.0",
         "2": "2600000.0",
         "3": "87",
         "4": "2011-02-11",
         "5": "United States of America",
         "6": "Ad Hominem Enterprises",
         "7": "2025-05-17 18:23:31.233017"
        },
        {
         "0": "Celeste & Jesse Forever",
         "1": "2000000.0",
         "2": "2600000.0",
         "3": "91",
         "4": "2012-08-03",
         "5": "United States of America",
         "6": "Team Todd",
         "7": "2025-05-17 18:23:31.233017"
        },
        {
         "0": "Censored Voices",
         "1": "2000000.0",
         "2": "2600000.0",
         "3": "84",
         "4": "2015-01-24",
         "5": "Israel",
         "6": "kNow Productions",
         "7": "2025-05-17 18:23:31.233017"
        },
        {
         "0": "Censored Voices",
         "1": "2000000.0",
         "2": "2600000.0",
         "3": "84",
         "4": "2015-01-24",
         "5": "Germany",
         "6": "kNow Productions",
         "7": "2025-05-17 18:23:31.233017"
        },
        {
         "0": "Central Intelligence",
         "1": "5.0E7",
         "2": "2.16972543E8",
         "3": "107",
         "4": "2016-06-15",
         "5": "United States of America",
         "6": "Principato-Young Entertainment",
         "7": "2025-05-17 18:23:31.233017"
        },
        {
         "0": "Central Intelligence",
         "1": "5.0E7",
         "2": "2.16972543E8",
         "3": "107",
         "4": "2016-06-15",
         "5": "United States of America",
         "6": "Bluegrass Films",
         "7": "2025-05-17 18:23:31.233017"
        },
        {
         "0": "Central Intelligence",
         "1": "5.0E7",
         "2": "2.16972543E8",
         "3": "107",
         "4": "2016-06-15",
         "5": "United States of America",
         "6": "New Line Cinema",
         "7": "2025-05-17 18:23:31.233017"
        },
        {
         "0": "Central Intelligence",
         "1": "5.0E7",
         "2": "2.16972543E8",
         "3": "107",
         "4": "2016-06-15",
         "5": "United States of America",
         "6": "Universal Pictures",
         "7": "2025-05-17 18:23:31.233017"
        },
        {
         "0": "Centurion",
         "1": "1.2E7",
         "2": "6814789.0",
         "3": "97",
         "4": "2010-02-15",
         "5": "United Kingdom",
         "6": "Pathu00e9 Pictures International",
         "7": "2025-05-17 18:23:31.233017"
        },
        {
         "0": "Centurion",
         "1": "1.2E7",
         "2": "6814789.0",
         "3": "97",
         "4": "2010-02-15",
         "5": "France",
         "6": "Pathu00e9 Pictures International",
         "7": "2025-05-17 18:23:31.233017"
        },
        {
         "0": "Centurion",
         "1": "1.2E7",
         "2": "6814789.0",
         "3": "97",
         "4": "2010-02-15",
         "5": "United Kingdom",
         "6": "UK Film Council",
         "7": "2025-05-17 18:23:31.233017"
        },
        {
         "0": "Centurion",
         "1": "1.2E7",
         "2": "6814789.0",
         "3": "97",
         "4": "2010-02-15",
         "5": "France",
         "6": "UK Film Council",
         "7": "2025-05-17 18:23:31.233017"
        },
        {
         "0": "Centurion",
         "1": "1.2E7",
         "2": "6814789.0",
         "3": "97",
         "4": "2010-02-15",
         "5": "United Kingdom",
         "6": "Celador Films",
         "7": "2025-05-17 18:23:31.233017"
        },
        {
         "0": "Centurion",
         "1": "1.2E7",
         "2": "6814789.0",
         "3": "97",
         "4": "2010-02-15",
         "5": "France",
         "6": "Celador Films",
         "7": "2025-05-17 18:23:31.233017"
        },
        {
         "0": "Centurion",
         "1": "1.2E7",
         "2": "6814789.0",
         "3": "97",
         "4": "2010-02-15",
         "5": "United Kingdom",
         "6": "Canal+",
         "7": "2025-05-17 18:23:31.233017"
        },
        {
         "0": "Centurion",
         "1": "1.2E7",
         "2": "6814789.0",
         "3": "97",
         "4": "2010-02-15",
         "5": "France",
         "6": "Canal+",
         "7": "2025-05-17 18:23:31.233017"
        },
        {
         "0": "Centurion",
         "1": "1.2E7",
         "2": "6814789.0",
         "3": "97",
         "4": "2010-02-15",
         "5": "United Kingdom",
         "6": "Warner Bros.",
         "7": "2025-05-17 18:23:31.233017"
        },
        {
         "0": "Centurion",
         "1": "1.2E7",
         "2": "6814789.0",
         "3": "97",
         "4": "2010-02-15",
         "5": "France",
         "6": "Warner Bros.",
         "7": "2025-05-17 18:23:31.233017"
        },
        {
         "0": "Centurion",
         "1": "1.2E7",
         "2": "6814789.0",
         "3": "97",
         "4": "2010-02-15",
         "5": "United Kingdom",
         "6": "Cinu00e9Cinu00e9ma",
         "7": "2025-05-17 18:23:31.233017"
        },
        {
         "0": "Centurion",
         "1": "1.2E7",
         "2": "6814789.0",
         "3": "97",
         "4": "2010-02-15",
         "5": "France",
         "6": "Cinu00e9Cinu00e9ma",
         "7": "2025-05-17 18:23:31.233017"
        },
        {
         "0": "Chain Letter",
         "1": "2000000.0",
         "2": "2600000.0",
         "3": "96",
         "4": "2010-10-01",
         "5": "United States of America",
         "6": "Tiger Tail Entertainment",
         "7": "2025-05-17 18:23:31.233017"
        },
        {
         "0": "Chain Letter",
         "1": "2000000.0",
         "2": "2600000.0",
         "3": "96",
         "4": "2010-10-01",
         "5": "United States of America",
         "6": "Deon Taylor Enterprises",
         "7": "2025-05-17 18:23:31.233017"
        },
        {
         "0": "Chain of Command",
         "1": "5000000.0",
         "2": "6250000.0",
         "3": "88",
         "4": "2015-08-30",
         "5": "United States of America",
         "6": "Clear Lake Entertainment",
         "7": "2025-05-17 18:23:31.233017"
        },
        {
         "0": "Chain of Command",
         "1": "5000000.0",
         "2": "6250000.0",
         "3": "88",
         "4": "2015-08-30",
         "5": "United States of America",
         "6": "Dog and Pony Media",
         "7": "2025-05-17 18:23:31.233017"
        },
        {
         "0": "Chain of Command",
         "1": "5000000.0",
         "2": "6250000.0",
         "3": "88",
         "4": "2015-08-30",
         "5": "United States of America",
         "6": "Hollywood Media Bridge",
         "7": "2025-05-17 18:23:31.233017"
        },
        {
         "0": "Chain of Command",
         "1": "5000000.0",
         "2": "6250000.0",
         "3": "88",
         "4": "2015-08-30",
         "5": "United States of America",
         "6": "LionsGate",
         "7": "2025-05-17 18:23:31.233017"
        },
        {
         "0": "Chappie",
         "1": "4.9E7",
         "2": "1.04399548E8",
         "3": "120",
         "4": "2015-03-04",
         "5": "United States of America",
         "6": "Alpha Core",
         "7": "2025-05-17 18:23:31.233017"
        },
        {
         "0": "Chappie",
         "1": "4.9E7",
         "2": "1.04399548E8",
         "3": "120",
         "4": "2015-03-04",
         "5": "South Africa",
         "6": "Alpha Core",
         "7": "2025-05-17 18:23:31.233017"
        },
        {
         "0": "Chappie",
         "1": "4.9E7",
         "2": "1.04399548E8",
         "3": "120",
         "4": "2015-03-04",
         "5": "Mexico",
         "6": "Alpha Core",
         "7": "2025-05-17 18:23:31.233017"
        },
        {
         "0": "Chappie",
         "1": "4.9E7",
         "2": "1.04399548E8",
         "3": "120",
         "4": "2015-03-04",
         "5": "United States of America",
         "6": "Ollin Studio",
         "7": "2025-05-17 18:23:31.233017"
        },
        {
         "0": "Chappie",
         "1": "4.9E7",
         "2": "1.04399548E8",
         "3": "120",
         "4": "2015-03-04",
         "5": "South Africa",
         "6": "Ollin Studio",
         "7": "2025-05-17 18:23:31.233017"
        },
        {
         "0": "Chappie",
         "1": "4.9E7",
         "2": "1.04399548E8",
         "3": "120",
         "4": "2015-03-04",
         "5": "Mexico",
         "6": "Ollin Studio",
         "7": "2025-05-17 18:23:31.233017"
        },
        {
         "0": "Chappie",
         "1": "4.9E7",
         "2": "1.04399548E8",
         "3": "120",
         "4": "2015-03-04",
         "5": "United States of America",
         "6": "Genre Films",
         "7": "2025-05-17 18:23:31.233017"
        },
        {
         "0": "Chappie",
         "1": "4.9E7",
         "2": "1.04399548E8",
         "3": "120",
         "4": "2015-03-04",
         "5": "South Africa",
         "6": "Genre Films",
         "7": "2025-05-17 18:23:31.233017"
        },
        {
         "0": "Chappie",
         "1": "4.9E7",
         "2": "1.04399548E8",
         "3": "120",
         "4": "2015-03-04",
         "5": "Mexico",
         "6": "Genre Films",
         "7": "2025-05-17 18:23:31.233017"
        },
        {
         "0": "Chappie",
         "1": "4.9E7",
         "2": "1.04399548E8",
         "3": "120",
         "4": "2015-03-04",
         "5": "United States of America",
         "6": "Simon Kinberg Productions",
         "7": "2025-05-17 18:23:31.233017"
        },
        {
         "0": "Chappie",
         "1": "4.9E7",
         "2": "1.04399548E8",
         "3": "120",
         "4": "2015-03-04",
         "5": "South Africa",
         "6": "Simon Kinberg Productions",
         "7": "2025-05-17 18:23:31.233017"
        },
        {
         "0": "Chappie",
         "1": "4.9E7",
         "2": "1.04399548E8",
         "3": "120",
         "4": "2015-03-04",
         "5": "Mexico",
         "6": "Simon Kinberg Productions",
         "7": "2025-05-17 18:23:31.233017"
        },
        {
         "0": "Chappie",
         "1": "4.9E7",
         "2": "1.04399548E8",
         "3": "120",
         "4": "2015-03-04",
         "5": "United States of America",
         "6": "LStar Capital",
         "7": "2025-05-17 18:23:31.233017"
        },
        {
         "0": "Chappie",
         "1": "4.9E7",
         "2": "1.04399548E8",
         "3": "120",
         "4": "2015-03-04",
         "5": "South Africa",
         "6": "LStar Capital",
         "7": "2025-05-17 18:23:31.233017"
        },
        {
         "0": "Chappie",
         "1": "4.9E7",
         "2": "1.04399548E8",
         "3": "120",
         "4": "2015-03-04",
         "5": "Mexico",
         "6": "LStar Capital",
         "7": "2025-05-17 18:23:31.233017"
        },
        {
         "0": "Chappie",
         "1": "4.9E7",
         "2": "1.04399548E8",
         "3": "120",
         "4": "2015-03-04",
         "5": "United States of America",
         "6": "Columbia Pictures",
         "7": "2025-05-17 18:23:31.233017"
        },
        {
         "0": "Chappie",
         "1": "4.9E7",
         "2": "1.04399548E8",
         "3": "120",
         "4": "2015-03-04",
         "5": "South Africa",
         "6": "Columbia Pictures",
         "7": "2025-05-17 18:23:31.233017"
        },
        {
         "0": "Chappie",
         "1": "4.9E7",
         "2": "1.04399548E8",
         "3": "120",
         "4": "2015-03-04",
         "5": "Mexico",
         "6": "Columbia Pictures",
         "7": "2025-05-17 18:23:31.233017"
        },
        {
         "0": "Chappie",
         "1": "4.9E7",
         "2": "1.04399548E8",
         "3": "120",
         "4": "2015-03-04",
         "5": "United States of America",
         "6": "Media Rights Capital",
         "7": "2025-05-17 18:23:31.233017"
        },
        {
         "0": "Chappie",
         "1": "4.9E7",
         "2": "1.04399548E8",
         "3": "120",
         "4": "2015-03-04",
         "5": "South Africa",
         "6": "Media Rights Capital",
         "7": "2025-05-17 18:23:31.233017"
        },
        {
         "0": "Chappie",
         "1": "4.9E7",
         "2": "1.04399548E8",
         "3": "120",
         "4": "2015-03-04",
         "5": "Mexico",
         "6": "Media Rights Capital",
         "7": "2025-05-17 18:23:31.233017"
        },
        {
         "0": "Chappie",
         "1": "4.9E7",
         "2": "1.04399548E8",
         "3": "120",
         "4": "2015-03-04",
         "5": "United States of America",
         "6": "Sony Pictures Entertainment (SPE)",
         "7": "2025-05-17 18:23:31.233017"
        },
        {
         "0": "Chappie",
         "1": "4.9E7",
         "2": "1.04399548E8",
         "3": "120",
         "4": "2015-03-04",
         "5": "South Africa",
         "6": "Sony Pictures Entertainment (SPE)",
         "7": "2025-05-17 18:23:31.233017"
        },
        {
         "0": "Chappie",
         "1": "4.9E7",
         "2": "1.04399548E8",
         "3": "120",
         "4": "2015-03-04",
         "5": "Mexico",
         "6": "Sony Pictures Entertainment (SPE)",
         "7": "2025-05-17 18:23:31.233017"
        },
        {
         "0": "Charlie St. Cloud",
         "1": "4.4E7",
         "2": "4.8190704E7",
         "3": "99",
         "4": "2010-05-01",
         "5": "United States of America",
         "6": "Universal Pictures",
         "7": "2025-05-17 18:23:31.233017"
        },
        {
         "0": "Charlie St. Cloud",
         "1": "4.4E7",
         "2": "4.8190704E7",
         "3": "99",
         "4": "2010-05-01",
         "5": "United States of America",
         "6": "Marc Platt Productions",
         "7": "2025-05-17 18:23:31.233017"
        },
        {
         "0": "Charlie St. Cloud",
         "1": "4.4E7",
         "2": "4.8190704E7",
         "3": "99",
         "4": "2010-05-01",
         "5": "United States of America",
         "6": "Relativity Media",
         "7": "2025-05-17 18:23:31.233017"
        },
        {
         "0": "Chasing Mavericks",
         "1": "2000000.0",
         "2": "2600000.0",
         "3": "117",
         "4": "2012-10-25",
         "5": "United States of America",
         "6": "Walden Media",
         "7": "2025-05-17 18:23:31.233017"
        },
        {
         "0": "Chasing Mavericks",
         "1": "2000000.0",
         "2": "2600000.0",
         "3": "117",
         "4": "2012-10-25",
         "5": "United States of America",
         "6": "Fox 2000 Pictures",
         "7": "2025-05-17 18:23:31.233017"
        },
        {
         "0": "Cheap Thrills",
         "1": "2000000.0",
         "2": "2600000.0",
         "3": "85",
         "4": "2013-03-08",
         "5": "United States of America",
         "6": "New Artists Alliance",
         "7": "2025-05-17 18:23:31.233017"
        },
        {
         "0": "Cheap Thrills",
         "1": "2000000.0",
         "2": "2600000.0",
         "3": "85",
         "4": "2013-03-08",
         "5": "United States of America",
         "6": "Snowfort Pictures",
         "7": "2025-05-17 18:23:31.233017"
        },
        {
         "0": "Checkmate",
         "1": "2000000.0",
         "2": "2600000.0",
         "3": "102",
         "4": "2015-07-03",
         "5": "United States of America",
         "6": "Puppy Entertainment",
         "7": "2025-05-17 18:23:31.233017"
        },
        {
         "0": "Checkmate",
         "1": "2000000.0",
         "2": "2600000.0",
         "3": "102",
         "4": "2015-07-03",
         "5": "United States of America",
         "6": "Status Media & Entertainment",
         "7": "2025-05-17 18:23:31.233017"
        },
        {
         "0": "Chernobyl Diaries",
         "1": "2000000.0",
         "2": "2600000.0",
         "3": "88",
         "4": "2012-05-24",
         "5": "United States of America",
         "6": "Oren Peli / Brian Witten Pictures",
         "7": "2025-05-17 18:23:31.233017"
        },
        {
         "0": "Chernobyl Diaries",
         "1": "2000000.0",
         "2": "2600000.0",
         "3": "88",
         "4": "2012-05-24",
         "5": "United States of America",
         "6": "Alcon Entertainment",
         "7": "2025-05-17 18:23:31.233017"
        },
        {
         "0": "Chernobyl Diaries",
         "1": "2000000.0",
         "2": "2600000.0",
         "3": "88",
         "4": "2012-05-24",
         "5": "United States of America",
         "6": "FilmNation Entertainment",
         "7": "2025-05-17 18:23:31.233017"
        },
        {
         "0": "Chiamatemi Francesco - Il Papa della gente",
         "1": "1.5E7",
         "2": "1.875E7",
         "3": "75",
         "4": "2015-12-03",
         "5": "Italy",
         "6": "Taodue Film",
         "7": "2025-05-17 18:23:31.233017"
        },
        {
         "0": "Child 44",
         "1": "5.0E7",
         "2": "3324330.0",
         "3": "137",
         "4": "2015-03-15",
         "5": "Romania",
         "6": "Worldview Entertainment",
         "7": "2025-05-17 18:23:31.233017"
        },
        {
         "0": "Child 44",
         "1": "5.0E7",
         "2": "3324330.0",
         "3": "137",
         "4": "2015-03-15",
         "5": "Czech Republic",
         "6": "Worldview Entertainment",
         "7": "2025-05-17 18:23:31.233017"
        },
        {
         "0": "Child 44",
         "1": "5.0E7",
         "2": "3324330.0",
         "3": "137",
         "4": "2015-03-15",
         "5": "United States of America",
         "6": "Worldview Entertainment",
         "7": "2025-05-17 18:23:31.233017"
        },
        {
         "0": "Child 44",
         "1": "5.0E7",
         "2": "3324330.0",
         "3": "137",
         "4": "2015-03-15",
         "5": "United Kingdom",
         "6": "Worldview Entertainment",
         "7": "2025-05-17 18:23:31.233017"
        },
        {
         "0": "Child 44",
         "1": "5.0E7",
         "2": "3324330.0",
         "3": "137",
         "4": "2015-03-15",
         "5": "Romania",
         "6": "Summit Entertainment",
         "7": "2025-05-17 18:23:31.233017"
        },
        {
         "0": "Child 44",
         "1": "5.0E7",
         "2": "3324330.0",
         "3": "137",
         "4": "2015-03-15",
         "5": "Czech Republic",
         "6": "Summit Entertainment",
         "7": "2025-05-17 18:23:31.233017"
        }
       ],
       "schema": [
        {
         "key": "0",
         "name": "title",
         "type": "string"
        },
        {
         "key": "1",
         "name": "budget",
         "type": "double"
        },
        {
         "key": "2",
         "name": "revenue",
         "type": "double"
        },
        {
         "key": "3",
         "name": "duration_time",
         "type": "int"
        },
        {
         "key": "4",
         "name": "release_date",
         "type": "date"
        },
        {
         "key": "5",
         "name": "country_name",
         "type": "string"
        },
        {
         "key": "6",
         "name": "company_name",
         "type": "string"
        },
        {
         "key": "7",
         "name": "created_date",
         "type": "timestamp"
        }
       ],
       "truncated": false
      },
      "wranglerEntryContext": {
       "candidateVariableNames": [
        "results_country_prod_company"
       ],
       "dataframeType": "pyspark"
      }
     },
     "type": "Synapse.DataFrame"
    }
   },
   "version": "0.1"
  }
 },
 "nbformat": 4,
 "nbformat_minor": 0
}
