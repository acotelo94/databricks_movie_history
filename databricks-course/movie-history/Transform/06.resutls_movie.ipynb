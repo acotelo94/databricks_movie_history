{
 "cells": [
  {
   "cell_type": "markdown",
   "metadata": {
    "application/vnd.databricks.v1+cell": {
     "cellMetadata": {
      "byteLimit": 2048000,
      "rowLimit": 10000
     },
     "inputWidgets": {},
     "nuid": "8d06896f-669d-419f-a2e0-60f07f85074e",
     "showTitle": false,
     "tableResultSettingsMap": {},
     "title": ""
    }
   },
   "source": [
    "## Crear la Tabla results_movie en la capa \"gold\""
   ]
  },
  {
   "cell_type": "code",
   "execution_count": 0,
   "metadata": {
    "application/vnd.databricks.v1+cell": {
     "cellMetadata": {
      "byteLimit": 2048000,
      "rowLimit": 10000
     },
     "inputWidgets": {},
     "nuid": "70c6be58-0936-4821-b5e8-8b8414e4cbf0",
     "showTitle": false,
     "tableResultSettingsMap": {},
     "title": ""
    }
   },
   "outputs": [],
   "source": [
    "dbutils.widgets.text(\"file_date\",\"2024-12-30\")\n",
    "file_date = dbutils.widgets.get(\"file_date\")"
   ]
  },
  {
   "cell_type": "code",
   "execution_count": 0,
   "metadata": {
    "application/vnd.databricks.v1+cell": {
     "cellMetadata": {
      "byteLimit": 2048000,
      "rowLimit": 10000
     },
     "inputWidgets": {},
     "nuid": "b5baf9a4-ab5e-4b0c-8106-cc0f463c4da2",
     "showTitle": false,
     "tableResultSettingsMap": {},
     "title": ""
    }
   },
   "outputs": [],
   "source": [
    "spark.sql(\"\"\"\n",
    "          CREATE TABLE IF NOT EXISTS movie_gold.results_movie (\n",
    "              year_release_date INT,\n",
    "              country_name STRING,\n",
    "              company_name STRING,\n",
    "              budget FLOAT,\n",
    "              revenue FLOAT,\n",
    "              movie_id INT,\n",
    "              country_id INT,\n",
    "              company_id INT,\n",
    "              created_date DATE,\n",
    "              updated_date DATE\n",
    "          )\n",
    "          USING DELTA\n",
    "          \"\"\")"
   ]
  },
  {
   "cell_type": "code",
   "execution_count": 0,
   "metadata": {
    "application/vnd.databricks.v1+cell": {
     "cellMetadata": {
      "byteLimit": 2048000,
      "rowLimit": 10000
     },
     "inputWidgets": {},
     "nuid": "d1068711-c60f-4916-a027-c83d40198fcc",
     "showTitle": false,
     "tableResultSettingsMap": {},
     "title": ""
    }
   },
   "outputs": [],
   "source": [
    "spark.sql(f\"\"\"\n",
    "          CREATE OR REPLACE TEMP VIEW vw_results_movie\n",
    "                AS\n",
    "                SELECT M.year_release_date,C.country_name,PCO.company_name,M.budget,M.revenue,M.movie_id, C.country_id, PCO.company_id\n",
    "                FROM movie_silver.movies M\n",
    "                INNER JOIN movie_silver.production_countries PC ON M.movie_id=PC.movie_id\n",
    "                INNER JOIN movie_silver.countries C ON PC.country_id=C.country_id\n",
    "                INNER JOIN movie_silver.movies_companies MC ON M.movie_id=MC.movie_id\n",
    "                INNER JOIN movie_silver.productions_companies PCO ON MC.company_id=PCO.company_id\n",
    "                WHERE M.file_date='{file_date}'\n",
    "            \"\"\")"
   ]
  },
  {
   "cell_type": "code",
   "execution_count": 0,
   "metadata": {
    "application/vnd.databricks.v1+cell": {
     "cellMetadata": {
      "byteLimit": 2048000,
      "implicitDf": true,
      "rowLimit": 10000
     },
     "inputWidgets": {},
     "nuid": "4af1dd9c-fa18-4f79-969c-486c6e893b7e",
     "showTitle": false,
     "tableResultSettingsMap": {},
     "title": ""
    }
   },
   "outputs": [],
   "source": [
    "%sql\n",
    "SELECT * FROM vw_results_movie"
   ]
  },
  {
   "cell_type": "code",
   "execution_count": 0,
   "metadata": {
    "application/vnd.databricks.v1+cell": {
     "cellMetadata": {
      "byteLimit": 2048000,
      "implicitDf": true,
      "rowLimit": 10000
     },
     "inputWidgets": {},
     "nuid": "0cce1e10-135e-428b-9911-7dd5d401fdf8",
     "showTitle": false,
     "tableResultSettingsMap": {},
     "title": ""
    }
   },
   "outputs": [],
   "source": [
    "spark.sql(\"\"\"\n",
    "    MERGE INTO movie_gold.results_movie target\n",
    "    USING vw_results_movie source\n",
    "    ON (target.movie_id = source.movie_id AND target.country_id=source.country_id AND target.company_id = source.company_id)\n",
    "    WHEN MATCHED THEN\n",
    "    UPDATE SET\n",
    "        target.year_release_date = source.year_release_date,\n",
    "        target.country_name = source.country_name,\n",
    "        target.company_name = source.company_name,\n",
    "        target.budget = source.budget,\n",
    "        target.revenue = source.revenue,\n",
    "        target.updated_date = current_timestamp\n",
    "    WHEN NOT MATCHED\n",
    "    THEN INSERT (\n",
    "        year_release_date,\n",
    "        country_name,\n",
    "        company_name,\n",
    "        budget,\n",
    "        revenue,\n",
    "        movie_id,\n",
    "        country_id,\n",
    "        company_id,\n",
    "        created_date\n",
    "    )\n",
    "    VALUES (\n",
    "        year_release_date,\n",
    "        country_name,\n",
    "        company_name,\n",
    "        budget,\n",
    "        revenue,\n",
    "        movie_id,\n",
    "        country_id,\n",
    "        company_id,\n",
    "        current_timestamp\n",
    "    )\n",
    "    \"\"\")"
   ]
  },
  {
   "cell_type": "code",
   "execution_count": 0,
   "metadata": {
    "application/vnd.databricks.v1+cell": {
     "cellMetadata": {
      "byteLimit": 2048000,
      "implicitDf": true,
      "rowLimit": 10000
     },
     "inputWidgets": {},
     "nuid": "157ba1ac-bf11-4064-80f9-0754454265ff",
     "showTitle": false,
     "tableResultSettingsMap": {},
     "title": ""
    }
   },
   "outputs": [],
   "source": [
    "%sql\n",
    "SELECT COUNT(1) FROM vw_results_movie"
   ]
  }
 ],
 "metadata": {
  "application/vnd.databricks.v1+notebook": {
   "computePreferences": null,
   "dashboards": [],
   "environmentMetadata": {
    "base_environment": "",
    "environment_version": "2"
   },
   "inputWidgetPreferences": null,
   "language": "python",
   "notebookMetadata": {
    "mostRecentlyExecutedCommandWithImplicitDF": {
     "commandId": 7618061479981415,
     "dataframes": [
      "_sqldf"
     ]
    },
    "pythonIndentUnit": 4
   },
   "notebookName": "06.resutls_movie",
   "widgets": {
    "file_date": {
     "currentValue": "2024-12-16",
     "nuid": "b8ff9bdd-8540-4037-a23d-3f1cc30087dc",
     "typedWidgetInfo": {
      "autoCreated": false,
      "defaultValue": "2024-12-30",
      "label": null,
      "name": "file_date",
      "options": {
       "widgetDisplayType": "Text",
       "validationRegex": null
      },
      "parameterDataType": "String"
     },
     "widgetInfo": {
      "widgetType": "text",
      "defaultValue": "2024-12-30",
      "label": null,
      "name": "file_date",
      "options": {
       "widgetType": "text",
       "autoCreated": null,
       "validationRegex": null
      }
     }
    }
   }
  },
  "language_info": {
   "name": "python"
  }
 },
 "nbformat": 4,
 "nbformat_minor": 0
}
