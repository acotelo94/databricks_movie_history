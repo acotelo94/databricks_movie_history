{
 "cells": [
  {
   "cell_type": "code",
   "execution_count": 0,
   "metadata": {
    "application/vnd.databricks.v1+cell": {
     "cellMetadata": {
      "byteLimit": 2048000,
      "rowLimit": 10000
     },
     "inputWidgets": {},
     "nuid": "934d8bde-a86d-4eef-aa50-9a7456cf4d19",
     "showTitle": false,
     "tableResultSettingsMap": {},
     "title": ""
    }
   },
   "outputs": [],
   "source": [
    "USE movie_gold"
   ]
  },
  {
   "cell_type": "code",
   "execution_count": 0,
   "metadata": {
    "application/vnd.databricks.v1+cell": {
     "cellMetadata": {
      "byteLimit": 2048000,
      "rowLimit": 10000
     },
     "inputWidgets": {},
     "nuid": "3b40e271-d288-47ca-ac21-8a57e06c392d",
     "showTitle": false,
     "tableResultSettingsMap": {},
     "title": ""
    }
   },
   "outputs": [],
   "source": [
    "SELECT * FROM results_movies"
   ]
  },
  {
   "cell_type": "code",
   "execution_count": 0,
   "metadata": {
    "application/vnd.databricks.v1+cell": {
     "cellMetadata": {
      "byteLimit": 2048000,
      "rowLimit": 10000
     },
     "inputWidgets": {},
     "nuid": "ec8a34f5-e1e8-40b2-89e8-ef44786e2ef5",
     "showTitle": false,
     "tableResultSettingsMap": {},
     "title": ""
    }
   },
   "outputs": [],
   "source": [
    "SELECT sum(budget) as total_budget, sum(revenue) as total_revenue,country_name,\n",
    "count(country_name) as total_movies\n",
    "FROM results_movies\n",
    "GROUP by country_name\n",
    "ORDER BY total_revenue DESC"
   ]
  },
  {
   "cell_type": "code",
   "execution_count": 0,
   "metadata": {
    "application/vnd.databricks.v1+cell": {
     "cellMetadata": {
      "byteLimit": 2048000,
      "rowLimit": 10000
     },
     "inputWidgets": {},
     "nuid": "68561df5-eb2b-47ff-8965-edf75107222d",
     "showTitle": false,
     "tableResultSettingsMap": {},
     "title": ""
    }
   },
   "outputs": [],
   "source": [
    "SELECT CAST(sum(budget) as DECIMAL(18,2)) as total_budget, \n",
    "CAST(avg(budget) as DECIMAL(18,2))as avg_budget\n",
    ",country_name,\n",
    "count(country_name) as total_movies,\n",
    "avg(revenue) as avg_revenue\n",
    "FROM results_movies\n",
    "GROUP by country_name\n",
    "ORDER BY total_budget DESC"
   ]
  },
  {
   "cell_type": "code",
   "execution_count": 0,
   "metadata": {
    "application/vnd.databricks.v1+cell": {
     "cellMetadata": {
      "byteLimit": 2048000,
      "rowLimit": 10000
     },
     "inputWidgets": {},
     "nuid": "ca8d660c-eddf-4717-ba7a-42629f74aadc",
     "showTitle": false,
     "tableResultSettingsMap": {},
     "title": ""
    }
   },
   "outputs": [],
   "source": [
    "SELECT CAST(sum(budget) as DECIMAL(18,2)) as total_budget, \n",
    "CAST(avg(budget) as DECIMAL(18,2))as avg_budget\n",
    ",country_name,\n",
    "count(country_name) as total_movies,\n",
    "avg(revenue) as avg_revenue\n",
    "FROM results_movies\n",
    "WHERE year_release_date BETWEEN 2010 AND 2015\n",
    "GROUP by country_name\n",
    "ORDER BY total_budget DESC"
   ]
  }
 ],
 "metadata": {
  "application/vnd.databricks.v1+notebook": {
   "computePreferences": null,
   "dashboards": [],
   "environmentMetadata": {
    "base_environment": "",
    "environment_version": "2"
   },
   "inputWidgetPreferences": null,
   "language": "sql",
   "notebookMetadata": {},
   "notebookName": "01.budget_revenue_country",
   "widgets": {}
  },
  "language_info": {
   "name": "sql"
  }
 },
 "nbformat": 4,
 "nbformat_minor": 0
}
