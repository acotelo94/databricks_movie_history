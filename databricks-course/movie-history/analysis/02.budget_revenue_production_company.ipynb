{
 "cells": [
  {
   "cell_type": "markdown",
   "metadata": {
    "application/vnd.databricks.v1+cell": {
     "cellMetadata": {},
     "inputWidgets": {},
     "nuid": "7b81a729-0671-49df-b2fb-eabcb1af7d34",
     "showTitle": false,
     "tableResultSettingsMap": {},
     "title": ""
    }
   },
   "source": [
    "### Presupuesto e ingresos por productora"
   ]
  },
  {
   "cell_type": "code",
   "execution_count": 0,
   "metadata": {
    "application/vnd.databricks.v1+cell": {
     "cellMetadata": {
      "byteLimit": 2048000,
      "rowLimit": 10000
     },
     "inputWidgets": {},
     "nuid": "21ebd5a2-c451-4cf9-b730-9bf4122d8d65",
     "showTitle": false,
     "tableResultSettingsMap": {},
     "title": ""
    }
   },
   "outputs": [],
   "source": [
    "use movie_gold"
   ]
  },
  {
   "cell_type": "code",
   "execution_count": 0,
   "metadata": {
    "application/vnd.databricks.v1+cell": {
     "cellMetadata": {
      "byteLimit": 2048000,
      "rowLimit": 10000
     },
     "inputWidgets": {},
     "nuid": "1bc9d786-d429-4902-8852-57b7a0d2c152",
     "showTitle": false,
     "tableResultSettingsMap": {},
     "title": ""
    }
   },
   "outputs": [],
   "source": [
    "select * from results_movies"
   ]
  },
  {
   "cell_type": "code",
   "execution_count": 0,
   "metadata": {
    "application/vnd.databricks.v1+cell": {
     "cellMetadata": {
      "byteLimit": 2048000,
      "rowLimit": 10000
     },
     "inputWidgets": {},
     "nuid": "8833c17d-1499-4d3a-ad78-430d91a83dfb",
     "showTitle": false,
     "tableResultSettingsMap": {},
     "title": ""
    }
   },
   "outputs": [],
   "source": [
    "SELECT company_name,CAST(SUM(revenue) as DECIMAL(18,2)) as total_revenue, \n",
    "CAST(AVG(revenue) as DECIMAL(18,2)) as avg_revenue, \n",
    "CAST(SUM(budget) as DECIMAL(18,2)) as total_budget,\n",
    "CAST(avg(budget) as DECIMAL(18,2)) as avg_budget,\n",
    "COUNT(company_name) as total_movies\n",
    "FROM results_movies\n",
    "GROUP BY(company_name)\n",
    "ORDER BY total_revenue DESC"
   ]
  },
  {
   "cell_type": "code",
   "execution_count": 0,
   "metadata": {
    "application/vnd.databricks.v1+cell": {
     "cellMetadata": {
      "byteLimit": 2048000,
      "rowLimit": 10000
     },
     "inputWidgets": {},
     "nuid": "a6929195-ace4-4526-8dd6-69efa9f6a75d",
     "showTitle": false,
     "tableResultSettingsMap": {},
     "title": ""
    }
   },
   "outputs": [],
   "source": [
    "SELECT company_name,CAST(SUM(revenue) as DECIMAL(18,2)) as total_revenue, \n",
    "CAST(AVG(revenue) as DECIMAL(18,2)) as avg_revenue, \n",
    "CAST(SUM(budget) as DECIMAL(18,2)) as total_budget,\n",
    "CAST(avg(budget) as DECIMAL(18,2)) as avg_budget,\n",
    "COUNT(company_name) as total_movies\n",
    "FROM results_movies\n",
    "WHERE year_release_date BETWEEN 2010 AND 2015\n",
    "GROUP BY(company_name)\n",
    "ORDER BY total_revenue DESC"
   ]
  }
 ],
 "metadata": {
  "application/vnd.databricks.v1+notebook": {
   "computePreferences": null,
   "dashboards": [],
   "environmentMetadata": {
    "base_environment": "",
    "environment_version": "2"
   },
   "inputWidgetPreferences": null,
   "language": "sql",
   "notebookMetadata": {
    "pythonIndentUnit": 4
   },
   "notebookName": "02.budget_revenue_production_company",
   "widgets": {}
  },
  "language_info": {
   "name": "sql"
  }
 },
 "nbformat": 4,
 "nbformat_minor": 0
}
