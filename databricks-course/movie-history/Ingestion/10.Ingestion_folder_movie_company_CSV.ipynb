{
 "cells": [
  {
   "cell_type": "markdown",
   "metadata": {
    "application/vnd.databricks.v1+cell": {
     "cellMetadata": {
      "byteLimit": 2048000,
      "rowLimit": 10000
     },
     "inputWidgets": {},
     "nuid": "41307172-0e1a-47f5-a3d6-834373f826f9",
     "showTitle": false,
     "tableResultSettingsMap": {},
     "title": ""
    },
    "microsoft": {
     "language": "python",
     "language_group": "synapse_pyspark"
    },
    "nteract": {
     "transient": {
      "deleting": false
     }
    }
   },
   "source": [
    "#### **Ingesta de la carpeta \"movie_company\"**"
   ]
  },
  {
   "cell_type": "code",
   "execution_count": 0,
   "metadata": {
    "application/vnd.databricks.v1+cell": {
     "cellMetadata": {
      "byteLimit": 2048000,
      "rowLimit": 10000
     },
     "inputWidgets": {},
     "nuid": "20111533-b1fc-4a29-83b3-e5033ab4e181",
     "showTitle": false,
     "tableResultSettingsMap": {},
     "title": ""
    }
   },
   "outputs": [],
   "source": [
    "dbutils.widgets.text(\"environment\",\"\")\n",
    "var_environment = dbutils.widgets.get(\"environment\")"
   ]
  },
  {
   "cell_type": "code",
   "execution_count": 0,
   "metadata": {
    "application/vnd.databricks.v1+cell": {
     "cellMetadata": {
      "byteLimit": 2048000,
      "rowLimit": 10000
     },
     "inputWidgets": {},
     "nuid": "12080b5c-67f7-4107-a4ba-bef8708a9ca4",
     "showTitle": false,
     "tableResultSettingsMap": {},
     "title": ""
    }
   },
   "outputs": [],
   "source": [
    "dbutils.widgets.text(\"file_date\",\"2024-12-30\")\n",
    "var_file_date = dbutils.widgets.get(\"file_date\")"
   ]
  },
  {
   "cell_type": "code",
   "execution_count": 0,
   "metadata": {
    "application/vnd.databricks.v1+cell": {
     "cellMetadata": {
      "byteLimit": 2048000,
      "rowLimit": 10000
     },
     "inputWidgets": {},
     "nuid": "e054993d-c37f-4863-ae07-a4e4c3ce404a",
     "showTitle": false,
     "tableResultSettingsMap": {},
     "title": ""
    },
    "microsoft": {
     "language": "python",
     "language_group": "synapse_pyspark"
    }
   },
   "outputs": [],
   "source": [
    "%run \"../includes/configuration\""
   ]
  },
  {
   "cell_type": "code",
   "execution_count": 0,
   "metadata": {
    "application/vnd.databricks.v1+cell": {
     "cellMetadata": {
      "byteLimit": 2048000,
      "rowLimit": 10000
     },
     "inputWidgets": {},
     "nuid": "e0bbdbfa-79fb-49a3-bb05-390cc96aad2f",
     "showTitle": false,
     "tableResultSettingsMap": {},
     "title": ""
    },
    "microsoft": {
     "language": "python",
     "language_group": "synapse_pyspark"
    }
   },
   "outputs": [],
   "source": [
    "%run \"../includes/common_functions\""
   ]
  },
  {
   "cell_type": "markdown",
   "metadata": {
    "application/vnd.databricks.v1+cell": {
     "cellMetadata": {
      "byteLimit": 2048000,
      "rowLimit": 10000
     },
     "inputWidgets": {},
     "nuid": "81ed198b-9a85-44e8-8679-dacc9b8338ad",
     "showTitle": false,
     "tableResultSettingsMap": {},
     "title": ""
    },
    "microsoft": {
     "language": "python",
     "language_group": "synapse_pyspark"
    },
    "nteract": {
     "transient": {
      "deleting": false
     }
    }
   },
   "source": [
    "##### Librerías"
   ]
  },
  {
   "cell_type": "code",
   "execution_count": 0,
   "metadata": {
    "application/vnd.databricks.v1+cell": {
     "cellMetadata": {
      "byteLimit": 2048000,
      "rowLimit": 10000
     },
     "inputWidgets": {},
     "nuid": "483b0fa7-5dc7-4378-8fdc-e76a31244134",
     "showTitle": false,
     "tableResultSettingsMap": {},
     "title": ""
    },
    "microsoft": {
     "language": "python",
     "language_group": "synapse_pyspark"
    }
   },
   "outputs": [],
   "source": [
    "from pyspark.sql.functions import lit,current_timestamp\n",
    "from pyspark.sql.types import StructType,StructField,IntegerType,StringType"
   ]
  },
  {
   "cell_type": "markdown",
   "metadata": {
    "application/vnd.databricks.v1+cell": {
     "cellMetadata": {
      "byteLimit": 2048000,
      "rowLimit": 10000
     },
     "inputWidgets": {},
     "nuid": "621f477e-e3eb-4f2c-aca3-9a7c61eb1e93",
     "showTitle": false,
     "tableResultSettingsMap": {},
     "title": ""
    },
    "microsoft": {
     "language": "python",
     "language_group": "synapse_pyspark"
    },
    "nteract": {
     "transient": {
      "deleting": false
     }
    }
   },
   "source": [
    "##### Esquema"
   ]
  },
  {
   "cell_type": "code",
   "execution_count": 0,
   "metadata": {
    "application/vnd.databricks.v1+cell": {
     "cellMetadata": {
      "byteLimit": 2048000,
      "rowLimit": 10000
     },
     "inputWidgets": {},
     "nuid": "5146e56e-edc3-4931-9fb4-f3fc620e1990",
     "showTitle": false,
     "tableResultSettingsMap": {},
     "title": ""
    },
    "microsoft": {
     "language": "python",
     "language_group": "synapse_pyspark"
    }
   },
   "outputs": [],
   "source": [
    "movie_company_schema = StructType([\n",
    "    StructField(\"movie_id\",IntegerType(),False),\n",
    "    StructField(\"company_id\",StringType(),True)\n",
    "])"
   ]
  },
  {
   "cell_type": "markdown",
   "metadata": {
    "application/vnd.databricks.v1+cell": {
     "cellMetadata": {
      "byteLimit": 2048000,
      "rowLimit": 10000
     },
     "inputWidgets": {},
     "nuid": "8642d86a-6d56-4b94-8454-86260372ce42",
     "showTitle": false,
     "tableResultSettingsMap": {},
     "title": ""
    },
    "microsoft": {
     "language": "python",
     "language_group": "synapse_pyspark"
    },
    "nteract": {
     "transient": {
      "deleting": false
     }
    }
   },
   "source": [
    "##### Leer ficheros CSV"
   ]
  },
  {
   "cell_type": "code",
   "execution_count": 0,
   "metadata": {
    "application/vnd.databricks.v1+cell": {
     "cellMetadata": {
      "byteLimit": 2048000,
      "rowLimit": 10000
     },
     "inputWidgets": {},
     "nuid": "caa515d2-5360-43cd-9743-5d4715093d71",
     "showTitle": false,
     "tableResultSettingsMap": {},
     "title": ""
    },
    "collapsed": false,
    "microsoft": {
     "language": "python",
     "language_group": "synapse_pyspark"
    }
   },
   "outputs": [],
   "source": [
    "df_movie_company = spark.read.format(\"csv\").schema(movie_company_schema).load(f\"{bronze_folder_path}/{var_file_date}/movie_company\")"
   ]
  },
  {
   "cell_type": "markdown",
   "metadata": {
    "application/vnd.databricks.v1+cell": {
     "cellMetadata": {
      "byteLimit": 2048000,
      "rowLimit": 10000
     },
     "inputWidgets": {},
     "nuid": "970a3d9a-295e-4cdc-b1b5-d5239ab05e6f",
     "showTitle": false,
     "tableResultSettingsMap": {},
     "title": ""
    },
    "microsoft": {
     "language": "python",
     "language_group": "synapse_pyspark"
    },
    "nteract": {
     "transient": {
      "deleting": false
     }
    }
   },
   "source": [
    "##### Agregar columnas"
   ]
  },
  {
   "cell_type": "code",
   "execution_count": 0,
   "metadata": {
    "application/vnd.databricks.v1+cell": {
     "cellMetadata": {
      "byteLimit": 2048000,
      "rowLimit": 10000
     },
     "inputWidgets": {},
     "nuid": "6ae690a3-ef10-4f29-b0d9-9715f2b7d616",
     "showTitle": false,
     "tableResultSettingsMap": {},
     "title": ""
    },
    "microsoft": {
     "language": "python",
     "language_group": "synapse_pyspark"
    }
   },
   "outputs": [],
   "source": [
    "df_movie_company_final = add_ingestion_date(df_movie_company).withColumn(\"environment\",lit(var_environment)).withColumn(\"file_date\",lit(var_file_date))"
   ]
  },
  {
   "cell_type": "markdown",
   "metadata": {
    "application/vnd.databricks.v1+cell": {
     "cellMetadata": {
      "byteLimit": 2048000,
      "rowLimit": 10000
     },
     "inputWidgets": {},
     "nuid": "a278aac4-aac1-4de6-90b9-cdfc88b046a1",
     "showTitle": false,
     "tableResultSettingsMap": {},
     "title": ""
    },
    "microsoft": {
     "language": "python",
     "language_group": "synapse_pyspark"
    },
    "nteract": {
     "transient": {
      "deleting": false
     }
    }
   },
   "source": [
    "##### Escribir en Silver"
   ]
  },
  {
   "cell_type": "code",
   "execution_count": 0,
   "metadata": {
    "application/vnd.databricks.v1+cell": {
     "cellMetadata": {
      "byteLimit": 2048000,
      "rowLimit": 10000
     },
     "inputWidgets": {},
     "nuid": "f2814aeb-4fc9-4012-b3f3-5e3304ad9ef3",
     "showTitle": false,
     "tableResultSettingsMap": {},
     "title": ""
    }
   },
   "outputs": [],
   "source": [
    "merge_condition = \"target.movie_id = source.movie_id AND target.company_id = source.company_id AND target.file_date = source.file_date\"\n",
    "merge_delta_lake(df_movie_company_final,\"movie_silver\",\"movies_companies\",silver_folder_path,merge_condition,\"file_date\")"
   ]
  },
  {
   "cell_type": "code",
   "execution_count": 0,
   "metadata": {
    "application/vnd.databricks.v1+cell": {
     "cellMetadata": {
      "byteLimit": 2048000,
      "implicitDf": true,
      "rowLimit": 10000
     },
     "inputWidgets": {},
     "nuid": "7069fe33-4041-4ea6-857c-676d6419dabd",
     "showTitle": false,
     "tableResultSettingsMap": {},
     "title": ""
    }
   },
   "outputs": [],
   "source": [
    "%sql\n",
    "SELECT COUNT(1), file_date\n",
    "FROM movie_silver.movies_companies\n",
    "GROUP BY file_date"
   ]
  },
  {
   "cell_type": "code",
   "execution_count": 0,
   "metadata": {
    "application/vnd.databricks.v1+cell": {
     "cellMetadata": {
      "byteLimit": 2048000,
      "rowLimit": 10000
     },
     "inputWidgets": {},
     "nuid": "7e339ab5-e33c-48a4-a6eb-698e88dad1fe",
     "showTitle": false,
     "tableResultSettingsMap": {},
     "title": ""
    }
   },
   "outputs": [],
   "source": [
    "dbutils.notebook.exit(\"Success\")"
   ]
  }
 ],
 "metadata": {
  "application/vnd.databricks.v1+notebook": {
   "computePreferences": null,
   "dashboards": [],
   "environmentMetadata": null,
   "inputWidgetPreferences": null,
   "language": "python",
   "notebookMetadata": {
    "mostRecentlyExecutedCommandWithImplicitDF": {
     "commandId": 7618061479981146,
     "dataframes": [
      "_sqldf"
     ]
    },
    "pythonIndentUnit": 4
   },
   "notebookName": "10.Ingestion_folder_movie_company_CSV",
   "widgets": {
    "environment": {
     "currentValue": "production",
     "nuid": "13b4597b-dc73-4e7a-bc7a-56cd729108ee",
     "typedWidgetInfo": {
      "autoCreated": false,
      "defaultValue": "",
      "label": null,
      "name": "environment",
      "options": {
       "widgetDisplayType": "Text",
       "validationRegex": null
      },
      "parameterDataType": "String"
     },
     "widgetInfo": {
      "widgetType": "text",
      "defaultValue": "",
      "label": null,
      "name": "environment",
      "options": {
       "widgetType": "text",
       "autoCreated": null,
       "validationRegex": null
      }
     }
    },
    "file_date": {
     "currentValue": "2024-12-30",
     "nuid": "77ad0591-dbef-4b71-b53b-9785b44f0487",
     "typedWidgetInfo": {
      "autoCreated": false,
      "defaultValue": "2024-12-30",
      "label": null,
      "name": "file_date",
      "options": {
       "widgetDisplayType": "Text",
       "validationRegex": null
      },
      "parameterDataType": "String"
     },
     "widgetInfo": {
      "widgetType": "text",
      "defaultValue": "2024-12-30",
      "label": null,
      "name": "file_date",
      "options": {
       "widgetType": "text",
       "autoCreated": null,
       "validationRegex": null
      }
     }
    }
   }
  },
  "dependencies": {
   "lakehouse": {
    "default_lakehouse": "e0a555a2-5ce0-4b01-8214-823621d9d6c6",
    "default_lakehouse_name": "DB_Lakehouse",
    "default_lakehouse_workspace_id": "919018e5-22ad-4706-a9ba-1678e37706b8",
    "known_lakehouses": [
     {
      "id": "e0a555a2-5ce0-4b01-8214-823621d9d6c6"
     }
    ]
   }
  },
  "kernel_info": {
   "name": "synapse_pyspark"
  },
  "kernelspec": {
   "display_name": "Synapse PySpark",
   "language": "Python",
   "name": "synapse_pyspark"
  },
  "language_info": {
   "name": "python"
  },
  "microsoft": {
   "language": "python",
   "language_group": "synapse_pyspark",
   "ms_spell_check": {
    "ms_spell_check_language": "es"
   }
  },
  "nteract": {
   "version": "nteract-front-end@1.0.0"
  },
  "spark_compute": {
   "compute_id": "/trident/default",
   "session_options": {
    "conf": {
     "spark.synapse.nbs.session.timeout": "1200000"
    }
   }
  },
  "synapse_widget": {
   "state": {
    "b0d6887c-0c0f-479a-a9cf-1e7d37306f4e": {
     "persist_state": {
      "view": {
       "chartOptions": {
        "aggregationType": "sum",
        "binsNumber": 10,
        "categoryFieldKeys": [
         "1"
        ],
        "chartType": "bar",
        "evaluatesOverAllRecords": false,
        "isStacked": false,
        "seriesFieldKeys": [
         "0"
        ],
        "wordFrequency": "-1"
       },
       "tableOptions": {},
       "type": "details",
       "viewOptionsGroup": [
        {
         "tabItems": [
          {
           "key": "0",
           "name": "Table",
           "options": {},
           "type": "table"
          }
         ]
        }
       ]
      }
     },
     "sync_state": {
      "isSummary": false,
      "language": "scala",
      "table": {
       "rows": [
        {
         "0": "51942",
         "1": "41680"
        },
        {
         "0": "51995",
         "1": "6667"
        },
        {
         "0": "52010",
         "1": "79522"
        },
        {
         "0": "52010",
         "1": "79523"
        },
        {
         "0": "52010",
         "1": "9096"
        },
        {
         "0": "52015",
         "1": "1360"
        },
        {
         "0": "52015",
         "1": "2341"
        },
        {
         "0": "52015",
         "1": "3768"
        },
        {
         "0": "52032",
         "1": "8828"
        },
        {
         "0": "52067",
         "1": "2361"
        },
        {
         "0": "52449",
         "1": "5"
        },
        {
         "0": "52449",
         "1": "748"
        },
        {
         "0": "52451",
         "1": "248"
        },
        {
         "0": "52451",
         "1": "264"
        },
        {
         "0": "52451",
         "1": "5755"
        },
        {
         "0": "52451",
         "1": "753"
        },
        {
         "0": "52451",
         "1": "939"
        },
        {
         "0": "52520",
         "1": "126"
        },
        {
         "0": "52520",
         "1": "3287"
        },
        {
         "0": "52520",
         "1": "7738"
        },
        {
         "0": "52520",
         "1": "7740"
        },
        {
         "0": "52520",
         "1": "831"
        },
        {
         "0": "53113",
         "1": "33"
        },
        {
         "0": "53182",
         "1": "2994"
        },
        {
         "0": "53182",
         "1": "2995"
        },
        {
         "0": "53182",
         "1": "6194"
        },
        {
         "0": "53182",
         "1": "7636"
        },
        {
         "0": "53182",
         "1": "78685"
        },
        {
         "0": "53182",
         "1": "923"
        },
        {
         "0": "53256",
         "1": "10947"
        },
        {
         "0": "53256",
         "1": "1972"
        },
        {
         "0": "53256",
         "1": "5766"
        },
        {
         "0": "53256",
         "1": "7025"
        },
        {
         "0": "53457",
         "1": "11246"
        },
        {
         "0": "53457",
         "1": "13855"
        },
        {
         "0": "53457",
         "1": "19959"
        },
        {
         "0": "53457",
         "1": "2577"
        },
        {
         "0": "53457",
         "1": "5358"
        },
        {
         "0": "53457",
         "1": "6586"
        },
        {
         "0": "53457",
         "1": "7454"
        },
        {
         "0": "53457",
         "1": "83"
        },
        {
         "0": "53457",
         "1": "8350"
        },
        {
         "0": "53862",
         "1": "919"
        },
        {
         "0": "54054",
         "1": "126"
        },
        {
         "0": "54054",
         "1": "737"
        },
        {
         "0": "54138",
         "1": "11461"
        },
        {
         "0": "54138",
         "1": "12536"
        },
        {
         "0": "54138",
         "1": "4"
        },
        {
         "0": "54138",
         "1": "6277"
        },
        {
         "0": "54518",
         "1": "7377"
        },
        {
         "0": "54518",
         "1": "7378"
        },
        {
         "0": "54518",
         "1": "7379"
        },
        {
         "0": "54580",
         "1": "10050"
        },
        {
         "0": "54580",
         "1": "11737"
        },
        {
         "0": "54580",
         "1": "11955"
        },
        {
         "0": "54580",
         "1": "12009"
        },
        {
         "0": "54580",
         "1": "12010"
        },
        {
         "0": "54580",
         "1": "12011"
        },
        {
         "0": "54580",
         "1": "12012"
        },
        {
         "0": "54580",
         "1": "357"
        },
        {
         "0": "54580",
         "1": "6279"
        },
        {
         "0": "54580",
         "1": "850"
        },
        {
         "0": "54580",
         "1": "9974"
        },
        {
         "0": "54897",
         "1": "33632"
        },
        {
         "0": "55123",
         "1": "8"
        },
        {
         "0": "55180",
         "1": "17181"
        },
        {
         "0": "55301",
         "1": "711"
        },
        {
         "0": "55306",
         "1": "1274"
        },
        {
         "0": "55306",
         "1": "75348"
        },
        {
         "0": "55347",
         "1": "10146"
        },
        {
         "0": "55347",
         "1": "6531"
        },
        {
         "0": "55347",
         "1": "7400"
        },
        {
         "0": "55420",
         "1": "8145"
        },
        {
         "0": "55465",
         "1": "12"
        },
        {
         "0": "55465",
         "1": "771"
        },
        {
         "0": "55604",
         "1": "8411"
        },
        {
         "0": "55616",
         "1": "12113"
        },
        {
         "0": "55616",
         "1": "94410"
        },
        {
         "0": "55616",
         "1": "94411"
        },
        {
         "0": "55720",
         "1": "1089"
        },
        {
         "0": "55720",
         "1": "1473"
        },
        {
         "0": "55720",
         "1": "28707"
        },
        {
         "0": "55720",
         "1": "28708"
        },
        {
         "0": "55720",
         "1": "491"
        },
        {
         "0": "55721",
         "1": "10105"
        },
        {
         "0": "55721",
         "1": "33"
        },
        {
         "0": "55721",
         "1": "7295"
        },
        {
         "0": "55779",
         "1": "12"
        },
        {
         "0": "55779",
         "1": "48788"
        },
        {
         "0": "55779",
         "1": "48792"
        },
        {
         "0": "55787",
         "1": "10893"
        },
        {
         "0": "55787",
         "1": "290"
        },
        {
         "0": "55787",
         "1": "444"
        },
        {
         "0": "55787",
         "1": "711"
        },
        {
         "0": "55787",
         "1": "7717"
        },
        {
         "0": "56288",
         "1": "7405"
        },
        {
         "0": "56292",
         "1": "11461"
        },
        {
         "0": "56292",
         "1": "21777"
        },
        {
         "0": "56292",
         "1": "4"
        },
        {
         "0": "56292",
         "1": "6277"
        },
        {
         "0": "56292",
         "1": "76043"
        },
        {
         "0": "56292",
         "1": "76067"
        },
        {
         "0": "56601",
         "1": "19901"
        },
        {
         "0": "56601",
         "1": "19902"
        },
        {
         "0": "56601",
         "1": "19903"
        },
        {
         "0": "56601",
         "1": "19904"
        },
        {
         "0": "56601",
         "1": "19905"
        },
        {
         "0": "56715",
         "1": "5330"
        },
        {
         "0": "56715",
         "1": "9"
        },
        {
         "0": "56715",
         "1": "915"
        },
        {
         "0": "56930",
         "1": "6"
        },
        {
         "0": "57089",
         "1": "7582"
        },
        {
         "0": "57119",
         "1": "11341"
        },
        {
         "0": "57119",
         "1": "14577"
        },
        {
         "0": "57119",
         "1": "559"
        },
        {
         "0": "57119",
         "1": "71959"
        },
        {
         "0": "57119",
         "1": "71960"
        },
        {
         "0": "57120",
         "1": "1976"
        },
        {
         "0": "57120",
         "1": "4620"
        },
        {
         "0": "57120",
         "1": "4748"
        },
        {
         "0": "57157",
         "1": "3574"
        },
        {
         "0": "57157",
         "1": "4"
        },
        {
         "0": "57157",
         "1": "9350"
        },
        {
         "0": "57158",
         "1": "11"
        },
        {
         "0": "57158",
         "1": "12"
        },
        {
         "0": "57158",
         "1": "174"
        },
        {
         "0": "57158",
         "1": "8411"
        },
        {
         "0": "57165",
         "1": "24175"
        },
        {
         "0": "57165",
         "1": "24176"
        },
        {
         "0": "57165",
         "1": "3528"
        },
        {
         "0": "57165",
         "1": "6194"
        },
        {
         "0": "57165",
         "1": "923"
        },
        {
         "0": "57201",
         "1": "130"
        },
        {
         "0": "57201",
         "1": "2"
        },
        {
         "0": "57201",
         "1": "2691"
        },
        {
         "0": "57201",
         "1": "37380"
        },
        {
         "0": "57201",
         "1": "37381"
        },
        {
         "0": "57201",
         "1": "37382"
        },
        {
         "0": "57212",
         "1": "27"
        },
        {
         "0": "57212",
         "1": "56"
        },
        {
         "0": "57212",
         "1": "7294"
        },
        {
         "0": "57212",
         "1": "7383"
        },
        {
         "0": "57214",
         "1": "1885"
        },
        {
         "0": "57214",
         "1": "3527"
        },
        {
         "0": "57294",
         "1": "10443"
        },
        {
         "0": "57294",
         "1": "1917"
        },
        {
         "0": "57294",
         "1": "25795"
        },
        {
         "0": "57294",
         "1": "3712"
        },
        {
         "0": "57294",
         "1": "698"
        },
        {
         "0": "57431",
         "1": "11370"
        },
        {
         "0": "57431",
         "1": "20848"
        },
        {
         "0": "57431",
         "1": "306"
        },
        {
         "0": "57612",
         "1": "5313"
        },
        {
         "0": "57612",
         "1": "5314"
        },
        {
         "0": "57800",
         "1": "11749"
        },
        {
         "0": "57800",
         "1": "9383"
        },
        {
         "0": "57876",
         "1": "7377"
        },
        {
         "0": "58048",
         "1": "20076"
        },
        {
         "0": "58048",
         "1": "94714"
        },
        {
         "0": "58151",
         "1": "9195"
        },
        {
         "0": "58224",
         "1": "1302"
        },
        {
         "0": "58224",
         "1": "306"
        },
        {
         "0": "58224",
         "1": "444"
        },
        {
         "0": "58224",
         "1": "6332"
        },
        {
         "0": "58233",
         "1": "33"
        },
        {
         "0": "58428",
         "1": "1360"
        },
        {
         "0": "58428",
         "1": "4592"
        },
        {
         "0": "58431",
         "1": "10246"
        },
        {
         "0": "58431",
         "1": "12622"
        },
        {
         "0": "58431",
         "1": "13395"
        },
        {
         "0": "58431",
         "1": "1632"
        },
        {
         "0": "58431",
         "1": "72725"
        },
        {
         "0": "58431",
         "1": "8873"
        },
        {
         "0": "58492",
         "1": "15159"
        },
        {
         "0": "58574",
         "1": "1885"
        },
        {
         "0": "58574",
         "1": "23202"
        },
        {
         "0": "58574",
         "1": "2723"
        },
        {
         "0": "58574",
         "1": "6194"
        },
        {
         "0": "58574",
         "1": "79"
        },
        {
         "0": "58595",
         "1": "16314"
        },
        {
         "0": "58595",
         "1": "33"
        },
        {
         "0": "58626",
         "1": "1804"
        },
        {
         "0": "58680",
         "1": "12"
        },
        {
         "0": "58680",
         "1": "1947"
        },
        {
         "0": "58680",
         "1": "39288"
        },
        {
         "0": "58882",
         "1": "37041"
        },
        {
         "0": "59108",
         "1": "12007"
        },
        {
         "0": "59108",
         "1": "3086"
        },
        {
         "0": "59108",
         "1": "33"
        },
        {
         "0": "59108",
         "1": "7295"
        },
        {
         "0": "59436",
         "1": "12010"
        },
        {
         "0": "59436",
         "1": "1824"
        },
        {
         "0": "59436",
         "1": "24785"
        },
        {
         "0": "59436",
         "1": "8530"
        },
        {
         "0": "59436",
         "1": "8531"
        },
        {
         "0": "59440",
         "1": "1001"
        },
        {
         "0": "59440",
         "1": "12425"
        },
        {
         "0": "59440",
         "1": "1632"
        },
        {
         "0": "59440",
         "1": "6573"
        },
        {
         "0": "59457",
         "1": "703"
        },
        {
         "0": "59678",
         "1": "2452"
        },
        {
         "0": "59678",
         "1": "5870"
        },
        {
         "0": "59678",
         "1": "9349"
        },
        {
         "0": "59728",
         "1": "79538"
        },
        {
         "0": "59728",
         "1": "79539"
        },
        {
         "0": "59859",
         "1": "33"
        },
        {
         "0": "59859",
         "1": "5374"
        },
        {
         "0": "59860",
         "1": "32537"
        },
        {
         "0": "59860",
         "1": "444"
        },
        {
         "0": "59860",
         "1": "508"
        },
        {
         "0": "59860",
         "1": "6332"
        },
        {
         "0": "59860",
         "1": "711"
        },
        {
         "0": "59860",
         "1": "813"
        },
        {
         "0": "59861",
         "1": "33"
        },
        {
         "0": "59861",
         "1": "4170"
        },
        {
         "0": "59861",
         "1": "7460"
        },
        {
         "0": "59930",
         "1": "9195"
        },
        {
         "0": "59961",
         "1": "13778"
        },
        {
         "0": "59961",
         "1": "33"
        },
        {
         "0": "59961",
         "1": "6452"
        },
        {
         "0": "59961",
         "1": "7295"
        },
        {
         "0": "59962",
         "1": "3929"
        },
        {
         "0": "59962",
         "1": "444"
        },
        {
         "0": "59962",
         "1": "907"
        },
        {
         "0": "59965",
         "1": "24557"
        },
        {
         "0": "59965",
         "1": "24558"
        },
        {
         "0": "59965",
         "1": "24561"
        },
        {
         "0": "59965",
         "1": "35"
        },
        {
         "0": "59965",
         "1": "3672"
        },
        {
         "0": "59965",
         "1": "829"
        },
        {
         "0": "59967",
         "1": "10289"
        },
        {
         "0": "59967",
         "1": "11092"
        },
        {
         "0": "59967",
         "1": "1205"
        },
        {
         "0": "59967",
         "1": "7263"
        },
        {
         "0": "59968",
         "1": "12808"
        },
        {
         "0": "59968",
         "1": "1785"
        },
        {
         "0": "59968",
         "1": "19749"
        },
        {
         "0": "59968",
         "1": "308"
        },
        {
         "0": "59981",
         "1": "22135"
        },
        {
         "0": "59981",
         "1": "48471"
        },
        {
         "0": "60243",
         "1": "84797"
        },
        {
         "0": "60243",
         "1": "84798"
        },
        {
         "0": "60243",
         "1": "84799"
        },
        {
         "0": "60304",
         "1": "11238"
        },
        {
         "0": "60304",
         "1": "264"
        },
        {
         "0": "60304",
         "1": "4"
        },
        {
         "0": "60304",
         "1": "4740"
        },
        {
         "0": "60304",
         "1": "746"
        },
        {
         "0": "60304",
         "1": "8411"
        },
        {
         "0": "60307",
         "1": "5420"
        },
        {
         "0": "60307",
         "1": "711"
        },
        {
         "0": "60308",
         "1": "258"
        },
        {
         "0": "60308",
         "1": "5"
        },
        {
         "0": "60309",
         "1": "316"
        },
        {
         "0": "60309",
         "1": "7486"
        },
        {
         "0": "60400",
         "1": "306"
        },
        {
         "0": "60420",
         "1": "13369"
        },
        {
         "0": "60420",
         "1": "21892"
        },
        {
         "0": "60420",
         "1": "2313"
        },
        {
         "0": "60420",
         "1": "838"
        },
        {
         "0": "60420",
         "1": "9350"
        },
        {
         "0": "60421",
         "1": "16144"
        },
        {
         "0": "60421",
         "1": "33553"
        },
        {
         "0": "60421",
         "1": "58849"
        },
        {
         "0": "60422",
         "1": "8872"
        },
        {
         "0": "60463",
         "1": "1311"
        },
        {
         "0": "60463",
         "1": "6306"
        },
        {
         "0": "60599",
         "1": "11093"
        },
        {
         "0": "60599",
         "1": "12501"
        },
        {
         "0": "60599",
         "1": "14580"
        },
        {
         "0": "60599",
         "1": "1632"
        },
        {
         "0": "60599",
         "1": "2394"
        },
        {
         "0": "60599",
         "1": "24930"
        },
        {
         "0": "60599",
         "1": "24933"
        },
        {
         "0": "60599",
         "1": "24934"
        },
        {
         "0": "61012",
         "1": "342"
        },
        {
         "0": "61012",
         "1": "343"
        },
        {
         "0": "61038",
         "1": "8573"
        },
        {
         "0": "61337",
         "1": "12451"
        },
        {
         "0": "61337",
         "1": "285"
        },
        {
         "0": "61337",
         "1": "44419"
        },
        {
         "0": "61752",
         "1": "43"
        },
        {
         "0": "61752",
         "1": "4319"
        },
        {
         "0": "61791",
         "1": "10893"
        },
        {
         "0": "61791",
         "1": "289"
        },
        {
         "0": "61791",
         "1": "290"
        },
        {
         "0": "61791",
         "1": "306"
        },
        {
         "0": "61791",
         "1": "444"
        },
        {
         "0": "61791",
         "1": "6332"
        },
        {
         "0": "61791",
         "1": "7076"
        },
        {
         "0": "61891",
         "1": "347"
        },
        {
         "0": "61891",
         "1": "5"
        },
        {
         "0": "61984",
         "1": "11846"
        },
        {
         "0": "61984",
         "1": "12383"
        },
        {
         "0": "61984",
         "1": "12384"
        },
        {
         "0": "61984",
         "1": "12385"
        },
        {
         "0": "61984",
         "1": "12386"
        },
        {
         "0": "61984",
         "1": "12387"
        },
        {
         "0": "61984",
         "1": "1393"
        },
        {
         "0": "61984",
         "1": "3363"
        },
        {
         "0": "61984",
         "1": "4649"
        },
        {
         "0": "61984",
         "1": "6516"
        },
        {
         "0": "61984",
         "1": "7093"
        },
        {
         "0": "61984",
         "1": "7912"
        },
        {
         "0": "61984",
         "1": "9149"
        },
        {
         "0": "62116",
         "1": "13907"
        },
        {
         "0": "62177",
         "1": "2"
        },
        {
         "0": "62177",
         "1": "3"
        },
        {
         "0": "62204",
         "1": "2359"
        },
        {
         "0": "62204",
         "1": "999"
        },
        {
         "0": "62206",
         "1": "5"
        },
        {
         "0": "62211",
         "1": "2"
        },
        {
         "0": "62211",
         "1": "3"
        },
        {
         "0": "62213",
         "1": "20004"
        },
        {
         "0": "62213",
         "1": "2691"
        },
        {
         "0": "62213",
         "1": "3281"
        },
        {
         "0": "62213",
         "1": "6194"
        },
        {
         "0": "62213",
         "1": "79"
        },
        {
         "0": "62213",
         "1": "8601"
        },
        {
         "0": "62213",
         "1": "9228"
        },
        {
         "0": "62214",
         "1": "8601"
        },
        {
         "0": "62215",
         "1": "11239"
        },
        {
         "0": "62215",
         "1": "118"
        },
        {
         "0": "62215",
         "1": "119"
        },
        {
         "0": "62215",
         "1": "14804"
        },
        {
         "0": "62215",
         "1": "17298"
        },
        {
         "0": "62215",
         "1": "17513"
        },
        {
         "0": "62215",
         "1": "27897"
        },
        {
         "0": "62215",
         "1": "321"
        },
        {
         "0": "62215",
         "1": "3221"
        },
        {
         "0": "62215",
         "1": "38069"
        },
        {
         "0": "62215",
         "1": "38071"
        },
        {
         "0": "62215",
         "1": "38072"
        },
        {
         "0": "62215",
         "1": "5358"
        },
        {
         "0": "62215",
         "1": "6301"
        },
        {
         "0": "62215",
         "1": "76"
        },
        {
         "0": "62215",
         "1": "7777"
        },
        {
         "0": "62215",
         "1": "8288"
        },
        {
         "0": "62215",
         "1": "8289"
        },
        {
         "0": "62215",
         "1": "850"
        },
        {
         "0": "62255",
         "1": "18083"
        },
        {
         "0": "62255",
         "1": "668"
        },
        {
         "0": "62255",
         "1": "7316"
        },
        {
         "0": "62630",
         "1": "7178"
        },
        {
         "0": "62630",
         "1": "7299"
        },
        {
         "0": "62630",
         "1": "7300"
        },
        {
         "0": "62677",
         "1": "64673"
        },
        {
         "0": "62677",
         "1": "64674"
        },
        {
         "0": "62728",
         "1": "2452"
        },
        {
         "0": "62728",
         "1": "288"
        },
        {
         "0": "62728",
         "1": "694"
        },
        {
         "0": "62764",
         "1": "11581"
        },
        {
         "0": "62764",
         "1": "12005"
        },
        {
         "0": "62764",
         "1": "12006"
        },
        {
         "0": "62764",
         "1": "12007"
        },
        {
         "0": "62764",
         "1": "12008"
        },
        {
         "0": "62764",
         "1": "7295"
        },
        {
         "0": "62835",
         "1": "11473"
        },
        {
         "0": "62835",
         "1": "3823"
        },
        {
         "0": "62835",
         "1": "5358"
        },
        {
         "0": "62835",
         "1": "6301"
        },
        {
         "0": "62835",
         "1": "6877"
        },
        {
         "0": "62835",
         "1": "6896"
        },
        {
         "0": "62837",
         "1": "10280"
        },
        {
         "0": "62837",
         "1": "1088"
        },
        {
         "0": "62838",
         "1": "12"
        },
        {
         "0": "63020",
         "1": "28205"
        },
        {
         "0": "63287",
         "1": "73334"
        },
        {
         "0": "63492",
         "1": "10104"
        },
        {
         "0": "63492",
         "1": "1836"
        },
        {
         "0": "63492",
         "1": "508"
        },
        {
         "0": "63574",
         "1": "1088"
        },
        {
         "0": "63574",
         "1": "3396"
        },
        {
         "0": "63574",
         "1": "78958"
        },
        {
         "0": "63574",
         "1": "78959"
        },
        {
         "0": "64328",
         "1": "2"
        },
        {
         "0": "64559",
         "1": "1666"
        },
        {
         "0": "64559",
         "1": "3823"
        },
        {
         "0": "64559",
         "1": "5358"
        },
        {
         "0": "64559",
         "1": "8453"
        },
        {
         "0": "64559",
         "1": "9209"
        },
        {
         "0": "64639",
         "1": "2108"
        },
        {
         "0": "64678",
         "1": "500"
        },
        {
         "0": "64678",
         "1": "5387"
        },
        {
         "0": "64678",
         "1": "7499"
        },
        {
         "0": "64682",
         "1": "11858"
        },
        {
         "0": "64682",
         "1": "14440"
        },
        {
         "0": "64682",
         "1": "14604"
        },
        {
         "0": "64682",
         "1": "240"
        },
        {
         "0": "64682",
         "1": "6194"
        },
        {
         "0": "64682",
         "1": "79"
        },
        {
         "0": "64685",
         "1": "258"
        },
        {
         "0": "64685",
         "1": "4"
        },
        {
         "0": "64685",
         "1": "6194"
        },
        {
         "0": "64686",
         "1": "20478"
        },
        {
         "0": "64686",
         "1": "20851"
        },
        {
         "0": "64686",
         "1": "2735"
        },
        {
         "0": "64686",
         "1": "4403"
        },
        {
         "0": "64686",
         "1": "6292"
        },
        {
         "0": "64688",
         "1": "333"
        },
        {
         "0": "64688",
         "1": "5"
        },
        {
         "0": "64688",
         "1": "5585"
        },
        {
         "0": "64688",
         "1": "7295"
        },
        {
         "0": "64688",
         "1": "8411"
        },
        {
         "0": "64689",
         "1": "13184"
        },
        {
         "0": "64689",
         "1": "13648"
        },
        {
         "0": "64689",
         "1": "13649"
        },
        {
         "0": "64689",
         "1": "81"
        },
        {
         "0": "64689",
         "1": "8532"
        },
        {
         "0": "64690",
         "1": "11337"
        },
        {
         "0": "64690",
         "1": "2266"
        },
        {
         "0": "64690",
         "1": "2527"
        },
        {
         "0": "64690",
         "1": "3263"
        },
        {
         "0": "64690",
         "1": "46625"
        },
        {
         "0": "64690",
         "1": "7263"
        },
        {
         "0": "64720",
         "1": "10936"
        },
        {
         "0": "64720",
         "1": "21925"
        },
        {
         "0": "64720",
         "1": "21926"
        },
        {
         "0": "64720",
         "1": "21927"
        },
        {
         "0": "64807",
         "1": "6194"
        },
        {
         "0": "64807",
         "1": "975"
        },
        {
         "0": "65055",
         "1": "7215"
        },
        {
         "0": "65057",
         "1": "2361"
        },
        {
         "0": "65057",
         "1": "43"
        },
        {
         "0": "65057",
         "1": "444"
        },
        {
         "0": "65086",
         "1": "10246"
        },
        {
         "0": "65086",
         "1": "11448"
        },
        {
         "0": "65086",
         "1": "1314"
        },
        {
         "0": "65086",
         "1": "18230"
        },
        {
         "0": "65086",
         "1": "2452"
        },
        {
         "0": "65086",
         "1": "2514"
        },
        {
         "0": "65086",
         "1": "6417"
        },
        {
         "0": "65086",
         "1": "8989"
        },
        {
         "0": "65203",
         "1": "8411"
        },
        {
         "0": "65749",
         "1": "40451"
        },
        {
         "0": "65754",
         "1": "258"
        },
        {
         "0": "65754",
         "1": "33817"
        },
        {
         "0": "65754",
         "1": "47479"
        },
        {
         "0": "65754",
         "1": "5"
        },
        {
         "0": "65754",
         "1": "8083"
        },
        {
         "0": "65754",
         "1": "8411"
        },
        {
         "0": "65759",
         "1": "28381"
        },
        {
         "0": "65759",
         "1": "28382"
        },
        {
         "0": "65759",
         "1": "6194"
        },
        {
         "0": "65759",
         "1": "79"
        },
        {
         "0": "66125",
         "1": "46381"
        },
        {
         "0": "66125",
         "1": "53042"
        },
        {
         "0": "66125",
         "1": "56787"
        },
        {
         "0": "66125",
         "1": "7584"
        },
        {
         "0": "66125",
         "1": "7887"
        },
        {
         "0": "66125",
         "1": "7888"
        },
        {
         "0": "66195",
         "1": "8146"
        },
        {
         "0": "66767",
         "1": "11576"
        },
        {
         "0": "66767",
         "1": "53477"
        },
        {
         "0": "66767",
         "1": "64829"
        },
        {
         "0": "66767",
         "1": "807"
        },
        {
         "0": "66942",
         "1": "7584"
        },
        {
         "0": "67660",
         "1": "1309"
        },
        {
         "0": "67675",
         "1": "19328"
        },
        {
         "0": "67675",
         "1": "24245"
        },
        {
         "0": "67675",
         "1": "306"
        },
        {
         "0": "67911",
         "1": "2608"
        },
        {
         "0": "67911",
         "1": "5"
        },
        {
         "0": "67913",
         "1": "2452"
        },
        {
         "0": "67913",
         "1": "3314"
        },
        {
         "0": "67913",
         "1": "3353"
        },
        {
         "0": "67913",
         "1": "5267"
        },
        {
         "0": "67913",
         "1": "6901"
        },
        {
         "0": "67913",
         "1": "7308"
        },
        {
         "0": "67913",
         "1": "7309"
        },
        {
         "0": "68179",
         "1": "2213"
        },
        {
         "0": "68179",
         "1": "5024"
        },
        {
         "0": "68179",
         "1": "7289"
        },
        {
         "0": "68412",
         "1": "64857"
        },
        {
         "0": "68684",
         "1": "21125"
        },
        {
         "0": "68718",
         "1": "308"
        },
        {
         "0": "68718",
         "1": "5"
        },
        {
         "0": "68721",
         "1": "420"
        },
        {
         "0": "68722",
         "1": "13184"
        },
        {
         "0": "68722",
         "1": "178"
        },
        {
         "0": "68722",
         "1": "308"
        },
        {
         "0": "68724",
         "1": "11029"
        },
        {
         "0": "68724",
         "1": "18209"
        },
        {
         "0": "68724",
         "1": "2531"
        },
        {
         "0": "68724",
         "1": "28788"
        },
        {
         "0": "68724",
         "1": "31076"
        },
        {
         "0": "68724",
         "1": "559"
        },
        {
         "0": "68724",
         "1": "7431"
        },
        {
         "0": "68726",
         "1": "19750"
        },
        {
         "0": "68726",
         "1": "19751"
        },
        {
         "0": "68726",
         "1": "6194"
        },
        {
         "0": "68726",
         "1": "923"
        },
        {
         "0": "68727",
         "1": "6708"
        },
        {
         "0": "68727",
         "1": "7981"
        },
        {
         "0": "68727",
         "1": "8286"
        },
        {
         "0": "68727",
         "1": "9349"
        },
        {
         "0": "68728",
         "1": "16314"
        },
        {
         "0": "68728",
         "1": "2"
        },
        {
         "0": "68734",
         "1": "22695"
        },
        {
         "0": "68734",
         "1": "3281"
        },
        {
         "0": "68734",
         "1": "6194"
        },
        {
         "0": "68735",
         "1": "16028"
        },
        {
         "0": "68735",
         "1": "33"
        },
        {
         "0": "68735",
         "1": "507"
        },
        {
         "0": "68735",
         "1": "923"
        },
        {
         "0": "68737",
         "1": "13444"
        },
        {
         "0": "68737",
         "1": "20478"
        },
        {
         "0": "68737",
         "1": "3528"
        },
        {
         "0": "68737",
         "1": "40112"
        },
        {
         "0": "68737",
         "1": "40890"
        },
        {
         "0": "68737",
         "1": "923"
        },
        {
         "0": "68812",
         "1": "10254"
        },
        {
         "0": "68812",
         "1": "1872"
        },
        {
         "0": "68818",
         "1": "11427"
        },
        {
         "0": "68818",
         "1": "40789"
        },
        {
         "0": "68818",
         "1": "4186"
        },
        {
         "0": "68818",
         "1": "53194"
        },
        {
         "0": "68818",
         "1": "53195"
        },
        {
         "0": "68818",
         "1": "53196"
        },
        {
         "0": "68818",
         "1": "53197"
        },
        {
         "0": "68818",
         "1": "53198"
        },
        {
         "0": "68818",
         "1": "53199"
        },
        {
         "0": "68818",
         "1": "53200"
        },
        {
         "0": "68818",
         "1": "6639"
        },
        {
         "0": "68818",
         "1": "7543"
        },
        {
         "0": "68818",
         "1": "7792"
        },
        {
         "0": "68818",
         "1": "9335"
        },
        {
         "0": "68818",
         "1": "9974"
        },
        {
         "0": "68924",
         "1": "10565"
        },
        {
         "0": "68924",
         "1": "43"
        },
        {
         "0": "68924",
         "1": "53473"
        },
        {
         "0": "69270",
         "1": "21600"
        },
        {
         "0": "69270",
         "1": "21601"
        },
        {
         "0": "69270",
         "1": "5663"
        },
        {
         "0": "69668",
         "1": "10210"
        },
        {
         "0": "69668",
         "1": "8430"
        },
        {
         "0": "69848",
         "1": "11601"
        },
        {
         "0": "69848",
         "1": "3631"
        },
        {
         "0": "69848",
         "1": "55465"
        },
        {
         "0": "69848",
         "1": "55776"
        },
        {
         "0": "69848",
         "1": "55777"
        },
        {
         "0": "69848",
         "1": "55778"
        },
        {
         "0": "70074",
         "1": "12075"
        },
        {
         "0": "70074",
         "1": "14654"
        },
        {
         "0": "70074",
         "1": "1786"
        },
        {
         "0": "70074",
         "1": "20356"
        },
        {
         "0": "70074",
         "1": "25876"
        },
        {
         "0": "70074",
         "1": "3608"
        },
        {
         "0": "70074",
         "1": "7437"
        },
        {
         "0": "70074",
         "1": "7625"
        },
        {
         "0": "70160",
         "1": "1632"
        },
        {
         "0": "70160",
         "1": "5420"
        },
        {
         "0": "70435",
         "1": "5267"
        },
        {
         "0": "70435",
         "1": "7295"
        },
        {
         "0": "70436",
         "1": "7295"
        },
        {
         "0": "70670",
         "1": "10947"
        },
        {
         "0": "70670",
         "1": "235"
        },
        {
         "0": "70670",
         "1": "5746"
        },
        {
         "0": "70670",
         "1": "8246"
        },
        {
         "0": "70868",
         "1": "308"
        },
        {
         "0": "70981",
         "1": "1645"
        },
        {
         "0": "70981",
         "1": "19747"
        },
        {
         "0": "70981",
         "1": "306"
        },
        {
         "0": "70981",
         "1": "444"
        },
        {
         "0": "71157",
         "1": "2612"
        },
        {
         "0": "71157",
         "1": "5236"
        },
        {
         "0": "71157",
         "1": "7766"
        },
        {
         "0": "71157",
         "1": "7767"
        },
        {
         "0": "71469",
         "1": "10104"
        },
        {
         "0": "71469",
         "1": "1038"
        },
        {
         "0": "71469",
         "1": "3638"
        },
        {
         "0": "71469",
         "1": "491"
        },
        {
         "0": "71469",
         "1": "508"
        },
        {
         "0": "71547",
         "1": "5991"
        },
        {
         "0": "71552",
         "1": "33"
        },
        {
         "0": "71676",
         "1": "11106"
        },
        {
         "0": "71676",
         "1": "13816"
        },
        {
         "0": "71676",
         "1": "20241"
        },
        {
         "0": "71676",
         "1": "27551"
        },
        {
         "0": "71676",
         "1": "5"
        },
        {
         "0": "71676",
         "1": "6736"
        },
        {
         "0": "71676",
         "1": "7505"
        },
        {
         "0": "71679",
         "1": "342"
        },
        {
         "0": "71688",
         "1": "11843"
        },
        {
         "0": "71688",
         "1": "19749"
        },
        {
         "0": "71688",
         "1": "2452"
        },
        {
         "0": "71688",
         "1": "5358"
        },
        {
         "0": "71688",
         "1": "5654"
        },
        {
         "0": "71688",
         "1": "6301"
        },
        {
         "0": "71688",
         "1": "7981"
        },
        {
         "0": "71688",
         "1": "9349"
        },
        {
         "0": "71805",
         "1": "1003"
        },
        {
         "0": "71805",
         "1": "2"
        },
        {
         "0": "71805",
         "1": "6181"
        },
        {
         "0": "71859",
         "1": "288"
        },
        {
         "0": "71859",
         "1": "4748"
        },
        {
         "0": "71864",
         "1": "2"
        },
        {
         "0": "71866",
         "1": "3782"
        },
        {
         "0": "71880",
         "1": "2608"
        },
        {
         "0": "71880",
         "1": "5"
        },
        {
         "0": "71880",
         "1": "8000"
        },
        {
         "0": "72086",
         "1": "13992"
        },
        {
         "0": "72086",
         "1": "40349"
        },
        {
         "0": "72105",
         "1": "2531"
        },
        {
         "0": "72105",
         "1": "33"
        },
        {
         "0": "72105",
         "1": "8789"
        },
        {
         "0": "72113",
         "1": "11240"
        },
        {
         "0": "72113",
         "1": "11795"
        },
        {
         "0": "72113",
         "1": "2066"
        },
        {
         "0": "72113",
         "1": "45970"
        },
        {
         "0": "72113",
         "1": "52574"
        },
        {
         "0": "72113",
         "1": "5358"
        },
        {
         "0": "72113",
         "1": "5755"
        },
        {
         "0": "72113",
         "1": "6301"
        },
        {
         "0": "72113",
         "1": "8531"
        },
        {
         "0": "72113",
         "1": "856"
        },
        {
         "0": "72113",
         "1": "8997"
        },
        {
         "0": "72190",
         "1": "11956"
        },
        {
         "0": "72190",
         "1": "19108"
        },
        {
         "0": "72190",
         "1": "23644"
        },
        {
         "0": "72190",
         "1": "3281"
        },
        {
         "0": "72190",
         "1": "4"
        },
        {
         "0": "72190",
         "1": "6277"
        },
        {
         "0": "72190",
         "1": "9169"
        },
        {
         "0": "72197",
         "1": "2251"
        },
        {
         "0": "72197",
         "1": "297"
        },
        {
         "0": "72197",
         "1": "5"
        },
        {
         "0": "72207",
         "1": "10105"
        },
        {
         "0": "72207",
         "1": "23876"
        },
        {
         "0": "72207",
         "1": "33"
        },
        {
         "0": "72207",
         "1": "6452"
        },
        {
         "0": "72207",
         "1": "7295"
        },
        {
         "0": "72213",
         "1": "10156"
        },
        {
         "0": "72213",
         "1": "3291"
        },
        {
         "0": "72213",
         "1": "41967"
        },
        {
         "0": "72213",
         "1": "559"
        },
        {
         "0": "72213",
         "1": "63902"
        },
        {
         "0": "72331",
         "1": "1038"
        },
        {
         "0": "72331",
         "1": "306"
        },
        {
         "0": "72331",
         "1": "36430"
        },
        {
         "0": "72331",
         "1": "36431"
        },
        {
         "0": "72331",
         "1": "8601"
        },
        {
         "0": "72358",
         "1": "27"
        },
        {
         "0": "72358",
         "1": "4"
        },
        {
         "0": "72358",
         "1": "6024"
        },
        {
         "0": "72358",
         "1": "831"
        },
        {
         "0": "72359",
         "1": "5984"
        },
        {
         "0": "72359",
         "1": "8840"
        },
        {
         "0": "72387",
         "1": "11801"
        },
        {
         "0": "72387",
         "1": "2253"
        },
        {
         "0": "72387",
         "1": "23008"
        },
        {
         "0": "72387",
         "1": "7437"
        },
        {
         "0": "72387",
         "1": "7625"
        },
        {
         "0": "72431",
         "1": "1"
        },
        {
         "0": "72431",
         "1": "22883"
        },
        {
         "0": "72431",
         "1": "306"
        },
        {
         "0": "72545",
         "1": "10221"
        },
        {
         "0": "72545",
         "1": "12"
        },
        {
         "0": "72545",
         "1": "1836"
        },
        {
         "0": "72559",
         "1": "19719"
        },
        {
         "0": "72559",
         "1": "2598"
        },
        {
         "0": "72559",
         "1": "4"
        },
        {
         "0": "72559",
         "1": "435"
        },
        {
         "0": "72559",
         "1": "6277"
        },
        {
         "0": "72559",
         "1": "8411"
        },
        {
         "0": "72570",
         "1": "158"
        },
        {
         "0": "72570",
         "1": "3287"
        },
        {
         "0": "72571",
         "1": "21223"
        },
        {
         "0": "72571",
         "1": "3172"
        },
        {
         "0": "72571",
         "1": "4"
        },
        {
         "0": "72571",
         "1": "6302"
        },
        {
         "0": "72710",
         "1": "10427"
        },
        {
         "0": "72710",
         "1": "12075"
        },
        {
         "0": "72710",
         "1": "13649"
        },
        {
         "0": "72710",
         "1": "8073"
        },
        {
         "0": "72913",
         "1": "2906"
        },
        {
         "0": "72976",
         "1": "306"
        },
        {
         "0": "72976",
         "1": "444"
        },
        {
         "0": "72976",
         "1": "56"
        },
        {
         "0": "72976",
         "1": "6735"
        },
        {
         "0": "72976",
         "1": "7"
        },
        {
         "0": "72976",
         "1": "7294"
        },
        {
         "0": "72976",
         "1": "862"
        },
        {
         "0": "73191",
         "1": "3592"
        },
        {
         "0": "73247",
         "1": "33"
        },
        {
         "0": "73511",
         "1": "68599"
        },
        {
         "0": "73567",
         "1": "21817"
        },
        {
         "0": "73567",
         "1": "37833"
        },
        {
         "0": "73567",
         "1": "6633"
        },
        {
         "0": "73567",
         "1": "9015"
        },
        {
         "0": "73873",
         "1": "8717"
        },
        {
         "0": "73935",
         "1": "11093"
        },
        {
         "0": "73935",
         "1": "12178"
        },
        {
         "0": "73937",
         "1": "12178"
        },
        {
         "0": "73937",
         "1": "290"
        },
        {
         "0": "73937",
         "1": "444"
        },
        {
         "0": "73937",
         "1": "5219"
        },
        {
         "0": "73937",
         "1": "711"
        },
        {
         "0": "73937",
         "1": "812"
        },
        {
         "0": "73981",
         "1": "13198"
        },
        {
         "0": "73981",
         "1": "13199"
        },
        {
         "0": "73981",
         "1": "13200"
        },
        {
         "0": "73981",
         "1": "254"
        },
        {
         "0": "74084",
         "1": "3650"
        },
        {
         "0": "74457",
         "1": "37580"
        },
        {
         "0": "74457",
         "1": "4097"
        },
        {
         "0": "74457",
         "1": "49793"
        },
        {
         "0": "74465",
         "1": "306"
        },
        {
         "0": "74465",
         "1": "444"
        },
        {
         "0": "74465",
         "1": "485"
        },
        {
         "0": "74465",
         "1": "8518"
        },
        {
         "0": "74510",
         "1": "35327"
        },
        {
         "0": "74510",
         "1": "40268"
        },
        {
         "0": "74510",
         "1": "7480"
        },
        {
         "0": "74534",
         "1": "6735"
        },
        {
         "0": "74534",
         "1": "6736"
        },
        {
         "0": "74536",
         "1": "10254"
        },
        {
         "0": "74643",
         "1": "12391"
        },
        {
         "0": "74643",
         "1": "1992"
        },
        {
         "0": "74643",
         "1": "2577"
        },
        {
         "0": "74643",
         "1": "50630"
        },
        {
         "0": "74643",
         "1": "591"
        },
        {
         "0": "74643",
         "1": "71510"
        },
        {
         "0": "74643",
         "1": "8676"
        },
        {
         "0": "74725",
         "1": "16853"
        },
        {
         "0": "74725",
         "1": "17817"
        },
        {
         "0": "74777",
         "1": "24562"
        },
        {
         "0": "74777",
         "1": "24563"
        },
        {
         "0": "75174",
         "1": "10285"
        },
        {
         "0": "75174",
         "1": "10427"
        },
        {
         "0": "75174",
         "1": "11278"
        },
        {
         "0": "75174",
         "1": "12234"
        },
        {
         "0": "75174",
         "1": "1645"
        },
        {
         "0": "75174",
         "1": "8532"
        },
        {
         "0": "75531",
         "1": "10513"
        },
        {
         "0": "75531",
         "1": "33"
        },
        {
         "0": "75531",
         "1": "3324"
        },
        {
         "0": "75531",
         "1": "4650"
        },
        {
         "0": "75531",
         "1": "7237"
        },
        {
         "0": "75531",
         "1": "762"
        },
        {
         "0": "75531",
         "1": "882"
        },
        {
         "0": "75612",
         "1": "19647"
        },
        {
         "0": "75612",
         "1": "19648"
        },
        {
         "0": "75612",
         "1": "33"
        },
        {
         "0": "75612",
         "1": "7076"
        },
        {
         "0": "75612",
         "1": "7295"
        },
        {
         "0": "75638",
         "1": "10254"
        },
        {
         "0": "75638",
         "1": "11068"
        },
        {
         "0": "75638",
         "1": "16055"
        },
        {
         "0": "75638",
         "1": "22862"
        },
        {
         "0": "75638",
         "1": "22863"
        },
        {
         "0": "75638",
         "1": "4908"
        },
        {
         "0": "75638",
         "1": "58260"
        },
        {
         "0": "75638",
         "1": "6538"
        },
        {
         "0": "75638",
         "1": "6778"
        },
        {
         "0": "75638",
         "1": "9335"
        },
        {
         "0": "75638",
         "1": "9974"
        },
        {
         "0": "75656",
         "1": "23271"
        },
        {
         "0": "75656",
         "1": "23272"
        },
        {
         "0": "75656",
         "1": "491"
        },
        {
         "0": "75656",
         "1": "7296"
        },
        {
         "0": "75674",
         "1": "7295"
        },
        {
         "0": "75674",
         "1": "8403"
        },
        {
         "0": "75780",
         "1": "21777"
        },
        {
         "0": "75780",
         "1": "4"
        },
        {
         "0": "75780",
         "1": "6277"
        },
        {
         "0": "75780",
         "1": "762"
        },
        {
         "0": "75861",
         "1": "11046"
        },
        {
         "0": "75861",
         "1": "30271"
        },
        {
         "0": "75861",
         "1": "40366"
        },
        {
         "0": "75861",
         "1": "40367"
        },
        {
         "0": "75900",
         "1": "10247"
        },
        {
         "0": "75900",
         "1": "22153"
        },
        {
         "0": "75900",
         "1": "2452"
        },
        {
         "0": "75900",
         "1": "288"
        },
        {
         "0": "75900",
         "1": "308"
        },
        {
         "0": "75986",
         "1": "10254"
        },
        {
         "0": "75986",
         "1": "1950"
        },
        {
         "0": "76025",
         "1": "2395"
        },
        {
         "0": "76025",
         "1": "2452"
        },
        {
         "0": "76025",
         "1": "2514"
        },
        {
         "0": "76025",
         "1": "7217"
        },
        {
         "0": "76025",
         "1": "9349"
        },
        {
         "0": "76025",
         "1": "9987"
        },
        {
         "0": "76163",
         "1": "10254"
        },
        {
         "0": "76163",
         "1": "925"
        },
        {
         "0": "76170",
         "1": "10893"
        },
        {
         "0": "76170",
         "1": "22213"
        },
        {
         "0": "76170",
         "1": "306"
        },
        {
         "0": "76170",
         "1": "431"
        },
        {
         "0": "76170",
         "1": "7505"
        },
        {
         "0": "76170",
         "1": "9168"
        },
        {
         "0": "76203",
         "1": "10104"
        },
        {
         "0": "76203",
         "1": "1246"
        },
        {
         "0": "76203",
         "1": "508"
        },
        {
         "0": "76203",
         "1": "81"
        },
        {
         "0": "76203",
         "1": "9349"
        },
        {
         "0": "76285",
         "1": "22213"
        },
        {
         "0": "76285",
         "1": "436"
        },
        {
         "0": "76285",
         "1": "444"
        },
        {
         "0": "76285",
         "1": "5219"
        },
        {
         "0": "76285",
         "1": "6332"
        },
        {
         "0": "76285",
         "1": "711"
        },
        {
         "0": "76338",
         "1": "420"
        },
        {
         "0": "76341",
         "1": "2537"
        },
        {
         "0": "76341",
         "1": "6194"
        },
        {
         "0": "76341",
         "1": "79"
        },
        {
         "0": "76349",
         "1": "15071"
        },
        {
         "0": "76487",
         "1": "24048"
        },
        {
         "0": "76487",
         "1": "6302"
        },
        {
         "0": "76489",
         "1": "8890"
        },
        {
         "0": "76492",
         "1": "2251"
        },
        {
         "0": "76492",
         "1": "5"
        },
        {
         "0": "76493",
         "1": "4"
        },
        {
         "0": "76494",
         "1": "1088"
        },
        {
         "0": "76494",
         "1": "11317"
        },
        {
         "0": "76494",
         "1": "1632"
        },
        {
         "0": "76494",
         "1": "19577"
        },
        {
         "0": "76617",
         "1": "6644"
        },
        {
         "0": "76617",
         "1": "925"
        },
        {
         "0": "76640",
         "1": "435"
        },
        {
         "0": "76649",
         "1": "12162"
        },
        {
         "0": "76649",
         "1": "248"
        },
        {
         "0": "76649",
         "1": "4253"
        },
        {
         "0": "76649",
         "1": "559"
        },
        {
         "0": "76649",
         "1": "7263"
        },
        {
         "0": "76726",
         "1": "1302"
        },
        {
         "0": "76726",
         "1": "306"
        },
        {
         "0": "76726",
         "1": "43394"
        },
        {
         "0": "76726",
         "1": "444"
        },
        {
         "0": "76757",
         "1": "444"
        },
        {
         "0": "76757",
         "1": "450"
        },
        {
         "0": "76757",
         "1": "6194"
        },
        {
         "0": "76757",
         "1": "79"
        },
        {
         "0": "76758",
         "1": "12205"
        },
        {
         "0": "76758",
         "1": "49512"
        },
        {
         "0": "76758",
         "1": "724"
        },
        {
         "0": "77016",
         "1": "10405"
        },
        {
         "0": "77016",
         "1": "11448"
        },
        {
         "0": "77016",
         "1": "11449"
        },
        {
         "0": "77016",
         "1": "16312"
        },
        {
         "0": "77016",
         "1": "46961"
        },
        {
         "0": "77016",
         "1": "47169"
        },
        {
         "0": "77016",
         "1": "47354"
        },
        {
         "0": "77174",
         "1": "10146"
        },
        {
         "0": "77174",
         "1": "11537"
        },
        {
         "0": "77459",
         "1": "1075"
        },
        {
         "0": "77459",
         "1": "8992"
        },
        {
         "0": "77495",
         "1": "26476"
        },
        {
         "0": "77495",
         "1": "7302"
        },
        {
         "0": "77495",
         "1": "7956"
        },
        {
         "0": "77866",
         "1": "10163"
        },
        {
         "0": "77866",
         "1": "10970"
        },
        {
         "0": "77866",
         "1": "33"
        },
        {
         "0": "77866",
         "1": "694"
        },
        {
         "0": "77866",
         "1": "7295"
        },
        {
         "0": "77866",
         "1": "8536"
        },
        {
         "0": "77866",
         "1": "8537"
        },
        {
         "0": "77866",
         "1": "8538"
        },
        {
         "0": "77866",
         "1": "8539"
        },
        {
         "0": "77875",
         "1": "10254"
        },
        {
         "0": "77875",
         "1": "5802"
        },
        {
         "0": "77875",
         "1": "8056"
        },
        {
         "0": "77877",
         "1": "6194"
        },
        {
         "0": "77877",
         "1": "79"
        },
        {
         "0": "77877",
         "1": "8057"
        },
        {
         "0": "77877",
         "1": "813"
        },
        {
         "0": "77883",
         "1": "22637"
        },
        {
         "0": "77883",
         "1": "768"
        },
        {
         "0": "77930",
         "1": "34981"
        },
        {
         "0": "77930",
         "1": "8850"
        },
        {
         "0": "77931",
         "1": "2251"
        },
        {
         "0": "77931",
         "1": "24097"
        },
        {
         "0": "77931",
         "1": "5"
        },
        {
         "0": "77931",
         "1": "7311"
        },
        {
         "0": "77931",
         "1": "9169"
        },
        {
         "0": "77934",
         "1": "8077"
        },
        {
         "0": "77948",
         "1": "1224"
        },
        {
         "0": "77948",
         "1": "23625"
        },
        {
         "0": "77948",
         "1": "491"
        },
        {
         "0": "77948",
         "1": "8083"
        },
        {
         "0": "77948",
         "1": "8084"
        },
        {
         "0": "77948",
         "1": "8085"
        },
        {
         "0": "77949",
         "1": "288"
        },
        {
         "0": "77949",
         "1": "5870"
        },
        {
         "0": "77949",
         "1": "8087"
        },
        {
         "0": "77949",
         "1": "8088"
        },
        {
         "0": "77949",
         "1": "9987"
        },
        {
         "0": "77950",
         "1": "521"
        },
        {
         "0": "77951",
         "1": "3164"
        },
        {
         "0": "77951",
         "1": "53498"
        },
        {
         "0": "77951",
         "1": "53499"
        },
        {
         "0": "77951",
         "1": "6733"
        },
        {
         "0": "77951",
         "1": "8089"
        },
        {
         "0": "77951",
         "1": "8090"
        },
        {
         "0": "77951",
         "1": "8091"
        },
        {
         "0": "77953",
         "1": "2242"
        },
        {
         "0": "77953",
         "1": "36431"
        },
        {
         "0": "77953",
         "1": "4740"
        },
        {
         "0": "77953",
         "1": "6194"
        },
        {
         "0": "77987",
         "1": "17513"
        },
        {
         "0": "77987",
         "1": "19865"
        },
        {
         "0": "77987",
         "1": "2266"
        },
        {
         "0": "77987",
         "1": "856"
        },
        {
         "0": "77987",
         "1": "9"
        },
        {
         "0": "78149",
         "1": "1504"
        },
        {
         "0": "78149",
         "1": "915"
        },
        {
         "0": "78307",
         "1": "81962"
        },
        {
         "0": "78307",
         "1": "81963"
        },
        {
         "0": "78373",
         "1": "16517"
        },
        {
         "0": "78373",
         "1": "4714"
        },
        {
         "0": "78381",
         "1": "70"
        },
        {
         "0": "78383",
         "1": "6644"
        },
        {
         "0": "78383",
         "1": "7035"
        },
        {
         "0": "78394",
         "1": "29943"
        },
        {
         "0": "78394",
         "1": "54610"
        },
        {
         "0": "78698",
         "1": "10039"
        },
        {
         "0": "78698",
         "1": "10163"
        },
        {
         "0": "78698",
         "1": "33"
        },
        {
         "0": "78705",
         "1": "28810"
        },
        {
         "0": "78705",
         "1": "28811"
        },
        {
         "0": "78705",
         "1": "28812"
        },
        {
         "0": "78814",
         "1": "12799"
        },
        {
         "0": "78814",
         "1": "5225"
        },
        {
         "0": "79120",
         "1": "10441"
        },
        {
         "0": "79120",
         "1": "10442"
        },
        {
         "0": "79120",
         "1": "10443"
        },
        {
         "0": "79120",
         "1": "1917"
        },
        {
         "0": "79161",
         "1": "8139"
        },
        {
         "0": "79316",
         "1": "1302"
        },
        {
         "0": "79316",
         "1": "22213"
        },
        {
         "0": "79316",
         "1": "306"
        },
        {
         "0": "79587",
         "1": "18156"
        },
        {
         "0": "79694",
         "1": "1786"
        },
        {
         "0": "79694",
         "1": "37826"
        },
        {
         "0": "79694",
         "1": "6194"
        },
        {
         "0": "79694",
         "1": "694"
        },
        {
         "0": "79698",
         "1": "7299"
        },
        {
         "0": "79698",
         "1": "76098"
        },
        {
         "0": "79698",
         "1": "76099"
        },
        {
         "0": "79698",
         "1": "76100"
        },
        {
         "0": "79698",
         "1": "8186"
        },
        {
         "0": "79698",
         "1": "8187"
        },
        {
         "0": "79698",
         "1": "8188"
        },
        {
         "0": "79777",
         "1": "7263"
        },
        {
         "0": "79940",
         "1": "21213"
        },
        {
         "0": "79940",
         "1": "4740"
        },
        {
         "0": "79940",
         "1": "846"
        },
        {
         "0": "80035",
         "1": "10893"
        },
        {
         "0": "80035",
         "1": "2575"
        },
        {
         "0": "80035",
         "1": "289"
        },
        {
         "0": "80035",
         "1": "290"
        },
        {
         "0": "80035",
         "1": "306"
        },
        {
         "0": "80035",
         "1": "37336"
        },
        {
         "0": "80035",
         "1": "444"
        },
        {
         "0": "80035",
         "1": "6332"
        },
        {
         "0": "80215",
         "1": "84489"
        },
        {
         "0": "80271",
         "1": "215"
        },
        {
         "0": "80271",
         "1": "771"
        },
        {
         "0": "80271",
         "1": "84637"
        },
        {
         "0": "80271",
         "1": "84638"
        },
        {
         "0": "80274",
         "1": "31825"
        },
        {
         "0": "80274",
         "1": "31826"
        },
        {
         "0": "80274",
         "1": "3200"
        },
        {
         "0": "80274",
         "1": "3263"
        },
        {
         "0": "80274",
         "1": "491"
        },
        {
         "0": "80274",
         "1": "7296"
        },
        {
         "0": "80278",
         "1": "18309"
        },
        {
         "0": "80278",
         "1": "21632"
        },
        {
         "0": "80278",
         "1": "2674"
        },
        {
         "0": "80278",
         "1": "491"
        },
        {
         "0": "80278",
         "1": "53490"
        },
        {
         "0": "80278",
         "1": "53491"
        },
        {
         "0": "80278",
         "1": "8111"
        },
        {
         "0": "80278",
         "1": "9335"
        },
        {
         "0": "80278",
         "1": "9974"
        },
        {
         "0": "80304",
         "1": "2088"
        },
        {
         "0": "80304",
         "1": "4740"
        },
        {
         "0": "80304",
         "1": "6644"
        },
        {
         "0": "80321",
         "1": "521"
        },
        {
         "0": "80585",
         "1": "12"
        },
        {
         "0": "80585",
         "1": "12139"
        },
        {
         "0": "80585",
         "1": "2378"
        },
        {
         "0": "80585",
         "1": "8871"
        },
        {
         "0": "81005",
         "1": "12"
        },
        {
         "0": "81005",
         "1": "333"
        },
        {
         "0": "81005",
         "1": "6194"
        },
        {
         "0": "81005",
         "1": "8406"
        },
        {
         "0": "81005",
         "1": "9168"
        },
        {
         "0": "81005",
         "1": "923"
        },
        {
         "0": "81188",
         "1": "521"
        },
        {
         "0": "81220",
         "1": "3135"
        },
        {
         "0": "81390",
         "1": "21937"
        },
        {
         "0": "81390",
         "1": "4098"
        },
        {
         "0": "81390",
         "1": "4250"
        },
        {
         "0": "81796",
         "1": "10611"
        },
        {
         "0": "81796",
         "1": "5358"
        },
        {
         "0": "81796",
         "1": "6896"
        },
        {
         "0": "81836",
         "1": "12010"
        },
        {
         "0": "81836",
         "1": "12966"
        }
       ],
       "schema": [
        {
         "key": "0",
         "name": "movie_id",
         "type": "int"
        },
        {
         "key": "1",
         "name": "company_id",
         "type": "string"
        }
       ],
       "truncated": false
      },
      "wranglerEntryContext": {
       "candidateVariableNames": [
        "df_movie_company"
       ],
       "dataframeType": "pyspark"
      }
     },
     "type": "Synapse.DataFrame"
    }
   },
   "version": "0.1"
  }
 },
 "nbformat": 4,
 "nbformat_minor": 0
}
